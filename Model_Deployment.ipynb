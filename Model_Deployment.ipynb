{
 "cells": [
  {
   "cell_type": "code",
   "execution_count": 1,
   "metadata": {},
   "outputs": [],
   "source": [
    "G_path = '/Users/sepehrbe/My_Drive/DataSources/SkinCare'\n",
    "import torch\n",
    "import torch.nn as nn\n",
    "import torch.nn.functional as F\n",
    "import torchvision\n",
    "import torchvision.transforms as transforms\n",
    "#import torchvision.transforms.Compose\n",
    "import numpy as np\n",
    "from CNN_NETs import CNN_Nets \n",
    "# from Net8 import Net8_a\n",
    "from Model_Training import Model_Training_with_loader\n",
    "import matplotlib.pyplot as plt\n",
    "from torch.utils.data import random_split\n",
    "from torch.utils.data import SubsetRandomSampler\n",
    "from torch.utils.data import DataLoader\n",
    "\n",
    "import time\n",
    "import os\n",
    "from usefull_functions import *\n",
    "from statistics import mean\n",
    "import pandas as pd\n",
    "import sklearn as sk\n",
    "import pickle\n",
    "from sklearn.model_selection import train_test_split\n",
    "device = torch.device(\"cuda\" if torch.cuda.is_available() else \"cpu\")\n",
    "from sklearn.utils import resample\n",
    "import warnings\n",
    "warnings.filterwarnings('ignore')\n",
    "device = torch.device('cpu')"
   ]
  },
  {
   "cell_type": "markdown",
   "metadata": {},
   "source": [
    "# **Import DataSets**"
   ]
  },
  {
   "cell_type": "code",
   "execution_count": 2,
   "metadata": {},
   "outputs": [],
   "source": [
    "file = 'DataSet_280x210' \n",
    "input_data , labels = pickle.load(open(G_path + '/DataSet_280x210/'+ file,'rb'))\n",
    "labels_biary = labels[1]\n",
    "labels_multi = labels[0]\n",
    "\n",
    "file = 'Latent_Input_Data_labels' \n",
    "A_E_input_data , A_E_labels = pickle.load(open(G_path + '/Augmented_AutoEncoded/'+ file,'rb'))\n",
    "A_E_labels_biary = A_E_labels[1]\n",
    "A_E_labels_multi = A_E_labels[0]\n",
    "\n",
    "file = 'Evaluation_set_280x210' \n",
    "BLC_test_280x210 = pickle.load(open(G_path + '/DataSet_280x210/' + file,'rb'))\n",
    "\n",
    "file = 'Evaluation_set_AutoEncoder' \n",
    "BLC_test_A_E = pickle.load(open(G_path + '/Augmented_AutoEncoded/' + file,'rb'))\n",
    "\n",
    "Meta_Data_Augmented = pickle.load(open( G_path + '/Meta_Data_Augmented','rb'))"
   ]
  },
  {
   "cell_type": "markdown",
   "metadata": {},
   "source": [
    "# **Import Model**"
   ]
  },
  {
   "cell_type": "code",
   "execution_count": 3,
   "metadata": {},
   "outputs": [],
   "source": [
    "C_280 = 'CNN_280x210_MultiClassModel0_24_Jun22_22-38' # Best of grid search ['CNN_280x210_Model5_23_Jun22_12-55','CNN_280x210_Model4_22_Jun22_00-14]\n",
    "C_280_binary = 'CNN_280x210_Binary_24_Jun22_22-17'\n",
    "\n",
    "Model_280x210_multi = pickle.load(open(G_path + '/Saved/Models/Grid_Search_Models/'+ C_280 , 'rb') ).eval()\n",
    "Model_280x210_binary = pickle.load(open(G_path + '/Saved/Models/Grid_Search_Models/'+ C_280_binary , 'rb') ).eval()\n",
    "\n",
    "A_E = 'A_E_CNN_Model6_22_Jun22_00-29' #Best of grid search\n",
    "A_E_binary = 'A_E_CNN_Model0_25_Jun22_09-35'\n",
    "# [CNN_Nets.Net8_a, Model_Training_with_loader] = pickle.load(open(G_Models+'/Net8_Model_Trainin','rb'))\n",
    "Model_A_En_multiclass = pickle.load(open(G_path + '/Saved/Models/Grid_Search_Models/' + A_E , 'rb') ).eval()\n",
    "Model_A_En_binary = pickle.load(open(G_path + '/Saved/Models/Grid_Search_Models/' + A_E_binary , 'rb') ).eval()"
   ]
  },
  {
   "cell_type": "markdown",
   "metadata": {},
   "source": [
    "# **Model Evaluation**"
   ]
  },
  {
   "cell_type": "code",
   "execution_count": 4,
   "metadata": {},
   "outputs": [
    {
     "name": "stdout",
     "output_type": "stream",
     "text": [
      "Nr. of Data : \n",
      " 407\n",
      "Accuracy of The Model : \n",
      " 0.6535626535626535\n"
     ]
    },
    {
     "data": {
      "text/html": [
       "<style type=\"text/css\">\n",
       "</style>\n",
       "<table id=\"T_c1b0b\">\n",
       "  <thead>\n",
       "    <tr>\n",
       "      <th class=\"blank level0\" >&nbsp;</th>\n",
       "      <th id=\"T_c1b0b_level0_col0\" class=\"col_heading level0 col0\" >weights</th>\n",
       "      <th id=\"T_c1b0b_level0_col1\" class=\"col_heading level0 col1\" >Precision</th>\n",
       "      <th id=\"T_c1b0b_level0_col2\" class=\"col_heading level0 col2\" >Recall_Sensitivity</th>\n",
       "      <th id=\"T_c1b0b_level0_col3\" class=\"col_heading level0 col3\" >Specificity</th>\n",
       "      <th id=\"T_c1b0b_level0_col4\" class=\"col_heading level0 col4\" >f1_score</th>\n",
       "    </tr>\n",
       "  </thead>\n",
       "  <tbody>\n",
       "    <tr>\n",
       "      <th id=\"T_c1b0b_level0_row0\" class=\"row_heading level0 row0\" >0</th>\n",
       "      <td id=\"T_c1b0b_row0_col0\" class=\"data row0 col0\" >5.7%</td>\n",
       "      <td id=\"T_c1b0b_row0_col1\" class=\"data row0 col1\" >45.2%</td>\n",
       "      <td id=\"T_c1b0b_row0_col2\" class=\"data row0 col2\" >60.9%</td>\n",
       "      <td id=\"T_c1b0b_row0_col3\" class=\"data row0 col3\" >95.6%</td>\n",
       "      <td id=\"T_c1b0b_row0_col4\" class=\"data row0 col4\" >51.9%</td>\n",
       "    </tr>\n",
       "    <tr>\n",
       "      <th id=\"T_c1b0b_level0_row1\" class=\"row_heading level0 row1\" >1</th>\n",
       "      <td id=\"T_c1b0b_row1_col0\" class=\"data row1 col0\" >7.9%</td>\n",
       "      <td id=\"T_c1b0b_row1_col1\" class=\"data row1 col1\" >55.0%</td>\n",
       "      <td id=\"T_c1b0b_row1_col2\" class=\"data row1 col2\" >68.8%</td>\n",
       "      <td id=\"T_c1b0b_row1_col3\" class=\"data row1 col3\" >95.2%</td>\n",
       "      <td id=\"T_c1b0b_row1_col4\" class=\"data row1 col4\" >61.1%</td>\n",
       "    </tr>\n",
       "    <tr>\n",
       "      <th id=\"T_c1b0b_level0_row2\" class=\"row_heading level0 row2\" >2</th>\n",
       "      <td id=\"T_c1b0b_row2_col0\" class=\"data row2 col0\" >17.7%</td>\n",
       "      <td id=\"T_c1b0b_row2_col1\" class=\"data row2 col1\" >47.9%</td>\n",
       "      <td id=\"T_c1b0b_row2_col2\" class=\"data row2 col2\" >62.5%</td>\n",
       "      <td id=\"T_c1b0b_row2_col3\" class=\"data row2 col3\" >85.4%</td>\n",
       "      <td id=\"T_c1b0b_row2_col4\" class=\"data row2 col4\" >54.2%</td>\n",
       "    </tr>\n",
       "    <tr>\n",
       "      <th id=\"T_c1b0b_level0_row3\" class=\"row_heading level0 row3\" >3</th>\n",
       "      <td id=\"T_c1b0b_row3_col0\" class=\"data row3 col0\" >2.0%</td>\n",
       "      <td id=\"T_c1b0b_row3_col1\" class=\"data row3 col1\" >66.7%</td>\n",
       "      <td id=\"T_c1b0b_row3_col2\" class=\"data row3 col2\" >50.0%</td>\n",
       "      <td id=\"T_c1b0b_row3_col3\" class=\"data row3 col3\" >99.5%</td>\n",
       "      <td id=\"T_c1b0b_row3_col4\" class=\"data row3 col4\" >57.1%</td>\n",
       "    </tr>\n",
       "    <tr>\n",
       "      <th id=\"T_c1b0b_level0_row4\" class=\"row_heading level0 row4\" >4</th>\n",
       "      <td id=\"T_c1b0b_row4_col0\" class=\"data row4 col0\" >15.2%</td>\n",
       "      <td id=\"T_c1b0b_row4_col1\" class=\"data row4 col1\" >45.2%</td>\n",
       "      <td id=\"T_c1b0b_row4_col2\" class=\"data row4 col2\" >53.2%</td>\n",
       "      <td id=\"T_c1b0b_row4_col3\" class=\"data row4 col3\" >88.4%</td>\n",
       "      <td id=\"T_c1b0b_row4_col4\" class=\"data row4 col4\" >48.9%</td>\n",
       "    </tr>\n",
       "    <tr>\n",
       "      <th id=\"T_c1b0b_level0_row5\" class=\"row_heading level0 row5\" >5</th>\n",
       "      <td id=\"T_c1b0b_row5_col0\" class=\"data row5 col0\" >49.1%</td>\n",
       "      <td id=\"T_c1b0b_row5_col1\" class=\"data row5 col1\" >92.7%</td>\n",
       "      <td id=\"T_c1b0b_row5_col2\" class=\"data row5 col2\" >69.5%</td>\n",
       "      <td id=\"T_c1b0b_row5_col3\" class=\"data row5 col3\" >94.7%</td>\n",
       "      <td id=\"T_c1b0b_row5_col4\" class=\"data row5 col4\" >79.4%</td>\n",
       "    </tr>\n",
       "    <tr>\n",
       "      <th id=\"T_c1b0b_level0_row6\" class=\"row_heading level0 row6\" >6</th>\n",
       "      <td id=\"T_c1b0b_row6_col0\" class=\"data row6 col0\" >2.5%</td>\n",
       "      <td id=\"T_c1b0b_row6_col1\" class=\"data row6 col1\" >69.2%</td>\n",
       "      <td id=\"T_c1b0b_row6_col2\" class=\"data row6 col2\" >90.0%</td>\n",
       "      <td id=\"T_c1b0b_row6_col3\" class=\"data row6 col3\" >99.0%</td>\n",
       "      <td id=\"T_c1b0b_row6_col4\" class=\"data row6 col4\" >78.3%</td>\n",
       "    </tr>\n",
       "    <tr>\n",
       "      <th id=\"T_c1b0b_level0_row7\" class=\"row_heading level0 row7\" >Simple Avg.</th>\n",
       "      <td id=\"T_c1b0b_row7_col0\" class=\"data row7 col0\" >nan%</td>\n",
       "      <td id=\"T_c1b0b_row7_col1\" class=\"data row7 col1\" >60.3%</td>\n",
       "      <td id=\"T_c1b0b_row7_col2\" class=\"data row7 col2\" >65.0%</td>\n",
       "      <td id=\"T_c1b0b_row7_col3\" class=\"data row7 col3\" >94.0%</td>\n",
       "      <td id=\"T_c1b0b_row7_col4\" class=\"data row7 col4\" >61.6%</td>\n",
       "    </tr>\n",
       "    <tr>\n",
       "      <th id=\"T_c1b0b_level0_row8\" class=\"row_heading level0 row8\" >Weighted Avg.</th>\n",
       "      <td id=\"T_c1b0b_row8_col0\" class=\"data row8 col0\" >nan%</td>\n",
       "      <td id=\"T_c1b0b_row8_col1\" class=\"data row8 col1\" >70.8%</td>\n",
       "      <td id=\"T_c1b0b_row8_col2\" class=\"data row8 col2\" >65.4%</td>\n",
       "      <td id=\"T_c1b0b_row8_col3\" class=\"data row8 col3\" >92.4%</td>\n",
       "      <td id=\"T_c1b0b_row8_col4\" class=\"data row8 col4\" >66.9%</td>\n",
       "    </tr>\n",
       "  </tbody>\n",
       "</table>\n"
      ],
      "text/plain": [
       "<pandas.io.formats.style.Styler at 0x2aff41340>"
      ]
     },
     "execution_count": 4,
     "metadata": {},
     "output_type": "execute_result"
    },
    {
     "data": {
      "image/png": "[encoded data removed]",
      "text/plain": [
       "<Figure size 432x288 with 2 Axes>"
      ]
     },
     "metadata": {
      "needs_background": "light"
     },
     "output_type": "display_data"
    }
   ],
   "source": [
    "# Model 280x210\n",
    "binary = False\n",
    "if binary:\n",
    "    model_ = Model_280x210_binary\n",
    "    Y = labels_biary[2]\n",
    "else:\n",
    "    model_ = Model_280x210_multi\n",
    "    Y = labels_multi[2]\n",
    "X = input_data[2]\n",
    "# X = BLC_test_280x210[0]\n",
    "# Y = BLC_test_280x210[1]\n",
    "iter = X.shape[0] // 100\n",
    "Y_pred = torch.zeros(0)\n",
    "for i in range(iter+1):\n",
    "    X_ = X[i*100:(i+1)*100]\n",
    "    Y_ = model_.forward_noDrop(X_).argmax(dim=1)\n",
    "    Y_pred = torch.cat([Y_pred,Y_])\n",
    "\n",
    "Y_binary =  label_to_binary(Y)\n",
    "Y_pred_binary =  label_to_binary(Y_pred)\n",
    "# results = model_evaluation(Y_binary,Y_pred_binary)\n",
    "results = model_evaluation(Y,Y_pred)\n",
    "results"
   ]
  },
  {
   "cell_type": "code",
   "execution_count": 18,
   "metadata": {},
   "outputs": [
    {
     "name": "stdout",
     "output_type": "stream",
     "text": [
      "Nr. of Data : \n",
      " 407\n",
      "Accuracy of The Model : \n",
      " 0.7272727272727273\n"
     ]
    },
    {
     "data": {
      "text/html": [
       "<style type=\"text/css\">\n",
       "</style>\n",
       "<table id=\"T_309aa\">\n",
       "  <thead>\n",
       "    <tr>\n",
       "      <th class=\"blank level0\" >&nbsp;</th>\n",
       "      <th id=\"T_309aa_level0_col0\" class=\"col_heading level0 col0\" >weights</th>\n",
       "      <th id=\"T_309aa_level0_col1\" class=\"col_heading level0 col1\" >Precision</th>\n",
       "      <th id=\"T_309aa_level0_col2\" class=\"col_heading level0 col2\" >Recall_Sensitivity</th>\n",
       "      <th id=\"T_309aa_level0_col3\" class=\"col_heading level0 col3\" >Specificity</th>\n",
       "      <th id=\"T_309aa_level0_col4\" class=\"col_heading level0 col4\" >f1_score</th>\n",
       "    </tr>\n",
       "  </thead>\n",
       "  <tbody>\n",
       "    <tr>\n",
       "      <th id=\"T_309aa_level0_row0\" class=\"row_heading level0 row0\" >0</th>\n",
       "      <td id=\"T_309aa_row0_col0\" class=\"data row0 col0\" >71.3%</td>\n",
       "      <td id=\"T_309aa_row0_col1\" class=\"data row0 col1\" >89.1%</td>\n",
       "      <td id=\"T_309aa_row0_col2\" class=\"data row0 col2\" >70.3%</td>\n",
       "      <td id=\"T_309aa_row0_col3\" class=\"data row0 col3\" >78.6%</td>\n",
       "      <td id=\"T_309aa_row0_col4\" class=\"data row0 col4\" >78.6%</td>\n",
       "    </tr>\n",
       "    <tr>\n",
       "      <th id=\"T_309aa_level0_row1\" class=\"row_heading level0 row1\" >1</th>\n",
       "      <td id=\"T_309aa_row1_col0\" class=\"data row1 col0\" >28.7%</td>\n",
       "      <td id=\"T_309aa_row1_col1\" class=\"data row1 col1\" >51.7%</td>\n",
       "      <td id=\"T_309aa_row1_col2\" class=\"data row1 col2\" >78.6%</td>\n",
       "      <td id=\"T_309aa_row1_col3\" class=\"data row1 col3\" >70.3%</td>\n",
       "      <td id=\"T_309aa_row1_col4\" class=\"data row1 col4\" >62.4%</td>\n",
       "    </tr>\n",
       "    <tr>\n",
       "      <th id=\"T_309aa_level0_row2\" class=\"row_heading level0 row2\" >Simple Avg.</th>\n",
       "      <td id=\"T_309aa_row2_col0\" class=\"data row2 col0\" >nan%</td>\n",
       "      <td id=\"T_309aa_row2_col1\" class=\"data row2 col1\" >70.4%</td>\n",
       "      <td id=\"T_309aa_row2_col2\" class=\"data row2 col2\" >74.5%</td>\n",
       "      <td id=\"T_309aa_row2_col3\" class=\"data row2 col3\" >74.5%</td>\n",
       "      <td id=\"T_309aa_row2_col4\" class=\"data row2 col4\" >70.5%</td>\n",
       "    </tr>\n",
       "    <tr>\n",
       "      <th id=\"T_309aa_level0_row3\" class=\"row_heading level0 row3\" >Weighted Avg.</th>\n",
       "      <td id=\"T_309aa_row3_col0\" class=\"data row3 col0\" >nan%</td>\n",
       "      <td id=\"T_309aa_row3_col1\" class=\"data row3 col1\" >78.3%</td>\n",
       "      <td id=\"T_309aa_row3_col2\" class=\"data row3 col2\" >72.7%</td>\n",
       "      <td id=\"T_309aa_row3_col3\" class=\"data row3 col3\" >76.3%</td>\n",
       "      <td id=\"T_309aa_row3_col4\" class=\"data row3 col4\" >73.9%</td>\n",
       "    </tr>\n",
       "  </tbody>\n",
       "</table>\n"
      ],
      "text/plain": [
       "<pandas.io.formats.style.Styler at 0x14fb04b80>"
      ]
     },
     "execution_count": 18,
     "metadata": {},
     "output_type": "execute_result"
    },
    {
     "data": {
      "image/png": "[encoded data removed]",
      "text/plain": [
       "<Figure size 432x288 with 2 Axes>"
      ]
     },
     "metadata": {
      "needs_background": "light"
     },
     "output_type": "display_data"
    }
   ],
   "source": [
    "# Model AutoEncoder\n",
    "binary = False\n",
    "if binary:\n",
    "    model_ = Model_A_En_binary\n",
    "    Y = A_E_labels_biary[2]\n",
    "else:\n",
    "    model_ = Model_A_En_multiclass\n",
    "    Y = A_E_labels_multi[2]\n",
    "    \n",
    "X = A_E_input_data[2]\n",
    "# X = BLC_test_A_E[0]\n",
    "# Y = BLC_test_A_E[1]\n",
    "iter = X.shape[0] // 100\n",
    "Y_pred = torch.zeros(0)\n",
    "for i in range(iter+1):\n",
    "    X_ = X[i*100:(i+1)*100]\n",
    "    Y_ = model_.forward_noDrop(X_).argmax(dim=1)\n",
    "    Y_pred = torch.cat([Y_pred,Y_])\n",
    "Y_binary =  label_to_binary(Y)\n",
    "Y_pred_binary =  label_to_binary(Y_pred)\n",
    "# results = model_evaluation(Y,Y_pred)\n",
    "results = model_evaluation(Y_binary,Y_pred_binary)\n",
    "results"
   ]
  },
  {
   "cell_type": "markdown",
   "metadata": {},
   "source": [
    "# **CNN: 280x210 MultiClass: Get CNN OutPut (Soft-Max)**"
   ]
  },
  {
   "cell_type": "code",
   "execution_count": 12,
   "metadata": {},
   "outputs": [
    {
     "data": {
      "text/plain": [
       "(torch.Size([4647, 3, 280, 210]), torch.Size([4647, 7]))"
      ]
     },
     "execution_count": 12,
     "metadata": {},
     "output_type": "execute_result"
    }
   ],
   "source": [
    "\n",
    "model_ = Model_280x210\n",
    "X = torch.cat([input_data[0],input_data[1],input_data[2]],dim=0).detach()\n",
    "n = 100\n",
    "iter = X.shape[0] // n\n",
    "Y_pred = torch.zeros(0)\n",
    "for i in range(iter+1):\n",
    "    X_ = X[i*n:(i+1)*n]\n",
    "    Y_ = torch.softmax(model_.forward_noDrop(X_),dim=1).detach()\n",
    "    # Y_ = model_.forward_noDrop(X_).detach()\n",
    "    Y_pred = torch.cat([Y_pred,Y_]).detach()\n",
    "X.shape , Y_pred.shape"
   ]
  },
  {
   "cell_type": "code",
   "execution_count": 19,
   "metadata": {},
   "outputs": [],
   "source": [
    "# X = torch.cat([input_data[0],input_data[1],input_data[2]],dim=0).detach()\n",
    "# deploy_dataloader = DataLoader(dataset = X, batch_size = 200, num_workers=4 , pin_memory=True , shuffle=False) \n",
    "\n",
    "# model_ = Model_280x210\n",
    "# Y_pred = torch.zeros(0)\n",
    "# for X_ in deploy_dataloader:\n",
    "#     Y_ = torch.softmax(model_.forward_noDrop(X_) ,dim=1).detach()\n",
    "#     Y_pred = torch.cat([Y_,Y_pred]).detach()\n",
    "# print(X.shape , Y_pred.shape )"
   ]
  },
  {
   "cell_type": "code",
   "execution_count": 13,
   "metadata": {},
   "outputs": [],
   "source": [
    "df_CNN = pd.DataFrame(Y_pred.detach().numpy()).add_prefix('CNN_')\n",
    "meta_data_key = pd.concat([input_data[3][0],input_data[3][1],input_data[3][2]],axis=0).reset_index(drop=True)\n",
    "df_CNN = pd.concat([meta_data_key,df_CNN],axis=1).reset_index(drop=True)\n",
    "CNN_280x210_data = df_CNN.merge(Meta_Data_Augmented.drop(columns=['type']) ,how='left', on='image_id')"
   ]
  },
  {
   "cell_type": "code",
   "execution_count": 14,
   "metadata": {},
   "outputs": [
    {
     "data": {
      "text/plain": [
       "0.99732554"
      ]
     },
     "execution_count": 14,
     "metadata": {},
     "output_type": "execute_result"
    }
   ],
   "source": [
    "CNN_280x210_data['CNN_0'].max()"
   ]
  },
  {
   "cell_type": "code",
   "execution_count": 15,
   "metadata": {},
   "outputs": [],
   "source": [
    "cols = ['localization','sex','dx_type']\n",
    "CNN_280x210_data_encoded = pd.get_dummies(CNN_280x210_data, columns= cols).reset_index(drop=True)\n",
    "def standardizaion(dataset, attr):\n",
    "    mean = dataset[dataset.type.str.contains('train')][attr].mean()\n",
    "    std = dataset[dataset.type.str.contains('train')][attr].std()\n",
    "    dataset[attr] = (dataset[attr] - mean ) / std\n",
    "    return dataset\n",
    "CNN_280x210_data_encoded_STD = standardizaion(CNN_280x210_data_encoded,'age')"
   ]
  },
  {
   "cell_type": "code",
   "execution_count": 16,
   "metadata": {},
   "outputs": [],
   "source": [
    "pickle.dump(CNN_280x210_data_encoded_STD, open(G_path + '/CNN_Output/'+ 'CNN_280x210_Ouput_MultiClass', 'wb'))"
   ]
  },
  {
   "cell_type": "markdown",
   "metadata": {},
   "source": [
    "# **CNN: 280x210 Binary**"
   ]
  },
  {
   "cell_type": "code",
   "execution_count": 24,
   "metadata": {},
   "outputs": [
    {
     "data": {
      "text/plain": [
       "(torch.Size([4647, 3, 280, 210]), torch.Size([4647, 2]))"
      ]
     },
     "execution_count": 24,
     "metadata": {},
     "output_type": "execute_result"
    }
   ],
   "source": [
    "\n",
    "model_ = Model_280x210_binary\n",
    "X = torch.cat([input_data[0],input_data[1],input_data[2]],dim=0).detach()\n",
    "n = 100\n",
    "iter = X.shape[0] // n\n",
    "Y_pred = torch.zeros(0)\n",
    "for i in range(iter+1):\n",
    "    X_ = X[i*n:(i+1)*n]\n",
    "    Y_ = torch.softmax(model_.forward_noDrop(X_),dim=1).detach()\n",
    "    Y_pred = torch.cat([Y_pred,Y_]).detach()\n",
    "X.shape , Y_pred.shape"
   ]
  },
  {
   "cell_type": "code",
   "execution_count": 25,
   "metadata": {},
   "outputs": [],
   "source": [
    "df_CNN = pd.DataFrame(Y_pred.detach().numpy()).add_prefix('CNN_')\n",
    "meta_data_key = pd.concat([input_data[3][0],input_data[3][1],input_data[3][2]],axis=0).reset_index(drop=True)\n",
    "df_CNN = pd.concat([meta_data_key,df_CNN],axis=1).reset_index(drop=True)\n",
    "CNN_280x210_data_binary = df_CNN.merge(Meta_Data_Augmented.drop(columns=['type']) ,how='left', on='image_id')"
   ]
  },
  {
   "cell_type": "code",
   "execution_count": 26,
   "metadata": {},
   "outputs": [
    {
     "data": {
      "text/html": [
       "<div>\n",
       "<style scoped>\n",
       "    .dataframe tbody tr th:only-of-type {\n",
       "        vertical-align: middle;\n",
       "    }\n",
       "\n",
       "    .dataframe tbody tr th {\n",
       "        vertical-align: top;\n",
       "    }\n",
       "\n",
       "    .dataframe thead th {\n",
       "        text-align: right;\n",
       "    }\n",
       "</style>\n",
       "<table border=\"1\" class=\"dataframe\">\n",
       "  <thead>\n",
       "    <tr style=\"text-align: right;\">\n",
       "      <th></th>\n",
       "      <th>type</th>\n",
       "      <th>image_id</th>\n",
       "      <th>CNN_0</th>\n",
       "      <th>CNN_1</th>\n",
       "      <th>lesion_id</th>\n",
       "      <th>dx</th>\n",
       "      <th>dx_type</th>\n",
       "      <th>age</th>\n",
       "      <th>sex</th>\n",
       "      <th>localization</th>\n",
       "      <th>image_label</th>\n",
       "      <th>binary_label</th>\n",
       "    </tr>\n",
       "  </thead>\n",
       "  <tbody>\n",
       "    <tr>\n",
       "      <th>0</th>\n",
       "      <td>train</td>\n",
       "      <td>ISIC_0032929</td>\n",
       "      <td>0.457048</td>\n",
       "      <td>0.542952</td>\n",
       "      <td>HAM_0003321</td>\n",
       "      <td>bkl</td>\n",
       "      <td>histo</td>\n",
       "      <td>75.0</td>\n",
       "      <td>female</td>\n",
       "      <td>face</td>\n",
       "      <td>2</td>\n",
       "      <td>0</td>\n",
       "    </tr>\n",
       "    <tr>\n",
       "      <th>1</th>\n",
       "      <td>train</td>\n",
       "      <td>ISIC_0026790</td>\n",
       "      <td>0.875181</td>\n",
       "      <td>0.124819</td>\n",
       "      <td>HAM_0005779</td>\n",
       "      <td>bkl</td>\n",
       "      <td>consensus</td>\n",
       "      <td>55.0</td>\n",
       "      <td>male</td>\n",
       "      <td>back</td>\n",
       "      <td>2</td>\n",
       "      <td>0</td>\n",
       "    </tr>\n",
       "  </tbody>\n",
       "</table>\n",
       "</div>"
      ],
      "text/plain": [
       "    type      image_id     CNN_0     CNN_1    lesion_id   dx    dx_type   age  \\\n",
       "0  train  ISIC_0032929  0.457048  0.542952  HAM_0003321  bkl      histo  75.0   \n",
       "1  train  ISIC_0026790  0.875181  0.124819  HAM_0005779  bkl  consensus  55.0   \n",
       "\n",
       "      sex localization  image_label  binary_label  \n",
       "0  female         face            2             0  \n",
       "1    male         back            2             0  "
      ]
     },
     "execution_count": 26,
     "metadata": {},
     "output_type": "execute_result"
    }
   ],
   "source": [
    "CNN_280x210_data_binary[:2]"
   ]
  },
  {
   "cell_type": "code",
   "execution_count": 27,
   "metadata": {},
   "outputs": [],
   "source": [
    "cols = ['localization','sex','dx_type']\n",
    "CNN_280x210_data_binary_encoded = pd.get_dummies(CNN_280x210_data_binary, columns= cols).reset_index(drop=True)\n",
    "def standardizaion(dataset, attr):\n",
    "    mean = dataset[dataset.type.str.contains('train')][attr].mean()\n",
    "    std = dataset[dataset.type.str.contains('train')][attr].std()\n",
    "    dataset[attr] = (dataset[attr] - mean ) / std\n",
    "    return dataset\n",
    "CNN_280x210_data_binary_encoded_STD = standardizaion(CNN_280x210_data_binary_encoded,'age')"
   ]
  },
  {
   "cell_type": "code",
   "execution_count": 28,
   "metadata": {},
   "outputs": [],
   "source": [
    "pickle.dump(CNN_280x210_data_binary_encoded_STD, open(G_path + '/CNN_Output/'+ 'CNN_280x210_Ouput_binary', 'wb'))"
   ]
  },
  {
   "cell_type": "markdown",
   "metadata": {},
   "source": [
    "# **CNN: AutoEncoder, Get CNN OutPut (Soft-Max)**"
   ]
  },
  {
   "cell_type": "code",
   "execution_count": 36,
   "metadata": {},
   "outputs": [
    {
     "data": {
      "text/plain": [
       "(torch.Size([4647, 3, 282, 207]), torch.Size([4647, 7]))"
      ]
     },
     "execution_count": 36,
     "metadata": {},
     "output_type": "execute_result"
    }
   ],
   "source": [
    "model_ = Model_A_En_multiclass\n",
    "X = torch.cat([A_E_input_data[0],A_E_input_data[1],A_E_input_data[2]],dim=0).detach()\n",
    "n = 100\n",
    "iter = X.shape[0] // n\n",
    "Y_pred = torch.zeros(0)\n",
    "for i in range(iter+1):\n",
    "    X_ = X[i*n:(i+1)*n]\n",
    "    Y_ = torch.softmax(model_.forward_noDrop(X_),dim=1).detach()\n",
    "    Y_pred = torch.cat([Y_pred,Y_]).detach()\n",
    "X.shape , Y_pred.shape"
   ]
  },
  {
   "cell_type": "markdown",
   "metadata": {},
   "source": []
  },
  {
   "cell_type": "code",
   "execution_count": 40,
   "metadata": {},
   "outputs": [],
   "source": [
    "df_CNN = pd.DataFrame(Y_pred.detach().numpy()).add_prefix('CNN_')\n",
    "meta_data_key = pd.concat([A_E_input_data[3][0],A_E_input_data[3][1],A_E_input_data[3][2]],axis=0).reset_index(drop=True)\n",
    "df_CNN = pd.concat([meta_data_key,df_CNN],axis=1).reset_index(drop=True)\n",
    "CNN_A_E_data = df_CNN.merge(Meta_Data_Augmented.drop(columns=['type']) ,how='left', on='image_id')"
   ]
  },
  {
   "cell_type": "code",
   "execution_count": 41,
   "metadata": {},
   "outputs": [],
   "source": [
    "cols = ['localization','sex','dx_type']\n",
    "CNN_A_E_data_encoded = pd.get_dummies(CNN_A_E_data, columns= cols).reset_index(drop=True)\n",
    "def standardizaion(dataset, attr):\n",
    "    mean = dataset[dataset.type.str.contains('train')][attr].mean()\n",
    "    std = dataset[dataset.type.str.contains('train')][attr].std()\n",
    "    dataset[attr] = (dataset[attr] - mean ) / std\n",
    "    return dataset\n",
    "CNN_A_E_data_encoded_STD = standardizaion(CNN_A_E_data_encoded,'age')"
   ]
  },
  {
   "cell_type": "code",
   "execution_count": 42,
   "metadata": {},
   "outputs": [],
   "source": [
    "pickle.dump(CNN_A_E_data_encoded_STD, open(G_path + '/CNN_Output/'+ 'CNN_A_E_Ouput_MultiClass', 'wb'))"
   ]
  },
  {
   "cell_type": "markdown",
   "metadata": {},
   "source": [
    "# **CNN: AutoEncoder Binary, Output**"
   ]
  },
  {
   "cell_type": "code",
   "execution_count": 13,
   "metadata": {},
   "outputs": [
    {
     "data": {
      "text/plain": [
       "(torch.Size([4647, 3, 282, 207]), torch.Size([4647, 2]))"
      ]
     },
     "execution_count": 13,
     "metadata": {},
     "output_type": "execute_result"
    }
   ],
   "source": [
    "model_ = Model_A_En_binary\n",
    "X = torch.cat([A_E_input_data[0],A_E_input_data[1],A_E_input_data[2]],dim=0).detach()\n",
    "n = 100\n",
    "iter = X.shape[0] // n\n",
    "Y_pred = torch.zeros(0)\n",
    "for i in range(iter+1):\n",
    "    X_ = X[i*n:(i+1)*n]\n",
    "    Y_ = torch.softmax(model_.forward_noDrop(X_),dim=1).detach()\n",
    "    Y_pred = torch.cat([Y_pred,Y_]).detach()\n",
    "X.shape , Y_pred.shape"
   ]
  },
  {
   "cell_type": "markdown",
   "metadata": {},
   "source": []
  },
  {
   "cell_type": "code",
   "execution_count": 14,
   "metadata": {},
   "outputs": [],
   "source": [
    "df_CNN = pd.DataFrame(Y_pred.detach().numpy()).add_prefix('CNN_')\n",
    "meta_data_key = pd.concat([A_E_input_data[3][0],A_E_input_data[3][1],A_E_input_data[3][2]],axis=0).reset_index(drop=True)\n",
    "df_CNN = pd.concat([meta_data_key,df_CNN],axis=1).reset_index(drop=True)\n",
    "CNN_A_E_data = df_CNN.merge(Meta_Data_Augmented.drop(columns=['type']) ,how='left', on='image_id')"
   ]
  },
  {
   "cell_type": "code",
   "execution_count": 15,
   "metadata": {},
   "outputs": [],
   "source": [
    "cols = ['localization','sex','dx_type']\n",
    "CNN_A_E_data_encoded = pd.get_dummies(CNN_A_E_data, columns= cols).reset_index(drop=True)\n",
    "def standardizaion(dataset, attr):\n",
    "    mean = dataset[dataset.type.str.contains('train')][attr].mean()\n",
    "    std = dataset[dataset.type.str.contains('train')][attr].std()\n",
    "    dataset[attr] = (dataset[attr] - mean ) / std\n",
    "    return dataset\n",
    "CNN_A_E_data_encoded_STD = standardizaion(CNN_A_E_data_encoded,'age')"
   ]
  },
  {
   "cell_type": "code",
   "execution_count": 16,
   "metadata": {},
   "outputs": [],
   "source": [
    "pickle.dump(CNN_A_E_data_encoded_STD, open(G_path + '/CNN_Output/'+ 'CNN_A_E_Ouput_Binary', 'wb'))"
   ]
  },
  {
   "cell_type": "code",
   "execution_count": 26,
   "metadata": {},
   "outputs": [],
   "source": [
    "CNN_280_Corss_Valid = pickle.load(open(G_path + '/Saved/Cross_Valid_50/' + 'CV_280x210_50Model_25_Jun_2022_20_40' ,'rb'))"
   ]
  },
  {
   "cell_type": "code",
   "execution_count": 32,
   "metadata": {},
   "outputs": [],
   "source": [
    "test_recall = CNN_280_Corss_Valid[['test_recall_weighed','test_recall_simple']]"
   ]
  },
  {
   "cell_type": "code",
   "execution_count": 33,
   "metadata": {},
   "outputs": [
    {
     "data": {
      "image/png": "[encoded data removed]",
      "text/plain": [
       "<Figure size 864x432 with 1 Axes>"
      ]
     },
     "metadata": {
      "needs_background": "light"
     },
     "output_type": "display_data"
    }
   ],
   "source": [
    "plt.subplots(figsize=(12,6))\n",
    "sns.boxplot(data=test_recall)\n",
    "plt.title('Classifiers Test Accuracy comparison (Class 1)',fontsize = 18)\n",
    "plt.xlabel(\"Classifiers\", fontsize = 14)\n",
    "plt.ylabel(\"Accuracy\", fontsize = 14)\n",
    "plt.xticks(fontsize=16, rotation=0)\n",
    "plt.show()"
   ]
  },
  {
   "cell_type": "code",
   "execution_count": 27,
   "metadata": {},
   "outputs": [
    {
     "data": {
      "image/png": "[encoded data removed]",
      "text/plain": [
       "<Figure size 432x288 with 1 Axes>"
      ]
     },
     "metadata": {
      "needs_background": "light"
     },
     "output_type": "display_data"
    }
   ],
   "source": [
    "CM = sk.metrics.confusion_matrix(Y,Y_pred)\n",
    "disp = sk.metrics.ConfusionMatrixDisplay(CM)\n",
    "disp.plot()\n",
    "disp.im_.colorbar.remove()\n",
    "plt.title('CNN-Rescaled', fontsize = 16)\n",
    "plt.xlabel('Predicted', fontsize = 14)\n",
    "plt.ylabel('True', fontsize = 14)\n",
    "plt.show()"
   ]
  },
  {
   "cell_type": "code",
   "execution_count": 62,
   "metadata": {},
   "outputs": [
    {
     "data": {
      "image/png": "[encoded data removed]",
      "text/plain": [
       "<Figure size 576x432 with 2 Axes>"
      ]
     },
     "metadata": {},
     "output_type": "display_data"
    }
   ],
   "source": [
    "import seaborn as sn\n",
    "import pandas as pd\n",
    "import matplotlib.pyplot as plt\n",
    "\n",
    "plt.figure(figsize=(8,6))\n",
    "sn.set(font_scale=1) # for label size\n",
    "sn.heatmap(CM, annot=True, annot_kws={\"size\": 14},fmt= '' ,cmap='Blues') # font size\n",
    "plt.title('Train and Validation loss by epochs', fontsize = 24)\n",
    "\n",
    "plt.show()"
   ]
  },
  {
   "cell_type": "markdown",
   "metadata": {},
   "source": [
    "# **CNN: AutoEncoder + 280x210**"
   ]
  },
  {
   "cell_type": "code",
   "execution_count": null,
   "metadata": {},
   "outputs": [],
   "source": [
    "cols = ['image_id','CNN_0','CNN_1','CNN_2','CNN_3','CNN_4','CNN_5','CNN_6']\n",
    "CNN_280x210_A_E = CNN_280x210_data_encoded_STD.merge(CNN_A_E_data_encoded_STD[cols],how='left',on='image_id')"
   ]
  },
  {
   "cell_type": "code",
   "execution_count": 17,
   "metadata": {},
   "outputs": [],
   "source": [
    "pickle.dump(CNN_280x210_A_E, open(G_path + '/CNN_Output/'+ 'CNN_280x210_A_E_Output', 'wb'))"
   ]
  },
  {
   "cell_type": "markdown",
   "metadata": {},
   "source": [
    "**Ordinal Encoding**"
   ]
  },
  {
   "cell_type": "code",
   "execution_count": 31,
   "metadata": {},
   "outputs": [],
   "source": [
    "ord_enc = sk.preprocessing.OrdinalEncoder()\n",
    "datasource_v3_Ord = datasource_v2\n",
    "datasource_v3_Ord['sex'] = ord_enc.fit_transform(datasource_v3_Ord[['sex']])\n",
    "datasource_v3_Ord['localization'] = ord_enc.fit_transform(datasource_v3_Ord[['localization']])\n",
    "datasource_v3_Ord['dx_type'] = ord_enc.fit_transform(datasource_v3_Ord[['dx_type']])\n",
    "datasource_v3_Ord.reset_index(drop=True, inplace=True)"
   ]
  },
  {
   "cell_type": "code",
   "execution_count": 29,
   "metadata": {},
   "outputs": [],
   "source": [
    "def MinMaxScaling(dataset, attr):\n",
    "    min = dataset[dataset.type.str.contains('train|valid')][attr].min()\n",
    "    max = dataset[dataset.type.str.contains('train|valid')][attr].max()\n",
    "    dataset[attr] = (dataset[attr] - min ) / (max-min)\n",
    "    return dataset"
   ]
  },
  {
   "cell_type": "code",
   "execution_count": 36,
   "metadata": {},
   "outputs": [],
   "source": [
    "datasource_v3_Ord_Norm = datasource_v3_Ord.copy()\n",
    "datasource_v3_Ord_Norm = MinMaxScaling(datasource_v3_Ord_Norm , 'localization')\n",
    "datasource_v3_Ord_Norm = MinMaxScaling(datasource_v3_Ord_Norm , 'dx_type')"
   ]
  },
  {
   "cell_type": "code",
   "execution_count": null,
   "metadata": {},
   "outputs": [],
   "source": [
    "pd.to_pickle(datasource_v3_Ord, path+'DataSource_60x45_Ordinal_CNN.pickle' )"
   ]
  },
  {
   "cell_type": "markdown",
   "metadata": {},
   "source": []
  }
 ],
 "metadata": {
  "kernelspec": {
   "display_name": "Python 3.8.9 64-bit",
   "language": "python",
   "name": "python3"
  },
  "language_info": {
   "codemirror_mode": {
    "name": "ipython",
    "version": 3
   },
   "file_extension": ".py",
   "mimetype": "text/x-python",
   "name": "python",
   "nbconvert_exporter": "python",
   "pygments_lexer": "ipython3",
   "version": "3.8.9"
  },
  "vscode": {
   "interpreter": {
    "hash": "31f2aee4e71d21fbe5cf8b01ff0e069b9275f58929596ceb00d14d90e3e16cd6"
   }
  }
 },
 "nbformat": 4,
 "nbformat_minor": 4
}
