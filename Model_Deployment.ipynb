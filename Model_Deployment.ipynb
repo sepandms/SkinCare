{
 "cells": [
  {
   "cell_type": "code",
   "execution_count": 2,
   "metadata": {},
   "outputs": [],
   "source": [
    "G_path = '/Users/sepehrbe/My_Drive/DataSources/SkinCare'"
   ]
  },
  {
   "cell_type": "code",
   "execution_count": 3,
   "metadata": {},
   "outputs": [],
   "source": [
    "import torch\n",
    "import torch.nn as nn\n",
    "import torch.nn.functional as F\n",
    "import torchvision\n",
    "import torchvision.transforms as transforms\n",
    "#import torchvision.transforms.Compose\n",
    "import numpy as np\n",
    "from CNN_NETs import CNN_Nets \n",
    "from Net8 import Net8_a\n",
    "from Model_Training import Model_Training_with_loader\n",
    "import matplotlib.pyplot as plt\n",
    "from torch.utils.data import random_split\n",
    "from torch.utils.data import SubsetRandomSampler\n",
    "import time\n",
    "import os\n",
    "from statistics import mean\n",
    "import pandas as pd\n",
    "import sklearn as sk\n",
    "import pickle\n",
    "from sklearn.model_selection import train_test_split\n",
    "device = torch.device(\"cuda\" if torch.cuda.is_available() else \"cpu\")\n",
    "from sklearn.utils import resample\n",
    "import warnings\n",
    "warnings.filterwarnings('ignore')\n",
    "device = torch.device('cpu')"
   ]
  },
  {
   "cell_type": "code",
   "execution_count": 4,
   "metadata": {},
   "outputs": [],
   "source": [
    "def confusion_matrix(Y,Y_pred):\n",
    "    CM = sk.metrics.confusion_matrix(Y,Y_pred)\n",
    "    print('Nr. of Data : \\n', CM.sum())\n",
    "    print('Accuracy of The Model : \\n', np.diag(CM).sum()/CM.sum())\n",
    "    sk.metrics.ConfusionMatrixDisplay(CM).plot()\n",
    "    FP = CM.sum(axis=0) - np.diag(CM) \n",
    "    FN = CM.sum(axis=1) - np.diag(CM)\n",
    "    TP = np.diag(CM)\n",
    "    TN = CM.sum() - (FP + FN + TP)\n",
    "    weights = CM.sum(axis=1) / CM.sum() \n",
    "    ACC = np.nan_to_num((TP+TN)/(TP+FP+FN+TN) , nan=0)\n",
    "    Recall_Sensitivity = np.nan_to_num(TP/(TP+FN) , nan=0)\n",
    "    Specificity = np.nan_to_num(TN/(TN+FP) , nan=0)\n",
    "    Precision = np.nan_to_num(TP/(TP+FP) , nan=0)\n",
    "    f1_score = np.nan_to_num( 2*Precision*Recall_Sensitivity / (Recall_Sensitivity + Precision), nan=0)\n",
    "    Performance_DF = pd.concat([pd.DataFrame(CM),pd.DataFrame(weights, columns=['weights']),pd.DataFrame(Precision, columns=['Precision']),pd.DataFrame(Recall_Sensitivity,columns=['Recall_Sensitivity'])\n",
    "        ,pd.DataFrame(Specificity, columns=['Specificity']),pd.DataFrame(f1_score, columns=['f1_score'])], axis=1)\n",
    "    total_row1 = pd.Series({'Precision':mean(Precision),'Recall_Sensitivity':mean(Recall_Sensitivity),'Specificity':mean(Specificity),'f1_score':mean(f1_score)}, name='Simple Avg.')\n",
    "    total_row2 = pd.Series({'Precision':sum(weights*Precision),'Recall_Sensitivity':sum(weights*Recall_Sensitivity),'Specificity':sum(weights*Specificity),'f1_score':sum(weights*f1_score)}, name='Weighted Avg.')\n",
    "    Performance_DF = Performance_DF.append([total_row1,total_row2])\n",
    "    cols = ['weights','Precision','Recall_Sensitivity','Specificity','f1_score']\n",
    "    per_details = Performance_DF[cols].style.format({'weights': \"{:.1%}\",'Precision': \"{:.1%}\",'Recall_Sensitivity': \"{:.1%}\",'Specificity': \"{:.1%}\",'f1_score': \"{:.1%}\"})\n",
    "    return per_details\n",
    "\n",
    "def plot_loss_accuracy(model_):\n",
    "    epochs_X = [i for i in range(1, model_.epochs+1)]\n",
    "    fig, axs = plt.subplots(1,2,figsize=(14,4))\n",
    "    axs[0].plot(epochs_X , model_.Epochs_Train_loss , 'bo-', label='Train loss')\n",
    "    axs[0].plot(epochs_X , model_.Epochs_Val_loss,'ro-', label='Validation loss')\n",
    "    axs[0].plot(epochs_X , model_.Epochs_test_loss,'go-', label='Test loss')\n",
    "    axs[0].set_xlabel(\"Epochs\", fontsize = 12)\n",
    "    axs[0].set_ylabel(\"Loss\", fontsize = 12)\n",
    "    axs[0].grid()\n",
    "    axs[0].legend()\n",
    "    axs[0].set_title('Train and Validation loss by epochs', fontsize = 14)\n",
    "    axs[1].plot(epochs_X , model_.Epochs_Train_Acc , 'bo-', label='Train Accuracy')\n",
    "    axs[1].plot(epochs_X , model_.Epochs_Val_Acc ,'ro-', label='Validation Accuracy')\n",
    "    axs[1].plot(epochs_X , model_.Epochs_test_Acc ,'go-', label='Test Accuracy')\n",
    "    axs[1].set_xlabel(\"Epochs\", fontsize = 12)\n",
    "    axs[1].set_ylabel(\"Accuracy\", fontsize = 12)\n",
    "    axs[1].grid()\n",
    "    axs[1].legend()\n",
    "    axs[1].set_title('Train and Validation Accuracy by epochs', fontsize = 14)\n",
    "    plt.show()"
   ]
  },
  {
   "cell_type": "markdown",
   "metadata": {},
   "source": [
    "# **Import DataSets**"
   ]
  },
  {
   "cell_type": "code",
   "execution_count": 5,
   "metadata": {},
   "outputs": [],
   "source": [
    "file = 'DataSet_280x210' \n",
    "input_data , labels = pickle.load(open(G_path + '/DataSet_280x210/'+ file,'rb'))\n",
    "\n",
    "file = 'Latent_Input_Data_labels' \n",
    "A_E_input_data , A_E_labels = pickle.load(open(G_path + '/Augmented_AutoEncoded/'+ file,'rb'))\n",
    "\n",
    "file = 'Evaluation_set_280x210' \n",
    "BLC_test_280x210 = pickle.load(open(G_path + '/DataSet_280x210/' + file,'rb'))\n",
    "\n",
    "file = 'Evaluation_set_AutoEncoder' \n",
    "BLC_test_A_E = pickle.load(open(G_path + '/Augmented_AutoEncoded/' + file,'rb'))"
   ]
  },
  {
   "cell_type": "code",
   "execution_count": 6,
   "metadata": {},
   "outputs": [
    {
     "data": {
      "text/plain": [
       "torch.Size([407, 3, 282, 207])"
      ]
     },
     "execution_count": 6,
     "metadata": {},
     "output_type": "execute_result"
    }
   ],
   "source": [
    "A_E_input_data[2].shape"
   ]
  },
  {
   "cell_type": "markdown",
   "metadata": {},
   "source": [
    "# **Import Model**"
   ]
  },
  {
   "cell_type": "code",
   "execution_count": 7,
   "metadata": {},
   "outputs": [],
   "source": [
    "C_280 = 'CNN_280x210_Model4_22_Jun22_00-14' # Best of grid search\n",
    "Model_280x210 = pickle.load(open(G_path + '/Saved/Models/Grid_Search_Models/'+ C_280 , 'rb') )\n",
    "\n",
    "A_E = 'A_E_CNN_Model6_22_Jun22_00-29' #Best of grid search\n",
    "# [CNN_Nets.Net8_a, Model_Training_with_loader] = pickle.load(open(G_Models+'/Net8_Model_Trainin','rb'))\n",
    "Model_A_En = pickle.load(open(G_path + '/Saved/Models/Grid_Search_Models/' + A_E , 'rb') )"
   ]
  },
  {
   "cell_type": "markdown",
   "metadata": {},
   "source": [
    "# **Model Evaluation**"
   ]
  },
  {
   "cell_type": "code",
   "execution_count": 8,
   "metadata": {},
   "outputs": [
    {
     "name": "stdout",
     "output_type": "stream",
     "text": [
      "Nr. of Data : \n",
      " 407\n",
      "Accuracy of The Model : \n",
      " 0.6560196560196561\n"
     ]
    },
    {
     "data": {
      "text/html": [
       "<style type=\"text/css\">\n",
       "</style>\n",
       "<table id=\"T_b5864_\">\n",
       "  <thead>\n",
       "    <tr>\n",
       "      <th class=\"blank level0\" >&nbsp;</th>\n",
       "      <th class=\"col_heading level0 col0\" >weights</th>\n",
       "      <th class=\"col_heading level0 col1\" >Precision</th>\n",
       "      <th class=\"col_heading level0 col2\" >Recall_Sensitivity</th>\n",
       "      <th class=\"col_heading level0 col3\" >Specificity</th>\n",
       "      <th class=\"col_heading level0 col4\" >f1_score</th>\n",
       "    </tr>\n",
       "  </thead>\n",
       "  <tbody>\n",
       "    <tr>\n",
       "      <th id=\"T_b5864_level0_row0\" class=\"row_heading level0 row0\" >0</th>\n",
       "      <td id=\"T_b5864_row0_col0\" class=\"data row0 col0\" >5.7%</td>\n",
       "      <td id=\"T_b5864_row0_col1\" class=\"data row0 col1\" >38.9%</td>\n",
       "      <td id=\"T_b5864_row0_col2\" class=\"data row0 col2\" >60.9%</td>\n",
       "      <td id=\"T_b5864_row0_col3\" class=\"data row0 col3\" >94.3%</td>\n",
       "      <td id=\"T_b5864_row0_col4\" class=\"data row0 col4\" >47.5%</td>\n",
       "    </tr>\n",
       "    <tr>\n",
       "      <th id=\"T_b5864_level0_row1\" class=\"row_heading level0 row1\" >1</th>\n",
       "      <td id=\"T_b5864_row1_col0\" class=\"data row1 col0\" >7.9%</td>\n",
       "      <td id=\"T_b5864_row1_col1\" class=\"data row1 col1\" >51.9%</td>\n",
       "      <td id=\"T_b5864_row1_col2\" class=\"data row1 col2\" >43.8%</td>\n",
       "      <td id=\"T_b5864_row1_col3\" class=\"data row1 col3\" >96.5%</td>\n",
       "      <td id=\"T_b5864_row1_col4\" class=\"data row1 col4\" >47.5%</td>\n",
       "    </tr>\n",
       "    <tr>\n",
       "      <th id=\"T_b5864_level0_row2\" class=\"row_heading level0 row2\" >2</th>\n",
       "      <td id=\"T_b5864_row2_col0\" class=\"data row2 col0\" >17.7%</td>\n",
       "      <td id=\"T_b5864_row2_col1\" class=\"data row2 col1\" >48.2%</td>\n",
       "      <td id=\"T_b5864_row2_col2\" class=\"data row2 col2\" >56.9%</td>\n",
       "      <td id=\"T_b5864_row2_col3\" class=\"data row2 col3\" >86.9%</td>\n",
       "      <td id=\"T_b5864_row2_col4\" class=\"data row2 col4\" >52.2%</td>\n",
       "    </tr>\n",
       "    <tr>\n",
       "      <th id=\"T_b5864_level0_row3\" class=\"row_heading level0 row3\" >3</th>\n",
       "      <td id=\"T_b5864_row3_col0\" class=\"data row3 col0\" >2.0%</td>\n",
       "      <td id=\"T_b5864_row3_col1\" class=\"data row3 col1\" >66.7%</td>\n",
       "      <td id=\"T_b5864_row3_col2\" class=\"data row3 col2\" >50.0%</td>\n",
       "      <td id=\"T_b5864_row3_col3\" class=\"data row3 col3\" >99.5%</td>\n",
       "      <td id=\"T_b5864_row3_col4\" class=\"data row3 col4\" >57.1%</td>\n",
       "    </tr>\n",
       "    <tr>\n",
       "      <th id=\"T_b5864_level0_row4\" class=\"row_heading level0 row4\" >4</th>\n",
       "      <td id=\"T_b5864_row4_col0\" class=\"data row4 col0\" >15.2%</td>\n",
       "      <td id=\"T_b5864_row4_col1\" class=\"data row4 col1\" >46.7%</td>\n",
       "      <td id=\"T_b5864_row4_col2\" class=\"data row4 col2\" >56.5%</td>\n",
       "      <td id=\"T_b5864_row4_col3\" class=\"data row4 col3\" >88.4%</td>\n",
       "      <td id=\"T_b5864_row4_col4\" class=\"data row4 col4\" >51.1%</td>\n",
       "    </tr>\n",
       "    <tr>\n",
       "      <th id=\"T_b5864_level0_row5\" class=\"row_heading level0 row5\" >5</th>\n",
       "      <td id=\"T_b5864_row5_col0\" class=\"data row5 col0\" >49.1%</td>\n",
       "      <td id=\"T_b5864_row5_col1\" class=\"data row5 col1\" >90.4%</td>\n",
       "      <td id=\"T_b5864_row5_col2\" class=\"data row5 col2\" >75.0%</td>\n",
       "      <td id=\"T_b5864_row5_col3\" class=\"data row5 col3\" >92.3%</td>\n",
       "      <td id=\"T_b5864_row5_col4\" class=\"data row5 col4\" >82.0%</td>\n",
       "    </tr>\n",
       "    <tr>\n",
       "      <th id=\"T_b5864_level0_row6\" class=\"row_heading level0 row6\" >6</th>\n",
       "      <td id=\"T_b5864_row6_col0\" class=\"data row6 col0\" >2.5%</td>\n",
       "      <td id=\"T_b5864_row6_col1\" class=\"data row6 col1\" >75.0%</td>\n",
       "      <td id=\"T_b5864_row6_col2\" class=\"data row6 col2\" >90.0%</td>\n",
       "      <td id=\"T_b5864_row6_col3\" class=\"data row6 col3\" >99.2%</td>\n",
       "      <td id=\"T_b5864_row6_col4\" class=\"data row6 col4\" >81.8%</td>\n",
       "    </tr>\n",
       "    <tr>\n",
       "      <th id=\"T_b5864_level0_row7\" class=\"row_heading level0 row7\" >Simple Avg.</th>\n",
       "      <td id=\"T_b5864_row7_col0\" class=\"data row7 col0\" >nan%</td>\n",
       "      <td id=\"T_b5864_row7_col1\" class=\"data row7 col1\" >59.7%</td>\n",
       "      <td id=\"T_b5864_row7_col2\" class=\"data row7 col2\" >61.9%</td>\n",
       "      <td id=\"T_b5864_row7_col3\" class=\"data row7 col3\" >93.9%</td>\n",
       "      <td id=\"T_b5864_row7_col4\" class=\"data row7 col4\" >59.9%</td>\n",
       "    </tr>\n",
       "    <tr>\n",
       "      <th id=\"T_b5864_level0_row8\" class=\"row_heading level0 row8\" >Weighted Avg.</th>\n",
       "      <td id=\"T_b5864_row8_col0\" class=\"data row8 col0\" >nan%</td>\n",
       "      <td id=\"T_b5864_row8_col1\" class=\"data row8 col1\" >69.5%</td>\n",
       "      <td id=\"T_b5864_row8_col2\" class=\"data row8 col2\" >65.6%</td>\n",
       "      <td id=\"T_b5864_row8_col3\" class=\"data row8 col3\" >91.5%</td>\n",
       "      <td id=\"T_b5864_row8_col4\" class=\"data row8 col4\" >66.8%</td>\n",
       "    </tr>\n",
       "  </tbody>\n",
       "</table>\n"
      ],
      "text/plain": [
       "<pandas.io.formats.style.Styler at 0x2a51ded60>"
      ]
     },
     "execution_count": 8,
     "metadata": {},
     "output_type": "execute_result"
    },
    {
     "data": {
      "image/png": "[encoded data removed]",
      "text/plain": [
       "<Figure size 432x288 with 2 Axes>"
      ]
     },
     "metadata": {
      "needs_background": "light"
     },
     "output_type": "display_data"
    }
   ],
   "source": [
    "# Model 280x210\n",
    "model_ = Model_280x210\n",
    "X = input_data[2]\n",
    "Y = labels[2]\n",
    "# X = BLC_test_280x210[0]\n",
    "# Y = BLC_test_280x210[1]\n",
    "iter = X.shape[0] // 100\n",
    "Y_pred = torch.zeros(0)\n",
    "for i in range(iter+1):\n",
    "    X_ = X[i*100:(i+1)*100]\n",
    "    Y_ = model_.forward_noDrop(X_).argmax(dim=1)\n",
    "    Y_pred = torch.cat([Y_pred,Y_])\n",
    "results = confusion_matrix(Y,Y_pred)\n",
    "results"
   ]
  },
  {
   "cell_type": "code",
   "execution_count": 9,
   "metadata": {},
   "outputs": [
    {
     "name": "stdout",
     "output_type": "stream",
     "text": [
      "Nr. of Data : \n",
      " 3833\n",
      "Accuracy of The Model : \n",
      " 0.7203235063918602\n"
     ]
    },
    {
     "data": {
      "text/html": [
       "<style type=\"text/css\">\n",
       "</style>\n",
       "<table id=\"T_41dee_\">\n",
       "  <thead>\n",
       "    <tr>\n",
       "      <th class=\"blank level0\" >&nbsp;</th>\n",
       "      <th class=\"col_heading level0 col0\" >weights</th>\n",
       "      <th class=\"col_heading level0 col1\" >Precision</th>\n",
       "      <th class=\"col_heading level0 col2\" >Recall_Sensitivity</th>\n",
       "      <th class=\"col_heading level0 col3\" >Specificity</th>\n",
       "      <th class=\"col_heading level0 col4\" >f1_score</th>\n",
       "    </tr>\n",
       "  </thead>\n",
       "  <tbody>\n",
       "    <tr>\n",
       "      <th id=\"T_41dee_level0_row0\" class=\"row_heading level0 row0\" >0</th>\n",
       "      <td id=\"T_41dee_row0_col0\" class=\"data row0 col0\" >9.5%</td>\n",
       "      <td id=\"T_41dee_row0_col1\" class=\"data row0 col1\" >54.0%</td>\n",
       "      <td id=\"T_41dee_row0_col2\" class=\"data row0 col2\" >84.3%</td>\n",
       "      <td id=\"T_41dee_row0_col3\" class=\"data row0 col3\" >92.5%</td>\n",
       "      <td id=\"T_41dee_row0_col4\" class=\"data row0 col4\" >65.9%</td>\n",
       "    </tr>\n",
       "    <tr>\n",
       "      <th id=\"T_41dee_level0_row1\" class=\"row_heading level0 row1\" >1</th>\n",
       "      <td id=\"T_41dee_row1_col0\" class=\"data row1 col0\" >13.7%</td>\n",
       "      <td id=\"T_41dee_row1_col1\" class=\"data row1 col1\" >84.0%</td>\n",
       "      <td id=\"T_41dee_row1_col2\" class=\"data row1 col2\" >55.2%</td>\n",
       "      <td id=\"T_41dee_row1_col3\" class=\"data row1 col3\" >98.3%</td>\n",
       "      <td id=\"T_41dee_row1_col4\" class=\"data row1 col4\" >66.6%</td>\n",
       "    </tr>\n",
       "    <tr>\n",
       "      <th id=\"T_41dee_level0_row2\" class=\"row_heading level0 row2\" >2</th>\n",
       "      <td id=\"T_41dee_row2_col0\" class=\"data row2 col0\" >15.2%</td>\n",
       "      <td id=\"T_41dee_row2_col1\" class=\"data row2 col1\" >73.8%</td>\n",
       "      <td id=\"T_41dee_row2_col2\" class=\"data row2 col2\" >50.9%</td>\n",
       "      <td id=\"T_41dee_row2_col3\" class=\"data row2 col3\" >96.8%</td>\n",
       "      <td id=\"T_41dee_row2_col4\" class=\"data row2 col4\" >60.2%</td>\n",
       "    </tr>\n",
       "    <tr>\n",
       "      <th id=\"T_41dee_level0_row3\" class=\"row_heading level0 row3\" >3</th>\n",
       "      <td id=\"T_41dee_row3_col0\" class=\"data row3 col0\" >3.0%</td>\n",
       "      <td id=\"T_41dee_row3_col1\" class=\"data row3 col1\" >74.8%</td>\n",
       "      <td id=\"T_41dee_row3_col2\" class=\"data row3 col2\" >97.4%</td>\n",
       "      <td id=\"T_41dee_row3_col3\" class=\"data row3 col3\" >99.0%</td>\n",
       "      <td id=\"T_41dee_row3_col4\" class=\"data row3 col4\" >84.6%</td>\n",
       "    </tr>\n",
       "    <tr>\n",
       "      <th id=\"T_41dee_level0_row4\" class=\"row_heading level0 row4\" >4</th>\n",
       "      <td id=\"T_41dee_row4_col0\" class=\"data row4 col0\" >12.8%</td>\n",
       "      <td id=\"T_41dee_row4_col1\" class=\"data row4 col1\" >45.3%</td>\n",
       "      <td id=\"T_41dee_row4_col2\" class=\"data row4 col2\" >85.5%</td>\n",
       "      <td id=\"T_41dee_row4_col3\" class=\"data row4 col3\" >84.8%</td>\n",
       "      <td id=\"T_41dee_row4_col4\" class=\"data row4 col4\" >59.2%</td>\n",
       "    </tr>\n",
       "    <tr>\n",
       "      <th id=\"T_41dee_level0_row5\" class=\"row_heading level0 row5\" >5</th>\n",
       "      <td id=\"T_41dee_row5_col0\" class=\"data row5 col0\" >41.7%</td>\n",
       "      <td id=\"T_41dee_row5_col1\" class=\"data row5 col1\" >93.0%</td>\n",
       "      <td id=\"T_41dee_row5_col2\" class=\"data row5 col2\" >74.2%</td>\n",
       "      <td id=\"T_41dee_row5_col3\" class=\"data row5 col3\" >96.0%</td>\n",
       "      <td id=\"T_41dee_row5_col4\" class=\"data row5 col4\" >82.5%</td>\n",
       "    </tr>\n",
       "    <tr>\n",
       "      <th id=\"T_41dee_level0_row6\" class=\"row_heading level0 row6\" >6</th>\n",
       "      <td id=\"T_41dee_row6_col0\" class=\"data row6 col0\" >4.1%</td>\n",
       "      <td id=\"T_41dee_row6_col1\" class=\"data row6 col1\" >90.3%</td>\n",
       "      <td id=\"T_41dee_row6_col2\" class=\"data row6 col2\" >95.5%</td>\n",
       "      <td id=\"T_41dee_row6_col3\" class=\"data row6 col3\" >99.6%</td>\n",
       "      <td id=\"T_41dee_row6_col4\" class=\"data row6 col4\" >92.8%</td>\n",
       "    </tr>\n",
       "    <tr>\n",
       "      <th id=\"T_41dee_level0_row7\" class=\"row_heading level0 row7\" >Simple Avg.</th>\n",
       "      <td id=\"T_41dee_row7_col0\" class=\"data row7 col0\" >nan%</td>\n",
       "      <td id=\"T_41dee_row7_col1\" class=\"data row7 col1\" >73.6%</td>\n",
       "      <td id=\"T_41dee_row7_col2\" class=\"data row7 col2\" >77.6%</td>\n",
       "      <td id=\"T_41dee_row7_col3\" class=\"data row7 col3\" >95.3%</td>\n",
       "      <td id=\"T_41dee_row7_col4\" class=\"data row7 col4\" >73.1%</td>\n",
       "    </tr>\n",
       "    <tr>\n",
       "      <th id=\"T_41dee_level0_row8\" class=\"row_heading level0 row8\" >Weighted Avg.</th>\n",
       "      <td id=\"T_41dee_row8_col0\" class=\"data row8 col0\" >nan%</td>\n",
       "      <td id=\"T_41dee_row8_col1\" class=\"data row8 col1\" >78.4%</td>\n",
       "      <td id=\"T_41dee_row8_col2\" class=\"data row8 col2\" >72.0%</td>\n",
       "      <td id=\"T_41dee_row8_col3\" class=\"data row8 col3\" >94.9%</td>\n",
       "      <td id=\"T_41dee_row8_col4\" class=\"data row8 col4\" >72.9%</td>\n",
       "    </tr>\n",
       "  </tbody>\n",
       "</table>\n"
      ],
      "text/plain": [
       "<pandas.io.formats.style.Styler at 0x2c05e97f0>"
      ]
     },
     "execution_count": 9,
     "metadata": {},
     "output_type": "execute_result"
    },
    {
     "data": {
      "image/png": "[encoded data removed]",
      "text/plain": [
       "<Figure size 432x288 with 2 Axes>"
      ]
     },
     "metadata": {
      "needs_background": "light"
     },
     "output_type": "display_data"
    }
   ],
   "source": [
    "# Model AutoEncoder\n",
    "model_ = Model_A_En\n",
    "X = A_E_input_data[0]\n",
    "Y = A_E_labels[0]\n",
    "# X = BLC_test_A_E[0]\n",
    "# Y = BLC_test_A_E[1]\n",
    "iter = X.shape[0] // 100\n",
    "Y_pred = torch.zeros(0)\n",
    "for i in range(iter+1):\n",
    "    X_ = X[i*100:(i+1)*100]\n",
    "    Y_ = model_.forward_noDrop(X_).argmax(dim=1)\n",
    "    Y_pred = torch.cat([Y_pred,Y_])\n",
    "results = confusion_matrix(Y,Y_pred)\n",
    "results"
   ]
  },
  {
   "cell_type": "markdown",
   "metadata": {},
   "source": [
    "**Import Meta Data**"
   ]
  },
  {
   "cell_type": "code",
   "execution_count": 10,
   "metadata": {},
   "outputs": [],
   "source": [
    "Meta_Data_Augmented = pickle.load(open( G_path + 'Meta_Data_Augmented','rb'))"
   ]
  },
  {
   "cell_type": "markdown",
   "metadata": {},
   "source": [
    "# **CNN: 280x210, Get CNN OutPut (Soft-Max)**"
   ]
  },
  {
   "cell_type": "code",
   "execution_count": 11,
   "metadata": {},
   "outputs": [
    {
     "data": {
      "text/plain": [
       "(torch.Size([4647, 3, 280, 210]), torch.Size([4647, 7]))"
      ]
     },
     "execution_count": 11,
     "metadata": {},
     "output_type": "execute_result"
    }
   ],
   "source": [
    "model_ = Model_280x210\n",
    "X = torch.cat([input_data[0],input_data[1],input_data[2]],dim=0)\n",
    "iter = X.shape[0] // 100\n",
    "Y_pred = torch.zeros(0)\n",
    "for i in range(iter+1):\n",
    "    X_ = X[i*100:(i+1)*100]\n",
    "    Y_ = torch.softmax(model_.forward_noDrop(X_),dim=1)\n",
    "    Y_pred = torch.cat([Y_pred,Y_])\n",
    "X.shape , Y_pred.shape"
   ]
  },
  {
   "cell_type": "code",
   "execution_count": 12,
   "metadata": {},
   "outputs": [],
   "source": [
    "df_CNN = pd.DataFrame(Y_pred.detach().numpy()).add_prefix('CNN_')\n",
    "meta_data_key = pd.concat([input_data[3][0],input_data[3][1],input_data[3][2]],axis=0).reset_index(drop=True)\n",
    "df_CNN = pd.concat([meta_data_key,df_CNN],axis=1).reset_index(drop=True)\n",
    "CNN_280x210_data = df_CNN.merge(Meta_Data_Augmented.drop(columns=['type']) ,how='left', on='image_id')"
   ]
  },
  {
   "cell_type": "code",
   "execution_count": 13,
   "metadata": {},
   "outputs": [
    {
     "data": {
      "text/html": [
       "<div>\n",
       "<style scoped>\n",
       "    .dataframe tbody tr th:only-of-type {\n",
       "        vertical-align: middle;\n",
       "    }\n",
       "\n",
       "    .dataframe tbody tr th {\n",
       "        vertical-align: top;\n",
       "    }\n",
       "\n",
       "    .dataframe thead th {\n",
       "        text-align: right;\n",
       "    }\n",
       "</style>\n",
       "<table border=\"1\" class=\"dataframe\">\n",
       "  <thead>\n",
       "    <tr style=\"text-align: right;\">\n",
       "      <th></th>\n",
       "      <th>type</th>\n",
       "      <th>image_id</th>\n",
       "      <th>CNN_0</th>\n",
       "      <th>CNN_1</th>\n",
       "      <th>CNN_2</th>\n",
       "      <th>CNN_3</th>\n",
       "      <th>CNN_4</th>\n",
       "      <th>CNN_5</th>\n",
       "      <th>CNN_6</th>\n",
       "      <th>lesion_id</th>\n",
       "      <th>dx</th>\n",
       "      <th>dx_type</th>\n",
       "      <th>age</th>\n",
       "      <th>sex</th>\n",
       "      <th>localization</th>\n",
       "      <th>image_label</th>\n",
       "    </tr>\n",
       "  </thead>\n",
       "  <tbody>\n",
       "    <tr>\n",
       "      <th>0</th>\n",
       "      <td>train</td>\n",
       "      <td>ISIC_0032929</td>\n",
       "      <td>0.023862</td>\n",
       "      <td>0.004363</td>\n",
       "      <td>0.720161</td>\n",
       "      <td>0.000374</td>\n",
       "      <td>0.194677</td>\n",
       "      <td>0.056539</td>\n",
       "      <td>0.000025</td>\n",
       "      <td>HAM_0003321</td>\n",
       "      <td>bkl</td>\n",
       "      <td>histo</td>\n",
       "      <td>75.0</td>\n",
       "      <td>female</td>\n",
       "      <td>face</td>\n",
       "      <td>2</td>\n",
       "    </tr>\n",
       "    <tr>\n",
       "      <th>1</th>\n",
       "      <td>train</td>\n",
       "      <td>ISIC_0026790</td>\n",
       "      <td>0.000023</td>\n",
       "      <td>0.000322</td>\n",
       "      <td>0.203294</td>\n",
       "      <td>0.000002</td>\n",
       "      <td>0.263729</td>\n",
       "      <td>0.531866</td>\n",
       "      <td>0.000763</td>\n",
       "      <td>HAM_0005779</td>\n",
       "      <td>bkl</td>\n",
       "      <td>consensus</td>\n",
       "      <td>55.0</td>\n",
       "      <td>male</td>\n",
       "      <td>back</td>\n",
       "      <td>2</td>\n",
       "    </tr>\n",
       "  </tbody>\n",
       "</table>\n",
       "</div>"
      ],
      "text/plain": [
       "    type      image_id     CNN_0     CNN_1     CNN_2     CNN_3     CNN_4  \\\n",
       "0  train  ISIC_0032929  0.023862  0.004363  0.720161  0.000374  0.194677   \n",
       "1  train  ISIC_0026790  0.000023  0.000322  0.203294  0.000002  0.263729   \n",
       "\n",
       "      CNN_5     CNN_6    lesion_id   dx    dx_type   age     sex localization  \\\n",
       "0  0.056539  0.000025  HAM_0003321  bkl      histo  75.0  female         face   \n",
       "1  0.531866  0.000763  HAM_0005779  bkl  consensus  55.0    male         back   \n",
       "\n",
       "   image_label  \n",
       "0            2  \n",
       "1            2  "
      ]
     },
     "execution_count": 13,
     "metadata": {},
     "output_type": "execute_result"
    }
   ],
   "source": [
    "CNN_280x210_data[:2]"
   ]
  },
  {
   "cell_type": "code",
   "execution_count": 14,
   "metadata": {},
   "outputs": [],
   "source": [
    "cols = ['localization','sex','dx_type']\n",
    "CNN_280x210_data_encoded = pd.get_dummies(CNN_280x210_data, columns= cols).reset_index(drop=True)"
   ]
  },
  {
   "cell_type": "code",
   "execution_count": 15,
   "metadata": {},
   "outputs": [],
   "source": [
    "def standardizaion(dataset, attr):\n",
    "    mean = dataset[dataset.type.str.contains('train')][attr].mean()\n",
    "    std = dataset[dataset.type.str.contains('train')][attr].std()\n",
    "    dataset[attr] = (dataset[attr] - mean ) / std\n",
    "    return dataset\n",
    "CNN_280x210_data_encoded_STD = standardizaion(CNN_280x210_data_encoded,'age')"
   ]
  },
  {
   "cell_type": "code",
   "execution_count": null,
   "metadata": {},
   "outputs": [],
   "source": [
    "pickle.dump(CNN_280x210_data_encoded_STD, open(G_path + '/CNN_Output/'+ 'CNN_280x210_Ouput', 'wb'))"
   ]
  },
  {
   "cell_type": "markdown",
   "metadata": {},
   "source": [
    "# **CNN: AutoEncoder, Get CNN OutPut (Soft-Max)**"
   ]
  },
  {
   "cell_type": "code",
   "execution_count": 13,
   "metadata": {},
   "outputs": [
    {
     "ename": "",
     "evalue": "",
     "output_type": "error",
     "traceback": [
      "\u001b[1;31mThe Kernel crashed while executing code in the the current cell or a previous cell. Please review the code in the cell(s) to identify a possible cause of the failure. Click <a href='https://aka.ms/vscodeJupyterKernelCrash'>here</a> for more info. View Jupyter <a href='command:jupyter.viewOutput'>log</a> for further details."
     ]
    },
    {
     "ename": "",
     "evalue": "",
     "output_type": "error",
     "traceback": [
      "\u001b[1;31mCanceled future for execute_request message before replies were done"
     ]
    }
   ],
   "source": [
    "model_ = Model_A_En\n",
    "Y_pred = torch.zeros(0)\n",
    "# X = torch.cat([A_E_input_data[0],A_E_input_data[1],A_E_input_data[2]],dim=0)\n",
    "for X in [A_E_input_data[0],A_E_input_data[1],A_E_input_data[2]]:\n",
    "    iter = X.shape[0] // 100\n",
    "    for i in range(iter+1):\n",
    "        X_ = X[i*100:(i+1)*100]\n",
    "        # print('iter: ',i)\n",
    "        # print(X.shape , Y_pred.shape)\n",
    "        Y_ = model_.forward_noDrop(X_)\n",
    "        Y_pred = torch.cat([Y_pred,Y_])\n",
    "X.shape , Y_pred.shape "
   ]
  },
  {
   "cell_type": "code",
   "execution_count": null,
   "metadata": {},
   "outputs": [],
   "source": [
    "Y_soft = torch.softmax(Y_pred, dim=1)"
   ]
  },
  {
   "cell_type": "code",
   "execution_count": 59,
   "metadata": {},
   "outputs": [],
   "source": [
    "df_CNN = pd.DataFrame(Y_pred.detach().numpy()).add_prefix('CNN_')\n",
    "meta_data_key = pd.concat([input_data[3][0],input_data[3][1],input_data[3][2]],axis=0).reset_index(drop=True)\n",
    "df_CNN = pd.concat([meta_data_key,df_CNN],axis=1).reset_index(drop=True)\n",
    "CNN_280x210_data = df_CNN.merge(Meta_Data_Augmented.drop(columns=['type','Unnamed: 0','age_mdf']) ,how='left', on='image_id')"
   ]
  },
  {
   "cell_type": "code",
   "execution_count": 14,
   "metadata": {},
   "outputs": [],
   "source": [
    "datasource = pd.concat([train_data,valid_data, test_data], axis=0).reset_index(drop=True)"
   ]
  },
  {
   "cell_type": "code",
   "execution_count": 15,
   "metadata": {},
   "outputs": [],
   "source": [
    "#Train data standardization\n",
    "datasource_std = np.stack(datasource['img_array'].values) / 255\n",
    "for i in range(0,datasource_std.shape[0]):\n",
    "    datasource_std[i] = (datasource_std[i] - Mean) / STD\n",
    "\n",
    "datasource_std_T = torch.tensor(datasource_std, dtype= torch.float32).transpose(3,1)\n",
    "\n"
   ]
  },
  {
   "cell_type": "code",
   "execution_count": 22,
   "metadata": {},
   "outputs": [],
   "source": [
    "model_ = Model_1.model.eval()\n",
    "datasource_CNN_out = model_(datasource_std_T)\n",
    "datasource_CNN_soft = torch.softmax(datasource_CNN_out,dim=1)\n",
    "df_CNN = pd.DataFrame(datasource_CNN_soft.detach().numpy()).add_prefix('CNN_')\n",
    "datasource_v2 = pd.concat([datasource,df_CNN],axis=1).reset_index(drop=True)"
   ]
  },
  {
   "cell_type": "markdown",
   "metadata": {},
   "source": [
    "**One-Hot Encoding**"
   ]
  },
  {
   "cell_type": "code",
   "execution_count": 26,
   "metadata": {},
   "outputs": [],
   "source": [
    "cols = ['localization','sex','dx_type']\n",
    "datasource_v2_OneHot = pd.get_dummies(datasource_v2, columns= cols).reset_index(drop=True)"
   ]
  },
  {
   "cell_type": "code",
   "execution_count": 27,
   "metadata": {},
   "outputs": [
    {
     "name": "stdout",
     "output_type": "stream",
     "text": [
      "<class 'pandas.core.frame.DataFrame'>\n",
      "RangeIndex: 4510 entries, 0 to 4509\n",
      "Data columns (total 33 columns):\n",
      " #   Column                        Non-Null Count  Dtype   \n",
      "---  ------                        --------------  -----   \n",
      " 0   image_id                      4510 non-null   object  \n",
      " 1   img_array                     4510 non-null   object  \n",
      " 2   lesion_id                     4510 non-null   object  \n",
      " 3   image_label                   4510 non-null   category\n",
      " 4   age                           4510 non-null   float64 \n",
      " 5   label_id                      4510 non-null   int8    \n",
      " 6   type                          4510 non-null   object  \n",
      " 7   CNN_0                         4510 non-null   float32 \n",
      " 8   CNN_1                         4510 non-null   float32 \n",
      " 9   CNN_2                         4510 non-null   float32 \n",
      " 10  CNN_3                         4510 non-null   float32 \n",
      " 11  CNN_4                         4510 non-null   float32 \n",
      " 12  CNN_5                         4510 non-null   float32 \n",
      " 13  CNN_6                         4510 non-null   float32 \n",
      " 14  localization_abdomen          4510 non-null   uint8   \n",
      " 15  localization_back             4510 non-null   uint8   \n",
      " 16  localization_chest            4510 non-null   uint8   \n",
      " 17  localization_ear              4510 non-null   uint8   \n",
      " 18  localization_face             4510 non-null   uint8   \n",
      " 19  localization_foot             4510 non-null   uint8   \n",
      " 20  localization_genital          4510 non-null   uint8   \n",
      " 21  localization_hand             4510 non-null   uint8   \n",
      " 22  localization_lower extremity  4510 non-null   uint8   \n",
      " 23  localization_neck             4510 non-null   uint8   \n",
      " 24  localization_scalp            4510 non-null   uint8   \n",
      " 25  localization_trunk            4510 non-null   uint8   \n",
      " 26  localization_upper extremity  4510 non-null   uint8   \n",
      " 27  sex_female                    4510 non-null   uint8   \n",
      " 28  sex_male                      4510 non-null   uint8   \n",
      " 29  dx_type_confocal              4510 non-null   uint8   \n",
      " 30  dx_type_consensus             4510 non-null   uint8   \n",
      " 31  dx_type_follow_up             4510 non-null   uint8   \n",
      " 32  dx_type_histo                 4510 non-null   uint8   \n",
      "dtypes: category(1), float32(7), float64(1), int8(1), object(4), uint8(19)\n",
      "memory usage: 392.5+ KB\n"
     ]
    }
   ],
   "source": [
    "datasource_v2_OneHot.info()"
   ]
  },
  {
   "cell_type": "code",
   "execution_count": 28,
   "metadata": {},
   "outputs": [],
   "source": [
    "pd.to_pickle(datasource_v2_OneHot, path+'DataSource_60x45_OneHot_CNN.pickle')"
   ]
  },
  {
   "cell_type": "code",
   "execution_count": null,
   "metadata": {},
   "outputs": [
    {
     "name": "stdout",
     "output_type": "stream",
     "text": [
      "<class 'pandas.core.frame.DataFrame'>\n",
      "RangeIndex: 4510 entries, 0 to 4509\n",
      "Data columns (total 33 columns):\n",
      " #   Column                        Non-Null Count  Dtype   \n",
      "---  ------                        --------------  -----   \n",
      " 0   image_id                      4510 non-null   object  \n",
      " 1   img_array                     4510 non-null   object  \n",
      " 2   lesion_id                     4510 non-null   object  \n",
      " 3   image_label                   4510 non-null   category\n",
      " 4   age                           4510 non-null   float64 \n",
      " 5   label_id                      4510 non-null   int8    \n",
      " 6   type                          4510 non-null   object  \n",
      " 7   CNN_0                         4510 non-null   float32 \n",
      " 8   CNN_1                         4510 non-null   float32 \n",
      " 9   CNN_2                         4510 non-null   float32 \n",
      " 10  CNN_3                         4510 non-null   float32 \n",
      " 11  CNN_4                         4510 non-null   float32 \n",
      " 12  CNN_5                         4510 non-null   float32 \n",
      " 13  CNN_6                         4510 non-null   float32 \n",
      " 14  localization_abdomen          4510 non-null   uint8   \n",
      " 15  localization_back             4510 non-null   uint8   \n",
      " 16  localization_chest            4510 non-null   uint8   \n",
      " 17  localization_ear              4510 non-null   uint8   \n",
      " 18  localization_face             4510 non-null   uint8   \n",
      " 19  localization_foot             4510 non-null   uint8   \n",
      " 20  localization_genital          4510 non-null   uint8   \n",
      " 21  localization_hand             4510 non-null   uint8   \n",
      " 22  localization_lower extremity  4510 non-null   uint8   \n",
      " 23  localization_neck             4510 non-null   uint8   \n",
      " 24  localization_scalp            4510 non-null   uint8   \n",
      " 25  localization_trunk            4510 non-null   uint8   \n",
      " 26  localization_upper extremity  4510 non-null   uint8   \n",
      " 27  sex_female                    4510 non-null   uint8   \n",
      " 28  sex_male                      4510 non-null   uint8   \n",
      " 29  dx_type_confocal              4510 non-null   uint8   \n",
      " 30  dx_type_consensus             4510 non-null   uint8   \n",
      " 31  dx_type_follow_up             4510 non-null   uint8   \n",
      " 32  dx_type_histo                 4510 non-null   uint8   \n",
      "dtypes: category(1), float32(7), float64(1), int8(1), object(4), uint8(19)\n",
      "memory usage: 392.5+ KB\n"
     ]
    }
   ],
   "source": [
    "datasource_v2_OneHot.info()"
   ]
  },
  {
   "cell_type": "markdown",
   "metadata": {},
   "source": [
    "**Ordinal Encoding**"
   ]
  },
  {
   "cell_type": "code",
   "execution_count": 31,
   "metadata": {},
   "outputs": [],
   "source": [
    "ord_enc = sk.preprocessing.OrdinalEncoder()\n",
    "datasource_v3_Ord = datasource_v2\n",
    "datasource_v3_Ord['sex'] = ord_enc.fit_transform(datasource_v3_Ord[['sex']])\n",
    "datasource_v3_Ord['localization'] = ord_enc.fit_transform(datasource_v3_Ord[['localization']])\n",
    "datasource_v3_Ord['dx_type'] = ord_enc.fit_transform(datasource_v3_Ord[['dx_type']])\n",
    "datasource_v3_Ord.reset_index(drop=True, inplace=True)"
   ]
  },
  {
   "cell_type": "code",
   "execution_count": 29,
   "metadata": {},
   "outputs": [],
   "source": [
    "def MinMaxScaling(dataset, attr):\n",
    "    min = dataset[dataset.type.str.contains('train|valid')][attr].min()\n",
    "    max = dataset[dataset.type.str.contains('train|valid')][attr].max()\n",
    "    dataset[attr] = (dataset[attr] - min ) / (max-min)\n",
    "    return dataset"
   ]
  },
  {
   "cell_type": "code",
   "execution_count": 36,
   "metadata": {},
   "outputs": [],
   "source": [
    "datasource_v3_Ord_Norm = datasource_v3_Ord.copy()\n",
    "datasource_v3_Ord_Norm = MinMaxScaling(datasource_v3_Ord_Norm , 'localization')\n",
    "datasource_v3_Ord_Norm = MinMaxScaling(datasource_v3_Ord_Norm , 'dx_type')"
   ]
  },
  {
   "cell_type": "code",
   "execution_count": null,
   "metadata": {},
   "outputs": [],
   "source": [
    "pd.to_pickle(datasource_v3_Ord, path+'DataSource_60x45_Ordinal_CNN.pickle' )"
   ]
  },
  {
   "cell_type": "markdown",
   "metadata": {},
   "source": []
  }
 ],
 "metadata": {
  "kernelspec": {
   "display_name": "Python 3.9.13 64-bit",
   "language": "python",
   "name": "python3"
  },
  "language_info": {
   "codemirror_mode": {
    "name": "ipython",
    "version": 3
   },
   "file_extension": ".py",
   "mimetype": "text/x-python",
   "name": "python",
   "nbconvert_exporter": "python",
   "pygments_lexer": "ipython3",
   "version": "3.9.13"
  },
  "vscode": {
   "interpreter": {
    "hash": "b0fa6594d8f4cbf19f97940f81e996739fb7646882a419484c72d19e05852a7e"
   }
  }
 },
 "nbformat": 4,
 "nbformat_minor": 4
}
