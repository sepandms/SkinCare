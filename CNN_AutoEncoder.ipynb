{
  "cells": [
    {
      "cell_type": "markdown",
      "metadata": {
        "id": "view-in-github",
        "colab_type": "text"
      },
      "source": [
        "<a href=\"https://colab.research.google.com/github/sepandms/SkinCare/blob/main/CNN_AutoEncoder.ipynb\" target=\"_parent\"><img src=\"https://colab.research.google.com/assets/colab-badge.svg\" alt=\"Open In Colab\"/></a>"
      ]
    },
    {
      "cell_type": "code",
      "source": [
        "from google.colab import drive\n",
        "drive.mount('/content/drive')\n",
        "G_path = '/content/drive/MyDrive/DataSources/SkinCare/'\n",
        "G_Aug = '/content/drive/MyDrive/DataSources/SkinCare/Augmented_AutoEncoded'\n",
        "G_save = G_path + 'Saved/'\n",
        "!pip install pickle5"
      ],
      "metadata": {
        "id": "MzRoZIkXDiT7",
        "outputId": "515c0e5f-e248-4c13-85c1-6c30b39cd604",
        "colab": {
          "base_uri": "https://localhost:8080/"
        }
      },
      "execution_count": null,
      "outputs": [
        {
          "output_type": "stream",
          "name": "stdout",
          "text": [
            "Drive already mounted at /content/drive; to attempt to forcibly remount, call drive.mount(\"/content/drive\", force_remount=True).\n",
            "Looking in indexes: https://pypi.org/simple, https://us-python.pkg.dev/colab-wheels/public/simple/\n",
            "Requirement already satisfied: pickle5 in /usr/local/lib/python3.7/dist-packages (0.0.12)\n"
          ]
        }
      ]
    },
    {
      "cell_type": "code",
      "execution_count": null,
      "metadata": {
        "id": "-UIaVWyAKtln"
      },
      "outputs": [],
      "source": [
        "# For Google Colab\n",
        "\n",
        "# file_link = \"https://drive.google.com/file/d/1oDoZz3baGVaX6pZwHfxi0W8SNymKcLzL\"\n",
        "# #name = 'DataSource_60x45_blc_noDup.pkl'\n",
        "# #!wget -O {name} {file_link} -N\n",
        "# !wget --content-disposition {file_link}  "
      ]
    },
    {
      "cell_type": "code",
      "execution_count": null,
      "metadata": {
        "id": "VZrZXitoAlDd"
      },
      "outputs": [],
      "source": [
        "import torch\n",
        "import torch.nn as nn\n",
        "import torch.nn.functional as F\n",
        "import torchvision\n",
        "import torchvision.transforms as transforms\n",
        "#import torchvision.transforms.Compose\n",
        "import numpy as np\n",
        "from datetime import datetime\t\n",
        "import random\n",
        "import matplotlib.pyplot as plt\n",
        "import seaborn as sns\n",
        "from torch.utils.data import random_split\n",
        "from torch.utils.data import SubsetRandomSampler\n",
        "import time\n",
        "from tqdm import tqdm\n",
        "import pickle as pickle\n",
        "from statistics import mean\n",
        "import pandas as pd\n",
        "import sklearn as sk\n",
        "from sklearn.model_selection import train_test_split\n",
        "device = torch.device(\"cuda\" if torch.cuda.is_available() else 'mps' if torch.backends.mps.is_available() else \"cpu\")\n",
        "from sklearn.utils import resample\n",
        "import warnings\n",
        "warnings.filterwarnings('ignore')\n",
        "path = '/Users/sepehrbe/DataSources/Kaggle/SkinCare/Data/Pickle_Data/'\n",
        "p_models = '/Users/sepehrbe/DataSources/Kaggle/SkinCare/Models/Saved/'"
      ]
    },
    {
      "cell_type": "code",
      "execution_count": null,
      "metadata": {
        "id": "EmItAdeAIgc7"
      },
      "outputs": [],
      "source": [
        "#file = 'test1.pkl' \n",
        "file = 'DataSource_60x45_Red_noDup' \n",
        "try:\n",
        "    infile = open(G_path+file,'rb') # for google colab\n",
        "except:\n",
        "    infile = open(path+file,'rb') # for M1\n",
        "data = pickle.load(infile)"
      ]
    },
    {
      "cell_type": "code",
      "execution_count": null,
      "metadata": {
        "colab": {
          "base_uri": "https://localhost:8080/"
        },
        "id": "mTyd2fE_AlDe",
        "outputId": "c066b456-a55d-499f-9534-593ca8ff19a5"
      },
      "outputs": [
        {
          "output_type": "stream",
          "name": "stdout",
          "text": [
            "Train size:  2515  Valid Size:  280  Test size:  311\n"
          ]
        }
      ],
      "source": [
        "train_data = data[data.type=='train']\n",
        "valid_data = data[data.type=='valid']\n",
        "test_data = data[data.type=='test']\n",
        "\n",
        "training_data = pd.concat([train_data,valid_data], axis=0)\n",
        "print('Train size: ',train_data.shape[0] ,' Valid Size: ',valid_data.shape[0], ' Test size: ', test_data.shape[0])"
      ]
    },
    {
      "cell_type": "markdown",
      "metadata": {
        "id": "0vf3zc_8AlDe"
      },
      "source": [
        "# **Standardize Train and Validation data**"
      ]
    },
    {
      "cell_type": "code",
      "execution_count": null,
      "metadata": {
        "colab": {
          "base_uri": "https://localhost:8080/"
        },
        "id": "DfwnXL7VAlDf",
        "outputId": "484413c2-fe7f-4b50-9174-8dbd635c1fd0"
      },
      "outputs": [
        {
          "output_type": "stream",
          "name": "stdout",
          "text": [
            "Mean : [0.74871633 0.55470322 0.58015536]   STD: [0.13842184 0.14674472 0.16264732]\n"
          ]
        }
      ],
      "source": [
        "training_arrays = np.stack(training_data['img_array'].values)  \n",
        "training_arrays_scaled = training_arrays / 255\n",
        "Mean = training_arrays_scaled.mean(axis = (0,1,2)) \n",
        "STD = training_arrays_scaled.std(axis = (0,1,2))\n",
        "print(f\"Mean : {Mean}   STD: {STD}\") "
      ]
    },
    {
      "cell_type": "code",
      "execution_count": null,
      "metadata": {
        "id": "tDkgbyk2AlDf"
      },
      "outputs": [],
      "source": [
        "#Train data standardization\n",
        "train_arrays_std = np.stack(train_data['img_array'].values) / 255\n",
        "for i in range(0,train_arrays_std.shape[0]):\n",
        "    train_arrays_std[i] = (train_arrays_std[i] - Mean) / STD\n",
        "#Validation data standardization\n",
        "valid_arrays_std = np.stack(valid_data['img_array'].values) / 255\n",
        "for i in range(0,valid_arrays_std.shape[0]):\n",
        "    valid_arrays_std[i] = (valid_arrays_std[i] - Mean) / STD\n",
        "#Test data standardization\n",
        "test_arrays_std = np.stack(test_data['img_array'].values) / 255\n",
        "for i in range(0,test_arrays_std.shape[0]):\n",
        "    test_arrays_std[i] = (test_arrays_std[i] - Mean) / STD"
      ]
    },
    {
      "cell_type": "code",
      "execution_count": null,
      "metadata": {
        "colab": {
          "base_uri": "https://localhost:8080/"
        },
        "id": "v739KGr7AlDf",
        "outputId": "b502c034-cc7a-4570-8201-ffc044ab244d"
      },
      "outputs": [
        {
          "output_type": "stream",
          "name": "stdout",
          "text": [
            "Mean : [-0.00039832  0.00069404 -0.00087332]   STD: [1.00120869 1.00011295 1.00130404]\n"
          ]
        }
      ],
      "source": [
        "Mean_t = train_arrays_std.mean(axis = (0,1,2)) \n",
        "STD_t = train_arrays_std.std(axis = (0,1,2))\n",
        "print(f\"Mean : {Mean_t}   STD: {STD_t}\") "
      ]
    },
    {
      "cell_type": "code",
      "execution_count": null,
      "metadata": {
        "id": "o2RHmNlcAlDf"
      },
      "outputs": [],
      "source": [
        "train_arrays_std_T = torch.tensor(train_arrays_std, dtype= torch.float32).transpose(3,1)\n",
        "train_labels = torch.tensor(train_data['label_id'].values.astype(np.long))\n",
        "\n",
        "valid_arrays_std_T = torch.tensor(valid_arrays_std, dtype= torch.float32).transpose(3,1)\n",
        "valid_labels = torch.tensor(valid_data['label_id'].values.astype(np.long))\n",
        "\n",
        "test_arrays_std_T = torch.tensor(test_arrays_std, dtype= torch.float32).transpose(3,1)\n",
        "test_labels = torch.tensor(test_data['label_id'].values.astype(np.long))\n",
        "\n",
        "input_data = (train_arrays_std_T , valid_arrays_std_T, test_arrays_std_T , torch.cat((train_arrays_std_T,valid_arrays_std_T),0),torch.cat((train_arrays_std_T,valid_arrays_std_T,test_arrays_std_T),0) )\n",
        "labels = (train_labels,valid_labels,test_labels , torch.cat((train_labels,valid_labels),0), torch.cat((train_labels,valid_labels,test_labels),0))"
      ]
    },
    {
      "cell_type": "markdown",
      "metadata": {
        "id": "nqCBXtetAlDf"
      },
      "source": [
        "# **Show some Images**"
      ]
    },
    {
      "cell_type": "code",
      "execution_count": null,
      "metadata": {
        "colab": {
          "base_uri": "https://localhost:8080/",
          "height": 1000
        },
        "id": "e3W89pUsAlDf",
        "outputId": "ea8578de-64c5-4032-d07a-bb122cfa371a"
      },
      "outputs": [
        {
          "output_type": "stream",
          "name": "stdout",
          "text": [
            "--------Original Image----------\n",
            "i:  ISIC_0031550\n",
            "Image:1353, target:mel\n"
          ]
        },
        {
          "output_type": "display_data",
          "data": {
            "text/plain": [
              "<Figure size 432x288 with 1 Axes>"
            ],
            "image/png": "[encoded data removed]"
          },
          "metadata": {
            "needs_background": "light"
          }
        },
        {
          "output_type": "stream",
          "name": "stderr",
          "text": [
            "Clipping input data to the valid range for imshow with RGB data ([0..1] for floats or [0..255] for integers).\n"
          ]
        },
        {
          "output_type": "stream",
          "name": "stdout",
          "text": [
            "---------Normilized Image---------\n"
          ]
        },
        {
          "output_type": "display_data",
          "data": {
            "text/plain": [
              "<Figure size 432x288 with 1 Axes>"
            ],
            "image/png": "[encoded data removed]"
          },
          "metadata": {
            "needs_background": "light"
          }
        },
        {
          "output_type": "stream",
          "name": "stdout",
          "text": [
            "###################################\n",
            "--------Original Image----------\n",
            "i:  ISIC_0024700\n",
            "Image:1145, target:mel\n"
          ]
        },
        {
          "output_type": "display_data",
          "data": {
            "text/plain": [
              "<Figure size 432x288 with 1 Axes>"
            ],
            "image/png": "[encoded data removed]"
          },
          "metadata": {
            "needs_background": "light"
          }
        },
        {
          "output_type": "stream",
          "name": "stdout",
          "text": [
            "---------Normilized Image---------\n"
          ]
        },
        {
          "output_type": "stream",
          "name": "stderr",
          "text": [
            "Clipping input data to the valid range for imshow with RGB data ([0..1] for floats or [0..255] for integers).\n"
          ]
        },
        {
          "output_type": "display_data",
          "data": {
            "text/plain": [
              "<Figure size 432x288 with 1 Axes>"
            ],
            "image/png": "[encoded data removed]"
          },
          "metadata": {
            "needs_background": "light"
          }
        },
        {
          "output_type": "stream",
          "name": "stdout",
          "text": [
            "###################################\n",
            "--------Original Image----------\n",
            "i:  ISIC_0026984\n",
            "Image:900, target:akiec\n"
          ]
        },
        {
          "output_type": "display_data",
          "data": {
            "text/plain": [
              "<Figure size 432x288 with 1 Axes>"
            ],
            "image/png": "[encoded data removed]"
          },
          "metadata": {
            "needs_background": "light"
          }
        },
        {
          "output_type": "stream",
          "name": "stderr",
          "text": [
            "Clipping input data to the valid range for imshow with RGB data ([0..1] for floats or [0..255] for integers).\n"
          ]
        },
        {
          "output_type": "stream",
          "name": "stdout",
          "text": [
            "---------Normilized Image---------\n"
          ]
        },
        {
          "output_type": "display_data",
          "data": {
            "text/plain": [
              "<Figure size 432x288 with 1 Axes>"
            ],
            "image/png": "[encoded data removed]"
          },
          "metadata": {
            "needs_background": "light"
          }
        },
        {
          "output_type": "stream",
          "name": "stdout",
          "text": [
            "###################################\n"
          ]
        }
      ],
      "source": [
        "for i in np.random.choice(train_data.shape[0], 3, replace=False):\n",
        "  print(\"--------Original Image----------\")\n",
        "  print('i: ', train_data['image_id'].iloc[i])\n",
        "  image1 = torch.from_numpy(train_data['img_array'].iloc[i])\n",
        "  print(\"Image:{}, target:{}\".format(i, train_data['image_label'].iloc[i]))\n",
        "  plt.imshow(image1, interpolation='nearest')\n",
        "  plt.show()\n",
        "  print(\"---------Normilized Image---------\")\n",
        "  image2 = train_arrays_std[i]\n",
        "  plt.imshow(image2, interpolation='nearest')\n",
        "  plt.show()\n",
        "  print(\"###################################\")"
      ]
    },
    {
      "cell_type": "markdown",
      "metadata": {
        "id": "GgLTtyx5uw6b"
      },
      "source": [
        "### **1.2 Nets**"
      ]
    },
    {
      "cell_type": "code",
      "execution_count": null,
      "metadata": {
        "id": "_oz6q7CYAlDg"
      },
      "outputs": [],
      "source": [
        "class CNN_Nets:\n",
        "\n",
        "  class Net1(nn.Module):\n",
        "      def __init__(self):\n",
        "          super().__init__()\n",
        "          self.conv1 = nn.Conv2d( in_channels=3 , out_channels=32 , kernel_size=(3, 3))\n",
        "          self.conv2 = nn.Conv2d( in_channels=32, out_channels=32 , kernel_size=(3, 3))\n",
        "          self.pool1 = nn.MaxPool2d( kernel_size = (2,2), stride = None, padding = 0 )\n",
        "          self.conv3 = nn.Conv2d( in_channels=32, out_channels=64 , kernel_size=(3, 3))\n",
        "          self.conv4 = nn.Conv2d( in_channels=64, out_channels=64 , kernel_size=(3, 3))\n",
        "          self.pool2 = nn.MaxPool2d( kernel_size = (2,2), stride = None, padding = 0 )\n",
        "          self.fc1   = nn.Linear(in_features= 6144 , out_features = 512)\n",
        "          self.fc2   = nn.Linear(in_features= 512, out_features = 7)\n",
        "          self.Act   = nn.ReLU(inplace=True)\n",
        "      def forward(self, x):\n",
        "          out = self.Act(self.conv1(x))\n",
        "          out = self.Act(self.conv2(out))\n",
        "          out = self.Act(self.pool1(out))\n",
        "          out = self.Act(self.conv3(out))\n",
        "          out = self.Act(self.conv4(out))\n",
        "          out = self.Act(self.pool2(out))\n",
        "          out = torch.flatten(out, 1) \n",
        "          out = self.Act(self.fc1(out))\n",
        "          out = self.Act(self.fc2(out))\n",
        "          # out = nn.Softmax(out)\n",
        "          return out\n",
        "\n",
        "  class Net2(nn.Module):\n",
        "      def __init__(self):\n",
        "          super().__init__()\n",
        "          self.conv1 = nn.Conv2d( in_channels=3 , out_channels=32 , kernel_size=(3, 3))\n",
        "          self.pool1 = nn.MaxPool2d( kernel_size = (2,2), stride = None, padding = 0 )\n",
        "          self.conv3 = nn.Conv2d( in_channels=32, out_channels=64 , kernel_size=(3, 3))\n",
        "          self.pool2 = nn.MaxPool2d( kernel_size = (2,2), stride = None, padding = 0 )\n",
        "          self.fc1   = nn.Linear(in_features= 7488 , out_features = 512)\n",
        "          self.fc2   = nn.Linear(in_features= 512, out_features = 7)\n",
        "          self.Act   = nn.ReLU(inplace=True)\n",
        "      def forward(self, x):\n",
        "          out = self.Act(self.conv1(x))\n",
        "          out = self.Act(self.pool1(out))\n",
        "          out = self.Act(self.conv3(out))\n",
        "          out = self.Act(self.pool2(out))\n",
        "          out = torch.flatten(out, 1) \n",
        "          out = self.Act(self.fc1(out))\n",
        "          out = self.Act(self.fc2(out))\n",
        "          return out\n",
        "\n",
        "  class Net3(nn.Module):\n",
        "      def __init__(self):\n",
        "          super().__init__()\n",
        "          self.conv1 = nn.Conv2d( in_channels=3 , out_channels=16 , kernel_size=(3, 3))\n",
        "          self.pool1 = nn.MaxPool2d( kernel_size = (3,3), stride = None, padding = 0 )\n",
        "          self.conv2 = nn.Conv2d( in_channels=16, out_channels=24 , kernel_size=(3, 3))\n",
        "          self.pool2 = nn.MaxPool2d( kernel_size = (3,3), stride = None, padding = 0 )\n",
        "          self.fc1   = nn.Linear(in_features= 480 , out_features = 256)\n",
        "          self.fc2   = nn.Linear(in_features= 256, out_features = 7)\n",
        "          self.Act   = nn.LeakyReLU(inplace=True)\n",
        "          self.dropout = nn.Dropout(0.3)\n",
        "      def forward(self, x):\n",
        "          out = self.Act(self.conv1(x))\n",
        "          out = self.Act(self.pool1(out))\n",
        "          out = self.dropout(out)\n",
        "          out = self.Act(self.conv2(out))\n",
        "          out = self.Act(self.pool2(out))\n",
        "          out = self.dropout(out)\n",
        "          out = torch.flatten(out, 1) \n",
        "          out = self.Act(self.fc1(out))\n",
        "          out = self.fc2(out)\n",
        "          return out\n",
        "\n",
        "  class Net4(nn.Module):\n",
        "      def __init__(self):\n",
        "          super().__init__()\n",
        "          self.conv1 = nn.Conv2d( in_channels=3 , out_channels=16 , kernel_size=(3, 3))\n",
        "          self.pool1 = nn.MaxPool2d( kernel_size = (3,3), stride = 1, padding = 0 )\n",
        "          self.conv2 = nn.Conv2d( in_channels=16, out_channels=24 , kernel_size=(3, 3))\n",
        "          self.pool2 = nn.MaxPool2d( kernel_size = (3,3), stride = 1, padding = 0 )\n",
        "          self.fc1   = nn.Linear(in_features= 46176 , out_features = 256)\n",
        "          self.fc2   = nn.Linear(in_features= 256, out_features = 7)\n",
        "          self.Act   = nn.LeakyReLU(inplace=True)\n",
        "          self.dropout = nn.Dropout(0.3)\n",
        "      def forward(self, x):\n",
        "          out = self.Act(self.conv1(x))\n",
        "          out = self.Act(self.pool1(out))\n",
        "          out = self.dropout(out)\n",
        "          out = self.Act(self.conv2(out))\n",
        "          out = self.Act(self.pool2(out))\n",
        "          out = self.dropout(out)\n",
        "          out = torch.flatten(out, 1) \n",
        "          out = self.Act(self.fc1(out))\n",
        "          out = self.fc2(out)\n",
        "          return out\n",
        "\n",
        "  class Net5(nn.Module):\n",
        "      def __init__(self):\n",
        "          super().__init__()\n",
        "          self.conv1 = nn.Conv2d( in_channels=3 , out_channels=24 , kernel_size=(3, 3))\n",
        "          self.pool1 = nn.MaxPool2d( kernel_size = (3,3), stride = 1, padding = 0 )\n",
        "          self.fc1   = nn.Linear(in_features= 55104 , out_features = 7)\n",
        "          self.Act   = nn.LeakyReLU(inplace=True)\n",
        "          self.dropout = nn.Dropout(0.3)\n",
        "      def forward(self, x):\n",
        "          out = self.Act(self.conv1(x))\n",
        "          out = self.Act(self.pool1(out))\n",
        "          out = self.dropout(out)\n",
        "          out = torch.flatten(out, 1) \n",
        "          out = self.fc1(out)\n",
        "          return out\n",
        "\n",
        "  class Net6(nn.Module):\n",
        "      def __init__(self):\n",
        "          super().__init__()\n",
        "          self.conv1 = nn.Conv2d( in_channels=3 , out_channels=24 , kernel_size=(3, 3))\n",
        "          self.pool1 = nn.MaxPool2d( kernel_size = (3,3), stride = 1, padding = 0 )\n",
        "          self.fc1   = nn.Linear(in_features= 55104 , out_features = 256)\n",
        "          self.fc2   = nn.Linear(in_features= 256 , out_features = 7)\n",
        "          self.Act   = nn.LeakyReLU(inplace=True)\n",
        "          self.dropout = nn.Dropout(0.3)\n",
        "      def forward(self, x):\n",
        "          out = self.Act(self.conv1(x))\n",
        "          out = self.Act(self.pool1(out))\n",
        "          out = self.dropout(out)\n",
        "          out = torch.flatten(out, 1) \n",
        "          out = self.Act(self.fc1(out))\n",
        "          out = self.fc2(out)\n",
        "          return out"
      ]
    },
    {
      "cell_type": "markdown",
      "metadata": {
        "id": "P5Zfb1SkAlDg"
      },
      "source": [
        "# **Test Nets**"
      ]
    },
    {
      "cell_type": "code",
      "execution_count": null,
      "metadata": {
        "colab": {
          "base_uri": "https://localhost:8080/"
        },
        "id": "OJTfTtmfAlDg",
        "outputId": "0b84e57c-259a-4b81-8a1a-085e32ffca2c"
      },
      "outputs": [
        {
          "output_type": "execute_result",
          "data": {
            "text/plain": [
              "torch.Size([5, 7])"
            ]
          },
          "metadata": {},
          "execution_count": 135
        }
      ],
      "source": [
        "model_test = CNN_Nets.Net6()\n",
        "X_ = input_data[0][0:5]\n",
        "out = model_test(X_)\n",
        "out.shape"
      ]
    },
    {
      "cell_type": "markdown",
      "metadata": {
        "id": "XWC5a989AlDg"
      },
      "source": [
        "# **Confusion-Matrix & Accuracy**"
      ]
    },
    {
      "cell_type": "code",
      "execution_count": null,
      "metadata": {
        "id": "pBE96mxDAlDg"
      },
      "outputs": [],
      "source": [
        "def confusion_matrix(Y,Y_pred):\n",
        "    CM = sk.metrics.confusion_matrix(Y,Y_pred)\n",
        "    print('Nr. of Data : \\n', CM.sum())\n",
        "    print('Accuracy of The Model : \\n', np.diag(CM).sum()/CM.sum())\n",
        "    # print('Confusion Matrix : \\n', CM)\n",
        "    # print('Weighted Avg. of sensitivity : \\n', np.average(np.nan_to_num(sensitivity), weights=weights))\n",
        "    # print('Weighted Avg. of specificity : \\n', np.average(np.nan_to_num(specificity), weights=weights))\n",
        "    sk.metrics.ConfusionMatrixDisplay(CM).plot()\n",
        "    # print('------- Precision recal %--------')\n",
        "    # print(sk.metrics.classification_report(Y,Y_pred))\n",
        "    # print('------- confusion matrix--------')\n",
        "\n",
        "    FP = CM.sum(axis=0) - np.diag(CM) \n",
        "    FN = CM.sum(axis=1) - np.diag(CM)\n",
        "    TP = np.diag(CM)\n",
        "    TN = CM.sum() - (FP + FN + TP)\n",
        "    weights = CM.sum(axis=1) / CM.sum() \n",
        "    ACC = np.nan_to_num((TP+TN)/(TP+FP+FN+TN) , nan=0)\n",
        "    Recall_Sensitivity = np.nan_to_num(TP/(TP+FN) , nan=0)\n",
        "    Specificity = np.nan_to_num(TN/(TN+FP) , nan=0)\n",
        "    Precision = np.nan_to_num(TP/(TP+FP) , nan=0)\n",
        "    f1_score = np.nan_to_num( 2*Precision*Recall_Sensitivity / (Recall_Sensitivity + Precision), nan=0)\n",
        "    Performance_DF = pd.concat([pd.DataFrame(CM),pd.DataFrame(weights, columns=['weights']),pd.DataFrame(Precision, columns=['Precision']),pd.DataFrame(Recall_Sensitivity,columns=['Recall_Sensitivity'])\n",
        "        ,pd.DataFrame(Specificity, columns=['Specificity']),pd.DataFrame(f1_score, columns=['f1_score'])], axis=1)\n",
        "    total_row1 = pd.Series({'Precision':mean(Precision),'Recall_Sensitivity':mean(Recall_Sensitivity),'Specificity':mean(Specificity),'f1_score':mean(f1_score)}, name='Simple Avg.')\n",
        "    total_row2 = pd.Series({'Precision':sum(weights*Precision),'Recall_Sensitivity':sum(weights*Recall_Sensitivity),'Specificity':sum(weights*Specificity),'f1_score':sum(weights*f1_score)}, name='Weighted Avg.')\n",
        "    Performance_DF = Performance_DF.append([total_row1,total_row2])\n",
        "    cols = ['weights','Precision','Recall_Sensitivity','Specificity','f1_score']\n",
        "    per_details = Performance_DF[cols].style.format({'weights': \"{:.1%}\",'Precision': \"{:.1%}\",'Recall_Sensitivity': \"{:.1%}\",'Specificity': \"{:.1%}\",'f1_score': \"{:.1%}\"})\n",
        "    return per_details"
      ]
    },
    {
      "cell_type": "markdown",
      "metadata": {
        "id": "4XV23bjxXUi7",
        "tags": []
      },
      "source": [
        "### **1.3 Training**"
      ]
    },
    {
      "cell_type": "code",
      "execution_count": null,
      "metadata": {
        "id": "9cbadb2d"
      },
      "outputs": [],
      "source": [
        "class Model_Training:\n",
        "\n",
        "    def __init__(self, Net, LR, batch_size , Momentum, epochs, weight_decay, loss_func, opt_func, X_train, Y_train, X_valid, Y_valid, print_epochs,hyper_params):    \n",
        "        \n",
        "        self.model = Net().to(device)\n",
        "        if opt_func is torch.optim.Adam:\n",
        "            self.opt = opt_func(self.model.parameters(), lr=LR, weight_decay=weight_decay)\n",
        "        else:\n",
        "            self.opt = opt_func(self.model.parameters(), lr=LR,momentum=Momentum, weight_decay=weight_decay)\n",
        "\n",
        "        self.loss_func = loss_func()\n",
        "        self.epochs = epochs\n",
        "        self.print_epochs = print_epochs\n",
        "        self.X_train = X_train.to(device)\n",
        "        self.Y_train = Y_train.to(device)\n",
        "        self.X_valid = X_valid.to(device)\n",
        "        self.Y_valid = Y_valid.to(device)\n",
        "        self.batch_size = batch_size\n",
        "        self.Epochs_Train_loss = []\n",
        "        self.Epochs_Train_Acc = []\n",
        "        self.Epochs_Val_loss = []\n",
        "        self.Epochs_Val_Acc = []\n",
        "        self.hyper_params = hyper_params\n",
        "\n",
        "    def train(self):\n",
        "        \n",
        "        model = self.model\n",
        "        loss_fn = self.loss_func\n",
        "        opt = self.opt \n",
        "        batch_size = self.batch_size\n",
        "        nr_of_steps_train =  self.X_train.shape[0]//self.batch_size \n",
        "        nr_of_steps_valid =  self.X_valid.shape[0]//self.batch_size \n",
        "\n",
        "        for epoch in range(1, self.epochs+1 ):\n",
        "            start_time=time.time()\n",
        "            steps_train_loss = []\n",
        "            steps_train_Acc = []\n",
        "            steps_val_loss = []\n",
        "            steps_val_Acc = []\n",
        "\n",
        "            for i in range(0, nr_of_steps_train ):#train_arrays_std.shape[0]):\n",
        "                X = self.X_train[i* batch_size:(i+1) * batch_size]\n",
        "                Y = self.Y_train[i * batch_size:(i+1) * batch_size]\n",
        "                opt.zero_grad()\n",
        "                model.train()\n",
        "                y_pred = model.forward(X)\n",
        "                loss = loss_fn(y_pred, Y)\n",
        "                loss.backward()\n",
        "                opt.step()\n",
        "                y_pred_labels = y_pred.argmax(axis=1)\n",
        "                nr_of_corrects = (y_pred_labels == Y).sum().item()\n",
        "                step_acc = nr_of_corrects / batch_size\n",
        "                steps_train_Acc.append(step_acc)\n",
        "                steps_train_loss.append(loss.item())\n",
        "\n",
        "                # if (i+1) % 200 == 0:    # print every 2000 mini-batches\n",
        "                #     print('[Epoch: {}, Nr. Batch: {}]  , Train-Steps-loss: {:.1f} , running_acc: {:.1%}'.format(epoch , i+1 , train_steps_loss , batch_nr_correct / train_nr_total))\n",
        "                #     self.train_steps_acc = []\n",
        "                #     train_steps_loss = 0\n",
        "\n",
        "              #validation loss calculation\n",
        "            for j in range(0,nr_of_steps_valid):\n",
        "\n",
        "                val_X = self.X_valid[j*batch_size:(j+1)*batch_size]\n",
        "                val_Y = self.Y_valid[j*batch_size:(j+1)*batch_size]\n",
        "                model.eval()\n",
        "                # val_inputs = val_inputs.to(device)\n",
        "                # val_labels = val_labels.to(device)\n",
        "                val_outputs = model(val_X)\n",
        "                val_loss = loss_fn(val_outputs, val_Y)\n",
        "                val_epoch_loss = val_loss.item()\n",
        "                val_outputs_lbs= val_outputs.argmax(axis=1)\n",
        "                val_nr_correct = (val_outputs_lbs == val_Y).sum().item()\n",
        "                step_acc = val_nr_correct / batch_size\n",
        "                steps_val_Acc.append(step_acc)\n",
        "                steps_val_loss.append(val_epoch_loss)\n",
        "            \n",
        "            # Epoch Performance Metrics\n",
        "            train_epoch_loss = mean(steps_train_loss)\n",
        "            train_epoch_Acc = mean(steps_train_Acc)\n",
        "            self.Epochs_Train_loss.append(train_epoch_loss)\n",
        "            self.Epochs_Train_Acc.append(train_epoch_Acc)   \n",
        "            val_epoch_loss = mean(steps_val_loss)\n",
        "            val_epoch_Acc = mean(steps_val_Acc)\n",
        "            self.Epochs_Val_loss.append(val_epoch_loss)\n",
        "            self.Epochs_Val_Acc.append(val_epoch_Acc)\n",
        "            End_time = time.time() \n",
        "            if self.print_epochs:\n",
        "                print('[Epoch: {}]  , Train_loss: {:.1f} , Train_Acc: {:.1%}, Val_loss: {:.1f} , Val_Acc: {:.1%} , run time: {}'.format(epoch , train_epoch_loss , train_epoch_Acc , val_epoch_loss , val_epoch_Acc, np.round(End_time - start_time, 2)))\n",
        "            \n",
        "        # print('Finished Training')"
      ]
    },
    {
      "cell_type": "markdown",
      "metadata": {
        "id": "0w-7sG3Slop1"
      },
      "source": [
        "# **Define Training data**"
      ]
    },
    {
      "cell_type": "code",
      "execution_count": null,
      "metadata": {
        "id": "VcVMyCfZlwHO"
      },
      "outputs": [],
      "source": [
        "X_train = input_data[3]\n",
        "Y_train = labels[3]\n",
        "X_valid = input_data[2]\n",
        "Y_valid = labels[2]\n",
        "X_test = input_data[2]\n",
        "Y_test = labels[2]"
      ]
    },
    {
      "cell_type": "markdown",
      "metadata": {
        "id": "geKyTRJ8AlDh"
      },
      "source": [
        "# **Model by Grid**"
      ]
    },
    {
      "cell_type": "code",
      "execution_count": null,
      "metadata": {
        "id": "VL5FxPLAAlDi"
      },
      "outputs": [],
      "source": [
        "# Net = [CNN_Net3,CNN_Net4,CNN_Net5,CNN_Net6]\n",
        "# LR = [ 5e-2,1e-3,1.5e-3,2e-3,1e-4]#,0.0025,0.003]\n",
        "# batch_size = [32,50]\n",
        "# Momentum = [0.7,0.75,0.8,0.85,0.9,0.95]\n",
        "# epochs = [60]\n",
        "# weight_decay = [0,1e-5,1e-6,1e-7]\n",
        "# loss_func  =  [nn.CrossEntropyLoss]\n",
        "# opt_func = [torch.optim.SGD]\n",
        "\n",
        "Net = [CNN_Net3]\n",
        "LR = [ 2e-3,2.2e-3]#,0.0025,0.003]\n",
        "batch_size = [30]\n",
        "Momentum = [0.82,0.85]\n",
        "epochs = [75,120]\n",
        "weight_decay = [1e-7]\n",
        "loss_func  =  [nn.CrossEntropyLoss]\n",
        "opt_func = [torch.optim.SGD]\n",
        "\n",
        "\n",
        "grid = {\n",
        "    'Net' : Net\n",
        "    ,'LR' : LR\n",
        "    ,'batch_size' : batch_size\n",
        "    ,'Momentum' : Momentum\n",
        "    ,'epochs' : epochs\n",
        "    ,'weight_decay' :weight_decay\n",
        "    ,'loss_func'  :loss_func\n",
        "    ,'opt_func' : opt_func\n",
        "}\n",
        "params = sk.model_selection.ParameterGrid(grid)"
      ]
    },
    {
      "cell_type": "code",
      "execution_count": null,
      "metadata": {
        "id": "hEkHc_7xAlDi",
        "colab": {
          "base_uri": "https://localhost:8080/"
        },
        "outputId": "90da50df-79e2-4d86-864e-2233caa844d4"
      },
      "outputs": [
        {
          "output_type": "stream",
          "name": "stderr",
          "text": [
            "Test Accuracy 0.6527331189710611: 100%|███████████████████████████████| 8/8 [03:28<00:00, 26.07s/it]\n"
          ]
        }
      ],
      "source": [
        "Hyper_Details = pd.DataFrame(columns=['hyper_param','train_accuracy','valid_accuracy','test_accuracy','train_fscore','valid_fscore','test_fscore','train_precision','valid_precision','test_precision'\n",
        "                                    ,'train_recall','valid_recall','test_recall'])\n",
        "                                    \n",
        "print_epochs = False\n",
        "\n",
        "pbar = tqdm(params, ncols = 100, desc =\"Parameter-Level\")\n",
        "for p in pbar:\n",
        "    Model_ = Model_Training(**p, X_train = X_train , Y_train = Y_train, X_valid = X_valid , Y_valid= Y_valid, print_epochs = print_epochs,hyper_params=p)\n",
        "    np.random.seed(0)\n",
        "    random.seed(0)\n",
        "    torch.manual_seed(0)\n",
        "    Model_.train()\n",
        "    \n",
        "    model_ = Model_.model.eval()\n",
        "\n",
        "    # Train\n",
        "    Y_pred = model_(X_train.to(device)).argmax(axis=1)\n",
        "    Y = Y_train\n",
        "    train_accuracy = sk.metrics.accuracy_score(Y_pred.to('cpu'),Y.to('cpu') )\n",
        "\n",
        "    train_precision, train_recall, train_fscore, m = sk.metrics.precision_recall_fscore_support(Y_pred.to('cpu'),Y.to('cpu'), average = 'weighted')\n",
        "\n",
        "    # Valid\n",
        "    Y_pred = model_(X_valid.to(device)).argmax(axis=1)\n",
        "    Y = Y_valid\n",
        "    valid_accuracy = sk.metrics.accuracy_score(Y_pred.to('cpu'),Y.to('cpu') )\n",
        "    valid_precision, valid_recall, valid_fscore, m = sk.metrics.precision_recall_fscore_support(Y_pred.to('cpu'),Y.to('cpu'), average = 'weighted')\n",
        "\n",
        "    # Test\n",
        "    Y_pred = model_(X_test.to(device)).argmax(axis=1)\n",
        "    Y = Y_test\n",
        "    test_accuracy = sk.metrics.accuracy_score(Y_pred.to('cpu'),Y.to('cpu') )\n",
        "    test_precision, test_recall, test_fscore, m = sk.metrics.precision_recall_fscore_support(Y_pred.to('cpu'),Y.to('cpu'), average = 'weighted')\n",
        "\n",
        "    pbar.set_description(\"Test Accuracy %s\" % test_accuracy)\n",
        "\n",
        "    new_row = pd.Series({'hyper_param':p,'train_accuracy':train_accuracy,'valid_accuracy':valid_accuracy,'test_accuracy':test_accuracy,'train_fscore':train_fscore,'valid_fscore':valid_fscore,'test_fscore':test_fscore\n",
        "    ,'train_precision':train_precision,'valid_precision':valid_precision,'test_precision':test_precision,'train_recall':train_recall,'valid_recall':valid_recall,'test_recall':test_recall}, name='')\n",
        "    Hyper_Details = Hyper_Details.append(new_row)\n",
        "\n",
        "best_one = np.argmax(Hyper_Details.test_fscore)\n",
        "best_param = Hyper_Details.iloc[best_one]['hyper_param']\n",
        "best_params = Hyper_Details.sort_values('test_accuracy',ascending=False)['hyper_param'][:4]\n",
        "\n",
        "Grid_Details = Hyper_Details.sort_values('test_accuracy', ascending=False)\n",
        "\n",
        "dat_hour = datetime.now().strftime(\"%d_%b_%Y_%H:%M\")\n",
        "\n",
        "Grid_Details.to_csv(G_save + 'CNN_Grid_Searc_Details_'+ dat_hour+ '.csv')\n",
        "Model_Grid = Model_Training(**best_param, X_train = X_train, Y_train = Y_train, X_valid = X_valid, Y_valid= Y_valid, print_epochs = print_epochs,hyper_params=best_param)\n",
        "np.random.seed(0)\n",
        "random.seed(0)\n",
        "torch.manual_seed(0)\n",
        "Model_Grid.train()"
      ]
    },
    {
      "cell_type": "code",
      "source": [
        "{'LR': 0.002, 'Momentum': 0.85, 'Net': <class '__main__.CNN_Net3'>, 'batch_size': 32, 'epochs': 60, 'loss_func': <class 'torch.nn.modules.loss.CrossEntropyLoss'>, 'opt_func': <class 'torch.optim.sgd.SGD'>, 'weight_decay': 1e-07}"
      ],
      "metadata": {
        "id": "8rhH-jTfY2a8"
      },
      "execution_count": null,
      "outputs": []
    },
    {
      "cell_type": "code",
      "source": [
        "Grid_Details['test_accuracy'][:5], Grid_Details['hyper_param'][0]"
      ],
      "metadata": {
        "colab": {
          "base_uri": "https://localhost:8080/"
        },
        "id": "xYYE7g4ndwqo",
        "outputId": "b6d83a8e-8e42-4a28-b8a1-b7e069ef3143"
      },
      "execution_count": null,
      "outputs": [
        {
          "output_type": "execute_result",
          "data": {
            "text/plain": [
              "(    0.668810\n",
              "     0.665595\n",
              "     0.665595\n",
              "     0.655949\n",
              "     0.652733\n",
              " Name: test_accuracy, dtype: float64,\n",
              " {'LR': 0.002,\n",
              "  'Momentum': 0.9,\n",
              "  'Net': __main__.CNN_Net4,\n",
              "  'batch_size': 32,\n",
              "  'epochs': 80,\n",
              "  'loss_func': torch.nn.modules.loss.CrossEntropyLoss,\n",
              "  'opt_func': torch.optim.sgd.SGD,\n",
              "  'weight_decay': 1e-06})"
            ]
          },
          "metadata": {},
          "execution_count": 82
        }
      ]
    },
    {
      "cell_type": "code",
      "source": [
        "Grid_Details['test_accuracy'][:5], Grid_Details['hyper_param'][0]"
      ],
      "metadata": {
        "id": "lpAYiyyMVJe2",
        "outputId": "40783d65-df69-497d-c9a2-079ee92b4450",
        "colab": {
          "base_uri": "https://localhost:8080/"
        }
      },
      "execution_count": null,
      "outputs": [
        {
          "output_type": "execute_result",
          "data": {
            "text/plain": [
              "(    0.665595\n",
              "     0.655949\n",
              "     0.655949\n",
              "     0.652733\n",
              "     0.652733\n",
              " Name: test_accuracy, dtype: float64,\n",
              " {'LR': 0.002,\n",
              "  'Momentum': 0.85,\n",
              "  'Net': __main__.CNN_Net3,\n",
              "  'batch_size': 30,\n",
              "  'epochs': 120,\n",
              "  'loss_func': torch.nn.modules.loss.CrossEntropyLoss,\n",
              "  'opt_func': torch.optim.sgd.SGD,\n",
              "  'weight_decay': 1e-07})"
            ]
          },
          "metadata": {},
          "execution_count": 31
        }
      ]
    },
    {
      "cell_type": "code",
      "source": [
        "for i in best_params: print(i)"
      ],
      "metadata": {
        "colab": {
          "base_uri": "https://localhost:8080/"
        },
        "id": "ERIA42B87XV2",
        "outputId": "aee46866-7d75-4d94-da9b-6c93c34e1a8c"
      },
      "execution_count": null,
      "outputs": [
        {
          "output_type": "stream",
          "name": "stdout",
          "text": [
            "{'LR': 0.001, 'Momentum': 0.75, 'Net': <class '__main__.CNN_Net6'>, 'batch_size': 32, 'epochs': 50, 'loss_func': <class 'torch.nn.modules.loss.CrossEntropyLoss'>, 'opt_func': <class 'torch.optim.sgd.SGD'>, 'weight_decay': 1e-07}\n",
            "{'LR': 0.001, 'Momentum': 0.75, 'Net': <class '__main__.CNN_Net6'>, 'batch_size': 32, 'epochs': 50, 'loss_func': <class 'torch.nn.modules.loss.CrossEntropyLoss'>, 'opt_func': <class 'torch.optim.sgd.SGD'>, 'weight_decay': 0}\n",
            "{'LR': 0.001, 'Momentum': 0.75, 'Net': <class '__main__.CNN_Net6'>, 'batch_size': 48, 'epochs': 50, 'loss_func': <class 'torch.nn.modules.loss.CrossEntropyLoss'>, 'opt_func': <class 'torch.optim.sgd.SGD'>, 'weight_decay': 0}\n",
            "{'LR': 0.001, 'Momentum': 0.8, 'Net': <class '__main__.CNN_Net6'>, 'batch_size': 48, 'epochs': 50, 'loss_func': <class 'torch.nn.modules.loss.CrossEntropyLoss'>, 'opt_func': <class 'torch.optim.sgd.SGD'>, 'weight_decay': 1e-07}\n"
          ]
        }
      ]
    },
    {
      "cell_type": "code",
      "execution_count": null,
      "metadata": {
        "colab": {
          "base_uri": "https://localhost:8080/"
        },
        "id": "KhCs-5zNEHDh",
        "outputId": "1d77fcc4-7c30-4f4f-ff8a-2e38f0d03e0f"
      },
      "outputs": [
        {
          "output_type": "stream",
          "name": "stdout",
          "text": [
            "{'LR': 0.0015, 'Momentum': 0.85, 'Net': <class '__main__.CNN_Net3'>, 'batch_size': 32, 'epochs': 40, 'loss_func': <class 'torch.nn.modules.loss.CrossEntropyLoss'>, 'opt_func': <class 'torch.optim.sgd.SGD'>, 'weight_decay': 1e-06}\n",
            "{'LR': 0.0015, 'Momentum': 0.85, 'Net': <class '__main__.CNN_Net3'>, 'batch_size': 32, 'epochs': 40, 'loss_func': <class 'torch.nn.modules.loss.CrossEntropyLoss'>, 'opt_func': <class 'torch.optim.sgd.SGD'>, 'weight_decay': 0}\n",
            "{'LR': 0.002, 'Momentum': 0.8, 'Net': <class '__main__.CNN_Net3'>, 'batch_size': 32, 'epochs': 40, 'loss_func': <class 'torch.nn.modules.loss.CrossEntropyLoss'>, 'opt_func': <class 'torch.optim.sgd.SGD'>, 'weight_decay': 1e-06}\n",
            "{'LR': 0.002, 'Momentum': 0.85, 'Net': <class '__main__.CNN_Net3'>, 'batch_size': 32, 'epochs': 40, 'loss_func': <class 'torch.nn.modules.loss.CrossEntropyLoss'>, 'opt_func': <class 'torch.optim.sgd.SGD'>, 'weight_decay': 0}\n"
          ]
        }
      ],
      "source": [
        "for i in best_params: print(i)"
      ]
    },
    {
      "cell_type": "code",
      "execution_count": null,
      "metadata": {
        "colab": {
          "base_uri": "https://localhost:8080/",
          "height": 665
        },
        "id": "2XilnnvICU8q",
        "outputId": "aedda1fe-eb4f-48f3-d0f9-b4e61aa8ff25"
      },
      "outputs": [
        {
          "output_type": "stream",
          "name": "stdout",
          "text": [
            "Nr. of Data : \n",
            " 311\n",
            "Accuracy of The Model : \n",
            " 0.6720257234726688\n"
          ]
        },
        {
          "output_type": "execute_result",
          "data": {
            "text/plain": [
              "<pandas.io.formats.style.Styler at 0x7f93cb1f1bd0>"
            ],
            "text/html": [
              "<style type=\"text/css\">\n",
              "</style>\n",
              "<table id=\"T_123e5_\" class=\"dataframe\">\n",
              "  <thead>\n",
              "    <tr>\n",
              "      <th class=\"blank level0\" >&nbsp;</th>\n",
              "      <th class=\"col_heading level0 col0\" >weights</th>\n",
              "      <th class=\"col_heading level0 col1\" >Precision</th>\n",
              "      <th class=\"col_heading level0 col2\" >Recall_Sensitivity</th>\n",
              "      <th class=\"col_heading level0 col3\" >Specificity</th>\n",
              "      <th class=\"col_heading level0 col4\" >f1_score</th>\n",
              "    </tr>\n",
              "  </thead>\n",
              "  <tbody>\n",
              "    <tr>\n",
              "      <th id=\"T_123e5_level0_row0\" class=\"row_heading level0 row0\" >0</th>\n",
              "      <td id=\"T_123e5_row0_col0\" class=\"data row0 col0\" >7.4%</td>\n",
              "      <td id=\"T_123e5_row0_col1\" class=\"data row0 col1\" >50.0%</td>\n",
              "      <td id=\"T_123e5_row0_col2\" class=\"data row0 col2\" >43.5%</td>\n",
              "      <td id=\"T_123e5_row0_col3\" class=\"data row0 col3\" >96.5%</td>\n",
              "      <td id=\"T_123e5_row0_col4\" class=\"data row0 col4\" >46.5%</td>\n",
              "    </tr>\n",
              "    <tr>\n",
              "      <th id=\"T_123e5_level0_row1\" class=\"row_heading level0 row1\" >1</th>\n",
              "      <td id=\"T_123e5_row1_col0\" class=\"data row1 col0\" >10.6%</td>\n",
              "      <td id=\"T_123e5_row1_col1\" class=\"data row1 col1\" >56.8%</td>\n",
              "      <td id=\"T_123e5_row1_col2\" class=\"data row1 col2\" >63.6%</td>\n",
              "      <td id=\"T_123e5_row1_col3\" class=\"data row1 col3\" >94.2%</td>\n",
              "      <td id=\"T_123e5_row1_col4\" class=\"data row1 col4\" >60.0%</td>\n",
              "    </tr>\n",
              "    <tr>\n",
              "      <th id=\"T_123e5_level0_row2\" class=\"row_heading level0 row2\" >2</th>\n",
              "      <td id=\"T_123e5_row2_col0\" class=\"data row2 col0\" >23.5%</td>\n",
              "      <td id=\"T_123e5_row2_col1\" class=\"data row2 col1\" >68.0%</td>\n",
              "      <td id=\"T_123e5_row2_col2\" class=\"data row2 col2\" >69.9%</td>\n",
              "      <td id=\"T_123e5_row2_col3\" class=\"data row2 col3\" >89.9%</td>\n",
              "      <td id=\"T_123e5_row2_col4\" class=\"data row2 col4\" >68.9%</td>\n",
              "    </tr>\n",
              "    <tr>\n",
              "      <th id=\"T_123e5_level0_row3\" class=\"row_heading level0 row3\" >3</th>\n",
              "      <td id=\"T_123e5_row3_col0\" class=\"data row3 col0\" >2.3%</td>\n",
              "      <td id=\"T_123e5_row3_col1\" class=\"data row3 col1\" >50.0%</td>\n",
              "      <td id=\"T_123e5_row3_col2\" class=\"data row3 col2\" >42.9%</td>\n",
              "      <td id=\"T_123e5_row3_col3\" class=\"data row3 col3\" >99.0%</td>\n",
              "      <td id=\"T_123e5_row3_col4\" class=\"data row3 col4\" >46.2%</td>\n",
              "    </tr>\n",
              "    <tr>\n",
              "      <th id=\"T_123e5_level0_row4\" class=\"row_heading level0 row4\" >4</th>\n",
              "      <td id=\"T_123e5_row4_col0\" class=\"data row4 col0\" >19.6%</td>\n",
              "      <td id=\"T_123e5_row4_col1\" class=\"data row4 col1\" >67.4%</td>\n",
              "      <td id=\"T_123e5_row4_col2\" class=\"data row4 col2\" >50.8%</td>\n",
              "      <td id=\"T_123e5_row4_col3\" class=\"data row4 col3\" >94.0%</td>\n",
              "      <td id=\"T_123e5_row4_col4\" class=\"data row4 col4\" >57.9%</td>\n",
              "    </tr>\n",
              "    <tr>\n",
              "      <th id=\"T_123e5_level0_row5\" class=\"row_heading level0 row5\" >5</th>\n",
              "      <td id=\"T_123e5_row5_col0\" class=\"data row5 col0\" >33.4%</td>\n",
              "      <td id=\"T_123e5_row5_col1\" class=\"data row5 col1\" >73.7%</td>\n",
              "      <td id=\"T_123e5_row5_col2\" class=\"data row5 col2\" >83.7%</td>\n",
              "      <td id=\"T_123e5_row5_col3\" class=\"data row5 col3\" >85.0%</td>\n",
              "      <td id=\"T_123e5_row5_col4\" class=\"data row5 col4\" >78.4%</td>\n",
              "    </tr>\n",
              "    <tr>\n",
              "      <th id=\"T_123e5_level0_row6\" class=\"row_heading level0 row6\" >6</th>\n",
              "      <td id=\"T_123e5_row6_col0\" class=\"data row6 col0\" >3.2%</td>\n",
              "      <td id=\"T_123e5_row6_col1\" class=\"data row6 col1\" >66.7%</td>\n",
              "      <td id=\"T_123e5_row6_col2\" class=\"data row6 col2\" >60.0%</td>\n",
              "      <td id=\"T_123e5_row6_col3\" class=\"data row6 col3\" >99.0%</td>\n",
              "      <td id=\"T_123e5_row6_col4\" class=\"data row6 col4\" >63.2%</td>\n",
              "    </tr>\n",
              "    <tr>\n",
              "      <th id=\"T_123e5_level0_row7\" class=\"row_heading level0 row7\" >Simple Avg.</th>\n",
              "      <td id=\"T_123e5_row7_col0\" class=\"data row7 col0\" >nan%</td>\n",
              "      <td id=\"T_123e5_row7_col1\" class=\"data row7 col1\" >61.8%</td>\n",
              "      <td id=\"T_123e5_row7_col2\" class=\"data row7 col2\" >59.2%</td>\n",
              "      <td id=\"T_123e5_row7_col3\" class=\"data row7 col3\" >94.0%</td>\n",
              "      <td id=\"T_123e5_row7_col4\" class=\"data row7 col4\" >60.2%</td>\n",
              "    </tr>\n",
              "    <tr>\n",
              "      <th id=\"T_123e5_level0_row8\" class=\"row_heading level0 row8\" >Weighted Avg.</th>\n",
              "      <td id=\"T_123e5_row8_col0\" class=\"data row8 col0\" >nan%</td>\n",
              "      <td id=\"T_123e5_row8_col1\" class=\"data row8 col1\" >66.8%</td>\n",
              "      <td id=\"T_123e5_row8_col2\" class=\"data row8 col2\" >67.2%</td>\n",
              "      <td id=\"T_123e5_row8_col3\" class=\"data row8 col3\" >90.5%</td>\n",
              "      <td id=\"T_123e5_row8_col4\" class=\"data row8 col4\" >66.6%</td>\n",
              "    </tr>\n",
              "  </tbody>\n",
              "</table>\n"
            ]
          },
          "metadata": {},
          "execution_count": 52
        },
        {
          "output_type": "display_data",
          "data": {
            "text/plain": [
              "<Figure size 432x288 with 2 Axes>"
            ],
            "image/png": "[encoded data removed]"
          },
          "metadata": {
            "needs_background": "light"
          }
        }
      ],
      "source": [
        "model_ = Model_Grid.model.eval()\n",
        "X = input_data[2].to(device)\n",
        "Y = labels[2].to(device)\n",
        "Y_pred = model_(X).argmax(dim=1)\n",
        "confusion_matrix(Y.to('cpu'),Y_pred.to('cpu'))"
      ]
    },
    {
      "cell_type": "code",
      "execution_count": null,
      "metadata": {
        "colab": {
          "base_uri": "https://localhost:8080/",
          "height": 298
        },
        "id": "Vjhuvwf_AlDi",
        "outputId": "4c237f9f-93a3-4cdb-c47d-e7815b8abf9b"
      },
      "outputs": [
        {
          "output_type": "display_data",
          "data": {
            "text/plain": [
              "<Figure size 432x288 with 1 Axes>"
            ],
            "image/png": "[encoded data removed]"
          },
          "metadata": {
            "needs_background": "light"
          }
        }
      ],
      "source": [
        "model_ = Model_Grid\n",
        "epochs_X = [i for i in range(1, model_.epochs+1)]\n",
        "epochs_X\n",
        "plt.subplots(figsize=(6,4))\n",
        "plt.plot(epochs_X , model_.Epochs_Train_loss, 'o-', label='Train loss')\n",
        "plt.plot(epochs_X , model_.Epochs_Val_loss,'ro-', label='Validation loss')\n",
        "plt.xlabel(\"Epochs\", fontsize = 12)\n",
        "plt.ylabel(\"Loss\", fontsize = 12)\n",
        "plt.grid()\n",
        "plt.legend()\n",
        "plt.title('Train and Validation loss by epochs')\n",
        "plt.show()"
      ]
    },
    {
      "cell_type": "code",
      "execution_count": null,
      "metadata": {
        "colab": {
          "base_uri": "https://localhost:8080/",
          "height": 298
        },
        "id": "Qcr7YNOoAlDi",
        "outputId": "536334b4-f7ad-4301-b798-e50e932488b7"
      },
      "outputs": [
        {
          "output_type": "display_data",
          "data": {
            "text/plain": [
              "<Figure size 432x288 with 1 Axes>"
            ],
            "image/png": "[encoded data removed]"
          },
          "metadata": {
            "needs_background": "light"
          }
        }
      ],
      "source": [
        "model_ = Model_Grid\n",
        "epochs_X = [i for i in range(1, model_.epochs+1)]\n",
        "epochs_X\n",
        "plt.subplots(figsize=(6,4))\n",
        "\n",
        "plt.plot(epochs_X , model_.Epochs_Train_Acc, 'o-', label='Train Accuracy')\n",
        "plt.plot(epochs_X , model_.Epochs_Val_Acc,'ro-', label='Validation Accuracy')\n",
        "plt.xlabel(\"Epochs\", fontsize = 12)\n",
        "plt.ylabel(\"Accuracy\", fontsize = 12)\n",
        "plt.grid()\n",
        "plt.legend()\n",
        "plt.title('Train and Validation Accuracy by epochs')\n",
        "plt.show()"
      ]
    },
    {
      "cell_type": "markdown",
      "source": [
        "# **Model by best hyper params with valid and test set**"
      ],
      "metadata": {
        "id": "uSww_-jmg3RR"
      }
    },
    {
      "cell_type": "code",
      "source": [
        "print_epochs = True\n",
        "\n",
        "param1 = {'LR': 2e-3,\n",
        " 'Momentum': 0.85,\n",
        " 'Net': CNN_Net3,\n",
        " 'batch_size': 30,\n",
        " 'epochs': 150,\n",
        " 'loss_func': torch.nn.modules.loss.CrossEntropyLoss,\n",
        " 'opt_func': torch.optim.SGD,\n",
        " 'weight_decay': 1e-07}\n",
        "\n",
        "X_train = input_data[0]\n",
        "Y_train = labels[0]\n",
        "X_valid = input_data[1]\n",
        "Y_valid = labels[1]\n",
        "\n",
        "Model_Best_Grid = Model_Training(**param1,X_train = X_train, Y_train = Y_train, X_valid = X_valid, Y_valid= Y_valid, print_epochs =print_epochs,hyper_params=param)\n",
        "np.random.seed(0)\n",
        "random.seed(0)\n",
        "torch.manual_seed(0)\n",
        "Model_Best_Grid.train()"
      ],
      "metadata": {
        "id": "zqyuIx9rhKg3",
        "outputId": "2e4b5d7b-f042-4a73-887f-2a165d0324db",
        "colab": {
          "base_uri": "https://localhost:8080/"
        }
      },
      "execution_count": null,
      "outputs": [
        {
          "output_type": "stream",
          "name": "stdout",
          "text": [
            "[Epoch: 1]  , Train_loss: 1.7 , Train_Acc: 32.7%, Val_loss: 1.6 , Val_Acc: 45.6% , run time: 0.24\n",
            "[Epoch: 2]  , Train_loss: 1.5 , Train_Acc: 40.5%, Val_loss: 1.5 , Val_Acc: 44.1% , run time: 0.24\n",
            "[Epoch: 3]  , Train_loss: 1.4 , Train_Acc: 43.4%, Val_loss: 1.4 , Val_Acc: 47.8% , run time: 0.24\n",
            "[Epoch: 4]  , Train_loss: 1.4 , Train_Acc: 46.2%, Val_loss: 1.4 , Val_Acc: 51.5% , run time: 0.25\n",
            "[Epoch: 5]  , Train_loss: 1.4 , Train_Acc: 47.6%, Val_loss: 1.3 , Val_Acc: 51.5% , run time: 0.25\n",
            "[Epoch: 6]  , Train_loss: 1.3 , Train_Acc: 48.3%, Val_loss: 1.3 , Val_Acc: 52.2% , run time: 0.25\n",
            "[Epoch: 7]  , Train_loss: 1.3 , Train_Acc: 49.2%, Val_loss: 1.3 , Val_Acc: 53.0% , run time: 0.25\n",
            "[Epoch: 8]  , Train_loss: 1.3 , Train_Acc: 50.5%, Val_loss: 1.3 , Val_Acc: 52.2% , run time: 0.24\n",
            "[Epoch: 9]  , Train_loss: 1.3 , Train_Acc: 51.3%, Val_loss: 1.2 , Val_Acc: 51.1% , run time: 0.25\n",
            "[Epoch: 10]  , Train_loss: 1.2 , Train_Acc: 51.4%, Val_loss: 1.2 , Val_Acc: 51.5% , run time: 0.24\n",
            "[Epoch: 11]  , Train_loss: 1.2 , Train_Acc: 52.0%, Val_loss: 1.2 , Val_Acc: 53.7% , run time: 0.25\n",
            "[Epoch: 12]  , Train_loss: 1.2 , Train_Acc: 52.6%, Val_loss: 1.2 , Val_Acc: 53.7% , run time: 0.24\n",
            "[Epoch: 13]  , Train_loss: 1.2 , Train_Acc: 53.9%, Val_loss: 1.2 , Val_Acc: 55.2% , run time: 0.24\n",
            "[Epoch: 14]  , Train_loss: 1.2 , Train_Acc: 53.9%, Val_loss: 1.1 , Val_Acc: 55.6% , run time: 0.24\n",
            "[Epoch: 15]  , Train_loss: 1.2 , Train_Acc: 54.7%, Val_loss: 1.1 , Val_Acc: 57.4% , run time: 0.25\n",
            "[Epoch: 16]  , Train_loss: 1.1 , Train_Acc: 55.4%, Val_loss: 1.1 , Val_Acc: 55.6% , run time: 0.23\n",
            "[Epoch: 17]  , Train_loss: 1.1 , Train_Acc: 56.8%, Val_loss: 1.1 , Val_Acc: 56.3% , run time: 0.24\n",
            "[Epoch: 18]  , Train_loss: 1.1 , Train_Acc: 56.4%, Val_loss: 1.1 , Val_Acc: 56.7% , run time: 0.23\n",
            "[Epoch: 19]  , Train_loss: 1.1 , Train_Acc: 57.6%, Val_loss: 1.1 , Val_Acc: 58.1% , run time: 0.25\n",
            "[Epoch: 20]  , Train_loss: 1.1 , Train_Acc: 57.5%, Val_loss: 1.0 , Val_Acc: 57.4% , run time: 0.25\n",
            "[Epoch: 21]  , Train_loss: 1.1 , Train_Acc: 56.2%, Val_loss: 1.1 , Val_Acc: 57.0% , run time: 0.23\n",
            "[Epoch: 22]  , Train_loss: 1.1 , Train_Acc: 58.0%, Val_loss: 1.0 , Val_Acc: 58.1% , run time: 0.23\n",
            "[Epoch: 23]  , Train_loss: 1.1 , Train_Acc: 59.1%, Val_loss: 1.0 , Val_Acc: 58.9% , run time: 0.23\n",
            "[Epoch: 24]  , Train_loss: 1.1 , Train_Acc: 58.2%, Val_loss: 1.0 , Val_Acc: 61.5% , run time: 0.24\n",
            "[Epoch: 25]  , Train_loss: 1.0 , Train_Acc: 57.8%, Val_loss: 1.0 , Val_Acc: 60.7% , run time: 0.24\n",
            "[Epoch: 26]  , Train_loss: 1.0 , Train_Acc: 59.0%, Val_loss: 1.0 , Val_Acc: 60.4% , run time: 0.24\n",
            "[Epoch: 27]  , Train_loss: 1.0 , Train_Acc: 59.8%, Val_loss: 1.0 , Val_Acc: 61.1% , run time: 0.24\n",
            "[Epoch: 28]  , Train_loss: 1.0 , Train_Acc: 59.6%, Val_loss: 1.0 , Val_Acc: 61.1% , run time: 0.24\n",
            "[Epoch: 29]  , Train_loss: 1.0 , Train_Acc: 59.8%, Val_loss: 1.0 , Val_Acc: 61.9% , run time: 0.24\n",
            "[Epoch: 30]  , Train_loss: 1.0 , Train_Acc: 59.5%, Val_loss: 1.0 , Val_Acc: 62.2% , run time: 0.25\n",
            "[Epoch: 31]  , Train_loss: 1.0 , Train_Acc: 60.3%, Val_loss: 1.0 , Val_Acc: 60.7% , run time: 0.27\n",
            "[Epoch: 32]  , Train_loss: 1.0 , Train_Acc: 60.9%, Val_loss: 1.0 , Val_Acc: 60.7% , run time: 0.41\n",
            "[Epoch: 33]  , Train_loss: 1.0 , Train_Acc: 61.6%, Val_loss: 1.0 , Val_Acc: 62.2% , run time: 0.43\n",
            "[Epoch: 34]  , Train_loss: 1.0 , Train_Acc: 60.8%, Val_loss: 1.0 , Val_Acc: 59.6% , run time: 0.4\n",
            "[Epoch: 35]  , Train_loss: 1.0 , Train_Acc: 61.6%, Val_loss: 1.0 , Val_Acc: 60.7% , run time: 0.45\n",
            "[Epoch: 36]  , Train_loss: 1.0 , Train_Acc: 61.4%, Val_loss: 1.0 , Val_Acc: 62.2% , run time: 0.43\n",
            "[Epoch: 37]  , Train_loss: 1.0 , Train_Acc: 62.8%, Val_loss: 1.0 , Val_Acc: 60.7% , run time: 0.39\n",
            "[Epoch: 38]  , Train_loss: 1.0 , Train_Acc: 63.0%, Val_loss: 1.0 , Val_Acc: 61.5% , run time: 0.39\n",
            "[Epoch: 39]  , Train_loss: 1.0 , Train_Acc: 61.9%, Val_loss: 1.0 , Val_Acc: 61.5% , run time: 0.26\n",
            "[Epoch: 40]  , Train_loss: 1.0 , Train_Acc: 63.2%, Val_loss: 1.0 , Val_Acc: 58.9% , run time: 0.24\n",
            "[Epoch: 41]  , Train_loss: 1.0 , Train_Acc: 62.9%, Val_loss: 1.0 , Val_Acc: 61.9% , run time: 0.24\n",
            "[Epoch: 42]  , Train_loss: 0.9 , Train_Acc: 62.6%, Val_loss: 1.0 , Val_Acc: 61.1% , run time: 0.26\n",
            "[Epoch: 43]  , Train_loss: 0.9 , Train_Acc: 62.7%, Val_loss: 1.0 , Val_Acc: 62.6% , run time: 0.24\n",
            "[Epoch: 44]  , Train_loss: 0.9 , Train_Acc: 64.3%, Val_loss: 1.0 , Val_Acc: 61.1% , run time: 0.24\n",
            "[Epoch: 45]  , Train_loss: 0.9 , Train_Acc: 62.7%, Val_loss: 1.0 , Val_Acc: 61.5% , run time: 0.25\n",
            "[Epoch: 46]  , Train_loss: 0.9 , Train_Acc: 62.2%, Val_loss: 1.0 , Val_Acc: 61.1% , run time: 0.26\n",
            "[Epoch: 47]  , Train_loss: 0.9 , Train_Acc: 62.9%, Val_loss: 1.0 , Val_Acc: 61.9% , run time: 0.25\n",
            "[Epoch: 48]  , Train_loss: 0.9 , Train_Acc: 63.5%, Val_loss: 1.0 , Val_Acc: 63.3% , run time: 0.24\n",
            "[Epoch: 49]  , Train_loss: 0.9 , Train_Acc: 63.8%, Val_loss: 1.0 , Val_Acc: 62.6% , run time: 0.23\n",
            "[Epoch: 50]  , Train_loss: 0.9 , Train_Acc: 64.5%, Val_loss: 1.0 , Val_Acc: 61.1% , run time: 0.24\n",
            "[Epoch: 51]  , Train_loss: 0.9 , Train_Acc: 65.5%, Val_loss: 1.0 , Val_Acc: 65.2% , run time: 0.24\n",
            "[Epoch: 52]  , Train_loss: 0.9 , Train_Acc: 64.0%, Val_loss: 1.0 , Val_Acc: 63.3% , run time: 0.24\n",
            "[Epoch: 53]  , Train_loss: 0.9 , Train_Acc: 66.1%, Val_loss: 1.0 , Val_Acc: 62.6% , run time: 0.24\n",
            "[Epoch: 54]  , Train_loss: 0.9 , Train_Acc: 65.2%, Val_loss: 1.0 , Val_Acc: 61.1% , run time: 0.26\n",
            "[Epoch: 55]  , Train_loss: 0.9 , Train_Acc: 65.0%, Val_loss: 1.0 , Val_Acc: 60.7% , run time: 0.24\n",
            "[Epoch: 56]  , Train_loss: 0.9 , Train_Acc: 65.4%, Val_loss: 1.0 , Val_Acc: 62.2% , run time: 0.25\n",
            "[Epoch: 57]  , Train_loss: 0.9 , Train_Acc: 65.7%, Val_loss: 1.0 , Val_Acc: 61.5% , run time: 0.24\n",
            "[Epoch: 58]  , Train_loss: 0.9 , Train_Acc: 65.8%, Val_loss: 1.0 , Val_Acc: 61.9% , run time: 0.24\n",
            "[Epoch: 59]  , Train_loss: 0.9 , Train_Acc: 66.6%, Val_loss: 1.0 , Val_Acc: 60.7% , run time: 0.24\n",
            "[Epoch: 60]  , Train_loss: 0.9 , Train_Acc: 66.1%, Val_loss: 1.0 , Val_Acc: 61.1% , run time: 0.25\n",
            "[Epoch: 61]  , Train_loss: 0.9 , Train_Acc: 66.5%, Val_loss: 1.0 , Val_Acc: 60.4% , run time: 0.24\n",
            "[Epoch: 62]  , Train_loss: 0.9 , Train_Acc: 65.9%, Val_loss: 1.0 , Val_Acc: 61.1% , run time: 0.24\n",
            "[Epoch: 63]  , Train_loss: 0.9 , Train_Acc: 66.6%, Val_loss: 1.0 , Val_Acc: 62.2% , run time: 0.24\n",
            "[Epoch: 64]  , Train_loss: 0.9 , Train_Acc: 66.2%, Val_loss: 1.0 , Val_Acc: 62.6% , run time: 0.25\n",
            "[Epoch: 65]  , Train_loss: 0.9 , Train_Acc: 66.3%, Val_loss: 1.0 , Val_Acc: 62.2% , run time: 0.25\n",
            "[Epoch: 66]  , Train_loss: 0.9 , Train_Acc: 66.5%, Val_loss: 1.0 , Val_Acc: 63.3% , run time: 0.24\n",
            "[Epoch: 67]  , Train_loss: 0.8 , Train_Acc: 67.7%, Val_loss: 1.0 , Val_Acc: 62.2% , run time: 0.25\n",
            "[Epoch: 68]  , Train_loss: 0.8 , Train_Acc: 67.5%, Val_loss: 1.0 , Val_Acc: 61.5% , run time: 0.24\n",
            "[Epoch: 69]  , Train_loss: 0.8 , Train_Acc: 67.8%, Val_loss: 1.0 , Val_Acc: 62.2% , run time: 0.24\n",
            "[Epoch: 70]  , Train_loss: 0.8 , Train_Acc: 68.3%, Val_loss: 1.0 , Val_Acc: 61.1% , run time: 0.24\n",
            "[Epoch: 71]  , Train_loss: 0.8 , Train_Acc: 68.3%, Val_loss: 1.0 , Val_Acc: 60.7% , run time: 0.25\n",
            "[Epoch: 72]  , Train_loss: 0.8 , Train_Acc: 68.5%, Val_loss: 1.0 , Val_Acc: 61.5% , run time: 0.25\n",
            "[Epoch: 73]  , Train_loss: 0.8 , Train_Acc: 68.6%, Val_loss: 0.9 , Val_Acc: 62.6% , run time: 0.24\n",
            "[Epoch: 74]  , Train_loss: 0.8 , Train_Acc: 68.2%, Val_loss: 1.0 , Val_Acc: 63.3% , run time: 0.23\n",
            "[Epoch: 75]  , Train_loss: 0.8 , Train_Acc: 67.3%, Val_loss: 1.0 , Val_Acc: 65.6% , run time: 0.25\n",
            "[Epoch: 76]  , Train_loss: 0.8 , Train_Acc: 69.6%, Val_loss: 1.0 , Val_Acc: 61.9% , run time: 0.25\n",
            "[Epoch: 77]  , Train_loss: 0.8 , Train_Acc: 68.4%, Val_loss: 1.0 , Val_Acc: 62.6% , run time: 0.25\n",
            "[Epoch: 78]  , Train_loss: 0.8 , Train_Acc: 69.6%, Val_loss: 1.0 , Val_Acc: 61.5% , run time: 0.25\n",
            "[Epoch: 79]  , Train_loss: 0.8 , Train_Acc: 68.5%, Val_loss: 0.9 , Val_Acc: 64.1% , run time: 0.26\n",
            "[Epoch: 80]  , Train_loss: 0.8 , Train_Acc: 71.0%, Val_loss: 1.0 , Val_Acc: 62.6% , run time: 0.25\n",
            "[Epoch: 81]  , Train_loss: 0.8 , Train_Acc: 69.7%, Val_loss: 1.0 , Val_Acc: 61.9% , run time: 0.23\n",
            "[Epoch: 82]  , Train_loss: 0.8 , Train_Acc: 69.3%, Val_loss: 1.0 , Val_Acc: 61.9% , run time: 0.23\n",
            "[Epoch: 83]  , Train_loss: 0.8 , Train_Acc: 69.5%, Val_loss: 1.0 , Val_Acc: 64.4% , run time: 0.24\n",
            "[Epoch: 84]  , Train_loss: 0.8 , Train_Acc: 69.8%, Val_loss: 1.0 , Val_Acc: 65.2% , run time: 0.24\n",
            "[Epoch: 85]  , Train_loss: 0.8 , Train_Acc: 71.2%, Val_loss: 1.0 , Val_Acc: 65.2% , run time: 0.24\n",
            "[Epoch: 86]  , Train_loss: 0.8 , Train_Acc: 69.6%, Val_loss: 1.0 , Val_Acc: 64.1% , run time: 0.24\n",
            "[Epoch: 87]  , Train_loss: 0.8 , Train_Acc: 71.2%, Val_loss: 1.0 , Val_Acc: 63.0% , run time: 0.24\n",
            "[Epoch: 88]  , Train_loss: 0.8 , Train_Acc: 69.0%, Val_loss: 0.9 , Val_Acc: 65.9% , run time: 0.26\n",
            "[Epoch: 89]  , Train_loss: 0.8 , Train_Acc: 70.2%, Val_loss: 1.0 , Val_Acc: 64.1% , run time: 0.25\n",
            "[Epoch: 90]  , Train_loss: 0.7 , Train_Acc: 71.2%, Val_loss: 1.0 , Val_Acc: 63.3% , run time: 0.24\n",
            "[Epoch: 91]  , Train_loss: 0.7 , Train_Acc: 71.6%, Val_loss: 1.0 , Val_Acc: 64.1% , run time: 0.25\n",
            "[Epoch: 92]  , Train_loss: 0.7 , Train_Acc: 71.6%, Val_loss: 1.0 , Val_Acc: 63.7% , run time: 0.25\n",
            "[Epoch: 93]  , Train_loss: 0.7 , Train_Acc: 71.0%, Val_loss: 1.0 , Val_Acc: 64.4% , run time: 0.24\n",
            "[Epoch: 94]  , Train_loss: 0.7 , Train_Acc: 74.0%, Val_loss: 1.0 , Val_Acc: 64.4% , run time: 0.23\n",
            "[Epoch: 95]  , Train_loss: 0.7 , Train_Acc: 72.4%, Val_loss: 1.0 , Val_Acc: 61.5% , run time: 0.23\n",
            "[Epoch: 96]  , Train_loss: 0.7 , Train_Acc: 71.6%, Val_loss: 1.0 , Val_Acc: 64.8% , run time: 0.25\n",
            "[Epoch: 97]  , Train_loss: 0.7 , Train_Acc: 74.1%, Val_loss: 1.0 , Val_Acc: 63.0% , run time: 0.24\n",
            "[Epoch: 98]  , Train_loss: 0.7 , Train_Acc: 73.4%, Val_loss: 1.0 , Val_Acc: 64.1% , run time: 0.25\n",
            "[Epoch: 99]  , Train_loss: 0.7 , Train_Acc: 73.3%, Val_loss: 1.0 , Val_Acc: 63.0% , run time: 0.24\n",
            "[Epoch: 100]  , Train_loss: 0.7 , Train_Acc: 73.2%, Val_loss: 1.0 , Val_Acc: 64.8% , run time: 0.25\n",
            "[Epoch: 101]  , Train_loss: 0.7 , Train_Acc: 72.6%, Val_loss: 1.0 , Val_Acc: 64.8% , run time: 0.23\n",
            "[Epoch: 102]  , Train_loss: 0.7 , Train_Acc: 74.2%, Val_loss: 1.0 , Val_Acc: 63.3% , run time: 0.24\n",
            "[Epoch: 103]  , Train_loss: 0.7 , Train_Acc: 73.3%, Val_loss: 1.0 , Val_Acc: 64.4% , run time: 0.23\n",
            "[Epoch: 104]  , Train_loss: 0.7 , Train_Acc: 75.3%, Val_loss: 1.0 , Val_Acc: 63.7% , run time: 0.24\n",
            "[Epoch: 105]  , Train_loss: 0.7 , Train_Acc: 74.9%, Val_loss: 1.0 , Val_Acc: 65.2% , run time: 0.23\n",
            "[Epoch: 106]  , Train_loss: 0.7 , Train_Acc: 74.1%, Val_loss: 1.0 , Val_Acc: 63.3% , run time: 0.23\n",
            "[Epoch: 107]  , Train_loss: 0.7 , Train_Acc: 72.9%, Val_loss: 1.0 , Val_Acc: 65.2% , run time: 0.23\n",
            "[Epoch: 108]  , Train_loss: 0.7 , Train_Acc: 74.5%, Val_loss: 1.0 , Val_Acc: 64.8% , run time: 0.24\n",
            "[Epoch: 109]  , Train_loss: 0.7 , Train_Acc: 75.1%, Val_loss: 1.0 , Val_Acc: 64.4% , run time: 0.32\n",
            "[Epoch: 110]  , Train_loss: 0.7 , Train_Acc: 73.7%, Val_loss: 1.0 , Val_Acc: 63.3% , run time: 0.25\n",
            "[Epoch: 111]  , Train_loss: 0.7 , Train_Acc: 73.8%, Val_loss: 1.0 , Val_Acc: 64.1% , run time: 0.45\n",
            "[Epoch: 112]  , Train_loss: 0.6 , Train_Acc: 75.1%, Val_loss: 1.0 , Val_Acc: 64.4% , run time: 0.41\n",
            "[Epoch: 113]  , Train_loss: 0.6 , Train_Acc: 75.7%, Val_loss: 1.0 , Val_Acc: 63.7% , run time: 0.38\n",
            "[Epoch: 114]  , Train_loss: 0.6 , Train_Acc: 76.2%, Val_loss: 1.0 , Val_Acc: 65.6% , run time: 0.41\n",
            "[Epoch: 115]  , Train_loss: 0.6 , Train_Acc: 75.7%, Val_loss: 1.0 , Val_Acc: 65.2% , run time: 0.4\n",
            "[Epoch: 116]  , Train_loss: 0.6 , Train_Acc: 75.2%, Val_loss: 1.0 , Val_Acc: 64.4% , run time: 0.39\n",
            "[Epoch: 117]  , Train_loss: 0.6 , Train_Acc: 76.7%, Val_loss: 1.0 , Val_Acc: 64.1% , run time: 0.39\n",
            "[Epoch: 118]  , Train_loss: 0.6 , Train_Acc: 76.9%, Val_loss: 1.0 , Val_Acc: 64.4% , run time: 0.27\n",
            "[Epoch: 119]  , Train_loss: 0.6 , Train_Acc: 78.0%, Val_loss: 1.0 , Val_Acc: 65.6% , run time: 0.23\n",
            "[Epoch: 120]  , Train_loss: 0.6 , Train_Acc: 76.9%, Val_loss: 1.0 , Val_Acc: 64.4% , run time: 0.24\n",
            "[Epoch: 121]  , Train_loss: 0.6 , Train_Acc: 76.4%, Val_loss: 1.0 , Val_Acc: 65.2% , run time: 0.24\n",
            "[Epoch: 122]  , Train_loss: 0.6 , Train_Acc: 77.4%, Val_loss: 1.0 , Val_Acc: 64.8% , run time: 0.24\n",
            "[Epoch: 123]  , Train_loss: 0.6 , Train_Acc: 77.2%, Val_loss: 1.1 , Val_Acc: 59.6% , run time: 0.25\n",
            "[Epoch: 124]  , Train_loss: 0.6 , Train_Acc: 78.0%, Val_loss: 1.0 , Val_Acc: 63.3% , run time: 0.25\n",
            "[Epoch: 125]  , Train_loss: 0.6 , Train_Acc: 77.0%, Val_loss: 1.1 , Val_Acc: 62.6% , run time: 0.38\n",
            "[Epoch: 126]  , Train_loss: 0.6 , Train_Acc: 78.0%, Val_loss: 1.0 , Val_Acc: 64.4% , run time: 0.42\n",
            "[Epoch: 127]  , Train_loss: 0.6 , Train_Acc: 78.9%, Val_loss: 1.0 , Val_Acc: 63.3% , run time: 0.42\n",
            "[Epoch: 128]  , Train_loss: 0.6 , Train_Acc: 77.1%, Val_loss: 1.1 , Val_Acc: 61.5% , run time: 0.41\n",
            "[Epoch: 129]  , Train_loss: 0.6 , Train_Acc: 76.8%, Val_loss: 1.0 , Val_Acc: 65.2% , run time: 0.42\n",
            "[Epoch: 130]  , Train_loss: 0.6 , Train_Acc: 77.9%, Val_loss: 1.0 , Val_Acc: 63.7% , run time: 0.49\n",
            "[Epoch: 131]  , Train_loss: 0.5 , Train_Acc: 79.2%, Val_loss: 1.0 , Val_Acc: 64.1% , run time: 0.64\n",
            "[Epoch: 132]  , Train_loss: 0.6 , Train_Acc: 77.7%, Val_loss: 1.1 , Val_Acc: 63.0% , run time: 0.69\n",
            "[Epoch: 133]  , Train_loss: 0.5 , Train_Acc: 79.4%, Val_loss: 1.1 , Val_Acc: 63.3% , run time: 0.53\n",
            "[Epoch: 134]  , Train_loss: 0.5 , Train_Acc: 78.9%, Val_loss: 1.0 , Val_Acc: 66.7% , run time: 0.24\n",
            "[Epoch: 135]  , Train_loss: 0.5 , Train_Acc: 80.1%, Val_loss: 1.0 , Val_Acc: 64.4% , run time: 0.25\n",
            "[Epoch: 136]  , Train_loss: 0.5 , Train_Acc: 79.6%, Val_loss: 1.1 , Val_Acc: 60.0% , run time: 0.26\n",
            "[Epoch: 137]  , Train_loss: 0.5 , Train_Acc: 80.8%, Val_loss: 1.1 , Val_Acc: 63.0% , run time: 0.24\n",
            "[Epoch: 138]  , Train_loss: 0.5 , Train_Acc: 79.2%, Val_loss: 1.0 , Val_Acc: 64.1% , run time: 0.25\n",
            "[Epoch: 139]  , Train_loss: 0.5 , Train_Acc: 80.4%, Val_loss: 1.1 , Val_Acc: 64.4% , run time: 0.26\n",
            "[Epoch: 140]  , Train_loss: 0.5 , Train_Acc: 79.8%, Val_loss: 1.1 , Val_Acc: 64.8% , run time: 0.28\n",
            "[Epoch: 141]  , Train_loss: 0.5 , Train_Acc: 81.3%, Val_loss: 1.1 , Val_Acc: 62.6% , run time: 0.37\n",
            "[Epoch: 142]  , Train_loss: 0.5 , Train_Acc: 81.7%, Val_loss: 1.1 , Val_Acc: 63.7% , run time: 0.46\n",
            "[Epoch: 143]  , Train_loss: 0.5 , Train_Acc: 80.4%, Val_loss: 1.0 , Val_Acc: 65.2% , run time: 0.44\n",
            "[Epoch: 144]  , Train_loss: 0.5 , Train_Acc: 80.8%, Val_loss: 1.1 , Val_Acc: 64.8% , run time: 0.41\n",
            "[Epoch: 145]  , Train_loss: 0.5 , Train_Acc: 81.0%, Val_loss: 1.1 , Val_Acc: 63.7% , run time: 0.42\n",
            "[Epoch: 146]  , Train_loss: 0.5 , Train_Acc: 80.9%, Val_loss: 1.1 , Val_Acc: 63.3% , run time: 0.4\n",
            "[Epoch: 147]  , Train_loss: 0.5 , Train_Acc: 82.1%, Val_loss: 1.1 , Val_Acc: 64.8% , run time: 0.4\n",
            "[Epoch: 148]  , Train_loss: 0.5 , Train_Acc: 82.2%, Val_loss: 1.1 , Val_Acc: 64.4% , run time: 0.52\n",
            "[Epoch: 149]  , Train_loss: 0.5 , Train_Acc: 82.4%, Val_loss: 1.1 , Val_Acc: 63.0% , run time: 0.49\n",
            "[Epoch: 150]  , Train_loss: 0.5 , Train_Acc: 81.8%, Val_loss: 1.0 , Val_Acc: 65.2% , run time: 0.25\n"
          ]
        }
      ]
    },
    {
      "cell_type": "code",
      "source": [
        "model_ = Model_Best_Grid.model.eval()\n",
        "X = input_data[2].to(device)\n",
        "Y = labels[2].to(device)\n",
        "Y_pred = model_(X).argmax(dim=1)\n",
        "confusion_matrix(Y.to('cpu'),Y_pred.to('cpu'))"
      ],
      "metadata": {
        "id": "isPptvcwiKfH",
        "outputId": "8f3ae958-369a-4114-d7e0-229e1fc8a76a",
        "colab": {
          "base_uri": "https://localhost:8080/",
          "height": 665
        }
      },
      "execution_count": null,
      "outputs": [
        {
          "output_type": "stream",
          "name": "stdout",
          "text": [
            "Nr. of Data : \n",
            " 311\n",
            "Accuracy of The Model : \n",
            " 0.5980707395498392\n"
          ]
        },
        {
          "output_type": "execute_result",
          "data": {
            "text/plain": [
              "<pandas.io.formats.style.Styler at 0x7f9400130ad0>"
            ],
            "text/html": [
              "<style type=\"text/css\">\n",
              "</style>\n",
              "<table id=\"T_110eb_\" class=\"dataframe\">\n",
              "  <thead>\n",
              "    <tr>\n",
              "      <th class=\"blank level0\" >&nbsp;</th>\n",
              "      <th class=\"col_heading level0 col0\" >weights</th>\n",
              "      <th class=\"col_heading level0 col1\" >Precision</th>\n",
              "      <th class=\"col_heading level0 col2\" >Recall_Sensitivity</th>\n",
              "      <th class=\"col_heading level0 col3\" >Specificity</th>\n",
              "      <th class=\"col_heading level0 col4\" >f1_score</th>\n",
              "    </tr>\n",
              "  </thead>\n",
              "  <tbody>\n",
              "    <tr>\n",
              "      <th id=\"T_110eb_level0_row0\" class=\"row_heading level0 row0\" >0</th>\n",
              "      <td id=\"T_110eb_row0_col0\" class=\"data row0 col0\" >7.4%</td>\n",
              "      <td id=\"T_110eb_row0_col1\" class=\"data row0 col1\" >36.7%</td>\n",
              "      <td id=\"T_110eb_row0_col2\" class=\"data row0 col2\" >47.8%</td>\n",
              "      <td id=\"T_110eb_row0_col3\" class=\"data row0 col3\" >93.4%</td>\n",
              "      <td id=\"T_110eb_row0_col4\" class=\"data row0 col4\" >41.5%</td>\n",
              "    </tr>\n",
              "    <tr>\n",
              "      <th id=\"T_110eb_level0_row1\" class=\"row_heading level0 row1\" >1</th>\n",
              "      <td id=\"T_110eb_row1_col0\" class=\"data row1 col0\" >10.6%</td>\n",
              "      <td id=\"T_110eb_row1_col1\" class=\"data row1 col1\" >42.9%</td>\n",
              "      <td id=\"T_110eb_row1_col2\" class=\"data row1 col2\" >45.5%</td>\n",
              "      <td id=\"T_110eb_row1_col3\" class=\"data row1 col3\" >92.8%</td>\n",
              "      <td id=\"T_110eb_row1_col4\" class=\"data row1 col4\" >44.1%</td>\n",
              "    </tr>\n",
              "    <tr>\n",
              "      <th id=\"T_110eb_level0_row2\" class=\"row_heading level0 row2\" >2</th>\n",
              "      <td id=\"T_110eb_row2_col0\" class=\"data row2 col0\" >23.5%</td>\n",
              "      <td id=\"T_110eb_row2_col1\" class=\"data row2 col1\" >56.4%</td>\n",
              "      <td id=\"T_110eb_row2_col2\" class=\"data row2 col2\" >60.3%</td>\n",
              "      <td id=\"T_110eb_row2_col3\" class=\"data row2 col3\" >85.7%</td>\n",
              "      <td id=\"T_110eb_row2_col4\" class=\"data row2 col4\" >58.3%</td>\n",
              "    </tr>\n",
              "    <tr>\n",
              "      <th id=\"T_110eb_level0_row3\" class=\"row_heading level0 row3\" >3</th>\n",
              "      <td id=\"T_110eb_row3_col0\" class=\"data row3 col0\" >2.3%</td>\n",
              "      <td id=\"T_110eb_row3_col1\" class=\"data row3 col1\" >40.0%</td>\n",
              "      <td id=\"T_110eb_row3_col2\" class=\"data row3 col2\" >28.6%</td>\n",
              "      <td id=\"T_110eb_row3_col3\" class=\"data row3 col3\" >99.0%</td>\n",
              "      <td id=\"T_110eb_row3_col4\" class=\"data row3 col4\" >33.3%</td>\n",
              "    </tr>\n",
              "    <tr>\n",
              "      <th id=\"T_110eb_level0_row4\" class=\"row_heading level0 row4\" >4</th>\n",
              "      <td id=\"T_110eb_row4_col0\" class=\"data row4 col0\" >19.6%</td>\n",
              "      <td id=\"T_110eb_row4_col1\" class=\"data row4 col1\" >54.7%</td>\n",
              "      <td id=\"T_110eb_row4_col2\" class=\"data row4 col2\" >67.2%</td>\n",
              "      <td id=\"T_110eb_row4_col3\" class=\"data row4 col3\" >86.4%</td>\n",
              "      <td id=\"T_110eb_row4_col4\" class=\"data row4 col4\" >60.3%</td>\n",
              "    </tr>\n",
              "    <tr>\n",
              "      <th id=\"T_110eb_level0_row5\" class=\"row_heading level0 row5\" >5</th>\n",
              "      <td id=\"T_110eb_row5_col0\" class=\"data row5 col0\" >33.4%</td>\n",
              "      <td id=\"T_110eb_row5_col1\" class=\"data row5 col1\" >84.0%</td>\n",
              "      <td id=\"T_110eb_row5_col2\" class=\"data row5 col2\" >65.4%</td>\n",
              "      <td id=\"T_110eb_row5_col3\" class=\"data row5 col3\" >93.7%</td>\n",
              "      <td id=\"T_110eb_row5_col4\" class=\"data row5 col4\" >73.5%</td>\n",
              "    </tr>\n",
              "    <tr>\n",
              "      <th id=\"T_110eb_level0_row6\" class=\"row_heading level0 row6\" >6</th>\n",
              "      <td id=\"T_110eb_row6_col0\" class=\"data row6 col0\" >3.2%</td>\n",
              "      <td id=\"T_110eb_row6_col1\" class=\"data row6 col1\" >71.4%</td>\n",
              "      <td id=\"T_110eb_row6_col2\" class=\"data row6 col2\" >50.0%</td>\n",
              "      <td id=\"T_110eb_row6_col3\" class=\"data row6 col3\" >99.3%</td>\n",
              "      <td id=\"T_110eb_row6_col4\" class=\"data row6 col4\" >58.8%</td>\n",
              "    </tr>\n",
              "    <tr>\n",
              "      <th id=\"T_110eb_level0_row7\" class=\"row_heading level0 row7\" >Simple Avg.</th>\n",
              "      <td id=\"T_110eb_row7_col0\" class=\"data row7 col0\" >nan%</td>\n",
              "      <td id=\"T_110eb_row7_col1\" class=\"data row7 col1\" >55.1%</td>\n",
              "      <td id=\"T_110eb_row7_col2\" class=\"data row7 col2\" >52.1%</td>\n",
              "      <td id=\"T_110eb_row7_col3\" class=\"data row7 col3\" >92.9%</td>\n",
              "      <td id=\"T_110eb_row7_col4\" class=\"data row7 col4\" >52.8%</td>\n",
              "    </tr>\n",
              "    <tr>\n",
              "      <th id=\"T_110eb_level0_row8\" class=\"row_heading level0 row8\" >Weighted Avg.</th>\n",
              "      <td id=\"T_110eb_row8_col0\" class=\"data row8 col0\" >nan%</td>\n",
              "      <td id=\"T_110eb_row8_col1\" class=\"data row8 col1\" >62.5%</td>\n",
              "      <td id=\"T_110eb_row8_col2\" class=\"data row8 col2\" >59.8%</td>\n",
              "      <td id=\"T_110eb_row8_col3\" class=\"data row8 col3\" >90.6%</td>\n",
              "      <td id=\"T_110eb_row8_col4\" class=\"data row8 col4\" >60.5%</td>\n",
              "    </tr>\n",
              "  </tbody>\n",
              "</table>\n"
            ]
          },
          "metadata": {},
          "execution_count": 132
        },
        {
          "output_type": "display_data",
          "data": {
            "text/plain": [
              "<Figure size 432x288 with 2 Axes>"
            ],
            "image/png": "[encoded data removed]"
          },
          "metadata": {
            "needs_background": "light"
          }
        }
      ]
    },
    {
      "cell_type": "markdown",
      "metadata": {
        "id": "GMzwoJOJ2BYX"
      },
      "source": [
        "# **K-Fold Cross Validation**"
      ]
    },
    {
      "cell_type": "code",
      "execution_count": null,
      "metadata": {
        "colab": {
          "base_uri": "https://localhost:8080/"
        },
        "id": "15sJl9otbNaz",
        "outputId": "53d961f7-c630-46ad-b6b8-e5672ef22243"
      },
      "outputs": [
        {
          "output_type": "stream",
          "name": "stderr",
          "text": [
            "Test Accuracy 0.6237942122186495: 100%|██████████████████████████████| 4/4 [10:00<00:00, 150.14s/it]\n"
          ]
        }
      ],
      "source": [
        "K_Folds = sk.model_selection.KFold(n_splits=6, shuffle=True)\n",
        "tensor_subset = torch.utils.data.dataset.Subset\n",
        "\n",
        "print_epochs = False\n",
        "# device = 'mps'\n",
        "\n",
        "CV_data = input_data[3]\n",
        "CV_label = labels[3]\n",
        "X_test = input_data[2]\n",
        "Y_test = labels[2]\n",
        "\n",
        "# CV_Details_ = pd.DataFrame(columns=['test_fscore','test_precision','test_recall'])\n",
        "\n",
        "CV_Details = pd.DataFrame(columns=['hyper_param','train_index','valid_index','train_accuracy','valid_accuracy','test_accuracy','train_fscore','valid_fscore','test_fscore','train_precision','valid_precision','test_precision'\n",
        "                                    ,'train_recall','valid_recall','test_recall'])\n",
        "\n",
        "pbar = tqdm(best_params, ncols = 100, desc = \"Hyper Parameters - Level\")\n",
        "\n",
        "for param in pbar:\n",
        "# for i in range(1):\n",
        "    \n",
        "    for fold, (train_index, valid_index) in enumerate(K_Folds.split(CV_data)):\n",
        "\n",
        "\n",
        "        X_train = CV_data[train_index]\n",
        "        Y_train = CV_label[train_index]\n",
        "        X_valid = CV_data[valid_index]\n",
        "        Y_valid = CV_label[valid_index]\n",
        "\n",
        "        # X_train = tensor_subset(input_data[3],train_index).dataset\n",
        "        # Y_train = tensor_subset(labels[3],train_index).dataset\n",
        "        # X_valid = tensor_subset(input_data[3],valid_index).dataset\n",
        "        # Y_valid = tensor_subset(labels[3],valid_index).dataset\n",
        "\n",
        "        Model_ = Model_Training(**param, X_train = X_train, Y_train = Y_train, X_valid = X_valid, Y_valid= Y_valid, print_epochs = print_epochs,hyper_params=param)\n",
        "        np.random.seed(0)\n",
        "        random.seed(0)\n",
        "        torch.manual_seed(0)\n",
        "        Model_.train()\n",
        "\n",
        "        model_ = Model_.model.eval()\n",
        "            \n",
        "        # Train\n",
        "        Y_pred = model_(X_train.to(device)).argmax(axis=1)\n",
        "        Y = Y_train\n",
        "        train_accuracy = sk.metrics.accuracy_score(Y_pred.to('cpu'),Y.to('cpu') )\n",
        "        train_precision, train_recall, train_fscore, m = sk.metrics.precision_recall_fscore_support(Y_pred.to('cpu'),Y.to('cpu') , average = 'weighted')\n",
        "\n",
        "        # Valid\n",
        "        Y_pred = model_(X_valid.to(device)).argmax(axis=1)\n",
        "        Y = Y_valid\n",
        "        valid_accuracy = sk.metrics.accuracy_score(Y_pred.to('cpu'),Y.to('cpu') )\n",
        "        valid_precision, valid_recall, valid_fscore, m = sk.metrics.precision_recall_fscore_support(Y_pred.to('cpu'),Y.to('cpu') , average = 'weighted')\n",
        "\n",
        "        # Test\n",
        "        Y_pred = model_(X_test.to(device)).argmax(axis=1)\n",
        "        Y = Y_test\n",
        "        test_accuracy = sk.metrics.accuracy_score(Y_pred.to('cpu'),Y.to('cpu') )\n",
        "        test_precision, test_recall, test_fscore, m = sk.metrics.precision_recall_fscore_support(Y_pred.to('cpu'),Y.to('cpu') , average = 'weighted')\n",
        "        pbar.set_description(\"Test Accuracy %s\" % test_accuracy)\n",
        "        \n",
        "        new_row = pd.Series({'hyper_param':param,'train_index':train_index,'valid_index':valid_index,'train_accuracy':train_accuracy,'valid_accuracy':valid_accuracy,'test_accuracy':test_accuracy,'train_fscore':train_fscore,'valid_fscore':valid_fscore,'test_fscore':test_fscore\n",
        "        ,'train_precision':train_precision,'valid_precision':valid_precision,'test_precision':test_precision,'train_recall':train_recall,'valid_recall':valid_recall,'test_recall':test_recall}, name='')\n",
        "        CV_Details = CV_Details.append(new_row)\n",
        "\n",
        "CNN_CV_Details = CV_Details.sort_values('test_accuracy', ascending=False)"
      ]
    },
    {
      "cell_type": "code",
      "execution_count": null,
      "metadata": {
        "colab": {
          "base_uri": "https://localhost:8080/"
        },
        "id": "sa2B1MB2t5sH",
        "outputId": "a577419f-52b9-4211-9911-974777201c22"
      },
      "outputs": [
        {
          "output_type": "execute_result",
          "data": {
            "text/plain": [
              "(    0.662379\n",
              "     0.655949\n",
              "     0.649518\n",
              "     0.649518\n",
              "     0.649518\n",
              " Name: test_accuracy, dtype: float64,\n",
              " {'LR': 0.0018,\n",
              "  'Momentum': 0.85,\n",
              "  'Net': __main__.CNN_Net4,\n",
              "  'batch_size': 32,\n",
              "  'epochs': 80,\n",
              "  'loss_func': torch.nn.modules.loss.CrossEntropyLoss,\n",
              "  'opt_func': torch.optim.sgd.SGD,\n",
              "  'weight_decay': 1e-06})"
            ]
          },
          "metadata": {},
          "execution_count": 90
        }
      ],
      "source": [
        "CNN_CV_Details['test_accuracy'][:5], CNN_CV_Details['hyper_param'][0]"
      ]
    },
    {
      "cell_type": "code",
      "source": [
        "CNN_CV_Details['test_accuracy'][:5], CNN_CV_Details['hyper_param'][0]"
      ],
      "metadata": {
        "id": "zbD8gadJcsYC",
        "outputId": "673b315a-2ec5-4a91-9ca5-0a10471a7a65",
        "colab": {
          "base_uri": "https://localhost:8080/"
        }
      },
      "execution_count": null,
      "outputs": [
        {
          "output_type": "execute_result",
          "data": {
            "text/plain": [
              "(    0.652733\n",
              "     0.649518\n",
              "     0.646302\n",
              "     0.643087\n",
              "     0.643087\n",
              " Name: test_accuracy, dtype: float64,\n",
              " {'LR': 0.0022,\n",
              "  'Momentum': 0.82,\n",
              "  'Net': __main__.CNN_Net3,\n",
              "  'batch_size': 30,\n",
              "  'epochs': 75,\n",
              "  'loss_func': torch.nn.modules.loss.CrossEntropyLoss,\n",
              "  'opt_func': torch.optim.sgd.SGD,\n",
              "  'weight_decay': 1e-07})"
            ]
          },
          "metadata": {},
          "execution_count": 36
        }
      ]
    },
    {
      "cell_type": "code",
      "execution_count": null,
      "metadata": {
        "id": "BFxoyRob2fXe",
        "colab": {
          "base_uri": "https://localhost:8080/"
        },
        "outputId": "3218570f-e71a-4a5e-9f29-21734301319e"
      },
      "outputs": [
        {
          "output_type": "stream",
          "name": "stdout",
          "text": [
            "[Epoch: 1]  , Train_loss: 1.7 , Train_Acc: 32.3%, Val_loss: 1.6 , Val_Acc: 38.0% , run time: 0.23\n",
            "[Epoch: 2]  , Train_loss: 1.5 , Train_Acc: 38.9%, Val_loss: 1.5 , Val_Acc: 42.2% , run time: 0.25\n",
            "[Epoch: 3]  , Train_loss: 1.4 , Train_Acc: 42.0%, Val_loss: 1.5 , Val_Acc: 41.3% , run time: 0.24\n",
            "[Epoch: 4]  , Train_loss: 1.4 , Train_Acc: 44.7%, Val_loss: 1.4 , Val_Acc: 42.4% , run time: 0.24\n",
            "[Epoch: 5]  , Train_loss: 1.4 , Train_Acc: 46.9%, Val_loss: 1.4 , Val_Acc: 43.8% , run time: 0.23\n",
            "[Epoch: 6]  , Train_loss: 1.4 , Train_Acc: 48.1%, Val_loss: 1.4 , Val_Acc: 44.4% , run time: 0.25\n",
            "[Epoch: 7]  , Train_loss: 1.3 , Train_Acc: 48.5%, Val_loss: 1.4 , Val_Acc: 45.1% , run time: 0.23\n",
            "[Epoch: 8]  , Train_loss: 1.3 , Train_Acc: 49.4%, Val_loss: 1.4 , Val_Acc: 46.2% , run time: 0.24\n",
            "[Epoch: 9]  , Train_loss: 1.3 , Train_Acc: 49.5%, Val_loss: 1.3 , Val_Acc: 46.4% , run time: 0.24\n",
            "[Epoch: 10]  , Train_loss: 1.3 , Train_Acc: 50.6%, Val_loss: 1.3 , Val_Acc: 45.6% , run time: 0.24\n",
            "[Epoch: 11]  , Train_loss: 1.3 , Train_Acc: 50.6%, Val_loss: 1.3 , Val_Acc: 46.4% , run time: 0.23\n",
            "[Epoch: 12]  , Train_loss: 1.2 , Train_Acc: 51.5%, Val_loss: 1.3 , Val_Acc: 46.9% , run time: 0.24\n",
            "[Epoch: 13]  , Train_loss: 1.2 , Train_Acc: 51.5%, Val_loss: 1.3 , Val_Acc: 46.9% , run time: 0.23\n",
            "[Epoch: 14]  , Train_loss: 1.2 , Train_Acc: 52.3%, Val_loss: 1.3 , Val_Acc: 47.3% , run time: 0.23\n",
            "[Epoch: 15]  , Train_loss: 1.2 , Train_Acc: 53.0%, Val_loss: 1.3 , Val_Acc: 48.7% , run time: 0.24\n",
            "[Epoch: 16]  , Train_loss: 1.2 , Train_Acc: 53.7%, Val_loss: 1.3 , Val_Acc: 48.7% , run time: 0.23\n",
            "[Epoch: 17]  , Train_loss: 1.2 , Train_Acc: 54.2%, Val_loss: 1.2 , Val_Acc: 48.9% , run time: 0.26\n",
            "[Epoch: 18]  , Train_loss: 1.2 , Train_Acc: 54.6%, Val_loss: 1.2 , Val_Acc: 49.1% , run time: 0.24\n",
            "[Epoch: 19]  , Train_loss: 1.2 , Train_Acc: 55.1%, Val_loss: 1.2 , Val_Acc: 49.1% , run time: 0.24\n",
            "[Epoch: 20]  , Train_loss: 1.1 , Train_Acc: 55.5%, Val_loss: 1.2 , Val_Acc: 49.3% , run time: 0.24\n",
            "[Epoch: 21]  , Train_loss: 1.1 , Train_Acc: 56.0%, Val_loss: 1.2 , Val_Acc: 50.9% , run time: 0.24\n",
            "[Epoch: 22]  , Train_loss: 1.1 , Train_Acc: 56.3%, Val_loss: 1.2 , Val_Acc: 51.8% , run time: 0.24\n",
            "[Epoch: 23]  , Train_loss: 1.1 , Train_Acc: 56.2%, Val_loss: 1.2 , Val_Acc: 53.3% , run time: 0.24\n",
            "[Epoch: 24]  , Train_loss: 1.1 , Train_Acc: 57.1%, Val_loss: 1.2 , Val_Acc: 53.6% , run time: 0.24\n",
            "[Epoch: 25]  , Train_loss: 1.1 , Train_Acc: 57.0%, Val_loss: 1.2 , Val_Acc: 53.6% , run time: 0.24\n",
            "[Epoch: 26]  , Train_loss: 1.1 , Train_Acc: 58.2%, Val_loss: 1.2 , Val_Acc: 53.8% , run time: 0.24\n",
            "[Epoch: 27]  , Train_loss: 1.1 , Train_Acc: 59.4%, Val_loss: 1.2 , Val_Acc: 54.0% , run time: 0.24\n",
            "[Epoch: 28]  , Train_loss: 1.1 , Train_Acc: 58.7%, Val_loss: 1.2 , Val_Acc: 53.8% , run time: 0.23\n",
            "[Epoch: 29]  , Train_loss: 1.1 , Train_Acc: 57.9%, Val_loss: 1.1 , Val_Acc: 55.8% , run time: 0.24\n",
            "[Epoch: 30]  , Train_loss: 1.1 , Train_Acc: 58.7%, Val_loss: 1.1 , Val_Acc: 55.3% , run time: 0.24\n",
            "[Epoch: 31]  , Train_loss: 1.1 , Train_Acc: 58.8%, Val_loss: 1.1 , Val_Acc: 56.4% , run time: 0.24\n",
            "[Epoch: 32]  , Train_loss: 1.1 , Train_Acc: 59.0%, Val_loss: 1.1 , Val_Acc: 55.1% , run time: 0.24\n",
            "[Epoch: 33]  , Train_loss: 1.0 , Train_Acc: 59.8%, Val_loss: 1.1 , Val_Acc: 56.2% , run time: 0.24\n",
            "[Epoch: 34]  , Train_loss: 1.0 , Train_Acc: 60.2%, Val_loss: 1.1 , Val_Acc: 53.8% , run time: 0.24\n",
            "[Epoch: 35]  , Train_loss: 1.0 , Train_Acc: 59.5%, Val_loss: 1.1 , Val_Acc: 54.7% , run time: 0.24\n",
            "[Epoch: 36]  , Train_loss: 1.0 , Train_Acc: 60.0%, Val_loss: 1.1 , Val_Acc: 56.0% , run time: 0.24\n",
            "[Epoch: 37]  , Train_loss: 1.0 , Train_Acc: 60.3%, Val_loss: 1.1 , Val_Acc: 56.2% , run time: 0.23\n",
            "[Epoch: 38]  , Train_loss: 1.0 , Train_Acc: 60.6%, Val_loss: 1.1 , Val_Acc: 56.0% , run time: 0.23\n",
            "[Epoch: 39]  , Train_loss: 1.0 , Train_Acc: 61.3%, Val_loss: 1.1 , Val_Acc: 56.2% , run time: 0.23\n",
            "[Epoch: 40]  , Train_loss: 1.0 , Train_Acc: 60.3%, Val_loss: 1.1 , Val_Acc: 56.4% , run time: 0.24\n",
            "[Epoch: 41]  , Train_loss: 1.0 , Train_Acc: 61.5%, Val_loss: 1.1 , Val_Acc: 57.8% , run time: 0.23\n",
            "[Epoch: 42]  , Train_loss: 1.0 , Train_Acc: 60.3%, Val_loss: 1.1 , Val_Acc: 57.3% , run time: 0.24\n",
            "[Epoch: 43]  , Train_loss: 1.0 , Train_Acc: 61.6%, Val_loss: 1.1 , Val_Acc: 57.8% , run time: 0.23\n",
            "[Epoch: 44]  , Train_loss: 1.0 , Train_Acc: 61.7%, Val_loss: 1.1 , Val_Acc: 57.6% , run time: 0.23\n",
            "[Epoch: 45]  , Train_loss: 1.0 , Train_Acc: 62.0%, Val_loss: 1.1 , Val_Acc: 57.8% , run time: 0.25\n",
            "[Epoch: 46]  , Train_loss: 1.0 , Train_Acc: 61.4%, Val_loss: 1.1 , Val_Acc: 58.0% , run time: 0.23\n",
            "[Epoch: 47]  , Train_loss: 1.0 , Train_Acc: 62.3%, Val_loss: 1.1 , Val_Acc: 58.7% , run time: 0.24\n",
            "[Epoch: 48]  , Train_loss: 1.0 , Train_Acc: 62.1%, Val_loss: 1.1 , Val_Acc: 58.7% , run time: 0.24\n",
            "[Epoch: 49]  , Train_loss: 1.0 , Train_Acc: 61.9%, Val_loss: 1.1 , Val_Acc: 57.3% , run time: 0.25\n",
            "[Epoch: 50]  , Train_loss: 1.0 , Train_Acc: 62.8%, Val_loss: 1.1 , Val_Acc: 58.2% , run time: 0.24\n",
            "[Epoch: 51]  , Train_loss: 1.0 , Train_Acc: 61.8%, Val_loss: 1.1 , Val_Acc: 57.8% , run time: 0.24\n",
            "[Epoch: 52]  , Train_loss: 1.0 , Train_Acc: 61.5%, Val_loss: 1.1 , Val_Acc: 58.4% , run time: 0.23\n",
            "[Epoch: 53]  , Train_loss: 0.9 , Train_Acc: 63.2%, Val_loss: 1.1 , Val_Acc: 58.0% , run time: 0.24\n",
            "[Epoch: 54]  , Train_loss: 1.0 , Train_Acc: 64.0%, Val_loss: 1.1 , Val_Acc: 58.7% , run time: 0.24\n",
            "[Epoch: 55]  , Train_loss: 1.0 , Train_Acc: 62.4%, Val_loss: 1.1 , Val_Acc: 59.1% , run time: 0.23\n",
            "[Epoch: 56]  , Train_loss: 0.9 , Train_Acc: 64.4%, Val_loss: 1.1 , Val_Acc: 58.9% , run time: 0.24\n",
            "[Epoch: 57]  , Train_loss: 0.9 , Train_Acc: 63.5%, Val_loss: 1.1 , Val_Acc: 59.1% , run time: 0.23\n",
            "[Epoch: 58]  , Train_loss: 0.9 , Train_Acc: 63.5%, Val_loss: 1.1 , Val_Acc: 58.4% , run time: 0.25\n",
            "[Epoch: 59]  , Train_loss: 1.0 , Train_Acc: 62.9%, Val_loss: 1.1 , Val_Acc: 59.8% , run time: 0.24\n",
            "[Epoch: 60]  , Train_loss: 0.9 , Train_Acc: 64.3%, Val_loss: 1.1 , Val_Acc: 59.8% , run time: 0.25\n",
            "[Epoch: 61]  , Train_loss: 0.9 , Train_Acc: 63.2%, Val_loss: 1.1 , Val_Acc: 60.7% , run time: 0.23\n",
            "[Epoch: 62]  , Train_loss: 0.9 , Train_Acc: 64.4%, Val_loss: 1.1 , Val_Acc: 61.3% , run time: 0.24\n",
            "[Epoch: 63]  , Train_loss: 0.9 , Train_Acc: 65.2%, Val_loss: 1.1 , Val_Acc: 59.6% , run time: 0.24\n",
            "[Epoch: 64]  , Train_loss: 0.9 , Train_Acc: 65.4%, Val_loss: 1.1 , Val_Acc: 60.7% , run time: 0.24\n",
            "[Epoch: 65]  , Train_loss: 0.9 , Train_Acc: 64.9%, Val_loss: 1.0 , Val_Acc: 60.7% , run time: 0.24\n",
            "[Epoch: 66]  , Train_loss: 0.9 , Train_Acc: 64.5%, Val_loss: 1.0 , Val_Acc: 60.9% , run time: 0.25\n",
            "[Epoch: 67]  , Train_loss: 0.9 , Train_Acc: 65.5%, Val_loss: 1.0 , Val_Acc: 61.1% , run time: 0.24\n",
            "[Epoch: 68]  , Train_loss: 0.9 , Train_Acc: 63.9%, Val_loss: 1.0 , Val_Acc: 60.4% , run time: 0.23\n",
            "[Epoch: 69]  , Train_loss: 0.9 , Train_Acc: 66.7%, Val_loss: 1.0 , Val_Acc: 60.7% , run time: 0.23\n",
            "[Epoch: 70]  , Train_loss: 0.9 , Train_Acc: 66.3%, Val_loss: 1.0 , Val_Acc: 61.1% , run time: 0.23\n",
            "[Epoch: 71]  , Train_loss: 0.9 , Train_Acc: 64.8%, Val_loss: 1.0 , Val_Acc: 60.7% , run time: 0.25\n",
            "[Epoch: 72]  , Train_loss: 0.9 , Train_Acc: 64.8%, Val_loss: 1.0 , Val_Acc: 62.0% , run time: 0.23\n",
            "[Epoch: 73]  , Train_loss: 0.9 , Train_Acc: 65.9%, Val_loss: 1.0 , Val_Acc: 60.4% , run time: 0.24\n",
            "[Epoch: 74]  , Train_loss: 0.9 , Train_Acc: 66.0%, Val_loss: 1.1 , Val_Acc: 61.1% , run time: 0.23\n",
            "[Epoch: 75]  , Train_loss: 0.9 , Train_Acc: 65.7%, Val_loss: 1.0 , Val_Acc: 61.8% , run time: 0.24\n",
            "[Epoch: 76]  , Train_loss: 0.9 , Train_Acc: 66.9%, Val_loss: 1.0 , Val_Acc: 60.7% , run time: 0.24\n",
            "[Epoch: 77]  , Train_loss: 0.9 , Train_Acc: 65.4%, Val_loss: 1.0 , Val_Acc: 60.9% , run time: 0.23\n",
            "[Epoch: 78]  , Train_loss: 0.9 , Train_Acc: 67.4%, Val_loss: 1.0 , Val_Acc: 61.3% , run time: 0.22\n",
            "[Epoch: 79]  , Train_loss: 0.9 , Train_Acc: 65.7%, Val_loss: 1.0 , Val_Acc: 60.0% , run time: 0.24\n",
            "[Epoch: 80]  , Train_loss: 0.9 , Train_Acc: 66.7%, Val_loss: 1.0 , Val_Acc: 61.1% , run time: 0.23\n",
            "[Epoch: 81]  , Train_loss: 0.9 , Train_Acc: 67.2%, Val_loss: 1.0 , Val_Acc: 61.3% , run time: 0.24\n",
            "[Epoch: 82]  , Train_loss: 0.9 , Train_Acc: 66.8%, Val_loss: 1.0 , Val_Acc: 61.1% , run time: 0.24\n",
            "[Epoch: 83]  , Train_loss: 0.9 , Train_Acc: 67.5%, Val_loss: 1.0 , Val_Acc: 61.6% , run time: 0.22\n",
            "[Epoch: 84]  , Train_loss: 0.9 , Train_Acc: 66.9%, Val_loss: 1.0 , Val_Acc: 61.6% , run time: 0.24\n",
            "[Epoch: 85]  , Train_loss: 0.9 , Train_Acc: 67.6%, Val_loss: 1.0 , Val_Acc: 60.7% , run time: 0.23\n",
            "[Epoch: 86]  , Train_loss: 0.8 , Train_Acc: 67.8%, Val_loss: 1.0 , Val_Acc: 61.6% , run time: 0.24\n",
            "[Epoch: 87]  , Train_loss: 0.9 , Train_Acc: 66.7%, Val_loss: 1.0 , Val_Acc: 61.3% , run time: 0.22\n",
            "[Epoch: 88]  , Train_loss: 0.9 , Train_Acc: 66.4%, Val_loss: 1.0 , Val_Acc: 61.8% , run time: 0.25\n",
            "[Epoch: 89]  , Train_loss: 0.8 , Train_Acc: 66.3%, Val_loss: 1.0 , Val_Acc: 61.3% , run time: 0.23\n",
            "[Epoch: 90]  , Train_loss: 0.8 , Train_Acc: 67.7%, Val_loss: 1.0 , Val_Acc: 62.4% , run time: 0.24\n",
            "[Epoch: 91]  , Train_loss: 0.8 , Train_Acc: 67.3%, Val_loss: 1.0 , Val_Acc: 62.0% , run time: 0.23\n",
            "[Epoch: 92]  , Train_loss: 0.8 , Train_Acc: 67.8%, Val_loss: 1.0 , Val_Acc: 61.6% , run time: 0.23\n",
            "[Epoch: 93]  , Train_loss: 0.8 , Train_Acc: 68.6%, Val_loss: 1.0 , Val_Acc: 61.1% , run time: 0.23\n",
            "[Epoch: 94]  , Train_loss: 0.8 , Train_Acc: 67.5%, Val_loss: 1.0 , Val_Acc: 60.7% , run time: 0.24\n",
            "[Epoch: 95]  , Train_loss: 0.8 , Train_Acc: 68.5%, Val_loss: 1.0 , Val_Acc: 60.9% , run time: 0.24\n",
            "[Epoch: 96]  , Train_loss: 0.8 , Train_Acc: 67.8%, Val_loss: 1.0 , Val_Acc: 60.2% , run time: 0.24\n",
            "[Epoch: 97]  , Train_loss: 0.8 , Train_Acc: 67.8%, Val_loss: 1.0 , Val_Acc: 60.9% , run time: 0.24\n",
            "[Epoch: 98]  , Train_loss: 0.8 , Train_Acc: 68.4%, Val_loss: 1.0 , Val_Acc: 60.4% , run time: 0.24\n",
            "[Epoch: 99]  , Train_loss: 0.8 , Train_Acc: 69.3%, Val_loss: 1.0 , Val_Acc: 60.2% , run time: 0.23\n",
            "[Epoch: 100]  , Train_loss: 0.8 , Train_Acc: 69.9%, Val_loss: 1.0 , Val_Acc: 60.7% , run time: 0.24\n"
          ]
        }
      ],
      "source": [
        "print_epochs = True\n",
        "param = CNN_CV_Details['hyper_param'][0]\n",
        "train_index = CNN_CV_Details['train_index'][0]\n",
        "valid_index = CNN_CV_Details['valid_index'][0]\n",
        "\n",
        "X_train = input_data[3][train_index]\n",
        "Y_train = labels[3][train_index]\n",
        "X_valid = input_data[3][valid_index]\n",
        "Y_valid = labels[3][valid_index]\n",
        "\n",
        "param1 = {'LR': 2e-3,\n",
        " 'Momentum': 0.78,\n",
        " 'Net': CNN_Nets.Net3,\n",
        " 'batch_size': 30,\n",
        " 'epochs': 100,\n",
        " 'loss_func': torch.nn.modules.loss.CrossEntropyLoss,\n",
        " 'opt_func': torch.optim.SGD,\n",
        " 'weight_decay': 1e-06}\n",
        "\n",
        "Model_CV = Model_Training(**param1,X_train = X_train, Y_train = Y_train, X_valid = X_valid, Y_valid= Y_valid, print_epochs =print_epochs,hyper_params=param)\n",
        "np.random.seed(0)\n",
        "random.seed(0)\n",
        "torch.manual_seed(0)\n",
        "Model_CV.train()"
      ]
    },
    {
      "cell_type": "code",
      "execution_count": null,
      "metadata": {
        "colab": {
          "base_uri": "https://localhost:8080/",
          "height": 665
        },
        "outputId": "da10386c-d5e6-48e5-994e-c70801727446",
        "id": "AmFzM9hLbNaz"
      },
      "outputs": [
        {
          "output_type": "stream",
          "name": "stdout",
          "text": [
            "Nr. of Data : \n",
            " 311\n",
            "Accuracy of The Model : \n",
            " 0.6591639871382636\n"
          ]
        },
        {
          "output_type": "execute_result",
          "data": {
            "text/plain": [
              "<pandas.io.formats.style.Styler at 0x7f93749b2250>"
            ],
            "text/html": [
              "<style type=\"text/css\">\n",
              "</style>\n",
              "<table id=\"T_8d6e5_\" class=\"dataframe\">\n",
              "  <thead>\n",
              "    <tr>\n",
              "      <th class=\"blank level0\" >&nbsp;</th>\n",
              "      <th class=\"col_heading level0 col0\" >weights</th>\n",
              "      <th class=\"col_heading level0 col1\" >Precision</th>\n",
              "      <th class=\"col_heading level0 col2\" >Recall_Sensitivity</th>\n",
              "      <th class=\"col_heading level0 col3\" >Specificity</th>\n",
              "      <th class=\"col_heading level0 col4\" >f1_score</th>\n",
              "    </tr>\n",
              "  </thead>\n",
              "  <tbody>\n",
              "    <tr>\n",
              "      <th id=\"T_8d6e5_level0_row0\" class=\"row_heading level0 row0\" >0</th>\n",
              "      <td id=\"T_8d6e5_row0_col0\" class=\"data row0 col0\" >7.4%</td>\n",
              "      <td id=\"T_8d6e5_row0_col1\" class=\"data row0 col1\" >40.9%</td>\n",
              "      <td id=\"T_8d6e5_row0_col2\" class=\"data row0 col2\" >39.1%</td>\n",
              "      <td id=\"T_8d6e5_row0_col3\" class=\"data row0 col3\" >95.5%</td>\n",
              "      <td id=\"T_8d6e5_row0_col4\" class=\"data row0 col4\" >40.0%</td>\n",
              "    </tr>\n",
              "    <tr>\n",
              "      <th id=\"T_8d6e5_level0_row1\" class=\"row_heading level0 row1\" >1</th>\n",
              "      <td id=\"T_8d6e5_row1_col0\" class=\"data row1 col0\" >10.6%</td>\n",
              "      <td id=\"T_8d6e5_row1_col1\" class=\"data row1 col1\" >53.3%</td>\n",
              "      <td id=\"T_8d6e5_row1_col2\" class=\"data row1 col2\" >72.7%</td>\n",
              "      <td id=\"T_8d6e5_row1_col3\" class=\"data row1 col3\" >92.4%</td>\n",
              "      <td id=\"T_8d6e5_row1_col4\" class=\"data row1 col4\" >61.5%</td>\n",
              "    </tr>\n",
              "    <tr>\n",
              "      <th id=\"T_8d6e5_level0_row2\" class=\"row_heading level0 row2\" >2</th>\n",
              "      <td id=\"T_8d6e5_row2_col0\" class=\"data row2 col0\" >23.5%</td>\n",
              "      <td id=\"T_8d6e5_row2_col1\" class=\"data row2 col1\" >64.4%</td>\n",
              "      <td id=\"T_8d6e5_row2_col2\" class=\"data row2 col2\" >64.4%</td>\n",
              "      <td id=\"T_8d6e5_row2_col3\" class=\"data row2 col3\" >89.1%</td>\n",
              "      <td id=\"T_8d6e5_row2_col4\" class=\"data row2 col4\" >64.4%</td>\n",
              "    </tr>\n",
              "    <tr>\n",
              "      <th id=\"T_8d6e5_level0_row3\" class=\"row_heading level0 row3\" >3</th>\n",
              "      <td id=\"T_8d6e5_row3_col0\" class=\"data row3 col0\" >2.3%</td>\n",
              "      <td id=\"T_8d6e5_row3_col1\" class=\"data row3 col1\" >40.0%</td>\n",
              "      <td id=\"T_8d6e5_row3_col2\" class=\"data row3 col2\" >28.6%</td>\n",
              "      <td id=\"T_8d6e5_row3_col3\" class=\"data row3 col3\" >99.0%</td>\n",
              "      <td id=\"T_8d6e5_row3_col4\" class=\"data row3 col4\" >33.3%</td>\n",
              "    </tr>\n",
              "    <tr>\n",
              "      <th id=\"T_8d6e5_level0_row4\" class=\"row_heading level0 row4\" >4</th>\n",
              "      <td id=\"T_8d6e5_row4_col0\" class=\"data row4 col0\" >19.6%</td>\n",
              "      <td id=\"T_8d6e5_row4_col1\" class=\"data row4 col1\" >66.7%</td>\n",
              "      <td id=\"T_8d6e5_row4_col2\" class=\"data row4 col2\" >49.2%</td>\n",
              "      <td id=\"T_8d6e5_row4_col3\" class=\"data row4 col3\" >94.0%</td>\n",
              "      <td id=\"T_8d6e5_row4_col4\" class=\"data row4 col4\" >56.6%</td>\n",
              "    </tr>\n",
              "    <tr>\n",
              "      <th id=\"T_8d6e5_level0_row5\" class=\"row_heading level0 row5\" >5</th>\n",
              "      <td id=\"T_8d6e5_row5_col0\" class=\"data row5 col0\" >33.4%</td>\n",
              "      <td id=\"T_8d6e5_row5_col1\" class=\"data row5 col1\" >76.5%</td>\n",
              "      <td id=\"T_8d6e5_row5_col2\" class=\"data row5 col2\" >84.6%</td>\n",
              "      <td id=\"T_8d6e5_row5_col3\" class=\"data row5 col3\" >87.0%</td>\n",
              "      <td id=\"T_8d6e5_row5_col4\" class=\"data row5 col4\" >80.4%</td>\n",
              "    </tr>\n",
              "    <tr>\n",
              "      <th id=\"T_8d6e5_level0_row6\" class=\"row_heading level0 row6\" >6</th>\n",
              "      <td id=\"T_8d6e5_row6_col0\" class=\"data row6 col0\" >3.2%</td>\n",
              "      <td id=\"T_8d6e5_row6_col1\" class=\"data row6 col1\" >83.3%</td>\n",
              "      <td id=\"T_8d6e5_row6_col2\" class=\"data row6 col2\" >50.0%</td>\n",
              "      <td id=\"T_8d6e5_row6_col3\" class=\"data row6 col3\" >99.7%</td>\n",
              "      <td id=\"T_8d6e5_row6_col4\" class=\"data row6 col4\" >62.5%</td>\n",
              "    </tr>\n",
              "    <tr>\n",
              "      <th id=\"T_8d6e5_level0_row7\" class=\"row_heading level0 row7\" >Simple Avg.</th>\n",
              "      <td id=\"T_8d6e5_row7_col0\" class=\"data row7 col0\" >nan%</td>\n",
              "      <td id=\"T_8d6e5_row7_col1\" class=\"data row7 col1\" >60.7%</td>\n",
              "      <td id=\"T_8d6e5_row7_col2\" class=\"data row7 col2\" >55.5%</td>\n",
              "      <td id=\"T_8d6e5_row7_col3\" class=\"data row7 col3\" >93.8%</td>\n",
              "      <td id=\"T_8d6e5_row7_col4\" class=\"data row7 col4\" >57.0%</td>\n",
              "    </tr>\n",
              "    <tr>\n",
              "      <th id=\"T_8d6e5_level0_row8\" class=\"row_heading level0 row8\" >Weighted Avg.</th>\n",
              "      <td id=\"T_8d6e5_row8_col0\" class=\"data row8 col0\" >nan%</td>\n",
              "      <td id=\"T_8d6e5_row8_col1\" class=\"data row8 col1\" >66.0%</td>\n",
              "      <td id=\"T_8d6e5_row8_col2\" class=\"data row8 col2\" >65.9%</td>\n",
              "      <td id=\"T_8d6e5_row8_col3\" class=\"data row8 col3\" >90.7%</td>\n",
              "      <td id=\"T_8d6e5_row8_col4\" class=\"data row8 col4\" >65.3%</td>\n",
              "    </tr>\n",
              "  </tbody>\n",
              "</table>\n"
            ]
          },
          "metadata": {},
          "execution_count": 184
        },
        {
          "output_type": "display_data",
          "data": {
            "text/plain": [
              "<Figure size 432x288 with 2 Axes>"
            ],
            "image/png": "[encoded data removed]"
          },
          "metadata": {
            "needs_background": "light"
          }
        }
      ],
      "source": [
        "model_ = Model_CV.model.eval()\n",
        "X = input_data[2].to(device)\n",
        "Y = labels[2].to(device)\n",
        "Y_pred = model_(X).argmax(dim=1)\n",
        "confusion_matrix(Y.to('cpu'),Y_pred.to('cpu'))"
      ]
    },
    {
      "cell_type": "code",
      "source": [
        "model_ = Model_CV\n",
        "epochs_X = [i for i in range(1, model_.epochs+1)]\n",
        "epochs_X\n",
        "plt.subplots(figsize=(6,4))\n",
        "\n",
        "plt.plot(epochs_X , model_.Epochs_Train_loss, 'o-', label='Train loss')\n",
        "plt.plot(epochs_X , model_.Epochs_Val_loss,'ro-', label='Validation loss')\n",
        "plt.xlabel(\"Epochs\", fontsize = 12)\n",
        "plt.ylabel(\"Loss\", fontsize = 12)\n",
        "plt.grid()\n",
        "plt.legend()\n",
        "plt.title('Train and Validation loss by epochs')\n",
        "plt.show()"
      ],
      "metadata": {
        "colab": {
          "base_uri": "https://localhost:8080/",
          "height": 298
        },
        "id": "amh6DOqrt6sP",
        "outputId": "1600a31e-4c65-45b4-adf6-81943950db97"
      },
      "execution_count": null,
      "outputs": [
        {
          "output_type": "display_data",
          "data": {
            "text/plain": [
              "<Figure size 432x288 with 1 Axes>"
            ],
            "image/png": "[encoded data removed]"
          },
          "metadata": {
            "needs_background": "light"
          }
        }
      ]
    },
    {
      "cell_type": "code",
      "source": [
        "model_ = Model_CV\n",
        "epochs_X = [i for i in range(1, model_.epochs+1)]\n",
        "epochs_X\n",
        "plt.subplots(figsize=(6,4))\n",
        "\n",
        "plt.plot(epochs_X , model_.Epochs_Train_Acc, 'o-', label='Train Accuracy')\n",
        "plt.plot(epochs_X , model_.Epochs_Val_Acc,'ro-', label='Validation Accuracy')\n",
        "plt.xlabel(\"Epochs\", fontsize = 12)\n",
        "plt.ylabel(\"Accuracy\", fontsize = 12)\n",
        "plt.grid()\n",
        "plt.legend()\n",
        "plt.title('Train and Validation Accuracy by epochs')\n",
        "plt.show()"
      ],
      "metadata": {
        "colab": {
          "base_uri": "https://localhost:8080/",
          "height": 298
        },
        "id": "N_3BtBCouJeg",
        "outputId": "e8b4af74-4904-42e8-cf0d-ebb00f194ebb"
      },
      "execution_count": null,
      "outputs": [
        {
          "output_type": "display_data",
          "data": {
            "text/plain": [
              "<Figure size 432x288 with 1 Axes>"
            ],
            "image/png": "[encoded data removed]"
          },
          "metadata": {
            "needs_background": "light"
          }
        }
      ]
    },
    {
      "cell_type": "markdown",
      "source": [
        "# **100 time model training to check Regularization of hyper parameters by Cross Validation**"
      ],
      "metadata": {
        "id": "zomymNkU4JNX"
      }
    },
    {
      "cell_type": "code",
      "source": [
        "K_Folds_test = sk.model_selection.KFold(n_splits=10, shuffle=True)\n",
        "K_Folds_valid = sk.model_selection.KFold(n_splits=10, shuffle=True)\n",
        "\n",
        "param1 = {'LR': 2e-3,\n",
        " 'Momentum': 0.78,\n",
        " 'Net': CNN_Nets.Net3,\n",
        " 'batch_size': 30,\n",
        " 'epochs': 100,\n",
        " 'loss_func': torch.nn.modules.loss.CrossEntropyLoss,\n",
        " 'opt_func': torch.optim.SGD,\n",
        " 'weight_decay': 1e-06}\n",
        "\n",
        "\n",
        "print_epochs = False\n",
        "# device = 'mps'\n",
        "\n",
        "CV_data = input_data[4]\n",
        "CV_label = labels[4]\n",
        "# CV_Details_ = pd.DataFrame(columns=['test_fscore','test_precision','test_recall'])\n",
        "\n",
        "CV_Details = pd.DataFrame(columns=['hyper_param','train_index','valid_index','train_accuracy','valid_accuracy','test_accuracy','train_fscore','valid_fscore','test_fscore','train_precision','valid_precision','test_precision'\n",
        "                                    ,'train_recall','valid_recall','test_recall'])\n",
        "\n",
        "# pbar = tqdm(range(10), ncols = 100, desc = \"Hyper Parameters - Level\")\n",
        "pbar = tqdm(enumerate(K_Folds_test.split(CV_data)), total=K_Folds_test.get_n_splits(), desc=\"Test set k-fold\",ncols = 100)\n",
        "\n",
        "for fold, (training_index, test_index) in pbar:\n",
        "    X_training = CV_data[training_index]\n",
        "    Y_training = CV_label[training_index]\n",
        "    X_test = CV_data[test_index]\n",
        "    Y_test = CV_label[test_index]\n",
        "\n",
        "    for fold, (train_index, valid_index) in enumerate(K_Folds_valid.split(X_training)):\n",
        "        X_train = X_training[train_index]\n",
        "        Y_train = Y_training[train_index]\n",
        "        X_valid = X_training[valid_index]\n",
        "        Y_valid = Y_training[valid_index]\n",
        "\n",
        "        # X_train = tensor_subset(input_data[3],train_index).dataset\n",
        "        # Y_train = tensor_subset(labels[3],train_index).dataset\n",
        "        # X_valid = tensor_subset(input_data[3],valid_index).dataset\n",
        "        # Y_valid = tensor_subset(labels[3],valid_index).dataset\n",
        "\n",
        "        Model_ = Model_Training(**param1, X_train = X_train, Y_train = Y_train, X_valid = X_valid, Y_valid= Y_valid, print_epochs = print_epochs,hyper_params=param)\n",
        "        np.random.seed(0)\n",
        "        random.seed(0)\n",
        "        torch.manual_seed(0)\n",
        "        Model_.train()\n",
        "\n",
        "        model_ = Model_.model.eval()\n",
        "            \n",
        "        # Train\n",
        "        Y_pred = model_(X_train.to(device)).argmax(axis=1)\n",
        "        Y = Y_train\n",
        "        train_accuracy = sk.metrics.accuracy_score(Y_pred.to('cpu'),Y.to('cpu') )\n",
        "        train_precision, train_recall, train_fscore, m = sk.metrics.precision_recall_fscore_support(Y_pred.to('cpu'),Y.to('cpu') , average = 'weighted')\n",
        "\n",
        "        # Valid\n",
        "        Y_pred = model_(X_valid.to(device)).argmax(axis=1)\n",
        "        Y = Y_valid\n",
        "        valid_accuracy = sk.metrics.accuracy_score(Y_pred.to('cpu'),Y.to('cpu') )\n",
        "        valid_precision, valid_recall, valid_fscore, m = sk.metrics.precision_recall_fscore_support(Y_pred.to('cpu'),Y.to('cpu') , average = 'weighted')\n",
        "\n",
        "        # Test\n",
        "        Y_pred = model_(X_test.to(device)).argmax(axis=1)\n",
        "        Y = Y_test\n",
        "        test_accuracy = sk.metrics.accuracy_score(Y_pred.to('cpu'),Y.to('cpu') )\n",
        "        test_precision, test_recall, test_fscore, m = sk.metrics.precision_recall_fscore_support(Y_pred.to('cpu'),Y.to('cpu') , average = 'weighted')\n",
        "        pbar.set_description(\"Test Accuracy %s\" % test_accuracy)\n",
        "        \n",
        "        new_row = pd.Series({'hyper_param':param,'train_index':train_index,'valid_index':valid_index,'train_accuracy':train_accuracy,'valid_accuracy':valid_accuracy,'test_accuracy':test_accuracy,'train_fscore':train_fscore,'valid_fscore':valid_fscore,'test_fscore':test_fscore\n",
        "        ,'train_precision':train_precision,'valid_precision':valid_precision,'test_precision':test_precision,'train_recall':train_recall,'valid_recall':valid_recall,'test_recall':test_recall}, name='')\n",
        "        CV_Details = CV_Details.append(new_row)\n",
        "\n",
        "CV_Regularization_Details = CV_Details.sort_values('test_accuracy', ascending=False)\n",
        "dat_hour = datetime.now().strftime(\"%d_%b_%Y_%H:%M\")\n",
        "CV_Regularization_Details.to_csv(G_save + 'CV_Regularization_Details_'+ dat_hour+ '.csv')"
      ],
      "metadata": {
        "id": "RLfqTs-54anr",
        "outputId": "5d600fe0-819f-4057-976e-3e32c9aa6fc1",
        "colab": {
          "base_uri": "https://localhost:8080/"
        }
      },
      "execution_count": null,
      "outputs": [
        {
          "output_type": "stream",
          "name": "stderr",
          "text": [
            "Test Accuracy 0.6516129032258065: 100%|████████████████████████████| 10/10 [38:54<00:00, 233.49s/it]\n"
          ]
        }
      ]
    },
    {
      "cell_type": "code",
      "source": [
        "import time\n",
        "import tqdm\n",
        "\n",
        "for outer in tqdm.tqdm_notebook(range(5), ncols = 1000, desc = \"First CV\", position = 0, leave=True):\n",
        "    for inner in tqdm.tqdm_notebook(range(3), ncols = 1000, desc = \"Second CV\", position = 1, leave=True):\n",
        "        time.sleep(0.5)\n",
        "print(\"done!\")"
      ],
      "metadata": {
        "id": "Qrgm1Bv1LFGA",
        "outputId": "138136db-9d25-4eae-d7db-d250388d3d21",
        "colab": {
          "base_uri": "https://localhost:8080/",
          "height": 227,
          "referenced_widgets": [
            "85d7bc82a81a40d3b9fab1e20600c557",
            "be352b193d7c455e9178f3f4d7ebed22",
            "3de9a8b170ce4130b7e40708c5dcbcd1",
            "08f7381530564c9ea201a25109d51078",
            "7417b2c3d0c741d4a0de7c5622e8fa47",
            "6c76d203441048f2a19e030f49371d2b",
            "ec43aa6dae744914b025294e35690d28",
            "e97e05e211114d2b8728f40928befdcf",
            "b9b0ec22db9c42d5a1bd669a857b34f3",
            "ac34ad21a84d4574b4dbf864a40488f7",
            "66710ab7378749acad984ec702e156e1",
            "c04a31fbbf7646cd807e195ccce5ceb2",
            "6be9a6b9584a4be3b19d9f7ec8a3e295",
            "964d360d1d1f49ebbb3f53fa3fb42f74",
            "042ae7ec91184dd58d029146f3335e31",
            "2d686eb03fed42609f808d3c1a8c97fc",
            "4bd60ef12ceb427d8fe5319e1528fe50",
            "9a9e8972ccdb4ce19defa72de3ff2066",
            "0a2162453b5e4d9ca145db9d0e5ffdba",
            "e57692e8f23940d4a49b3eaa5debcf43",
            "809c23f2a7f94a39b35470421b021a42",
            "bd0389c3a8774d9f82f3a5f340d6695a",
            "23c039afbc344ccd8751c233142d6eb0",
            "ec2c1914578441af80eb0adaed51d2b4",
            "48f391e49dc64d1d91c7064c9da95ddc",
            "6d841293a0ae417abc456ef08b1d0b2d",
            "58c7ff4c6d86401eb96b8b6b0ba751f4",
            "7b4d69d6a722472ebcb1c9eecf831acf",
            "e8540bf645744a99b9aaa18097db052e",
            "359cad9d089047e38c1fb71705da0628",
            "982985c4f58642a1aaae5f888b367ea0",
            "79b6be33bc6c4af28a0718fafb8fc45e",
            "44ec376276f44b3eae8d56b471649764",
            "6c50616baba74806bcfa47f6a248114c",
            "8bbfb4ae6abd448183e111086d174732",
            "4259ee9819c74659807b0922c5b10672",
            "a47f1f70e0c643369b2bc5e2cfc064e9",
            "b25020860b04498b8d0a0c4cf8db12fd",
            "f1f5e9cb63204d8480911aa80ab71f4d",
            "1cb20c656841478c83245b7374d77919",
            "a799acebe7d34b86b8285544543fb649",
            "130c816fb43643228890f9b1fb68e39e",
            "a7949d30402e4eafbe59d008e9a6900b",
            "9c582d579b6b4b2891e7803ac0b9cc61",
            "e2b15ce7e092418e8ef5018078f1f598",
            "522820b9d8c64b09a6b0dfef37eb85b1",
            "bd8ef52555a647a6b12bc2b859a94847",
            "1d0ec9714f44420c8593b5674e6cf203",
            "b0ab4e44bb6846d2bd5e4ed0c3435b8b",
            "9e358a68255541cfa98536f6b1fc8005",
            "4981f409c2294884bb27926f8c044f8e",
            "30fc1ad61cc44b8cb36d3b2afe9ab0e0",
            "99944324136445c6bb0ed926ec8ff7e5",
            "4a0048676252471baf4579c038f0613d",
            "b61cf8dda5754cf8a2fa7a8e9e722840",
            "10a52f09ecd94e7e97c50a957003a9a1",
            "81e30fe318f14838823ffb2170c08c92",
            "3a839e1bfa164eaeb1ca98b51fbd4f41",
            "18f7912f12fb4858946b4ed2959f98ab",
            "08fac5658c4044cc90366a67af7f55f6",
            "e3aa87064b7947c4a50410c7c1df3e71",
            "56500e1343a64ec7b406d31678c542c9",
            "79286d287b5c4c6ca40a06d24c9728c7",
            "cf0824095ae5403890d66aad1f877104",
            "9890c394421547dd82293df7abb44d86",
            "301572b4df3c4d42b021b7e2f65e10c3"
          ]
        }
      },
      "execution_count": null,
      "outputs": [
        {
          "output_type": "display_data",
          "data": {
            "text/plain": [
              "First CV:   0%|                                                                                               …"
            ],
            "application/vnd.jupyter.widget-view+json": {
              "version_major": 2,
              "version_minor": 0,
              "model_id": "85d7bc82a81a40d3b9fab1e20600c557"
            }
          },
          "metadata": {}
        },
        {
          "output_type": "display_data",
          "data": {
            "text/plain": [
              "Second CV:   0%|                                                                                              …"
            ],
            "application/vnd.jupyter.widget-view+json": {
              "version_major": 2,
              "version_minor": 0,
              "model_id": "c04a31fbbf7646cd807e195ccce5ceb2"
            }
          },
          "metadata": {}
        },
        {
          "output_type": "display_data",
          "data": {
            "text/plain": [
              "Second CV:   0%|                                                                                              …"
            ],
            "application/vnd.jupyter.widget-view+json": {
              "version_major": 2,
              "version_minor": 0,
              "model_id": "23c039afbc344ccd8751c233142d6eb0"
            }
          },
          "metadata": {}
        },
        {
          "output_type": "display_data",
          "data": {
            "text/plain": [
              "Second CV:   0%|                                                                                              …"
            ],
            "application/vnd.jupyter.widget-view+json": {
              "version_major": 2,
              "version_minor": 0,
              "model_id": "6c50616baba74806bcfa47f6a248114c"
            }
          },
          "metadata": {}
        },
        {
          "output_type": "display_data",
          "data": {
            "text/plain": [
              "Second CV:   0%|                                                                                              …"
            ],
            "application/vnd.jupyter.widget-view+json": {
              "version_major": 2,
              "version_minor": 0,
              "model_id": "e2b15ce7e092418e8ef5018078f1f598"
            }
          },
          "metadata": {}
        },
        {
          "output_type": "display_data",
          "data": {
            "text/plain": [
              "Second CV:   0%|                                                                                              …"
            ],
            "application/vnd.jupyter.widget-view+json": {
              "version_major": 2,
              "version_minor": 0,
              "model_id": "10a52f09ecd94e7e97c50a957003a9a1"
            }
          },
          "metadata": {}
        },
        {
          "output_type": "stream",
          "name": "stdout",
          "text": [
            "done!\n"
          ]
        }
      ]
    },
    {
      "cell_type": "code",
      "source": [
        "test_models"
      ],
      "metadata": {
        "id": "EDF1epAPRfbg",
        "outputId": "52ae467a-a051-4605-bb60-2682a069f6c5",
        "colab": {
          "base_uri": "https://localhost:8080/",
          "height": 424
        }
      },
      "execution_count": null,
      "outputs": [
        {
          "output_type": "execute_result",
          "data": {
            "text/plain": [
              "    test_accuracy  test_precision  test_fscore\n",
              "         0.674194        0.706111     0.687295\n",
              "         0.665595        0.700969     0.673947\n",
              "         0.662379        0.695334     0.671039\n",
              "         0.659164        0.682044     0.664517\n",
              "         0.655949        0.679155     0.662436\n",
              "..            ...             ...          ...\n",
              "         0.572347        0.585488     0.573593\n",
              "         0.572347        0.584676     0.574928\n",
              "         0.569132        0.584228     0.569890\n",
              "         0.569132        0.587287     0.567741\n",
              "         0.562701        0.586011     0.560640\n",
              "\n",
              "[100 rows x 3 columns]"
            ],
            "text/html": [
              "\n",
              "  <div id=\"df-ce26a6d4-c42d-4b42-a79f-58c90454ded1\">\n",
              "    <div class=\"colab-df-container\">\n",
              "      <div>\n",
              "<style scoped>\n",
              "    .dataframe tbody tr th:only-of-type {\n",
              "        vertical-align: middle;\n",
              "    }\n",
              "\n",
              "    .dataframe tbody tr th {\n",
              "        vertical-align: top;\n",
              "    }\n",
              "\n",
              "    .dataframe thead th {\n",
              "        text-align: right;\n",
              "    }\n",
              "</style>\n",
              "<table border=\"1\" class=\"dataframe\">\n",
              "  <thead>\n",
              "    <tr style=\"text-align: right;\">\n",
              "      <th></th>\n",
              "      <th>test_accuracy</th>\n",
              "      <th>test_precision</th>\n",
              "      <th>test_fscore</th>\n",
              "    </tr>\n",
              "  </thead>\n",
              "  <tbody>\n",
              "    <tr>\n",
              "      <th></th>\n",
              "      <td>0.674194</td>\n",
              "      <td>0.706111</td>\n",
              "      <td>0.687295</td>\n",
              "    </tr>\n",
              "    <tr>\n",
              "      <th></th>\n",
              "      <td>0.665595</td>\n",
              "      <td>0.700969</td>\n",
              "      <td>0.673947</td>\n",
              "    </tr>\n",
              "    <tr>\n",
              "      <th></th>\n",
              "      <td>0.662379</td>\n",
              "      <td>0.695334</td>\n",
              "      <td>0.671039</td>\n",
              "    </tr>\n",
              "    <tr>\n",
              "      <th></th>\n",
              "      <td>0.659164</td>\n",
              "      <td>0.682044</td>\n",
              "      <td>0.664517</td>\n",
              "    </tr>\n",
              "    <tr>\n",
              "      <th></th>\n",
              "      <td>0.655949</td>\n",
              "      <td>0.679155</td>\n",
              "      <td>0.662436</td>\n",
              "    </tr>\n",
              "    <tr>\n",
              "      <th>...</th>\n",
              "      <td>...</td>\n",
              "      <td>...</td>\n",
              "      <td>...</td>\n",
              "    </tr>\n",
              "    <tr>\n",
              "      <th></th>\n",
              "      <td>0.572347</td>\n",
              "      <td>0.585488</td>\n",
              "      <td>0.573593</td>\n",
              "    </tr>\n",
              "    <tr>\n",
              "      <th></th>\n",
              "      <td>0.572347</td>\n",
              "      <td>0.584676</td>\n",
              "      <td>0.574928</td>\n",
              "    </tr>\n",
              "    <tr>\n",
              "      <th></th>\n",
              "      <td>0.569132</td>\n",
              "      <td>0.584228</td>\n",
              "      <td>0.569890</td>\n",
              "    </tr>\n",
              "    <tr>\n",
              "      <th></th>\n",
              "      <td>0.569132</td>\n",
              "      <td>0.587287</td>\n",
              "      <td>0.567741</td>\n",
              "    </tr>\n",
              "    <tr>\n",
              "      <th></th>\n",
              "      <td>0.562701</td>\n",
              "      <td>0.586011</td>\n",
              "      <td>0.560640</td>\n",
              "    </tr>\n",
              "  </tbody>\n",
              "</table>\n",
              "<p>100 rows × 3 columns</p>\n",
              "</div>\n",
              "      <button class=\"colab-df-convert\" onclick=\"convertToInteractive('df-ce26a6d4-c42d-4b42-a79f-58c90454ded1')\"\n",
              "              title=\"Convert this dataframe to an interactive table.\"\n",
              "              style=\"display:none;\">\n",
              "        \n",
              "  <svg xmlns=\"http://www.w3.org/2000/svg\" height=\"24px\"viewBox=\"0 0 24 24\"\n",
              "       width=\"24px\">\n",
              "    <path d=\"M0 0h24v24H0V0z\" fill=\"none\"/>\n",
              "    <path d=\"M18.56 5.44l.94 2.06.94-2.06 2.06-.94-2.06-.94-.94-2.06-.94 2.06-2.06.94zm-11 1L8.5 8.5l.94-2.06 2.06-.94-2.06-.94L8.5 2.5l-.94 2.06-2.06.94zm10 10l.94 2.06.94-2.06 2.06-.94-2.06-.94-.94-2.06-.94 2.06-2.06.94z\"/><path d=\"M17.41 7.96l-1.37-1.37c-.4-.4-.92-.59-1.43-.59-.52 0-1.04.2-1.43.59L10.3 9.45l-7.72 7.72c-.78.78-.78 2.05 0 2.83L4 21.41c.39.39.9.59 1.41.59.51 0 1.02-.2 1.41-.59l7.78-7.78 2.81-2.81c.8-.78.8-2.07 0-2.86zM5.41 20L4 18.59l7.72-7.72 1.47 1.35L5.41 20z\"/>\n",
              "  </svg>\n",
              "      </button>\n",
              "      \n",
              "  <style>\n",
              "    .colab-df-container {\n",
              "      display:flex;\n",
              "      flex-wrap:wrap;\n",
              "      gap: 12px;\n",
              "    }\n",
              "\n",
              "    .colab-df-convert {\n",
              "      background-color: #E8F0FE;\n",
              "      border: none;\n",
              "      border-radius: 50%;\n",
              "      cursor: pointer;\n",
              "      display: none;\n",
              "      fill: #1967D2;\n",
              "      height: 32px;\n",
              "      padding: 0 0 0 0;\n",
              "      width: 32px;\n",
              "    }\n",
              "\n",
              "    .colab-df-convert:hover {\n",
              "      background-color: #E2EBFA;\n",
              "      box-shadow: 0px 1px 2px rgba(60, 64, 67, 0.3), 0px 1px 3px 1px rgba(60, 64, 67, 0.15);\n",
              "      fill: #174EA6;\n",
              "    }\n",
              "\n",
              "    [theme=dark] .colab-df-convert {\n",
              "      background-color: #3B4455;\n",
              "      fill: #D2E3FC;\n",
              "    }\n",
              "\n",
              "    [theme=dark] .colab-df-convert:hover {\n",
              "      background-color: #434B5C;\n",
              "      box-shadow: 0px 1px 3px 1px rgba(0, 0, 0, 0.15);\n",
              "      filter: drop-shadow(0px 1px 2px rgba(0, 0, 0, 0.3));\n",
              "      fill: #FFFFFF;\n",
              "    }\n",
              "  </style>\n",
              "\n",
              "      <script>\n",
              "        const buttonEl =\n",
              "          document.querySelector('#df-ce26a6d4-c42d-4b42-a79f-58c90454ded1 button.colab-df-convert');\n",
              "        buttonEl.style.display =\n",
              "          google.colab.kernel.accessAllowed ? 'block' : 'none';\n",
              "\n",
              "        async function convertToInteractive(key) {\n",
              "          const element = document.querySelector('#df-ce26a6d4-c42d-4b42-a79f-58c90454ded1');\n",
              "          const dataTable =\n",
              "            await google.colab.kernel.invokeFunction('convertToInteractive',\n",
              "                                                     [key], {});\n",
              "          if (!dataTable) return;\n",
              "\n",
              "          const docLinkHtml = 'Like what you see? Visit the ' +\n",
              "            '<a target=\"_blank\" href=https://colab.research.google.com/notebooks/data_table.ipynb>data table notebook</a>'\n",
              "            + ' to learn more about interactive tables.';\n",
              "          element.innerHTML = '';\n",
              "          dataTable['output_type'] = 'display_data';\n",
              "          await google.colab.output.renderOutput(dataTable, element);\n",
              "          const docLink = document.createElement('div');\n",
              "          docLink.innerHTML = docLinkHtml;\n",
              "          element.appendChild(docLink);\n",
              "        }\n",
              "      </script>\n",
              "    </div>\n",
              "  </div>\n",
              "  "
            ]
          },
          "metadata": {},
          "execution_count": 182
        }
      ]
    },
    {
      "cell_type": "code",
      "source": [
        "col_test = ['test_accuracy','test_precision','test_fscore']\n",
        "test_models = CV_Regularization_Details[col_test]\n",
        "col_valid = ['valid_accuracy','valid_precision','valid_fscore']\n",
        "valid_models = CV_Regularization_Details[col_valid]\n",
        "train_test = ['train_accuracy','train_precision','train_fscore']\n",
        "train_models = CV_Regularization_Details[train_test]"
      ],
      "metadata": {
        "id": "3zKshOw9PaDt"
      },
      "execution_count": null,
      "outputs": []
    },
    {
      "cell_type": "code",
      "source": [
        "plt.subplots(figsize=(8,4))\n",
        "sns.boxplot(data=test_models)\n",
        "plt.title('Test performance of 100 Cross-Validation',fontsize = 18)\n",
        "plt.xlabel(\"Classifiers\", fontsize = 14)\n",
        "plt.ylabel(\"Accuracy\", fontsize = 14)\n",
        "plt.xticks(fontsize=16, rotation=0)\n",
        "plt.show()\n",
        "\n",
        "plt.subplots(figsize=(8,4))\n",
        "sns.boxplot(data=valid_models)\n",
        "plt.title('Valid performance of 100 Cross-Validation',fontsize = 18)\n",
        "plt.xlabel(\"Classifiers\", fontsize = 14)\n",
        "plt.ylabel(\"Accuracy\", fontsize = 14)\n",
        "plt.xticks(fontsize=16, rotation=0)\n",
        "plt.show()\n",
        "\n",
        "plt.subplots(figsize=(8,4))\n",
        "sns.boxplot(data=train_models)\n",
        "plt.title('Train performance of 100 Cross-Validation',fontsize = 18)\n",
        "plt.xlabel(\"Classifiers\", fontsize = 14)\n",
        "plt.ylabel(\"Accuracy\", fontsize = 14)\n",
        "plt.xticks(fontsize=16, rotation=0)\n",
        "plt.show()"
      ],
      "metadata": {
        "id": "SYPZ9JOfPYIe",
        "outputId": "290b2f8a-27c0-467a-fe0f-60d18ba7c3c0",
        "colab": {
          "base_uri": "https://localhost:8080/",
          "height": 896
        }
      },
      "execution_count": null,
      "outputs": [
        {
          "output_type": "display_data",
          "data": {
            "text/plain": [
              "<Figure size 576x288 with 1 Axes>"
            ],
            "image/png": "[encoded data removed]"
          },
          "metadata": {
            "needs_background": "light"
          }
        },
        {
          "output_type": "display_data",
          "data": {
            "text/plain": [
              "<Figure size 576x288 with 1 Axes>"
            ],
            "image/png": "[encoded data removed]"
          },
          "metadata": {
            "needs_background": "light"
          }
        },
        {
          "output_type": "display_data",
          "data": {
            "text/plain": [
              "<Figure size 576x288 with 1 Axes>"
            ],
            "image/png": "[encoded data removed]"
          },
          "metadata": {
            "needs_background": "light"
          }
        }
      ]
    },
    {
      "cell_type": "markdown",
      "metadata": {
        "id": "xg-ZJmCpAlDj"
      },
      "source": [
        "# **Save the model**"
      ]
    },
    {
      "cell_type": "code",
      "execution_count": null,
      "metadata": {
        "id": "DM15kY74AlDj"
      },
      "outputs": [],
      "source": [
        "dat_hour = datetime.now().strftime(\"%d_%b_%Y_%H:%M\")\n",
        "pickle.dump(Model_Grid, open(G_save + 'CNN_60x45_Best_Grid_'+dat_hour, 'wb'))\n",
        "pickle.dump(Model_CV, open(G_save + 'CNN_60x45_Best_CV_'+dat_hour, 'wb'))"
      ]
    },
    {
      "cell_type": "markdown",
      "source": [
        "# **Save Grid search-Cross Validation Details**"
      ],
      "metadata": {
        "id": "EJkLbYB2_w4H"
      }
    },
    {
      "cell_type": "code",
      "execution_count": null,
      "metadata": {
        "id": "ZgZ8d28qAlDj"
      },
      "outputs": [],
      "source": [
        "pickle.dump([CNN_Nets, Model_Training], open(G_save + 'CNNs_Network_Training', \"wb\"))"
      ]
    },
    {
      "cell_type": "code",
      "source": [
        "dat_hour = datetime.now().strftime(\"%d_%b_%Y_%H:%M\")\n",
        "pickle.dump(Grid_Details, open(G_save + 'Grid_Details_'+dat_hour, 'wb'))\n",
        "pickle.dump(CNN_CV_Details, open(G_save + 'CNN_CV_Details_'+dat_hour, 'wb'))\n",
        "\n",
        "Grid_Details.to_csv(G_save + 'Grid_Details_'+dat_hour +'.csv')\n",
        "CNN_CV_Details.to_csv(G_save + 'CNN_CV_Details_'+dat_hour+ '.csv')"
      ],
      "metadata": {
        "id": "bnwerzvcA_Wu"
      },
      "execution_count": null,
      "outputs": []
    },
    {
      "cell_type": "markdown",
      "metadata": {
        "id": "oW6taeF-AlDj"
      },
      "source": [
        ""
      ]
    },
    {
      "cell_type": "code",
      "source": [
        "  "
      ],
      "metadata": {
        "id": "yfVbVtw1BgO9"
      },
      "execution_count": null,
      "outputs": []
    }
  ],
  "metadata": {
    "accelerator": "GPU",
    "colab": {
      "name": "CNN_60x45.ipynb",
      "provenance": [],
      "include_colab_link": true
    },
    "interpreter": {
      "hash": "31f2aee4e71d21fbe5cf8b01ff0e069b9275f58929596ceb00d14d90e3e16cd6"
    },
    "kernelspec": {
      "display_name": "Python 3.8.9 64-bit",
      "language": "python",
      "name": "python3"
    },
    "language_info": {
      "codemirror_mode": {
        "name": "ipython",
        "version": 3
      },
      "file_extension": ".py",
      "mimetype": "text/x-python",
      "name": "python",
      "nbconvert_exporter": "python",
      "pygments_lexer": "ipython3",
      "version": "3.8.9"
    },
    "gpuClass": "standard",
    "widgets": {
      "application/vnd.jupyter.widget-state+json": {
        "85d7bc82a81a40d3b9fab1e20600c557": {
          "model_module": "@jupyter-widgets/controls",
          "model_name": "HBoxModel",
          "model_module_version": "1.5.0",
          "state": {
            "_dom_classes": [],
            "_model_module": "@jupyter-widgets/controls",
            "_model_module_version": "1.5.0",
            "_model_name": "HBoxModel",
            "_view_count": null,
            "_view_module": "@jupyter-widgets/controls",
            "_view_module_version": "1.5.0",
            "_view_name": "HBoxView",
            "box_style": "",
            "children": [
              "IPY_MODEL_be352b193d7c455e9178f3f4d7ebed22",
              "IPY_MODEL_3de9a8b170ce4130b7e40708c5dcbcd1",
              "IPY_MODEL_08f7381530564c9ea201a25109d51078"
            ],
            "layout": "IPY_MODEL_7417b2c3d0c741d4a0de7c5622e8fa47"
          }
        },
        "be352b193d7c455e9178f3f4d7ebed22": {
          "model_module": "@jupyter-widgets/controls",
          "model_name": "HTMLModel",
          "model_module_version": "1.5.0",
          "state": {
            "_dom_classes": [],
            "_model_module": "@jupyter-widgets/controls",
            "_model_module_version": "1.5.0",
            "_model_name": "HTMLModel",
            "_view_count": null,
            "_view_module": "@jupyter-widgets/controls",
            "_view_module_version": "1.5.0",
            "_view_name": "HTMLView",
            "description": "",
            "description_tooltip": null,
            "layout": "IPY_MODEL_6c76d203441048f2a19e030f49371d2b",
            "placeholder": "​",
            "style": "IPY_MODEL_ec43aa6dae744914b025294e35690d28",
            "value": "First CV: 100%"
          }
        },
        "3de9a8b170ce4130b7e40708c5dcbcd1": {
          "model_module": "@jupyter-widgets/controls",
          "model_name": "FloatProgressModel",
          "model_module_version": "1.5.0",
          "state": {
            "_dom_classes": [],
            "_model_module": "@jupyter-widgets/controls",
            "_model_module_version": "1.5.0",
            "_model_name": "FloatProgressModel",
            "_view_count": null,
            "_view_module": "@jupyter-widgets/controls",
            "_view_module_version": "1.5.0",
            "_view_name": "ProgressView",
            "bar_style": "success",
            "description": "",
            "description_tooltip": null,
            "layout": "IPY_MODEL_e97e05e211114d2b8728f40928befdcf",
            "max": 5,
            "min": 0,
            "orientation": "horizontal",
            "style": "IPY_MODEL_b9b0ec22db9c42d5a1bd669a857b34f3",
            "value": 5
          }
        },
        "08f7381530564c9ea201a25109d51078": {
          "model_module": "@jupyter-widgets/controls",
          "model_name": "HTMLModel",
          "model_module_version": "1.5.0",
          "state": {
            "_dom_classes": [],
            "_model_module": "@jupyter-widgets/controls",
            "_model_module_version": "1.5.0",
            "_model_name": "HTMLModel",
            "_view_count": null,
            "_view_module": "@jupyter-widgets/controls",
            "_view_module_version": "1.5.0",
            "_view_name": "HTMLView",
            "description": "",
            "description_tooltip": null,
            "layout": "IPY_MODEL_ac34ad21a84d4574b4dbf864a40488f7",
            "placeholder": "​",
            "style": "IPY_MODEL_66710ab7378749acad984ec702e156e1",
            "value": " 5/5 [00:07&lt;00:00,  1.55s/it]"
          }
        },
        "7417b2c3d0c741d4a0de7c5622e8fa47": {
          "model_module": "@jupyter-widgets/base",
          "model_name": "LayoutModel",
          "model_module_version": "1.2.0",
          "state": {
            "_model_module": "@jupyter-widgets/base",
            "_model_module_version": "1.2.0",
            "_model_name": "LayoutModel",
            "_view_count": null,
            "_view_module": "@jupyter-widgets/base",
            "_view_module_version": "1.2.0",
            "_view_name": "LayoutView",
            "align_content": null,
            "align_items": null,
            "align_self": null,
            "border": null,
            "bottom": null,
            "display": "inline-flex",
            "flex": null,
            "flex_flow": "row wrap",
            "grid_area": null,
            "grid_auto_columns": null,
            "grid_auto_flow": null,
            "grid_auto_rows": null,
            "grid_column": null,
            "grid_gap": null,
            "grid_row": null,
            "grid_template_areas": null,
            "grid_template_columns": null,
            "grid_template_rows": null,
            "height": null,
            "justify_content": null,
            "justify_items": null,
            "left": null,
            "margin": null,
            "max_height": null,
            "max_width": null,
            "min_height": null,
            "min_width": null,
            "object_fit": null,
            "object_position": null,
            "order": null,
            "overflow": null,
            "overflow_x": null,
            "overflow_y": null,
            "padding": null,
            "right": null,
            "top": null,
            "visibility": null,
            "width": "1000px"
          }
        },
        "6c76d203441048f2a19e030f49371d2b": {
          "model_module": "@jupyter-widgets/base",
          "model_name": "LayoutModel",
          "model_module_version": "1.2.0",
          "state": {
            "_model_module": "@jupyter-widgets/base",
            "_model_module_version": "1.2.0",
            "_model_name": "LayoutModel",
            "_view_count": null,
            "_view_module": "@jupyter-widgets/base",
            "_view_module_version": "1.2.0",
            "_view_name": "LayoutView",
            "align_content": null,
            "align_items": null,
            "align_self": null,
            "border": null,
            "bottom": null,
            "display": null,
            "flex": null,
            "flex_flow": null,
            "grid_area": null,
            "grid_auto_columns": null,
            "grid_auto_flow": null,
            "grid_auto_rows": null,
            "grid_column": null,
            "grid_gap": null,
            "grid_row": null,
            "grid_template_areas": null,
            "grid_template_columns": null,
            "grid_template_rows": null,
            "height": null,
            "justify_content": null,
            "justify_items": null,
            "left": null,
            "margin": null,
            "max_height": null,
            "max_width": null,
            "min_height": null,
            "min_width": null,
            "object_fit": null,
            "object_position": null,
            "order": null,
            "overflow": null,
            "overflow_x": null,
            "overflow_y": null,
            "padding": null,
            "right": null,
            "top": null,
            "visibility": null,
            "width": null
          }
        },
        "ec43aa6dae744914b025294e35690d28": {
          "model_module": "@jupyter-widgets/controls",
          "model_name": "DescriptionStyleModel",
          "model_module_version": "1.5.0",
          "state": {
            "_model_module": "@jupyter-widgets/controls",
            "_model_module_version": "1.5.0",
            "_model_name": "DescriptionStyleModel",
            "_view_count": null,
            "_view_module": "@jupyter-widgets/base",
            "_view_module_version": "1.2.0",
            "_view_name": "StyleView",
            "description_width": ""
          }
        },
        "e97e05e211114d2b8728f40928befdcf": {
          "model_module": "@jupyter-widgets/base",
          "model_name": "LayoutModel",
          "model_module_version": "1.2.0",
          "state": {
            "_model_module": "@jupyter-widgets/base",
            "_model_module_version": "1.2.0",
            "_model_name": "LayoutModel",
            "_view_count": null,
            "_view_module": "@jupyter-widgets/base",
            "_view_module_version": "1.2.0",
            "_view_name": "LayoutView",
            "align_content": null,
            "align_items": null,
            "align_self": null,
            "border": null,
            "bottom": null,
            "display": null,
            "flex": "2",
            "flex_flow": null,
            "grid_area": null,
            "grid_auto_columns": null,
            "grid_auto_flow": null,
            "grid_auto_rows": null,
            "grid_column": null,
            "grid_gap": null,
            "grid_row": null,
            "grid_template_areas": null,
            "grid_template_columns": null,
            "grid_template_rows": null,
            "height": null,
            "justify_content": null,
            "justify_items": null,
            "left": null,
            "margin": null,
            "max_height": null,
            "max_width": null,
            "min_height": null,
            "min_width": null,
            "object_fit": null,
            "object_position": null,
            "order": null,
            "overflow": null,
            "overflow_x": null,
            "overflow_y": null,
            "padding": null,
            "right": null,
            "top": null,
            "visibility": null,
            "width": null
          }
        },
        "b9b0ec22db9c42d5a1bd669a857b34f3": {
          "model_module": "@jupyter-widgets/controls",
          "model_name": "ProgressStyleModel",
          "model_module_version": "1.5.0",
          "state": {
            "_model_module": "@jupyter-widgets/controls",
            "_model_module_version": "1.5.0",
            "_model_name": "ProgressStyleModel",
            "_view_count": null,
            "_view_module": "@jupyter-widgets/base",
            "_view_module_version": "1.2.0",
            "_view_name": "StyleView",
            "bar_color": null,
            "description_width": ""
          }
        },
        "ac34ad21a84d4574b4dbf864a40488f7": {
          "model_module": "@jupyter-widgets/base",
          "model_name": "LayoutModel",
          "model_module_version": "1.2.0",
          "state": {
            "_model_module": "@jupyter-widgets/base",
            "_model_module_version": "1.2.0",
            "_model_name": "LayoutModel",
            "_view_count": null,
            "_view_module": "@jupyter-widgets/base",
            "_view_module_version": "1.2.0",
            "_view_name": "LayoutView",
            "align_content": null,
            "align_items": null,
            "align_self": null,
            "border": null,
            "bottom": null,
            "display": null,
            "flex": null,
            "flex_flow": null,
            "grid_area": null,
            "grid_auto_columns": null,
            "grid_auto_flow": null,
            "grid_auto_rows": null,
            "grid_column": null,
            "grid_gap": null,
            "grid_row": null,
            "grid_template_areas": null,
            "grid_template_columns": null,
            "grid_template_rows": null,
            "height": null,
            "justify_content": null,
            "justify_items": null,
            "left": null,
            "margin": null,
            "max_height": null,
            "max_width": null,
            "min_height": null,
            "min_width": null,
            "object_fit": null,
            "object_position": null,
            "order": null,
            "overflow": null,
            "overflow_x": null,
            "overflow_y": null,
            "padding": null,
            "right": null,
            "top": null,
            "visibility": null,
            "width": null
          }
        },
        "66710ab7378749acad984ec702e156e1": {
          "model_module": "@jupyter-widgets/controls",
          "model_name": "DescriptionStyleModel",
          "model_module_version": "1.5.0",
          "state": {
            "_model_module": "@jupyter-widgets/controls",
            "_model_module_version": "1.5.0",
            "_model_name": "DescriptionStyleModel",
            "_view_count": null,
            "_view_module": "@jupyter-widgets/base",
            "_view_module_version": "1.2.0",
            "_view_name": "StyleView",
            "description_width": ""
          }
        },
        "c04a31fbbf7646cd807e195ccce5ceb2": {
          "model_module": "@jupyter-widgets/controls",
          "model_name": "HBoxModel",
          "model_module_version": "1.5.0",
          "state": {
            "_dom_classes": [],
            "_model_module": "@jupyter-widgets/controls",
            "_model_module_version": "1.5.0",
            "_model_name": "HBoxModel",
            "_view_count": null,
            "_view_module": "@jupyter-widgets/controls",
            "_view_module_version": "1.5.0",
            "_view_name": "HBoxView",
            "box_style": "",
            "children": [
              "IPY_MODEL_6be9a6b9584a4be3b19d9f7ec8a3e295",
              "IPY_MODEL_964d360d1d1f49ebbb3f53fa3fb42f74",
              "IPY_MODEL_042ae7ec91184dd58d029146f3335e31"
            ],
            "layout": "IPY_MODEL_2d686eb03fed42609f808d3c1a8c97fc"
          }
        },
        "6be9a6b9584a4be3b19d9f7ec8a3e295": {
          "model_module": "@jupyter-widgets/controls",
          "model_name": "HTMLModel",
          "model_module_version": "1.5.0",
          "state": {
            "_dom_classes": [],
            "_model_module": "@jupyter-widgets/controls",
            "_model_module_version": "1.5.0",
            "_model_name": "HTMLModel",
            "_view_count": null,
            "_view_module": "@jupyter-widgets/controls",
            "_view_module_version": "1.5.0",
            "_view_name": "HTMLView",
            "description": "",
            "description_tooltip": null,
            "layout": "IPY_MODEL_4bd60ef12ceb427d8fe5319e1528fe50",
            "placeholder": "​",
            "style": "IPY_MODEL_9a9e8972ccdb4ce19defa72de3ff2066",
            "value": "Second CV: 100%"
          }
        },
        "964d360d1d1f49ebbb3f53fa3fb42f74": {
          "model_module": "@jupyter-widgets/controls",
          "model_name": "FloatProgressModel",
          "model_module_version": "1.5.0",
          "state": {
            "_dom_classes": [],
            "_model_module": "@jupyter-widgets/controls",
            "_model_module_version": "1.5.0",
            "_model_name": "FloatProgressModel",
            "_view_count": null,
            "_view_module": "@jupyter-widgets/controls",
            "_view_module_version": "1.5.0",
            "_view_name": "ProgressView",
            "bar_style": "success",
            "description": "",
            "description_tooltip": null,
            "layout": "IPY_MODEL_0a2162453b5e4d9ca145db9d0e5ffdba",
            "max": 3,
            "min": 0,
            "orientation": "horizontal",
            "style": "IPY_MODEL_e57692e8f23940d4a49b3eaa5debcf43",
            "value": 3
          }
        },
        "042ae7ec91184dd58d029146f3335e31": {
          "model_module": "@jupyter-widgets/controls",
          "model_name": "HTMLModel",
          "model_module_version": "1.5.0",
          "state": {
            "_dom_classes": [],
            "_model_module": "@jupyter-widgets/controls",
            "_model_module_version": "1.5.0",
            "_model_name": "HTMLModel",
            "_view_count": null,
            "_view_module": "@jupyter-widgets/controls",
            "_view_module_version": "1.5.0",
            "_view_name": "HTMLView",
            "description": "",
            "description_tooltip": null,
            "layout": "IPY_MODEL_809c23f2a7f94a39b35470421b021a42",
            "placeholder": "​",
            "style": "IPY_MODEL_bd0389c3a8774d9f82f3a5f340d6695a",
            "value": " 3/3 [00:01&lt;00:00,  1.94it/s]"
          }
        },
        "2d686eb03fed42609f808d3c1a8c97fc": {
          "model_module": "@jupyter-widgets/base",
          "model_name": "LayoutModel",
          "model_module_version": "1.2.0",
          "state": {
            "_model_module": "@jupyter-widgets/base",
            "_model_module_version": "1.2.0",
            "_model_name": "LayoutModel",
            "_view_count": null,
            "_view_module": "@jupyter-widgets/base",
            "_view_module_version": "1.2.0",
            "_view_name": "LayoutView",
            "align_content": null,
            "align_items": null,
            "align_self": null,
            "border": null,
            "bottom": null,
            "display": "inline-flex",
            "flex": null,
            "flex_flow": "row wrap",
            "grid_area": null,
            "grid_auto_columns": null,
            "grid_auto_flow": null,
            "grid_auto_rows": null,
            "grid_column": null,
            "grid_gap": null,
            "grid_row": null,
            "grid_template_areas": null,
            "grid_template_columns": null,
            "grid_template_rows": null,
            "height": null,
            "justify_content": null,
            "justify_items": null,
            "left": null,
            "margin": null,
            "max_height": null,
            "max_width": null,
            "min_height": null,
            "min_width": null,
            "object_fit": null,
            "object_position": null,
            "order": null,
            "overflow": null,
            "overflow_x": null,
            "overflow_y": null,
            "padding": null,
            "right": null,
            "top": null,
            "visibility": null,
            "width": "1000px"
          }
        },
        "4bd60ef12ceb427d8fe5319e1528fe50": {
          "model_module": "@jupyter-widgets/base",
          "model_name": "LayoutModel",
          "model_module_version": "1.2.0",
          "state": {
            "_model_module": "@jupyter-widgets/base",
            "_model_module_version": "1.2.0",
            "_model_name": "LayoutModel",
            "_view_count": null,
            "_view_module": "@jupyter-widgets/base",
            "_view_module_version": "1.2.0",
            "_view_name": "LayoutView",
            "align_content": null,
            "align_items": null,
            "align_self": null,
            "border": null,
            "bottom": null,
            "display": null,
            "flex": null,
            "flex_flow": null,
            "grid_area": null,
            "grid_auto_columns": null,
            "grid_auto_flow": null,
            "grid_auto_rows": null,
            "grid_column": null,
            "grid_gap": null,
            "grid_row": null,
            "grid_template_areas": null,
            "grid_template_columns": null,
            "grid_template_rows": null,
            "height": null,
            "justify_content": null,
            "justify_items": null,
            "left": null,
            "margin": null,
            "max_height": null,
            "max_width": null,
            "min_height": null,
            "min_width": null,
            "object_fit": null,
            "object_position": null,
            "order": null,
            "overflow": null,
            "overflow_x": null,
            "overflow_y": null,
            "padding": null,
            "right": null,
            "top": null,
            "visibility": null,
            "width": null
          }
        },
        "9a9e8972ccdb4ce19defa72de3ff2066": {
          "model_module": "@jupyter-widgets/controls",
          "model_name": "DescriptionStyleModel",
          "model_module_version": "1.5.0",
          "state": {
            "_model_module": "@jupyter-widgets/controls",
            "_model_module_version": "1.5.0",
            "_model_name": "DescriptionStyleModel",
            "_view_count": null,
            "_view_module": "@jupyter-widgets/base",
            "_view_module_version": "1.2.0",
            "_view_name": "StyleView",
            "description_width": ""
          }
        },
        "0a2162453b5e4d9ca145db9d0e5ffdba": {
          "model_module": "@jupyter-widgets/base",
          "model_name": "LayoutModel",
          "model_module_version": "1.2.0",
          "state": {
            "_model_module": "@jupyter-widgets/base",
            "_model_module_version": "1.2.0",
            "_model_name": "LayoutModel",
            "_view_count": null,
            "_view_module": "@jupyter-widgets/base",
            "_view_module_version": "1.2.0",
            "_view_name": "LayoutView",
            "align_content": null,
            "align_items": null,
            "align_self": null,
            "border": null,
            "bottom": null,
            "display": null,
            "flex": "2",
            "flex_flow": null,
            "grid_area": null,
            "grid_auto_columns": null,
            "grid_auto_flow": null,
            "grid_auto_rows": null,
            "grid_column": null,
            "grid_gap": null,
            "grid_row": null,
            "grid_template_areas": null,
            "grid_template_columns": null,
            "grid_template_rows": null,
            "height": null,
            "justify_content": null,
            "justify_items": null,
            "left": null,
            "margin": null,
            "max_height": null,
            "max_width": null,
            "min_height": null,
            "min_width": null,
            "object_fit": null,
            "object_position": null,
            "order": null,
            "overflow": null,
            "overflow_x": null,
            "overflow_y": null,
            "padding": null,
            "right": null,
            "top": null,
            "visibility": null,
            "width": null
          }
        },
        "e57692e8f23940d4a49b3eaa5debcf43": {
          "model_module": "@jupyter-widgets/controls",
          "model_name": "ProgressStyleModel",
          "model_module_version": "1.5.0",
          "state": {
            "_model_module": "@jupyter-widgets/controls",
            "_model_module_version": "1.5.0",
            "_model_name": "ProgressStyleModel",
            "_view_count": null,
            "_view_module": "@jupyter-widgets/base",
            "_view_module_version": "1.2.0",
            "_view_name": "StyleView",
            "bar_color": null,
            "description_width": ""
          }
        },
        "809c23f2a7f94a39b35470421b021a42": {
          "model_module": "@jupyter-widgets/base",
          "model_name": "LayoutModel",
          "model_module_version": "1.2.0",
          "state": {
            "_model_module": "@jupyter-widgets/base",
            "_model_module_version": "1.2.0",
            "_model_name": "LayoutModel",
            "_view_count": null,
            "_view_module": "@jupyter-widgets/base",
            "_view_module_version": "1.2.0",
            "_view_name": "LayoutView",
            "align_content": null,
            "align_items": null,
            "align_self": null,
            "border": null,
            "bottom": null,
            "display": null,
            "flex": null,
            "flex_flow": null,
            "grid_area": null,
            "grid_auto_columns": null,
            "grid_auto_flow": null,
            "grid_auto_rows": null,
            "grid_column": null,
            "grid_gap": null,
            "grid_row": null,
            "grid_template_areas": null,
            "grid_template_columns": null,
            "grid_template_rows": null,
            "height": null,
            "justify_content": null,
            "justify_items": null,
            "left": null,
            "margin": null,
            "max_height": null,
            "max_width": null,
            "min_height": null,
            "min_width": null,
            "object_fit": null,
            "object_position": null,
            "order": null,
            "overflow": null,
            "overflow_x": null,
            "overflow_y": null,
            "padding": null,
            "right": null,
            "top": null,
            "visibility": null,
            "width": null
          }
        },
        "bd0389c3a8774d9f82f3a5f340d6695a": {
          "model_module": "@jupyter-widgets/controls",
          "model_name": "DescriptionStyleModel",
          "model_module_version": "1.5.0",
          "state": {
            "_model_module": "@jupyter-widgets/controls",
            "_model_module_version": "1.5.0",
            "_model_name": "DescriptionStyleModel",
            "_view_count": null,
            "_view_module": "@jupyter-widgets/base",
            "_view_module_version": "1.2.0",
            "_view_name": "StyleView",
            "description_width": ""
          }
        },
        "23c039afbc344ccd8751c233142d6eb0": {
          "model_module": "@jupyter-widgets/controls",
          "model_name": "HBoxModel",
          "model_module_version": "1.5.0",
          "state": {
            "_dom_classes": [],
            "_model_module": "@jupyter-widgets/controls",
            "_model_module_version": "1.5.0",
            "_model_name": "HBoxModel",
            "_view_count": null,
            "_view_module": "@jupyter-widgets/controls",
            "_view_module_version": "1.5.0",
            "_view_name": "HBoxView",
            "box_style": "",
            "children": [
              "IPY_MODEL_ec2c1914578441af80eb0adaed51d2b4",
              "IPY_MODEL_48f391e49dc64d1d91c7064c9da95ddc",
              "IPY_MODEL_6d841293a0ae417abc456ef08b1d0b2d"
            ],
            "layout": "IPY_MODEL_58c7ff4c6d86401eb96b8b6b0ba751f4"
          }
        },
        "ec2c1914578441af80eb0adaed51d2b4": {
          "model_module": "@jupyter-widgets/controls",
          "model_name": "HTMLModel",
          "model_module_version": "1.5.0",
          "state": {
            "_dom_classes": [],
            "_model_module": "@jupyter-widgets/controls",
            "_model_module_version": "1.5.0",
            "_model_name": "HTMLModel",
            "_view_count": null,
            "_view_module": "@jupyter-widgets/controls",
            "_view_module_version": "1.5.0",
            "_view_name": "HTMLView",
            "description": "",
            "description_tooltip": null,
            "layout": "IPY_MODEL_7b4d69d6a722472ebcb1c9eecf831acf",
            "placeholder": "​",
            "style": "IPY_MODEL_e8540bf645744a99b9aaa18097db052e",
            "value": "Second CV: 100%"
          }
        },
        "48f391e49dc64d1d91c7064c9da95ddc": {
          "model_module": "@jupyter-widgets/controls",
          "model_name": "FloatProgressModel",
          "model_module_version": "1.5.0",
          "state": {
            "_dom_classes": [],
            "_model_module": "@jupyter-widgets/controls",
            "_model_module_version": "1.5.0",
            "_model_name": "FloatProgressModel",
            "_view_count": null,
            "_view_module": "@jupyter-widgets/controls",
            "_view_module_version": "1.5.0",
            "_view_name": "ProgressView",
            "bar_style": "success",
            "description": "",
            "description_tooltip": null,
            "layout": "IPY_MODEL_359cad9d089047e38c1fb71705da0628",
            "max": 3,
            "min": 0,
            "orientation": "horizontal",
            "style": "IPY_MODEL_982985c4f58642a1aaae5f888b367ea0",
            "value": 3
          }
        },
        "6d841293a0ae417abc456ef08b1d0b2d": {
          "model_module": "@jupyter-widgets/controls",
          "model_name": "HTMLModel",
          "model_module_version": "1.5.0",
          "state": {
            "_dom_classes": [],
            "_model_module": "@jupyter-widgets/controls",
            "_model_module_version": "1.5.0",
            "_model_name": "HTMLModel",
            "_view_count": null,
            "_view_module": "@jupyter-widgets/controls",
            "_view_module_version": "1.5.0",
            "_view_name": "HTMLView",
            "description": "",
            "description_tooltip": null,
            "layout": "IPY_MODEL_79b6be33bc6c4af28a0718fafb8fc45e",
            "placeholder": "​",
            "style": "IPY_MODEL_44ec376276f44b3eae8d56b471649764",
            "value": " 3/3 [00:01&lt;00:00,  1.97it/s]"
          }
        },
        "58c7ff4c6d86401eb96b8b6b0ba751f4": {
          "model_module": "@jupyter-widgets/base",
          "model_name": "LayoutModel",
          "model_module_version": "1.2.0",
          "state": {
            "_model_module": "@jupyter-widgets/base",
            "_model_module_version": "1.2.0",
            "_model_name": "LayoutModel",
            "_view_count": null,
            "_view_module": "@jupyter-widgets/base",
            "_view_module_version": "1.2.0",
            "_view_name": "LayoutView",
            "align_content": null,
            "align_items": null,
            "align_self": null,
            "border": null,
            "bottom": null,
            "display": "inline-flex",
            "flex": null,
            "flex_flow": "row wrap",
            "grid_area": null,
            "grid_auto_columns": null,
            "grid_auto_flow": null,
            "grid_auto_rows": null,
            "grid_column": null,
            "grid_gap": null,
            "grid_row": null,
            "grid_template_areas": null,
            "grid_template_columns": null,
            "grid_template_rows": null,
            "height": null,
            "justify_content": null,
            "justify_items": null,
            "left": null,
            "margin": null,
            "max_height": null,
            "max_width": null,
            "min_height": null,
            "min_width": null,
            "object_fit": null,
            "object_position": null,
            "order": null,
            "overflow": null,
            "overflow_x": null,
            "overflow_y": null,
            "padding": null,
            "right": null,
            "top": null,
            "visibility": null,
            "width": "1000px"
          }
        },
        "7b4d69d6a722472ebcb1c9eecf831acf": {
          "model_module": "@jupyter-widgets/base",
          "model_name": "LayoutModel",
          "model_module_version": "1.2.0",
          "state": {
            "_model_module": "@jupyter-widgets/base",
            "_model_module_version": "1.2.0",
            "_model_name": "LayoutModel",
            "_view_count": null,
            "_view_module": "@jupyter-widgets/base",
            "_view_module_version": "1.2.0",
            "_view_name": "LayoutView",
            "align_content": null,
            "align_items": null,
            "align_self": null,
            "border": null,
            "bottom": null,
            "display": null,
            "flex": null,
            "flex_flow": null,
            "grid_area": null,
            "grid_auto_columns": null,
            "grid_auto_flow": null,
            "grid_auto_rows": null,
            "grid_column": null,
            "grid_gap": null,
            "grid_row": null,
            "grid_template_areas": null,
            "grid_template_columns": null,
            "grid_template_rows": null,
            "height": null,
            "justify_content": null,
            "justify_items": null,
            "left": null,
            "margin": null,
            "max_height": null,
            "max_width": null,
            "min_height": null,
            "min_width": null,
            "object_fit": null,
            "object_position": null,
            "order": null,
            "overflow": null,
            "overflow_x": null,
            "overflow_y": null,
            "padding": null,
            "right": null,
            "top": null,
            "visibility": null,
            "width": null
          }
        },
        "e8540bf645744a99b9aaa18097db052e": {
          "model_module": "@jupyter-widgets/controls",
          "model_name": "DescriptionStyleModel",
          "model_module_version": "1.5.0",
          "state": {
            "_model_module": "@jupyter-widgets/controls",
            "_model_module_version": "1.5.0",
            "_model_name": "DescriptionStyleModel",
            "_view_count": null,
            "_view_module": "@jupyter-widgets/base",
            "_view_module_version": "1.2.0",
            "_view_name": "StyleView",
            "description_width": ""
          }
        },
        "359cad9d089047e38c1fb71705da0628": {
          "model_module": "@jupyter-widgets/base",
          "model_name": "LayoutModel",
          "model_module_version": "1.2.0",
          "state": {
            "_model_module": "@jupyter-widgets/base",
            "_model_module_version": "1.2.0",
            "_model_name": "LayoutModel",
            "_view_count": null,
            "_view_module": "@jupyter-widgets/base",
            "_view_module_version": "1.2.0",
            "_view_name": "LayoutView",
            "align_content": null,
            "align_items": null,
            "align_self": null,
            "border": null,
            "bottom": null,
            "display": null,
            "flex": "2",
            "flex_flow": null,
            "grid_area": null,
            "grid_auto_columns": null,
            "grid_auto_flow": null,
            "grid_auto_rows": null,
            "grid_column": null,
            "grid_gap": null,
            "grid_row": null,
            "grid_template_areas": null,
            "grid_template_columns": null,
            "grid_template_rows": null,
            "height": null,
            "justify_content": null,
            "justify_items": null,
            "left": null,
            "margin": null,
            "max_height": null,
            "max_width": null,
            "min_height": null,
            "min_width": null,
            "object_fit": null,
            "object_position": null,
            "order": null,
            "overflow": null,
            "overflow_x": null,
            "overflow_y": null,
            "padding": null,
            "right": null,
            "top": null,
            "visibility": null,
            "width": null
          }
        },
        "982985c4f58642a1aaae5f888b367ea0": {
          "model_module": "@jupyter-widgets/controls",
          "model_name": "ProgressStyleModel",
          "model_module_version": "1.5.0",
          "state": {
            "_model_module": "@jupyter-widgets/controls",
            "_model_module_version": "1.5.0",
            "_model_name": "ProgressStyleModel",
            "_view_count": null,
            "_view_module": "@jupyter-widgets/base",
            "_view_module_version": "1.2.0",
            "_view_name": "StyleView",
            "bar_color": null,
            "description_width": ""
          }
        },
        "79b6be33bc6c4af28a0718fafb8fc45e": {
          "model_module": "@jupyter-widgets/base",
          "model_name": "LayoutModel",
          "model_module_version": "1.2.0",
          "state": {
            "_model_module": "@jupyter-widgets/base",
            "_model_module_version": "1.2.0",
            "_model_name": "LayoutModel",
            "_view_count": null,
            "_view_module": "@jupyter-widgets/base",
            "_view_module_version": "1.2.0",
            "_view_name": "LayoutView",
            "align_content": null,
            "align_items": null,
            "align_self": null,
            "border": null,
            "bottom": null,
            "display": null,
            "flex": null,
            "flex_flow": null,
            "grid_area": null,
            "grid_auto_columns": null,
            "grid_auto_flow": null,
            "grid_auto_rows": null,
            "grid_column": null,
            "grid_gap": null,
            "grid_row": null,
            "grid_template_areas": null,
            "grid_template_columns": null,
            "grid_template_rows": null,
            "height": null,
            "justify_content": null,
            "justify_items": null,
            "left": null,
            "margin": null,
            "max_height": null,
            "max_width": null,
            "min_height": null,
            "min_width": null,
            "object_fit": null,
            "object_position": null,
            "order": null,
            "overflow": null,
            "overflow_x": null,
            "overflow_y": null,
            "padding": null,
            "right": null,
            "top": null,
            "visibility": null,
            "width": null
          }
        },
        "44ec376276f44b3eae8d56b471649764": {
          "model_module": "@jupyter-widgets/controls",
          "model_name": "DescriptionStyleModel",
          "model_module_version": "1.5.0",
          "state": {
            "_model_module": "@jupyter-widgets/controls",
            "_model_module_version": "1.5.0",
            "_model_name": "DescriptionStyleModel",
            "_view_count": null,
            "_view_module": "@jupyter-widgets/base",
            "_view_module_version": "1.2.0",
            "_view_name": "StyleView",
            "description_width": ""
          }
        },
        "6c50616baba74806bcfa47f6a248114c": {
          "model_module": "@jupyter-widgets/controls",
          "model_name": "HBoxModel",
          "model_module_version": "1.5.0",
          "state": {
            "_dom_classes": [],
            "_model_module": "@jupyter-widgets/controls",
            "_model_module_version": "1.5.0",
            "_model_name": "HBoxModel",
            "_view_count": null,
            "_view_module": "@jupyter-widgets/controls",
            "_view_module_version": "1.5.0",
            "_view_name": "HBoxView",
            "box_style": "",
            "children": [
              "IPY_MODEL_8bbfb4ae6abd448183e111086d174732",
              "IPY_MODEL_4259ee9819c74659807b0922c5b10672",
              "IPY_MODEL_a47f1f70e0c643369b2bc5e2cfc064e9"
            ],
            "layout": "IPY_MODEL_b25020860b04498b8d0a0c4cf8db12fd"
          }
        },
        "8bbfb4ae6abd448183e111086d174732": {
          "model_module": "@jupyter-widgets/controls",
          "model_name": "HTMLModel",
          "model_module_version": "1.5.0",
          "state": {
            "_dom_classes": [],
            "_model_module": "@jupyter-widgets/controls",
            "_model_module_version": "1.5.0",
            "_model_name": "HTMLModel",
            "_view_count": null,
            "_view_module": "@jupyter-widgets/controls",
            "_view_module_version": "1.5.0",
            "_view_name": "HTMLView",
            "description": "",
            "description_tooltip": null,
            "layout": "IPY_MODEL_f1f5e9cb63204d8480911aa80ab71f4d",
            "placeholder": "​",
            "style": "IPY_MODEL_1cb20c656841478c83245b7374d77919",
            "value": "Second CV: 100%"
          }
        },
        "4259ee9819c74659807b0922c5b10672": {
          "model_module": "@jupyter-widgets/controls",
          "model_name": "FloatProgressModel",
          "model_module_version": "1.5.0",
          "state": {
            "_dom_classes": [],
            "_model_module": "@jupyter-widgets/controls",
            "_model_module_version": "1.5.0",
            "_model_name": "FloatProgressModel",
            "_view_count": null,
            "_view_module": "@jupyter-widgets/controls",
            "_view_module_version": "1.5.0",
            "_view_name": "ProgressView",
            "bar_style": "success",
            "description": "",
            "description_tooltip": null,
            "layout": "IPY_MODEL_a799acebe7d34b86b8285544543fb649",
            "max": 3,
            "min": 0,
            "orientation": "horizontal",
            "style": "IPY_MODEL_130c816fb43643228890f9b1fb68e39e",
            "value": 3
          }
        },
        "a47f1f70e0c643369b2bc5e2cfc064e9": {
          "model_module": "@jupyter-widgets/controls",
          "model_name": "HTMLModel",
          "model_module_version": "1.5.0",
          "state": {
            "_dom_classes": [],
            "_model_module": "@jupyter-widgets/controls",
            "_model_module_version": "1.5.0",
            "_model_name": "HTMLModel",
            "_view_count": null,
            "_view_module": "@jupyter-widgets/controls",
            "_view_module_version": "1.5.0",
            "_view_name": "HTMLView",
            "description": "",
            "description_tooltip": null,
            "layout": "IPY_MODEL_a7949d30402e4eafbe59d008e9a6900b",
            "placeholder": "​",
            "style": "IPY_MODEL_9c582d579b6b4b2891e7803ac0b9cc61",
            "value": " 3/3 [00:01&lt;00:00,  1.96it/s]"
          }
        },
        "b25020860b04498b8d0a0c4cf8db12fd": {
          "model_module": "@jupyter-widgets/base",
          "model_name": "LayoutModel",
          "model_module_version": "1.2.0",
          "state": {
            "_model_module": "@jupyter-widgets/base",
            "_model_module_version": "1.2.0",
            "_model_name": "LayoutModel",
            "_view_count": null,
            "_view_module": "@jupyter-widgets/base",
            "_view_module_version": "1.2.0",
            "_view_name": "LayoutView",
            "align_content": null,
            "align_items": null,
            "align_self": null,
            "border": null,
            "bottom": null,
            "display": "inline-flex",
            "flex": null,
            "flex_flow": "row wrap",
            "grid_area": null,
            "grid_auto_columns": null,
            "grid_auto_flow": null,
            "grid_auto_rows": null,
            "grid_column": null,
            "grid_gap": null,
            "grid_row": null,
            "grid_template_areas": null,
            "grid_template_columns": null,
            "grid_template_rows": null,
            "height": null,
            "justify_content": null,
            "justify_items": null,
            "left": null,
            "margin": null,
            "max_height": null,
            "max_width": null,
            "min_height": null,
            "min_width": null,
            "object_fit": null,
            "object_position": null,
            "order": null,
            "overflow": null,
            "overflow_x": null,
            "overflow_y": null,
            "padding": null,
            "right": null,
            "top": null,
            "visibility": null,
            "width": "1000px"
          }
        },
        "f1f5e9cb63204d8480911aa80ab71f4d": {
          "model_module": "@jupyter-widgets/base",
          "model_name": "LayoutModel",
          "model_module_version": "1.2.0",
          "state": {
            "_model_module": "@jupyter-widgets/base",
            "_model_module_version": "1.2.0",
            "_model_name": "LayoutModel",
            "_view_count": null,
            "_view_module": "@jupyter-widgets/base",
            "_view_module_version": "1.2.0",
            "_view_name": "LayoutView",
            "align_content": null,
            "align_items": null,
            "align_self": null,
            "border": null,
            "bottom": null,
            "display": null,
            "flex": null,
            "flex_flow": null,
            "grid_area": null,
            "grid_auto_columns": null,
            "grid_auto_flow": null,
            "grid_auto_rows": null,
            "grid_column": null,
            "grid_gap": null,
            "grid_row": null,
            "grid_template_areas": null,
            "grid_template_columns": null,
            "grid_template_rows": null,
            "height": null,
            "justify_content": null,
            "justify_items": null,
            "left": null,
            "margin": null,
            "max_height": null,
            "max_width": null,
            "min_height": null,
            "min_width": null,
            "object_fit": null,
            "object_position": null,
            "order": null,
            "overflow": null,
            "overflow_x": null,
            "overflow_y": null,
            "padding": null,
            "right": null,
            "top": null,
            "visibility": null,
            "width": null
          }
        },
        "1cb20c656841478c83245b7374d77919": {
          "model_module": "@jupyter-widgets/controls",
          "model_name": "DescriptionStyleModel",
          "model_module_version": "1.5.0",
          "state": {
            "_model_module": "@jupyter-widgets/controls",
            "_model_module_version": "1.5.0",
            "_model_name": "DescriptionStyleModel",
            "_view_count": null,
            "_view_module": "@jupyter-widgets/base",
            "_view_module_version": "1.2.0",
            "_view_name": "StyleView",
            "description_width": ""
          }
        },
        "a799acebe7d34b86b8285544543fb649": {
          "model_module": "@jupyter-widgets/base",
          "model_name": "LayoutModel",
          "model_module_version": "1.2.0",
          "state": {
            "_model_module": "@jupyter-widgets/base",
            "_model_module_version": "1.2.0",
            "_model_name": "LayoutModel",
            "_view_count": null,
            "_view_module": "@jupyter-widgets/base",
            "_view_module_version": "1.2.0",
            "_view_name": "LayoutView",
            "align_content": null,
            "align_items": null,
            "align_self": null,
            "border": null,
            "bottom": null,
            "display": null,
            "flex": "2",
            "flex_flow": null,
            "grid_area": null,
            "grid_auto_columns": null,
            "grid_auto_flow": null,
            "grid_auto_rows": null,
            "grid_column": null,
            "grid_gap": null,
            "grid_row": null,
            "grid_template_areas": null,
            "grid_template_columns": null,
            "grid_template_rows": null,
            "height": null,
            "justify_content": null,
            "justify_items": null,
            "left": null,
            "margin": null,
            "max_height": null,
            "max_width": null,
            "min_height": null,
            "min_width": null,
            "object_fit": null,
            "object_position": null,
            "order": null,
            "overflow": null,
            "overflow_x": null,
            "overflow_y": null,
            "padding": null,
            "right": null,
            "top": null,
            "visibility": null,
            "width": null
          }
        },
        "130c816fb43643228890f9b1fb68e39e": {
          "model_module": "@jupyter-widgets/controls",
          "model_name": "ProgressStyleModel",
          "model_module_version": "1.5.0",
          "state": {
            "_model_module": "@jupyter-widgets/controls",
            "_model_module_version": "1.5.0",
            "_model_name": "ProgressStyleModel",
            "_view_count": null,
            "_view_module": "@jupyter-widgets/base",
            "_view_module_version": "1.2.0",
            "_view_name": "StyleView",
            "bar_color": null,
            "description_width": ""
          }
        },
        "a7949d30402e4eafbe59d008e9a6900b": {
          "model_module": "@jupyter-widgets/base",
          "model_name": "LayoutModel",
          "model_module_version": "1.2.0",
          "state": {
            "_model_module": "@jupyter-widgets/base",
            "_model_module_version": "1.2.0",
            "_model_name": "LayoutModel",
            "_view_count": null,
            "_view_module": "@jupyter-widgets/base",
            "_view_module_version": "1.2.0",
            "_view_name": "LayoutView",
            "align_content": null,
            "align_items": null,
            "align_self": null,
            "border": null,
            "bottom": null,
            "display": null,
            "flex": null,
            "flex_flow": null,
            "grid_area": null,
            "grid_auto_columns": null,
            "grid_auto_flow": null,
            "grid_auto_rows": null,
            "grid_column": null,
            "grid_gap": null,
            "grid_row": null,
            "grid_template_areas": null,
            "grid_template_columns": null,
            "grid_template_rows": null,
            "height": null,
            "justify_content": null,
            "justify_items": null,
            "left": null,
            "margin": null,
            "max_height": null,
            "max_width": null,
            "min_height": null,
            "min_width": null,
            "object_fit": null,
            "object_position": null,
            "order": null,
            "overflow": null,
            "overflow_x": null,
            "overflow_y": null,
            "padding": null,
            "right": null,
            "top": null,
            "visibility": null,
            "width": null
          }
        },
        "9c582d579b6b4b2891e7803ac0b9cc61": {
          "model_module": "@jupyter-widgets/controls",
          "model_name": "DescriptionStyleModel",
          "model_module_version": "1.5.0",
          "state": {
            "_model_module": "@jupyter-widgets/controls",
            "_model_module_version": "1.5.0",
            "_model_name": "DescriptionStyleModel",
            "_view_count": null,
            "_view_module": "@jupyter-widgets/base",
            "_view_module_version": "1.2.0",
            "_view_name": "StyleView",
            "description_width": ""
          }
        },
        "e2b15ce7e092418e8ef5018078f1f598": {
          "model_module": "@jupyter-widgets/controls",
          "model_name": "HBoxModel",
          "model_module_version": "1.5.0",
          "state": {
            "_dom_classes": [],
            "_model_module": "@jupyter-widgets/controls",
            "_model_module_version": "1.5.0",
            "_model_name": "HBoxModel",
            "_view_count": null,
            "_view_module": "@jupyter-widgets/controls",
            "_view_module_version": "1.5.0",
            "_view_name": "HBoxView",
            "box_style": "",
            "children": [
              "IPY_MODEL_522820b9d8c64b09a6b0dfef37eb85b1",
              "IPY_MODEL_bd8ef52555a647a6b12bc2b859a94847",
              "IPY_MODEL_1d0ec9714f44420c8593b5674e6cf203"
            ],
            "layout": "IPY_MODEL_b0ab4e44bb6846d2bd5e4ed0c3435b8b"
          }
        },
        "522820b9d8c64b09a6b0dfef37eb85b1": {
          "model_module": "@jupyter-widgets/controls",
          "model_name": "HTMLModel",
          "model_module_version": "1.5.0",
          "state": {
            "_dom_classes": [],
            "_model_module": "@jupyter-widgets/controls",
            "_model_module_version": "1.5.0",
            "_model_name": "HTMLModel",
            "_view_count": null,
            "_view_module": "@jupyter-widgets/controls",
            "_view_module_version": "1.5.0",
            "_view_name": "HTMLView",
            "description": "",
            "description_tooltip": null,
            "layout": "IPY_MODEL_9e358a68255541cfa98536f6b1fc8005",
            "placeholder": "​",
            "style": "IPY_MODEL_4981f409c2294884bb27926f8c044f8e",
            "value": "Second CV: 100%"
          }
        },
        "bd8ef52555a647a6b12bc2b859a94847": {
          "model_module": "@jupyter-widgets/controls",
          "model_name": "FloatProgressModel",
          "model_module_version": "1.5.0",
          "state": {
            "_dom_classes": [],
            "_model_module": "@jupyter-widgets/controls",
            "_model_module_version": "1.5.0",
            "_model_name": "FloatProgressModel",
            "_view_count": null,
            "_view_module": "@jupyter-widgets/controls",
            "_view_module_version": "1.5.0",
            "_view_name": "ProgressView",
            "bar_style": "success",
            "description": "",
            "description_tooltip": null,
            "layout": "IPY_MODEL_30fc1ad61cc44b8cb36d3b2afe9ab0e0",
            "max": 3,
            "min": 0,
            "orientation": "horizontal",
            "style": "IPY_MODEL_99944324136445c6bb0ed926ec8ff7e5",
            "value": 3
          }
        },
        "1d0ec9714f44420c8593b5674e6cf203": {
          "model_module": "@jupyter-widgets/controls",
          "model_name": "HTMLModel",
          "model_module_version": "1.5.0",
          "state": {
            "_dom_classes": [],
            "_model_module": "@jupyter-widgets/controls",
            "_model_module_version": "1.5.0",
            "_model_name": "HTMLModel",
            "_view_count": null,
            "_view_module": "@jupyter-widgets/controls",
            "_view_module_version": "1.5.0",
            "_view_name": "HTMLView",
            "description": "",
            "description_tooltip": null,
            "layout": "IPY_MODEL_4a0048676252471baf4579c038f0613d",
            "placeholder": "​",
            "style": "IPY_MODEL_b61cf8dda5754cf8a2fa7a8e9e722840",
            "value": " 3/3 [00:01&lt;00:00,  1.96it/s]"
          }
        },
        "b0ab4e44bb6846d2bd5e4ed0c3435b8b": {
          "model_module": "@jupyter-widgets/base",
          "model_name": "LayoutModel",
          "model_module_version": "1.2.0",
          "state": {
            "_model_module": "@jupyter-widgets/base",
            "_model_module_version": "1.2.0",
            "_model_name": "LayoutModel",
            "_view_count": null,
            "_view_module": "@jupyter-widgets/base",
            "_view_module_version": "1.2.0",
            "_view_name": "LayoutView",
            "align_content": null,
            "align_items": null,
            "align_self": null,
            "border": null,
            "bottom": null,
            "display": "inline-flex",
            "flex": null,
            "flex_flow": "row wrap",
            "grid_area": null,
            "grid_auto_columns": null,
            "grid_auto_flow": null,
            "grid_auto_rows": null,
            "grid_column": null,
            "grid_gap": null,
            "grid_row": null,
            "grid_template_areas": null,
            "grid_template_columns": null,
            "grid_template_rows": null,
            "height": null,
            "justify_content": null,
            "justify_items": null,
            "left": null,
            "margin": null,
            "max_height": null,
            "max_width": null,
            "min_height": null,
            "min_width": null,
            "object_fit": null,
            "object_position": null,
            "order": null,
            "overflow": null,
            "overflow_x": null,
            "overflow_y": null,
            "padding": null,
            "right": null,
            "top": null,
            "visibility": null,
            "width": "1000px"
          }
        },
        "9e358a68255541cfa98536f6b1fc8005": {
          "model_module": "@jupyter-widgets/base",
          "model_name": "LayoutModel",
          "model_module_version": "1.2.0",
          "state": {
            "_model_module": "@jupyter-widgets/base",
            "_model_module_version": "1.2.0",
            "_model_name": "LayoutModel",
            "_view_count": null,
            "_view_module": "@jupyter-widgets/base",
            "_view_module_version": "1.2.0",
            "_view_name": "LayoutView",
            "align_content": null,
            "align_items": null,
            "align_self": null,
            "border": null,
            "bottom": null,
            "display": null,
            "flex": null,
            "flex_flow": null,
            "grid_area": null,
            "grid_auto_columns": null,
            "grid_auto_flow": null,
            "grid_auto_rows": null,
            "grid_column": null,
            "grid_gap": null,
            "grid_row": null,
            "grid_template_areas": null,
            "grid_template_columns": null,
            "grid_template_rows": null,
            "height": null,
            "justify_content": null,
            "justify_items": null,
            "left": null,
            "margin": null,
            "max_height": null,
            "max_width": null,
            "min_height": null,
            "min_width": null,
            "object_fit": null,
            "object_position": null,
            "order": null,
            "overflow": null,
            "overflow_x": null,
            "overflow_y": null,
            "padding": null,
            "right": null,
            "top": null,
            "visibility": null,
            "width": null
          }
        },
        "4981f409c2294884bb27926f8c044f8e": {
          "model_module": "@jupyter-widgets/controls",
          "model_name": "DescriptionStyleModel",
          "model_module_version": "1.5.0",
          "state": {
            "_model_module": "@jupyter-widgets/controls",
            "_model_module_version": "1.5.0",
            "_model_name": "DescriptionStyleModel",
            "_view_count": null,
            "_view_module": "@jupyter-widgets/base",
            "_view_module_version": "1.2.0",
            "_view_name": "StyleView",
            "description_width": ""
          }
        },
        "30fc1ad61cc44b8cb36d3b2afe9ab0e0": {
          "model_module": "@jupyter-widgets/base",
          "model_name": "LayoutModel",
          "model_module_version": "1.2.0",
          "state": {
            "_model_module": "@jupyter-widgets/base",
            "_model_module_version": "1.2.0",
            "_model_name": "LayoutModel",
            "_view_count": null,
            "_view_module": "@jupyter-widgets/base",
            "_view_module_version": "1.2.0",
            "_view_name": "LayoutView",
            "align_content": null,
            "align_items": null,
            "align_self": null,
            "border": null,
            "bottom": null,
            "display": null,
            "flex": "2",
            "flex_flow": null,
            "grid_area": null,
            "grid_auto_columns": null,
            "grid_auto_flow": null,
            "grid_auto_rows": null,
            "grid_column": null,
            "grid_gap": null,
            "grid_row": null,
            "grid_template_areas": null,
            "grid_template_columns": null,
            "grid_template_rows": null,
            "height": null,
            "justify_content": null,
            "justify_items": null,
            "left": null,
            "margin": null,
            "max_height": null,
            "max_width": null,
            "min_height": null,
            "min_width": null,
            "object_fit": null,
            "object_position": null,
            "order": null,
            "overflow": null,
            "overflow_x": null,
            "overflow_y": null,
            "padding": null,
            "right": null,
            "top": null,
            "visibility": null,
            "width": null
          }
        },
        "99944324136445c6bb0ed926ec8ff7e5": {
          "model_module": "@jupyter-widgets/controls",
          "model_name": "ProgressStyleModel",
          "model_module_version": "1.5.0",
          "state": {
            "_model_module": "@jupyter-widgets/controls",
            "_model_module_version": "1.5.0",
            "_model_name": "ProgressStyleModel",
            "_view_count": null,
            "_view_module": "@jupyter-widgets/base",
            "_view_module_version": "1.2.0",
            "_view_name": "StyleView",
            "bar_color": null,
            "description_width": ""
          }
        },
        "4a0048676252471baf4579c038f0613d": {
          "model_module": "@jupyter-widgets/base",
          "model_name": "LayoutModel",
          "model_module_version": "1.2.0",
          "state": {
            "_model_module": "@jupyter-widgets/base",
            "_model_module_version": "1.2.0",
            "_model_name": "LayoutModel",
            "_view_count": null,
            "_view_module": "@jupyter-widgets/base",
            "_view_module_version": "1.2.0",
            "_view_name": "LayoutView",
            "align_content": null,
            "align_items": null,
            "align_self": null,
            "border": null,
            "bottom": null,
            "display": null,
            "flex": null,
            "flex_flow": null,
            "grid_area": null,
            "grid_auto_columns": null,
            "grid_auto_flow": null,
            "grid_auto_rows": null,
            "grid_column": null,
            "grid_gap": null,
            "grid_row": null,
            "grid_template_areas": null,
            "grid_template_columns": null,
            "grid_template_rows": null,
            "height": null,
            "justify_content": null,
            "justify_items": null,
            "left": null,
            "margin": null,
            "max_height": null,
            "max_width": null,
            "min_height": null,
            "min_width": null,
            "object_fit": null,
            "object_position": null,
            "order": null,
            "overflow": null,
            "overflow_x": null,
            "overflow_y": null,
            "padding": null,
            "right": null,
            "top": null,
            "visibility": null,
            "width": null
          }
        },
        "b61cf8dda5754cf8a2fa7a8e9e722840": {
          "model_module": "@jupyter-widgets/controls",
          "model_name": "DescriptionStyleModel",
          "model_module_version": "1.5.0",
          "state": {
            "_model_module": "@jupyter-widgets/controls",
            "_model_module_version": "1.5.0",
            "_model_name": "DescriptionStyleModel",
            "_view_count": null,
            "_view_module": "@jupyter-widgets/base",
            "_view_module_version": "1.2.0",
            "_view_name": "StyleView",
            "description_width": ""
          }
        },
        "10a52f09ecd94e7e97c50a957003a9a1": {
          "model_module": "@jupyter-widgets/controls",
          "model_name": "HBoxModel",
          "model_module_version": "1.5.0",
          "state": {
            "_dom_classes": [],
            "_model_module": "@jupyter-widgets/controls",
            "_model_module_version": "1.5.0",
            "_model_name": "HBoxModel",
            "_view_count": null,
            "_view_module": "@jupyter-widgets/controls",
            "_view_module_version": "1.5.0",
            "_view_name": "HBoxView",
            "box_style": "",
            "children": [
              "IPY_MODEL_81e30fe318f14838823ffb2170c08c92",
              "IPY_MODEL_3a839e1bfa164eaeb1ca98b51fbd4f41",
              "IPY_MODEL_18f7912f12fb4858946b4ed2959f98ab"
            ],
            "layout": "IPY_MODEL_08fac5658c4044cc90366a67af7f55f6"
          }
        },
        "81e30fe318f14838823ffb2170c08c92": {
          "model_module": "@jupyter-widgets/controls",
          "model_name": "HTMLModel",
          "model_module_version": "1.5.0",
          "state": {
            "_dom_classes": [],
            "_model_module": "@jupyter-widgets/controls",
            "_model_module_version": "1.5.0",
            "_model_name": "HTMLModel",
            "_view_count": null,
            "_view_module": "@jupyter-widgets/controls",
            "_view_module_version": "1.5.0",
            "_view_name": "HTMLView",
            "description": "",
            "description_tooltip": null,
            "layout": "IPY_MODEL_e3aa87064b7947c4a50410c7c1df3e71",
            "placeholder": "​",
            "style": "IPY_MODEL_56500e1343a64ec7b406d31678c542c9",
            "value": "Second CV: 100%"
          }
        },
        "3a839e1bfa164eaeb1ca98b51fbd4f41": {
          "model_module": "@jupyter-widgets/controls",
          "model_name": "FloatProgressModel",
          "model_module_version": "1.5.0",
          "state": {
            "_dom_classes": [],
            "_model_module": "@jupyter-widgets/controls",
            "_model_module_version": "1.5.0",
            "_model_name": "FloatProgressModel",
            "_view_count": null,
            "_view_module": "@jupyter-widgets/controls",
            "_view_module_version": "1.5.0",
            "_view_name": "ProgressView",
            "bar_style": "success",
            "description": "",
            "description_tooltip": null,
            "layout": "IPY_MODEL_79286d287b5c4c6ca40a06d24c9728c7",
            "max": 3,
            "min": 0,
            "orientation": "horizontal",
            "style": "IPY_MODEL_cf0824095ae5403890d66aad1f877104",
            "value": 3
          }
        },
        "18f7912f12fb4858946b4ed2959f98ab": {
          "model_module": "@jupyter-widgets/controls",
          "model_name": "HTMLModel",
          "model_module_version": "1.5.0",
          "state": {
            "_dom_classes": [],
            "_model_module": "@jupyter-widgets/controls",
            "_model_module_version": "1.5.0",
            "_model_name": "HTMLModel",
            "_view_count": null,
            "_view_module": "@jupyter-widgets/controls",
            "_view_module_version": "1.5.0",
            "_view_name": "HTMLView",
            "description": "",
            "description_tooltip": null,
            "layout": "IPY_MODEL_9890c394421547dd82293df7abb44d86",
            "placeholder": "​",
            "style": "IPY_MODEL_301572b4df3c4d42b021b7e2f65e10c3",
            "value": " 3/3 [00:01&lt;00:00,  1.96it/s]"
          }
        },
        "08fac5658c4044cc90366a67af7f55f6": {
          "model_module": "@jupyter-widgets/base",
          "model_name": "LayoutModel",
          "model_module_version": "1.2.0",
          "state": {
            "_model_module": "@jupyter-widgets/base",
            "_model_module_version": "1.2.0",
            "_model_name": "LayoutModel",
            "_view_count": null,
            "_view_module": "@jupyter-widgets/base",
            "_view_module_version": "1.2.0",
            "_view_name": "LayoutView",
            "align_content": null,
            "align_items": null,
            "align_self": null,
            "border": null,
            "bottom": null,
            "display": "inline-flex",
            "flex": null,
            "flex_flow": "row wrap",
            "grid_area": null,
            "grid_auto_columns": null,
            "grid_auto_flow": null,
            "grid_auto_rows": null,
            "grid_column": null,
            "grid_gap": null,
            "grid_row": null,
            "grid_template_areas": null,
            "grid_template_columns": null,
            "grid_template_rows": null,
            "height": null,
            "justify_content": null,
            "justify_items": null,
            "left": null,
            "margin": null,
            "max_height": null,
            "max_width": null,
            "min_height": null,
            "min_width": null,
            "object_fit": null,
            "object_position": null,
            "order": null,
            "overflow": null,
            "overflow_x": null,
            "overflow_y": null,
            "padding": null,
            "right": null,
            "top": null,
            "visibility": null,
            "width": "1000px"
          }
        },
        "e3aa87064b7947c4a50410c7c1df3e71": {
          "model_module": "@jupyter-widgets/base",
          "model_name": "LayoutModel",
          "model_module_version": "1.2.0",
          "state": {
            "_model_module": "@jupyter-widgets/base",
            "_model_module_version": "1.2.0",
            "_model_name": "LayoutModel",
            "_view_count": null,
            "_view_module": "@jupyter-widgets/base",
            "_view_module_version": "1.2.0",
            "_view_name": "LayoutView",
            "align_content": null,
            "align_items": null,
            "align_self": null,
            "border": null,
            "bottom": null,
            "display": null,
            "flex": null,
            "flex_flow": null,
            "grid_area": null,
            "grid_auto_columns": null,
            "grid_auto_flow": null,
            "grid_auto_rows": null,
            "grid_column": null,
            "grid_gap": null,
            "grid_row": null,
            "grid_template_areas": null,
            "grid_template_columns": null,
            "grid_template_rows": null,
            "height": null,
            "justify_content": null,
            "justify_items": null,
            "left": null,
            "margin": null,
            "max_height": null,
            "max_width": null,
            "min_height": null,
            "min_width": null,
            "object_fit": null,
            "object_position": null,
            "order": null,
            "overflow": null,
            "overflow_x": null,
            "overflow_y": null,
            "padding": null,
            "right": null,
            "top": null,
            "visibility": null,
            "width": null
          }
        },
        "56500e1343a64ec7b406d31678c542c9": {
          "model_module": "@jupyter-widgets/controls",
          "model_name": "DescriptionStyleModel",
          "model_module_version": "1.5.0",
          "state": {
            "_model_module": "@jupyter-widgets/controls",
            "_model_module_version": "1.5.0",
            "_model_name": "DescriptionStyleModel",
            "_view_count": null,
            "_view_module": "@jupyter-widgets/base",
            "_view_module_version": "1.2.0",
            "_view_name": "StyleView",
            "description_width": ""
          }
        },
        "79286d287b5c4c6ca40a06d24c9728c7": {
          "model_module": "@jupyter-widgets/base",
          "model_name": "LayoutModel",
          "model_module_version": "1.2.0",
          "state": {
            "_model_module": "@jupyter-widgets/base",
            "_model_module_version": "1.2.0",
            "_model_name": "LayoutModel",
            "_view_count": null,
            "_view_module": "@jupyter-widgets/base",
            "_view_module_version": "1.2.0",
            "_view_name": "LayoutView",
            "align_content": null,
            "align_items": null,
            "align_self": null,
            "border": null,
            "bottom": null,
            "display": null,
            "flex": "2",
            "flex_flow": null,
            "grid_area": null,
            "grid_auto_columns": null,
            "grid_auto_flow": null,
            "grid_auto_rows": null,
            "grid_column": null,
            "grid_gap": null,
            "grid_row": null,
            "grid_template_areas": null,
            "grid_template_columns": null,
            "grid_template_rows": null,
            "height": null,
            "justify_content": null,
            "justify_items": null,
            "left": null,
            "margin": null,
            "max_height": null,
            "max_width": null,
            "min_height": null,
            "min_width": null,
            "object_fit": null,
            "object_position": null,
            "order": null,
            "overflow": null,
            "overflow_x": null,
            "overflow_y": null,
            "padding": null,
            "right": null,
            "top": null,
            "visibility": null,
            "width": null
          }
        },
        "cf0824095ae5403890d66aad1f877104": {
          "model_module": "@jupyter-widgets/controls",
          "model_name": "ProgressStyleModel",
          "model_module_version": "1.5.0",
          "state": {
            "_model_module": "@jupyter-widgets/controls",
            "_model_module_version": "1.5.0",
            "_model_name": "ProgressStyleModel",
            "_view_count": null,
            "_view_module": "@jupyter-widgets/base",
            "_view_module_version": "1.2.0",
            "_view_name": "StyleView",
            "bar_color": null,
            "description_width": ""
          }
        },
        "9890c394421547dd82293df7abb44d86": {
          "model_module": "@jupyter-widgets/base",
          "model_name": "LayoutModel",
          "model_module_version": "1.2.0",
          "state": {
            "_model_module": "@jupyter-widgets/base",
            "_model_module_version": "1.2.0",
            "_model_name": "LayoutModel",
            "_view_count": null,
            "_view_module": "@jupyter-widgets/base",
            "_view_module_version": "1.2.0",
            "_view_name": "LayoutView",
            "align_content": null,
            "align_items": null,
            "align_self": null,
            "border": null,
            "bottom": null,
            "display": null,
            "flex": null,
            "flex_flow": null,
            "grid_area": null,
            "grid_auto_columns": null,
            "grid_auto_flow": null,
            "grid_auto_rows": null,
            "grid_column": null,
            "grid_gap": null,
            "grid_row": null,
            "grid_template_areas": null,
            "grid_template_columns": null,
            "grid_template_rows": null,
            "height": null,
            "justify_content": null,
            "justify_items": null,
            "left": null,
            "margin": null,
            "max_height": null,
            "max_width": null,
            "min_height": null,
            "min_width": null,
            "object_fit": null,
            "object_position": null,
            "order": null,
            "overflow": null,
            "overflow_x": null,
            "overflow_y": null,
            "padding": null,
            "right": null,
            "top": null,
            "visibility": null,
            "width": null
          }
        },
        "301572b4df3c4d42b021b7e2f65e10c3": {
          "model_module": "@jupyter-widgets/controls",
          "model_name": "DescriptionStyleModel",
          "model_module_version": "1.5.0",
          "state": {
            "_model_module": "@jupyter-widgets/controls",
            "_model_module_version": "1.5.0",
            "_model_name": "DescriptionStyleModel",
            "_view_count": null,
            "_view_module": "@jupyter-widgets/base",
            "_view_module_version": "1.2.0",
            "_view_name": "StyleView",
            "description_width": ""
          }
        }
      }
    }
  },
  "nbformat": 4,
  "nbformat_minor": 0
}