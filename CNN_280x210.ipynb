{
  "cells": [
    {
      "cell_type": "markdown",
      "metadata": {
        "id": "view-in-github",
        "colab_type": "text"
      },
      "source": [
        "<a href=\"https://colab.research.google.com/github/sepandms/SkinCare/blob/main/CNN_280x210.ipynb\" target=\"_parent\"><img src=\"https://colab.research.google.com/assets/colab-badge.svg\" alt=\"Open In Colab\"/></a>"
      ]
    },
    {
      "cell_type": "code",
      "execution_count": 3,
      "metadata": {
        "colab": {
          "base_uri": "https://localhost:8080/"
        },
        "id": "MzRoZIkXDiT7",
        "outputId": "d1a76930-d0e0-4797-faf7-f4eec6e3149c"
      },
      "outputs": [
        {
          "output_type": "stream",
          "name": "stdout",
          "text": [
            "Mounted at /content/drive\n",
            "Looking in indexes: https://pypi.org/simple, https://us-python.pkg.dev/colab-wheels/public/simple/\n",
            "Collecting pickle5\n",
            "  Downloading pickle5-0.0.12-cp37-cp37m-manylinux_2_5_x86_64.manylinux1_x86_64.whl (256 kB)\n",
            "\u001b[K     |████████████████████████████████| 256 kB 7.4 MB/s \n",
            "\u001b[?25hInstalling collected packages: pickle5\n",
            "Successfully installed pickle5-0.0.12\n"
          ]
        }
      ],
      "source": [
        "from google.colab import drive\n",
        "drive.mount('/content/drive')\n",
        "G_path = '/content/drive/MyDrive/DataSources/SkinCare'\n",
        "!pip install pickle5"
      ]
    },
    {
      "cell_type": "code",
      "execution_count": 4,
      "metadata": {
        "id": "VZrZXitoAlDd"
      },
      "outputs": [],
      "source": [
        "import torch\n",
        "import torch.nn as nn\n",
        "import torch.nn.functional as F\n",
        "import torchvision\n",
        "import torchvision.transforms as transforms\n",
        "from torch.utils.data import TensorDataset as dset\n",
        "#import torchvision.transforms.Compose\n",
        "import numpy as np\n",
        "from datetime import datetime\t\n",
        "import random\n",
        "import matplotlib.pyplot as plt\n",
        "import seaborn as sns\n",
        "from torch.utils.data import random_split\n",
        "from torch.utils.data import SubsetRandomSampler\n",
        "from torch.utils.data import WeightedRandomSampler\n",
        "from torch.utils.data import DataLoader\n",
        "import time\n",
        "from tqdm import tqdm\n",
        "import pickle as pickle\n",
        "from statistics import mean\n",
        "import pandas as pd\n",
        "pd.options.display.max_colwidth = 250\n",
        "import sklearn as sk\n",
        "from sklearn.model_selection import train_test_split\n",
        "device = torch.device(\"cuda\" if torch.cuda.is_available() else 'mps' if torch.backends.mps.is_available() else \"cpu\")\n",
        "from sklearn.utils import resample\n",
        "import warnings\n",
        "warnings.filterwarnings('ignore')"
      ]
    },
    {
      "cell_type": "code",
      "execution_count": 5,
      "metadata": {
        "id": "6y2NEQ6WOvNi"
      },
      "outputs": [],
      "source": [
        "Binary_classification = True\n",
        "file = 'DataSet_280x210' \n",
        "input_data , labels = pickle.load(open(G_path + '/DataSet_280x210/'+ file,'rb'))\n",
        "file = 'Evaluation_set_280x210' \n",
        "Evaluation_set = pickle.load(open(G_path + '/DataSet_280x210/' + file,'rb'))\n",
        "\n",
        "if Binary_classification:\n",
        "  labels = labels[1]\n",
        "else:\n",
        "  labels = labels[0]"
      ]
    },
    {
      "cell_type": "code",
      "source": [
        "labels[1][:10]"
      ],
      "metadata": {
        "id": "V_Mz7iN2hFgF",
        "outputId": "cd0cef6c-c5f3-4252-9b01-1b16a16640da",
        "colab": {
          "base_uri": "https://localhost:8080/"
        }
      },
      "execution_count": 6,
      "outputs": [
        {
          "output_type": "execute_result",
          "data": {
            "text/plain": [
              "tensor([0, 0, 1, 0, 0, 1, 0, 0, 0, 0])"
            ]
          },
          "metadata": {},
          "execution_count": 6
        }
      ]
    },
    {
      "cell_type": "markdown",
      "metadata": {
        "id": "YX40UaIYFt0J"
      },
      "source": [
        "# **CNN Networks**"
      ]
    },
    {
      "cell_type": "code",
      "execution_count": 7,
      "metadata": {
        "id": "0B7S_srvzD6I"
      },
      "outputs": [],
      "source": [
        "class CNN_Nets:\n",
        "  class Net8(nn.Module):\n",
        "    def __init__(self,drop_out):\n",
        "        super().__init__()\n",
        "        self.conv1 = nn.Conv2d( in_channels=3 , out_channels=64, stride = 2 , kernel_size=(3, 3))\n",
        "        self.pool1 = nn.MaxPool2d( kernel_size = (3,3), stride = 2, padding = 0 )\n",
        "        self.conv2 = nn.Conv2d( in_channels=64, out_channels=128, stride = 2 , kernel_size=(3, 3))\n",
        "        self.pool2 = nn.MaxPool2d( kernel_size = (3,3), stride = 2, padding = 0 )\n",
        "        self.conv3 = nn.Conv2d( in_channels=128, out_channels=64, stride = 2 , kernel_size=(3, 3))\n",
        "        self.pool3 = nn.MaxPool2d( kernel_size = (3,3), stride = 2, padding = 0 )\n",
        "        self.fc1   = nn.Linear(in_features= 384 , out_features = 128)\n",
        "        self.fc2   = nn.Linear(in_features= 128 , out_features = 7)\n",
        "        self.Act   = nn.LeakyReLU(inplace=True)\n",
        "        self.dropout = nn.Dropout(drop_out)\n",
        "    def forward(self, x):\n",
        "        out = self.Act(self.conv1(x))\n",
        "        out = self.Act(self.pool1(out))\n",
        "        out = self.dropout(out)\n",
        "        out = self.Act(self.conv2(out))\n",
        "        out = self.Act(self.pool2(out))\n",
        "        out = self.dropout(out)\n",
        "        out = self.Act(self.conv3(out))\n",
        "        out = self.Act(self.pool3(out))\n",
        "        out = self.dropout(out)\n",
        "        out = torch.flatten(out, 1) \n",
        "        out = self.Act(self.fc1(out))\n",
        "        out = self.fc2(out)\n",
        "        return out\n",
        "    def forward_noDrop(self, x):\n",
        "        out = self.Act(self.conv1(x))\n",
        "        out = self.Act(self.pool1(out))\n",
        "        out = self.Act(self.conv2(out))\n",
        "        out = self.Act(self.pool2(out))\n",
        "        out = self.Act(self.conv3(out))\n",
        "        out = self.Act(self.pool3(out))\n",
        "        out = torch.flatten(out, 1) \n",
        "        out = self.Act(self.fc1(out))\n",
        "        out = self.fc2(out)\n",
        "        return out\n",
        "\n",
        "  class Net8_a(nn.Module):\n",
        "    def __init__(self,drop_out):\n",
        "        super().__init__()\n",
        "        self.conv1 = nn.Conv2d( in_channels=3 , out_channels=64, stride = 2 , kernel_size=(3, 3))\n",
        "        self.pool1 = nn.MaxPool2d( kernel_size = (3,3), stride = 2, padding = 0 )\n",
        "        self.conv2 = nn.Conv2d( in_channels=64, out_channels=128, stride = 2 , kernel_size=(3, 3))\n",
        "        self.pool2 = nn.MaxPool2d( kernel_size = (3,3), stride = 2, padding = 0 )\n",
        "        self.conv3 = nn.Conv2d( in_channels=128, out_channels=256, stride = 2 , kernel_size=(3, 3))\n",
        "        self.pool3 = nn.MaxPool2d( kernel_size = (3,3), stride = 2, padding = 0 )\n",
        "        self.fc1   = nn.Linear(in_features= 1536 , out_features = 128)\n",
        "        self.fc2   = nn.Linear(in_features= 128 , out_features = 7)\n",
        "        self.Act   = nn.LeakyReLU()\n",
        "        self.dropout = nn.Dropout(drop_out)\n",
        "    def forward(self, x):\n",
        "        out = self.Act(self.conv1(x))\n",
        "        out = self.pool1(out)\n",
        "        out = self.dropout(out)\n",
        "        out = self.Act(self.conv2(out))\n",
        "        out = self.pool2(out)\n",
        "        out = self.dropout(out)\n",
        "        out = self.Act(self.conv3(out))\n",
        "        out = self.pool3(out)\n",
        "        out = self.dropout(out)\n",
        "        out = torch.flatten(out, 1) \n",
        "        out = self.Act(self.fc1(out))\n",
        "        out = self.fc2(out)\n",
        "        return out\n",
        "    def forward_noDrop(self, x):\n",
        "        out = self.Act(self.conv1(x))\n",
        "        out = self.pool1(out)\n",
        "        out = self.Act(self.conv2(out))\n",
        "        out = self.pool2(out)\n",
        "        out = self.Act(self.conv3(out))\n",
        "        out = self.pool3(out)\n",
        "        out = torch.flatten(out, 1) \n",
        "        out = self.Act(self.fc1(out))\n",
        "        out = self.fc2(out)\n",
        "        return out\n",
        "  \n",
        "  class Net8_b(nn.Module):\n",
        "    def __init__(self,drop_out):\n",
        "        super().__init__()\n",
        "        self.conv1 = nn.Conv2d( in_channels=3 , out_channels=64, stride = 2 , kernel_size=(3, 3))\n",
        "        self.pool1 = nn.MaxPool2d( kernel_size = (3,3), stride = 2, padding = 0 )\n",
        "        self.conv2 = nn.Conv2d( in_channels=64, out_channels=128, stride = 2 , kernel_size=(3, 3))\n",
        "        self.pool2 = nn.MaxPool2d( kernel_size = (3,3), stride = 2, padding = 0 )\n",
        "        self.conv3 = nn.Conv2d( in_channels=128, out_channels=256, stride = 2 , kernel_size=(3, 3))\n",
        "        self.pool3 = nn.MaxPool2d( kernel_size = (3,3), stride = 2, padding = 0 )\n",
        "        self.fc1   = nn.Linear(in_features= 1536 , out_features = 128)\n",
        "        self.fc2   = nn.Linear(in_features= 128 , out_features = 7)\n",
        "        self.Act   = nn.LeakyReLU(inplace=True)\n",
        "        self.dropout = nn.Dropout(drop_out)\n",
        "    def forward(self, x):\n",
        "        out = self.Act(self.conv1(x))\n",
        "        out = self.Act(self.pool1(out))\n",
        "        out = self.dropout(out)\n",
        "        out = self.Act(self.conv2(out))\n",
        "        out = self.Act(self.pool2(out))\n",
        "        out = self.dropout(out)\n",
        "        out = self.Act(self.conv3(out))\n",
        "        out = self.Act(self.pool3(out))\n",
        "        out = self.dropout(out)\n",
        "        out = torch.flatten(out, 1) \n",
        "        out = self.Act(self.fc1(out))\n",
        "        out = self.fc2(out)\n",
        "        return out\n",
        "    def forward_noDrop(self, x):\n",
        "        out = self.Act(self.conv1(x))\n",
        "        out = self.Act(self.pool1(out))\n",
        "        out = self.Act(self.conv2(out))\n",
        "        out = self.Act(self.pool2(out))\n",
        "        out = self.Act(self.conv3(out))\n",
        "        out = self.Act(self.pool3(out))\n",
        "        out = torch.flatten(out, 1) \n",
        "        out = self.Act(self.fc1(out))\n",
        "        out = self.fc2(out)\n",
        "        return out\n",
        "\n",
        "\n",
        "  class Net8_b_binary(nn.Module):\n",
        "    def __init__(self,drop_out):\n",
        "        super().__init__()\n",
        "        self.conv1 = nn.Conv2d( in_channels=3 , out_channels=64, stride = 2 , kernel_size=(3, 3))\n",
        "        self.pool1 = nn.MaxPool2d( kernel_size = (3,3), stride = 2, padding = 0 )\n",
        "        self.conv2 = nn.Conv2d( in_channels=64, out_channels=128, stride = 2 , kernel_size=(3, 3))\n",
        "        self.pool2 = nn.MaxPool2d( kernel_size = (3,3), stride = 2, padding = 0 )\n",
        "        self.conv3 = nn.Conv2d( in_channels=128, out_channels=256, stride = 2 , kernel_size=(3, 3))\n",
        "        self.pool3 = nn.MaxPool2d( kernel_size = (3,3), stride = 2, padding = 0 )\n",
        "        self.fc1   = nn.Linear(in_features= 1536 , out_features = 128)\n",
        "        self.fc2   = nn.Linear(in_features= 128 , out_features = 2)\n",
        "        self.Act   = nn.LeakyReLU(inplace=True)\n",
        "        self.dropout = nn.Dropout(drop_out)\n",
        "    def forward(self, x):\n",
        "        out = self.Act(self.conv1(x))\n",
        "        out = self.Act(self.pool1(out))\n",
        "        out = self.dropout(out)\n",
        "        out = self.Act(self.conv2(out))\n",
        "        out = self.Act(self.pool2(out))\n",
        "        out = self.dropout(out)\n",
        "        out = self.Act(self.conv3(out))\n",
        "        out = self.Act(self.pool3(out))\n",
        "        out = self.dropout(out)\n",
        "        out = torch.flatten(out, 1) \n",
        "        out = self.Act(self.fc1(out))\n",
        "        out = self.fc2(out)\n",
        "        return out\n",
        "    def forward_noDrop(self, x):\n",
        "        out = self.Act(self.conv1(x))\n",
        "        out = self.Act(self.pool1(out))\n",
        "        out = self.Act(self.conv2(out))\n",
        "        out = self.Act(self.pool2(out))\n",
        "        out = self.Act(self.conv3(out))\n",
        "        out = self.Act(self.pool3(out))\n",
        "        out = torch.flatten(out, 1) \n",
        "        out = self.Act(self.fc1(out))\n",
        "        out = self.fc2(out)\n",
        "        return out"
      ]
    },
    {
      "cell_type": "markdown",
      "metadata": {
        "id": "P5Zfb1SkAlDg"
      },
      "source": [
        "# **Test Nets**"
      ]
    },
    {
      "cell_type": "code",
      "execution_count": 6,
      "metadata": {
        "colab": {
          "base_uri": "https://localhost:8080/"
        },
        "id": "OJTfTtmfAlDg",
        "outputId": "99475999-dd0f-42dd-dc72-806a2d0b7e05"
      },
      "outputs": [
        {
          "output_type": "execute_result",
          "data": {
            "text/plain": [
              "torch.Size([5, 7])"
            ]
          },
          "metadata": {},
          "execution_count": 6
        }
      ],
      "source": [
        "model_test = CNN_Nets.Net8_a(drop_out=0.1)\n",
        "X_ = input_data[0][0:5]\n",
        "out = model_test(X_)\n",
        "out.shape"
      ]
    },
    {
      "cell_type": "markdown",
      "metadata": {
        "id": "XWC5a989AlDg"
      },
      "source": [
        "# **Confusion-Matrix & Accuracy**"
      ]
    },
    {
      "cell_type": "code",
      "execution_count": 8,
      "metadata": {
        "id": "pBE96mxDAlDg"
      },
      "outputs": [],
      "source": [
        "def confusion_matrix(Y,Y_pred):\n",
        "    CM = sk.metrics.confusion_matrix(Y,Y_pred)\n",
        "    print('Nr. of Data : \\n', CM.sum())\n",
        "    print('Accuracy of The Model : \\n', np.diag(CM).sum()/CM.sum())\n",
        "    sk.metrics.ConfusionMatrixDisplay(CM).plot()\n",
        "    FP = CM.sum(axis=0) - np.diag(CM) \n",
        "    FN = CM.sum(axis=1) - np.diag(CM)\n",
        "    TP = np.diag(CM)\n",
        "    TN = CM.sum() - (FP + FN + TP)\n",
        "    weights = CM.sum(axis=1) / CM.sum() \n",
        "    ACC = np.nan_to_num((TP+TN)/(TP+FP+FN+TN) , nan=0)\n",
        "    Recall_Sensitivity = np.nan_to_num(TP/(TP+FN) , nan=0)\n",
        "    Specificity = np.nan_to_num(TN/(TN+FP) , nan=0)\n",
        "    Precision = np.nan_to_num(TP/(TP+FP) , nan=0)\n",
        "    f1_score = np.nan_to_num( 2*Precision*Recall_Sensitivity / (Recall_Sensitivity + Precision), nan=0)\n",
        "    Performance_DF = pd.concat([pd.DataFrame(CM),pd.DataFrame(weights, columns=['weights']),pd.DataFrame(Precision, columns=['Precision']),pd.DataFrame(Recall_Sensitivity,columns=['Recall_Sensitivity'])\n",
        "        ,pd.DataFrame(Specificity, columns=['Specificity']),pd.DataFrame(f1_score, columns=['f1_score'])], axis=1)\n",
        "    total_row1 = pd.Series({'Precision':mean(Precision),'Recall_Sensitivity':mean(Recall_Sensitivity),'Specificity':mean(Specificity),'f1_score':mean(f1_score)}, name='Simple Avg.')\n",
        "    total_row2 = pd.Series({'Precision':sum(weights*Precision),'Recall_Sensitivity':sum(weights*Recall_Sensitivity),'Specificity':sum(weights*Specificity),'f1_score':sum(weights*f1_score)}, name='Weighted Avg.')\n",
        "    Performance_DF = Performance_DF.append([total_row1,total_row2])\n",
        "    cols = ['weights','Precision','Recall_Sensitivity','Specificity','f1_score']\n",
        "    per_details = Performance_DF[cols].style.format({'weights': \"{:.1%}\",'Precision': \"{:.1%}\",'Recall_Sensitivity': \"{:.1%}\",'Specificity': \"{:.1%}\",'f1_score': \"{:.1%}\"})\n",
        "    return per_details\n",
        "\n",
        "def recall_specificity(Y,Y_pred, type):\n",
        "    CM = sk.metrics.confusion_matrix(Y,Y_pred)\n",
        "    FP = CM.sum(axis=0) - np.diag(CM) \n",
        "    FN = CM.sum(axis=1) - np.diag(CM)\n",
        "    TP = np.diag(CM)\n",
        "    TN = CM.sum() - (FP + FN + TP)\n",
        "    weights = CM.sum(axis=1) / CM.sum() \n",
        "    ACC = np.nan_to_num((TP+TN)/(TP+FP+FN+TN) , nan=0)\n",
        "    Recall_Sensitivity = np.nan_to_num(TP/(TP+FN) , nan=0)\n",
        "    Specificity = np.nan_to_num(TN/(TN+FP) , nan=0)\n",
        "    Precision = np.nan_to_num(TP/(TP+FP) , nan=0)\n",
        "    f1_score = np.nan_to_num( 2*Precision*Recall_Sensitivity / (Recall_Sensitivity + Precision), nan=0)\n",
        "    Performance_DF = pd.concat([pd.DataFrame(CM),pd.DataFrame(weights, columns=['weights']),pd.DataFrame(Precision, columns=['Precision']),pd.DataFrame(Recall_Sensitivity,columns=['Recall_Sensitivity'])\n",
        "        ,pd.DataFrame(Specificity, columns=['Specificity']),pd.DataFrame(f1_score, columns=['f1_score'])], axis=1)\n",
        "    total_row1 = pd.Series({'Precision':mean(Precision),'Recall_Sensitivity':mean(Recall_Sensitivity),'Specificity':mean(Specificity),'f1_score':mean(f1_score)}, name='Simple Avg.')\n",
        "    total_row2 = pd.Series({'Precision':sum(weights*Precision),'Recall_Sensitivity':sum(weights*Recall_Sensitivity),'Specificity':sum(weights*Specificity),'f1_score':sum(weights*f1_score)}, name='Weighted Avg.')\n",
        "    Performance_DF = Performance_DF.append([total_row1,total_row2])\n",
        "    cols = ['weights','Precision','Recall_Sensitivity','Specificity','f1_score']\n",
        "    return per_details\n",
        "\n",
        "# def plot_loss_accuracy(model_):\n",
        "#     epochs_X = [i for i in range(1, model_.epochs+1)]\n",
        "#     plt.subplots(figsize=(6,4))\n",
        "#     plt.plot(epochs_X , model_.Epochs_Train_loss, 'bo-', label='Train loss')\n",
        "#     plt.plot(epochs_X , model_.Epochs_Val_loss,'ro-', label='Validation loss')\n",
        "#     plt.plot(epochs_X , model_.Epochs_test_loss,'go-', label='Test loss')\n",
        "#     plt.xlabel(\"Epochs\", fontsize = 12)\n",
        "#     plt.ylabel(\"Loss\", fontsize = 12)\n",
        "#     plt.grid()\n",
        "#     plt.legend()\n",
        "#     plt.title('Train and Validation loss by epochs')\n",
        "#     plt.show()\n",
        "#     plt.plot(epochs_X , model_.Epochs_Train_Acc, 'bo-', label='Train Accuracy')\n",
        "#     plt.plot(epochs_X , model_.Epochs_Val_Acc,'ro-', label='Validation Accuracy')\n",
        "#     plt.plot(epochs_X , model_.Epochs_test_Acc,'go-', label='Test Accuracy')\n",
        "#     plt.xlabel(\"Epochs\", fontsize = 12)\n",
        "#     plt.ylabel(\"Accuracy\", fontsize = 12)\n",
        "#     plt.grid()\n",
        "#     plt.legend()\n",
        "#     plt.title('Train and Validation Accuracy by epochs')\n",
        "#     plt.show()\n",
        "\n",
        "def plot_loss_accuracy(model_):\n",
        "    epochs_X = [i for i in range(1, len(model_.Epochs_Train_loss)+1)]\n",
        "    fig, axs = plt.subplots(1,2,figsize=(14,4))\n",
        "    axs[0].plot(epochs_X , model_.Epochs_Train_loss , 'bo-', label='Train loss')\n",
        "    axs[0].plot(epochs_X , model_.Epochs_Val_loss,'ro-', label='Validation loss')\n",
        "    axs[0].plot(epochs_X , model_.Epochs_test_loss,'go-', label='Test loss')\n",
        "    axs[0].set_xlabel(\"Epochs\", fontsize = 12)\n",
        "    axs[0].set_ylabel(\"Loss\", fontsize = 12)\n",
        "    axs[0].grid()\n",
        "    axs[0].legend()\n",
        "    axs[0].set_title('Train and Validation loss by epochs', fontsize = 14)\n",
        "    axs[1].plot(epochs_X , model_.Epochs_Train_Acc , 'bo-', label='Train Accuracy')\n",
        "    axs[1].plot(epochs_X , model_.Epochs_Val_Acc ,'ro-', label='Validation Accuracy')\n",
        "    axs[1].plot(epochs_X , model_.Epochs_test_Acc ,'go-', label='Test Accuracy')\n",
        "    axs[1].set_xlabel(\"Epochs\", fontsize = 12)\n",
        "    axs[1].set_ylabel(\"Accuracy\", fontsize = 12)\n",
        "    axs[1].grid()\n",
        "    axs[1].legend()\n",
        "    axs[1].set_title('Train and Validation Accuracy by epochs', fontsize = 14)\n",
        "    plt.show()\n",
        "\n",
        "def recall_specificity_precision(Y,Y_pred, weighted_avg):\n",
        "    CM = sk.metrics.confusion_matrix(Y,Y_pred)\n",
        "    FP = CM.sum(axis=0) - np.diag(CM) \n",
        "    FN = CM.sum(axis=1) - np.diag(CM)\n",
        "    TP = np.diag(CM)\n",
        "    TN = CM.sum() - (FP + FN + TP)\n",
        "    weights = CM.sum(axis=1) / CM.sum() \n",
        "    Accuracy = np.nan_to_num((TP+TN)/(TP+FP+FN+TN) , nan=0)\n",
        "    Recall = np.nan_to_num(TP/(TP+FN) , nan=0)\n",
        "    Specificity = np.nan_to_num(TN/(TN+FP) , nan=0)\n",
        "    Precision = np.nan_to_num(TP/(TP+FP) , nan=0)\n",
        "    if weighted_avg:\n",
        "        return round(sum(weights*Recall),3), round(sum(weights*Specificity),3), round(sum(weights*Precision),3)\n",
        "    else:\n",
        "        return round(mean(Recall),3), round(mean(Specificity),3), round(mean(Precision),3)"
      ]
    },
    {
      "cell_type": "markdown",
      "metadata": {
        "id": "4XV23bjxXUi7"
      },
      "source": [
        "### **1.3 Training**"
      ]
    },
    {
      "cell_type": "code",
      "execution_count": 9,
      "metadata": {
        "id": "I0bPoj1nz3Or"
      },
      "outputs": [],
      "source": [
        "class Model_Training_with_loader:\n",
        "\n",
        "    def __init__(self, Net, Drop, LR, batch_size , Momentum, epochs,patience, weight_decay, loss_func, opt_func,w_sampler, trainDataset, validDataset, X_test,Y_test, print_epochs,hyper_params):    \n",
        "        \n",
        "        self.model = Net(Drop).to(device)\n",
        "        if opt_func is torch.optim.Adam:\n",
        "            self.opt = opt_func(self.model.parameters(), lr=LR, weight_decay=weight_decay)\n",
        "        else:\n",
        "            self.opt = opt_func(self.model.parameters(), lr=LR,momentum=Momentum, weight_decay=weight_decay)\n",
        "\n",
        "        self.loss_func = loss_func()\n",
        "        self.epochs = epochs\n",
        "        self.patience = patience\n",
        "        self.print_epochs = print_epochs\n",
        "        self.batch_size = batch_size\n",
        "        self.Epochs_Train_loss = []\n",
        "        self.Epochs_Train_Acc = []\n",
        "        self.Epochs_Val_loss = []\n",
        "        self.Epochs_Val_Acc = []\n",
        "        self.Epochs_test_loss = []\n",
        "        self.Epochs_test_Acc = []\n",
        "        self.hyper_params = hyper_params\n",
        "        self.Y_test = Y_test\n",
        "        self.X_test = X_test\n",
        "        self.train_loader = DataLoader(dataset = trainDataset , sampler = w_sampler, batch_size = self.batch_size, num_workers=4)\n",
        "        self.valid_loader = DataLoader(dataset = validDataset , shuffle=True, batch_size = self.batch_size, num_workers=2)\n",
        "        self.test_loader = DataLoader(dataset = testDataset , shuffle=True, batch_size = self.batch_size, num_workers=2)\n",
        "\n",
        "    def train(self):\n",
        "        \n",
        "        model = self.model\n",
        "        loss_fn = self.loss_func\n",
        "        opt = self.opt \n",
        "        batch_size = self.batch_size\n",
        "        min_loss = 100\n",
        "        iters = 0\n",
        "\n",
        "        for epoch in range(1, self.epochs+1 ):\n",
        "            start_time=time.time()\n",
        "            steps_train_loss = []\n",
        "            steps_train_Acc = []\n",
        "            steps_val_loss = []\n",
        "            steps_val_Acc = []\n",
        "            steps_test_loss = []\n",
        "            steps_test_Acc = []\n",
        "            torch.cuda.empty_cache()\n",
        "            for batch, (X, Y) in enumerate(self.train_loader):\n",
        "                X = X.to(device)\n",
        "                Y = Y.to(device)\n",
        "                opt.zero_grad()\n",
        "                model.train()\n",
        "                y_pred = model.forward(X)\n",
        "                loss = loss_fn(y_pred, Y)\n",
        "                loss.backward()\n",
        "                opt.step()\n",
        "                y_pred = y_pred.argmax(axis=1)\n",
        "                nr_of_corrects = (y_pred == Y).sum().item()\n",
        "                step_acc = nr_of_corrects / batch_size\n",
        "                steps_train_Acc.append(step_acc)\n",
        "                steps_train_loss.append(loss.item())\n",
        "                \n",
        "                # if (i+1) % 200 == 0:    # print every 2000 mini-batches\n",
        "                #     print('[Epoch: {}, Nr. Batch: {}]  , Train-Steps-loss: {:.1f} , running_acc: {:.1%}'.format(epoch , i+1 , train_steps_loss , batch_nr_correct / train_nr_total))\n",
        "                #     self.train_steps_acc = []\n",
        "                #     train_steps_loss = 0\n",
        "\n",
        "              #validation loss calculation\n",
        "            \n",
        "            for batch, (X, Y) in enumerate(self.valid_loader):\n",
        "                X = X.to(device)\n",
        "                Y = Y.to(device)\n",
        "                model.eval()\n",
        "                Y_pred = model(X)\n",
        "                loss_ = loss_fn(Y_pred, Y)\n",
        "                epoch_loss = loss_.item()\n",
        "                Y_pred = Y_pred.argmax(axis=1)\n",
        "                nr_correct = (Y_pred == Y).sum().item()\n",
        "                step_acc = nr_correct / batch_size\n",
        "                steps_val_Acc.append(step_acc)\n",
        "                steps_val_loss.append(epoch_loss)\n",
        "                \n",
        "            #Test Set Performance\n",
        "            for batch, (X, Y) in enumerate(self.test_loader):\n",
        "                X = X.to(device)\n",
        "                Y = Y.to(device)\n",
        "                model.eval()\n",
        "                Y_pred = model(X)\n",
        "                loss_ = loss_fn(Y_pred, Y)\n",
        "                epoch_loss = loss_.item()\n",
        "                Y_pred = Y_pred.argmax(axis=1)\n",
        "                nr_correct = (Y_pred == Y).sum().item()\n",
        "                step_acc = nr_correct / batch_size\n",
        "                steps_test_Acc.append(step_acc)\n",
        "                steps_test_loss.append(epoch_loss)\n",
        "\n",
        "            # Epoch Performance Metrics\n",
        "            train_epoch_loss = mean(steps_train_loss)\n",
        "            train_epoch_Acc = mean(steps_train_Acc)\n",
        "            self.Epochs_Train_loss.append(train_epoch_loss)\n",
        "            self.Epochs_Train_Acc.append(train_epoch_Acc)   \n",
        "            val_epoch_loss = mean(steps_val_loss)\n",
        "            val_epoch_Acc = mean(steps_val_Acc)\n",
        "            self.Epochs_Val_loss.append(val_epoch_loss)\n",
        "            self.Epochs_Val_Acc.append(val_epoch_Acc)\n",
        "            test_epoch_loss = mean(steps_test_loss)\n",
        "            test_epoch_Acc = mean(steps_test_Acc)           \n",
        "            self.Epochs_test_loss.append(test_epoch_loss)\n",
        "            self.Epochs_test_Acc.append(test_epoch_Acc)\n",
        "            End_time = time.time() \n",
        "\n",
        "            if val_epoch_loss < min_loss:\n",
        "              min_loss = val_epoch_loss\n",
        "              pickle.dump(model,open('Best_Model','wb'))\n",
        "              iters = 0\n",
        "            else:\n",
        "              iters +=1\n",
        "     \n",
        "            if iters > self.patience:\n",
        "              model = pickle.load(open('Best_Model','rb'))\n",
        "              print(f'Earlt Stoppo happen at Epoche {epoch} after no improvment of {iters} epochs ')\n",
        "              break\n",
        "\n",
        "            if self.print_epochs:\n",
        "                print(f'[Epoch: {epoch}]  , Train_loss: {train_epoch_loss:.1f} , Train_Acc: {train_epoch_Acc:.1%}, Val_loss: {val_epoch_loss:.1f} , Val_Acc: {val_epoch_Acc:.1%}, Test_Acc: {test_epoch_Acc:.1%}  , run time: {np.round(End_time - start_time, 2)}')\n",
        "        # print('Finished Training')"
      ]
    },
    {
      "cell_type": "markdown",
      "metadata": {
        "id": "0w-7sG3Slop1"
      },
      "source": [
        "# **Define Training data**"
      ]
    },
    {
      "cell_type": "code",
      "source": [
        "labels[0].shape , labels[2].shape"
      ],
      "metadata": {
        "id": "3KCPkXKuMPnP",
        "outputId": "d4c904a0-839e-4481-afac-4d8421ab0726",
        "colab": {
          "base_uri": "https://localhost:8080/"
        }
      },
      "execution_count": 10,
      "outputs": [
        {
          "output_type": "execute_result",
          "data": {
            "text/plain": [
              "(torch.Size([3833]), torch.Size([407]))"
            ]
          },
          "metadata": {},
          "execution_count": 10
        }
      ]
    },
    {
      "cell_type": "code",
      "execution_count": 15,
      "metadata": {
        "id": "sM2zFYZBWR45"
      },
      "outputs": [],
      "source": [
        "X_train = input_data[0]\n",
        "Y_train = labels[0]\n",
        "X_valid = input_data[1]\n",
        "Y_valid = labels[1]\n",
        "X_test = input_data[2]\n",
        "Y_test = labels[2]\n",
        "\n",
        "\n",
        "label_freq = np.bincount(Y_train)\n",
        "labels_weights = 1. / label_freq\n",
        "weights = labels_weights[Y_train]\n",
        "w_sampler = WeightedRandomSampler(weights, len(weights))\n",
        "\n",
        "trainDataset = dset(X_train, Y_train)\n",
        "validDataset = dset(X_valid, Y_valid)\n",
        "testDataset = dset(X_test, Y_test)"
      ]
    },
    {
      "cell_type": "markdown",
      "metadata": {
        "id": "geKyTRJ8AlDh"
      },
      "source": [
        "# **Model by Grid**"
      ]
    },
    {
      "cell_type": "code",
      "execution_count": 10,
      "metadata": {
        "id": "VL5FxPLAAlDi"
      },
      "outputs": [],
      "source": [
        "# Net = [CNN_Nets.Net3,CNN_Nets.Net7,CNN_Nets.Net8]\n",
        "# LR = [ 1e-3,1e-4]\n",
        "# batch_size = [24,48]\n",
        "# Momentum = [0.7,0.8,0.9]\n",
        "# epochs = [50]\n",
        "# weight_decay = [0,1e-3,1e-7]\n",
        "# loss_func  =  [nn.CrossEntropyLoss]\n",
        "# opt_func = [torch.optim.SGD]\n",
        "\n",
        "Net = [CNN_Nets.Net8_b]\n",
        "Drop = [0.2]\n",
        "LR = [ 1.1e-3]\n",
        "batch_size = [24]\n",
        "Momentum = [0.77]\n",
        "epochs = [100]\n",
        "patience = [20]\n",
        "weight_decay = [1e-3]\n",
        "loss_func  =  [nn.CrossEntropyLoss]\n",
        "opt_func = [torch.optim.SGD]\n",
        "\n",
        "# LR_Schedular = torch.optim.reducelr\n",
        "\n",
        "\n",
        "# Net = [CNN_Nets.Net8_b]\n",
        "# Drop = [0.2]\n",
        "# LR = [ 1.1e-3,1.3e-3]\n",
        "# batch_size = [24]\n",
        "# Momentum = [0.77,0.74]\n",
        "# epochs = [100]\n",
        "# patience = [20]\n",
        "# weight_decay = [0.8e-3]\n",
        "# loss_func  =  [nn.CrossEntropyLoss]\n",
        "# opt_func = [torch.optim.SGD]\n",
        "\n",
        "\n",
        "grid = {\n",
        "    'Net' : Net\n",
        "    ,'Drop' : Drop\n",
        "    ,'LR' : LR\n",
        "    ,'batch_size' : batch_size\n",
        "    ,'Momentum' : Momentum\n",
        "    ,'epochs' : epochs\n",
        "    ,'patience': patience\n",
        "    ,'weight_decay' :weight_decay\n",
        "    ,'loss_func'  :loss_func\n",
        "    ,'opt_func' : opt_func\n",
        "}\n",
        "params = sk.model_selection.ParameterGrid(grid)"
      ]
    },
    {
      "cell_type": "code",
      "execution_count": 11,
      "metadata": {
        "colab": {
          "base_uri": "https://localhost:8080/",
          "height": 276
        },
        "id": "hEkHc_7xAlDi",
        "outputId": "fc72ffd3-2179-441d-99f1-f801369046dc"
      },
      "outputs": [
        {
          "output_type": "stream",
          "name": "stderr",
          "text": [
            "  0%|          | 0/1 [00:00<?, ?it/s]\n"
          ]
        },
        {
          "output_type": "error",
          "ename": "NameError",
          "evalue": "ignored",
          "traceback": [
            "\u001b[0;31m---------------------------------------------------------------------------\u001b[0m",
            "\u001b[0;31mNameError\u001b[0m                                 Traceback (most recent call last)",
            "\u001b[0;32m<ipython-input-11-6f6654b513f0>\u001b[0m in \u001b[0;36m<module>\u001b[0;34m()\u001b[0m\n\u001b[1;32m     18\u001b[0m     \u001b[0mmodel_name\u001b[0m \u001b[0;34m=\u001b[0m  \u001b[0mexport_name\u001b[0m \u001b[0;34m+\u001b[0m \u001b[0;34m'Model'\u001b[0m \u001b[0;34m+\u001b[0m \u001b[0mstr\u001b[0m\u001b[0;34m(\u001b[0m\u001b[0mi\u001b[0m\u001b[0;34m)\u001b[0m \u001b[0;34m+\u001b[0m \u001b[0;34m'_'\u001b[0m \u001b[0;34m+\u001b[0m \u001b[0mdate_hour\u001b[0m\u001b[0;34m\u001b[0m\u001b[0;34m\u001b[0m\u001b[0m\n\u001b[1;32m     19\u001b[0m     \u001b[0mtorch\u001b[0m\u001b[0;34m.\u001b[0m\u001b[0mcuda\u001b[0m\u001b[0;34m.\u001b[0m\u001b[0mempty_cache\u001b[0m\u001b[0;34m(\u001b[0m\u001b[0;34m)\u001b[0m\u001b[0;34m\u001b[0m\u001b[0;34m\u001b[0m\u001b[0m\n\u001b[0;32m---> 20\u001b[0;31m     \u001b[0mModel_\u001b[0m \u001b[0;34m=\u001b[0m \u001b[0mModel_Training_with_loader\u001b[0m\u001b[0;34m(\u001b[0m\u001b[0;34m**\u001b[0m\u001b[0mp\u001b[0m\u001b[0;34m,\u001b[0m\u001b[0mw_sampler\u001b[0m \u001b[0;34m=\u001b[0m \u001b[0mw_sampler\u001b[0m \u001b[0;34m,\u001b[0m \u001b[0mtrainDataset\u001b[0m \u001b[0;34m=\u001b[0m \u001b[0mtrainDataset\u001b[0m\u001b[0;34m,\u001b[0m \u001b[0mvalidDataset\u001b[0m \u001b[0;34m=\u001b[0m \u001b[0mvalidDataset\u001b[0m \u001b[0;34m,\u001b[0m \u001b[0mX_test\u001b[0m \u001b[0;34m=\u001b[0m \u001b[0mX_test\u001b[0m\u001b[0;34m,\u001b[0m \u001b[0mY_test\u001b[0m \u001b[0;34m=\u001b[0m \u001b[0mY_test\u001b[0m\u001b[0;34m,\u001b[0m \u001b[0mprint_epochs\u001b[0m \u001b[0;34m=\u001b[0m\u001b[0mprint_epochs\u001b[0m\u001b[0;34m,\u001b[0m\u001b[0mhyper_params\u001b[0m\u001b[0;34m=\u001b[0m\u001b[0mp\u001b[0m\u001b[0;34m)\u001b[0m\u001b[0;34m\u001b[0m\u001b[0;34m\u001b[0m\u001b[0m\n\u001b[0m\u001b[1;32m     21\u001b[0m     \u001b[0mnp\u001b[0m\u001b[0;34m.\u001b[0m\u001b[0mrandom\u001b[0m\u001b[0;34m.\u001b[0m\u001b[0mseed\u001b[0m\u001b[0;34m(\u001b[0m\u001b[0;36m0\u001b[0m\u001b[0;34m)\u001b[0m\u001b[0;34m\u001b[0m\u001b[0;34m\u001b[0m\u001b[0m\n\u001b[1;32m     22\u001b[0m     \u001b[0mrandom\u001b[0m\u001b[0;34m.\u001b[0m\u001b[0mseed\u001b[0m\u001b[0;34m(\u001b[0m\u001b[0;36m0\u001b[0m\u001b[0;34m)\u001b[0m\u001b[0;34m\u001b[0m\u001b[0;34m\u001b[0m\u001b[0m\n",
            "\u001b[0;31mNameError\u001b[0m: name 'Model_Training_with_loader' is not defined"
          ]
        }
      ],
      "source": [
        "print_epochs = False\n",
        "export_csv = True\n",
        "save_models = True\n",
        "export_name = 'CNN_280x210_MultiClass' # {'280_210_','AutoEncoder_'}\n",
        "\n",
        "Hyper_Details = pd.DataFrame(columns=['model_name','hyper_param','test_overall_metric','test_recall','blc_test_recall','valid_recall','train_accuracy','valid_accuracy','test_accuracy','train_epoch_loss','train_epoch_acc','valid_epoch_loss','valid_epoch_acc','test_epoch_acc','test_epoch_loss'])\n",
        "date_hour = datetime.now().strftime(\"%d_%b%y_%H-%M\") \n",
        "Max_train_Acc = 0  \n",
        "Max_valid_Acc = 0 \n",
        "Max_test_Acc = 0                  \n",
        "Max_test_Recall = 0\n",
        "Max_BLC_Test_Recall = 0\n",
        "Max_test_overall_metric = 0\n",
        "i = -1\n",
        "pbar = tqdm(params)\n",
        "for p in pbar:\n",
        "    i += 1\n",
        "    model_name =  export_name + 'Model' + str(i) + '_' + date_hour\n",
        "    torch.cuda.empty_cache()\n",
        "    Model_ = Model_Training_with_loader(**p,w_sampler = w_sampler , trainDataset = trainDataset, validDataset = validDataset , X_test = X_test, Y_test = Y_test, print_epochs =print_epochs,hyper_params=p)\n",
        "    np.random.seed(0)\n",
        "    random.seed(0)\n",
        "    torch.manual_seed(0)\n",
        "    Model_.train()\n",
        "\n",
        "    train_accuracy = max(Model_.Epochs_Train_Acc)\n",
        "    # valid_accuracy = max(Model_.Epochs_Val_Acc)\n",
        "    # test_accuracy = max(Model_.Epochs_test_Acc)\n",
        "    train_epoch_loss = Model_.Epochs_Train_loss\n",
        "    train_epoch_acc = Model_.Epochs_Train_Acc\n",
        "    valid_epoch_loss = Model_.Epochs_Val_loss\n",
        "    valid_epoch_acc = Model_.Epochs_Val_Acc\n",
        "    test_epoch_loss = Model_.Epochs_test_loss\n",
        "    test_epoch_acc = Model_.Epochs_test_Acc\n",
        "\n",
        "\n",
        "    model_ = Model_.model.eval().to('cpu')\n",
        "    # test Avg. Sensitivity\n",
        "    X = input_data[2]\n",
        "    Y = labels[2]\n",
        "    Y_pred = model_.forward_noDrop(X).argmax(dim=1)\n",
        "    test_accuracy = sk.metrics.accuracy_score(Y, Y_pred )\n",
        "    test_precision, test_recall, test_fscore, m = sk.metrics.precision_recall_fscore_support(Y, Y_pred, average = 'macro')\n",
        "    # Valid Avg. Sensitivity\n",
        "    X = input_data[1]\n",
        "    Y = labels[1]\n",
        "    Y_pred = model_.forward_noDrop(X).argmax(dim=1)\n",
        "    valid_accuracy = sk.metrics.accuracy_score(Y, Y_pred )\n",
        "    valid_precision, valid_recall, valid_fscore, m = sk.metrics.precision_recall_fscore_support(Y, Y_pred, average = 'macro')\n",
        "    # Balanced test set Avg. Sensitivity\n",
        "    X = Evaluation_set[0]\n",
        "    Y = Evaluation_set[1]\n",
        "    Y_pred = model_.forward_noDrop(X).argmax(dim=1)\n",
        "    blc_test_precision, blc_test_recall, blc_test_fscore, m = sk.metrics.precision_recall_fscore_support(Y, Y_pred, average = 'macro')\n",
        "\n",
        "    test_overall_metric = (test_accuracy + test_recall + blc_test_recall ) / 3\n",
        "    if test_overall_metric > Max_test_overall_metric: pickle.dump(model_ , open(G_path +'/Saved/Models/CNN_280x210/' +  'Best_Grid_Model' +str(i) +'_' + date_hour, 'wb'))\n",
        "\n",
        "    if train_accuracy > Max_train_Acc: Max_train_Acc = train_accuracy\n",
        "    if valid_accuracy > Max_valid_Acc: Max_valid_Acc = valid_accuracy\n",
        "    if test_accuracy > Max_test_Acc: Max_test_Acc = test_accuracy\n",
        "    if test_recall > Max_test_Recall: Max_test_Recall = test_recall\n",
        "    if blc_test_recall > Max_BLC_Test_Recall: Max_BLC_Test_Recall = blc_test_recall\n",
        "\n",
        "    pbar.set_description(f'Max_Test_Recall: {Max_test_Recall:.1%}, Max_BLC_Test_Recall: {Max_BLC_Test_Recall:.1%}, Max_Tr_Acc: {Max_train_Acc:.1%}, Max_V_Acc: {Max_valid_Acc:.1%}, Max_Te_Acc: {Max_test_Acc:.1%} ')\n",
        "    pbar.set_postfix_str(f'Train_Acc: {train_accuracy:.1%} , Valide_Acc: {valid_accuracy:.1%} , Test_Acc: {test_accuracy:.1%}')\n",
        "\n",
        "    new_row = pd.Series({'model_name':model_name,'hyper_param':p,'test_overall_metric':test_overall_metric,'test_recall':test_recall,'blc_test_recall':blc_test_recall,'valid_recall':valid_recall,'train_accuracy':train_accuracy,'valid_accuracy':valid_accuracy,'test_accuracy':test_accuracy,\n",
        "                         'train_epoch_loss':train_epoch_loss,'train_epoch_acc':train_epoch_acc,'valid_epoch_loss':valid_epoch_loss,'valid_epoch_acc':valid_epoch_acc,'test_epoch_acc':test_epoch_acc,'test_epoch_loss':test_epoch_loss}, name='')\n",
        "    Hyper_Details = Hyper_Details.append(new_row)\n",
        "    m_details = pd.DataFrame()\n",
        "    m_details = m_details.append(new_row)\n",
        "\n",
        "\n",
        "\n",
        "\n",
        "    if export_csv:\n",
        "      # Hyper_Details.to_csv(G_path +'/Saved/Grid_Search_Results/' + export_name + date_hour+ '.csv')\n",
        "      \n",
        "      pickle.dump(m_details, open(G_path +'/Saved/Grid_Search_Results/' + model_name, 'wb'))\n",
        "      pickle.dump(Hyper_Details, open(G_path +'/Saved/Grid_Search_Results/' + 'Grid_All_' + export_name + date_hour , 'wb'))\n",
        "\n",
        "    if save_models:\n",
        "      pickle.dump(model_, open(G_path +'/Saved/Models/Grid_Search_Models/' +  model_name, 'wb'))\n",
        "\n",
        "    Best_Grid_Model = pickle.load(open(G_path +'/Saved/Models/CNN_280x210/' +  'Best_Grid_Model' +str(i) +'_' + date_hour, 'rb'))\n",
        "\n",
        "Hyper_Details.sort_values('test_overall_metric', ascending=False,inplace=True)\n",
        "best_param = Hyper_Details['hyper_param'][0]\n",
        "best_params = Hyper_Details['hyper_param'][:4]\n",
        "\n",
        "# Grid_Details = Hyper_Details\n",
        "\n",
        "# Model_Grid = Model_Training_with_loader(**best_param,w_sampler = w_sampler , trainDataset = trainDataset, validDataset = validDataset , X_test = X_test, Y_test = Y_test, print_epochs =print_epochs,hyper_params=best_param)\n",
        "# np.random.seed(0)\n",
        "# random.seed(0)\n",
        "# torch.manual_seed(0)\n",
        "# Model_Grid.train()\n",
        "# print('Max Avg. Recall on Test ====>> :')\n",
        "# Grid_Details['test_recall'][:5], Grid_Details['hyper_param'][0]"
      ]
    },
    {
      "cell_type": "code",
      "execution_count": 1,
      "metadata": {
        "colab": {
          "base_uri": "https://localhost:8080/",
          "height": 240
        },
        "id": "rVnEzpk9FGTb",
        "outputId": "3d1a24a7-7965-4f21-8b85-bab03e66c22f"
      },
      "outputs": [
        {
          "output_type": "error",
          "ename": "NameError",
          "evalue": "ignored",
          "traceback": [
            "\u001b[0;31m---------------------------------------------------------------------------\u001b[0m",
            "\u001b[0;31mNameError\u001b[0m                                 Traceback (most recent call last)",
            "\u001b[0;32m<ipython-input-1-e596f244fbfb>\u001b[0m in \u001b[0;36m<module>\u001b[0;34m()\u001b[0m\n\u001b[1;32m      1\u001b[0m \u001b[0;31m# model_ = Model_Grid\u001b[0m\u001b[0;34m\u001b[0m\u001b[0;34m\u001b[0m\u001b[0;34m\u001b[0m\u001b[0m\n\u001b[0;32m----> 2\u001b[0;31m \u001b[0mmodel_1\u001b[0m \u001b[0;34m=\u001b[0m \u001b[0mBest_Grid_Model\u001b[0m\u001b[0;34m\u001b[0m\u001b[0;34m\u001b[0m\u001b[0m\n\u001b[0m\u001b[1;32m      3\u001b[0m \u001b[0mX\u001b[0m \u001b[0;34m=\u001b[0m \u001b[0minput_data\u001b[0m\u001b[0;34m[\u001b[0m\u001b[0;36m2\u001b[0m\u001b[0;34m]\u001b[0m\u001b[0;34m\u001b[0m\u001b[0;34m\u001b[0m\u001b[0m\n\u001b[1;32m      4\u001b[0m \u001b[0mY\u001b[0m \u001b[0;34m=\u001b[0m \u001b[0mlabels\u001b[0m\u001b[0;34m[\u001b[0m\u001b[0;36m2\u001b[0m\u001b[0;34m]\u001b[0m\u001b[0;34m\u001b[0m\u001b[0;34m\u001b[0m\u001b[0m\n\u001b[1;32m      5\u001b[0m \u001b[0;31m# X = Evaluation_set[0]\u001b[0m\u001b[0;34m\u001b[0m\u001b[0;34m\u001b[0m\u001b[0;34m\u001b[0m\u001b[0m\n",
            "\u001b[0;31mNameError\u001b[0m: name 'Best_Grid_Model' is not defined"
          ]
        }
      ],
      "source": [
        "# model_ = Model_Grid\n",
        "model_1 = Best_Grid_Model\n",
        "X = input_data[2]\n",
        "Y = labels[2]\n",
        "# X = Evaluation_set[0]\n",
        "# Y = Evaluation_set[1]\n",
        "Y_pred = model_1.forward_noDrop(X).argmax(dim=1)\n",
        "results = confusion_matrix(Y,Y_pred)\n",
        "# plot_loss_accuracy(model_)\n",
        "results"
      ]
    },
    {
      "cell_type": "markdown",
      "metadata": {
        "id": "uSww_-jmg3RR"
      },
      "source": [
        "# **Model by best hyper params with valid and test set**"
      ]
    },
    {
      "cell_type": "code",
      "execution_count": 2,
      "metadata": {
        "colab": {
          "base_uri": "https://localhost:8080/",
          "height": 240
        },
        "id": "zqyuIx9rhKg3",
        "outputId": "ba43829f-e17d-4eda-d47c-4faeccd25c2f"
      },
      "outputs": [
        {
          "output_type": "error",
          "ename": "NameError",
          "evalue": "ignored",
          "traceback": [
            "\u001b[0;31m---------------------------------------------------------------------------\u001b[0m",
            "\u001b[0;31mNameError\u001b[0m                                 Traceback (most recent call last)",
            "\u001b[0;32m<ipython-input-2-e3305ff23d96>\u001b[0m in \u001b[0;36m<module>\u001b[0;34m()\u001b[0m\n\u001b[1;32m      2\u001b[0m \u001b[0;34m\u001b[0m\u001b[0m\n\u001b[1;32m      3\u001b[0m param1 = {\n\u001b[0;32m----> 4\u001b[0;31m     \u001b[0;34m'Net'\u001b[0m \u001b[0;34m:\u001b[0m \u001b[0mCNN_Nets\u001b[0m\u001b[0;34m.\u001b[0m\u001b[0mNet8_b\u001b[0m\u001b[0;34m\u001b[0m\u001b[0;34m\u001b[0m\u001b[0m\n\u001b[0m\u001b[1;32m      5\u001b[0m     \u001b[0;34m,\u001b[0m\u001b[0;34m'Drop'\u001b[0m \u001b[0;34m:\u001b[0m \u001b[0;36m0.2\u001b[0m\u001b[0;34m\u001b[0m\u001b[0;34m\u001b[0m\u001b[0m\n\u001b[1;32m      6\u001b[0m     \u001b[0;34m,\u001b[0m\u001b[0;34m'LR'\u001b[0m \u001b[0;34m:\u001b[0m \u001b[0;36m1.1e-3\u001b[0m\u001b[0;34m\u001b[0m\u001b[0;34m\u001b[0m\u001b[0m\n",
            "\u001b[0;31mNameError\u001b[0m: name 'CNN_Nets' is not defined"
          ]
        }
      ],
      "source": [
        "print_epochs = True\n",
        "\n",
        "param1 = {\n",
        "    'Net' : CNN_Nets.Net8_b\n",
        "    ,'Drop' : 0.2\n",
        "    ,'LR' : 1.1e-3\n",
        "    ,'batch_size' : 24\n",
        "    ,'Momentum' : 0.77\n",
        "    ,'epochs' : 100\n",
        "    ,'patience': 20\n",
        "    ,'weight_decay' :1e-3\n",
        "    ,'loss_func'  :torch.nn.modules.loss.CrossEntropyLoss\n",
        "    ,'opt_func' : torch.optim.SGD\n",
        "}\n",
        "\n",
        "Model_Best_Grid = Model_Training_with_loader(**param1,w_sampler = w_sampler , trainDataset = trainDataset, validDataset = validDataset , X_test = X_test, Y_test = Y_test, print_epochs =print_epochs,hyper_params=param1)\n",
        "# np.random.seed(0)\n",
        "# random.seed(0)\n",
        "# torch.manual_seed(0)\n",
        "# torch.cuda.manual_seed(0)\n",
        "# torch.backends.cudnn.deterministic = True\n",
        "Model_Best_Grid.train()"
      ]
    },
    {
      "cell_type": "markdown",
      "metadata": {
        "id": "GMzwoJOJ2BYX"
      },
      "source": [
        "# **K-Fold Cross Validation**"
      ]
    },
    {
      "cell_type": "code",
      "execution_count": null,
      "metadata": {
        "colab": {
          "base_uri": "https://localhost:8080/"
        },
        "id": "15sJl9otbNaz",
        "outputId": "53d961f7-c630-46ad-b6b8-e5672ef22243"
      },
      "outputs": [
        {
          "name": "stderr",
          "output_type": "stream",
          "text": [
            "Test Accuracy 0.6237942122186495: 100%|██████████████████████████████| 4/4 [10:00<00:00, 150.14s/it]\n"
          ]
        }
      ],
      "source": [
        "K_Folds = sk.model_selection.KFold(n_splits=6, shuffle=True)\n",
        "tensor_subset = torch.utils.data.dataset.Subset\n",
        "\n",
        "print_epochs = False\n",
        "# device = 'mps'\n",
        "\n",
        "CV_data = input_data[3]\n",
        "CV_label = labels[3]\n",
        "X_test = input_data[2]\n",
        "Y_test = labels[2]\n",
        "\n",
        "# CV_Details_ = pd.DataFrame(columns=['test_fscore','test_precision','test_recall'])\n",
        "\n",
        "CV_Details = pd.DataFrame(columns=['hyper_param','train_index','valid_index','train_accuracy','valid_accuracy','test_accuracy','train_fscore','valid_fscore','test_fscore','train_precision','valid_precision','test_precision'\n",
        "                                    ,'train_recall','valid_recall','test_recall'])\n",
        "\n",
        "pbar = tqdm(best_params, ncols = 100, desc = \"Hyper Parameters - Level\")\n",
        "\n",
        "for param in pbar:\n",
        "# for i in range(1):\n",
        "    \n",
        "    for fold, (train_index, valid_index) in enumerate(K_Folds.split(CV_data)):\n",
        "\n",
        "\n",
        "        X_train = CV_data[train_index]\n",
        "        Y_train = CV_label[train_index]\n",
        "        X_valid = CV_data[valid_index]\n",
        "        Y_valid = CV_label[valid_index]\n",
        "\n",
        "\n",
        "\n",
        "        \n",
        "\n",
        "        # X_train = tensor_subset(input_data[3],train_index).dataset\n",
        "        # Y_train = tensor_subset(labels[3],train_index).dataset\n",
        "        # X_valid = tensor_subset(input_data[3],valid_index).dataset\n",
        "        # Y_valid = tensor_subset(labels[3],valid_index).dataset\n",
        "\n",
        "        Model_ = Model_Training(**param, X_train = X_train, Y_train = Y_train, X_valid = X_valid, Y_valid= Y_valid, print_epochs = print_epochs,hyper_params=param)\n",
        "        np.random.seed(0)\n",
        "        random.seed(0)\n",
        "        torch.manual_seed(0)\n",
        "        Model_.train()\n",
        "\n",
        "        model_ = Model_.model.eval()\n",
        "            \n",
        "        # Train\n",
        "        Y_pred = model_(X_train.to(device)).argmax(axis=1)\n",
        "        Y = Y_train\n",
        "        train_accuracy = sk.metrics.accuracy_score(Y_pred.to('cpu'),Y.to('cpu') )\n",
        "        train_precision, train_recall, train_fscore, m = sk.metrics.precision_recall_fscore_support(Y_pred.to('cpu'),Y.to('cpu') , average = 'weighted')\n",
        "\n",
        "        # Valid\n",
        "        Y_pred = model_(X_valid.to(device)).argmax(axis=1)\n",
        "        Y = Y_valid\n",
        "        valid_accuracy = sk.metrics.accuracy_score(Y_pred.to('cpu'),Y.to('cpu') )\n",
        "        valid_precision, valid_recall, valid_fscore, m = sk.metrics.precision_recall_fscore_support(Y_pred.to('cpu'),Y.to('cpu') , average = 'weighted')\n",
        "\n",
        "        # Test\n",
        "        Y_pred = model_(X_test.to(device)).argmax(axis=1)\n",
        "        Y = Y_test\n",
        "        test_accuracy = sk.metrics.accuracy_score(Y_pred.to('cpu'),Y.to('cpu') )\n",
        "        test_precision, test_recall, test_fscore, m = sk.metrics.precision_recall_fscore_support(Y_pred.to('cpu'),Y.to('cpu') , average = 'weighted')\n",
        "        pbar.set_description(\"Test Accuracy %s\" % test_accuracy)\n",
        "        \n",
        "        new_row = pd.Series({'hyper_param':param,'train_index':train_index,'valid_index':valid_index,'train_accuracy':train_accuracy,'valid_accuracy':valid_accuracy,'test_accuracy':test_accuracy,'train_fscore':train_fscore,'valid_fscore':valid_fscore,'test_fscore':test_fscore\n",
        "        ,'train_precision':train_precision,'valid_precision':valid_precision,'test_precision':test_precision,'train_recall':train_recall,'valid_recall':valid_recall,'test_recall':test_recall}, name='')\n",
        "        CV_Details = CV_Details.append(new_row)\n",
        "\n",
        "CNN_CV_Details = CV_Details.sort_values('test_accuracy', ascending=False)"
      ]
    },
    {
      "cell_type": "code",
      "execution_count": null,
      "metadata": {
        "colab": {
          "base_uri": "https://localhost:8080/"
        },
        "id": "sa2B1MB2t5sH",
        "outputId": "a577419f-52b9-4211-9911-974777201c22"
      },
      "outputs": [
        {
          "data": {
            "text/plain": [
              "(    0.662379\n",
              "     0.655949\n",
              "     0.649518\n",
              "     0.649518\n",
              "     0.649518\n",
              " Name: test_accuracy, dtype: float64,\n",
              " {'LR': 0.0018,\n",
              "  'Momentum': 0.85,\n",
              "  'Net': __main__.CNN_Net4,\n",
              "  'batch_size': 32,\n",
              "  'epochs': 80,\n",
              "  'loss_func': torch.nn.modules.loss.CrossEntropyLoss,\n",
              "  'opt_func': torch.optim.sgd.SGD,\n",
              "  'weight_decay': 1e-06})"
            ]
          },
          "execution_count": 90,
          "metadata": {},
          "output_type": "execute_result"
        }
      ],
      "source": [
        "CNN_CV_Details['test_accuracy'][:5], CNN_CV_Details['hyper_param'][0]"
      ]
    },
    {
      "cell_type": "code",
      "execution_count": null,
      "metadata": {
        "colab": {
          "base_uri": "https://localhost:8080/"
        },
        "id": "zbD8gadJcsYC",
        "outputId": "673b315a-2ec5-4a91-9ca5-0a10471a7a65"
      },
      "outputs": [
        {
          "data": {
            "text/plain": [
              "(    0.652733\n",
              "     0.649518\n",
              "     0.646302\n",
              "     0.643087\n",
              "     0.643087\n",
              " Name: test_accuracy, dtype: float64,\n",
              " {'LR': 0.0022,\n",
              "  'Momentum': 0.82,\n",
              "  'Net': __main__.CNN_Net3,\n",
              "  'batch_size': 30,\n",
              "  'epochs': 75,\n",
              "  'loss_func': torch.nn.modules.loss.CrossEntropyLoss,\n",
              "  'opt_func': torch.optim.sgd.SGD,\n",
              "  'weight_decay': 1e-07})"
            ]
          },
          "execution_count": 36,
          "metadata": {},
          "output_type": "execute_result"
        }
      ],
      "source": [
        "CNN_CV_Details['test_accuracy'][:5], CNN_CV_Details['hyper_param'][0]"
      ]
    },
    {
      "cell_type": "code",
      "execution_count": null,
      "metadata": {
        "id": "ivoMr_RFpJxC"
      },
      "outputs": [],
      "source": [
        "import torch\n",
        "torch.cuda.empty_cache()"
      ]
    },
    {
      "cell_type": "code",
      "execution_count": null,
      "metadata": {
        "colab": {
          "base_uri": "https://localhost:8080/",
          "height": 437
        },
        "id": "BFxoyRob2fXe",
        "outputId": "5ede62b6-d4ae-4174-8cc7-b8eca01aa81c"
      },
      "outputs": [
        {
          "ename": "RuntimeError",
          "evalue": "ignored",
          "output_type": "error",
          "traceback": [
            "\u001b[0;31m---------------------------------------------------------------------------\u001b[0m",
            "\u001b[0;31mRuntimeError\u001b[0m                              Traceback (most recent call last)",
            "\u001b[0;32m<ipython-input-28-81f5143631c6>\u001b[0m in \u001b[0;36m<module>\u001b[0;34m()\u001b[0m\n\u001b[1;32m     24\u001b[0m  'weight_decay': 0}\n\u001b[1;32m     25\u001b[0m \u001b[0;34m\u001b[0m\u001b[0m\n\u001b[0;32m---> 26\u001b[0;31m \u001b[0mModel_CV\u001b[0m \u001b[0;34m=\u001b[0m \u001b[0mModel_Training\u001b[0m\u001b[0;34m(\u001b[0m\u001b[0;34m**\u001b[0m\u001b[0mparam1\u001b[0m\u001b[0;34m,\u001b[0m\u001b[0mX_train\u001b[0m \u001b[0;34m=\u001b[0m \u001b[0mX_train\u001b[0m\u001b[0;34m,\u001b[0m \u001b[0mY_train\u001b[0m \u001b[0;34m=\u001b[0m \u001b[0mY_train\u001b[0m\u001b[0;34m,\u001b[0m \u001b[0mX_valid\u001b[0m \u001b[0;34m=\u001b[0m \u001b[0mX_valid\u001b[0m\u001b[0;34m,\u001b[0m \u001b[0mY_valid\u001b[0m\u001b[0;34m=\u001b[0m \u001b[0mY_valid\u001b[0m\u001b[0;34m,\u001b[0m \u001b[0mprint_epochs\u001b[0m \u001b[0;34m=\u001b[0m\u001b[0mprint_epochs\u001b[0m\u001b[0;34m,\u001b[0m\u001b[0mhyper_params\u001b[0m\u001b[0;34m=\u001b[0m\u001b[0mparam1\u001b[0m\u001b[0;34m)\u001b[0m\u001b[0;34m\u001b[0m\u001b[0;34m\u001b[0m\u001b[0m\n\u001b[0m\u001b[1;32m     27\u001b[0m \u001b[0mnp\u001b[0m\u001b[0;34m.\u001b[0m\u001b[0mrandom\u001b[0m\u001b[0;34m.\u001b[0m\u001b[0mseed\u001b[0m\u001b[0;34m(\u001b[0m\u001b[0;36m0\u001b[0m\u001b[0;34m)\u001b[0m\u001b[0;34m\u001b[0m\u001b[0;34m\u001b[0m\u001b[0m\n\u001b[1;32m     28\u001b[0m \u001b[0mrandom\u001b[0m\u001b[0;34m.\u001b[0m\u001b[0mseed\u001b[0m\u001b[0;34m(\u001b[0m\u001b[0;36m0\u001b[0m\u001b[0;34m)\u001b[0m\u001b[0;34m\u001b[0m\u001b[0;34m\u001b[0m\u001b[0m\n",
            "\u001b[0;32m<ipython-input-12-ac63ea1d582f>\u001b[0m in \u001b[0;36m__init__\u001b[0;34m(self, Net, LR, batch_size, Momentum, epochs, weight_decay, loss_func, opt_func, X_train, Y_train, X_valid, Y_valid, print_epochs, hyper_params)\u001b[0m\n\u001b[1;32m     12\u001b[0m         \u001b[0mself\u001b[0m\u001b[0;34m.\u001b[0m\u001b[0mepochs\u001b[0m \u001b[0;34m=\u001b[0m \u001b[0mepochs\u001b[0m\u001b[0;34m\u001b[0m\u001b[0;34m\u001b[0m\u001b[0m\n\u001b[1;32m     13\u001b[0m         \u001b[0mself\u001b[0m\u001b[0;34m.\u001b[0m\u001b[0mprint_epochs\u001b[0m \u001b[0;34m=\u001b[0m \u001b[0mprint_epochs\u001b[0m\u001b[0;34m\u001b[0m\u001b[0;34m\u001b[0m\u001b[0m\n\u001b[0;32m---> 14\u001b[0;31m         \u001b[0mself\u001b[0m\u001b[0;34m.\u001b[0m\u001b[0mX_train\u001b[0m \u001b[0;34m=\u001b[0m \u001b[0mX_train\u001b[0m\u001b[0;34m.\u001b[0m\u001b[0mto\u001b[0m\u001b[0;34m(\u001b[0m\u001b[0mdevice\u001b[0m\u001b[0;34m)\u001b[0m\u001b[0;34m\u001b[0m\u001b[0;34m\u001b[0m\u001b[0m\n\u001b[0m\u001b[1;32m     15\u001b[0m         \u001b[0mself\u001b[0m\u001b[0;34m.\u001b[0m\u001b[0mY_train\u001b[0m \u001b[0;34m=\u001b[0m \u001b[0mY_train\u001b[0m\u001b[0;34m.\u001b[0m\u001b[0mto\u001b[0m\u001b[0;34m(\u001b[0m\u001b[0mdevice\u001b[0m\u001b[0;34m)\u001b[0m\u001b[0;34m\u001b[0m\u001b[0;34m\u001b[0m\u001b[0m\n\u001b[1;32m     16\u001b[0m         \u001b[0mself\u001b[0m\u001b[0;34m.\u001b[0m\u001b[0mX_valid\u001b[0m \u001b[0;34m=\u001b[0m \u001b[0mX_valid\u001b[0m\u001b[0;34m.\u001b[0m\u001b[0mto\u001b[0m\u001b[0;34m(\u001b[0m\u001b[0mdevice\u001b[0m\u001b[0;34m)\u001b[0m\u001b[0;34m\u001b[0m\u001b[0;34m\u001b[0m\u001b[0m\n",
            "\u001b[0;31mRuntimeError\u001b[0m: CUDA out of memory. Tried to allocate 4.31 GiB (GPU 0; 14.76 GiB total capacity; 10.95 GiB already allocated; 2.06 GiB free; 11.44 GiB reserved in total by PyTorch) If reserved memory is >> allocated memory try setting max_split_size_mb to avoid fragmentation.  See documentation for Memory Management and PYTORCH_CUDA_ALLOC_CONF"
          ]
        }
      ],
      "source": [
        "print_epochs = True\n",
        "# param = CNN_CV_Details['hyper_param'][0]\n",
        "# train_index = CNN_CV_Details['train_index'][0]\n",
        "# valid_index = CNN_CV_Details['valid_index'][0]\n",
        "\n",
        "# X_train = input_data[3][train_index]\n",
        "# Y_train = labels[3][train_index]\n",
        "# X_valid = input_data[3][valid_index]\n",
        "# Y_valid = labels[3][valid_index]\n",
        "\n",
        "X_train = input_data[0]\n",
        "Y_train = labels[0]\n",
        "X_valid = input_data[1]\n",
        "Y_valid = labels[1]\n",
        "\n",
        "\n",
        "param1 = {'LR': 1e-3,\n",
        " 'Momentum': 0.8,\n",
        " 'Net': CNN_Nets.Net3,\n",
        " 'batch_size': 32,\n",
        " 'epochs': 10,\n",
        " 'loss_func': torch.nn.modules.loss.CrossEntropyLoss,\n",
        " 'opt_func': torch.optim.SGD,\n",
        " 'weight_decay': 0}\n",
        "\n",
        "Model_CV = Model_Training(**param1,X_train = X_train, Y_train = Y_train, X_valid = X_valid, Y_valid= Y_valid, print_epochs =print_epochs,hyper_params=param1)\n",
        "np.random.seed(0)\n",
        "random.seed(0)\n",
        "torch.manual_seed(0)\n",
        "Model_CV.train()"
      ]
    },
    {
      "cell_type": "code",
      "execution_count": null,
      "metadata": {
        "colab": {
          "base_uri": "https://localhost:8080/",
          "height": 665
        },
        "id": "AmFzM9hLbNaz",
        "outputId": "f5552135-dcac-46b2-f105-7a56b3abf74f"
      },
      "outputs": [
        {
          "name": "stdout",
          "output_type": "stream",
          "text": [
            "Nr. of Data : \n",
            " 820\n",
            "Accuracy of The Model : \n",
            " 0.6560975609756098\n"
          ]
        },
        {
          "data": {
            "text/html": [
              "<style type=\"text/css\">\n",
              "</style>\n",
              "<table id=\"T_2dc09_\" class=\"dataframe\">\n",
              "  <thead>\n",
              "    <tr>\n",
              "      <th class=\"blank level0\" >&nbsp;</th>\n",
              "      <th class=\"col_heading level0 col0\" >weights</th>\n",
              "      <th class=\"col_heading level0 col1\" >Precision</th>\n",
              "      <th class=\"col_heading level0 col2\" >Recall_Sensitivity</th>\n",
              "      <th class=\"col_heading level0 col3\" >Specificity</th>\n",
              "      <th class=\"col_heading level0 col4\" >f1_score</th>\n",
              "    </tr>\n",
              "  </thead>\n",
              "  <tbody>\n",
              "    <tr>\n",
              "      <th id=\"T_2dc09_level0_row0\" class=\"row_heading level0 row0\" >0</th>\n",
              "      <td id=\"T_2dc09_row0_col0\" class=\"data row0 col0\" >5.6%</td>\n",
              "      <td id=\"T_2dc09_row0_col1\" class=\"data row0 col1\" >14.3%</td>\n",
              "      <td id=\"T_2dc09_row0_col2\" class=\"data row0 col2\" >4.3%</td>\n",
              "      <td id=\"T_2dc09_row0_col3\" class=\"data row0 col3\" >98.4%</td>\n",
              "      <td id=\"T_2dc09_row0_col4\" class=\"data row0 col4\" >6.7%</td>\n",
              "    </tr>\n",
              "    <tr>\n",
              "      <th id=\"T_2dc09_level0_row1\" class=\"row_heading level0 row1\" >1</th>\n",
              "      <td id=\"T_2dc09_row1_col0\" class=\"data row1 col0\" >7.9%</td>\n",
              "      <td id=\"T_2dc09_row1_col1\" class=\"data row1 col1\" >33.3%</td>\n",
              "      <td id=\"T_2dc09_row1_col2\" class=\"data row1 col2\" >12.3%</td>\n",
              "      <td id=\"T_2dc09_row1_col3\" class=\"data row1 col3\" >97.9%</td>\n",
              "      <td id=\"T_2dc09_row1_col4\" class=\"data row1 col4\" >18.0%</td>\n",
              "    </tr>\n",
              "    <tr>\n",
              "      <th id=\"T_2dc09_level0_row2\" class=\"row_heading level0 row2\" >2</th>\n",
              "      <td id=\"T_2dc09_row2_col0\" class=\"data row2 col0\" >8.9%</td>\n",
              "      <td id=\"T_2dc09_row2_col1\" class=\"data row2 col1\" >35.7%</td>\n",
              "      <td id=\"T_2dc09_row2_col2\" class=\"data row2 col2\" >13.7%</td>\n",
              "      <td id=\"T_2dc09_row2_col3\" class=\"data row2 col3\" >97.6%</td>\n",
              "      <td id=\"T_2dc09_row2_col4\" class=\"data row2 col4\" >19.8%</td>\n",
              "    </tr>\n",
              "    <tr>\n",
              "      <th id=\"T_2dc09_level0_row3\" class=\"row_heading level0 row3\" >3</th>\n",
              "      <td id=\"T_2dc09_row3_col0\" class=\"data row3 col0\" >1.8%</td>\n",
              "      <td id=\"T_2dc09_row3_col1\" class=\"data row3 col1\" >0.0%</td>\n",
              "      <td id=\"T_2dc09_row3_col2\" class=\"data row3 col2\" >0.0%</td>\n",
              "      <td id=\"T_2dc09_row3_col3\" class=\"data row3 col3\" >99.9%</td>\n",
              "      <td id=\"T_2dc09_row3_col4\" class=\"data row3 col4\" >0.0%</td>\n",
              "    </tr>\n",
              "    <tr>\n",
              "      <th id=\"T_2dc09_level0_row4\" class=\"row_heading level0 row4\" >4</th>\n",
              "      <td id=\"T_2dc09_row4_col0\" class=\"data row4 col0\" >7.4%</td>\n",
              "      <td id=\"T_2dc09_row4_col1\" class=\"data row4 col1\" >6.2%</td>\n",
              "      <td id=\"T_2dc09_row4_col2\" class=\"data row4 col2\" >1.6%</td>\n",
              "      <td id=\"T_2dc09_row4_col3\" class=\"data row4 col3\" >98.0%</td>\n",
              "      <td id=\"T_2dc09_row4_col4\" class=\"data row4 col4\" >2.6%</td>\n",
              "    </tr>\n",
              "    <tr>\n",
              "      <th id=\"T_2dc09_level0_row5\" class=\"row_heading level0 row5\" >5</th>\n",
              "      <td id=\"T_2dc09_row5_col0\" class=\"data row5 col0\" >65.9%</td>\n",
              "      <td id=\"T_2dc09_row5_col1\" class=\"data row5 col1\" >70.1%</td>\n",
              "      <td id=\"T_2dc09_row5_col2\" class=\"data row5 col2\" >95.7%</td>\n",
              "      <td id=\"T_2dc09_row5_col3\" class=\"data row5 col3\" >21.4%</td>\n",
              "      <td id=\"T_2dc09_row5_col4\" class=\"data row5 col4\" >81.0%</td>\n",
              "    </tr>\n",
              "    <tr>\n",
              "      <th id=\"T_2dc09_level0_row6\" class=\"row_heading level0 row6\" >6</th>\n",
              "      <td id=\"T_2dc09_row6_col0\" class=\"data row6 col0\" >2.4%</td>\n",
              "      <td id=\"T_2dc09_row6_col1\" class=\"data row6 col1\" >0.0%</td>\n",
              "      <td id=\"T_2dc09_row6_col2\" class=\"data row6 col2\" >0.0%</td>\n",
              "      <td id=\"T_2dc09_row6_col3\" class=\"data row6 col3\" >100.0%</td>\n",
              "      <td id=\"T_2dc09_row6_col4\" class=\"data row6 col4\" >0.0%</td>\n",
              "    </tr>\n",
              "    <tr>\n",
              "      <th id=\"T_2dc09_level0_row7\" class=\"row_heading level0 row7\" >Simple Avg.</th>\n",
              "      <td id=\"T_2dc09_row7_col0\" class=\"data row7 col0\" >nan%</td>\n",
              "      <td id=\"T_2dc09_row7_col1\" class=\"data row7 col1\" >22.8%</td>\n",
              "      <td id=\"T_2dc09_row7_col2\" class=\"data row7 col2\" >18.2%</td>\n",
              "      <td id=\"T_2dc09_row7_col3\" class=\"data row7 col3\" >87.6%</td>\n",
              "      <td id=\"T_2dc09_row7_col4\" class=\"data row7 col4\" >18.3%</td>\n",
              "    </tr>\n",
              "    <tr>\n",
              "      <th id=\"T_2dc09_level0_row8\" class=\"row_heading level0 row8\" >Weighted Avg.</th>\n",
              "      <td id=\"T_2dc09_row8_col0\" class=\"data row8 col0\" >nan%</td>\n",
              "      <td id=\"T_2dc09_row8_col1\" class=\"data row8 col1\" >53.3%</td>\n",
              "      <td id=\"T_2dc09_row8_col2\" class=\"data row8 col2\" >65.6%</td>\n",
              "      <td id=\"T_2dc09_row8_col3\" class=\"data row8 col3\" >47.6%</td>\n",
              "      <td id=\"T_2dc09_row8_col4\" class=\"data row8 col4\" >57.1%</td>\n",
              "    </tr>\n",
              "  </tbody>\n",
              "</table>\n"
            ],
            "text/plain": [
              "<pandas.io.formats.style.Styler at 0x7f23c00ba7d0>"
            ]
          },
          "execution_count": 20,
          "metadata": {},
          "output_type": "execute_result"
        },
        {
          "data": {
            "image/png": "[encoded data removed]",
            "text/plain": [
              "<Figure size 432x288 with 2 Axes>"
            ]
          },
          "metadata": {},
          "output_type": "display_data"
        }
      ],
      "source": [
        "model_ = Model_CV.model.eval()\n",
        "X = input_data[2].to(device)\n",
        "Y = labels[2].to(device)\n",
        "Y_pred = model_(X).argmax(dim=1)\n",
        "confusion_matrix(Y.to('cpu'),Y_pred.to('cpu'))"
      ]
    },
    {
      "cell_type": "markdown",
      "metadata": {
        "id": "zomymNkU4JNX"
      },
      "source": [
        "# **50 time model training to check Regularization of hyper parameters by Cross Validation**"
      ]
    },
    {
      "cell_type": "code",
      "source": [
        "X_valid.shape"
      ],
      "metadata": {
        "id": "s-_zGIpjb58o",
        "outputId": "c05ec505-7c64-4cb1-fce0-f3c2146ca781",
        "colab": {
          "base_uri": "https://localhost:8080/"
        }
      },
      "execution_count": 26,
      "outputs": [
        {
          "output_type": "execute_result",
          "data": {
            "text/plain": [
              "torch.Size([407, 3, 280, 210])"
            ]
          },
          "metadata": {},
          "execution_count": 26
        }
      ]
    },
    {
      "cell_type": "code",
      "execution_count": 10,
      "metadata": {
        "colab": {
          "base_uri": "https://localhost:8080/"
        },
        "id": "RLfqTs-54anr",
        "outputId": "7895558e-f863-4c77-9909-83d71cbdec78"
      },
      "outputs": [
        {
          "output_type": "stream",
          "name": "stderr",
          "text": [
            "  0%|          | 0/5 [00:00<?, ?it/s]\n",
            "Max_train_Acc: 82.2%, Max_valid_Acc: 82.8%, Max_test_Acc: 79.6% :   0%|          | 0/5 [08:32<?, ?it/s, Train_Acc: 82.2% , Valide_Acc: 82.8% , Test_Acc: 79.6%]\n",
            " 10%|█         | 1/10 [08:33<1:16:57, 513.02s/it]\u001b[A"
          ]
        },
        {
          "output_type": "stream",
          "name": "stdout",
          "text": [
            "Earlt Stoppo happen at Epoche 90 after no improvment of 21 epochs \n"
          ]
        },
        {
          "output_type": "stream",
          "name": "stderr",
          "text": [
            "Max_train_Acc: 82.2%, Max_valid_Acc: 82.8%, Max_test_Acc: 79.6% :   0%|          | 0/5 [17:17<?, ?it/s, Train_Acc: 82.1% , Valide_Acc: 79.0% , Test_Acc: 79.1%]\n",
            "Max_train_Acc: 82.2%, Max_valid_Acc: 82.8%, Max_test_Acc: 79.6% :   0%|          | 0/5 [27:14<?, ?it/s, Train_Acc: 82.2% , Valide_Acc: 80.7% , Test_Acc: 77.1%]\n",
            "Max_train_Acc: 82.3%, Max_valid_Acc: 82.8%, Max_test_Acc: 79.6% :   0%|          | 0/5 [37:10<?, ?it/s, Train_Acc: 82.3% , Valide_Acc: 80.7% , Test_Acc: 78.6%]\n",
            " 40%|████      | 4/10 [37:10<57:07, 571.26s/it]  \u001b[A"
          ]
        },
        {
          "output_type": "stream",
          "name": "stdout",
          "text": [
            "Earlt Stoppo happen at Epoche 86 after no improvment of 21 epochs \n"
          ]
        },
        {
          "output_type": "stream",
          "name": "stderr",
          "text": [
            "Max_train_Acc: 82.3%, Max_valid_Acc: 82.8%, Max_test_Acc: 79.6% :   0%|          | 0/5 [45:51<?, ?it/s, Train_Acc: 81.6% , Valide_Acc: 80.9% , Test_Acc: 78.9%]\n",
            "Max_train_Acc: 82.4%, Max_valid_Acc: 82.8%, Max_test_Acc: 79.6% :   0%|          | 0/5 [56:00<?, ?it/s, Train_Acc: 82.4% , Valide_Acc: 81.8% , Test_Acc: 79.4%]\n",
            " 60%|██████    | 6/10 [56:00<38:07, 571.95s/it]\u001b[A"
          ]
        },
        {
          "output_type": "stream",
          "name": "stdout",
          "text": [
            "Earlt Stoppo happen at Epoche 91 after no improvment of 21 epochs \n"
          ]
        },
        {
          "output_type": "stream",
          "name": "stderr",
          "text": [
            "Max_train_Acc: 82.4%, Max_valid_Acc: 82.8%, Max_test_Acc: 79.6% :   0%|          | 0/5 [1:05:08<?, ?it/s, Train_Acc: 82.2% , Valide_Acc: 82.5% , Test_Acc: 78.6%]\n",
            " 70%|███████   | 7/10 [1:05:08<28:12, 564.17s/it]\u001b[A"
          ]
        },
        {
          "output_type": "stream",
          "name": "stdout",
          "text": [
            "Earlt Stoppo happen at Epoche 86 after no improvment of 21 epochs \n"
          ]
        },
        {
          "output_type": "stream",
          "name": "stderr",
          "text": [
            "Max_train_Acc: 82.4%, Max_valid_Acc: 82.8%, Max_test_Acc: 79.6% :   0%|          | 0/5 [1:13:55<?, ?it/s, Train_Acc: 81.6% , Valide_Acc: 80.0% , Test_Acc: 78.1%]\n",
            "Max_train_Acc: 82.4%, Max_valid_Acc: 82.8%, Max_test_Acc: 79.6% :   0%|          | 0/5 [1:24:03<?, ?it/s, Train_Acc: 82.1% , Valide_Acc: 81.1% , Test_Acc: 75.7%]\n",
            " 90%|█████████ | 9/10 [1:24:03<09:29, 569.80s/it]\u001b[A"
          ]
        },
        {
          "output_type": "stream",
          "name": "stdout",
          "text": [
            "Earlt Stoppo happen at Epoche 59 after no improvment of 21 epochs \n"
          ]
        },
        {
          "output_type": "stream",
          "name": "stderr",
          "text": [
            "Max_train_Acc: 82.4%, Max_valid_Acc: 82.8%, Max_test_Acc: 79.6% :   0%|          | 0/5 [1:30:04<?, ?it/s, Train_Acc: 79.5% , Valide_Acc: 77.6% , Test_Acc: 72.5%]\n",
            "100%|██████████| 10/10 [1:30:04<00:00, 540.49s/it]\n",
            "Max_train_Acc: 82.4%, Max_valid_Acc: 82.8%, Max_test_Acc: 79.6% :  20%|██        | 1/5 [1:30:04<6:00:19, 5404.89s/it, Train_Acc: 79.5% , Valide_Acc: 77.6% , Test_Acc: 72.5%]\n",
            "Max_train_Acc: 82.4%, Max_valid_Acc: 82.8%, Max_test_Acc: 79.6% :  20%|██        | 1/5 [1:40:12<6:00:19, 5404.89s/it, Train_Acc: 82.3% , Valide_Acc: 81.6% , Test_Acc: 79.4%]\n",
            " 10%|█         | 1/10 [10:07<1:31:08, 607.63s/it]\u001b[A"
          ]
        },
        {
          "output_type": "stream",
          "name": "stdout",
          "text": [
            "Earlt Stoppo happen at Epoche 74 after no improvment of 21 epochs \n"
          ]
        },
        {
          "output_type": "stream",
          "name": "stderr",
          "text": [
            "Max_train_Acc: 82.4%, Max_valid_Acc: 82.8%, Max_test_Acc: 79.6% :  20%|██        | 1/5 [1:47:43<6:00:19, 5404.89s/it, Train_Acc: 80.3% , Valide_Acc: 76.9% , Test_Acc: 74.7%]\n",
            " 20%|██        | 2/10 [17:38<1:08:43, 515.50s/it]\u001b[A"
          ]
        },
        {
          "output_type": "stream",
          "name": "stdout",
          "text": [
            "Earlt Stoppo happen at Epoche 86 after no improvment of 21 epochs \n"
          ]
        },
        {
          "output_type": "stream",
          "name": "stderr",
          "text": [
            "Max_train_Acc: 82.4%, Max_valid_Acc: 82.8%, Max_test_Acc: 79.6% :  20%|██        | 1/5 [1:56:26<6:00:19, 5404.89s/it, Train_Acc: 81.7% , Valide_Acc: 80.7% , Test_Acc: 77.6%]\n",
            "Max_train_Acc: 82.4%, Max_valid_Acc: 83.5%, Max_test_Acc: 80.1% :  20%|██        | 1/5 [2:06:36<6:00:19, 5404.89s/it, Train_Acc: 82.4% , Valide_Acc: 83.5% , Test_Acc: 80.1%]\n",
            " 40%|████      | 4/10 [36:31<55:29, 554.99s/it]  \u001b[A"
          ]
        },
        {
          "output_type": "stream",
          "name": "stdout",
          "text": [
            "Earlt Stoppo happen at Epoche 93 after no improvment of 21 epochs \n"
          ]
        },
        {
          "output_type": "stream",
          "name": "stderr",
          "text": [
            "Max_train_Acc: 82.4%, Max_valid_Acc: 83.5%, Max_test_Acc: 80.1% :  20%|██        | 1/5 [2:16:02<6:00:19, 5404.89s/it, Train_Acc: 81.8% , Valide_Acc: 81.4% , Test_Acc: 76.2%]\n",
            "Max_train_Acc: 82.4%, Max_valid_Acc: 83.5%, Max_test_Acc: 80.1% :  20%|██        | 1/5 [2:26:16<6:00:19, 5404.89s/it, Train_Acc: 82.1% , Valide_Acc: 81.1% , Test_Acc: 79.4%]\n",
            " 60%|██████    | 6/10 [56:11<38:30, 577.54s/it]\u001b[A"
          ]
        },
        {
          "output_type": "stream",
          "name": "stdout",
          "text": [
            "Earlt Stoppo happen at Epoche 74 after no improvment of 21 epochs \n"
          ]
        },
        {
          "output_type": "stream",
          "name": "stderr",
          "text": [
            "Max_train_Acc: 82.4%, Max_valid_Acc: 83.5%, Max_test_Acc: 80.1% :  20%|██        | 1/5 [2:33:55<6:00:19, 5404.89s/it, Train_Acc: 81.4% , Valide_Acc: 76.7% , Test_Acc: 78.1%]\n",
            " 70%|███████   | 7/10 [1:03:50<26:56, 538.75s/it]\u001b[A"
          ]
        },
        {
          "output_type": "stream",
          "name": "stdout",
          "text": [
            "Earlt Stoppo happen at Epoche 64 after no improvment of 21 epochs \n"
          ]
        },
        {
          "output_type": "stream",
          "name": "stderr",
          "text": [
            "Max_train_Acc: 82.4%, Max_valid_Acc: 83.5%, Max_test_Acc: 80.1% :  20%|██        | 1/5 [2:40:36<6:00:19, 5404.89s/it, Train_Acc: 80.0% , Valide_Acc: 78.5% , Test_Acc: 78.6%]\n",
            " 80%|████████  | 8/10 [1:10:31<16:29, 494.91s/it]\u001b[A"
          ]
        },
        {
          "output_type": "stream",
          "name": "stdout",
          "text": [
            "Earlt Stoppo happen at Epoche 78 after no improvment of 21 epochs \n"
          ]
        },
        {
          "output_type": "stream",
          "name": "stderr",
          "text": [
            "Max_train_Acc: 82.4%, Max_valid_Acc: 83.5%, Max_test_Acc: 80.1% :  20%|██        | 1/5 [2:48:38<6:00:19, 5404.89s/it, Train_Acc: 80.5% , Valide_Acc: 81.4% , Test_Acc: 76.7%]\n",
            "Max_train_Acc: 82.4%, Max_valid_Acc: 83.5%, Max_test_Acc: 80.1% :  20%|██        | 1/5 [2:58:44<6:00:19, 5404.89s/it, Train_Acc: 82.1% , Valide_Acc: 80.7% , Test_Acc: 79.6%]\n",
            "100%|██████████| 10/10 [1:28:39<00:00, 531.98s/it]\n",
            "Max_train_Acc: 82.4%, Max_valid_Acc: 83.5%, Max_test_Acc: 80.1% :  40%|████      | 2/5 [2:58:44<4:27:44, 5354.87s/it, Train_Acc: 82.1% , Valide_Acc: 80.7% , Test_Acc: 79.6%]\n",
            "Max_train_Acc: 83.3%, Max_valid_Acc: 83.5%, Max_test_Acc: 80.1% :  40%|████      | 2/5 [3:08:50<4:27:44, 5354.87s/it, Train_Acc: 83.3% , Valide_Acc: 80.2% , Test_Acc: 79.1%]\n",
            "Max_train_Acc: 83.3%, Max_valid_Acc: 83.5%, Max_test_Acc: 80.1% :  40%|████      | 2/5 [3:19:01<4:27:44, 5354.87s/it, Train_Acc: 82.6% , Valide_Acc: 79.2% , Test_Acc: 77.9%]\n",
            " 20%|██        | 2/10 [20:16<1:21:10, 608.80s/it]\u001b[A"
          ]
        },
        {
          "output_type": "stream",
          "name": "stdout",
          "text": [
            "Earlt Stoppo happen at Epoche 78 after no improvment of 21 epochs \n"
          ]
        },
        {
          "output_type": "stream",
          "name": "stderr",
          "text": [
            "Max_train_Acc: 83.3%, Max_valid_Acc: 83.5%, Max_test_Acc: 80.1% :  40%|████      | 2/5 [3:27:06<4:27:44, 5354.87s/it, Train_Acc: 80.6% , Valide_Acc: 79.7% , Test_Acc: 77.1%]\n",
            " 30%|███       | 3/10 [28:22<1:04:27, 552.48s/it]\u001b[A"
          ]
        },
        {
          "output_type": "stream",
          "name": "stdout",
          "text": [
            "Earlt Stoppo happen at Epoche 89 after no improvment of 21 epochs \n"
          ]
        },
        {
          "output_type": "stream",
          "name": "stderr",
          "text": [
            "Max_train_Acc: 83.3%, Max_valid_Acc: 83.5%, Max_test_Acc: 80.1% :  40%|████      | 2/5 [3:36:27<4:27:44, 5354.87s/it, Train_Acc: 81.4% , Valide_Acc: 81.8% , Test_Acc: 78.6%]\n",
            " 40%|████      | 4/10 [37:43<55:34, 555.78s/it]  \u001b[A"
          ]
        },
        {
          "output_type": "stream",
          "name": "stdout",
          "text": [
            "Earlt Stoppo happen at Epoche 65 after no improvment of 21 epochs \n"
          ]
        },
        {
          "output_type": "stream",
          "name": "stderr",
          "text": [
            "Max_train_Acc: 83.3%, Max_valid_Acc: 83.5%, Max_test_Acc: 80.1% :  40%|████      | 2/5 [3:43:18<4:27:44, 5354.87s/it, Train_Acc: 79.9% , Valide_Acc: 78.8% , Test_Acc: 74.9%]\n",
            " 50%|█████     | 5/10 [44:33<41:56, 503.35s/it]\u001b[A"
          ]
        },
        {
          "output_type": "stream",
          "name": "stdout",
          "text": [
            "Earlt Stoppo happen at Epoche 85 after no improvment of 21 epochs \n"
          ]
        },
        {
          "output_type": "stream",
          "name": "stderr",
          "text": [
            "Max_train_Acc: 83.3%, Max_valid_Acc: 83.5%, Max_test_Acc: 80.1% :  40%|████      | 2/5 [3:52:09<4:27:44, 5354.87s/it, Train_Acc: 81.2% , Valide_Acc: 82.8% , Test_Acc: 77.6%]\n",
            " 60%|██████    | 6/10 [53:25<34:11, 512.96s/it]\u001b[A"
          ]
        },
        {
          "output_type": "stream",
          "name": "stdout",
          "text": [
            "Earlt Stoppo happen at Epoche 89 after no improvment of 21 epochs \n"
          ]
        },
        {
          "output_type": "stream",
          "name": "stderr",
          "text": [
            "Max_train_Acc: 83.3%, Max_valid_Acc: 83.5%, Max_test_Acc: 80.1% :  40%|████      | 2/5 [4:01:38<4:27:44, 5354.87s/it, Train_Acc: 81.6% , Valide_Acc: 76.2% , Test_Acc: 78.4%]\n",
            " 70%|███████   | 7/10 [1:02:53<26:33, 531.21s/it]\u001b[A"
          ]
        },
        {
          "output_type": "stream",
          "name": "stdout",
          "text": [
            "Earlt Stoppo happen at Epoche 65 after no improvment of 21 epochs \n"
          ]
        },
        {
          "output_type": "stream",
          "name": "stderr",
          "text": [
            "Max_train_Acc: 83.3%, Max_valid_Acc: 83.5%, Max_test_Acc: 80.1% :  40%|████      | 2/5 [4:08:33<4:27:44, 5354.87s/it, Train_Acc: 79.7% , Valide_Acc: 79.2% , Test_Acc: 75.2%]\n",
            "Max_train_Acc: 83.3%, Max_valid_Acc: 83.5%, Max_test_Acc: 80.1% :  40%|████      | 2/5 [4:19:06<4:27:44, 5354.87s/it, Train_Acc: 83.0% , Valide_Acc: 82.1% , Test_Acc: 77.9%]\n",
            " 90%|█████████ | 9/10 [1:20:21<08:57, 537.47s/it]\u001b[A"
          ]
        },
        {
          "output_type": "stream",
          "name": "stdout",
          "text": [
            "Earlt Stoppo happen at Epoche 94 after no improvment of 21 epochs \n"
          ]
        },
        {
          "output_type": "stream",
          "name": "stderr",
          "text": [
            "Max_train_Acc: 83.3%, Max_valid_Acc: 83.5%, Max_test_Acc: 80.1% :  40%|████      | 2/5 [4:29:01<4:27:44, 5354.87s/it, Train_Acc: 82.3% , Valide_Acc: 81.1% , Test_Acc: 78.9%]\n",
            "100%|██████████| 10/10 [1:30:16<00:00, 541.67s/it]\n",
            "Max_train_Acc: 83.3%, Max_valid_Acc: 83.5%, Max_test_Acc: 80.1% :  60%|██████    | 3/5 [4:29:01<2:59:26, 5383.12s/it, Train_Acc: 82.3% , Valide_Acc: 81.1% , Test_Acc: 78.9%]\n",
            "  0%|          | 0/10 [00:00<?, ?it/s]\u001b[A"
          ]
        },
        {
          "output_type": "stream",
          "name": "stdout",
          "text": [
            "Earlt Stoppo happen at Epoche 79 after no improvment of 21 epochs \n"
          ]
        },
        {
          "output_type": "stream",
          "name": "stderr",
          "text": [
            "Max_train_Acc: 83.3%, Max_valid_Acc: 83.5%, Max_test_Acc: 80.1% :  60%|██████    | 3/5 [4:37:23<2:59:26, 5383.12s/it, Train_Acc: 81.6% , Valide_Acc: 81.8% , Test_Acc: 78.6%]\n",
            " 10%|█         | 1/10 [08:21<1:15:16, 501.83s/it]\u001b[A"
          ]
        },
        {
          "output_type": "stream",
          "name": "stdout",
          "text": [
            "Earlt Stoppo happen at Epoche 91 after no improvment of 21 epochs \n"
          ]
        },
        {
          "output_type": "stream",
          "name": "stderr",
          "text": [
            "Max_train_Acc: 83.3%, Max_valid_Acc: 83.5%, Max_test_Acc: 80.1% :  60%|██████    | 3/5 [4:47:05<2:59:26, 5383.12s/it, Train_Acc: 81.7% , Valide_Acc: 82.5% , Test_Acc: 76.9%]\n",
            " 20%|██        | 2/10 [18:04<1:13:13, 549.16s/it]\u001b[A"
          ]
        },
        {
          "output_type": "stream",
          "name": "stdout",
          "text": [
            "Earlt Stoppo happen at Epoche 75 after no improvment of 21 epochs \n"
          ]
        },
        {
          "output_type": "stream",
          "name": "stderr",
          "text": [
            "Max_train_Acc: 83.3%, Max_valid_Acc: 83.5%, Max_test_Acc: 80.1% :  60%|██████    | 3/5 [4:55:14<2:59:26, 5383.12s/it, Train_Acc: 80.9% , Valide_Acc: 79.7% , Test_Acc: 79.4%]\n",
            " 30%|███       | 3/10 [26:13<1:00:52, 521.79s/it]\u001b[A"
          ]
        },
        {
          "output_type": "stream",
          "name": "stdout",
          "text": [
            "Earlt Stoppo happen at Epoche 100 after no improvment of 21 epochs \n"
          ]
        },
        {
          "output_type": "stream",
          "name": "stderr",
          "text": [
            "Max_train_Acc: 83.3%, Max_valid_Acc: 83.5%, Max_test_Acc: 80.1% :  60%|██████    | 3/5 [5:06:02<2:59:26, 5383.12s/it, Train_Acc: 82.7% , Valide_Acc: 78.3% , Test_Acc: 76.7%]\n",
            " 40%|████      | 4/10 [37:00<57:08, 571.46s/it]  \u001b[A"
          ]
        },
        {
          "output_type": "stream",
          "name": "stdout",
          "text": [
            "Earlt Stoppo happen at Epoche 81 after no improvment of 21 epochs \n"
          ]
        },
        {
          "output_type": "stream",
          "name": "stderr",
          "text": [
            "Max_train_Acc: 83.3%, Max_valid_Acc: 83.5%, Max_test_Acc: 80.1% :  60%|██████    | 3/5 [5:14:45<2:59:26, 5383.12s/it, Train_Acc: 81.0% , Valide_Acc: 82.1% , Test_Acc: 77.9%]\n",
            "Max_train_Acc: 83.3%, Max_valid_Acc: 84.9%, Max_test_Acc: 80.1% :  60%|██████    | 3/5 [5:25:33<2:59:26, 5383.12s/it, Train_Acc: 82.0% , Valide_Acc: 84.9% , Test_Acc: 79.1%]\n",
            " 60%|██████    | 6/10 [56:31<39:03, 585.87s/it]\u001b[A"
          ]
        },
        {
          "output_type": "stream",
          "name": "stdout",
          "text": [
            "Earlt Stoppo happen at Epoche 88 after no improvment of 21 epochs \n"
          ]
        },
        {
          "output_type": "stream",
          "name": "stderr",
          "text": [
            "Max_train_Acc: 83.3%, Max_valid_Acc: 84.9%, Max_test_Acc: 80.1% :  60%|██████    | 3/5 [5:35:04<2:59:26, 5383.12s/it, Train_Acc: 81.7% , Valide_Acc: 80.2% , Test_Acc: 79.9%]\n",
            " 70%|███████   | 7/10 [1:06:02<29:03, 581.07s/it]\u001b[A"
          ]
        },
        {
          "output_type": "stream",
          "name": "stdout",
          "text": [
            "Earlt Stoppo happen at Epoche 37 after no improvment of 21 epochs \n"
          ]
        },
        {
          "output_type": "stream",
          "name": "stderr",
          "text": [
            "Max_train_Acc: 83.3%, Max_valid_Acc: 84.9%, Max_test_Acc: 80.1% :  60%|██████    | 3/5 [5:39:09<2:59:26, 5383.12s/it, Train_Acc: 77.7% , Valide_Acc: 74.8% , Test_Acc: 73.5%]\n",
            " 80%|████████  | 8/10 [1:10:08<15:48, 474.19s/it]\u001b[A"
          ]
        },
        {
          "output_type": "stream",
          "name": "stdout",
          "text": [
            "Earlt Stoppo happen at Epoche 84 after no improvment of 21 epochs \n"
          ]
        },
        {
          "output_type": "stream",
          "name": "stderr",
          "text": [
            "Max_train_Acc: 83.3%, Max_valid_Acc: 84.9%, Max_test_Acc: 80.1% :  60%|██████    | 3/5 [5:48:22<2:59:26, 5383.12s/it, Train_Acc: 81.4% , Valide_Acc: 78.5% , Test_Acc: 76.7%]\n",
            "Max_train_Acc: 83.3%, Max_valid_Acc: 85.4%, Max_test_Acc: 81.8% :  60%|██████    | 3/5 [5:59:23<2:59:26, 5383.12s/it, Train_Acc: 82.2% , Valide_Acc: 85.4% , Test_Acc: 81.8%]\n",
            "100%|██████████| 10/10 [1:30:22<00:00, 542.20s/it]\n",
            "Max_train_Acc: 83.3%, Max_valid_Acc: 85.4%, Max_test_Acc: 81.8% :  80%|████████  | 4/5 [5:59:23<1:29:58, 5398.49s/it, Train_Acc: 82.2% , Valide_Acc: 85.4% , Test_Acc: 81.8%]\n",
            "  0%|          | 0/10 [00:00<?, ?it/s]\u001b[A"
          ]
        },
        {
          "output_type": "stream",
          "name": "stdout",
          "text": [
            "Earlt Stoppo happen at Epoche 100 after no improvment of 21 epochs \n"
          ]
        },
        {
          "output_type": "stream",
          "name": "stderr",
          "text": [
            "Max_train_Acc: 83.3%, Max_valid_Acc: 85.4%, Max_test_Acc: 81.8% :  80%|████████  | 4/5 [6:10:26<1:29:58, 5398.49s/it, Train_Acc: 82.9% , Valide_Acc: 78.8% , Test_Acc: 78.1%]\n",
            " 10%|█         | 1/10 [11:03<1:39:28, 663.21s/it]\u001b[A"
          ]
        },
        {
          "output_type": "stream",
          "name": "stdout",
          "text": [
            "Earlt Stoppo happen at Epoche 92 after no improvment of 21 epochs \n"
          ]
        },
        {
          "output_type": "stream",
          "name": "stderr",
          "text": [
            "Max_train_Acc: 83.3%, Max_valid_Acc: 85.4%, Max_test_Acc: 81.8% :  80%|████████  | 4/5 [6:20:30<1:29:58, 5398.49s/it, Train_Acc: 81.6% , Valide_Acc: 83.5% , Test_Acc: 79.1%]\n",
            " 20%|██        | 2/10 [21:07<1:23:47, 628.47s/it]\u001b[A"
          ]
        },
        {
          "output_type": "stream",
          "name": "stdout",
          "text": [
            "Earlt Stoppo happen at Epoche 62 after no improvment of 21 epochs \n"
          ]
        },
        {
          "output_type": "stream",
          "name": "stderr",
          "text": [
            "Max_train_Acc: 83.3%, Max_valid_Acc: 85.4%, Max_test_Acc: 81.8% :  80%|████████  | 4/5 [6:27:21<1:29:58, 5398.49s/it, Train_Acc: 79.6% , Valide_Acc: 77.8% , Test_Acc: 75.4%]\n",
            " 30%|███       | 3/10 [27:57<1:01:41, 528.76s/it]\u001b[A"
          ]
        },
        {
          "output_type": "stream",
          "name": "stdout",
          "text": [
            "Earlt Stoppo happen at Epoche 61 after no improvment of 21 epochs \n"
          ]
        },
        {
          "output_type": "stream",
          "name": "stderr",
          "text": [
            "Max_train_Acc: 83.3%, Max_valid_Acc: 85.4%, Max_test_Acc: 81.8% :  80%|████████  | 4/5 [6:34:05<1:29:58, 5398.49s/it, Train_Acc: 80.1% , Valide_Acc: 77.4% , Test_Acc: 73.7%]\n",
            " 40%|████      | 4/10 [34:41<47:58, 479.70s/it]  \u001b[A"
          ]
        },
        {
          "output_type": "stream",
          "name": "stdout",
          "text": [
            "Earlt Stoppo happen at Epoche 45 after no improvment of 21 epochs \n"
          ]
        },
        {
          "output_type": "stream",
          "name": "stderr",
          "text": [
            "Max_train_Acc: 83.3%, Max_valid_Acc: 85.4%, Max_test_Acc: 81.8% :  80%|████████  | 4/5 [6:39:07<1:29:58, 5398.49s/it, Train_Acc: 78.3% , Valide_Acc: 77.1% , Test_Acc: 75.2%]\n",
            " 50%|█████     | 5/10 [39:44<34:38, 415.67s/it]\u001b[A"
          ]
        },
        {
          "output_type": "stream",
          "name": "stdout",
          "text": [
            "Earlt Stoppo happen at Epoche 92 after no improvment of 21 epochs \n"
          ]
        },
        {
          "output_type": "stream",
          "name": "stderr",
          "text": [
            "Max_train_Acc: 83.3%, Max_valid_Acc: 85.4%, Max_test_Acc: 81.8% :  80%|████████  | 4/5 [6:49:09<1:29:58, 5398.49s/it, Train_Acc: 81.8% , Valide_Acc: 80.4% , Test_Acc: 78.1%]\n",
            "Max_train_Acc: 83.3%, Max_valid_Acc: 85.4%, Max_test_Acc: 81.8% :  80%|████████  | 4/5 [7:00:04<1:29:58, 5398.49s/it, Train_Acc: 82.9% , Valide_Acc: 76.4% , Test_Acc: 77.1%]\n",
            " 70%|███████   | 7/10 [1:00:40<26:49, 536.46s/it]\u001b[A"
          ]
        },
        {
          "output_type": "stream",
          "name": "stdout",
          "text": [
            "Earlt Stoppo happen at Epoche 79 after no improvment of 21 epochs \n"
          ]
        },
        {
          "output_type": "stream",
          "name": "stderr",
          "text": [
            "Max_train_Acc: 83.3%, Max_valid_Acc: 85.4%, Max_test_Acc: 81.8% :  80%|████████  | 4/5 [7:08:42<1:29:58, 5398.49s/it, Train_Acc: 81.3% , Valide_Acc: 76.7% , Test_Acc: 77.1%]\n",
            "Max_train_Acc: 83.3%, Max_valid_Acc: 85.4%, Max_test_Acc: 81.8% :  80%|████████  | 4/5 [7:19:41<1:29:58, 5398.49s/it, Train_Acc: 82.0% , Valide_Acc: 82.5% , Test_Acc: 78.4%]\n",
            " 90%|█████████ | 9/10 [1:20:17<09:30, 570.68s/it]\u001b[A"
          ]
        },
        {
          "output_type": "stream",
          "name": "stdout",
          "text": [
            "Earlt Stoppo happen at Epoche 99 after no improvment of 21 epochs \n"
          ]
        },
        {
          "output_type": "stream",
          "name": "stderr",
          "text": [
            "Max_train_Acc: 83.3%, Max_valid_Acc: 85.4%, Max_test_Acc: 81.8% :  80%|████████  | 4/5 [7:30:44<1:29:58, 5398.49s/it, Train_Acc: 82.6% , Valide_Acc: 80.0% , Test_Acc: 80.3%]\n",
            "100%|██████████| 10/10 [1:31:20<00:00, 548.09s/it]\n",
            "Max_train_Acc: 83.3%, Max_valid_Acc: 85.4%, Max_test_Acc: 81.8% : 100%|██████████| 5/5 [7:30:44<00:00, 5408.89s/it, Train_Acc: 82.6% , Valide_Acc: 80.0% , Test_Acc: 80.3%]\n"
          ]
        }
      ],
      "source": [
        "# K_Folds_test = sk.model_selection.KFold(n_splits=10, shuffle=True)\n",
        "K_Folds_valid = sk.model_selection.KFold(n_splits=10, shuffle=True)\n",
        "dat_hour = datetime.now().strftime(\"%d_%b_%Y_%H_%M\")\n",
        "print_epochs = False\n",
        "\n",
        "param1 = {\n",
        "    'Net' : CNN_Nets.Net8_b_binary\n",
        "    ,'Drop' : 0.2\n",
        "    ,'LR' : 1.3e-3\n",
        "    ,'batch_size' : 20\n",
        "    ,'Momentum' : 0.85\n",
        "    ,'epochs' : 100\n",
        "    ,'patience': 20\n",
        "    ,'weight_decay' :1e-3\n",
        "    ,'loss_func'  :torch.nn.modules.loss.CrossEntropyLoss\n",
        "    ,'opt_func' : torch.optim.SGD\n",
        "}\n",
        "\n",
        "CV_data = torch.cat([input_data[0],input_data[1]],dim=0)\n",
        "CV_label = torch.cat([labels[0],labels[1]],dim=0)\n",
        "X_test = input_data[2]\n",
        "Y_test = labels[2]\n",
        "\n",
        "\n",
        "CV_Details = pd.DataFrame(columns=['hyper_param','train_recall_weighed','valid_recall_weighed','test_recall_weighed'\n",
        "                                  ,'valid_recall_simple','test_recall_simple'\n",
        "                                  ,'valid_specificity_weighed','test_specificity_weighed'\n",
        "                                  ,'valid_specificity_simple','test_specificity_simple'])\n",
        "\n",
        "Max_train_Acc = 0  \n",
        "Max_valid_Acc = 0 \n",
        "Max_test_Acc = 0                  \n",
        "\n",
        "pbar1 = tqdm(range(5))\n",
        "for i in pbar1:\n",
        "    pbar2 = tqdm(enumerate(K_Folds_valid.split(CV_data)), total=K_Folds_valid.get_n_splits())\n",
        "    for fold, (training_index, valid_index) in pbar2:\n",
        "        X_train = CV_data[training_index]\n",
        "        Y_train = CV_label[training_index]\n",
        "        X_valid = CV_data[valid_index]\n",
        "        Y_valid = CV_label[valid_index]\n",
        "\n",
        "        label_freq = np.bincount(Y_train)\n",
        "        labels_weights = 1. / label_freq\n",
        "        weights = labels_weights[Y_train]\n",
        "        w_sampler = WeightedRandomSampler(weights, len(weights))\n",
        "\n",
        "        trainDataset = dset(X_train, Y_train)\n",
        "        validDataset = dset(X_valid, Y_valid)\n",
        "        testDataset = dset(X_test, Y_test)\n",
        "\n",
        "        Model_ = Model_Training_with_loader(**param1,w_sampler = w_sampler , trainDataset = trainDataset, validDataset = validDataset , X_test = X_test, Y_test = Y_test, print_epochs =print_epochs,hyper_params=param1)\n",
        "        Model_.train()\n",
        "\n",
        "        model_ = Model_.model.eval().to('cpu')\n",
        "            \n",
        "        # Train\n",
        "        train_recall_weighed = mean(Model_.Epochs_Train_Acc)\n",
        "\n",
        "        # Valid\n",
        "        Y_pred = model_(X_valid).argmax(axis=1)\n",
        "        Y = Y_valid\n",
        "        valid_recall_weighed, valid_specificity_weighed, _ = recall_specificity_precision(Y,Y_pred,weighted_avg=True)\n",
        "        valid_recall_simple, valid_specificity_simple, _ = recall_specificity_precision(Y,Y_pred,weighted_avg=False)\n",
        "\n",
        "        # Test\n",
        "        Y_pred = model_(X_test).argmax(axis=1)\n",
        "        Y = Y_test\n",
        "        test_recall_weighed, test_specificity_weighed, _ = recall_specificity_precision(Y,Y_pred,weighted_avg=True)\n",
        "        test_recall_simple, test_specificity_simple, _ = recall_specificity_precision(Y,Y_pred,weighted_avg=False)\n",
        "\n",
        "\n",
        "        if train_recall_weighed > Max_train_Acc: Max_train_Acc = train_recall_weighed\n",
        "        if valid_recall_weighed > Max_valid_Acc: Max_valid_Acc = valid_recall_weighed\n",
        "        if test_recall_weighed > Max_test_Acc: Max_test_Acc = test_recall_weighed\n",
        "        new_row = pd.Series({'train_recall_weighed':train_recall_weighed,'valid_recall_weighed':valid_recall_weighed,'test_recall_weighed':test_recall_weighed\n",
        "                                      ,'valid_recall_simple':valid_recall_simple,'test_recall_simple':test_recall_simple\n",
        "                                      ,'valid_specificity_weighed':valid_specificity_weighed,'test_specificity_weighed':test_specificity_weighed\n",
        "                                      ,'valid_specificity_simple':valid_specificity_simple,'test_specificity_simple':test_specificity_simple}, name='')\n",
        "        CV_Details = CV_Details.append(new_row)\n",
        "        pbar1.set_description(f'Max_train_Acc: {Max_train_Acc:.1%}, Max_valid_Acc: {Max_valid_Acc:.1%}, Max_test_Acc: {Max_test_Acc:.1%} ')\n",
        "        pbar1.set_postfix_str(f'Train_Acc: {train_recall_weighed:.1%} , Valide_Acc: {valid_recall_weighed:.1%} , Test_Acc: {test_recall_weighed:.1%}')\n",
        "\n",
        "\n",
        "        pickle.dump(CV_Details, open(G_path + '/Saved/Cross_Valid_Results/CV_280_binary_'+ dat_hour,'wb'))"
      ]
    },
    {
      "cell_type": "code",
      "execution_count": null,
      "metadata": {
        "colab": {
          "base_uri": "https://localhost:8080/",
          "height": 227,
          "referenced_widgets": [
            "85d7bc82a81a40d3b9fab1e20600c557",
            "c04a31fbbf7646cd807e195ccce5ceb2",
            "23c039afbc344ccd8751c233142d6eb0",
            "6c50616baba74806bcfa47f6a248114c",
            "e2b15ce7e092418e8ef5018078f1f598",
            "10a52f09ecd94e7e97c50a957003a9a1"
          ]
        },
        "id": "Qrgm1Bv1LFGA",
        "outputId": "138136db-9d25-4eae-d7db-d250388d3d21"
      },
      "outputs": [
        {
          "data": {
            "application/vnd.jupyter.widget-view+json": {
              "model_id": "85d7bc82a81a40d3b9fab1e20600c557",
              "version_major": 2,
              "version_minor": 0
            },
            "text/plain": [
              "First CV:   0%|                                                                                               …"
            ]
          },
          "metadata": {},
          "output_type": "display_data"
        },
        {
          "data": {
            "application/vnd.jupyter.widget-view+json": {
              "model_id": "c04a31fbbf7646cd807e195ccce5ceb2",
              "version_major": 2,
              "version_minor": 0
            },
            "text/plain": [
              "Second CV:   0%|                                                                                              …"
            ]
          },
          "metadata": {},
          "output_type": "display_data"
        },
        {
          "data": {
            "application/vnd.jupyter.widget-view+json": {
              "model_id": "23c039afbc344ccd8751c233142d6eb0",
              "version_major": 2,
              "version_minor": 0
            },
            "text/plain": [
              "Second CV:   0%|                                                                                              …"
            ]
          },
          "metadata": {},
          "output_type": "display_data"
        },
        {
          "data": {
            "application/vnd.jupyter.widget-view+json": {
              "model_id": "6c50616baba74806bcfa47f6a248114c",
              "version_major": 2,
              "version_minor": 0
            },
            "text/plain": [
              "Second CV:   0%|                                                                                              …"
            ]
          },
          "metadata": {},
          "output_type": "display_data"
        },
        {
          "data": {
            "application/vnd.jupyter.widget-view+json": {
              "model_id": "e2b15ce7e092418e8ef5018078f1f598",
              "version_major": 2,
              "version_minor": 0
            },
            "text/plain": [
              "Second CV:   0%|                                                                                              …"
            ]
          },
          "metadata": {},
          "output_type": "display_data"
        },
        {
          "data": {
            "application/vnd.jupyter.widget-view+json": {
              "model_id": "10a52f09ecd94e7e97c50a957003a9a1",
              "version_major": 2,
              "version_minor": 0
            },
            "text/plain": [
              "Second CV:   0%|                                                                                              …"
            ]
          },
          "metadata": {},
          "output_type": "display_data"
        },
        {
          "name": "stdout",
          "output_type": "stream",
          "text": [
            "done!\n"
          ]
        }
      ],
      "source": [
        "import time\n",
        "import tqdm\n",
        "\n",
        "for outer in tqdm.tqdm_notebook(range(5), ncols = 1000, desc = \"First CV\", position = 0, leave=True):\n",
        "    for inner in tqdm.tqdm_notebook(range(3), ncols = 1000, desc = \"Second CV\", position = 1, leave=True):\n",
        "        time.sleep(0.5)\n",
        "print(\"done!\")"
      ]
    },
    {
      "cell_type": "code",
      "source": [
        "CV_Details.info()"
      ],
      "metadata": {
        "id": "AseoD8yJLhz8",
        "outputId": "0af855ce-c241-4f3f-bdf9-c8704503b841",
        "colab": {
          "base_uri": "https://localhost:8080/"
        }
      },
      "execution_count": 11,
      "outputs": [
        {
          "output_type": "stream",
          "name": "stdout",
          "text": [
            "<class 'pandas.core.frame.DataFrame'>\n",
            "Index: 50 entries,  to \n",
            "Data columns (total 10 columns):\n",
            " #   Column                     Non-Null Count  Dtype  \n",
            "---  ------                     --------------  -----  \n",
            " 0   hyper_param                0 non-null      float64\n",
            " 1   train_recall_weighed       50 non-null     float64\n",
            " 2   valid_recall_weighed       50 non-null     float64\n",
            " 3   test_recall_weighed        50 non-null     float64\n",
            " 4   valid_recall_simple        50 non-null     float64\n",
            " 5   test_recall_simple         50 non-null     float64\n",
            " 6   valid_specificity_weighed  50 non-null     float64\n",
            " 7   test_specificity_weighed   50 non-null     float64\n",
            " 8   valid_specificity_simple   50 non-null     float64\n",
            " 9   test_specificity_simple    50 non-null     float64\n",
            "dtypes: float64(10)\n",
            "memory usage: 6.4+ KB\n"
          ]
        }
      ]
    },
    {
      "cell_type": "code",
      "execution_count": 12,
      "metadata": {
        "id": "3zKshOw9PaDt"
      },
      "outputs": [],
      "source": [
        "col_recall = ['test_recall_weighed','valid_recall_weighed']\n",
        "model_recalls = CV_Details[col_recall]\n",
        "col_specificity = ['test_specificity_weighed','valid_specificity_weighed']\n",
        "model_specificity = CV_Details[col_specificity]"
      ]
    },
    {
      "cell_type": "code",
      "execution_count": 13,
      "metadata": {
        "colab": {
          "base_uri": "https://localhost:8080/",
          "height": 603
        },
        "id": "SYPZ9JOfPYIe",
        "outputId": "b93dd197-56bb-44e1-eb92-1401dee6e6ee"
      },
      "outputs": [
        {
          "output_type": "display_data",
          "data": {
            "text/plain": [
              "<Figure size 576x288 with 1 Axes>"
            ],
            "image/png": "[encoded data removed]"
          },
          "metadata": {
            "needs_background": "light"
          }
        },
        {
          "output_type": "display_data",
          "data": {
            "text/plain": [
              "<Figure size 576x288 with 1 Axes>"
            ],
            "image/png": "[encoded data removed]"
          },
          "metadata": {
            "needs_background": "light"
          }
        }
      ],
      "source": [
        "plt.subplots(figsize=(8,4))\n",
        "sns.boxplot(data=model_recalls)\n",
        "plt.title('Test performance of 100 Cross-Validation',fontsize = 18)\n",
        "plt.xlabel(\"Classifiers\", fontsize = 14)\n",
        "plt.ylabel(\"Accuracy\", fontsize = 14)\n",
        "plt.xticks(fontsize=16, rotation=0)\n",
        "plt.show()\n",
        "\n",
        "plt.subplots(figsize=(8,4))\n",
        "sns.boxplot(data=model_specificity)\n",
        "plt.title('Valid performance of 100 Cross-Validation',fontsize = 18)\n",
        "plt.xlabel(\"Classifiers\", fontsize = 14)\n",
        "plt.ylabel(\"Accuracy\", fontsize = 14)\n",
        "plt.xticks(fontsize=16, rotation=0)\n",
        "plt.show()\n"
      ]
    },
    {
      "cell_type": "markdown",
      "metadata": {
        "id": "xg-ZJmCpAlDj"
      },
      "source": [
        "# **Save the model**"
      ]
    },
    {
      "cell_type": "code",
      "execution_count": null,
      "metadata": {
        "id": "DM15kY74AlDj"
      },
      "outputs": [],
      "source": [
        "dat_hour = datetime.now().strftime(\"%d_%b_%Y_%H_%M\")\n",
        "pickle.dump(Model_Best_Grid.model.eval().to('cpu'), open(G_path +'/Saved/Models/CNN_280x210/' + 'CNN_280x210_'+dat_hour, 'wb'))\n",
        "# pickle.dump(Model_CV, open(G_path + '/Saved/CNN_60x45_Best_CV_'+dat_hour, 'wb'))"
      ]
    },
    {
      "cell_type": "markdown",
      "metadata": {
        "id": "EJkLbYB2_w4H"
      },
      "source": [
        "# **Save Grid search-Cross Validation Details**"
      ]
    },
    {
      "cell_type": "code",
      "execution_count": null,
      "metadata": {
        "id": "ZgZ8d28qAlDj"
      },
      "outputs": [],
      "source": [
        "pickle.dump([CNN_Nets, Model_Training], open(G_save + 'CNNs_Network_Training', \"wb\"))"
      ]
    },
    {
      "cell_type": "code",
      "execution_count": null,
      "metadata": {
        "id": "bnwerzvcA_Wu"
      },
      "outputs": [],
      "source": [
        "dat_hour = datetime.now().strftime(\"%d_%b_%Y_%H:%M\")\n",
        "pickle.dump(Grid_Details, open(G_save + 'Grid_Details_'+dat_hour, 'wb'))\n",
        "pickle.dump(CNN_CV_Details, open(G_save + 'CNN_CV_Details_'+dat_hour, 'wb'))\n",
        "\n",
        "Grid_Details.to_csv(G_save + 'Grid_Details_'+dat_hour +'.csv')\n",
        "CNN_CV_Details.to_csv(G_save + 'CNN_CV_Details_'+dat_hour+ '.csv')"
      ]
    },
    {
      "cell_type": "markdown",
      "metadata": {
        "id": "oW6taeF-AlDj"
      },
      "source": [
        ""
      ]
    },
    {
      "cell_type": "code",
      "execution_count": null,
      "metadata": {
        "id": "yfVbVtw1BgO9"
      },
      "outputs": [],
      "source": [
        "  "
      ]
    }
  ],
  "metadata": {
    "accelerator": "GPU",
    "colab": {
      "machine_shape": "hm",
      "name": "CNN_280x210.ipynb",
      "provenance": [],
      "include_colab_link": true
    },
    "gpuClass": "standard",
    "interpreter": {
      "hash": "31f2aee4e71d21fbe5cf8b01ff0e069b9275f58929596ceb00d14d90e3e16cd6"
    },
    "kernelspec": {
      "display_name": "Python 3.8.9 64-bit",
      "language": "python",
      "name": "python3"
    },
    "language_info": {
      "codemirror_mode": {
        "name": "ipython",
        "version": 3
      },
      "file_extension": ".py",
      "mimetype": "text/x-python",
      "name": "python",
      "nbconvert_exporter": "python",
      "pygments_lexer": "ipython3",
      "version": "3.8.9"
    }
  },
  "nbformat": 4,
  "nbformat_minor": 0
}