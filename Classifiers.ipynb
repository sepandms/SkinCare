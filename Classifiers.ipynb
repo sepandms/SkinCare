{
 "cells": [
  {
   "cell_type": "code",
   "execution_count": 1,
   "metadata": {},
   "outputs": [],
   "source": [
    "G_path = '/Users/sepehrbe/My_Drive/DataSources/SkinCare'\n",
    "import pandas as pd\n",
    "import seaborn as sns\n",
    "from sklearn import *\n",
    "import sklearn as sk\n",
    "from sklearn import *\n",
    "import numpy as np\n",
    "from scipy.stats import chi2_contingency\n",
    "import datetime as dt\n",
    "import pickle\n",
    "import torch\n",
    "import json\n",
    "import random\n",
    "import seaborn as sns\n",
    "import torch.nn as nn\n",
    "import torch.optim as optim\n",
    "import torch.nn.functional as F\n",
    "from MLP_Nets import MLP_Nets\n",
    "\n",
    "from tqdm import tqdm\n",
    "import matplotlib.pyplot as plt\n",
    "from sklearn.model_selection import train_test_split\n",
    "from usefull_functions import *\n",
    "import time\n",
    "from statistics import mean\n",
    "import warnings\n",
    "warnings.filterwarnings('ignore')"
   ]
  },
  {
   "cell_type": "code",
   "execution_count": 2,
   "id": "af0578fa",
   "metadata": {},
   "outputs": [],
   "source": [
    "file = 'CNN_280x210_Ouput' \n",
    "# file = 'DataSource_60x45_Ordinal_CNN.pickle' \n",
    "data = pd.read_pickle(G_path + '/CNN_Output/' + file)\n",
    "\n",
    "blc_test_list = pickle.load(open(G_path + 'blc_test_meta_list','rb'))\n",
    "# Evaluation_set = pickle.load(open(G_path + '/DataSet_280x210/' + file,'rb'))\n",
    "\n",
    "train_data = data[data.type=='train']\n",
    "valid_data = data[data.type=='valid']\n",
    "test_data = data[data.type=='test']\n",
    "blc_test_data = data.merge(blc_test_list['image_id'], how='inner',on='image_id')\n",
    "\n",
    "\n",
    "train_label = train_data['image_label']\n",
    "train_data = train_data.drop(columns=['image_id','image_label','dx','lesion_id','type'])\n",
    "valid_label = valid_data['image_label']\n",
    "valid_data = valid_data.drop(columns=['image_id','image_label','dx','lesion_id','type'])\n",
    "test_label = test_data['image_label']\n",
    "test_data = test_data.drop(columns=['image_id','image_label','dx','lesion_id','type'])\n",
    "blc_label = blc_test_data['image_label']\n",
    "blc_data = blc_test_data.drop(columns=['image_id','image_label','dx','lesion_id','type'])\n",
    "\n",
    "####### Feature Selection #################\n",
    "# features = ['CNN_0', 'CNN_1', 'CNN_2','CNN_3', 'CNN_4', 'CNN_5', 'CNN_6']\n",
    "# train_data = train_data[features]\n",
    "# valid_data = valid_data[features]\n",
    "# test_data = test_data[features]\n",
    "\n",
    "####### Feature Selection #################\n",
    "# features = ['CNN_0', 'CNN_1', 'CNN_2','CNN_3', 'CNN_4', 'CNN_5', 'CNN_6','age','localization_back','localization_face','localization_lower extremity','dx_type_consensus','dx_type_follow_up','dx_type_histo']\n",
    "# train_data = train_data[features]\n",
    "# valid_data = valid_data[features]\n",
    "# test_data = test_data[features]\n",
    "\n",
    "####### Feature Selection #################\n",
    "# features = ['CNN_0', 'CNN_1', 'CNN_2','CNN_3', 'CNN_4', 'CNN_5', 'CNN_6','age','localization','dx_type']\n",
    "# train_data = train_data[features]\n",
    "# valid_data = valid_data[features]\n",
    "# test_data = test_data[features]\n",
    "\n",
    "train_data_arrays = np.stack(train_data.values)  \n",
    "train_label_arrays = np.stack(train_label.values)\n",
    "train_label_arrays_One = pd.get_dummies(train_label_arrays).values  \n",
    "\n",
    "valid_data_arrays = np.stack(valid_data.values)  \n",
    "valid_label_arrays = np.stack(valid_label.values)  \n",
    "valid_label_arrays_One = pd.get_dummies(valid_label_arrays).values  \n",
    "\n",
    "test_data_arrays = np.stack(test_data.values)  \n",
    "test_label_arrays = np.stack(test_label.values)  \n",
    "test_label_arrays_One = pd.get_dummies(test_label_arrays).values  \n",
    "\n",
    "blc_data_arrays = np.stack(blc_data.values)  \n",
    "blc_label_arrays = np.stack(blc_label.values)  \n",
    "blc_label_arrays_One = pd.get_dummies(blc_label_arrays).values \n",
    "\n",
    "#Numpy Arrays\n",
    "input_data_Array = (train_data_arrays , valid_data_arrays, test_data_arrays , np.concatenate((train_data_arrays,valid_data_arrays )))\n",
    "labels_Array = (train_label_arrays,valid_label_arrays,test_label_arrays, np.concatenate((train_label_arrays,valid_label_arrays)))\n",
    "labels_One_Array = (train_label_arrays_One,valid_label_arrays_One,test_label_arrays_One, np.concatenate((train_label_arrays_One,valid_label_arrays_One)))\n",
    "\n",
    "# Tensors\n",
    "def to_Torch(x):\n",
    "    return torch.tensor(x,dtype= torch.float32)\n",
    "\n",
    "input_data_Tensor = (to_Torch(train_data_arrays),to_Torch(valid_data_arrays)  , to_Torch(test_data_arrays) , to_Torch(np.concatenate((train_data_arrays,valid_data_arrays))))\n",
    "labels_Tensor = (to_Torch(train_label_arrays),to_Torch(valid_label_arrays),to_Torch(test_label_arrays) , to_Torch(np.concatenate((train_label_arrays,valid_label_arrays))) )\n",
    "labels_OneHot_Tensor = (to_Torch(train_label_arrays_One),to_Torch(valid_label_arrays_One),to_Torch(test_label_arrays_One), to_Torch(np.concatenate((train_label_arrays_One,valid_label_arrays_One))))\n",
    "\n",
    "blc_data_Tensor = (to_Torch(blc_data_arrays))"
   ]
  },
  {
   "cell_type": "markdown",
   "metadata": {},
   "source": [
    "# **Random Forrest**"
   ]
  },
  {
   "cell_type": "code",
   "execution_count": 10,
   "metadata": {},
   "outputs": [
    {
     "name": "stderr",
     "output_type": "stream",
     "text": [
      "100%|██████████| 64/64 [00:09<00:00,  6.76it/s]\n"
     ]
    },
    {
     "name": "stdout",
     "output_type": "stream",
     "text": [
      "------- Precision recal %--------\n",
      "              precision    recall  f1-score   support\n",
      "\n",
      "           0       0.52      0.65      0.58        23\n",
      "           1       0.59      0.75      0.66        32\n",
      "           2       0.60      0.68      0.64        72\n",
      "           3       0.67      0.50      0.57         8\n",
      "           4       0.54      0.47      0.50        62\n",
      "           5       0.89      0.83      0.86       200\n",
      "           6       1.00      0.90      0.95        10\n",
      "\n",
      "    accuracy                           0.73       407\n",
      "   macro avg       0.69      0.68      0.68       407\n",
      "weighted avg       0.74      0.73      0.73       407\n",
      "\n",
      "Best param:  {'bootstrap': False, 'class_weight': None, 'criterion': 'gini', 'max_depth': 30, 'max_features': 'auto', 'max_leaf_nodes': None, 'n_estimators': 200}\n"
     ]
    }
   ],
   "source": [
    "Model_ = sk.ensemble.RandomForestClassifier(random_state=0, n_jobs=-1)\n",
    "K_Folds = sk.model_selection.KFold(n_splits=10, shuffle=True)\n",
    "\n",
    "kfold_per_param_search = False\n",
    "\n",
    "# grid = { \n",
    "#     'n_estimators': [100,200,500],\n",
    "#     'max_features': ['auto', 'log2'],\n",
    "#     'max_depth' : [4,7,10,20],\n",
    "#     'criterion' :['gini', 'entropy'],\n",
    "#     'bootstrap': [True, False],\n",
    "#     'class_weight' : [None, 'balanced'],\n",
    "#     'max_leaf_nodes' : [3,5,None],\n",
    "# }\n",
    "\n",
    "grid = { \n",
    "    'n_estimators': [100, 200],\n",
    "    'max_features': ['auto', 'log2'],\n",
    "    'max_depth' : [20,30],\n",
    "    'criterion' :['gini', 'entropy'],\n",
    "    'bootstrap': [False],\n",
    "    'class_weight' : [None, 'balanced'],\n",
    "    'max_leaf_nodes' : [5,None],\n",
    "}\n",
    "\n",
    "test_scores = []\n",
    "Param_Details = pd.DataFrame(columns=['hyper_param','test_accuracy','test_fscore','test_precision','test_recall'])\n",
    "\n",
    "training_data = input_data_Array[0]\n",
    "training_label = labels_Array[0]\n",
    "x_test = input_data_Array[2]\n",
    "y_test = labels_Array[2]\n",
    "\n",
    "pbar = tqdm (sk.model_selection.ParameterGrid(grid))\n",
    "for g in pbar:\n",
    "\n",
    "    test_accuracy = []\n",
    "    test_fscore = []\n",
    "    test_precision = []\n",
    "    test_recall = []\n",
    "\n",
    "    if kfold_per_param_search:\n",
    "\n",
    "        for fold, (train_index, test_index) in enumerate(K_Folds.split(training_data[2],training_label[2])):\n",
    "            x_train_ = training_data[2][train_index]\n",
    "            y_train_ = training_label[2][train_index]\n",
    "            x_test_ = training_data[2][test_index]\n",
    "            y_test_ = training_label[2][test_index]\n",
    "            \n",
    "            Model_.set_params(**g)\n",
    "            Model_.fit(x_train_, y_train_)\n",
    "            Y_pred = Model_.predict(x_test_)\n",
    "            Y = y_test_\n",
    "\n",
    "            precision_, recall_, fscore_, m = sk.metrics.precision_recall_fscore_support(Y_pred,Y , average = 'weighted')\n",
    "            acc_ = sk.metrics.accuracy_score(Y_pred,Y )\n",
    "            test_accuracy.append(acc_)\n",
    "            test_fscore.append(fscore_)\n",
    "            test_precision.append(precision_)\n",
    "            test_recall.append(recall_)\n",
    "            new_row = pd.Series({'hyper_param':g,'test_accuracy':test_accuracy,'test_fscore':test_fscore,'test_precision':test_precision,'test_recall':test_recall}, name='')\n",
    "            Param_Details = Param_Details.append(new_row)\n",
    "    else:\n",
    "            x_train_ = training_data\n",
    "            y_train_ = training_label\n",
    "            x_test_ = x_test\n",
    "            y_test_ = y_test\n",
    "            \n",
    "            Model_.set_params(**g)\n",
    "            Model_.fit(x_train_, y_train_)\n",
    "            Y_pred = Model_.predict(x_test_)\n",
    "            Y = y_test_\n",
    "\n",
    "            precision_, recall_, fscore_, m = sk.metrics.precision_recall_fscore_support(Y_pred,Y , average = 'weighted')\n",
    "            acc_ = sk.metrics.accuracy_score(Y_pred,Y )\n",
    "            test_accuracy.append(acc_)\n",
    "            test_fscore.append(fscore_)\n",
    "            test_precision.append(precision_)\n",
    "            test_recall.append(recall_)\n",
    "            new_row = pd.Series({'hyper_param':g,'test_accuracy':test_accuracy,'test_fscore':test_fscore,'test_precision':test_precision,'test_recall':test_recall}, name='')\n",
    "            Param_Details = Param_Details.append(new_row)\n",
    "\n",
    "Param_Details['test_accuracy_avg'] = Param_Details.apply(lambda x: mean(x.test_accuracy),axis=1)\n",
    "Param_Details['test_fscore_avg'] = Param_Details.apply(lambda x: mean(x.test_fscore),axis=1)\n",
    "Param_Details['test_precision_avg'] = Param_Details.apply(lambda x: mean(x.test_precision),axis=1)\n",
    "Param_Details['test_recall_avg'] = Param_Details.apply(lambda x: mean(x.test_recall),axis=1)\n",
    "Param_Details['test_accuracy_max'] = Param_Details.test_accuracy.apply(max)\n",
    "Param_Details['test_fscore_max'] = Param_Details.test_fscore.apply(max)\n",
    "Param_Details['test_precision_max'] = Param_Details.test_precision.apply(max)\n",
    "Param_Details['test_recall_max'] = Param_Details.test_recall.apply(max)\n",
    "RF_param_details = Param_Details\n",
    "best_one = np.argmax(RF_param_details.test_fscore_avg)\n",
    "best_param = RF_param_details.iloc[best_one]['hyper_param']\n",
    "RF_Model = Model_.set_params(**best_param)\n",
    "RF_Model.fit(training_data, training_label)\n",
    "Y_pred = RF_Model.predict(x_test)\n",
    "\n",
    "RF_param_details['hyper_param'] = RF_param_details['hyper_param'].apply(lambda x: json.dumps(x))\n",
    "print('------- Precision recal %--------')\n",
    "print(sk.metrics.classification_report(y_test,Y_pred))\n",
    "print('Best param: ' , best_param)"
   ]
  },
  {
   "cell_type": "code",
   "execution_count": 12,
   "metadata": {},
   "outputs": [
    {
     "name": "stdout",
     "output_type": "stream",
     "text": [
      "Nr. of Data : \n",
      " 105\n",
      "Accuracy of The Model : \n",
      " 0.6190476190476191\n"
     ]
    },
    {
     "data": {
      "text/html": [
       "<style type=\"text/css\">\n",
       "</style>\n",
       "<table id=\"T_c92a7\">\n",
       "  <thead>\n",
       "    <tr>\n",
       "      <th class=\"blank level0\" >&nbsp;</th>\n",
       "      <th id=\"T_c92a7_level0_col0\" class=\"col_heading level0 col0\" >weights</th>\n",
       "      <th id=\"T_c92a7_level0_col1\" class=\"col_heading level0 col1\" >Precision</th>\n",
       "      <th id=\"T_c92a7_level0_col2\" class=\"col_heading level0 col2\" >Recall_Sensitivity</th>\n",
       "      <th id=\"T_c92a7_level0_col3\" class=\"col_heading level0 col3\" >Specificity</th>\n",
       "      <th id=\"T_c92a7_level0_col4\" class=\"col_heading level0 col4\" >f1_score</th>\n",
       "    </tr>\n",
       "  </thead>\n",
       "  <tbody>\n",
       "    <tr>\n",
       "      <th id=\"T_c92a7_level0_row0\" class=\"row_heading level0 row0\" >0</th>\n",
       "      <td id=\"T_c92a7_row0_col0\" class=\"data row0 col0\" >14.3%</td>\n",
       "      <td id=\"T_c92a7_row0_col1\" class=\"data row0 col1\" >80.0%</td>\n",
       "      <td id=\"T_c92a7_row0_col2\" class=\"data row0 col2\" >53.3%</td>\n",
       "      <td id=\"T_c92a7_row0_col3\" class=\"data row0 col3\" >97.8%</td>\n",
       "      <td id=\"T_c92a7_row0_col4\" class=\"data row0 col4\" >64.0%</td>\n",
       "    </tr>\n",
       "    <tr>\n",
       "      <th id=\"T_c92a7_level0_row1\" class=\"row_heading level0 row1\" >1</th>\n",
       "      <td id=\"T_c92a7_row1_col0\" class=\"data row1 col0\" >14.3%</td>\n",
       "      <td id=\"T_c92a7_row1_col1\" class=\"data row1 col1\" >62.5%</td>\n",
       "      <td id=\"T_c92a7_row1_col2\" class=\"data row1 col2\" >66.7%</td>\n",
       "      <td id=\"T_c92a7_row1_col3\" class=\"data row1 col3\" >93.3%</td>\n",
       "      <td id=\"T_c92a7_row1_col4\" class=\"data row1 col4\" >64.5%</td>\n",
       "    </tr>\n",
       "    <tr>\n",
       "      <th id=\"T_c92a7_level0_row2\" class=\"row_heading level0 row2\" >2</th>\n",
       "      <td id=\"T_c92a7_row2_col0\" class=\"data row2 col0\" >14.3%</td>\n",
       "      <td id=\"T_c92a7_row2_col1\" class=\"data row2 col1\" >38.5%</td>\n",
       "      <td id=\"T_c92a7_row2_col2\" class=\"data row2 col2\" >66.7%</td>\n",
       "      <td id=\"T_c92a7_row2_col3\" class=\"data row2 col3\" >82.2%</td>\n",
       "      <td id=\"T_c92a7_row2_col4\" class=\"data row2 col4\" >48.8%</td>\n",
       "    </tr>\n",
       "    <tr>\n",
       "      <th id=\"T_c92a7_level0_row3\" class=\"row_heading level0 row3\" >3</th>\n",
       "      <td id=\"T_c92a7_row3_col0\" class=\"data row3 col0\" >14.3%</td>\n",
       "      <td id=\"T_c92a7_row3_col1\" class=\"data row3 col1\" >100.0%</td>\n",
       "      <td id=\"T_c92a7_row3_col2\" class=\"data row3 col2\" >40.0%</td>\n",
       "      <td id=\"T_c92a7_row3_col3\" class=\"data row3 col3\" >100.0%</td>\n",
       "      <td id=\"T_c92a7_row3_col4\" class=\"data row3 col4\" >57.1%</td>\n",
       "    </tr>\n",
       "    <tr>\n",
       "      <th id=\"T_c92a7_level0_row4\" class=\"row_heading level0 row4\" >4</th>\n",
       "      <td id=\"T_c92a7_row4_col0\" class=\"data row4 col0\" >14.3%</td>\n",
       "      <td id=\"T_c92a7_row4_col1\" class=\"data row4 col1\" >57.1%</td>\n",
       "      <td id=\"T_c92a7_row4_col2\" class=\"data row4 col2\" >53.3%</td>\n",
       "      <td id=\"T_c92a7_row4_col3\" class=\"data row4 col3\" >93.3%</td>\n",
       "      <td id=\"T_c92a7_row4_col4\" class=\"data row4 col4\" >55.2%</td>\n",
       "    </tr>\n",
       "    <tr>\n",
       "      <th id=\"T_c92a7_level0_row5\" class=\"row_heading level0 row5\" >5</th>\n",
       "      <td id=\"T_c92a7_row5_col0\" class=\"data row5 col0\" >14.3%</td>\n",
       "      <td id=\"T_c92a7_row5_col1\" class=\"data row5 col1\" >47.4%</td>\n",
       "      <td id=\"T_c92a7_row5_col2\" class=\"data row5 col2\" >60.0%</td>\n",
       "      <td id=\"T_c92a7_row5_col3\" class=\"data row5 col3\" >88.9%</td>\n",
       "      <td id=\"T_c92a7_row5_col4\" class=\"data row5 col4\" >52.9%</td>\n",
       "    </tr>\n",
       "    <tr>\n",
       "      <th id=\"T_c92a7_level0_row6\" class=\"row_heading level0 row6\" >6</th>\n",
       "      <td id=\"T_c92a7_row6_col0\" class=\"data row6 col0\" >14.3%</td>\n",
       "      <td id=\"T_c92a7_row6_col1\" class=\"data row6 col1\" >100.0%</td>\n",
       "      <td id=\"T_c92a7_row6_col2\" class=\"data row6 col2\" >93.3%</td>\n",
       "      <td id=\"T_c92a7_row6_col3\" class=\"data row6 col3\" >100.0%</td>\n",
       "      <td id=\"T_c92a7_row6_col4\" class=\"data row6 col4\" >96.6%</td>\n",
       "    </tr>\n",
       "    <tr>\n",
       "      <th id=\"T_c92a7_level0_row7\" class=\"row_heading level0 row7\" >Simple Avg.</th>\n",
       "      <td id=\"T_c92a7_row7_col0\" class=\"data row7 col0\" >nan%</td>\n",
       "      <td id=\"T_c92a7_row7_col1\" class=\"data row7 col1\" >69.4%</td>\n",
       "      <td id=\"T_c92a7_row7_col2\" class=\"data row7 col2\" >61.9%</td>\n",
       "      <td id=\"T_c92a7_row7_col3\" class=\"data row7 col3\" >93.7%</td>\n",
       "      <td id=\"T_c92a7_row7_col4\" class=\"data row7 col4\" >62.7%</td>\n",
       "    </tr>\n",
       "    <tr>\n",
       "      <th id=\"T_c92a7_level0_row8\" class=\"row_heading level0 row8\" >Weighted Avg.</th>\n",
       "      <td id=\"T_c92a7_row8_col0\" class=\"data row8 col0\" >nan%</td>\n",
       "      <td id=\"T_c92a7_row8_col1\" class=\"data row8 col1\" >69.4%</td>\n",
       "      <td id=\"T_c92a7_row8_col2\" class=\"data row8 col2\" >61.9%</td>\n",
       "      <td id=\"T_c92a7_row8_col3\" class=\"data row8 col3\" >93.7%</td>\n",
       "      <td id=\"T_c92a7_row8_col4\" class=\"data row8 col4\" >62.7%</td>\n",
       "    </tr>\n",
       "  </tbody>\n",
       "</table>\n"
      ],
      "text/plain": [
       "<pandas.io.formats.style.Styler at 0x293fd4040>"
      ]
     },
     "execution_count": 12,
     "metadata": {},
     "output_type": "execute_result"
    },
    {
     "data": {
      "image/png": "[encoded data removed]",
      "text/plain": [
       "<Figure size 432x288 with 2 Axes>"
      ]
     },
     "metadata": {
      "needs_background": "light"
     },
     "output_type": "display_data"
    }
   ],
   "source": [
    "# Model 280x210\n",
    "model_ = RF_Model\n",
    "X = input_data_Array[2]\n",
    "Y = labels_Array[2]\n",
    "X = blc_data_arrays\n",
    "Y = blc_label_arrays\n",
    "Y_pred = model_.predict(X)\n",
    "Y_binary =  label_to_binary(Y)\n",
    "Y_pred_binary =  label_to_binary(Y_pred)\n",
    "results = model_evaluation(Y,Y_pred)\n",
    "# results = model_evaluation(Y_binary,Y_pred_binary)\n",
    "results"
   ]
  },
  {
   "cell_type": "markdown",
   "metadata": {},
   "source": [
    "# **SVM**"
   ]
  },
  {
   "cell_type": "code",
   "execution_count": 70,
   "metadata": {},
   "outputs": [
    {
     "name": "stderr",
     "output_type": "stream",
     "text": [
      "100%|██████████| 256/256 [00:32<00:00,  7.91it/s]\n"
     ]
    },
    {
     "name": "stdout",
     "output_type": "stream",
     "text": [
      "------- Precision recal %--------\n",
      "              precision    recall  f1-score   support\n",
      "\n",
      "           0       0.54      0.57      0.55        23\n",
      "           1       0.62      0.75      0.68        32\n",
      "           2       0.60      0.62      0.61        72\n",
      "           3       0.67      0.50      0.57         8\n",
      "           4       0.44      0.40      0.42        62\n",
      "           5       0.87      0.85      0.86       200\n",
      "           6       0.82      0.90      0.86        10\n",
      "\n",
      "    accuracy                           0.71       407\n",
      "   macro avg       0.65      0.66      0.65       407\n",
      "weighted avg       0.71      0.71      0.71       407\n",
      "\n"
     ]
    }
   ],
   "source": [
    "Model_ = sk.svm.SVC(random_state=0)\n",
    "K_Folds = sk.model_selection.KFold(n_splits=10, shuffle=True)\n",
    "\n",
    "kfold_per_param_search = False\n",
    "\n",
    "grid = { \n",
    "    'C' : [2,5,8,10]\n",
    "    ,'kernel': ['rbf', 'linear'],\n",
    "    'degree' : [1,2,3,7],\n",
    "    'gamma' :['scale', 'auto'],\n",
    "    'decision_function_shape': ['ovo', 'ovr'],\n",
    "    'class_weight' : [None, 'balanced']\n",
    "}\n",
    "\n",
    "# grid = { \n",
    "#     'C' : [5]\n",
    "#     ,'kernel': ['rbf', 'linear'],\n",
    "#     'degree' : [3],\n",
    "#     'gamma' :['scale', 'auto'],\n",
    "#     'decision_function_shape': ['ovo', 'ovr'],\n",
    "#     'class_weight' : [None, 'balanced']\n",
    "# }\n",
    "\n",
    "test_scores = []\n",
    "Param_Details = pd.DataFrame(columns=['hyper_param','test_accuracy','test_fscore','test_precision','test_recall'])\n",
    "\n",
    "training_data = input_data_Array[0]\n",
    "training_label = labels_Array[0]\n",
    "x_test = input_data_Array[2]\n",
    "y_test = labels_Array[2]\n",
    "\n",
    "pbar = tqdm (sk.model_selection.ParameterGrid(grid))\n",
    "for g in pbar:\n",
    "\n",
    "    test_accuracy = []\n",
    "    test_fscore = []\n",
    "    test_precision = []\n",
    "    test_recall = []\n",
    "\n",
    "    if kfold_per_param_search:\n",
    "\n",
    "        for fold, (train_index, test_index) in enumerate(K_Folds.split(training_data[2],training_label[2])):\n",
    "            x_train_ = training_data[2][train_index]\n",
    "            y_train_ = training_label[2][train_index]\n",
    "            x_test_ = training_data[2][test_index]\n",
    "            y_test_ = training_label[2][test_index]\n",
    "            \n",
    "            Model_.set_params(**g)\n",
    "            Model_.fit(x_train_, y_train_)\n",
    "            Y_pred = Model_.predict(x_test_)\n",
    "            Y = y_test_\n",
    "\n",
    "            precision_, recall_, fscore_, m = sk.metrics.precision_recall_fscore_support(Y_pred,Y , average = 'weighted')\n",
    "            acc_ = sk.metrics.accuracy_score(Y_pred,Y )\n",
    "            test_accuracy.append(acc_)\n",
    "            test_fscore.append(fscore_)\n",
    "            test_precision.append(precision_)\n",
    "            test_recall.append(recall_)\n",
    "            new_row = pd.Series({'hyper_param':g,'test_accuracy':test_accuracy,'test_fscore':test_fscore,'test_precision':test_precision,'test_recall':test_recall}, name='')\n",
    "            Param_Details = Param_Details.append(new_row)\n",
    "    else:\n",
    "            x_train_ = training_data\n",
    "            y_train_ = training_label\n",
    "            x_test_ = x_test\n",
    "            y_test_ = y_test\n",
    "            \n",
    "            Model_.set_params(**g)\n",
    "            Model_.fit(x_train_, y_train_)\n",
    "            Y_pred = Model_.predict(x_test_)\n",
    "            Y = y_test_\n",
    "\n",
    "            precision_, recall_, fscore_, m = sk.metrics.precision_recall_fscore_support(Y_pred,Y , average = 'weighted')\n",
    "            acc_ = sk.metrics.accuracy_score(Y_pred,Y )\n",
    "            test_accuracy.append(acc_)\n",
    "            test_fscore.append(fscore_)\n",
    "            test_precision.append(precision_)\n",
    "            test_recall.append(recall_)\n",
    "            new_row = pd.Series({'hyper_param':g,'test_accuracy':test_accuracy,'test_fscore':test_fscore,'test_precision':test_precision,'test_recall':test_recall}, name='')\n",
    "            Param_Details = Param_Details.append(new_row)\n",
    "\n",
    "Param_Details['test_accuracy_avg'] = Param_Details.apply(lambda x: mean(x.test_accuracy),axis=1)\n",
    "Param_Details['test_fscore_avg'] = Param_Details.apply(lambda x: mean(x.test_fscore),axis=1)\n",
    "Param_Details['test_precision_avg'] = Param_Details.apply(lambda x: mean(x.test_precision),axis=1)\n",
    "Param_Details['test_recall_avg'] = Param_Details.apply(lambda x: mean(x.test_recall),axis=1)\n",
    "Param_Details['test_accuracy_max'] = Param_Details.test_accuracy.apply(max)\n",
    "Param_Details['test_fscore_max'] = Param_Details.test_fscore.apply(max)\n",
    "Param_Details['test_precision_max'] = Param_Details.test_precision.apply(max)\n",
    "Param_Details['test_recall_max'] = Param_Details.test_recall.apply(max)\n",
    "\n",
    "best_one = np.argmax(Param_Details.test_accuracy_avg)\n",
    "best_param = Param_Details.iloc[best_one]['hyper_param']\n",
    "SVM_Model = Model_.set_params(**best_param)\n",
    "SVM_Model.fit(training_data, training_label)\n",
    "Y_pred = SVM_Model.predict(x_test)\n",
    "SVM_param_details = Param_Details\n",
    "SVM_param_details['hyper_param'] = SVM_param_details['hyper_param'].apply(lambda x: json.dumps(x))\n",
    "print('------- Precision recal %--------')\n",
    "print(sk.metrics.classification_report(y_test,Y_pred))"
   ]
  },
  {
   "cell_type": "code",
   "execution_count": 222,
   "metadata": {},
   "outputs": [
    {
     "name": "stdout",
     "output_type": "stream",
     "text": [
      "Nr. of Data : \n",
      " 407\n",
      "Accuracy of The Model : \n",
      " 0.8058968058968059\n"
     ]
    },
    {
     "data": {
      "text/html": [
       "<style type=\"text/css\">\n",
       "</style>\n",
       "<table id=\"T_375e9\">\n",
       "  <thead>\n",
       "    <tr>\n",
       "      <th class=\"blank level0\" >&nbsp;</th>\n",
       "      <th id=\"T_375e9_level0_col0\" class=\"col_heading level0 col0\" >weights</th>\n",
       "      <th id=\"T_375e9_level0_col1\" class=\"col_heading level0 col1\" >Precision</th>\n",
       "      <th id=\"T_375e9_level0_col2\" class=\"col_heading level0 col2\" >Recall_Sensitivity</th>\n",
       "      <th id=\"T_375e9_level0_col3\" class=\"col_heading level0 col3\" >Specificity</th>\n",
       "      <th id=\"T_375e9_level0_col4\" class=\"col_heading level0 col4\" >f1_score</th>\n",
       "    </tr>\n",
       "  </thead>\n",
       "  <tbody>\n",
       "    <tr>\n",
       "      <th id=\"T_375e9_level0_row0\" class=\"row_heading level0 row0\" >0</th>\n",
       "      <td id=\"T_375e9_row0_col0\" class=\"data row0 col0\" >71.3%</td>\n",
       "      <td id=\"T_375e9_row0_col1\" class=\"data row0 col1\" >86.8%</td>\n",
       "      <td id=\"T_375e9_row0_col2\" class=\"data row0 col2\" >85.9%</td>\n",
       "      <td id=\"T_375e9_row0_col3\" class=\"data row0 col3\" >67.5%</td>\n",
       "      <td id=\"T_375e9_row0_col4\" class=\"data row0 col4\" >86.3%</td>\n",
       "    </tr>\n",
       "    <tr>\n",
       "      <th id=\"T_375e9_level0_row1\" class=\"row_heading level0 row1\" >1</th>\n",
       "      <td id=\"T_375e9_row1_col0\" class=\"data row1 col0\" >28.7%</td>\n",
       "      <td id=\"T_375e9_row1_col1\" class=\"data row1 col1\" >65.8%</td>\n",
       "      <td id=\"T_375e9_row1_col2\" class=\"data row1 col2\" >67.5%</td>\n",
       "      <td id=\"T_375e9_row1_col3\" class=\"data row1 col3\" >85.9%</td>\n",
       "      <td id=\"T_375e9_row1_col4\" class=\"data row1 col4\" >66.7%</td>\n",
       "    </tr>\n",
       "    <tr>\n",
       "      <th id=\"T_375e9_level0_row2\" class=\"row_heading level0 row2\" >Simple Avg.</th>\n",
       "      <td id=\"T_375e9_row2_col0\" class=\"data row2 col0\" >nan%</td>\n",
       "      <td id=\"T_375e9_row2_col1\" class=\"data row2 col1\" >76.3%</td>\n",
       "      <td id=\"T_375e9_row2_col2\" class=\"data row2 col2\" >76.7%</td>\n",
       "      <td id=\"T_375e9_row2_col3\" class=\"data row2 col3\" >76.7%</td>\n",
       "      <td id=\"T_375e9_row2_col4\" class=\"data row2 col4\" >76.5%</td>\n",
       "    </tr>\n",
       "    <tr>\n",
       "      <th id=\"T_375e9_level0_row3\" class=\"row_heading level0 row3\" >Weighted Avg.</th>\n",
       "      <td id=\"T_375e9_row3_col0\" class=\"data row3 col0\" >nan%</td>\n",
       "      <td id=\"T_375e9_row3_col1\" class=\"data row3 col1\" >80.7%</td>\n",
       "      <td id=\"T_375e9_row3_col2\" class=\"data row3 col2\" >80.6%</td>\n",
       "      <td id=\"T_375e9_row3_col3\" class=\"data row3 col3\" >72.8%</td>\n",
       "      <td id=\"T_375e9_row3_col4\" class=\"data row3 col4\" >80.7%</td>\n",
       "    </tr>\n",
       "  </tbody>\n",
       "</table>\n"
      ],
      "text/plain": [
       "<pandas.io.formats.style.Styler at 0x28d65df40>"
      ]
     },
     "execution_count": 222,
     "metadata": {},
     "output_type": "execute_result"
    },
    {
     "data": {
      "image/png": "[encoded data removed]",
      "text/plain": [
       "<Figure size 432x288 with 2 Axes>"
      ]
     },
     "metadata": {
      "needs_background": "light"
     },
     "output_type": "display_data"
    }
   ],
   "source": [
    "# Model 280x210\n",
    "model_ = SVM_Model\n",
    "X = input_data_Array[2]\n",
    "Y = labels_Array[2]\n",
    "# X = blc_data_arrays\n",
    "# Y = blc_label_arrays\n",
    "Y_pred = model_.predict(X)\n",
    "# results = model_evaluation(Y,Y_pred)\n",
    "Y_binary =  label_to_binary(Y)\n",
    "Y_pred_binary =  label_to_binary(Y_pred)\n",
    "results = model_evaluation(Y_binary,Y_pred_binary)\n",
    "results"
   ]
  },
  {
   "cell_type": "markdown",
   "metadata": {},
   "source": [
    "# **Guassian NB**"
   ]
  },
  {
   "cell_type": "code",
   "execution_count": 72,
   "metadata": {},
   "outputs": [
    {
     "name": "stderr",
     "output_type": "stream",
     "text": [
      "100%|██████████| 14/14 [00:00<00:00, 114.27it/s]"
     ]
    },
    {
     "name": "stdout",
     "output_type": "stream",
     "text": [
      "------- Precision recal %--------\n",
      "              precision    recall  f1-score   support\n",
      "\n",
      "           0       0.50      0.65      0.57        23\n",
      "           1       0.55      0.69      0.61        32\n",
      "           2       0.60      0.57      0.59        72\n",
      "           3       0.80      0.50      0.62         8\n",
      "           4       0.38      0.66      0.48        62\n",
      "           5       0.96      0.69      0.81       200\n",
      "           6       0.82      0.90      0.86        10\n",
      "\n",
      "    accuracy                           0.67       407\n",
      "   macro avg       0.66      0.67      0.65       407\n",
      "weighted avg       0.74      0.67      0.69       407\n",
      "\n"
     ]
    },
    {
     "name": "stderr",
     "output_type": "stream",
     "text": [
      "\n"
     ]
    }
   ],
   "source": [
    "Model_ = sk.naive_bayes.GaussianNB()\n",
    "K_Folds = sk.model_selection.KFold(n_splits=10, shuffle=True)\n",
    "\n",
    "kfold_per_param_search = False\n",
    "\n",
    "grid = { \n",
    "    'priors': [None],\n",
    "    'var_smoothing': [1e-2, 1e-3, 1e-4, 1e-5, 1e-6, 1e-7, 1e-8, 1e-9, 1e-10, 1e-11, 1e-12, 1e-13, 1e-14, 1e-15]\n",
    "}\n",
    "\n",
    "test_scores = []\n",
    "Param_Details = pd.DataFrame(columns=['hyper_param','test_accuracy','test_fscore','test_precision','test_recall'])\n",
    "\n",
    "training_data = input_data_Array[0]\n",
    "training_label = labels_Array[0]\n",
    "x_test = input_data_Array[2]\n",
    "y_test = labels_Array[2]\n",
    "\n",
    "pbar = tqdm (sk.model_selection.ParameterGrid(grid))\n",
    "for g in pbar:\n",
    "\n",
    "    test_accuracy = []\n",
    "    test_fscore = []\n",
    "    test_precision = []\n",
    "    test_recall = []\n",
    "\n",
    "    if kfold_per_param_search:\n",
    "\n",
    "        for fold, (train_index, test_index) in enumerate(K_Folds.split(training_data[2],training_label[2])):\n",
    "            x_train_ = training_data[2][train_index]\n",
    "            y_train_ = training_label[2][train_index]\n",
    "            x_test_ = training_data[2][test_index]\n",
    "            y_test_ = training_label[2][test_index]\n",
    "            \n",
    "            Model_.set_params(**g)\n",
    "            Model_.fit(x_train_, y_train_)\n",
    "            Y_pred = Model_.predict(x_test_)\n",
    "            Y = y_test_\n",
    "\n",
    "            precision_, recall_, fscore_, m = sk.metrics.precision_recall_fscore_support(Y_pred,Y , average = 'weighted')\n",
    "            acc_ = sk.metrics.accuracy_score(Y_pred,Y )\n",
    "            test_accuracy.append(acc_)\n",
    "            test_fscore.append(fscore_)\n",
    "            test_precision.append(precision_)\n",
    "            test_recall.append(recall_)\n",
    "            new_row = pd.Series({'hyper_param':g,'test_accuracy':test_accuracy,'test_fscore':test_fscore,'test_precision':test_precision,'test_recall':test_recall}, name='')\n",
    "            Param_Details = Param_Details.append(new_row)\n",
    "    else:\n",
    "            x_train_ = training_data\n",
    "            y_train_ = training_label\n",
    "            x_test_ = x_test\n",
    "            y_test_ = y_test\n",
    "            \n",
    "            Model_.set_params(**g)\n",
    "            Model_.fit(x_train_, y_train_)\n",
    "            Y_pred = Model_.predict(x_test_)\n",
    "            Y = y_test_\n",
    "\n",
    "            precision_, recall_, fscore_, m = sk.metrics.precision_recall_fscore_support(Y_pred,Y , average = 'weighted')\n",
    "            acc_ = sk.metrics.accuracy_score(Y_pred,Y )\n",
    "            test_accuracy.append(acc_)\n",
    "            test_fscore.append(fscore_)\n",
    "            test_precision.append(precision_)\n",
    "            test_recall.append(recall_)\n",
    "            new_row = pd.Series({'hyper_param':g,'test_accuracy':test_accuracy,'test_fscore':test_fscore,'test_precision':test_precision,'test_recall':test_recall}, name='')\n",
    "            Param_Details = Param_Details.append(new_row)\n",
    "\n",
    "Param_Details['test_accuracy_avg'] = Param_Details.apply(lambda x: mean(x.test_accuracy),axis=1)\n",
    "Param_Details['test_fscore_avg'] = Param_Details.apply(lambda x: mean(x.test_fscore),axis=1)\n",
    "Param_Details['test_precision_avg'] = Param_Details.apply(lambda x: mean(x.test_precision),axis=1)\n",
    "Param_Details['test_recall_avg'] = Param_Details.apply(lambda x: mean(x.test_recall),axis=1)\n",
    "Param_Details['test_accuracy_max'] = Param_Details.test_accuracy.apply(max)\n",
    "Param_Details['test_fscore_max'] = Param_Details.test_fscore.apply(max)\n",
    "Param_Details['test_precision_max'] = Param_Details.test_precision.apply(max)\n",
    "Param_Details['test_recall_max'] = Param_Details.test_recall.apply(max)\n",
    "best_one = np.argmax(Param_Details.test_fscore_avg)\n",
    "best_param = Param_Details.iloc[best_one]['hyper_param']\n",
    "\n",
    "GB_Model = Model_.set_params(**best_param)\n",
    "GB_Model.fit(training_data, training_label)\n",
    "Y_pred = GB_Model.predict(x_test)\n",
    "\n",
    "GB_param_details = Param_Details\n",
    "GB_param_details['hyper_param'] = GB_param_details['hyper_param'].apply(lambda x: json.dumps(x))\n",
    "print('------- Precision recal %--------')\n",
    "print(sk.metrics.classification_report(y_test,Y_pred))"
   ]
  },
  {
   "cell_type": "code",
   "execution_count": 223,
   "metadata": {},
   "outputs": [
    {
     "name": "stdout",
     "output_type": "stream",
     "text": [
      "Nr. of Data : \n",
      " 407\n",
      "Accuracy of The Model : \n",
      " 0.7764127764127764\n"
     ]
    },
    {
     "data": {
      "text/html": [
       "<style type=\"text/css\">\n",
       "</style>\n",
       "<table id=\"T_af1c7\">\n",
       "  <thead>\n",
       "    <tr>\n",
       "      <th class=\"blank level0\" >&nbsp;</th>\n",
       "      <th id=\"T_af1c7_level0_col0\" class=\"col_heading level0 col0\" >weights</th>\n",
       "      <th id=\"T_af1c7_level0_col1\" class=\"col_heading level0 col1\" >Precision</th>\n",
       "      <th id=\"T_af1c7_level0_col2\" class=\"col_heading level0 col2\" >Recall_Sensitivity</th>\n",
       "      <th id=\"T_af1c7_level0_col3\" class=\"col_heading level0 col3\" >Specificity</th>\n",
       "      <th id=\"T_af1c7_level0_col4\" class=\"col_heading level0 col4\" >f1_score</th>\n",
       "    </tr>\n",
       "  </thead>\n",
       "  <tbody>\n",
       "    <tr>\n",
       "      <th id=\"T_af1c7_level0_row0\" class=\"row_heading level0 row0\" >0</th>\n",
       "      <td id=\"T_af1c7_row0_col0\" class=\"data row0 col0\" >71.3%</td>\n",
       "      <td id=\"T_af1c7_row0_col1\" class=\"data row0 col1\" >93.4%</td>\n",
       "      <td id=\"T_af1c7_row0_col2\" class=\"data row0 col2\" >73.8%</td>\n",
       "      <td id=\"T_af1c7_row0_col3\" class=\"data row0 col3\" >87.2%</td>\n",
       "      <td id=\"T_af1c7_row0_col4\" class=\"data row0 col4\" >82.5%</td>\n",
       "    </tr>\n",
       "    <tr>\n",
       "      <th id=\"T_af1c7_level0_row1\" class=\"row_heading level0 row1\" >1</th>\n",
       "      <td id=\"T_af1c7_row1_col0\" class=\"data row1 col0\" >28.7%</td>\n",
       "      <td id=\"T_af1c7_row1_col1\" class=\"data row1 col1\" >57.3%</td>\n",
       "      <td id=\"T_af1c7_row1_col2\" class=\"data row1 col2\" >87.2%</td>\n",
       "      <td id=\"T_af1c7_row1_col3\" class=\"data row1 col3\" >73.8%</td>\n",
       "      <td id=\"T_af1c7_row1_col4\" class=\"data row1 col4\" >69.2%</td>\n",
       "    </tr>\n",
       "    <tr>\n",
       "      <th id=\"T_af1c7_level0_row2\" class=\"row_heading level0 row2\" >Simple Avg.</th>\n",
       "      <td id=\"T_af1c7_row2_col0\" class=\"data row2 col0\" >nan%</td>\n",
       "      <td id=\"T_af1c7_row2_col1\" class=\"data row2 col1\" >75.4%</td>\n",
       "      <td id=\"T_af1c7_row2_col2\" class=\"data row2 col2\" >80.5%</td>\n",
       "      <td id=\"T_af1c7_row2_col3\" class=\"data row2 col3\" >80.5%</td>\n",
       "      <td id=\"T_af1c7_row2_col4\" class=\"data row2 col4\" >75.8%</td>\n",
       "    </tr>\n",
       "    <tr>\n",
       "      <th id=\"T_af1c7_level0_row3\" class=\"row_heading level0 row3\" >Weighted Avg.</th>\n",
       "      <td id=\"T_af1c7_row3_col0\" class=\"data row3 col0\" >nan%</td>\n",
       "      <td id=\"T_af1c7_row3_col1\" class=\"data row3 col1\" >83.1%</td>\n",
       "      <td id=\"T_af1c7_row3_col2\" class=\"data row3 col2\" >77.6%</td>\n",
       "      <td id=\"T_af1c7_row3_col3\" class=\"data row3 col3\" >83.3%</td>\n",
       "      <td id=\"T_af1c7_row3_col4\" class=\"data row3 col4\" >78.6%</td>\n",
       "    </tr>\n",
       "  </tbody>\n",
       "</table>\n"
      ],
      "text/plain": [
       "<pandas.io.formats.style.Styler at 0x28d7af970>"
      ]
     },
     "execution_count": 223,
     "metadata": {},
     "output_type": "execute_result"
    },
    {
     "data": {
      "image/png": "[encoded data removed]",
      "text/plain": [
       "<Figure size 432x288 with 2 Axes>"
      ]
     },
     "metadata": {
      "needs_background": "light"
     },
     "output_type": "display_data"
    }
   ],
   "source": [
    "# Model 280x210\n",
    "model_ = GB_Model\n",
    "X = input_data_Array[2]\n",
    "Y = labels_Array[2]\n",
    "# X = blc_data_arrays\n",
    "# Y = blc_label_arrays\n",
    "Y_pred = model_.predict(X)\n",
    "# results = model_evaluation(Y,Y_pred)\n",
    "\n",
    "Y_binary =  label_to_binary(Y)\n",
    "Y_pred_binary =  label_to_binary(Y_pred)\n",
    "results = model_evaluation(Y_binary,Y_pred_binary)\n",
    "results"
   ]
  },
  {
   "cell_type": "markdown",
   "metadata": {},
   "source": [
    "# **Decision Tree**"
   ]
  },
  {
   "cell_type": "code",
   "execution_count": 81,
   "metadata": {},
   "outputs": [
    {
     "name": "stderr",
     "output_type": "stream",
     "text": [
      "100%|██████████| 1080/1080 [00:08<00:00, 131.81it/s]"
     ]
    },
    {
     "name": "stdout",
     "output_type": "stream",
     "text": [
      "------- Precision recal %--------\n",
      "              precision    recall  f1-score   support\n",
      "\n",
      "           0       0.57      0.57      0.57        23\n",
      "           1       0.50      0.75      0.60        32\n",
      "           2       0.54      0.64      0.59        72\n",
      "           3       0.80      0.50      0.62         8\n",
      "           4       0.54      0.42      0.47        62\n",
      "           5       0.87      0.82      0.85       200\n",
      "           6       0.60      0.60      0.60        10\n",
      "\n",
      "    accuracy                           0.70       407\n",
      "   macro avg       0.63      0.61      0.61       407\n",
      "weighted avg       0.71      0.70      0.70       407\n",
      "\n"
     ]
    },
    {
     "name": "stderr",
     "output_type": "stream",
     "text": [
      "\n"
     ]
    }
   ],
   "source": [
    "Model_ = sk.tree.DecisionTreeClassifier(random_state=0)\n",
    "K_Folds = sk.model_selection.KFold(n_splits=10, shuffle=True)\n",
    "\n",
    "kfold_per_param_search = False\n",
    "\n",
    "grid = { \n",
    "    'criterion' : ['gini', 'entropy','log_loss'],\n",
    "    'max_depth' : [10,12,15,25,40],\n",
    "    'max_features': ['auto', 'log2','sqrt'],\n",
    "    'max_leaf_nodes' : [4,5,8,None],\n",
    "    'class_weight' : [None, 'balanced'],\n",
    "    'ccp_alpha' : [0.001,0.002,0.004]\n",
    "}\n",
    "\n",
    "test_scores = []\n",
    "Param_Details = pd.DataFrame(columns=['hyper_param','test_accuracy','test_fscore','test_precision','test_recall'])\n",
    "\n",
    "training_data = input_data_Array[0]\n",
    "training_label = labels_Array[0]\n",
    "x_test = input_data_Array[2]\n",
    "y_test = labels_Array[2]\n",
    "\n",
    "pbar = tqdm (sk.model_selection.ParameterGrid(grid))\n",
    "for g in pbar:\n",
    "\n",
    "    test_accuracy = []\n",
    "    test_fscore = []\n",
    "    test_precision = []\n",
    "    test_recall = []\n",
    "\n",
    "    if kfold_per_param_search:\n",
    "\n",
    "        for fold, (train_index, test_index) in enumerate(K_Folds.split(training_data[2],training_label[2])):\n",
    "            x_train_ = training_data[2][train_index]\n",
    "            y_train_ = training_label[2][train_index]\n",
    "            x_test_ = training_data[2][test_index]\n",
    "            y_test_ = training_label[2][test_index]\n",
    "            \n",
    "            Model_.set_params(**g)\n",
    "            Model_.fit(x_train_, y_train_)\n",
    "            Y_pred = Model_.predict(x_test_)\n",
    "            Y = y_test_\n",
    "\n",
    "            precision_, recall_, fscore_, m = sk.metrics.precision_recall_fscore_support(Y_pred,Y , average = 'weighted')\n",
    "            acc_ = sk.metrics.accuracy_score(Y_pred,Y )\n",
    "            test_accuracy.append(acc_)\n",
    "            test_fscore.append(fscore_)\n",
    "            test_precision.append(precision_)\n",
    "            test_recall.append(recall_)\n",
    "            new_row = pd.Series({'hyper_param':g,'test_accuracy':test_accuracy,'test_fscore':test_fscore,'test_precision':test_precision,'test_recall':test_recall}, name='')\n",
    "            Param_Details = Param_Details.append(new_row)\n",
    "    else:\n",
    "            x_train_ = training_data\n",
    "            y_train_ = training_label\n",
    "            x_test_ = x_test\n",
    "            y_test_ = y_test\n",
    "            \n",
    "            Model_.set_params(**g)\n",
    "            Model_.fit(x_train_, y_train_)\n",
    "            Y_pred = Model_.predict(x_test_)\n",
    "            Y = y_test_\n",
    "\n",
    "            precision_, recall_, fscore_, m = sk.metrics.precision_recall_fscore_support(Y_pred,Y , average = 'weighted')\n",
    "            acc_ = sk.metrics.accuracy_score(Y_pred,Y )\n",
    "            test_accuracy.append(acc_)\n",
    "            test_fscore.append(fscore_)\n",
    "            test_precision.append(precision_)\n",
    "            test_recall.append(recall_)\n",
    "            new_row = pd.Series({'hyper_param':g,'test_accuracy':test_accuracy,'test_fscore':test_fscore,'test_precision':test_precision,'test_recall':test_recall}, name='')\n",
    "            Param_Details = Param_Details.append(new_row)\n",
    "\n",
    "Param_Details['test_accuracy_avg'] = Param_Details.apply(lambda x: mean(x.test_accuracy),axis=1)\n",
    "Param_Details['test_fscore_avg'] = Param_Details.apply(lambda x: mean(x.test_fscore),axis=1)\n",
    "Param_Details['test_precision_avg'] = Param_Details.apply(lambda x: mean(x.test_precision),axis=1)\n",
    "Param_Details['test_recall_avg'] = Param_Details.apply(lambda x: mean(x.test_recall),axis=1)\n",
    "Param_Details['test_accuracy_max'] = Param_Details.test_accuracy.apply(max)\n",
    "Param_Details['test_fscore_max'] = Param_Details.test_fscore.apply(max)\n",
    "Param_Details['test_precision_max'] = Param_Details.test_precision.apply(max)\n",
    "Param_Details['test_recall_max'] = Param_Details.test_recall.apply(max)\n",
    "\n",
    "best_one = np.argmax(Param_Details.test_accuracy_avg)\n",
    "best_param = Param_Details.iloc[best_one]['hyper_param']\n",
    "\n",
    "DT_Model = Model_.set_params(**best_param)\n",
    "DT_Model.fit(training_data, training_label)\n",
    "Y_pred = DT_Model.predict(x_test)\n",
    "DT_param_details = Param_Details\n",
    "DT_param_details['hyper_param'] = DT_param_details['hyper_param'].apply(lambda x: json.dumps(x))\n",
    "print('------- Precision recal %--------')\n",
    "print(sk.metrics.classification_report(y_test,Y_pred))"
   ]
  },
  {
   "cell_type": "code",
   "execution_count": 224,
   "metadata": {},
   "outputs": [
    {
     "name": "stdout",
     "output_type": "stream",
     "text": [
      "Nr. of Data : \n",
      " 407\n",
      "Accuracy of The Model : \n",
      " 0.8181818181818182\n"
     ]
    },
    {
     "data": {
      "text/html": [
       "<style type=\"text/css\">\n",
       "</style>\n",
       "<table id=\"T_e96b4\">\n",
       "  <thead>\n",
       "    <tr>\n",
       "      <th class=\"blank level0\" >&nbsp;</th>\n",
       "      <th id=\"T_e96b4_level0_col0\" class=\"col_heading level0 col0\" >weights</th>\n",
       "      <th id=\"T_e96b4_level0_col1\" class=\"col_heading level0 col1\" >Precision</th>\n",
       "      <th id=\"T_e96b4_level0_col2\" class=\"col_heading level0 col2\" >Recall_Sensitivity</th>\n",
       "      <th id=\"T_e96b4_level0_col3\" class=\"col_heading level0 col3\" >Specificity</th>\n",
       "      <th id=\"T_e96b4_level0_col4\" class=\"col_heading level0 col4\" >f1_score</th>\n",
       "    </tr>\n",
       "  </thead>\n",
       "  <tbody>\n",
       "    <tr>\n",
       "      <th id=\"T_e96b4_level0_row0\" class=\"row_heading level0 row0\" >0</th>\n",
       "      <td id=\"T_e96b4_row0_col0\" class=\"data row0 col0\" >71.3%</td>\n",
       "      <td id=\"T_e96b4_row0_col1\" class=\"data row0 col1\" >87.5%</td>\n",
       "      <td id=\"T_e96b4_row0_col2\" class=\"data row0 col2\" >86.9%</td>\n",
       "      <td id=\"T_e96b4_row0_col3\" class=\"data row0 col3\" >69.2%</td>\n",
       "      <td id=\"T_e96b4_row0_col4\" class=\"data row0 col4\" >87.2%</td>\n",
       "    </tr>\n",
       "    <tr>\n",
       "      <th id=\"T_e96b4_level0_row1\" class=\"row_heading level0 row1\" >1</th>\n",
       "      <td id=\"T_e96b4_row1_col0\" class=\"data row1 col0\" >28.7%</td>\n",
       "      <td id=\"T_e96b4_row1_col1\" class=\"data row1 col1\" >68.1%</td>\n",
       "      <td id=\"T_e96b4_row1_col2\" class=\"data row1 col2\" >69.2%</td>\n",
       "      <td id=\"T_e96b4_row1_col3\" class=\"data row1 col3\" >86.9%</td>\n",
       "      <td id=\"T_e96b4_row1_col4\" class=\"data row1 col4\" >68.6%</td>\n",
       "    </tr>\n",
       "    <tr>\n",
       "      <th id=\"T_e96b4_level0_row2\" class=\"row_heading level0 row2\" >Simple Avg.</th>\n",
       "      <td id=\"T_e96b4_row2_col0\" class=\"data row2 col0\" >nan%</td>\n",
       "      <td id=\"T_e96b4_row2_col1\" class=\"data row2 col1\" >77.8%</td>\n",
       "      <td id=\"T_e96b4_row2_col2\" class=\"data row2 col2\" >78.1%</td>\n",
       "      <td id=\"T_e96b4_row2_col3\" class=\"data row2 col3\" >78.1%</td>\n",
       "      <td id=\"T_e96b4_row2_col4\" class=\"data row2 col4\" >77.9%</td>\n",
       "    </tr>\n",
       "    <tr>\n",
       "      <th id=\"T_e96b4_level0_row3\" class=\"row_heading level0 row3\" >Weighted Avg.</th>\n",
       "      <td id=\"T_e96b4_row3_col0\" class=\"data row3 col0\" >nan%</td>\n",
       "      <td id=\"T_e96b4_row3_col1\" class=\"data row3 col1\" >81.9%</td>\n",
       "      <td id=\"T_e96b4_row3_col2\" class=\"data row3 col2\" >81.8%</td>\n",
       "      <td id=\"T_e96b4_row3_col3\" class=\"data row3 col3\" >74.3%</td>\n",
       "      <td id=\"T_e96b4_row3_col4\" class=\"data row3 col4\" >81.9%</td>\n",
       "    </tr>\n",
       "  </tbody>\n",
       "</table>\n"
      ],
      "text/plain": [
       "<pandas.io.formats.style.Styler at 0x28c5f0bb0>"
      ]
     },
     "execution_count": 224,
     "metadata": {},
     "output_type": "execute_result"
    },
    {
     "data": {
      "image/png": "[encoded data removed]",
      "text/plain": [
       "<Figure size 432x288 with 2 Axes>"
      ]
     },
     "metadata": {
      "needs_background": "light"
     },
     "output_type": "display_data"
    }
   ],
   "source": [
    "# Model 280x210\n",
    "model_ = DT_Model\n",
    "X = input_data_Array[2]\n",
    "Y = labels_Array[2]\n",
    "# X = blc_data_arrays\n",
    "# Y = blc_label_arrays\n",
    "Y_pred = model_.predict(X)\n",
    "# results = model_evaluation(Y,Y_pred)\n",
    "\n",
    "Y_binary =  label_to_binary(Y)\n",
    "Y_pred_binary =  label_to_binary(Y_pred)\n",
    "results = model_evaluation(Y_binary,Y_pred_binary)\n",
    "\n",
    "results"
   ]
  },
  {
   "cell_type": "markdown",
   "metadata": {},
   "source": [
    "# **MLP**"
   ]
  },
  {
   "cell_type": "code",
   "execution_count": 131,
   "id": "9cbadb2d",
   "metadata": {},
   "outputs": [],
   "source": [
    "class Model_Training2:\n",
    "\n",
    "    def __init__(self, Net, LR, batch_size , Momentum, epochs, weight_decay, loss_func, opt_func, X_train, Y_train, X_valid, Y_valid, print_epochs):    \n",
    "        \n",
    "        self.model = Net()\n",
    "        \n",
    "        if opt_func is torch.optim.Adam:\n",
    "            self.opt = opt_func(self.model.parameters(), lr=LR, weight_decay=weight_decay)\n",
    "        else:\n",
    "            self.opt = opt_func(self.model.parameters(), lr=LR,momentum=Momentum, weight_decay=weight_decay)\n",
    "\n",
    "        \n",
    "        self.loss_func = loss_func()\n",
    "        # self.opt = optimizer\n",
    "        self.epochs = epochs\n",
    "        self.X_train = X_train\n",
    "        self.Y_train = Y_train\n",
    "        self.X_valid = X_valid\n",
    "        self.Y_valid = Y_valid\n",
    "        self.batch_size = batch_size\n",
    "        self.Epochs_Train_loss = []\n",
    "        self.Epochs_Train_Acc = []\n",
    "        self.Epochs_Val_loss = []\n",
    "        self.Epochs_Val_Acc = []   \n",
    "        self.print_epochs = print_epochs\n",
    "\n",
    "    def train(self):\n",
    "        \n",
    "    \n",
    "        model = self.model\n",
    "        loss_func = self.loss_func \n",
    "        opt = self.opt \n",
    "        batch_size = self.batch_size\n",
    "        nr_of_steps_train =  self.X_train.shape[0]//self.batch_size \n",
    "        nr_of_steps_valid =  self.X_valid.shape[0]//self.batch_size \n",
    "\n",
    "        for epoch in range(0,self.epochs):\n",
    "            start_time=time.time()\n",
    "            steps_train_loss = []\n",
    "            steps_train_Acc = []\n",
    "            steps_val_loss = []\n",
    "            steps_val_Acc = []\n",
    "            train_epoch_loss = 0.0\n",
    "\n",
    "            for i in range(1, nr_of_steps_train):\n",
    "                \n",
    "                X = self.X_train[i* batch_size:(i+1) * batch_size]\n",
    "                Y = self.Y_train[i * batch_size:(i+1) * batch_size]\n",
    "                # Reset gradients\n",
    "                opt.zero_grad()\n",
    "                model.train()\n",
    "                # Forward pass\n",
    "                y_pred = model.forward(X)\n",
    "                # Loss calculation\n",
    "\n",
    "                # print('Y shape: ',Y.shape)\n",
    "                # print('y_pred shape: ',y_pred.shape)\n",
    "                loss = loss_func(y_pred, Y.argmax(dim=1))\n",
    "                # loss = loss_func(y_pred.argmax(dim=1), Y.argmax(dim=1))\n",
    "                # loss = loss_func(y_pred, Y)\n",
    "                # Backward pass\n",
    "                loss.backward()\n",
    "                opt.step()\n",
    "                nr_of_corrects = (y_pred.argmax(dim=1) == Y.argmax(dim=1)).sum().item()\n",
    "\n",
    "                step_acc = nr_of_corrects / batch_size\n",
    "                steps_train_Acc.append(step_acc)\n",
    "                steps_train_loss.append(loss.item())\n",
    "            \n",
    "            # Epochs validation \n",
    "            for j in range(0,nr_of_steps_valid):\n",
    "                val_X = self.X_valid[j*batch_size:(j+1)*batch_size]\n",
    "                val_Y = self.Y_valid[j*batch_size:(j+1)*batch_size]\n",
    "                model.eval()\n",
    "                val_outputs = model.forward(val_X)\n",
    "                val_epoch_loss = loss_func(val_outputs, val_Y.argmax(dim=1))\n",
    "                nr_of_corrects = (val_outputs.argmax(dim=1) == val_Y.argmax(dim=1)).sum().item()\n",
    "                step_acc = nr_of_corrects / batch_size\n",
    "                steps_val_Acc.append(step_acc)\n",
    "                steps_val_loss.append(val_epoch_loss.item())\n",
    "\n",
    "            # Epoch Performance Metrics\n",
    "            train_epoch_loss = mean(steps_train_loss)\n",
    "            train_epoch_Acc = mean(steps_train_Acc)\n",
    "            self.Epochs_Train_loss.append(train_epoch_loss)\n",
    "            self.Epochs_Train_Acc.append(train_epoch_Acc)   \n",
    "            val_epoch_loss = mean(steps_val_loss)\n",
    "            val_epoch_Acc = mean(steps_val_Acc)\n",
    "            self.Epochs_Val_loss.append(val_epoch_loss)\n",
    "            self.Epochs_Val_Acc.append(val_epoch_Acc)\n",
    "            End_time = time.time()   \n",
    "            if self.print_epochs:\n",
    "                print('[Epoch: {}]  , Train_loss: {:.1f} , Train_Acc: {:.1%}, Val_loss: {:.1f} , Val_Acc: {:.1%} , run time: {}'\n",
    "                .format(epoch , train_epoch_loss , train_epoch_Acc , val_epoch_loss , val_epoch_Acc, np.round(End_time - start_time, 2)))"
   ]
  },
  {
   "cell_type": "code",
   "execution_count": 132,
   "metadata": {},
   "outputs": [
    {
     "data": {
      "text/plain": [
       "torch.Size([100, 7])"
      ]
     },
     "execution_count": 132,
     "metadata": {},
     "output_type": "execute_result"
    }
   ],
   "source": [
    "model_test = MLP_Nets.Net2()\n",
    "X_ = input_data_Tensor[2][:100]\n",
    "Y = labels_OneHot_Tensor[2][:100]\n",
    "y_pred = model_test(X_)\n",
    "y_pred.shape"
   ]
  },
  {
   "cell_type": "code",
   "execution_count": 149,
   "metadata": {},
   "outputs": [],
   "source": [
    "Net = [ MLP_Nets.Net1]\n",
    "LR = [0.0022, 0.003]\n",
    "batch_size = [ 16,24]\n",
    "Momentum = [0.55,0.9]\n",
    "epochs = [400]\n",
    "weight_decay = [0, 0.000001]\n",
    "loss_func  =  [nn.CrossEntropyLoss]\n",
    "opt_func = [torch.optim.SGD, ]\n",
    "\n",
    "X_train = input_data_Tensor[0]\n",
    "Y_train = labels_OneHot_Tensor[0]\n",
    "X_valid = input_data_Tensor[1]\n",
    "Y_valid = labels_OneHot_Tensor[1]\n",
    "X_test = input_data_Tensor[2]\n",
    "Y_test = labels_OneHot_Tensor[2]\n",
    "\n",
    "grid = {\n",
    "    'Net' : Net\n",
    "    ,'LR' : LR\n",
    "    ,'batch_size' : batch_size\n",
    "    ,'Momentum' : Momentum\n",
    "    ,'epochs' : epochs\n",
    "    ,'weight_decay' :weight_decay\n",
    "    ,'loss_func'  :loss_func\n",
    "    ,'opt_func' : opt_func\n",
    "}\n",
    "params = sk.model_selection.ParameterGrid(grid)"
   ]
  },
  {
   "cell_type": "code",
   "execution_count": 150,
   "metadata": {},
   "outputs": [
    {
     "name": "stderr",
     "output_type": "stream",
     "text": [
      "Max_Train_Acc: 94.4%, Max_Valid_Acc: 76.9%, Max_Test_Acc: 71.3% : 100%|██████████| 16/16 [04:52<00:00, 18.25s/it, Train_Acc: 93.3% , Valide_Acc: 74.2% , Test_Acc: 70.5%]\n"
     ]
    }
   ],
   "source": [
    "print_epochs = False\n",
    "\n",
    "Param_Details = pd.DataFrame(columns=['hyper_param','train_accuracy','valid_accuracy','test_accuracy','train_fscore','valid_fscore','test_fscore','train_precision','valid_precision','test_precision'\n",
    "                                    ,'train_recall','valid_recall','test_recall'])\n",
    "\n",
    "Max_train_Acc = 0  \n",
    "Max_valid_Acc = 0 \n",
    "Max_test_Acc = 0  \n",
    "\n",
    "pbar = tqdm(params)\n",
    "for p in pbar:\n",
    "    Model_ = Model_Training2(**p, X_train = X_train , Y_train = Y_train, X_valid = X_valid, Y_valid= Y_valid, print_epochs=print_epochs)\n",
    "    torch.manual_seed(0)\n",
    "    Model_.model\n",
    "    Model_.train()\n",
    "    \n",
    "    model_ = Model_.model.eval()\n",
    "\n",
    "    # X_train = X_train\n",
    "    # Y_train = Y_train\n",
    "    # X_valid = X_valid\n",
    "    # Y_valid = Y_valid\n",
    "        \n",
    "    # Train\n",
    "    Y_pred = model_(X_train).argmax(axis=1)\n",
    "    Y = Y_train.argmax(axis=1)\n",
    "    train_accuracy = sk.metrics.accuracy_score(Y_pred,Y )\n",
    "    train_precision, train_recall, train_fscore, m = sk.metrics.precision_recall_fscore_support(Y_pred,Y , average = 'weighted')\n",
    "\n",
    "    # Valid\n",
    "    Y_pred = model_(X_valid).argmax(axis=1)\n",
    "    Y = Y_valid.argmax(axis=1)\n",
    "    valid_accuracy = sk.metrics.accuracy_score(Y_pred,Y )\n",
    "    valid_precision, valid_recall, valid_fscore, m = sk.metrics.precision_recall_fscore_support(Y_pred,Y , average = 'weighted')\n",
    "\n",
    "    # Test\n",
    "    Y_pred = model_(X_test).argmax(axis=1)\n",
    "    Y = Y_test.argmax(axis=1)\n",
    "    test_accuracy = sk.metrics.accuracy_score(Y_pred,Y )\n",
    "    test_precision, test_recall, test_fscore, m = sk.metrics.precision_recall_fscore_support(Y_pred,Y , average = 'weighted')\n",
    "\n",
    "    if train_accuracy > Max_train_Acc: Max_train_Acc = train_accuracy\n",
    "    if valid_accuracy > Max_valid_Acc: Max_valid_Acc = valid_accuracy\n",
    "    if test_accuracy > Max_test_Acc: Max_test_Acc = test_accuracy\n",
    "\n",
    "    pbar.set_description(f'Max_Train_Acc: {Max_train_Acc:.1%}, Max_Valid_Acc: {Max_valid_Acc:.1%}, Max_Test_Acc: {Max_test_Acc:.1%} ')\n",
    "    pbar.set_postfix_str(f'Train_Acc: {train_accuracy:.1%} , Valide_Acc: {valid_accuracy:.1%} , Test_Acc: {test_accuracy:.1%}')\n",
    "\n",
    "    new_row = pd.Series({'hyper_param':p,'train_accuracy':train_accuracy,'valid_accuracy':valid_accuracy,'test_accuracy':test_accuracy,'train_fscore':train_fscore,'valid_fscore':valid_fscore,'test_fscore':test_fscore\n",
    "    ,'train_precision':train_precision,'valid_precision':valid_precision,'test_precision':test_precision,'train_recall':train_recall,'valid_recall':valid_recall,'test_recall':test_recall}, name='')\n",
    "    Param_Details = Param_Details.append(new_row)\n",
    "\n",
    "best_one = np.argmax(Param_Details.test_accuracy)\n",
    "best_param = Param_Details.iloc[best_one]['hyper_param']\n",
    "\n",
    "MLP_param_details = Param_Details\n",
    "MLP_param_details['hyper_param'] = MLP_param_details['hyper_param'].apply(lambda x: str(x))\n",
    "\n",
    "MLP_Model = Model_Training2(**best_param, X_train = X_train, Y_train = Y_train, X_valid = X_valid, Y_valid= Y_valid,print_epochs=print_epochs)\n",
    "np.random.seed(0)\n",
    "random.seed(0)\n",
    "torch.manual_seed(0)\n",
    "torch.cuda.manual_seed(0)\n",
    "torch.backends.cudnn.deterministic = True\n",
    "MLP_Model.train()"
   ]
  },
  {
   "cell_type": "code",
   "execution_count": 225,
   "metadata": {},
   "outputs": [
    {
     "name": "stdout",
     "output_type": "stream",
     "text": [
      "Nr. of Data : \n",
      " 407\n",
      "Accuracy of The Model : \n",
      " 0.8181818181818182\n"
     ]
    },
    {
     "data": {
      "text/html": [
       "<style type=\"text/css\">\n",
       "</style>\n",
       "<table id=\"T_9b7b4\">\n",
       "  <thead>\n",
       "    <tr>\n",
       "      <th class=\"blank level0\" >&nbsp;</th>\n",
       "      <th id=\"T_9b7b4_level0_col0\" class=\"col_heading level0 col0\" >weights</th>\n",
       "      <th id=\"T_9b7b4_level0_col1\" class=\"col_heading level0 col1\" >Precision</th>\n",
       "      <th id=\"T_9b7b4_level0_col2\" class=\"col_heading level0 col2\" >Recall_Sensitivity</th>\n",
       "      <th id=\"T_9b7b4_level0_col3\" class=\"col_heading level0 col3\" >Specificity</th>\n",
       "      <th id=\"T_9b7b4_level0_col4\" class=\"col_heading level0 col4\" >f1_score</th>\n",
       "    </tr>\n",
       "  </thead>\n",
       "  <tbody>\n",
       "    <tr>\n",
       "      <th id=\"T_9b7b4_level0_row0\" class=\"row_heading level0 row0\" >0</th>\n",
       "      <td id=\"T_9b7b4_row0_col0\" class=\"data row0 col0\" >71.3%</td>\n",
       "      <td id=\"T_9b7b4_row0_col1\" class=\"data row0 col1\" >88.0%</td>\n",
       "      <td id=\"T_9b7b4_row0_col2\" class=\"data row0 col2\" >86.2%</td>\n",
       "      <td id=\"T_9b7b4_row0_col3\" class=\"data row0 col3\" >70.9%</td>\n",
       "      <td id=\"T_9b7b4_row0_col4\" class=\"data row0 col4\" >87.1%</td>\n",
       "    </tr>\n",
       "    <tr>\n",
       "      <th id=\"T_9b7b4_level0_row1\" class=\"row_heading level0 row1\" >1</th>\n",
       "      <td id=\"T_9b7b4_row1_col0\" class=\"data row1 col0\" >28.7%</td>\n",
       "      <td id=\"T_9b7b4_row1_col1\" class=\"data row1 col1\" >67.5%</td>\n",
       "      <td id=\"T_9b7b4_row1_col2\" class=\"data row1 col2\" >70.9%</td>\n",
       "      <td id=\"T_9b7b4_row1_col3\" class=\"data row1 col3\" >86.2%</td>\n",
       "      <td id=\"T_9b7b4_row1_col4\" class=\"data row1 col4\" >69.2%</td>\n",
       "    </tr>\n",
       "    <tr>\n",
       "      <th id=\"T_9b7b4_level0_row2\" class=\"row_heading level0 row2\" >Simple Avg.</th>\n",
       "      <td id=\"T_9b7b4_row2_col0\" class=\"data row2 col0\" >nan%</td>\n",
       "      <td id=\"T_9b7b4_row2_col1\" class=\"data row2 col1\" >77.8%</td>\n",
       "      <td id=\"T_9b7b4_row2_col2\" class=\"data row2 col2\" >78.6%</td>\n",
       "      <td id=\"T_9b7b4_row2_col3\" class=\"data row2 col3\" >78.6%</td>\n",
       "      <td id=\"T_9b7b4_row2_col4\" class=\"data row2 col4\" >78.1%</td>\n",
       "    </tr>\n",
       "    <tr>\n",
       "      <th id=\"T_9b7b4_level0_row3\" class=\"row_heading level0 row3\" >Weighted Avg.</th>\n",
       "      <td id=\"T_9b7b4_row3_col0\" class=\"data row3 col0\" >nan%</td>\n",
       "      <td id=\"T_9b7b4_row3_col1\" class=\"data row3 col1\" >82.1%</td>\n",
       "      <td id=\"T_9b7b4_row3_col2\" class=\"data row3 col2\" >81.8%</td>\n",
       "      <td id=\"T_9b7b4_row3_col3\" class=\"data row3 col3\" >75.3%</td>\n",
       "      <td id=\"T_9b7b4_row3_col4\" class=\"data row3 col4\" >82.0%</td>\n",
       "    </tr>\n",
       "  </tbody>\n",
       "</table>\n"
      ],
      "text/plain": [
       "<pandas.io.formats.style.Styler at 0x28c624ca0>"
      ]
     },
     "execution_count": 225,
     "metadata": {},
     "output_type": "execute_result"
    },
    {
     "data": {
      "image/png": "[encoded data removed]",
      "text/plain": [
       "<Figure size 432x288 with 2 Axes>"
      ]
     },
     "metadata": {
      "needs_background": "light"
     },
     "output_type": "display_data"
    }
   ],
   "source": [
    "# Model 280x210\n",
    "model_ = MLP_Model.model.eval()\n",
    "X = input_data_Tensor[2]\n",
    "Y = labels_Array[2]\n",
    "# X = blc_data_Tensor\n",
    "# Y = blc_label_arrays\n",
    "Y_pred = model_(X).argmax(dim=1)\n",
    "# results = model_evaluation(Y,Y_pred)\n",
    "\n",
    "Y_binary =  label_to_binary(Y)\n",
    "Y_pred_binary =  label_to_binary(Y_pred)\n",
    "results = model_evaluation(Y_binary,Y_pred_binary)\n",
    "\n",
    "results"
   ]
  },
  {
   "cell_type": "code",
   "execution_count": 214,
   "metadata": {},
   "outputs": [],
   "source": []
  },
  {
   "cell_type": "code",
   "execution_count": 213,
   "metadata": {},
   "outputs": [
    {
     "data": {
      "text/plain": [
       "(array([ 23,  32,  72,   8,  62, 200,  10]),\n",
       " array([ 23,  40,  80,   6,  60, 187,  11]))"
      ]
     },
     "execution_count": 213,
     "metadata": {},
     "output_type": "execute_result"
    }
   ],
   "source": [
    "np.bincount(Y), np.bincount(Y_pred)"
   ]
  },
  {
   "cell_type": "code",
   "execution_count": 215,
   "metadata": {},
   "outputs": [],
   "source": [
    "Y_binary =  label_to_binary(Y)\n",
    "Y_pred_binary =  label_to_binary(Y_pred)"
   ]
  },
  {
   "cell_type": "code",
   "execution_count": 216,
   "metadata": {},
   "outputs": [
    {
     "data": {
      "text/plain": [
       "(array([290, 117]), array([284, 123]))"
      ]
     },
     "execution_count": 216,
     "metadata": {},
     "output_type": "execute_result"
    }
   ],
   "source": [
    "np.bincount(Y_binary), np.bincount(Y_pred_binary)"
   ]
  },
  {
   "cell_type": "code",
   "execution_count": 203,
   "metadata": {},
   "outputs": [],
   "source": [
    "def label_to_binary(entry):\n",
    "    return remap[entry] if entry in remap else entry\n",
    "label_to_binary = np.vectorize(label_to_binary)\n",
    "\n",
    "Y_binary =  label_to_binary(Y)"
   ]
  },
  {
   "cell_type": "code",
   "execution_count": 207,
   "metadata": {},
   "outputs": [
    {
     "data": {
      "text/plain": [
       "(array([2454, 1379]), array([ 364,  524,  582,  116,  491, 1600,  156]))"
      ]
     },
     "execution_count": 207,
     "metadata": {},
     "output_type": "execute_result"
    }
   ],
   "source": [
    "np.bincount(Y_pred_binary) , np.bincount(Y_pred)"
   ]
  },
  {
   "cell_type": "code",
   "execution_count": 205,
   "metadata": {},
   "outputs": [],
   "source": [
    "Y_pred_binary =  label_to_binary(Y_pred)"
   ]
  },
  {
   "cell_type": "code",
   "execution_count": 209,
   "metadata": {},
   "outputs": [
    {
     "data": {
      "text/plain": [
       "(array([ 364,  524,  582,  116,  491, 1600,  156]),\n",
       " array([ 364,  524,  582,  116,  491, 1600,  156]))"
      ]
     },
     "execution_count": 209,
     "metadata": {},
     "output_type": "execute_result"
    }
   ],
   "source": [
    "np.bincount(Y_pred) , np.bincount(Y)"
   ]
  },
  {
   "cell_type": "code",
   "execution_count": null,
   "metadata": {},
   "outputs": [],
   "source": []
  }
 ],
 "metadata": {
  "kernelspec": {
   "display_name": "Python 3.8.9 64-bit",
   "language": "python",
   "name": "python3"
  },
  "language_info": {
   "codemirror_mode": {
    "name": "ipython",
    "version": 3
   },
   "file_extension": ".py",
   "mimetype": "text/x-python",
   "name": "python",
   "nbconvert_exporter": "python",
   "pygments_lexer": "ipython3",
   "version": "3.8.9"
  },
  "orig_nbformat": 4,
  "vscode": {
   "interpreter": {
    "hash": "31f2aee4e71d21fbe5cf8b01ff0e069b9275f58929596ceb00d14d90e3e16cd6"
   }
  }
 },
 "nbformat": 4,
 "nbformat_minor": 2
}
