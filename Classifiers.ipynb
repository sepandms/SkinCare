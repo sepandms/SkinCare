{
 "cells": [
  {
   "cell_type": "code",
   "execution_count": 1,
   "metadata": {},
   "outputs": [],
   "source": [
    "G_path = '/Users/sepehrbe/My_Drive/DataSources/SkinCare'\n",
    "import pandas as pd\n",
    "import seaborn as sns\n",
    "from sklearn import *\n",
    "import sklearn as sk\n",
    "from sklearn import *\n",
    "import numpy as np\n",
    "from scipy.stats import chi2_contingency\n",
    "import datetime as dt\n",
    "import pickle\n",
    "import torch\n",
    "import json\n",
    "import random\n",
    "import seaborn as sns\n",
    "import torch.nn as nn\n",
    "import torch.optim as optim\n",
    "import torch.nn.functional as F\n",
    "from MLP_Nets import MLP_Nets\n",
    "\n",
    "from tqdm import tqdm\n",
    "import matplotlib.pyplot as plt\n",
    "from sklearn.model_selection import train_test_split\n",
    "from usefull_functions import *\n",
    "import time\n",
    "from statistics import mean\n",
    "import warnings\n",
    "warnings.filterwarnings('ignore')"
   ]
  },
  {
   "cell_type": "code",
   "execution_count": 2,
   "id": "af0578fa",
   "metadata": {},
   "outputs": [],
   "source": [
    "image_label = 'image_label'  #[image_label, binary_label]\n",
    "\n",
    "# 280x210\n",
    "file = 'CNN_280x210_Ouput_MultiClass'\n",
    "# 280x210 Binary\n",
    "# file = 'CNN_280x210_Ouput_binary' \n",
    "# AuEncoder \n",
    "# file = 'CNN_A_E_Ouput_MultiClass'\n",
    "# file = 'CNN_A_E_Ouput_Binary'\n",
    "# 280x210 & AuEncoder \n",
    "# file = 'CNN_280x210_A_E_Output'\n",
    "data = pd.read_pickle(G_path + '/CNN_Output/' + file)\n",
    "\n",
    "blc_test_list = pickle.load(open(G_path + '/blc_test_meta_list','rb'))\n",
    "# Evaluation_set = pickle.load(open(G_path + '/DataSet_280x210/' + file,'rb'))\n",
    "\n",
    "train_data = data[data.type=='train']\n",
    "valid_data = data[data.type=='valid']\n",
    "test_data = data[data.type=='test']\n",
    "blc_test_data = data.merge(blc_test_list['image_id'], how='inner',on='image_id')\n",
    "\n",
    "\n",
    "train_label = train_data[image_label]\n",
    "train_data = train_data.drop(columns=['image_id','image_label','dx','lesion_id','type','binary_label'])\n",
    "valid_label = valid_data[image_label]\n",
    "valid_data = valid_data.drop(columns=['image_id','image_label','dx','lesion_id','type','binary_label'])\n",
    "test_label = test_data[image_label]\n",
    "test_data = test_data.drop(columns=['image_id','image_label','dx','lesion_id','type','binary_label'])\n",
    "blc_label = blc_test_data[image_label]\n",
    "blc_data = blc_test_data.drop(columns=['image_id','image_label','dx','lesion_id','type','binary_label'])\n",
    "\n",
    "####### Feature Selection #################\n",
    "# features = ['CNN_0', 'CNN_1']\n",
    "# train_data = train_data[features]\n",
    "# valid_data = valid_data[features]\n",
    "# test_data = test_data[features]\n",
    "\n",
    "####### Feature Selection #################\n",
    "# features = ['CNN_0', 'CNN_1', 'CNN_2','CNN_3', 'CNN_4', 'CNN_5', 'CNN_6','age','localization_back','localization_face','localization_lower extremity','dx_type_consensus','dx_type_follow_up','dx_type_histo']\n",
    "# train_data = train_data[features]\n",
    "# valid_data = valid_data[features]\n",
    "# test_data = test_data[features]\n",
    "\n",
    "####### Feature Selection #################\n",
    "# features = ['CNN_0', 'CNN_1', 'CNN_2','CNN_3', 'CNN_4', 'CNN_5', 'CNN_6','age','localization','dx_type']\n",
    "# train_data = train_data[features]\n",
    "# valid_data = valid_data[features]\n",
    "# test_data = test_data[features]\n",
    "\n",
    "train_data_arrays = np.stack(train_data.values)  \n",
    "train_label_arrays = np.stack(train_label.values)\n",
    "train_label_arrays_One = pd.get_dummies(train_label_arrays).values  \n",
    "\n",
    "valid_data_arrays = np.stack(valid_data.values)  \n",
    "valid_label_arrays = np.stack(valid_label.values)  \n",
    "valid_label_arrays_One = pd.get_dummies(valid_label_arrays).values  \n",
    "\n",
    "test_data_arrays = np.stack(test_data.values)  \n",
    "test_label_arrays = np.stack(test_label.values)  \n",
    "test_label_arrays_One = pd.get_dummies(test_label_arrays).values  \n",
    "\n",
    "blc_data_arrays = np.stack(blc_data.values)  \n",
    "blc_label_arrays = np.stack(blc_label.values)  \n",
    "blc_label_arrays_One = pd.get_dummies(blc_label_arrays).values \n",
    "\n",
    "#Numpy Arrays\n",
    "input_data_Array = (train_data_arrays , valid_data_arrays, test_data_arrays , np.concatenate((train_data_arrays,valid_data_arrays )))\n",
    "labels_Array = (train_label_arrays,valid_label_arrays,test_label_arrays, np.concatenate((train_label_arrays,valid_label_arrays)))\n",
    "labels_One_Array = (train_label_arrays_One,valid_label_arrays_One,test_label_arrays_One, np.concatenate((train_label_arrays_One,valid_label_arrays_One)))\n",
    "\n",
    "# Tensors\n",
    "def to_Torch(x):\n",
    "    return torch.tensor(x,dtype= torch.float32)\n",
    "\n",
    "input_data_Tensor = (to_Torch(train_data_arrays),to_Torch(valid_data_arrays)  , to_Torch(test_data_arrays) , to_Torch(np.concatenate((train_data_arrays,valid_data_arrays))))\n",
    "labels_Tensor = (to_Torch(train_label_arrays),to_Torch(valid_label_arrays),to_Torch(test_label_arrays) , to_Torch(np.concatenate((train_label_arrays,valid_label_arrays))) )\n",
    "labels_OneHot_Tensor = (to_Torch(train_label_arrays_One),to_Torch(valid_label_arrays_One),to_Torch(test_label_arrays_One), to_Torch(np.concatenate((train_label_arrays_One,valid_label_arrays_One))))\n",
    "\n",
    "blc_data_Tensor = (to_Torch(blc_data_arrays))"
   ]
  },
  {
   "cell_type": "code",
   "execution_count": 3,
   "metadata": {},
   "outputs": [
    {
     "data": {
      "text/plain": [
       "(array([2, 2, 1, ..., 5, 4, 5], dtype=int8), 0.99732554)"
      ]
     },
     "execution_count": 3,
     "metadata": {},
     "output_type": "execute_result"
    }
   ],
   "source": [
    "train_label_arrays, train_data['CNN_0'].max()"
   ]
  },
  {
   "cell_type": "markdown",
   "metadata": {},
   "source": [
    "# **Random Forrest**"
   ]
  },
  {
   "cell_type": "code",
   "execution_count": 6,
   "metadata": {},
   "outputs": [
    {
     "name": "stdout",
     "output_type": "stream",
     "text": [
      "------- Precision recal %--------█████████████████████████████████████████████████████████████████████████████████] 640/640\n",
      "              precision    recall  f1-score   support\n",
      "\n",
      "           0       0.52      0.70      0.59        23\n",
      "           1       0.52      0.69      0.59        32\n",
      "           2       0.65      0.69      0.67        72\n",
      "           3       0.67      0.50      0.57         8\n",
      "           4       0.56      0.44      0.49        62\n",
      "           5       0.89      0.85      0.87       200\n",
      "           6       0.90      0.90      0.90        10\n",
      "\n",
      "    accuracy                           0.73       407\n",
      "   macro avg       0.67      0.68      0.67       407\n",
      "weighted avg       0.74      0.73      0.73       407\n",
      "\n",
      "Best param:  {'bootstrap': False, 'class_weight': None, 'criterion': 'entropy', 'max_depth': 30, 'max_features': 'log2', 'max_leaf_nodes': None, 'n_estimators': 200}\n"
     ]
    }
   ],
   "source": [
    "Model_ = sk.ensemble.RandomForestClassifier(random_state=0, n_jobs=-1)\n",
    "kflods = sk.model_selection.KFold(n_splits=10, shuffle=True)\n",
    "cross_valid = True\n",
    "save_model = False\n",
    "nr_repeat =1\n",
    "\n",
    "X_train = input_data_Array[0]\n",
    "Y_train = labels_Array[0]\n",
    "X_valid = input_data_Array[1]\n",
    "Y_valid = labels_Array[1]\n",
    "X_test = input_data_Array[2]\n",
    "Y_test = labels_Array[2]\n",
    "\n",
    "grid = { \n",
    "    'n_estimators': [100, 200],\n",
    "    'max_features': ['auto', 'log2'],\n",
    "    'max_depth' : [20,30],\n",
    "    'criterion' :['gini', 'entropy'],\n",
    "    'bootstrap': [False],\n",
    "    'class_weight' : [None, 'balanced'],\n",
    "    'max_leaf_nodes' : [5,None],\n",
    "}\n",
    "\n",
    "RF_Model, RF_Details = grid_searc_cross_valid_trainer(Model_, grid, cross_valid, kflods,X_train=X_train , Y_train=Y_train,X_valid=X_valid,Y_valid=Y_valid,X_test=X_test, Y_test=Y_test,nr_repeat=nr_repeat)\n",
    "\n",
    "if save_model:\n",
    "    pickle.dump(RF_Model, open(G_path + '/Saved/Models/Classifiers/' + 'RF_Model' , 'wb'))"
   ]
  },
  {
   "cell_type": "markdown",
   "metadata": {},
   "source": [
    "**Cross Validation**"
   ]
  },
  {
   "cell_type": "code",
   "execution_count": 5,
   "metadata": {},
   "outputs": [
    {
     "name": "stdout",
     "output_type": "stream",
     "text": [
      "------- Precision recal %--------█████████████████████████████████████████████████████████████████████████████████] 100/100\n",
      "              precision    recall  f1-score   support\n",
      "\n",
      "           0       0.52      0.70      0.59        23\n",
      "           1       0.55      0.69      0.61        32\n",
      "           2       0.62      0.62      0.62        72\n",
      "           3       0.67      0.50      0.57         8\n",
      "           4       0.56      0.44      0.49        62\n",
      "           5       0.88      0.88      0.88       200\n",
      "           6       0.90      0.90      0.90        10\n",
      "\n",
      "    accuracy                           0.73       407\n",
      "   macro avg       0.67      0.67      0.67       407\n",
      "weighted avg       0.73      0.73      0.73       407\n",
      "\n",
      "Best param:  {'bootstrap': False, 'class_weight': None, 'criterion': 'gini', 'max_depth': 20, 'max_features': 'auto', 'max_leaf_nodes': None, 'n_estimators': 100}\n"
     ]
    }
   ],
   "source": [
    "Model_ = sk.ensemble.RandomForestClassifier(n_jobs=-1)\n",
    "kflods = sk.model_selection.KFold(n_splits=10, shuffle=True)\n",
    "cross_valid = True\n",
    "save_model = True\n",
    "nr_repeat = 10\n",
    "\n",
    "X_train = input_data_Array[0]\n",
    "Y_train = labels_Array[0]\n",
    "X_valid = input_data_Array[1]\n",
    "Y_valid = labels_Array[1]\n",
    "X_test = input_data_Array[2]\n",
    "Y_test = labels_Array[2]\n",
    "\n",
    "grid = { \n",
    "    'n_estimators': [100],\n",
    "    'max_features': ['auto'],\n",
    "    'max_depth' : [20],\n",
    "    'criterion' :['gini'],\n",
    "    'bootstrap': [False],\n",
    "    'class_weight' : [None,],\n",
    "    'max_leaf_nodes' : [None],\n",
    "}\n",
    "\n",
    "RF_Model_CM, RF_Details_CV = grid_searc_cross_valid_trainer(Model_, grid, cross_valid, kflods,X_train=X_train , Y_train=Y_train,X_valid=X_valid,Y_valid=Y_valid,X_test=X_test, Y_test=Y_test,nr_repeat=nr_repeat)\n",
    "\n",
    "if save_model:\n",
    "    pickle.dump(RF_Model_CM, open(G_path + '/Saved/Models/Classifiers/' + 'RF_Model_CV' , 'wb'))\n",
    "    pickle.dump(RF_Details_CV, open(G_path + '/Saved/Cross_Valid_Results/' + 'RF_Model_CV' , 'wb'))\n"
   ]
  },
  {
   "cell_type": "code",
   "execution_count": 7,
   "metadata": {},
   "outputs": [
    {
     "name": "stdout",
     "output_type": "stream",
     "text": [
      "Nr. of Data : \n",
      " 407\n",
      "Accuracy of The Model : \n",
      " 0.7346437346437347\n"
     ]
    },
    {
     "data": {
      "text/html": [
       "<style type=\"text/css\">\n",
       "</style>\n",
       "<table id=\"T_fb0f9\">\n",
       "  <thead>\n",
       "    <tr>\n",
       "      <th class=\"blank level0\" >&nbsp;</th>\n",
       "      <th id=\"T_fb0f9_level0_col0\" class=\"col_heading level0 col0\" >weights</th>\n",
       "      <th id=\"T_fb0f9_level0_col1\" class=\"col_heading level0 col1\" >Precision</th>\n",
       "      <th id=\"T_fb0f9_level0_col2\" class=\"col_heading level0 col2\" >Recall_Sensitivity</th>\n",
       "      <th id=\"T_fb0f9_level0_col3\" class=\"col_heading level0 col3\" >Specificity</th>\n",
       "      <th id=\"T_fb0f9_level0_col4\" class=\"col_heading level0 col4\" >f1_score</th>\n",
       "    </tr>\n",
       "  </thead>\n",
       "  <tbody>\n",
       "    <tr>\n",
       "      <th id=\"T_fb0f9_level0_row0\" class=\"row_heading level0 row0\" >0</th>\n",
       "      <td id=\"T_fb0f9_row0_col0\" class=\"data row0 col0\" >5.7%</td>\n",
       "      <td id=\"T_fb0f9_row0_col1\" class=\"data row0 col1\" >51.6%</td>\n",
       "      <td id=\"T_fb0f9_row0_col2\" class=\"data row0 col2\" >69.6%</td>\n",
       "      <td id=\"T_fb0f9_row0_col3\" class=\"data row0 col3\" >96.1%</td>\n",
       "      <td id=\"T_fb0f9_row0_col4\" class=\"data row0 col4\" >59.3%</td>\n",
       "    </tr>\n",
       "    <tr>\n",
       "      <th id=\"T_fb0f9_level0_row1\" class=\"row_heading level0 row1\" >1</th>\n",
       "      <td id=\"T_fb0f9_row1_col0\" class=\"data row1 col0\" >7.9%</td>\n",
       "      <td id=\"T_fb0f9_row1_col1\" class=\"data row1 col1\" >52.4%</td>\n",
       "      <td id=\"T_fb0f9_row1_col2\" class=\"data row1 col2\" >68.8%</td>\n",
       "      <td id=\"T_fb0f9_row1_col3\" class=\"data row1 col3\" >94.7%</td>\n",
       "      <td id=\"T_fb0f9_row1_col4\" class=\"data row1 col4\" >59.5%</td>\n",
       "    </tr>\n",
       "    <tr>\n",
       "      <th id=\"T_fb0f9_level0_row2\" class=\"row_heading level0 row2\" >2</th>\n",
       "      <td id=\"T_fb0f9_row2_col0\" class=\"data row2 col0\" >17.7%</td>\n",
       "      <td id=\"T_fb0f9_row2_col1\" class=\"data row2 col1\" >64.9%</td>\n",
       "      <td id=\"T_fb0f9_row2_col2\" class=\"data row2 col2\" >69.4%</td>\n",
       "      <td id=\"T_fb0f9_row2_col3\" class=\"data row2 col3\" >91.9%</td>\n",
       "      <td id=\"T_fb0f9_row2_col4\" class=\"data row2 col4\" >67.1%</td>\n",
       "    </tr>\n",
       "    <tr>\n",
       "      <th id=\"T_fb0f9_level0_row3\" class=\"row_heading level0 row3\" >3</th>\n",
       "      <td id=\"T_fb0f9_row3_col0\" class=\"data row3 col0\" >2.0%</td>\n",
       "      <td id=\"T_fb0f9_row3_col1\" class=\"data row3 col1\" >66.7%</td>\n",
       "      <td id=\"T_fb0f9_row3_col2\" class=\"data row3 col2\" >50.0%</td>\n",
       "      <td id=\"T_fb0f9_row3_col3\" class=\"data row3 col3\" >99.5%</td>\n",
       "      <td id=\"T_fb0f9_row3_col4\" class=\"data row3 col4\" >57.1%</td>\n",
       "    </tr>\n",
       "    <tr>\n",
       "      <th id=\"T_fb0f9_level0_row4\" class=\"row_heading level0 row4\" >4</th>\n",
       "      <td id=\"T_fb0f9_row4_col0\" class=\"data row4 col0\" >15.2%</td>\n",
       "      <td id=\"T_fb0f9_row4_col1\" class=\"data row4 col1\" >56.2%</td>\n",
       "      <td id=\"T_fb0f9_row4_col2\" class=\"data row4 col2\" >43.5%</td>\n",
       "      <td id=\"T_fb0f9_row4_col3\" class=\"data row4 col3\" >93.9%</td>\n",
       "      <td id=\"T_fb0f9_row4_col4\" class=\"data row4 col4\" >49.1%</td>\n",
       "    </tr>\n",
       "    <tr>\n",
       "      <th id=\"T_fb0f9_level0_row5\" class=\"row_heading level0 row5\" >5</th>\n",
       "      <td id=\"T_fb0f9_row5_col0\" class=\"data row5 col0\" >49.1%</td>\n",
       "      <td id=\"T_fb0f9_row5_col1\" class=\"data row5 col1\" >88.6%</td>\n",
       "      <td id=\"T_fb0f9_row5_col2\" class=\"data row5 col2\" >85.5%</td>\n",
       "      <td id=\"T_fb0f9_row5_col3\" class=\"data row5 col3\" >89.4%</td>\n",
       "      <td id=\"T_fb0f9_row5_col4\" class=\"data row5 col4\" >87.0%</td>\n",
       "    </tr>\n",
       "    <tr>\n",
       "      <th id=\"T_fb0f9_level0_row6\" class=\"row_heading level0 row6\" >6</th>\n",
       "      <td id=\"T_fb0f9_row6_col0\" class=\"data row6 col0\" >2.5%</td>\n",
       "      <td id=\"T_fb0f9_row6_col1\" class=\"data row6 col1\" >90.0%</td>\n",
       "      <td id=\"T_fb0f9_row6_col2\" class=\"data row6 col2\" >90.0%</td>\n",
       "      <td id=\"T_fb0f9_row6_col3\" class=\"data row6 col3\" >99.7%</td>\n",
       "      <td id=\"T_fb0f9_row6_col4\" class=\"data row6 col4\" >90.0%</td>\n",
       "    </tr>\n",
       "    <tr>\n",
       "      <th id=\"T_fb0f9_level0_row7\" class=\"row_heading level0 row7\" >Simple Avg.</th>\n",
       "      <td id=\"T_fb0f9_row7_col0\" class=\"data row7 col0\" >nan%</td>\n",
       "      <td id=\"T_fb0f9_row7_col1\" class=\"data row7 col1\" >67.2%</td>\n",
       "      <td id=\"T_fb0f9_row7_col2\" class=\"data row7 col2\" >68.1%</td>\n",
       "      <td id=\"T_fb0f9_row7_col3\" class=\"data row7 col3\" >95.0%</td>\n",
       "      <td id=\"T_fb0f9_row7_col4\" class=\"data row7 col4\" >67.0%</td>\n",
       "    </tr>\n",
       "    <tr>\n",
       "      <th id=\"T_fb0f9_level0_row8\" class=\"row_heading level0 row8\" >Weighted Avg.</th>\n",
       "      <td id=\"T_fb0f9_row8_col0\" class=\"data row8 col0\" >nan%</td>\n",
       "      <td id=\"T_fb0f9_row8_col1\" class=\"data row8 col1\" >74.2%</td>\n",
       "      <td id=\"T_fb0f9_row8_col2\" class=\"data row8 col2\" >73.5%</td>\n",
       "      <td id=\"T_fb0f9_row8_col3\" class=\"data row8 col3\" >91.8%</td>\n",
       "      <td id=\"T_fb0f9_row8_col4\" class=\"data row8 col4\" >73.5%</td>\n",
       "    </tr>\n",
       "  </tbody>\n",
       "</table>\n"
      ],
      "text/plain": [
       "<pandas.io.formats.style.Styler at 0x1773a5580>"
      ]
     },
     "execution_count": 7,
     "metadata": {},
     "output_type": "execute_result"
    },
    {
     "data": {
      "image/png": "[encoded data removed]",
      "text/plain": [
       "<Figure size 432x288 with 2 Axes>"
      ]
     },
     "metadata": {
      "needs_background": "light"
     },
     "output_type": "display_data"
    }
   ],
   "source": [
    "# Model 280x210\n",
    "model_ = RF_Model\n",
    "X = input_data_Array[2]\n",
    "Y = labels_Array[2]\n",
    "Y_pred = model_.predict(X)\n",
    "Y_binary =  label_to_binary(Y)\n",
    "Y_pred_binary =  label_to_binary(Y_pred)\n",
    "results = model_evaluation(Y,Y_pred)\n",
    "# results = model_evaluation(Y_binary,Y_pred_binary)\n",
    "results"
   ]
  },
  {
   "cell_type": "markdown",
   "metadata": {},
   "source": [
    "# **SVM**"
   ]
  },
  {
   "cell_type": "code",
   "execution_count": 7,
   "metadata": {},
   "outputs": [
    {
     "name": "stderr",
     "output_type": "stream",
     "text": [
      "100%|██████████| 144/144 [03:51<00:00,  1.61s/it]"
     ]
    },
    {
     "name": "stdout",
     "output_type": "stream",
     "text": [
      "------- Precision recal %--------\n",
      "              precision    recall  f1-score   support\n",
      "\n",
      "           0       0.54      0.65      0.59        23\n",
      "           1       0.55      0.72      0.62        32\n",
      "           2       0.68      0.68      0.68        72\n",
      "           3       0.67      0.50      0.57         8\n",
      "           4       0.51      0.45      0.48        62\n",
      "           5       0.88      0.85      0.87       200\n",
      "           6       0.82      0.90      0.86        10\n",
      "\n",
      "    accuracy                           0.73       407\n",
      "   macro avg       0.66      0.68      0.67       407\n",
      "weighted avg       0.74      0.73      0.73       407\n",
      "\n",
      "Best param:  {'C': 10, 'class_weight': None, 'decision_function_shape': 'ovo', 'degree': 1, 'gamma': 'scale', 'kernel': 'rbf'}\n"
     ]
    },
    {
     "name": "stderr",
     "output_type": "stream",
     "text": [
      "\n"
     ]
    }
   ],
   "source": [
    "Model_ = sk.svm.SVC(random_state=0)\n",
    "kflods = sk.model_selection.KFold(n_splits=10, shuffle=True)\n",
    "cross_valid = True\n",
    "save_model = True\n",
    "\n",
    "X_train = input_data_Array[0]\n",
    "Y_train = labels_Array[0]\n",
    "X_valid = input_data_Array[1]\n",
    "Y_valid = labels_Array[1]\n",
    "X_test = input_data_Array[2]\n",
    "Y_test = labels_Array[2]\n",
    "\n",
    "grid = { \n",
    "    'C' : [2,5,10]\n",
    "    ,'kernel': ['rbf', 'linear'],\n",
    "    'degree' : [1,3,7],\n",
    "    'gamma' :['scale', 'auto'],\n",
    "    'decision_function_shape': ['ovo', 'ovr'],\n",
    "    'class_weight' : [None, 'balanced']\n",
    "}\n",
    "\n",
    "SVM_Model, SVM_Details = grid_searc_cross_valid_trainer(Model_, grid, cross_valid, kflods,X_train=X_train , Y_train=Y_train,X_valid=X_valid,Y_valid=Y_valid,X_test=X_test, Y_test=Y_test)\n",
    "\n",
    "if save_model:\n",
    "    pickle.dump(SVM_Model, open(G_path + '/Saved/Models/Classifiers/' + 'SVM_Model' , 'wb'))\n",
    "    "
   ]
  },
  {
   "cell_type": "markdown",
   "metadata": {},
   "source": [
    "**Cross Validation**"
   ]
  },
  {
   "cell_type": "code",
   "execution_count": 15,
   "metadata": {},
   "outputs": [
    {
     "name": "stdout",
     "output_type": "stream",
     "text": [
      "------- Precision recal %--------█████████████████████████████████████████████████████████████████████████████████] 100/100\n",
      "              precision    recall  f1-score   support\n",
      "\n",
      "           0       0.48      0.65      0.56        23\n",
      "           1       0.54      0.66      0.59        32\n",
      "           2       0.66      0.69      0.68        72\n",
      "           3       0.67      0.50      0.57         8\n",
      "           4       0.52      0.44      0.47        62\n",
      "           5       0.88      0.84      0.86       200\n",
      "           6       0.82      0.90      0.86        10\n",
      "\n",
      "    accuracy                           0.72       407\n",
      "   macro avg       0.65      0.67      0.66       407\n",
      "weighted avg       0.73      0.72      0.73       407\n",
      "\n",
      "Best param:  {'C': 10, 'class_weight': None, 'decision_function_shape': 'ovo', 'degree': 1, 'gamma': 'scale', 'kernel': 'rbf'}\n"
     ]
    }
   ],
   "source": [
    "Model_ = sk.svm.SVC(random_state=0)\n",
    "kflods = sk.model_selection.KFold(n_splits=10, shuffle=True)\n",
    "cross_valid = True\n",
    "save_model = True\n",
    "nr_repeat = 10\n",
    "\n",
    "X_train = input_data_Array[0]\n",
    "Y_train = labels_Array[0]\n",
    "X_valid = input_data_Array[1]\n",
    "Y_valid = labels_Array[1]\n",
    "X_test = input_data_Array[2]\n",
    "Y_test = labels_Array[2]\n",
    "\n",
    "grid = { \n",
    "    'C' : [10]\n",
    "    ,'kernel': ['rbf'],\n",
    "    'degree' : [1],\n",
    "    'gamma' :['scale'],\n",
    "    'decision_function_shape': ['ovo'],\n",
    "    'class_weight' : [None]\n",
    "}\n",
    "\n",
    "SVM_Model_CV, SVM_Details_CV = grid_searc_cross_valid_trainer(Model_, grid, cross_valid, kflods,X_train=X_train , Y_train=Y_train,X_valid=X_valid,Y_valid=Y_valid,X_test=X_test, Y_test=Y_test,nr_repeat=nr_repeat)\n",
    "\n",
    "if save_model:\n",
    "    pickle.dump(SVM_Model_CV, open(G_path + '/Saved/Models/Classifiers/' + 'SVM_Model_CV' , 'wb'))\n",
    "    pickle.dump(SVM_Details_CV, open(G_path + '/Saved/Cross_Valid_Results/' + 'SVM_Model_CV' , 'wb'))"
   ]
  },
  {
   "cell_type": "code",
   "execution_count": 8,
   "metadata": {},
   "outputs": [
    {
     "name": "stdout",
     "output_type": "stream",
     "text": [
      "Nr. of Data : \n",
      " 407\n",
      "Accuracy of The Model : \n",
      " 0.7321867321867321\n"
     ]
    },
    {
     "data": {
      "text/html": [
       "<style type=\"text/css\">\n",
       "</style>\n",
       "<table id=\"T_414d8\">\n",
       "  <thead>\n",
       "    <tr>\n",
       "      <th class=\"blank level0\" >&nbsp;</th>\n",
       "      <th id=\"T_414d8_level0_col0\" class=\"col_heading level0 col0\" >weights</th>\n",
       "      <th id=\"T_414d8_level0_col1\" class=\"col_heading level0 col1\" >Precision</th>\n",
       "      <th id=\"T_414d8_level0_col2\" class=\"col_heading level0 col2\" >Recall_Sensitivity</th>\n",
       "      <th id=\"T_414d8_level0_col3\" class=\"col_heading level0 col3\" >Specificity</th>\n",
       "      <th id=\"T_414d8_level0_col4\" class=\"col_heading level0 col4\" >f1_score</th>\n",
       "    </tr>\n",
       "  </thead>\n",
       "  <tbody>\n",
       "    <tr>\n",
       "      <th id=\"T_414d8_level0_row0\" class=\"row_heading level0 row0\" >0</th>\n",
       "      <td id=\"T_414d8_row0_col0\" class=\"data row0 col0\" >5.7%</td>\n",
       "      <td id=\"T_414d8_row0_col1\" class=\"data row0 col1\" >53.6%</td>\n",
       "      <td id=\"T_414d8_row0_col2\" class=\"data row0 col2\" >65.2%</td>\n",
       "      <td id=\"T_414d8_row0_col3\" class=\"data row0 col3\" >96.6%</td>\n",
       "      <td id=\"T_414d8_row0_col4\" class=\"data row0 col4\" >58.8%</td>\n",
       "    </tr>\n",
       "    <tr>\n",
       "      <th id=\"T_414d8_level0_row1\" class=\"row_heading level0 row1\" >1</th>\n",
       "      <td id=\"T_414d8_row1_col0\" class=\"data row1 col0\" >7.9%</td>\n",
       "      <td id=\"T_414d8_row1_col1\" class=\"data row1 col1\" >54.8%</td>\n",
       "      <td id=\"T_414d8_row1_col2\" class=\"data row1 col2\" >71.9%</td>\n",
       "      <td id=\"T_414d8_row1_col3\" class=\"data row1 col3\" >94.9%</td>\n",
       "      <td id=\"T_414d8_row1_col4\" class=\"data row1 col4\" >62.2%</td>\n",
       "    </tr>\n",
       "    <tr>\n",
       "      <th id=\"T_414d8_level0_row2\" class=\"row_heading level0 row2\" >2</th>\n",
       "      <td id=\"T_414d8_row2_col0\" class=\"data row2 col0\" >17.7%</td>\n",
       "      <td id=\"T_414d8_row2_col1\" class=\"data row2 col1\" >68.1%</td>\n",
       "      <td id=\"T_414d8_row2_col2\" class=\"data row2 col2\" >68.1%</td>\n",
       "      <td id=\"T_414d8_row2_col3\" class=\"data row2 col3\" >93.1%</td>\n",
       "      <td id=\"T_414d8_row2_col4\" class=\"data row2 col4\" >68.1%</td>\n",
       "    </tr>\n",
       "    <tr>\n",
       "      <th id=\"T_414d8_level0_row3\" class=\"row_heading level0 row3\" >3</th>\n",
       "      <td id=\"T_414d8_row3_col0\" class=\"data row3 col0\" >2.0%</td>\n",
       "      <td id=\"T_414d8_row3_col1\" class=\"data row3 col1\" >66.7%</td>\n",
       "      <td id=\"T_414d8_row3_col2\" class=\"data row3 col2\" >50.0%</td>\n",
       "      <td id=\"T_414d8_row3_col3\" class=\"data row3 col3\" >99.5%</td>\n",
       "      <td id=\"T_414d8_row3_col4\" class=\"data row3 col4\" >57.1%</td>\n",
       "    </tr>\n",
       "    <tr>\n",
       "      <th id=\"T_414d8_level0_row4\" class=\"row_heading level0 row4\" >4</th>\n",
       "      <td id=\"T_414d8_row4_col0\" class=\"data row4 col0\" >15.2%</td>\n",
       "      <td id=\"T_414d8_row4_col1\" class=\"data row4 col1\" >50.9%</td>\n",
       "      <td id=\"T_414d8_row4_col2\" class=\"data row4 col2\" >45.2%</td>\n",
       "      <td id=\"T_414d8_row4_col3\" class=\"data row4 col3\" >92.2%</td>\n",
       "      <td id=\"T_414d8_row4_col4\" class=\"data row4 col4\" >47.9%</td>\n",
       "    </tr>\n",
       "    <tr>\n",
       "      <th id=\"T_414d8_level0_row5\" class=\"row_heading level0 row5\" >5</th>\n",
       "      <td id=\"T_414d8_row5_col0\" class=\"data row5 col0\" >49.1%</td>\n",
       "      <td id=\"T_414d8_row5_col1\" class=\"data row5 col1\" >88.1%</td>\n",
       "      <td id=\"T_414d8_row5_col2\" class=\"data row5 col2\" >85.0%</td>\n",
       "      <td id=\"T_414d8_row5_col3\" class=\"data row5 col3\" >88.9%</td>\n",
       "      <td id=\"T_414d8_row5_col4\" class=\"data row5 col4\" >86.5%</td>\n",
       "    </tr>\n",
       "    <tr>\n",
       "      <th id=\"T_414d8_level0_row6\" class=\"row_heading level0 row6\" >6</th>\n",
       "      <td id=\"T_414d8_row6_col0\" class=\"data row6 col0\" >2.5%</td>\n",
       "      <td id=\"T_414d8_row6_col1\" class=\"data row6 col1\" >81.8%</td>\n",
       "      <td id=\"T_414d8_row6_col2\" class=\"data row6 col2\" >90.0%</td>\n",
       "      <td id=\"T_414d8_row6_col3\" class=\"data row6 col3\" >99.5%</td>\n",
       "      <td id=\"T_414d8_row6_col4\" class=\"data row6 col4\" >85.7%</td>\n",
       "    </tr>\n",
       "    <tr>\n",
       "      <th id=\"T_414d8_level0_row7\" class=\"row_heading level0 row7\" >Simple Avg.</th>\n",
       "      <td id=\"T_414d8_row7_col0\" class=\"data row7 col0\" >nan%</td>\n",
       "      <td id=\"T_414d8_row7_col1\" class=\"data row7 col1\" >66.3%</td>\n",
       "      <td id=\"T_414d8_row7_col2\" class=\"data row7 col2\" >67.9%</td>\n",
       "      <td id=\"T_414d8_row7_col3\" class=\"data row7 col3\" >95.0%</td>\n",
       "      <td id=\"T_414d8_row7_col4\" class=\"data row7 col4\" >66.6%</td>\n",
       "    </tr>\n",
       "    <tr>\n",
       "      <th id=\"T_414d8_level0_row8\" class=\"row_heading level0 row8\" >Weighted Avg.</th>\n",
       "      <td id=\"T_414d8_row8_col0\" class=\"data row8 col0\" >nan%</td>\n",
       "      <td id=\"T_414d8_row8_col1\" class=\"data row8 col1\" >73.7%</td>\n",
       "      <td id=\"T_414d8_row8_col2\" class=\"data row8 col2\" >73.2%</td>\n",
       "      <td id=\"T_414d8_row8_col3\" class=\"data row8 col3\" >91.5%</td>\n",
       "      <td id=\"T_414d8_row8_col4\" class=\"data row8 col4\" >73.3%</td>\n",
       "    </tr>\n",
       "  </tbody>\n",
       "</table>\n"
      ],
      "text/plain": [
       "<pandas.io.formats.style.Styler at 0x147dcff70>"
      ]
     },
     "execution_count": 8,
     "metadata": {},
     "output_type": "execute_result"
    },
    {
     "data": {
      "image/png": "[encoded data removed]",
      "text/plain": [
       "<Figure size 432x288 with 2 Axes>"
      ]
     },
     "metadata": {
      "needs_background": "light"
     },
     "output_type": "display_data"
    }
   ],
   "source": [
    "# Model 280x210\n",
    "model_ = SVM_Model\n",
    "X = input_data_Array[2]\n",
    "Y = labels_Array[2]\n",
    "Y_pred = model_.predict(X)\n",
    "Y_binary =  label_to_binary(Y)\n",
    "Y_pred_binary =  label_to_binary(Y_pred)\n",
    "results = model_evaluation(Y,Y_pred)\n",
    "# results = model_evaluation(Y_binary,Y_pred_binary)\n",
    "results"
   ]
  },
  {
   "cell_type": "markdown",
   "metadata": {},
   "source": [
    "# **Guassian NB**"
   ]
  },
  {
   "cell_type": "code",
   "execution_count": 28,
   "metadata": {},
   "outputs": [
    {
     "name": "stdout",
     "output_type": "stream",
     "text": [
      "------- Precision recal %--------█████████████████████████████████████████████████████████████████████████████████] 170/170\n",
      "              precision    recall  f1-score   support\n",
      "\n",
      "           0       0.50      0.52      0.51        23\n",
      "           1       0.50      0.69      0.58        32\n",
      "           2       0.66      0.46      0.54        72\n",
      "           3       1.00      0.38      0.55         8\n",
      "           4       0.42      0.52      0.46        62\n",
      "           5       0.81      0.83      0.82       200\n",
      "           6       1.00      0.50      0.67        10\n",
      "\n",
      "    accuracy                           0.67       407\n",
      "   macro avg       0.70      0.56      0.59       407\n",
      "weighted avg       0.69      0.67      0.67       407\n",
      "\n",
      "Best param:  {'priors': None, 'var_smoothing': 0.5}\n"
     ]
    }
   ],
   "source": [
    "Model_ = sk.naive_bayes.GaussianNB()\n",
    "kflods = sk.model_selection.KFold(n_splits=10, shuffle=True)\n",
    "cross_valid = True\n",
    "save_mode = True\n",
    "nr_repeat = 1\n",
    "\n",
    "X_train = input_data_Array[0]\n",
    "Y_train = labels_Array[0]\n",
    "X_valid = input_data_Array[1]\n",
    "Y_valid = labels_Array[1]\n",
    "X_test = input_data_Array[2]\n",
    "Y_test = labels_Array[2]\n",
    "\n",
    "grid = { \n",
    "    'priors': [None],\n",
    "    'var_smoothing': [0,4e-1,5e-1,3e-1, 1e-3, 1e-4, 1e-5, 1e-6, 1e-7, 1e-8, 1e-9, 1e-10, 1e-11, 1e-12, 1e-13, 1e-14, 1e-15]\n",
    "}\n",
    "\n",
    "GB_Model, GB_Details = grid_searc_cross_valid_trainer(Model_, grid, cross_valid, kflods,X_train=X_train , Y_train=Y_train,X_valid=X_valid,Y_valid=Y_valid,X_test=X_test, Y_test=Y_test,nr_repeat=1)\n",
    "\n",
    "if save_model:\n",
    "    pickle.dump(GB_Model, open(G_path + '/Saved/Models/Classifiers/' + 'GB_Model' , 'wb'))"
   ]
  },
  {
   "cell_type": "markdown",
   "metadata": {},
   "source": [
    "**Cross Validation**"
   ]
  },
  {
   "cell_type": "code",
   "execution_count": 31,
   "metadata": {},
   "outputs": [
    {
     "name": "stdout",
     "output_type": "stream",
     "text": [
      "------- Precision recal %--------█████████████████████████████████████████████████████████████████████████████████] 100/100\n",
      "              precision    recall  f1-score   support\n",
      "\n",
      "           0       0.50      0.52      0.51        23\n",
      "           1       0.50      0.69      0.58        32\n",
      "           2       0.66      0.46      0.54        72\n",
      "           3       1.00      0.38      0.55         8\n",
      "           4       0.42      0.52      0.46        62\n",
      "           5       0.81      0.83      0.82       200\n",
      "           6       1.00      0.50      0.67        10\n",
      "\n",
      "    accuracy                           0.67       407\n",
      "   macro avg       0.70      0.56      0.59       407\n",
      "weighted avg       0.69      0.67      0.67       407\n",
      "\n",
      "Best param:  {'priors': None, 'var_smoothing': 0.5}\n"
     ]
    }
   ],
   "source": [
    "Model_ = sk.naive_bayes.GaussianNB()\n",
    "kflods = sk.model_selection.KFold(n_splits=10, shuffle=True)\n",
    "cross_valid = True\n",
    "save_mode = True\n",
    "nr_repeat = 10\n",
    "\n",
    "X_train = input_data_Array[0]\n",
    "Y_train = labels_Array[0]\n",
    "X_valid = input_data_Array[1]\n",
    "Y_valid = labels_Array[1]\n",
    "X_test = input_data_Array[2]\n",
    "Y_test = labels_Array[2]\n",
    "\n",
    "grid = { \n",
    "    'priors': [None],\n",
    "    'var_smoothing': [5e-1]\n",
    "}\n",
    "\n",
    "GB_Model_CV, GB_Details_CV = grid_searc_cross_valid_trainer(Model_, grid, cross_valid, kflods,X_train=X_train , Y_train=Y_train,X_valid=X_valid,Y_valid=Y_valid,X_test=X_test, Y_test=Y_test,nr_repeat=10)\n",
    "\n",
    "if save_model:\n",
    "    pickle.dump(GB_Model_CV, open(G_path + '/Saved/Models/Classifiers/' + 'GB_Model_CV' , 'wb'))\n",
    "    pickle.dump(GB_Details_CV, open(G_path + '/Saved/Cross_Valid_Results/' + 'GB_Model_CV' , 'wb'))"
   ]
  },
  {
   "cell_type": "code",
   "execution_count": 30,
   "metadata": {},
   "outputs": [
    {
     "name": "stdout",
     "output_type": "stream",
     "text": [
      "Nr. of Data : \n",
      " 407\n",
      "Accuracy of The Model : \n",
      " 0.6732186732186732\n"
     ]
    },
    {
     "data": {
      "text/html": [
       "<style type=\"text/css\">\n",
       "</style>\n",
       "<table id=\"T_bb89a\">\n",
       "  <thead>\n",
       "    <tr>\n",
       "      <th class=\"blank level0\" >&nbsp;</th>\n",
       "      <th id=\"T_bb89a_level0_col0\" class=\"col_heading level0 col0\" >weights</th>\n",
       "      <th id=\"T_bb89a_level0_col1\" class=\"col_heading level0 col1\" >Precision</th>\n",
       "      <th id=\"T_bb89a_level0_col2\" class=\"col_heading level0 col2\" >Recall_Sensitivity</th>\n",
       "      <th id=\"T_bb89a_level0_col3\" class=\"col_heading level0 col3\" >Specificity</th>\n",
       "      <th id=\"T_bb89a_level0_col4\" class=\"col_heading level0 col4\" >f1_score</th>\n",
       "    </tr>\n",
       "  </thead>\n",
       "  <tbody>\n",
       "    <tr>\n",
       "      <th id=\"T_bb89a_level0_row0\" class=\"row_heading level0 row0\" >0</th>\n",
       "      <td id=\"T_bb89a_row0_col0\" class=\"data row0 col0\" >5.7%</td>\n",
       "      <td id=\"T_bb89a_row0_col1\" class=\"data row0 col1\" >50.0%</td>\n",
       "      <td id=\"T_bb89a_row0_col2\" class=\"data row0 col2\" >52.2%</td>\n",
       "      <td id=\"T_bb89a_row0_col3\" class=\"data row0 col3\" >96.9%</td>\n",
       "      <td id=\"T_bb89a_row0_col4\" class=\"data row0 col4\" >51.1%</td>\n",
       "    </tr>\n",
       "    <tr>\n",
       "      <th id=\"T_bb89a_level0_row1\" class=\"row_heading level0 row1\" >1</th>\n",
       "      <td id=\"T_bb89a_row1_col0\" class=\"data row1 col0\" >7.9%</td>\n",
       "      <td id=\"T_bb89a_row1_col1\" class=\"data row1 col1\" >50.0%</td>\n",
       "      <td id=\"T_bb89a_row1_col2\" class=\"data row1 col2\" >68.8%</td>\n",
       "      <td id=\"T_bb89a_row1_col3\" class=\"data row1 col3\" >94.1%</td>\n",
       "      <td id=\"T_bb89a_row1_col4\" class=\"data row1 col4\" >57.9%</td>\n",
       "    </tr>\n",
       "    <tr>\n",
       "      <th id=\"T_bb89a_level0_row2\" class=\"row_heading level0 row2\" >2</th>\n",
       "      <td id=\"T_bb89a_row2_col0\" class=\"data row2 col0\" >17.7%</td>\n",
       "      <td id=\"T_bb89a_row2_col1\" class=\"data row2 col1\" >66.0%</td>\n",
       "      <td id=\"T_bb89a_row2_col2\" class=\"data row2 col2\" >45.8%</td>\n",
       "      <td id=\"T_bb89a_row2_col3\" class=\"data row2 col3\" >94.9%</td>\n",
       "      <td id=\"T_bb89a_row2_col4\" class=\"data row2 col4\" >54.1%</td>\n",
       "    </tr>\n",
       "    <tr>\n",
       "      <th id=\"T_bb89a_level0_row3\" class=\"row_heading level0 row3\" >3</th>\n",
       "      <td id=\"T_bb89a_row3_col0\" class=\"data row3 col0\" >2.0%</td>\n",
       "      <td id=\"T_bb89a_row3_col1\" class=\"data row3 col1\" >100.0%</td>\n",
       "      <td id=\"T_bb89a_row3_col2\" class=\"data row3 col2\" >37.5%</td>\n",
       "      <td id=\"T_bb89a_row3_col3\" class=\"data row3 col3\" >100.0%</td>\n",
       "      <td id=\"T_bb89a_row3_col4\" class=\"data row3 col4\" >54.5%</td>\n",
       "    </tr>\n",
       "    <tr>\n",
       "      <th id=\"T_bb89a_level0_row4\" class=\"row_heading level0 row4\" >4</th>\n",
       "      <td id=\"T_bb89a_row4_col0\" class=\"data row4 col0\" >15.2%</td>\n",
       "      <td id=\"T_bb89a_row4_col1\" class=\"data row4 col1\" >42.1%</td>\n",
       "      <td id=\"T_bb89a_row4_col2\" class=\"data row4 col2\" >51.6%</td>\n",
       "      <td id=\"T_bb89a_row4_col3\" class=\"data row4 col3\" >87.2%</td>\n",
       "      <td id=\"T_bb89a_row4_col4\" class=\"data row4 col4\" >46.4%</td>\n",
       "    </tr>\n",
       "    <tr>\n",
       "      <th id=\"T_bb89a_level0_row5\" class=\"row_heading level0 row5\" >5</th>\n",
       "      <td id=\"T_bb89a_row5_col0\" class=\"data row5 col0\" >49.1%</td>\n",
       "      <td id=\"T_bb89a_row5_col1\" class=\"data row5 col1\" >81.5%</td>\n",
       "      <td id=\"T_bb89a_row5_col2\" class=\"data row5 col2\" >83.5%</td>\n",
       "      <td id=\"T_bb89a_row5_col3\" class=\"data row5 col3\" >81.6%</td>\n",
       "      <td id=\"T_bb89a_row5_col4\" class=\"data row5 col4\" >82.5%</td>\n",
       "    </tr>\n",
       "    <tr>\n",
       "      <th id=\"T_bb89a_level0_row6\" class=\"row_heading level0 row6\" >6</th>\n",
       "      <td id=\"T_bb89a_row6_col0\" class=\"data row6 col0\" >2.5%</td>\n",
       "      <td id=\"T_bb89a_row6_col1\" class=\"data row6 col1\" >100.0%</td>\n",
       "      <td id=\"T_bb89a_row6_col2\" class=\"data row6 col2\" >50.0%</td>\n",
       "      <td id=\"T_bb89a_row6_col3\" class=\"data row6 col3\" >100.0%</td>\n",
       "      <td id=\"T_bb89a_row6_col4\" class=\"data row6 col4\" >66.7%</td>\n",
       "    </tr>\n",
       "    <tr>\n",
       "      <th id=\"T_bb89a_level0_row7\" class=\"row_heading level0 row7\" >Simple Avg.</th>\n",
       "      <td id=\"T_bb89a_row7_col0\" class=\"data row7 col0\" >nan%</td>\n",
       "      <td id=\"T_bb89a_row7_col1\" class=\"data row7 col1\" >69.9%</td>\n",
       "      <td id=\"T_bb89a_row7_col2\" class=\"data row7 col2\" >55.6%</td>\n",
       "      <td id=\"T_bb89a_row7_col3\" class=\"data row7 col3\" >93.5%</td>\n",
       "      <td id=\"T_bb89a_row7_col4\" class=\"data row7 col4\" >59.0%</td>\n",
       "    </tr>\n",
       "    <tr>\n",
       "      <th id=\"T_bb89a_level0_row8\" class=\"row_heading level0 row8\" >Weighted Avg.</th>\n",
       "      <td id=\"T_bb89a_row8_col0\" class=\"data row8 col0\" >nan%</td>\n",
       "      <td id=\"T_bb89a_row8_col1\" class=\"data row8 col1\" >69.3%</td>\n",
       "      <td id=\"T_bb89a_row8_col2\" class=\"data row8 col2\" >67.3%</td>\n",
       "      <td id=\"T_bb89a_row8_col3\" class=\"data row8 col3\" >87.5%</td>\n",
       "      <td id=\"T_bb89a_row8_col4\" class=\"data row8 col4\" >67.3%</td>\n",
       "    </tr>\n",
       "  </tbody>\n",
       "</table>\n"
      ],
      "text/plain": [
       "<pandas.io.formats.style.Styler at 0x2890a77c0>"
      ]
     },
     "execution_count": 30,
     "metadata": {},
     "output_type": "execute_result"
    },
    {
     "data": {
      "image/png": "[encoded data removed]",
      "text/plain": [
       "<Figure size 432x288 with 2 Axes>"
      ]
     },
     "metadata": {
      "needs_background": "light"
     },
     "output_type": "display_data"
    }
   ],
   "source": [
    "# Model 280x210\n",
    "model_ = GB_Model\n",
    "X = input_data_Array[2]\n",
    "Y = labels_Array[2]\n",
    "Y_pred = model_.predict(X)\n",
    "Y_binary =  label_to_binary(Y)\n",
    "Y_pred_binary =  label_to_binary(Y_pred)\n",
    "results = model_evaluation(Y,Y_pred)\n",
    "# results = model_evaluation(Y_binary,Y_pred_binary)\n",
    "results"
   ]
  },
  {
   "cell_type": "markdown",
   "metadata": {},
   "source": [
    "# **MLP**"
   ]
  },
  {
   "cell_type": "code",
   "execution_count": 22,
   "metadata": {},
   "outputs": [
    {
     "name": "stdout",
     "output_type": "stream",
     "text": [
      "------- Precision recal %--------█████████████████████████████████████████████████████████████████████████████████] 20/20\n",
      "              precision    recall  f1-score   support\n",
      "\n",
      "           0       0.48      0.65      0.56        23\n",
      "           1       0.56      0.69      0.62        32\n",
      "           2       0.64      0.69      0.67        72\n",
      "           3       0.67      0.50      0.57         8\n",
      "           4       0.53      0.47      0.50        62\n",
      "           5       0.88      0.82      0.85       200\n",
      "           6       0.75      0.90      0.82        10\n",
      "\n",
      "    accuracy                           0.72       407\n",
      "   macro avg       0.64      0.67      0.65       407\n",
      "weighted avg       0.73      0.72      0.72       407\n",
      "\n",
      "Best param:  {'activation': 'relu', 'alpha': 0.0001, 'hidden_layer_sizes': (50, 60, 50), 'learning_rate': 'adaptive', 'learning_rate_init': 0.001, 'random_state': 0, 'solver': 'sgd'}\n"
     ]
    }
   ],
   "source": [
    "Model_ = sk.neural_network.MLPClassifier()\n",
    "kflods = sk.model_selection.KFold(n_splits=10, shuffle=True)\n",
    "cross_valid = True\n",
    "save_model = True\n",
    "nr_repeat = 1\n",
    "\n",
    "X_train = input_data_Array[0]\n",
    "Y_train = labels_Array[0]\n",
    "X_valid = input_data_Array[1]\n",
    "Y_valid = labels_Array[1]\n",
    "X_test = input_data_Array[2]\n",
    "Y_test = labels_Array[2]\n",
    "\n",
    "grid = {\n",
    "    'hidden_layer_sizes': [(50,60,50)],\n",
    "    'random_state':[0],\n",
    "    'activation': [ 'relu'],\n",
    "    'solver': ['sgd',],\n",
    "    'alpha': [0.0001, 0.05],\n",
    "    'learning_rate': ['adaptive'],\n",
    "    'learning_rate_init' : 10.00 ** -np.arange(3, 4)\n",
    "}\n",
    "\n",
    "MLP_Model, MLP_Details = grid_searc_cross_valid_trainer(Model_, grid, cross_valid, kflods,X_train=X_train , Y_train=Y_train,X_valid=X_valid,Y_valid=Y_valid,X_test=X_test, Y_test=Y_test,nr_repeat=nr_repeat)\n",
    "if save_model:\n",
    "    pickle.dump(MLP_Model, open(G_path + '/Saved/Models/Classifiers/' + 'MLP_Model' , 'wb'))\n",
    "    "
   ]
  },
  {
   "cell_type": "markdown",
   "metadata": {},
   "source": [
    "**Cross Validation**"
   ]
  },
  {
   "cell_type": "code",
   "execution_count": 32,
   "metadata": {},
   "outputs": [
    {
     "name": "stdout",
     "output_type": "stream",
     "text": [
      "------- Precision recal %--------█████████████████████████████████████████████████████████████████████████████████] 100/100\n",
      "              precision    recall  f1-score   support\n",
      "\n",
      "           0       0.50      0.65      0.57        23\n",
      "           1       0.54      0.69      0.60        32\n",
      "           2       0.63      0.69      0.66        72\n",
      "           3       0.67      0.50      0.57         8\n",
      "           4       0.54      0.45      0.49        62\n",
      "           5       0.89      0.83      0.86       200\n",
      "           6       0.75      0.90      0.82        10\n",
      "\n",
      "    accuracy                           0.72       407\n",
      "   macro avg       0.64      0.67      0.65       407\n",
      "weighted avg       0.73      0.72      0.72       407\n",
      "\n",
      "Best param:  {'activation': 'relu', 'alpha': 0.0001, 'hidden_layer_sizes': (50, 60, 50), 'learning_rate': 'adaptive', 'learning_rate_init': 0.001, 'random_state': 0, 'solver': 'sgd'}\n"
     ]
    }
   ],
   "source": [
    "Model_ = sk.neural_network.MLPClassifier()\n",
    "kflods = sk.model_selection.KFold(n_splits=10, shuffle=True)\n",
    "cross_valid = True\n",
    "save_model = True\n",
    "nr_repeat = 10\n",
    "\n",
    "X_train = input_data_Array[0]\n",
    "Y_train = labels_Array[0]\n",
    "X_valid = input_data_Array[1]\n",
    "Y_valid = labels_Array[1]\n",
    "X_test = input_data_Array[2]\n",
    "Y_test = labels_Array[2]\n",
    "\n",
    "grid = {\n",
    "    'hidden_layer_sizes': [(50,60,50)],\n",
    "    'random_state':[0],\n",
    "    'activation': [ 'relu'],\n",
    "    'solver': ['sgd',],\n",
    "    'alpha': [0.0001],\n",
    "    'learning_rate': ['adaptive'],\n",
    "    'learning_rate_init' : [1e-3]\n",
    "}\n",
    "\n",
    "MLP_Model_CV, MLP_Details_CV = grid_searc_cross_valid_trainer(Model_, grid, cross_valid, kflods,X_train=X_train , Y_train=Y_train,X_valid=X_valid,Y_valid=Y_valid,X_test=X_test, Y_test=Y_test,nr_repeat=nr_repeat)\n",
    "if save_model:\n",
    "    pickle.dump(MLP_Model_CV, open(G_path + '/Saved/Models/Classifiers/' + 'MLP_Model_CV' , 'wb'))\n",
    "    pickle.dump(MLP_Details_CV, open(G_path + '/Saved/Cross_Valid_Results/' + 'MLP_Model_CV' , 'wb'))"
   ]
  },
  {
   "cell_type": "code",
   "execution_count": 23,
   "metadata": {},
   "outputs": [
    {
     "name": "stdout",
     "output_type": "stream",
     "text": [
      "Nr. of Data : \n",
      " 407\n",
      "Accuracy of The Model : \n",
      " 0.7199017199017199\n"
     ]
    },
    {
     "data": {
      "text/html": [
       "<style type=\"text/css\">\n",
       "</style>\n",
       "<table id=\"T_62c46\">\n",
       "  <thead>\n",
       "    <tr>\n",
       "      <th class=\"blank level0\" >&nbsp;</th>\n",
       "      <th id=\"T_62c46_level0_col0\" class=\"col_heading level0 col0\" >weights</th>\n",
       "      <th id=\"T_62c46_level0_col1\" class=\"col_heading level0 col1\" >Precision</th>\n",
       "      <th id=\"T_62c46_level0_col2\" class=\"col_heading level0 col2\" >Recall_Sensitivity</th>\n",
       "      <th id=\"T_62c46_level0_col3\" class=\"col_heading level0 col3\" >Specificity</th>\n",
       "      <th id=\"T_62c46_level0_col4\" class=\"col_heading level0 col4\" >f1_score</th>\n",
       "    </tr>\n",
       "  </thead>\n",
       "  <tbody>\n",
       "    <tr>\n",
       "      <th id=\"T_62c46_level0_row0\" class=\"row_heading level0 row0\" >0</th>\n",
       "      <td id=\"T_62c46_row0_col0\" class=\"data row0 col0\" >5.7%</td>\n",
       "      <td id=\"T_62c46_row0_col1\" class=\"data row0 col1\" >48.4%</td>\n",
       "      <td id=\"T_62c46_row0_col2\" class=\"data row0 col2\" >65.2%</td>\n",
       "      <td id=\"T_62c46_row0_col3\" class=\"data row0 col3\" >95.8%</td>\n",
       "      <td id=\"T_62c46_row0_col4\" class=\"data row0 col4\" >55.6%</td>\n",
       "    </tr>\n",
       "    <tr>\n",
       "      <th id=\"T_62c46_level0_row1\" class=\"row_heading level0 row1\" >1</th>\n",
       "      <td id=\"T_62c46_row1_col0\" class=\"data row1 col0\" >7.9%</td>\n",
       "      <td id=\"T_62c46_row1_col1\" class=\"data row1 col1\" >56.4%</td>\n",
       "      <td id=\"T_62c46_row1_col2\" class=\"data row1 col2\" >68.8%</td>\n",
       "      <td id=\"T_62c46_row1_col3\" class=\"data row1 col3\" >95.5%</td>\n",
       "      <td id=\"T_62c46_row1_col4\" class=\"data row1 col4\" >62.0%</td>\n",
       "    </tr>\n",
       "    <tr>\n",
       "      <th id=\"T_62c46_level0_row2\" class=\"row_heading level0 row2\" >2</th>\n",
       "      <td id=\"T_62c46_row2_col0\" class=\"data row2 col0\" >17.7%</td>\n",
       "      <td id=\"T_62c46_row2_col1\" class=\"data row2 col1\" >64.1%</td>\n",
       "      <td id=\"T_62c46_row2_col2\" class=\"data row2 col2\" >69.4%</td>\n",
       "      <td id=\"T_62c46_row2_col3\" class=\"data row2 col3\" >91.6%</td>\n",
       "      <td id=\"T_62c46_row2_col4\" class=\"data row2 col4\" >66.7%</td>\n",
       "    </tr>\n",
       "    <tr>\n",
       "      <th id=\"T_62c46_level0_row3\" class=\"row_heading level0 row3\" >3</th>\n",
       "      <td id=\"T_62c46_row3_col0\" class=\"data row3 col0\" >2.0%</td>\n",
       "      <td id=\"T_62c46_row3_col1\" class=\"data row3 col1\" >66.7%</td>\n",
       "      <td id=\"T_62c46_row3_col2\" class=\"data row3 col2\" >50.0%</td>\n",
       "      <td id=\"T_62c46_row3_col3\" class=\"data row3 col3\" >99.5%</td>\n",
       "      <td id=\"T_62c46_row3_col4\" class=\"data row3 col4\" >57.1%</td>\n",
       "    </tr>\n",
       "    <tr>\n",
       "      <th id=\"T_62c46_level0_row4\" class=\"row_heading level0 row4\" >4</th>\n",
       "      <td id=\"T_62c46_row4_col0\" class=\"data row4 col0\" >15.2%</td>\n",
       "      <td id=\"T_62c46_row4_col1\" class=\"data row4 col1\" >52.7%</td>\n",
       "      <td id=\"T_62c46_row4_col2\" class=\"data row4 col2\" >46.8%</td>\n",
       "      <td id=\"T_62c46_row4_col3\" class=\"data row4 col3\" >92.5%</td>\n",
       "      <td id=\"T_62c46_row4_col4\" class=\"data row4 col4\" >49.6%</td>\n",
       "    </tr>\n",
       "    <tr>\n",
       "      <th id=\"T_62c46_level0_row5\" class=\"row_heading level0 row5\" >5</th>\n",
       "      <td id=\"T_62c46_row5_col0\" class=\"data row5 col0\" >49.1%</td>\n",
       "      <td id=\"T_62c46_row5_col1\" class=\"data row5 col1\" >88.2%</td>\n",
       "      <td id=\"T_62c46_row5_col2\" class=\"data row5 col2\" >82.0%</td>\n",
       "      <td id=\"T_62c46_row5_col3\" class=\"data row5 col3\" >89.4%</td>\n",
       "      <td id=\"T_62c46_row5_col4\" class=\"data row5 col4\" >85.0%</td>\n",
       "    </tr>\n",
       "    <tr>\n",
       "      <th id=\"T_62c46_level0_row6\" class=\"row_heading level0 row6\" >6</th>\n",
       "      <td id=\"T_62c46_row6_col0\" class=\"data row6 col0\" >2.5%</td>\n",
       "      <td id=\"T_62c46_row6_col1\" class=\"data row6 col1\" >75.0%</td>\n",
       "      <td id=\"T_62c46_row6_col2\" class=\"data row6 col2\" >90.0%</td>\n",
       "      <td id=\"T_62c46_row6_col3\" class=\"data row6 col3\" >99.2%</td>\n",
       "      <td id=\"T_62c46_row6_col4\" class=\"data row6 col4\" >81.8%</td>\n",
       "    </tr>\n",
       "    <tr>\n",
       "      <th id=\"T_62c46_level0_row7\" class=\"row_heading level0 row7\" >Simple Avg.</th>\n",
       "      <td id=\"T_62c46_row7_col0\" class=\"data row7 col0\" >nan%</td>\n",
       "      <td id=\"T_62c46_row7_col1\" class=\"data row7 col1\" >64.5%</td>\n",
       "      <td id=\"T_62c46_row7_col2\" class=\"data row7 col2\" >67.5%</td>\n",
       "      <td id=\"T_62c46_row7_col3\" class=\"data row7 col3\" >94.8%</td>\n",
       "      <td id=\"T_62c46_row7_col4\" class=\"data row7 col4\" >65.4%</td>\n",
       "    </tr>\n",
       "    <tr>\n",
       "      <th id=\"T_62c46_level0_row8\" class=\"row_heading level0 row8\" >Weighted Avg.</th>\n",
       "      <td id=\"T_62c46_row8_col0\" class=\"data row8 col0\" >nan%</td>\n",
       "      <td id=\"T_62c46_row8_col1\" class=\"data row8 col1\" >73.0%</td>\n",
       "      <td id=\"T_62c46_row8_col2\" class=\"data row8 col2\" >72.0%</td>\n",
       "      <td id=\"T_62c46_row8_col3\" class=\"data row8 col3\" >91.5%</td>\n",
       "      <td id=\"T_62c46_row8_col4\" class=\"data row8 col4\" >72.2%</td>\n",
       "    </tr>\n",
       "  </tbody>\n",
       "</table>\n"
      ],
      "text/plain": [
       "<pandas.io.formats.style.Styler at 0x288e9fe20>"
      ]
     },
     "execution_count": 23,
     "metadata": {},
     "output_type": "execute_result"
    },
    {
     "data": {
      "image/png": "[encoded data removed]",
      "text/plain": [
       "<Figure size 432x288 with 2 Axes>"
      ]
     },
     "metadata": {
      "needs_background": "light"
     },
     "output_type": "display_data"
    }
   ],
   "source": [
    "# Model 280x210\n",
    "model_ = MLP_Model\n",
    "X = input_data_Array[2]\n",
    "Y = labels_Array[2]\n",
    "# X = blc_data_arrays\n",
    "# Y = blc_label_arrays\n",
    "Y_pred = model_.predict(X)\n",
    "Y_binary =  label_to_binary(Y)\n",
    "Y_pred_binary =  label_to_binary(Y_pred)\n",
    "results = model_evaluation(Y,Y_pred)\n",
    "# results = model_evaluation(Y_binary,Y_pred_binary)\n",
    "results"
   ]
  },
  {
   "cell_type": "code",
   "execution_count": null,
   "metadata": {},
   "outputs": [],
   "source": []
  },
  {
   "cell_type": "markdown",
   "metadata": {},
   "source": [
    "# **KNN**"
   ]
  },
  {
   "cell_type": "code",
   "execution_count": 35,
   "metadata": {},
   "outputs": [
    {
     "name": "stdout",
     "output_type": "stream",
     "text": [
      "------- Precision recal %--------█████████████████████████████████████████████████████████████████████████████████] 3600/3600\n",
      "              precision    recall  f1-score   support\n",
      "\n",
      "           0       0.41      0.52      0.46        23\n",
      "           1       0.59      0.59      0.59        32\n",
      "           2       0.68      0.75      0.71        72\n",
      "           3       0.62      0.62      0.62         8\n",
      "           4       0.52      0.44      0.47        62\n",
      "           5       0.88      0.87      0.88       200\n",
      "           6       1.00      0.90      0.95        10\n",
      "\n",
      "    accuracy                           0.74       407\n",
      "   macro avg       0.67      0.67      0.67       407\n",
      "weighted avg       0.74      0.74      0.74       407\n",
      "\n",
      "Best param:  {'algorithm': 'auto', 'leaf_size': 25, 'n_neighbors': 8, 'p': 2, 'weights': 'distance'}\n"
     ]
    }
   ],
   "source": [
    "Model_ = neighbors.KNeighborsClassifier(n_jobs=-1)\n",
    "kflods = sk.model_selection.KFold(n_splits=10, shuffle=True)\n",
    "cross_valid = True\n",
    "save_model = True\n",
    "nr_repeat = 1\n",
    "\n",
    "X_train = input_data_Array[0]\n",
    "Y_train = labels_Array[0]\n",
    "X_valid = input_data_Array[1]\n",
    "Y_valid = labels_Array[1]\n",
    "X_test = input_data_Array[2]\n",
    "Y_test = labels_Array[2]\n",
    "\n",
    "grid = { \n",
    "    'n_neighbors': [5,7,8,10,16],\n",
    "    'weights': ['uniform', 'distance'],\n",
    "    'algorithm': ['auto','ball_tree','kd_tree','brute'],\n",
    "    'leaf_size' : [15,20,25],\n",
    "    'p' : [1,2,5]\n",
    "}\n",
    "\n",
    "KNN_Model, KNN_Details = grid_searc_cross_valid_trainer(Model_, grid, cross_valid, kflods,X_train=X_train , Y_train=Y_train,X_valid=X_valid,Y_valid=Y_valid,X_test=X_test, Y_test=Y_test,nr_repeat=nr_repeat)\n",
    "\n",
    "if save_model:\n",
    "    pickle.dump(KNN_Model, open(G_path + '/Saved/Models/Classifiers/' + 'KNN_Model' , 'wb'))"
   ]
  },
  {
   "cell_type": "markdown",
   "metadata": {},
   "source": [
    "**Cross Validation**"
   ]
  },
  {
   "cell_type": "code",
   "execution_count": 39,
   "metadata": {},
   "outputs": [
    {
     "name": "stdout",
     "output_type": "stream",
     "text": [
      "------- Precision recal %--------█████████████████████████████████████████████████████████████████████████████████] 100/100\n",
      "              precision    recall  f1-score   support\n",
      "\n",
      "           0       0.39      0.52      0.44        23\n",
      "           1       0.65      0.62      0.63        32\n",
      "           2       0.64      0.75      0.69        72\n",
      "           3       0.62      0.62      0.62         8\n",
      "           4       0.48      0.40      0.44        62\n",
      "           5       0.89      0.86      0.88       200\n",
      "           6       1.00      0.80      0.89        10\n",
      "\n",
      "    accuracy                           0.73       407\n",
      "   macro avg       0.67      0.65      0.66       407\n",
      "weighted avg       0.73      0.73      0.73       407\n",
      "\n",
      "Best param:  {'algorithm': 'auto', 'leaf_size': 25, 'n_neighbors': 8, 'p': 2, 'weights': 'distance'}\n"
     ]
    }
   ],
   "source": [
    "Model_ = neighbors.KNeighborsClassifier(n_jobs=-1)\n",
    "kflods = sk.model_selection.KFold(n_splits=10, shuffle=True)\n",
    "cross_valid = True\n",
    "save_model = True\n",
    "nr_repeat = 10\n",
    "\n",
    "X_train = input_data_Array[0]\n",
    "Y_train = labels_Array[0]\n",
    "X_valid = input_data_Array[1]\n",
    "Y_valid = labels_Array[1]\n",
    "X_test = input_data_Array[2]\n",
    "Y_test = labels_Array[2]\n",
    "\n",
    "grid = { \n",
    "    'n_neighbors': [8],\n",
    "    'weights': ['distance'],\n",
    "    'algorithm': ['auto'],\n",
    "    'leaf_size' : [25],\n",
    "    'p' : [2]\n",
    "}\n",
    "\n",
    "KNN_Model_CV, KNN_Details_CV = grid_searc_cross_valid_trainer(Model_, grid, cross_valid, kflods,X_train=X_train , Y_train=Y_train,X_valid=X_valid,Y_valid=Y_valid,X_test=X_test, Y_test=Y_test,nr_repeat=nr_repeat)\n",
    "\n",
    "if save_model:\n",
    "    pickle.dump(KNN_Model_CV, open(G_path + '/Saved/Models/Classifiers/' + 'KNN_Model_CV' , 'wb'))\n",
    "    pickle.dump(KNN_Details_CV, open(G_path + '/Saved/Cross_Valid_Results/' + 'KNN_Model_CV' , 'wb'))"
   ]
  },
  {
   "cell_type": "code",
   "execution_count": 37,
   "metadata": {},
   "outputs": [
    {
     "name": "stdout",
     "output_type": "stream",
     "text": [
      "Nr. of Data : \n",
      " 407\n",
      "Accuracy of The Model : \n",
      " 0.7371007371007371\n"
     ]
    },
    {
     "data": {
      "text/html": [
       "<style type=\"text/css\">\n",
       "</style>\n",
       "<table id=\"T_47393\">\n",
       "  <thead>\n",
       "    <tr>\n",
       "      <th class=\"blank level0\" >&nbsp;</th>\n",
       "      <th id=\"T_47393_level0_col0\" class=\"col_heading level0 col0\" >weights</th>\n",
       "      <th id=\"T_47393_level0_col1\" class=\"col_heading level0 col1\" >Precision</th>\n",
       "      <th id=\"T_47393_level0_col2\" class=\"col_heading level0 col2\" >Recall_Sensitivity</th>\n",
       "      <th id=\"T_47393_level0_col3\" class=\"col_heading level0 col3\" >Specificity</th>\n",
       "      <th id=\"T_47393_level0_col4\" class=\"col_heading level0 col4\" >f1_score</th>\n",
       "    </tr>\n",
       "  </thead>\n",
       "  <tbody>\n",
       "    <tr>\n",
       "      <th id=\"T_47393_level0_row0\" class=\"row_heading level0 row0\" >0</th>\n",
       "      <td id=\"T_47393_row0_col0\" class=\"data row0 col0\" >5.7%</td>\n",
       "      <td id=\"T_47393_row0_col1\" class=\"data row0 col1\" >41.4%</td>\n",
       "      <td id=\"T_47393_row0_col2\" class=\"data row0 col2\" >52.2%</td>\n",
       "      <td id=\"T_47393_row0_col3\" class=\"data row0 col3\" >95.6%</td>\n",
       "      <td id=\"T_47393_row0_col4\" class=\"data row0 col4\" >46.2%</td>\n",
       "    </tr>\n",
       "    <tr>\n",
       "      <th id=\"T_47393_level0_row1\" class=\"row_heading level0 row1\" >1</th>\n",
       "      <td id=\"T_47393_row1_col0\" class=\"data row1 col0\" >7.9%</td>\n",
       "      <td id=\"T_47393_row1_col1\" class=\"data row1 col1\" >59.4%</td>\n",
       "      <td id=\"T_47393_row1_col2\" class=\"data row1 col2\" >59.4%</td>\n",
       "      <td id=\"T_47393_row1_col3\" class=\"data row1 col3\" >96.5%</td>\n",
       "      <td id=\"T_47393_row1_col4\" class=\"data row1 col4\" >59.4%</td>\n",
       "    </tr>\n",
       "    <tr>\n",
       "      <th id=\"T_47393_level0_row2\" class=\"row_heading level0 row2\" >2</th>\n",
       "      <td id=\"T_47393_row2_col0\" class=\"data row2 col0\" >17.7%</td>\n",
       "      <td id=\"T_47393_row2_col1\" class=\"data row2 col1\" >67.5%</td>\n",
       "      <td id=\"T_47393_row2_col2\" class=\"data row2 col2\" >75.0%</td>\n",
       "      <td id=\"T_47393_row2_col3\" class=\"data row2 col3\" >92.2%</td>\n",
       "      <td id=\"T_47393_row2_col4\" class=\"data row2 col4\" >71.1%</td>\n",
       "    </tr>\n",
       "    <tr>\n",
       "      <th id=\"T_47393_level0_row3\" class=\"row_heading level0 row3\" >3</th>\n",
       "      <td id=\"T_47393_row3_col0\" class=\"data row3 col0\" >2.0%</td>\n",
       "      <td id=\"T_47393_row3_col1\" class=\"data row3 col1\" >62.5%</td>\n",
       "      <td id=\"T_47393_row3_col2\" class=\"data row3 col2\" >62.5%</td>\n",
       "      <td id=\"T_47393_row3_col3\" class=\"data row3 col3\" >99.2%</td>\n",
       "      <td id=\"T_47393_row3_col4\" class=\"data row3 col4\" >62.5%</td>\n",
       "    </tr>\n",
       "    <tr>\n",
       "      <th id=\"T_47393_level0_row4\" class=\"row_heading level0 row4\" >4</th>\n",
       "      <td id=\"T_47393_row4_col0\" class=\"data row4 col0\" >15.2%</td>\n",
       "      <td id=\"T_47393_row4_col1\" class=\"data row4 col1\" >51.9%</td>\n",
       "      <td id=\"T_47393_row4_col2\" class=\"data row4 col2\" >43.5%</td>\n",
       "      <td id=\"T_47393_row4_col3\" class=\"data row4 col3\" >92.8%</td>\n",
       "      <td id=\"T_47393_row4_col4\" class=\"data row4 col4\" >47.4%</td>\n",
       "    </tr>\n",
       "    <tr>\n",
       "      <th id=\"T_47393_level0_row5\" class=\"row_heading level0 row5\" >5</th>\n",
       "      <td id=\"T_47393_row5_col0\" class=\"data row5 col0\" >49.1%</td>\n",
       "      <td id=\"T_47393_row5_col1\" class=\"data row5 col1\" >88.3%</td>\n",
       "      <td id=\"T_47393_row5_col2\" class=\"data row5 col2\" >87.0%</td>\n",
       "      <td id=\"T_47393_row5_col3\" class=\"data row5 col3\" >88.9%</td>\n",
       "      <td id=\"T_47393_row5_col4\" class=\"data row5 col4\" >87.7%</td>\n",
       "    </tr>\n",
       "    <tr>\n",
       "      <th id=\"T_47393_level0_row6\" class=\"row_heading level0 row6\" >6</th>\n",
       "      <td id=\"T_47393_row6_col0\" class=\"data row6 col0\" >2.5%</td>\n",
       "      <td id=\"T_47393_row6_col1\" class=\"data row6 col1\" >100.0%</td>\n",
       "      <td id=\"T_47393_row6_col2\" class=\"data row6 col2\" >90.0%</td>\n",
       "      <td id=\"T_47393_row6_col3\" class=\"data row6 col3\" >100.0%</td>\n",
       "      <td id=\"T_47393_row6_col4\" class=\"data row6 col4\" >94.7%</td>\n",
       "    </tr>\n",
       "    <tr>\n",
       "      <th id=\"T_47393_level0_row7\" class=\"row_heading level0 row7\" >Simple Avg.</th>\n",
       "      <td id=\"T_47393_row7_col0\" class=\"data row7 col0\" >nan%</td>\n",
       "      <td id=\"T_47393_row7_col1\" class=\"data row7 col1\" >67.3%</td>\n",
       "      <td id=\"T_47393_row7_col2\" class=\"data row7 col2\" >67.1%</td>\n",
       "      <td id=\"T_47393_row7_col3\" class=\"data row7 col3\" >95.0%</td>\n",
       "      <td id=\"T_47393_row7_col4\" class=\"data row7 col4\" >67.0%</td>\n",
       "    </tr>\n",
       "    <tr>\n",
       "      <th id=\"T_47393_level0_row8\" class=\"row_heading level0 row8\" >Weighted Avg.</th>\n",
       "      <td id=\"T_47393_row8_col0\" class=\"data row8 col0\" >nan%</td>\n",
       "      <td id=\"T_47393_row8_col1\" class=\"data row8 col1\" >73.9%</td>\n",
       "      <td id=\"T_47393_row8_col2\" class=\"data row8 col2\" >73.7%</td>\n",
       "      <td id=\"T_47393_row8_col3\" class=\"data row8 col3\" >91.5%</td>\n",
       "      <td id=\"T_47393_row8_col4\" class=\"data row8 col4\" >73.7%</td>\n",
       "    </tr>\n",
       "  </tbody>\n",
       "</table>\n"
      ],
      "text/plain": [
       "<pandas.io.formats.style.Styler at 0x287603d60>"
      ]
     },
     "execution_count": 37,
     "metadata": {},
     "output_type": "execute_result"
    },
    {
     "data": {
      "image/png": "[encoded data removed]",
      "text/plain": [
       "<Figure size 432x288 with 2 Axes>"
      ]
     },
     "metadata": {
      "needs_background": "light"
     },
     "output_type": "display_data"
    }
   ],
   "source": [
    "# Model 280x210\n",
    "model_ = KNN_Model\n",
    "X = input_data_Array[2]\n",
    "Y = labels_Array[2]\n",
    "# X = blc_data_arrays\n",
    "# Y = blc_label_arrays\n",
    "Y_pred = model_.predict(X)\n",
    "Y_binary =  label_to_binary(Y)\n",
    "Y_pred_binary =  label_to_binary(Y_pred)\n",
    "results = model_evaluation(Y,Y_pred)\n",
    "# results = model_evaluation(Y_binary,Y_pred_binary)\n",
    "results"
   ]
  },
  {
   "cell_type": "markdown",
   "metadata": {},
   "source": [
    "# **AdaBoostClassifier**"
   ]
  },
  {
   "cell_type": "code",
   "execution_count": 22,
   "metadata": {},
   "outputs": [
    {
     "name": "stderr",
     "output_type": "stream",
     "text": [
      "100%|██████████| 24/24 [01:32<00:00,  3.87s/it]\n"
     ]
    },
    {
     "name": "stdout",
     "output_type": "stream",
     "text": [
      "------- Precision recal %--------\n",
      "              precision    recall  f1-score   support\n",
      "\n",
      "           0       0.47      0.61      0.53        23\n",
      "           1       0.61      0.69      0.65        32\n",
      "           2       0.61      0.58      0.60        72\n",
      "           3       0.67      0.50      0.57         8\n",
      "           4       0.50      0.61      0.55        62\n",
      "           5       0.89      0.81      0.85       200\n",
      "           6       1.00      0.80      0.89        10\n",
      "\n",
      "    accuracy                           0.71       407\n",
      "   macro avg       0.68      0.66      0.66       407\n",
      "weighted avg       0.73      0.71      0.72       407\n",
      "\n",
      "Best param:  {'algorithm': 'SAMME', 'learning_rate': 1, 'n_estimators': 200}\n"
     ]
    }
   ],
   "source": [
    "Model_ = sk.ensemble.AdaBoostClassifier(random_state=0)\n",
    "kflods = sk.model_selection.KFold(n_splits=10, shuffle=True)\n",
    "cross_valid = True\n",
    "save_model = True\n",
    "X_train = input_data_Array[0]\n",
    "Y_train = labels_Array[0]\n",
    "X_valid = input_data_Array[1]\n",
    "Y_valid = labels_Array[1]\n",
    "X_test = input_data_Array[2]\n",
    "Y_test = labels_Array[2]\n",
    "\n",
    "grid = { \n",
    "    'n_estimators': [20,100,200],\n",
    "    'learning_rate': [1,1.5,2],\n",
    "    'algorithm': ['SAMME','SAMME.R']\n",
    "}\n",
    "\n",
    "AdaB_Model, AdaB_Details = grid_searc_cross_valid_trainer(Model_, grid, cross_valid, kflods,X_train=X_train , Y_train=Y_train,X_valid=X_valid,Y_valid=Y_valid,X_test=X_test, Y_test=Y_test)\n",
    "\n",
    "if save_model:\n",
    "    pickle.dump(AdaB_Model, open(G_path + '/Saved/Models/Classifiers/' + 'AdaB_Model' , 'wb'))"
   ]
  },
  {
   "cell_type": "code",
   "execution_count": 24,
   "metadata": {},
   "outputs": [
    {
     "name": "stdout",
     "output_type": "stream",
     "text": [
      "Nr. of Data : \n",
      " 407\n",
      "Accuracy of The Model : \n",
      " 0.714987714987715\n"
     ]
    },
    {
     "data": {
      "text/html": [
       "<style type=\"text/css\">\n",
       "</style>\n",
       "<table id=\"T_92540\">\n",
       "  <thead>\n",
       "    <tr>\n",
       "      <th class=\"blank level0\" >&nbsp;</th>\n",
       "      <th id=\"T_92540_level0_col0\" class=\"col_heading level0 col0\" >weights</th>\n",
       "      <th id=\"T_92540_level0_col1\" class=\"col_heading level0 col1\" >Precision</th>\n",
       "      <th id=\"T_92540_level0_col2\" class=\"col_heading level0 col2\" >Recall_Sensitivity</th>\n",
       "      <th id=\"T_92540_level0_col3\" class=\"col_heading level0 col3\" >Specificity</th>\n",
       "      <th id=\"T_92540_level0_col4\" class=\"col_heading level0 col4\" >f1_score</th>\n",
       "    </tr>\n",
       "  </thead>\n",
       "  <tbody>\n",
       "    <tr>\n",
       "      <th id=\"T_92540_level0_row0\" class=\"row_heading level0 row0\" >0</th>\n",
       "      <td id=\"T_92540_row0_col0\" class=\"data row0 col0\" >5.7%</td>\n",
       "      <td id=\"T_92540_row0_col1\" class=\"data row0 col1\" >41.4%</td>\n",
       "      <td id=\"T_92540_row0_col2\" class=\"data row0 col2\" >52.2%</td>\n",
       "      <td id=\"T_92540_row0_col3\" class=\"data row0 col3\" >95.6%</td>\n",
       "      <td id=\"T_92540_row0_col4\" class=\"data row0 col4\" >46.2%</td>\n",
       "    </tr>\n",
       "    <tr>\n",
       "      <th id=\"T_92540_level0_row1\" class=\"row_heading level0 row1\" >1</th>\n",
       "      <td id=\"T_92540_row1_col0\" class=\"data row1 col0\" >7.9%</td>\n",
       "      <td id=\"T_92540_row1_col1\" class=\"data row1 col1\" >58.3%</td>\n",
       "      <td id=\"T_92540_row1_col2\" class=\"data row1 col2\" >65.6%</td>\n",
       "      <td id=\"T_92540_row1_col3\" class=\"data row1 col3\" >96.0%</td>\n",
       "      <td id=\"T_92540_row1_col4\" class=\"data row1 col4\" >61.8%</td>\n",
       "    </tr>\n",
       "    <tr>\n",
       "      <th id=\"T_92540_level0_row2\" class=\"row_heading level0 row2\" >2</th>\n",
       "      <td id=\"T_92540_row2_col0\" class=\"data row2 col0\" >17.7%</td>\n",
       "      <td id=\"T_92540_row2_col1\" class=\"data row2 col1\" >62.5%</td>\n",
       "      <td id=\"T_92540_row2_col2\" class=\"data row2 col2\" >69.4%</td>\n",
       "      <td id=\"T_92540_row2_col3\" class=\"data row2 col3\" >91.0%</td>\n",
       "      <td id=\"T_92540_row2_col4\" class=\"data row2 col4\" >65.8%</td>\n",
       "    </tr>\n",
       "    <tr>\n",
       "      <th id=\"T_92540_level0_row3\" class=\"row_heading level0 row3\" >3</th>\n",
       "      <td id=\"T_92540_row3_col0\" class=\"data row3 col0\" >2.0%</td>\n",
       "      <td id=\"T_92540_row3_col1\" class=\"data row3 col1\" >71.4%</td>\n",
       "      <td id=\"T_92540_row3_col2\" class=\"data row3 col2\" >62.5%</td>\n",
       "      <td id=\"T_92540_row3_col3\" class=\"data row3 col3\" >99.5%</td>\n",
       "      <td id=\"T_92540_row3_col4\" class=\"data row3 col4\" >66.7%</td>\n",
       "    </tr>\n",
       "    <tr>\n",
       "      <th id=\"T_92540_level0_row4\" class=\"row_heading level0 row4\" >4</th>\n",
       "      <td id=\"T_92540_row4_col0\" class=\"data row4 col0\" >15.2%</td>\n",
       "      <td id=\"T_92540_row4_col1\" class=\"data row4 col1\" >45.3%</td>\n",
       "      <td id=\"T_92540_row4_col2\" class=\"data row4 col2\" >46.8%</td>\n",
       "      <td id=\"T_92540_row4_col3\" class=\"data row4 col3\" >89.9%</td>\n",
       "      <td id=\"T_92540_row4_col4\" class=\"data row4 col4\" >46.0%</td>\n",
       "    </tr>\n",
       "    <tr>\n",
       "      <th id=\"T_92540_level0_row5\" class=\"row_heading level0 row5\" >5</th>\n",
       "      <td id=\"T_92540_row5_col0\" class=\"data row5 col0\" >49.1%</td>\n",
       "      <td id=\"T_92540_row5_col1\" class=\"data row5 col1\" >90.7%</td>\n",
       "      <td id=\"T_92540_row5_col2\" class=\"data row5 col2\" >83.0%</td>\n",
       "      <td id=\"T_92540_row5_col3\" class=\"data row5 col3\" >91.8%</td>\n",
       "      <td id=\"T_92540_row5_col4\" class=\"data row5 col4\" >86.7%</td>\n",
       "    </tr>\n",
       "    <tr>\n",
       "      <th id=\"T_92540_level0_row6\" class=\"row_heading level0 row6\" >6</th>\n",
       "      <td id=\"T_92540_row6_col0\" class=\"data row6 col0\" >2.5%</td>\n",
       "      <td id=\"T_92540_row6_col1\" class=\"data row6 col1\" >100.0%</td>\n",
       "      <td id=\"T_92540_row6_col2\" class=\"data row6 col2\" >80.0%</td>\n",
       "      <td id=\"T_92540_row6_col3\" class=\"data row6 col3\" >100.0%</td>\n",
       "      <td id=\"T_92540_row6_col4\" class=\"data row6 col4\" >88.9%</td>\n",
       "    </tr>\n",
       "    <tr>\n",
       "      <th id=\"T_92540_level0_row7\" class=\"row_heading level0 row7\" >Simple Avg.</th>\n",
       "      <td id=\"T_92540_row7_col0\" class=\"data row7 col0\" >nan%</td>\n",
       "      <td id=\"T_92540_row7_col1\" class=\"data row7 col1\" >67.1%</td>\n",
       "      <td id=\"T_92540_row7_col2\" class=\"data row7 col2\" >65.6%</td>\n",
       "      <td id=\"T_92540_row7_col3\" class=\"data row7 col3\" >94.8%</td>\n",
       "      <td id=\"T_92540_row7_col4\" class=\"data row7 col4\" >66.0%</td>\n",
       "    </tr>\n",
       "    <tr>\n",
       "      <th id=\"T_92540_level0_row8\" class=\"row_heading level0 row8\" >Weighted Avg.</th>\n",
       "      <td id=\"T_92540_row8_col0\" class=\"data row8 col0\" >nan%</td>\n",
       "      <td id=\"T_92540_row8_col1\" class=\"data row8 col1\" >73.3%</td>\n",
       "      <td id=\"T_92540_row8_col2\" class=\"data row8 col2\" >71.5%</td>\n",
       "      <td id=\"T_92540_row8_col3\" class=\"data row8 col3\" >92.3%</td>\n",
       "      <td id=\"T_92540_row8_col4\" class=\"data row8 col4\" >72.2%</td>\n",
       "    </tr>\n",
       "  </tbody>\n",
       "</table>\n"
      ],
      "text/plain": [
       "<pandas.io.formats.style.Styler at 0x1070837c0>"
      ]
     },
     "execution_count": 24,
     "metadata": {},
     "output_type": "execute_result"
    },
    {
     "data": {
      "image/png": "[encoded data removed]",
      "text/plain": [
       "<Figure size 432x288 with 2 Axes>"
      ]
     },
     "metadata": {
      "needs_background": "light"
     },
     "output_type": "display_data"
    }
   ],
   "source": [
    "# Model 280x210\n",
    "model_ = KNN_Model\n",
    "X = input_data_Array[2]\n",
    "Y = labels_Array[2]\n",
    "# X = blc_data_arrays\n",
    "# Y = blc_label_arrays\n",
    "Y_pred = model_.predict(X)\n",
    "Y_binary =  label_to_binary(Y)\n",
    "Y_pred_binary =  label_to_binary(Y_pred)\n",
    "results = model_evaluation(Y,Y_pred)\n",
    "# results = model_evaluation(Y_binary,Y_pred_binary)\n",
    "results"
   ]
  },
  {
   "cell_type": "code",
   "execution_count": null,
   "metadata": {},
   "outputs": [],
   "source": [
    "import numpy as np\n",
    "import matplotlib.pyplot as plt\n",
    "from matplotlib.colors import ListedColormap\n",
    "from sklearn.model_selection import train_test_split\n",
    "from sklearn.preprocessing import StandardScaler\n",
    "from sklearn.datasets import make_moons, make_circles, make_classification\n",
    "from sklearn.neural_network import MLPClassifier\n",
    "from sklearn.neighbors import KNeighborsClassifier\n",
    "from sklearn.svm import SVC\n",
    "from sklearn.gaussian_process import GaussianProcessClassifier\n",
    "from sklearn.gaussian_process.kernels import RBF\n",
    "from sklearn.tree import DecisionTreeClassifier\n",
    "from sklearn.ensemble import RandomForestClassifier, AdaBoostClassifier\n",
    "from sklearn.naive_bayes import GaussianNB\n",
    "from sklearn.discriminant_analysis import QuadraticDiscriminantAnalysis\n",
    "from sklearn.inspection import DecisionBoundaryDisplay"
   ]
  },
  {
   "cell_type": "code",
   "execution_count": null,
   "metadata": {},
   "outputs": [],
   "source": [
    "names = ['RF_Model','SVM_Model','GB_Model','KNN_Model']\n",
    "classifiers = [RF_Model,SVM_Model,GB_Model,KNN_Model]"
   ]
  },
  {
   "cell_type": "markdown",
   "metadata": {},
   "source": [
    "# **VotingClassifier**"
   ]
  },
  {
   "cell_type": "code",
   "execution_count": 79,
   "metadata": {},
   "outputs": [
    {
     "name": "stderr",
     "output_type": "stream",
     "text": [
      "/Users/sepehrbe/Library/Python/3.8/lib/python/site-packages/sklearn/ensemble/_forest.py:427: FutureWarning: `max_features='auto'` has been deprecated in 1.1 and will be removed in 1.3. To keep the past behaviour, explicitly set `max_features='sqrt'` or remove this parameter as it is also the default value for RandomForestClassifiers and ExtraTreesClassifiers.\n",
      "  warn(\n",
      "/Users/sepehrbe/Library/Python/3.8/lib/python/site-packages/sklearn/neural_network/_multilayer_perceptron.py:702: ConvergenceWarning: Stochastic Optimizer: Maximum iterations (200) reached and the optimization hasn't converged yet.\n",
      "  warnings.warn(\n"
     ]
    }
   ],
   "source": [
    "estimators = [('RF',RF_Model),('SVM',SVM_Model),('MLP',MLP_Model)]\n",
    "\n",
    "Model_ = sk.ensemble.VotingClassifier(estimators=estimators, n_jobs=-1,weights=[5,1,1], voting='soft')\n",
    "\n",
    "kflods = sk.model_selection.KFold(n_splits=10, shuffle=True)\n",
    "cross_valid = False\n",
    "save_model = False\n",
    "X_train = input_data_Array[0]\n",
    "Y_train = labels_Array[0]\n",
    "X_valid = input_data_Array[1]\n",
    "Y_valid = labels_Array[1]\n",
    "X_test = input_data_Array[2]\n",
    "Y_test = labels_Array[2]\n",
    "\n",
    "grid = { \n",
    "    'estimators' : estimators,\n",
    "    'voting': ['hard','soft'],\n",
    "    'learning_rate': [1,1.5,2],\n",
    "    'flatten_transform': [True, False]\n",
    "}\n",
    "\n",
    "VC_Model = Model_\n",
    "\n",
    "VC_Model.fit(X_train,Y_train)\n",
    "# VC_Model, VC_Details = grid_searc_cross_valid_trainer(Model_, grid, cross_valid, kflods,X_train=X_train , Y_train=Y_train,X_valid=X_valid,Y_valid=Y_valid,X_test=X_test, Y_test=Y_test)\n",
    "\n",
    "if save_model:\n",
    "    pickle.dump(VC_Model, open(G_path + '/Saved/Models/Classifiers/' + 'VC_Model' , 'wb'))"
   ]
  },
  {
   "cell_type": "code",
   "execution_count": null,
   "metadata": {},
   "outputs": [],
   "source": [
    "estimators = [('RF',RF_Model),('SVM',SVM_Model),('GB',GB_Model),('KNN',KNN_Model),('MLP',MLP_Model)]\n",
    "\n",
    "params = {'voting':['hard', 'soft'],'weights':[(1,1,1,1,1), (2,1,1,1,2), (1,2,1,1,2), (1,1,2,1,1), (2,1,1,1,2)]}\n",
    "\n",
    "grid = sk.model_selection.GridSearchCV(estimator=Model_, param_grid=params, cv=5, scoring='accuracy')\n",
    "grid.fit(X_train, Y_train)"
   ]
  },
  {
   "cell_type": "code",
   "execution_count": 80,
   "metadata": {},
   "outputs": [
    {
     "ename": "AttributeError",
     "evalue": "predict_proba is not available when  probability=False",
     "output_type": "error",
     "traceback": [
      "\u001b[0;31m---------------------------------------------------------------------------\u001b[0m",
      "\u001b[0;31mAttributeError\u001b[0m                            Traceback (most recent call last)",
      "\u001b[0;32m/var/folders/jr/h5q7lybd23l1htckxf1x0dnr0000gn/T/ipykernel_60266/1431217845.py\u001b[0m in \u001b[0;36m<cell line: 7>\u001b[0;34m()\u001b[0m\n\u001b[1;32m      5\u001b[0m \u001b[0;31m# X = blc_data_arrays\u001b[0m\u001b[0;34m\u001b[0m\u001b[0;34m\u001b[0m\u001b[0;34m\u001b[0m\u001b[0m\n\u001b[1;32m      6\u001b[0m \u001b[0;31m# Y = blc_label_arrays\u001b[0m\u001b[0;34m\u001b[0m\u001b[0;34m\u001b[0m\u001b[0;34m\u001b[0m\u001b[0m\n\u001b[0;32m----> 7\u001b[0;31m \u001b[0mY_pred\u001b[0m \u001b[0;34m=\u001b[0m \u001b[0mmodel_\u001b[0m\u001b[0;34m.\u001b[0m\u001b[0mpredict\u001b[0m\u001b[0;34m(\u001b[0m\u001b[0mX\u001b[0m\u001b[0;34m)\u001b[0m\u001b[0;34m\u001b[0m\u001b[0;34m\u001b[0m\u001b[0m\n\u001b[0m\u001b[1;32m      8\u001b[0m \u001b[0mY_binary\u001b[0m \u001b[0;34m=\u001b[0m  \u001b[0mlabel_to_binary\u001b[0m\u001b[0;34m(\u001b[0m\u001b[0mY\u001b[0m\u001b[0;34m)\u001b[0m\u001b[0;34m\u001b[0m\u001b[0;34m\u001b[0m\u001b[0m\n\u001b[1;32m      9\u001b[0m \u001b[0mY_pred_binary\u001b[0m \u001b[0;34m=\u001b[0m  \u001b[0mlabel_to_binary\u001b[0m\u001b[0;34m(\u001b[0m\u001b[0mY_pred\u001b[0m\u001b[0;34m)\u001b[0m\u001b[0;34m\u001b[0m\u001b[0;34m\u001b[0m\u001b[0m\n",
      "\u001b[0;32m~/Library/Python/3.8/lib/python/site-packages/sklearn/ensemble/_voting.py\u001b[0m in \u001b[0;36mpredict\u001b[0;34m(self, X)\u001b[0m\n\u001b[1;32m    366\u001b[0m         \u001b[0mcheck_is_fitted\u001b[0m\u001b[0;34m(\u001b[0m\u001b[0mself\u001b[0m\u001b[0;34m)\u001b[0m\u001b[0;34m\u001b[0m\u001b[0;34m\u001b[0m\u001b[0m\n\u001b[1;32m    367\u001b[0m         \u001b[0;32mif\u001b[0m \u001b[0mself\u001b[0m\u001b[0;34m.\u001b[0m\u001b[0mvoting\u001b[0m \u001b[0;34m==\u001b[0m \u001b[0;34m\"soft\"\u001b[0m\u001b[0;34m:\u001b[0m\u001b[0;34m\u001b[0m\u001b[0;34m\u001b[0m\u001b[0m\n\u001b[0;32m--> 368\u001b[0;31m             \u001b[0mmaj\u001b[0m \u001b[0;34m=\u001b[0m \u001b[0mnp\u001b[0m\u001b[0;34m.\u001b[0m\u001b[0margmax\u001b[0m\u001b[0;34m(\u001b[0m\u001b[0mself\u001b[0m\u001b[0;34m.\u001b[0m\u001b[0mpredict_proba\u001b[0m\u001b[0;34m(\u001b[0m\u001b[0mX\u001b[0m\u001b[0;34m)\u001b[0m\u001b[0;34m,\u001b[0m \u001b[0maxis\u001b[0m\u001b[0;34m=\u001b[0m\u001b[0;36m1\u001b[0m\u001b[0;34m)\u001b[0m\u001b[0;34m\u001b[0m\u001b[0;34m\u001b[0m\u001b[0m\n\u001b[0m\u001b[1;32m    369\u001b[0m \u001b[0;34m\u001b[0m\u001b[0m\n\u001b[1;32m    370\u001b[0m         \u001b[0;32melse\u001b[0m\u001b[0;34m:\u001b[0m  \u001b[0;31m# 'hard' voting\u001b[0m\u001b[0;34m\u001b[0m\u001b[0;34m\u001b[0m\u001b[0m\n",
      "\u001b[0;32m~/Library/Python/3.8/lib/python/site-packages/sklearn/ensemble/_voting.py\u001b[0m in \u001b[0;36mpredict_proba\u001b[0;34m(self, X)\u001b[0m\n\u001b[1;32m    407\u001b[0m         \u001b[0mcheck_is_fitted\u001b[0m\u001b[0;34m(\u001b[0m\u001b[0mself\u001b[0m\u001b[0;34m)\u001b[0m\u001b[0;34m\u001b[0m\u001b[0;34m\u001b[0m\u001b[0m\n\u001b[1;32m    408\u001b[0m         avg = np.average(\n\u001b[0;32m--> 409\u001b[0;31m             \u001b[0mself\u001b[0m\u001b[0;34m.\u001b[0m\u001b[0m_collect_probas\u001b[0m\u001b[0;34m(\u001b[0m\u001b[0mX\u001b[0m\u001b[0;34m)\u001b[0m\u001b[0;34m,\u001b[0m \u001b[0maxis\u001b[0m\u001b[0;34m=\u001b[0m\u001b[0;36m0\u001b[0m\u001b[0;34m,\u001b[0m \u001b[0mweights\u001b[0m\u001b[0;34m=\u001b[0m\u001b[0mself\u001b[0m\u001b[0;34m.\u001b[0m\u001b[0m_weights_not_none\u001b[0m\u001b[0;34m\u001b[0m\u001b[0;34m\u001b[0m\u001b[0m\n\u001b[0m\u001b[1;32m    410\u001b[0m         )\n\u001b[1;32m    411\u001b[0m         \u001b[0;32mreturn\u001b[0m \u001b[0mavg\u001b[0m\u001b[0;34m\u001b[0m\u001b[0;34m\u001b[0m\u001b[0m\n",
      "\u001b[0;32m~/Library/Python/3.8/lib/python/site-packages/sklearn/ensemble/_voting.py\u001b[0m in \u001b[0;36m_collect_probas\u001b[0;34m(self, X)\u001b[0m\n\u001b[1;32m    382\u001b[0m     \u001b[0;32mdef\u001b[0m \u001b[0m_collect_probas\u001b[0m\u001b[0;34m(\u001b[0m\u001b[0mself\u001b[0m\u001b[0;34m,\u001b[0m \u001b[0mX\u001b[0m\u001b[0;34m)\u001b[0m\u001b[0;34m:\u001b[0m\u001b[0;34m\u001b[0m\u001b[0;34m\u001b[0m\u001b[0m\n\u001b[1;32m    383\u001b[0m         \u001b[0;34m\"\"\"Collect results from clf.predict calls.\"\"\"\u001b[0m\u001b[0;34m\u001b[0m\u001b[0;34m\u001b[0m\u001b[0m\n\u001b[0;32m--> 384\u001b[0;31m         \u001b[0;32mreturn\u001b[0m \u001b[0mnp\u001b[0m\u001b[0;34m.\u001b[0m\u001b[0masarray\u001b[0m\u001b[0;34m(\u001b[0m\u001b[0;34m[\u001b[0m\u001b[0mclf\u001b[0m\u001b[0;34m.\u001b[0m\u001b[0mpredict_proba\u001b[0m\u001b[0;34m(\u001b[0m\u001b[0mX\u001b[0m\u001b[0;34m)\u001b[0m \u001b[0;32mfor\u001b[0m \u001b[0mclf\u001b[0m \u001b[0;32min\u001b[0m \u001b[0mself\u001b[0m\u001b[0;34m.\u001b[0m\u001b[0mestimators_\u001b[0m\u001b[0;34m]\u001b[0m\u001b[0;34m)\u001b[0m\u001b[0;34m\u001b[0m\u001b[0;34m\u001b[0m\u001b[0m\n\u001b[0m\u001b[1;32m    385\u001b[0m \u001b[0;34m\u001b[0m\u001b[0m\n\u001b[1;32m    386\u001b[0m     \u001b[0;32mdef\u001b[0m \u001b[0m_check_voting\u001b[0m\u001b[0;34m(\u001b[0m\u001b[0mself\u001b[0m\u001b[0;34m)\u001b[0m\u001b[0;34m:\u001b[0m\u001b[0;34m\u001b[0m\u001b[0;34m\u001b[0m\u001b[0m\n",
      "\u001b[0;32m~/Library/Python/3.8/lib/python/site-packages/sklearn/ensemble/_voting.py\u001b[0m in \u001b[0;36m<listcomp>\u001b[0;34m(.0)\u001b[0m\n\u001b[1;32m    382\u001b[0m     \u001b[0;32mdef\u001b[0m \u001b[0m_collect_probas\u001b[0m\u001b[0;34m(\u001b[0m\u001b[0mself\u001b[0m\u001b[0;34m,\u001b[0m \u001b[0mX\u001b[0m\u001b[0;34m)\u001b[0m\u001b[0;34m:\u001b[0m\u001b[0;34m\u001b[0m\u001b[0;34m\u001b[0m\u001b[0m\n\u001b[1;32m    383\u001b[0m         \u001b[0;34m\"\"\"Collect results from clf.predict calls.\"\"\"\u001b[0m\u001b[0;34m\u001b[0m\u001b[0;34m\u001b[0m\u001b[0m\n\u001b[0;32m--> 384\u001b[0;31m         \u001b[0;32mreturn\u001b[0m \u001b[0mnp\u001b[0m\u001b[0;34m.\u001b[0m\u001b[0masarray\u001b[0m\u001b[0;34m(\u001b[0m\u001b[0;34m[\u001b[0m\u001b[0mclf\u001b[0m\u001b[0;34m.\u001b[0m\u001b[0mpredict_proba\u001b[0m\u001b[0;34m(\u001b[0m\u001b[0mX\u001b[0m\u001b[0;34m)\u001b[0m \u001b[0;32mfor\u001b[0m \u001b[0mclf\u001b[0m \u001b[0;32min\u001b[0m \u001b[0mself\u001b[0m\u001b[0;34m.\u001b[0m\u001b[0mestimators_\u001b[0m\u001b[0;34m]\u001b[0m\u001b[0;34m)\u001b[0m\u001b[0;34m\u001b[0m\u001b[0;34m\u001b[0m\u001b[0m\n\u001b[0m\u001b[1;32m    385\u001b[0m \u001b[0;34m\u001b[0m\u001b[0m\n\u001b[1;32m    386\u001b[0m     \u001b[0;32mdef\u001b[0m \u001b[0m_check_voting\u001b[0m\u001b[0;34m(\u001b[0m\u001b[0mself\u001b[0m\u001b[0;34m)\u001b[0m\u001b[0;34m:\u001b[0m\u001b[0;34m\u001b[0m\u001b[0;34m\u001b[0m\u001b[0m\n",
      "\u001b[0;32m~/Library/Python/3.8/lib/python/site-packages/sklearn/utils/metaestimators.py\u001b[0m in \u001b[0;36m__get__\u001b[0;34m(self, obj, owner)\u001b[0m\n\u001b[1;32m    125\u001b[0m             \u001b[0;31m# delegate only on instances, not the classes.\u001b[0m\u001b[0;34m\u001b[0m\u001b[0;34m\u001b[0m\u001b[0;34m\u001b[0m\u001b[0m\n\u001b[1;32m    126\u001b[0m             \u001b[0;31m# this is to allow access to the docstrings.\u001b[0m\u001b[0;34m\u001b[0m\u001b[0;34m\u001b[0m\u001b[0;34m\u001b[0m\u001b[0m\n\u001b[0;32m--> 127\u001b[0;31m             \u001b[0;32mif\u001b[0m \u001b[0;32mnot\u001b[0m \u001b[0mself\u001b[0m\u001b[0;34m.\u001b[0m\u001b[0mcheck\u001b[0m\u001b[0;34m(\u001b[0m\u001b[0mobj\u001b[0m\u001b[0;34m)\u001b[0m\u001b[0;34m:\u001b[0m\u001b[0;34m\u001b[0m\u001b[0;34m\u001b[0m\u001b[0m\n\u001b[0m\u001b[1;32m    128\u001b[0m                 \u001b[0;32mraise\u001b[0m \u001b[0mattr_err\u001b[0m\u001b[0;34m\u001b[0m\u001b[0;34m\u001b[0m\u001b[0m\n\u001b[1;32m    129\u001b[0m             \u001b[0mout\u001b[0m \u001b[0;34m=\u001b[0m \u001b[0mMethodType\u001b[0m\u001b[0;34m(\u001b[0m\u001b[0mself\u001b[0m\u001b[0;34m.\u001b[0m\u001b[0mfn\u001b[0m\u001b[0;34m,\u001b[0m \u001b[0mobj\u001b[0m\u001b[0;34m)\u001b[0m\u001b[0;34m\u001b[0m\u001b[0;34m\u001b[0m\u001b[0m\n",
      "\u001b[0;32m~/Library/Python/3.8/lib/python/site-packages/sklearn/svm/_base.py\u001b[0m in \u001b[0;36m_check_proba\u001b[0;34m(self)\u001b[0m\n\u001b[1;32m    817\u001b[0m     \u001b[0;32mdef\u001b[0m \u001b[0m_check_proba\u001b[0m\u001b[0;34m(\u001b[0m\u001b[0mself\u001b[0m\u001b[0;34m)\u001b[0m\u001b[0;34m:\u001b[0m\u001b[0;34m\u001b[0m\u001b[0;34m\u001b[0m\u001b[0m\n\u001b[1;32m    818\u001b[0m         \u001b[0;32mif\u001b[0m \u001b[0;32mnot\u001b[0m \u001b[0mself\u001b[0m\u001b[0;34m.\u001b[0m\u001b[0mprobability\u001b[0m\u001b[0;34m:\u001b[0m\u001b[0;34m\u001b[0m\u001b[0;34m\u001b[0m\u001b[0m\n\u001b[0;32m--> 819\u001b[0;31m             raise AttributeError(\n\u001b[0m\u001b[1;32m    820\u001b[0m                 \u001b[0;34m\"predict_proba is not available when  probability=False\"\u001b[0m\u001b[0;34m\u001b[0m\u001b[0;34m\u001b[0m\u001b[0m\n\u001b[1;32m    821\u001b[0m             )\n",
      "\u001b[0;31mAttributeError\u001b[0m: predict_proba is not available when  probability=False"
     ]
    }
   ],
   "source": [
    "# Model 280x210\n",
    "model_ = VC_Model\n",
    "X = input_data_Array[2]\n",
    "Y = labels_Array[2]\n",
    "# X = blc_data_arrays\n",
    "# Y = blc_label_arrays\n",
    "Y_pred = model_.predict(X)\n",
    "Y_binary =  label_to_binary(Y)\n",
    "Y_pred_binary =  label_to_binary(Y_pred)\n",
    "results = model_evaluation(Y,Y_pred)\n",
    "# results = model_evaluation(Y_binary,Y_pred_binary)\n",
    "results"
   ]
  },
  {
   "cell_type": "code",
   "execution_count": 84,
   "metadata": {},
   "outputs": [
    {
     "data": {
      "text/plain": [
       "array([4, 5, 5, 5, 5, 5, 1, 2, 2, 5, 5, 5, 5, 5, 5, 5, 5, 5, 4, 5, 2, 2,\n",
       "       5, 1, 5, 3, 2, 5, 1, 2, 5, 4, 2, 0, 1, 2, 4, 4, 5, 4, 4, 5, 4, 4,\n",
       "       1, 5, 5, 2, 5, 2, 1, 5, 5, 5, 3, 1, 1, 5, 5, 2, 5, 2, 1, 5, 5, 5,\n",
       "       4, 6, 5, 1, 6, 1, 5, 4, 4, 5, 5, 2, 5, 6, 2, 1, 2, 5, 5, 5, 0, 5,\n",
       "       4, 5, 2, 5, 2, 5, 1, 5, 1, 0, 1, 2, 1, 4, 5, 5, 5, 5, 4, 5, 5, 0,\n",
       "       5, 5, 2, 5, 5, 5, 1, 5, 5, 5, 4, 5, 2, 5, 4, 4, 5, 5, 5, 5, 5, 6,\n",
       "       2, 2, 5, 5, 6, 2, 4, 3, 4, 4, 5, 4, 5, 0, 4, 4, 6, 1, 2, 1, 5, 5,\n",
       "       3, 2, 5, 5, 2, 2, 2, 5, 1, 5, 5, 5, 5, 5, 5, 0, 2, 4, 5, 5, 2, 5,\n",
       "       5, 5, 0, 1, 5, 4, 5, 2, 0, 5, 5, 1, 1, 2, 1, 2, 5, 5, 5, 5, 5, 0,\n",
       "       5, 5, 2, 0, 5, 4, 5, 4, 4, 2, 5, 5, 5, 5, 4, 5, 4, 5, 5, 1, 5, 0,\n",
       "       5, 1, 6, 2, 4, 5, 1, 5, 4, 5, 5, 4, 5, 2, 1, 4, 5, 0, 3, 5, 4, 5,\n",
       "       4, 5, 5, 2, 5, 1, 5, 5, 2, 5, 5, 2, 2, 5, 6, 2, 1, 1, 5, 1, 5, 5,\n",
       "       5, 4, 5, 1, 5, 5, 4, 5, 5, 5, 2, 4, 5, 5, 0, 2, 0, 4, 1, 5, 5, 0,\n",
       "       5, 5, 2, 5, 2, 5, 2, 2, 1, 5, 5, 2, 5, 5, 0, 2, 0, 5, 0, 5, 1, 2,\n",
       "       5, 5, 0, 5, 0, 5, 5, 0, 5, 0, 5, 2, 2, 4, 1, 5, 5, 2, 5, 6, 5, 4,\n",
       "       5, 6, 5, 5, 3, 2, 0, 5, 4, 5, 1, 0, 1, 0, 2, 5, 2, 2, 5, 2, 6, 0,\n",
       "       0, 4, 2, 4, 4, 5, 5, 0, 5, 5, 5, 2, 4, 5, 5, 5, 0, 5, 5, 3, 5, 5,\n",
       "       1, 1, 5, 5, 5, 5, 2, 5, 4, 2, 2, 4, 5, 5, 4, 4, 2, 2, 4, 5, 5, 1,\n",
       "       5, 5, 2, 5, 4, 5, 3, 1, 5, 0, 5], dtype=int8)"
      ]
     },
     "execution_count": 84,
     "metadata": {},
     "output_type": "execute_result"
    }
   ],
   "source": [
    "MLP_Model.predict(X,)"
   ]
  },
  {
   "cell_type": "code",
   "execution_count": null,
   "metadata": {},
   "outputs": [],
   "source": []
  }
 ],
 "metadata": {
  "kernelspec": {
   "display_name": "Python 3.8.9 64-bit",
   "language": "python",
   "name": "python3"
  },
  "language_info": {
   "codemirror_mode": {
    "name": "ipython",
    "version": 3
   },
   "file_extension": ".py",
   "mimetype": "text/x-python",
   "name": "python",
   "nbconvert_exporter": "python",
   "pygments_lexer": "ipython3",
   "version": "3.8.9"
  },
  "orig_nbformat": 4,
  "vscode": {
   "interpreter": {
    "hash": "31f2aee4e71d21fbe5cf8b01ff0e069b9275f58929596ceb00d14d90e3e16cd6"
   }
  }
 },
 "nbformat": 4,
 "nbformat_minor": 2
}
