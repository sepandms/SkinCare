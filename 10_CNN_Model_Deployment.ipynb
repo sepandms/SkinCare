{
 "cells": [
  {
   "cell_type": "code",
   "execution_count": 65,
   "metadata": {},
   "outputs": [],
   "source": [
    "try:\n",
    "  from google.colab import drive\n",
    "  drive.mount('/content/drive')\n",
    "  import os\n",
    "  CWD = '/content/drive/MyDrive/DataSources/SkinCare'\n",
    "  os.chdir(CWD)\n",
    "except:None\n",
    "G_path = './Project_Data'"
   ]
  },
  {
   "cell_type": "code",
   "execution_count": 66,
   "metadata": {},
   "outputs": [
    {
     "name": "stdout",
     "output_type": "stream",
     "text": [
      "devis: mps\n"
     ]
    }
   ],
   "source": [
    "import torch\n",
    "import torch.nn as nn\n",
    "import torch.nn.functional as F\n",
    "import torchvision\n",
    "import torchvision.transforms as transforms\n",
    "#import torchvision.transforms.Compose\n",
    "import numpy as np\n",
    "import matplotlib.pyplot as plt\n",
    "from torch.utils.data import random_split\n",
    "from torch.utils.data import SubsetRandomSampler\n",
    "from torch.utils.data import DataLoader\n",
    "import time\n",
    "import os\n",
    "from statistics import mean\n",
    "import pandas as pd\n",
    "import sklearn as sk\n",
    "import pickle\n",
    "from sklearn.model_selection import train_test_split\n",
    "from sklearn.utils import resample\n",
    "import warnings\n",
    "warnings.filterwarnings('ignore')\n",
    "import features\n",
    "from features.usefull_functions import *\n",
    "from features.NETs import *\n",
    "from features.Model_Training import *\n",
    "device = None\n",
    "try:\n",
    "    c = torch.cuda.is_available()\n",
    "    if c:\n",
    "        print('devis: cuda')\n",
    "        device = 'cuda'\n",
    "    else:\n",
    "        try :\n",
    "            m = torch.backends.mps.is_available()\n",
    "            if m:\n",
    "                device = 'mps'\n",
    "                print('devis: mps')  \n",
    "        except:    \n",
    "            device = 'cpu'\n",
    "            print('devis: cpu')           \n",
    "except:\n",
    "    None"
   ]
  },
  {
   "cell_type": "markdown",
   "metadata": {},
   "source": [
    "# **Import DataSets**"
   ]
  },
  {
   "cell_type": "code",
   "execution_count": 67,
   "metadata": {},
   "outputs": [],
   "source": [
    "file = 'Input_DataSet_280x210' \n",
    "input_data , labels = pickle.load(open(G_path + '/06_Rescaled_DataSet/'+ file,'rb'))\n",
    "labels_biary = labels[1]\n",
    "labels_multi = labels[0]\n",
    "\n",
    "file = 'Input_DataSet_A_E' \n",
    "A_E_input_data , A_E_labels = pickle.load(open(G_path + '/05_AutoEncoded_DataSet/'+ file,'rb'))\n",
    "A_E_labels_biary = A_E_labels[1]\n",
    "A_E_labels_multi = A_E_labels[0]\n",
    "\n",
    "file = 'Balanced_Test_Set_280x210' \n",
    "BLC_test_280x210 = pickle.load(open(G_path + '/06_Rescaled_DataSet/' + file,'rb'))\n",
    "\n",
    "file = 'Balanced_Test_Set_A_E' \n",
    "BLC_test_A_E = pickle.load(open(G_path + '/05_AutoEncoded_DataSet/' + file,'rb'))\n",
    "\n",
    "Meta_Data_Augmented = pickle.load(open( G_path + '/02_Augmented_MetaData/Meta_Data_Augmented','rb'))"
   ]
  },
  {
   "cell_type": "markdown",
   "metadata": {},
   "source": [
    "# **Import Model**"
   ]
  },
  {
   "cell_type": "code",
   "execution_count": 68,
   "metadata": {},
   "outputs": [],
   "source": [
    "C_280 = 'CNN_280x210_MultiClassModel0_24_Jun22_22-38' # Best of grid search ['CNN_280x210_Model5_23_Jun22_12-55','CNN_280x210_Model4_22_Jun22_00-14]\n",
    "C_280 = 'CNN_280x210_MultiClassModel1_12_Jul22_18_15'\n",
    "C_280 = 'CNN_280x210_MultiClassModel41_14_Jul22_10_49'\n",
    "C_280_binary = 'CNN_280x210_Binary_24_Jun22_22-17'\n",
    "\n",
    "Model_280x210_multi = pickle.load(open(G_path + '/08_Saved_Models_Outpus/Models/CNN_Grid_Search_Models/'+ C_280 , 'rb') ).eval()\n",
    "Model_280x210_binary = pickle.load(open(G_path + '/08_Saved_Models_Outpus/Models/CNN_Grid_Search_Models/'+ C_280_binary , 'rb') ).eval()\n",
    "\n",
    "A_E = 'A_E_CNN_Model6_22_Jun22_00-29' #Best of grid search\n",
    "A_E_binary = 'A_E_CNN_Model0_25_Jun22_09-35'\n",
    "# [CNN_Nets.Net8_a, Model_Training_with_loader] = pickle.load(open(G_Models+'/Net8_Model_Trainin','rb'))\n",
    "Model_A_En_multiclass = pickle.load(open(G_path + '/08_Saved_Models_Outpus/Models/CNN_Grid_Search_Models/' + A_E , 'rb') ).eval()\n",
    "Model_A_En_binary = pickle.load(open(G_path + '/08_Saved_Models_Outpus/Models/CNN_Grid_Search_Models/' + A_E_binary , 'rb') ).eval()"
   ]
  },
  {
   "cell_type": "markdown",
   "metadata": {},
   "source": [
    "# **Model Evaluation**"
   ]
  },
  {
   "cell_type": "code",
   "execution_count": 26,
   "metadata": {},
   "outputs": [
    {
     "name": "stdout",
     "output_type": "stream",
     "text": [
      "Nr. of Data : \n",
      " 407\n",
      "Accuracy of The Model : \n",
      " 0.6732186732186732\n"
     ]
    },
    {
     "data": {
      "image/png": "[encoded data removed]",
      "text/plain": [
       "<Figure size 432x288 with 1 Axes>"
      ]
     },
     "metadata": {
      "needs_background": "light"
     },
     "output_type": "display_data"
    },
    {
     "data": {
      "text/html": [
       "<style type=\"text/css\">\n",
       "</style>\n",
       "<table id=\"T_c71ee_\">\n",
       "  <thead>\n",
       "    <tr>\n",
       "      <th class=\"blank level0\" >&nbsp;</th>\n",
       "      <th class=\"col_heading level0 col0\" >weights</th>\n",
       "      <th class=\"col_heading level0 col1\" >Precision</th>\n",
       "      <th class=\"col_heading level0 col2\" >Recall_Sensitivity</th>\n",
       "      <th class=\"col_heading level0 col3\" >Specificity</th>\n",
       "      <th class=\"col_heading level0 col4\" >f1_score</th>\n",
       "    </tr>\n",
       "  </thead>\n",
       "  <tbody>\n",
       "    <tr>\n",
       "      <th id=\"T_c71ee_level0_row0\" class=\"row_heading level0 row0\" >0</th>\n",
       "      <td id=\"T_c71ee_row0_col0\" class=\"data row0 col0\" >5.7%</td>\n",
       "      <td id=\"T_c71ee_row0_col1\" class=\"data row0 col1\" >44.4%</td>\n",
       "      <td id=\"T_c71ee_row0_col2\" class=\"data row0 col2\" >69.6%</td>\n",
       "      <td id=\"T_c71ee_row0_col3\" class=\"data row0 col3\" >94.8%</td>\n",
       "      <td id=\"T_c71ee_row0_col4\" class=\"data row0 col4\" >54.2%</td>\n",
       "    </tr>\n",
       "    <tr>\n",
       "      <th id=\"T_c71ee_level0_row1\" class=\"row_heading level0 row1\" >1</th>\n",
       "      <td id=\"T_c71ee_row1_col0\" class=\"data row1 col0\" >7.9%</td>\n",
       "      <td id=\"T_c71ee_row1_col1\" class=\"data row1 col1\" >72.4%</td>\n",
       "      <td id=\"T_c71ee_row1_col2\" class=\"data row1 col2\" >65.6%</td>\n",
       "      <td id=\"T_c71ee_row1_col3\" class=\"data row1 col3\" >97.9%</td>\n",
       "      <td id=\"T_c71ee_row1_col4\" class=\"data row1 col4\" >68.9%</td>\n",
       "    </tr>\n",
       "    <tr>\n",
       "      <th id=\"T_c71ee_level0_row2\" class=\"row_heading level0 row2\" >2</th>\n",
       "      <td id=\"T_c71ee_row2_col0\" class=\"data row2 col0\" >17.7%</td>\n",
       "      <td id=\"T_c71ee_row2_col1\" class=\"data row2 col1\" >47.4%</td>\n",
       "      <td id=\"T_c71ee_row2_col2\" class=\"data row2 col2\" >63.9%</td>\n",
       "      <td id=\"T_c71ee_row2_col3\" class=\"data row2 col3\" >84.8%</td>\n",
       "      <td id=\"T_c71ee_row2_col4\" class=\"data row2 col4\" >54.4%</td>\n",
       "    </tr>\n",
       "    <tr>\n",
       "      <th id=\"T_c71ee_level0_row3\" class=\"row_heading level0 row3\" >3</th>\n",
       "      <td id=\"T_c71ee_row3_col0\" class=\"data row3 col0\" >2.0%</td>\n",
       "      <td id=\"T_c71ee_row3_col1\" class=\"data row3 col1\" >62.5%</td>\n",
       "      <td id=\"T_c71ee_row3_col2\" class=\"data row3 col2\" >62.5%</td>\n",
       "      <td id=\"T_c71ee_row3_col3\" class=\"data row3 col3\" >99.2%</td>\n",
       "      <td id=\"T_c71ee_row3_col4\" class=\"data row3 col4\" >62.5%</td>\n",
       "    </tr>\n",
       "    <tr>\n",
       "      <th id=\"T_c71ee_level0_row4\" class=\"row_heading level0 row4\" >4</th>\n",
       "      <td id=\"T_c71ee_row4_col0\" class=\"data row4 col0\" >15.2%</td>\n",
       "      <td id=\"T_c71ee_row4_col1\" class=\"data row4 col1\" >45.5%</td>\n",
       "      <td id=\"T_c71ee_row4_col2\" class=\"data row4 col2\" >48.4%</td>\n",
       "      <td id=\"T_c71ee_row4_col3\" class=\"data row4 col3\" >89.6%</td>\n",
       "      <td id=\"T_c71ee_row4_col4\" class=\"data row4 col4\" >46.9%</td>\n",
       "    </tr>\n",
       "    <tr>\n",
       "      <th id=\"T_c71ee_level0_row5\" class=\"row_heading level0 row5\" >5</th>\n",
       "      <td id=\"T_c71ee_row5_col0\" class=\"data row5 col0\" >49.1%</td>\n",
       "      <td id=\"T_c71ee_row5_col1\" class=\"data row5 col1\" >91.9%</td>\n",
       "      <td id=\"T_c71ee_row5_col2\" class=\"data row5 col2\" >73.5%</td>\n",
       "      <td id=\"T_c71ee_row5_col3\" class=\"data row5 col3\" >93.7%</td>\n",
       "      <td id=\"T_c71ee_row5_col4\" class=\"data row5 col4\" >81.7%</td>\n",
       "    </tr>\n",
       "    <tr>\n",
       "      <th id=\"T_c71ee_level0_row6\" class=\"row_heading level0 row6\" >6</th>\n",
       "      <td id=\"T_c71ee_row6_col0\" class=\"data row6 col0\" >2.5%</td>\n",
       "      <td id=\"T_c71ee_row6_col1\" class=\"data row6 col1\" >81.8%</td>\n",
       "      <td id=\"T_c71ee_row6_col2\" class=\"data row6 col2\" >90.0%</td>\n",
       "      <td id=\"T_c71ee_row6_col3\" class=\"data row6 col3\" >99.5%</td>\n",
       "      <td id=\"T_c71ee_row6_col4\" class=\"data row6 col4\" >85.7%</td>\n",
       "    </tr>\n",
       "    <tr>\n",
       "      <th id=\"T_c71ee_level0_row7\" class=\"row_heading level0 row7\" >Simple Avg.</th>\n",
       "      <td id=\"T_c71ee_row7_col0\" class=\"data row7 col0\" >nan%</td>\n",
       "      <td id=\"T_c71ee_row7_col1\" class=\"data row7 col1\" >63.7%</td>\n",
       "      <td id=\"T_c71ee_row7_col2\" class=\"data row7 col2\" >67.6%</td>\n",
       "      <td id=\"T_c71ee_row7_col3\" class=\"data row7 col3\" >94.2%</td>\n",
       "      <td id=\"T_c71ee_row7_col4\" class=\"data row7 col4\" >64.9%</td>\n",
       "    </tr>\n",
       "    <tr>\n",
       "      <th id=\"T_c71ee_level0_row8\" class=\"row_heading level0 row8\" >Weighted Avg.</th>\n",
       "      <td id=\"T_c71ee_row8_col0\" class=\"data row8 col0\" >nan%</td>\n",
       "      <td id=\"T_c71ee_row8_col1\" class=\"data row8 col1\" >71.9%</td>\n",
       "      <td id=\"T_c71ee_row8_col2\" class=\"data row8 col2\" >67.3%</td>\n",
       "      <td id=\"T_c71ee_row8_col3\" class=\"data row8 col3\" >92.1%</td>\n",
       "      <td id=\"T_c71ee_row8_col4\" class=\"data row8 col4\" >68.7%</td>\n",
       "    </tr>\n",
       "  </tbody>\n",
       "</table>\n"
      ],
      "text/plain": [
       "<pandas.io.formats.style.Styler at 0x2999d0df0>"
      ]
     },
     "execution_count": 26,
     "metadata": {},
     "output_type": "execute_result"
    }
   ],
   "source": [
    "# Model 280x210\n",
    "binary = False\n",
    "if binary:\n",
    "    model_ = Model_280x210_binary\n",
    "    Y = labels_biary[2]\n",
    "else:\n",
    "    model_ = Model_280x210_multi\n",
    "    Y = labels_multi[2]\n",
    "X = input_data[2]\n",
    "# X = BLC_test_280x210[0]\n",
    "# Y = BLC_test_280x210[1]\n",
    "iter = X.shape[0] // 100\n",
    "Y_pred = torch.zeros(0)\n",
    "for i in range(iter+1):\n",
    "    X_ = X[i*100:(i+1)*100]\n",
    "    Y_ = model_.forward_noDrop(X_).argmax(dim=1)\n",
    "    Y_pred = torch.cat([Y_pred,Y_])\n",
    "\n",
    "Y_binary =  label_to_binary(Y)\n",
    "Y_pred_binary =  label_to_binary(Y_pred)\n",
    "# results = model_evaluation(Y_binary,Y_pred_binary)\n",
    "results = model_evaluation(Y,Y_pred,'CNN-Rescaled')\n",
    "results"
   ]
  },
  {
   "cell_type": "code",
   "execution_count": 27,
   "metadata": {},
   "outputs": [
    {
     "name": "stdout",
     "output_type": "stream",
     "text": [
      "Nr. of Data : \n",
      " 407\n",
      "Accuracy of The Model : \n",
      " 0.7272727272727273\n"
     ]
    },
    {
     "data": {
      "image/png": "[encoded data removed]",
      "text/plain": [
       "<Figure size 432x288 with 1 Axes>"
      ]
     },
     "metadata": {
      "needs_background": "light"
     },
     "output_type": "display_data"
    },
    {
     "data": {
      "text/html": [
       "<style type=\"text/css\">\n",
       "</style>\n",
       "<table id=\"T_00fa9_\">\n",
       "  <thead>\n",
       "    <tr>\n",
       "      <th class=\"blank level0\" >&nbsp;</th>\n",
       "      <th class=\"col_heading level0 col0\" >weights</th>\n",
       "      <th class=\"col_heading level0 col1\" >Precision</th>\n",
       "      <th class=\"col_heading level0 col2\" >Recall_Sensitivity</th>\n",
       "      <th class=\"col_heading level0 col3\" >Specificity</th>\n",
       "      <th class=\"col_heading level0 col4\" >f1_score</th>\n",
       "    </tr>\n",
       "  </thead>\n",
       "  <tbody>\n",
       "    <tr>\n",
       "      <th id=\"T_00fa9_level0_row0\" class=\"row_heading level0 row0\" >0</th>\n",
       "      <td id=\"T_00fa9_row0_col0\" class=\"data row0 col0\" >71.3%</td>\n",
       "      <td id=\"T_00fa9_row0_col1\" class=\"data row0 col1\" >89.1%</td>\n",
       "      <td id=\"T_00fa9_row0_col2\" class=\"data row0 col2\" >70.3%</td>\n",
       "      <td id=\"T_00fa9_row0_col3\" class=\"data row0 col3\" >78.6%</td>\n",
       "      <td id=\"T_00fa9_row0_col4\" class=\"data row0 col4\" >78.6%</td>\n",
       "    </tr>\n",
       "    <tr>\n",
       "      <th id=\"T_00fa9_level0_row1\" class=\"row_heading level0 row1\" >1</th>\n",
       "      <td id=\"T_00fa9_row1_col0\" class=\"data row1 col0\" >28.7%</td>\n",
       "      <td id=\"T_00fa9_row1_col1\" class=\"data row1 col1\" >51.7%</td>\n",
       "      <td id=\"T_00fa9_row1_col2\" class=\"data row1 col2\" >78.6%</td>\n",
       "      <td id=\"T_00fa9_row1_col3\" class=\"data row1 col3\" >70.3%</td>\n",
       "      <td id=\"T_00fa9_row1_col4\" class=\"data row1 col4\" >62.4%</td>\n",
       "    </tr>\n",
       "    <tr>\n",
       "      <th id=\"T_00fa9_level0_row2\" class=\"row_heading level0 row2\" >Simple Avg.</th>\n",
       "      <td id=\"T_00fa9_row2_col0\" class=\"data row2 col0\" >nan%</td>\n",
       "      <td id=\"T_00fa9_row2_col1\" class=\"data row2 col1\" >70.4%</td>\n",
       "      <td id=\"T_00fa9_row2_col2\" class=\"data row2 col2\" >74.5%</td>\n",
       "      <td id=\"T_00fa9_row2_col3\" class=\"data row2 col3\" >74.5%</td>\n",
       "      <td id=\"T_00fa9_row2_col4\" class=\"data row2 col4\" >70.5%</td>\n",
       "    </tr>\n",
       "    <tr>\n",
       "      <th id=\"T_00fa9_level0_row3\" class=\"row_heading level0 row3\" >Weighted Avg.</th>\n",
       "      <td id=\"T_00fa9_row3_col0\" class=\"data row3 col0\" >nan%</td>\n",
       "      <td id=\"T_00fa9_row3_col1\" class=\"data row3 col1\" >78.3%</td>\n",
       "      <td id=\"T_00fa9_row3_col2\" class=\"data row3 col2\" >72.7%</td>\n",
       "      <td id=\"T_00fa9_row3_col3\" class=\"data row3 col3\" >76.3%</td>\n",
       "      <td id=\"T_00fa9_row3_col4\" class=\"data row3 col4\" >73.9%</td>\n",
       "    </tr>\n",
       "  </tbody>\n",
       "</table>\n"
      ],
      "text/plain": [
       "<pandas.io.formats.style.Styler at 0x299a68dc0>"
      ]
     },
     "execution_count": 27,
     "metadata": {},
     "output_type": "execute_result"
    }
   ],
   "source": [
    "# Model AutoEncoder\n",
    "binary = False\n",
    "if binary:\n",
    "    model_ = Model_A_En_binary\n",
    "    Y = A_E_labels_biary[2]\n",
    "else:\n",
    "    model_ = Model_A_En_multiclass\n",
    "    Y = A_E_labels_multi[2]\n",
    "    \n",
    "X = A_E_input_data[2]\n",
    "# X = BLC_test_A_E[0]\n",
    "# Y = BLC_test_A_E[1]\n",
    "iter = X.shape[0] // 100\n",
    "Y_pred = torch.zeros(0)\n",
    "for i in range(iter+1):\n",
    "    X_ = X[i*100:(i+1)*100]\n",
    "    Y_ = model_.forward_noDrop(X_).argmax(dim=1)\n",
    "    Y_pred = torch.cat([Y_pred,Y_])\n",
    "Y_binary =  label_to_binary(Y)\n",
    "Y_pred_binary =  label_to_binary(Y_pred)\n",
    "# results = model_evaluation(Y,Y_pred)\n",
    "results = model_evaluation(Y_binary,Y_pred_binary)\n",
    "results"
   ]
  },
  {
   "cell_type": "markdown",
   "metadata": {},
   "source": [
    "# **CNN: 280x210 MultiClass: Get CNN OutPut (Soft-Max)**"
   ]
  },
  {
   "cell_type": "code",
   "execution_count": 76,
   "metadata": {},
   "outputs": [
    {
     "data": {
      "text/plain": [
       "(torch.Size([5807, 3, 280, 210]), torch.Size([5807, 7]))"
      ]
     },
     "execution_count": 76,
     "metadata": {},
     "output_type": "execute_result"
    }
   ],
   "source": [
    "Apply_SoftMax = False\n",
    "\n",
    "model_ = Model_280x210_multi\n",
    "X = torch.cat([input_data[0],input_data[1],input_data[2]],dim=0).detach()\n",
    "n = 100\n",
    "iter = X.shape[0] // n\n",
    "Y_pred = torch.zeros(0)\n",
    "for i in range(iter+1):\n",
    "    X_ = X[i*n:(i+1)*n]\n",
    "    if Apply_SoftMax:\n",
    "        Y_ = torch.softmax(model_.forward_noDrop(X_),dim=1).detach()\n",
    "    else:\n",
    "    # no SoftMax\n",
    "        Y_ = model_.forward_noDrop(X_).detach()\n",
    "    Y_pred = torch.cat([Y_pred,Y_]).detach()\n",
    "X.shape , Y_pred.shape"
   ]
  },
  {
   "cell_type": "code",
   "execution_count": 86,
   "metadata": {},
   "outputs": [
    {
     "data": {
      "text/plain": [
       "torch.return_types.max(\n",
       "values=tensor([1., 1., 1., 1., 1., 1., 1.]),\n",
       "indices=tensor([ 6,  1,  0,  9,  8, 11,  7]))"
      ]
     },
     "execution_count": 86,
     "metadata": {},
     "output_type": "execute_result"
    }
   ],
   "source": [
    "Y_pred.max(dim=0)"
   ]
  },
  {
   "cell_type": "code",
   "execution_count": 84,
   "metadata": {},
   "outputs": [],
   "source": [
    "def MinMax_Scaling(T):\n",
    "    T_S = torch.zeros(0)\n",
    "    for i in range(T.shape[0]):\n",
    "        T_ = T[i:i+1]\n",
    "        min = T_.min()\n",
    "        max = T_.max()\n",
    "        T_ = (T_ - min) / (max-min)\n",
    "        T_S = torch.cat([T_S,T_]).detach()\n",
    "    return T_S"
   ]
  },
  {
   "cell_type": "code",
   "execution_count": 85,
   "metadata": {},
   "outputs": [],
   "source": [
    "Apply_scaling = True\n",
    "if Apply_scaling:\n",
    "    Y_pred = MinMax_Scaling(Y_pred)"
   ]
  },
  {
   "cell_type": "code",
   "execution_count": 87,
   "metadata": {},
   "outputs": [],
   "source": [
    "df_CNN = pd.DataFrame(Y_pred.detach().numpy()).add_prefix('CNN_')\n",
    "meta_data_key = pd.concat([input_data[3][0],input_data[3][1],input_data[3][2]],axis=0).reset_index(drop=True)\n",
    "df_CNN = pd.concat([meta_data_key,df_CNN],axis=1).reset_index(drop=True)\n",
    "CNN_280x210_data = df_CNN.merge(Meta_Data_Augmented.drop(columns=['type']) ,how='left', on='image_id')"
   ]
  },
  {
   "cell_type": "code",
   "execution_count": 88,
   "metadata": {},
   "outputs": [],
   "source": [
    "# CNN_280x210_data.sample(100).drop(columns=['lesion_id','dx']).style.format({'CNN_0': \"{:.1%}\",'CNN_1': \"{:.1%}\",'CNN_2': \"{:.1%}\",'CNN_3': \"{:.1%}\",'CNN_4': \"{:.1%}\",'CNN_5': \"{:.1%}\",'CNN_6': \"{:.1%}\",'age': \"{:0}\"})"
   ]
  },
  {
   "cell_type": "code",
   "execution_count": 89,
   "metadata": {},
   "outputs": [],
   "source": [
    "cols = ['localization','sex','dx_type']\n",
    "CNN_280x210_data_encoded = pd.get_dummies(CNN_280x210_data, columns= cols).reset_index(drop=True)\n",
    "def standardizaion(dataset, attr):\n",
    "    mean = dataset[dataset.type.str.contains('train')][attr].mean()\n",
    "    std = dataset[dataset.type.str.contains('train')][attr].std()\n",
    "    dataset[attr] = (dataset[attr] - mean ) / std\n",
    "    return dataset\n",
    "CNN_280x210_data_encoded_STD = standardizaion(CNN_280x210_data_encoded,'age')"
   ]
  },
  {
   "cell_type": "code",
   "execution_count": 90,
   "metadata": {},
   "outputs": [],
   "source": [
    "pickle.dump(CNN_280x210_data_encoded_STD, open(G_path + '/07_CNNs_Output_DataSet/'+ 'CNN_280x210_Ouput_MultiClass_Scaled', 'wb'))"
   ]
  },
  {
   "cell_type": "markdown",
   "metadata": {},
   "source": [
    "# **CNN: 280x210 Binary**"
   ]
  },
  {
   "cell_type": "code",
   "execution_count": 29,
   "metadata": {},
   "outputs": [
    {
     "data": {
      "text/plain": [
       "(torch.Size([4647, 3, 280, 210]), torch.Size([4647, 2]))"
      ]
     },
     "execution_count": 29,
     "metadata": {},
     "output_type": "execute_result"
    }
   ],
   "source": [
    "\n",
    "model_ = Model_280x210_binary\n",
    "X = torch.cat([input_data[0],input_data[1],input_data[2]],dim=0).detach()\n",
    "n = 100\n",
    "iter = X.shape[0] // n\n",
    "Y_pred = torch.zeros(0)\n",
    "for i in range(iter+1):\n",
    "    X_ = X[i*n:(i+1)*n]\n",
    "    Y_ = torch.softmax(model_.forward_noDrop(X_),dim=1).detach()\n",
    "    Y_pred = torch.cat([Y_pred,Y_]).detach()\n",
    "X.shape , Y_pred.shape"
   ]
  },
  {
   "cell_type": "code",
   "execution_count": 30,
   "metadata": {},
   "outputs": [],
   "source": [
    "df_CNN = pd.DataFrame(Y_pred.detach().numpy()).add_prefix('CNN_')\n",
    "meta_data_key = pd.concat([input_data[3][0],input_data[3][1],input_data[3][2]],axis=0).reset_index(drop=True)\n",
    "df_CNN = pd.concat([meta_data_key,df_CNN],axis=1).reset_index(drop=True)\n",
    "CNN_280x210_data_binary = df_CNN.merge(Meta_Data_Augmented.drop(columns=['type']) ,how='left', on='image_id')"
   ]
  },
  {
   "cell_type": "code",
   "execution_count": 31,
   "metadata": {},
   "outputs": [
    {
     "data": {
      "text/html": [
       "<div>\n",
       "<style scoped>\n",
       "    .dataframe tbody tr th:only-of-type {\n",
       "        vertical-align: middle;\n",
       "    }\n",
       "\n",
       "    .dataframe tbody tr th {\n",
       "        vertical-align: top;\n",
       "    }\n",
       "\n",
       "    .dataframe thead th {\n",
       "        text-align: right;\n",
       "    }\n",
       "</style>\n",
       "<table border=\"1\" class=\"dataframe\">\n",
       "  <thead>\n",
       "    <tr style=\"text-align: right;\">\n",
       "      <th></th>\n",
       "      <th>type</th>\n",
       "      <th>image_id</th>\n",
       "      <th>CNN_0</th>\n",
       "      <th>CNN_1</th>\n",
       "      <th>lesion_id</th>\n",
       "      <th>dx</th>\n",
       "      <th>dx_type</th>\n",
       "      <th>age</th>\n",
       "      <th>sex</th>\n",
       "      <th>localization</th>\n",
       "      <th>image_label</th>\n",
       "      <th>binary_label</th>\n",
       "    </tr>\n",
       "  </thead>\n",
       "  <tbody>\n",
       "    <tr>\n",
       "      <th>0</th>\n",
       "      <td>train</td>\n",
       "      <td>ISIC_0032929</td>\n",
       "      <td>0.457048</td>\n",
       "      <td>0.542952</td>\n",
       "      <td>HAM_0003321</td>\n",
       "      <td>bkl</td>\n",
       "      <td>histo</td>\n",
       "      <td>75.0</td>\n",
       "      <td>female</td>\n",
       "      <td>face</td>\n",
       "      <td>2</td>\n",
       "      <td>0</td>\n",
       "    </tr>\n",
       "    <tr>\n",
       "      <th>1</th>\n",
       "      <td>train</td>\n",
       "      <td>ISIC_0026790</td>\n",
       "      <td>0.875181</td>\n",
       "      <td>0.124819</td>\n",
       "      <td>HAM_0005779</td>\n",
       "      <td>bkl</td>\n",
       "      <td>consensus</td>\n",
       "      <td>55.0</td>\n",
       "      <td>male</td>\n",
       "      <td>back</td>\n",
       "      <td>2</td>\n",
       "      <td>0</td>\n",
       "    </tr>\n",
       "  </tbody>\n",
       "</table>\n",
       "</div>"
      ],
      "text/plain": [
       "    type      image_id     CNN_0     CNN_1    lesion_id   dx    dx_type   age  \\\n",
       "0  train  ISIC_0032929  0.457048  0.542952  HAM_0003321  bkl      histo  75.0   \n",
       "1  train  ISIC_0026790  0.875181  0.124819  HAM_0005779  bkl  consensus  55.0   \n",
       "\n",
       "      sex localization  image_label  binary_label  \n",
       "0  female         face            2             0  \n",
       "1    male         back            2             0  "
      ]
     },
     "execution_count": 31,
     "metadata": {},
     "output_type": "execute_result"
    }
   ],
   "source": [
    "CNN_280x210_data_binary[:2]"
   ]
  },
  {
   "cell_type": "code",
   "execution_count": 32,
   "metadata": {},
   "outputs": [],
   "source": [
    "cols = ['localization','sex','dx_type']\n",
    "CNN_280x210_data_binary_encoded = pd.get_dummies(CNN_280x210_data_binary, columns= cols).reset_index(drop=True)\n",
    "def standardizaion(dataset, attr):\n",
    "    mean = dataset[dataset.type.str.contains('train')][attr].mean()\n",
    "    std = dataset[dataset.type.str.contains('train')][attr].std()\n",
    "    dataset[attr] = (dataset[attr] - mean ) / std\n",
    "    return dataset\n",
    "CNN_280x210_data_binary_encoded_STD = standardizaion(CNN_280x210_data_binary_encoded,'age')"
   ]
  },
  {
   "cell_type": "code",
   "execution_count": 33,
   "metadata": {},
   "outputs": [],
   "source": [
    "pickle.dump(CNN_280x210_data_binary_encoded_STD, open(G_path + '/07_CNNs_Output_DataSet/'+ 'CNN_280x210_Ouput_binary', 'wb'))"
   ]
  },
  {
   "cell_type": "markdown",
   "metadata": {},
   "source": [
    "# **CNN: AutoEncoder, Get CNN OutPut (Soft-Max)**"
   ]
  },
  {
   "cell_type": "code",
   "execution_count": 34,
   "metadata": {},
   "outputs": [
    {
     "data": {
      "text/plain": [
       "(torch.Size([4647, 3, 282, 207]), torch.Size([4647, 7]))"
      ]
     },
     "execution_count": 34,
     "metadata": {},
     "output_type": "execute_result"
    }
   ],
   "source": [
    "model_ = Model_A_En_multiclass\n",
    "X = torch.cat([A_E_input_data[0],A_E_input_data[1],A_E_input_data[2]],dim=0).detach()\n",
    "n = 100\n",
    "iter = X.shape[0] // n\n",
    "Y_pred = torch.zeros(0)\n",
    "for i in range(iter+1):\n",
    "    X_ = X[i*n:(i+1)*n]\n",
    "    Y_ = torch.softmax(model_.forward_noDrop(X_),dim=1).detach()\n",
    "    Y_pred = torch.cat([Y_pred,Y_]).detach()\n",
    "X.shape , Y_pred.shape"
   ]
  },
  {
   "cell_type": "markdown",
   "metadata": {},
   "source": []
  },
  {
   "cell_type": "code",
   "execution_count": 35,
   "metadata": {},
   "outputs": [],
   "source": [
    "df_CNN = pd.DataFrame(Y_pred.detach().numpy()).add_prefix('CNN_')\n",
    "meta_data_key = pd.concat([A_E_input_data[3][0],A_E_input_data[3][1],A_E_input_data[3][2]],axis=0).reset_index(drop=True)\n",
    "df_CNN = pd.concat([meta_data_key,df_CNN],axis=1).reset_index(drop=True)\n",
    "CNN_A_E_data = df_CNN.merge(Meta_Data_Augmented.drop(columns=['type']) ,how='left', on='image_id')"
   ]
  },
  {
   "cell_type": "code",
   "execution_count": 36,
   "metadata": {},
   "outputs": [],
   "source": [
    "cols = ['localization','sex','dx_type']\n",
    "CNN_A_E_data_encoded = pd.get_dummies(CNN_A_E_data, columns= cols).reset_index(drop=True)\n",
    "def standardizaion(dataset, attr):\n",
    "    mean = dataset[dataset.type.str.contains('train')][attr].mean()\n",
    "    std = dataset[dataset.type.str.contains('train')][attr].std()\n",
    "    dataset[attr] = (dataset[attr] - mean ) / std\n",
    "    return dataset\n",
    "CNN_A_E_data_encoded_STD = standardizaion(CNN_A_E_data_encoded,'age')"
   ]
  },
  {
   "cell_type": "code",
   "execution_count": 37,
   "metadata": {},
   "outputs": [],
   "source": [
    "pickle.dump(CNN_A_E_data_encoded_STD, open(G_path + '/07_CNNs_Output_DataSet/'+ 'CNN_A_E_Ouput_MultiClass', 'wb'))"
   ]
  },
  {
   "cell_type": "markdown",
   "metadata": {},
   "source": [
    "# **CNN: AutoEncoder Binary, Output**"
   ]
  },
  {
   "cell_type": "code",
   "execution_count": 38,
   "metadata": {},
   "outputs": [
    {
     "data": {
      "text/plain": [
       "(torch.Size([4647, 3, 282, 207]), torch.Size([4647, 2]))"
      ]
     },
     "execution_count": 38,
     "metadata": {},
     "output_type": "execute_result"
    }
   ],
   "source": [
    "model_ = Model_A_En_binary\n",
    "X = torch.cat([A_E_input_data[0],A_E_input_data[1],A_E_input_data[2]],dim=0).detach()\n",
    "n = 100\n",
    "iter = X.shape[0] // n\n",
    "Y_pred = torch.zeros(0)\n",
    "for i in range(iter+1):\n",
    "    X_ = X[i*n:(i+1)*n]\n",
    "    Y_ = torch.softmax(model_.forward_noDrop(X_),dim=1).detach()\n",
    "    Y_pred = torch.cat([Y_pred,Y_]).detach()\n",
    "X.shape , Y_pred.shape"
   ]
  },
  {
   "cell_type": "markdown",
   "metadata": {},
   "source": []
  },
  {
   "cell_type": "code",
   "execution_count": 39,
   "metadata": {},
   "outputs": [],
   "source": [
    "df_CNN = pd.DataFrame(Y_pred.detach().numpy()).add_prefix('CNN_')\n",
    "meta_data_key = pd.concat([A_E_input_data[3][0],A_E_input_data[3][1],A_E_input_data[3][2]],axis=0).reset_index(drop=True)\n",
    "df_CNN = pd.concat([meta_data_key,df_CNN],axis=1).reset_index(drop=True)\n",
    "CNN_A_E_data = df_CNN.merge(Meta_Data_Augmented.drop(columns=['type']) ,how='left', on='image_id')"
   ]
  },
  {
   "cell_type": "code",
   "execution_count": 40,
   "metadata": {},
   "outputs": [],
   "source": [
    "cols = ['localization','sex','dx_type']\n",
    "CNN_A_E_data_encoded = pd.get_dummies(CNN_A_E_data, columns= cols).reset_index(drop=True)\n",
    "def standardizaion(dataset, attr):\n",
    "    mean = dataset[dataset.type.str.contains('train')][attr].mean()\n",
    "    std = dataset[dataset.type.str.contains('train')][attr].std()\n",
    "    dataset[attr] = (dataset[attr] - mean ) / std\n",
    "    return dataset\n",
    "CNN_A_E_data_encoded_STD = standardizaion(CNN_A_E_data_encoded,'age')"
   ]
  },
  {
   "cell_type": "code",
   "execution_count": 41,
   "metadata": {},
   "outputs": [],
   "source": [
    "pickle.dump(CNN_A_E_data_encoded_STD, open(G_path + '/07_CNNs_Output_DataSet/'+ 'CNN_A_E_Ouput_Binary', 'wb'))"
   ]
  },
  {
   "cell_type": "code",
   "execution_count": null,
   "metadata": {},
   "outputs": [],
   "source": []
  }
 ],
 "metadata": {
  "kernelspec": {
   "display_name": "Python 3.8.9 64-bit",
   "language": "python",
   "name": "python3"
  },
  "language_info": {
   "codemirror_mode": {
    "name": "ipython",
    "version": 3
   },
   "file_extension": ".py",
   "mimetype": "text/x-python",
   "name": "python",
   "nbconvert_exporter": "python",
   "pygments_lexer": "ipython3",
   "version": "3.8.9"
  },
  "vscode": {
   "interpreter": {
    "hash": "31f2aee4e71d21fbe5cf8b01ff0e069b9275f58929596ceb00d14d90e3e16cd6"
   }
  }
 },
 "nbformat": 4,
 "nbformat_minor": 4
}
