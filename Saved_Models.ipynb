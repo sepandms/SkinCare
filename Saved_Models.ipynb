{
 "cells": [
  {
   "cell_type": "code",
   "execution_count": 8,
   "metadata": {},
   "outputs": [],
   "source": [
    "G_save = '/Volumes/GoogleDrive/My Drive/DataSources/SkinCare/Saved/'"
   ]
  },
  {
   "cell_type": "code",
   "execution_count": 12,
   "metadata": {},
   "outputs": [],
   "source": [
    "df_test = pd.DataFrame(dir(pd))\n",
    "\n",
    "pickle.dump(df_test, open(G_save + 'df_test', 'wb'))"
   ]
  },
  {
   "cell_type": "code",
   "execution_count": 13,
   "metadata": {},
   "outputs": [],
   "source": [
    "df_test2 = pickle.load(open(G_save + 'df_test' , 'rb') )"
   ]
  },
  {
   "cell_type": "code",
   "execution_count": 9,
   "metadata": {},
   "outputs": [
    {
     "data": {
      "text/plain": [
       "['CNN_60x45_Best_Grid_14.06',\n",
       " 'CNN_60x45_Best_CV_14.06',\n",
       " 'CNN_Grid_Searc_Details_14_Jun_2022_21:27.csv',\n",
       " 'Grid_Details14_Jun_2022_21:27',\n",
       " 'CNN_60x45_Best_Grid14_Jun_2022_21:32',\n",
       " 'CNN_60x45_Best_CV_14.0614_Jun_2022_21:32',\n",
       " 'CNNs_Network_Training']"
      ]
     },
     "execution_count": 9,
     "metadata": {},
     "output_type": "execute_result"
    }
   ],
   "source": [
    "import os\n",
    "os.listdir(G_save)"
   ]
  },
  {
   "cell_type": "code",
   "execution_count": 15,
   "metadata": {},
   "outputs": [
    {
     "ename": "AttributeError",
     "evalue": "Can't get attribute 'CNN_Net3' on <module '__main__'>",
     "output_type": "error",
     "traceback": [
      "\u001b[0;31m---------------------------------------------------------------------------\u001b[0m",
      "\u001b[0;31mAttributeError\u001b[0m                            Traceback (most recent call last)",
      "\u001b[0;32m/var/folders/jr/h5q7lybd23l1htckxf1x0dnr0000gn/T/ipykernel_3858/2350348046.py\u001b[0m in \u001b[0;36m<cell line: 1>\u001b[0;34m()\u001b[0m\n\u001b[0;32m----> 1\u001b[0;31m \u001b[0mGrid_Details\u001b[0m \u001b[0;34m=\u001b[0m \u001b[0mpickle\u001b[0m\u001b[0;34m.\u001b[0m\u001b[0mload\u001b[0m\u001b[0;34m(\u001b[0m\u001b[0mopen\u001b[0m\u001b[0;34m(\u001b[0m\u001b[0mG_save\u001b[0m \u001b[0;34m+\u001b[0m \u001b[0;34m'Grid_Details14_Jun_2022_21:27'\u001b[0m \u001b[0;34m,\u001b[0m \u001b[0;34m'rb'\u001b[0m\u001b[0;34m)\u001b[0m \u001b[0;34m)\u001b[0m\u001b[0;34m\u001b[0m\u001b[0;34m\u001b[0m\u001b[0m\n\u001b[0m",
      "\u001b[0;31mAttributeError\u001b[0m: Can't get attribute 'CNN_Net3' on <module '__main__'>"
     ]
    }
   ],
   "source": [
    "Grid_Details = pickle.load(open(G_save + 'Grid_Details14_Jun_2022_21:27' , 'rb') )"
   ]
  },
  {
   "cell_type": "code",
   "execution_count": 6,
   "metadata": {},
   "outputs": [],
   "source": [
    "import torch\n",
    "import torch.nn as nn\n",
    "import torch.nn.functional as F\n",
    "import torchvision\n",
    "import torchvision.transforms as transforms\n",
    "#import torchvision.transforms.Compose\n",
    "import numpy as np\n",
    "import matplotlib.pyplot as plt\n",
    "from torch.utils.data import random_split\n",
    "from torch.utils.data import SubsetRandomSampler\n",
    "import time\n",
    "from statistics import mean\n",
    "import pandas as pd\n",
    "import sklearn as sk\n",
    "import pickle\n",
    "import dill\n",
    "from sklearn.model_selection import train_test_split\n",
    "device = torch.device(\"cuda\" if torch.cuda.is_available() else \"cpu\")\n",
    "from sklearn.utils import resample\n",
    "import warnings\n",
    "warnings.filterwarnings('ignore')\n",
    "path = '/Users/sepehrbe/DataSources/Kaggle/SkinCare/Data/Pickle_Data/'\n",
    "p_models = '/Users/sepehrbe/DataSources/Kaggle/SkinCare/Models/Saved/'\n",
    "#device = torch.device(\"cpu\")"
   ]
  },
  {
   "cell_type": "code",
   "execution_count": 13,
   "metadata": {},
   "outputs": [
    {
     "name": "stdout",
     "output_type": "stream",
     "text": [
      "Train size:  3450  Valid Size:  609  Test size:  451\n"
     ]
    }
   ],
   "source": [
    "file = 'DataSource_60x45_blc.pickle' \n",
    "data = pd.read_pickle(path + file)\n",
    "\n",
    "train_data = data[data.type=='train']\n",
    "valid_data = data[data.type=='valid']\n",
    "test_data = data[data.type=='test']\n",
    "\n",
    "training_data = pd.concat([train_data,valid_data], axis=0)\n",
    "print('Train size: ',train_data.shape[0] ,' Valid Size: ',valid_data.shape[0], ' Test size: ', test_data.shape[0])"
   ]
  },
  {
   "cell_type": "markdown",
   "metadata": {},
   "source": [
    "# **Standardize Train and Validation data**"
   ]
  },
  {
   "cell_type": "code",
   "execution_count": 14,
   "metadata": {},
   "outputs": [
    {
     "name": "stdout",
     "output_type": "stream",
     "text": [
      "Mean : [0.73868471 0.55427031 0.58102355]   STD: [0.13988726 0.14805723 0.16430182]\n"
     ]
    }
   ],
   "source": [
    "training_arrays = np.stack(training_data['img_array'].values)  \n",
    "training_arrays_scaled = training_arrays / 255\n",
    "Mean = training_arrays_scaled.mean(axis = (0,1,2)) \n",
    "STD = training_arrays_scaled.std(axis = (0,1,2))\n",
    "print(f\"Mean : {Mean}   STD: {STD}\") "
   ]
  },
  {
   "cell_type": "code",
   "execution_count": 15,
   "metadata": {},
   "outputs": [],
   "source": [
    "#Train data standardization\n",
    "train_arrays_std = np.stack(train_data['img_array'].values) / 255\n",
    "for i in range(0,train_arrays_std.shape[0]):\n",
    "    train_arrays_std[i] = (train_arrays_std[i] - Mean) / STD\n",
    "#Validation data standardization\n",
    "valid_arrays_std = np.stack(valid_data['img_array'].values) / 255\n",
    "for i in range(0,valid_arrays_std.shape[0]):\n",
    "    valid_arrays_std[i] = (valid_arrays_std[i] - Mean) / STD\n",
    "#Test data standardization\n",
    "test_arrays_std = np.stack(test_data['img_array'].values) / 255\n",
    "for i in range(0,test_arrays_std.shape[0]):\n",
    "    test_arrays_std[i] = (test_arrays_std[i] - Mean) / STD"
   ]
  },
  {
   "cell_type": "code",
   "execution_count": 16,
   "metadata": {},
   "outputs": [
    {
     "name": "stdout",
     "output_type": "stream",
     "text": [
      "Mean : [ 0.00141823 -0.00325004 -0.00244724]   STD: [1.00277128 1.00234299 1.0038413 ]\n"
     ]
    }
   ],
   "source": [
    "Mean_t = train_arrays_std.mean(axis = (0,1,2)) \n",
    "STD_t = train_arrays_std.std(axis = (0,1,2))\n",
    "print(f\"Mean : {Mean_t}   STD: {STD_t}\") "
   ]
  },
  {
   "cell_type": "code",
   "execution_count": 17,
   "metadata": {},
   "outputs": [],
   "source": [
    "train_arrays_std_T = torch.tensor(train_arrays_std, dtype= torch.float32).transpose(3,1)\n",
    "train_labels = torch.tensor(train_data['label_id'].values.astype(np.long))\n",
    "\n",
    "valid_arrays_std_T = torch.tensor(valid_arrays_std, dtype= torch.float32).transpose(3,1)\n",
    "valid_labels = torch.tensor(valid_data['label_id'].values.astype(np.long))\n",
    "\n",
    "test_arrays_std_T = torch.tensor(test_arrays_std, dtype= torch.float32).transpose(3,1)\n",
    "test_labels = torch.tensor(test_data['label_id'].values.astype(np.long))\n",
    "\n",
    "input_data = (train_arrays_std_T , valid_arrays_std_T, test_arrays_std_T , torch.cat((train_arrays_std_T,valid_arrays_std_T,test_arrays_std_T),0) )\n",
    "labels = (train_labels,valid_labels,test_labels , torch.cat((train_labels,valid_labels,test_labels),0))"
   ]
  },
  {
   "cell_type": "markdown",
   "metadata": {
    "id": "GgLTtyx5uw6b"
   },
   "source": [
    "### **1.2 Nets**"
   ]
  },
  {
   "cell_type": "code",
   "execution_count": 18,
   "metadata": {
    "id": "w1GCLpHCrDWL"
   },
   "outputs": [],
   "source": [
    "class CNN_Net1(nn.Module):\n",
    "    def __init__(self):\n",
    "        super().__init__()\n",
    "        self.conv1 = nn.Conv2d( in_channels=3 , out_channels=32 , kernel_size=(3, 3))\n",
    "        self.conv2 = nn.Conv2d( in_channels=32, out_channels=32 , kernel_size=(3, 3))\n",
    "        self.pool1 = nn.MaxPool2d( kernel_size = (2,2), stride = None, padding = 0 )\n",
    "        self.conv3 = nn.Conv2d( in_channels=32, out_channels=64 , kernel_size=(3, 3))\n",
    "        self.conv4 = nn.Conv2d( in_channels=64, out_channels=64 , kernel_size=(3, 3))\n",
    "        self.pool2 = nn.MaxPool2d( kernel_size = (2,2), stride = None, padding = 0 )\n",
    "        self.fc1   = nn.Linear(in_features= 6144 , out_features = 512)\n",
    "        self.fc2   = nn.Linear(in_features= 512, out_features = 7)\n",
    "        self.Act   = nn.ReLU(inplace=True)\n",
    "    def forward(self, x):\n",
    "        out = self.Act(self.conv1(x))\n",
    "        out = self.Act(self.conv2(out))\n",
    "        out = self.Act(self.pool1(out))\n",
    "        out = self.Act(self.conv3(out))\n",
    "        out = self.Act(self.conv4(out))\n",
    "        out = self.Act(self.pool2(out))\n",
    "        out = torch.flatten(out, 1) \n",
    "        out = self.Act(self.fc1(out))\n",
    "        out = self.Act(self.fc2(out))\n",
    "        # out = nn.Softmax(out)\n",
    "        return out\n",
    "        \n",
    "class CNN_Net2(nn.Module):\n",
    "    def __init__(self):\n",
    "        super().__init__()\n",
    "        self.conv1 = nn.Conv2d( in_channels=3 , out_channels=32 , kernel_size=(3, 3))\n",
    "        # self.conv2 = nn.Conv2d( in_channels=32, out_channels=32 , kernel_size=(3, 3))\n",
    "        self.pool1 = nn.MaxPool2d( kernel_size = (2,2), stride = None, padding = 0 )\n",
    "        self.conv3 = nn.Conv2d( in_channels=32, out_channels=64 , kernel_size=(3, 3))\n",
    "        # self.conv4 = nn.Conv2d( in_channels=64, out_channels=64 , kernel_size=(3, 3))\n",
    "        self.pool2 = nn.MaxPool2d( kernel_size = (2,2), stride = None, padding = 0 )\n",
    "        self.fc1   = nn.Linear(in_features= 7488 , out_features = 512)\n",
    "        self.fc2   = nn.Linear(in_features= 512, out_features = 7)\n",
    "        self.Act   = nn.ReLU(inplace=True)\n",
    "    def forward(self, x):\n",
    "        out = self.Act(self.conv1(x))\n",
    "        # out = self.Act(self.conv2(out))\n",
    "        out = self.Act(self.pool1(out))\n",
    "        out = self.Act(self.conv3(out))\n",
    "        # out = self.Act(self.conv4(out))\n",
    "        out = self.Act(self.pool2(out))\n",
    "        out = torch.flatten(out, 1) \n",
    "        out = self.Act(self.fc1(out))\n",
    "        out = self.Act(self.fc2(out))\n",
    "        # out = nn.Softmax(out)\n",
    "        return out\n",
    "\n",
    "class CNN_Net3(nn.Module):\n",
    "    def __init__(self):\n",
    "        super().__init__()\n",
    "        self.conv1 = nn.Conv2d( in_channels=3 , out_channels=32 , kernel_size=(3, 3))\n",
    "        # self.conv2 = nn.Conv2d( in_channels=32, out_channels=32 , kernel_size=(3, 3))\n",
    "        self.pool1 = nn.MaxPool2d( kernel_size = (2,2), stride = None, padding = 0 )\n",
    "        self.conv3 = nn.Conv2d( in_channels=32, out_channels=64 , kernel_size=(3, 3))\n",
    "        # self.conv4 = nn.Conv2d( in_channels=64, out_channels=64 , kernel_size=(3, 3))\n",
    "        self.pool2 = nn.MaxPool2d( kernel_size = (2,2), stride = None, padding = 0 )\n",
    "        self.fc1   = nn.Linear(in_features= 7488 , out_features = 512)\n",
    "        self.fc2   = nn.Linear(in_features= 512, out_features = 7)\n",
    "        self.Act   = nn.ReLU(inplace=True)\n",
    "        self.Act_S   = nn.Sigmoid()\n",
    "    def forward(self, x):\n",
    "        out = self.Act(self.conv1(x))\n",
    "        # out = self.Act(self.conv2(out))\n",
    "        out = self.Act(self.pool1(out))\n",
    "        out = self.Act(self.conv3(out))\n",
    "        # out = self.Act(self.conv4(out))\n",
    "        out = self.Act(self.pool2(out))\n",
    "        out = torch.flatten(out, 1) \n",
    "        out = self.Act(self.fc1(out))\n",
    "        out = self.Act_S(self.fc2(out))\n",
    "        # out = nn.Softmax(out)\n",
    "        return out"
   ]
  },
  {
   "cell_type": "markdown",
   "metadata": {},
   "source": [
    "# **Confusion-Matrix & Accuracy**"
   ]
  },
  {
   "cell_type": "code",
   "execution_count": 19,
   "metadata": {},
   "outputs": [],
   "source": [
    "def confusion_matrix(Y_pred,Y):\n",
    "    CM = sk.metrics.confusion_matrix(Y_pred,Y)\n",
    "    Total_sum = sum(sum(CM))\n",
    "    Diagonal_sum = np.trace(CM) \n",
    "    accuracy1 = Diagonal_sum / Total_sum\n",
    "    frequencies = list(pd.DataFrame(Y).value_counts())\n",
    "    weights = list(np.divide(frequencies, Total_sum))\n",
    "    sensitivity = []\n",
    "    specificity = []\n",
    "    for i in range(0,7):\n",
    "        sensitivity_ = CM[i,i].sum() / (CM[i].sum())\n",
    "        sensitivity.append(sensitivity_)\n",
    "        specificity_ = (Diagonal_sum - CM[i,i]) / (  (Diagonal_sum - CM[i,i]) + (CM.T[i].sum()-CM[i,i]))\n",
    "        specificity.append(specificity_)\n",
    "        \n",
    "    print('Nr. of Data : \\n', Total_sum)\n",
    "    print('Accuracy of The Model : \\n', accuracy1)\n",
    "    print('Confusion Matrix : \\n', CM)\n",
    "    print('Weighted Avg. of sensitivity : \\n', np.average(np.nan_to_num(sensitivity), weights=weights))\n",
    "    print('Weighted Avg. of specificity : \\n', np.average(np.nan_to_num(specificity), weights=weights))\n",
    "    sk.metrics.ConfusionMatrixDisplay(CM).plot()"
   ]
  },
  {
   "cell_type": "markdown",
   "metadata": {},
   "source": [
    "# **Model 1: 60x45 - with Duplications**"
   ]
  },
  {
   "cell_type": "code",
   "execution_count": 20,
   "metadata": {},
   "outputs": [],
   "source": [
    "CNN_Net1,CNN_Net2,CNN_Net3, Model_Training = dill.load( open(p_models + 'CNNs_Network_Training', 'rb'))"
   ]
  },
  {
   "cell_type": "code",
   "execution_count": 21,
   "metadata": {},
   "outputs": [],
   "source": [
    "Model_1 = pickle.load(open(p_models + 'CNN_60x45_Duplicated' , 'rb') )"
   ]
  },
  {
   "cell_type": "code",
   "execution_count": 11,
   "metadata": {},
   "outputs": [
    {
     "name": "stdout",
     "output_type": "stream",
     "text": [
      "Nr. of Data : \n",
      " 451\n",
      "Accuracy of The Model : \n",
      " 0.6008869179600886\n",
      "Confusion Matrix : \n",
      " [[18  6  3  1  5  3  0]\n",
      " [ 5 25  6  5  3  0  4]\n",
      " [ 1 14 77  1 26  9  0]\n",
      " [ 1  0  0  0  0  0  0]\n",
      " [ 3  2 20  0 41  5  1]\n",
      " [ 4  3 15  1 27 98  3]\n",
      " [ 0  1  1  0  1  0 12]]\n",
      "Weighted Avg. of sensitivity : \n",
      " 0.4888228946915448\n",
      "Weighted Avg. of specificity : \n",
      " 0.8956341098856812\n"
     ]
    },
    {
     "data": {
      "image/png": "[encoded data removed]",
      "text/plain": [
       "<Figure size 432x288 with 2 Axes>"
      ]
     },
     "metadata": {
      "needs_background": "light"
     },
     "output_type": "display_data"
    }
   ],
   "source": [
    "model_ = Model_1.model.eval()\n",
    "X = input_data[2]\n",
    "Y = labels[2]\n",
    "Y_pred = model_(X).argmax(dim=1)\n",
    "confusion_matrix(Y_pred,Y)"
   ]
  },
  {
   "cell_type": "code",
   "execution_count": 22,
   "metadata": {},
   "outputs": [
    {
     "name": "stdout",
     "output_type": "stream",
     "text": [
      "Nr. of Data : \n",
      " 451\n",
      "Accuracy of The Model : \n",
      " 0.6008869179600886\n",
      "Confusion Matrix : \n",
      " [[18  6  3  1  5  3  0]\n",
      " [ 5 25  6  5  3  0  4]\n",
      " [ 1 14 77  1 26  9  0]\n",
      " [ 1  0  0  0  0  0  0]\n",
      " [ 3  2 20  0 41  5  1]\n",
      " [ 4  3 15  1 27 98  3]\n",
      " [ 0  1  1  0  1  0 12]]\n",
      "Weighted Avg. of sensitivity : \n",
      " 0.4888228946915448\n",
      "Weighted Avg. of specificity : \n",
      " 0.8956341098856812\n"
     ]
    },
    {
     "data": {
      "image/png": "[encoded data removed]",
      "text/plain": [
       "<Figure size 432x288 with 2 Axes>"
      ]
     },
     "metadata": {
      "needs_background": "light"
     },
     "output_type": "display_data"
    }
   ],
   "source": [
    "model_ = Model_1.model.eval()\n",
    "X = input_data[2]\n",
    "Y = labels[2]\n",
    "Y_pred = model_(X).argmax(dim=1)\n",
    "confusion_matrix(Y_pred,Y)"
   ]
  },
  {
   "cell_type": "code",
   "execution_count": 23,
   "metadata": {},
   "outputs": [
    {
     "data": {
      "image/png": "[encoded data removed]",
      "text/plain": [
       "<Figure size 432x288 with 1 Axes>"
      ]
     },
     "metadata": {
      "needs_background": "light"
     },
     "output_type": "display_data"
    }
   ],
   "source": [
    "model_ = Model_1\n",
    "epochs_X = [i for i in range(1, model_.epochs+1)]\n",
    "plt.subplots(figsize=(6,4))\n",
    "\n",
    "plt.plot(epochs_X , model_.Epochs_Train_loss, 'o-', label='Train loss')\n",
    "plt.plot(epochs_X , model_.Epochs_Val_loss,'ro-', label='Validation loss')\n",
    "plt.xlabel(\"Epochs\", fontsize = 12)\n",
    "plt.ylabel(\"Loss\", fontsize = 12)\n",
    "plt.grid()\n",
    "plt.legend()\n",
    "plt.title('Train and Validation loss by epochs')\n",
    "plt.show()"
   ]
  },
  {
   "cell_type": "code",
   "execution_count": 13,
   "metadata": {},
   "outputs": [
    {
     "data": {
      "image/png": "[encoded data removed]",
      "text/plain": [
       "<Figure size 432x288 with 1 Axes>"
      ]
     },
     "metadata": {
      "needs_background": "light"
     },
     "output_type": "display_data"
    }
   ],
   "source": [
    "model_ = Model_1\n",
    "epochs_X = [i for i in range(1, model_.epochs+1)]\n",
    "epochs_X\n",
    "plt.subplots(figsize=(6,4))\n",
    "\n",
    "plt.plot(epochs_X , model_.Epochs_Train_Acc, 'o-', label='Train Accuracy')\n",
    "plt.plot(epochs_X , model_.Epochs_Val_Acc,'ro-', label='Validation Accuracy')\n",
    "plt.xlabel(\"Epochs\", fontsize = 12)\n",
    "plt.ylabel(\"Accuracy\", fontsize = 12)\n",
    "plt.grid()\n",
    "plt.legend()\n",
    "plt.title('Train and Validation Accuracy by epochs')\n",
    "plt.show()"
   ]
  },
  {
   "cell_type": "markdown",
   "metadata": {},
   "source": [
    "# **Adding CNN output to DataSource**"
   ]
  },
  {
   "cell_type": "code",
   "execution_count": 14,
   "metadata": {},
   "outputs": [],
   "source": [
    "datasource = pd.concat([train_data,valid_data, test_data], axis=0).reset_index(drop=True)"
   ]
  },
  {
   "cell_type": "code",
   "execution_count": 15,
   "metadata": {},
   "outputs": [],
   "source": [
    "#Train data standardization\n",
    "datasource_std = np.stack(datasource['img_array'].values) / 255\n",
    "for i in range(0,datasource_std.shape[0]):\n",
    "    datasource_std[i] = (datasource_std[i] - Mean) / STD\n",
    "\n",
    "datasource_std_T = torch.tensor(datasource_std, dtype= torch.float32).transpose(3,1)\n",
    "\n"
   ]
  },
  {
   "cell_type": "code",
   "execution_count": 22,
   "metadata": {},
   "outputs": [],
   "source": [
    "model_ = Model_1.model.eval()\n",
    "datasource_CNN_out = model_(datasource_std_T)\n",
    "datasource_CNN_soft = torch.softmax(datasource_CNN_out,dim=1)\n",
    "df_CNN = pd.DataFrame(datasource_CNN_soft.detach().numpy()).add_prefix('CNN_')\n",
    "datasource_v2 = pd.concat([datasource,df_CNN],axis=1).reset_index(drop=True)"
   ]
  },
  {
   "cell_type": "code",
   "execution_count": 23,
   "metadata": {},
   "outputs": [
    {
     "name": "stdout",
     "output_type": "stream",
     "text": [
      "<class 'pandas.core.frame.DataFrame'>\n",
      "RangeIndex: 4510 entries, 0 to 4509\n",
      "Data columns (total 17 columns):\n",
      " #   Column        Non-Null Count  Dtype   \n",
      "---  ------        --------------  -----   \n",
      " 0   image_id      4510 non-null   object  \n",
      " 1   img_array     4510 non-null   object  \n",
      " 2   lesion_id     4510 non-null   object  \n",
      " 3   image_label   4510 non-null   category\n",
      " 4   dx_type       4510 non-null   object  \n",
      " 5   age           4510 non-null   float64 \n",
      " 6   sex           4510 non-null   object  \n",
      " 7   localization  4510 non-null   object  \n",
      " 8   label_id      4510 non-null   int8    \n",
      " 9   type          4510 non-null   object  \n",
      " 10  CNN_0         4510 non-null   float32 \n",
      " 11  CNN_1         4510 non-null   float32 \n",
      " 12  CNN_2         4510 non-null   float32 \n",
      " 13  CNN_3         4510 non-null   float32 \n",
      " 14  CNN_4         4510 non-null   float32 \n",
      " 15  CNN_5         4510 non-null   float32 \n",
      " 16  CNN_6         4510 non-null   float32 \n",
      "dtypes: category(1), float32(7), float64(1), int8(1), object(7)\n",
      "memory usage: 414.5+ KB\n"
     ]
    }
   ],
   "source": [
    "datasource_v2.info()"
   ]
  },
  {
   "cell_type": "markdown",
   "metadata": {},
   "source": [
    "**Check Null Values**"
   ]
  },
  {
   "cell_type": "code",
   "execution_count": 24,
   "metadata": {},
   "outputs": [
    {
     "data": {
      "text/plain": [
       "image_id        False\n",
       "img_array       False\n",
       "lesion_id       False\n",
       "image_label     False\n",
       "dx_type         False\n",
       "age             False\n",
       "sex             False\n",
       "localization    False\n",
       "label_id        False\n",
       "type            False\n",
       "CNN_0           False\n",
       "CNN_1           False\n",
       "CNN_2           False\n",
       "CNN_3           False\n",
       "CNN_4           False\n",
       "CNN_5           False\n",
       "CNN_6           False\n",
       "dtype: bool"
      ]
     },
     "execution_count": 24,
     "metadata": {},
     "output_type": "execute_result"
    }
   ],
   "source": [
    "datasource_v2.isnull().any()"
   ]
  },
  {
   "cell_type": "code",
   "execution_count": 25,
   "metadata": {},
   "outputs": [
    {
     "name": "stdout",
     "output_type": "stream",
     "text": [
      "<class 'pandas.core.frame.DataFrame'>\n",
      "RangeIndex: 4510 entries, 0 to 4509\n",
      "Data columns (total 17 columns):\n",
      " #   Column        Non-Null Count  Dtype   \n",
      "---  ------        --------------  -----   \n",
      " 0   image_id      4510 non-null   object  \n",
      " 1   img_array     4510 non-null   object  \n",
      " 2   lesion_id     4510 non-null   object  \n",
      " 3   image_label   4510 non-null   category\n",
      " 4   dx_type       4510 non-null   object  \n",
      " 5   age           4510 non-null   float64 \n",
      " 6   sex           4510 non-null   object  \n",
      " 7   localization  4510 non-null   object  \n",
      " 8   label_id      4510 non-null   int8    \n",
      " 9   type          4510 non-null   object  \n",
      " 10  CNN_0         4510 non-null   float32 \n",
      " 11  CNN_1         4510 non-null   float32 \n",
      " 12  CNN_2         4510 non-null   float32 \n",
      " 13  CNN_3         4510 non-null   float32 \n",
      " 14  CNN_4         4510 non-null   float32 \n",
      " 15  CNN_5         4510 non-null   float32 \n",
      " 16  CNN_6         4510 non-null   float32 \n",
      "dtypes: category(1), float32(7), float64(1), int8(1), object(7)\n",
      "memory usage: 414.5+ KB\n"
     ]
    }
   ],
   "source": [
    "datasource_v2.info()"
   ]
  },
  {
   "cell_type": "markdown",
   "metadata": {},
   "source": [
    "**One-Hot Encoding**"
   ]
  },
  {
   "cell_type": "code",
   "execution_count": 26,
   "metadata": {},
   "outputs": [],
   "source": [
    "cols = ['localization','sex','dx_type']\n",
    "datasource_v2_OneHot = pd.get_dummies(datasource_v2, columns= cols).reset_index(drop=True)"
   ]
  },
  {
   "cell_type": "code",
   "execution_count": 27,
   "metadata": {},
   "outputs": [
    {
     "name": "stdout",
     "output_type": "stream",
     "text": [
      "<class 'pandas.core.frame.DataFrame'>\n",
      "RangeIndex: 4510 entries, 0 to 4509\n",
      "Data columns (total 33 columns):\n",
      " #   Column                        Non-Null Count  Dtype   \n",
      "---  ------                        --------------  -----   \n",
      " 0   image_id                      4510 non-null   object  \n",
      " 1   img_array                     4510 non-null   object  \n",
      " 2   lesion_id                     4510 non-null   object  \n",
      " 3   image_label                   4510 non-null   category\n",
      " 4   age                           4510 non-null   float64 \n",
      " 5   label_id                      4510 non-null   int8    \n",
      " 6   type                          4510 non-null   object  \n",
      " 7   CNN_0                         4510 non-null   float32 \n",
      " 8   CNN_1                         4510 non-null   float32 \n",
      " 9   CNN_2                         4510 non-null   float32 \n",
      " 10  CNN_3                         4510 non-null   float32 \n",
      " 11  CNN_4                         4510 non-null   float32 \n",
      " 12  CNN_5                         4510 non-null   float32 \n",
      " 13  CNN_6                         4510 non-null   float32 \n",
      " 14  localization_abdomen          4510 non-null   uint8   \n",
      " 15  localization_back             4510 non-null   uint8   \n",
      " 16  localization_chest            4510 non-null   uint8   \n",
      " 17  localization_ear              4510 non-null   uint8   \n",
      " 18  localization_face             4510 non-null   uint8   \n",
      " 19  localization_foot             4510 non-null   uint8   \n",
      " 20  localization_genital          4510 non-null   uint8   \n",
      " 21  localization_hand             4510 non-null   uint8   \n",
      " 22  localization_lower extremity  4510 non-null   uint8   \n",
      " 23  localization_neck             4510 non-null   uint8   \n",
      " 24  localization_scalp            4510 non-null   uint8   \n",
      " 25  localization_trunk            4510 non-null   uint8   \n",
      " 26  localization_upper extremity  4510 non-null   uint8   \n",
      " 27  sex_female                    4510 non-null   uint8   \n",
      " 28  sex_male                      4510 non-null   uint8   \n",
      " 29  dx_type_confocal              4510 non-null   uint8   \n",
      " 30  dx_type_consensus             4510 non-null   uint8   \n",
      " 31  dx_type_follow_up             4510 non-null   uint8   \n",
      " 32  dx_type_histo                 4510 non-null   uint8   \n",
      "dtypes: category(1), float32(7), float64(1), int8(1), object(4), uint8(19)\n",
      "memory usage: 392.5+ KB\n"
     ]
    }
   ],
   "source": [
    "datasource_v2_OneHot.info()"
   ]
  },
  {
   "cell_type": "code",
   "execution_count": 28,
   "metadata": {},
   "outputs": [],
   "source": [
    "pd.to_pickle(datasource_v2_OneHot, path+'DataSource_60x45_OneHot_CNN.pickle')"
   ]
  },
  {
   "cell_type": "code",
   "execution_count": null,
   "metadata": {},
   "outputs": [
    {
     "name": "stdout",
     "output_type": "stream",
     "text": [
      "<class 'pandas.core.frame.DataFrame'>\n",
      "RangeIndex: 4510 entries, 0 to 4509\n",
      "Data columns (total 33 columns):\n",
      " #   Column                        Non-Null Count  Dtype   \n",
      "---  ------                        --------------  -----   \n",
      " 0   image_id                      4510 non-null   object  \n",
      " 1   img_array                     4510 non-null   object  \n",
      " 2   lesion_id                     4510 non-null   object  \n",
      " 3   image_label                   4510 non-null   category\n",
      " 4   age                           4510 non-null   float64 \n",
      " 5   label_id                      4510 non-null   int8    \n",
      " 6   type                          4510 non-null   object  \n",
      " 7   CNN_0                         4510 non-null   float32 \n",
      " 8   CNN_1                         4510 non-null   float32 \n",
      " 9   CNN_2                         4510 non-null   float32 \n",
      " 10  CNN_3                         4510 non-null   float32 \n",
      " 11  CNN_4                         4510 non-null   float32 \n",
      " 12  CNN_5                         4510 non-null   float32 \n",
      " 13  CNN_6                         4510 non-null   float32 \n",
      " 14  localization_abdomen          4510 non-null   uint8   \n",
      " 15  localization_back             4510 non-null   uint8   \n",
      " 16  localization_chest            4510 non-null   uint8   \n",
      " 17  localization_ear              4510 non-null   uint8   \n",
      " 18  localization_face             4510 non-null   uint8   \n",
      " 19  localization_foot             4510 non-null   uint8   \n",
      " 20  localization_genital          4510 non-null   uint8   \n",
      " 21  localization_hand             4510 non-null   uint8   \n",
      " 22  localization_lower extremity  4510 non-null   uint8   \n",
      " 23  localization_neck             4510 non-null   uint8   \n",
      " 24  localization_scalp            4510 non-null   uint8   \n",
      " 25  localization_trunk            4510 non-null   uint8   \n",
      " 26  localization_upper extremity  4510 non-null   uint8   \n",
      " 27  sex_female                    4510 non-null   uint8   \n",
      " 28  sex_male                      4510 non-null   uint8   \n",
      " 29  dx_type_confocal              4510 non-null   uint8   \n",
      " 30  dx_type_consensus             4510 non-null   uint8   \n",
      " 31  dx_type_follow_up             4510 non-null   uint8   \n",
      " 32  dx_type_histo                 4510 non-null   uint8   \n",
      "dtypes: category(1), float32(7), float64(1), int8(1), object(4), uint8(19)\n",
      "memory usage: 392.5+ KB\n"
     ]
    }
   ],
   "source": [
    "datasource_v2_OneHot.info()"
   ]
  },
  {
   "cell_type": "markdown",
   "metadata": {},
   "source": [
    "**Ordinal Encoding**"
   ]
  },
  {
   "cell_type": "code",
   "execution_count": 31,
   "metadata": {},
   "outputs": [],
   "source": [
    "ord_enc = sk.preprocessing.OrdinalEncoder()\n",
    "datasource_v3_Ord = datasource_v2\n",
    "datasource_v3_Ord['sex'] = ord_enc.fit_transform(datasource_v3_Ord[['sex']])\n",
    "datasource_v3_Ord['localization'] = ord_enc.fit_transform(datasource_v3_Ord[['localization']])\n",
    "datasource_v3_Ord['dx_type'] = ord_enc.fit_transform(datasource_v3_Ord[['dx_type']])\n",
    "datasource_v3_Ord.reset_index(drop=True, inplace=True)"
   ]
  },
  {
   "cell_type": "code",
   "execution_count": 29,
   "metadata": {},
   "outputs": [],
   "source": [
    "def MinMaxScaling(dataset, attr):\n",
    "    min = dataset[dataset.type.str.contains('train|valid')][attr].min()\n",
    "    max = dataset[dataset.type.str.contains('train|valid')][attr].max()\n",
    "    dataset[attr] = (dataset[attr] - min ) / (max-min)\n",
    "    return dataset"
   ]
  },
  {
   "cell_type": "code",
   "execution_count": 36,
   "metadata": {},
   "outputs": [],
   "source": [
    "datasource_v3_Ord_Norm = datasource_v3_Ord.copy()\n",
    "datasource_v3_Ord_Norm = MinMaxScaling(datasource_v3_Ord_Norm , 'localization')\n",
    "datasource_v3_Ord_Norm = MinMaxScaling(datasource_v3_Ord_Norm , 'dx_type')"
   ]
  },
  {
   "cell_type": "code",
   "execution_count": 39,
   "metadata": {},
   "outputs": [
    {
     "data": {
      "text/plain": [
       "0.083333    999\n",
       "0.666667    862\n",
       "0.333333    731\n",
       "1.000000    587\n",
       "0.916667    403\n",
       "0.000000    309\n",
       "0.166667    246\n",
       "0.750000    104\n",
       "0.833333     93\n",
       "0.416667     92\n",
       "0.583333     42\n",
       "0.250000     33\n",
       "0.500000      9\n",
       "Name: localization, dtype: int64"
      ]
     },
     "execution_count": 39,
     "metadata": {},
     "output_type": "execute_result"
    }
   ],
   "source": [
    "datasource_v3_Ord_Norm.localization.value_counts()"
   ]
  },
  {
   "cell_type": "code",
   "execution_count": null,
   "metadata": {},
   "outputs": [],
   "source": [
    "pd.to_pickle(datasource_v3_Ord, path+'DataSource_60x45_Ordinal_CNN.pickle' )"
   ]
  },
  {
   "cell_type": "markdown",
   "metadata": {},
   "source": []
  }
 ],
 "metadata": {
  "kernelspec": {
   "display_name": "Python 3.8.9 64-bit",
   "language": "python",
   "name": "python3"
  },
  "language_info": {
   "codemirror_mode": {
    "name": "ipython",
    "version": 3
   },
   "file_extension": ".py",
   "mimetype": "text/x-python",
   "name": "python",
   "nbconvert_exporter": "python",
   "pygments_lexer": "ipython3",
   "version": "3.8.9"
  },
  "vscode": {
   "interpreter": {
    "hash": "31f2aee4e71d21fbe5cf8b01ff0e069b9275f58929596ceb00d14d90e3e16cd6"
   }
  }
 },
 "nbformat": 4,
 "nbformat_minor": 4
}
