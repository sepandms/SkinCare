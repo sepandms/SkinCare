{
  "cells": [
    {
      "cell_type": "markdown",
      "metadata": {
        "id": "view-in-github",
        "colab_type": "text"
      },
      "source": [
        "<a href=\"https://colab.research.google.com/github/sepandms/SkinCare/blob/main/CNN_AutoEconder.ipynb\" target=\"_parent\"><img src=\"https://colab.research.google.com/assets/colab-badge.svg\" alt=\"Open In Colab\"/></a>"
      ]
    },
    {
      "cell_type": "code",
      "execution_count": null,
      "metadata": {
        "colab": {
          "base_uri": "https://localhost:8080/"
        },
        "id": "MzRoZIkXDiT7",
        "outputId": "6a10f6b5-c636-4f49-9972-8681879fc49a"
      },
      "outputs": [
        {
          "output_type": "stream",
          "name": "stdout",
          "text": [
            "Drive already mounted at /content/drive; to attempt to forcibly remount, call drive.mount(\"/content/drive\", force_remount=True).\n",
            "Looking in indexes: https://pypi.org/simple, https://us-python.pkg.dev/colab-wheels/public/simple/\n",
            "Requirement already satisfied: pickle5 in /usr/local/lib/python3.7/dist-packages (0.0.12)\n"
          ]
        }
      ],
      "source": [
        "from google.colab import drive\n",
        "drive.mount('/content/drive')\n",
        "G_path = '/content/drive/MyDrive/DataSources/SkinCare/'\n",
        "G_data = '/content/drive/MyDrive/DataSources/SkinCare/DataSet_280x210/'\n",
        "G_save = G_path + 'Saved/'\n",
        "!pip install pickle5"
      ]
    },
    {
      "cell_type": "code",
      "execution_count": null,
      "metadata": {
        "id": "VZrZXitoAlDd"
      },
      "outputs": [],
      "source": [
        "import torch\n",
        "import torch.nn as nn\n",
        "import torch.nn.functional as F\n",
        "import torchvision\n",
        "import torchvision.transforms as transforms\n",
        "from torch.utils.data import TensorDataset as dset\n",
        "#import torchvision.transforms.Compose\n",
        "import numpy as np\n",
        "from datetime import datetime\t\n",
        "import random\n",
        "import matplotlib.pyplot as plt\n",
        "import seaborn as sns\n",
        "from torch.utils.data import random_split\n",
        "from torch.utils.data import SubsetRandomSampler\n",
        "from torch.utils.data import WeightedRandomSampler\n",
        "from torch.utils.data import DataLoader\n",
        "import time\n",
        "from tqdm import tqdm\n",
        "import pickle as pickle\n",
        "from statistics import mean\n",
        "import pandas as pd\n",
        "import sklearn as sk\n",
        "from sklearn.model_selection import train_test_split\n",
        "device = torch.device(\"cuda\" if torch.cuda.is_available() else 'mps' if torch.backends.mps.is_available() else \"cpu\")\n",
        "from sklearn.utils import resample\n",
        "import warnings\n",
        "warnings.filterwarnings('ignore')\n",
        "path = '/Users/sepehrbe/DataSources/Kaggle/SkinCare/Data/Pickle_Data/'\n",
        "p_models = '/Users/sepehrbe/DataSources/Kaggle/SkinCare/Models/Saved/'"
      ]
    },
    {
      "cell_type": "code",
      "execution_count": null,
      "metadata": {
        "id": "6y2NEQ6WOvNi"
      },
      "outputs": [],
      "source": [
        "#file = 'test1.pkl' \n",
        "file = 'InputData_280x210' \n",
        "try:\n",
        "    infile = open(G_data + file,'rb') # for google colab\n",
        "except:\n",
        "    infile = open(path+file,'rb') # for M1\n",
        "input_data = pickle.load(infile)\n",
        "\n",
        "file = 'Labels_280x210' \n",
        "try:\n",
        "    infile = open(G_data + file,'rb') # for google colab\n",
        "except:\n",
        "    infile = open(path+file,'rb') # for M1\n",
        "labels = pickle.load(infile)\n",
        "\n",
        "file = 'Evaluation_set' \n",
        "try:\n",
        "    infile = open(G_data + file,'rb') # for google colab\n",
        "except:\n",
        "    infile = open(path+file,'rb') # for M1\n",
        "Evaluation_set = pickle.load(infile)"
      ]
    },
    {
      "cell_type": "markdown",
      "metadata": {
        "id": "YX40UaIYFt0J"
      },
      "source": [
        "# **CNN Networks**"
      ]
    },
    {
      "cell_type": "code",
      "source": [
        "class Net11(nn.Module):\n",
        "    def _init_(self, drop=0.3):\n",
        "        super()._init_()\n",
        "        self.pool = nn.MaxPool2d(2, 2)\n",
        "        self.dropConv = nn.Dropout2d(drop)\n",
        "        self.dropFc = nn.Dropout(drop)\n",
        "        self.normalization = nn.BatchNorm2d(3)\n",
        "        self.conv1 = nn.Conv2d(3, 60, 5, 2)\n",
        "        self.conv2 = nn.Conv2d(60, 120, 5)\n",
        "        self.conv3 = nn.Conv2d(120, 150, 4, 2)\n",
        "        self.conv4 = nn.Conv2d(150, 180, 3)\n",
        "        self.conv5 = nn.Conv2d(180, 180, 3, 2)\n",
        "        self.fc1 = nn.Linear(1080, 140)\n",
        "        #self.fc2 = nn.Linear(700, 70)\n",
        "        self.fc3 = nn.Linear(140, 7)\n",
        "    def forward(self, x):\n",
        "        #x = self.normalization(x)\n",
        "        x = F.leaky_relu(self.conv1(x))\n",
        "        x = F.leaky_relu(self.conv2(x))\n",
        "        x = self.pool(x)\n",
        "        x = self.dropConv(x)\n",
        "        x = F.leaky_relu(self.conv3(x))\n",
        "        x = F.leaky_relu(self.conv4(x))\n",
        "        x = self.pool(x)\n",
        "        x = self.dropConv(x)\n",
        "        x = F.leaky_relu(self.conv5(x))\n",
        "        x = self.pool(x)\n",
        "        x = self.dropConv(x)\n",
        "        x = torch.flatten(x, 1)\n",
        "        x = F.leaky_relu(self.fc1(x))\n",
        "        x = self.dropFc(x)\n",
        "        #x = F.leaky_relu(self.fc2(x))\n",
        "        x = self.fc3(x)\n",
        "        return x\n",
        "\n",
        "    def forward_noDrop(self, x):\n",
        "        #x = self.normalization(x)\n",
        "        x = F.leaky_relu(self.conv1(x))\n",
        "        x = F.leaky_relu(self.conv2(x))\n",
        "        x = self.pool(x)\n",
        "        x = F.leaky_relu(self.conv3(x))\n",
        "        x = F.leaky_relu(self.conv4(x))\n",
        "        x = self.pool(x)\n",
        "        x = F.leaky_relu(self.conv5(x))\n",
        "        x = self.pool(x)\n",
        "        x = torch.flatten(x, 1)\n",
        "        x = F.leaky_relu(self.fc1(x))\n",
        "        #x = F.leaky_relu(self.fc2(x))\n",
        "        x = self.fc3(x)\n",
        "        return x"
      ],
      "metadata": {
        "id": "Z-lJlpsM7WUK"
      },
      "execution_count": null,
      "outputs": []
    },
    {
      "cell_type": "code",
      "source": [
        "class CNN_Nets:\n",
        "  class Net1(nn.Module):\n",
        "      def __init__(self):\n",
        "          super().__init__()\n",
        "          self.conv1 = nn.Conv2d( in_channels=3 , out_channels=32 , kernel_size=(3, 3))\n",
        "          self.conv2 = nn.Conv2d( in_channels=32, out_channels=32 , kernel_size=(3, 3))\n",
        "          self.pool1 = nn.MaxPool2d( kernel_size = (3,3), stride = 2, padding = 0 )\n",
        "          self.conv3 = nn.Conv2d( in_channels=32, out_channels=64 , kernel_size=(3, 3))\n",
        "          self.conv4 = nn.Conv2d( in_channels=64, out_channels=64 , kernel_size=(3, 3))\n",
        "          self.pool2 = nn.MaxPool2d( kernel_size = (3,3), stride = 2, padding = 0 )\n",
        "          self.fc1   = nn.Linear(in_features= 202752 , out_features = 512)\n",
        "          self.fc2   = nn.Linear(in_features= 512, out_features = 7)\n",
        "          self.Act   = nn.ReLU(inplace=True)\n",
        "      def forward(self, x):\n",
        "          out = self.Act(self.conv1(x))\n",
        "          out = self.Act(self.conv2(out))\n",
        "          out = self.Act(self.pool1(out))\n",
        "          out = self.Act(self.conv3(out))\n",
        "          out = self.Act(self.conv4(out))\n",
        "          out = self.Act(self.pool2(out))\n",
        "          out = torch.flatten(out, 1) \n",
        "          out = self.Act(self.fc1(out))\n",
        "          out = self.self.fc2(out)\n",
        "          # out = nn.Softmax(out)\n",
        "          return out\n",
        "\n",
        "  class Net2(nn.Module):\n",
        "      def __init__(self):\n",
        "          super().__init__()\n",
        "          self.conv1 = nn.Conv2d( in_channels=3 , out_channels=32 , kernel_size=(3, 3))\n",
        "          self.pool1 = nn.MaxPool2d( kernel_size = (2,2), stride = None, padding = 0 )\n",
        "          self.conv3 = nn.Conv2d( in_channels=32, out_channels=64 , kernel_size=(3, 3))\n",
        "          self.pool2 = nn.MaxPool2d( kernel_size = (2,2), stride = None, padding = 0 )\n",
        "          self.fc1   = nn.Linear(in_features= 7488 , out_features = 512)\n",
        "          self.fc2   = nn.Linear(in_features= 512, out_features = 7)\n",
        "          self.Act   = nn.ReLU(inplace=True)\n",
        "      def forward(self, x):\n",
        "          out = self.Act(self.conv1(x))\n",
        "          out = self.Act(self.pool1(out))\n",
        "          out = self.Act(self.conv3(out))\n",
        "          out = self.Act(self.pool2(out))\n",
        "          out = torch.flatten(out, 1) \n",
        "          out = self.Act(self.fc1(out))\n",
        "          out = self.Act(self.fc2(out))\n",
        "          return out\n",
        "\n",
        "  class Net3(nn.Module):\n",
        "    def __init__(self):\n",
        "        super().__init__()\n",
        "        self.conv1 = nn.Conv2d( in_channels=3 , out_channels=32, stride = 2 , kernel_size=(3, 3))\n",
        "        self.pool1 = nn.MaxPool2d( kernel_size = (3,3), stride = 2, padding = 0 )\n",
        "        self.conv2 = nn.Conv2d( in_channels=32, out_channels=64, stride = 2 , kernel_size=(3, 3))\n",
        "        self.pool2 = nn.MaxPool2d( kernel_size = (3,3), stride = 2, padding = 0 )\n",
        "        self.fc1   = nn.Linear(in_features= 12288 , out_features = 256)\n",
        "        self.fc2   = nn.Linear(in_features= 256, out_features = 7)\n",
        "        self.Act   = nn.LeakyReLU(inplace=True)\n",
        "        self.dropout = nn.Dropout(0.3)\n",
        "    def forward(self, x):\n",
        "        out = self.Act(self.conv1(x))\n",
        "        out = self.Act(self.pool1(out))\n",
        "        out = self.dropout(out)\n",
        "        out = self.Act(self.conv2(out))\n",
        "        out = self.Act(self.pool2(out))\n",
        "        out = self.dropout(out)\n",
        "        out = torch.flatten(out, 1) \n",
        "        out = self.Act(self.fc1(out))\n",
        "        out = self.fc2(out)\n",
        "        return out\n",
        "    def forward_noDrop(self, x):\n",
        "        out = self.Act(self.conv1(x))\n",
        "        out = self.Act(self.pool1(out))\n",
        "        out = self.Act(self.conv2(out))\n",
        "        out = self.Act(self.pool2(out))\n",
        "        out = torch.flatten(out, 1) \n",
        "        out = self.Act(self.fc1(out))\n",
        "        out = self.fc2(out)\n",
        "        return out\n",
        "\n",
        "  class Net4(nn.Module):\n",
        "    def __init__(self):\n",
        "        super().__init__()\n",
        "        self.conv1 = nn.Conv2d( in_channels=3 , out_channels=32, stride = 2 , kernel_size=(3, 3))\n",
        "        self.pool1 = nn.MaxPool2d( kernel_size = (3,3), stride = 2, padding = 0 )\n",
        "        self.conv2 = nn.Conv2d( in_channels=32, out_channels=64, stride = 2 , kernel_size=(3, 3))\n",
        "        self.pool2 = nn.MaxPool2d( kernel_size = (3,3), stride = 2, padding = 0 )\n",
        "        self.fc1   = nn.Linear(in_features= 12288 , out_features = 256)\n",
        "        self.fc2   = nn.Linear(in_features= 256, out_features = 7)\n",
        "        self.Act   = nn.LeakyReLU(inplace=True)\n",
        "        self.dropout = nn.Dropout(0.15)\n",
        "    def forward(self, x):\n",
        "        out = self.Act(self.conv1(x))\n",
        "        out = self.Act(self.pool1(out))\n",
        "        out = self.dropout(out)\n",
        "        out = self.Act(self.conv2(out))\n",
        "        out = self.Act(self.pool2(out))\n",
        "        out = self.dropout(out)\n",
        "        out = torch.flatten(out, 1) \n",
        "        out = self.Act(self.fc1(out))\n",
        "        out = self.fc2(out)\n",
        "        return out\n",
        "    def forward_noDrop(self, x):\n",
        "        out = self.Act(self.conv1(x))\n",
        "        out = self.Act(self.pool1(out))\n",
        "        out = self.Act(self.conv2(out))\n",
        "        out = self.Act(self.pool2(out))\n",
        "        out = torch.flatten(out, 1) \n",
        "        out = self.Act(self.fc1(out))\n",
        "        out = self.fc2(out)\n",
        "        return out\n",
        "\n",
        "  class Net5(nn.Module):\n",
        "    def __init__(self):\n",
        "        super().__init__()\n",
        "        self.conv1 = nn.Conv2d( in_channels=3 , out_channels=16 , stride=2, kernel_size=(3, 3))\n",
        "        self.pool1 = nn.MaxPool2d( kernel_size = (3,3), stride = 2, padding = 0 )\n",
        "        self.fc1   = nn.Linear(in_features= 56304 , out_features = 7)\n",
        "        self.Act   = nn.LeakyReLU(inplace=True)\n",
        "        self.dropout = nn.Dropout(0.2)\n",
        "    def forward(self, x):\n",
        "        out = self.Act(self.conv1(x))\n",
        "        out = self.Act(self.pool1(out))\n",
        "        out = self.dropout(out)\n",
        "        out = torch.flatten(out, 1) \n",
        "        out = self.fc1(out)\n",
        "        return out\n",
        "\n",
        "  class Net6(nn.Module):\n",
        "    def __init__(self):\n",
        "        super().__init__()\n",
        "        self.conv1 = nn.Conv2d( in_channels=3 , out_channels=16, stride = 2 , kernel_size=(3, 3))\n",
        "        self.pool1 = nn.MaxPool2d( kernel_size = (4,4), stride = 2, padding = 0 )\n",
        "        self.fc1   = nn.Linear(in_features= 55488 , out_features = 256)\n",
        "        self.fc2   = nn.Linear(in_features= 256 , out_features = 7)\n",
        "        self.Act   = nn.LeakyReLU(inplace=True)\n",
        "        self.dropout = nn.Dropout(0.2)\n",
        "    def forward(self, x):\n",
        "        out = self.Act(self.conv1(x))\n",
        "        out = self.Act(self.pool1(out))\n",
        "        out = self.dropout(out)\n",
        "        out = torch.flatten(out, 1) \n",
        "        out = self.Act(self.fc1(out))\n",
        "        out = self.fc2(out)\n",
        "        return out\n",
        "\n",
        "  class Net7(nn.Module):\n",
        "    def __init__(self):\n",
        "        super().__init__()\n",
        "        self.conv1 = nn.Conv2d( in_channels=3 , out_channels=64, stride = 2 , kernel_size=(3, 3))\n",
        "        self.pool1 = nn.MaxPool2d( kernel_size = (3,3), stride = 2, padding = 0 )\n",
        "        self.conv2 = nn.Conv2d( in_channels=64, out_channels=128, stride = 2 , kernel_size=(3, 3))\n",
        "        self.pool2 = nn.MaxPool2d( kernel_size = (3,3), stride = 2, padding = 0 )\n",
        "        self.conv3 = nn.Conv2d( in_channels=128, out_channels=64, stride = 2 , kernel_size=(3, 3))\n",
        "        self.pool3 = nn.MaxPool2d( kernel_size = (3,3), stride = 2, padding = 0 )\n",
        "        self.fc1   = nn.Linear(in_features= 384 , out_features = 128)\n",
        "        self.fc2   = nn.Linear(in_features= 128 , out_features = 7)\n",
        "        self.Act   = nn.LeakyReLU(inplace=True)\n",
        "        self.dropout = nn.Dropout(0.3)\n",
        "    def forward(self, x):\n",
        "        out = self.Act(self.conv1(x))\n",
        "        out = self.Act(self.pool1(out))\n",
        "        out = self.dropout(out)\n",
        "        out = self.Act(self.conv2(out))\n",
        "        out = self.Act(self.pool2(out))\n",
        "        out = self.dropout(out)\n",
        "        out = self.Act(self.conv3(out))\n",
        "        out = self.Act(self.pool3(out))\n",
        "        out = self.dropout(out)\n",
        "        out = torch.flatten(out, 1) \n",
        "        out = self.Act(self.fc1(out))\n",
        "        out = self.fc2(out)\n",
        "        return out\n",
        "    def forward_noDrop(self, x):\n",
        "        out = self.Act(self.conv1(x))\n",
        "        out = self.Act(self.pool1(out))\n",
        "        out = self.Act(self.conv2(out))\n",
        "        out = self.Act(self.pool2(out))\n",
        "        out = self.Act(self.conv3(out))\n",
        "        out = self.Act(self.pool3(out))\n",
        "        out = torch.flatten(out, 1) \n",
        "        out = self.Act(self.fc1(out))\n",
        "        out = self.fc2(out)\n",
        "        return out\n",
        "\n",
        "  class Net9(nn.Module):\n",
        "    def __init__(self):\n",
        "        super().__init__()\n",
        "        self.conv1 = nn.Conv2d( in_channels=3 , out_channels=64, stride = 2 , kernel_size=(3, 3))\n",
        "        self.pool1 = nn.MaxPool2d( kernel_size = (3,3), stride = 2, padding = 0 )\n",
        "        self.conv2 = nn.Conv2d( in_channels=64, out_channels=128, stride = 2 , kernel_size=(3, 3))\n",
        "        self.pool2 = nn.MaxPool2d( kernel_size = (3,3), stride = 2, padding = 0 )\n",
        "        self.conv3 = nn.Conv2d( in_channels=128, out_channels=64, stride = 2 , kernel_size=(3, 3))\n",
        "        self.pool3 = nn.MaxPool2d( kernel_size = (3,3), stride = 2, padding = 0 )\n",
        "        self.fc1   = nn.Linear(in_features= 384 , out_features = 128)\n",
        "        self.fc2   = nn.Linear(in_features= 128 , out_features = 7)\n",
        "        self.Act   = nn.LeakyReLU(inplace=True)\n",
        "        self.dropout = nn.Dropout(0.15)\n",
        "    def forward(self, x):\n",
        "        out = self.Act(self.conv1(x))\n",
        "        out = self.Act(self.pool1(out))\n",
        "        out = self.dropout(out)\n",
        "        out = self.Act(self.conv2(out))\n",
        "        out = self.Act(self.pool2(out))\n",
        "        out = self.dropout(out)\n",
        "        out = self.Act(self.conv3(out))\n",
        "        out = self.Act(self.pool3(out))\n",
        "        out = self.dropout(out)\n",
        "        out = torch.flatten(out, 1) \n",
        "        out = self.Act(self.fc1(out))\n",
        "        out = self.fc2(out)\n",
        "        return out\n",
        "    def forward_noDrop(self, x):\n",
        "        out = self.Act(self.conv1(x))\n",
        "        out = self.Act(self.pool1(out))\n",
        "        out = self.Act(self.conv2(out))\n",
        "        out = self.Act(self.pool2(out))\n",
        "        out = self.Act(self.conv3(out))\n",
        "        out = self.Act(self.pool3(out))\n",
        "        out = torch.flatten(out, 1) \n",
        "        out = self.Act(self.fc1(out))\n",
        "        out = self.fc2(out)\n",
        "        return out\n",
        "  class Net8(nn.Module):\n",
        "    def __init__(self):\n",
        "        super().__init__()\n",
        "        self.conv1 = nn.Conv2d( in_channels=3 , out_channels=64, stride = 2 , kernel_size=(3, 3))\n",
        "        self.pool1 = nn.MaxPool2d( kernel_size = (3,3), stride = 2, padding = 0 )\n",
        "        self.conv2 = nn.Conv2d( in_channels=64, out_channels=128, stride = 2 , kernel_size=(3, 3))\n",
        "        self.pool2 = nn.MaxPool2d( kernel_size = (3,3), stride = 2, padding = 0 )\n",
        "        self.conv3 = nn.Conv2d( in_channels=128, out_channels=64, stride = 2 , kernel_size=(3, 3))\n",
        "        self.pool3 = nn.MaxPool2d( kernel_size = (3,3), stride = 2, padding = 0 )\n",
        "        self.fc1   = nn.Linear(in_features= 384 , out_features = 128)\n",
        "        self.fc2   = nn.Linear(in_features= 128 , out_features = 7)\n",
        "        self.Act   = nn.LeakyReLU(inplace=True)\n",
        "        self.dropout = nn.Dropout(0.15)\n",
        "    def forward(self, x):\n",
        "        out = self.Act(self.conv1(x))\n",
        "        out = self.Act(self.pool1(out))\n",
        "        # out = self.dropout(out)\n",
        "        out = self.Act(self.conv2(out))\n",
        "        out = self.Act(self.pool2(out))\n",
        "        # out = self.dropout(out)\n",
        "        out = self.Act(self.conv3(out))\n",
        "        out = self.Act(self.pool3(out))\n",
        "        # out = self.dropout(out)\n",
        "        out = torch.flatten(out, 1) \n",
        "        out = self.Act(self.fc1(out))\n",
        "        out = self.fc2(out)\n",
        "        return out\n",
        "    def forward_noDrop(self, x):\n",
        "        out = self.Act(self.conv1(x))\n",
        "        out = self.Act(self.pool1(out))\n",
        "        out = self.Act(self.conv2(out))\n",
        "        out = self.Act(self.pool2(out))\n",
        "        out = self.Act(self.conv3(out))\n",
        "        out = self.Act(self.pool3(out))\n",
        "        out = torch.flatten(out, 1) \n",
        "        out = self.Act(self.fc1(out))\n",
        "        out = self.fc2(out)\n",
        "        return out\n",
        "\n",
        "  class Net10(nn.Module):\n",
        "    def __init__(self):\n",
        "        super().__init__()\n",
        "        self.conv1 = nn.Conv2d( in_channels=3 , out_channels=64, stride = 1 , kernel_size=(3, 3))\n",
        "        self.pool1 = nn.MaxPool2d( kernel_size = (3,3), stride = 2, padding = 0 )\n",
        "        self.conv2 = nn.Conv2d( in_channels=64, out_channels=128, stride = 1 , kernel_size=(3, 3))\n",
        "        self.pool2 = nn.MaxPool2d( kernel_size = (3,3), stride = 2, padding = 0 )\n",
        "        self.conv3 = nn.Conv2d( in_channels=128, out_channels=64, stride = 1 , kernel_size=(3, 3))\n",
        "        self.pool3 = nn.MaxPool2d( kernel_size = (3,3), stride = 2, padding = 0 )\n",
        "        self.conv4 = nn.Conv2d( in_channels=64, out_channels=32, stride = 1 , kernel_size=(3, 3))\n",
        "        self.pool4 = nn.MaxPool2d( kernel_size = (3,3), stride = 2, padding = 0 )\n",
        "        self.fc1   = nn.Linear(in_features= 4480 , out_features = 7)\n",
        "        # self.fc2   = nn.Linear(in_features= 128 , out_features = 7)\n",
        "        self.Act   = nn.LeakyReLU(inplace=True)\n",
        "        self.dropout = nn.Dropout(0.15)\n",
        "    def forward(self, x):\n",
        "        out = self.Act(self.conv1(x))\n",
        "        out = self.Act(self.pool1(out))\n",
        "        out = self.dropout(out)\n",
        "        out = self.Act(self.conv2(out))\n",
        "        out = self.Act(self.pool2(out))\n",
        "        out = self.dropout(out)\n",
        "        out = self.Act(self.conv3(out))\n",
        "        out = self.Act(self.pool3(out))\n",
        "        out = self.dropout(out)\n",
        "        out = self.Act(self.conv4(out))\n",
        "        out = self.Act(self.pool4(out))\n",
        "        out = self.dropout(out)\n",
        "        out = torch.flatten(out, 1) \n",
        "        out = self.fc1(out)\n",
        "        # out = self.fc2(out)\n",
        "        return out\n",
        "    def forward_noDrop(self, x):\n",
        "        out = self.Act(self.conv1(x))\n",
        "        out = self.Act(self.pool1(out))\n",
        "        out = self.Act(self.conv2(out))\n",
        "        out = self.Act(self.pool2(out))\n",
        "        out = self.Act(self.conv3(out))\n",
        "        out = self.Act(self.pool3(out))\n",
        "        out = self.Act(self.conv4(out))\n",
        "        out = self.Act(self.pool4(out))\n",
        "        out = torch.flatten(out, 1) \n",
        "        out = self.fc1(out)\n",
        "        return out\n",
        "\n",
        "  class Net11(nn.Module):\n",
        "      def _init_(self, drop=0.3):\n",
        "          super()._init_()\n",
        "          self.pool = nn.MaxPool2d(2, 2)\n",
        "          self.dropConv = nn.Dropout2d(drop)\n",
        "          self.dropFc = nn.Dropout(drop)\n",
        "          self.normalization = nn.BatchNorm2d(3)\n",
        "          self.conv1 = nn.Conv2d(3, 60, 5, 2)\n",
        "          self.conv2 = nn.Conv2d(60, 120, 5)\n",
        "          self.conv3 = nn.Conv2d(120, 150, 4, 2)\n",
        "          self.conv4 = nn.Conv2d(150, 180, 3)\n",
        "          self.conv5 = nn.Conv2d(180, 180, 3, 2)\n",
        "          self.fc1 = nn.Linear(1080, 140)\n",
        "          #self.fc2 = nn.Linear(700, 70)\n",
        "          self.fc3 = nn.Linear(140, 7)\n",
        "      def forward(self, x):\n",
        "          #x = self.normalization(x)\n",
        "          x = F.leaky_relu(self.conv1(x))\n",
        "          x = F.leaky_relu(self.conv2(x))\n",
        "          x = self.pool(x)\n",
        "          x = self.dropConv(x)\n",
        "          x = F.leaky_relu(self.conv3(x))\n",
        "          x = F.leaky_relu(self.conv4(x))\n",
        "          x = self.pool(x)\n",
        "          x = self.dropConv(x)\n",
        "          x = F.leaky_relu(self.conv5(x))\n",
        "          x = self.pool(x)\n",
        "          x = self.dropConv(x)\n",
        "          x = torch.flatten(x, 1)\n",
        "          x = F.leaky_relu(self.fc1(x))\n",
        "          x = self.dropFc(x)\n",
        "          #x = F.leaky_relu(self.fc2(x))\n",
        "          x = self.fc3(x)\n",
        "          return x\n",
        "\n",
        "      def forward_noDrop(self, x):\n",
        "          #x = self.normalization(x)\n",
        "          x = F.leaky_relu(self.conv1(x))\n",
        "          x = F.leaky_relu(self.conv2(x))\n",
        "          x = self.pool(x)\n",
        "          x = F.leaky_relu(self.conv3(x))\n",
        "          x = F.leaky_relu(self.conv4(x))\n",
        "          x = self.pool(x)\n",
        "          x = F.leaky_relu(self.conv5(x))\n",
        "          x = self.pool(x)\n",
        "          x = torch.flatten(x, 1)\n",
        "          x = F.leaky_relu(self.fc1(x))\n",
        "          #x = F.leaky_relu(self.fc2(x))\n",
        "          x = self.fc3(x)\n",
        "          return x"
      ],
      "metadata": {
        "id": "0B7S_srvzD6I"
      },
      "execution_count": null,
      "outputs": []
    },
    {
      "cell_type": "markdown",
      "metadata": {
        "id": "P5Zfb1SkAlDg"
      },
      "source": [
        "# **Test Nets**"
      ]
    },
    {
      "cell_type": "code",
      "execution_count": null,
      "metadata": {
        "colab": {
          "base_uri": "https://localhost:8080/",
          "height": 371
        },
        "id": "OJTfTtmfAlDg",
        "outputId": "5cd88c3c-b4ad-417e-e00f-0513e8a73dfb"
      },
      "outputs": [
        {
          "output_type": "error",
          "ename": "AttributeError",
          "evalue": "ignored",
          "traceback": [
            "\u001b[0;31m---------------------------------------------------------------------------\u001b[0m",
            "\u001b[0;31mAttributeError\u001b[0m                            Traceback (most recent call last)",
            "\u001b[0;32m<ipython-input-170-b5a300833190>\u001b[0m in \u001b[0;36m<module>\u001b[0;34m()\u001b[0m\n\u001b[1;32m      1\u001b[0m \u001b[0mmodel_test\u001b[0m \u001b[0;34m=\u001b[0m \u001b[0mNet11\u001b[0m\u001b[0;34m(\u001b[0m\u001b[0;34m)\u001b[0m\u001b[0;34m\u001b[0m\u001b[0;34m\u001b[0m\u001b[0m\n\u001b[1;32m      2\u001b[0m \u001b[0mX_\u001b[0m \u001b[0;34m=\u001b[0m \u001b[0minput_data\u001b[0m\u001b[0;34m[\u001b[0m\u001b[0;36m0\u001b[0m\u001b[0;34m]\u001b[0m\u001b[0;34m[\u001b[0m\u001b[0;36m0\u001b[0m\u001b[0;34m:\u001b[0m\u001b[0;36m5\u001b[0m\u001b[0;34m]\u001b[0m\u001b[0;34m\u001b[0m\u001b[0;34m\u001b[0m\u001b[0m\n\u001b[0;32m----> 3\u001b[0;31m \u001b[0mout\u001b[0m \u001b[0;34m=\u001b[0m \u001b[0mmodel_test\u001b[0m\u001b[0;34m(\u001b[0m\u001b[0mX_\u001b[0m\u001b[0;34m)\u001b[0m\u001b[0;34m\u001b[0m\u001b[0;34m\u001b[0m\u001b[0m\n\u001b[0m\u001b[1;32m      4\u001b[0m \u001b[0mout\u001b[0m\u001b[0;34m.\u001b[0m\u001b[0mshape\u001b[0m\u001b[0;34m\u001b[0m\u001b[0;34m\u001b[0m\u001b[0m\n",
            "\u001b[0;32m/usr/local/lib/python3.7/dist-packages/torch/nn/modules/module.py\u001b[0m in \u001b[0;36m_call_impl\u001b[0;34m(self, *input, **kwargs)\u001b[0m\n\u001b[1;32m   1108\u001b[0m         if not (self._backward_hooks or self._forward_hooks or self._forward_pre_hooks or _global_backward_hooks\n\u001b[1;32m   1109\u001b[0m                 or _global_forward_hooks or _global_forward_pre_hooks):\n\u001b[0;32m-> 1110\u001b[0;31m             \u001b[0;32mreturn\u001b[0m \u001b[0mforward_call\u001b[0m\u001b[0;34m(\u001b[0m\u001b[0;34m*\u001b[0m\u001b[0minput\u001b[0m\u001b[0;34m,\u001b[0m \u001b[0;34m**\u001b[0m\u001b[0mkwargs\u001b[0m\u001b[0;34m)\u001b[0m\u001b[0;34m\u001b[0m\u001b[0;34m\u001b[0m\u001b[0m\n\u001b[0m\u001b[1;32m   1111\u001b[0m         \u001b[0;31m# Do not call functions when jit is used\u001b[0m\u001b[0;34m\u001b[0m\u001b[0;34m\u001b[0m\u001b[0;34m\u001b[0m\u001b[0m\n\u001b[1;32m   1112\u001b[0m         \u001b[0mfull_backward_hooks\u001b[0m\u001b[0;34m,\u001b[0m \u001b[0mnon_full_backward_hooks\u001b[0m \u001b[0;34m=\u001b[0m \u001b[0;34m[\u001b[0m\u001b[0;34m]\u001b[0m\u001b[0;34m,\u001b[0m \u001b[0;34m[\u001b[0m\u001b[0;34m]\u001b[0m\u001b[0;34m\u001b[0m\u001b[0;34m\u001b[0m\u001b[0m\n",
            "\u001b[0;32m<ipython-input-169-edfc69138455>\u001b[0m in \u001b[0;36mforward\u001b[0;34m(self, x)\u001b[0m\n\u001b[1;32m     16\u001b[0m     \u001b[0;32mdef\u001b[0m \u001b[0mforward\u001b[0m\u001b[0;34m(\u001b[0m\u001b[0mself\u001b[0m\u001b[0;34m,\u001b[0m \u001b[0mx\u001b[0m\u001b[0;34m)\u001b[0m\u001b[0;34m:\u001b[0m\u001b[0;34m\u001b[0m\u001b[0;34m\u001b[0m\u001b[0m\n\u001b[1;32m     17\u001b[0m         \u001b[0;31m#x = self.normalization(x)\u001b[0m\u001b[0;34m\u001b[0m\u001b[0;34m\u001b[0m\u001b[0;34m\u001b[0m\u001b[0m\n\u001b[0;32m---> 18\u001b[0;31m         \u001b[0mx\u001b[0m \u001b[0;34m=\u001b[0m \u001b[0mF\u001b[0m\u001b[0;34m.\u001b[0m\u001b[0mleaky_relu\u001b[0m\u001b[0;34m(\u001b[0m\u001b[0mself\u001b[0m\u001b[0;34m.\u001b[0m\u001b[0mconv1\u001b[0m\u001b[0;34m(\u001b[0m\u001b[0mx\u001b[0m\u001b[0;34m)\u001b[0m\u001b[0;34m)\u001b[0m\u001b[0;34m\u001b[0m\u001b[0;34m\u001b[0m\u001b[0m\n\u001b[0m\u001b[1;32m     19\u001b[0m         \u001b[0mx\u001b[0m \u001b[0;34m=\u001b[0m \u001b[0mF\u001b[0m\u001b[0;34m.\u001b[0m\u001b[0mleaky_relu\u001b[0m\u001b[0;34m(\u001b[0m\u001b[0mself\u001b[0m\u001b[0;34m.\u001b[0m\u001b[0mconv2\u001b[0m\u001b[0;34m(\u001b[0m\u001b[0mx\u001b[0m\u001b[0;34m)\u001b[0m\u001b[0;34m)\u001b[0m\u001b[0;34m\u001b[0m\u001b[0;34m\u001b[0m\u001b[0m\n\u001b[1;32m     20\u001b[0m         \u001b[0mx\u001b[0m \u001b[0;34m=\u001b[0m \u001b[0mself\u001b[0m\u001b[0;34m.\u001b[0m\u001b[0mpool\u001b[0m\u001b[0;34m(\u001b[0m\u001b[0mx\u001b[0m\u001b[0;34m)\u001b[0m\u001b[0;34m\u001b[0m\u001b[0;34m\u001b[0m\u001b[0m\n",
            "\u001b[0;32m/usr/local/lib/python3.7/dist-packages/torch/nn/modules/module.py\u001b[0m in \u001b[0;36m__getattr__\u001b[0;34m(self, name)\u001b[0m\n\u001b[1;32m   1184\u001b[0m                 \u001b[0;32mreturn\u001b[0m \u001b[0mmodules\u001b[0m\u001b[0;34m[\u001b[0m\u001b[0mname\u001b[0m\u001b[0;34m]\u001b[0m\u001b[0;34m\u001b[0m\u001b[0;34m\u001b[0m\u001b[0m\n\u001b[1;32m   1185\u001b[0m         raise AttributeError(\"'{}' object has no attribute '{}'\".format(\n\u001b[0;32m-> 1186\u001b[0;31m             type(self).__name__, name))\n\u001b[0m\u001b[1;32m   1187\u001b[0m \u001b[0;34m\u001b[0m\u001b[0m\n\u001b[1;32m   1188\u001b[0m     \u001b[0;32mdef\u001b[0m \u001b[0m__setattr__\u001b[0m\u001b[0;34m(\u001b[0m\u001b[0mself\u001b[0m\u001b[0;34m,\u001b[0m \u001b[0mname\u001b[0m\u001b[0;34m:\u001b[0m \u001b[0mstr\u001b[0m\u001b[0;34m,\u001b[0m \u001b[0mvalue\u001b[0m\u001b[0;34m:\u001b[0m \u001b[0mUnion\u001b[0m\u001b[0;34m[\u001b[0m\u001b[0mTensor\u001b[0m\u001b[0;34m,\u001b[0m \u001b[0;34m'Module'\u001b[0m\u001b[0;34m]\u001b[0m\u001b[0;34m)\u001b[0m \u001b[0;34m->\u001b[0m \u001b[0;32mNone\u001b[0m\u001b[0;34m:\u001b[0m\u001b[0;34m\u001b[0m\u001b[0;34m\u001b[0m\u001b[0m\n",
            "\u001b[0;31mAttributeError\u001b[0m: 'Net11' object has no attribute 'conv1'"
          ]
        }
      ],
      "source": [
        "model_test = Net11()\n",
        "X_ = input_data[0][0:5]\n",
        "out = model_test(X_)\n",
        "out.shape"
      ]
    },
    {
      "cell_type": "markdown",
      "metadata": {
        "id": "XWC5a989AlDg"
      },
      "source": [
        "# **Confusion-Matrix & Accuracy**"
      ]
    },
    {
      "cell_type": "code",
      "execution_count": null,
      "metadata": {
        "id": "pBE96mxDAlDg"
      },
      "outputs": [],
      "source": [
        "def confusion_matrix(Y,Y_pred):\n",
        "    CM = sk.metrics.confusion_matrix(Y,Y_pred)\n",
        "    print('Nr. of Data : \\n', CM.sum())\n",
        "    print('Accuracy of The Model : \\n', np.diag(CM).sum()/CM.sum())\n",
        "    # print('Confusion Matrix : \\n', CM)\n",
        "    # print('Weighted Avg. of sensitivity : \\n', np.average(np.nan_to_num(sensitivity), weights=weights))\n",
        "    # print('Weighted Avg. of specificity : \\n', np.average(np.nan_to_num(specificity), weights=weights))\n",
        "    sk.metrics.ConfusionMatrixDisplay(CM).plot()\n",
        "    # print('------- Precision recal %--------')\n",
        "    # print(sk.metrics.classification_report(Y,Y_pred))\n",
        "    # print('------- confusion matrix--------')\n",
        "\n",
        "    FP = CM.sum(axis=0) - np.diag(CM) \n",
        "    FN = CM.sum(axis=1) - np.diag(CM)\n",
        "    TP = np.diag(CM)\n",
        "    TN = CM.sum() - (FP + FN + TP)\n",
        "    weights = CM.sum(axis=1) / CM.sum() \n",
        "    ACC = np.nan_to_num((TP+TN)/(TP+FP+FN+TN) , nan=0)\n",
        "    Recall_Sensitivity = np.nan_to_num(TP/(TP+FN) , nan=0)\n",
        "    Specificity = np.nan_to_num(TN/(TN+FP) , nan=0)\n",
        "    Precision = np.nan_to_num(TP/(TP+FP) , nan=0)\n",
        "    f1_score = np.nan_to_num( 2*Precision*Recall_Sensitivity / (Recall_Sensitivity + Precision), nan=0)\n",
        "    Performance_DF = pd.concat([pd.DataFrame(CM),pd.DataFrame(weights, columns=['weights']),pd.DataFrame(Precision, columns=['Precision']),pd.DataFrame(Recall_Sensitivity,columns=['Recall_Sensitivity'])\n",
        "        ,pd.DataFrame(Specificity, columns=['Specificity']),pd.DataFrame(f1_score, columns=['f1_score'])], axis=1)\n",
        "    total_row1 = pd.Series({'Precision':mean(Precision),'Recall_Sensitivity':mean(Recall_Sensitivity),'Specificity':mean(Specificity),'f1_score':mean(f1_score)}, name='Simple Avg.')\n",
        "    total_row2 = pd.Series({'Precision':sum(weights*Precision),'Recall_Sensitivity':sum(weights*Recall_Sensitivity),'Specificity':sum(weights*Specificity),'f1_score':sum(weights*f1_score)}, name='Weighted Avg.')\n",
        "    Performance_DF = Performance_DF.append([total_row1,total_row2])\n",
        "    cols = ['weights','Precision','Recall_Sensitivity','Specificity','f1_score']\n",
        "    per_details = Performance_DF[cols].style.format({'weights': \"{:.1%}\",'Precision': \"{:.1%}\",'Recall_Sensitivity': \"{:.1%}\",'Specificity': \"{:.1%}\",'f1_score': \"{:.1%}\"})\n",
        "    return per_details\n",
        "\n",
        "def plot_loss_accuracy(model_):\n",
        "    epochs_X = [i for i in range(1, model_.epochs+1)]\n",
        "\n",
        "    plt.subplots(figsize=(6,4))\n",
        "\n",
        "    plt.plot(epochs_X , model_.Epochs_Train_loss, 'bo-', label='Train loss')\n",
        "    plt.plot(epochs_X , model_.Epochs_Val_loss,'ro-', label='Validation loss')\n",
        "    plt.plot(epochs_X , model_.Epochs_test_loss,'go-', label='Test loss')\n",
        "    plt.xlabel(\"Epochs\", fontsize = 12)\n",
        "    plt.ylabel(\"Loss\", fontsize = 12)\n",
        "    plt.grid()\n",
        "    plt.legend()\n",
        "    plt.title('Train and Validation loss by epochs')\n",
        "    plt.show()\n",
        "\n",
        "    plt.plot(epochs_X , model_.Epochs_Train_Acc, 'bo-', label='Train Accuracy')\n",
        "    plt.plot(epochs_X , model_.Epochs_Val_Acc,'ro-', label='Validation Accuracy')\n",
        "    plt.plot(epochs_X , model_.Epochs_test_Acc,'go-', label='Test Accuracy')\n",
        "    plt.xlabel(\"Epochs\", fontsize = 12)\n",
        "    plt.ylabel(\"Accuracy\", fontsize = 12)\n",
        "    plt.grid()\n",
        "    plt.legend()\n",
        "    plt.title('Train and Validation Accuracy by epochs')\n",
        "    plt.show()\n",
        "\n",
        "def plot_grid_results(model_):\n",
        "    epochs_X = [i for i in range(1, len( list(model_['train_epoch_loss'])[0]) +1)]\n",
        "    plt.subplots(figsize=(6,4))\n",
        "    plt.plot(epochs_X , list(model_.train_epoch_loss)[0] , 'bo-', label='Train loss')\n",
        "    plt.plot(epochs_X , list(model_.valid_epoch_loss)[0],'ro-', label='Validation loss')\n",
        "    plt.plot(epochs_X , list(model_.test_epoch_loss)[0],'go-', label='Test loss')\n",
        "    plt.xlabel(\"Epochs\", fontsize = 12)\n",
        "    plt.ylabel(\"Loss\", fontsize = 12)\n",
        "    plt.grid()\n",
        "    plt.legend()\n",
        "    plt.title('Train and Validation loss by epochs')\n",
        "    plt.show()\n",
        "    plt.plot(epochs_X , list(model_.train_epoch_acc)[0] , 'bo-', label='Train Accuracy')\n",
        "    plt.plot(epochs_X , list(model_.valid_epoch_acc)[0] ,'ro-', label='Validation Accuracy')\n",
        "    plt.plot(epochs_X , list(model_.test_epoch_acc)[0] ,'go-', label='Test Accuracy')\n",
        "    plt.xlabel(\"Epochs\", fontsize = 12)\n",
        "    plt.ylabel(\"Accuracy\", fontsize = 12)\n",
        "    plt.grid()\n",
        "    plt.legend()\n",
        "    plt.title('Train and Validation Accuracy by epochs')\n",
        "    plt.show()"
      ]
    },
    {
      "cell_type": "markdown",
      "metadata": {
        "id": "4XV23bjxXUi7"
      },
      "source": [
        "### **1.3 Training**"
      ]
    },
    {
      "cell_type": "code",
      "execution_count": null,
      "metadata": {
        "id": "9cbadb2d"
      },
      "outputs": [],
      "source": [
        "class Model_Training:\n",
        "\n",
        "    def __init__(self, Net, LR, batch_size , Momentum, epochs, weight_decay, loss_func, opt_func, X_train, Y_train, X_valid, Y_valid,X_test,Y_test, print_epochs,hyper_params,Test_acc_print):    \n",
        "        \n",
        "        self.model = Net().to(device)\n",
        "        if opt_func is torch.optim.Adam:\n",
        "            self.opt = opt_func(self.model.parameters(), lr=LR, weight_decay=weight_decay)\n",
        "        else:\n",
        "            self.opt = opt_func(self.model.parameters(), lr=LR,momentum=Momentum, weight_decay=weight_decay)\n",
        "\n",
        "        self.loss_func = loss_func()\n",
        "        self.epochs = epochs\n",
        "        self.print_epochs = print_epochs\n",
        "        self.X_train = X_train\n",
        "        self.Y_train = Y_train\n",
        "        self.X_valid = X_valid\n",
        "        self.Y_valid = Y_valid\n",
        "        self.X_test = X_test\n",
        "        self.Y_test = Y_test\n",
        "        self.batch_size = batch_size\n",
        "        self.Epochs_Train_loss = []\n",
        "        self.Epochs_Train_Acc = []\n",
        "        self.Epochs_Val_loss = []\n",
        "        self.Epochs_Val_Acc = []\n",
        "        self.hyper_params = hyper_params\n",
        "        self.Test_acc_print = Test_acc_print\n",
        "\n",
        "    def train(self):\n",
        "        \n",
        "        model = self.model\n",
        "        loss_fn = self.loss_func\n",
        "        opt = self.opt \n",
        "        batch_size = self.batch_size\n",
        "        nr_of_steps_train =  self.X_train.shape[0]//self.batch_size \n",
        "        nr_of_steps_valid =  self.X_valid.shape[0]//self.batch_size \n",
        "\n",
        "        for epoch in range(1, self.epochs+1 ):\n",
        "            start_time=time.time()\n",
        "            steps_train_loss = []\n",
        "            steps_train_Acc = []\n",
        "            steps_val_loss = []\n",
        "            steps_val_Acc = []\n",
        "\n",
        "            for i in range(0, nr_of_steps_train ):#train_arrays_std.shape[0]):\n",
        "                X = self.X_train[i* batch_size:(i+1) * batch_size]\n",
        "                X = X.to(device)\n",
        "                Y = self.Y_train[i * batch_size:(i+1) * batch_size]\n",
        "                Y = Y.to(device)\n",
        "\n",
        "                opt.zero_grad()\n",
        "                model.train()\n",
        "                y_pred = model.forward(X)\n",
        "                loss = loss_fn(y_pred, Y)\n",
        "                loss.backward()\n",
        "                opt.step()\n",
        "                y_pred_labels = y_pred.argmax(axis=1)\n",
        "                nr_of_corrects = (y_pred_labels == Y).sum().item()\n",
        "                step_acc = nr_of_corrects / batch_size\n",
        "                steps_train_Acc.append(step_acc)\n",
        "                steps_train_loss.append(loss.item())\n",
        "\n",
        "                # if (i+1) % 200 == 0:    # print every 2000 mini-batches\n",
        "                #     print('[Epoch: {}, Nr. Batch: {}]  , Train-Steps-loss: {:.1f} , running_acc: {:.1%}'.format(epoch , i+1 , train_steps_loss , batch_nr_correct / train_nr_total))\n",
        "                #     self.train_steps_acc = []\n",
        "                #     train_steps_loss = 0\n",
        "\n",
        "              #validation loss calculation\n",
        "            for j in range(0,nr_of_steps_valid):\n",
        "\n",
        "                val_X = self.X_valid[j*batch_size:(j+1)*batch_size]\n",
        "                val_X = val_X.to(device)\n",
        "                val_Y = self.Y_valid[j*batch_size:(j+1)*batch_size]\n",
        "                val_Y = val_Y.to(device)\n",
        "                model.eval()\n",
        "                # val_inputs = val_inputs.to(device)\n",
        "                # val_labels = val_labels.to(device)\n",
        "                val_outputs = model(val_X)\n",
        "                val_loss = loss_fn(val_outputs, val_Y)\n",
        "                val_epoch_loss = val_loss.item()\n",
        "                val_outputs_lbs= val_outputs.argmax(axis=1)\n",
        "                val_nr_correct = (val_outputs_lbs == val_Y).sum().item()\n",
        "                step_acc = val_nr_correct / batch_size\n",
        "                steps_val_Acc.append(step_acc)\n",
        "                steps_val_loss.append(val_epoch_loss)\n",
        "            #Test Set Performance\n",
        "            if self.Test_acc_print:\n",
        "                X_test = self.X_test.to(device)\n",
        "                Y_test = self.Y_test.to(device)\n",
        "                Y_pred = model(X_test).argmax(dim=1)\n",
        "                test_acc = sk.metrics.accuracy_score(Y_test.to('cpu'),Y_pred.to('cpu') )\n",
        "            else:\n",
        "                test_acc = '_'\n",
        "            # Epoch Performance Metrics\n",
        "            train_epoch_loss = mean(steps_train_loss)\n",
        "            train_epoch_Acc = mean(steps_train_Acc)\n",
        "            self.Epochs_Train_loss.append(train_epoch_loss)\n",
        "            self.Epochs_Train_Acc.append(train_epoch_Acc)   \n",
        "            val_epoch_loss = mean(steps_val_loss)\n",
        "            val_epoch_Acc = mean(steps_val_Acc)\n",
        "            self.Epochs_Val_loss.append(val_epoch_loss)\n",
        "            self.Epochs_Val_Acc.append(val_epoch_Acc)\n",
        "            End_time = time.time() \n",
        "            if self.print_epochs:\n",
        "                print('[Epoch: {}]  , Train_loss: {:.1f} , Train_Acc: {:.1%}, Val_loss: {:.1f} , Val_Acc: {:.1%}, Test_Acc: {:.1%}  , run time: {}'.format(epoch , train_epoch_loss , train_epoch_Acc , val_epoch_loss , val_epoch_Acc,test_acc, np.round(End_time - start_time, 2)))\n",
        "            \n",
        "        # print('Finished Training')"
      ]
    },
    {
      "cell_type": "code",
      "source": [
        "class Model_Training_with_loader:\n",
        "\n",
        "    def __init__(self, Net, LR, batch_size , Momentum, epochs, weight_decay, loss_func, opt_func,w_sampler, trainDataset, validDataset, X_test,Y_test, print_epochs,hyper_params):    \n",
        "        \n",
        "        self.model = Net().to(device)\n",
        "        if opt_func is torch.optim.Adam:\n",
        "            self.opt = opt_func(self.model.parameters(), lr=LR, weight_decay=weight_decay)\n",
        "        else:\n",
        "            self.opt = opt_func(self.model.parameters(), lr=LR,momentum=Momentum, weight_decay=weight_decay)\n",
        "\n",
        "        self.loss_func = loss_func()\n",
        "        self.epochs = epochs\n",
        "        self.print_epochs = print_epochs\n",
        "        self.batch_size = batch_size\n",
        "        self.Epochs_Train_loss = []\n",
        "        self.Epochs_Train_Acc = []\n",
        "        self.Epochs_Val_loss = []\n",
        "        self.Epochs_Val_Acc = []\n",
        "        self.Epochs_test_loss = []\n",
        "        self.Epochs_test_Acc = []\n",
        "        self.hyper_params = hyper_params\n",
        "        self.Y_test = Y_test\n",
        "        self.X_test = X_test\n",
        "        self.train_loader = DataLoader(dataset = trainDataset , sampler = w_sampler, batch_size = self.batch_size, num_workers=4)\n",
        "        self.valid_loader = DataLoader(dataset = validDataset , shuffle=True, batch_size = self.batch_size, num_workers=2)\n",
        "        self.test_loader = DataLoader(dataset = testDataset , shuffle=True, batch_size = self.batch_size, num_workers=2)\n",
        "\n",
        "    def train(self):\n",
        "        \n",
        "        model = self.model\n",
        "        loss_fn = self.loss_func\n",
        "        opt = self.opt \n",
        "        batch_size = self.batch_size\n",
        "\n",
        "        for epoch in range(1, self.epochs+1 ):\n",
        "            start_time=time.time()\n",
        "            steps_train_loss = []\n",
        "            steps_train_Acc = []\n",
        "            steps_val_loss = []\n",
        "            steps_val_Acc = []\n",
        "            steps_test_loss = []\n",
        "            steps_test_Acc = []\n",
        "            torch.cuda.empty_cache()\n",
        "            for batch, (X, Y) in enumerate(self.train_loader):\n",
        "                X = X.to(device)\n",
        "                Y = Y.to(device)\n",
        "                opt.zero_grad()\n",
        "                model.train()\n",
        "                y_pred = model.forward(X)\n",
        "                loss = loss_fn(y_pred, Y)\n",
        "                loss.backward()\n",
        "                opt.step()\n",
        "                y_pred = y_pred.argmax(axis=1)\n",
        "                nr_of_corrects = (y_pred == Y).sum().item()\n",
        "                step_acc = nr_of_corrects / batch_size\n",
        "                steps_train_Acc.append(step_acc)\n",
        "                steps_train_loss.append(loss.item())\n",
        "\n",
        "                # if (i+1) % 200 == 0:    # print every 2000 mini-batches\n",
        "                #     print('[Epoch: {}, Nr. Batch: {}]  , Train-Steps-loss: {:.1f} , running_acc: {:.1%}'.format(epoch , i+1 , train_steps_loss , batch_nr_correct / train_nr_total))\n",
        "                #     self.train_steps_acc = []\n",
        "                #     train_steps_loss = 0\n",
        "\n",
        "              #validation loss calculation\n",
        "            for batch, (X, Y) in enumerate(self.valid_loader):\n",
        "                X = X.to(device)\n",
        "                Y = Y.to(device)\n",
        "                model.eval()\n",
        "                Y_pred = model(X)\n",
        "                loss_ = loss_fn(Y_pred, Y)\n",
        "                epoch_loss = loss_.item()\n",
        "                Y_pred = Y_pred.argmax(axis=1)\n",
        "                nr_correct = (Y_pred == Y).sum().item()\n",
        "                step_acc = nr_correct / batch_size\n",
        "                steps_val_Acc.append(step_acc)\n",
        "                steps_val_loss.append(epoch_loss)\n",
        "              \n",
        "            #Test Set Performance\n",
        "            for batch, (X, Y) in enumerate(self.test_loader):\n",
        "                X = X.to(device)\n",
        "                Y = Y.to(device)\n",
        "                model.eval()\n",
        "                Y_pred = model(X)\n",
        "                loss_ = loss_fn(Y_pred, Y)\n",
        "                epoch_loss = loss_.item()\n",
        "                Y_pred = Y_pred.argmax(axis=1)\n",
        "                nr_correct = (Y_pred == Y).sum().item()\n",
        "                step_acc = nr_correct / batch_size\n",
        "                steps_test_Acc.append(step_acc)\n",
        "                steps_test_loss.append(epoch_loss)\n",
        "\n",
        "            # Epoch Performance Metrics\n",
        "            train_epoch_loss = mean(steps_train_loss)\n",
        "            train_epoch_Acc = mean(steps_train_Acc)\n",
        "            self.Epochs_Train_loss.append(train_epoch_loss)\n",
        "            self.Epochs_Train_Acc.append(train_epoch_Acc)   \n",
        "            val_epoch_loss = mean(steps_val_loss)\n",
        "            val_epoch_Acc = mean(steps_val_Acc)\n",
        "            self.Epochs_Val_loss.append(val_epoch_loss)\n",
        "            self.Epochs_Val_Acc.append(val_epoch_Acc)\n",
        "            test_epoch_loss = mean(steps_test_loss)\n",
        "            test_epoch_Acc = mean(steps_test_Acc)           \n",
        "            self.Epochs_test_loss.append(test_epoch_loss)\n",
        "            self.Epochs_test_Acc.append(test_epoch_Acc)\n",
        "            End_time = time.time() \n",
        "            if self.print_epochs:\n",
        "                print(f'[Epoch: {epoch}]  , Train_loss: {train_epoch_loss:.1f} , Train_Acc: {train_epoch_Acc:.1%}, Val_loss: {val_epoch_loss:.1f} , Val_Acc: {val_epoch_Acc:.1%}, Test_Acc: {test_epoch_Acc:.1%}  , run time: {np.round(End_time - start_time, 2)}')\n",
        "        # print('Finished Training')"
      ],
      "metadata": {
        "id": "I0bPoj1nz3Or"
      },
      "execution_count": null,
      "outputs": []
    },
    {
      "cell_type": "markdown",
      "metadata": {
        "id": "0w-7sG3Slop1"
      },
      "source": [
        "# **Define Training data**"
      ]
    },
    {
      "cell_type": "code",
      "execution_count": null,
      "metadata": {
        "id": "sM2zFYZBWR45"
      },
      "outputs": [],
      "source": [
        "X_train = input_data[0]\n",
        "Y_train = labels[0]\n",
        "X_valid = input_data[1]\n",
        "Y_valid = labels[1]\n",
        "X_test = input_data[2]\n",
        "Y_test = labels[2]\n",
        "\n",
        "label_freq = np.bincount(labels[0])\n",
        "labels_weights = 1. / label_freq\n",
        "weights = labels_weights[labels[0]]\n",
        "w_sampler = WeightedRandomSampler(weights, len(weights))\n",
        "\n",
        "trainDataset = dset(input_data[0], labels[0])\n",
        "validDataset = dset(input_data[1], labels[1])\n",
        "testDataset = dset(input_data[2], labels[2])"
      ]
    },
    {
      "cell_type": "markdown",
      "metadata": {
        "id": "geKyTRJ8AlDh"
      },
      "source": [
        "# **Model by Grid**"
      ]
    },
    {
      "cell_type": "code",
      "execution_count": null,
      "metadata": {
        "id": "VL5FxPLAAlDi"
      },
      "outputs": [],
      "source": [
        "# Net = [CNN_Nets.Net3,CNN_Nets.Net7,CNN_Nets.Net8]\n",
        "# LR = [ 1e-3,1e-4]\n",
        "# batch_size = [24,48]\n",
        "# Momentum = [0.7,0.8,0.9]\n",
        "# epochs = [50]\n",
        "# weight_decay = [0,1e-3,1e-7]\n",
        "# loss_func  =  [nn.CrossEntropyLoss]\n",
        "# opt_func = [torch.optim.SGD]\n",
        "\n",
        "Net = [CNN_Nets.Net8]\n",
        "LR = [ 1e-4,5e-4]\n",
        "batch_size = [32,48]\n",
        "Momentum = [0.9,0.95]\n",
        "epochs = [80]\n",
        "weight_decay = [0,1e-3,1e-6]\n",
        "loss_func  =  [nn.CrossEntropyLoss]\n",
        "opt_func = [torch.optim.SGD]\n",
        "\n",
        "\n",
        "grid = {\n",
        "    'Net' : Net\n",
        "    ,'LR' : LR\n",
        "    ,'batch_size' : batch_size\n",
        "    ,'Momentum' : Momentum\n",
        "    ,'epochs' : epochs\n",
        "    ,'weight_decay' :weight_decay\n",
        "    ,'loss_func'  :loss_func\n",
        "    ,'opt_func' : opt_func\n",
        "}\n",
        "params = sk.model_selection.ParameterGrid(grid)"
      ]
    },
    {
      "cell_type": "code",
      "execution_count": null,
      "metadata": {
        "colab": {
          "base_uri": "https://localhost:8080/"
        },
        "id": "hEkHc_7xAlDi",
        "outputId": "3f015d8a-3ee9-4fb9-8002-0579a5624e11"
      },
      "outputs": [
        {
          "output_type": "stream",
          "name": "stderr",
          "text": [
            "Max_Train_Acc: 96.4% , Max_Valide_Acc: 68.6% , Max_Test_Acc: 65.9%: 100%|█| 108/108 [7:48:55<00:00, \n"
          ]
        }
      ],
      "source": [
        "print_epochs = False\n",
        "\n",
        "Hyper_Details = pd.DataFrame(columns=['hyper_param','train_accuracy','valid_accuracy','test_accuracy','train_epoch_loss','train_epoch_acc','valid_epoch_loss','valid_epoch_acc','test_epoch_acc','test_epoch_loss'])\n",
        "date_hour = datetime.now().strftime(\"%d_%b_%Y_%H:%M\") \n",
        "Max_train_Acc = 0  \n",
        "Max_valid_Acc = 0 \n",
        "Max_test_Acc = 0                  \n",
        "\n",
        "\n",
        "\n",
        "pbar = tqdm(params, ncols = 100, desc =\"Parameter-Level\")\n",
        "for p in pbar:\n",
        "    torch.cuda.empty_cache()\n",
        "    Model_ = Model_Training_with_loader(**p,w_sampler = w_sampler , trainDataset = trainDataset, validDataset = validDataset , X_test = X_test, Y_test = Y_test, print_epochs =print_epochs,hyper_params=p)\n",
        "    np.random.seed(0)\n",
        "    random.seed(0)\n",
        "    torch.manual_seed(0)\n",
        "    Model_.train()\n",
        "\n",
        "    train_accuracy = max(Model_.Epochs_Train_Acc)\n",
        "    valid_accuracy = max(Model_.Epochs_Val_Acc)\n",
        "    test_accuracy = max(Model_.Epochs_test_Acc)\n",
        "    train_epoch_loss = Model_.Epochs_Train_loss\n",
        "    train_epoch_acc = Model_.Epochs_Train_Acc\n",
        "    valid_epoch_loss = Model_.Epochs_Val_loss\n",
        "    valid_epoch_acc = Model_.Epochs_Val_Acc\n",
        "    test_epoch_loss = Model_.Epochs_test_loss\n",
        "    test_epoch_acc = Model_.Epochs_test_Acc\n",
        "\n",
        "    if train_accuracy > Max_train_Acc: Max_train_Acc = train_accuracy\n",
        "    if valid_accuracy > Max_valid_Acc: Max_valid_Acc = valid_accuracy\n",
        "    if test_accuracy > Max_test_Acc: Max_test_Acc = test_accuracy\n",
        "\n",
        "    pbar.set_description(f'Max_Train_Acc: {Max_train_Acc:.1%} , Max_Valide_Acc: {Max_valid_Acc:.1%} , Max_Test_Acc: {Max_test_Acc:.1%}')\n",
        "    pbar.set_postfix_str(f'Train_Acc: {train_accuracy:.1%} , Valide_Acc: {valid_accuracy:.1%} , Test_Acc: {test_accuracy:.1%}')\n",
        "\n",
        "    new_row = pd.Series({'hyper_param':p,'train_accuracy':train_accuracy,'valid_accuracy':valid_accuracy,'test_accuracy':test_accuracy,\n",
        "                         'train_epoch_loss':train_epoch_loss,'train_epoch_acc':train_epoch_acc,'valid_epoch_loss':valid_epoch_loss,'valid_epoch_acc':valid_epoch_acc,'test_epoch_acc':test_epoch_acc,'test_epoch_loss':test_epoch_loss}, name='')\n",
        "    Hyper_Details = Hyper_Details.append(new_row)\n",
        "\n",
        "    Hyper_Details.to_csv(G_save + 'CNN_Grid_Searc_Details_'+ date_hour+ '.csv')\n",
        "\n",
        "best_one = np.argmax(Hyper_Details.test_accuracy)\n",
        "best_param = Hyper_Details.iloc[best_one]['hyper_param']\n",
        "best_params = Hyper_Details.sort_values('test_accuracy',ascending=False)['hyper_param'][:4]\n",
        "\n",
        "Grid_Details = Hyper_Details.sort_values('test_accuracy', ascending=False)\n",
        "\n",
        "Model_Grid = Model_Training_with_loader(**best_param,w_sampler = w_sampler , trainDataset = trainDataset, validDataset = validDataset , X_test = X_test, Y_test = Y_test, print_epochs =print_epochs,hyper_params=best_param)\n",
        "np.random.seed(0)\n",
        "random.seed(0)\n",
        "torch.manual_seed(0)\n",
        "Model_Grid.train()"
      ]
    },
    {
      "cell_type": "code",
      "source": [
        "details_ = Grid_Details[['hyper_param','train_epoch_loss','valid_epoch_loss','test_epoch_loss','train_epoch_acc','valid_epoch_acc','test_epoch_acc']].iloc[[5]]\n",
        "print('Hyper params: ', details_.hyper_param[0])\n",
        "print('Max Test Acc: ', max(details_.test_epoch_acc[0]))\n",
        "plot_grid_results(details_)"
      ],
      "metadata": {
        "colab": {
          "base_uri": "https://localhost:8080/",
          "height": 635
        },
        "id": "bjPKJe9m0LfW",
        "outputId": "31a82a67-4336-4c6c-c533-14c50bd768b6"
      },
      "execution_count": null,
      "outputs": [
        {
          "output_type": "stream",
          "name": "stdout",
          "text": [
            "Hyper params:  {'LR': 0.001, 'Momentum': 0.9, 'Net': <class '__main__.CNN_Nets.Net8'>, 'batch_size': 24, 'epochs': 50, 'loss_func': <class 'torch.nn.modules.loss.CrossEntropyLoss'>, 'opt_func': <class 'torch.optim.sgd.SGD'>, 'weight_decay': 0.001}\n",
            "Max Test Acc:  0.6421568627450981\n"
          ]
        },
        {
          "output_type": "display_data",
          "data": {
            "text/plain": [
              "<Figure size 432x288 with 1 Axes>"
            ],
            "image/png": "[encoded data removed]"
          },
          "metadata": {
            "needs_background": "light"
          }
        },
        {
          "output_type": "display_data",
          "data": {
            "text/plain": [
              "<Figure size 432x288 with 1 Axes>"
            ],
            "image/png": "[encoded data removed]"
          },
          "metadata": {
            "needs_background": "light"
          }
        }
      ]
    },
    {
      "cell_type": "code",
      "source": [
        "def plot_loss_accuracy(model_):\n",
        "    epochs_X = [i for i in range(1, len( list(model_['train_epoch_loss'])[0]) +1)]\n",
        "    plt.subplots(figsize=(6,4))\n",
        "    plt.plot(epochs_X , list(model_.train_epoch_loss)[0] , 'bo-', label='Train loss')\n",
        "    plt.plot(epochs_X , list(model_.valid_epoch_loss)[0],'ro-', label='Validation loss')\n",
        "    plt.plot(epochs_X , list(model_.test_epoch_loss)[0],'go-', label='Test loss')\n",
        "    plt.xlabel(\"Epochs\", fontsize = 12)\n",
        "    plt.ylabel(\"Loss\", fontsize = 12)\n",
        "    plt.grid()\n",
        "    plt.legend()\n",
        "    plt.title('Train and Validation loss by epochs')\n",
        "    plt.show()\n",
        "    plt.plot(epochs_X , list(model_.train_epoch_acc)[0] , 'bo-', label='Train Accuracy')\n",
        "    plt.plot(epochs_X , list(model_.valid_epoch_acc)[0] ,'ro-', label='Validation Accuracy')\n",
        "    plt.plot(epochs_X , list(model_.test_epoch_acc)[0] ,'go-', label='Test Accuracy')\n",
        "    plt.xlabel(\"Epochs\", fontsize = 12)\n",
        "    plt.ylabel(\"Accuracy\", fontsize = 12)\n",
        "    plt.grid()\n",
        "    plt.legend()\n",
        "    plt.title('Train and Validation Accuracy by epochs')\n",
        "    plt.show()"
      ],
      "metadata": {
        "id": "rSB1DgFh33-P"
      },
      "execution_count": null,
      "outputs": []
    },
    {
      "cell_type": "code",
      "execution_count": null,
      "metadata": {
        "colab": {
          "base_uri": "https://localhost:8080/"
        },
        "id": "lpAYiyyMVJe2",
        "outputId": "f46e0371-698f-4fc1-a841-a40151adc16e"
      },
      "outputs": [
        {
          "output_type": "execute_result",
          "data": {
            "text/plain": [
              "(    0.659314\n",
              "     0.651961\n",
              "     0.649510\n",
              "     0.649510\n",
              "     0.647059\n",
              " Name: test_accuracy, dtype: float64,\n",
              " {'LR': 0.001,\n",
              "  'Momentum': 0.9,\n",
              "  'Net': __main__.CNN_Nets.Net3,\n",
              "  'batch_size': 24,\n",
              "  'epochs': 50,\n",
              "  'loss_func': torch.nn.modules.loss.CrossEntropyLoss,\n",
              "  'opt_func': torch.optim.sgd.SGD,\n",
              "  'weight_decay': 0})"
            ]
          },
          "metadata": {},
          "execution_count": 19
        }
      ],
      "source": [
        "Grid_Details['test_accuracy'][:5], Grid_Details['hyper_param'][0]"
      ]
    },
    {
      "cell_type": "code",
      "execution_count": null,
      "metadata": {
        "colab": {
          "base_uri": "https://localhost:8080/"
        },
        "id": "ERIA42B87XV2",
        "outputId": "3e0943c8-b6e4-4e72-c1fd-701b085c53e1"
      },
      "outputs": [
        {
          "output_type": "stream",
          "name": "stdout",
          "text": [
            "{'LR': 0.001, 'Momentum': 0.9, 'Net': <class '__main__.CNN_Nets.Net3'>, 'batch_size': 24, 'epochs': 50, 'loss_func': <class 'torch.nn.modules.loss.CrossEntropyLoss'>, 'opt_func': <class 'torch.optim.sgd.SGD'>, 'weight_decay': 0}\n",
            "{'LR': 0.001, 'Momentum': 0.9, 'Net': <class '__main__.CNN_Nets.Net3'>, 'batch_size': 24, 'epochs': 50, 'loss_func': <class 'torch.nn.modules.loss.CrossEntropyLoss'>, 'opt_func': <class 'torch.optim.sgd.SGD'>, 'weight_decay': 0.001}\n",
            "{'LR': 0.001, 'Momentum': 0.8, 'Net': <class '__main__.CNN_Nets.Net3'>, 'batch_size': 24, 'epochs': 50, 'loss_func': <class 'torch.nn.modules.loss.CrossEntropyLoss'>, 'opt_func': <class 'torch.optim.sgd.SGD'>, 'weight_decay': 0.001}\n",
            "{'LR': 0.001, 'Momentum': 0.8, 'Net': <class '__main__.CNN_Nets.Net3'>, 'batch_size': 24, 'epochs': 50, 'loss_func': <class 'torch.nn.modules.loss.CrossEntropyLoss'>, 'opt_func': <class 'torch.optim.sgd.SGD'>, 'weight_decay': 1e-07}\n"
          ]
        }
      ],
      "source": [
        "for i in best_params: print(i)"
      ]
    },
    {
      "cell_type": "code",
      "execution_count": null,
      "metadata": {
        "colab": {
          "base_uri": "https://localhost:8080/",
          "height": 1000
        },
        "id": "2XilnnvICU8q",
        "outputId": "78fd51d3-5e49-4dae-fb82-ee035e5c9fd5"
      },
      "outputs": [
        {
          "output_type": "stream",
          "name": "stdout",
          "text": [
            "Nr. of Data : \n",
            " 407\n",
            "Accuracy of The Model : \n",
            " 0.6535626535626535\n"
          ]
        },
        {
          "output_type": "display_data",
          "data": {
            "text/plain": [
              "<Figure size 432x288 with 2 Axes>"
            ],
            "image/png": "[encoded data removed]"
          },
          "metadata": {
            "needs_background": "light"
          }
        },
        {
          "output_type": "display_data",
          "data": {
            "text/plain": [
              "<Figure size 432x288 with 1 Axes>"
            ],
            "image/png": "[encoded data removed]"
          },
          "metadata": {
            "needs_background": "light"
          }
        },
        {
          "output_type": "display_data",
          "data": {
            "text/plain": [
              "<Figure size 432x288 with 1 Axes>"
            ],
            "image/png": "[encoded data removed]"
          },
          "metadata": {
            "needs_background": "light"
          }
        },
        {
          "output_type": "execute_result",
          "data": {
            "text/plain": [
              "<pandas.io.formats.style.Styler at 0x7ff219717290>"
            ],
            "text/html": [
              "<style type=\"text/css\">\n",
              "</style>\n",
              "<table id=\"T_a8172_\" class=\"dataframe\">\n",
              "  <thead>\n",
              "    <tr>\n",
              "      <th class=\"blank level0\" >&nbsp;</th>\n",
              "      <th class=\"col_heading level0 col0\" >weights</th>\n",
              "      <th class=\"col_heading level0 col1\" >Precision</th>\n",
              "      <th class=\"col_heading level0 col2\" >Recall_Sensitivity</th>\n",
              "      <th class=\"col_heading level0 col3\" >Specificity</th>\n",
              "      <th class=\"col_heading level0 col4\" >f1_score</th>\n",
              "    </tr>\n",
              "  </thead>\n",
              "  <tbody>\n",
              "    <tr>\n",
              "      <th id=\"T_a8172_level0_row0\" class=\"row_heading level0 row0\" >0</th>\n",
              "      <td id=\"T_a8172_row0_col0\" class=\"data row0 col0\" >5.7%</td>\n",
              "      <td id=\"T_a8172_row0_col1\" class=\"data row0 col1\" >50.0%</td>\n",
              "      <td id=\"T_a8172_row0_col2\" class=\"data row0 col2\" >56.5%</td>\n",
              "      <td id=\"T_a8172_row0_col3\" class=\"data row0 col3\" >96.6%</td>\n",
              "      <td id=\"T_a8172_row0_col4\" class=\"data row0 col4\" >53.1%</td>\n",
              "    </tr>\n",
              "    <tr>\n",
              "      <th id=\"T_a8172_level0_row1\" class=\"row_heading level0 row1\" >1</th>\n",
              "      <td id=\"T_a8172_row1_col0\" class=\"data row1 col0\" >7.9%</td>\n",
              "      <td id=\"T_a8172_row1_col1\" class=\"data row1 col1\" >48.9%</td>\n",
              "      <td id=\"T_a8172_row1_col2\" class=\"data row1 col2\" >68.8%</td>\n",
              "      <td id=\"T_a8172_row1_col3\" class=\"data row1 col3\" >93.9%</td>\n",
              "      <td id=\"T_a8172_row1_col4\" class=\"data row1 col4\" >57.1%</td>\n",
              "    </tr>\n",
              "    <tr>\n",
              "      <th id=\"T_a8172_level0_row2\" class=\"row_heading level0 row2\" >2</th>\n",
              "      <td id=\"T_a8172_row2_col0\" class=\"data row2 col0\" >17.7%</td>\n",
              "      <td id=\"T_a8172_row2_col1\" class=\"data row2 col1\" >46.4%</td>\n",
              "      <td id=\"T_a8172_row2_col2\" class=\"data row2 col2\" >62.5%</td>\n",
              "      <td id=\"T_a8172_row2_col3\" class=\"data row2 col3\" >84.5%</td>\n",
              "      <td id=\"T_a8172_row2_col4\" class=\"data row2 col4\" >53.3%</td>\n",
              "    </tr>\n",
              "    <tr>\n",
              "      <th id=\"T_a8172_level0_row3\" class=\"row_heading level0 row3\" >3</th>\n",
              "      <td id=\"T_a8172_row3_col0\" class=\"data row3 col0\" >2.0%</td>\n",
              "      <td id=\"T_a8172_row3_col1\" class=\"data row3 col1\" >37.5%</td>\n",
              "      <td id=\"T_a8172_row3_col2\" class=\"data row3 col2\" >37.5%</td>\n",
              "      <td id=\"T_a8172_row3_col3\" class=\"data row3 col3\" >98.7%</td>\n",
              "      <td id=\"T_a8172_row3_col4\" class=\"data row3 col4\" >37.5%</td>\n",
              "    </tr>\n",
              "    <tr>\n",
              "      <th id=\"T_a8172_level0_row4\" class=\"row_heading level0 row4\" >4</th>\n",
              "      <td id=\"T_a8172_row4_col0\" class=\"data row4 col0\" >15.2%</td>\n",
              "      <td id=\"T_a8172_row4_col1\" class=\"data row4 col1\" >48.0%</td>\n",
              "      <td id=\"T_a8172_row4_col2\" class=\"data row4 col2\" >38.7%</td>\n",
              "      <td id=\"T_a8172_row4_col3\" class=\"data row4 col3\" >92.5%</td>\n",
              "      <td id=\"T_a8172_row4_col4\" class=\"data row4 col4\" >42.9%</td>\n",
              "    </tr>\n",
              "    <tr>\n",
              "      <th id=\"T_a8172_level0_row5\" class=\"row_heading level0 row5\" >5</th>\n",
              "      <td id=\"T_a8172_row5_col0\" class=\"data row5 col0\" >49.1%</td>\n",
              "      <td id=\"T_a8172_row5_col1\" class=\"data row5 col1\" >88.9%</td>\n",
              "      <td id=\"T_a8172_row5_col2\" class=\"data row5 col2\" >76.0%</td>\n",
              "      <td id=\"T_a8172_row5_col3\" class=\"data row5 col3\" >90.8%</td>\n",
              "      <td id=\"T_a8172_row5_col4\" class=\"data row5 col4\" >81.9%</td>\n",
              "    </tr>\n",
              "    <tr>\n",
              "      <th id=\"T_a8172_level0_row6\" class=\"row_heading level0 row6\" >6</th>\n",
              "      <td id=\"T_a8172_row6_col0\" class=\"data row6 col0\" >2.5%</td>\n",
              "      <td id=\"T_a8172_row6_col1\" class=\"data row6 col1\" >70.0%</td>\n",
              "      <td id=\"T_a8172_row6_col2\" class=\"data row6 col2\" >70.0%</td>\n",
              "      <td id=\"T_a8172_row6_col3\" class=\"data row6 col3\" >99.2%</td>\n",
              "      <td id=\"T_a8172_row6_col4\" class=\"data row6 col4\" >70.0%</td>\n",
              "    </tr>\n",
              "    <tr>\n",
              "      <th id=\"T_a8172_level0_row7\" class=\"row_heading level0 row7\" >Simple Avg.</th>\n",
              "      <td id=\"T_a8172_row7_col0\" class=\"data row7 col0\" >nan%</td>\n",
              "      <td id=\"T_a8172_row7_col1\" class=\"data row7 col1\" >55.7%</td>\n",
              "      <td id=\"T_a8172_row7_col2\" class=\"data row7 col2\" >58.6%</td>\n",
              "      <td id=\"T_a8172_row7_col3\" class=\"data row7 col3\" >93.7%</td>\n",
              "      <td id=\"T_a8172_row7_col4\" class=\"data row7 col4\" >56.5%</td>\n",
              "    </tr>\n",
              "    <tr>\n",
              "      <th id=\"T_a8172_level0_row8\" class=\"row_heading level0 row8\" >Weighted Avg.</th>\n",
              "      <td id=\"T_a8172_row8_col0\" class=\"data row8 col0\" >nan%</td>\n",
              "      <td id=\"T_a8172_row8_col1\" class=\"data row8 col1\" >68.3%</td>\n",
              "      <td id=\"T_a8172_row8_col2\" class=\"data row8 col2\" >65.4%</td>\n",
              "      <td id=\"T_a8172_row8_col3\" class=\"data row8 col3\" >90.9%</td>\n",
              "      <td id=\"T_a8172_row8_col4\" class=\"data row8 col4\" >66.2%</td>\n",
              "    </tr>\n",
              "  </tbody>\n",
              "</table>\n"
            ]
          },
          "metadata": {},
          "execution_count": 81
        }
      ],
      "source": [
        "model_ = Model_Grid\n",
        "model_1 = model_.model.eval().to('cpu')\n",
        "X = input_data[2]\n",
        "Y = labels[2]\n",
        "Y_pred = model_1(X).argmax(dim=1)\n",
        "results = confusion_matrix(Y,Y_pred)\n",
        "plot_loss_accuracy(model_)\n",
        "results"
      ]
    },
    {
      "cell_type": "markdown",
      "metadata": {
        "id": "uSww_-jmg3RR"
      },
      "source": [
        "# **Model by best hyper params with valid and test set**"
      ]
    },
    {
      "cell_type": "code",
      "execution_count": null,
      "metadata": {
        "id": "zqyuIx9rhKg3",
        "colab": {
          "base_uri": "https://localhost:8080/"
        },
        "outputId": "bfa21724-9078-4803-b1d2-055e96d34ae9"
      },
      "outputs": [
        {
          "output_type": "stream",
          "name": "stdout",
          "text": [
            "[Epoch: 1]  , Train_loss: 1.9 , Train_Acc: 16.4%, Val_loss: 1.8 , Val_Acc: 40.9%, Test_Acc: 36.0%  , run time: 8.57\n",
            "[Epoch: 2]  , Train_loss: 1.8 , Train_Acc: 30.5%, Val_loss: 1.7 , Val_Acc: 40.2%, Test_Acc: 37.5%  , run time: 8.7\n",
            "[Epoch: 3]  , Train_loss: 1.6 , Train_Acc: 39.0%, Val_loss: 1.6 , Val_Acc: 46.1%, Test_Acc: 44.6%  , run time: 8.51\n",
            "[Epoch: 4]  , Train_loss: 1.4 , Train_Acc: 46.0%, Val_loss: 1.5 , Val_Acc: 49.5%, Test_Acc: 45.6%  , run time: 8.46\n",
            "[Epoch: 5]  , Train_loss: 1.3 , Train_Acc: 48.6%, Val_loss: 1.3 , Val_Acc: 53.2%, Test_Acc: 51.7%  , run time: 8.51\n",
            "[Epoch: 6]  , Train_loss: 1.3 , Train_Acc: 50.1%, Val_loss: 1.2 , Val_Acc: 54.4%, Test_Acc: 52.2%  , run time: 8.69\n",
            "[Epoch: 7]  , Train_loss: 1.2 , Train_Acc: 53.7%, Val_loss: 1.1 , Val_Acc: 56.6%, Test_Acc: 53.2%  , run time: 8.59\n",
            "[Epoch: 8]  , Train_loss: 1.2 , Train_Acc: 54.0%, Val_loss: 1.3 , Val_Acc: 57.1%, Test_Acc: 52.9%  , run time: 8.51\n",
            "[Epoch: 9]  , Train_loss: 1.2 , Train_Acc: 56.8%, Val_loss: 1.2 , Val_Acc: 58.3%, Test_Acc: 53.4%  , run time: 8.52\n",
            "[Epoch: 10]  , Train_loss: 1.1 , Train_Acc: 55.3%, Val_loss: 1.1 , Val_Acc: 59.1%, Test_Acc: 55.6%  , run time: 9.11\n",
            "[Epoch: 11]  , Train_loss: 1.1 , Train_Acc: 57.4%, Val_loss: 1.1 , Val_Acc: 59.3%, Test_Acc: 56.4%  , run time: 8.58\n",
            "[Epoch: 12]  , Train_loss: 1.1 , Train_Acc: 60.4%, Val_loss: 1.1 , Val_Acc: 58.6%, Test_Acc: 56.6%  , run time: 8.5\n",
            "[Epoch: 13]  , Train_loss: 1.1 , Train_Acc: 57.3%, Val_loss: 1.0 , Val_Acc: 61.0%, Test_Acc: 58.6%  , run time: 8.61\n",
            "[Epoch: 14]  , Train_loss: 1.0 , Train_Acc: 62.6%, Val_loss: 1.1 , Val_Acc: 59.8%, Test_Acc: 60.0%  , run time: 8.62\n",
            "[Epoch: 15]  , Train_loss: 1.0 , Train_Acc: 64.8%, Val_loss: 1.2 , Val_Acc: 56.6%, Test_Acc: 54.2%  , run time: 8.62\n",
            "[Epoch: 16]  , Train_loss: 1.0 , Train_Acc: 63.5%, Val_loss: 1.1 , Val_Acc: 59.6%, Test_Acc: 56.1%  , run time: 8.67\n",
            "[Epoch: 17]  , Train_loss: 0.9 , Train_Acc: 65.1%, Val_loss: 1.0 , Val_Acc: 60.3%, Test_Acc: 59.3%  , run time: 8.42\n",
            "[Epoch: 18]  , Train_loss: 0.9 , Train_Acc: 66.2%, Val_loss: 0.9 , Val_Acc: 62.3%, Test_Acc: 60.8%  , run time: 8.54\n",
            "[Epoch: 19]  , Train_loss: 0.9 , Train_Acc: 67.5%, Val_loss: 1.1 , Val_Acc: 59.8%, Test_Acc: 59.8%  , run time: 8.61\n",
            "[Epoch: 20]  , Train_loss: 0.9 , Train_Acc: 67.0%, Val_loss: 1.1 , Val_Acc: 59.8%, Test_Acc: 58.1%  , run time: 8.6\n",
            "[Epoch: 21]  , Train_loss: 0.8 , Train_Acc: 70.3%, Val_loss: 1.0 , Val_Acc: 61.0%, Test_Acc: 60.8%  , run time: 8.54\n",
            "[Epoch: 22]  , Train_loss: 0.8 , Train_Acc: 70.0%, Val_loss: 1.0 , Val_Acc: 61.0%, Test_Acc: 59.3%  , run time: 8.65\n",
            "[Epoch: 23]  , Train_loss: 0.8 , Train_Acc: 71.6%, Val_loss: 1.0 , Val_Acc: 59.8%, Test_Acc: 59.3%  , run time: 8.65\n",
            "[Epoch: 24]  , Train_loss: 0.8 , Train_Acc: 70.7%, Val_loss: 0.9 , Val_Acc: 65.2%, Test_Acc: 63.2%  , run time: 8.58\n",
            "[Epoch: 25]  , Train_loss: 0.8 , Train_Acc: 72.8%, Val_loss: 1.0 , Val_Acc: 63.0%, Test_Acc: 61.5%  , run time: 8.59\n",
            "[Epoch: 26]  , Train_loss: 0.8 , Train_Acc: 70.9%, Val_loss: 1.0 , Val_Acc: 59.3%, Test_Acc: 61.3%  , run time: 8.68\n",
            "[Epoch: 27]  , Train_loss: 0.8 , Train_Acc: 71.0%, Val_loss: 1.0 , Val_Acc: 62.0%, Test_Acc: 61.0%  , run time: 8.48\n",
            "[Epoch: 28]  , Train_loss: 0.7 , Train_Acc: 73.6%, Val_loss: 1.1 , Val_Acc: 61.0%, Test_Acc: 59.8%  , run time: 8.58\n",
            "[Epoch: 29]  , Train_loss: 0.7 , Train_Acc: 72.9%, Val_loss: 0.9 , Val_Acc: 64.0%, Test_Acc: 59.6%  , run time: 8.59\n",
            "[Epoch: 30]  , Train_loss: 0.7 , Train_Acc: 73.9%, Val_loss: 1.1 , Val_Acc: 59.8%, Test_Acc: 58.3%  , run time: 8.56\n",
            "[Epoch: 31]  , Train_loss: 0.7 , Train_Acc: 75.1%, Val_loss: 1.0 , Val_Acc: 62.5%, Test_Acc: 60.8%  , run time: 8.55\n",
            "[Epoch: 32]  , Train_loss: 0.7 , Train_Acc: 75.4%, Val_loss: 1.0 , Val_Acc: 62.3%, Test_Acc: 59.8%  , run time: 8.71\n",
            "[Epoch: 33]  , Train_loss: 0.6 , Train_Acc: 77.3%, Val_loss: 1.0 , Val_Acc: 62.7%, Test_Acc: 59.8%  , run time: 8.71\n",
            "[Epoch: 34]  , Train_loss: 0.6 , Train_Acc: 77.5%, Val_loss: 0.9 , Val_Acc: 64.5%, Test_Acc: 63.7%  , run time: 8.6\n",
            "[Epoch: 35]  , Train_loss: 0.6 , Train_Acc: 75.9%, Val_loss: 0.9 , Val_Acc: 64.2%, Test_Acc: 63.2%  , run time: 11.2\n",
            "[Epoch: 36]  , Train_loss: 0.6 , Train_Acc: 78.3%, Val_loss: 0.9 , Val_Acc: 66.7%, Test_Acc: 62.5%  , run time: 10.62\n",
            "[Epoch: 37]  , Train_loss: 0.6 , Train_Acc: 76.7%, Val_loss: 1.1 , Val_Acc: 63.5%, Test_Acc: 61.0%  , run time: 10.0\n",
            "[Epoch: 38]  , Train_loss: 0.6 , Train_Acc: 79.1%, Val_loss: 0.9 , Val_Acc: 66.2%, Test_Acc: 62.3%  , run time: 10.49\n",
            "[Epoch: 39]  , Train_loss: 0.6 , Train_Acc: 79.4%, Val_loss: 1.1 , Val_Acc: 60.3%, Test_Acc: 59.8%  , run time: 9.88\n",
            "[Epoch: 40]  , Train_loss: 0.5 , Train_Acc: 79.8%, Val_loss: 0.9 , Val_Acc: 67.4%, Test_Acc: 64.5%  , run time: 10.19\n",
            "[Epoch: 41]  , Train_loss: 0.5 , Train_Acc: 80.7%, Val_loss: 1.0 , Val_Acc: 64.2%, Test_Acc: 59.8%  , run time: 8.52\n",
            "[Epoch: 42]  , Train_loss: 0.5 , Train_Acc: 80.2%, Val_loss: 1.0 , Val_Acc: 64.5%, Test_Acc: 62.0%  , run time: 8.62\n",
            "[Epoch: 43]  , Train_loss: 0.5 , Train_Acc: 80.3%, Val_loss: 1.0 , Val_Acc: 63.7%, Test_Acc: 61.5%  , run time: 8.77\n",
            "[Epoch: 44]  , Train_loss: 0.5 , Train_Acc: 81.2%, Val_loss: 1.0 , Val_Acc: 63.7%, Test_Acc: 61.3%  , run time: 8.64\n",
            "[Epoch: 45]  , Train_loss: 0.5 , Train_Acc: 79.8%, Val_loss: 1.1 , Val_Acc: 58.8%, Test_Acc: 58.3%  , run time: 8.48\n",
            "[Epoch: 46]  , Train_loss: 0.5 , Train_Acc: 82.1%, Val_loss: 1.0 , Val_Acc: 62.0%, Test_Acc: 59.1%  , run time: 8.67\n",
            "[Epoch: 47]  , Train_loss: 0.5 , Train_Acc: 81.5%, Val_loss: 1.1 , Val_Acc: 63.7%, Test_Acc: 63.5%  , run time: 8.44\n",
            "[Epoch: 48]  , Train_loss: 0.5 , Train_Acc: 82.6%, Val_loss: 1.0 , Val_Acc: 64.7%, Test_Acc: 62.7%  , run time: 8.47\n",
            "[Epoch: 49]  , Train_loss: 0.5 , Train_Acc: 82.7%, Val_loss: 1.0 , Val_Acc: 60.0%, Test_Acc: 57.4%  , run time: 8.44\n",
            "[Epoch: 50]  , Train_loss: 0.5 , Train_Acc: 83.3%, Val_loss: 1.0 , Val_Acc: 64.0%, Test_Acc: 62.0%  , run time: 8.53\n",
            "[Epoch: 51]  , Train_loss: 0.5 , Train_Acc: 83.1%, Val_loss: 0.9 , Val_Acc: 67.4%, Test_Acc: 64.7%  , run time: 8.6\n",
            "[Epoch: 52]  , Train_loss: 0.4 , Train_Acc: 84.3%, Val_loss: 1.0 , Val_Acc: 65.2%, Test_Acc: 64.5%  , run time: 8.63\n",
            "[Epoch: 53]  , Train_loss: 0.4 , Train_Acc: 83.9%, Val_loss: 1.0 , Val_Acc: 65.9%, Test_Acc: 65.2%  , run time: 8.65\n",
            "[Epoch: 54]  , Train_loss: 0.4 , Train_Acc: 84.8%, Val_loss: 1.2 , Val_Acc: 60.8%, Test_Acc: 56.9%  , run time: 8.51\n",
            "[Epoch: 55]  , Train_loss: 0.4 , Train_Acc: 84.1%, Val_loss: 1.2 , Val_Acc: 61.5%, Test_Acc: 60.3%  , run time: 8.64\n",
            "[Epoch: 56]  , Train_loss: 0.4 , Train_Acc: 84.6%, Val_loss: 1.0 , Val_Acc: 66.7%, Test_Acc: 64.7%  , run time: 8.48\n",
            "[Epoch: 57]  , Train_loss: 0.4 , Train_Acc: 87.4%, Val_loss: 1.1 , Val_Acc: 62.3%, Test_Acc: 60.0%  , run time: 8.47\n",
            "[Epoch: 58]  , Train_loss: 0.4 , Train_Acc: 85.2%, Val_loss: 1.1 , Val_Acc: 62.7%, Test_Acc: 60.5%  , run time: 8.73\n",
            "[Epoch: 59]  , Train_loss: 0.4 , Train_Acc: 83.4%, Val_loss: 1.1 , Val_Acc: 64.5%, Test_Acc: 60.8%  , run time: 8.46\n",
            "[Epoch: 60]  , Train_loss: 0.4 , Train_Acc: 85.8%, Val_loss: 1.1 , Val_Acc: 63.2%, Test_Acc: 61.0%  , run time: 8.58\n"
          ]
        }
      ],
      "source": [
        "print_epochs = True\n",
        "\n",
        "param1 = {'LR': 1e-3,\n",
        " 'Momentum': 0.9,\n",
        " 'Net': CNN_Nets.Net8,\n",
        " 'batch_size': 24,\n",
        " 'epochs': 60,\n",
        " 'loss_func': torch.nn.modules.loss.CrossEntropyLoss,\n",
        " 'opt_func': torch.optim.SGD,\n",
        " 'weight_decay': 1e-2}\n",
        "\n",
        "# with data loader\n",
        "Model_Best_Grid = Model_Training_with_loader(**param1,w_sampler = w_sampler , trainDataset = trainDataset, validDataset = validDataset , X_test = X_test, Y_test = Y_test, print_epochs =print_epochs,hyper_params=param1)\n",
        "# without data loader\n",
        "# Model_Best_Grid = Model_Training(**param1, X_train = X_train, Y_train = Y_train, X_valid = X_valid, Y_valid= Y_valid, X_test = X_test, Y_test= Y_test, print_epochs = print_epochs,hyper_params=param1,Test_acc_print=Test_acc_print)\n",
        "np.random.seed(0)\n",
        "random.seed(0)\n",
        "torch.manual_seed(0)\n",
        "Model_Best_Grid.train()"
      ]
    },
    {
      "cell_type": "code",
      "execution_count": null,
      "metadata": {
        "colab": {
          "base_uri": "https://localhost:8080/",
          "height": 1000
        },
        "id": "isPptvcwiKfH",
        "outputId": "57eab7da-c399-46e6-b8c2-dd4e67b79d04"
      },
      "outputs": [
        {
          "output_type": "stream",
          "name": "stdout",
          "text": [
            "Nr. of Data : \n",
            " 407\n",
            "Accuracy of The Model : \n",
            " 0.6117936117936118\n"
          ]
        },
        {
          "output_type": "display_data",
          "data": {
            "text/plain": [
              "<Figure size 432x288 with 2 Axes>"
            ],
            "image/png": "[encoded data removed]"
          },
          "metadata": {
            "needs_background": "light"
          }
        },
        {
          "output_type": "display_data",
          "data": {
            "text/plain": [
              "<Figure size 432x288 with 1 Axes>"
            ],
            "image/png": "[encoded data removed]"
          },
          "metadata": {
            "needs_background": "light"
          }
        },
        {
          "output_type": "display_data",
          "data": {
            "text/plain": [
              "<Figure size 432x288 with 1 Axes>"
            ],
            "image/png": "[encoded data removed]"
          },
          "metadata": {
            "needs_background": "light"
          }
        },
        {
          "output_type": "execute_result",
          "data": {
            "text/plain": [
              "<pandas.io.formats.style.Styler at 0x7ff2172d9c90>"
            ],
            "text/html": [
              "<style type=\"text/css\">\n",
              "</style>\n",
              "<table id=\"T_ad47b_\" class=\"dataframe\">\n",
              "  <thead>\n",
              "    <tr>\n",
              "      <th class=\"blank level0\" >&nbsp;</th>\n",
              "      <th class=\"col_heading level0 col0\" >weights</th>\n",
              "      <th class=\"col_heading level0 col1\" >Precision</th>\n",
              "      <th class=\"col_heading level0 col2\" >Recall_Sensitivity</th>\n",
              "      <th class=\"col_heading level0 col3\" >Specificity</th>\n",
              "      <th class=\"col_heading level0 col4\" >f1_score</th>\n",
              "    </tr>\n",
              "  </thead>\n",
              "  <tbody>\n",
              "    <tr>\n",
              "      <th id=\"T_ad47b_level0_row0\" class=\"row_heading level0 row0\" >0</th>\n",
              "      <td id=\"T_ad47b_row0_col0\" class=\"data row0 col0\" >5.7%</td>\n",
              "      <td id=\"T_ad47b_row0_col1\" class=\"data row0 col1\" >39.0%</td>\n",
              "      <td id=\"T_ad47b_row0_col2\" class=\"data row0 col2\" >69.6%</td>\n",
              "      <td id=\"T_ad47b_row0_col3\" class=\"data row0 col3\" >93.5%</td>\n",
              "      <td id=\"T_ad47b_row0_col4\" class=\"data row0 col4\" >50.0%</td>\n",
              "    </tr>\n",
              "    <tr>\n",
              "      <th id=\"T_ad47b_level0_row1\" class=\"row_heading level0 row1\" >1</th>\n",
              "      <td id=\"T_ad47b_row1_col0\" class=\"data row1 col0\" >7.9%</td>\n",
              "      <td id=\"T_ad47b_row1_col1\" class=\"data row1 col1\" >43.1%</td>\n",
              "      <td id=\"T_ad47b_row1_col2\" class=\"data row1 col2\" >78.1%</td>\n",
              "      <td id=\"T_ad47b_row1_col3\" class=\"data row1 col3\" >91.2%</td>\n",
              "      <td id=\"T_ad47b_row1_col4\" class=\"data row1 col4\" >55.6%</td>\n",
              "    </tr>\n",
              "    <tr>\n",
              "      <th id=\"T_ad47b_level0_row2\" class=\"row_heading level0 row2\" >2</th>\n",
              "      <td id=\"T_ad47b_row2_col0\" class=\"data row2 col0\" >17.7%</td>\n",
              "      <td id=\"T_ad47b_row2_col1\" class=\"data row2 col1\" >48.4%</td>\n",
              "      <td id=\"T_ad47b_row2_col2\" class=\"data row2 col2\" >43.1%</td>\n",
              "      <td id=\"T_ad47b_row2_col3\" class=\"data row2 col3\" >90.1%</td>\n",
              "      <td id=\"T_ad47b_row2_col4\" class=\"data row2 col4\" >45.6%</td>\n",
              "    </tr>\n",
              "    <tr>\n",
              "      <th id=\"T_ad47b_level0_row3\" class=\"row_heading level0 row3\" >3</th>\n",
              "      <td id=\"T_ad47b_row3_col0\" class=\"data row3 col0\" >2.0%</td>\n",
              "      <td id=\"T_ad47b_row3_col1\" class=\"data row3 col1\" >33.3%</td>\n",
              "      <td id=\"T_ad47b_row3_col2\" class=\"data row3 col2\" >50.0%</td>\n",
              "      <td id=\"T_ad47b_row3_col3\" class=\"data row3 col3\" >98.0%</td>\n",
              "      <td id=\"T_ad47b_row3_col4\" class=\"data row3 col4\" >40.0%</td>\n",
              "    </tr>\n",
              "    <tr>\n",
              "      <th id=\"T_ad47b_level0_row4\" class=\"row_heading level0 row4\" >4</th>\n",
              "      <td id=\"T_ad47b_row4_col0\" class=\"data row4 col0\" >15.2%</td>\n",
              "      <td id=\"T_ad47b_row4_col1\" class=\"data row4 col1\" >43.2%</td>\n",
              "      <td id=\"T_ad47b_row4_col2\" class=\"data row4 col2\" >51.6%</td>\n",
              "      <td id=\"T_ad47b_row4_col3\" class=\"data row4 col3\" >87.8%</td>\n",
              "      <td id=\"T_ad47b_row4_col4\" class=\"data row4 col4\" >47.1%</td>\n",
              "    </tr>\n",
              "    <tr>\n",
              "      <th id=\"T_ad47b_level0_row5\" class=\"row_heading level0 row5\" >5</th>\n",
              "      <td id=\"T_ad47b_row5_col0\" class=\"data row5 col0\" >49.1%</td>\n",
              "      <td id=\"T_ad47b_row5_col1\" class=\"data row5 col1\" >93.0%</td>\n",
              "      <td id=\"T_ad47b_row5_col2\" class=\"data row5 col2\" >66.0%</td>\n",
              "      <td id=\"T_ad47b_row5_col3\" class=\"data row5 col3\" >95.2%</td>\n",
              "      <td id=\"T_ad47b_row5_col4\" class=\"data row5 col4\" >77.2%</td>\n",
              "    </tr>\n",
              "    <tr>\n",
              "      <th id=\"T_ad47b_level0_row6\" class=\"row_heading level0 row6\" >6</th>\n",
              "      <td id=\"T_ad47b_row6_col0\" class=\"data row6 col0\" >2.5%</td>\n",
              "      <td id=\"T_ad47b_row6_col1\" class=\"data row6 col1\" >56.2%</td>\n",
              "      <td id=\"T_ad47b_row6_col2\" class=\"data row6 col2\" >90.0%</td>\n",
              "      <td id=\"T_ad47b_row6_col3\" class=\"data row6 col3\" >98.2%</td>\n",
              "      <td id=\"T_ad47b_row6_col4\" class=\"data row6 col4\" >69.2%</td>\n",
              "    </tr>\n",
              "    <tr>\n",
              "      <th id=\"T_ad47b_level0_row7\" class=\"row_heading level0 row7\" >Simple Avg.</th>\n",
              "      <td id=\"T_ad47b_row7_col0\" class=\"data row7 col0\" >nan%</td>\n",
              "      <td id=\"T_ad47b_row7_col1\" class=\"data row7 col1\" >50.9%</td>\n",
              "      <td id=\"T_ad47b_row7_col2\" class=\"data row7 col2\" >64.1%</td>\n",
              "      <td id=\"T_ad47b_row7_col3\" class=\"data row7 col3\" >93.4%</td>\n",
              "      <td id=\"T_ad47b_row7_col4\" class=\"data row7 col4\" >54.9%</td>\n",
              "    </tr>\n",
              "    <tr>\n",
              "      <th id=\"T_ad47b_level0_row8\" class=\"row_heading level0 row8\" >Weighted Avg.</th>\n",
              "      <td id=\"T_ad47b_row8_col0\" class=\"data row8 col0\" >nan%</td>\n",
              "      <td id=\"T_ad47b_row8_col1\" class=\"data row8 col1\" >68.5%</td>\n",
              "      <td id=\"T_ad47b_row8_col2\" class=\"data row8 col2\" >61.2%</td>\n",
              "      <td id=\"T_ad47b_row8_col3\" class=\"data row8 col3\" >92.9%</td>\n",
              "      <td id=\"T_ad47b_row8_col4\" class=\"data row8 col4\" >62.8%</td>\n",
              "    </tr>\n",
              "  </tbody>\n",
              "</table>\n"
            ]
          },
          "metadata": {},
          "execution_count": 159
        }
      ],
      "source": [
        "model_ = Model_Best_Grid\n",
        "model_1 = model_.model.eval().to('cpu')\n",
        "X = input_data[2]\n",
        "Y = labels[2]\n",
        "Y_pred = model_1(X).argmax(dim=1)\n",
        "results = confusion_matrix(Y,Y_pred)\n",
        "plot_loss_accuracy(model_)\n",
        "results"
      ]
    },
    {
      "cell_type": "code",
      "source": [
        "model_ = Model_Grid\n",
        "model_1 = model_.model.eval().to('cpu')\n",
        "X = Evaluation_set[0]\n",
        "Y = Evaluation_set[1]\n",
        "Y_pred = model_1(X).argmax(dim=1)\n",
        "results = confusion_matrix(Y,Y_pred)\n",
        "plot_loss_accuracy(model_)\n",
        "results"
      ],
      "metadata": {
        "colab": {
          "base_uri": "https://localhost:8080/",
          "height": 1000
        },
        "id": "kK7eZZfkvXxf",
        "outputId": "d4a81496-73da-4865-c7b8-ff65b71518fb"
      },
      "execution_count": null,
      "outputs": [
        {
          "output_type": "stream",
          "name": "stdout",
          "text": [
            "Nr. of Data : \n",
            " 105\n",
            "Accuracy of The Model : \n",
            " 0.5523809523809524\n"
          ]
        },
        {
          "output_type": "display_data",
          "data": {
            "text/plain": [
              "<Figure size 432x288 with 2 Axes>"
            ],
            "image/png": "[encoded data removed]"
          },
          "metadata": {
            "needs_background": "light"
          }
        },
        {
          "output_type": "display_data",
          "data": {
            "text/plain": [
              "<Figure size 432x288 with 1 Axes>"
            ],
            "image/png": "[encoded data removed]"
          },
          "metadata": {
            "needs_background": "light"
          }
        },
        {
          "output_type": "display_data",
          "data": {
            "text/plain": [
              "<Figure size 432x288 with 1 Axes>"
            ],
            "image/png": "[encoded data removed]"
          },
          "metadata": {
            "needs_background": "light"
          }
        },
        {
          "output_type": "execute_result",
          "data": {
            "text/plain": [
              "<pandas.io.formats.style.Styler at 0x7ff2149a6e10>"
            ],
            "text/html": [
              "<style type=\"text/css\">\n",
              "</style>\n",
              "<table id=\"T_b14e8_\" class=\"dataframe\">\n",
              "  <thead>\n",
              "    <tr>\n",
              "      <th class=\"blank level0\" >&nbsp;</th>\n",
              "      <th class=\"col_heading level0 col0\" >weights</th>\n",
              "      <th class=\"col_heading level0 col1\" >Precision</th>\n",
              "      <th class=\"col_heading level0 col2\" >Recall_Sensitivity</th>\n",
              "      <th class=\"col_heading level0 col3\" >Specificity</th>\n",
              "      <th class=\"col_heading level0 col4\" >f1_score</th>\n",
              "    </tr>\n",
              "  </thead>\n",
              "  <tbody>\n",
              "    <tr>\n",
              "      <th id=\"T_b14e8_level0_row0\" class=\"row_heading level0 row0\" >0</th>\n",
              "      <td id=\"T_b14e8_row0_col0\" class=\"data row0 col0\" >14.3%</td>\n",
              "      <td id=\"T_b14e8_row0_col1\" class=\"data row0 col1\" >57.1%</td>\n",
              "      <td id=\"T_b14e8_row0_col2\" class=\"data row0 col2\" >26.7%</td>\n",
              "      <td id=\"T_b14e8_row0_col3\" class=\"data row0 col3\" >96.7%</td>\n",
              "      <td id=\"T_b14e8_row0_col4\" class=\"data row0 col4\" >36.4%</td>\n",
              "    </tr>\n",
              "    <tr>\n",
              "      <th id=\"T_b14e8_level0_row1\" class=\"row_heading level0 row1\" >1</th>\n",
              "      <td id=\"T_b14e8_row1_col0\" class=\"data row1 col0\" >14.3%</td>\n",
              "      <td id=\"T_b14e8_row1_col1\" class=\"data row1 col1\" >47.6%</td>\n",
              "      <td id=\"T_b14e8_row1_col2\" class=\"data row1 col2\" >66.7%</td>\n",
              "      <td id=\"T_b14e8_row1_col3\" class=\"data row1 col3\" >87.8%</td>\n",
              "      <td id=\"T_b14e8_row1_col4\" class=\"data row1 col4\" >55.6%</td>\n",
              "    </tr>\n",
              "    <tr>\n",
              "      <th id=\"T_b14e8_level0_row2\" class=\"row_heading level0 row2\" >2</th>\n",
              "      <td id=\"T_b14e8_row2_col0\" class=\"data row2 col0\" >14.3%</td>\n",
              "      <td id=\"T_b14e8_row2_col1\" class=\"data row2 col1\" >33.3%</td>\n",
              "      <td id=\"T_b14e8_row2_col2\" class=\"data row2 col2\" >53.3%</td>\n",
              "      <td id=\"T_b14e8_row2_col3\" class=\"data row2 col3\" >82.2%</td>\n",
              "      <td id=\"T_b14e8_row2_col4\" class=\"data row2 col4\" >41.0%</td>\n",
              "    </tr>\n",
              "    <tr>\n",
              "      <th id=\"T_b14e8_level0_row3\" class=\"row_heading level0 row3\" >3</th>\n",
              "      <td id=\"T_b14e8_row3_col0\" class=\"data row3 col0\" >14.3%</td>\n",
              "      <td id=\"T_b14e8_row3_col1\" class=\"data row3 col1\" >57.1%</td>\n",
              "      <td id=\"T_b14e8_row3_col2\" class=\"data row3 col2\" >26.7%</td>\n",
              "      <td id=\"T_b14e8_row3_col3\" class=\"data row3 col3\" >96.7%</td>\n",
              "      <td id=\"T_b14e8_row3_col4\" class=\"data row3 col4\" >36.4%</td>\n",
              "    </tr>\n",
              "    <tr>\n",
              "      <th id=\"T_b14e8_level0_row4\" class=\"row_heading level0 row4\" >4</th>\n",
              "      <td id=\"T_b14e8_row4_col0\" class=\"data row4 col0\" >14.3%</td>\n",
              "      <td id=\"T_b14e8_row4_col1\" class=\"data row4 col1\" >57.1%</td>\n",
              "      <td id=\"T_b14e8_row4_col2\" class=\"data row4 col2\" >53.3%</td>\n",
              "      <td id=\"T_b14e8_row4_col3\" class=\"data row4 col3\" >93.3%</td>\n",
              "      <td id=\"T_b14e8_row4_col4\" class=\"data row4 col4\" >55.2%</td>\n",
              "    </tr>\n",
              "    <tr>\n",
              "      <th id=\"T_b14e8_level0_row5\" class=\"row_heading level0 row5\" >5</th>\n",
              "      <td id=\"T_b14e8_row5_col0\" class=\"data row5 col0\" >14.3%</td>\n",
              "      <td id=\"T_b14e8_row5_col1\" class=\"data row5 col1\" >68.4%</td>\n",
              "      <td id=\"T_b14e8_row5_col2\" class=\"data row5 col2\" >86.7%</td>\n",
              "      <td id=\"T_b14e8_row5_col3\" class=\"data row5 col3\" >93.3%</td>\n",
              "      <td id=\"T_b14e8_row5_col4\" class=\"data row5 col4\" >76.5%</td>\n",
              "    </tr>\n",
              "    <tr>\n",
              "      <th id=\"T_b14e8_level0_row6\" class=\"row_heading level0 row6\" >6</th>\n",
              "      <td id=\"T_b14e8_row6_col0\" class=\"data row6 col0\" >14.3%</td>\n",
              "      <td id=\"T_b14e8_row6_col1\" class=\"data row6 col1\" >84.6%</td>\n",
              "      <td id=\"T_b14e8_row6_col2\" class=\"data row6 col2\" >73.3%</td>\n",
              "      <td id=\"T_b14e8_row6_col3\" class=\"data row6 col3\" >97.8%</td>\n",
              "      <td id=\"T_b14e8_row6_col4\" class=\"data row6 col4\" >78.6%</td>\n",
              "    </tr>\n",
              "    <tr>\n",
              "      <th id=\"T_b14e8_level0_row7\" class=\"row_heading level0 row7\" >Simple Avg.</th>\n",
              "      <td id=\"T_b14e8_row7_col0\" class=\"data row7 col0\" >nan%</td>\n",
              "      <td id=\"T_b14e8_row7_col1\" class=\"data row7 col1\" >57.9%</td>\n",
              "      <td id=\"T_b14e8_row7_col2\" class=\"data row7 col2\" >55.2%</td>\n",
              "      <td id=\"T_b14e8_row7_col3\" class=\"data row7 col3\" >92.5%</td>\n",
              "      <td id=\"T_b14e8_row7_col4\" class=\"data row7 col4\" >54.2%</td>\n",
              "    </tr>\n",
              "    <tr>\n",
              "      <th id=\"T_b14e8_level0_row8\" class=\"row_heading level0 row8\" >Weighted Avg.</th>\n",
              "      <td id=\"T_b14e8_row8_col0\" class=\"data row8 col0\" >nan%</td>\n",
              "      <td id=\"T_b14e8_row8_col1\" class=\"data row8 col1\" >57.9%</td>\n",
              "      <td id=\"T_b14e8_row8_col2\" class=\"data row8 col2\" >55.2%</td>\n",
              "      <td id=\"T_b14e8_row8_col3\" class=\"data row8 col3\" >92.5%</td>\n",
              "      <td id=\"T_b14e8_row8_col4\" class=\"data row8 col4\" >54.2%</td>\n",
              "    </tr>\n",
              "  </tbody>\n",
              "</table>\n"
            ]
          },
          "metadata": {},
          "execution_count": 157
        }
      ]
    },
    {
      "cell_type": "markdown",
      "metadata": {
        "id": "GMzwoJOJ2BYX"
      },
      "source": [
        "# **K-Fold Cross Validation**"
      ]
    },
    {
      "cell_type": "code",
      "execution_count": null,
      "metadata": {
        "colab": {
          "base_uri": "https://localhost:8080/"
        },
        "id": "15sJl9otbNaz",
        "outputId": "53d961f7-c630-46ad-b6b8-e5672ef22243"
      },
      "outputs": [
        {
          "name": "stderr",
          "output_type": "stream",
          "text": [
            "Test Accuracy 0.6237942122186495: 100%|██████████████████████████████| 4/4 [10:00<00:00, 150.14s/it]\n"
          ]
        }
      ],
      "source": [
        "K_Folds = sk.model_selection.KFold(n_splits=6, shuffle=True)\n",
        "tensor_subset = torch.utils.data.dataset.Subset\n",
        "\n",
        "print_epochs = False\n",
        "# device = 'mps'\n",
        "\n",
        "CV_data = input_data[3]\n",
        "CV_label = labels[3]\n",
        "X_test = input_data[2]\n",
        "Y_test = labels[2]\n",
        "\n",
        "# CV_Details_ = pd.DataFrame(columns=['test_fscore','test_precision','test_recall'])\n",
        "\n",
        "CV_Details = pd.DataFrame(columns=['hyper_param','train_index','valid_index','train_accuracy','valid_accuracy','test_accuracy','train_fscore','valid_fscore','test_fscore','train_precision','valid_precision','test_precision'\n",
        "                                    ,'train_recall','valid_recall','test_recall'])\n",
        "\n",
        "pbar = tqdm(best_params, ncols = 100, desc = \"Hyper Parameters - Level\")\n",
        "\n",
        "for param in pbar:\n",
        "# for i in range(1):\n",
        "    \n",
        "    for fold, (train_index, valid_index) in enumerate(K_Folds.split(CV_data)):\n",
        "\n",
        "\n",
        "        X_train = CV_data[train_index]\n",
        "        Y_train = CV_label[train_index]\n",
        "        X_valid = CV_data[valid_index]\n",
        "        Y_valid = CV_label[valid_index]\n",
        "\n",
        "        # X_train = tensor_subset(input_data[3],train_index).dataset\n",
        "        # Y_train = tensor_subset(labels[3],train_index).dataset\n",
        "        # X_valid = tensor_subset(input_data[3],valid_index).dataset\n",
        "        # Y_valid = tensor_subset(labels[3],valid_index).dataset\n",
        "\n",
        "        Model_ = Model_Training(**param, X_train = X_train, Y_train = Y_train, X_valid = X_valid, Y_valid= Y_valid, print_epochs = print_epochs,hyper_params=param)\n",
        "        np.random.seed(0)\n",
        "        random.seed(0)\n",
        "        torch.manual_seed(0)\n",
        "        Model_.train()\n",
        "\n",
        "        model_ = Model_.model.eval()\n",
        "            \n",
        "        # Train\n",
        "        Y_pred = model_(X_train.to(device)).argmax(axis=1)\n",
        "        Y = Y_train\n",
        "        train_accuracy = sk.metrics.accuracy_score(Y_pred.to('cpu'),Y.to('cpu') )\n",
        "        train_precision, train_recall, train_fscore, m = sk.metrics.precision_recall_fscore_support(Y_pred.to('cpu'),Y.to('cpu') , average = 'weighted')\n",
        "\n",
        "        # Valid\n",
        "        Y_pred = model_(X_valid.to(device)).argmax(axis=1)\n",
        "        Y = Y_valid\n",
        "        valid_accuracy = sk.metrics.accuracy_score(Y_pred.to('cpu'),Y.to('cpu') )\n",
        "        valid_precision, valid_recall, valid_fscore, m = sk.metrics.precision_recall_fscore_support(Y_pred.to('cpu'),Y.to('cpu') , average = 'weighted')\n",
        "\n",
        "        # Test\n",
        "        Y_pred = model_(X_test.to(device)).argmax(axis=1)\n",
        "        Y = Y_test\n",
        "        test_accuracy = sk.metrics.accuracy_score(Y_pred.to('cpu'),Y.to('cpu') )\n",
        "        test_precision, test_recall, test_fscore, m = sk.metrics.precision_recall_fscore_support(Y_pred.to('cpu'),Y.to('cpu') , average = 'weighted')\n",
        "        pbar.set_description(\"Test Accuracy %s\" % test_accuracy)\n",
        "        \n",
        "        new_row = pd.Series({'hyper_param':param,'train_index':train_index,'valid_index':valid_index,'train_accuracy':train_accuracy,'valid_accuracy':valid_accuracy,'test_accuracy':test_accuracy,'train_fscore':train_fscore,'valid_fscore':valid_fscore,'test_fscore':test_fscore\n",
        "        ,'train_precision':train_precision,'valid_precision':valid_precision,'test_precision':test_precision,'train_recall':train_recall,'valid_recall':valid_recall,'test_recall':test_recall}, name='')\n",
        "        CV_Details = CV_Details.append(new_row)\n",
        "\n",
        "CNN_CV_Details = CV_Details.sort_values('test_accuracy', ascending=False)"
      ]
    },
    {
      "cell_type": "code",
      "execution_count": null,
      "metadata": {
        "colab": {
          "base_uri": "https://localhost:8080/"
        },
        "id": "sa2B1MB2t5sH",
        "outputId": "a577419f-52b9-4211-9911-974777201c22"
      },
      "outputs": [
        {
          "data": {
            "text/plain": [
              "(    0.662379\n",
              "     0.655949\n",
              "     0.649518\n",
              "     0.649518\n",
              "     0.649518\n",
              " Name: test_accuracy, dtype: float64,\n",
              " {'LR': 0.0018,\n",
              "  'Momentum': 0.85,\n",
              "  'Net': __main__.CNN_Net4,\n",
              "  'batch_size': 32,\n",
              "  'epochs': 80,\n",
              "  'loss_func': torch.nn.modules.loss.CrossEntropyLoss,\n",
              "  'opt_func': torch.optim.sgd.SGD,\n",
              "  'weight_decay': 1e-06})"
            ]
          },
          "execution_count": 90,
          "metadata": {},
          "output_type": "execute_result"
        }
      ],
      "source": [
        "CNN_CV_Details['test_accuracy'][:5], CNN_CV_Details['hyper_param'][0]"
      ]
    },
    {
      "cell_type": "code",
      "execution_count": null,
      "metadata": {
        "colab": {
          "base_uri": "https://localhost:8080/"
        },
        "id": "zbD8gadJcsYC",
        "outputId": "673b315a-2ec5-4a91-9ca5-0a10471a7a65"
      },
      "outputs": [
        {
          "data": {
            "text/plain": [
              "(    0.652733\n",
              "     0.649518\n",
              "     0.646302\n",
              "     0.643087\n",
              "     0.643087\n",
              " Name: test_accuracy, dtype: float64,\n",
              " {'LR': 0.0022,\n",
              "  'Momentum': 0.82,\n",
              "  'Net': __main__.CNN_Net3,\n",
              "  'batch_size': 30,\n",
              "  'epochs': 75,\n",
              "  'loss_func': torch.nn.modules.loss.CrossEntropyLoss,\n",
              "  'opt_func': torch.optim.sgd.SGD,\n",
              "  'weight_decay': 1e-07})"
            ]
          },
          "execution_count": 36,
          "metadata": {},
          "output_type": "execute_result"
        }
      ],
      "source": [
        "CNN_CV_Details['test_accuracy'][:5], CNN_CV_Details['hyper_param'][0]"
      ]
    },
    {
      "cell_type": "code",
      "execution_count": null,
      "metadata": {
        "id": "ivoMr_RFpJxC"
      },
      "outputs": [],
      "source": [
        "import torch\n",
        "torch.cuda.empty_cache()"
      ]
    },
    {
      "cell_type": "code",
      "execution_count": null,
      "metadata": {
        "colab": {
          "base_uri": "https://localhost:8080/",
          "height": 437
        },
        "id": "BFxoyRob2fXe",
        "outputId": "5ede62b6-d4ae-4174-8cc7-b8eca01aa81c"
      },
      "outputs": [
        {
          "ename": "RuntimeError",
          "evalue": "ignored",
          "output_type": "error",
          "traceback": [
            "\u001b[0;31m---------------------------------------------------------------------------\u001b[0m",
            "\u001b[0;31mRuntimeError\u001b[0m                              Traceback (most recent call last)",
            "\u001b[0;32m<ipython-input-28-81f5143631c6>\u001b[0m in \u001b[0;36m<module>\u001b[0;34m()\u001b[0m\n\u001b[1;32m     24\u001b[0m  'weight_decay': 0}\n\u001b[1;32m     25\u001b[0m \u001b[0;34m\u001b[0m\u001b[0m\n\u001b[0;32m---> 26\u001b[0;31m \u001b[0mModel_CV\u001b[0m \u001b[0;34m=\u001b[0m \u001b[0mModel_Training\u001b[0m\u001b[0;34m(\u001b[0m\u001b[0;34m**\u001b[0m\u001b[0mparam1\u001b[0m\u001b[0;34m,\u001b[0m\u001b[0mX_train\u001b[0m \u001b[0;34m=\u001b[0m \u001b[0mX_train\u001b[0m\u001b[0;34m,\u001b[0m \u001b[0mY_train\u001b[0m \u001b[0;34m=\u001b[0m \u001b[0mY_train\u001b[0m\u001b[0;34m,\u001b[0m \u001b[0mX_valid\u001b[0m \u001b[0;34m=\u001b[0m \u001b[0mX_valid\u001b[0m\u001b[0;34m,\u001b[0m \u001b[0mY_valid\u001b[0m\u001b[0;34m=\u001b[0m \u001b[0mY_valid\u001b[0m\u001b[0;34m,\u001b[0m \u001b[0mprint_epochs\u001b[0m \u001b[0;34m=\u001b[0m\u001b[0mprint_epochs\u001b[0m\u001b[0;34m,\u001b[0m\u001b[0mhyper_params\u001b[0m\u001b[0;34m=\u001b[0m\u001b[0mparam1\u001b[0m\u001b[0;34m)\u001b[0m\u001b[0;34m\u001b[0m\u001b[0;34m\u001b[0m\u001b[0m\n\u001b[0m\u001b[1;32m     27\u001b[0m \u001b[0mnp\u001b[0m\u001b[0;34m.\u001b[0m\u001b[0mrandom\u001b[0m\u001b[0;34m.\u001b[0m\u001b[0mseed\u001b[0m\u001b[0;34m(\u001b[0m\u001b[0;36m0\u001b[0m\u001b[0;34m)\u001b[0m\u001b[0;34m\u001b[0m\u001b[0;34m\u001b[0m\u001b[0m\n\u001b[1;32m     28\u001b[0m \u001b[0mrandom\u001b[0m\u001b[0;34m.\u001b[0m\u001b[0mseed\u001b[0m\u001b[0;34m(\u001b[0m\u001b[0;36m0\u001b[0m\u001b[0;34m)\u001b[0m\u001b[0;34m\u001b[0m\u001b[0;34m\u001b[0m\u001b[0m\n",
            "\u001b[0;32m<ipython-input-12-ac63ea1d582f>\u001b[0m in \u001b[0;36m__init__\u001b[0;34m(self, Net, LR, batch_size, Momentum, epochs, weight_decay, loss_func, opt_func, X_train, Y_train, X_valid, Y_valid, print_epochs, hyper_params)\u001b[0m\n\u001b[1;32m     12\u001b[0m         \u001b[0mself\u001b[0m\u001b[0;34m.\u001b[0m\u001b[0mepochs\u001b[0m \u001b[0;34m=\u001b[0m \u001b[0mepochs\u001b[0m\u001b[0;34m\u001b[0m\u001b[0;34m\u001b[0m\u001b[0m\n\u001b[1;32m     13\u001b[0m         \u001b[0mself\u001b[0m\u001b[0;34m.\u001b[0m\u001b[0mprint_epochs\u001b[0m \u001b[0;34m=\u001b[0m \u001b[0mprint_epochs\u001b[0m\u001b[0;34m\u001b[0m\u001b[0;34m\u001b[0m\u001b[0m\n\u001b[0;32m---> 14\u001b[0;31m         \u001b[0mself\u001b[0m\u001b[0;34m.\u001b[0m\u001b[0mX_train\u001b[0m \u001b[0;34m=\u001b[0m \u001b[0mX_train\u001b[0m\u001b[0;34m.\u001b[0m\u001b[0mto\u001b[0m\u001b[0;34m(\u001b[0m\u001b[0mdevice\u001b[0m\u001b[0;34m)\u001b[0m\u001b[0;34m\u001b[0m\u001b[0;34m\u001b[0m\u001b[0m\n\u001b[0m\u001b[1;32m     15\u001b[0m         \u001b[0mself\u001b[0m\u001b[0;34m.\u001b[0m\u001b[0mY_train\u001b[0m \u001b[0;34m=\u001b[0m \u001b[0mY_train\u001b[0m\u001b[0;34m.\u001b[0m\u001b[0mto\u001b[0m\u001b[0;34m(\u001b[0m\u001b[0mdevice\u001b[0m\u001b[0;34m)\u001b[0m\u001b[0;34m\u001b[0m\u001b[0;34m\u001b[0m\u001b[0m\n\u001b[1;32m     16\u001b[0m         \u001b[0mself\u001b[0m\u001b[0;34m.\u001b[0m\u001b[0mX_valid\u001b[0m \u001b[0;34m=\u001b[0m \u001b[0mX_valid\u001b[0m\u001b[0;34m.\u001b[0m\u001b[0mto\u001b[0m\u001b[0;34m(\u001b[0m\u001b[0mdevice\u001b[0m\u001b[0;34m)\u001b[0m\u001b[0;34m\u001b[0m\u001b[0;34m\u001b[0m\u001b[0m\n",
            "\u001b[0;31mRuntimeError\u001b[0m: CUDA out of memory. Tried to allocate 4.31 GiB (GPU 0; 14.76 GiB total capacity; 10.95 GiB already allocated; 2.06 GiB free; 11.44 GiB reserved in total by PyTorch) If reserved memory is >> allocated memory try setting max_split_size_mb to avoid fragmentation.  See documentation for Memory Management and PYTORCH_CUDA_ALLOC_CONF"
          ]
        }
      ],
      "source": [
        "print_epochs = True\n",
        "# param = CNN_CV_Details['hyper_param'][0]\n",
        "# train_index = CNN_CV_Details['train_index'][0]\n",
        "# valid_index = CNN_CV_Details['valid_index'][0]\n",
        "\n",
        "# X_train = input_data[3][train_index]\n",
        "# Y_train = labels[3][train_index]\n",
        "# X_valid = input_data[3][valid_index]\n",
        "# Y_valid = labels[3][valid_index]\n",
        "\n",
        "X_train = input_data[0]\n",
        "Y_train = labels[0]\n",
        "X_valid = input_data[1]\n",
        "Y_valid = labels[1]\n",
        "\n",
        "\n",
        "param1 = {'LR': 1e-3,\n",
        " 'Momentum': 0.8,\n",
        " 'Net': CNN_Nets.Net3,\n",
        " 'batch_size': 32,\n",
        " 'epochs': 10,\n",
        " 'loss_func': torch.nn.modules.loss.CrossEntropyLoss,\n",
        " 'opt_func': torch.optim.SGD,\n",
        " 'weight_decay': 0}\n",
        "\n",
        "Model_CV = Model_Training(**param1,X_train = X_train, Y_train = Y_train, X_valid = X_valid, Y_valid= Y_valid, print_epochs =print_epochs,hyper_params=param1)\n",
        "np.random.seed(0)\n",
        "random.seed(0)\n",
        "torch.manual_seed(0)\n",
        "Model_CV.train()"
      ]
    },
    {
      "cell_type": "code",
      "execution_count": null,
      "metadata": {
        "colab": {
          "base_uri": "https://localhost:8080/",
          "height": 665
        },
        "id": "AmFzM9hLbNaz",
        "outputId": "f5552135-dcac-46b2-f105-7a56b3abf74f"
      },
      "outputs": [
        {
          "name": "stdout",
          "output_type": "stream",
          "text": [
            "Nr. of Data : \n",
            " 820\n",
            "Accuracy of The Model : \n",
            " 0.6560975609756098\n"
          ]
        },
        {
          "data": {
            "text/html": [
              "<style type=\"text/css\">\n",
              "</style>\n",
              "<table id=\"T_2dc09_\" class=\"dataframe\">\n",
              "  <thead>\n",
              "    <tr>\n",
              "      <th class=\"blank level0\" >&nbsp;</th>\n",
              "      <th class=\"col_heading level0 col0\" >weights</th>\n",
              "      <th class=\"col_heading level0 col1\" >Precision</th>\n",
              "      <th class=\"col_heading level0 col2\" >Recall_Sensitivity</th>\n",
              "      <th class=\"col_heading level0 col3\" >Specificity</th>\n",
              "      <th class=\"col_heading level0 col4\" >f1_score</th>\n",
              "    </tr>\n",
              "  </thead>\n",
              "  <tbody>\n",
              "    <tr>\n",
              "      <th id=\"T_2dc09_level0_row0\" class=\"row_heading level0 row0\" >0</th>\n",
              "      <td id=\"T_2dc09_row0_col0\" class=\"data row0 col0\" >5.6%</td>\n",
              "      <td id=\"T_2dc09_row0_col1\" class=\"data row0 col1\" >14.3%</td>\n",
              "      <td id=\"T_2dc09_row0_col2\" class=\"data row0 col2\" >4.3%</td>\n",
              "      <td id=\"T_2dc09_row0_col3\" class=\"data row0 col3\" >98.4%</td>\n",
              "      <td id=\"T_2dc09_row0_col4\" class=\"data row0 col4\" >6.7%</td>\n",
              "    </tr>\n",
              "    <tr>\n",
              "      <th id=\"T_2dc09_level0_row1\" class=\"row_heading level0 row1\" >1</th>\n",
              "      <td id=\"T_2dc09_row1_col0\" class=\"data row1 col0\" >7.9%</td>\n",
              "      <td id=\"T_2dc09_row1_col1\" class=\"data row1 col1\" >33.3%</td>\n",
              "      <td id=\"T_2dc09_row1_col2\" class=\"data row1 col2\" >12.3%</td>\n",
              "      <td id=\"T_2dc09_row1_col3\" class=\"data row1 col3\" >97.9%</td>\n",
              "      <td id=\"T_2dc09_row1_col4\" class=\"data row1 col4\" >18.0%</td>\n",
              "    </tr>\n",
              "    <tr>\n",
              "      <th id=\"T_2dc09_level0_row2\" class=\"row_heading level0 row2\" >2</th>\n",
              "      <td id=\"T_2dc09_row2_col0\" class=\"data row2 col0\" >8.9%</td>\n",
              "      <td id=\"T_2dc09_row2_col1\" class=\"data row2 col1\" >35.7%</td>\n",
              "      <td id=\"T_2dc09_row2_col2\" class=\"data row2 col2\" >13.7%</td>\n",
              "      <td id=\"T_2dc09_row2_col3\" class=\"data row2 col3\" >97.6%</td>\n",
              "      <td id=\"T_2dc09_row2_col4\" class=\"data row2 col4\" >19.8%</td>\n",
              "    </tr>\n",
              "    <tr>\n",
              "      <th id=\"T_2dc09_level0_row3\" class=\"row_heading level0 row3\" >3</th>\n",
              "      <td id=\"T_2dc09_row3_col0\" class=\"data row3 col0\" >1.8%</td>\n",
              "      <td id=\"T_2dc09_row3_col1\" class=\"data row3 col1\" >0.0%</td>\n",
              "      <td id=\"T_2dc09_row3_col2\" class=\"data row3 col2\" >0.0%</td>\n",
              "      <td id=\"T_2dc09_row3_col3\" class=\"data row3 col3\" >99.9%</td>\n",
              "      <td id=\"T_2dc09_row3_col4\" class=\"data row3 col4\" >0.0%</td>\n",
              "    </tr>\n",
              "    <tr>\n",
              "      <th id=\"T_2dc09_level0_row4\" class=\"row_heading level0 row4\" >4</th>\n",
              "      <td id=\"T_2dc09_row4_col0\" class=\"data row4 col0\" >7.4%</td>\n",
              "      <td id=\"T_2dc09_row4_col1\" class=\"data row4 col1\" >6.2%</td>\n",
              "      <td id=\"T_2dc09_row4_col2\" class=\"data row4 col2\" >1.6%</td>\n",
              "      <td id=\"T_2dc09_row4_col3\" class=\"data row4 col3\" >98.0%</td>\n",
              "      <td id=\"T_2dc09_row4_col4\" class=\"data row4 col4\" >2.6%</td>\n",
              "    </tr>\n",
              "    <tr>\n",
              "      <th id=\"T_2dc09_level0_row5\" class=\"row_heading level0 row5\" >5</th>\n",
              "      <td id=\"T_2dc09_row5_col0\" class=\"data row5 col0\" >65.9%</td>\n",
              "      <td id=\"T_2dc09_row5_col1\" class=\"data row5 col1\" >70.1%</td>\n",
              "      <td id=\"T_2dc09_row5_col2\" class=\"data row5 col2\" >95.7%</td>\n",
              "      <td id=\"T_2dc09_row5_col3\" class=\"data row5 col3\" >21.4%</td>\n",
              "      <td id=\"T_2dc09_row5_col4\" class=\"data row5 col4\" >81.0%</td>\n",
              "    </tr>\n",
              "    <tr>\n",
              "      <th id=\"T_2dc09_level0_row6\" class=\"row_heading level0 row6\" >6</th>\n",
              "      <td id=\"T_2dc09_row6_col0\" class=\"data row6 col0\" >2.4%</td>\n",
              "      <td id=\"T_2dc09_row6_col1\" class=\"data row6 col1\" >0.0%</td>\n",
              "      <td id=\"T_2dc09_row6_col2\" class=\"data row6 col2\" >0.0%</td>\n",
              "      <td id=\"T_2dc09_row6_col3\" class=\"data row6 col3\" >100.0%</td>\n",
              "      <td id=\"T_2dc09_row6_col4\" class=\"data row6 col4\" >0.0%</td>\n",
              "    </tr>\n",
              "    <tr>\n",
              "      <th id=\"T_2dc09_level0_row7\" class=\"row_heading level0 row7\" >Simple Avg.</th>\n",
              "      <td id=\"T_2dc09_row7_col0\" class=\"data row7 col0\" >nan%</td>\n",
              "      <td id=\"T_2dc09_row7_col1\" class=\"data row7 col1\" >22.8%</td>\n",
              "      <td id=\"T_2dc09_row7_col2\" class=\"data row7 col2\" >18.2%</td>\n",
              "      <td id=\"T_2dc09_row7_col3\" class=\"data row7 col3\" >87.6%</td>\n",
              "      <td id=\"T_2dc09_row7_col4\" class=\"data row7 col4\" >18.3%</td>\n",
              "    </tr>\n",
              "    <tr>\n",
              "      <th id=\"T_2dc09_level0_row8\" class=\"row_heading level0 row8\" >Weighted Avg.</th>\n",
              "      <td id=\"T_2dc09_row8_col0\" class=\"data row8 col0\" >nan%</td>\n",
              "      <td id=\"T_2dc09_row8_col1\" class=\"data row8 col1\" >53.3%</td>\n",
              "      <td id=\"T_2dc09_row8_col2\" class=\"data row8 col2\" >65.6%</td>\n",
              "      <td id=\"T_2dc09_row8_col3\" class=\"data row8 col3\" >47.6%</td>\n",
              "      <td id=\"T_2dc09_row8_col4\" class=\"data row8 col4\" >57.1%</td>\n",
              "    </tr>\n",
              "  </tbody>\n",
              "</table>\n"
            ],
            "text/plain": [
              "<pandas.io.formats.style.Styler at 0x7f23c00ba7d0>"
            ]
          },
          "execution_count": 20,
          "metadata": {},
          "output_type": "execute_result"
        },
        {
          "data": {
            "image/png": "[encoded data removed]",
            "text/plain": [
              "<Figure size 432x288 with 2 Axes>"
            ]
          },
          "metadata": {},
          "output_type": "display_data"
        }
      ],
      "source": [
        "model_ = Model_CV.model.eval()\n",
        "X = input_data[2].to(device)\n",
        "Y = labels[2].to(device)\n",
        "Y_pred = model_(X).argmax(dim=1)\n",
        "confusion_matrix(Y.to('cpu'),Y_pred.to('cpu'))"
      ]
    },
    {
      "cell_type": "code",
      "execution_count": null,
      "metadata": {
        "colab": {
          "base_uri": "https://localhost:8080/",
          "height": 298
        },
        "id": "amh6DOqrt6sP",
        "outputId": "6df24795-9f47-4b2f-ec64-73e657e3abd9"
      },
      "outputs": [
        {
          "data": {
            "image/png": "[encoded data removed]",
            "text/plain": [
              "<Figure size 432x288 with 1 Axes>"
            ]
          },
          "metadata": {},
          "output_type": "display_data"
        }
      ],
      "source": [
        "model_ = Model_CV\n",
        "epochs_X = [i for i in range(1, model_.epochs+1)]\n",
        "epochs_X\n",
        "plt.subplots(figsize=(6,4))\n",
        "\n",
        "plt.plot(epochs_X , model_.Epochs_Train_loss, 'o-', label='Train loss')\n",
        "plt.plot(epochs_X , model_.Epochs_Val_loss,'ro-', label='Validation loss')\n",
        "plt.xlabel(\"Epochs\", fontsize = 12)\n",
        "plt.ylabel(\"Loss\", fontsize = 12)\n",
        "plt.grid()\n",
        "plt.legend()\n",
        "plt.title('Train and Validation loss by epochs')\n",
        "plt.show()"
      ]
    },
    {
      "cell_type": "code",
      "execution_count": null,
      "metadata": {
        "colab": {
          "base_uri": "https://localhost:8080/",
          "height": 298
        },
        "id": "N_3BtBCouJeg",
        "outputId": "565e22d1-86ca-48e6-c977-b7bf38fcacbd"
      },
      "outputs": [
        {
          "data": {
            "image/png": "[encoded data removed]",
            "text/plain": [
              "<Figure size 432x288 with 1 Axes>"
            ]
          },
          "metadata": {},
          "output_type": "display_data"
        }
      ],
      "source": [
        "model_ = Model_CV\n",
        "epochs_X = [i for i in range(1, model_.epochs+1)]\n",
        "epochs_X\n",
        "plt.subplots(figsize=(6,4))\n",
        "\n",
        "plt.plot(epochs_X , model_.Epochs_Train_Acc, 'o-', label='Train Accuracy')\n",
        "plt.plot(epochs_X , model_.Epochs_Val_Acc,'ro-', label='Validation Accuracy')\n",
        "plt.xlabel(\"Epochs\", fontsize = 12)\n",
        "plt.ylabel(\"Accuracy\", fontsize = 12)\n",
        "plt.grid()\n",
        "plt.legend()\n",
        "plt.title('Train and Validation Accuracy by epochs')\n",
        "plt.show()"
      ]
    },
    {
      "cell_type": "markdown",
      "metadata": {
        "id": "zomymNkU4JNX"
      },
      "source": [
        "# **100 time model training to check Regularization of hyper parameters by Cross Validation**"
      ]
    },
    {
      "cell_type": "code",
      "execution_count": null,
      "metadata": {
        "colab": {
          "base_uri": "https://localhost:8080/"
        },
        "id": "RLfqTs-54anr",
        "outputId": "5d600fe0-819f-4057-976e-3e32c9aa6fc1"
      },
      "outputs": [
        {
          "name": "stderr",
          "output_type": "stream",
          "text": [
            "Test Accuracy 0.6516129032258065: 100%|████████████████████████████| 10/10 [38:54<00:00, 233.49s/it]\n"
          ]
        }
      ],
      "source": [
        "K_Folds_test = sk.model_selection.KFold(n_splits=10, shuffle=True)\n",
        "K_Folds_valid = sk.model_selection.KFold(n_splits=10, shuffle=True)\n",
        "\n",
        "param1 = {'LR': 2e-3,\n",
        " 'Momentum': 0.78,\n",
        " 'Net': CNN_Nets.Net3,\n",
        " 'batch_size': 30,\n",
        " 'epochs': 100,\n",
        " 'loss_func': torch.nn.modules.loss.CrossEntropyLoss,\n",
        " 'opt_func': torch.optim.SGD,\n",
        " 'weight_decay': 1e-06}\n",
        "\n",
        "\n",
        "print_epochs = False\n",
        "# device = 'mps'\n",
        "\n",
        "CV_data = input_data[4]\n",
        "CV_label = labels[4]\n",
        "# CV_Details_ = pd.DataFrame(columns=['test_fscore','test_precision','test_recall'])\n",
        "\n",
        "CV_Details = pd.DataFrame(columns=['hyper_param','train_index','valid_index','train_accuracy','valid_accuracy','test_accuracy','train_fscore','valid_fscore','test_fscore','train_precision','valid_precision','test_precision'\n",
        "                                    ,'train_recall','valid_recall','test_recall'])\n",
        "\n",
        "# pbar = tqdm(range(10), ncols = 100, desc = \"Hyper Parameters - Level\")\n",
        "pbar = tqdm(enumerate(K_Folds_test.split(CV_data)), total=K_Folds_test.get_n_splits(), desc=\"Test set k-fold\",ncols = 100)\n",
        "\n",
        "for fold, (training_index, test_index) in pbar:\n",
        "    X_training = CV_data[training_index]\n",
        "    Y_training = CV_label[training_index]\n",
        "    X_test = CV_data[test_index]\n",
        "    Y_test = CV_label[test_index]\n",
        "\n",
        "    for fold, (train_index, valid_index) in enumerate(K_Folds_valid.split(X_training)):\n",
        "        X_train = X_training[train_index]\n",
        "        Y_train = Y_training[train_index]\n",
        "        X_valid = X_training[valid_index]\n",
        "        Y_valid = Y_training[valid_index]\n",
        "\n",
        "        # X_train = tensor_subset(input_data[3],train_index).dataset\n",
        "        # Y_train = tensor_subset(labels[3],train_index).dataset\n",
        "        # X_valid = tensor_subset(input_data[3],valid_index).dataset\n",
        "        # Y_valid = tensor_subset(labels[3],valid_index).dataset\n",
        "\n",
        "        Model_ = Model_Training(**param1, X_train = X_train, Y_train = Y_train, X_valid = X_valid, Y_valid= Y_valid, print_epochs = print_epochs,hyper_params=param)\n",
        "        np.random.seed(0)\n",
        "        random.seed(0)\n",
        "        torch.manual_seed(0)\n",
        "        Model_.train()\n",
        "\n",
        "        model_ = Model_.model.eval()\n",
        "            \n",
        "        # Train\n",
        "        Y_pred = model_(X_train.to(device)).argmax(axis=1)\n",
        "        Y = Y_train\n",
        "        train_accuracy = sk.metrics.accuracy_score(Y_pred.to('cpu'),Y.to('cpu') )\n",
        "        train_precision, train_recall, train_fscore, m = sk.metrics.precision_recall_fscore_support(Y_pred.to('cpu'),Y.to('cpu') , average = 'weighted')\n",
        "\n",
        "        # Valid\n",
        "        Y_pred = model_(X_valid.to(device)).argmax(axis=1)\n",
        "        Y = Y_valid\n",
        "        valid_accuracy = sk.metrics.accuracy_score(Y_pred.to('cpu'),Y.to('cpu') )\n",
        "        valid_precision, valid_recall, valid_fscore, m = sk.metrics.precision_recall_fscore_support(Y_pred.to('cpu'),Y.to('cpu') , average = 'weighted')\n",
        "\n",
        "        # Test\n",
        "        Y_pred = model_(X_test.to(device)).argmax(axis=1)\n",
        "        Y = Y_test\n",
        "        test_accuracy = sk.metrics.accuracy_score(Y_pred.to('cpu'),Y.to('cpu') )\n",
        "        test_precision, test_recall, test_fscore, m = sk.metrics.precision_recall_fscore_support(Y_pred.to('cpu'),Y.to('cpu') , average = 'weighted')\n",
        "        pbar.set_description(\"Test Accuracy %s\" % test_accuracy)\n",
        "        \n",
        "        new_row = pd.Series({'hyper_param':param,'train_index':train_index,'valid_index':valid_index,'train_accuracy':train_accuracy,'valid_accuracy':valid_accuracy,'test_accuracy':test_accuracy,'train_fscore':train_fscore,'valid_fscore':valid_fscore,'test_fscore':test_fscore\n",
        "        ,'train_precision':train_precision,'valid_precision':valid_precision,'test_precision':test_precision,'train_recall':train_recall,'valid_recall':valid_recall,'test_recall':test_recall}, name='')\n",
        "        CV_Details = CV_Details.append(new_row)\n",
        "\n",
        "CV_Regularization_Details = CV_Details.sort_values('test_accuracy', ascending=False)\n",
        "dat_hour = datetime.now().strftime(\"%d_%b_%Y_%H:%M\")\n",
        "CV_Regularization_Details.to_csv(G_save + 'CV_Regularization_Details_'+ dat_hour+ '.csv')"
      ]
    },
    {
      "cell_type": "code",
      "execution_count": null,
      "metadata": {
        "colab": {
          "base_uri": "https://localhost:8080/",
          "height": 227
        },
        "id": "Qrgm1Bv1LFGA",
        "outputId": "138136db-9d25-4eae-d7db-d250388d3d21"
      },
      "outputs": [
        {
          "data": {
            "application/vnd.jupyter.widget-view+json": {
              "model_id": "85d7bc82a81a40d3b9fab1e20600c557",
              "version_major": 2,
              "version_minor": 0
            },
            "text/plain": [
              "First CV:   0%|                                                                                               …"
            ]
          },
          "metadata": {},
          "output_type": "display_data"
        },
        {
          "data": {
            "application/vnd.jupyter.widget-view+json": {
              "model_id": "c04a31fbbf7646cd807e195ccce5ceb2",
              "version_major": 2,
              "version_minor": 0
            },
            "text/plain": [
              "Second CV:   0%|                                                                                              …"
            ]
          },
          "metadata": {},
          "output_type": "display_data"
        },
        {
          "data": {
            "application/vnd.jupyter.widget-view+json": {
              "model_id": "23c039afbc344ccd8751c233142d6eb0",
              "version_major": 2,
              "version_minor": 0
            },
            "text/plain": [
              "Second CV:   0%|                                                                                              …"
            ]
          },
          "metadata": {},
          "output_type": "display_data"
        },
        {
          "data": {
            "application/vnd.jupyter.widget-view+json": {
              "model_id": "6c50616baba74806bcfa47f6a248114c",
              "version_major": 2,
              "version_minor": 0
            },
            "text/plain": [
              "Second CV:   0%|                                                                                              …"
            ]
          },
          "metadata": {},
          "output_type": "display_data"
        },
        {
          "data": {
            "application/vnd.jupyter.widget-view+json": {
              "model_id": "e2b15ce7e092418e8ef5018078f1f598",
              "version_major": 2,
              "version_minor": 0
            },
            "text/plain": [
              "Second CV:   0%|                                                                                              …"
            ]
          },
          "metadata": {},
          "output_type": "display_data"
        },
        {
          "data": {
            "application/vnd.jupyter.widget-view+json": {
              "model_id": "10a52f09ecd94e7e97c50a957003a9a1",
              "version_major": 2,
              "version_minor": 0
            },
            "text/plain": [
              "Second CV:   0%|                                                                                              …"
            ]
          },
          "metadata": {},
          "output_type": "display_data"
        },
        {
          "name": "stdout",
          "output_type": "stream",
          "text": [
            "done!\n"
          ]
        }
      ],
      "source": [
        "import time\n",
        "import tqdm\n",
        "\n",
        "for outer in tqdm.tqdm_notebook(range(5), ncols = 1000, desc = \"First CV\", position = 0, leave=True):\n",
        "    for inner in tqdm.tqdm_notebook(range(3), ncols = 1000, desc = \"Second CV\", position = 1, leave=True):\n",
        "        time.sleep(0.5)\n",
        "print(\"done!\")"
      ]
    },
    {
      "cell_type": "code",
      "execution_count": null,
      "metadata": {
        "colab": {
          "base_uri": "https://localhost:8080/",
          "height": 424
        },
        "id": "EDF1epAPRfbg",
        "outputId": "52ae467a-a051-4605-bb60-2682a069f6c5"
      },
      "outputs": [
        {
          "data": {
            "text/html": [
              "\n",
              "  <div id=\"df-ce26a6d4-c42d-4b42-a79f-58c90454ded1\">\n",
              "    <div class=\"colab-df-container\">\n",
              "      <div>\n",
              "<style scoped>\n",
              "    .dataframe tbody tr th:only-of-type {\n",
              "        vertical-align: middle;\n",
              "    }\n",
              "\n",
              "    .dataframe tbody tr th {\n",
              "        vertical-align: top;\n",
              "    }\n",
              "\n",
              "    .dataframe thead th {\n",
              "        text-align: right;\n",
              "    }\n",
              "</style>\n",
              "<table border=\"1\" class=\"dataframe\">\n",
              "  <thead>\n",
              "    <tr style=\"text-align: right;\">\n",
              "      <th></th>\n",
              "      <th>test_accuracy</th>\n",
              "      <th>test_precision</th>\n",
              "      <th>test_fscore</th>\n",
              "    </tr>\n",
              "  </thead>\n",
              "  <tbody>\n",
              "    <tr>\n",
              "      <th></th>\n",
              "      <td>0.674194</td>\n",
              "      <td>0.706111</td>\n",
              "      <td>0.687295</td>\n",
              "    </tr>\n",
              "    <tr>\n",
              "      <th></th>\n",
              "      <td>0.665595</td>\n",
              "      <td>0.700969</td>\n",
              "      <td>0.673947</td>\n",
              "    </tr>\n",
              "    <tr>\n",
              "      <th></th>\n",
              "      <td>0.662379</td>\n",
              "      <td>0.695334</td>\n",
              "      <td>0.671039</td>\n",
              "    </tr>\n",
              "    <tr>\n",
              "      <th></th>\n",
              "      <td>0.659164</td>\n",
              "      <td>0.682044</td>\n",
              "      <td>0.664517</td>\n",
              "    </tr>\n",
              "    <tr>\n",
              "      <th></th>\n",
              "      <td>0.655949</td>\n",
              "      <td>0.679155</td>\n",
              "      <td>0.662436</td>\n",
              "    </tr>\n",
              "    <tr>\n",
              "      <th>...</th>\n",
              "      <td>...</td>\n",
              "      <td>...</td>\n",
              "      <td>...</td>\n",
              "    </tr>\n",
              "    <tr>\n",
              "      <th></th>\n",
              "      <td>0.572347</td>\n",
              "      <td>0.585488</td>\n",
              "      <td>0.573593</td>\n",
              "    </tr>\n",
              "    <tr>\n",
              "      <th></th>\n",
              "      <td>0.572347</td>\n",
              "      <td>0.584676</td>\n",
              "      <td>0.574928</td>\n",
              "    </tr>\n",
              "    <tr>\n",
              "      <th></th>\n",
              "      <td>0.569132</td>\n",
              "      <td>0.584228</td>\n",
              "      <td>0.569890</td>\n",
              "    </tr>\n",
              "    <tr>\n",
              "      <th></th>\n",
              "      <td>0.569132</td>\n",
              "      <td>0.587287</td>\n",
              "      <td>0.567741</td>\n",
              "    </tr>\n",
              "    <tr>\n",
              "      <th></th>\n",
              "      <td>0.562701</td>\n",
              "      <td>0.586011</td>\n",
              "      <td>0.560640</td>\n",
              "    </tr>\n",
              "  </tbody>\n",
              "</table>\n",
              "<p>100 rows × 3 columns</p>\n",
              "</div>\n",
              "      <button class=\"colab-df-convert\" onclick=\"convertToInteractive('df-ce26a6d4-c42d-4b42-a79f-58c90454ded1')\"\n",
              "              title=\"Convert this dataframe to an interactive table.\"\n",
              "              style=\"display:none;\">\n",
              "        \n",
              "  <svg xmlns=\"http://www.w3.org/2000/svg\" height=\"24px\"viewBox=\"0 0 24 24\"\n",
              "       width=\"24px\">\n",
              "    <path d=\"M0 0h24v24H0V0z\" fill=\"none\"/>\n",
              "    <path d=\"M18.56 5.44l.94 2.06.94-2.06 2.06-.94-2.06-.94-.94-2.06-.94 2.06-2.06.94zm-11 1L8.5 8.5l.94-2.06 2.06-.94-2.06-.94L8.5 2.5l-.94 2.06-2.06.94zm10 10l.94 2.06.94-2.06 2.06-.94-2.06-.94-.94-2.06-.94 2.06-2.06.94z\"/><path d=\"M17.41 7.96l-1.37-1.37c-.4-.4-.92-.59-1.43-.59-.52 0-1.04.2-1.43.59L10.3 9.45l-7.72 7.72c-.78.78-.78 2.05 0 2.83L4 21.41c.39.39.9.59 1.41.59.51 0 1.02-.2 1.41-.59l7.78-7.78 2.81-2.81c.8-.78.8-2.07 0-2.86zM5.41 20L4 18.59l7.72-7.72 1.47 1.35L5.41 20z\"/>\n",
              "  </svg>\n",
              "      </button>\n",
              "      \n",
              "  <style>\n",
              "    .colab-df-container {\n",
              "      display:flex;\n",
              "      flex-wrap:wrap;\n",
              "      gap: 12px;\n",
              "    }\n",
              "\n",
              "    .colab-df-convert {\n",
              "      background-color: #E8F0FE;\n",
              "      border: none;\n",
              "      border-radius: 50%;\n",
              "      cursor: pointer;\n",
              "      display: none;\n",
              "      fill: #1967D2;\n",
              "      height: 32px;\n",
              "      padding: 0 0 0 0;\n",
              "      width: 32px;\n",
              "    }\n",
              "\n",
              "    .colab-df-convert:hover {\n",
              "      background-color: #E2EBFA;\n",
              "      box-shadow: 0px 1px 2px rgba(60, 64, 67, 0.3), 0px 1px 3px 1px rgba(60, 64, 67, 0.15);\n",
              "      fill: #174EA6;\n",
              "    }\n",
              "\n",
              "    [theme=dark] .colab-df-convert {\n",
              "      background-color: #3B4455;\n",
              "      fill: #D2E3FC;\n",
              "    }\n",
              "\n",
              "    [theme=dark] .colab-df-convert:hover {\n",
              "      background-color: #434B5C;\n",
              "      box-shadow: 0px 1px 3px 1px rgba(0, 0, 0, 0.15);\n",
              "      filter: drop-shadow(0px 1px 2px rgba(0, 0, 0, 0.3));\n",
              "      fill: #FFFFFF;\n",
              "    }\n",
              "  </style>\n",
              "\n",
              "      <script>\n",
              "        const buttonEl =\n",
              "          document.querySelector('#df-ce26a6d4-c42d-4b42-a79f-58c90454ded1 button.colab-df-convert');\n",
              "        buttonEl.style.display =\n",
              "          google.colab.kernel.accessAllowed ? 'block' : 'none';\n",
              "\n",
              "        async function convertToInteractive(key) {\n",
              "          const element = document.querySelector('#df-ce26a6d4-c42d-4b42-a79f-58c90454ded1');\n",
              "          const dataTable =\n",
              "            await google.colab.kernel.invokeFunction('convertToInteractive',\n",
              "                                                     [key], {});\n",
              "          if (!dataTable) return;\n",
              "\n",
              "          const docLinkHtml = 'Like what you see? Visit the ' +\n",
              "            '<a target=\"_blank\" href=https://colab.research.google.com/notebooks/data_table.ipynb>data table notebook</a>'\n",
              "            + ' to learn more about interactive tables.';\n",
              "          element.innerHTML = '';\n",
              "          dataTable['output_type'] = 'display_data';\n",
              "          await google.colab.output.renderOutput(dataTable, element);\n",
              "          const docLink = document.createElement('div');\n",
              "          docLink.innerHTML = docLinkHtml;\n",
              "          element.appendChild(docLink);\n",
              "        }\n",
              "      </script>\n",
              "    </div>\n",
              "  </div>\n",
              "  "
            ],
            "text/plain": [
              "    test_accuracy  test_precision  test_fscore\n",
              "         0.674194        0.706111     0.687295\n",
              "         0.665595        0.700969     0.673947\n",
              "         0.662379        0.695334     0.671039\n",
              "         0.659164        0.682044     0.664517\n",
              "         0.655949        0.679155     0.662436\n",
              "..            ...             ...          ...\n",
              "         0.572347        0.585488     0.573593\n",
              "         0.572347        0.584676     0.574928\n",
              "         0.569132        0.584228     0.569890\n",
              "         0.569132        0.587287     0.567741\n",
              "         0.562701        0.586011     0.560640\n",
              "\n",
              "[100 rows x 3 columns]"
            ]
          },
          "execution_count": 182,
          "metadata": {},
          "output_type": "execute_result"
        }
      ],
      "source": [
        "test_models"
      ]
    },
    {
      "cell_type": "code",
      "execution_count": null,
      "metadata": {
        "id": "3zKshOw9PaDt"
      },
      "outputs": [],
      "source": [
        "col_test = ['test_accuracy','test_precision','test_fscore']\n",
        "test_models = CV_Regularization_Details[col_test]\n",
        "col_valid = ['valid_accuracy','valid_precision','valid_fscore']\n",
        "valid_models = CV_Regularization_Details[col_valid]\n",
        "train_test = ['train_accuracy','train_precision','train_fscore']\n",
        "train_models = CV_Regularization_Details[train_test]"
      ]
    },
    {
      "cell_type": "code",
      "execution_count": null,
      "metadata": {
        "colab": {
          "base_uri": "https://localhost:8080/",
          "height": 896
        },
        "id": "SYPZ9JOfPYIe",
        "outputId": "290b2f8a-27c0-467a-fe0f-60d18ba7c3c0"
      },
      "outputs": [
        {
          "data": {
            "image/png": "[encoded data removed]",
            "text/plain": [
              "<Figure size 576x288 with 1 Axes>"
            ]
          },
          "metadata": {},
          "output_type": "display_data"
        },
        {
          "data": {
            "image/png": "[encoded data removed]",
            "text/plain": [
              "<Figure size 576x288 with 1 Axes>"
            ]
          },
          "metadata": {},
          "output_type": "display_data"
        },
        {
          "data": {
            "image/png": "[encoded data removed]",
            "text/plain": [
              "<Figure size 576x288 with 1 Axes>"
            ]
          },
          "metadata": {},
          "output_type": "display_data"
        }
      ],
      "source": [
        "plt.subplots(figsize=(8,4))\n",
        "sns.boxplot(data=test_models)\n",
        "plt.title('Test performance of 100 Cross-Validation',fontsize = 18)\n",
        "plt.xlabel(\"Classifiers\", fontsize = 14)\n",
        "plt.ylabel(\"Accuracy\", fontsize = 14)\n",
        "plt.xticks(fontsize=16, rotation=0)\n",
        "plt.show()\n",
        "\n",
        "plt.subplots(figsize=(8,4))\n",
        "sns.boxplot(data=valid_models)\n",
        "plt.title('Valid performance of 100 Cross-Validation',fontsize = 18)\n",
        "plt.xlabel(\"Classifiers\", fontsize = 14)\n",
        "plt.ylabel(\"Accuracy\", fontsize = 14)\n",
        "plt.xticks(fontsize=16, rotation=0)\n",
        "plt.show()\n",
        "\n",
        "plt.subplots(figsize=(8,4))\n",
        "sns.boxplot(data=train_models)\n",
        "plt.title('Train performance of 100 Cross-Validation',fontsize = 18)\n",
        "plt.xlabel(\"Classifiers\", fontsize = 14)\n",
        "plt.ylabel(\"Accuracy\", fontsize = 14)\n",
        "plt.xticks(fontsize=16, rotation=0)\n",
        "plt.show()"
      ]
    },
    {
      "cell_type": "markdown",
      "metadata": {
        "id": "xg-ZJmCpAlDj"
      },
      "source": [
        "# **Save the model**"
      ]
    },
    {
      "cell_type": "code",
      "execution_count": null,
      "metadata": {
        "id": "DM15kY74AlDj"
      },
      "outputs": [],
      "source": [
        "dat_hour = datetime.now().strftime(\"%d_%b_%Y_%H:%M\")\n",
        "pickle.dump(Model_Grid, open(G_save + 'CNN_60x45_Best_Grid_'+dat_hour, 'wb'))\n",
        "pickle.dump(Model_CV, open(G_save + 'CNN_60x45_Best_CV_'+dat_hour, 'wb'))"
      ]
    },
    {
      "cell_type": "markdown",
      "metadata": {
        "id": "EJkLbYB2_w4H"
      },
      "source": [
        "# **Save Grid search-Cross Validation Details**"
      ]
    },
    {
      "cell_type": "code",
      "execution_count": null,
      "metadata": {
        "id": "ZgZ8d28qAlDj"
      },
      "outputs": [],
      "source": [
        "pickle.dump([CNN_Nets, Model_Training], open(G_save + 'CNNs_Network_Training', \"wb\"))"
      ]
    },
    {
      "cell_type": "code",
      "execution_count": null,
      "metadata": {
        "id": "bnwerzvcA_Wu"
      },
      "outputs": [],
      "source": [
        "dat_hour = datetime.now().strftime(\"%d_%b_%Y_%H:%M\")\n",
        "pickle.dump(Grid_Details, open(G_save + 'Grid_Details_'+dat_hour, 'wb'))\n",
        "pickle.dump(CNN_CV_Details, open(G_save + 'CNN_CV_Details_'+dat_hour, 'wb'))\n",
        "\n",
        "Grid_Details.to_csv(G_save + 'Grid_Details_'+dat_hour +'.csv')\n",
        "CNN_CV_Details.to_csv(G_save + 'CNN_CV_Details_'+dat_hour+ '.csv')"
      ]
    },
    {
      "cell_type": "markdown",
      "metadata": {
        "id": "oW6taeF-AlDj"
      },
      "source": [
        ""
      ]
    },
    {
      "cell_type": "code",
      "execution_count": null,
      "metadata": {
        "id": "yfVbVtw1BgO9"
      },
      "outputs": [],
      "source": [
        "  "
      ]
    }
  ],
  "metadata": {
    "accelerator": "GPU",
    "colab": {
      "machine_shape": "hm",
      "name": "CNN_AutoEconder.ipynb",
      "provenance": [],
      "include_colab_link": true
    },
    "gpuClass": "standard",
    "interpreter": {
      "hash": "31f2aee4e71d21fbe5cf8b01ff0e069b9275f58929596ceb00d14d90e3e16cd6"
    },
    "kernelspec": {
      "display_name": "Python 3.8.9 64-bit",
      "language": "python",
      "name": "python3"
    },
    "language_info": {
      "codemirror_mode": {
        "name": "ipython",
        "version": 3
      },
      "file_extension": ".py",
      "mimetype": "text/x-python",
      "name": "python",
      "nbconvert_exporter": "python",
      "pygments_lexer": "ipython3",
      "version": "3.8.9"
    }
  },
  "nbformat": 4,
  "nbformat_minor": 0
}