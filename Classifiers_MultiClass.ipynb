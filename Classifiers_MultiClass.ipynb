{
 "cells": [
  {
   "cell_type": "code",
   "execution_count": 1,
   "metadata": {},
   "outputs": [],
   "source": [
    "G_path = '/Users/sepehrbe/My_Drive/DataSources/SkinCare'\n",
    "import pandas as pd\n",
    "import seaborn as sns\n",
    "from sklearn import *\n",
    "import sklearn as sk\n",
    "from sklearn import *\n",
    "import numpy as np\n",
    "from scipy.stats import chi2_contingency\n",
    "import datetime as dt\n",
    "import pickle\n",
    "import torch\n",
    "import json\n",
    "import random\n",
    "import seaborn as sns\n",
    "import torch.nn as nn\n",
    "import torch.optim as optim\n",
    "import torch.nn.functional as F\n",
    "from MLP_Nets import MLP_Nets\n",
    "\n",
    "from tqdm import tqdm\n",
    "import matplotlib.pyplot as plt\n",
    "from sklearn.model_selection import train_test_split\n",
    "from usefull_functions import *\n",
    "import time\n",
    "from statistics import mean\n",
    "import warnings\n",
    "warnings.filterwarnings('ignore')"
   ]
  },
  {
   "cell_type": "code",
   "execution_count": 2,
   "id": "af0578fa",
   "metadata": {},
   "outputs": [],
   "source": [
    "image_label = 'image_label'  #[image_label, binary_label]\n",
    "\n",
    "# 280x210\n",
    "file = 'CNN_280x210_Ouput_MultiClass'\n",
    "# 280x210 Binary\n",
    "# file = 'CNN_280x210_Ouput_binary' \n",
    "# AuEncoder \n",
    "# file = 'CNN_A_E_Ouput_MultiClass'\n",
    "# file = 'CNN_A_E_Ouput_Binary'\n",
    "# 280x210 & AuEncoder \n",
    "# file = 'CNN_280x210_A_E_Output'\n",
    "data = pd.read_pickle(G_path + '/CNN_Output/' + file)\n",
    "\n",
    "blc_test_list = pickle.load(open(G_path + '/blc_test_meta_list','rb'))\n",
    "# Evaluation_set = pickle.load(open(G_path + '/DataSet_280x210/' + file,'rb'))\n",
    "\n",
    "train_data = data[data.type=='train']\n",
    "valid_data = data[data.type=='valid']\n",
    "test_data = data[data.type=='test']\n",
    "blc_test_data = data.merge(blc_test_list['image_id'], how='inner',on='image_id')\n",
    "\n",
    "\n",
    "train_label = train_data[image_label]\n",
    "train_data = train_data.drop(columns=['image_id','image_label','dx','lesion_id','type','binary_label'])\n",
    "valid_label = valid_data[image_label]\n",
    "valid_data = valid_data.drop(columns=['image_id','image_label','dx','lesion_id','type','binary_label'])\n",
    "test_label = test_data[image_label]\n",
    "test_data = test_data.drop(columns=['image_id','image_label','dx','lesion_id','type','binary_label'])\n",
    "blc_label = blc_test_data[image_label]\n",
    "blc_data = blc_test_data.drop(columns=['image_id','image_label','dx','lesion_id','type','binary_label'])\n",
    "\n",
    "####### Feature Selection #################\n",
    "# features = ['CNN_0', 'CNN_1']\n",
    "# train_data = train_data[features]\n",
    "# valid_data = valid_data[features]\n",
    "# test_data = test_data[features]\n",
    "\n",
    "####### Feature Selection #################\n",
    "# features = ['CNN_0', 'CNN_1', 'CNN_2','CNN_3', 'CNN_4', 'CNN_5', 'CNN_6','age','localization_back','localization_face','localization_lower extremity','dx_type_consensus','dx_type_follow_up','dx_type_histo']\n",
    "# train_data = train_data[features]\n",
    "# valid_data = valid_data[features]\n",
    "# test_data = test_data[features]\n",
    "\n",
    "####### Feature Selection #################\n",
    "# features = ['CNN_0', 'CNN_1', 'CNN_2','CNN_3', 'CNN_4', 'CNN_5', 'CNN_6','age','localization','dx_type']\n",
    "# train_data = train_data[features]\n",
    "# valid_data = valid_data[features]\n",
    "# test_data = test_data[features]\n",
    "\n",
    "train_data_arrays = np.stack(train_data.values)  \n",
    "train_label_arrays = np.stack(train_label.values)\n",
    "train_label_arrays_One = pd.get_dummies(train_label_arrays).values  \n",
    "\n",
    "valid_data_arrays = np.stack(valid_data.values)  \n",
    "valid_label_arrays = np.stack(valid_label.values)  \n",
    "valid_label_arrays_One = pd.get_dummies(valid_label_arrays).values  \n",
    "\n",
    "test_data_arrays = np.stack(test_data.values)  \n",
    "test_label_arrays = np.stack(test_label.values)  \n",
    "test_label_arrays_One = pd.get_dummies(test_label_arrays).values  \n",
    "\n",
    "blc_data_arrays = np.stack(blc_data.values)  \n",
    "blc_label_arrays = np.stack(blc_label.values)  \n",
    "blc_label_arrays_One = pd.get_dummies(blc_label_arrays).values \n",
    "\n",
    "#Numpy Arrays\n",
    "input_data_Array = (train_data_arrays , valid_data_arrays, test_data_arrays , np.concatenate((train_data_arrays,valid_data_arrays )))\n",
    "labels_Array = (train_label_arrays,valid_label_arrays,test_label_arrays, np.concatenate((train_label_arrays,valid_label_arrays)))\n",
    "labels_One_Array = (train_label_arrays_One,valid_label_arrays_One,test_label_arrays_One, np.concatenate((train_label_arrays_One,valid_label_arrays_One)))\n",
    "\n",
    "# Tensors\n",
    "def to_Torch(x):\n",
    "    return torch.tensor(x,dtype= torch.float32)\n",
    "\n",
    "input_data_Tensor = (to_Torch(train_data_arrays),to_Torch(valid_data_arrays)  , to_Torch(test_data_arrays) , to_Torch(np.concatenate((train_data_arrays,valid_data_arrays))))\n",
    "labels_Tensor = (to_Torch(train_label_arrays),to_Torch(valid_label_arrays),to_Torch(test_label_arrays) , to_Torch(np.concatenate((train_label_arrays,valid_label_arrays))) )\n",
    "labels_OneHot_Tensor = (to_Torch(train_label_arrays_One),to_Torch(valid_label_arrays_One),to_Torch(test_label_arrays_One), to_Torch(np.concatenate((train_label_arrays_One,valid_label_arrays_One))))\n",
    "\n",
    "blc_data_Tensor = (to_Torch(blc_data_arrays))"
   ]
  },
  {
   "cell_type": "code",
   "execution_count": 3,
   "metadata": {},
   "outputs": [
    {
     "data": {
      "text/plain": [
       "(array([2, 2, 1, ..., 5, 4, 5], dtype=int8), 0.99732554)"
      ]
     },
     "execution_count": 3,
     "metadata": {},
     "output_type": "execute_result"
    }
   ],
   "source": [
    "train_label_arrays, train_data['CNN_0'].max()"
   ]
  },
  {
   "cell_type": "markdown",
   "metadata": {},
   "source": [
    "# **Random Forrest**"
   ]
  },
  {
   "cell_type": "code",
   "execution_count": 4,
   "metadata": {},
   "outputs": [
    {
     "name": "stdout",
     "output_type": "stream",
     "text": [
      "------- Precision recal %--------█████████████████████████████████████████████████████████████████████████████████] 640/640\n",
      "              precision    recall  f1-score   support\n",
      "\n",
      "           0       0.50      0.65      0.57        23\n",
      "           1       0.55      0.69      0.61        32\n",
      "           2       0.65      0.68      0.67        72\n",
      "           3       0.67      0.50      0.57         8\n",
      "           4       0.54      0.45      0.49        62\n",
      "           5       0.89      0.86      0.88       200\n",
      "           6       1.00      0.90      0.95        10\n",
      "\n",
      "    accuracy                           0.74       407\n",
      "   macro avg       0.69      0.68      0.68       407\n",
      "weighted avg       0.74      0.74      0.74       407\n",
      "\n",
      "Best param:  {'bootstrap': False, 'class_weight': None, 'criterion': 'gini', 'max_depth': 30, 'max_features': 'auto', 'max_leaf_nodes': None, 'n_estimators': 100}\n"
     ]
    }
   ],
   "source": [
    "Model_ = sk.ensemble.RandomForestClassifier(random_state=0, n_jobs=-1)\n",
    "kflods = sk.model_selection.KFold(n_splits=10, shuffle=True)\n",
    "cross_valid = True\n",
    "save_model = False\n",
    "nr_repeat =1\n",
    "\n",
    "X_train = input_data_Array[0]\n",
    "Y_train = labels_Array[0]\n",
    "X_valid = input_data_Array[1]\n",
    "Y_valid = labels_Array[1]\n",
    "X_test = input_data_Array[2]\n",
    "Y_test = labels_Array[2]\n",
    "\n",
    "grid = { \n",
    "    'n_estimators': [100, 200],\n",
    "    'max_features': ['auto', 'log2'],\n",
    "    'max_depth' : [20,30],\n",
    "    'criterion' :['gini', 'entropy'],\n",
    "    'bootstrap': [False],\n",
    "    'class_weight' : [None, 'balanced'],\n",
    "    'max_leaf_nodes' : [5,None],\n",
    "}\n",
    "\n",
    "RF_Model, RF_Details = grid_searc_cross_valid_trainer(Model_, grid, cross_valid, kflods,X_train=X_train , Y_train=Y_train,X_valid=X_valid,Y_valid=Y_valid,X_test=X_test, Y_test=Y_test,nr_repeat=nr_repeat)\n",
    "\n",
    "if save_model:\n",
    "    pickle.dump(RF_Model, open(G_path + '/Saved/Models/Classifiers/' + 'RF_Model' , 'wb'))"
   ]
  },
  {
   "cell_type": "code",
   "execution_count": 5,
   "metadata": {},
   "outputs": [
    {
     "name": "stdout",
     "output_type": "stream",
     "text": [
      "Nr. of Data : \n",
      " 407\n",
      "Accuracy of The Model : \n",
      " 0.7371007371007371\n"
     ]
    },
    {
     "data": {
      "image/png": "[encoded data removed]",
      "text/plain": [
       "<Figure size 432x288 with 1 Axes>"
      ]
     },
     "metadata": {
      "needs_background": "light"
     },
     "output_type": "display_data"
    },
    {
     "data": {
      "text/html": [
       "<style type=\"text/css\">\n",
       "</style>\n",
       "<table id=\"T_66190\">\n",
       "  <thead>\n",
       "    <tr>\n",
       "      <th class=\"blank level0\" >&nbsp;</th>\n",
       "      <th id=\"T_66190_level0_col0\" class=\"col_heading level0 col0\" >weights</th>\n",
       "      <th id=\"T_66190_level0_col1\" class=\"col_heading level0 col1\" >Precision</th>\n",
       "      <th id=\"T_66190_level0_col2\" class=\"col_heading level0 col2\" >Recall_Sensitivity</th>\n",
       "      <th id=\"T_66190_level0_col3\" class=\"col_heading level0 col3\" >Specificity</th>\n",
       "      <th id=\"T_66190_level0_col4\" class=\"col_heading level0 col4\" >f1_score</th>\n",
       "    </tr>\n",
       "  </thead>\n",
       "  <tbody>\n",
       "    <tr>\n",
       "      <th id=\"T_66190_level0_row0\" class=\"row_heading level0 row0\" >0</th>\n",
       "      <td id=\"T_66190_row0_col0\" class=\"data row0 col0\" >5.7%</td>\n",
       "      <td id=\"T_66190_row0_col1\" class=\"data row0 col1\" >50.0%</td>\n",
       "      <td id=\"T_66190_row0_col2\" class=\"data row0 col2\" >65.2%</td>\n",
       "      <td id=\"T_66190_row0_col3\" class=\"data row0 col3\" >96.1%</td>\n",
       "      <td id=\"T_66190_row0_col4\" class=\"data row0 col4\" >56.6%</td>\n",
       "    </tr>\n",
       "    <tr>\n",
       "      <th id=\"T_66190_level0_row1\" class=\"row_heading level0 row1\" >1</th>\n",
       "      <td id=\"T_66190_row1_col0\" class=\"data row1 col0\" >7.9%</td>\n",
       "      <td id=\"T_66190_row1_col1\" class=\"data row1 col1\" >55.0%</td>\n",
       "      <td id=\"T_66190_row1_col2\" class=\"data row1 col2\" >68.8%</td>\n",
       "      <td id=\"T_66190_row1_col3\" class=\"data row1 col3\" >95.2%</td>\n",
       "      <td id=\"T_66190_row1_col4\" class=\"data row1 col4\" >61.1%</td>\n",
       "    </tr>\n",
       "    <tr>\n",
       "      <th id=\"T_66190_level0_row2\" class=\"row_heading level0 row2\" >2</th>\n",
       "      <td id=\"T_66190_row2_col0\" class=\"data row2 col0\" >17.7%</td>\n",
       "      <td id=\"T_66190_row2_col1\" class=\"data row2 col1\" >65.3%</td>\n",
       "      <td id=\"T_66190_row2_col2\" class=\"data row2 col2\" >68.1%</td>\n",
       "      <td id=\"T_66190_row2_col3\" class=\"data row2 col3\" >92.2%</td>\n",
       "      <td id=\"T_66190_row2_col4\" class=\"data row2 col4\" >66.7%</td>\n",
       "    </tr>\n",
       "    <tr>\n",
       "      <th id=\"T_66190_level0_row3\" class=\"row_heading level0 row3\" >3</th>\n",
       "      <td id=\"T_66190_row3_col0\" class=\"data row3 col0\" >2.0%</td>\n",
       "      <td id=\"T_66190_row3_col1\" class=\"data row3 col1\" >66.7%</td>\n",
       "      <td id=\"T_66190_row3_col2\" class=\"data row3 col2\" >50.0%</td>\n",
       "      <td id=\"T_66190_row3_col3\" class=\"data row3 col3\" >99.5%</td>\n",
       "      <td id=\"T_66190_row3_col4\" class=\"data row3 col4\" >57.1%</td>\n",
       "    </tr>\n",
       "    <tr>\n",
       "      <th id=\"T_66190_level0_row4\" class=\"row_heading level0 row4\" >4</th>\n",
       "      <td id=\"T_66190_row4_col0\" class=\"data row4 col0\" >15.2%</td>\n",
       "      <td id=\"T_66190_row4_col1\" class=\"data row4 col1\" >53.8%</td>\n",
       "      <td id=\"T_66190_row4_col2\" class=\"data row4 col2\" >45.2%</td>\n",
       "      <td id=\"T_66190_row4_col3\" class=\"data row4 col3\" >93.0%</td>\n",
       "      <td id=\"T_66190_row4_col4\" class=\"data row4 col4\" >49.1%</td>\n",
       "    </tr>\n",
       "    <tr>\n",
       "      <th id=\"T_66190_level0_row5\" class=\"row_heading level0 row5\" >5</th>\n",
       "      <td id=\"T_66190_row5_col0\" class=\"data row5 col0\" >49.1%</td>\n",
       "      <td id=\"T_66190_row5_col1\" class=\"data row5 col1\" >88.7%</td>\n",
       "      <td id=\"T_66190_row5_col2\" class=\"data row5 col2\" >86.5%</td>\n",
       "      <td id=\"T_66190_row5_col3\" class=\"data row5 col3\" >89.4%</td>\n",
       "      <td id=\"T_66190_row5_col4\" class=\"data row5 col4\" >87.6%</td>\n",
       "    </tr>\n",
       "    <tr>\n",
       "      <th id=\"T_66190_level0_row6\" class=\"row_heading level0 row6\" >6</th>\n",
       "      <td id=\"T_66190_row6_col0\" class=\"data row6 col0\" >2.5%</td>\n",
       "      <td id=\"T_66190_row6_col1\" class=\"data row6 col1\" >100.0%</td>\n",
       "      <td id=\"T_66190_row6_col2\" class=\"data row6 col2\" >90.0%</td>\n",
       "      <td id=\"T_66190_row6_col3\" class=\"data row6 col3\" >100.0%</td>\n",
       "      <td id=\"T_66190_row6_col4\" class=\"data row6 col4\" >94.7%</td>\n",
       "    </tr>\n",
       "    <tr>\n",
       "      <th id=\"T_66190_level0_row7\" class=\"row_heading level0 row7\" >Simple Avg.</th>\n",
       "      <td id=\"T_66190_row7_col0\" class=\"data row7 col0\" >nan%</td>\n",
       "      <td id=\"T_66190_row7_col1\" class=\"data row7 col1\" >68.5%</td>\n",
       "      <td id=\"T_66190_row7_col2\" class=\"data row7 col2\" >67.7%</td>\n",
       "      <td id=\"T_66190_row7_col3\" class=\"data row7 col3\" >95.1%</td>\n",
       "      <td id=\"T_66190_row7_col4\" class=\"data row7 col4\" >67.6%</td>\n",
       "    </tr>\n",
       "    <tr>\n",
       "      <th id=\"T_66190_level0_row8\" class=\"row_heading level0 row8\" >Weighted Avg.</th>\n",
       "      <td id=\"T_66190_row8_col0\" class=\"data row8 col0\" >nan%</td>\n",
       "      <td id=\"T_66190_row8_col1\" class=\"data row8 col1\" >74.3%</td>\n",
       "      <td id=\"T_66190_row8_col2\" class=\"data row8 col2\" >73.7%</td>\n",
       "      <td id=\"T_66190_row8_col3\" class=\"data row8 col3\" >91.7%</td>\n",
       "      <td id=\"T_66190_row8_col4\" class=\"data row8 col4\" >73.8%</td>\n",
       "    </tr>\n",
       "  </tbody>\n",
       "</table>\n"
      ],
      "text/plain": [
       "<pandas.io.formats.style.Styler at 0x1729ffc10>"
      ]
     },
     "execution_count": 5,
     "metadata": {},
     "output_type": "execute_result"
    }
   ],
   "source": [
    "# Model 280x210\n",
    "model_ = RF_Model\n",
    "X = input_data_Array[2]\n",
    "Y = labels_Array[2]\n",
    "Y_pred = model_.predict(X)\n",
    "Y_binary =  label_to_binary(Y)\n",
    "Y_pred_binary =  label_to_binary(Y_pred)\n",
    "results = model_evaluation(Y,Y_pred,'Random Forrest')\n",
    "# results = model_evaluation(Y_binary,Y_pred_binary)\n",
    "results"
   ]
  },
  {
   "cell_type": "markdown",
   "metadata": {},
   "source": [
    "**Cross Validation**"
   ]
  },
  {
   "cell_type": "code",
   "execution_count": 6,
   "metadata": {},
   "outputs": [
    {
     "name": "stdout",
     "output_type": "stream",
     "text": [
      "------- Precision recal %--------█████████████████████████████████████████████████████████████████████████████████] 100/100\n",
      "              precision    recall  f1-score   support\n",
      "\n",
      "           0       0.52      0.70      0.59        23\n",
      "           1       0.53      0.66      0.58        32\n",
      "           2       0.66      0.67      0.66        72\n",
      "           3       0.67      0.50      0.57         8\n",
      "           4       0.52      0.40      0.45        62\n",
      "           5       0.86      0.85      0.86       200\n",
      "           6       0.82      0.90      0.86        10\n",
      "\n",
      "    accuracy                           0.72       407\n",
      "   macro avg       0.65      0.67      0.65       407\n",
      "weighted avg       0.72      0.72      0.72       407\n",
      "\n",
      "Best param:  {'bootstrap': False, 'class_weight': None, 'criterion': 'gini', 'max_depth': 20, 'max_features': 'auto', 'max_leaf_nodes': None, 'n_estimators': 200}\n"
     ]
    }
   ],
   "source": [
    "Model_ = sk.ensemble.RandomForestClassifier(n_jobs=-1)\n",
    "kflods = sk.model_selection.KFold(n_splits=10, shuffle=True)\n",
    "cross_valid = True\n",
    "save_model = True\n",
    "nr_repeat = 10\n",
    "\n",
    "X_train = input_data_Array[0]\n",
    "Y_train = labels_Array[0]\n",
    "X_valid = input_data_Array[1]\n",
    "Y_valid = labels_Array[1]\n",
    "X_test = input_data_Array[2]\n",
    "Y_test = labels_Array[2]\n",
    "\n",
    "grid = { \n",
    "    'n_estimators': [200],\n",
    "    'max_features': ['auto'],\n",
    "    'max_depth' : [20],\n",
    "    'criterion' :['gini'],\n",
    "    'bootstrap': [False],\n",
    "    'class_weight' : [None,],\n",
    "    'max_leaf_nodes' : [None],\n",
    "}\n",
    "\n",
    "RF_Model_CM, RF_Details_CV = grid_searc_cross_valid_trainer(Model_, grid, cross_valid, kflods,X_train=X_train , Y_train=Y_train,X_valid=X_valid,Y_valid=Y_valid,X_test=X_test, Y_test=Y_test,nr_repeat=nr_repeat)\n",
    "\n",
    "if save_model:\n",
    "    pickle.dump(RF_Model_CM, open(G_path + '/Saved/Models/Classifiers/' + 'RF_Model_CV' , 'wb'))\n",
    "    pickle.dump(RF_Details_CV, open(G_path + '/Saved/Cross_Valid_Results/' + 'RF_Model_CV' , 'wb'))\n"
   ]
  },
  {
   "cell_type": "markdown",
   "metadata": {},
   "source": [
    "# **SVM**"
   ]
  },
  {
   "cell_type": "code",
   "execution_count": 7,
   "metadata": {},
   "outputs": [
    {
     "name": "stdout",
     "output_type": "stream",
     "text": [
      "------- Precision recal %--------█████████████████████████████████████████████████████████████████████████████████] 1440/1440\n",
      "              precision    recall  f1-score   support\n",
      "\n",
      "           0       0.55      0.70      0.62        23\n",
      "           1       0.55      0.66      0.60        32\n",
      "           2       0.65      0.69      0.67        72\n",
      "           3       0.67      0.50      0.57         8\n",
      "           4       0.53      0.44      0.48        62\n",
      "           5       0.87      0.85      0.86       200\n",
      "           6       0.82      0.90      0.86        10\n",
      "\n",
      "    accuracy                           0.73       407\n",
      "   macro avg       0.66      0.68      0.66       407\n",
      "weighted avg       0.73      0.73      0.73       407\n",
      "\n",
      "Best param:  {'C': 2, 'class_weight': None, 'decision_function_shape': 'ovo', 'degree': 1, 'gamma': 'scale', 'kernel': 'rbf'}\n"
     ]
    }
   ],
   "source": [
    "Model_ = sk.svm.SVC(random_state=0)\n",
    "kflods = sk.model_selection.KFold(n_splits=10, shuffle=True)\n",
    "cross_valid = True\n",
    "save_model = True\n",
    "nr_repeat = 1\n",
    "\n",
    "X_train = input_data_Array[0]\n",
    "Y_train = labels_Array[0]\n",
    "X_valid = input_data_Array[1]\n",
    "Y_valid = labels_Array[1]\n",
    "X_test = input_data_Array[2]\n",
    "Y_test = labels_Array[2]\n",
    "\n",
    "grid = { \n",
    "    'C' : [2,5,10]\n",
    "    ,'kernel': ['rbf', 'linear'],\n",
    "    'degree' : [1,3,7],\n",
    "    'gamma' :['scale', 'auto'],\n",
    "    'decision_function_shape': ['ovo', 'ovr'],\n",
    "    'class_weight' : [None, 'balanced']\n",
    "}\n",
    "\n",
    "SVM_Model, SVM_Details = grid_searc_cross_valid_trainer(Model_, grid, cross_valid, kflods,X_train=X_train , Y_train=Y_train,X_valid=X_valid,Y_valid=Y_valid,X_test=X_test, Y_test=Y_test,nr_repeat=nr_repeat)\n",
    "\n",
    "if save_model:\n",
    "    pickle.dump(SVM_Model, open(G_path + '/Saved/Models/Classifiers/' + 'SVM_Model' , 'wb'))\n",
    "    "
   ]
  },
  {
   "cell_type": "code",
   "execution_count": 8,
   "metadata": {},
   "outputs": [
    {
     "name": "stderr",
     "output_type": "stream",
     "text": [
      "findfont: Font family ['normal'] not found. Falling back to DejaVu Sans.\n",
      "findfont: Font family ['normal'] not found. Falling back to DejaVu Sans.\n"
     ]
    },
    {
     "name": "stdout",
     "output_type": "stream",
     "text": [
      "Nr. of Data : \n",
      " 407\n",
      "Accuracy of The Model : \n",
      " 0.7297297297297297\n"
     ]
    },
    {
     "data": {
      "image/png": "[encoded data removed]",
      "text/plain": [
       "<Figure size 432x288 with 1 Axes>"
      ]
     },
     "metadata": {
      "needs_background": "light"
     },
     "output_type": "display_data"
    },
    {
     "data": {
      "text/html": [
       "<style type=\"text/css\">\n",
       "</style>\n",
       "<table id=\"T_8deab\">\n",
       "  <thead>\n",
       "    <tr>\n",
       "      <th class=\"blank level0\" >&nbsp;</th>\n",
       "      <th id=\"T_8deab_level0_col0\" class=\"col_heading level0 col0\" >weights</th>\n",
       "      <th id=\"T_8deab_level0_col1\" class=\"col_heading level0 col1\" >Precision</th>\n",
       "      <th id=\"T_8deab_level0_col2\" class=\"col_heading level0 col2\" >Recall_Sensitivity</th>\n",
       "      <th id=\"T_8deab_level0_col3\" class=\"col_heading level0 col3\" >Specificity</th>\n",
       "      <th id=\"T_8deab_level0_col4\" class=\"col_heading level0 col4\" >f1_score</th>\n",
       "    </tr>\n",
       "  </thead>\n",
       "  <tbody>\n",
       "    <tr>\n",
       "      <th id=\"T_8deab_level0_row0\" class=\"row_heading level0 row0\" >0</th>\n",
       "      <td id=\"T_8deab_row0_col0\" class=\"data row0 col0\" >5.7%</td>\n",
       "      <td id=\"T_8deab_row0_col1\" class=\"data row0 col1\" >55.2%</td>\n",
       "      <td id=\"T_8deab_row0_col2\" class=\"data row0 col2\" >69.6%</td>\n",
       "      <td id=\"T_8deab_row0_col3\" class=\"data row0 col3\" >96.6%</td>\n",
       "      <td id=\"T_8deab_row0_col4\" class=\"data row0 col4\" >61.5%</td>\n",
       "    </tr>\n",
       "    <tr>\n",
       "      <th id=\"T_8deab_level0_row1\" class=\"row_heading level0 row1\" >1</th>\n",
       "      <td id=\"T_8deab_row1_col0\" class=\"data row1 col0\" >7.9%</td>\n",
       "      <td id=\"T_8deab_row1_col1\" class=\"data row1 col1\" >55.3%</td>\n",
       "      <td id=\"T_8deab_row1_col2\" class=\"data row1 col2\" >65.6%</td>\n",
       "      <td id=\"T_8deab_row1_col3\" class=\"data row1 col3\" >95.5%</td>\n",
       "      <td id=\"T_8deab_row1_col4\" class=\"data row1 col4\" >60.0%</td>\n",
       "    </tr>\n",
       "    <tr>\n",
       "      <th id=\"T_8deab_level0_row2\" class=\"row_heading level0 row2\" >2</th>\n",
       "      <td id=\"T_8deab_row2_col0\" class=\"data row2 col0\" >17.7%</td>\n",
       "      <td id=\"T_8deab_row2_col1\" class=\"data row2 col1\" >64.9%</td>\n",
       "      <td id=\"T_8deab_row2_col2\" class=\"data row2 col2\" >69.4%</td>\n",
       "      <td id=\"T_8deab_row2_col3\" class=\"data row2 col3\" >91.9%</td>\n",
       "      <td id=\"T_8deab_row2_col4\" class=\"data row2 col4\" >67.1%</td>\n",
       "    </tr>\n",
       "    <tr>\n",
       "      <th id=\"T_8deab_level0_row3\" class=\"row_heading level0 row3\" >3</th>\n",
       "      <td id=\"T_8deab_row3_col0\" class=\"data row3 col0\" >2.0%</td>\n",
       "      <td id=\"T_8deab_row3_col1\" class=\"data row3 col1\" >66.7%</td>\n",
       "      <td id=\"T_8deab_row3_col2\" class=\"data row3 col2\" >50.0%</td>\n",
       "      <td id=\"T_8deab_row3_col3\" class=\"data row3 col3\" >99.5%</td>\n",
       "      <td id=\"T_8deab_row3_col4\" class=\"data row3 col4\" >57.1%</td>\n",
       "    </tr>\n",
       "    <tr>\n",
       "      <th id=\"T_8deab_level0_row4\" class=\"row_heading level0 row4\" >4</th>\n",
       "      <td id=\"T_8deab_row4_col0\" class=\"data row4 col0\" >15.2%</td>\n",
       "      <td id=\"T_8deab_row4_col1\" class=\"data row4 col1\" >52.9%</td>\n",
       "      <td id=\"T_8deab_row4_col2\" class=\"data row4 col2\" >43.5%</td>\n",
       "      <td id=\"T_8deab_row4_col3\" class=\"data row4 col3\" >93.0%</td>\n",
       "      <td id=\"T_8deab_row4_col4\" class=\"data row4 col4\" >47.8%</td>\n",
       "    </tr>\n",
       "    <tr>\n",
       "      <th id=\"T_8deab_level0_row5\" class=\"row_heading level0 row5\" >5</th>\n",
       "      <td id=\"T_8deab_row5_col0\" class=\"data row5 col0\" >49.1%</td>\n",
       "      <td id=\"T_8deab_row5_col1\" class=\"data row5 col1\" >87.2%</td>\n",
       "      <td id=\"T_8deab_row5_col2\" class=\"data row5 col2\" >85.0%</td>\n",
       "      <td id=\"T_8deab_row5_col3\" class=\"data row5 col3\" >87.9%</td>\n",
       "      <td id=\"T_8deab_row5_col4\" class=\"data row5 col4\" >86.1%</td>\n",
       "    </tr>\n",
       "    <tr>\n",
       "      <th id=\"T_8deab_level0_row6\" class=\"row_heading level0 row6\" >6</th>\n",
       "      <td id=\"T_8deab_row6_col0\" class=\"data row6 col0\" >2.5%</td>\n",
       "      <td id=\"T_8deab_row6_col1\" class=\"data row6 col1\" >81.8%</td>\n",
       "      <td id=\"T_8deab_row6_col2\" class=\"data row6 col2\" >90.0%</td>\n",
       "      <td id=\"T_8deab_row6_col3\" class=\"data row6 col3\" >99.5%</td>\n",
       "      <td id=\"T_8deab_row6_col4\" class=\"data row6 col4\" >85.7%</td>\n",
       "    </tr>\n",
       "    <tr>\n",
       "      <th id=\"T_8deab_level0_row7\" class=\"row_heading level0 row7\" >Simple Avg.</th>\n",
       "      <td id=\"T_8deab_row7_col0\" class=\"data row7 col0\" >nan%</td>\n",
       "      <td id=\"T_8deab_row7_col1\" class=\"data row7 col1\" >66.3%</td>\n",
       "      <td id=\"T_8deab_row7_col2\" class=\"data row7 col2\" >67.6%</td>\n",
       "      <td id=\"T_8deab_row7_col3\" class=\"data row7 col3\" >94.9%</td>\n",
       "      <td id=\"T_8deab_row7_col4\" class=\"data row7 col4\" >66.5%</td>\n",
       "    </tr>\n",
       "    <tr>\n",
       "      <th id=\"T_8deab_level0_row8\" class=\"row_heading level0 row8\" >Weighted Avg.</th>\n",
       "      <td id=\"T_8deab_row8_col0\" class=\"data row8 col0\" >nan%</td>\n",
       "      <td id=\"T_8deab_row8_col1\" class=\"data row8 col1\" >73.2%</td>\n",
       "      <td id=\"T_8deab_row8_col2\" class=\"data row8 col2\" >73.0%</td>\n",
       "      <td id=\"T_8deab_row8_col3\" class=\"data row8 col3\" >91.0%</td>\n",
       "      <td id=\"T_8deab_row8_col4\" class=\"data row8 col4\" >72.9%</td>\n",
       "    </tr>\n",
       "  </tbody>\n",
       "</table>\n"
      ],
      "text/plain": [
       "<pandas.io.formats.style.Styler at 0x28f9e3370>"
      ]
     },
     "execution_count": 8,
     "metadata": {},
     "output_type": "execute_result"
    }
   ],
   "source": [
    "# Model 280x210\n",
    "model_ = SVM_Model\n",
    "X = input_data_Array[2]\n",
    "Y = labels_Array[2]\n",
    "Y_pred = model_.predict(X)\n",
    "Y_binary =  label_to_binary(Y)\n",
    "Y_pred_binary =  label_to_binary(Y_pred)\n",
    "results = model_evaluation(Y,Y_pred,'SVM')\n",
    "# results = model_evaluation(Y_binary,Y_pred_binary)\n",
    "results"
   ]
  },
  {
   "cell_type": "markdown",
   "metadata": {},
   "source": [
    "**Cross Validation**"
   ]
  },
  {
   "cell_type": "code",
   "execution_count": 9,
   "metadata": {},
   "outputs": [
    {
     "name": "stdout",
     "output_type": "stream",
     "text": [
      "------- Precision recal %--------█████████████████████████████████████████████████████████████████████████████████] 100/100\n",
      "              precision    recall  f1-score   support\n",
      "\n",
      "           0       0.52      0.70      0.59        23\n",
      "           1       0.56      0.69      0.62        32\n",
      "           2       0.65      0.67      0.66        72\n",
      "           3       0.67      0.50      0.57         8\n",
      "           4       0.53      0.45      0.49        62\n",
      "           5       0.88      0.85      0.87       200\n",
      "           6       0.82      0.90      0.86        10\n",
      "\n",
      "    accuracy                           0.73       407\n",
      "   macro avg       0.66      0.68      0.66       407\n",
      "weighted avg       0.73      0.73      0.73       407\n",
      "\n",
      "Best param:  {'C': 10, 'class_weight': None, 'decision_function_shape': 'ovo', 'degree': 1, 'gamma': 'scale', 'kernel': 'rbf'}\n"
     ]
    }
   ],
   "source": [
    "Model_ = sk.svm.SVC(random_state=0)\n",
    "kflods = sk.model_selection.KFold(n_splits=10, shuffle=True)\n",
    "cross_valid = True\n",
    "save_model = True\n",
    "nr_repeat = 10\n",
    "\n",
    "X_train = input_data_Array[0]\n",
    "Y_train = labels_Array[0]\n",
    "X_valid = input_data_Array[1]\n",
    "Y_valid = labels_Array[1]\n",
    "X_test = input_data_Array[2]\n",
    "Y_test = labels_Array[2]\n",
    "\n",
    "grid = { \n",
    "    'C' : [10]\n",
    "    ,'kernel': ['rbf'],\n",
    "    'degree' : [1],\n",
    "    'gamma' :['scale'],\n",
    "    'decision_function_shape': ['ovo'],\n",
    "    'class_weight' : [None]\n",
    "}\n",
    "\n",
    "SVM_Model_CV, SVM_Details_CV = grid_searc_cross_valid_trainer(Model_, grid, cross_valid, kflods,X_train=X_train , Y_train=Y_train,X_valid=X_valid,Y_valid=Y_valid,X_test=X_test, Y_test=Y_test,nr_repeat=nr_repeat)\n",
    "\n",
    "if save_model:\n",
    "    pickle.dump(SVM_Model_CV, open(G_path + '/Saved/Models/Classifiers/' + 'SVM_Model_CV' , 'wb'))\n",
    "    pickle.dump(SVM_Details_CV, open(G_path + '/Saved/Cross_Valid_Results/' + 'SVM_Model_CV' , 'wb'))"
   ]
  },
  {
   "cell_type": "markdown",
   "metadata": {},
   "source": [
    "# **Guassian NB**"
   ]
  },
  {
   "cell_type": "code",
   "execution_count": 10,
   "metadata": {},
   "outputs": [
    {
     "name": "stdout",
     "output_type": "stream",
     "text": [
      "------- Precision recal %--------█████████████████████████████████████████████████████████████████████████████████] 170/170\n",
      "              precision    recall  f1-score   support\n",
      "\n",
      "           0       0.43      0.52      0.47        23\n",
      "           1       0.49      0.69      0.57        32\n",
      "           2       0.67      0.50      0.57        72\n",
      "           3       0.67      0.50      0.57         8\n",
      "           4       0.41      0.65      0.50        62\n",
      "           5       0.91      0.77      0.83       200\n",
      "           6       1.00      0.80      0.89        10\n",
      "\n",
      "    accuracy                           0.68       407\n",
      "   macro avg       0.65      0.63      0.63       407\n",
      "weighted avg       0.73      0.68      0.69       407\n",
      "\n",
      "Best param:  {'priors': None, 'var_smoothing': 0.3}\n"
     ]
    }
   ],
   "source": [
    "Model_ = sk.naive_bayes.GaussianNB()\n",
    "kflods = sk.model_selection.KFold(n_splits=10, shuffle=True)\n",
    "cross_valid = True\n",
    "save_mode = True\n",
    "nr_repeat = 1\n",
    "\n",
    "X_train = input_data_Array[0]\n",
    "Y_train = labels_Array[0]\n",
    "X_valid = input_data_Array[1]\n",
    "Y_valid = labels_Array[1]\n",
    "X_test = input_data_Array[2]\n",
    "Y_test = labels_Array[2]\n",
    "\n",
    "grid = { \n",
    "    'priors': [None],\n",
    "    'var_smoothing': [0,4e-1,5e-1,3e-1, 1e-3, 1e-4, 1e-5, 1e-6, 1e-7, 1e-8, 1e-9, 1e-10, 1e-11, 1e-12, 1e-13, 1e-14, 1e-15]\n",
    "}\n",
    "\n",
    "GB_Model, GB_Details = grid_searc_cross_valid_trainer(Model_, grid, cross_valid, kflods,X_train=X_train , Y_train=Y_train,X_valid=X_valid,Y_valid=Y_valid,X_test=X_test, Y_test=Y_test,nr_repeat=1)\n",
    "\n",
    "if save_model:\n",
    "    pickle.dump(GB_Model, open(G_path + '/Saved/Models/Classifiers/' + 'GB_Model' , 'wb'))"
   ]
  },
  {
   "cell_type": "code",
   "execution_count": 11,
   "metadata": {},
   "outputs": [
    {
     "name": "stdout",
     "output_type": "stream",
     "text": [
      "Nr. of Data : \n",
      " 407\n",
      "Accuracy of The Model : \n",
      " 0.6756756756756757\n"
     ]
    },
    {
     "data": {
      "image/png": "[encoded data removed]",
      "text/plain": [
       "<Figure size 432x288 with 1 Axes>"
      ]
     },
     "metadata": {
      "needs_background": "light"
     },
     "output_type": "display_data"
    },
    {
     "data": {
      "text/html": [
       "<style type=\"text/css\">\n",
       "</style>\n",
       "<table id=\"T_3f6f6\">\n",
       "  <thead>\n",
       "    <tr>\n",
       "      <th class=\"blank level0\" >&nbsp;</th>\n",
       "      <th id=\"T_3f6f6_level0_col0\" class=\"col_heading level0 col0\" >weights</th>\n",
       "      <th id=\"T_3f6f6_level0_col1\" class=\"col_heading level0 col1\" >Precision</th>\n",
       "      <th id=\"T_3f6f6_level0_col2\" class=\"col_heading level0 col2\" >Recall_Sensitivity</th>\n",
       "      <th id=\"T_3f6f6_level0_col3\" class=\"col_heading level0 col3\" >Specificity</th>\n",
       "      <th id=\"T_3f6f6_level0_col4\" class=\"col_heading level0 col4\" >f1_score</th>\n",
       "    </tr>\n",
       "  </thead>\n",
       "  <tbody>\n",
       "    <tr>\n",
       "      <th id=\"T_3f6f6_level0_row0\" class=\"row_heading level0 row0\" >0</th>\n",
       "      <td id=\"T_3f6f6_row0_col0\" class=\"data row0 col0\" >5.7%</td>\n",
       "      <td id=\"T_3f6f6_row0_col1\" class=\"data row0 col1\" >42.9%</td>\n",
       "      <td id=\"T_3f6f6_row0_col2\" class=\"data row0 col2\" >52.2%</td>\n",
       "      <td id=\"T_3f6f6_row0_col3\" class=\"data row0 col3\" >95.8%</td>\n",
       "      <td id=\"T_3f6f6_row0_col4\" class=\"data row0 col4\" >47.1%</td>\n",
       "    </tr>\n",
       "    <tr>\n",
       "      <th id=\"T_3f6f6_level0_row1\" class=\"row_heading level0 row1\" >1</th>\n",
       "      <td id=\"T_3f6f6_row1_col0\" class=\"data row1 col0\" >7.9%</td>\n",
       "      <td id=\"T_3f6f6_row1_col1\" class=\"data row1 col1\" >48.9%</td>\n",
       "      <td id=\"T_3f6f6_row1_col2\" class=\"data row1 col2\" >68.8%</td>\n",
       "      <td id=\"T_3f6f6_row1_col3\" class=\"data row1 col3\" >93.9%</td>\n",
       "      <td id=\"T_3f6f6_row1_col4\" class=\"data row1 col4\" >57.1%</td>\n",
       "    </tr>\n",
       "    <tr>\n",
       "      <th id=\"T_3f6f6_level0_row2\" class=\"row_heading level0 row2\" >2</th>\n",
       "      <td id=\"T_3f6f6_row2_col0\" class=\"data row2 col0\" >17.7%</td>\n",
       "      <td id=\"T_3f6f6_row2_col1\" class=\"data row2 col1\" >66.7%</td>\n",
       "      <td id=\"T_3f6f6_row2_col2\" class=\"data row2 col2\" >50.0%</td>\n",
       "      <td id=\"T_3f6f6_row2_col3\" class=\"data row2 col3\" >94.6%</td>\n",
       "      <td id=\"T_3f6f6_row2_col4\" class=\"data row2 col4\" >57.1%</td>\n",
       "    </tr>\n",
       "    <tr>\n",
       "      <th id=\"T_3f6f6_level0_row3\" class=\"row_heading level0 row3\" >3</th>\n",
       "      <td id=\"T_3f6f6_row3_col0\" class=\"data row3 col0\" >2.0%</td>\n",
       "      <td id=\"T_3f6f6_row3_col1\" class=\"data row3 col1\" >66.7%</td>\n",
       "      <td id=\"T_3f6f6_row3_col2\" class=\"data row3 col2\" >50.0%</td>\n",
       "      <td id=\"T_3f6f6_row3_col3\" class=\"data row3 col3\" >99.5%</td>\n",
       "      <td id=\"T_3f6f6_row3_col4\" class=\"data row3 col4\" >57.1%</td>\n",
       "    </tr>\n",
       "    <tr>\n",
       "      <th id=\"T_3f6f6_level0_row4\" class=\"row_heading level0 row4\" >4</th>\n",
       "      <td id=\"T_3f6f6_row4_col0\" class=\"data row4 col0\" >15.2%</td>\n",
       "      <td id=\"T_3f6f6_row4_col1\" class=\"data row4 col1\" >40.8%</td>\n",
       "      <td id=\"T_3f6f6_row4_col2\" class=\"data row4 col2\" >64.5%</td>\n",
       "      <td id=\"T_3f6f6_row4_col3\" class=\"data row4 col3\" >83.2%</td>\n",
       "      <td id=\"T_3f6f6_row4_col4\" class=\"data row4 col4\" >50.0%</td>\n",
       "    </tr>\n",
       "    <tr>\n",
       "      <th id=\"T_3f6f6_level0_row5\" class=\"row_heading level0 row5\" >5</th>\n",
       "      <td id=\"T_3f6f6_row5_col0\" class=\"data row5 col0\" >49.1%</td>\n",
       "      <td id=\"T_3f6f6_row5_col1\" class=\"data row5 col1\" >91.1%</td>\n",
       "      <td id=\"T_3f6f6_row5_col2\" class=\"data row5 col2\" >76.5%</td>\n",
       "      <td id=\"T_3f6f6_row5_col3\" class=\"data row5 col3\" >92.8%</td>\n",
       "      <td id=\"T_3f6f6_row5_col4\" class=\"data row5 col4\" >83.2%</td>\n",
       "    </tr>\n",
       "    <tr>\n",
       "      <th id=\"T_3f6f6_level0_row6\" class=\"row_heading level0 row6\" >6</th>\n",
       "      <td id=\"T_3f6f6_row6_col0\" class=\"data row6 col0\" >2.5%</td>\n",
       "      <td id=\"T_3f6f6_row6_col1\" class=\"data row6 col1\" >100.0%</td>\n",
       "      <td id=\"T_3f6f6_row6_col2\" class=\"data row6 col2\" >80.0%</td>\n",
       "      <td id=\"T_3f6f6_row6_col3\" class=\"data row6 col3\" >100.0%</td>\n",
       "      <td id=\"T_3f6f6_row6_col4\" class=\"data row6 col4\" >88.9%</td>\n",
       "    </tr>\n",
       "    <tr>\n",
       "      <th id=\"T_3f6f6_level0_row7\" class=\"row_heading level0 row7\" >Simple Avg.</th>\n",
       "      <td id=\"T_3f6f6_row7_col0\" class=\"data row7 col0\" >nan%</td>\n",
       "      <td id=\"T_3f6f6_row7_col1\" class=\"data row7 col1\" >65.3%</td>\n",
       "      <td id=\"T_3f6f6_row7_col2\" class=\"data row7 col2\" >63.1%</td>\n",
       "      <td id=\"T_3f6f6_row7_col3\" class=\"data row7 col3\" >94.3%</td>\n",
       "      <td id=\"T_3f6f6_row7_col4\" class=\"data row7 col4\" >62.9%</td>\n",
       "    </tr>\n",
       "    <tr>\n",
       "      <th id=\"T_3f6f6_level0_row8\" class=\"row_heading level0 row8\" >Weighted Avg.</th>\n",
       "      <td id=\"T_3f6f6_row8_col0\" class=\"data row8 col0\" >nan%</td>\n",
       "      <td id=\"T_3f6f6_row8_col1\" class=\"data row8 col1\" >72.8%</td>\n",
       "      <td id=\"T_3f6f6_row8_col2\" class=\"data row8 col2\" >67.6%</td>\n",
       "      <td id=\"T_3f6f6_row8_col3\" class=\"data row8 col3\" >92.2%</td>\n",
       "      <td id=\"T_3f6f6_row8_col4\" class=\"data row8 col4\" >69.0%</td>\n",
       "    </tr>\n",
       "  </tbody>\n",
       "</table>\n"
      ],
      "text/plain": [
       "<pandas.io.formats.style.Styler at 0x28f9ca8e0>"
      ]
     },
     "execution_count": 11,
     "metadata": {},
     "output_type": "execute_result"
    }
   ],
   "source": [
    "# Model 280x210\n",
    "model_ = GB_Model\n",
    "X = input_data_Array[2]\n",
    "Y = labels_Array[2]\n",
    "Y_pred = model_.predict(X)\n",
    "Y_binary =  label_to_binary(Y)\n",
    "Y_pred_binary =  label_to_binary(Y_pred)\n",
    "results = model_evaluation(Y,Y_pred,'Gaussian NB')\n",
    "# results = model_evaluation(Y_binary,Y_pred_binary)\n",
    "results"
   ]
  },
  {
   "cell_type": "markdown",
   "metadata": {},
   "source": [
    "**Cross Validation**"
   ]
  },
  {
   "cell_type": "code",
   "execution_count": 12,
   "metadata": {},
   "outputs": [
    {
     "name": "stdout",
     "output_type": "stream",
     "text": [
      "------- Precision recal %--------█████████████████████████████████████████████████████████████████████████████████] 100/100\n",
      "              precision    recall  f1-score   support\n",
      "\n",
      "           0       0.50      0.52      0.51        23\n",
      "           1       0.49      0.69      0.57        32\n",
      "           2       0.66      0.46      0.54        72\n",
      "           3       1.00      0.38      0.55         8\n",
      "           4       0.43      0.52      0.47        62\n",
      "           5       0.81      0.83      0.82       200\n",
      "           6       1.00      0.50      0.67        10\n",
      "\n",
      "    accuracy                           0.67       407\n",
      "   macro avg       0.70      0.56      0.59       407\n",
      "weighted avg       0.69      0.67      0.67       407\n",
      "\n",
      "Best param:  {'priors': None, 'var_smoothing': 0.5}\n"
     ]
    }
   ],
   "source": [
    "Model_ = sk.naive_bayes.GaussianNB()\n",
    "kflods = sk.model_selection.KFold(n_splits=10, shuffle=True)\n",
    "cross_valid = True\n",
    "save_mode = True\n",
    "nr_repeat = 10\n",
    "\n",
    "X_train = input_data_Array[0]\n",
    "Y_train = labels_Array[0]\n",
    "X_valid = input_data_Array[1]\n",
    "Y_valid = labels_Array[1]\n",
    "X_test = input_data_Array[2]\n",
    "Y_test = labels_Array[2]\n",
    "\n",
    "grid = { \n",
    "    'priors': [None],\n",
    "    'var_smoothing': [5e-1]\n",
    "}\n",
    "\n",
    "GB_Model_CV, GB_Details_CV = grid_searc_cross_valid_trainer(Model_, grid, cross_valid, kflods,X_train=X_train , Y_train=Y_train,X_valid=X_valid,Y_valid=Y_valid,X_test=X_test, Y_test=Y_test,nr_repeat=10)\n",
    "\n",
    "if save_model:\n",
    "    pickle.dump(GB_Model_CV, open(G_path + '/Saved/Models/Classifiers/' + 'GB_Model_CV' , 'wb'))\n",
    "    pickle.dump(GB_Details_CV, open(G_path + '/Saved/Cross_Valid_Results/' + 'GB_Model_CV' , 'wb'))"
   ]
  },
  {
   "cell_type": "markdown",
   "metadata": {},
   "source": [
    "# **MLP**"
   ]
  },
  {
   "cell_type": "code",
   "execution_count": 13,
   "metadata": {},
   "outputs": [
    {
     "name": "stdout",
     "output_type": "stream",
     "text": [
      "------- Precision recal %--------█████████████████████████████████████████████████████████████████████████████████] 80/80\n",
      "              precision    recall  f1-score   support\n",
      "\n",
      "           0       0.50      0.70      0.58        23\n",
      "           1       0.57      0.66      0.61        32\n",
      "           2       0.66      0.67      0.66        72\n",
      "           3       0.57      0.50      0.53         8\n",
      "           4       0.56      0.50      0.53        62\n",
      "           5       0.90      0.86      0.88       200\n",
      "           6       0.90      0.90      0.90        10\n",
      "\n",
      "    accuracy                           0.74       407\n",
      "   macro avg       0.67      0.68      0.67       407\n",
      "weighted avg       0.75      0.74      0.74       407\n",
      "\n",
      "Best param:  {'activation': 'relu', 'alpha': 0.0001, 'hidden_layer_sizes': (40, 60, 30), 'learning_rate': 'adaptive', 'learning_rate_init': 0.01, 'random_state': 0, 'solver': 'sgd'}\n"
     ]
    }
   ],
   "source": [
    "Model_ = sk.neural_network.MLPClassifier()\n",
    "kflods = sk.model_selection.KFold(n_splits=10, shuffle=True)\n",
    "cross_valid = True\n",
    "save_model = True\n",
    "nr_repeat = 1\n",
    "\n",
    "X_train = input_data_Array[0]\n",
    "Y_train = labels_Array[0]\n",
    "X_valid = input_data_Array[1]\n",
    "Y_valid = labels_Array[1]\n",
    "X_test = input_data_Array[2]\n",
    "Y_test = labels_Array[2]\n",
    "\n",
    "grid = {\n",
    "    'hidden_layer_sizes': [(50,60,50),(40,60,30)],\n",
    "    'random_state':[0],\n",
    "    'activation': [ 'relu'],\n",
    "    'solver': ['sgd',],\n",
    "    'alpha': [0.0001, 0.05],\n",
    "    'learning_rate': ['adaptive'],\n",
    "    'learning_rate_init' : 10.00 ** -np.arange(2, 4)\n",
    "}\n",
    "\n",
    "MLP_Model, MLP_Details = grid_searc_cross_valid_trainer(Model_, grid, cross_valid, kflods,X_train=X_train , Y_train=Y_train,X_valid=X_valid,Y_valid=Y_valid,X_test=X_test, Y_test=Y_test,nr_repeat=nr_repeat)\n",
    "if save_model:\n",
    "    pickle.dump(MLP_Model, open(G_path + '/Saved/Models/Classifiers/' + 'MLP_Model' , 'wb'))\n",
    "    "
   ]
  },
  {
   "cell_type": "code",
   "execution_count": 14,
   "metadata": {},
   "outputs": [
    {
     "name": "stdout",
     "output_type": "stream",
     "text": [
      "Nr. of Data : \n",
      " 407\n",
      "Accuracy of The Model : \n",
      " 0.742014742014742\n"
     ]
    },
    {
     "data": {
      "image/png": "[encoded data removed]",
      "text/plain": [
       "<Figure size 432x288 with 1 Axes>"
      ]
     },
     "metadata": {
      "needs_background": "light"
     },
     "output_type": "display_data"
    },
    {
     "data": {
      "text/html": [
       "<style type=\"text/css\">\n",
       "</style>\n",
       "<table id=\"T_f49f9\">\n",
       "  <thead>\n",
       "    <tr>\n",
       "      <th class=\"blank level0\" >&nbsp;</th>\n",
       "      <th id=\"T_f49f9_level0_col0\" class=\"col_heading level0 col0\" >weights</th>\n",
       "      <th id=\"T_f49f9_level0_col1\" class=\"col_heading level0 col1\" >Precision</th>\n",
       "      <th id=\"T_f49f9_level0_col2\" class=\"col_heading level0 col2\" >Recall_Sensitivity</th>\n",
       "      <th id=\"T_f49f9_level0_col3\" class=\"col_heading level0 col3\" >Specificity</th>\n",
       "      <th id=\"T_f49f9_level0_col4\" class=\"col_heading level0 col4\" >f1_score</th>\n",
       "    </tr>\n",
       "  </thead>\n",
       "  <tbody>\n",
       "    <tr>\n",
       "      <th id=\"T_f49f9_level0_row0\" class=\"row_heading level0 row0\" >0</th>\n",
       "      <td id=\"T_f49f9_row0_col0\" class=\"data row0 col0\" >5.7%</td>\n",
       "      <td id=\"T_f49f9_row0_col1\" class=\"data row0 col1\" >50.0%</td>\n",
       "      <td id=\"T_f49f9_row0_col2\" class=\"data row0 col2\" >69.6%</td>\n",
       "      <td id=\"T_f49f9_row0_col3\" class=\"data row0 col3\" >95.8%</td>\n",
       "      <td id=\"T_f49f9_row0_col4\" class=\"data row0 col4\" >58.2%</td>\n",
       "    </tr>\n",
       "    <tr>\n",
       "      <th id=\"T_f49f9_level0_row1\" class=\"row_heading level0 row1\" >1</th>\n",
       "      <td id=\"T_f49f9_row1_col0\" class=\"data row1 col0\" >7.9%</td>\n",
       "      <td id=\"T_f49f9_row1_col1\" class=\"data row1 col1\" >56.8%</td>\n",
       "      <td id=\"T_f49f9_row1_col2\" class=\"data row1 col2\" >65.6%</td>\n",
       "      <td id=\"T_f49f9_row1_col3\" class=\"data row1 col3\" >95.7%</td>\n",
       "      <td id=\"T_f49f9_row1_col4\" class=\"data row1 col4\" >60.9%</td>\n",
       "    </tr>\n",
       "    <tr>\n",
       "      <th id=\"T_f49f9_level0_row2\" class=\"row_heading level0 row2\" >2</th>\n",
       "      <td id=\"T_f49f9_row2_col0\" class=\"data row2 col0\" >17.7%</td>\n",
       "      <td id=\"T_f49f9_row2_col1\" class=\"data row2 col1\" >65.8%</td>\n",
       "      <td id=\"T_f49f9_row2_col2\" class=\"data row2 col2\" >66.7%</td>\n",
       "      <td id=\"T_f49f9_row2_col3\" class=\"data row2 col3\" >92.5%</td>\n",
       "      <td id=\"T_f49f9_row2_col4\" class=\"data row2 col4\" >66.2%</td>\n",
       "    </tr>\n",
       "    <tr>\n",
       "      <th id=\"T_f49f9_level0_row3\" class=\"row_heading level0 row3\" >3</th>\n",
       "      <td id=\"T_f49f9_row3_col0\" class=\"data row3 col0\" >2.0%</td>\n",
       "      <td id=\"T_f49f9_row3_col1\" class=\"data row3 col1\" >57.1%</td>\n",
       "      <td id=\"T_f49f9_row3_col2\" class=\"data row3 col2\" >50.0%</td>\n",
       "      <td id=\"T_f49f9_row3_col3\" class=\"data row3 col3\" >99.2%</td>\n",
       "      <td id=\"T_f49f9_row3_col4\" class=\"data row3 col4\" >53.3%</td>\n",
       "    </tr>\n",
       "    <tr>\n",
       "      <th id=\"T_f49f9_level0_row4\" class=\"row_heading level0 row4\" >4</th>\n",
       "      <td id=\"T_f49f9_row4_col0\" class=\"data row4 col0\" >15.2%</td>\n",
       "      <td id=\"T_f49f9_row4_col1\" class=\"data row4 col1\" >56.4%</td>\n",
       "      <td id=\"T_f49f9_row4_col2\" class=\"data row4 col2\" >50.0%</td>\n",
       "      <td id=\"T_f49f9_row4_col3\" class=\"data row4 col3\" >93.0%</td>\n",
       "      <td id=\"T_f49f9_row4_col4\" class=\"data row4 col4\" >53.0%</td>\n",
       "    </tr>\n",
       "    <tr>\n",
       "      <th id=\"T_f49f9_level0_row5\" class=\"row_heading level0 row5\" >5</th>\n",
       "      <td id=\"T_f49f9_row5_col0\" class=\"data row5 col0\" >49.1%</td>\n",
       "      <td id=\"T_f49f9_row5_col1\" class=\"data row5 col1\" >89.6%</td>\n",
       "      <td id=\"T_f49f9_row5_col2\" class=\"data row5 col2\" >86.5%</td>\n",
       "      <td id=\"T_f49f9_row5_col3\" class=\"data row5 col3\" >90.3%</td>\n",
       "      <td id=\"T_f49f9_row5_col4\" class=\"data row5 col4\" >88.0%</td>\n",
       "    </tr>\n",
       "    <tr>\n",
       "      <th id=\"T_f49f9_level0_row6\" class=\"row_heading level0 row6\" >6</th>\n",
       "      <td id=\"T_f49f9_row6_col0\" class=\"data row6 col0\" >2.5%</td>\n",
       "      <td id=\"T_f49f9_row6_col1\" class=\"data row6 col1\" >90.0%</td>\n",
       "      <td id=\"T_f49f9_row6_col2\" class=\"data row6 col2\" >90.0%</td>\n",
       "      <td id=\"T_f49f9_row6_col3\" class=\"data row6 col3\" >99.7%</td>\n",
       "      <td id=\"T_f49f9_row6_col4\" class=\"data row6 col4\" >90.0%</td>\n",
       "    </tr>\n",
       "    <tr>\n",
       "      <th id=\"T_f49f9_level0_row7\" class=\"row_heading level0 row7\" >Simple Avg.</th>\n",
       "      <td id=\"T_f49f9_row7_col0\" class=\"data row7 col0\" >nan%</td>\n",
       "      <td id=\"T_f49f9_row7_col1\" class=\"data row7 col1\" >66.5%</td>\n",
       "      <td id=\"T_f49f9_row7_col2\" class=\"data row7 col2\" >68.3%</td>\n",
       "      <td id=\"T_f49f9_row7_col3\" class=\"data row7 col3\" >95.2%</td>\n",
       "      <td id=\"T_f49f9_row7_col4\" class=\"data row7 col4\" >67.1%</td>\n",
       "    </tr>\n",
       "    <tr>\n",
       "      <th id=\"T_f49f9_level0_row8\" class=\"row_heading level0 row8\" >Weighted Avg.</th>\n",
       "      <td id=\"T_f49f9_row8_col0\" class=\"data row8 col0\" >nan%</td>\n",
       "      <td id=\"T_f49f9_row8_col1\" class=\"data row8 col1\" >74.9%</td>\n",
       "      <td id=\"T_f49f9_row8_col2\" class=\"data row8 col2\" >74.2%</td>\n",
       "      <td id=\"T_f49f9_row8_col3\" class=\"data row8 col3\" >92.3%</td>\n",
       "      <td id=\"T_f49f9_row8_col4\" class=\"data row8 col4\" >74.4%</td>\n",
       "    </tr>\n",
       "  </tbody>\n",
       "</table>\n"
      ],
      "text/plain": [
       "<pandas.io.formats.style.Styler at 0x28fbd5d00>"
      ]
     },
     "execution_count": 14,
     "metadata": {},
     "output_type": "execute_result"
    }
   ],
   "source": [
    "# Model 280x210\n",
    "model_ = MLP_Model\n",
    "X = input_data_Array[2]\n",
    "Y = labels_Array[2]\n",
    "Y_pred = model_.predict(X)\n",
    "Y_binary =  label_to_binary(Y)\n",
    "Y_pred_binary =  label_to_binary(Y_pred)\n",
    "results = model_evaluation(Y,Y_pred,'MLP')\n",
    "# results = model_evaluation(Y_binary,Y_pred_binary)\n",
    "results"
   ]
  },
  {
   "cell_type": "markdown",
   "metadata": {},
   "source": [
    "**Cross Validation**"
   ]
  },
  {
   "cell_type": "code",
   "execution_count": 15,
   "metadata": {},
   "outputs": [
    {
     "name": "stdout",
     "output_type": "stream",
     "text": [
      "------- Precision recal %--------█████████████████████████████████████████████████████████████████████████████████] 100/100\n",
      "              precision    recall  f1-score   support\n",
      "\n",
      "           0       0.53      0.70      0.60        23\n",
      "           1       0.52      0.69      0.59        32\n",
      "           2       0.69      0.62      0.66        72\n",
      "           3       0.67      0.50      0.57         8\n",
      "           4       0.51      0.45      0.48        62\n",
      "           5       0.87      0.86      0.87       200\n",
      "           6       0.90      0.90      0.90        10\n",
      "\n",
      "    accuracy                           0.73       407\n",
      "   macro avg       0.67      0.67      0.67       407\n",
      "weighted avg       0.73      0.73      0.73       407\n",
      "\n",
      "Best param:  {'activation': 'relu', 'alpha': 0.0001, 'hidden_layer_sizes': (50, 60, 50), 'learning_rate': 'adaptive', 'learning_rate_init': 0.01, 'random_state': 0, 'solver': 'sgd'}\n"
     ]
    }
   ],
   "source": [
    "Model_ = sk.neural_network.MLPClassifier()\n",
    "kflods = sk.model_selection.KFold(n_splits=10, shuffle=True)\n",
    "cross_valid = True\n",
    "save_model = True\n",
    "nr_repeat = 10\n",
    "\n",
    "X_train = input_data_Array[0]\n",
    "Y_train = labels_Array[0]\n",
    "X_valid = input_data_Array[1]\n",
    "Y_valid = labels_Array[1]\n",
    "X_test = input_data_Array[2]\n",
    "Y_test = labels_Array[2]\n",
    "\n",
    "grid = {\n",
    "    'hidden_layer_sizes': [(50,60,50)],\n",
    "    'random_state':[0],\n",
    "    'activation': [ 'relu'],\n",
    "    'solver': ['sgd',],\n",
    "    'alpha': [0.0001],\n",
    "    'learning_rate': ['adaptive'],\n",
    "    'learning_rate_init' : [1e-2]\n",
    "}\n",
    "\n",
    "MLP_Model_CV, MLP_Details_CV = grid_searc_cross_valid_trainer(Model_, grid, cross_valid, kflods,X_train=X_train , Y_train=Y_train,X_valid=X_valid,Y_valid=Y_valid,X_test=X_test, Y_test=Y_test,nr_repeat=nr_repeat)\n",
    "if save_model:\n",
    "    pickle.dump(MLP_Model_CV, open(G_path + '/Saved/Models/Classifiers/' + 'MLP_Model_CV' , 'wb'))\n",
    "    pickle.dump(MLP_Details_CV, open(G_path + '/Saved/Cross_Valid_Results/' + 'MLP_Model_CV' , 'wb'))"
   ]
  },
  {
   "cell_type": "markdown",
   "metadata": {},
   "source": [
    "# **KNN**"
   ]
  },
  {
   "cell_type": "code",
   "execution_count": 16,
   "metadata": {},
   "outputs": [
    {
     "name": "stdout",
     "output_type": "stream",
     "text": [
      "------- Precision recal %--------█████████████████████████████████████████████████████████████████████████████████] 1440/1440\n",
      "              precision    recall  f1-score   support\n",
      "\n",
      "           0       0.38      0.48      0.42        23\n",
      "           1       0.55      0.66      0.60        32\n",
      "           2       0.67      0.71      0.69        72\n",
      "           3       0.56      0.62      0.59         8\n",
      "           4       0.50      0.50      0.50        62\n",
      "           5       0.92      0.86      0.89       200\n",
      "           6       1.00      0.70      0.82        10\n",
      "\n",
      "    accuracy                           0.73       407\n",
      "   macro avg       0.65      0.65      0.65       407\n",
      "weighted avg       0.75      0.73      0.74       407\n",
      "\n",
      "Best param:  {'algorithm': 'brute', 'leaf_size': 25, 'n_neighbors': 8, 'p': 1, 'weights': 'uniform'}\n"
     ]
    }
   ],
   "source": [
    "Model_ = neighbors.KNeighborsClassifier(n_jobs=-1)\n",
    "kflods = sk.model_selection.KFold(n_splits=10, shuffle=True)\n",
    "cross_valid = True\n",
    "save_model = True\n",
    "nr_repeat = 1\n",
    "\n",
    "X_train = input_data_Array[0]\n",
    "Y_train = labels_Array[0]\n",
    "X_valid = input_data_Array[1]\n",
    "Y_valid = labels_Array[1]\n",
    "X_test = input_data_Array[2]\n",
    "Y_test = labels_Array[2]\n",
    "\n",
    "grid = { \n",
    "    'n_neighbors': [7,8,12],\n",
    "    'weights': ['uniform', 'distance'],\n",
    "    'algorithm': ['auto','ball_tree','kd_tree','brute'],\n",
    "    'leaf_size' : [20,25],\n",
    "    'p' : [1,2,5]\n",
    "}\n",
    "\n",
    "KNN_Model, KNN_Details = grid_searc_cross_valid_trainer(Model_, grid, cross_valid, kflods,X_train=X_train , Y_train=Y_train,X_valid=X_valid,Y_valid=Y_valid,X_test=X_test, Y_test=Y_test,nr_repeat=nr_repeat)\n",
    "\n",
    "if save_model:\n",
    "    pickle.dump(KNN_Model, open(G_path + '/Saved/Models/Classifiers/' + 'KNN_Model' , 'wb'))"
   ]
  },
  {
   "cell_type": "code",
   "execution_count": 17,
   "metadata": {},
   "outputs": [
    {
     "name": "stdout",
     "output_type": "stream",
     "text": [
      "Nr. of Data : \n",
      " 407\n",
      "Accuracy of The Model : \n",
      " 0.7321867321867321\n"
     ]
    },
    {
     "data": {
      "image/png": "[encoded data removed]",
      "text/plain": [
       "<Figure size 432x288 with 1 Axes>"
      ]
     },
     "metadata": {
      "needs_background": "light"
     },
     "output_type": "display_data"
    },
    {
     "data": {
      "text/html": [
       "<style type=\"text/css\">\n",
       "</style>\n",
       "<table id=\"T_687ac\">\n",
       "  <thead>\n",
       "    <tr>\n",
       "      <th class=\"blank level0\" >&nbsp;</th>\n",
       "      <th id=\"T_687ac_level0_col0\" class=\"col_heading level0 col0\" >weights</th>\n",
       "      <th id=\"T_687ac_level0_col1\" class=\"col_heading level0 col1\" >Precision</th>\n",
       "      <th id=\"T_687ac_level0_col2\" class=\"col_heading level0 col2\" >Recall_Sensitivity</th>\n",
       "      <th id=\"T_687ac_level0_col3\" class=\"col_heading level0 col3\" >Specificity</th>\n",
       "      <th id=\"T_687ac_level0_col4\" class=\"col_heading level0 col4\" >f1_score</th>\n",
       "    </tr>\n",
       "  </thead>\n",
       "  <tbody>\n",
       "    <tr>\n",
       "      <th id=\"T_687ac_level0_row0\" class=\"row_heading level0 row0\" >0</th>\n",
       "      <td id=\"T_687ac_row0_col0\" class=\"data row0 col0\" >5.7%</td>\n",
       "      <td id=\"T_687ac_row0_col1\" class=\"data row0 col1\" >37.9%</td>\n",
       "      <td id=\"T_687ac_row0_col2\" class=\"data row0 col2\" >47.8%</td>\n",
       "      <td id=\"T_687ac_row0_col3\" class=\"data row0 col3\" >95.3%</td>\n",
       "      <td id=\"T_687ac_row0_col4\" class=\"data row0 col4\" >42.3%</td>\n",
       "    </tr>\n",
       "    <tr>\n",
       "      <th id=\"T_687ac_level0_row1\" class=\"row_heading level0 row1\" >1</th>\n",
       "      <td id=\"T_687ac_row1_col0\" class=\"data row1 col0\" >7.9%</td>\n",
       "      <td id=\"T_687ac_row1_col1\" class=\"data row1 col1\" >55.3%</td>\n",
       "      <td id=\"T_687ac_row1_col2\" class=\"data row1 col2\" >65.6%</td>\n",
       "      <td id=\"T_687ac_row1_col3\" class=\"data row1 col3\" >95.5%</td>\n",
       "      <td id=\"T_687ac_row1_col4\" class=\"data row1 col4\" >60.0%</td>\n",
       "    </tr>\n",
       "    <tr>\n",
       "      <th id=\"T_687ac_level0_row2\" class=\"row_heading level0 row2\" >2</th>\n",
       "      <td id=\"T_687ac_row2_col0\" class=\"data row2 col0\" >17.7%</td>\n",
       "      <td id=\"T_687ac_row2_col1\" class=\"data row2 col1\" >67.1%</td>\n",
       "      <td id=\"T_687ac_row2_col2\" class=\"data row2 col2\" >70.8%</td>\n",
       "      <td id=\"T_687ac_row2_col3\" class=\"data row2 col3\" >92.5%</td>\n",
       "      <td id=\"T_687ac_row2_col4\" class=\"data row2 col4\" >68.9%</td>\n",
       "    </tr>\n",
       "    <tr>\n",
       "      <th id=\"T_687ac_level0_row3\" class=\"row_heading level0 row3\" >3</th>\n",
       "      <td id=\"T_687ac_row3_col0\" class=\"data row3 col0\" >2.0%</td>\n",
       "      <td id=\"T_687ac_row3_col1\" class=\"data row3 col1\" >55.6%</td>\n",
       "      <td id=\"T_687ac_row3_col2\" class=\"data row3 col2\" >62.5%</td>\n",
       "      <td id=\"T_687ac_row3_col3\" class=\"data row3 col3\" >99.0%</td>\n",
       "      <td id=\"T_687ac_row3_col4\" class=\"data row3 col4\" >58.8%</td>\n",
       "    </tr>\n",
       "    <tr>\n",
       "      <th id=\"T_687ac_level0_row4\" class=\"row_heading level0 row4\" >4</th>\n",
       "      <td id=\"T_687ac_row4_col0\" class=\"data row4 col0\" >15.2%</td>\n",
       "      <td id=\"T_687ac_row4_col1\" class=\"data row4 col1\" >50.0%</td>\n",
       "      <td id=\"T_687ac_row4_col2\" class=\"data row4 col2\" >50.0%</td>\n",
       "      <td id=\"T_687ac_row4_col3\" class=\"data row4 col3\" >91.0%</td>\n",
       "      <td id=\"T_687ac_row4_col4\" class=\"data row4 col4\" >50.0%</td>\n",
       "    </tr>\n",
       "    <tr>\n",
       "      <th id=\"T_687ac_level0_row5\" class=\"row_heading level0 row5\" >5</th>\n",
       "      <td id=\"T_687ac_row5_col0\" class=\"data row5 col0\" >49.1%</td>\n",
       "      <td id=\"T_687ac_row5_col1\" class=\"data row5 col1\" >92.5%</td>\n",
       "      <td id=\"T_687ac_row5_col2\" class=\"data row5 col2\" >86.0%</td>\n",
       "      <td id=\"T_687ac_row5_col3\" class=\"data row5 col3\" >93.2%</td>\n",
       "      <td id=\"T_687ac_row5_col4\" class=\"data row5 col4\" >89.1%</td>\n",
       "    </tr>\n",
       "    <tr>\n",
       "      <th id=\"T_687ac_level0_row6\" class=\"row_heading level0 row6\" >6</th>\n",
       "      <td id=\"T_687ac_row6_col0\" class=\"data row6 col0\" >2.5%</td>\n",
       "      <td id=\"T_687ac_row6_col1\" class=\"data row6 col1\" >100.0%</td>\n",
       "      <td id=\"T_687ac_row6_col2\" class=\"data row6 col2\" >70.0%</td>\n",
       "      <td id=\"T_687ac_row6_col3\" class=\"data row6 col3\" >100.0%</td>\n",
       "      <td id=\"T_687ac_row6_col4\" class=\"data row6 col4\" >82.4%</td>\n",
       "    </tr>\n",
       "    <tr>\n",
       "      <th id=\"T_687ac_level0_row7\" class=\"row_heading level0 row7\" >Simple Avg.</th>\n",
       "      <td id=\"T_687ac_row7_col0\" class=\"data row7 col0\" >nan%</td>\n",
       "      <td id=\"T_687ac_row7_col1\" class=\"data row7 col1\" >65.5%</td>\n",
       "      <td id=\"T_687ac_row7_col2\" class=\"data row7 col2\" >64.7%</td>\n",
       "      <td id=\"T_687ac_row7_col3\" class=\"data row7 col3\" >95.2%</td>\n",
       "      <td id=\"T_687ac_row7_col4\" class=\"data row7 col4\" >64.5%</td>\n",
       "    </tr>\n",
       "    <tr>\n",
       "      <th id=\"T_687ac_level0_row8\" class=\"row_heading level0 row8\" >Weighted Avg.</th>\n",
       "      <td id=\"T_687ac_row8_col0\" class=\"data row8 col0\" >nan%</td>\n",
       "      <td id=\"T_687ac_row8_col1\" class=\"data row8 col1\" >75.0%</td>\n",
       "      <td id=\"T_687ac_row8_col2\" class=\"data row8 col2\" >73.2%</td>\n",
       "      <td id=\"T_687ac_row8_col3\" class=\"data row8 col3\" >93.3%</td>\n",
       "      <td id=\"T_687ac_row8_col4\" class=\"data row8 col4\" >73.9%</td>\n",
       "    </tr>\n",
       "  </tbody>\n",
       "</table>\n"
      ],
      "text/plain": [
       "<pandas.io.formats.style.Styler at 0x1729b70d0>"
      ]
     },
     "execution_count": 17,
     "metadata": {},
     "output_type": "execute_result"
    }
   ],
   "source": [
    "# Model 280x210\n",
    "model_ = KNN_Model\n",
    "X = input_data_Array[2]\n",
    "Y = labels_Array[2]\n",
    "# X = blc_data_arrays\n",
    "# Y = blc_label_arrays\n",
    "Y_pred = model_.predict(X)\n",
    "Y_binary =  label_to_binary(Y)\n",
    "Y_pred_binary =  label_to_binary(Y_pred)\n",
    "results = model_evaluation(Y,Y_pred,'KNN')\n",
    "# results = model_evaluation(Y_binary,Y_pred_binary)\n",
    "results"
   ]
  },
  {
   "cell_type": "markdown",
   "metadata": {},
   "source": [
    "**Cross Validation**"
   ]
  },
  {
   "cell_type": "code",
   "execution_count": 18,
   "metadata": {},
   "outputs": [
    {
     "name": "stdout",
     "output_type": "stream",
     "text": [
      "------- Precision recal %--------█████████████████████████████████████████████████████████████████████████████████] 100/100\n",
      "              precision    recall  f1-score   support\n",
      "\n",
      "           0       0.38      0.52      0.44        23\n",
      "           1       0.62      0.62      0.62        32\n",
      "           2       0.67      0.72      0.69        72\n",
      "           3       0.62      0.62      0.62         8\n",
      "           4       0.49      0.45      0.47        62\n",
      "           5       0.89      0.85      0.87       200\n",
      "           6       1.00      0.90      0.95        10\n",
      "\n",
      "    accuracy                           0.73       407\n",
      "   macro avg       0.67      0.67      0.67       407\n",
      "weighted avg       0.74      0.73      0.73       407\n",
      "\n",
      "Best param:  {'algorithm': 'auto', 'leaf_size': 25, 'n_neighbors': 8, 'p': 2, 'weights': 'distance'}\n"
     ]
    }
   ],
   "source": [
    "Model_ = neighbors.KNeighborsClassifier(n_jobs=-1)\n",
    "kflods = sk.model_selection.KFold(n_splits=10, shuffle=True)\n",
    "cross_valid = True\n",
    "save_model = True\n",
    "nr_repeat = 10\n",
    "\n",
    "X_train = input_data_Array[0]\n",
    "Y_train = labels_Array[0]\n",
    "X_valid = input_data_Array[1]\n",
    "Y_valid = labels_Array[1]\n",
    "X_test = input_data_Array[2]\n",
    "Y_test = labels_Array[2]\n",
    "\n",
    "grid = { \n",
    "    'n_neighbors': [8],\n",
    "    'weights': ['distance'],\n",
    "    'algorithm': ['auto'],\n",
    "    'leaf_size' : [25],\n",
    "    'p' : [2]\n",
    "}\n",
    "\n",
    "KNN_Model_CV, KNN_Details_CV = grid_searc_cross_valid_trainer(Model_, grid, cross_valid, kflods,X_train=X_train , Y_train=Y_train,X_valid=X_valid,Y_valid=Y_valid,X_test=X_test, Y_test=Y_test,nr_repeat=nr_repeat)\n",
    "\n",
    "if save_model:\n",
    "    pickle.dump(KNN_Model_CV, open(G_path + '/Saved/Models/Classifiers/' + 'KNN_Model_CV' , 'wb'))\n",
    "    pickle.dump(KNN_Details_CV, open(G_path + '/Saved/Cross_Valid_Results/' + 'KNN_Model_CV' , 'wb'))"
   ]
  },
  {
   "cell_type": "markdown",
   "metadata": {},
   "source": [
    "# **Biased Classifier**"
   ]
  },
  {
   "cell_type": "code",
   "execution_count": 19,
   "metadata": {},
   "outputs": [
    {
     "name": "stdout",
     "output_type": "stream",
     "text": [
      "              precision    recall  f1-score   support\n",
      "\n",
      "           0       0.00      0.00      0.00        23\n",
      "           1       0.00      0.00      0.00        32\n",
      "           2       0.00      0.00      0.00        72\n",
      "           3       0.00      0.00      0.00         8\n",
      "           4       0.00      0.00      0.00        62\n",
      "           5       0.49      1.00      0.66       200\n",
      "           6       0.00      0.00      0.00        10\n",
      "\n",
      "    accuracy                           0.49       407\n",
      "   macro avg       0.07      0.14      0.09       407\n",
      "weighted avg       0.24      0.49      0.32       407\n",
      "\n"
     ]
    }
   ],
   "source": [
    "Dum_class = sk.dummy.DummyClassifier(strategy=\"most_frequent\" )\n",
    "\n",
    "X_train = input_data_Array[0]\n",
    "Y_train = labels_Array[0]\n",
    "X_test = input_data_Array[2]\n",
    "Y_test = labels_Array[2]\n",
    "\n",
    "Dum_class.fit(X_train, Y_train)\n",
    "\n",
    "Y = Y_test\n",
    "Y_pred = Dum_class.predict(X_test)\n",
    "\n",
    "print(sk.metrics.classification_report(Y,Y_pred))"
   ]
  },
  {
   "cell_type": "code",
   "execution_count": 20,
   "metadata": {},
   "outputs": [],
   "source": [
    "test_recall_weighed, test_specificity_weighed, _ = recall_specificity_precision(Y,Y_pred,weighted_avg=True)"
   ]
  },
  {
   "cell_type": "code",
   "execution_count": 21,
   "metadata": {},
   "outputs": [
    {
     "name": "stdout",
     "output_type": "stream",
     "text": [
      "------- Precision recal %--------█████████████████████████████████████████████████████████████████████████████████] 100/100\n",
      "              precision    recall  f1-score   support\n",
      "\n",
      "           0       0.00      0.00      0.00        23\n",
      "           1       0.00      0.00      0.00        32\n",
      "           2       0.00      0.00      0.00        72\n",
      "           3       0.00      0.00      0.00         8\n",
      "           4       0.00      0.00      0.00        62\n",
      "           5       0.49      1.00      0.66       200\n",
      "           6       0.00      0.00      0.00        10\n",
      "\n",
      "    accuracy                           0.49       407\n",
      "   macro avg       0.07      0.14      0.09       407\n",
      "weighted avg       0.24      0.49      0.32       407\n",
      "\n",
      "Best param:  {}\n"
     ]
    }
   ],
   "source": [
    "Model_ = sk.dummy.DummyClassifier(strategy=\"most_frequent\" )\n",
    "kflods = sk.model_selection.KFold(n_splits=10, shuffle=True)\n",
    "cross_valid = True\n",
    "save_model = True\n",
    "nr_repeat = 10\n",
    "\n",
    "X_train = input_data_Array[0]\n",
    "Y_train = labels_Array[0]\n",
    "X_valid = input_data_Array[1]\n",
    "Y_valid = labels_Array[1]\n",
    "X_test = input_data_Array[2]\n",
    "Y_test = labels_Array[2]\n",
    "\n",
    "grid = {}\n",
    "\n",
    "Biased_Model_CV, Biased_Details_CV = grid_searc_cross_valid_trainer(Model_, grid, cross_valid, kflods,X_train=X_train , Y_train=Y_train,X_valid=X_valid,Y_valid=Y_valid,X_test=X_test, Y_test=Y_test,nr_repeat=nr_repeat)\n",
    "\n",
    "if save_model:\n",
    "    pickle.dump(Biased_Model_CV, open(G_path + '/Saved/Models/Classifiers/' + 'Biased_Model_CV' , 'wb'))\n",
    "    pickle.dump(Biased_Details_CV, open(G_path + '/Saved/Cross_Valid_Results/' + 'Biased_Model_CV' , 'wb'))"
   ]
  },
  {
   "cell_type": "code",
   "execution_count": 22,
   "metadata": {},
   "outputs": [],
   "source": [
    "CNN_Rescaled_Details = pickle.load(open(G_path + '/Saved/Cross_Valid_Results/' + 'CNN_Rescaled_Details_MultiClass' ,'rb'))\n",
    "CNN_A_E_Details = pickle.load(open(G_path + '/Saved/Cross_Valid_Results/' + 'CNN_A_E_Details_MultiClass' ,'rb'))"
   ]
  },
  {
   "cell_type": "code",
   "execution_count": 23,
   "metadata": {},
   "outputs": [],
   "source": [
    "c = 'test_recall_weighed'\n",
    "df = [CNN_A_E_Details,CNN_Rescaled_Details,RF_Details_CV,SVM_Details_CV,MLP_Details_CV,GB_Details_CV,KNN_Details_CV,Biased_Details_CV]\n",
    "clss_name = ['CNN-A.E.','CNN-Resc.','RF','SVM','MLP','GB','KNN','Biased']\n",
    "df_0 = pd.DataFrame()\n",
    "for i in range(0, len(df)):\n",
    "    df_00 = pd.DataFrame(df[i][c].values, columns=[clss_name[i]])\n",
    "    df_0 = pd.concat([df_0,df_00],axis=1)\n",
    "\n",
    "Sensitivity = df_0"
   ]
  },
  {
   "cell_type": "code",
   "execution_count": 24,
   "metadata": {},
   "outputs": [
    {
     "name": "stderr",
     "output_type": "stream",
     "text": [
      "findfont: Font family ['normal'] not found. Falling back to DejaVu Sans.\n"
     ]
    },
    {
     "data": {
      "image/png": "[encoded data removed]",
      "text/plain": [
       "<Figure size 864x432 with 1 Axes>"
      ]
     },
     "metadata": {
      "needs_background": "light"
     },
     "output_type": "display_data"
    }
   ],
   "source": [
    "plt.subplots(figsize=(12,6))\n",
    "sns.boxplot(data=Sensitivity)\n",
    "plt.title('Sensitivity Score on Test Set',fontsize = 18)\n",
    "# plt.xlabel(\"Classifiers\", fontsize = 14)\n",
    "# plt.ylabel(\"Accuracy\", fontsize = 14)\n",
    "plt.xticks(fontsize=16, rotation=0)\n",
    "plt.show()"
   ]
  },
  {
   "cell_type": "code",
   "execution_count": 25,
   "metadata": {},
   "outputs": [],
   "source": [
    "c = 'test_specificity_weighed'\n",
    "df = [CNN_A_E_Details,CNN_Rescaled_Details,RF_Details_CV,SVM_Details_CV,MLP_Details_CV,GB_Details_CV,KNN_Details_CV,Biased_Details_CV]\n",
    "clss_name = ['CNN-A.E.','CNN-Resc.','RF','SVM','MLP','GB','KNN','Biased']\n",
    "df_0 = pd.DataFrame()\n",
    "for i in range(0, len(df)):\n",
    "    df_00 = pd.DataFrame(df[i][c].values, columns=[clss_name[i]])\n",
    "    df_0 = pd.concat([df_0,df_00],axis=1)\n",
    "\n",
    "specificity = df_0"
   ]
  },
  {
   "cell_type": "code",
   "execution_count": 26,
   "metadata": {},
   "outputs": [
    {
     "data": {
      "image/png": "[encoded data removed]",
      "text/plain": [
       "<Figure size 864x432 with 1 Axes>"
      ]
     },
     "metadata": {
      "needs_background": "light"
     },
     "output_type": "display_data"
    }
   ],
   "source": [
    "plt.subplots(figsize=(12,6))\n",
    "sns.boxplot(data=specificity)\n",
    "plt.title('Specificity Score on Test Set',fontsize = 18)\n",
    "# plt.xlabel(\"Classifiers\", fontsize = 14)\n",
    "# plt.ylabel(\"Accuracy\", fontsize = 14)\n",
    "plt.xticks(fontsize=16, rotation=0)\n",
    "plt.show()"
   ]
  }
 ],
 "metadata": {
  "kernelspec": {
   "display_name": "Python 3.8.9 64-bit",
   "language": "python",
   "name": "python3"
  },
  "language_info": {
   "codemirror_mode": {
    "name": "ipython",
    "version": 3
   },
   "file_extension": ".py",
   "mimetype": "text/x-python",
   "name": "python",
   "nbconvert_exporter": "python",
   "pygments_lexer": "ipython3",
   "version": "3.8.9"
  },
  "orig_nbformat": 4,
  "vscode": {
   "interpreter": {
    "hash": "31f2aee4e71d21fbe5cf8b01ff0e069b9275f58929596ceb00d14d90e3e16cd6"
   }
  }
 },
 "nbformat": 4,
 "nbformat_minor": 2
}
