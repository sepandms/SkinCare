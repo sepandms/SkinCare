{
 "cells": [
  {
   "cell_type": "code",
   "execution_count": 1,
   "metadata": {},
   "outputs": [],
   "source": [
    "G_path = '/Users/sepehrbe/My_Drive/DataSources/SkinCare'\n",
    "import pandas as pd\n",
    "import seaborn as sns\n",
    "from sklearn import *\n",
    "import sklearn as sk\n",
    "from sklearn import *\n",
    "import numpy as np\n",
    "from scipy.stats import chi2_contingency\n",
    "import datetime as dt\n",
    "import pickle\n",
    "import torch\n",
    "import json\n",
    "import random\n",
    "import seaborn as sns\n",
    "import torch.nn as nn\n",
    "import torch.optim as optim\n",
    "import torch.nn.functional as F\n",
    "from MLP_Nets import MLP_Nets\n",
    "\n",
    "from tqdm import tqdm\n",
    "import matplotlib.pyplot as plt\n",
    "from sklearn.model_selection import train_test_split\n",
    "from usefull_functions import *\n",
    "import time\n",
    "from statistics import mean\n",
    "import warnings\n",
    "warnings.filterwarnings('ignore')"
   ]
  },
  {
   "cell_type": "code",
   "execution_count": 2,
   "id": "af0578fa",
   "metadata": {},
   "outputs": [],
   "source": [
    "image_label = 'binary_label'  #[image_label, binary_label]\n",
    "\n",
    "file = 'CNN_280x210_Ouput_binary' \n",
    "data = pd.read_pickle(G_path + '/CNN_Output/' + file)\n",
    "\n",
    "blc_test_list = pickle.load(open(G_path + '/blc_test_meta_list','rb'))\n",
    "# Evaluation_set = pickle.load(open(G_path + '/DataSet_280x210/' + file,'rb'))\n",
    "\n",
    "train_data = data[data.type=='train']\n",
    "valid_data = data[data.type=='valid']\n",
    "test_data = data[data.type=='test']\n",
    "blc_test_data = data.merge(blc_test_list['image_id'], how='inner',on='image_id')\n",
    "\n",
    "\n",
    "train_label = train_data[image_label]\n",
    "train_data = train_data.drop(columns=['image_id','image_label','dx','lesion_id','type','binary_label'])\n",
    "valid_label = valid_data[image_label]\n",
    "valid_data = valid_data.drop(columns=['image_id','image_label','dx','lesion_id','type','binary_label'])\n",
    "test_label = test_data[image_label]\n",
    "test_data = test_data.drop(columns=['image_id','image_label','dx','lesion_id','type','binary_label'])\n",
    "blc_label = blc_test_data[image_label]\n",
    "blc_data = blc_test_data.drop(columns=['image_id','image_label','dx','lesion_id','type','binary_label'])\n",
    "\n",
    "train_data_arrays = np.stack(train_data.values)  \n",
    "train_label_arrays = np.stack(train_label.values)\n",
    "train_label_arrays_One = pd.get_dummies(train_label_arrays).values  \n",
    "\n",
    "valid_data_arrays = np.stack(valid_data.values)  \n",
    "valid_label_arrays = np.stack(valid_label.values)  \n",
    "valid_label_arrays_One = pd.get_dummies(valid_label_arrays).values  \n",
    "\n",
    "test_data_arrays = np.stack(test_data.values)  \n",
    "test_label_arrays = np.stack(test_label.values)  \n",
    "test_label_arrays_One = pd.get_dummies(test_label_arrays).values  \n",
    "\n",
    "blc_data_arrays = np.stack(blc_data.values)  \n",
    "blc_label_arrays = np.stack(blc_label.values)  \n",
    "blc_label_arrays_One = pd.get_dummies(blc_label_arrays).values \n",
    "\n",
    "#Numpy Arrays\n",
    "input_data_Array = (train_data_arrays , valid_data_arrays, test_data_arrays , np.concatenate((train_data_arrays,valid_data_arrays )))\n",
    "labels_Array = (train_label_arrays,valid_label_arrays,test_label_arrays, np.concatenate((train_label_arrays,valid_label_arrays)))\n",
    "labels_One_Array = (train_label_arrays_One,valid_label_arrays_One,test_label_arrays_One, np.concatenate((train_label_arrays_One,valid_label_arrays_One)))\n",
    "\n",
    "# Tensors\n",
    "def to_Torch(x):\n",
    "    return torch.tensor(x,dtype= torch.float32)\n",
    "\n",
    "input_data_Tensor = (to_Torch(train_data_arrays),to_Torch(valid_data_arrays)  , to_Torch(test_data_arrays) , to_Torch(np.concatenate((train_data_arrays,valid_data_arrays))))\n",
    "labels_Tensor = (to_Torch(train_label_arrays),to_Torch(valid_label_arrays),to_Torch(test_label_arrays) , to_Torch(np.concatenate((train_label_arrays,valid_label_arrays))) )\n",
    "labels_OneHot_Tensor = (to_Torch(train_label_arrays_One),to_Torch(valid_label_arrays_One),to_Torch(test_label_arrays_One), to_Torch(np.concatenate((train_label_arrays_One,valid_label_arrays_One))))\n",
    "\n",
    "blc_data_Tensor = (to_Torch(blc_data_arrays))"
   ]
  },
  {
   "cell_type": "markdown",
   "metadata": {},
   "source": [
    "# **Random Forrest**"
   ]
  },
  {
   "cell_type": "code",
   "execution_count": 3,
   "metadata": {},
   "outputs": [
    {
     "name": "stdout",
     "output_type": "stream",
     "text": [
      "------- Precision recal %--------█████████████████████████████████████████████████████████████████████████████████] 640/640\n",
      "              precision    recall  f1-score   support\n",
      "\n",
      "           0       0.90      0.88      0.89       290\n",
      "           1       0.72      0.74      0.73       117\n",
      "\n",
      "    accuracy                           0.84       407\n",
      "   macro avg       0.81      0.81      0.81       407\n",
      "weighted avg       0.84      0.84      0.84       407\n",
      "\n",
      "Best param:  {'bootstrap': False, 'class_weight': None, 'criterion': 'entropy', 'max_depth': 30, 'max_features': 'log2', 'max_leaf_nodes': None, 'n_estimators': 200}\n"
     ]
    }
   ],
   "source": [
    "Model_ = sk.ensemble.RandomForestClassifier(random_state=0, n_jobs=-1)\n",
    "kflods = sk.model_selection.KFold(n_splits=10, shuffle=True)\n",
    "cross_valid = True\n",
    "save_model = True\n",
    "nr_repeat =1\n",
    "\n",
    "X_train = input_data_Array[0]\n",
    "Y_train = labels_Array[0]\n",
    "X_valid = input_data_Array[1]\n",
    "Y_valid = labels_Array[1]\n",
    "X_test = input_data_Array[2]\n",
    "Y_test = labels_Array[2]\n",
    "\n",
    "grid = { \n",
    "    'n_estimators': [100, 200],\n",
    "    'max_features': ['auto', 'log2'],\n",
    "    'max_depth' : [20,30],\n",
    "    'criterion' :['gini', 'entropy'],\n",
    "    'bootstrap': [False],\n",
    "    'class_weight' : [None, 'balanced'],\n",
    "    'max_leaf_nodes' : [5,None],\n",
    "}\n",
    "\n",
    "RF_Model, RF_Details = grid_searc_cross_valid_trainer(Model_, grid, cross_valid, kflods,X_train=X_train , Y_train=Y_train,X_valid=X_valid,Y_valid=Y_valid,X_test=X_test, Y_test=Y_test,nr_repeat=nr_repeat)\n",
    "\n",
    "if save_model:\n",
    "    pickle.dump(RF_Model, open(G_path + '/Saved/Models/Classifiers/' + 'RF_Model_binary' , 'wb'))"
   ]
  },
  {
   "cell_type": "code",
   "execution_count": 4,
   "metadata": {},
   "outputs": [
    {
     "name": "stdout",
     "output_type": "stream",
     "text": [
      "Nr. of Data : \n",
      " 407\n",
      "Accuracy of The Model : \n",
      " 0.8427518427518428\n"
     ]
    },
    {
     "data": {
      "image/png": "[encoded data removed]",
      "text/plain": [
       "<Figure size 432x288 with 1 Axes>"
      ]
     },
     "metadata": {
      "needs_background": "light"
     },
     "output_type": "display_data"
    },
    {
     "data": {
      "text/html": [
       "<style type=\"text/css\">\n",
       "</style>\n",
       "<table id=\"T_94c25\">\n",
       "  <thead>\n",
       "    <tr>\n",
       "      <th class=\"blank level0\" >&nbsp;</th>\n",
       "      <th id=\"T_94c25_level0_col0\" class=\"col_heading level0 col0\" >weights</th>\n",
       "      <th id=\"T_94c25_level0_col1\" class=\"col_heading level0 col1\" >Precision</th>\n",
       "      <th id=\"T_94c25_level0_col2\" class=\"col_heading level0 col2\" >Recall_Sensitivity</th>\n",
       "      <th id=\"T_94c25_level0_col3\" class=\"col_heading level0 col3\" >Specificity</th>\n",
       "      <th id=\"T_94c25_level0_col4\" class=\"col_heading level0 col4\" >f1_score</th>\n",
       "    </tr>\n",
       "  </thead>\n",
       "  <tbody>\n",
       "    <tr>\n",
       "      <th id=\"T_94c25_level0_row0\" class=\"row_heading level0 row0\" >0</th>\n",
       "      <td id=\"T_94c25_row0_col0\" class=\"data row0 col0\" >71.3%</td>\n",
       "      <td id=\"T_94c25_row0_col1\" class=\"data row0 col1\" >89.5%</td>\n",
       "      <td id=\"T_94c25_row0_col2\" class=\"data row0 col2\" >88.3%</td>\n",
       "      <td id=\"T_94c25_row0_col3\" class=\"data row0 col3\" >74.4%</td>\n",
       "      <td id=\"T_94c25_row0_col4\" class=\"data row0 col4\" >88.9%</td>\n",
       "    </tr>\n",
       "    <tr>\n",
       "      <th id=\"T_94c25_level0_row1\" class=\"row_heading level0 row1\" >1</th>\n",
       "      <td id=\"T_94c25_row1_col0\" class=\"data row1 col0\" >28.7%</td>\n",
       "      <td id=\"T_94c25_row1_col1\" class=\"data row1 col1\" >71.9%</td>\n",
       "      <td id=\"T_94c25_row1_col2\" class=\"data row1 col2\" >74.4%</td>\n",
       "      <td id=\"T_94c25_row1_col3\" class=\"data row1 col3\" >88.3%</td>\n",
       "      <td id=\"T_94c25_row1_col4\" class=\"data row1 col4\" >73.1%</td>\n",
       "    </tr>\n",
       "    <tr>\n",
       "      <th id=\"T_94c25_level0_row2\" class=\"row_heading level0 row2\" >Simple Avg.</th>\n",
       "      <td id=\"T_94c25_row2_col0\" class=\"data row2 col0\" >nan%</td>\n",
       "      <td id=\"T_94c25_row2_col1\" class=\"data row2 col1\" >80.7%</td>\n",
       "      <td id=\"T_94c25_row2_col2\" class=\"data row2 col2\" >81.3%</td>\n",
       "      <td id=\"T_94c25_row2_col3\" class=\"data row2 col3\" >81.3%</td>\n",
       "      <td id=\"T_94c25_row2_col4\" class=\"data row2 col4\" >81.0%</td>\n",
       "    </tr>\n",
       "    <tr>\n",
       "      <th id=\"T_94c25_level0_row3\" class=\"row_heading level0 row3\" >Weighted Avg.</th>\n",
       "      <td id=\"T_94c25_row3_col0\" class=\"data row3 col0\" >nan%</td>\n",
       "      <td id=\"T_94c25_row3_col1\" class=\"data row3 col1\" >84.4%</td>\n",
       "      <td id=\"T_94c25_row3_col2\" class=\"data row3 col2\" >84.3%</td>\n",
       "      <td id=\"T_94c25_row3_col3\" class=\"data row3 col3\" >78.4%</td>\n",
       "      <td id=\"T_94c25_row3_col4\" class=\"data row3 col4\" >84.4%</td>\n",
       "    </tr>\n",
       "  </tbody>\n",
       "</table>\n"
      ],
      "text/plain": [
       "<pandas.io.formats.style.Styler at 0x1729c4820>"
      ]
     },
     "execution_count": 4,
     "metadata": {},
     "output_type": "execute_result"
    }
   ],
   "source": [
    "# Model 280x210\n",
    "model_ = RF_Model\n",
    "X = input_data_Array[2]\n",
    "Y = labels_Array[2]\n",
    "Y_pred = model_.predict(X)\n",
    "Y_binary =  label_to_binary(Y)\n",
    "Y_pred_binary =  label_to_binary(Y_pred)\n",
    "results = model_evaluation(Y,Y_pred,'RF')\n",
    "# results = model_evaluation(Y_binary,Y_pred_binary)\n",
    "results"
   ]
  },
  {
   "cell_type": "markdown",
   "metadata": {},
   "source": [
    "**Cross Validation**"
   ]
  },
  {
   "cell_type": "code",
   "execution_count": 5,
   "metadata": {},
   "outputs": [
    {
     "name": "stdout",
     "output_type": "stream",
     "text": [
      "------- Precision recal %--------█████████████████████████████████████████████████████████████████████████████████] 100/100\n",
      "              precision    recall  f1-score   support\n",
      "\n",
      "           0       0.89      0.87      0.88       290\n",
      "           1       0.69      0.73      0.71       117\n",
      "\n",
      "    accuracy                           0.83       407\n",
      "   macro avg       0.79      0.80      0.79       407\n",
      "weighted avg       0.83      0.83      0.83       407\n",
      "\n",
      "Best param:  {'bootstrap': False, 'class_weight': None, 'criterion': 'gini', 'max_depth': 20, 'max_features': 'auto', 'max_leaf_nodes': None, 'n_estimators': 200}\n"
     ]
    }
   ],
   "source": [
    "Model_ = sk.ensemble.RandomForestClassifier(n_jobs=-1)\n",
    "kflods = sk.model_selection.KFold(n_splits=10, shuffle=True)\n",
    "cross_valid = True\n",
    "save_model = True\n",
    "nr_repeat = 10\n",
    "\n",
    "X_train = input_data_Array[0]\n",
    "Y_train = labels_Array[0]\n",
    "X_valid = input_data_Array[1]\n",
    "Y_valid = labels_Array[1]\n",
    "X_test = input_data_Array[2]\n",
    "Y_test = labels_Array[2]\n",
    "\n",
    "grid = { \n",
    "    'n_estimators': [200],\n",
    "    'max_features': ['auto'],\n",
    "    'max_depth' : [20],\n",
    "    'criterion' :['gini'],\n",
    "    'bootstrap': [False],\n",
    "    'class_weight' : [None,],\n",
    "    'max_leaf_nodes' : [None],\n",
    "}\n",
    "\n",
    "RF_Model_CV, RF_Details_CV = grid_searc_cross_valid_trainer(Model_, grid, cross_valid, kflods,X_train=X_train , Y_train=Y_train,X_valid=X_valid,Y_valid=Y_valid,X_test=X_test, Y_test=Y_test,nr_repeat=nr_repeat)\n",
    "\n",
    "if save_model:\n",
    "    pickle.dump(RF_Model_CV, open(G_path + '/Saved/Models/Classifiers/' + 'RF_Model_CV_binary' , 'wb'))\n",
    "    pickle.dump(RF_Details_CV, open(G_path + '/Saved/Cross_Valid_Results/' + 'RF_Model_CV_binary' , 'wb'))\n"
   ]
  },
  {
   "cell_type": "markdown",
   "metadata": {},
   "source": [
    "# **SVM**"
   ]
  },
  {
   "cell_type": "code",
   "execution_count": 6,
   "metadata": {},
   "outputs": [
    {
     "name": "stdout",
     "output_type": "stream",
     "text": [
      "------- Precision recal %--------█████████████████████████████████████████████████████████████████████████████████] 480/480\n",
      "              precision    recall  f1-score   support\n",
      "\n",
      "           0       0.92      0.82      0.87       290\n",
      "           1       0.65      0.82      0.73       117\n",
      "\n",
      "    accuracy                           0.82       407\n",
      "   macro avg       0.79      0.82      0.80       407\n",
      "weighted avg       0.84      0.82      0.83       407\n",
      "\n",
      "Best param:  {'C': 10, 'class_weight': 'balanced', 'decision_function_shape': 'ovo', 'degree': 1, 'gamma': 'auto', 'kernel': 'linear'}\n"
     ]
    }
   ],
   "source": [
    "Model_ = sk.svm.SVC(random_state=0)\n",
    "kflods = sk.model_selection.KFold(n_splits=10, shuffle=True)\n",
    "cross_valid = True\n",
    "save_model = True\n",
    "nr_repeat = 1\n",
    "\n",
    "X_train = input_data_Array[0]\n",
    "Y_train = labels_Array[0]\n",
    "X_valid = input_data_Array[1]\n",
    "Y_valid = labels_Array[1]\n",
    "X_test = input_data_Array[2]\n",
    "Y_test = labels_Array[2]\n",
    "\n",
    "grid = { \n",
    "    'C' : [10]\n",
    "    ,'kernel': ['rbf', 'linear'],\n",
    "    'degree' : [1,3,7],\n",
    "    'gamma' :['scale', 'auto'],\n",
    "    'decision_function_shape': ['ovo', 'ovr'],\n",
    "    'class_weight' : [None, 'balanced']\n",
    "}\n",
    "\n",
    "SVM_Model, SVM_Details = grid_searc_cross_valid_trainer(Model_, grid, cross_valid, kflods,X_train=X_train , Y_train=Y_train,X_valid=X_valid,Y_valid=Y_valid,X_test=X_test, Y_test=Y_test,nr_repeat = nr_repeat)\n",
    "\n",
    "if save_model:\n",
    "    pickle.dump(SVM_Model, open(G_path + '/Saved/Models/Classifiers/' + 'SVM_Model_Binary' , 'wb'))\n",
    "    "
   ]
  },
  {
   "cell_type": "code",
   "execution_count": 7,
   "metadata": {},
   "outputs": [
    {
     "name": "stderr",
     "output_type": "stream",
     "text": [
      "findfont: Font family ['normal'] not found. Falling back to DejaVu Sans.\n",
      "findfont: Font family ['normal'] not found. Falling back to DejaVu Sans.\n"
     ]
    },
    {
     "name": "stdout",
     "output_type": "stream",
     "text": [
      "Nr. of Data : \n",
      " 407\n",
      "Accuracy of The Model : \n",
      " 0.8230958230958231\n"
     ]
    },
    {
     "data": {
      "image/png": "[encoded data removed]",
      "text/plain": [
       "<Figure size 432x288 with 1 Axes>"
      ]
     },
     "metadata": {
      "needs_background": "light"
     },
     "output_type": "display_data"
    },
    {
     "data": {
      "text/html": [
       "<style type=\"text/css\">\n",
       "</style>\n",
       "<table id=\"T_dbfcd\">\n",
       "  <thead>\n",
       "    <tr>\n",
       "      <th class=\"blank level0\" >&nbsp;</th>\n",
       "      <th id=\"T_dbfcd_level0_col0\" class=\"col_heading level0 col0\" >weights</th>\n",
       "      <th id=\"T_dbfcd_level0_col1\" class=\"col_heading level0 col1\" >Precision</th>\n",
       "      <th id=\"T_dbfcd_level0_col2\" class=\"col_heading level0 col2\" >Recall_Sensitivity</th>\n",
       "      <th id=\"T_dbfcd_level0_col3\" class=\"col_heading level0 col3\" >Specificity</th>\n",
       "      <th id=\"T_dbfcd_level0_col4\" class=\"col_heading level0 col4\" >f1_score</th>\n",
       "    </tr>\n",
       "  </thead>\n",
       "  <tbody>\n",
       "    <tr>\n",
       "      <th id=\"T_dbfcd_level0_row0\" class=\"row_heading level0 row0\" >0</th>\n",
       "      <td id=\"T_dbfcd_row0_col0\" class=\"data row0 col0\" >71.3%</td>\n",
       "      <td id=\"T_dbfcd_row0_col1\" class=\"data row0 col1\" >91.9%</td>\n",
       "      <td id=\"T_dbfcd_row0_col2\" class=\"data row0 col2\" >82.4%</td>\n",
       "      <td id=\"T_dbfcd_row0_col3\" class=\"data row0 col3\" >82.1%</td>\n",
       "      <td id=\"T_dbfcd_row0_col4\" class=\"data row0 col4\" >86.9%</td>\n",
       "    </tr>\n",
       "    <tr>\n",
       "      <th id=\"T_dbfcd_level0_row1\" class=\"row_heading level0 row1\" >1</th>\n",
       "      <td id=\"T_dbfcd_row1_col0\" class=\"data row1 col0\" >28.7%</td>\n",
       "      <td id=\"T_dbfcd_row1_col1\" class=\"data row1 col1\" >65.3%</td>\n",
       "      <td id=\"T_dbfcd_row1_col2\" class=\"data row1 col2\" >82.1%</td>\n",
       "      <td id=\"T_dbfcd_row1_col3\" class=\"data row1 col3\" >82.4%</td>\n",
       "      <td id=\"T_dbfcd_row1_col4\" class=\"data row1 col4\" >72.7%</td>\n",
       "    </tr>\n",
       "    <tr>\n",
       "      <th id=\"T_dbfcd_level0_row2\" class=\"row_heading level0 row2\" >Simple Avg.</th>\n",
       "      <td id=\"T_dbfcd_row2_col0\" class=\"data row2 col0\" >nan%</td>\n",
       "      <td id=\"T_dbfcd_row2_col1\" class=\"data row2 col1\" >78.6%</td>\n",
       "      <td id=\"T_dbfcd_row2_col2\" class=\"data row2 col2\" >82.2%</td>\n",
       "      <td id=\"T_dbfcd_row2_col3\" class=\"data row2 col3\" >82.2%</td>\n",
       "      <td id=\"T_dbfcd_row2_col4\" class=\"data row2 col4\" >79.8%</td>\n",
       "    </tr>\n",
       "    <tr>\n",
       "      <th id=\"T_dbfcd_level0_row3\" class=\"row_heading level0 row3\" >Weighted Avg.</th>\n",
       "      <td id=\"T_dbfcd_row3_col0\" class=\"data row3 col0\" >nan%</td>\n",
       "      <td id=\"T_dbfcd_row3_col1\" class=\"data row3 col1\" >84.3%</td>\n",
       "      <td id=\"T_dbfcd_row3_col2\" class=\"data row3 col2\" >82.3%</td>\n",
       "      <td id=\"T_dbfcd_row3_col3\" class=\"data row3 col3\" >82.2%</td>\n",
       "      <td id=\"T_dbfcd_row3_col4\" class=\"data row3 col4\" >82.8%</td>\n",
       "    </tr>\n",
       "  </tbody>\n",
       "</table>\n"
      ],
      "text/plain": [
       "<pandas.io.formats.style.Styler at 0x29c582f40>"
      ]
     },
     "execution_count": 7,
     "metadata": {},
     "output_type": "execute_result"
    }
   ],
   "source": [
    "# Model 280x210\n",
    "model_ = SVM_Model\n",
    "X = input_data_Array[2]\n",
    "Y = labels_Array[2]\n",
    "Y_pred = model_.predict(X)\n",
    "Y_binary =  label_to_binary(Y)\n",
    "Y_pred_binary =  label_to_binary(Y_pred)\n",
    "results = model_evaluation(Y,Y_pred,'SVM')\n",
    "# results = model_evaluation(Y_binary,Y_pred_binary)\n",
    "results"
   ]
  },
  {
   "cell_type": "code",
   "execution_count": 8,
   "metadata": {},
   "outputs": [
    {
     "data": {
      "text/plain": [
       "0.8223253757736516"
      ]
     },
     "execution_count": 8,
     "metadata": {},
     "output_type": "execute_result"
    }
   ],
   "source": [
    "sk.metrics.roc_auc_score(Y,Y_pred)"
   ]
  },
  {
   "cell_type": "code",
   "execution_count": 9,
   "metadata": {},
   "outputs": [
    {
     "data": {
      "text/plain": [
       "<sklearn.metrics._plot.roc_curve.RocCurveDisplay at 0x29c55f670>"
      ]
     },
     "execution_count": 9,
     "metadata": {},
     "output_type": "execute_result"
    },
    {
     "data": {
      "image/png": "[encoded data removed]",
      "text/plain": [
       "<Figure size 432x288 with 1 Axes>"
      ]
     },
     "metadata": {
      "needs_background": "light"
     },
     "output_type": "display_data"
    }
   ],
   "source": [
    "\n",
    "sk.metrics.plot_roc_curve(SVM_Model, X, Y) "
   ]
  },
  {
   "cell_type": "markdown",
   "metadata": {},
   "source": [
    "**Cross Validation**"
   ]
  },
  {
   "cell_type": "code",
   "execution_count": 10,
   "metadata": {},
   "outputs": [
    {
     "name": "stdout",
     "output_type": "stream",
     "text": [
      "------- Precision recal %--------█████████████████████████████████████████████████████████████████████████████████] 100/100\n",
      "              precision    recall  f1-score   support\n",
      "\n",
      "           0       0.88      0.86      0.87       290\n",
      "           1       0.67      0.71      0.69       117\n",
      "\n",
      "    accuracy                           0.82       407\n",
      "   macro avg       0.77      0.78      0.78       407\n",
      "weighted avg       0.82      0.82      0.82       407\n",
      "\n",
      "Best param:  {'C': 10, 'class_weight': None, 'decision_function_shape': 'ovo', 'degree': 1, 'gamma': 'scale', 'kernel': 'rbf'}\n"
     ]
    }
   ],
   "source": [
    "Model_ = sk.svm.SVC(random_state=0)\n",
    "kflods = sk.model_selection.KFold(n_splits=10, shuffle=True)\n",
    "cross_valid = True\n",
    "save_model = True\n",
    "nr_repeat = 10\n",
    "\n",
    "X_train = input_data_Array[0]\n",
    "Y_train = labels_Array[0]\n",
    "X_valid = input_data_Array[1]\n",
    "Y_valid = labels_Array[1]\n",
    "X_test = input_data_Array[2]\n",
    "Y_test = labels_Array[2]\n",
    "\n",
    "grid = { \n",
    "    'C' : [10]\n",
    "    ,'kernel': ['rbf'],\n",
    "    'degree' : [1],\n",
    "    'gamma' :['scale'],\n",
    "    'decision_function_shape': ['ovo'],\n",
    "    'class_weight' : [None]\n",
    "}\n",
    "\n",
    "SVM_Model_CV, SVM_Details_CV = grid_searc_cross_valid_trainer(Model_, grid, cross_valid, kflods,X_train=X_train , Y_train=Y_train,X_valid=X_valid,Y_valid=Y_valid,X_test=X_test, Y_test=Y_test,nr_repeat=nr_repeat)\n",
    "\n",
    "if save_model:\n",
    "    pickle.dump(SVM_Model_CV, open(G_path + '/Saved/Models/Classifiers/' + 'SVM_Model_CV_Binary' , 'wb'))\n",
    "    pickle.dump(SVM_Details_CV, open(G_path + '/Saved/Cross_Valid_Results/' + 'SVM_Model_CV_Binary' , 'wb'))"
   ]
  },
  {
   "cell_type": "code",
   "execution_count": 11,
   "metadata": {},
   "outputs": [
    {
     "name": "stdout",
     "output_type": "stream",
     "text": [
      "Nr. of Data : \n",
      " 407\n",
      "Accuracy of The Model : \n",
      " 0.8230958230958231\n"
     ]
    },
    {
     "data": {
      "image/png": "[encoded data removed]",
      "text/plain": [
       "<Figure size 432x288 with 1 Axes>"
      ]
     },
     "metadata": {
      "needs_background": "light"
     },
     "output_type": "display_data"
    },
    {
     "data": {
      "text/html": [
       "<style type=\"text/css\">\n",
       "</style>\n",
       "<table id=\"T_259d4\">\n",
       "  <thead>\n",
       "    <tr>\n",
       "      <th class=\"blank level0\" >&nbsp;</th>\n",
       "      <th id=\"T_259d4_level0_col0\" class=\"col_heading level0 col0\" >weights</th>\n",
       "      <th id=\"T_259d4_level0_col1\" class=\"col_heading level0 col1\" >Precision</th>\n",
       "      <th id=\"T_259d4_level0_col2\" class=\"col_heading level0 col2\" >Recall_Sensitivity</th>\n",
       "      <th id=\"T_259d4_level0_col3\" class=\"col_heading level0 col3\" >Specificity</th>\n",
       "      <th id=\"T_259d4_level0_col4\" class=\"col_heading level0 col4\" >f1_score</th>\n",
       "    </tr>\n",
       "  </thead>\n",
       "  <tbody>\n",
       "    <tr>\n",
       "      <th id=\"T_259d4_level0_row0\" class=\"row_heading level0 row0\" >0</th>\n",
       "      <td id=\"T_259d4_row0_col0\" class=\"data row0 col0\" >71.3%</td>\n",
       "      <td id=\"T_259d4_row0_col1\" class=\"data row0 col1\" >91.9%</td>\n",
       "      <td id=\"T_259d4_row0_col2\" class=\"data row0 col2\" >82.4%</td>\n",
       "      <td id=\"T_259d4_row0_col3\" class=\"data row0 col3\" >82.1%</td>\n",
       "      <td id=\"T_259d4_row0_col4\" class=\"data row0 col4\" >86.9%</td>\n",
       "    </tr>\n",
       "    <tr>\n",
       "      <th id=\"T_259d4_level0_row1\" class=\"row_heading level0 row1\" >1</th>\n",
       "      <td id=\"T_259d4_row1_col0\" class=\"data row1 col0\" >28.7%</td>\n",
       "      <td id=\"T_259d4_row1_col1\" class=\"data row1 col1\" >65.3%</td>\n",
       "      <td id=\"T_259d4_row1_col2\" class=\"data row1 col2\" >82.1%</td>\n",
       "      <td id=\"T_259d4_row1_col3\" class=\"data row1 col3\" >82.4%</td>\n",
       "      <td id=\"T_259d4_row1_col4\" class=\"data row1 col4\" >72.7%</td>\n",
       "    </tr>\n",
       "    <tr>\n",
       "      <th id=\"T_259d4_level0_row2\" class=\"row_heading level0 row2\" >Simple Avg.</th>\n",
       "      <td id=\"T_259d4_row2_col0\" class=\"data row2 col0\" >nan%</td>\n",
       "      <td id=\"T_259d4_row2_col1\" class=\"data row2 col1\" >78.6%</td>\n",
       "      <td id=\"T_259d4_row2_col2\" class=\"data row2 col2\" >82.2%</td>\n",
       "      <td id=\"T_259d4_row2_col3\" class=\"data row2 col3\" >82.2%</td>\n",
       "      <td id=\"T_259d4_row2_col4\" class=\"data row2 col4\" >79.8%</td>\n",
       "    </tr>\n",
       "    <tr>\n",
       "      <th id=\"T_259d4_level0_row3\" class=\"row_heading level0 row3\" >Weighted Avg.</th>\n",
       "      <td id=\"T_259d4_row3_col0\" class=\"data row3 col0\" >nan%</td>\n",
       "      <td id=\"T_259d4_row3_col1\" class=\"data row3 col1\" >84.3%</td>\n",
       "      <td id=\"T_259d4_row3_col2\" class=\"data row3 col2\" >82.3%</td>\n",
       "      <td id=\"T_259d4_row3_col3\" class=\"data row3 col3\" >82.2%</td>\n",
       "      <td id=\"T_259d4_row3_col4\" class=\"data row3 col4\" >82.8%</td>\n",
       "    </tr>\n",
       "  </tbody>\n",
       "</table>\n"
      ],
      "text/plain": [
       "<pandas.io.formats.style.Styler at 0x29c7a43d0>"
      ]
     },
     "execution_count": 11,
     "metadata": {},
     "output_type": "execute_result"
    }
   ],
   "source": [
    "# Model 280x210\n",
    "model_ = SVM_Model\n",
    "X = input_data_Array[2]\n",
    "Y = labels_Array[2]\n",
    "Y_pred = model_.predict(X)\n",
    "Y_binary =  label_to_binary(Y)\n",
    "Y_pred_binary =  label_to_binary(Y_pred)\n",
    "results = model_evaluation(Y,Y_pred)\n",
    "# results = model_evaluation(Y_binary,Y_pred_binary)\n",
    "results"
   ]
  },
  {
   "cell_type": "markdown",
   "metadata": {},
   "source": [
    "# **Guassian NB**"
   ]
  },
  {
   "cell_type": "code",
   "execution_count": 12,
   "metadata": {},
   "outputs": [
    {
     "name": "stdout",
     "output_type": "stream",
     "text": [
      "------- Precision recal %--------█████████████████████████████████████████████████████████████████████████████████] 170/170\n",
      "              precision    recall  f1-score   support\n",
      "\n",
      "           0       0.93      0.76      0.84       290\n",
      "           1       0.59      0.86      0.70       117\n",
      "\n",
      "    accuracy                           0.79       407\n",
      "   macro avg       0.76      0.81      0.77       407\n",
      "weighted avg       0.83      0.79      0.80       407\n",
      "\n",
      "Best param:  {'priors': None, 'var_smoothing': 0.5}\n"
     ]
    }
   ],
   "source": [
    "Model_ = sk.naive_bayes.GaussianNB()\n",
    "kflods = sk.model_selection.KFold(n_splits=10, shuffle=True)\n",
    "cross_valid = True\n",
    "save_mode = True\n",
    "nr_repeat = 1\n",
    "\n",
    "X_train = input_data_Array[0]\n",
    "Y_train = labels_Array[0]\n",
    "X_valid = input_data_Array[1]\n",
    "Y_valid = labels_Array[1]\n",
    "X_test = input_data_Array[2]\n",
    "Y_test = labels_Array[2]\n",
    "\n",
    "grid = { \n",
    "    'priors': [None],\n",
    "    'var_smoothing': [0,4e-1,5e-1,3e-1, 1e-3, 1e-4, 1e-5, 1e-6, 1e-7, 1e-8, 1e-9, 1e-10, 1e-11, 1e-12, 1e-13, 1e-14, 1e-15]\n",
    "}\n",
    "\n",
    "GB_Model, GB_Details = grid_searc_cross_valid_trainer(Model_, grid, cross_valid, kflods,X_train=X_train , Y_train=Y_train,X_valid=X_valid,Y_valid=Y_valid,X_test=X_test, Y_test=Y_test,nr_repeat=1)\n",
    "\n",
    "if save_model:\n",
    "    pickle.dump(GB_Model, open(G_path + '/Saved/Models/Classifiers/' + 'GB_Model_Binary' , 'wb'))"
   ]
  },
  {
   "cell_type": "code",
   "execution_count": 13,
   "metadata": {},
   "outputs": [
    {
     "name": "stdout",
     "output_type": "stream",
     "text": [
      "Nr. of Data : \n",
      " 407\n",
      "Accuracy of The Model : \n",
      " 0.7886977886977887\n"
     ]
    },
    {
     "data": {
      "image/png": "[encoded data removed]",
      "text/plain": [
       "<Figure size 432x288 with 1 Axes>"
      ]
     },
     "metadata": {
      "needs_background": "light"
     },
     "output_type": "display_data"
    },
    {
     "data": {
      "text/html": [
       "<style type=\"text/css\">\n",
       "</style>\n",
       "<table id=\"T_b5650\">\n",
       "  <thead>\n",
       "    <tr>\n",
       "      <th class=\"blank level0\" >&nbsp;</th>\n",
       "      <th id=\"T_b5650_level0_col0\" class=\"col_heading level0 col0\" >weights</th>\n",
       "      <th id=\"T_b5650_level0_col1\" class=\"col_heading level0 col1\" >Precision</th>\n",
       "      <th id=\"T_b5650_level0_col2\" class=\"col_heading level0 col2\" >Recall_Sensitivity</th>\n",
       "      <th id=\"T_b5650_level0_col3\" class=\"col_heading level0 col3\" >Specificity</th>\n",
       "      <th id=\"T_b5650_level0_col4\" class=\"col_heading level0 col4\" >f1_score</th>\n",
       "    </tr>\n",
       "  </thead>\n",
       "  <tbody>\n",
       "    <tr>\n",
       "      <th id=\"T_b5650_level0_row0\" class=\"row_heading level0 row0\" >0</th>\n",
       "      <td id=\"T_b5650_row0_col0\" class=\"data row0 col0\" >71.3%</td>\n",
       "      <td id=\"T_b5650_row0_col1\" class=\"data row0 col1\" >93.2%</td>\n",
       "      <td id=\"T_b5650_row0_col2\" class=\"data row0 col2\" >75.9%</td>\n",
       "      <td id=\"T_b5650_row0_col3\" class=\"data row0 col3\" >86.3%</td>\n",
       "      <td id=\"T_b5650_row0_col4\" class=\"data row0 col4\" >83.7%</td>\n",
       "    </tr>\n",
       "    <tr>\n",
       "      <th id=\"T_b5650_level0_row1\" class=\"row_heading level0 row1\" >1</th>\n",
       "      <td id=\"T_b5650_row1_col0\" class=\"data row1 col0\" >28.7%</td>\n",
       "      <td id=\"T_b5650_row1_col1\" class=\"data row1 col1\" >59.1%</td>\n",
       "      <td id=\"T_b5650_row1_col2\" class=\"data row1 col2\" >86.3%</td>\n",
       "      <td id=\"T_b5650_row1_col3\" class=\"data row1 col3\" >75.9%</td>\n",
       "      <td id=\"T_b5650_row1_col4\" class=\"data row1 col4\" >70.1%</td>\n",
       "    </tr>\n",
       "    <tr>\n",
       "      <th id=\"T_b5650_level0_row2\" class=\"row_heading level0 row2\" >Simple Avg.</th>\n",
       "      <td id=\"T_b5650_row2_col0\" class=\"data row2 col0\" >nan%</td>\n",
       "      <td id=\"T_b5650_row2_col1\" class=\"data row2 col1\" >76.1%</td>\n",
       "      <td id=\"T_b5650_row2_col2\" class=\"data row2 col2\" >81.1%</td>\n",
       "      <td id=\"T_b5650_row2_col3\" class=\"data row2 col3\" >81.1%</td>\n",
       "      <td id=\"T_b5650_row2_col4\" class=\"data row2 col4\" >76.9%</td>\n",
       "    </tr>\n",
       "    <tr>\n",
       "      <th id=\"T_b5650_level0_row3\" class=\"row_heading level0 row3\" >Weighted Avg.</th>\n",
       "      <td id=\"T_b5650_row3_col0\" class=\"data row3 col0\" >nan%</td>\n",
       "      <td id=\"T_b5650_row3_col1\" class=\"data row3 col1\" >83.4%</td>\n",
       "      <td id=\"T_b5650_row3_col2\" class=\"data row3 col2\" >78.9%</td>\n",
       "      <td id=\"T_b5650_row3_col3\" class=\"data row3 col3\" >83.3%</td>\n",
       "      <td id=\"T_b5650_row3_col4\" class=\"data row3 col4\" >79.8%</td>\n",
       "    </tr>\n",
       "  </tbody>\n",
       "</table>\n"
      ],
      "text/plain": [
       "<pandas.io.formats.style.Styler at 0x2a1019790>"
      ]
     },
     "execution_count": 13,
     "metadata": {},
     "output_type": "execute_result"
    }
   ],
   "source": [
    "# Model 280x210\n",
    "model_ = GB_Model\n",
    "X = input_data_Array[2]\n",
    "Y = labels_Array[2]\n",
    "Y_pred = model_.predict(X)\n",
    "Y_binary =  label_to_binary(Y)\n",
    "Y_pred_binary =  label_to_binary(Y_pred)\n",
    "results = model_evaluation(Y,Y_pred,'Gaussian NB')\n",
    "# results = model_evaluation(Y_binary,Y_pred_binary)\n",
    "results"
   ]
  },
  {
   "cell_type": "markdown",
   "metadata": {},
   "source": [
    "**Cross Validation**"
   ]
  },
  {
   "cell_type": "code",
   "execution_count": 14,
   "metadata": {},
   "outputs": [
    {
     "name": "stdout",
     "output_type": "stream",
     "text": [
      "------- Precision recal %--------█████████████████████████████████████████████████████████████████████████████████] 100/100\n",
      "              precision    recall  f1-score   support\n",
      "\n",
      "           0       0.93      0.76      0.84       290\n",
      "           1       0.59      0.86      0.70       117\n",
      "\n",
      "    accuracy                           0.79       407\n",
      "   macro avg       0.76      0.81      0.77       407\n",
      "weighted avg       0.84      0.79      0.80       407\n",
      "\n",
      "Best param:  {'priors': None, 'var_smoothing': 0.5}\n"
     ]
    }
   ],
   "source": [
    "Model_ = sk.naive_bayes.GaussianNB()\n",
    "kflods = sk.model_selection.KFold(n_splits=10, shuffle=True)\n",
    "cross_valid = True\n",
    "save_mode = True\n",
    "nr_repeat = 10\n",
    "\n",
    "X_train = input_data_Array[0]\n",
    "Y_train = labels_Array[0]\n",
    "X_valid = input_data_Array[1]\n",
    "Y_valid = labels_Array[1]\n",
    "X_test = input_data_Array[2]\n",
    "Y_test = labels_Array[2]\n",
    "\n",
    "grid = { \n",
    "    'priors': [None],\n",
    "    'var_smoothing': [5e-1]\n",
    "}\n",
    "\n",
    "GB_Model_CV, GB_Details_CV = grid_searc_cross_valid_trainer(Model_, grid, cross_valid, kflods,X_train=X_train , Y_train=Y_train,X_valid=X_valid,Y_valid=Y_valid,X_test=X_test, Y_test=Y_test,nr_repeat=10)\n",
    "\n",
    "if save_model:\n",
    "    pickle.dump(GB_Model_CV, open(G_path + '/Saved/Models/Classifiers/' + 'GB_Model_CV_Binary' , 'wb'))\n",
    "    pickle.dump(GB_Details_CV, open(G_path + '/Saved/Cross_Valid_Results/' + 'GB_Model_CV_Binary' , 'wb'))"
   ]
  },
  {
   "cell_type": "markdown",
   "metadata": {},
   "source": [
    "# **MLP**"
   ]
  },
  {
   "cell_type": "code",
   "execution_count": 16,
   "metadata": {},
   "outputs": [
    {
     "name": "stdout",
     "output_type": "stream",
     "text": [
      "------- Precision recal %--------.................................................................................] 4/40\n",
      "              precision    recall  f1-score   support\n",
      "\n",
      "           0       0.88      0.86      0.87       290\n",
      "           1       0.67      0.72      0.69       117\n",
      "\n",
      "    accuracy                           0.82       407\n",
      "   macro avg       0.77      0.79      0.78       407\n",
      "weighted avg       0.82      0.82      0.82       407\n",
      "\n",
      "Best param:  {'activation': 'relu', 'alpha': 0.0001, 'hidden_layer_sizes': (50, 60, 50), 'learning_rate': 'adaptive', 'learning_rate_init': 0.01, 'random_state': 0, 'solver': 'sgd'}\n"
     ]
    }
   ],
   "source": [
    "Model_ = sk.neural_network.MLPClassifier()\n",
    "kflods = sk.model_selection.KFold(n_splits=10, shuffle=True)\n",
    "cross_valid = False\n",
    "save_model = True\n",
    "nr_repeat = 1\n",
    "\n",
    "X_train = input_data_Array[0]\n",
    "Y_train = labels_Array[0]\n",
    "X_valid = input_data_Array[1]\n",
    "Y_valid = labels_Array[1]\n",
    "X_test = input_data_Array[2]\n",
    "Y_test = labels_Array[2]\n",
    "\n",
    "grid = {\n",
    "    'hidden_layer_sizes': [(50,60,50)],\n",
    "    'random_state':[0],\n",
    "    'activation': [ 'relu'],\n",
    "    'solver': ['sgd',],\n",
    "    'alpha': [0.0001, 0.05],\n",
    "    'learning_rate': ['adaptive'],\n",
    "    'learning_rate_init' : 10.00 ** -np.arange(2, 4)\n",
    "}\n",
    "\n",
    "MLP_Model, MLP_Details = grid_searc_cross_valid_trainer(Model_, grid, cross_valid, kflods,X_train=X_train , Y_train=Y_train,X_valid=X_valid,Y_valid=Y_valid,X_test=X_test, Y_test=Y_test,nr_repeat=nr_repeat)\n",
    "if save_model:\n",
    "    pickle.dump(MLP_Model, open(G_path + '/Saved/Models/Classifiers/' + 'MLP_Model_Binary' , 'wb'))\n",
    "    "
   ]
  },
  {
   "cell_type": "markdown",
   "metadata": {},
   "source": [
    "**Cross Validation**"
   ]
  },
  {
   "cell_type": "code",
   "execution_count": 17,
   "metadata": {},
   "outputs": [
    {
     "name": "stdout",
     "output_type": "stream",
     "text": [
      "------- Precision recal %--------█████████████████████████████████████████████████████████████████████████████████] 100/100\n",
      "              precision    recall  f1-score   support\n",
      "\n",
      "           0       0.89      0.87      0.88       290\n",
      "           1       0.69      0.73      0.71       117\n",
      "\n",
      "    accuracy                           0.83       407\n",
      "   macro avg       0.79      0.80      0.79       407\n",
      "weighted avg       0.83      0.83      0.83       407\n",
      "\n",
      "Best param:  {'activation': 'relu', 'alpha': 0.0001, 'hidden_layer_sizes': (50, 60, 50), 'learning_rate': 'adaptive', 'learning_rate_init': 0.01, 'random_state': 0, 'solver': 'sgd'}\n"
     ]
    }
   ],
   "source": [
    "Model_ = sk.neural_network.MLPClassifier()\n",
    "kflods = sk.model_selection.KFold(n_splits=10, shuffle=True)\n",
    "cross_valid = True\n",
    "save_model = True\n",
    "nr_repeat = 10\n",
    "\n",
    "X_train = input_data_Array[0]\n",
    "Y_train = labels_Array[0]\n",
    "X_valid = input_data_Array[1]\n",
    "Y_valid = labels_Array[1]\n",
    "X_test = input_data_Array[2]\n",
    "Y_test = labels_Array[2]\n",
    "\n",
    "grid = {\n",
    "    'hidden_layer_sizes': [(50,60,50)],\n",
    "    'random_state':[0],\n",
    "    'activation': [ 'relu'],\n",
    "    'solver': ['sgd',],\n",
    "    'alpha': [0.0001],\n",
    "    'learning_rate': ['adaptive'],\n",
    "    'learning_rate_init' : [1e-2]\n",
    "}\n",
    "\n",
    "MLP_Model_CV, MLP_Details_CV = grid_searc_cross_valid_trainer(Model_, grid, cross_valid, kflods,X_train=X_train , Y_train=Y_train,X_valid=X_valid,Y_valid=Y_valid,X_test=X_test, Y_test=Y_test,nr_repeat=nr_repeat)\n",
    "if save_model:\n",
    "    pickle.dump(MLP_Model_CV, open(G_path + '/Saved/Models/Classifiers/' + 'MLP_Model_CV_Binary' , 'wb'))\n",
    "    pickle.dump(MLP_Details_CV, open(G_path + '/Saved/Cross_Valid_Results/' + 'MLP_Model_CV_Binary' , 'wb'))"
   ]
  },
  {
   "cell_type": "code",
   "execution_count": 18,
   "metadata": {},
   "outputs": [
    {
     "name": "stdout",
     "output_type": "stream",
     "text": [
      "Nr. of Data : \n",
      " 407\n",
      "Accuracy of The Model : \n",
      " 0.8157248157248157\n"
     ]
    },
    {
     "data": {
      "image/png": "[encoded data removed]",
      "text/plain": [
       "<Figure size 432x288 with 1 Axes>"
      ]
     },
     "metadata": {
      "needs_background": "light"
     },
     "output_type": "display_data"
    },
    {
     "data": {
      "text/html": [
       "<style type=\"text/css\">\n",
       "</style>\n",
       "<table id=\"T_9d484\">\n",
       "  <thead>\n",
       "    <tr>\n",
       "      <th class=\"blank level0\" >&nbsp;</th>\n",
       "      <th id=\"T_9d484_level0_col0\" class=\"col_heading level0 col0\" >weights</th>\n",
       "      <th id=\"T_9d484_level0_col1\" class=\"col_heading level0 col1\" >Precision</th>\n",
       "      <th id=\"T_9d484_level0_col2\" class=\"col_heading level0 col2\" >Recall_Sensitivity</th>\n",
       "      <th id=\"T_9d484_level0_col3\" class=\"col_heading level0 col3\" >Specificity</th>\n",
       "      <th id=\"T_9d484_level0_col4\" class=\"col_heading level0 col4\" >f1_score</th>\n",
       "    </tr>\n",
       "  </thead>\n",
       "  <tbody>\n",
       "    <tr>\n",
       "      <th id=\"T_9d484_level0_row0\" class=\"row_heading level0 row0\" >0</th>\n",
       "      <td id=\"T_9d484_row0_col0\" class=\"data row0 col0\" >71.3%</td>\n",
       "      <td id=\"T_9d484_row0_col1\" class=\"data row0 col1\" >88.3%</td>\n",
       "      <td id=\"T_9d484_row0_col2\" class=\"data row0 col2\" >85.5%</td>\n",
       "      <td id=\"T_9d484_row0_col3\" class=\"data row0 col3\" >71.8%</td>\n",
       "      <td id=\"T_9d484_row0_col4\" class=\"data row0 col4\" >86.9%</td>\n",
       "    </tr>\n",
       "    <tr>\n",
       "      <th id=\"T_9d484_level0_row1\" class=\"row_heading level0 row1\" >1</th>\n",
       "      <td id=\"T_9d484_row1_col0\" class=\"data row1 col0\" >28.7%</td>\n",
       "      <td id=\"T_9d484_row1_col1\" class=\"data row1 col1\" >66.7%</td>\n",
       "      <td id=\"T_9d484_row1_col2\" class=\"data row1 col2\" >71.8%</td>\n",
       "      <td id=\"T_9d484_row1_col3\" class=\"data row1 col3\" >85.5%</td>\n",
       "      <td id=\"T_9d484_row1_col4\" class=\"data row1 col4\" >69.1%</td>\n",
       "    </tr>\n",
       "    <tr>\n",
       "      <th id=\"T_9d484_level0_row2\" class=\"row_heading level0 row2\" >Simple Avg.</th>\n",
       "      <td id=\"T_9d484_row2_col0\" class=\"data row2 col0\" >nan%</td>\n",
       "      <td id=\"T_9d484_row2_col1\" class=\"data row2 col1\" >77.5%</td>\n",
       "      <td id=\"T_9d484_row2_col2\" class=\"data row2 col2\" >78.7%</td>\n",
       "      <td id=\"T_9d484_row2_col3\" class=\"data row2 col3\" >78.7%</td>\n",
       "      <td id=\"T_9d484_row2_col4\" class=\"data row2 col4\" >78.0%</td>\n",
       "    </tr>\n",
       "    <tr>\n",
       "      <th id=\"T_9d484_level0_row3\" class=\"row_heading level0 row3\" >Weighted Avg.</th>\n",
       "      <td id=\"T_9d484_row3_col0\" class=\"data row3 col0\" >nan%</td>\n",
       "      <td id=\"T_9d484_row3_col1\" class=\"data row3 col1\" >82.0%</td>\n",
       "      <td id=\"T_9d484_row3_col2\" class=\"data row3 col2\" >81.6%</td>\n",
       "      <td id=\"T_9d484_row3_col3\" class=\"data row3 col3\" >75.7%</td>\n",
       "      <td id=\"T_9d484_row3_col4\" class=\"data row3 col4\" >81.8%</td>\n",
       "    </tr>\n",
       "  </tbody>\n",
       "</table>\n"
      ],
      "text/plain": [
       "<pandas.io.formats.style.Styler at 0x2a10a45b0>"
      ]
     },
     "execution_count": 18,
     "metadata": {},
     "output_type": "execute_result"
    }
   ],
   "source": [
    "# Model 280x210\n",
    "model_ = MLP_Model\n",
    "X = input_data_Array[2]\n",
    "Y = labels_Array[2]\n",
    "# X = blc_data_arrays\n",
    "# Y = blc_label_arrays\n",
    "Y_pred = model_.predict(X)\n",
    "Y_binary =  label_to_binary(Y)\n",
    "Y_pred_binary =  label_to_binary(Y_pred)\n",
    "results = model_evaluation(Y,Y_pred)\n",
    "# results = model_evaluation(Y_binary,Y_pred_binary)\n",
    "results"
   ]
  },
  {
   "cell_type": "markdown",
   "metadata": {},
   "source": [
    "# **KNN**"
   ]
  },
  {
   "cell_type": "code",
   "execution_count": 19,
   "metadata": {},
   "outputs": [
    {
     "name": "stdout",
     "output_type": "stream",
     "text": [
      "------- Precision recal %--------█████████████████████████████████████████████████████████████████████████████████] 3600/3600\n",
      "              precision    recall  f1-score   support\n",
      "\n",
      "           0       0.87      0.87      0.87       290\n",
      "           1       0.68      0.69      0.68       117\n",
      "\n",
      "    accuracy                           0.82       407\n",
      "   macro avg       0.77      0.78      0.78       407\n",
      "weighted avg       0.82      0.82      0.82       407\n",
      "\n",
      "Best param:  {'algorithm': 'auto', 'leaf_size': 25, 'n_neighbors': 7, 'p': 1, 'weights': 'distance'}\n"
     ]
    }
   ],
   "source": [
    "Model_ = neighbors.KNeighborsClassifier(n_jobs=-1)\n",
    "kflods = sk.model_selection.KFold(n_splits=10, shuffle=True)\n",
    "cross_valid = True\n",
    "save_model = True\n",
    "nr_repeat = 1\n",
    "\n",
    "X_train = input_data_Array[0]\n",
    "Y_train = labels_Array[0]\n",
    "X_valid = input_data_Array[1]\n",
    "Y_valid = labels_Array[1]\n",
    "X_test = input_data_Array[2]\n",
    "Y_test = labels_Array[2]\n",
    "\n",
    "grid = { \n",
    "    'n_neighbors': [5,7,8,10,16],\n",
    "    'weights': ['uniform', 'distance'],\n",
    "    'algorithm': ['auto','ball_tree','kd_tree','brute'],\n",
    "    'leaf_size' : [15,20,25],\n",
    "    'p' : [1,2,5]\n",
    "}\n",
    "\n",
    "KNN_Model, KNN_Details = grid_searc_cross_valid_trainer(Model_, grid, cross_valid, kflods,X_train=X_train , Y_train=Y_train,X_valid=X_valid,Y_valid=Y_valid,X_test=X_test, Y_test=Y_test,nr_repeat=nr_repeat)\n",
    "\n",
    "if save_model:\n",
    "    pickle.dump(KNN_Model, open(G_path + '/Saved/Models/Classifiers/' + 'KNN_Model_Binary' , 'wb'))"
   ]
  },
  {
   "cell_type": "markdown",
   "metadata": {},
   "source": [
    "**Cross Validation**"
   ]
  },
  {
   "cell_type": "code",
   "execution_count": 20,
   "metadata": {},
   "outputs": [
    {
     "name": "stdout",
     "output_type": "stream",
     "text": [
      "------- Precision recal %--------█████████████████████████████████████████████████████████████████████████████████] 100/100\n",
      "              precision    recall  f1-score   support\n",
      "\n",
      "           0       0.87      0.87      0.87       290\n",
      "           1       0.67      0.68      0.67       117\n",
      "\n",
      "    accuracy                           0.81       407\n",
      "   macro avg       0.77      0.77      0.77       407\n",
      "weighted avg       0.81      0.81      0.81       407\n",
      "\n",
      "Best param:  {'algorithm': 'auto', 'leaf_size': 25, 'n_neighbors': 8, 'p': 2, 'weights': 'distance'}\n"
     ]
    }
   ],
   "source": [
    "Model_ = neighbors.KNeighborsClassifier(n_jobs=-1)\n",
    "kflods = sk.model_selection.KFold(n_splits=10, shuffle=True)\n",
    "cross_valid = True\n",
    "save_model = True\n",
    "nr_repeat = 10\n",
    "\n",
    "X_train = input_data_Array[0]\n",
    "Y_train = labels_Array[0]\n",
    "X_valid = input_data_Array[1]\n",
    "Y_valid = labels_Array[1]\n",
    "X_test = input_data_Array[2]\n",
    "Y_test = labels_Array[2]\n",
    "\n",
    "grid = { \n",
    "    'n_neighbors': [8],\n",
    "    'weights': ['distance'],\n",
    "    'algorithm': ['auto'],\n",
    "    'leaf_size' : [25],\n",
    "    'p' : [2]\n",
    "}\n",
    "\n",
    "KNN_Model_CV, KNN_Details_CV = grid_searc_cross_valid_trainer(Model_, grid, cross_valid, kflods,X_train=X_train , Y_train=Y_train,X_valid=X_valid,Y_valid=Y_valid,X_test=X_test, Y_test=Y_test,nr_repeat=nr_repeat)\n",
    "\n",
    "if save_model:\n",
    "    pickle.dump(KNN_Model_CV, open(G_path + '/Saved/Models/Classifiers/' + 'KNN_Model_CV_Binary' , 'wb'))\n",
    "    pickle.dump(KNN_Details_CV, open(G_path + '/Saved/Cross_Valid_Results/' + 'KNN_Model_CV_Binary' , 'wb'))"
   ]
  },
  {
   "cell_type": "code",
   "execution_count": 21,
   "metadata": {},
   "outputs": [
    {
     "name": "stdout",
     "output_type": "stream",
     "text": [
      "Nr. of Data : \n",
      " 407\n",
      "Accuracy of The Model : \n",
      " 0.8157248157248157\n"
     ]
    },
    {
     "data": {
      "image/png": "[encoded data removed]",
      "text/plain": [
       "<Figure size 432x288 with 1 Axes>"
      ]
     },
     "metadata": {
      "needs_background": "light"
     },
     "output_type": "display_data"
    },
    {
     "data": {
      "text/html": [
       "<style type=\"text/css\">\n",
       "</style>\n",
       "<table id=\"T_0286c\">\n",
       "  <thead>\n",
       "    <tr>\n",
       "      <th class=\"blank level0\" >&nbsp;</th>\n",
       "      <th id=\"T_0286c_level0_col0\" class=\"col_heading level0 col0\" >weights</th>\n",
       "      <th id=\"T_0286c_level0_col1\" class=\"col_heading level0 col1\" >Precision</th>\n",
       "      <th id=\"T_0286c_level0_col2\" class=\"col_heading level0 col2\" >Recall_Sensitivity</th>\n",
       "      <th id=\"T_0286c_level0_col3\" class=\"col_heading level0 col3\" >Specificity</th>\n",
       "      <th id=\"T_0286c_level0_col4\" class=\"col_heading level0 col4\" >f1_score</th>\n",
       "    </tr>\n",
       "  </thead>\n",
       "  <tbody>\n",
       "    <tr>\n",
       "      <th id=\"T_0286c_level0_row0\" class=\"row_heading level0 row0\" >0</th>\n",
       "      <td id=\"T_0286c_row0_col0\" class=\"data row0 col0\" >71.3%</td>\n",
       "      <td id=\"T_0286c_row0_col1\" class=\"data row0 col1\" >87.5%</td>\n",
       "      <td id=\"T_0286c_row0_col2\" class=\"data row0 col2\" >86.6%</td>\n",
       "      <td id=\"T_0286c_row0_col3\" class=\"data row0 col3\" >69.2%</td>\n",
       "      <td id=\"T_0286c_row0_col4\" class=\"data row0 col4\" >87.0%</td>\n",
       "    </tr>\n",
       "    <tr>\n",
       "      <th id=\"T_0286c_level0_row1\" class=\"row_heading level0 row1\" >1</th>\n",
       "      <td id=\"T_0286c_row1_col0\" class=\"data row1 col0\" >28.7%</td>\n",
       "      <td id=\"T_0286c_row1_col1\" class=\"data row1 col1\" >67.5%</td>\n",
       "      <td id=\"T_0286c_row1_col2\" class=\"data row1 col2\" >69.2%</td>\n",
       "      <td id=\"T_0286c_row1_col3\" class=\"data row1 col3\" >86.6%</td>\n",
       "      <td id=\"T_0286c_row1_col4\" class=\"data row1 col4\" >68.4%</td>\n",
       "    </tr>\n",
       "    <tr>\n",
       "      <th id=\"T_0286c_level0_row2\" class=\"row_heading level0 row2\" >Simple Avg.</th>\n",
       "      <td id=\"T_0286c_row2_col0\" class=\"data row2 col0\" >nan%</td>\n",
       "      <td id=\"T_0286c_row2_col1\" class=\"data row2 col1\" >77.5%</td>\n",
       "      <td id=\"T_0286c_row2_col2\" class=\"data row2 col2\" >77.9%</td>\n",
       "      <td id=\"T_0286c_row2_col3\" class=\"data row2 col3\" >77.9%</td>\n",
       "      <td id=\"T_0286c_row2_col4\" class=\"data row2 col4\" >77.7%</td>\n",
       "    </tr>\n",
       "    <tr>\n",
       "      <th id=\"T_0286c_level0_row3\" class=\"row_heading level0 row3\" >Weighted Avg.</th>\n",
       "      <td id=\"T_0286c_row3_col0\" class=\"data row3 col0\" >nan%</td>\n",
       "      <td id=\"T_0286c_row3_col1\" class=\"data row3 col1\" >81.7%</td>\n",
       "      <td id=\"T_0286c_row3_col2\" class=\"data row3 col2\" >81.6%</td>\n",
       "      <td id=\"T_0286c_row3_col3\" class=\"data row3 col3\" >74.2%</td>\n",
       "      <td id=\"T_0286c_row3_col4\" class=\"data row3 col4\" >81.6%</td>\n",
       "    </tr>\n",
       "  </tbody>\n",
       "</table>\n"
      ],
      "text/plain": [
       "<pandas.io.formats.style.Styler at 0x112a38af0>"
      ]
     },
     "execution_count": 21,
     "metadata": {},
     "output_type": "execute_result"
    }
   ],
   "source": [
    "# Model 280x210\n",
    "model_ = KNN_Model\n",
    "X = input_data_Array[2]\n",
    "Y = labels_Array[2]\n",
    "# X = blc_data_arrays\n",
    "# Y = blc_label_arrays\n",
    "Y_pred = model_.predict(X)\n",
    "Y_binary =  label_to_binary(Y)\n",
    "Y_pred_binary =  label_to_binary(Y_pred)\n",
    "results = model_evaluation(Y,Y_pred)\n",
    "# results = model_evaluation(Y_binary,Y_pred_binary)\n",
    "results"
   ]
  },
  {
   "cell_type": "markdown",
   "metadata": {},
   "source": [
    "# **Biased Classifier**"
   ]
  },
  {
   "cell_type": "code",
   "execution_count": 22,
   "metadata": {},
   "outputs": [
    {
     "name": "stdout",
     "output_type": "stream",
     "text": [
      "              precision    recall  f1-score   support\n",
      "\n",
      "           0       0.71      1.00      0.83       290\n",
      "           1       0.00      0.00      0.00       117\n",
      "\n",
      "    accuracy                           0.71       407\n",
      "   macro avg       0.36      0.50      0.42       407\n",
      "weighted avg       0.51      0.71      0.59       407\n",
      "\n"
     ]
    }
   ],
   "source": [
    "Dum_class = sk.dummy.DummyClassifier(strategy=\"most_frequent\" )\n",
    "\n",
    "X_train = input_data_Array[0]\n",
    "Y_train = labels_Array[0]\n",
    "X_test = input_data_Array[2]\n",
    "Y_test = labels_Array[2]\n",
    "\n",
    "Dum_class.fit(X_train, Y_train)\n",
    "\n",
    "Y = Y_test\n",
    "Y_pred = Dum_class.predict(X_test)\n",
    "\n",
    "print(sk.metrics.classification_report(Y,Y_pred))"
   ]
  },
  {
   "cell_type": "code",
   "execution_count": 23,
   "metadata": {},
   "outputs": [
    {
     "name": "stdout",
     "output_type": "stream",
     "text": [
      "------- Precision recal %--------█████████████████████████████████████████████████████████████████████████████████] 100/100\n",
      "              precision    recall  f1-score   support\n",
      "\n",
      "           0       0.71      1.00      0.83       290\n",
      "           1       0.00      0.00      0.00       117\n",
      "\n",
      "    accuracy                           0.71       407\n",
      "   macro avg       0.36      0.50      0.42       407\n",
      "weighted avg       0.51      0.71      0.59       407\n",
      "\n",
      "Best param:  {}\n"
     ]
    }
   ],
   "source": [
    "Model_ = sk.dummy.DummyClassifier(strategy=\"most_frequent\" )\n",
    "kflods = sk.model_selection.KFold(n_splits=10, shuffle=True)\n",
    "cross_valid = True\n",
    "save_model = True\n",
    "nr_repeat = 10\n",
    "\n",
    "X_train = input_data_Array[0]\n",
    "Y_train = labels_Array[0]\n",
    "X_valid = input_data_Array[1]\n",
    "Y_valid = labels_Array[1]\n",
    "X_test = input_data_Array[2]\n",
    "Y_test = labels_Array[2]\n",
    "\n",
    "grid = {}\n",
    "\n",
    "Biased_Model_CV, Biased_Details_CV = grid_searc_cross_valid_trainer(Model_, grid, cross_valid, kflods,X_train=X_train , Y_train=Y_train,X_valid=X_valid,Y_valid=Y_valid,X_test=X_test, Y_test=Y_test,nr_repeat=nr_repeat)\n",
    "\n",
    "if save_model:\n",
    "    pickle.dump(Biased_Model_CV, open(G_path + '/Saved/Models/Classifiers/' + 'Biased_Model_CV_Binary' , 'wb'))\n",
    "    pickle.dump(Biased_Details_CV, open(G_path + '/Saved/Cross_Valid_Results/' + 'Biased_Model_CV_Binary' , 'wb'))"
   ]
  },
  {
   "cell_type": "code",
   "execution_count": 24,
   "metadata": {},
   "outputs": [],
   "source": [
    "CNN_Rescaled_Details = pickle.load(open(G_path + '/Saved/Cross_Valid_Results/' + 'CNN_Rescaled_Details_Binary' ,'rb'))"
   ]
  },
  {
   "cell_type": "code",
   "execution_count": null,
   "metadata": {},
   "outputs": [
    {
     "name": "stderr",
     "output_type": "stream",
     "text": [
      "findfont: Font family ['normal'] not found. Falling back to DejaVu Sans.\n"
     ]
    },
    {
     "data": {
      "image/png": "[encoded data removed]",
      "text/plain": [
       "<Figure size 864x432 with 1 Axes>"
      ]
     },
     "metadata": {
      "needs_background": "light"
     },
     "output_type": "display_data"
    }
   ],
   "source": [
    "c = 'test_recall_weighed'\n",
    "df = [CNN_Rescaled_Details,RF_Details_CV,SVM_Details_CV,MLP_Details_CV,GB_Details_CV,KNN_Details_CV,Biased_Details_CV]\n",
    "clss_name = ['CNN-Resc.','RF','SVM','MLP','GB','KNN','Biased']\n",
    "df_0 = pd.DataFrame()\n",
    "for i in range(0, len(df)):\n",
    "    df_00 = pd.DataFrame(df[i][c].values, columns=[clss_name[i]])\n",
    "    df_0 = pd.concat([df_0,df_00],axis=1)\n",
    "\n",
    "Sensitivity = df_0\n",
    "plt.subplots(figsize=(12,6))\n",
    "sns.boxplot(data=Sensitivity)\n",
    "plt.title('Sensitivity Score on Test Set (Binary classification)',fontsize = 18)\n",
    "# plt.xlabel(\"Classifiers\", fontsize = 14)\n",
    "# plt.ylabel(\"Accuracy\", fontsize = 14)\n",
    "plt.xticks(fontsize=16, rotation=0)\n",
    "plt.show()"
   ]
  },
  {
   "cell_type": "code",
   "execution_count": null,
   "metadata": {},
   "outputs": [
    {
     "data": {
      "image/png": "[encoded data removed]",
      "text/plain": [
       "<Figure size 864x432 with 1 Axes>"
      ]
     },
     "metadata": {
      "needs_background": "light"
     },
     "output_type": "display_data"
    }
   ],
   "source": [
    "c = 'test_specificity_weighed'\n",
    "df = [CNN_Rescaled_Details,RF_Details_CV,SVM_Details_CV,MLP_Details_CV,GB_Details_CV,KNN_Details_CV,Biased_Details_CV]\n",
    "clss_name = ['CNN-Resc.','RF','SVM','MLP','GB','KNN','Biased']\n",
    "df_0 = pd.DataFrame()\n",
    "for i in range(0, len(df)):\n",
    "    df_00 = pd.DataFrame(df[i][c].values, columns=[clss_name[i]])\n",
    "    df_0 = pd.concat([df_0,df_00],axis=1)\n",
    "\n",
    "specificity = df_0\n",
    "plt.subplots(figsize=(12,6))\n",
    "sns.boxplot(data=specificity)\n",
    "plt.title('Specificity Score on Test Set (Binary classification)',fontsize = 18)\n",
    "# plt.xlabel(\"Classifiers\", fontsize = 14)\n",
    "# plt.ylabel(\"Accuracy\", fontsize = 14)\n",
    "plt.xticks(fontsize=16, rotation=0)\n",
    "plt.show()"
   ]
  },
  {
   "cell_type": "code",
   "execution_count": null,
   "metadata": {},
   "outputs": [
    {
     "data": {
      "text/html": [
       "<div>\n",
       "<style scoped>\n",
       "    .dataframe tbody tr th:only-of-type {\n",
       "        vertical-align: middle;\n",
       "    }\n",
       "\n",
       "    .dataframe tbody tr th {\n",
       "        vertical-align: top;\n",
       "    }\n",
       "\n",
       "    .dataframe thead th {\n",
       "        text-align: right;\n",
       "    }\n",
       "</style>\n",
       "<table border=\"1\" class=\"dataframe\">\n",
       "  <thead>\n",
       "    <tr style=\"text-align: right;\">\n",
       "      <th></th>\n",
       "      <th>0</th>\n",
       "    </tr>\n",
       "  </thead>\n",
       "  <tbody>\n",
       "    <tr>\n",
       "      <th>CNN-Resc.</th>\n",
       "      <td>0.75740</td>\n",
       "    </tr>\n",
       "    <tr>\n",
       "      <th>RF</th>\n",
       "      <td>0.75087</td>\n",
       "    </tr>\n",
       "    <tr>\n",
       "      <th>SVM</th>\n",
       "      <td>0.73565</td>\n",
       "    </tr>\n",
       "    <tr>\n",
       "      <th>MLP</th>\n",
       "      <td>0.74888</td>\n",
       "    </tr>\n",
       "    <tr>\n",
       "      <th>GB</th>\n",
       "      <td>0.82879</td>\n",
       "    </tr>\n",
       "    <tr>\n",
       "      <th>KNN</th>\n",
       "      <td>0.71698</td>\n",
       "    </tr>\n",
       "    <tr>\n",
       "      <th>Biased</th>\n",
       "      <td>0.28700</td>\n",
       "    </tr>\n",
       "  </tbody>\n",
       "</table>\n",
       "</div>"
      ],
      "text/plain": [
       "                 0\n",
       "CNN-Resc.  0.75740\n",
       "RF         0.75087\n",
       "SVM        0.73565\n",
       "MLP        0.74888\n",
       "GB         0.82879\n",
       "KNN        0.71698\n",
       "Biased     0.28700"
      ]
     },
     "execution_count": 49,
     "metadata": {},
     "output_type": "execute_result"
    }
   ],
   "source": [
    "pd.DataFrame(specificity.mean())"
   ]
  },
  {
   "cell_type": "code",
   "execution_count": null,
   "metadata": {},
   "outputs": [
    {
     "data": {
      "text/html": [
       "<div>\n",
       "<style scoped>\n",
       "    .dataframe tbody tr th:only-of-type {\n",
       "        vertical-align: middle;\n",
       "    }\n",
       "\n",
       "    .dataframe tbody tr th {\n",
       "        vertical-align: top;\n",
       "    }\n",
       "\n",
       "    .dataframe thead th {\n",
       "        text-align: right;\n",
       "    }\n",
       "</style>\n",
       "<table border=\"1\" class=\"dataframe\">\n",
       "  <thead>\n",
       "    <tr style=\"text-align: right;\">\n",
       "      <th></th>\n",
       "      <th>0</th>\n",
       "    </tr>\n",
       "  </thead>\n",
       "  <tbody>\n",
       "    <tr>\n",
       "      <th>CNN-Resc.</th>\n",
       "      <td>4.382945e-02</td>\n",
       "    </tr>\n",
       "    <tr>\n",
       "      <th>RF</th>\n",
       "      <td>9.693958e-03</td>\n",
       "    </tr>\n",
       "    <tr>\n",
       "      <th>SVM</th>\n",
       "      <td>6.527912e-03</td>\n",
       "    </tr>\n",
       "    <tr>\n",
       "      <th>MLP</th>\n",
       "      <td>8.495132e-03</td>\n",
       "    </tr>\n",
       "    <tr>\n",
       "      <th>GB</th>\n",
       "      <td>2.705382e-03</td>\n",
       "    </tr>\n",
       "    <tr>\n",
       "      <th>KNN</th>\n",
       "      <td>9.481486e-03</td>\n",
       "    </tr>\n",
       "    <tr>\n",
       "      <th>Biased</th>\n",
       "      <td>5.579081e-17</td>\n",
       "    </tr>\n",
       "  </tbody>\n",
       "</table>\n",
       "</div>"
      ],
      "text/plain": [
       "                      0\n",
       "CNN-Resc.  4.382945e-02\n",
       "RF         9.693958e-03\n",
       "SVM        6.527912e-03\n",
       "MLP        8.495132e-03\n",
       "GB         2.705382e-03\n",
       "KNN        9.481486e-03\n",
       "Biased     5.579081e-17"
      ]
     },
     "execution_count": 50,
     "metadata": {},
     "output_type": "execute_result"
    }
   ],
   "source": [
    "pd.DataFrame(specificity.std()) "
   ]
  },
  {
   "cell_type": "code",
   "execution_count": null,
   "metadata": {},
   "outputs": [],
   "source": []
  }
 ],
 "metadata": {
  "kernelspec": {
   "display_name": "Python 3.8.9 64-bit",
   "language": "python",
   "name": "python3"
  },
  "language_info": {
   "codemirror_mode": {
    "name": "ipython",
    "version": 3
   },
   "file_extension": ".py",
   "mimetype": "text/x-python",
   "name": "python",
   "nbconvert_exporter": "python",
   "pygments_lexer": "ipython3",
   "version": "3.8.9"
  },
  "orig_nbformat": 4,
  "vscode": {
   "interpreter": {
    "hash": "31f2aee4e71d21fbe5cf8b01ff0e069b9275f58929596ceb00d14d90e3e16cd6"
   }
  }
 },
 "nbformat": 4,
 "nbformat_minor": 2
}
