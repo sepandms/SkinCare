{
  "cells": [
    {
      "cell_type": "markdown",
      "metadata": {
        "id": "view-in-github",
        "colab_type": "text"
      },
      "source": [
        "<a href=\"https://colab.research.google.com/github/sepandms/SkinCare/blob/main/CNN_60x45.ipynb\" target=\"_parent\"><img src=\"https://colab.research.google.com/assets/colab-badge.svg\" alt=\"Open In Colab\"/></a>"
      ]
    },
    {
      "cell_type": "code",
      "source": [
        "from google.colab import drive\n",
        "drive.mount('/content/drive')\n",
        "#!pip3 install pandas==1.4.2\n",
        "!pip3 install pickle5"
      ],
      "metadata": {
        "id": "GYDq50GzA-lO",
        "outputId": "8f9a4f8b-2240-4c4a-cf84-770273106c4d",
        "colab": {
          "base_uri": "https://localhost:8080/"
        }
      },
      "execution_count": 1,
      "outputs": [
        {
          "output_type": "stream",
          "name": "stdout",
          "text": [
            "Mounted at /content/drive\n",
            "Looking in indexes: https://pypi.org/simple, https://us-python.pkg.dev/colab-wheels/public/simple/\n",
            "Collecting pickle5\n",
            "  Downloading pickle5-0.0.12-cp37-cp37m-manylinux_2_5_x86_64.manylinux1_x86_64.whl (256 kB)\n",
            "\u001b[K     |████████████████████████████████| 256 kB 34.9 MB/s \n",
            "\u001b[?25hInstalling collected packages: pickle5\n",
            "Successfully installed pickle5-0.0.12\n"
          ]
        }
      ]
    },
    {
      "cell_type": "code",
      "execution_count": 2,
      "metadata": {
        "id": "VZrZXitoAlDd"
      },
      "outputs": [],
      "source": [
        "import torch\n",
        "import torch.nn as nn\n",
        "import torch.nn.functional as F\n",
        "import torchvision\n",
        "import torchvision.transforms as transforms\n",
        "#import torchvision.transforms.Compose\n",
        "import numpy as np\n",
        "import matplotlib.pyplot as plt\n",
        "from torch.utils.data import random_split\n",
        "from torch.utils.data import SubsetRandomSampler\n",
        "import time\n",
        "import pickle5 as pickle\n",
        "from statistics import mean\n",
        "import pandas as pd\n",
        "import sklearn as sk\n",
        "from sklearn.model_selection import train_test_split\n",
        "device = 'cuda'\n",
        "from sklearn.utils import resample\n",
        "import warnings\n",
        "warnings.filterwarnings('ignore')\n",
        "#path = '/Users/sepehrbe/DataSources/Kaggle/SkinCare/Data/Pickle_Data/'\n",
        "#p_models = '/Users/sepehrbe/DataSources/Kaggle/SkinCare/Models/Saved/'\n",
        "#device = torch.device(\"cpu\")\n",
        "path = '/content/drive/MyDrive/DataSources/'"
      ]
    },
    {
      "cell_type": "code",
      "source": [
        "# file = 'DataSource_60x45_blc.pickle' \n",
        "file = 'DataSource_60x45_blc_noDup.pkl' \n",
        "\n",
        "infile = open(path + file,'rb')\n",
        "data = pickle.load(infile)"
      ],
      "metadata": {
        "id": "EmItAdeAIgc7"
      },
      "execution_count": 3,
      "outputs": []
    },
    {
      "cell_type": "code",
      "execution_count": 4,
      "metadata": {
        "id": "mTyd2fE_AlDe",
        "outputId": "64cfb7b4-0c78-497d-8d58-0ab616754b63",
        "colab": {
          "base_uri": "https://localhost:8080/"
        }
      },
      "outputs": [
        {
          "output_type": "stream",
          "name": "stdout",
          "text": [
            "Train size:  2375  Valid Size:  420  Test size:  311\n"
          ]
        }
      ],
      "source": [
        "train_data = data[data.type=='train']\n",
        "valid_data = data[data.type=='valid']\n",
        "test_data = data[data.type=='test']\n",
        "\n",
        "training_data = pd.concat([train_data,valid_data], axis=0)\n",
        "print('Train size: ',train_data.shape[0] ,' Valid Size: ',valid_data.shape[0], ' Test size: ', test_data.shape[0])"
      ]
    },
    {
      "cell_type": "markdown",
      "metadata": {
        "id": "0vf3zc_8AlDe"
      },
      "source": [
        "# **Standardize Train and Validation data**"
      ]
    },
    {
      "cell_type": "code",
      "execution_count": 5,
      "metadata": {
        "id": "DfwnXL7VAlDf",
        "outputId": "77b6a4ec-a6b9-4e36-be88-9200ad2d6a54",
        "colab": {
          "base_uri": "https://localhost:8080/"
        }
      },
      "outputs": [
        {
          "output_type": "stream",
          "name": "stdout",
          "text": [
            "Mean : [0.74757306 0.55395043 0.57981832]   STD: [0.13901983 0.1466928  0.16243817]\n"
          ]
        }
      ],
      "source": [
        "training_arrays = np.stack(training_data['img_array'].values)  \n",
        "training_arrays_scaled = training_arrays / 255\n",
        "Mean = training_arrays_scaled.mean(axis = (0,1,2)) \n",
        "STD = training_arrays_scaled.std(axis = (0,1,2))\n",
        "print(f\"Mean : {Mean}   STD: {STD}\") "
      ]
    },
    {
      "cell_type": "code",
      "execution_count": 6,
      "metadata": {
        "id": "tDkgbyk2AlDf"
      },
      "outputs": [],
      "source": [
        "#Train data standardization\n",
        "train_arrays_std = np.stack(train_data['img_array'].values) / 255\n",
        "for i in range(0,train_arrays_std.shape[0]):\n",
        "    train_arrays_std[i] = (train_arrays_std[i] - Mean) / STD\n",
        "#Validation data standardization\n",
        "valid_arrays_std = np.stack(valid_data['img_array'].values) / 255\n",
        "for i in range(0,valid_arrays_std.shape[0]):\n",
        "    valid_arrays_std[i] = (valid_arrays_std[i] - Mean) / STD\n",
        "#Test data standardization\n",
        "test_arrays_std = np.stack(test_data['img_array'].values) / 255\n",
        "for i in range(0,test_arrays_std.shape[0]):\n",
        "    test_arrays_std[i] = (test_arrays_std[i] - Mean) / STD"
      ]
    },
    {
      "cell_type": "code",
      "execution_count": 7,
      "metadata": {
        "id": "v739KGr7AlDf",
        "outputId": "6dcb5677-5867-40fb-ea18-20c5da693327",
        "colab": {
          "base_uri": "https://localhost:8080/"
        }
      },
      "outputs": [
        {
          "output_type": "stream",
          "name": "stdout",
          "text": [
            "Mean : [-0.00228189  0.00041095 -0.00230894]   STD: [1.00738491 1.00246694 1.00100759]\n"
          ]
        }
      ],
      "source": [
        "Mean_t = train_arrays_std.mean(axis = (0,1,2)) \n",
        "STD_t = train_arrays_std.std(axis = (0,1,2))\n",
        "print(f\"Mean : {Mean_t}   STD: {STD_t}\") "
      ]
    },
    {
      "cell_type": "code",
      "execution_count": 8,
      "metadata": {
        "id": "o2RHmNlcAlDf"
      },
      "outputs": [],
      "source": [
        "train_arrays_std_T = torch.tensor(train_arrays_std, dtype= torch.float32).transpose(3,1)\n",
        "train_labels = torch.tensor(train_data['label_id'].values.astype(np.long))\n",
        "\n",
        "valid_arrays_std_T = torch.tensor(valid_arrays_std, dtype= torch.float32).transpose(3,1)\n",
        "valid_labels = torch.tensor(valid_data['label_id'].values.astype(np.long))\n",
        "\n",
        "test_arrays_std_T = torch.tensor(test_arrays_std, dtype= torch.float32).transpose(3,1)\n",
        "test_labels = torch.tensor(test_data['label_id'].values.astype(np.long))\n",
        "\n",
        "input_data = (train_arrays_std_T , valid_arrays_std_T, test_arrays_std_T , torch.cat((train_arrays_std_T,valid_arrays_std_T,test_arrays_std_T),0) )\n",
        "labels = (train_labels,valid_labels,test_labels , torch.cat((train_labels,valid_labels,test_labels),0))"
      ]
    },
    {
      "cell_type": "markdown",
      "metadata": {
        "id": "nqCBXtetAlDf"
      },
      "source": [
        "# **Show some Images**"
      ]
    },
    {
      "cell_type": "code",
      "execution_count": 9,
      "metadata": {
        "id": "e3W89pUsAlDf",
        "outputId": "22266272-4800-4b6e-990d-0ef4d1fb67b4",
        "colab": {
          "base_uri": "https://localhost:8080/",
          "height": 1000
        }
      },
      "outputs": [
        {
          "output_type": "stream",
          "name": "stdout",
          "text": [
            "--------Original Image----------\n",
            "i:  ISIC_0025454\n",
            "Image:751, target:bkl\n"
          ]
        },
        {
          "output_type": "display_data",
          "data": {
            "text/plain": [
              "<Figure size 432x288 with 1 Axes>"
            ],
            "image/png": "[encoded data removed]"
          },
          "metadata": {
            "needs_background": "light"
          }
        },
        {
          "output_type": "stream",
          "name": "stderr",
          "text": [
            "Clipping input data to the valid range for imshow with RGB data ([0..1] for floats or [0..255] for integers).\n"
          ]
        },
        {
          "output_type": "stream",
          "name": "stdout",
          "text": [
            "---------Normilized Image---------\n"
          ]
        },
        {
          "output_type": "display_data",
          "data": {
            "text/plain": [
              "<Figure size 432x288 with 1 Axes>"
            ],
            "image/png": "[encoded data removed]"
          },
          "metadata": {
            "needs_background": "light"
          }
        },
        {
          "output_type": "stream",
          "name": "stdout",
          "text": [
            "###################################\n",
            "--------Original Image----------\n",
            "i:  ISIC_0027224\n",
            "Image:2071, target:nv\n"
          ]
        },
        {
          "output_type": "display_data",
          "data": {
            "text/plain": [
              "<Figure size 432x288 with 1 Axes>"
            ],
            "image/png": "[encoded data removed]"
          },
          "metadata": {
            "needs_background": "light"
          }
        },
        {
          "output_type": "stream",
          "name": "stdout",
          "text": [
            "---------Normilized Image---------\n"
          ]
        },
        {
          "output_type": "stream",
          "name": "stderr",
          "text": [
            "Clipping input data to the valid range for imshow with RGB data ([0..1] for floats or [0..255] for integers).\n"
          ]
        },
        {
          "output_type": "display_data",
          "data": {
            "text/plain": [
              "<Figure size 432x288 with 1 Axes>"
            ],
            "image/png": "[encoded data removed]"
          },
          "metadata": {
            "needs_background": "light"
          }
        },
        {
          "output_type": "stream",
          "name": "stdout",
          "text": [
            "###################################\n",
            "--------Original Image----------\n",
            "i:  ISIC_0031212\n",
            "Image:977, target:bkl\n"
          ]
        },
        {
          "output_type": "display_data",
          "data": {
            "text/plain": [
              "<Figure size 432x288 with 1 Axes>"
            ],
            "image/png": "[encoded data removed]"
          },
          "metadata": {
            "needs_background": "light"
          }
        },
        {
          "output_type": "stream",
          "name": "stderr",
          "text": [
            "Clipping input data to the valid range for imshow with RGB data ([0..1] for floats or [0..255] for integers).\n"
          ]
        },
        {
          "output_type": "stream",
          "name": "stdout",
          "text": [
            "---------Normilized Image---------\n"
          ]
        },
        {
          "output_type": "display_data",
          "data": {
            "text/plain": [
              "<Figure size 432x288 with 1 Axes>"
            ],
            "image/png": "[encoded data removed]"
          },
          "metadata": {
            "needs_background": "light"
          }
        },
        {
          "output_type": "stream",
          "name": "stdout",
          "text": [
            "###################################\n"
          ]
        }
      ],
      "source": [
        "for i in np.random.choice(train_data.shape[0], 3, replace=False):\n",
        "  print(\"--------Original Image----------\")\n",
        "  print('i: ', train_data['image_id'].iloc[i])\n",
        "  image1 = torch.from_numpy(train_data['img_array'].iloc[i])\n",
        "  print(\"Image:{}, target:{}\".format(i, train_data['image_label'].iloc[i]))\n",
        "  plt.imshow(image1, interpolation='nearest')\n",
        "  plt.show()\n",
        "  print(\"---------Normilized Image---------\")\n",
        "  image2 = train_arrays_std[i]\n",
        "  plt.imshow(image2, interpolation='nearest')\n",
        "  plt.show()\n",
        "  print(\"###################################\")"
      ]
    },
    {
      "cell_type": "markdown",
      "metadata": {
        "id": "GgLTtyx5uw6b"
      },
      "source": [
        "### **1.2 Nets**"
      ]
    },
    {
      "cell_type": "code",
      "execution_count": 12,
      "metadata": {
        "id": "w1GCLpHCrDWL"
      },
      "outputs": [],
      "source": [
        "class CNN_Net1(nn.Module):\n",
        "    def __init__(self):\n",
        "        super().__init__()\n",
        "        self.conv1 = nn.Conv2d( in_channels=3 , out_channels=32 , kernel_size=(3, 3))\n",
        "        self.conv2 = nn.Conv2d( in_channels=32, out_channels=32 , kernel_size=(3, 3))\n",
        "        self.pool1 = nn.MaxPool2d( kernel_size = (2,2), stride = None, padding = 0 )\n",
        "        self.conv3 = nn.Conv2d( in_channels=32, out_channels=64 , kernel_size=(3, 3))\n",
        "        self.conv4 = nn.Conv2d( in_channels=64, out_channels=64 , kernel_size=(3, 3))\n",
        "        self.pool2 = nn.MaxPool2d( kernel_size = (2,2), stride = None, padding = 0 )\n",
        "        self.fc1   = nn.Linear(in_features= 6144 , out_features = 512)\n",
        "        self.fc2   = nn.Linear(in_features= 512, out_features = 7)\n",
        "        self.Act   = nn.ReLU(inplace=True)\n",
        "    def forward(self, x):\n",
        "        out = self.Act(self.conv1(x))\n",
        "        out = self.Act(self.conv2(out))\n",
        "        out = self.Act(self.pool1(out))\n",
        "        out = self.Act(self.conv3(out))\n",
        "        out = self.Act(self.conv4(out))\n",
        "        out = self.Act(self.pool2(out))\n",
        "        out = torch.flatten(out, 1) \n",
        "        out = self.Act(self.fc1(out))\n",
        "        out = self.Act(self.fc2(out))\n",
        "        # out = nn.Softmax(out)\n",
        "        return out"
      ]
    },
    {
      "cell_type": "code",
      "execution_count": 13,
      "metadata": {
        "id": "ZVszqW_eAlDg"
      },
      "outputs": [],
      "source": [
        "class CNN_Net2(nn.Module):\n",
        "    def __init__(self):\n",
        "        super(CNN_Net2, self).__init__()\n",
        "        self.conv1 = nn.Conv2d( in_channels=3 , out_channels=32 , kernel_size=(3, 3))\n",
        "        self.pool1 = nn.MaxPool2d( kernel_size = (2,2), stride = None, padding = 0 )\n",
        "        self.conv3 = nn.Conv2d( in_channels=32, out_channels=64 , kernel_size=(3, 3))\n",
        "        self.pool2 = nn.MaxPool2d( kernel_size = (2,2), stride = None, padding = 0 )\n",
        "        self.fc1   = nn.Linear(in_features= 7488 , out_features = 512)\n",
        "        self.fc2   = nn.Linear(in_features= 512, out_features = 7)\n",
        "        self.Act   = nn.ReLU(inplace=True)\n",
        "    def forward(self, x):\n",
        "        out = self.Act(self.conv1(x))\n",
        "        out = self.Act(self.pool1(out))\n",
        "        out = self.Act(self.conv3(out))\n",
        "        out = self.Act(self.pool2(out))\n",
        "        out = torch.flatten(out, 1) \n",
        "        out = self.Act(self.fc1(out))\n",
        "        out = self.Act(self.fc2(out))\n",
        "        return out"
      ]
    },
    {
      "cell_type": "code",
      "execution_count": 14,
      "metadata": {
        "id": "_oz6q7CYAlDg"
      },
      "outputs": [],
      "source": [
        "class CNN_Net3(nn.Module):\n",
        "    def __init__(self):\n",
        "        super(CNN_Net3, self).__init__()\n",
        "        self.conv1 = nn.Conv2d( in_channels=3 , out_channels=32 , kernel_size=(3, 3))\n",
        "        self.pool1 = nn.MaxPool2d( kernel_size = (2,2), stride = None, padding = 0 )\n",
        "        self.conv3 = nn.Conv2d( in_channels=32, out_channels=64 , kernel_size=(3, 3))\n",
        "        self.pool2 = nn.MaxPool2d( kernel_size = (2,2), stride = None, padding = 0 )\n",
        "        self.fc1   = nn.Linear(in_features= 7488 , out_features = 512)\n",
        "        self.fc2   = nn.Linear(in_features= 512, out_features = 7)\n",
        "        self.Act   = nn.LeakyReLU(inplace=True)\n",
        "        self.dropout = nn.Dropout(0.25)\n",
        "    def forward(self, x):\n",
        "        out = self.Act(self.conv1(x))\n",
        "        out = self.Act(self.pool1(out))\n",
        "        out = self.Act(self.conv3(out))\n",
        "        out = self.Act(self.pool2(out))\n",
        "        out = self.dropout(out)\n",
        "        out = torch.flatten(out, 1) \n",
        "        out = self.Act(self.fc1(out))\n",
        "        out = self.Act(self.fc2(out))\n",
        "        return out"
      ]
    },
    {
      "cell_type": "markdown",
      "metadata": {
        "id": "P5Zfb1SkAlDg"
      },
      "source": [
        "# **Test Nets**"
      ]
    },
    {
      "cell_type": "code",
      "execution_count": 15,
      "metadata": {
        "id": "OJTfTtmfAlDg",
        "outputId": "ba11ae89-24df-4d75-f159-e9d652a39714",
        "colab": {
          "base_uri": "https://localhost:8080/"
        }
      },
      "outputs": [
        {
          "output_type": "execute_result",
          "data": {
            "text/plain": [
              "torch.Size([5, 7])"
            ]
          },
          "metadata": {},
          "execution_count": 15
        }
      ],
      "source": [
        "model_test = CNN_Net2()\n",
        "X_ = input_data[0][0:5]\n",
        "out = model_test(X_)\n",
        "out.shape"
      ]
    },
    {
      "cell_type": "markdown",
      "metadata": {
        "id": "XWC5a989AlDg"
      },
      "source": [
        "# **Confusion-Matrix & Accuracy**"
      ]
    },
    {
      "cell_type": "code",
      "execution_count": 16,
      "metadata": {
        "id": "pBE96mxDAlDg"
      },
      "outputs": [],
      "source": [
        "def confusion_matrix(Y_pred,Y):\n",
        "    CM = sk.metrics.confusion_matrix(Y_pred,Y)\n",
        "    Total_sum = sum(sum(CM))\n",
        "    Diagonal_sum = np.trace(CM) \n",
        "    accuracy1 = Diagonal_sum / Total_sum\n",
        "    frequencies = list(pd.DataFrame(Y).value_counts())\n",
        "    weights = list(np.divide(frequencies, Total_sum))\n",
        "    sensitivity = []\n",
        "    specificity = []\n",
        "    for i in range(0,7):\n",
        "        sensitivity_ = CM[i,i].sum() / (CM[i].sum())\n",
        "        sensitivity.append(sensitivity_)\n",
        "        specificity_ = (Diagonal_sum - CM[i,i]) / (  (Diagonal_sum - CM[i,i]) + (CM.T[i].sum()-CM[i,i]))\n",
        "        specificity.append(specificity_)\n",
        "        \n",
        "    print('Nr. of Data : \\n', Total_sum)\n",
        "    print('Accuracy of The Model : \\n', accuracy1)\n",
        "    # print('Confusion Matrix : \\n', CM)\n",
        "    print('Weighted Avg. of sensitivity : \\n', np.average(np.nan_to_num(sensitivity), weights=weights))\n",
        "    print('Weighted Avg. of specificity : \\n', np.average(np.nan_to_num(specificity), weights=weights))\n",
        "    sk.metrics.ConfusionMatrixDisplay(CM).plot()\n",
        "    print('------- Precision recal %--------')\n",
        "    print(sk.metrics.classification_report(Y,Y_pred))\n",
        "    print('------- confusion matrix--------')"
      ]
    },
    {
      "cell_type": "markdown",
      "metadata": {
        "id": "4XV23bjxXUi7",
        "tags": []
      },
      "source": [
        "### **1.3 Training**"
      ]
    },
    {
      "cell_type": "code",
      "execution_count": 17,
      "metadata": {
        "id": "ySme76snYXhZ"
      },
      "outputs": [],
      "source": [
        "# Training\n",
        "# Training\n",
        "class Model_Training:\n",
        "\n",
        "    def __init__(self, model , loss_func, optimizer, epochs, batch_size , X_train, Y_train, X_valid, Y_valid ):\n",
        "        \n",
        "        self.model = model\n",
        "        self.loss_func = loss_func\n",
        "        self.opt = optimizer\n",
        "        self.epochs = epochs\n",
        "        self.X_train = X_train.to(device)\n",
        "        self.Y_train = Y_train.to(device)\n",
        "        self.X_valid = X_valid.to(device)\n",
        "        self.Y_valid = Y_valid.to(device)\n",
        "        self.batch_size = batch_size\n",
        "        self.Epochs_Train_loss = []\n",
        "        self.Epochs_Train_Acc = []\n",
        "        self.Epochs_Val_loss = []\n",
        "        self.Epochs_Val_Acc = []\n",
        "\n",
        "    def train(self):\n",
        "        \n",
        "        model = self.model\n",
        "        loss_fn = self.loss_func\n",
        "        opt = self.opt \n",
        "        batch_size = self.batch_size\n",
        "        nr_of_steps_train =  self.X_train.shape[0]//self.batch_size \n",
        "        nr_of_steps_valid =  self.X_valid.shape[0]//self.batch_size \n",
        "\n",
        "        for epoch in range(1, epochs+1 ):\n",
        "            start_time=time.time()\n",
        "            steps_train_loss = []\n",
        "            steps_train_Acc = []\n",
        "            steps_val_loss = []\n",
        "            steps_val_Acc = []\n",
        "\n",
        "            for i in range(0, nr_of_steps_train ):#train_arrays_std.shape[0]):\n",
        "                X = self.X_train[i* batch_size:(i+1) * batch_size]\n",
        "                Y = self.Y_train[i * batch_size:(i+1) * batch_size]\n",
        "                opt.zero_grad()\n",
        "                model.train()\n",
        "                y_pred = model.forward(X)\n",
        "                loss = loss_fn(y_pred, Y)\n",
        "                loss.backward()\n",
        "                opt.step()\n",
        "                y_pred_labels = y_pred.argmax(axis=1)\n",
        "                nr_of_corrects = (y_pred_labels == Y).sum().item()\n",
        "                step_acc = nr_of_corrects / batch_size\n",
        "                steps_train_Acc.append(step_acc)\n",
        "                steps_train_loss.append(loss.item())\n",
        "\n",
        "                # if (i+1) % 200 == 0:    # print every 2000 mini-batches\n",
        "                #     print('[Epoch: {}, Nr. Batch: {}]  , Train-Steps-loss: {:.1f} , running_acc: {:.1%}'.format(epoch , i+1 , train_steps_loss , batch_nr_correct / train_nr_total))\n",
        "                #     self.train_steps_acc = []\n",
        "                #     train_steps_loss = 0\n",
        "\n",
        "              #validation loss calculation\n",
        "            for j in range(0,nr_of_steps_valid):\n",
        "\n",
        "                val_X = self.X_valid[j*batch_size:(j+1)*batch_size]\n",
        "                val_Y = self.Y_valid[j*batch_size:(j+1)*batch_size]\n",
        "                model.eval()\n",
        "                # val_inputs = val_inputs.to(device)\n",
        "                # val_labels = val_labels.to(device)\n",
        "                val_outputs = model(val_X)\n",
        "                val_loss = loss_fn(val_outputs, val_Y)\n",
        "                val_epoch_loss = val_loss.item()\n",
        "                val_outputs_lbs= val_outputs.argmax(axis=1)\n",
        "                val_nr_correct = (val_outputs_lbs == val_Y).sum().item()\n",
        "                step_acc = val_nr_correct / batch_size\n",
        "                steps_val_Acc.append(step_acc)\n",
        "                steps_val_loss.append(val_epoch_loss)\n",
        "            \n",
        "            # Epoch Performance Metrics\n",
        "            train_epoch_loss = mean(steps_train_loss)\n",
        "            train_epoch_Acc = mean(steps_train_Acc)\n",
        "            self.Epochs_Train_loss.append(train_epoch_loss)\n",
        "            self.Epochs_Train_Acc.append(train_epoch_Acc)   \n",
        "            val_epoch_loss = mean(steps_val_loss)\n",
        "            val_epoch_Acc = mean(steps_val_Acc)\n",
        "            self.Epochs_Val_loss.append(val_epoch_loss)\n",
        "            self.Epochs_Val_Acc.append(val_epoch_Acc)\n",
        "            End_time = time.time()   \n",
        "            print('[Epoch: {}]  , Train_loss: {:.1f} , Train_Acc: {:.1%}, Val_loss: {:.1f} , Val_Acc: {:.1%} , run time: {}'\n",
        "            .format(epoch , train_epoch_loss , train_epoch_Acc , val_epoch_loss , val_epoch_Acc, np.round(End_time - start_time, 2)))\n",
        "            \n",
        "        print('Finished Training')"
      ]
    },
    {
      "cell_type": "code",
      "execution_count": 18,
      "metadata": {
        "id": "psZJwVlxAlDh"
      },
      "outputs": [],
      "source": [
        "# Training\n",
        "class Model_Training2:\n",
        "\n",
        "    def __init__(self, Net, LR, batch_size , Momentum, epochs, weight_decay, loss_func, opt_func, X_train, Y_train, X_valid, Y_valid):    \n",
        "        \n",
        "        self.model = Net().to(device)\n",
        "        if opt_func is torch.optim.Adam:\n",
        "            self.opt = opt_func(self.model.parameters(), lr=LR, weight_decay=weight_decay)\n",
        "        else:\n",
        "            self.opt = opt_func(self.model.parameters(), lr=LR,momentum=Momentum, weight_decay=weight_decay)\n",
        "\n",
        "        self.loss_func = loss_func()\n",
        "        self.epochs = epochs\n",
        "        self.X_train = X_train.to(device)\n",
        "        self.Y_train = Y_train.to(device)\n",
        "        self.X_valid = X_valid.to(device)\n",
        "        self.Y_valid = Y_valid.to(device)\n",
        "        self.batch_size = batch_size\n",
        "        self.Epochs_Train_loss = []\n",
        "        self.Epochs_Train_Acc = []\n",
        "        self.Epochs_Val_loss = []\n",
        "        self.Epochs_Val_Acc = []\n",
        "\n",
        "    def train(self):\n",
        "        \n",
        "        model = self.model\n",
        "        loss_fn = self.loss_func\n",
        "        opt = self.opt \n",
        "        batch_size = self.batch_size\n",
        "        nr_of_steps_train =  self.X_train.shape[0]//self.batch_size \n",
        "        nr_of_steps_valid =  self.X_valid.shape[0]//self.batch_size \n",
        "\n",
        "        for epoch in range(1, self.epochs+1 ):\n",
        "            start_time=time.time()\n",
        "            steps_train_loss = []\n",
        "            steps_train_Acc = []\n",
        "            steps_val_loss = []\n",
        "            steps_val_Acc = []\n",
        "\n",
        "            for i in range(0, nr_of_steps_train ):#train_arrays_std.shape[0]):\n",
        "                X = self.X_train[i* batch_size:(i+1) * batch_size]\n",
        "                Y = self.Y_train[i * batch_size:(i+1) * batch_size]\n",
        "                opt.zero_grad()\n",
        "                model.train()\n",
        "                y_pred = model.forward(X)\n",
        "                loss = loss_fn(y_pred, Y)\n",
        "                loss.backward()\n",
        "                opt.step()\n",
        "                y_pred_labels = y_pred.argmax(axis=1)\n",
        "                nr_of_corrects = (y_pred_labels == Y).sum().item()\n",
        "                step_acc = nr_of_corrects / batch_size\n",
        "                steps_train_Acc.append(step_acc)\n",
        "                steps_train_loss.append(loss.item())\n",
        "\n",
        "                # if (i+1) % 200 == 0:    # print every 2000 mini-batches\n",
        "                #     print('[Epoch: {}, Nr. Batch: {}]  , Train-Steps-loss: {:.1f} , running_acc: {:.1%}'.format(epoch , i+1 , train_steps_loss , batch_nr_correct / train_nr_total))\n",
        "                #     self.train_steps_acc = []\n",
        "                #     train_steps_loss = 0\n",
        "\n",
        "              #validation loss calculation\n",
        "            for j in range(0,nr_of_steps_valid):\n",
        "\n",
        "                val_X = self.X_valid[j*batch_size:(j+1)*batch_size]\n",
        "                val_Y = self.Y_valid[j*batch_size:(j+1)*batch_size]\n",
        "                model.eval()\n",
        "                # val_inputs = val_inputs.to(device)\n",
        "                # val_labels = val_labels.to(device)\n",
        "                val_outputs = model(val_X)\n",
        "                val_loss = loss_fn(val_outputs, val_Y)\n",
        "                val_epoch_loss = val_loss.item()\n",
        "                val_outputs_lbs= val_outputs.argmax(axis=1)\n",
        "                val_nr_correct = (val_outputs_lbs == val_Y).sum().item()\n",
        "                step_acc = val_nr_correct / batch_size\n",
        "                steps_val_Acc.append(step_acc)\n",
        "                steps_val_loss.append(val_epoch_loss)\n",
        "            \n",
        "            # Epoch Performance Metrics\n",
        "            train_epoch_loss = mean(steps_train_loss)\n",
        "            train_epoch_Acc = mean(steps_train_Acc)\n",
        "            self.Epochs_Train_loss.append(train_epoch_loss)\n",
        "            self.Epochs_Train_Acc.append(train_epoch_Acc)   \n",
        "            val_epoch_loss = mean(steps_val_loss)\n",
        "            val_epoch_Acc = mean(steps_val_Acc)\n",
        "            self.Epochs_Val_loss.append(val_epoch_loss)\n",
        "            self.Epochs_Val_Acc.append(val_epoch_Acc)\n",
        "            End_time = time.time()   \n",
        "            print('[Epoch: {}]  , Train_loss: {:.1f} , Train_Acc: {:.1%}, Val_loss: {:.1f} , Val_Acc: {:.1%} , run time: {}'\n",
        "            .format(epoch , train_epoch_loss , train_epoch_Acc , val_epoch_loss , val_epoch_Acc, np.round(End_time - start_time, 2)))\n",
        "            \n",
        "        print('Finished Training')"
      ]
    },
    {
      "cell_type": "markdown",
      "metadata": {
        "id": "geKyTRJ8AlDh"
      },
      "source": [
        "# **Model 1:Net1**"
      ]
    },
    {
      "cell_type": "code",
      "execution_count": null,
      "metadata": {
        "id": "uZX1IMZIAlDh"
      },
      "outputs": [],
      "source": [
        "batch_size = 64\n",
        "LR = 0.0013\n",
        "Momentum = 0.72\n",
        "epochs = 50\n",
        "model_ = CNN_Net2().to(device)\n",
        "loss_fn = nn.CrossEntropyLoss()\n",
        "optimizer = torch.optim.SGD(model_.parameters(), lr = LR, momentum = Momentum)\n",
        "# optimizer = torch.optim.Adam(model2.parameters(), lr = LR, weight_decay=0.001)\n",
        "X_train = input_data[0]\n",
        "Y_train = labels[0]\n",
        "X_valid = input_data[1]\n",
        "Y_valid = labels[1]\n",
        "Model_1 = Model_Training( model_, loss_fn, optimizer, epochs, batch_size, X_train, Y_train, X_valid, Y_valid)"
      ]
    },
    {
      "cell_type": "code",
      "execution_count": null,
      "metadata": {
        "id": "NVtFhaO8AlDh",
        "outputId": "22812f96-ffdb-4dd3-b291-77f056393c92",
        "colab": {
          "base_uri": "https://localhost:8080/"
        }
      },
      "outputs": [
        {
          "output_type": "stream",
          "name": "stdout",
          "text": [
            "[Epoch: 1]  , Train_loss: 1.8 , Train_Acc: 33.3%, Val_loss: 1.7 , Val_Acc: 35.7% , run time: 0.28\n",
            "[Epoch: 2]  , Train_loss: 1.7 , Train_Acc: 33.4%, Val_loss: 1.6 , Val_Acc: 38.0% , run time: 0.21\n",
            "[Epoch: 3]  , Train_loss: 1.6 , Train_Acc: 40.5%, Val_loss: 1.5 , Val_Acc: 42.2% , run time: 0.21\n",
            "[Epoch: 4]  , Train_loss: 1.5 , Train_Acc: 42.1%, Val_loss: 1.5 , Val_Acc: 43.5% , run time: 0.21\n",
            "[Epoch: 5]  , Train_loss: 1.5 , Train_Acc: 42.9%, Val_loss: 1.5 , Val_Acc: 44.8% , run time: 0.21\n",
            "[Epoch: 6]  , Train_loss: 1.4 , Train_Acc: 43.6%, Val_loss: 1.5 , Val_Acc: 44.8% , run time: 0.22\n",
            "[Epoch: 7]  , Train_loss: 1.4 , Train_Acc: 44.0%, Val_loss: 1.4 , Val_Acc: 45.1% , run time: 0.22\n",
            "[Epoch: 8]  , Train_loss: 1.4 , Train_Acc: 44.9%, Val_loss: 1.4 , Val_Acc: 46.1% , run time: 0.21\n",
            "[Epoch: 9]  , Train_loss: 1.4 , Train_Acc: 45.7%, Val_loss: 1.4 , Val_Acc: 46.6% , run time: 0.21\n",
            "[Epoch: 10]  , Train_loss: 1.4 , Train_Acc: 46.3%, Val_loss: 1.4 , Val_Acc: 48.4% , run time: 0.21\n",
            "[Epoch: 11]  , Train_loss: 1.4 , Train_Acc: 47.0%, Val_loss: 1.4 , Val_Acc: 48.2% , run time: 0.21\n",
            "[Epoch: 12]  , Train_loss: 1.4 , Train_Acc: 47.9%, Val_loss: 1.4 , Val_Acc: 48.7% , run time: 0.21\n",
            "[Epoch: 13]  , Train_loss: 1.3 , Train_Acc: 48.2%, Val_loss: 1.4 , Val_Acc: 49.2% , run time: 0.21\n",
            "[Epoch: 14]  , Train_loss: 1.3 , Train_Acc: 48.7%, Val_loss: 1.4 , Val_Acc: 50.5% , run time: 0.21\n",
            "[Epoch: 15]  , Train_loss: 1.3 , Train_Acc: 49.9%, Val_loss: 1.3 , Val_Acc: 53.4% , run time: 0.22\n",
            "[Epoch: 16]  , Train_loss: 1.3 , Train_Acc: 51.8%, Val_loss: 1.3 , Val_Acc: 53.1% , run time: 0.22\n",
            "[Epoch: 17]  , Train_loss: 1.3 , Train_Acc: 53.2%, Val_loss: 1.3 , Val_Acc: 53.1% , run time: 0.21\n",
            "[Epoch: 18]  , Train_loss: 1.3 , Train_Acc: 53.9%, Val_loss: 1.3 , Val_Acc: 53.6% , run time: 0.21\n",
            "[Epoch: 19]  , Train_loss: 1.2 , Train_Acc: 54.2%, Val_loss: 1.3 , Val_Acc: 53.6% , run time: 0.21\n",
            "[Epoch: 20]  , Train_loss: 1.2 , Train_Acc: 54.7%, Val_loss: 1.3 , Val_Acc: 53.9% , run time: 0.21\n",
            "[Epoch: 21]  , Train_loss: 1.2 , Train_Acc: 55.1%, Val_loss: 1.3 , Val_Acc: 53.6% , run time: 0.22\n",
            "[Epoch: 22]  , Train_loss: 1.2 , Train_Acc: 55.2%, Val_loss: 1.3 , Val_Acc: 53.4% , run time: 0.28\n",
            "[Epoch: 23]  , Train_loss: 1.2 , Train_Acc: 55.5%, Val_loss: 1.2 , Val_Acc: 53.9% , run time: 0.25\n",
            "[Epoch: 24]  , Train_loss: 1.2 , Train_Acc: 55.8%, Val_loss: 1.2 , Val_Acc: 54.4% , run time: 0.21\n",
            "[Epoch: 25]  , Train_loss: 1.2 , Train_Acc: 55.8%, Val_loss: 1.2 , Val_Acc: 54.9% , run time: 0.25\n",
            "[Epoch: 26]  , Train_loss: 1.2 , Train_Acc: 56.3%, Val_loss: 1.2 , Val_Acc: 55.5% , run time: 0.28\n",
            "[Epoch: 27]  , Train_loss: 1.2 , Train_Acc: 56.6%, Val_loss: 1.2 , Val_Acc: 56.0% , run time: 0.21\n",
            "[Epoch: 28]  , Train_loss: 1.2 , Train_Acc: 57.1%, Val_loss: 1.2 , Val_Acc: 56.2% , run time: 0.21\n",
            "[Epoch: 29]  , Train_loss: 1.1 , Train_Acc: 57.4%, Val_loss: 1.2 , Val_Acc: 55.5% , run time: 0.22\n",
            "[Epoch: 30]  , Train_loss: 1.1 , Train_Acc: 57.8%, Val_loss: 1.2 , Val_Acc: 56.0% , run time: 0.22\n",
            "[Epoch: 31]  , Train_loss: 1.1 , Train_Acc: 57.9%, Val_loss: 1.2 , Val_Acc: 56.0% , run time: 0.21\n",
            "[Epoch: 32]  , Train_loss: 1.1 , Train_Acc: 58.4%, Val_loss: 1.2 , Val_Acc: 55.7% , run time: 0.21\n",
            "[Epoch: 33]  , Train_loss: 1.1 , Train_Acc: 58.7%, Val_loss: 1.2 , Val_Acc: 56.2% , run time: 0.21\n",
            "[Epoch: 34]  , Train_loss: 1.1 , Train_Acc: 59.0%, Val_loss: 1.2 , Val_Acc: 56.2% , run time: 0.22\n",
            "[Epoch: 35]  , Train_loss: 1.1 , Train_Acc: 59.2%, Val_loss: 1.2 , Val_Acc: 56.0% , run time: 0.22\n",
            "[Epoch: 36]  , Train_loss: 1.1 , Train_Acc: 59.7%, Val_loss: 1.2 , Val_Acc: 56.2% , run time: 0.21\n",
            "[Epoch: 37]  , Train_loss: 1.1 , Train_Acc: 60.3%, Val_loss: 1.2 , Val_Acc: 56.5% , run time: 0.21\n",
            "[Epoch: 38]  , Train_loss: 1.1 , Train_Acc: 60.4%, Val_loss: 1.2 , Val_Acc: 57.3% , run time: 0.21\n",
            "[Epoch: 39]  , Train_loss: 1.1 , Train_Acc: 60.4%, Val_loss: 1.2 , Val_Acc: 57.8% , run time: 0.22\n",
            "[Epoch: 40]  , Train_loss: 1.1 , Train_Acc: 60.3%, Val_loss: 1.2 , Val_Acc: 57.6% , run time: 0.21\n",
            "[Epoch: 41]  , Train_loss: 1.1 , Train_Acc: 60.6%, Val_loss: 1.2 , Val_Acc: 56.8% , run time: 0.21\n",
            "[Epoch: 42]  , Train_loss: 1.1 , Train_Acc: 61.0%, Val_loss: 1.1 , Val_Acc: 57.3% , run time: 0.21\n",
            "[Epoch: 43]  , Train_loss: 1.0 , Train_Acc: 61.3%, Val_loss: 1.1 , Val_Acc: 57.8% , run time: 0.22\n",
            "[Epoch: 44]  , Train_loss: 1.0 , Train_Acc: 61.4%, Val_loss: 1.1 , Val_Acc: 58.1% , run time: 0.22\n",
            "[Epoch: 45]  , Train_loss: 1.0 , Train_Acc: 61.7%, Val_loss: 1.1 , Val_Acc: 57.8% , run time: 0.22\n",
            "[Epoch: 46]  , Train_loss: 1.0 , Train_Acc: 62.0%, Val_loss: 1.1 , Val_Acc: 57.3% , run time: 0.22\n",
            "[Epoch: 47]  , Train_loss: 1.0 , Train_Acc: 62.1%, Val_loss: 1.1 , Val_Acc: 57.3% , run time: 0.22\n",
            "[Epoch: 48]  , Train_loss: 1.0 , Train_Acc: 62.5%, Val_loss: 1.1 , Val_Acc: 57.3% , run time: 0.22\n",
            "[Epoch: 49]  , Train_loss: 1.0 , Train_Acc: 62.8%, Val_loss: 1.1 , Val_Acc: 57.0% , run time: 0.22\n",
            "[Epoch: 50]  , Train_loss: 1.0 , Train_Acc: 63.0%, Val_loss: 1.1 , Val_Acc: 57.3% , run time: 0.22\n",
            "Finished Training\n"
          ]
        }
      ],
      "source": [
        "torch.manual_seed(0)\n",
        "Model_1.train()"
      ]
    },
    {
      "cell_type": "code",
      "execution_count": null,
      "metadata": {
        "id": "45j0VISkAlDi",
        "outputId": "5c200b89-4125-4ab9-f44e-b506efd95b43",
        "colab": {
          "base_uri": "https://localhost:8080/",
          "height": 565
        }
      },
      "outputs": [
        {
          "output_type": "stream",
          "name": "stdout",
          "text": [
            "Nr. of Data : \n",
            " 311\n",
            "Accuracy of The Model : \n",
            " 0.5401929260450161\n",
            "Confusion Matrix : \n",
            " [[ 2  2  1  0  1  0  0]\n",
            " [ 7 18  8  2  3  4  6]\n",
            " [ 5  7 45  3 16 12  3]\n",
            " [ 0  0  0  0  0  0  0]\n",
            " [ 4  4  9  0 34 14  2]\n",
            " [ 0  0 10  3 13 69  4]\n",
            " [ 0  0  0  0  0  0  0]]\n",
            "Weighted Avg. of sensitivity : \n",
            " 0.36365190335891495\n",
            "Weighted Avg. of specificity : \n",
            " 0.8840536637072443\n"
          ]
        },
        {
          "output_type": "display_data",
          "data": {
            "text/plain": [
              "<Figure size 432x288 with 2 Axes>"
            ],
            "image/png": "[encoded data removed]"
          },
          "metadata": {
            "needs_background": "light"
          }
        }
      ],
      "source": [
        "model_ = Model_1.model.eval().to('cpu')\n",
        "X = input_data[2]\n",
        "Y = labels[2]\n",
        "Y_pred = model_(X).argmax(dim=1)\n",
        "confusion_matrix(Y_pred.cpu(),Y.cpu())"
      ]
    },
    {
      "cell_type": "code",
      "execution_count": 19,
      "metadata": {
        "id": "VL5FxPLAAlDi"
      },
      "outputs": [],
      "source": [
        "Net = [CNN_Net2,CNN_Net3]\n",
        "LR = [0.001,0.0012,0.0015,0.0018,0.01]\n",
        "batch_size = [64,30,50]\n",
        "Momentum = [0.65,0.72,0.8]\n",
        "epochs = [50]\n",
        "weight_decay = [0,0.0001,0.000001,0.0000002]\n",
        "loss_func  =  [nn.CrossEntropyLoss]\n",
        "opt_func = [torch.optim.SGD,torch.optim.Adam]\n",
        "\n",
        "grid = {\n",
        "    'Net' : Net\n",
        "    ,'LR' : LR\n",
        "    ,'batch_size' : batch_size\n",
        "    ,'Momentum' : Momentum\n",
        "    ,'epochs' : epochs\n",
        "    ,'weight_decay' :weight_decay\n",
        "    ,'loss_func'  :loss_func\n",
        "    ,'opt_func' : opt_func\n",
        "}\n",
        "params = sk.model_selection.ParameterGrid(grid)"
      ]
    },
    {
      "cell_type": "code",
      "execution_count": null,
      "metadata": {
        "id": "hEkHc_7xAlDi"
      },
      "outputs": [],
      "source": [
        "Hyper_Details = pd.DataFrame(columns=['hyper_param','train_accuracy','valid_accuracy','test_accuracy','train_fscore','valid_fscore','test_fscore','train_precision','valid_precision','test_precision'\n",
        "                                    ,'train_recall','valid_recall','test_recall'])\n",
        "                                    \n",
        "X_train = input_data[0]\n",
        "Y_train = labels[0]\n",
        "X_valid = input_data[1]\n",
        "Y_valid = labels[1]\n",
        "X_test = input_data[2]\n",
        "Y_test = labels[2]\n",
        "\n",
        "for p in params:\n",
        "    Model_ = Model_Training2(**p, X_train = X_train , Y_train = Y_train, X_valid = X_valid , Y_valid= Y_valid)\n",
        "    torch.manual_seed(0)\n",
        "    Model_.train()\n",
        "    \n",
        "    model_ = Model_.model.eval()\n",
        "\n",
        "    # Train\n",
        "    Y_pred = model_(X_train.to(device)).argmax(axis=1)\n",
        "    Y = Y_train\n",
        "    train_accuracy = sk.metrics.accuracy_score(Y_pred.to('cpu'),Y.to('cpu') )\n",
        "\n",
        "    train_precision, train_recall, train_fscore, m = sk.metrics.precision_recall_fscore_support(Y_pred.to('cpu'),Y.to('cpu'), average = 'weighted')\n",
        "\n",
        "    # Valid\n",
        "    Y_pred = model_(X_valid.to(device)).argmax(axis=1)\n",
        "    Y = Y_valid\n",
        "    valid_accuracy = sk.metrics.accuracy_score(Y_pred.to('cpu'),Y.to('cpu') )\n",
        "    valid_precision, valid_recall, valid_fscore, m = sk.metrics.precision_recall_fscore_support(Y_pred.to('cpu'),Y.to('cpu'), average = 'weighted')\n",
        "\n",
        "    # Test\n",
        "    Y_pred = model_(X_test.to(device)).argmax(axis=1)\n",
        "    Y = Y_test\n",
        "    test_accuracy = sk.metrics.accuracy_score(Y_pred.to('cpu'),Y.to('cpu') )\n",
        "    test_precision, test_recall, test_fscore, m = sk.metrics.precision_recall_fscore_support(Y_pred.to('cpu'),Y.to('cpu'), average = 'weighted')\n",
        "\n",
        "\n",
        "    new_row = pd.Series({'hyper_param':p,'train_accuracy':train_accuracy,'valid_accuracy':valid_accuracy,'test_accuracy':test_accuracy,'train_fscore':train_fscore,'valid_fscore':valid_fscore,'test_fscore':test_fscore\n",
        "    ,'train_precision':train_precision,'valid_precision':valid_precision,'test_precision':test_precision,'train_recall':train_recall,'valid_recall':valid_recall,'test_recall':test_recall}, name='')\n",
        "    Hyper_Details = Hyper_Details.append(new_row)\n",
        "\n",
        "best_one = np.argmax(Hyper_Details.test_fscore)\n",
        "best_param = Hyper_Details.iloc[best_one]['hyper_param']\n",
        "\n",
        "CNN_Details = Hyper_Details\n",
        "CNN_Details.to_csv('SkinCare_60x45_param_Details.csv')\n",
        "Model_1 = Model_Training2(**best_param, X_train = X_train, Y_train = Y_train, X_valid = X_valid, Y_valid= Y_valid)\n",
        "torch.manual_seed(0)\n",
        "Model_1.train()"
      ]
    },
    {
      "cell_type": "markdown",
      "metadata": {
        "id": "m0iEUSrUAlDi"
      },
      "source": [
        "model_ = Model_1.model.eval()\n",
        "X = input_data[2]\n",
        "Y = labels[2]\n",
        "Y_pred = model_(X).argmax(dim=1)\n",
        "confusion_matrix(Y_pred,Y)"
      ]
    },
    {
      "cell_type": "code",
      "source": [
        "model_ = Model_1.model.eval()\n",
        "X = input_data[2].to(device)\n",
        "Y = labels[2].to(device)\n",
        "Y_pred = model_(X).argmax(dim=1)\n",
        "confusion_matrix(Y_pred.to('cpu'),Y.to('cpu'))"
      ],
      "metadata": {
        "id": "2XilnnvICU8q",
        "outputId": "e63f850f-8e3a-405c-c6c5-ac76348c020c",
        "colab": {
          "base_uri": "https://localhost:8080/",
          "height": 707
        }
      },
      "execution_count": 23,
      "outputs": [
        {
          "output_type": "stream",
          "name": "stdout",
          "text": [
            "Nr. of Data : \n",
            " 311\n",
            "Accuracy of The Model : \n",
            " 0.6334405144694534\n",
            "Weighted Avg. of sensitivity : \n",
            " 0.5598780670003648\n",
            "Weighted Avg. of specificity : \n",
            " 0.922983585815559\n",
            "------- Precision recal %--------\n",
            "              precision    recall  f1-score   support\n",
            "\n",
            "           0       0.64      0.50      0.56        18\n",
            "           1       0.61      0.71      0.66        31\n",
            "           2       0.58      0.70      0.63        73\n",
            "           3       0.00      0.00      0.00         8\n",
            "           4       0.54      0.37      0.44        67\n",
            "           5       0.70      0.80      0.75        99\n",
            "           6       0.85      0.73      0.79        15\n",
            "\n",
            "    accuracy                           0.63       311\n",
            "   macro avg       0.56      0.54      0.55       311\n",
            "weighted avg       0.61      0.63      0.62       311\n",
            "\n",
            "------- confusion matrix--------\n"
          ]
        },
        {
          "output_type": "display_data",
          "data": {
            "text/plain": [
              "<Figure size 432x288 with 2 Axes>"
            ],
            "image/png": "[encoded data removed]"
          },
          "metadata": {
            "needs_background": "light"
          }
        }
      ]
    },
    {
      "cell_type": "code",
      "source": [
        "best_param"
      ],
      "metadata": {
        "id": "aTsnGlgFC6K5",
        "outputId": "dad45c85-30f6-410c-9864-9bfc4d99f6c1",
        "colab": {
          "base_uri": "https://localhost:8080/",
          "height": 168
        }
      },
      "execution_count": 1,
      "outputs": [
        {
          "output_type": "error",
          "ename": "NameError",
          "evalue": "ignored",
          "traceback": [
            "\u001b[0;31m---------------------------------------------------------------------------\u001b[0m",
            "\u001b[0;31mNameError\u001b[0m                                 Traceback (most recent call last)",
            "\u001b[0;32m<ipython-input-1-e3d5e850fa1c>\u001b[0m in \u001b[0;36m<module>\u001b[0;34m()\u001b[0m\n\u001b[0;32m----> 1\u001b[0;31m \u001b[0mbest_param\u001b[0m\u001b[0;34m\u001b[0m\u001b[0;34m\u001b[0m\u001b[0m\n\u001b[0m",
            "\u001b[0;31mNameError\u001b[0m: name 'best_param' is not defined"
          ]
        }
      ]
    },
    {
      "cell_type": "code",
      "execution_count": 21,
      "metadata": {
        "id": "Vjhuvwf_AlDi",
        "outputId": "60be71f0-616d-48c3-a879-b9e831efa514",
        "colab": {
          "base_uri": "https://localhost:8080/",
          "height": 298
        }
      },
      "outputs": [
        {
          "output_type": "display_data",
          "data": {
            "text/plain": [
              "<Figure size 432x288 with 1 Axes>"
            ],
            "image/png": "[encoded data removed]"
          },
          "metadata": {
            "needs_background": "light"
          }
        }
      ],
      "source": [
        "model_ = Model_1\n",
        "epochs_X = [i for i in range(1, model_.epochs+1)]\n",
        "epochs_X\n",
        "plt.subplots(figsize=(6,4))\n",
        "\n",
        "plt.plot(epochs_X , model_.Epochs_Train_loss, 'o-', label='Train loss')\n",
        "plt.plot(epochs_X , model_.Epochs_Val_loss,'ro-', label='Validation loss')\n",
        "plt.xlabel(\"Epochs\", fontsize = 12)\n",
        "plt.ylabel(\"Loss\", fontsize = 12)\n",
        "plt.grid()\n",
        "plt.legend()\n",
        "plt.title('Train and Validation loss by epochs')\n",
        "plt.show()"
      ]
    },
    {
      "cell_type": "code",
      "execution_count": 22,
      "metadata": {
        "id": "Qcr7YNOoAlDi",
        "outputId": "7f76a4b1-3ff0-4267-96d8-8747570707d9",
        "colab": {
          "base_uri": "https://localhost:8080/",
          "height": 298
        }
      },
      "outputs": [
        {
          "output_type": "display_data",
          "data": {
            "text/plain": [
              "<Figure size 432x288 with 1 Axes>"
            ],
            "image/png": "[encoded data removed]"
          },
          "metadata": {
            "needs_background": "light"
          }
        }
      ],
      "source": [
        "model_ = Model_1\n",
        "epochs_X = [i for i in range(1, model_.epochs+1)]\n",
        "epochs_X\n",
        "plt.subplots(figsize=(6,4))\n",
        "\n",
        "plt.plot(epochs_X , model_.Epochs_Train_Acc, 'o-', label='Train Accuracy')\n",
        "plt.plot(epochs_X , model_.Epochs_Val_Acc,'ro-', label='Validation Accuracy')\n",
        "plt.xlabel(\"Epochs\", fontsize = 12)\n",
        "plt.ylabel(\"Accuracy\", fontsize = 12)\n",
        "plt.grid()\n",
        "plt.legend()\n",
        "plt.title('Train and Validation Accuracy by epochs')\n",
        "plt.show()"
      ]
    },
    {
      "cell_type": "markdown",
      "metadata": {
        "id": "Ksq8mnI2AlDj"
      },
      "source": [
        "# **Model 2: Net2**"
      ]
    },
    {
      "cell_type": "code",
      "execution_count": null,
      "metadata": {
        "id": "IuKLgrZ4Q_xz"
      },
      "outputs": [],
      "source": [
        "batch_size = 64\n",
        "LR = 0.001\n",
        "Momentum = 0.7\n",
        "epochs = 75\n",
        "model2 = CNN_Net2()\n",
        "model2 = model2.to(device)  # put all model params on GPU.\n",
        "loss_fn = nn.CrossEntropyLoss()\n",
        "optimizer = torch.optim.SGD(model2.parameters(), lr = LR, momentum = Momentum)\n",
        "# optimizer = torch.optim.Adam(model2.parameters(), lr = LR, weight_decay=0.0003)\n",
        "X_train = input_data[0]\n",
        "Y_train = labels[0]\n",
        "X_valid = input_data[1]\n",
        "Y_valid = labels[1]\n",
        "Model_2 = Model_Training( model2, loss_fn, optimizer, epochs, batch_size, X_train, Y_train, X_valid, Y_valid)"
      ]
    },
    {
      "cell_type": "code",
      "execution_count": null,
      "metadata": {
        "id": "3IRZEblhAlDj",
        "outputId": "c7d1ea33-581c-4c11-de8b-3577ecd01c20"
      },
      "outputs": [
        {
          "name": "stdout",
          "output_type": "stream",
          "text": [
            "[Epoch: 1]  , Train_loss: 1.8 , Train_Acc: 27.3%, Val_loss: 1.8 , Val_Acc: 30.9% , run time: 11.27\n",
            "[Epoch: 2]  , Train_loss: 1.7 , Train_Acc: 32.7%, Val_loss: 1.6 , Val_Acc: 34.2% , run time: 10.92\n",
            "[Epoch: 3]  , Train_loss: 1.5 , Train_Acc: 37.4%, Val_loss: 1.5 , Val_Acc: 41.0% , run time: 10.96\n",
            "[Epoch: 4]  , Train_loss: 1.5 , Train_Acc: 42.5%, Val_loss: 1.5 , Val_Acc: 44.4% , run time: 10.96\n",
            "[Epoch: 5]  , Train_loss: 1.4 , Train_Acc: 45.3%, Val_loss: 1.4 , Val_Acc: 46.7% , run time: 11.0\n",
            "[Epoch: 6]  , Train_loss: 1.4 , Train_Acc: 46.6%, Val_loss: 1.4 , Val_Acc: 45.8% , run time: 10.97\n",
            "[Epoch: 7]  , Train_loss: 1.4 , Train_Acc: 47.5%, Val_loss: 1.4 , Val_Acc: 46.9% , run time: 10.98\n",
            "[Epoch: 8]  , Train_loss: 1.4 , Train_Acc: 48.0%, Val_loss: 1.4 , Val_Acc: 47.4% , run time: 11.02\n",
            "[Epoch: 9]  , Train_loss: 1.4 , Train_Acc: 48.4%, Val_loss: 1.4 , Val_Acc: 47.4% , run time: 11.04\n",
            "[Epoch: 10]  , Train_loss: 1.4 , Train_Acc: 48.8%, Val_loss: 1.4 , Val_Acc: 48.4% , run time: 11.12\n",
            "[Epoch: 11]  , Train_loss: 1.3 , Train_Acc: 49.2%, Val_loss: 1.4 , Val_Acc: 48.6% , run time: 11.31\n",
            "[Epoch: 12]  , Train_loss: 1.3 , Train_Acc: 49.8%, Val_loss: 1.3 , Val_Acc: 48.6% , run time: 10.95\n",
            "[Epoch: 13]  , Train_loss: 1.3 , Train_Acc: 50.4%, Val_loss: 1.3 , Val_Acc: 49.0% , run time: 11.04\n",
            "[Epoch: 14]  , Train_loss: 1.3 , Train_Acc: 50.7%, Val_loss: 1.3 , Val_Acc: 49.7% , run time: 10.99\n",
            "[Epoch: 15]  , Train_loss: 1.3 , Train_Acc: 51.1%, Val_loss: 1.3 , Val_Acc: 49.7% , run time: 11.04\n",
            "[Epoch: 16]  , Train_loss: 1.3 , Train_Acc: 51.4%, Val_loss: 1.3 , Val_Acc: 49.5% , run time: 11.01\n",
            "[Epoch: 17]  , Train_loss: 1.3 , Train_Acc: 52.0%, Val_loss: 1.3 , Val_Acc: 49.7% , run time: 11.01\n",
            "[Epoch: 18]  , Train_loss: 1.3 , Train_Acc: 52.5%, Val_loss: 1.3 , Val_Acc: 49.8% , run time: 11.4\n",
            "[Epoch: 19]  , Train_loss: 1.3 , Train_Acc: 52.7%, Val_loss: 1.3 , Val_Acc: 50.3% , run time: 11.08\n",
            "[Epoch: 20]  , Train_loss: 1.3 , Train_Acc: 53.2%, Val_loss: 1.3 , Val_Acc: 50.7% , run time: 10.96\n",
            "[Epoch: 21]  , Train_loss: 1.2 , Train_Acc: 53.3%, Val_loss: 1.3 , Val_Acc: 50.5% , run time: 10.96\n",
            "[Epoch: 22]  , Train_loss: 1.2 , Train_Acc: 53.7%, Val_loss: 1.3 , Val_Acc: 51.0% , run time: 10.96\n",
            "[Epoch: 23]  , Train_loss: 1.2 , Train_Acc: 54.2%, Val_loss: 1.3 , Val_Acc: 50.3% , run time: 11.23\n",
            "[Epoch: 24]  , Train_loss: 1.2 , Train_Acc: 54.6%, Val_loss: 1.2 , Val_Acc: 50.9% , run time: 10.97\n",
            "[Epoch: 25]  , Train_loss: 1.2 , Train_Acc: 55.0%, Val_loss: 1.2 , Val_Acc: 51.2% , run time: 11.0\n",
            "[Epoch: 26]  , Train_loss: 1.2 , Train_Acc: 55.3%, Val_loss: 1.2 , Val_Acc: 51.4% , run time: 11.08\n",
            "[Epoch: 27]  , Train_loss: 1.2 , Train_Acc: 55.5%, Val_loss: 1.2 , Val_Acc: 51.4% , run time: 11.24\n",
            "[Epoch: 28]  , Train_loss: 1.2 , Train_Acc: 55.7%, Val_loss: 1.2 , Val_Acc: 50.7% , run time: 11.2\n",
            "[Epoch: 29]  , Train_loss: 1.2 , Train_Acc: 56.1%, Val_loss: 1.2 , Val_Acc: 50.7% , run time: 10.92\n",
            "[Epoch: 30]  , Train_loss: 1.2 , Train_Acc: 56.5%, Val_loss: 1.2 , Val_Acc: 51.2% , run time: 10.89\n",
            "[Epoch: 31]  , Train_loss: 1.2 , Train_Acc: 57.0%, Val_loss: 1.2 , Val_Acc: 51.4% , run time: 10.88\n",
            "[Epoch: 32]  , Train_loss: 1.1 , Train_Acc: 57.3%, Val_loss: 1.2 , Val_Acc: 51.4% , run time: 10.88\n",
            "[Epoch: 33]  , Train_loss: 1.1 , Train_Acc: 57.4%, Val_loss: 1.2 , Val_Acc: 51.4% , run time: 10.88\n",
            "[Epoch: 34]  , Train_loss: 1.1 , Train_Acc: 57.7%, Val_loss: 1.2 , Val_Acc: 51.2% , run time: 10.88\n",
            "[Epoch: 35]  , Train_loss: 1.1 , Train_Acc: 57.9%, Val_loss: 1.2 , Val_Acc: 51.2% , run time: 10.92\n",
            "[Epoch: 36]  , Train_loss: 1.1 , Train_Acc: 58.3%, Val_loss: 1.2 , Val_Acc: 51.6% , run time: 10.98\n",
            "[Epoch: 37]  , Train_loss: 1.1 , Train_Acc: 58.5%, Val_loss: 1.2 , Val_Acc: 52.3% , run time: 11.0\n",
            "[Epoch: 38]  , Train_loss: 1.1 , Train_Acc: 58.7%, Val_loss: 1.2 , Val_Acc: 52.4% , run time: 11.22\n",
            "[Epoch: 39]  , Train_loss: 1.1 , Train_Acc: 59.0%, Val_loss: 1.2 , Val_Acc: 52.3% , run time: 11.11\n",
            "[Epoch: 40]  , Train_loss: 1.1 , Train_Acc: 59.5%, Val_loss: 1.1 , Val_Acc: 52.6% , run time: 11.06\n",
            "[Epoch: 41]  , Train_loss: 1.1 , Train_Acc: 59.9%, Val_loss: 1.1 , Val_Acc: 52.8% , run time: 11.04\n",
            "[Epoch: 42]  , Train_loss: 1.1 , Train_Acc: 60.3%, Val_loss: 1.1 , Val_Acc: 53.0% , run time: 11.06\n",
            "[Epoch: 43]  , Train_loss: 1.0 , Train_Acc: 60.4%, Val_loss: 1.1 , Val_Acc: 53.0% , run time: 11.09\n",
            "[Epoch: 44]  , Train_loss: 1.0 , Train_Acc: 60.8%, Val_loss: 1.1 , Val_Acc: 53.3% , run time: 11.08\n",
            "[Epoch: 45]  , Train_loss: 1.0 , Train_Acc: 61.2%, Val_loss: 1.1 , Val_Acc: 54.0% , run time: 11.01\n",
            "[Epoch: 46]  , Train_loss: 1.0 , Train_Acc: 61.6%, Val_loss: 1.1 , Val_Acc: 54.2% , run time: 11.0\n",
            "[Epoch: 47]  , Train_loss: 1.0 , Train_Acc: 62.1%, Val_loss: 1.1 , Val_Acc: 54.2% , run time: 11.04\n",
            "[Epoch: 48]  , Train_loss: 1.0 , Train_Acc: 62.2%, Val_loss: 1.1 , Val_Acc: 54.9% , run time: 11.04\n",
            "[Epoch: 49]  , Train_loss: 1.0 , Train_Acc: 62.6%, Val_loss: 1.1 , Val_Acc: 55.4% , run time: 10.98\n",
            "[Epoch: 50]  , Train_loss: 1.0 , Train_Acc: 63.0%, Val_loss: 1.1 , Val_Acc: 54.9% , run time: 11.03\n",
            "[Epoch: 51]  , Train_loss: 1.0 , Train_Acc: 63.6%, Val_loss: 1.1 , Val_Acc: 54.7% , run time: 11.05\n",
            "[Epoch: 52]  , Train_loss: 1.0 , Train_Acc: 64.1%, Val_loss: 1.1 , Val_Acc: 54.5% , run time: 11.07\n",
            "[Epoch: 53]  , Train_loss: 1.0 , Train_Acc: 64.3%, Val_loss: 1.1 , Val_Acc: 54.7% , run time: 11.04\n",
            "[Epoch: 54]  , Train_loss: 1.0 , Train_Acc: 64.5%, Val_loss: 1.1 , Val_Acc: 54.9% , run time: 11.2\n",
            "[Epoch: 55]  , Train_loss: 1.0 , Train_Acc: 64.8%, Val_loss: 1.1 , Val_Acc: 55.0% , run time: 11.22\n",
            "[Epoch: 56]  , Train_loss: 0.9 , Train_Acc: 65.3%, Val_loss: 1.1 , Val_Acc: 54.3% , run time: 11.11\n",
            "[Epoch: 57]  , Train_loss: 0.9 , Train_Acc: 65.3%, Val_loss: 1.1 , Val_Acc: 54.3% , run time: 11.08\n",
            "[Epoch: 58]  , Train_loss: 0.9 , Train_Acc: 65.5%, Val_loss: 1.1 , Val_Acc: 55.0% , run time: 11.05\n",
            "[Epoch: 59]  , Train_loss: 0.9 , Train_Acc: 65.9%, Val_loss: 1.1 , Val_Acc: 55.0% , run time: 11.06\n",
            "[Epoch: 60]  , Train_loss: 0.9 , Train_Acc: 66.0%, Val_loss: 1.1 , Val_Acc: 54.5% , run time: 11.06\n",
            "[Epoch: 61]  , Train_loss: 0.9 , Train_Acc: 66.4%, Val_loss: 1.1 , Val_Acc: 54.9% , run time: 11.24\n",
            "[Epoch: 62]  , Train_loss: 0.9 , Train_Acc: 66.7%, Val_loss: 1.1 , Val_Acc: 54.9% , run time: 11.1\n",
            "[Epoch: 63]  , Train_loss: 0.9 , Train_Acc: 66.7%, Val_loss: 1.1 , Val_Acc: 55.0% , run time: 10.93\n",
            "[Epoch: 64]  , Train_loss: 0.9 , Train_Acc: 66.9%, Val_loss: 1.1 , Val_Acc: 55.2% , run time: 10.94\n",
            "[Epoch: 65]  , Train_loss: 0.9 , Train_Acc: 67.2%, Val_loss: 1.1 , Val_Acc: 55.6% , run time: 10.93\n",
            "[Epoch: 66]  , Train_loss: 0.9 , Train_Acc: 67.3%, Val_loss: 1.1 , Val_Acc: 55.7% , run time: 10.93\n",
            "[Epoch: 67]  , Train_loss: 0.9 , Train_Acc: 67.6%, Val_loss: 1.1 , Val_Acc: 55.4% , run time: 10.94\n",
            "[Epoch: 68]  , Train_loss: 0.9 , Train_Acc: 68.0%, Val_loss: 1.1 , Val_Acc: 55.4% , run time: 10.93\n",
            "[Epoch: 69]  , Train_loss: 0.9 , Train_Acc: 68.2%, Val_loss: 1.1 , Val_Acc: 55.0% , run time: 10.93\n",
            "[Epoch: 70]  , Train_loss: 0.9 , Train_Acc: 68.3%, Val_loss: 1.1 , Val_Acc: 55.0% , run time: 10.96\n",
            "[Epoch: 71]  , Train_loss: 0.9 , Train_Acc: 68.5%, Val_loss: 1.1 , Val_Acc: 55.2% , run time: 10.94\n",
            "[Epoch: 72]  , Train_loss: 0.8 , Train_Acc: 68.9%, Val_loss: 1.1 , Val_Acc: 55.2% , run time: 10.93\n",
            "[Epoch: 73]  , Train_loss: 0.8 , Train_Acc: 69.0%, Val_loss: 1.1 , Val_Acc: 55.7% , run time: 10.92\n",
            "[Epoch: 74]  , Train_loss: 0.8 , Train_Acc: 69.1%, Val_loss: 1.1 , Val_Acc: 56.2% , run time: 10.92\n",
            "[Epoch: 75]  , Train_loss: 0.8 , Train_Acc: 69.5%, Val_loss: 1.1 , Val_Acc: 56.4% , run time: 10.92\n",
            "Finished Training\n"
          ]
        }
      ],
      "source": [
        "Model_2.Train_CNNs()"
      ]
    },
    {
      "cell_type": "code",
      "execution_count": null,
      "metadata": {
        "id": "huSGH-RsAlDj",
        "outputId": "3b4b064d-1600-45d8-f775-8831841f1a99"
      },
      "outputs": [
        {
          "name": "stdout",
          "output_type": "stream",
          "text": [
            "Nr. of Data : \n",
            " 451\n",
            "Accuracy of The Model : \n",
            " 0.6008869179600886\n",
            "Confusion Matrix : \n",
            " [[18  6  3  1  5  3  0]\n",
            " [ 5 25  6  5  3  0  4]\n",
            " [ 1 14 77  1 26  9  0]\n",
            " [ 1  0  0  0  0  0  0]\n",
            " [ 3  2 20  0 41  5  1]\n",
            " [ 4  3 15  1 27 98  3]\n",
            " [ 0  1  1  0  1  0 12]]\n",
            "Weighted Avg. of sensitivity : \n",
            " 0.4888228946915448\n",
            "Weighted Avg. of specificity : \n",
            " 0.8956341098856812\n"
          ]
        },
        {
          "data": {
            "image/png": "[encoded data removed]",
            "text/plain": [
              "<Figure size 432x288 with 2 Axes>"
            ]
          },
          "metadata": {
            "needs_background": "light"
          },
          "output_type": "display_data"
        }
      ],
      "source": [
        "model_ = model2.eval()\n",
        "X = input_data[2]\n",
        "Y = labels[2]\n",
        "Y_pred = model_(X).argmax(dim=1)\n",
        "confusion_matrix(Y_pred,Y)"
      ]
    },
    {
      "cell_type": "code",
      "execution_count": null,
      "metadata": {
        "id": "ql9bDP4nAlDj",
        "outputId": "195744a7-0023-4026-b9fa-afcd559a016e"
      },
      "outputs": [
        {
          "data": {
            "image/png": "[encoded data removed]",
            "text/plain": [
              "<Figure size 432x288 with 1 Axes>"
            ]
          },
          "metadata": {
            "needs_background": "light"
          },
          "output_type": "display_data"
        }
      ],
      "source": [
        "model_ = Model_2\n",
        "epochs_X = [i for i in range(1, model_.epochs+1)]\n",
        "plt.subplots(figsize=(6,4))\n",
        "\n",
        "plt.plot(epochs_X , model_.Epochs_Train_loss, 'o-', label='Train loss')\n",
        "plt.plot(epochs_X , model_.Epochs_Val_loss,'ro-', label='Validation loss')\n",
        "plt.xlabel(\"Epochs\", fontsize = 12)\n",
        "plt.ylabel(\"Loss\", fontsize = 12)\n",
        "plt.grid()\n",
        "plt.legend()\n",
        "plt.title('Train and Validation loss by epochs')\n",
        "plt.show()"
      ]
    },
    {
      "cell_type": "code",
      "execution_count": null,
      "metadata": {
        "id": "ULX62Ve3AlDj",
        "outputId": "4aecb3c6-d288-4f5c-e2b0-6505c4e0728f"
      },
      "outputs": [
        {
          "data": {
            "image/png": "[encoded data removed]",
            "text/plain": [
              "<Figure size 432x288 with 1 Axes>"
            ]
          },
          "metadata": {
            "needs_background": "light"
          },
          "output_type": "display_data"
        }
      ],
      "source": [
        "model_ = Model_2\n",
        "epochs_X = [i for i in range(1, model_.epochs+1)]\n",
        "epochs_X\n",
        "plt.subplots(figsize=(6,4))\n",
        "\n",
        "plt.plot(epochs_X , model_.Epochs_Train_Acc, 'o-', label='Train Accuracy')\n",
        "plt.plot(epochs_X , model_.Epochs_Val_Acc,'ro-', label='Validation Accuracy')\n",
        "plt.xlabel(\"Epochs\", fontsize = 12)\n",
        "plt.ylabel(\"Accuracy\", fontsize = 12)\n",
        "plt.grid()\n",
        "plt.legend()\n",
        "plt.title('Train and Validation Accuracy by epochs')\n",
        "plt.show()"
      ]
    },
    {
      "cell_type": "markdown",
      "metadata": {
        "id": "xg-ZJmCpAlDj"
      },
      "source": [
        "# **Save the model**"
      ]
    },
    {
      "cell_type": "code",
      "execution_count": null,
      "metadata": {
        "id": "DM15kY74AlDj"
      },
      "outputs": [],
      "source": [
        "pickle.dump(Model_2, open(p_models + 'CNN_60x45_Duplicated', 'wb'))"
      ]
    },
    {
      "cell_type": "code",
      "execution_count": null,
      "metadata": {
        "id": "ZgZ8d28qAlDj"
      },
      "outputs": [],
      "source": [
        "dill.dump([CNN_Net1,CNN_Net2,CNN_Net3, Model_Training], open(p_models + 'CNNs_Network_Training', \"wb\"))"
      ]
    },
    {
      "cell_type": "markdown",
      "metadata": {
        "id": "oW6taeF-AlDj"
      },
      "source": [
        ""
      ]
    }
  ],
  "metadata": {
    "interpreter": {
      "hash": "31f2aee4e71d21fbe5cf8b01ff0e069b9275f58929596ceb00d14d90e3e16cd6"
    },
    "kernelspec": {
      "display_name": "Python 3.8.9 64-bit",
      "language": "python",
      "name": "python3"
    },
    "language_info": {
      "codemirror_mode": {
        "name": "ipython",
        "version": 3
      },
      "file_extension": ".py",
      "mimetype": "text/x-python",
      "name": "python",
      "nbconvert_exporter": "python",
      "pygments_lexer": "ipython3",
      "version": "3.8.9"
    },
    "colab": {
      "name": "CNN_60x45.ipynb",
      "provenance": [],
      "include_colab_link": true
    },
    "accelerator": "GPU"
  },
  "nbformat": 4,
  "nbformat_minor": 0
}