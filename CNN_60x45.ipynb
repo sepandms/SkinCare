{
  "cells": [
    {
      "cell_type": "markdown",
      "metadata": {
        "id": "view-in-github",
        "colab_type": "text"
      },
      "source": [
        "<a href=\"https://colab.research.google.com/github/sepandms/SkinCare/blob/main/CNN_60x45.ipynb\" target=\"_parent\"><img src=\"https://colab.research.google.com/assets/colab-badge.svg\" alt=\"Open In Colab\"/></a>"
      ]
    },
    {
      "cell_type": "code",
      "source": [
        "!pip install pickle5\n",
        "file_link = \"https://drive.google.com/u/0/uc?id=1oDoZz3baGVaX6pZwHfxi0W8SNymKcLzL\"\n",
        "#name = 'DataSource_60x45_blc_noDup.pkl'\n",
        "#!wget -O {name} {file_link} -N\n",
        "!wget --content-disposition {file_link}  "
      ],
      "metadata": {
        "id": "-UIaVWyAKtln",
        "outputId": "3e56f6a9-ac00-4eff-f8a5-e0dd456bdee2",
        "colab": {
          "base_uri": "https://localhost:8080/"
        }
      },
      "execution_count": 3,
      "outputs": [
        {
          "output_type": "stream",
          "name": "stdout",
          "text": [
            "Looking in indexes: https://pypi.org/simple, https://us-python.pkg.dev/colab-wheels/public/simple/\n",
            "Collecting pickle5\n",
            "  Downloading pickle5-0.0.12-cp37-cp37m-manylinux_2_5_x86_64.manylinux1_x86_64.whl (256 kB)\n",
            "\u001b[K     |████████████████████████████████| 256 kB 3.2 MB/s \n",
            "\u001b[?25hInstalling collected packages: pickle5\n",
            "Successfully installed pickle5-0.0.12\n",
            "--2022-06-07 10:24:02--  https://drive.google.com/u/0/uc?id=1oDoZz3baGVaX6pZwHfxi0W8SNymKcLzL\n",
            "Resolving drive.google.com (drive.google.com)... 108.177.111.102, 108.177.111.113, 108.177.111.101, ...\n",
            "Connecting to drive.google.com (drive.google.com)|108.177.111.102|:443... connected.\n",
            "HTTP request sent, awaiting response... 302 Found\n",
            "Location: https://drive.google.com/uc?id=1oDoZz3baGVaX6pZwHfxi0W8SNymKcLzL [following]\n",
            "--2022-06-07 10:24:02--  https://drive.google.com/uc?id=1oDoZz3baGVaX6pZwHfxi0W8SNymKcLzL\n",
            "Reusing existing connection to drive.google.com:443.\n",
            "HTTP request sent, awaiting response... 303 See Other\n",
            "Location: https://doc-08-2g-docs.googleusercontent.com/docs/securesc/ha0ro937gcuc7l7deffksulhg5h7mbp1/hqll6j0jp9vhpqq9q3nophbq37ummh0m/1654597425000/09755144277486379277/*/1oDoZz3baGVaX6pZwHfxi0W8SNymKcLzL [following]\n",
            "Warning: wildcards not supported in HTTP.\n",
            "--2022-06-07 10:24:03--  https://doc-08-2g-docs.googleusercontent.com/docs/securesc/ha0ro937gcuc7l7deffksulhg5h7mbp1/hqll6j0jp9vhpqq9q3nophbq37ummh0m/1654597425000/09755144277486379277/*/1oDoZz3baGVaX6pZwHfxi0W8SNymKcLzL\n",
            "Resolving doc-08-2g-docs.googleusercontent.com (doc-08-2g-docs.googleusercontent.com)... 142.250.159.132, 2607:f8b0:4001:c58::84\n",
            "Connecting to doc-08-2g-docs.googleusercontent.com (doc-08-2g-docs.googleusercontent.com)|142.250.159.132|:443... connected.\n",
            "HTTP request sent, awaiting response... 200 OK\n",
            "Length: 25470864 (24M) [application/octet-stream]\n",
            "Saving to: ‘DataSource_60x45_blc_noDup.pkl’\n",
            "\n",
            "DataSource_60x45_bl 100%[===================>]  24.29M  --.-KB/s    in 0.1s    \n",
            "\n",
            "2022-06-07 10:24:04 (185 MB/s) - ‘DataSource_60x45_blc_noDup.pkl’ saved [25470864/25470864]\n",
            "\n"
          ]
        }
      ]
    },
    {
      "cell_type": "code",
      "execution_count": 22,
      "metadata": {
        "id": "VZrZXitoAlDd"
      },
      "outputs": [],
      "source": [
        "import torch\n",
        "import torch.nn as nn\n",
        "import torch.nn.functional as F\n",
        "import torchvision\n",
        "import torchvision.transforms as transforms\n",
        "#import torchvision.transforms.Compose\n",
        "import numpy as np\n",
        "import matplotlib.pyplot as plt\n",
        "from torch.utils.data import random_split\n",
        "from torch.utils.data import SubsetRandomSampler\n",
        "import time\n",
        "import tqdm\n",
        "import pickle5 as pickle\n",
        "from statistics import mean\n",
        "import pandas as pd\n",
        "import sklearn as sk\n",
        "from sklearn.model_selection import train_test_split\n",
        "device = 'cuda'\n",
        "from sklearn.utils import resample\n",
        "import warnings\n",
        "warnings.filterwarnings('ignore')\n",
        "#path = '/Users/sepehrbe/DataSources/Kaggle/SkinCare/Data/Pickle_Data/'\n",
        "#p_models = '/Users/sepehrbe/DataSources/Kaggle/SkinCare/Models/Saved/'\n",
        "#device = torch.device(\"cpu\")\n",
        "path = '/content/drive/MyDrive/DataSources/'"
      ]
    },
    {
      "cell_type": "code",
      "source": [
        "#file = 'test1.pkl' \n",
        "file = 'DataSource_60x45_blc_noDup.pkl' \n",
        "\n",
        "infile = open(file,'rb')\n",
        "data = pickle.load(infile)"
      ],
      "metadata": {
        "id": "EmItAdeAIgc7"
      },
      "execution_count": 5,
      "outputs": []
    },
    {
      "cell_type": "code",
      "execution_count": 6,
      "metadata": {
        "id": "mTyd2fE_AlDe",
        "outputId": "3b079712-b161-4e86-97d7-44a952bd133a",
        "colab": {
          "base_uri": "https://localhost:8080/"
        }
      },
      "outputs": [
        {
          "output_type": "stream",
          "name": "stdout",
          "text": [
            "Train size:  2375  Valid Size:  420  Test size:  311\n"
          ]
        }
      ],
      "source": [
        "train_data = data[data.type=='train']\n",
        "valid_data = data[data.type=='valid']\n",
        "test_data = data[data.type=='test']\n",
        "\n",
        "training_data = pd.concat([train_data,valid_data], axis=0)\n",
        "print('Train size: ',train_data.shape[0] ,' Valid Size: ',valid_data.shape[0], ' Test size: ', test_data.shape[0])"
      ]
    },
    {
      "cell_type": "markdown",
      "metadata": {
        "id": "0vf3zc_8AlDe"
      },
      "source": [
        "# **Standardize Train and Validation data**"
      ]
    },
    {
      "cell_type": "code",
      "execution_count": 7,
      "metadata": {
        "id": "DfwnXL7VAlDf",
        "outputId": "67968f17-8b2b-48f1-8e4b-f66b4be0f519",
        "colab": {
          "base_uri": "https://localhost:8080/"
        }
      },
      "outputs": [
        {
          "output_type": "stream",
          "name": "stdout",
          "text": [
            "Mean : [0.74757306 0.55395043 0.57981832]   STD: [0.13901983 0.1466928  0.16243817]\n"
          ]
        }
      ],
      "source": [
        "training_arrays = np.stack(training_data['img_array'].values)  \n",
        "training_arrays_scaled = training_arrays / 255\n",
        "Mean = training_arrays_scaled.mean(axis = (0,1,2)) \n",
        "STD = training_arrays_scaled.std(axis = (0,1,2))\n",
        "print(f\"Mean : {Mean}   STD: {STD}\") "
      ]
    },
    {
      "cell_type": "code",
      "execution_count": 8,
      "metadata": {
        "id": "tDkgbyk2AlDf"
      },
      "outputs": [],
      "source": [
        "#Train data standardization\n",
        "train_arrays_std = np.stack(train_data['img_array'].values) / 255\n",
        "for i in range(0,train_arrays_std.shape[0]):\n",
        "    train_arrays_std[i] = (train_arrays_std[i] - Mean) / STD\n",
        "#Validation data standardization\n",
        "valid_arrays_std = np.stack(valid_data['img_array'].values) / 255\n",
        "for i in range(0,valid_arrays_std.shape[0]):\n",
        "    valid_arrays_std[i] = (valid_arrays_std[i] - Mean) / STD\n",
        "#Test data standardization\n",
        "test_arrays_std = np.stack(test_data['img_array'].values) / 255\n",
        "for i in range(0,test_arrays_std.shape[0]):\n",
        "    test_arrays_std[i] = (test_arrays_std[i] - Mean) / STD"
      ]
    },
    {
      "cell_type": "code",
      "execution_count": 9,
      "metadata": {
        "id": "v739KGr7AlDf",
        "outputId": "cedffb0f-0870-4cf8-92dc-95ec7ed0810a",
        "colab": {
          "base_uri": "https://localhost:8080/"
        }
      },
      "outputs": [
        {
          "output_type": "stream",
          "name": "stdout",
          "text": [
            "Mean : [-0.00228189  0.00041095 -0.00230894]   STD: [1.00738491 1.00246694 1.00100759]\n"
          ]
        }
      ],
      "source": [
        "Mean_t = train_arrays_std.mean(axis = (0,1,2)) \n",
        "STD_t = train_arrays_std.std(axis = (0,1,2))\n",
        "print(f\"Mean : {Mean_t}   STD: {STD_t}\") "
      ]
    },
    {
      "cell_type": "code",
      "execution_count": 27,
      "metadata": {
        "id": "o2RHmNlcAlDf"
      },
      "outputs": [],
      "source": [
        "train_arrays_std_T = torch.tensor(train_arrays_std, dtype= torch.float32).transpose(3,1)\n",
        "train_labels = torch.tensor(train_data['label_id'].values.astype(np.long))\n",
        "\n",
        "valid_arrays_std_T = torch.tensor(valid_arrays_std, dtype= torch.float32).transpose(3,1)\n",
        "valid_labels = torch.tensor(valid_data['label_id'].values.astype(np.long))\n",
        "\n",
        "test_arrays_std_T = torch.tensor(test_arrays_std, dtype= torch.float32).transpose(3,1)\n",
        "test_labels = torch.tensor(test_data['label_id'].values.astype(np.long))\n",
        "\n",
        "input_data = (train_arrays_std_T , valid_arrays_std_T, test_arrays_std_T , torch.cat((train_arrays_std_T,valid_arrays_std_T),0) )\n",
        "labels = (train_labels,valid_labels,test_labels , torch.cat((train_labels,valid_labels),0))"
      ]
    },
    {
      "cell_type": "markdown",
      "metadata": {
        "id": "nqCBXtetAlDf"
      },
      "source": [
        "# **Show some Images**"
      ]
    },
    {
      "cell_type": "code",
      "execution_count": 28,
      "metadata": {
        "id": "e3W89pUsAlDf",
        "outputId": "37771785-757c-4501-8d11-34dd2a325d8c",
        "colab": {
          "base_uri": "https://localhost:8080/",
          "height": 1000
        }
      },
      "outputs": [
        {
          "output_type": "stream",
          "name": "stdout",
          "text": [
            "--------Original Image----------\n",
            "i:  ISIC_0031498\n",
            "Image:2346, target:mel\n"
          ]
        },
        {
          "output_type": "display_data",
          "data": {
            "text/plain": [
              "<Figure size 432x288 with 1 Axes>"
            ],
            "image/png": "[encoded data removed]"
          },
          "metadata": {
            "needs_background": "light"
          }
        },
        {
          "output_type": "stream",
          "name": "stderr",
          "text": [
            "Clipping input data to the valid range for imshow with RGB data ([0..1] for floats or [0..255] for integers).\n"
          ]
        },
        {
          "output_type": "stream",
          "name": "stdout",
          "text": [
            "---------Normilized Image---------\n"
          ]
        },
        {
          "output_type": "display_data",
          "data": {
            "text/plain": [
              "<Figure size 432x288 with 1 Axes>"
            ],
            "image/png": "[encoded data removed]"
          },
          "metadata": {
            "needs_background": "light"
          }
        },
        {
          "output_type": "stream",
          "name": "stdout",
          "text": [
            "###################################\n",
            "--------Original Image----------\n",
            "i:  ISIC_0028079\n",
            "Image:963, target:bcc\n"
          ]
        },
        {
          "output_type": "display_data",
          "data": {
            "text/plain": [
              "<Figure size 432x288 with 1 Axes>"
            ],
            "image/png": "[encoded data removed]"
          },
          "metadata": {
            "needs_background": "light"
          }
        },
        {
          "output_type": "stream",
          "name": "stderr",
          "text": [
            "Clipping input data to the valid range for imshow with RGB data ([0..1] for floats or [0..255] for integers).\n"
          ]
        },
        {
          "output_type": "stream",
          "name": "stdout",
          "text": [
            "---------Normilized Image---------\n"
          ]
        },
        {
          "output_type": "display_data",
          "data": {
            "text/plain": [
              "<Figure size 432x288 with 1 Axes>"
            ],
            "image/png": "[encoded data removed]"
          },
          "metadata": {
            "needs_background": "light"
          }
        },
        {
          "output_type": "stream",
          "name": "stdout",
          "text": [
            "###################################\n",
            "--------Original Image----------\n",
            "i:  ISIC_0028308\n",
            "Image:2271, target:bkl\n"
          ]
        },
        {
          "output_type": "display_data",
          "data": {
            "text/plain": [
              "<Figure size 432x288 with 1 Axes>"
            ],
            "image/png": "[encoded data removed]"
          },
          "metadata": {
            "needs_background": "light"
          }
        },
        {
          "output_type": "stream",
          "name": "stderr",
          "text": [
            "Clipping input data to the valid range for imshow with RGB data ([0..1] for floats or [0..255] for integers).\n"
          ]
        },
        {
          "output_type": "stream",
          "name": "stdout",
          "text": [
            "---------Normilized Image---------\n"
          ]
        },
        {
          "output_type": "display_data",
          "data": {
            "text/plain": [
              "<Figure size 432x288 with 1 Axes>"
            ],
            "image/png": "[encoded data removed]"
          },
          "metadata": {
            "needs_background": "light"
          }
        },
        {
          "output_type": "stream",
          "name": "stdout",
          "text": [
            "###################################\n"
          ]
        }
      ],
      "source": [
        "for i in np.random.choice(train_data.shape[0], 3, replace=False):\n",
        "  print(\"--------Original Image----------\")\n",
        "  print('i: ', train_data['image_id'].iloc[i])\n",
        "  image1 = torch.from_numpy(train_data['img_array'].iloc[i])\n",
        "  print(\"Image:{}, target:{}\".format(i, train_data['image_label'].iloc[i]))\n",
        "  plt.imshow(image1, interpolation='nearest')\n",
        "  plt.show()\n",
        "  print(\"---------Normilized Image---------\")\n",
        "  image2 = train_arrays_std[i]\n",
        "  plt.imshow(image2, interpolation='nearest')\n",
        "  plt.show()\n",
        "  print(\"###################################\")"
      ]
    },
    {
      "cell_type": "markdown",
      "metadata": {
        "id": "GgLTtyx5uw6b"
      },
      "source": [
        "### **1.2 Nets**"
      ]
    },
    {
      "cell_type": "code",
      "execution_count": 12,
      "metadata": {
        "id": "w1GCLpHCrDWL"
      },
      "outputs": [],
      "source": [
        "class CNN_Net1(nn.Module):\n",
        "    def __init__(self):\n",
        "        super().__init__()\n",
        "        self.conv1 = nn.Conv2d( in_channels=3 , out_channels=32 , kernel_size=(3, 3))\n",
        "        self.conv2 = nn.Conv2d( in_channels=32, out_channels=32 , kernel_size=(3, 3))\n",
        "        self.pool1 = nn.MaxPool2d( kernel_size = (2,2), stride = None, padding = 0 )\n",
        "        self.conv3 = nn.Conv2d( in_channels=32, out_channels=64 , kernel_size=(3, 3))\n",
        "        self.conv4 = nn.Conv2d( in_channels=64, out_channels=64 , kernel_size=(3, 3))\n",
        "        self.pool2 = nn.MaxPool2d( kernel_size = (2,2), stride = None, padding = 0 )\n",
        "        self.fc1   = nn.Linear(in_features= 6144 , out_features = 512)\n",
        "        self.fc2   = nn.Linear(in_features= 512, out_features = 7)\n",
        "        self.Act   = nn.ReLU(inplace=True)\n",
        "    def forward(self, x):\n",
        "        out = self.Act(self.conv1(x))\n",
        "        out = self.Act(self.conv2(out))\n",
        "        out = self.Act(self.pool1(out))\n",
        "        out = self.Act(self.conv3(out))\n",
        "        out = self.Act(self.conv4(out))\n",
        "        out = self.Act(self.pool2(out))\n",
        "        out = torch.flatten(out, 1) \n",
        "        out = self.Act(self.fc1(out))\n",
        "        out = self.Act(self.fc2(out))\n",
        "        # out = nn.Softmax(out)\n",
        "        return out"
      ]
    },
    {
      "cell_type": "code",
      "execution_count": 13,
      "metadata": {
        "id": "ZVszqW_eAlDg"
      },
      "outputs": [],
      "source": [
        "class CNN_Net2(nn.Module):\n",
        "    def __init__(self):\n",
        "        super(CNN_Net2, self).__init__()\n",
        "        self.conv1 = nn.Conv2d( in_channels=3 , out_channels=32 , kernel_size=(3, 3))\n",
        "        self.pool1 = nn.MaxPool2d( kernel_size = (2,2), stride = None, padding = 0 )\n",
        "        self.conv3 = nn.Conv2d( in_channels=32, out_channels=64 , kernel_size=(3, 3))\n",
        "        self.pool2 = nn.MaxPool2d( kernel_size = (2,2), stride = None, padding = 0 )\n",
        "        self.fc1   = nn.Linear(in_features= 7488 , out_features = 512)\n",
        "        self.fc2   = nn.Linear(in_features= 512, out_features = 7)\n",
        "        self.Act   = nn.ReLU(inplace=True)\n",
        "    def forward(self, x):\n",
        "        out = self.Act(self.conv1(x))\n",
        "        out = self.Act(self.pool1(out))\n",
        "        out = self.Act(self.conv3(out))\n",
        "        out = self.Act(self.pool2(out))\n",
        "        out = torch.flatten(out, 1) \n",
        "        out = self.Act(self.fc1(out))\n",
        "        out = self.Act(self.fc2(out))\n",
        "        return out"
      ]
    },
    {
      "cell_type": "code",
      "execution_count": 14,
      "metadata": {
        "id": "_oz6q7CYAlDg"
      },
      "outputs": [],
      "source": [
        "class CNN_Net3(nn.Module):\n",
        "    def __init__(self):\n",
        "        super(CNN_Net3, self).__init__()\n",
        "        self.conv1 = nn.Conv2d( in_channels=3 , out_channels=32 , kernel_size=(3, 3))\n",
        "        self.pool1 = nn.MaxPool2d( kernel_size = (2,2), stride = None, padding = 0 )\n",
        "        self.conv3 = nn.Conv2d( in_channels=32, out_channels=64 , kernel_size=(3, 3))\n",
        "        self.pool2 = nn.MaxPool2d( kernel_size = (2,2), stride = None, padding = 0 )\n",
        "        self.fc1   = nn.Linear(in_features= 7488 , out_features = 512)\n",
        "        self.fc2   = nn.Linear(in_features= 512, out_features = 7)\n",
        "        self.Act   = nn.LeakyReLU(inplace=True)\n",
        "        self.dropout = nn.Dropout(0.25)\n",
        "    def forward(self, x):\n",
        "        out = self.Act(self.conv1(x))\n",
        "        out = self.Act(self.pool1(out))\n",
        "        out = self.Act(self.conv3(out))\n",
        "        out = self.Act(self.pool2(out))\n",
        "        out = self.dropout(out)\n",
        "        out = torch.flatten(out, 1) \n",
        "        out = self.Act(self.fc1(out))\n",
        "        out = self.Act(self.fc2(out))\n",
        "        return out"
      ]
    },
    {
      "cell_type": "markdown",
      "metadata": {
        "id": "P5Zfb1SkAlDg"
      },
      "source": [
        "# **Test Nets**"
      ]
    },
    {
      "cell_type": "code",
      "execution_count": 15,
      "metadata": {
        "id": "OJTfTtmfAlDg",
        "outputId": "b22817e3-b98b-4653-dd78-10f0d7d5076f",
        "colab": {
          "base_uri": "https://localhost:8080/"
        }
      },
      "outputs": [
        {
          "output_type": "execute_result",
          "data": {
            "text/plain": [
              "torch.Size([5, 7])"
            ]
          },
          "metadata": {},
          "execution_count": 15
        }
      ],
      "source": [
        "model_test = CNN_Net2()\n",
        "X_ = input_data[0][0:5]\n",
        "out = model_test(X_)\n",
        "out.shape"
      ]
    },
    {
      "cell_type": "markdown",
      "metadata": {
        "id": "XWC5a989AlDg"
      },
      "source": [
        "# **Confusion-Matrix & Accuracy**"
      ]
    },
    {
      "cell_type": "code",
      "execution_count": 16,
      "metadata": {
        "id": "pBE96mxDAlDg"
      },
      "outputs": [],
      "source": [
        "def confusion_matrix(Y_pred,Y):\n",
        "    CM = sk.metrics.confusion_matrix(Y_pred,Y)\n",
        "    Total_sum = sum(sum(CM))\n",
        "    Diagonal_sum = np.trace(CM) \n",
        "    accuracy1 = Diagonal_sum / Total_sum\n",
        "    frequencies = list(pd.DataFrame(Y).value_counts())\n",
        "    weights = list(np.divide(frequencies, Total_sum))\n",
        "    sensitivity = []\n",
        "    specificity = []\n",
        "    for i in range(0,7):\n",
        "        sensitivity_ = CM[i,i].sum() / (CM[i].sum())\n",
        "        sensitivity.append(sensitivity_)\n",
        "        specificity_ = (Diagonal_sum - CM[i,i]) / (  (Diagonal_sum - CM[i,i]) + (CM.T[i].sum()-CM[i,i]))\n",
        "        specificity.append(specificity_)\n",
        "        \n",
        "    print('Nr. of Data : \\n', Total_sum)\n",
        "    print('Accuracy of The Model : \\n', accuracy1)\n",
        "    # print('Confusion Matrix : \\n', CM)\n",
        "    print('Weighted Avg. of sensitivity : \\n', np.average(np.nan_to_num(sensitivity), weights=weights))\n",
        "    print('Weighted Avg. of specificity : \\n', np.average(np.nan_to_num(specificity), weights=weights))\n",
        "    sk.metrics.ConfusionMatrixDisplay(CM).plot()\n",
        "    print('------- Precision recal %--------')\n",
        "    print(sk.metrics.classification_report(Y,Y_pred))\n",
        "    print('------- confusion matrix--------')"
      ]
    },
    {
      "cell_type": "markdown",
      "metadata": {
        "id": "4XV23bjxXUi7",
        "tags": []
      },
      "source": [
        "### **1.3 Training**"
      ]
    },
    {
      "cell_type": "code",
      "execution_count": 17,
      "metadata": {
        "id": "psZJwVlxAlDh"
      },
      "outputs": [],
      "source": [
        "# Training\n",
        "class Model_Training:\n",
        "\n",
        "    def __init__(self, Net, LR, batch_size , Momentum, epochs, weight_decay, loss_func, opt_func, X_train, Y_train, X_valid, Y_valid):    \n",
        "        \n",
        "        self.model = Net().to(device)\n",
        "        if opt_func is torch.optim.Adam:\n",
        "            self.opt = opt_func(self.model.parameters(), lr=LR, weight_decay=weight_decay)\n",
        "        else:\n",
        "            self.opt = opt_func(self.model.parameters(), lr=LR,momentum=Momentum, weight_decay=weight_decay)\n",
        "\n",
        "        self.loss_func = loss_func()\n",
        "        self.epochs = epochs\n",
        "        self.X_train = X_train.to(device)\n",
        "        self.Y_train = Y_train.to(device)\n",
        "        self.X_valid = X_valid.to(device)\n",
        "        self.Y_valid = Y_valid.to(device)\n",
        "        self.batch_size = batch_size\n",
        "        self.Epochs_Train_loss = []\n",
        "        self.Epochs_Train_Acc = []\n",
        "        self.Epochs_Val_loss = []\n",
        "        self.Epochs_Val_Acc = []\n",
        "\n",
        "    def train(self):\n",
        "        \n",
        "        model = self.model\n",
        "        loss_fn = self.loss_func\n",
        "        opt = self.opt \n",
        "        batch_size = self.batch_size\n",
        "        nr_of_steps_train =  self.X_train.shape[0]//self.batch_size \n",
        "        nr_of_steps_valid =  self.X_valid.shape[0]//self.batch_size \n",
        "\n",
        "        for epoch in range(1, self.epochs+1 ):\n",
        "            start_time=time.time()\n",
        "            steps_train_loss = []\n",
        "            steps_train_Acc = []\n",
        "            steps_val_loss = []\n",
        "            steps_val_Acc = []\n",
        "\n",
        "            for i in range(0, nr_of_steps_train ):#train_arrays_std.shape[0]):\n",
        "                X = self.X_train[i* batch_size:(i+1) * batch_size]\n",
        "                Y = self.Y_train[i * batch_size:(i+1) * batch_size]\n",
        "                opt.zero_grad()\n",
        "                model.train()\n",
        "                y_pred = model.forward(X)\n",
        "                loss = loss_fn(y_pred, Y)\n",
        "                loss.backward()\n",
        "                opt.step()\n",
        "                y_pred_labels = y_pred.argmax(axis=1)\n",
        "                nr_of_corrects = (y_pred_labels == Y).sum().item()\n",
        "                step_acc = nr_of_corrects / batch_size\n",
        "                steps_train_Acc.append(step_acc)\n",
        "                steps_train_loss.append(loss.item())\n",
        "\n",
        "                # if (i+1) % 200 == 0:    # print every 2000 mini-batches\n",
        "                #     print('[Epoch: {}, Nr. Batch: {}]  , Train-Steps-loss: {:.1f} , running_acc: {:.1%}'.format(epoch , i+1 , train_steps_loss , batch_nr_correct / train_nr_total))\n",
        "                #     self.train_steps_acc = []\n",
        "                #     train_steps_loss = 0\n",
        "\n",
        "              #validation loss calculation\n",
        "            for j in range(0,nr_of_steps_valid):\n",
        "\n",
        "                val_X = self.X_valid[j*batch_size:(j+1)*batch_size]\n",
        "                val_Y = self.Y_valid[j*batch_size:(j+1)*batch_size]\n",
        "                model.eval()\n",
        "                # val_inputs = val_inputs.to(device)\n",
        "                # val_labels = val_labels.to(device)\n",
        "                val_outputs = model(val_X)\n",
        "                val_loss = loss_fn(val_outputs, val_Y)\n",
        "                val_epoch_loss = val_loss.item()\n",
        "                val_outputs_lbs= val_outputs.argmax(axis=1)\n",
        "                val_nr_correct = (val_outputs_lbs == val_Y).sum().item()\n",
        "                step_acc = val_nr_correct / batch_size\n",
        "                steps_val_Acc.append(step_acc)\n",
        "                steps_val_loss.append(val_epoch_loss)\n",
        "            \n",
        "            # Epoch Performance Metrics\n",
        "            train_epoch_loss = mean(steps_train_loss)\n",
        "            train_epoch_Acc = mean(steps_train_Acc)\n",
        "            self.Epochs_Train_loss.append(train_epoch_loss)\n",
        "            self.Epochs_Train_Acc.append(train_epoch_Acc)   \n",
        "            val_epoch_loss = mean(steps_val_loss)\n",
        "            val_epoch_Acc = mean(steps_val_Acc)\n",
        "            self.Epochs_Val_loss.append(val_epoch_loss)\n",
        "            self.Epochs_Val_Acc.append(val_epoch_Acc)\n",
        "            End_time = time.time()   \n",
        "            print('[Epoch: {}]  , Train_loss: {:.1f} , Train_Acc: {:.1%}, Val_loss: {:.1f} , Val_Acc: {:.1%} , run time: {}'\n",
        "            .format(epoch , train_epoch_loss , train_epoch_Acc , val_epoch_loss , val_epoch_Acc, np.round(End_time - start_time, 2)))\n",
        "            \n",
        "        print('Finished Training')"
      ]
    },
    {
      "cell_type": "markdown",
      "source": [
        "# **Assign Training data**"
      ],
      "metadata": {
        "id": "0w-7sG3Slop1"
      }
    },
    {
      "cell_type": "code",
      "source": [
        "X_train = input_data[0]\n",
        "Y_train = labels[0]\n",
        "X_valid = input_data[1]\n",
        "Y_valid = labels[1]\n",
        "X_test = input_data[2]\n",
        "Y_test = labels[2]"
      ],
      "metadata": {
        "id": "VcVMyCfZlwHO"
      },
      "execution_count": 18,
      "outputs": []
    },
    {
      "cell_type": "markdown",
      "metadata": {
        "id": "geKyTRJ8AlDh"
      },
      "source": [
        "# **Model by Grid**"
      ]
    },
    {
      "cell_type": "code",
      "execution_count": null,
      "metadata": {
        "id": "VL5FxPLAAlDi"
      },
      "outputs": [],
      "source": [
        "Net = [CNN_Net2,CNN_Net3]\n",
        "LR = [0.001,0.0012,0.0015,0.0018,0.01]\n",
        "batch_size = [64,30,50]\n",
        "Momentum = [0.65,0.72,0.8]\n",
        "epochs = [50]\n",
        "weight_decay = [0,0.0001,0.000001,0.0000002]\n",
        "loss_func  =  [nn.CrossEntropyLoss]\n",
        "opt_func = [torch.optim.SGD,torch.optim.Adam]\n",
        "\n",
        "grid = {\n",
        "    'Net' : Net\n",
        "    ,'LR' : LR\n",
        "    ,'batch_size' : batch_size\n",
        "    ,'Momentum' : Momentum\n",
        "    ,'epochs' : epochs\n",
        "    ,'weight_decay' :weight_decay\n",
        "    ,'loss_func'  :loss_func\n",
        "    ,'opt_func' : opt_func\n",
        "}\n",
        "params = sk.model_selection.ParameterGrid(grid)"
      ]
    },
    {
      "cell_type": "code",
      "execution_count": null,
      "metadata": {
        "id": "hEkHc_7xAlDi"
      },
      "outputs": [],
      "source": [
        "Hyper_Details = pd.DataFrame(columns=['hyper_param','train_accuracy','valid_accuracy','test_accuracy','train_fscore','valid_fscore','test_fscore','train_precision','valid_precision','test_precision'\n",
        "                                    ,'train_recall','valid_recall','test_recall'])                                 \n",
        "for p in params:\n",
        "    Model_ = Model_Training2(**p, X_train = X_train , Y_train = Y_train, X_valid = X_valid , Y_valid= Y_valid)\n",
        "    torch.manual_seed(0)\n",
        "    Model_.train()\n",
        "    \n",
        "    model_ = Model_.model.eval()\n",
        "\n",
        "    # Train\n",
        "    Y_pred = model_(X_train.to(device)).argmax(axis=1)\n",
        "    Y = Y_train\n",
        "    train_accuracy = sk.metrics.accuracy_score(Y_pred.to('cpu'),Y.to('cpu') )\n",
        "\n",
        "    train_precision, train_recall, train_fscore, m = sk.metrics.precision_recall_fscore_support(Y_pred.to('cpu'),Y.to('cpu'), average = 'weighted')\n",
        "\n",
        "    # Valid\n",
        "    Y_pred = model_(X_valid.to(device)).argmax(axis=1)\n",
        "    Y = Y_valid\n",
        "    valid_accuracy = sk.metrics.accuracy_score(Y_pred.to('cpu'),Y.to('cpu') )\n",
        "    valid_precision, valid_recall, valid_fscore, m = sk.metrics.precision_recall_fscore_support(Y_pred.to('cpu'),Y.to('cpu'), average = 'weighted')\n",
        "\n",
        "    # Test\n",
        "    Y_pred = model_(X_test.to(device)).argmax(axis=1)\n",
        "    Y = Y_test\n",
        "    test_accuracy = sk.metrics.accuracy_score(Y_pred.to('cpu'),Y.to('cpu') )\n",
        "    test_precision, test_recall, test_fscore, m = sk.metrics.precision_recall_fscore_support(Y_pred.to('cpu'),Y.to('cpu'), average = 'weighted')\n",
        "\n",
        "\n",
        "    new_row = pd.Series({'hyper_param':p,'train_accuracy':train_accuracy,'valid_accuracy':valid_accuracy,'test_accuracy':test_accuracy,'train_fscore':train_fscore,'valid_fscore':valid_fscore,'test_fscore':test_fscore\n",
        "    ,'train_precision':train_precision,'valid_precision':valid_precision,'test_precision':test_precision,'train_recall':train_recall,'valid_recall':valid_recall,'test_recall':test_recall}, name='')\n",
        "    Hyper_Details = Hyper_Details.append(new_row)\n",
        "\n",
        "best_one = np.argmax(Hyper_Details.test_fscore)\n",
        "best_param = Hyper_Details.iloc[best_one]['hyper_param']\n",
        "\n",
        "CNN_Details = Hyper_Details\n",
        "CNN_Details.to_csv('SkinCare_60x45_param_Details.csv')\n",
        "Model_CV = Model_Training2(**best_param, X_train = X_train, Y_train = Y_train, X_valid = X_valid, Y_valid= Y_valid)\n",
        "torch.manual_seed(0)\n",
        "Model_CV.train()"
      ]
    },
    {
      "cell_type": "code",
      "source": [
        "best_param"
      ],
      "metadata": {
        "id": "KhCs-5zNEHDh",
        "outputId": "7ec03707-4dbc-4657-b818-46892dc5ad4c",
        "colab": {
          "base_uri": "https://localhost:8080/"
        }
      },
      "execution_count": null,
      "outputs": [
        {
          "output_type": "execute_result",
          "data": {
            "text/plain": [
              "{'LR': 0.0015,\n",
              " 'Momentum': 0.8,\n",
              " 'Net': __main__.CNN_Net3,\n",
              " 'batch_size': 30,\n",
              " 'epochs': 50,\n",
              " 'loss_func': torch.nn.modules.loss.CrossEntropyLoss,\n",
              " 'opt_func': torch.optim.sgd.SGD,\n",
              " 'weight_decay': 2e-07}"
            ]
          },
          "metadata": {},
          "execution_count": 28
        }
      ]
    },
    {
      "cell_type": "code",
      "source": [
        "model_ = Model_CV.model.eval()\n",
        "X = input_data[2].to(device)\n",
        "Y = labels[2].to(device)\n",
        "Y_pred = model_(X).argmax(dim=1)\n",
        "confusion_matrix(Y_pred.to('cpu'),Y.to('cpu'))"
      ],
      "metadata": {
        "colab": {
          "base_uri": "https://localhost:8080/",
          "height": 240
        },
        "id": "2XilnnvICU8q",
        "outputId": "1963d070-fb1b-4c8a-a1ef-83cdd7e28577"
      },
      "execution_count": null,
      "outputs": [
        {
          "output_type": "error",
          "ename": "NameError",
          "evalue": "ignored",
          "traceback": [
            "\u001b[0;31m---------------------------------------------------------------------------\u001b[0m",
            "\u001b[0;31mNameError\u001b[0m                                 Traceback (most recent call last)",
            "\u001b[0;32m<ipython-input-1-f8b852656901>\u001b[0m in \u001b[0;36m<module>\u001b[0;34m()\u001b[0m\n\u001b[0;32m----> 1\u001b[0;31m \u001b[0mmodel_\u001b[0m \u001b[0;34m=\u001b[0m \u001b[0mModel_1\u001b[0m\u001b[0;34m.\u001b[0m\u001b[0mmodel\u001b[0m\u001b[0;34m.\u001b[0m\u001b[0meval\u001b[0m\u001b[0;34m(\u001b[0m\u001b[0;34m)\u001b[0m\u001b[0;34m\u001b[0m\u001b[0;34m\u001b[0m\u001b[0m\n\u001b[0m\u001b[1;32m      2\u001b[0m \u001b[0mX\u001b[0m \u001b[0;34m=\u001b[0m \u001b[0minput_data\u001b[0m\u001b[0;34m[\u001b[0m\u001b[0;36m2\u001b[0m\u001b[0;34m]\u001b[0m\u001b[0;34m.\u001b[0m\u001b[0mto\u001b[0m\u001b[0;34m(\u001b[0m\u001b[0mdevice\u001b[0m\u001b[0;34m)\u001b[0m\u001b[0;34m\u001b[0m\u001b[0;34m\u001b[0m\u001b[0m\n\u001b[1;32m      3\u001b[0m \u001b[0mY\u001b[0m \u001b[0;34m=\u001b[0m \u001b[0mlabels\u001b[0m\u001b[0;34m[\u001b[0m\u001b[0;36m2\u001b[0m\u001b[0;34m]\u001b[0m\u001b[0;34m.\u001b[0m\u001b[0mto\u001b[0m\u001b[0;34m(\u001b[0m\u001b[0mdevice\u001b[0m\u001b[0;34m)\u001b[0m\u001b[0;34m\u001b[0m\u001b[0;34m\u001b[0m\u001b[0m\n\u001b[1;32m      4\u001b[0m \u001b[0mY_pred\u001b[0m \u001b[0;34m=\u001b[0m \u001b[0mmodel_\u001b[0m\u001b[0;34m(\u001b[0m\u001b[0mX\u001b[0m\u001b[0;34m)\u001b[0m\u001b[0;34m.\u001b[0m\u001b[0margmax\u001b[0m\u001b[0;34m(\u001b[0m\u001b[0mdim\u001b[0m\u001b[0;34m=\u001b[0m\u001b[0;36m1\u001b[0m\u001b[0;34m)\u001b[0m\u001b[0;34m\u001b[0m\u001b[0;34m\u001b[0m\u001b[0m\n\u001b[1;32m      5\u001b[0m \u001b[0mconfusion_matrix\u001b[0m\u001b[0;34m(\u001b[0m\u001b[0mY_pred\u001b[0m\u001b[0;34m.\u001b[0m\u001b[0mto\u001b[0m\u001b[0;34m(\u001b[0m\u001b[0;34m'cpu'\u001b[0m\u001b[0;34m)\u001b[0m\u001b[0;34m,\u001b[0m\u001b[0mY\u001b[0m\u001b[0;34m.\u001b[0m\u001b[0mto\u001b[0m\u001b[0;34m(\u001b[0m\u001b[0;34m'cpu'\u001b[0m\u001b[0;34m)\u001b[0m\u001b[0;34m)\u001b[0m\u001b[0;34m\u001b[0m\u001b[0;34m\u001b[0m\u001b[0m\n",
            "\u001b[0;31mNameError\u001b[0m: name 'Model_1' is not defined"
          ]
        }
      ]
    },
    {
      "cell_type": "code",
      "execution_count": null,
      "metadata": {
        "id": "Vjhuvwf_AlDi",
        "outputId": "f9195303-ab72-440c-fc60-a8083ef5732e",
        "colab": {
          "base_uri": "https://localhost:8080/",
          "height": 298
        }
      },
      "outputs": [
        {
          "output_type": "display_data",
          "data": {
            "text/plain": [
              "<Figure size 432x288 with 1 Axes>"
            ],
            "image/png": "[encoded data removed]"
          },
          "metadata": {
            "needs_background": "light"
          }
        }
      ],
      "source": [
        "model_ = Model_CV\n",
        "epochs_X = [i for i in range(1, model_.epochs+1)]\n",
        "epochs_X\n",
        "plt.subplots(figsize=(6,4))\n",
        "\n",
        "plt.plot(epochs_X , model_.Epochs_Train_loss, 'o-', label='Train loss')\n",
        "plt.plot(epochs_X , model_.Epochs_Val_loss,'ro-', label='Validation loss')\n",
        "plt.xlabel(\"Epochs\", fontsize = 12)\n",
        "plt.ylabel(\"Loss\", fontsize = 12)\n",
        "plt.grid()\n",
        "plt.legend()\n",
        "plt.title('Train and Validation loss by epochs')\n",
        "plt.show()"
      ]
    },
    {
      "cell_type": "code",
      "execution_count": null,
      "metadata": {
        "id": "Qcr7YNOoAlDi",
        "outputId": "8c075eec-856b-4ba8-8a40-49b4e0724678",
        "colab": {
          "base_uri": "https://localhost:8080/",
          "height": 298
        }
      },
      "outputs": [
        {
          "output_type": "display_data",
          "data": {
            "text/plain": [
              "<Figure size 432x288 with 1 Axes>"
            ],
            "image/png": "[encoded data removed]"
          },
          "metadata": {
            "needs_background": "light"
          }
        }
      ],
      "source": [
        "model_ = Model_CV\n",
        "epochs_X = [i for i in range(1, model_.epochs+1)]\n",
        "epochs_X\n",
        "plt.subplots(figsize=(6,4))\n",
        "\n",
        "plt.plot(epochs_X , model_.Epochs_Train_Acc, 'o-', label='Train Accuracy')\n",
        "plt.plot(epochs_X , model_.Epochs_Val_Acc,'ro-', label='Validation Accuracy')\n",
        "plt.xlabel(\"Epochs\", fontsize = 12)\n",
        "plt.ylabel(\"Accuracy\", fontsize = 12)\n",
        "plt.grid()\n",
        "plt.legend()\n",
        "plt.title('Train and Validation Accuracy by epochs')\n",
        "plt.show()"
      ]
    },
    {
      "cell_type": "markdown",
      "metadata": {
        "id": "Ksq8mnI2AlDj"
      },
      "source": [
        "# **Model 1**"
      ]
    },
    {
      "cell_type": "code",
      "execution_count": 24,
      "metadata": {
        "id": "IuKLgrZ4Q_xz"
      },
      "outputs": [],
      "source": [
        "param1 = {'LR': 0.0015,\n",
        " 'Momentum': 0.8,\n",
        " 'Net': CNN_Net3,\n",
        " 'batch_size': 30,\n",
        " 'epochs': 50,\n",
        " 'loss_func': torch.nn.modules.loss.CrossEntropyLoss,\n",
        " 'opt_func': torch.optim.SGD,\n",
        " 'weight_decay': 2e-07}"
      ]
    },
    {
      "cell_type": "code",
      "execution_count": 20,
      "metadata": {
        "id": "3IRZEblhAlDj",
        "outputId": "b4e70628-a631-4716-d75e-e0d2ae0fd0fa",
        "colab": {
          "base_uri": "https://localhost:8080/"
        }
      },
      "outputs": [
        {
          "output_type": "stream",
          "name": "stdout",
          "text": [
            "[Epoch: 1]  , Train_loss: 1.6 , Train_Acc: 34.6%, Val_loss: 1.5 , Val_Acc: 42.6% , run time: 1.04\n",
            "[Epoch: 2]  , Train_loss: 1.4 , Train_Acc: 44.8%, Val_loss: 1.4 , Val_Acc: 47.1% , run time: 0.34\n",
            "[Epoch: 3]  , Train_loss: 1.4 , Train_Acc: 47.6%, Val_loss: 1.3 , Val_Acc: 48.8% , run time: 0.35\n",
            "[Epoch: 4]  , Train_loss: 1.3 , Train_Acc: 48.8%, Val_loss: 1.3 , Val_Acc: 49.3% , run time: 0.33\n",
            "[Epoch: 5]  , Train_loss: 1.3 , Train_Acc: 50.8%, Val_loss: 1.3 , Val_Acc: 49.8% , run time: 0.32\n",
            "[Epoch: 6]  , Train_loss: 1.3 , Train_Acc: 51.5%, Val_loss: 1.3 , Val_Acc: 51.7% , run time: 0.31\n",
            "[Epoch: 7]  , Train_loss: 1.2 , Train_Acc: 53.0%, Val_loss: 1.2 , Val_Acc: 52.9% , run time: 0.3\n",
            "[Epoch: 8]  , Train_loss: 1.2 , Train_Acc: 53.8%, Val_loss: 1.2 , Val_Acc: 53.8% , run time: 0.3\n",
            "[Epoch: 9]  , Train_loss: 1.2 , Train_Acc: 54.7%, Val_loss: 1.2 , Val_Acc: 54.3% , run time: 0.31\n",
            "[Epoch: 10]  , Train_loss: 1.2 , Train_Acc: 54.6%, Val_loss: 1.2 , Val_Acc: 53.6% , run time: 0.31\n",
            "[Epoch: 11]  , Train_loss: 1.2 , Train_Acc: 54.8%, Val_loss: 1.2 , Val_Acc: 54.3% , run time: 0.31\n",
            "[Epoch: 12]  , Train_loss: 1.1 , Train_Acc: 56.5%, Val_loss: 1.2 , Val_Acc: 56.9% , run time: 0.4\n",
            "[Epoch: 13]  , Train_loss: 1.1 , Train_Acc: 56.3%, Val_loss: 1.1 , Val_Acc: 57.6% , run time: 0.54\n",
            "[Epoch: 14]  , Train_loss: 1.1 , Train_Acc: 57.0%, Val_loss: 1.1 , Val_Acc: 58.3% , run time: 0.37\n",
            "[Epoch: 15]  , Train_loss: 1.1 , Train_Acc: 58.0%, Val_loss: 1.1 , Val_Acc: 59.0% , run time: 0.54\n",
            "[Epoch: 16]  , Train_loss: 1.1 , Train_Acc: 59.1%, Val_loss: 1.1 , Val_Acc: 58.8% , run time: 0.44\n",
            "[Epoch: 17]  , Train_loss: 1.0 , Train_Acc: 59.5%, Val_loss: 1.1 , Val_Acc: 58.8% , run time: 0.46\n",
            "[Epoch: 18]  , Train_loss: 1.0 , Train_Acc: 60.5%, Val_loss: 1.1 , Val_Acc: 59.0% , run time: 0.49\n",
            "[Epoch: 19]  , Train_loss: 1.0 , Train_Acc: 61.6%, Val_loss: 1.1 , Val_Acc: 59.3% , run time: 0.45\n",
            "[Epoch: 20]  , Train_loss: 1.0 , Train_Acc: 62.7%, Val_loss: 1.1 , Val_Acc: 59.0% , run time: 0.37\n",
            "[Epoch: 21]  , Train_loss: 1.0 , Train_Acc: 63.0%, Val_loss: 1.1 , Val_Acc: 59.5% , run time: 0.43\n",
            "[Epoch: 22]  , Train_loss: 0.9 , Train_Acc: 64.1%, Val_loss: 1.1 , Val_Acc: 59.0% , run time: 0.43\n",
            "[Epoch: 23]  , Train_loss: 0.9 , Train_Acc: 64.5%, Val_loss: 1.1 , Val_Acc: 57.4% , run time: 0.49\n",
            "[Epoch: 24]  , Train_loss: 0.9 , Train_Acc: 64.9%, Val_loss: 1.1 , Val_Acc: 58.6% , run time: 0.43\n",
            "[Epoch: 25]  , Train_loss: 0.9 , Train_Acc: 66.9%, Val_loss: 1.1 , Val_Acc: 59.5% , run time: 0.44\n",
            "[Epoch: 26]  , Train_loss: 0.9 , Train_Acc: 66.6%, Val_loss: 1.1 , Val_Acc: 58.8% , run time: 0.4\n",
            "[Epoch: 27]  , Train_loss: 0.9 , Train_Acc: 66.1%, Val_loss: 1.0 , Val_Acc: 58.6% , run time: 0.31\n",
            "[Epoch: 28]  , Train_loss: 0.9 , Train_Acc: 68.3%, Val_loss: 1.1 , Val_Acc: 59.3% , run time: 0.3\n",
            "[Epoch: 29]  , Train_loss: 0.9 , Train_Acc: 68.4%, Val_loss: 1.1 , Val_Acc: 57.9% , run time: 0.31\n",
            "[Epoch: 30]  , Train_loss: 0.8 , Train_Acc: 68.3%, Val_loss: 1.1 , Val_Acc: 58.3% , run time: 0.3\n",
            "[Epoch: 31]  , Train_loss: 0.8 , Train_Acc: 70.0%, Val_loss: 1.0 , Val_Acc: 58.6% , run time: 0.3\n",
            "[Epoch: 32]  , Train_loss: 0.8 , Train_Acc: 69.4%, Val_loss: 1.0 , Val_Acc: 58.3% , run time: 0.31\n",
            "[Epoch: 33]  , Train_loss: 0.8 , Train_Acc: 70.9%, Val_loss: 1.0 , Val_Acc: 57.4% , run time: 0.3\n",
            "[Epoch: 34]  , Train_loss: 0.8 , Train_Acc: 71.1%, Val_loss: 1.0 , Val_Acc: 59.8% , run time: 0.31\n",
            "[Epoch: 35]  , Train_loss: 0.8 , Train_Acc: 72.6%, Val_loss: 1.0 , Val_Acc: 58.8% , run time: 0.3\n",
            "[Epoch: 36]  , Train_loss: 0.7 , Train_Acc: 72.9%, Val_loss: 1.0 , Val_Acc: 59.0% , run time: 0.3\n",
            "[Epoch: 37]  , Train_loss: 0.7 , Train_Acc: 73.8%, Val_loss: 1.0 , Val_Acc: 60.0% , run time: 0.3\n",
            "[Epoch: 38]  , Train_loss: 0.7 , Train_Acc: 74.0%, Val_loss: 1.1 , Val_Acc: 58.1% , run time: 0.3\n",
            "[Epoch: 39]  , Train_loss: 0.7 , Train_Acc: 75.4%, Val_loss: 1.0 , Val_Acc: 59.8% , run time: 0.31\n",
            "[Epoch: 40]  , Train_loss: 0.7 , Train_Acc: 75.5%, Val_loss: 1.0 , Val_Acc: 59.8% , run time: 0.3\n",
            "[Epoch: 41]  , Train_loss: 0.7 , Train_Acc: 76.4%, Val_loss: 1.1 , Val_Acc: 58.8% , run time: 0.3\n",
            "[Epoch: 42]  , Train_loss: 0.6 , Train_Acc: 76.6%, Val_loss: 1.1 , Val_Acc: 59.3% , run time: 0.3\n",
            "[Epoch: 43]  , Train_loss: 0.6 , Train_Acc: 76.5%, Val_loss: 1.1 , Val_Acc: 59.0% , run time: 0.31\n",
            "[Epoch: 44]  , Train_loss: 0.6 , Train_Acc: 78.3%, Val_loss: 1.1 , Val_Acc: 59.8% , run time: 0.31\n",
            "[Epoch: 45]  , Train_loss: 0.6 , Train_Acc: 79.4%, Val_loss: 1.1 , Val_Acc: 59.5% , run time: 0.31\n",
            "[Epoch: 46]  , Train_loss: 0.6 , Train_Acc: 79.8%, Val_loss: 1.1 , Val_Acc: 58.3% , run time: 0.31\n",
            "[Epoch: 47]  , Train_loss: 0.5 , Train_Acc: 80.8%, Val_loss: 1.1 , Val_Acc: 60.5% , run time: 0.3\n",
            "[Epoch: 48]  , Train_loss: 0.5 , Train_Acc: 81.0%, Val_loss: 1.1 , Val_Acc: 60.2% , run time: 0.3\n",
            "[Epoch: 49]  , Train_loss: 0.5 , Train_Acc: 81.5%, Val_loss: 1.1 , Val_Acc: 59.8% , run time: 0.31\n",
            "[Epoch: 50]  , Train_loss: 0.5 , Train_Acc: 82.7%, Val_loss: 1.1 , Val_Acc: 59.0% , run time: 0.3\n",
            "Finished Training\n"
          ]
        }
      ],
      "source": [
        "Model_1 = Model_Training(**param1, X_train = X_train , Y_train = Y_train, X_valid = X_valid , Y_valid= Y_valid)\n",
        "torch.manual_seed(0)\n",
        "Model_1.train()"
      ]
    },
    {
      "cell_type": "code",
      "execution_count": 21,
      "metadata": {
        "id": "huSGH-RsAlDj",
        "outputId": "0f1a3ac0-776d-4bf9-a5ef-aa9890fe2ceb",
        "colab": {
          "base_uri": "https://localhost:8080/",
          "height": 707
        }
      },
      "outputs": [
        {
          "output_type": "stream",
          "name": "stdout",
          "text": [
            "Nr. of Data : \n",
            " 311\n",
            "Accuracy of The Model : \n",
            " 0.6109324758842444\n",
            "Weighted Avg. of sensitivity : \n",
            " 0.5421318200738332\n",
            "Weighted Avg. of specificity : \n",
            " 0.9092806174415511\n",
            "------- Precision recal %--------\n",
            "              precision    recall  f1-score   support\n",
            "\n",
            "           0       0.53      0.44      0.48        18\n",
            "           1       0.66      0.61      0.63        31\n",
            "           2       0.66      0.60      0.63        73\n",
            "           3       0.00      0.00      0.00         8\n",
            "           4       0.46      0.42      0.44        67\n",
            "           5       0.65      0.80      0.71        99\n",
            "           6       0.75      0.80      0.77        15\n",
            "\n",
            "    accuracy                           0.61       311\n",
            "   macro avg       0.53      0.53      0.52       311\n",
            "weighted avg       0.59      0.61      0.60       311\n",
            "\n",
            "------- confusion matrix--------\n"
          ]
        },
        {
          "output_type": "display_data",
          "data": {
            "text/plain": [
              "<Figure size 432x288 with 2 Axes>"
            ],
            "image/png": "[encoded data removed]"
          },
          "metadata": {
            "needs_background": "light"
          }
        }
      ],
      "source": [
        "model_ = Model_1.model.eval()\n",
        "X = input_data[2].to(device)\n",
        "Y = labels[2].to(device)\n",
        "Y_pred = model_(X).argmax(dim=1)\n",
        "confusion_matrix(Y_pred.to('cpu'),Y.to('cpu'))"
      ]
    },
    {
      "cell_type": "markdown",
      "source": [
        "# **K-Fold Cross Validation**"
      ],
      "metadata": {
        "id": "GMzwoJOJ2BYX"
      }
    },
    {
      "cell_type": "code",
      "source": [
        "K_Folds = sk.model_selection.KFold(n_splits=6, shuffle=True)\n",
        "\n",
        "training_data = input_data[3]\n",
        "training_label = labels[3]\n",
        "\n",
        "# CV_Details_ = pd.DataFrame(columns=['test_fscore','test_precision','test_recall'])\n",
        "\n",
        "CV_Details = pd.DataFrame(columns=['train_index','valid_index','train_accuracy','valid_accuracy','test_accuracy','train_fscore','valid_fscore','test_fscore','train_precision','valid_precision','test_precision'\n",
        "                                    ,'train_recall','valid_recall','test_recall'])\n",
        "for i in range(0,1):\n",
        "    \n",
        "    for fold, (train_index, valid_index) in tqdm.tqdm(enumerate(K_Folds.split(training_data)) , ncols = 100, desc =\"Cross Validation - Level\", total=K_Folds.n_splits ):\n",
        "\n",
        "        X_train = training_data[train_index]\n",
        "        Y_train = training_label[train_index]\n",
        "\n",
        "        X_valid = training_data[valid_index]\n",
        "        Y_valid = training_label[valid_index]\n",
        "\n",
        "        Model_ = Model_Training(**param1, X_train = X_train, Y_train = Y_train, X_valid = X_valid, Y_valid= Y_valid)\n",
        "        torch.manual_seed(0)\n",
        "        Model_.train()\n",
        "\n",
        "        model_ = Model_.model.eval()\n",
        "            \n",
        "        # Train\n",
        "        Y_pred = model_(X_train.to(device)).argmax(axis=1)\n",
        "        Y = Y_train\n",
        "        train_accuracy = sk.metrics.accuracy_score(Y_pred.to('cpu'),Y.to('cpu') )\n",
        "        train_precision, train_recall, train_fscore, m = sk.metrics.precision_recall_fscore_support(Y_pred.to('cpu'),Y.to('cpu') , average = 'weighted')\n",
        "\n",
        "        # Valid\n",
        "        Y_pred = model_(X_valid.to(device)).argmax(axis=1)\n",
        "        Y = Y_valid\n",
        "        valid_accuracy = sk.metrics.accuracy_score(Y_pred.to('cpu'),Y.to('cpu') )\n",
        "        valid_precision, valid_recall, valid_fscore, m = sk.metrics.precision_recall_fscore_support(Y_pred.to('cpu'),Y.to('cpu') , average = 'weighted')\n",
        "\n",
        "        # Test\n",
        "        Y_pred = model_(X_test.to(device)).argmax(axis=1)\n",
        "        Y = Y_test\n",
        "        test_accuracy = sk.metrics.accuracy_score(Y_pred.to('cpu'),Y.to('cpu') )\n",
        "        test_precision, test_recall, test_fscore, m = sk.metrics.precision_recall_fscore_support(Y_pred.to('cpu'),Y.to('cpu') , average = 'weighted')\n",
        "\n",
        "\n",
        "        new_row = pd.Series({'train_index':train_index,'valid_index':valid_index,'train_accuracy':train_accuracy,'valid_accuracy':valid_accuracy,'test_accuracy':test_accuracy,'train_fscore':train_fscore,'valid_fscore':valid_fscore,'test_fscore':test_fscore\n",
        "        ,'train_precision':train_precision,'valid_precision':valid_precision,'test_precision':test_precision,'train_recall':train_recall,'valid_recall':valid_recall,'test_recall':test_recall}, name='')\n",
        "        CV_Details = CV_Details.append(new_row)\n",
        "\n",
        "CNN_CV_Details = CV_Details"
      ],
      "metadata": {
        "id": "s05qWAuK2Mlh",
        "outputId": "41d7d94c-837c-4ae3-cf4d-9427000f69b0",
        "colab": {
          "base_uri": "https://localhost:8080/"
        }
      },
      "execution_count": 29,
      "outputs": [
        {
          "output_type": "stream",
          "name": "stderr",
          "text": [
            "\rCross Validation - Level:   0%|                                               | 0/6 [00:00<?, ?it/s]"
          ]
        },
        {
          "output_type": "stream",
          "name": "stdout",
          "text": [
            "[Epoch: 1]  , Train_loss: 1.7 , Train_Acc: 35.7%, Val_loss: 1.5 , Val_Acc: 40.2% , run time: 0.35\n",
            "[Epoch: 2]  , Train_loss: 1.5 , Train_Acc: 42.9%, Val_loss: 1.5 , Val_Acc: 43.1% , run time: 0.3\n",
            "[Epoch: 3]  , Train_loss: 1.4 , Train_Acc: 45.0%, Val_loss: 1.4 , Val_Acc: 48.0% , run time: 0.3\n",
            "[Epoch: 4]  , Train_loss: 1.3 , Train_Acc: 48.9%, Val_loss: 1.3 , Val_Acc: 50.4% , run time: 0.3\n",
            "[Epoch: 5]  , Train_loss: 1.3 , Train_Acc: 51.0%, Val_loss: 1.3 , Val_Acc: 51.3% , run time: 0.31\n",
            "[Epoch: 6]  , Train_loss: 1.3 , Train_Acc: 51.5%, Val_loss: 1.3 , Val_Acc: 52.7% , run time: 0.29\n",
            "[Epoch: 7]  , Train_loss: 1.2 , Train_Acc: 53.6%, Val_loss: 1.3 , Val_Acc: 53.1% , run time: 0.3\n",
            "[Epoch: 8]  , Train_loss: 1.2 , Train_Acc: 54.0%, Val_loss: 1.2 , Val_Acc: 52.7% , run time: 0.3\n",
            "[Epoch: 9]  , Train_loss: 1.2 , Train_Acc: 54.9%, Val_loss: 1.2 , Val_Acc: 54.9% , run time: 0.3\n",
            "[Epoch: 10]  , Train_loss: 1.2 , Train_Acc: 56.0%, Val_loss: 1.2 , Val_Acc: 54.7% , run time: 0.3\n",
            "[Epoch: 11]  , Train_loss: 1.1 , Train_Acc: 55.8%, Val_loss: 1.2 , Val_Acc: 54.9% , run time: 0.3\n",
            "[Epoch: 12]  , Train_loss: 1.1 , Train_Acc: 57.7%, Val_loss: 1.2 , Val_Acc: 55.1% , run time: 0.3\n",
            "[Epoch: 13]  , Train_loss: 1.1 , Train_Acc: 58.5%, Val_loss: 1.2 , Val_Acc: 55.3% , run time: 0.3\n",
            "[Epoch: 14]  , Train_loss: 1.1 , Train_Acc: 59.3%, Val_loss: 1.2 , Val_Acc: 56.2% , run time: 0.3\n",
            "[Epoch: 15]  , Train_loss: 1.1 , Train_Acc: 59.5%, Val_loss: 1.1 , Val_Acc: 55.3% , run time: 0.3\n",
            "[Epoch: 16]  , Train_loss: 1.1 , Train_Acc: 59.4%, Val_loss: 1.1 , Val_Acc: 56.7% , run time: 0.3\n",
            "[Epoch: 17]  , Train_loss: 1.0 , Train_Acc: 60.4%, Val_loss: 1.1 , Val_Acc: 56.9% , run time: 0.29\n",
            "[Epoch: 18]  , Train_loss: 1.0 , Train_Acc: 60.7%, Val_loss: 1.1 , Val_Acc: 56.9% , run time: 0.3\n",
            "[Epoch: 19]  , Train_loss: 1.0 , Train_Acc: 62.3%, Val_loss: 1.1 , Val_Acc: 56.4% , run time: 0.3\n",
            "[Epoch: 20]  , Train_loss: 1.0 , Train_Acc: 62.3%, Val_loss: 1.1 , Val_Acc: 56.7% , run time: 0.3\n",
            "[Epoch: 21]  , Train_loss: 0.9 , Train_Acc: 63.5%, Val_loss: 1.1 , Val_Acc: 58.0% , run time: 0.3\n",
            "[Epoch: 22]  , Train_loss: 0.9 , Train_Acc: 64.0%, Val_loss: 1.1 , Val_Acc: 57.3% , run time: 0.3\n",
            "[Epoch: 23]  , Train_loss: 0.9 , Train_Acc: 64.9%, Val_loss: 1.1 , Val_Acc: 58.0% , run time: 0.3\n",
            "[Epoch: 24]  , Train_loss: 0.9 , Train_Acc: 65.2%, Val_loss: 1.1 , Val_Acc: 57.8% , run time: 0.3\n",
            "[Epoch: 25]  , Train_loss: 0.9 , Train_Acc: 66.2%, Val_loss: 1.1 , Val_Acc: 57.8% , run time: 0.3\n",
            "[Epoch: 26]  , Train_loss: 0.9 , Train_Acc: 66.5%, Val_loss: 1.1 , Val_Acc: 57.3% , run time: 0.29\n",
            "[Epoch: 27]  , Train_loss: 0.9 , Train_Acc: 68.1%, Val_loss: 1.1 , Val_Acc: 59.1% , run time: 0.3\n",
            "[Epoch: 28]  , Train_loss: 0.8 , Train_Acc: 67.4%, Val_loss: 1.1 , Val_Acc: 57.3% , run time: 0.3\n",
            "[Epoch: 29]  , Train_loss: 0.8 , Train_Acc: 69.0%, Val_loss: 1.1 , Val_Acc: 58.7% , run time: 0.3\n",
            "[Epoch: 30]  , Train_loss: 0.8 , Train_Acc: 68.9%, Val_loss: 1.1 , Val_Acc: 58.0% , run time: 0.29\n",
            "[Epoch: 31]  , Train_loss: 0.8 , Train_Acc: 70.3%, Val_loss: 1.1 , Val_Acc: 59.1% , run time: 0.3\n",
            "[Epoch: 32]  , Train_loss: 0.8 , Train_Acc: 70.6%, Val_loss: 1.1 , Val_Acc: 59.8% , run time: 0.3\n",
            "[Epoch: 33]  , Train_loss: 0.8 , Train_Acc: 70.3%, Val_loss: 1.1 , Val_Acc: 58.2% , run time: 0.29\n",
            "[Epoch: 34]  , Train_loss: 0.8 , Train_Acc: 71.9%, Val_loss: 1.1 , Val_Acc: 56.4% , run time: 0.29\n",
            "[Epoch: 35]  , Train_loss: 0.7 , Train_Acc: 72.0%, Val_loss: 1.1 , Val_Acc: 57.8% , run time: 0.3\n",
            "[Epoch: 36]  , Train_loss: 0.7 , Train_Acc: 72.9%, Val_loss: 1.1 , Val_Acc: 58.2% , run time: 0.29\n",
            "[Epoch: 37]  , Train_loss: 0.7 , Train_Acc: 73.6%, Val_loss: 1.2 , Val_Acc: 58.0% , run time: 0.29\n",
            "[Epoch: 38]  , Train_loss: 0.7 , Train_Acc: 74.4%, Val_loss: 1.2 , Val_Acc: 58.7% , run time: 0.3\n",
            "[Epoch: 39]  , Train_loss: 0.7 , Train_Acc: 73.9%, Val_loss: 1.2 , Val_Acc: 57.3% , run time: 0.3\n",
            "[Epoch: 40]  , Train_loss: 0.7 , Train_Acc: 74.8%, Val_loss: 1.2 , Val_Acc: 57.8% , run time: 0.3\n",
            "[Epoch: 41]  , Train_loss: 0.6 , Train_Acc: 76.6%, Val_loss: 1.2 , Val_Acc: 57.6% , run time: 0.29\n",
            "[Epoch: 42]  , Train_loss: 0.6 , Train_Acc: 77.4%, Val_loss: 1.2 , Val_Acc: 57.3% , run time: 0.3\n",
            "[Epoch: 43]  , Train_loss: 0.6 , Train_Acc: 77.9%, Val_loss: 1.2 , Val_Acc: 56.9% , run time: 0.3\n",
            "[Epoch: 44]  , Train_loss: 0.6 , Train_Acc: 77.8%, Val_loss: 1.2 , Val_Acc: 58.0% , run time: 0.3\n",
            "[Epoch: 45]  , Train_loss: 0.6 , Train_Acc: 78.0%, Val_loss: 1.2 , Val_Acc: 56.7% , run time: 0.3\n",
            "[Epoch: 46]  , Train_loss: 0.6 , Train_Acc: 78.4%, Val_loss: 1.2 , Val_Acc: 56.7% , run time: 0.3\n",
            "[Epoch: 47]  , Train_loss: 0.6 , Train_Acc: 80.6%, Val_loss: 1.3 , Val_Acc: 56.7% , run time: 0.29\n",
            "[Epoch: 48]  , Train_loss: 0.6 , Train_Acc: 80.4%, Val_loss: 1.3 , Val_Acc: 55.8% , run time: 0.3\n",
            "[Epoch: 49]  , Train_loss: 0.5 , Train_Acc: 81.0%, Val_loss: 1.3 , Val_Acc: 57.1% , run time: 0.3\n"
          ]
        },
        {
          "output_type": "stream",
          "name": "stderr",
          "text": [
            "\rCross Validation - Level:  17%|██████▌                                | 1/6 [00:15<01:15, 15.17s/it]"
          ]
        },
        {
          "output_type": "stream",
          "name": "stdout",
          "text": [
            "[Epoch: 50]  , Train_loss: 0.5 , Train_Acc: 82.0%, Val_loss: 1.2 , Val_Acc: 56.9% , run time: 0.29\n",
            "Finished Training\n",
            "[Epoch: 1]  , Train_loss: 1.7 , Train_Acc: 35.5%, Val_loss: 1.5 , Val_Acc: 40.9% , run time: 0.3\n",
            "[Epoch: 2]  , Train_loss: 1.5 , Train_Acc: 42.4%, Val_loss: 1.4 , Val_Acc: 42.7% , run time: 0.3\n",
            "[Epoch: 3]  , Train_loss: 1.4 , Train_Acc: 46.8%, Val_loss: 1.3 , Val_Acc: 45.3% , run time: 0.29\n",
            "[Epoch: 4]  , Train_loss: 1.3 , Train_Acc: 49.0%, Val_loss: 1.3 , Val_Acc: 45.8% , run time: 0.31\n",
            "[Epoch: 5]  , Train_loss: 1.3 , Train_Acc: 50.3%, Val_loss: 1.3 , Val_Acc: 47.8% , run time: 0.31\n",
            "[Epoch: 6]  , Train_loss: 1.3 , Train_Acc: 51.8%, Val_loss: 1.2 , Val_Acc: 50.2% , run time: 0.3\n",
            "[Epoch: 7]  , Train_loss: 1.2 , Train_Acc: 53.0%, Val_loss: 1.2 , Val_Acc: 51.6% , run time: 0.29\n",
            "[Epoch: 8]  , Train_loss: 1.2 , Train_Acc: 54.1%, Val_loss: 1.2 , Val_Acc: 53.6% , run time: 0.3\n",
            "[Epoch: 9]  , Train_loss: 1.2 , Train_Acc: 55.0%, Val_loss: 1.2 , Val_Acc: 53.6% , run time: 0.3\n",
            "[Epoch: 10]  , Train_loss: 1.2 , Train_Acc: 54.6%, Val_loss: 1.2 , Val_Acc: 54.2% , run time: 0.3\n",
            "[Epoch: 11]  , Train_loss: 1.1 , Train_Acc: 55.6%, Val_loss: 1.1 , Val_Acc: 55.3% , run time: 0.3\n",
            "[Epoch: 12]  , Train_loss: 1.1 , Train_Acc: 56.5%, Val_loss: 1.1 , Val_Acc: 56.4% , run time: 0.3\n",
            "[Epoch: 13]  , Train_loss: 1.1 , Train_Acc: 56.9%, Val_loss: 1.1 , Val_Acc: 56.4% , run time: 0.3\n",
            "[Epoch: 14]  , Train_loss: 1.1 , Train_Acc: 58.3%, Val_loss: 1.1 , Val_Acc: 57.3% , run time: 0.3\n",
            "[Epoch: 15]  , Train_loss: 1.1 , Train_Acc: 58.3%, Val_loss: 1.1 , Val_Acc: 57.1% , run time: 0.31\n",
            "[Epoch: 16]  , Train_loss: 1.1 , Train_Acc: 59.5%, Val_loss: 1.1 , Val_Acc: 58.7% , run time: 0.3\n",
            "[Epoch: 17]  , Train_loss: 1.0 , Train_Acc: 60.1%, Val_loss: 1.1 , Val_Acc: 58.2% , run time: 0.3\n",
            "[Epoch: 18]  , Train_loss: 1.0 , Train_Acc: 60.3%, Val_loss: 1.0 , Val_Acc: 58.4% , run time: 0.3\n",
            "[Epoch: 19]  , Train_loss: 1.0 , Train_Acc: 61.9%, Val_loss: 1.0 , Val_Acc: 58.7% , run time: 0.3\n",
            "[Epoch: 20]  , Train_loss: 1.0 , Train_Acc: 62.2%, Val_loss: 1.0 , Val_Acc: 59.3% , run time: 0.3\n",
            "[Epoch: 21]  , Train_loss: 1.0 , Train_Acc: 63.4%, Val_loss: 1.0 , Val_Acc: 58.9% , run time: 0.3\n",
            "[Epoch: 22]  , Train_loss: 0.9 , Train_Acc: 63.5%, Val_loss: 1.0 , Val_Acc: 59.6% , run time: 0.3\n",
            "[Epoch: 23]  , Train_loss: 0.9 , Train_Acc: 64.9%, Val_loss: 1.0 , Val_Acc: 59.6% , run time: 0.31\n",
            "[Epoch: 24]  , Train_loss: 0.9 , Train_Acc: 65.0%, Val_loss: 1.0 , Val_Acc: 59.3% , run time: 0.31\n",
            "[Epoch: 25]  , Train_loss: 0.9 , Train_Acc: 65.9%, Val_loss: 1.0 , Val_Acc: 60.0% , run time: 0.3\n",
            "[Epoch: 26]  , Train_loss: 0.9 , Train_Acc: 66.3%, Val_loss: 1.0 , Val_Acc: 60.0% , run time: 0.3\n",
            "[Epoch: 27]  , Train_loss: 0.9 , Train_Acc: 66.9%, Val_loss: 1.0 , Val_Acc: 60.4% , run time: 0.29\n",
            "[Epoch: 28]  , Train_loss: 0.9 , Train_Acc: 68.0%, Val_loss: 1.0 , Val_Acc: 60.2% , run time: 0.3\n",
            "[Epoch: 29]  , Train_loss: 0.8 , Train_Acc: 69.0%, Val_loss: 1.0 , Val_Acc: 60.7% , run time: 0.29\n",
            "[Epoch: 30]  , Train_loss: 0.8 , Train_Acc: 69.0%, Val_loss: 1.0 , Val_Acc: 60.7% , run time: 0.29\n",
            "[Epoch: 31]  , Train_loss: 0.8 , Train_Acc: 69.7%, Val_loss: 1.0 , Val_Acc: 60.7% , run time: 0.29\n",
            "[Epoch: 32]  , Train_loss: 0.8 , Train_Acc: 69.7%, Val_loss: 1.0 , Val_Acc: 60.0% , run time: 0.3\n",
            "[Epoch: 33]  , Train_loss: 0.8 , Train_Acc: 70.6%, Val_loss: 1.0 , Val_Acc: 59.8% , run time: 0.3\n",
            "[Epoch: 34]  , Train_loss: 0.8 , Train_Acc: 71.3%, Val_loss: 1.0 , Val_Acc: 60.7% , run time: 0.3\n",
            "[Epoch: 35]  , Train_loss: 0.8 , Train_Acc: 72.7%, Val_loss: 1.1 , Val_Acc: 60.9% , run time: 0.3\n",
            "[Epoch: 36]  , Train_loss: 0.7 , Train_Acc: 71.7%, Val_loss: 1.1 , Val_Acc: 60.0% , run time: 0.3\n",
            "[Epoch: 37]  , Train_loss: 0.7 , Train_Acc: 73.5%, Val_loss: 1.1 , Val_Acc: 60.7% , run time: 0.29\n",
            "[Epoch: 38]  , Train_loss: 0.7 , Train_Acc: 72.6%, Val_loss: 1.1 , Val_Acc: 59.8% , run time: 0.3\n",
            "[Epoch: 39]  , Train_loss: 0.7 , Train_Acc: 75.4%, Val_loss: 1.1 , Val_Acc: 60.0% , run time: 0.31\n",
            "[Epoch: 40]  , Train_loss: 0.7 , Train_Acc: 74.9%, Val_loss: 1.1 , Val_Acc: 59.8% , run time: 0.3\n",
            "[Epoch: 41]  , Train_loss: 0.7 , Train_Acc: 76.1%, Val_loss: 1.1 , Val_Acc: 60.2% , run time: 0.3\n",
            "[Epoch: 42]  , Train_loss: 0.7 , Train_Acc: 75.7%, Val_loss: 1.1 , Val_Acc: 59.3% , run time: 0.3\n",
            "[Epoch: 43]  , Train_loss: 0.6 , Train_Acc: 76.6%, Val_loss: 1.1 , Val_Acc: 59.6% , run time: 0.3\n",
            "[Epoch: 44]  , Train_loss: 0.6 , Train_Acc: 77.8%, Val_loss: 1.1 , Val_Acc: 60.0% , run time: 0.3\n",
            "[Epoch: 45]  , Train_loss: 0.6 , Train_Acc: 78.2%, Val_loss: 1.1 , Val_Acc: 59.1% , run time: 0.3\n",
            "[Epoch: 46]  , Train_loss: 0.6 , Train_Acc: 78.7%, Val_loss: 1.2 , Val_Acc: 60.2% , run time: 0.3\n",
            "[Epoch: 47]  , Train_loss: 0.6 , Train_Acc: 77.7%, Val_loss: 1.2 , Val_Acc: 60.4% , run time: 0.3\n",
            "[Epoch: 48]  , Train_loss: 0.5 , Train_Acc: 80.5%, Val_loss: 1.2 , Val_Acc: 60.4% , run time: 0.3\n",
            "[Epoch: 49]  , Train_loss: 0.5 , Train_Acc: 80.2%, Val_loss: 1.2 , Val_Acc: 58.4% , run time: 0.3\n"
          ]
        },
        {
          "output_type": "stream",
          "name": "stderr",
          "text": [
            "\rCross Validation - Level:  33%|█████████████                          | 2/6 [00:30<01:00, 15.17s/it]"
          ]
        },
        {
          "output_type": "stream",
          "name": "stdout",
          "text": [
            "[Epoch: 50]  , Train_loss: 0.5 , Train_Acc: 81.5%, Val_loss: 1.2 , Val_Acc: 59.3% , run time: 0.3\n",
            "Finished Training\n",
            "[Epoch: 1]  , Train_loss: 1.7 , Train_Acc: 37.0%, Val_loss: 1.6 , Val_Acc: 35.3% , run time: 0.29\n",
            "[Epoch: 2]  , Train_loss: 1.4 , Train_Acc: 43.2%, Val_loss: 1.5 , Val_Acc: 39.3% , run time: 0.3\n",
            "[Epoch: 3]  , Train_loss: 1.4 , Train_Acc: 46.9%, Val_loss: 1.5 , Val_Acc: 44.0% , run time: 0.3\n",
            "[Epoch: 4]  , Train_loss: 1.3 , Train_Acc: 48.9%, Val_loss: 1.4 , Val_Acc: 46.4% , run time: 0.3\n",
            "[Epoch: 5]  , Train_loss: 1.3 , Train_Acc: 51.3%, Val_loss: 1.4 , Val_Acc: 47.8% , run time: 0.3\n",
            "[Epoch: 6]  , Train_loss: 1.2 , Train_Acc: 52.0%, Val_loss: 1.3 , Val_Acc: 48.4% , run time: 0.31\n",
            "[Epoch: 7]  , Train_loss: 1.2 , Train_Acc: 53.1%, Val_loss: 1.3 , Val_Acc: 50.9% , run time: 0.31\n",
            "[Epoch: 8]  , Train_loss: 1.2 , Train_Acc: 54.1%, Val_loss: 1.3 , Val_Acc: 52.7% , run time: 0.3\n",
            "[Epoch: 9]  , Train_loss: 1.2 , Train_Acc: 55.5%, Val_loss: 1.3 , Val_Acc: 52.2% , run time: 0.3\n",
            "[Epoch: 10]  , Train_loss: 1.1 , Train_Acc: 55.9%, Val_loss: 1.3 , Val_Acc: 53.8% , run time: 0.3\n",
            "[Epoch: 11]  , Train_loss: 1.1 , Train_Acc: 56.6%, Val_loss: 1.3 , Val_Acc: 53.8% , run time: 0.3\n",
            "[Epoch: 12]  , Train_loss: 1.1 , Train_Acc: 56.6%, Val_loss: 1.2 , Val_Acc: 54.7% , run time: 0.3\n",
            "[Epoch: 13]  , Train_loss: 1.1 , Train_Acc: 58.5%, Val_loss: 1.2 , Val_Acc: 53.6% , run time: 0.3\n",
            "[Epoch: 14]  , Train_loss: 1.1 , Train_Acc: 58.5%, Val_loss: 1.2 , Val_Acc: 53.3% , run time: 0.3\n",
            "[Epoch: 15]  , Train_loss: 1.1 , Train_Acc: 59.7%, Val_loss: 1.2 , Val_Acc: 53.3% , run time: 0.3\n",
            "[Epoch: 16]  , Train_loss: 1.0 , Train_Acc: 60.4%, Val_loss: 1.2 , Val_Acc: 53.3% , run time: 0.3\n",
            "[Epoch: 17]  , Train_loss: 1.0 , Train_Acc: 60.4%, Val_loss: 1.2 , Val_Acc: 54.9% , run time: 0.3\n",
            "[Epoch: 18]  , Train_loss: 1.0 , Train_Acc: 61.7%, Val_loss: 1.2 , Val_Acc: 56.2% , run time: 0.3\n",
            "[Epoch: 19]  , Train_loss: 1.0 , Train_Acc: 62.0%, Val_loss: 1.2 , Val_Acc: 56.7% , run time: 0.3\n",
            "[Epoch: 20]  , Train_loss: 1.0 , Train_Acc: 62.7%, Val_loss: 1.2 , Val_Acc: 56.4% , run time: 0.3\n",
            "[Epoch: 21]  , Train_loss: 0.9 , Train_Acc: 63.5%, Val_loss: 1.2 , Val_Acc: 56.4% , run time: 0.3\n",
            "[Epoch: 22]  , Train_loss: 0.9 , Train_Acc: 64.8%, Val_loss: 1.1 , Val_Acc: 56.7% , run time: 0.3\n",
            "[Epoch: 23]  , Train_loss: 0.9 , Train_Acc: 64.5%, Val_loss: 1.1 , Val_Acc: 56.7% , run time: 0.3\n",
            "[Epoch: 24]  , Train_loss: 0.9 , Train_Acc: 66.2%, Val_loss: 1.1 , Val_Acc: 57.6% , run time: 0.3\n",
            "[Epoch: 25]  , Train_loss: 0.9 , Train_Acc: 66.8%, Val_loss: 1.1 , Val_Acc: 57.3% , run time: 0.3\n",
            "[Epoch: 26]  , Train_loss: 0.9 , Train_Acc: 67.0%, Val_loss: 1.1 , Val_Acc: 57.1% , run time: 0.3\n",
            "[Epoch: 27]  , Train_loss: 0.8 , Train_Acc: 67.1%, Val_loss: 1.1 , Val_Acc: 57.8% , run time: 0.3\n",
            "[Epoch: 28]  , Train_loss: 0.8 , Train_Acc: 68.0%, Val_loss: 1.1 , Val_Acc: 58.2% , run time: 0.3\n",
            "[Epoch: 29]  , Train_loss: 0.8 , Train_Acc: 68.7%, Val_loss: 1.2 , Val_Acc: 58.2% , run time: 0.3\n",
            "[Epoch: 30]  , Train_loss: 0.8 , Train_Acc: 69.3%, Val_loss: 1.1 , Val_Acc: 59.1% , run time: 0.3\n",
            "[Epoch: 31]  , Train_loss: 0.8 , Train_Acc: 70.0%, Val_loss: 1.2 , Val_Acc: 58.0% , run time: 0.3\n",
            "[Epoch: 32]  , Train_loss: 0.8 , Train_Acc: 70.8%, Val_loss: 1.2 , Val_Acc: 57.8% , run time: 0.3\n",
            "[Epoch: 33]  , Train_loss: 0.8 , Train_Acc: 71.8%, Val_loss: 1.2 , Val_Acc: 58.7% , run time: 0.3\n",
            "[Epoch: 34]  , Train_loss: 0.7 , Train_Acc: 72.3%, Val_loss: 1.2 , Val_Acc: 58.4% , run time: 0.31\n",
            "[Epoch: 35]  , Train_loss: 0.7 , Train_Acc: 72.0%, Val_loss: 1.2 , Val_Acc: 58.9% , run time: 0.3\n",
            "[Epoch: 36]  , Train_loss: 0.7 , Train_Acc: 72.9%, Val_loss: 1.2 , Val_Acc: 59.6% , run time: 0.3\n",
            "[Epoch: 37]  , Train_loss: 0.7 , Train_Acc: 73.6%, Val_loss: 1.2 , Val_Acc: 58.2% , run time: 0.3\n",
            "[Epoch: 38]  , Train_loss: 0.7 , Train_Acc: 74.4%, Val_loss: 1.2 , Val_Acc: 58.2% , run time: 0.3\n",
            "[Epoch: 39]  , Train_loss: 0.7 , Train_Acc: 74.8%, Val_loss: 1.2 , Val_Acc: 57.8% , run time: 0.3\n",
            "[Epoch: 40]  , Train_loss: 0.7 , Train_Acc: 75.9%, Val_loss: 1.2 , Val_Acc: 59.3% , run time: 0.3\n",
            "[Epoch: 41]  , Train_loss: 0.6 , Train_Acc: 76.7%, Val_loss: 1.2 , Val_Acc: 57.8% , run time: 0.3\n",
            "[Epoch: 42]  , Train_loss: 0.6 , Train_Acc: 76.9%, Val_loss: 1.2 , Val_Acc: 58.2% , run time: 0.3\n",
            "[Epoch: 43]  , Train_loss: 0.6 , Train_Acc: 78.1%, Val_loss: 1.2 , Val_Acc: 58.2% , run time: 0.3\n",
            "[Epoch: 44]  , Train_loss: 0.6 , Train_Acc: 78.3%, Val_loss: 1.3 , Val_Acc: 58.0% , run time: 0.3\n",
            "[Epoch: 45]  , Train_loss: 0.6 , Train_Acc: 78.4%, Val_loss: 1.3 , Val_Acc: 57.6% , run time: 0.3\n",
            "[Epoch: 46]  , Train_loss: 0.6 , Train_Acc: 80.2%, Val_loss: 1.3 , Val_Acc: 58.2% , run time: 0.31\n",
            "[Epoch: 47]  , Train_loss: 0.5 , Train_Acc: 80.1%, Val_loss: 1.3 , Val_Acc: 58.0% , run time: 0.3\n",
            "[Epoch: 48]  , Train_loss: 0.5 , Train_Acc: 81.6%, Val_loss: 1.3 , Val_Acc: 57.8% , run time: 0.3\n",
            "[Epoch: 49]  , Train_loss: 0.5 , Train_Acc: 81.9%, Val_loss: 1.3 , Val_Acc: 57.8% , run time: 0.29\n"
          ]
        },
        {
          "output_type": "stream",
          "name": "stderr",
          "text": [
            "\rCross Validation - Level:  50%|███████████████████▌                   | 3/6 [00:45<00:45, 15.18s/it]"
          ]
        },
        {
          "output_type": "stream",
          "name": "stdout",
          "text": [
            "[Epoch: 50]  , Train_loss: 0.5 , Train_Acc: 82.9%, Val_loss: 1.4 , Val_Acc: 57.3% , run time: 0.3\n",
            "Finished Training\n",
            "[Epoch: 1]  , Train_loss: 1.7 , Train_Acc: 35.7%, Val_loss: 1.5 , Val_Acc: 44.4% , run time: 0.3\n",
            "[Epoch: 2]  , Train_loss: 1.5 , Train_Acc: 42.4%, Val_loss: 1.4 , Val_Acc: 47.3% , run time: 0.3\n",
            "[Epoch: 3]  , Train_loss: 1.4 , Train_Acc: 45.6%, Val_loss: 1.3 , Val_Acc: 54.0% , run time: 0.3\n",
            "[Epoch: 4]  , Train_loss: 1.3 , Train_Acc: 47.6%, Val_loss: 1.3 , Val_Acc: 54.9% , run time: 0.3\n",
            "[Epoch: 5]  , Train_loss: 1.3 , Train_Acc: 49.5%, Val_loss: 1.2 , Val_Acc: 55.6% , run time: 0.3\n",
            "[Epoch: 6]  , Train_loss: 1.3 , Train_Acc: 51.8%, Val_loss: 1.2 , Val_Acc: 56.0% , run time: 0.3\n",
            "[Epoch: 7]  , Train_loss: 1.2 , Train_Acc: 51.6%, Val_loss: 1.2 , Val_Acc: 57.1% , run time: 0.3\n",
            "[Epoch: 8]  , Train_loss: 1.2 , Train_Acc: 52.9%, Val_loss: 1.2 , Val_Acc: 58.7% , run time: 0.3\n",
            "[Epoch: 9]  , Train_loss: 1.2 , Train_Acc: 53.5%, Val_loss: 1.2 , Val_Acc: 59.3% , run time: 0.31\n",
            "[Epoch: 10]  , Train_loss: 1.2 , Train_Acc: 54.4%, Val_loss: 1.1 , Val_Acc: 60.2% , run time: 0.3\n",
            "[Epoch: 11]  , Train_loss: 1.2 , Train_Acc: 55.5%, Val_loss: 1.1 , Val_Acc: 60.0% , run time: 0.3\n",
            "[Epoch: 12]  , Train_loss: 1.1 , Train_Acc: 56.5%, Val_loss: 1.1 , Val_Acc: 60.0% , run time: 0.3\n",
            "[Epoch: 13]  , Train_loss: 1.1 , Train_Acc: 56.5%, Val_loss: 1.1 , Val_Acc: 61.3% , run time: 0.3\n",
            "[Epoch: 14]  , Train_loss: 1.1 , Train_Acc: 57.9%, Val_loss: 1.1 , Val_Acc: 61.1% , run time: 0.3\n",
            "[Epoch: 15]  , Train_loss: 1.1 , Train_Acc: 57.9%, Val_loss: 1.1 , Val_Acc: 60.7% , run time: 0.29\n",
            "[Epoch: 16]  , Train_loss: 1.1 , Train_Acc: 59.5%, Val_loss: 1.1 , Val_Acc: 62.0% , run time: 0.3\n",
            "[Epoch: 17]  , Train_loss: 1.0 , Train_Acc: 59.7%, Val_loss: 1.0 , Val_Acc: 62.7% , run time: 0.3\n",
            "[Epoch: 18]  , Train_loss: 1.0 , Train_Acc: 59.7%, Val_loss: 1.0 , Val_Acc: 62.9% , run time: 0.3\n",
            "[Epoch: 19]  , Train_loss: 1.0 , Train_Acc: 61.0%, Val_loss: 1.0 , Val_Acc: 63.1% , run time: 0.3\n",
            "[Epoch: 20]  , Train_loss: 1.0 , Train_Acc: 61.7%, Val_loss: 1.0 , Val_Acc: 63.6% , run time: 0.3\n",
            "[Epoch: 21]  , Train_loss: 1.0 , Train_Acc: 62.7%, Val_loss: 1.0 , Val_Acc: 63.6% , run time: 0.3\n",
            "[Epoch: 22]  , Train_loss: 1.0 , Train_Acc: 62.9%, Val_loss: 1.0 , Val_Acc: 62.4% , run time: 0.43\n",
            "[Epoch: 23]  , Train_loss: 0.9 , Train_Acc: 63.3%, Val_loss: 1.0 , Val_Acc: 62.9% , run time: 0.58\n",
            "[Epoch: 24]  , Train_loss: 0.9 , Train_Acc: 64.6%, Val_loss: 1.0 , Val_Acc: 63.6% , run time: 0.3\n",
            "[Epoch: 25]  , Train_loss: 0.9 , Train_Acc: 65.3%, Val_loss: 1.0 , Val_Acc: 64.0% , run time: 0.49\n",
            "[Epoch: 26]  , Train_loss: 0.9 , Train_Acc: 66.1%, Val_loss: 1.0 , Val_Acc: 64.4% , run time: 0.46\n",
            "[Epoch: 27]  , Train_loss: 0.9 , Train_Acc: 65.5%, Val_loss: 1.0 , Val_Acc: 64.2% , run time: 0.31\n",
            "[Epoch: 28]  , Train_loss: 0.9 , Train_Acc: 67.5%, Val_loss: 1.0 , Val_Acc: 63.8% , run time: 0.3\n",
            "[Epoch: 29]  , Train_loss: 0.8 , Train_Acc: 67.4%, Val_loss: 1.0 , Val_Acc: 63.6% , run time: 0.3\n",
            "[Epoch: 30]  , Train_loss: 0.8 , Train_Acc: 68.2%, Val_loss: 1.0 , Val_Acc: 64.4% , run time: 0.31\n",
            "[Epoch: 31]  , Train_loss: 0.8 , Train_Acc: 69.0%, Val_loss: 1.0 , Val_Acc: 63.6% , run time: 0.3\n",
            "[Epoch: 32]  , Train_loss: 0.8 , Train_Acc: 69.0%, Val_loss: 1.0 , Val_Acc: 64.0% , run time: 0.3\n",
            "[Epoch: 33]  , Train_loss: 0.8 , Train_Acc: 69.9%, Val_loss: 1.0 , Val_Acc: 64.0% , run time: 0.3\n",
            "[Epoch: 34]  , Train_loss: 0.8 , Train_Acc: 70.0%, Val_loss: 1.0 , Val_Acc: 64.0% , run time: 0.3\n",
            "[Epoch: 35]  , Train_loss: 0.8 , Train_Acc: 71.3%, Val_loss: 1.0 , Val_Acc: 63.3% , run time: 0.3\n",
            "[Epoch: 36]  , Train_loss: 0.7 , Train_Acc: 70.5%, Val_loss: 1.0 , Val_Acc: 63.6% , run time: 0.3\n",
            "[Epoch: 37]  , Train_loss: 0.7 , Train_Acc: 73.1%, Val_loss: 1.0 , Val_Acc: 63.6% , run time: 0.3\n",
            "[Epoch: 38]  , Train_loss: 0.7 , Train_Acc: 72.6%, Val_loss: 1.0 , Val_Acc: 63.8% , run time: 0.3\n",
            "[Epoch: 39]  , Train_loss: 0.7 , Train_Acc: 73.4%, Val_loss: 1.0 , Val_Acc: 63.3% , run time: 0.3\n",
            "[Epoch: 40]  , Train_loss: 0.7 , Train_Acc: 74.2%, Val_loss: 1.0 , Val_Acc: 63.3% , run time: 0.31\n",
            "[Epoch: 41]  , Train_loss: 0.7 , Train_Acc: 74.6%, Val_loss: 1.0 , Val_Acc: 63.3% , run time: 0.31\n",
            "[Epoch: 42]  , Train_loss: 0.7 , Train_Acc: 74.8%, Val_loss: 1.0 , Val_Acc: 63.6% , run time: 0.3\n",
            "[Epoch: 43]  , Train_loss: 0.6 , Train_Acc: 75.7%, Val_loss: 1.0 , Val_Acc: 64.7% , run time: 0.3\n",
            "[Epoch: 44]  , Train_loss: 0.6 , Train_Acc: 76.2%, Val_loss: 1.0 , Val_Acc: 63.8% , run time: 0.31\n",
            "[Epoch: 45]  , Train_loss: 0.6 , Train_Acc: 77.7%, Val_loss: 1.0 , Val_Acc: 65.3% , run time: 0.3\n",
            "[Epoch: 46]  , Train_loss: 0.6 , Train_Acc: 78.7%, Val_loss: 1.1 , Val_Acc: 65.1% , run time: 0.3\n",
            "[Epoch: 47]  , Train_loss: 0.6 , Train_Acc: 79.5%, Val_loss: 1.0 , Val_Acc: 65.3% , run time: 0.3\n",
            "[Epoch: 48]  , Train_loss: 0.5 , Train_Acc: 80.9%, Val_loss: 1.1 , Val_Acc: 65.1% , run time: 0.3\n",
            "[Epoch: 49]  , Train_loss: 0.5 , Train_Acc: 81.1%, Val_loss: 1.1 , Val_Acc: 66.7% , run time: 0.3\n"
          ]
        },
        {
          "output_type": "stream",
          "name": "stderr",
          "text": [
            "\rCross Validation - Level:  67%|██████████████████████████             | 4/6 [01:01<00:31, 15.50s/it]"
          ]
        },
        {
          "output_type": "stream",
          "name": "stdout",
          "text": [
            "[Epoch: 50]  , Train_loss: 0.5 , Train_Acc: 81.1%, Val_loss: 1.1 , Val_Acc: 63.3% , run time: 0.3\n",
            "Finished Training\n",
            "[Epoch: 1]  , Train_loss: 1.7 , Train_Acc: 36.0%, Val_loss: 1.5 , Val_Acc: 42.7% , run time: 0.3\n",
            "[Epoch: 2]  , Train_loss: 1.5 , Train_Acc: 42.6%, Val_loss: 1.4 , Val_Acc: 46.2% , run time: 0.3\n",
            "[Epoch: 3]  , Train_loss: 1.4 , Train_Acc: 45.8%, Val_loss: 1.3 , Val_Acc: 51.1% , run time: 0.3\n",
            "[Epoch: 4]  , Train_loss: 1.3 , Train_Acc: 49.2%, Val_loss: 1.3 , Val_Acc: 51.3% , run time: 0.3\n",
            "[Epoch: 5]  , Train_loss: 1.3 , Train_Acc: 49.9%, Val_loss: 1.3 , Val_Acc: 52.4% , run time: 0.31\n",
            "[Epoch: 6]  , Train_loss: 1.3 , Train_Acc: 52.5%, Val_loss: 1.2 , Val_Acc: 53.1% , run time: 0.31\n",
            "[Epoch: 7]  , Train_loss: 1.2 , Train_Acc: 53.5%, Val_loss: 1.2 , Val_Acc: 53.6% , run time: 0.3\n",
            "[Epoch: 8]  , Train_loss: 1.2 , Train_Acc: 55.1%, Val_loss: 1.2 , Val_Acc: 55.1% , run time: 0.3\n",
            "[Epoch: 9]  , Train_loss: 1.2 , Train_Acc: 55.4%, Val_loss: 1.2 , Val_Acc: 55.6% , run time: 0.31\n",
            "[Epoch: 10]  , Train_loss: 1.2 , Train_Acc: 55.7%, Val_loss: 1.2 , Val_Acc: 56.0% , run time: 0.31\n",
            "[Epoch: 11]  , Train_loss: 1.1 , Train_Acc: 56.8%, Val_loss: 1.1 , Val_Acc: 56.0% , run time: 0.3\n",
            "[Epoch: 12]  , Train_loss: 1.1 , Train_Acc: 56.8%, Val_loss: 1.1 , Val_Acc: 55.8% , run time: 0.3\n",
            "[Epoch: 13]  , Train_loss: 1.1 , Train_Acc: 57.6%, Val_loss: 1.1 , Val_Acc: 55.1% , run time: 0.3\n",
            "[Epoch: 14]  , Train_loss: 1.1 , Train_Acc: 58.4%, Val_loss: 1.1 , Val_Acc: 55.6% , run time: 0.3\n",
            "[Epoch: 15]  , Train_loss: 1.1 , Train_Acc: 59.1%, Val_loss: 1.1 , Val_Acc: 56.2% , run time: 0.3\n",
            "[Epoch: 16]  , Train_loss: 1.0 , Train_Acc: 60.2%, Val_loss: 1.1 , Val_Acc: 56.0% , run time: 0.3\n",
            "[Epoch: 17]  , Train_loss: 1.0 , Train_Acc: 61.0%, Val_loss: 1.1 , Val_Acc: 57.3% , run time: 0.31\n",
            "[Epoch: 18]  , Train_loss: 1.0 , Train_Acc: 61.4%, Val_loss: 1.1 , Val_Acc: 57.6% , run time: 0.3\n",
            "[Epoch: 19]  , Train_loss: 1.0 , Train_Acc: 61.9%, Val_loss: 1.1 , Val_Acc: 57.8% , run time: 0.3\n",
            "[Epoch: 20]  , Train_loss: 1.0 , Train_Acc: 63.6%, Val_loss: 1.1 , Val_Acc: 57.6% , run time: 0.3\n",
            "[Epoch: 21]  , Train_loss: 0.9 , Train_Acc: 64.3%, Val_loss: 1.1 , Val_Acc: 57.6% , run time: 0.3\n",
            "[Epoch: 22]  , Train_loss: 0.9 , Train_Acc: 64.1%, Val_loss: 1.1 , Val_Acc: 57.6% , run time: 0.3\n",
            "[Epoch: 23]  , Train_loss: 0.9 , Train_Acc: 65.6%, Val_loss: 1.1 , Val_Acc: 57.1% , run time: 0.3\n",
            "[Epoch: 24]  , Train_loss: 0.9 , Train_Acc: 66.1%, Val_loss: 1.1 , Val_Acc: 57.3% , run time: 0.3\n",
            "[Epoch: 25]  , Train_loss: 0.9 , Train_Acc: 67.2%, Val_loss: 1.1 , Val_Acc: 57.3% , run time: 0.29\n",
            "[Epoch: 26]  , Train_loss: 0.9 , Train_Acc: 67.9%, Val_loss: 1.1 , Val_Acc: 59.1% , run time: 0.3\n",
            "[Epoch: 27]  , Train_loss: 0.9 , Train_Acc: 68.1%, Val_loss: 1.1 , Val_Acc: 59.1% , run time: 0.3\n",
            "[Epoch: 28]  , Train_loss: 0.8 , Train_Acc: 69.0%, Val_loss: 1.1 , Val_Acc: 59.1% , run time: 0.3\n",
            "[Epoch: 29]  , Train_loss: 0.8 , Train_Acc: 68.6%, Val_loss: 1.1 , Val_Acc: 60.4% , run time: 0.3\n",
            "[Epoch: 30]  , Train_loss: 0.8 , Train_Acc: 69.7%, Val_loss: 1.1 , Val_Acc: 59.6% , run time: 0.31\n",
            "[Epoch: 31]  , Train_loss: 0.8 , Train_Acc: 70.6%, Val_loss: 1.1 , Val_Acc: 61.1% , run time: 0.3\n",
            "[Epoch: 32]  , Train_loss: 0.8 , Train_Acc: 70.7%, Val_loss: 1.1 , Val_Acc: 59.8% , run time: 0.3\n",
            "[Epoch: 33]  , Train_loss: 0.8 , Train_Acc: 71.6%, Val_loss: 1.1 , Val_Acc: 60.4% , run time: 0.3\n",
            "[Epoch: 34]  , Train_loss: 0.8 , Train_Acc: 71.9%, Val_loss: 1.1 , Val_Acc: 60.7% , run time: 0.3\n",
            "[Epoch: 35]  , Train_loss: 0.7 , Train_Acc: 72.6%, Val_loss: 1.1 , Val_Acc: 58.9% , run time: 0.3\n",
            "[Epoch: 36]  , Train_loss: 0.7 , Train_Acc: 72.8%, Val_loss: 1.1 , Val_Acc: 60.0% , run time: 0.3\n",
            "[Epoch: 37]  , Train_loss: 0.7 , Train_Acc: 74.0%, Val_loss: 1.1 , Val_Acc: 60.2% , run time: 0.3\n",
            "[Epoch: 38]  , Train_loss: 0.7 , Train_Acc: 74.2%, Val_loss: 1.1 , Val_Acc: 59.8% , run time: 0.3\n",
            "[Epoch: 39]  , Train_loss: 0.7 , Train_Acc: 75.0%, Val_loss: 1.1 , Val_Acc: 59.3% , run time: 0.31\n",
            "[Epoch: 40]  , Train_loss: 0.7 , Train_Acc: 75.9%, Val_loss: 1.1 , Val_Acc: 58.9% , run time: 0.31\n",
            "[Epoch: 41]  , Train_loss: 0.6 , Train_Acc: 76.8%, Val_loss: 1.1 , Val_Acc: 58.0% , run time: 0.3\n",
            "[Epoch: 42]  , Train_loss: 0.6 , Train_Acc: 76.8%, Val_loss: 1.1 , Val_Acc: 59.3% , run time: 0.3\n",
            "[Epoch: 43]  , Train_loss: 0.6 , Train_Acc: 77.8%, Val_loss: 1.1 , Val_Acc: 60.0% , run time: 0.3\n",
            "[Epoch: 44]  , Train_loss: 0.6 , Train_Acc: 77.8%, Val_loss: 1.1 , Val_Acc: 57.8% , run time: 0.3\n",
            "[Epoch: 45]  , Train_loss: 0.6 , Train_Acc: 78.2%, Val_loss: 1.1 , Val_Acc: 59.1% , run time: 0.3\n",
            "[Epoch: 46]  , Train_loss: 0.6 , Train_Acc: 80.0%, Val_loss: 1.1 , Val_Acc: 58.4% , run time: 0.3\n",
            "[Epoch: 47]  , Train_loss: 0.6 , Train_Acc: 79.8%, Val_loss: 1.1 , Val_Acc: 59.6% , run time: 0.31\n",
            "[Epoch: 48]  , Train_loss: 0.5 , Train_Acc: 81.5%, Val_loss: 1.2 , Val_Acc: 58.7% , run time: 0.3\n",
            "[Epoch: 49]  , Train_loss: 0.5 , Train_Acc: 82.2%, Val_loss: 1.2 , Val_Acc: 59.6% , run time: 0.3\n"
          ]
        },
        {
          "output_type": "stream",
          "name": "stderr",
          "text": [
            "\rCross Validation - Level:  83%|████████████████████████████████▌      | 5/6 [01:16<00:15, 15.42s/it]"
          ]
        },
        {
          "output_type": "stream",
          "name": "stdout",
          "text": [
            "[Epoch: 50]  , Train_loss: 0.5 , Train_Acc: 81.5%, Val_loss: 1.2 , Val_Acc: 59.8% , run time: 0.3\n",
            "Finished Training\n",
            "[Epoch: 1]  , Train_loss: 1.7 , Train_Acc: 35.8%, Val_loss: 1.5 , Val_Acc: 41.6% , run time: 0.3\n",
            "[Epoch: 2]  , Train_loss: 1.5 , Train_Acc: 44.4%, Val_loss: 1.5 , Val_Acc: 41.6% , run time: 0.31\n",
            "[Epoch: 3]  , Train_loss: 1.4 , Train_Acc: 46.8%, Val_loss: 1.4 , Val_Acc: 45.6% , run time: 0.3\n",
            "[Epoch: 4]  , Train_loss: 1.3 , Train_Acc: 49.7%, Val_loss: 1.4 , Val_Acc: 45.8% , run time: 0.3\n",
            "[Epoch: 5]  , Train_loss: 1.3 , Train_Acc: 51.3%, Val_loss: 1.3 , Val_Acc: 47.6% , run time: 0.3\n",
            "[Epoch: 6]  , Train_loss: 1.3 , Train_Acc: 53.2%, Val_loss: 1.3 , Val_Acc: 46.9% , run time: 0.3\n",
            "[Epoch: 7]  , Train_loss: 1.2 , Train_Acc: 53.7%, Val_loss: 1.3 , Val_Acc: 47.1% , run time: 0.3\n",
            "[Epoch: 8]  , Train_loss: 1.2 , Train_Acc: 54.6%, Val_loss: 1.3 , Val_Acc: 48.4% , run time: 0.29\n",
            "[Epoch: 9]  , Train_loss: 1.2 , Train_Acc: 55.1%, Val_loss: 1.2 , Val_Acc: 50.2% , run time: 0.3\n",
            "[Epoch: 10]  , Train_loss: 1.2 , Train_Acc: 56.5%, Val_loss: 1.2 , Val_Acc: 50.9% , run time: 0.3\n",
            "[Epoch: 11]  , Train_loss: 1.1 , Train_Acc: 56.7%, Val_loss: 1.2 , Val_Acc: 51.6% , run time: 0.3\n",
            "[Epoch: 12]  , Train_loss: 1.1 , Train_Acc: 57.5%, Val_loss: 1.2 , Val_Acc: 51.8% , run time: 0.31\n",
            "[Epoch: 13]  , Train_loss: 1.1 , Train_Acc: 58.1%, Val_loss: 1.2 , Val_Acc: 52.9% , run time: 0.31\n",
            "[Epoch: 14]  , Train_loss: 1.1 , Train_Acc: 58.8%, Val_loss: 1.2 , Val_Acc: 53.1% , run time: 0.3\n",
            "[Epoch: 15]  , Train_loss: 1.1 , Train_Acc: 59.3%, Val_loss: 1.2 , Val_Acc: 53.1% , run time: 0.3\n",
            "[Epoch: 16]  , Train_loss: 1.1 , Train_Acc: 59.9%, Val_loss: 1.2 , Val_Acc: 54.2% , run time: 0.3\n",
            "[Epoch: 17]  , Train_loss: 1.0 , Train_Acc: 59.9%, Val_loss: 1.2 , Val_Acc: 54.7% , run time: 0.3\n",
            "[Epoch: 18]  , Train_loss: 1.0 , Train_Acc: 60.8%, Val_loss: 1.1 , Val_Acc: 54.7% , run time: 0.3\n",
            "[Epoch: 19]  , Train_loss: 1.0 , Train_Acc: 61.7%, Val_loss: 1.1 , Val_Acc: 55.1% , run time: 0.3\n",
            "[Epoch: 20]  , Train_loss: 1.0 , Train_Acc: 63.2%, Val_loss: 1.1 , Val_Acc: 56.2% , run time: 0.3\n",
            "[Epoch: 21]  , Train_loss: 1.0 , Train_Acc: 64.0%, Val_loss: 1.1 , Val_Acc: 57.1% , run time: 0.3\n",
            "[Epoch: 22]  , Train_loss: 0.9 , Train_Acc: 64.7%, Val_loss: 1.1 , Val_Acc: 56.2% , run time: 0.31\n",
            "[Epoch: 23]  , Train_loss: 0.9 , Train_Acc: 65.2%, Val_loss: 1.1 , Val_Acc: 56.0% , run time: 0.31\n",
            "[Epoch: 24]  , Train_loss: 0.9 , Train_Acc: 66.1%, Val_loss: 1.1 , Val_Acc: 56.7% , run time: 0.29\n",
            "[Epoch: 25]  , Train_loss: 0.9 , Train_Acc: 66.0%, Val_loss: 1.1 , Val_Acc: 56.9% , run time: 0.3\n",
            "[Epoch: 26]  , Train_loss: 0.9 , Train_Acc: 66.8%, Val_loss: 1.1 , Val_Acc: 56.4% , run time: 0.3\n",
            "[Epoch: 27]  , Train_loss: 0.9 , Train_Acc: 68.0%, Val_loss: 1.1 , Val_Acc: 58.4% , run time: 0.3\n",
            "[Epoch: 28]  , Train_loss: 0.8 , Train_Acc: 68.9%, Val_loss: 1.1 , Val_Acc: 57.6% , run time: 0.3\n",
            "[Epoch: 29]  , Train_loss: 0.8 , Train_Acc: 69.0%, Val_loss: 1.1 , Val_Acc: 58.2% , run time: 0.3\n",
            "[Epoch: 30]  , Train_loss: 0.8 , Train_Acc: 70.0%, Val_loss: 1.1 , Val_Acc: 57.3% , run time: 0.31\n",
            "[Epoch: 31]  , Train_loss: 0.8 , Train_Acc: 70.2%, Val_loss: 1.1 , Val_Acc: 57.6% , run time: 0.3\n",
            "[Epoch: 32]  , Train_loss: 0.8 , Train_Acc: 70.7%, Val_loss: 1.1 , Val_Acc: 58.7% , run time: 0.3\n",
            "[Epoch: 33]  , Train_loss: 0.8 , Train_Acc: 71.7%, Val_loss: 1.1 , Val_Acc: 55.6% , run time: 0.3\n",
            "[Epoch: 34]  , Train_loss: 0.8 , Train_Acc: 71.0%, Val_loss: 1.1 , Val_Acc: 55.6% , run time: 0.3\n",
            "[Epoch: 35]  , Train_loss: 0.8 , Train_Acc: 71.7%, Val_loss: 1.1 , Val_Acc: 56.9% , run time: 0.3\n",
            "[Epoch: 36]  , Train_loss: 0.7 , Train_Acc: 73.6%, Val_loss: 1.1 , Val_Acc: 56.9% , run time: 0.3\n",
            "[Epoch: 37]  , Train_loss: 0.7 , Train_Acc: 74.2%, Val_loss: 1.1 , Val_Acc: 55.8% , run time: 0.3\n",
            "[Epoch: 38]  , Train_loss: 0.7 , Train_Acc: 74.7%, Val_loss: 1.1 , Val_Acc: 56.0% , run time: 0.3\n",
            "[Epoch: 39]  , Train_loss: 0.7 , Train_Acc: 74.1%, Val_loss: 1.1 , Val_Acc: 56.4% , run time: 0.3\n",
            "[Epoch: 40]  , Train_loss: 0.7 , Train_Acc: 74.8%, Val_loss: 1.1 , Val_Acc: 56.4% , run time: 0.3\n",
            "[Epoch: 41]  , Train_loss: 0.7 , Train_Acc: 75.9%, Val_loss: 1.1 , Val_Acc: 57.1% , run time: 0.3\n",
            "[Epoch: 42]  , Train_loss: 0.6 , Train_Acc: 76.2%, Val_loss: 1.1 , Val_Acc: 57.6% , run time: 0.3\n",
            "[Epoch: 43]  , Train_loss: 0.6 , Train_Acc: 77.0%, Val_loss: 1.1 , Val_Acc: 57.1% , run time: 0.3\n",
            "[Epoch: 44]  , Train_loss: 0.6 , Train_Acc: 78.0%, Val_loss: 1.1 , Val_Acc: 56.9% , run time: 0.3\n",
            "[Epoch: 45]  , Train_loss: 0.6 , Train_Acc: 78.5%, Val_loss: 1.2 , Val_Acc: 56.7% , run time: 0.3\n",
            "[Epoch: 46]  , Train_loss: 0.6 , Train_Acc: 78.9%, Val_loss: 1.2 , Val_Acc: 56.4% , run time: 0.3\n",
            "[Epoch: 47]  , Train_loss: 0.6 , Train_Acc: 79.8%, Val_loss: 1.2 , Val_Acc: 56.7% , run time: 0.3\n",
            "[Epoch: 48]  , Train_loss: 0.5 , Train_Acc: 79.3%, Val_loss: 1.2 , Val_Acc: 58.2% , run time: 0.3\n",
            "[Epoch: 49]  , Train_loss: 0.5 , Train_Acc: 81.0%, Val_loss: 1.2 , Val_Acc: 57.6% , run time: 0.3\n"
          ]
        },
        {
          "output_type": "stream",
          "name": "stderr",
          "text": [
            "Cross Validation - Level: 100%|███████████████████████████████████████| 6/6 [01:32<00:00, 15.33s/it]"
          ]
        },
        {
          "output_type": "stream",
          "name": "stdout",
          "text": [
            "[Epoch: 50]  , Train_loss: 0.5 , Train_Acc: 81.4%, Val_loss: 1.3 , Val_Acc: 58.0% , run time: 0.3\n",
            "Finished Training\n"
          ]
        },
        {
          "output_type": "stream",
          "name": "stderr",
          "text": [
            "\n"
          ]
        }
      ]
    },
    {
      "cell_type": "code",
      "source": [
        "CNN_CV_Details"
      ],
      "metadata": {
        "id": "sa2B1MB2t5sH",
        "outputId": "f73475ec-7347-4218-a2ee-e36a3c404fcd",
        "colab": {
          "base_uri": "https://localhost:8080/",
          "height": 168
        }
      },
      "execution_count": 1,
      "outputs": [
        {
          "output_type": "error",
          "ename": "NameError",
          "evalue": "ignored",
          "traceback": [
            "\u001b[0;31m---------------------------------------------------------------------------\u001b[0m",
            "\u001b[0;31mNameError\u001b[0m                                 Traceback (most recent call last)",
            "\u001b[0;32m<ipython-input-1-7b70c4bf63b0>\u001b[0m in \u001b[0;36m<module>\u001b[0;34m()\u001b[0m\n\u001b[0;32m----> 1\u001b[0;31m \u001b[0mCNN_CV_Details\u001b[0m\u001b[0;34m\u001b[0m\u001b[0;34m\u001b[0m\u001b[0m\n\u001b[0m",
            "\u001b[0;31mNameError\u001b[0m: name 'CNN_CV_Details' is not defined"
          ]
        }
      ]
    },
    {
      "cell_type": "code",
      "source": [
        "train_index = CNN_CV_Details['train_index'][0]\n",
        "valid_index = CNN_CV_Details['valid_index'][0]\n",
        "\n",
        "X_train = input_data[3][train_index]\n",
        "Y_train = labels[3][train_index]\n",
        "X_valid = input_data[3][valid_index]\n",
        "Y_valid = labels[3][valid_index]\n"
      ],
      "metadata": {
        "id": "9HqeBTFI2cKT"
      },
      "execution_count": null,
      "outputs": []
    },
    {
      "cell_type": "code",
      "source": [
        "Model_CV = Model_Training2(**grid, X_train = X_train, Y_train = Y_train, X_valid = X_valid, Y_valid= Y_valid)\n",
        "torch.manual_seed(0)\n",
        "Model_CV.train()"
      ],
      "metadata": {
        "id": "BFxoyRob2fXe"
      },
      "execution_count": null,
      "outputs": []
    },
    {
      "cell_type": "markdown",
      "metadata": {
        "id": "xg-ZJmCpAlDj"
      },
      "source": [
        "# **Save the model**"
      ]
    },
    {
      "cell_type": "code",
      "execution_count": null,
      "metadata": {
        "id": "DM15kY74AlDj"
      },
      "outputs": [],
      "source": [
        "pickle.dump(Model_2, open(p_models + 'CNN_60x45_Duplicated', 'wb'))"
      ]
    },
    {
      "cell_type": "code",
      "execution_count": null,
      "metadata": {
        "id": "ZgZ8d28qAlDj"
      },
      "outputs": [],
      "source": [
        "dill.dump([CNN_Net1,CNN_Net2,CNN_Net3, Model_Training], open(p_models + 'CNNs_Network_Training', \"wb\"))"
      ]
    },
    {
      "cell_type": "markdown",
      "metadata": {
        "id": "oW6taeF-AlDj"
      },
      "source": [
        ""
      ]
    }
  ],
  "metadata": {
    "interpreter": {
      "hash": "31f2aee4e71d21fbe5cf8b01ff0e069b9275f58929596ceb00d14d90e3e16cd6"
    },
    "kernelspec": {
      "display_name": "Python 3.8.9 64-bit",
      "language": "python",
      "name": "python3"
    },
    "language_info": {
      "codemirror_mode": {
        "name": "ipython",
        "version": 3
      },
      "file_extension": ".py",
      "mimetype": "text/x-python",
      "name": "python",
      "nbconvert_exporter": "python",
      "pygments_lexer": "ipython3",
      "version": "3.8.9"
    },
    "colab": {
      "name": "CNN_60x45.ipynb",
      "provenance": [],
      "include_colab_link": true
    },
    "accelerator": "GPU"
  },
  "nbformat": 4,
  "nbformat_minor": 0
}