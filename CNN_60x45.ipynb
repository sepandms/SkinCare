{
  "cells": [
    {
      "cell_type": "markdown",
      "metadata": {
        "id": "view-in-github",
        "colab_type": "text"
      },
      "source": [
        "<a href=\"https://colab.research.google.com/github/sepandms/SkinCare/blob/main/CNN_60x45.ipynb\" target=\"_parent\"><img src=\"https://colab.research.google.com/assets/colab-badge.svg\" alt=\"Open In Colab\"/></a>"
      ]
    },
    {
      "cell_type": "code",
      "source": [
        "from google.colab import drive\n",
        "drive.mount('/content/drive')"
      ],
      "metadata": {
        "id": "GYDq50GzA-lO",
        "outputId": "6417a4a3-4110-4ed7-e22b-4bd6fe4b2672",
        "colab": {
          "base_uri": "https://localhost:8080/"
        }
      },
      "execution_count": 1,
      "outputs": [
        {
          "output_type": "stream",
          "name": "stdout",
          "text": [
            "Mounted at /content/drive\n"
          ]
        }
      ]
    },
    {
      "cell_type": "code",
      "execution_count": 2,
      "metadata": {
        "id": "VZrZXitoAlDd"
      },
      "outputs": [],
      "source": [
        "import torch\n",
        "import torch.nn as nn\n",
        "import torch.nn.functional as F\n",
        "import torchvision\n",
        "import torchvision.transforms as transforms\n",
        "#import torchvision.transforms.Compose\n",
        "import numpy as np\n",
        "import matplotlib.pyplot as plt\n",
        "from torch.utils.data import random_split\n",
        "from torch.utils.data import SubsetRandomSampler\n",
        "import time\n",
        "import pickle\n",
        "from statistics import mean\n",
        "import pandas as pd\n",
        "import sklearn as sk\n",
        "from sklearn.model_selection import train_test_split\n",
        "device = 'mps'\n",
        "from sklearn.utils import resample\n",
        "import warnings\n",
        "warnings.filterwarnings('ignore')\n",
        "#path = '/Users/sepehrbe/DataSources/Kaggle/SkinCare/Data/Pickle_Data/'\n",
        "#p_models = '/Users/sepehrbe/DataSources/Kaggle/SkinCare/Models/Saved/'\n",
        "#device = torch.device(\"cpu\")\n",
        "path = '/content/drive/MyDrive/DataSources/'"
      ]
    },
    {
      "cell_type": "code",
      "execution_count": 3,
      "metadata": {
        "id": "mTyd2fE_AlDe",
        "outputId": "21f7639b-79c1-472c-eeda-8ac0d029aabe",
        "colab": {
          "base_uri": "https://localhost:8080/",
          "height": 389
        }
      },
      "outputs": [
        {
          "output_type": "error",
          "ename": "FileNotFoundError",
          "evalue": "ignored",
          "traceback": [
            "\u001b[0;31m---------------------------------------------------------------------------\u001b[0m",
            "\u001b[0;31mFileNotFoundError\u001b[0m                         Traceback (most recent call last)",
            "\u001b[0;32m<ipython-input-3-acbd13af96af>\u001b[0m in \u001b[0;36m<module>\u001b[0;34m()\u001b[0m\n\u001b[1;32m      1\u001b[0m \u001b[0;31m# file = 'DataSource_60x45_blc.pickle'\u001b[0m\u001b[0;34m\u001b[0m\u001b[0;34m\u001b[0m\u001b[0;34m\u001b[0m\u001b[0m\n\u001b[1;32m      2\u001b[0m \u001b[0mfile\u001b[0m \u001b[0;34m=\u001b[0m \u001b[0;34m'DataSource_60x45_blc_noDup.pickle'\u001b[0m\u001b[0;34m\u001b[0m\u001b[0;34m\u001b[0m\u001b[0m\n\u001b[0;32m----> 3\u001b[0;31m \u001b[0mdata\u001b[0m \u001b[0;34m=\u001b[0m \u001b[0mpd\u001b[0m\u001b[0;34m.\u001b[0m\u001b[0mread_pickle\u001b[0m\u001b[0;34m(\u001b[0m\u001b[0mpath\u001b[0m \u001b[0;34m+\u001b[0m \u001b[0mfile\u001b[0m\u001b[0;34m)\u001b[0m\u001b[0;34m\u001b[0m\u001b[0;34m\u001b[0m\u001b[0m\n\u001b[0m\u001b[1;32m      4\u001b[0m \u001b[0;34m\u001b[0m\u001b[0m\n\u001b[1;32m      5\u001b[0m \u001b[0mtrain_data\u001b[0m \u001b[0;34m=\u001b[0m \u001b[0mdata\u001b[0m\u001b[0;34m[\u001b[0m\u001b[0mdata\u001b[0m\u001b[0;34m.\u001b[0m\u001b[0mtype\u001b[0m\u001b[0;34m==\u001b[0m\u001b[0;34m'train'\u001b[0m\u001b[0;34m]\u001b[0m\u001b[0;34m\u001b[0m\u001b[0;34m\u001b[0m\u001b[0m\n",
            "\u001b[0;32m/usr/local/lib/python3.7/dist-packages/pandas/io/pickle.py\u001b[0m in \u001b[0;36mread_pickle\u001b[0;34m(filepath_or_buffer, compression, storage_options)\u001b[0m\n\u001b[1;32m    199\u001b[0m         \u001b[0mcompression\u001b[0m\u001b[0;34m=\u001b[0m\u001b[0mcompression\u001b[0m\u001b[0;34m,\u001b[0m\u001b[0;34m\u001b[0m\u001b[0;34m\u001b[0m\u001b[0m\n\u001b[1;32m    200\u001b[0m         \u001b[0mis_text\u001b[0m\u001b[0;34m=\u001b[0m\u001b[0;32mFalse\u001b[0m\u001b[0;34m,\u001b[0m\u001b[0;34m\u001b[0m\u001b[0;34m\u001b[0m\u001b[0m\n\u001b[0;32m--> 201\u001b[0;31m         \u001b[0mstorage_options\u001b[0m\u001b[0;34m=\u001b[0m\u001b[0mstorage_options\u001b[0m\u001b[0;34m,\u001b[0m\u001b[0;34m\u001b[0m\u001b[0;34m\u001b[0m\u001b[0m\n\u001b[0m\u001b[1;32m    202\u001b[0m     ) as handles:\n\u001b[1;32m    203\u001b[0m \u001b[0;34m\u001b[0m\u001b[0m\n",
            "\u001b[0;32m/usr/local/lib/python3.7/dist-packages/pandas/io/common.py\u001b[0m in \u001b[0;36mget_handle\u001b[0;34m(path_or_buf, mode, encoding, compression, memory_map, is_text, errors, storage_options)\u001b[0m\n\u001b[1;32m    709\u001b[0m         \u001b[0;32melse\u001b[0m\u001b[0;34m:\u001b[0m\u001b[0;34m\u001b[0m\u001b[0;34m\u001b[0m\u001b[0m\n\u001b[1;32m    710\u001b[0m             \u001b[0;31m# Binary mode\u001b[0m\u001b[0;34m\u001b[0m\u001b[0;34m\u001b[0m\u001b[0;34m\u001b[0m\u001b[0m\n\u001b[0;32m--> 711\u001b[0;31m             \u001b[0mhandle\u001b[0m \u001b[0;34m=\u001b[0m \u001b[0mopen\u001b[0m\u001b[0;34m(\u001b[0m\u001b[0mhandle\u001b[0m\u001b[0;34m,\u001b[0m \u001b[0mioargs\u001b[0m\u001b[0;34m.\u001b[0m\u001b[0mmode\u001b[0m\u001b[0;34m)\u001b[0m\u001b[0;34m\u001b[0m\u001b[0;34m\u001b[0m\u001b[0m\n\u001b[0m\u001b[1;32m    712\u001b[0m         \u001b[0mhandles\u001b[0m\u001b[0;34m.\u001b[0m\u001b[0mappend\u001b[0m\u001b[0;34m(\u001b[0m\u001b[0mhandle\u001b[0m\u001b[0;34m)\u001b[0m\u001b[0;34m\u001b[0m\u001b[0;34m\u001b[0m\u001b[0m\n\u001b[1;32m    713\u001b[0m \u001b[0;34m\u001b[0m\u001b[0m\n",
            "\u001b[0;31mFileNotFoundError\u001b[0m: [Errno 2] No such file or directory: '/content/drive/MyDrive/DataSources/DataSource_60x45_blc_noDup.pickle'"
          ]
        }
      ],
      "source": [
        "# file = 'DataSource_60x45_blc.pickle' \n",
        "file = 'DataSource_60x45_blc_noDup.pickle' \n",
        "data = pd.read_pickle(path + file)\n",
        "\n",
        "train_data = data[data.type=='train']\n",
        "valid_data = data[data.type=='valid']\n",
        "test_data = data[data.type=='test']\n",
        "\n",
        "training_data = pd.concat([train_data,valid_data], axis=0)\n",
        "print('Train size: ',train_data.shape[0] ,' Valid Size: ',valid_data.shape[0], ' Test size: ', test_data.shape[0])"
      ]
    },
    {
      "cell_type": "markdown",
      "metadata": {
        "id": "0vf3zc_8AlDe"
      },
      "source": [
        "# **Standardize Train and Validation data**"
      ]
    },
    {
      "cell_type": "code",
      "execution_count": null,
      "metadata": {
        "id": "DfwnXL7VAlDf",
        "outputId": "a14f7f98-3804-472c-b778-b84ba7216c6c"
      },
      "outputs": [
        {
          "name": "stdout",
          "output_type": "stream",
          "text": [
            "Mean : [0.74792757 0.55122558 0.57589093]   STD: [0.13827099 0.14719015 0.16298904]\n"
          ]
        }
      ],
      "source": [
        "training_arrays = np.stack(training_data['img_array'].values)  \n",
        "training_arrays_scaled = training_arrays / 255\n",
        "Mean = training_arrays_scaled.mean(axis = (0,1,2)) \n",
        "STD = training_arrays_scaled.std(axis = (0,1,2))\n",
        "print(f\"Mean : {Mean}   STD: {STD}\") "
      ]
    },
    {
      "cell_type": "code",
      "execution_count": null,
      "metadata": {
        "id": "tDkgbyk2AlDf"
      },
      "outputs": [],
      "source": [
        "#Train data standardization\n",
        "train_arrays_std = np.stack(train_data['img_array'].values) / 255\n",
        "for i in range(0,train_arrays_std.shape[0]):\n",
        "    train_arrays_std[i] = (train_arrays_std[i] - Mean) / STD\n",
        "#Validation data standardization\n",
        "valid_arrays_std = np.stack(valid_data['img_array'].values) / 255\n",
        "for i in range(0,valid_arrays_std.shape[0]):\n",
        "    valid_arrays_std[i] = (valid_arrays_std[i] - Mean) / STD\n",
        "#Test data standardization\n",
        "test_arrays_std = np.stack(test_data['img_array'].values) / 255\n",
        "for i in range(0,test_arrays_std.shape[0]):\n",
        "    test_arrays_std[i] = (test_arrays_std[i] - Mean) / STD"
      ]
    },
    {
      "cell_type": "code",
      "execution_count": null,
      "metadata": {
        "id": "v739KGr7AlDf",
        "outputId": "4f4fa445-ca88-46a0-a09f-0a71b77dcded"
      },
      "outputs": [
        {
          "name": "stdout",
          "output_type": "stream",
          "text": [
            "Mean : [0.00409393 0.00544143 0.00429412]   STD: [1.00757386 1.00169216 1.00082682]\n"
          ]
        }
      ],
      "source": [
        "Mean_t = train_arrays_std.mean(axis = (0,1,2)) \n",
        "STD_t = train_arrays_std.std(axis = (0,1,2))\n",
        "print(f\"Mean : {Mean_t}   STD: {STD_t}\") "
      ]
    },
    {
      "cell_type": "code",
      "execution_count": null,
      "metadata": {
        "id": "o2RHmNlcAlDf"
      },
      "outputs": [],
      "source": [
        "train_arrays_std_T = torch.tensor(train_arrays_std, dtype= torch.float32).transpose(3,1)\n",
        "train_labels = torch.tensor(train_data['label_id'].values.astype(np.long))\n",
        "\n",
        "valid_arrays_std_T = torch.tensor(valid_arrays_std, dtype= torch.float32).transpose(3,1)\n",
        "valid_labels = torch.tensor(valid_data['label_id'].values.astype(np.long))\n",
        "\n",
        "test_arrays_std_T = torch.tensor(test_arrays_std, dtype= torch.float32).transpose(3,1)\n",
        "test_labels = torch.tensor(test_data['label_id'].values.astype(np.long))\n",
        "\n",
        "input_data = (train_arrays_std_T , valid_arrays_std_T, test_arrays_std_T , torch.cat((train_arrays_std_T,valid_arrays_std_T,test_arrays_std_T),0) )\n",
        "labels = (train_labels,valid_labels,test_labels , torch.cat((train_labels,valid_labels,test_labels),0))"
      ]
    },
    {
      "cell_type": "markdown",
      "metadata": {
        "id": "nqCBXtetAlDf"
      },
      "source": [
        "# **Show some Images**"
      ]
    },
    {
      "cell_type": "code",
      "execution_count": null,
      "metadata": {
        "id": "e3W89pUsAlDf",
        "outputId": "5e297724-2ae8-4912-d0e8-2f8a9208a1b6"
      },
      "outputs": [
        {
          "name": "stdout",
          "output_type": "stream",
          "text": [
            "--------Original Image----------\n",
            "i:  ISIC_0029731\n",
            "Image:164, target:bkl\n"
          ]
        },
        {
          "data": {
            "image/png": "[encoded data removed]",
            "text/plain": [
              "<Figure size 432x288 with 1 Axes>"
            ]
          },
          "metadata": {
            "needs_background": "light"
          },
          "output_type": "display_data"
        },
        {
          "name": "stderr",
          "output_type": "stream",
          "text": [
            "Clipping input data to the valid range for imshow with RGB data ([0..1] for floats or [0..255] for integers).\n"
          ]
        },
        {
          "name": "stdout",
          "output_type": "stream",
          "text": [
            "---------Normilized Image---------\n"
          ]
        },
        {
          "data": {
            "image/png": "[encoded data removed]",
            "text/plain": [
              "<Figure size 432x288 with 1 Axes>"
            ]
          },
          "metadata": {
            "needs_background": "light"
          },
          "output_type": "display_data"
        },
        {
          "name": "stdout",
          "output_type": "stream",
          "text": [
            "###################################\n",
            "--------Original Image----------\n",
            "i:  ISIC_0025439\n",
            "Image:1326, target:mel\n"
          ]
        },
        {
          "data": {
            "image/png": "[encoded data removed]",
            "text/plain": [
              "<Figure size 432x288 with 1 Axes>"
            ]
          },
          "metadata": {
            "needs_background": "light"
          },
          "output_type": "display_data"
        },
        {
          "name": "stdout",
          "output_type": "stream",
          "text": [
            "---------Normilized Image---------\n"
          ]
        },
        {
          "name": "stderr",
          "output_type": "stream",
          "text": [
            "Clipping input data to the valid range for imshow with RGB data ([0..1] for floats or [0..255] for integers).\n"
          ]
        },
        {
          "data": {
            "image/png": "[encoded data removed]",
            "text/plain": [
              "<Figure size 432x288 with 1 Axes>"
            ]
          },
          "metadata": {
            "needs_background": "light"
          },
          "output_type": "display_data"
        },
        {
          "name": "stdout",
          "output_type": "stream",
          "text": [
            "###################################\n",
            "--------Original Image----------\n",
            "i:  ISIC_0027956\n",
            "Image:388, target:mel\n"
          ]
        },
        {
          "data": {
            "image/png": "[encoded data removed]",
            "text/plain": [
              "<Figure size 432x288 with 1 Axes>"
            ]
          },
          "metadata": {
            "needs_background": "light"
          },
          "output_type": "display_data"
        },
        {
          "name": "stderr",
          "output_type": "stream",
          "text": [
            "Clipping input data to the valid range for imshow with RGB data ([0..1] for floats or [0..255] for integers).\n"
          ]
        },
        {
          "name": "stdout",
          "output_type": "stream",
          "text": [
            "---------Normilized Image---------\n"
          ]
        },
        {
          "data": {
            "image/png": "[encoded data removed]",
            "text/plain": [
              "<Figure size 432x288 with 1 Axes>"
            ]
          },
          "metadata": {
            "needs_background": "light"
          },
          "output_type": "display_data"
        },
        {
          "name": "stdout",
          "output_type": "stream",
          "text": [
            "###################################\n"
          ]
        }
      ],
      "source": [
        "for i in np.random.choice(train_data.shape[0], 3, replace=False):\n",
        "  print(\"--------Original Image----------\")\n",
        "  print('i: ', train_data['image_id'].iloc[i])\n",
        "  image1 = torch.from_numpy(train_data['img_array'].iloc[i])\n",
        "  print(\"Image:{}, target:{}\".format(i, train_data['image_label'].iloc[i]))\n",
        "  plt.imshow(image1, interpolation='nearest')\n",
        "  plt.show()\n",
        "  print(\"---------Normilized Image---------\")\n",
        "  image2 = train_arrays_std[i]\n",
        "  plt.imshow(image2, interpolation='nearest')\n",
        "  plt.show()\n",
        "  print(\"###################################\")"
      ]
    },
    {
      "cell_type": "markdown",
      "metadata": {
        "id": "GgLTtyx5uw6b"
      },
      "source": [
        "### **1.2 Nets**"
      ]
    },
    {
      "cell_type": "code",
      "execution_count": null,
      "metadata": {
        "id": "w1GCLpHCrDWL"
      },
      "outputs": [],
      "source": [
        "class CNN_Net1(nn.Module):\n",
        "    def __init__(self):\n",
        "        super().__init__()\n",
        "        self.conv1 = nn.Conv2d( in_channels=3 , out_channels=32 , kernel_size=(3, 3))\n",
        "        self.conv2 = nn.Conv2d( in_channels=32, out_channels=32 , kernel_size=(3, 3))\n",
        "        self.pool1 = nn.MaxPool2d( kernel_size = (2,2), stride = None, padding = 0 )\n",
        "        self.conv3 = nn.Conv2d( in_channels=32, out_channels=64 , kernel_size=(3, 3))\n",
        "        self.conv4 = nn.Conv2d( in_channels=64, out_channels=64 , kernel_size=(3, 3))\n",
        "        self.pool2 = nn.MaxPool2d( kernel_size = (2,2), stride = None, padding = 0 )\n",
        "        self.fc1   = nn.Linear(in_features= 6144 , out_features = 512)\n",
        "        self.fc2   = nn.Linear(in_features= 512, out_features = 7)\n",
        "        self.Act   = nn.ReLU(inplace=True)\n",
        "    def forward(self, x):\n",
        "        out = self.Act(self.conv1(x))\n",
        "        out = self.Act(self.conv2(out))\n",
        "        out = self.Act(self.pool1(out))\n",
        "        out = self.Act(self.conv3(out))\n",
        "        out = self.Act(self.conv4(out))\n",
        "        out = self.Act(self.pool2(out))\n",
        "        out = torch.flatten(out, 1) \n",
        "        out = self.Act(self.fc1(out))\n",
        "        out = self.Act(self.fc2(out))\n",
        "        # out = nn.Softmax(out)\n",
        "        return out"
      ]
    },
    {
      "cell_type": "code",
      "execution_count": null,
      "metadata": {
        "id": "ZVszqW_eAlDg"
      },
      "outputs": [],
      "source": [
        "class CNN_Net2(nn.Module):\n",
        "    def __init__(self):\n",
        "        super(CNN_Net2, self).__init__()\n",
        "        self.conv1 = nn.Conv2d( in_channels=3 , out_channels=32 , kernel_size=(3, 3))\n",
        "        # self.conv2 = nn.Conv2d( in_channels=32, out_channels=32 , kernel_size=(3, 3))\n",
        "        self.pool1 = nn.MaxPool2d( kernel_size = (2,2), stride = None, padding = 0 )\n",
        "        self.conv3 = nn.Conv2d( in_channels=32, out_channels=64 , kernel_size=(3, 3))\n",
        "        # self.conv4 = nn.Conv2d( in_channels=64, out_channels=64 , kernel_size=(3, 3))\n",
        "        self.pool2 = nn.MaxPool2d( kernel_size = (2,2), stride = None, padding = 0 )\n",
        "        self.fc1   = nn.Linear(in_features= 7488 , out_features = 512)\n",
        "        self.fc2   = nn.Linear(in_features= 512, out_features = 7)\n",
        "        self.Act   = nn.ReLU(inplace=True)\n",
        "    def forward(self, x):\n",
        "        out = self.Act(self.conv1(x))\n",
        "        # out = self.Act(self.conv2(out))\n",
        "        out = self.Act(self.pool1(out))\n",
        "        out = self.Act(self.conv3(out))\n",
        "        # out = self.Act(self.conv4(out))\n",
        "        out = self.Act(self.pool2(out))\n",
        "        out = torch.flatten(out, 1) \n",
        "        out = self.Act(self.fc1(out))\n",
        "        out = self.Act(self.fc2(out))\n",
        "        # out = nn.Softmax(out)\n",
        "        return out"
      ]
    },
    {
      "cell_type": "code",
      "execution_count": null,
      "metadata": {
        "id": "_oz6q7CYAlDg"
      },
      "outputs": [],
      "source": [
        "class CNN_Net3(nn.Module):\n",
        "    def __init__(self):\n",
        "        super().__init__()\n",
        "        self.conv1 = nn.Conv2d(3, 40, 4)\n",
        "        self.pool = nn.MaxPool2d(2, 2)\n",
        "        self.conv2 = nn.Conv2d(40, 60, 4)\n",
        "        self.conv3 = nn.Conv2d(60, 20, 3)\n",
        "        self.fc1 = nn.Linear(38480, 512) #180, 45920\n",
        "        self.fc2 = nn.Linear(512, 100)\n",
        "        self.fc3 = nn.Linear(100, 7)\n",
        "    def forward(self, x):\n",
        "        x = F.relu(self.conv1(x))\n",
        "        x = F.relu(self.conv2(x))\n",
        "        x = F.relu(self.conv3(x))\n",
        "        x = torch.flatten(x, 1) # flatten all dimensions except batch\n",
        "        x = F.relu(self.fc1(x))\n",
        "        x = F.relu(self.fc2(x))\n",
        "        x = self.fc3(x)\n",
        "        return x"
      ]
    },
    {
      "cell_type": "markdown",
      "metadata": {
        "id": "P5Zfb1SkAlDg"
      },
      "source": [
        "# **Test Nets**"
      ]
    },
    {
      "cell_type": "code",
      "execution_count": null,
      "metadata": {
        "id": "OJTfTtmfAlDg",
        "outputId": "3fdae509-f22f-4794-a697-e57bedee1f74"
      },
      "outputs": [
        {
          "data": {
            "text/plain": [
              "torch.Size([5, 7])"
            ]
          },
          "execution_count": 100,
          "metadata": {},
          "output_type": "execute_result"
        }
      ],
      "source": [
        "model_test = CNN_Net2()\n",
        "X_ = input_data[0][0:5]\n",
        "out = model_test(X_)\n",
        "out.shape"
      ]
    },
    {
      "cell_type": "markdown",
      "metadata": {
        "id": "XWC5a989AlDg"
      },
      "source": [
        "# **Confusion-Matrix & Accuracy**"
      ]
    },
    {
      "cell_type": "code",
      "execution_count": null,
      "metadata": {
        "id": "pBE96mxDAlDg"
      },
      "outputs": [],
      "source": [
        "def confusion_matrix(Y_pred,Y):\n",
        "    CM = sk.metrics.confusion_matrix(Y_pred,Y)\n",
        "    Total_sum = sum(sum(CM))\n",
        "    Diagonal_sum = np.trace(CM) \n",
        "    accuracy1 = Diagonal_sum / Total_sum\n",
        "    frequencies = list(pd.DataFrame(Y).value_counts())\n",
        "    weights = list(np.divide(frequencies, Total_sum))\n",
        "    sensitivity = []\n",
        "    specificity = []\n",
        "    for i in range(0,7):\n",
        "        sensitivity_ = CM[i,i].sum() / (CM[i].sum())\n",
        "        sensitivity.append(sensitivity_)\n",
        "        specificity_ = (Diagonal_sum - CM[i,i]) / (  (Diagonal_sum - CM[i,i]) + (CM.T[i].sum()-CM[i,i]))\n",
        "        specificity.append(specificity_)\n",
        "        \n",
        "    print('Nr. of Data : \\n', Total_sum)\n",
        "    print('Accuracy of The Model : \\n', accuracy1)\n",
        "    print('Confusion Matrix : \\n', CM)\n",
        "    print('Weighted Avg. of sensitivity : \\n', np.average(np.nan_to_num(sensitivity), weights=weights))\n",
        "    print('Weighted Avg. of specificity : \\n', np.average(np.nan_to_num(specificity), weights=weights))\n",
        "    sk.metrics.ConfusionMatrixDisplay(CM).plot()"
      ]
    },
    {
      "cell_type": "markdown",
      "metadata": {
        "id": "4XV23bjxXUi7",
        "tags": []
      },
      "source": [
        "### **1.3 Training**"
      ]
    },
    {
      "cell_type": "code",
      "execution_count": null,
      "metadata": {
        "id": "ySme76snYXhZ"
      },
      "outputs": [],
      "source": [
        "# Training\n",
        "class Model_Training:\n",
        "\n",
        "    def __init__(self, model , loss_func, optimizer, epochs, batch_size , X_train, Y_train, X_valid, Y_valid ):\n",
        "        \n",
        "        self.model = model\n",
        "        self.loss_func = loss_func\n",
        "        self.opt = optimizer\n",
        "        self.epochs = epochs\n",
        "        self.X_train = X_train\n",
        "        self.Y_train = Y_train\n",
        "        self.X_valid = X_valid\n",
        "        self.Y_valid = Y_valid\n",
        "        self.batch_size = batch_size\n",
        "        self.Epochs_Train_loss = []\n",
        "        self.Epochs_Train_Acc = []\n",
        "        self.Epochs_Val_loss = []\n",
        "        self.Epochs_Val_Acc = []\n",
        "\n",
        "    def Train_CNNs(self):\n",
        "        \n",
        "        model = self.model\n",
        "        loss_fn = self.loss_func\n",
        "        opt = self.opt \n",
        "        batch_size = self.batch_size\n",
        "        nr_of_steps_train =  self.X_train.shape[0]//self.batch_size \n",
        "        nr_of_steps_valid =  self.X_valid.shape[0]//self.batch_size \n",
        "\n",
        "        for epoch in range(1, epochs+1 ):\n",
        "            start_time=time.time()\n",
        "            steps_train_loss = []\n",
        "            steps_train_Acc = []\n",
        "            steps_val_loss = []\n",
        "            steps_val_Acc = []\n",
        "\n",
        "            for i in range(0, nr_of_steps_train ):#train_arrays_std.shape[0]):\n",
        "                X = self.X_train[i* batch_size:(i+1) * batch_size]\n",
        "                Y = self.Y_train[i * batch_size:(i+1) * batch_size]\n",
        "                opt.zero_grad()\n",
        "                model.train()\n",
        "                y_pred = model.forward(X.to(device))\n",
        "                loss = loss_fn(y_pred, Y.to(device))\n",
        "                loss.backward()\n",
        "                opt.step()\n",
        "                y_pred_labels = y_pred.argmax(axis=1)\n",
        "                nr_of_corrects = (y_pred_labels == Y.to(device)).sum().item()\n",
        "                step_acc = nr_of_corrects / batch_size\n",
        "                steps_train_Acc.append(step_acc)\n",
        "                steps_train_loss.append(loss.item())\n",
        "\n",
        "                # if (i+1) % 200 == 0:    # print every 2000 mini-batches\n",
        "                #     print('[Epoch: {}, Nr. Batch: {}]  , Train-Steps-loss: {:.1f} , running_acc: {:.1%}'.format(epoch , i+1 , train_steps_loss , batch_nr_correct / train_nr_total))\n",
        "                #     self.train_steps_acc = []\n",
        "                #     train_steps_loss = 0\n",
        "\n",
        "              #validation loss calculation\n",
        "            for j in range(0,nr_of_steps_valid):\n",
        "\n",
        "                val_X = self.X_valid[j*batch_size:(j+1)*batch_size]\n",
        "                val_Y = self.Y_valid[j*batch_size:(j+1)*batch_size]\n",
        "                model.eval()\n",
        "                # val_inputs = val_inputs.to(device)\n",
        "                # val_labels = val_labels.to(device)\n",
        "                val_outputs = model(val_X.to(device))\n",
        "                val_loss = loss_fn(val_outputs, val_Y.to(device))\n",
        "                val_epoch_loss = val_loss.item()\n",
        "                val_outputs_lbs= val_outputs.argmax(axis=1)\n",
        "                val_nr_correct = (val_outputs_lbs == val_Y.to(device)).sum().item()\n",
        "                step_acc = val_nr_correct / batch_size\n",
        "                steps_val_Acc.append(step_acc)\n",
        "                steps_val_loss.append(val_epoch_loss)\n",
        "            \n",
        "            # Epoch Performance Metrics\n",
        "            train_epoch_loss = mean(steps_train_loss)\n",
        "            train_epoch_Acc = mean(steps_train_Acc)\n",
        "            self.Epochs_Train_loss.append(train_epoch_loss)\n",
        "            self.Epochs_Train_Acc.append(train_epoch_Acc)   \n",
        "            val_epoch_loss = mean(steps_val_loss)\n",
        "            val_epoch_Acc = mean(steps_val_Acc)\n",
        "            self.Epochs_Val_loss.append(val_epoch_loss)\n",
        "            self.Epochs_Val_Acc.append(val_epoch_Acc)\n",
        "            End_time = time.time()   \n",
        "            print('[Epoch: {}]  , Train_loss: {:.1f} , Train_Acc: {:.1%}, Val_loss: {:.1f} , Val_Acc: {:.1%} , run time: {}'\n",
        "            .format(epoch , train_epoch_loss , train_epoch_Acc , val_epoch_loss , val_epoch_Acc, np.round(End_time - start_time, 2)))\n",
        "            \n",
        "        print('Finished Training')"
      ]
    },
    {
      "cell_type": "code",
      "execution_count": null,
      "metadata": {
        "id": "psZJwVlxAlDh"
      },
      "outputs": [],
      "source": [
        "# Training\n",
        "class Model_Training_0:\n",
        "\n",
        "    def __init__(self, model , loss_func, optimizer, epochs, batch_size , X_train, Y_train, X_valid, Y_valid ):\n",
        "        \n",
        "        self.model = model\n",
        "        self.loss_func = loss_func\n",
        "        self.opt = optimizer\n",
        "        self.epochs = epochs\n",
        "        self.X_train = X_train\n",
        "        self.Y_train = Y_train\n",
        "        self.X_valid = X_valid\n",
        "        self.Y_valid = Y_valid\n",
        "        self.batch_size = batch_size\n",
        "        self.Epochs_Train_loss = []\n",
        "        self.Epochs_Train_Acc = []\n",
        "        self.Epochs_Val_loss = []\n",
        "        self.Epochs_Val_Acc = []\n",
        "\n",
        "    def Train_CNNs(self):\n",
        "        \n",
        "        model = self.model \n",
        "        loss_fn = self.loss_func \n",
        "        opt = self.opt \n",
        "        batch_size = self.batch_size\n",
        "        nr_of_steps_train =  self.X_train.shape[0]//self.batch_size \n",
        "        nr_of_steps_valid =  self.X_valid.shape[0]//self.batch_size \n",
        "\n",
        "        for epoch in range(1, epochs+1 ):\n",
        "            start_time=time.time()\n",
        "            steps_train_loss = []\n",
        "            steps_train_Acc = []\n",
        "            steps_val_loss = []\n",
        "            steps_val_Acc = []\n",
        "\n",
        "            for i in range(0, nr_of_steps_train ):#train_arrays_std.shape[0]):\n",
        "                X = self.X_train[i* batch_size:(i+1) * batch_size]\n",
        "                Y = self.Y_train[i * batch_size:(i+1) * batch_size]\n",
        "                opt.zero_grad()\n",
        "                model.train()\n",
        "                y_pred = model.forward(X)\n",
        "                loss = loss_fn(y_pred, Y)\n",
        "                loss.backward()\n",
        "                opt.step()\n",
        "                y_pred_labels = y_pred.argmax(axis=1)\n",
        "                nr_of_corrects = (y_pred_labels == Y).sum().item()\n",
        "                step_acc = nr_of_corrects / batch_size\n",
        "                steps_train_Acc.append(step_acc)\n",
        "                steps_train_loss.append(loss.item())\n",
        "\n",
        "                # if (i+1) % 200 == 0:    # print every 2000 mini-batches\n",
        "                #     print('[Epoch: {}, Nr. Batch: {}]  , Train-Steps-loss: {:.1f} , running_acc: {:.1%}'.format(epoch , i+1 , train_steps_loss , batch_nr_correct / train_nr_total))\n",
        "                #     self.train_steps_acc = []\n",
        "                #     train_steps_loss = 0\n",
        "\n",
        "              #validation loss calculation\n",
        "            for j in range(0,nr_of_steps_valid):\n",
        "\n",
        "                val_X = self.X_valid[j*batch_size:(j+1)*batch_size]\n",
        "                val_Y = self.Y_valid[j*batch_size:(j+1)*batch_size]\n",
        "                model.eval()\n",
        "                # val_inputs = val_inputs\n",
        "                # val_labels = val_labels\n",
        "                val_outputs = model(val_X)\n",
        "                val_loss = loss_fn(val_outputs, val_Y)\n",
        "                val_epoch_loss = val_loss.item()\n",
        "                val_outputs_lbs= val_outputs.argmax(axis=1)\n",
        "                val_nr_correct = (val_outputs_lbs == val_Y).sum().item()\n",
        "                step_acc = val_nr_correct / batch_size\n",
        "                steps_val_Acc.append(step_acc)\n",
        "                steps_val_loss.append(val_epoch_loss)\n",
        "            \n",
        "            # Epoch Performance Metrics\n",
        "            train_epoch_loss = mean(steps_train_loss)\n",
        "            train_epoch_Acc = mean(steps_train_Acc)\n",
        "            self.Epochs_Train_loss.append(train_epoch_loss)\n",
        "            self.Epochs_Train_Acc.append(train_epoch_Acc)   \n",
        "            val_epoch_loss = mean(steps_val_loss)\n",
        "            val_epoch_Acc = mean(steps_val_Acc)\n",
        "            self.Epochs_Val_loss.append(val_epoch_loss)\n",
        "            self.Epochs_Val_Acc.append(val_epoch_Acc)\n",
        "            End_time = time.time()   \n",
        "            print('[Epoch: {}]  , Train_loss: {:.1f} , Train_Acc: {:.1%}, Val_loss: {:.1f} , Val_Acc: {:.1%} , run time: {}'\n",
        "            .format(epoch , train_epoch_loss , train_epoch_Acc , val_epoch_loss , val_epoch_Acc, np.round(End_time - start_time, 2)))\n",
        "            \n",
        "        print('Finished Training')"
      ]
    },
    {
      "cell_type": "code",
      "execution_count": null,
      "metadata": {
        "id": "9cbadb2d"
      },
      "outputs": [],
      "source": [
        "class Model_Training2:\n",
        "\n",
        "    def __init__(self, Net, LR, batch_size , Momentum, epochs, weight_decay, loss_func, opt_func, X_train, Y_train, X_valid, Y_valid):    \n",
        "        \n",
        "        self.model = Net().to(device)\n",
        "        \n",
        "        if opt_func is torch.optim.Adam:\n",
        "            self.opt = opt_func(self.model.parameters(), lr=LR, weight_decay=weight_decay)\n",
        "        else:\n",
        "            self.opt = opt_func(self.model.parameters(), lr=LR,momentum=Momentum, weight_decay=weight_decay)\n",
        "\n",
        "        \n",
        "        self.loss_func = loss_func().to(device)\n",
        "        # self.opt = optimizer\n",
        "        self.epochs = epochs\n",
        "        self.X_train = X_train.to(device)\n",
        "        self.Y_train = Y_train.to(device)\n",
        "        self.X_valid = X_valid.to(device)\n",
        "        self.Y_valid = Y_valid.to(device)\n",
        "        self.batch_size = batch_size\n",
        "        self.Epochs_Train_loss = []\n",
        "        self.Epochs_Train_Acc = []\n",
        "        self.Epochs_Val_loss = []\n",
        "        self.Epochs_Val_Acc = []   \n",
        "\n",
        "    def train(self):\n",
        "        \n",
        "    \n",
        "        model = self.model.to(device)\n",
        "        loss_func = self.loss_func \n",
        "        opt = self.opt \n",
        "        batch_size = self.batch_size\n",
        "        nr_of_steps_train =  self.X_train.shape[0]//self.batch_size \n",
        "        nr_of_steps_valid =  self.X_valid.shape[0]//self.batch_size \n",
        "\n",
        "        for epoch in range(0,self.epochs):\n",
        "            start_time=time.time()\n",
        "            steps_train_loss = []\n",
        "            steps_train_Acc = []\n",
        "            steps_val_loss = []\n",
        "            steps_val_Acc = []\n",
        "            train_epoch_loss = 0.0\n",
        "\n",
        "            for i in range(1, nr_of_steps_train):\n",
        "                \n",
        "                X = self.X_train[i* batch_size:(i+1) * batch_size]\n",
        "                Y = self.Y_train[i * batch_size:(i+1) * batch_size]\n",
        "                # Reset gradients\n",
        "                opt.zero_grad()\n",
        "                model.train().to(device)\n",
        "                # Forward pass\n",
        "                y_pred = model.forward(X)\n",
        "                # Loss calculation\n",
        "                loss = loss_fn(y_pred, Y)\n",
        "                # loss = loss_func(y_pred.argmax(dim=1), Y.argmax(dim=1))\n",
        "                # loss = loss_func(y_pred, Y)\n",
        "                # Backward pass\n",
        "                loss.backward()\n",
        "                opt.step()\n",
        "                nr_of_corrects = (y_pred.argmax(dim=1) == Y).sum().item()\n",
        "\n",
        "                # nr_of_corrects = (y_pred_labels == Y).sum().item()\n",
        "\n",
        "                step_acc = nr_of_corrects / batch_size\n",
        "                steps_train_Acc.append(step_acc)\n",
        "                steps_train_loss.append(loss.item())\n",
        "            \n",
        "            # Epochs validation \n",
        "            for j in range(0,nr_of_steps_valid):\n",
        "                val_X = self.X_valid[j*batch_size:(j+1)*batch_size]\n",
        "                val_Y = self.Y_valid[j*batch_size:(j+1)*batch_size]\n",
        "                model.eval()\n",
        "                val_outputs = model.forward(val_X)\n",
        "                # val_loss = loss_fn(val_outputs, val_Y)\n",
        "\n",
        "                val_epoch_loss = loss_func(val_outputs, val_Y)\n",
        "                nr_of_corrects = (val_outputs.argmax(dim=1) == val_Y).sum().item()\n",
        "                step_acc = nr_of_corrects / batch_size\n",
        "                steps_val_Acc.append(step_acc)\n",
        "                steps_val_loss.append(val_epoch_loss.item())\n",
        "\n",
        "            # Epoch Performance Metrics\n",
        "            train_epoch_loss = mean(steps_train_loss)\n",
        "            train_epoch_Acc = mean(steps_train_Acc)\n",
        "            self.Epochs_Train_loss.append(train_epoch_loss)\n",
        "            self.Epochs_Train_Acc.append(train_epoch_Acc)   \n",
        "            val_epoch_loss = mean(steps_val_loss)\n",
        "            val_epoch_Acc = mean(steps_val_Acc)\n",
        "            self.Epochs_Val_loss.append(val_epoch_loss)\n",
        "            self.Epochs_Val_Acc.append(val_epoch_Acc)\n",
        "            End_time = time.time()   \n",
        "            print('[Epoch: {}]  , Train_loss: {:.1f} , Train_Acc: {:.1%}, Val_loss: {:.1f} , Val_Acc: {:.1%} , run time: {}'\n",
        "            .format(epoch , train_epoch_loss , train_epoch_Acc , val_epoch_loss , val_epoch_Acc, np.round(End_time - start_time, 2)))\n",
        "\n",
        "           \n",
        "        print('Finished Training') "
      ]
    },
    {
      "cell_type": "markdown",
      "metadata": {
        "id": "geKyTRJ8AlDh"
      },
      "source": [
        "# **Model 1:Net1**"
      ]
    },
    {
      "cell_type": "code",
      "execution_count": null,
      "metadata": {
        "id": "uZX1IMZIAlDh"
      },
      "outputs": [],
      "source": [
        "batch_size = 64\n",
        "LR = 0.0013\n",
        "Momentum = 0.72\n",
        "epochs = 50\n",
        "model_ = CNN_Net2().to(device)\n",
        "loss_fn = nn.CrossEntropyLoss()\n",
        "optimizer = torch.optim.SGD(model_.parameters(), lr = LR, momentum = Momentum)\n",
        "# optimizer = torch.optim.Adam(model2.parameters(), lr = LR, weight_decay=0.001)\n",
        "X_train = input_data[0]\n",
        "Y_train = labels[0]\n",
        "X_valid = input_data[1]\n",
        "Y_valid = labels[1]\n",
        "Model_1 = Model_Training( model_, loss_fn, optimizer, epochs, batch_size, X_train, Y_train, X_valid, Y_valid)"
      ]
    },
    {
      "cell_type": "code",
      "execution_count": null,
      "metadata": {
        "id": "NVtFhaO8AlDh",
        "outputId": "acf66df4-41c2-48e9-8e9b-e0dc99ae07e6"
      },
      "outputs": [
        {
          "name": "stdout",
          "output_type": "stream",
          "text": [
            "[Epoch: 1]  , Train_loss: 1.9 , Train_Acc: 30.8%, Val_loss: 1.8 , Val_Acc: 35.9% , run time: 0.68\n",
            "[Epoch: 2]  , Train_loss: 1.7 , Train_Acc: 33.7%, Val_loss: 1.7 , Val_Acc: 31.2% , run time: 0.65\n",
            "[Epoch: 3]  , Train_loss: 1.6 , Train_Acc: 41.5%, Val_loss: 1.6 , Val_Acc: 32.8% , run time: 0.6\n",
            "[Epoch: 4]  , Train_loss: 1.5 , Train_Acc: 44.9%, Val_loss: 1.6 , Val_Acc: 32.8% , run time: 0.6\n",
            "[Epoch: 5]  , Train_loss: 1.4 , Train_Acc: 48.8%, Val_loss: 1.6 , Val_Acc: 31.2% , run time: 0.59\n",
            "[Epoch: 6]  , Train_loss: 1.3 , Train_Acc: 48.4%, Val_loss: 1.6 , Val_Acc: 32.8% , run time: 0.6\n",
            "[Epoch: 7]  , Train_loss: 1.2 , Train_Acc: 59.7%, Val_loss: 1.7 , Val_Acc: 31.2% , run time: 0.61\n",
            "[Epoch: 8]  , Train_loss: 1.2 , Train_Acc: 68.2%, Val_loss: 1.7 , Val_Acc: 29.7% , run time: 0.6\n",
            "[Epoch: 9]  , Train_loss: 1.1 , Train_Acc: 73.6%, Val_loss: 1.8 , Val_Acc: 32.8% , run time: 0.59\n",
            "[Epoch: 10]  , Train_loss: 1.0 , Train_Acc: 75.0%, Val_loss: 1.8 , Val_Acc: 32.8% , run time: 0.6\n",
            "[Epoch: 11]  , Train_loss: 0.9 , Train_Acc: 75.0%, Val_loss: 1.9 , Val_Acc: 32.8% , run time: 0.59\n",
            "[Epoch: 12]  , Train_loss: 0.9 , Train_Acc: 75.9%, Val_loss: 2.0 , Val_Acc: 32.8% , run time: 0.59\n",
            "[Epoch: 13]  , Train_loss: 0.8 , Train_Acc: 77.7%, Val_loss: 2.0 , Val_Acc: 32.8% , run time: 0.59\n",
            "[Epoch: 14]  , Train_loss: 0.8 , Train_Acc: 78.1%, Val_loss: 2.1 , Val_Acc: 31.2% , run time: 0.6\n",
            "[Epoch: 15]  , Train_loss: 0.7 , Train_Acc: 78.1%, Val_loss: 2.1 , Val_Acc: 32.8% , run time: 0.59\n",
            "[Epoch: 16]  , Train_loss: 0.7 , Train_Acc: 78.2%, Val_loss: 2.1 , Val_Acc: 32.8% , run time: 0.6\n",
            "[Epoch: 17]  , Train_loss: 0.7 , Train_Acc: 79.7%, Val_loss: 2.2 , Val_Acc: 32.8% , run time: 0.59\n",
            "[Epoch: 18]  , Train_loss: 0.6 , Train_Acc: 79.7%, Val_loss: 2.2 , Val_Acc: 32.8% , run time: 0.6\n",
            "[Epoch: 19]  , Train_loss: 0.6 , Train_Acc: 79.7%, Val_loss: 2.3 , Val_Acc: 34.4% , run time: 0.6\n",
            "[Epoch: 20]  , Train_loss: 0.6 , Train_Acc: 79.7%, Val_loss: 2.3 , Val_Acc: 34.4% , run time: 0.64\n",
            "[Epoch: 21]  , Train_loss: 0.6 , Train_Acc: 79.7%, Val_loss: 2.4 , Val_Acc: 32.8% , run time: 0.59\n",
            "[Epoch: 22]  , Train_loss: 0.5 , Train_Acc: 79.7%, Val_loss: 2.4 , Val_Acc: 32.8% , run time: 0.59\n",
            "[Epoch: 23]  , Train_loss: 0.5 , Train_Acc: 79.7%, Val_loss: 2.4 , Val_Acc: 32.8% , run time: 0.59\n",
            "[Epoch: 24]  , Train_loss: 0.5 , Train_Acc: 79.7%, Val_loss: 2.5 , Val_Acc: 32.8% , run time: 0.6\n",
            "[Epoch: 25]  , Train_loss: 0.5 , Train_Acc: 79.7%, Val_loss: 2.5 , Val_Acc: 32.8% , run time: 0.59\n",
            "[Epoch: 26]  , Train_loss: 0.5 , Train_Acc: 79.7%, Val_loss: 2.6 , Val_Acc: 32.8% , run time: 0.59\n",
            "[Epoch: 27]  , Train_loss: 0.5 , Train_Acc: 79.7%, Val_loss: 2.6 , Val_Acc: 32.8% , run time: 0.6\n",
            "[Epoch: 28]  , Train_loss: 0.5 , Train_Acc: 79.7%, Val_loss: 2.7 , Val_Acc: 32.8% , run time: 0.59\n",
            "[Epoch: 29]  , Train_loss: 0.4 , Train_Acc: 79.7%, Val_loss: 2.7 , Val_Acc: 32.8% , run time: 0.59\n",
            "[Epoch: 30]  , Train_loss: 0.4 , Train_Acc: 79.7%, Val_loss: 2.8 , Val_Acc: 32.8% , run time: 0.6\n",
            "[Epoch: 31]  , Train_loss: 0.4 , Train_Acc: 79.7%, Val_loss: 2.8 , Val_Acc: 32.8% , run time: 0.59\n",
            "[Epoch: 32]  , Train_loss: 0.4 , Train_Acc: 79.7%, Val_loss: 2.8 , Val_Acc: 32.8% , run time: 0.6\n",
            "[Epoch: 33]  , Train_loss: 0.4 , Train_Acc: 79.7%, Val_loss: 2.9 , Val_Acc: 32.8% , run time: 0.59\n",
            "[Epoch: 34]  , Train_loss: 0.4 , Train_Acc: 79.7%, Val_loss: 2.9 , Val_Acc: 32.8% , run time: 0.59\n",
            "[Epoch: 35]  , Train_loss: 0.4 , Train_Acc: 79.7%, Val_loss: 3.0 , Val_Acc: 32.8% , run time: 0.6\n",
            "[Epoch: 36]  , Train_loss: 0.4 , Train_Acc: 79.7%, Val_loss: 3.0 , Val_Acc: 31.2% , run time: 0.59\n",
            "[Epoch: 37]  , Train_loss: 0.4 , Train_Acc: 79.7%, Val_loss: 3.0 , Val_Acc: 32.8% , run time: 0.59\n",
            "[Epoch: 38]  , Train_loss: 0.4 , Train_Acc: 79.7%, Val_loss: 3.1 , Val_Acc: 32.8% , run time: 0.59\n",
            "[Epoch: 39]  , Train_loss: 0.4 , Train_Acc: 79.7%, Val_loss: 3.1 , Val_Acc: 32.8% , run time: 0.59\n",
            "[Epoch: 40]  , Train_loss: 0.4 , Train_Acc: 79.7%, Val_loss: 3.1 , Val_Acc: 32.8% , run time: 0.59\n",
            "[Epoch: 41]  , Train_loss: 0.4 , Train_Acc: 79.7%, Val_loss: 3.2 , Val_Acc: 32.8% , run time: 0.59\n",
            "[Epoch: 42]  , Train_loss: 0.4 , Train_Acc: 79.7%, Val_loss: 3.2 , Val_Acc: 31.2% , run time: 0.59\n",
            "[Epoch: 43]  , Train_loss: 0.4 , Train_Acc: 79.7%, Val_loss: 3.2 , Val_Acc: 31.2% , run time: 0.59\n",
            "[Epoch: 44]  , Train_loss: 0.4 , Train_Acc: 79.7%, Val_loss: 3.2 , Val_Acc: 31.2% , run time: 0.62\n",
            "[Epoch: 45]  , Train_loss: 0.4 , Train_Acc: 79.7%, Val_loss: 3.3 , Val_Acc: 31.2% , run time: 0.59\n",
            "[Epoch: 46]  , Train_loss: 0.4 , Train_Acc: 79.7%, Val_loss: 3.3 , Val_Acc: 31.2% , run time: 0.59\n",
            "[Epoch: 47]  , Train_loss: 0.4 , Train_Acc: 79.7%, Val_loss: 3.3 , Val_Acc: 31.2% , run time: 0.59\n",
            "[Epoch: 48]  , Train_loss: 0.4 , Train_Acc: 79.7%, Val_loss: 3.3 , Val_Acc: 31.2% , run time: 0.59\n",
            "[Epoch: 49]  , Train_loss: 0.4 , Train_Acc: 79.7%, Val_loss: 3.4 , Val_Acc: 32.8% , run time: 0.59\n",
            "[Epoch: 50]  , Train_loss: 0.4 , Train_Acc: 79.7%, Val_loss: 3.4 , Val_Acc: 31.2% , run time: 0.59\n",
            "Finished Training\n"
          ]
        }
      ],
      "source": [
        "torch.manual_seed(0)\n",
        "Model_1.Train_CNNs()"
      ]
    },
    {
      "cell_type": "code",
      "execution_count": null,
      "metadata": {
        "id": "45j0VISkAlDi",
        "outputId": "20724073-1458-4261-d5d8-a94169806aee"
      },
      "outputs": [
        {
          "name": "stdout",
          "output_type": "stream",
          "text": [
            "Nr. of Data : \n",
            " 2385\n",
            "Accuracy of The Model : \n",
            " 0.3836477987421384\n",
            "Confusion Matrix : \n",
            " [[ 51  70  71  16  68  57   7]\n",
            " [  0   0   0   0   0   0   0]\n",
            " [ 92 110 326  29 192 199  20]\n",
            " [  0   0   0   0   0   0   0]\n",
            " [ 15  50  70   3  87  92  16]\n",
            " [ 16  18  81   8 137 451  33]\n",
            " [  0   0   0   0   0   0   0]]\n",
            "Weighted Avg. of sensitivity : \n",
            " 0.1569724746048544\n",
            "Weighted Avg. of specificity : \n",
            " 0.8086057921830859\n"
          ]
        },
        {
          "data": {
            "image/png": "[encoded data removed]",
            "text/plain": [
              "<Figure size 432x288 with 2 Axes>"
            ]
          },
          "metadata": {
            "needs_background": "light"
          },
          "output_type": "display_data"
        }
      ],
      "source": [
        "model_ = Model_1.model.eval().to('cpu')\n",
        "X = input_data[0]\n",
        "Y = labels[0]\n",
        "Y_pred = model_(X).argmax(dim=1)\n",
        "confusion_matrix(Y_pred.cpu(),Y.cpu())"
      ]
    },
    {
      "cell_type": "code",
      "execution_count": null,
      "metadata": {
        "id": "VL5FxPLAAlDi"
      },
      "outputs": [],
      "source": [
        "Net = [CNN_Net1]\n",
        "LR = [0.001, 0.0015]\n",
        "batch_size = [64, 50]\n",
        "Momentum = [0.7,0.6,0.65]\n",
        "epochs = [30]\n",
        "weight_decay = [0, 0.0001]\n",
        "loss_func  =  [nn.CrossEntropyLoss]\n",
        "opt_func = [torch.optim.SGD]\n",
        "\n",
        "grid = {\n",
        "    'Net' : Net\n",
        "    ,'LR' : LR\n",
        "    ,'batch_size' : batch_size\n",
        "    ,'Momentum' : Momentum\n",
        "    ,'epochs' : epochs\n",
        "    ,'weight_decay' :weight_decay\n",
        "    ,'loss_func'  :loss_func\n",
        "    ,'opt_func' : opt_func\n",
        "}\n",
        "params = sk.model_selection.ParameterGrid(grid)"
      ]
    },
    {
      "cell_type": "code",
      "execution_count": null,
      "metadata": {
        "id": "hEkHc_7xAlDi",
        "outputId": "e989d10c-4bc5-4a06-f86f-f0c39b67db5f"
      },
      "outputs": [
        {
          "name": "stdout",
          "output_type": "stream",
          "text": [
            "[Epoch: 0]  , Train_loss: 1.9 , Train_Acc: 18.0%, Val_loss: 1.9 , Val_Acc: 21.9% , run time: 1.05\n",
            "[Epoch: 1]  , Train_loss: 1.9 , Train_Acc: 25.0%, Val_loss: 1.9 , Val_Acc: 21.9% , run time: 0.7\n",
            "[Epoch: 2]  , Train_loss: 1.9 , Train_Acc: 25.0%, Val_loss: 1.9 , Val_Acc: 21.9% , run time: 0.72\n",
            "Finished Training\n",
            "torch.Size([2385])\n",
            "[Epoch: 0]  , Train_loss: 1.9 , Train_Acc: 18.0%, Val_loss: 1.9 , Val_Acc: 21.9% , run time: 0.83\n",
            "[Epoch: 1]  , Train_loss: 1.9 , Train_Acc: 25.0%, Val_loss: 1.9 , Val_Acc: 21.9% , run time: 0.69\n",
            "[Epoch: 2]  , Train_loss: 1.9 , Train_Acc: 25.0%, Val_loss: 1.9 , Val_Acc: 21.9% , run time: 0.67\n",
            "Finished Training\n",
            "torch.Size([2385])\n",
            "[Epoch: 0]  , Train_loss: 1.9 , Train_Acc: 21.3%, Val_loss: 1.9 , Val_Acc: 22.0% , run time: 1.56\n",
            "[Epoch: 1]  , Train_loss: 1.9 , Train_Acc: 26.0%, Val_loss: 1.9 , Val_Acc: 22.0% , run time: 1.65\n",
            "[Epoch: 2]  , Train_loss: 1.9 , Train_Acc: 26.0%, Val_loss: 1.9 , Val_Acc: 22.0% , run time: 1.67\n",
            "Finished Training\n",
            "torch.Size([2385])\n",
            "[Epoch: 0]  , Train_loss: 1.9 , Train_Acc: 21.3%, Val_loss: 1.9 , Val_Acc: 22.0% , run time: 1.67\n",
            "[Epoch: 1]  , Train_loss: 1.9 , Train_Acc: 26.0%, Val_loss: 1.9 , Val_Acc: 22.0% , run time: 1.68\n",
            "[Epoch: 2]  , Train_loss: 1.9 , Train_Acc: 26.0%, Val_loss: 1.9 , Val_Acc: 22.0% , run time: 1.68\n",
            "Finished Training\n",
            "torch.Size([2385])\n",
            "[Epoch: 0]  , Train_loss: 1.9 , Train_Acc: 16.7%, Val_loss: 1.9 , Val_Acc: 22.1% , run time: 0.65\n",
            "[Epoch: 1]  , Train_loss: 1.9 , Train_Acc: 25.0%, Val_loss: 1.9 , Val_Acc: 21.9% , run time: 0.68\n",
            "[Epoch: 2]  , Train_loss: 1.9 , Train_Acc: 25.0%, Val_loss: 1.9 , Val_Acc: 21.9% , run time: 0.65\n",
            "Finished Training\n",
            "torch.Size([2385])\n",
            "[Epoch: 0]  , Train_loss: 1.9 , Train_Acc: 16.7%, Val_loss: 1.9 , Val_Acc: 22.1% , run time: 0.7\n",
            "[Epoch: 1]  , Train_loss: 1.9 , Train_Acc: 25.0%, Val_loss: 1.9 , Val_Acc: 21.9% , run time: 0.7\n",
            "[Epoch: 2]  , Train_loss: 1.9 , Train_Acc: 25.0%, Val_loss: 1.9 , Val_Acc: 21.9% , run time: 0.67\n",
            "Finished Training\n",
            "torch.Size([2385])\n",
            "[Epoch: 0]  , Train_loss: 1.9 , Train_Acc: 20.0%, Val_loss: 1.9 , Val_Acc: 22.0% , run time: 1.71\n",
            "[Epoch: 1]  , Train_loss: 1.9 , Train_Acc: 26.0%, Val_loss: 1.9 , Val_Acc: 22.0% , run time: 1.64\n",
            "[Epoch: 2]  , Train_loss: 1.9 , Train_Acc: 26.0%, Val_loss: 1.9 , Val_Acc: 22.0% , run time: 1.66\n",
            "Finished Training\n",
            "torch.Size([2385])\n",
            "[Epoch: 0]  , Train_loss: 1.9 , Train_Acc: 20.0%, Val_loss: 1.9 , Val_Acc: 22.0% , run time: 1.67\n",
            "[Epoch: 1]  , Train_loss: 1.9 , Train_Acc: 26.0%, Val_loss: 1.9 , Val_Acc: 22.0% , run time: 1.67\n",
            "[Epoch: 2]  , Train_loss: 1.9 , Train_Acc: 26.0%, Val_loss: 1.9 , Val_Acc: 22.0% , run time: 1.7\n",
            "Finished Training\n",
            "torch.Size([2385])\n",
            "[Epoch: 0]  , Train_loss: 1.9 , Train_Acc: 17.3%, Val_loss: 1.9 , Val_Acc: 22.1% , run time: 0.66\n",
            "[Epoch: 1]  , Train_loss: 1.9 , Train_Acc: 25.0%, Val_loss: 1.9 , Val_Acc: 21.9% , run time: 0.69\n",
            "[Epoch: 2]  , Train_loss: 1.9 , Train_Acc: 25.0%, Val_loss: 1.9 , Val_Acc: 21.9% , run time: 0.65\n",
            "Finished Training\n",
            "torch.Size([2385])\n",
            "[Epoch: 0]  , Train_loss: 1.9 , Train_Acc: 17.3%, Val_loss: 1.9 , Val_Acc: 22.1% , run time: 0.67\n",
            "[Epoch: 1]  , Train_loss: 1.9 , Train_Acc: 25.0%, Val_loss: 1.9 , Val_Acc: 21.9% , run time: 0.68\n",
            "[Epoch: 2]  , Train_loss: 1.9 , Train_Acc: 25.0%, Val_loss: 1.9 , Val_Acc: 21.9% , run time: 0.67\n",
            "Finished Training\n",
            "torch.Size([2385])\n",
            "[Epoch: 0]  , Train_loss: 1.9 , Train_Acc: 20.5%, Val_loss: 1.9 , Val_Acc: 22.0% , run time: 1.68\n",
            "[Epoch: 1]  , Train_loss: 1.9 , Train_Acc: 26.0%, Val_loss: 1.9 , Val_Acc: 22.0% , run time: 1.66\n",
            "[Epoch: 2]  , Train_loss: 1.9 , Train_Acc: 26.0%, Val_loss: 1.9 , Val_Acc: 22.0% , run time: 1.71\n",
            "Finished Training\n",
            "torch.Size([2385])\n",
            "[Epoch: 0]  , Train_loss: 1.9 , Train_Acc: 20.5%, Val_loss: 1.9 , Val_Acc: 22.0% , run time: 1.78\n",
            "[Epoch: 1]  , Train_loss: 1.9 , Train_Acc: 26.0%, Val_loss: 1.9 , Val_Acc: 22.0% , run time: 1.71\n",
            "[Epoch: 2]  , Train_loss: 1.9 , Train_Acc: 26.0%, Val_loss: 1.9 , Val_Acc: 22.0% , run time: 1.72\n",
            "Finished Training\n",
            "torch.Size([2385])\n",
            "[Epoch: 0]  , Train_loss: 1.9 , Train_Acc: 19.6%, Val_loss: 1.9 , Val_Acc: 21.9% , run time: 0.83\n",
            "[Epoch: 1]  , Train_loss: 1.9 , Train_Acc: 25.0%, Val_loss: 1.9 , Val_Acc: 21.9% , run time: 0.71\n",
            "[Epoch: 2]  , Train_loss: 1.9 , Train_Acc: 25.0%, Val_loss: 1.9 , Val_Acc: 21.9% , run time: 0.65\n",
            "Finished Training\n",
            "torch.Size([2385])\n",
            "[Epoch: 0]  , Train_loss: 1.9 , Train_Acc: 19.6%, Val_loss: 1.9 , Val_Acc: 21.9% , run time: 0.67\n"
          ]
        },
        {
          "ename": "KeyboardInterrupt",
          "evalue": "",
          "output_type": "error",
          "traceback": [
            "\u001b[0;31m---------------------------------------------------------------------------\u001b[0m",
            "\u001b[0;31mKeyboardInterrupt\u001b[0m                         Traceback (most recent call last)",
            "\u001b[1;32m/Users/sepehrbe/DataSources/Kaggle/SkinCare/Models/CNN_60x45.ipynb Cell 27'\u001b[0m in \u001b[0;36m<cell line: 11>\u001b[0;34m()\u001b[0m\n\u001b[1;32m     <a href='vscode-notebook-cell:/Users/sepehrbe/DataSources/Kaggle/SkinCare/Models/CNN_60x45.ipynb#ch0000043?line=11'>12</a>\u001b[0m Model_ \u001b[39m=\u001b[39m Model_Training2(\u001b[39m*\u001b[39m\u001b[39m*\u001b[39mp, X_train \u001b[39m=\u001b[39m X_train , Y_train \u001b[39m=\u001b[39m Y_train, X_valid \u001b[39m=\u001b[39m X_valid , Y_valid\u001b[39m=\u001b[39m Y_valid)\n\u001b[1;32m     <a href='vscode-notebook-cell:/Users/sepehrbe/DataSources/Kaggle/SkinCare/Models/CNN_60x45.ipynb#ch0000043?line=12'>13</a>\u001b[0m torch\u001b[39m.\u001b[39mmanual_seed(\u001b[39m0\u001b[39m)\n\u001b[0;32m---> <a href='vscode-notebook-cell:/Users/sepehrbe/DataSources/Kaggle/SkinCare/Models/CNN_60x45.ipynb#ch0000043?line=13'>14</a>\u001b[0m Model_\u001b[39m.\u001b[39;49mtrain()\n\u001b[1;32m     <a href='vscode-notebook-cell:/Users/sepehrbe/DataSources/Kaggle/SkinCare/Models/CNN_60x45.ipynb#ch0000043?line=15'>16</a>\u001b[0m model_ \u001b[39m=\u001b[39m Model_\u001b[39m.\u001b[39mmodel\u001b[39m.\u001b[39meval()\n\u001b[1;32m     <a href='vscode-notebook-cell:/Users/sepehrbe/DataSources/Kaggle/SkinCare/Models/CNN_60x45.ipynb#ch0000043?line=17'>18</a>\u001b[0m \u001b[39m# Train\u001b[39;00m\n",
            "\u001b[1;32m/Users/sepehrbe/DataSources/Kaggle/SkinCare/Models/CNN_60x45.ipynb Cell 21'\u001b[0m in \u001b[0;36mModel_Training2.train\u001b[0;34m(self)\u001b[0m\n\u001b[1;32m     <a href='vscode-notebook-cell:/Users/sepehrbe/DataSources/Kaggle/SkinCare/Models/CNN_60x45.ipynb#ch0000039?line=57'>58</a>\u001b[0m loss\u001b[39m.\u001b[39mbackward()\n\u001b[1;32m     <a href='vscode-notebook-cell:/Users/sepehrbe/DataSources/Kaggle/SkinCare/Models/CNN_60x45.ipynb#ch0000039?line=58'>59</a>\u001b[0m opt\u001b[39m.\u001b[39mstep()\n\u001b[0;32m---> <a href='vscode-notebook-cell:/Users/sepehrbe/DataSources/Kaggle/SkinCare/Models/CNN_60x45.ipynb#ch0000039?line=59'>60</a>\u001b[0m nr_of_corrects \u001b[39m=\u001b[39m (y_pred\u001b[39m.\u001b[39;49margmax(dim\u001b[39m=\u001b[39;49m\u001b[39m1\u001b[39;49m) \u001b[39m==\u001b[39;49m Y)\u001b[39m.\u001b[39;49msum()\u001b[39m.\u001b[39;49mitem()\n\u001b[1;32m     <a href='vscode-notebook-cell:/Users/sepehrbe/DataSources/Kaggle/SkinCare/Models/CNN_60x45.ipynb#ch0000039?line=61'>62</a>\u001b[0m \u001b[39m# nr_of_corrects = (y_pred_labels == Y).sum().item()\u001b[39;00m\n\u001b[1;32m     <a href='vscode-notebook-cell:/Users/sepehrbe/DataSources/Kaggle/SkinCare/Models/CNN_60x45.ipynb#ch0000039?line=63'>64</a>\u001b[0m step_acc \u001b[39m=\u001b[39m nr_of_corrects \u001b[39m/\u001b[39m batch_size\n",
            "\u001b[0;31mKeyboardInterrupt\u001b[0m: "
          ]
        }
      ],
      "source": [
        "Hyper_Details = pd.DataFrame(columns=['hyper_param','train_accuracy','valid_accuracy','test_accuracy','train_fscore','valid_fscore','test_fscore','train_precision','valid_precision','test_precision'\n",
        "                                    ,'train_recall','valid_recall','test_recall','dataset'])\n",
        "                                    \n",
        "X_train = input_data[0].to(device)\n",
        "Y_train = labels[0].to(device)\n",
        "X_valid = input_data[1].to(device)\n",
        "Y_valid = labels[1].to(device)\n",
        "X_test = input_data[2].to(device)\n",
        "Y_test = labels[2].to(device)\n",
        "\n",
        "for p in params:\n",
        "    Model_ = Model_Training2(**p, X_train = X_train , Y_train = Y_train, X_valid = X_valid , Y_valid= Y_valid)\n",
        "    torch.manual_seed(0)\n",
        "    Model_.train()\n",
        "    \n",
        "    model_ = Model_.model.eval()\n",
        "\n",
        "    # Train\n",
        "    Y_pred = model_(X_train.to(device)).argmax(axis=1)\n",
        "    print(Y_pred.shape)\n",
        "    Y = Y_train\n",
        "    train_accuracy = sk.metrics.accuracy_score(Y_pred.to('cpu'),Y.to('cpu') )\n",
        "\n",
        "    train_precision, train_recall, train_fscore, m = sk.metrics.precision_recall_fscore_support(Y_pred.to('cpu'),Y.to('cpu'))\n",
        "\n",
        "    # # Valid\n",
        "    # Y_pred = model_(X_valid).argmax(axis=1)\n",
        "    # Y = Y_valid.argmax(axis=1)\n",
        "    # valid_accuracy = sk.metrics.accuracy_score(Y_pred.to('cpu'),Y.to('cpu') )\n",
        "    # valid_precision, valid_recall, valid_fscore, m = sk.metrics.precision_recall_fscore_support(Y_pred.to('cpu'),Y.to('cpu'))\n",
        "\n",
        "    # # Test\n",
        "    # Y_pred = model_(X_test).argmax(axis=1)\n",
        "    # Y = Y_test.argmax(axis=1)\n",
        "    # test_accuracy = sk.metrics.accuracy_score(Y_pred.to('cpu'),Y.to('cpu') )\n",
        "    # test_precision, test_recall, test_fscore, m = sk.metrics.precision_recall_fscore_support(Y_pred.to('cpu'),Y.to('cpu'))\n",
        "\n",
        "\n",
        "    # dataset_name = \"Standardized\"\n",
        "    # if i == 1:\n",
        "    #     dataset_name  = \"Sclade(0-1)\"\n",
        "    # elif i == 2:\n",
        "    #     dataset_name = \"Raw Data\"\n",
        "\n",
        "    # new_row = pd.Series({'hyper_param':p,'train_accuracy':train_accuracy,'valid_accuracy':valid_accuracy,'test_accuracy':test_accuracy,'train_fscore':train_fscore,'valid_fscore':valid_fscore,'test_fscore':test_fscore\n",
        "    # ,'train_precision':train_precision,'valid_precision':valid_precision,'test_precision':test_precision,'train_recall':train_recall,'valid_recall':valid_recall,'test_recall':test_recall,'dataset':dataset_name}, name='')\n",
        "    # CNN_Details = CNN_Details.append(new_row)\n",
        "\n",
        "best_one = np.argmax(Hyper_Details.test_fscore)\n",
        "best_param = Hyper_Details.iloc[best_one]['hyper_param']\n",
        "\n",
        "CNN_Details = Hyper_Details\n",
        "\n",
        "Model_1 = Model_Training2(**best_param, X_train = X_train, Y_train = Y_train, X_valid = X_valid, Y_valid= Y_valid)\n",
        "torch.manual_seed(0)\n",
        "Model_1.train()"
      ]
    },
    {
      "cell_type": "markdown",
      "metadata": {
        "id": "m0iEUSrUAlDi"
      },
      "source": [
        "model_ = Model_1.model.eval()\n",
        "X = input_data[2]\n",
        "Y = labels[2]\n",
        "Y_pred = model_(X).argmax(dim=1)\n",
        "confusion_matrix(Y_pred,Y)"
      ]
    },
    {
      "cell_type": "code",
      "execution_count": null,
      "metadata": {
        "id": "Vjhuvwf_AlDi",
        "outputId": "32d0787c-689a-4b04-8f0d-a91281d9acb1"
      },
      "outputs": [
        {
          "data": {
            "image/png": "[encoded data removed]",
            "text/plain": [
              "<Figure size 432x288 with 1 Axes>"
            ]
          },
          "metadata": {
            "needs_background": "light"
          },
          "output_type": "display_data"
        }
      ],
      "source": [
        "model_ = Model_1\n",
        "epochs_X = [i for i in range(1, model_.epochs+1)]\n",
        "epochs_X\n",
        "plt.subplots(figsize=(6,4))\n",
        "\n",
        "plt.plot(epochs_X , model_.Epochs_Train_loss, 'o-', label='Train loss')\n",
        "plt.plot(epochs_X , model_.Epochs_Val_loss,'ro-', label='Validation loss')\n",
        "plt.xlabel(\"Epochs\", fontsize = 12)\n",
        "plt.ylabel(\"Loss\", fontsize = 12)\n",
        "plt.grid()\n",
        "plt.legend()\n",
        "plt.title('Train and Validation loss by epochs')\n",
        "plt.show()"
      ]
    },
    {
      "cell_type": "code",
      "execution_count": null,
      "metadata": {
        "id": "Qcr7YNOoAlDi",
        "outputId": "7afccbdc-c057-4cad-da08-9b76a274d3ed"
      },
      "outputs": [
        {
          "data": {
            "image/png": "[encoded data removed]",
            "text/plain": [
              "<Figure size 432x288 with 1 Axes>"
            ]
          },
          "metadata": {
            "needs_background": "light"
          },
          "output_type": "display_data"
        }
      ],
      "source": [
        "model_ = Model_1\n",
        "epochs_X = [i for i in range(1, model_.epochs+1)]\n",
        "epochs_X\n",
        "plt.subplots(figsize=(6,4))\n",
        "\n",
        "plt.plot(epochs_X , model_.Epochs_Train_Acc, 'o-', label='Train Accuracy')\n",
        "plt.plot(epochs_X , model_.Epochs_Val_Acc,'ro-', label='Validation Accuracy')\n",
        "plt.xlabel(\"Epochs\", fontsize = 12)\n",
        "plt.ylabel(\"Accuracy\", fontsize = 12)\n",
        "plt.grid()\n",
        "plt.legend()\n",
        "plt.title('Train and Validation Accuracy by epochs')\n",
        "plt.show()"
      ]
    },
    {
      "cell_type": "markdown",
      "metadata": {
        "id": "Ksq8mnI2AlDj"
      },
      "source": [
        "# **Model 2: Net2**"
      ]
    },
    {
      "cell_type": "code",
      "execution_count": null,
      "metadata": {
        "id": "IuKLgrZ4Q_xz"
      },
      "outputs": [],
      "source": [
        "batch_size = 64\n",
        "LR = 0.001\n",
        "Momentum = 0.7\n",
        "epochs = 75\n",
        "model2 = CNN_Net2()\n",
        "model2 = model2.to(device)  # put all model params on GPU.\n",
        "loss_fn = nn.CrossEntropyLoss()\n",
        "optimizer = torch.optim.SGD(model2.parameters(), lr = LR, momentum = Momentum)\n",
        "# optimizer = torch.optim.Adam(model2.parameters(), lr = LR, weight_decay=0.0003)\n",
        "X_train = input_data[0]\n",
        "Y_train = labels[0]\n",
        "X_valid = input_data[1]\n",
        "Y_valid = labels[1]\n",
        "Model_2 = Model_Training( model2, loss_fn, optimizer, epochs, batch_size, X_train, Y_train, X_valid, Y_valid)"
      ]
    },
    {
      "cell_type": "code",
      "execution_count": null,
      "metadata": {
        "id": "3IRZEblhAlDj",
        "outputId": "c7d1ea33-581c-4c11-de8b-3577ecd01c20"
      },
      "outputs": [
        {
          "name": "stdout",
          "output_type": "stream",
          "text": [
            "[Epoch: 1]  , Train_loss: 1.8 , Train_Acc: 27.3%, Val_loss: 1.8 , Val_Acc: 30.9% , run time: 11.27\n",
            "[Epoch: 2]  , Train_loss: 1.7 , Train_Acc: 32.7%, Val_loss: 1.6 , Val_Acc: 34.2% , run time: 10.92\n",
            "[Epoch: 3]  , Train_loss: 1.5 , Train_Acc: 37.4%, Val_loss: 1.5 , Val_Acc: 41.0% , run time: 10.96\n",
            "[Epoch: 4]  , Train_loss: 1.5 , Train_Acc: 42.5%, Val_loss: 1.5 , Val_Acc: 44.4% , run time: 10.96\n",
            "[Epoch: 5]  , Train_loss: 1.4 , Train_Acc: 45.3%, Val_loss: 1.4 , Val_Acc: 46.7% , run time: 11.0\n",
            "[Epoch: 6]  , Train_loss: 1.4 , Train_Acc: 46.6%, Val_loss: 1.4 , Val_Acc: 45.8% , run time: 10.97\n",
            "[Epoch: 7]  , Train_loss: 1.4 , Train_Acc: 47.5%, Val_loss: 1.4 , Val_Acc: 46.9% , run time: 10.98\n",
            "[Epoch: 8]  , Train_loss: 1.4 , Train_Acc: 48.0%, Val_loss: 1.4 , Val_Acc: 47.4% , run time: 11.02\n",
            "[Epoch: 9]  , Train_loss: 1.4 , Train_Acc: 48.4%, Val_loss: 1.4 , Val_Acc: 47.4% , run time: 11.04\n",
            "[Epoch: 10]  , Train_loss: 1.4 , Train_Acc: 48.8%, Val_loss: 1.4 , Val_Acc: 48.4% , run time: 11.12\n",
            "[Epoch: 11]  , Train_loss: 1.3 , Train_Acc: 49.2%, Val_loss: 1.4 , Val_Acc: 48.6% , run time: 11.31\n",
            "[Epoch: 12]  , Train_loss: 1.3 , Train_Acc: 49.8%, Val_loss: 1.3 , Val_Acc: 48.6% , run time: 10.95\n",
            "[Epoch: 13]  , Train_loss: 1.3 , Train_Acc: 50.4%, Val_loss: 1.3 , Val_Acc: 49.0% , run time: 11.04\n",
            "[Epoch: 14]  , Train_loss: 1.3 , Train_Acc: 50.7%, Val_loss: 1.3 , Val_Acc: 49.7% , run time: 10.99\n",
            "[Epoch: 15]  , Train_loss: 1.3 , Train_Acc: 51.1%, Val_loss: 1.3 , Val_Acc: 49.7% , run time: 11.04\n",
            "[Epoch: 16]  , Train_loss: 1.3 , Train_Acc: 51.4%, Val_loss: 1.3 , Val_Acc: 49.5% , run time: 11.01\n",
            "[Epoch: 17]  , Train_loss: 1.3 , Train_Acc: 52.0%, Val_loss: 1.3 , Val_Acc: 49.7% , run time: 11.01\n",
            "[Epoch: 18]  , Train_loss: 1.3 , Train_Acc: 52.5%, Val_loss: 1.3 , Val_Acc: 49.8% , run time: 11.4\n",
            "[Epoch: 19]  , Train_loss: 1.3 , Train_Acc: 52.7%, Val_loss: 1.3 , Val_Acc: 50.3% , run time: 11.08\n",
            "[Epoch: 20]  , Train_loss: 1.3 , Train_Acc: 53.2%, Val_loss: 1.3 , Val_Acc: 50.7% , run time: 10.96\n",
            "[Epoch: 21]  , Train_loss: 1.2 , Train_Acc: 53.3%, Val_loss: 1.3 , Val_Acc: 50.5% , run time: 10.96\n",
            "[Epoch: 22]  , Train_loss: 1.2 , Train_Acc: 53.7%, Val_loss: 1.3 , Val_Acc: 51.0% , run time: 10.96\n",
            "[Epoch: 23]  , Train_loss: 1.2 , Train_Acc: 54.2%, Val_loss: 1.3 , Val_Acc: 50.3% , run time: 11.23\n",
            "[Epoch: 24]  , Train_loss: 1.2 , Train_Acc: 54.6%, Val_loss: 1.2 , Val_Acc: 50.9% , run time: 10.97\n",
            "[Epoch: 25]  , Train_loss: 1.2 , Train_Acc: 55.0%, Val_loss: 1.2 , Val_Acc: 51.2% , run time: 11.0\n",
            "[Epoch: 26]  , Train_loss: 1.2 , Train_Acc: 55.3%, Val_loss: 1.2 , Val_Acc: 51.4% , run time: 11.08\n",
            "[Epoch: 27]  , Train_loss: 1.2 , Train_Acc: 55.5%, Val_loss: 1.2 , Val_Acc: 51.4% , run time: 11.24\n",
            "[Epoch: 28]  , Train_loss: 1.2 , Train_Acc: 55.7%, Val_loss: 1.2 , Val_Acc: 50.7% , run time: 11.2\n",
            "[Epoch: 29]  , Train_loss: 1.2 , Train_Acc: 56.1%, Val_loss: 1.2 , Val_Acc: 50.7% , run time: 10.92\n",
            "[Epoch: 30]  , Train_loss: 1.2 , Train_Acc: 56.5%, Val_loss: 1.2 , Val_Acc: 51.2% , run time: 10.89\n",
            "[Epoch: 31]  , Train_loss: 1.2 , Train_Acc: 57.0%, Val_loss: 1.2 , Val_Acc: 51.4% , run time: 10.88\n",
            "[Epoch: 32]  , Train_loss: 1.1 , Train_Acc: 57.3%, Val_loss: 1.2 , Val_Acc: 51.4% , run time: 10.88\n",
            "[Epoch: 33]  , Train_loss: 1.1 , Train_Acc: 57.4%, Val_loss: 1.2 , Val_Acc: 51.4% , run time: 10.88\n",
            "[Epoch: 34]  , Train_loss: 1.1 , Train_Acc: 57.7%, Val_loss: 1.2 , Val_Acc: 51.2% , run time: 10.88\n",
            "[Epoch: 35]  , Train_loss: 1.1 , Train_Acc: 57.9%, Val_loss: 1.2 , Val_Acc: 51.2% , run time: 10.92\n",
            "[Epoch: 36]  , Train_loss: 1.1 , Train_Acc: 58.3%, Val_loss: 1.2 , Val_Acc: 51.6% , run time: 10.98\n",
            "[Epoch: 37]  , Train_loss: 1.1 , Train_Acc: 58.5%, Val_loss: 1.2 , Val_Acc: 52.3% , run time: 11.0\n",
            "[Epoch: 38]  , Train_loss: 1.1 , Train_Acc: 58.7%, Val_loss: 1.2 , Val_Acc: 52.4% , run time: 11.22\n",
            "[Epoch: 39]  , Train_loss: 1.1 , Train_Acc: 59.0%, Val_loss: 1.2 , Val_Acc: 52.3% , run time: 11.11\n",
            "[Epoch: 40]  , Train_loss: 1.1 , Train_Acc: 59.5%, Val_loss: 1.1 , Val_Acc: 52.6% , run time: 11.06\n",
            "[Epoch: 41]  , Train_loss: 1.1 , Train_Acc: 59.9%, Val_loss: 1.1 , Val_Acc: 52.8% , run time: 11.04\n",
            "[Epoch: 42]  , Train_loss: 1.1 , Train_Acc: 60.3%, Val_loss: 1.1 , Val_Acc: 53.0% , run time: 11.06\n",
            "[Epoch: 43]  , Train_loss: 1.0 , Train_Acc: 60.4%, Val_loss: 1.1 , Val_Acc: 53.0% , run time: 11.09\n",
            "[Epoch: 44]  , Train_loss: 1.0 , Train_Acc: 60.8%, Val_loss: 1.1 , Val_Acc: 53.3% , run time: 11.08\n",
            "[Epoch: 45]  , Train_loss: 1.0 , Train_Acc: 61.2%, Val_loss: 1.1 , Val_Acc: 54.0% , run time: 11.01\n",
            "[Epoch: 46]  , Train_loss: 1.0 , Train_Acc: 61.6%, Val_loss: 1.1 , Val_Acc: 54.2% , run time: 11.0\n",
            "[Epoch: 47]  , Train_loss: 1.0 , Train_Acc: 62.1%, Val_loss: 1.1 , Val_Acc: 54.2% , run time: 11.04\n",
            "[Epoch: 48]  , Train_loss: 1.0 , Train_Acc: 62.2%, Val_loss: 1.1 , Val_Acc: 54.9% , run time: 11.04\n",
            "[Epoch: 49]  , Train_loss: 1.0 , Train_Acc: 62.6%, Val_loss: 1.1 , Val_Acc: 55.4% , run time: 10.98\n",
            "[Epoch: 50]  , Train_loss: 1.0 , Train_Acc: 63.0%, Val_loss: 1.1 , Val_Acc: 54.9% , run time: 11.03\n",
            "[Epoch: 51]  , Train_loss: 1.0 , Train_Acc: 63.6%, Val_loss: 1.1 , Val_Acc: 54.7% , run time: 11.05\n",
            "[Epoch: 52]  , Train_loss: 1.0 , Train_Acc: 64.1%, Val_loss: 1.1 , Val_Acc: 54.5% , run time: 11.07\n",
            "[Epoch: 53]  , Train_loss: 1.0 , Train_Acc: 64.3%, Val_loss: 1.1 , Val_Acc: 54.7% , run time: 11.04\n",
            "[Epoch: 54]  , Train_loss: 1.0 , Train_Acc: 64.5%, Val_loss: 1.1 , Val_Acc: 54.9% , run time: 11.2\n",
            "[Epoch: 55]  , Train_loss: 1.0 , Train_Acc: 64.8%, Val_loss: 1.1 , Val_Acc: 55.0% , run time: 11.22\n",
            "[Epoch: 56]  , Train_loss: 0.9 , Train_Acc: 65.3%, Val_loss: 1.1 , Val_Acc: 54.3% , run time: 11.11\n",
            "[Epoch: 57]  , Train_loss: 0.9 , Train_Acc: 65.3%, Val_loss: 1.1 , Val_Acc: 54.3% , run time: 11.08\n",
            "[Epoch: 58]  , Train_loss: 0.9 , Train_Acc: 65.5%, Val_loss: 1.1 , Val_Acc: 55.0% , run time: 11.05\n",
            "[Epoch: 59]  , Train_loss: 0.9 , Train_Acc: 65.9%, Val_loss: 1.1 , Val_Acc: 55.0% , run time: 11.06\n",
            "[Epoch: 60]  , Train_loss: 0.9 , Train_Acc: 66.0%, Val_loss: 1.1 , Val_Acc: 54.5% , run time: 11.06\n",
            "[Epoch: 61]  , Train_loss: 0.9 , Train_Acc: 66.4%, Val_loss: 1.1 , Val_Acc: 54.9% , run time: 11.24\n",
            "[Epoch: 62]  , Train_loss: 0.9 , Train_Acc: 66.7%, Val_loss: 1.1 , Val_Acc: 54.9% , run time: 11.1\n",
            "[Epoch: 63]  , Train_loss: 0.9 , Train_Acc: 66.7%, Val_loss: 1.1 , Val_Acc: 55.0% , run time: 10.93\n",
            "[Epoch: 64]  , Train_loss: 0.9 , Train_Acc: 66.9%, Val_loss: 1.1 , Val_Acc: 55.2% , run time: 10.94\n",
            "[Epoch: 65]  , Train_loss: 0.9 , Train_Acc: 67.2%, Val_loss: 1.1 , Val_Acc: 55.6% , run time: 10.93\n",
            "[Epoch: 66]  , Train_loss: 0.9 , Train_Acc: 67.3%, Val_loss: 1.1 , Val_Acc: 55.7% , run time: 10.93\n",
            "[Epoch: 67]  , Train_loss: 0.9 , Train_Acc: 67.6%, Val_loss: 1.1 , Val_Acc: 55.4% , run time: 10.94\n",
            "[Epoch: 68]  , Train_loss: 0.9 , Train_Acc: 68.0%, Val_loss: 1.1 , Val_Acc: 55.4% , run time: 10.93\n",
            "[Epoch: 69]  , Train_loss: 0.9 , Train_Acc: 68.2%, Val_loss: 1.1 , Val_Acc: 55.0% , run time: 10.93\n",
            "[Epoch: 70]  , Train_loss: 0.9 , Train_Acc: 68.3%, Val_loss: 1.1 , Val_Acc: 55.0% , run time: 10.96\n",
            "[Epoch: 71]  , Train_loss: 0.9 , Train_Acc: 68.5%, Val_loss: 1.1 , Val_Acc: 55.2% , run time: 10.94\n",
            "[Epoch: 72]  , Train_loss: 0.8 , Train_Acc: 68.9%, Val_loss: 1.1 , Val_Acc: 55.2% , run time: 10.93\n",
            "[Epoch: 73]  , Train_loss: 0.8 , Train_Acc: 69.0%, Val_loss: 1.1 , Val_Acc: 55.7% , run time: 10.92\n",
            "[Epoch: 74]  , Train_loss: 0.8 , Train_Acc: 69.1%, Val_loss: 1.1 , Val_Acc: 56.2% , run time: 10.92\n",
            "[Epoch: 75]  , Train_loss: 0.8 , Train_Acc: 69.5%, Val_loss: 1.1 , Val_Acc: 56.4% , run time: 10.92\n",
            "Finished Training\n"
          ]
        }
      ],
      "source": [
        "Model_2.Train_CNNs()"
      ]
    },
    {
      "cell_type": "code",
      "execution_count": null,
      "metadata": {
        "id": "huSGH-RsAlDj",
        "outputId": "3b4b064d-1600-45d8-f775-8831841f1a99"
      },
      "outputs": [
        {
          "name": "stdout",
          "output_type": "stream",
          "text": [
            "Nr. of Data : \n",
            " 451\n",
            "Accuracy of The Model : \n",
            " 0.6008869179600886\n",
            "Confusion Matrix : \n",
            " [[18  6  3  1  5  3  0]\n",
            " [ 5 25  6  5  3  0  4]\n",
            " [ 1 14 77  1 26  9  0]\n",
            " [ 1  0  0  0  0  0  0]\n",
            " [ 3  2 20  0 41  5  1]\n",
            " [ 4  3 15  1 27 98  3]\n",
            " [ 0  1  1  0  1  0 12]]\n",
            "Weighted Avg. of sensitivity : \n",
            " 0.4888228946915448\n",
            "Weighted Avg. of specificity : \n",
            " 0.8956341098856812\n"
          ]
        },
        {
          "data": {
            "image/png": "[encoded data removed]",
            "text/plain": [
              "<Figure size 432x288 with 2 Axes>"
            ]
          },
          "metadata": {
            "needs_background": "light"
          },
          "output_type": "display_data"
        }
      ],
      "source": [
        "model_ = model2.eval()\n",
        "X = input_data[2]\n",
        "Y = labels[2]\n",
        "Y_pred = model_(X).argmax(dim=1)\n",
        "confusion_matrix(Y_pred,Y)"
      ]
    },
    {
      "cell_type": "code",
      "execution_count": null,
      "metadata": {
        "id": "ql9bDP4nAlDj",
        "outputId": "195744a7-0023-4026-b9fa-afcd559a016e"
      },
      "outputs": [
        {
          "data": {
            "image/png": "[encoded data removed]",
            "text/plain": [
              "<Figure size 432x288 with 1 Axes>"
            ]
          },
          "metadata": {
            "needs_background": "light"
          },
          "output_type": "display_data"
        }
      ],
      "source": [
        "model_ = Model_2\n",
        "epochs_X = [i for i in range(1, model_.epochs+1)]\n",
        "plt.subplots(figsize=(6,4))\n",
        "\n",
        "plt.plot(epochs_X , model_.Epochs_Train_loss, 'o-', label='Train loss')\n",
        "plt.plot(epochs_X , model_.Epochs_Val_loss,'ro-', label='Validation loss')\n",
        "plt.xlabel(\"Epochs\", fontsize = 12)\n",
        "plt.ylabel(\"Loss\", fontsize = 12)\n",
        "plt.grid()\n",
        "plt.legend()\n",
        "plt.title('Train and Validation loss by epochs')\n",
        "plt.show()"
      ]
    },
    {
      "cell_type": "code",
      "execution_count": null,
      "metadata": {
        "id": "ULX62Ve3AlDj",
        "outputId": "4aecb3c6-d288-4f5c-e2b0-6505c4e0728f"
      },
      "outputs": [
        {
          "data": {
            "image/png": "[encoded data removed]",
            "text/plain": [
              "<Figure size 432x288 with 1 Axes>"
            ]
          },
          "metadata": {
            "needs_background": "light"
          },
          "output_type": "display_data"
        }
      ],
      "source": [
        "model_ = Model_2\n",
        "epochs_X = [i for i in range(1, model_.epochs+1)]\n",
        "epochs_X\n",
        "plt.subplots(figsize=(6,4))\n",
        "\n",
        "plt.plot(epochs_X , model_.Epochs_Train_Acc, 'o-', label='Train Accuracy')\n",
        "plt.plot(epochs_X , model_.Epochs_Val_Acc,'ro-', label='Validation Accuracy')\n",
        "plt.xlabel(\"Epochs\", fontsize = 12)\n",
        "plt.ylabel(\"Accuracy\", fontsize = 12)\n",
        "plt.grid()\n",
        "plt.legend()\n",
        "plt.title('Train and Validation Accuracy by epochs')\n",
        "plt.show()"
      ]
    },
    {
      "cell_type": "markdown",
      "metadata": {
        "id": "xg-ZJmCpAlDj"
      },
      "source": [
        "# **Save the model**"
      ]
    },
    {
      "cell_type": "code",
      "execution_count": null,
      "metadata": {
        "id": "DM15kY74AlDj"
      },
      "outputs": [],
      "source": [
        "pickle.dump(Model_2, open(p_models + 'CNN_60x45_Duplicated', 'wb'))"
      ]
    },
    {
      "cell_type": "code",
      "execution_count": null,
      "metadata": {
        "id": "ZgZ8d28qAlDj"
      },
      "outputs": [],
      "source": [
        "dill.dump([CNN_Net1,CNN_Net2,CNN_Net3, Model_Training], open(p_models + 'CNNs_Network_Training', \"wb\"))"
      ]
    },
    {
      "cell_type": "markdown",
      "metadata": {
        "id": "oW6taeF-AlDj"
      },
      "source": [
        ""
      ]
    }
  ],
  "metadata": {
    "interpreter": {
      "hash": "31f2aee4e71d21fbe5cf8b01ff0e069b9275f58929596ceb00d14d90e3e16cd6"
    },
    "kernelspec": {
      "display_name": "Python 3.8.9 64-bit",
      "language": "python",
      "name": "python3"
    },
    "language_info": {
      "codemirror_mode": {
        "name": "ipython",
        "version": 3
      },
      "file_extension": ".py",
      "mimetype": "text/x-python",
      "name": "python",
      "nbconvert_exporter": "python",
      "pygments_lexer": "ipython3",
      "version": "3.8.9"
    },
    "colab": {
      "name": "CNN_60x45.ipynb",
      "provenance": [],
      "include_colab_link": true
    }
  },
  "nbformat": 4,
  "nbformat_minor": 0
}