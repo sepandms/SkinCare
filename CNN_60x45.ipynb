{
  "cells": [
    {
      "cell_type": "markdown",
      "metadata": {
        "id": "view-in-github",
        "colab_type": "text"
      },
      "source": [
        "<a href=\"https://colab.research.google.com/github/sepandms/SkinCare/blob/main/CNN_60x45.ipynb\" target=\"_parent\"><img src=\"https://colab.research.google.com/assets/colab-badge.svg\" alt=\"Open In Colab\"/></a>"
      ]
    },
    {
      "cell_type": "code",
      "execution_count": 4,
      "metadata": {
        "colab": {
          "base_uri": "https://localhost:8080/"
        },
        "id": "-UIaVWyAKtln",
        "outputId": "4ebd27a6-62df-4254-cbbc-611f425fd514"
      },
      "outputs": [
        {
          "output_type": "stream",
          "name": "stdout",
          "text": [
            "Looking in indexes: https://pypi.org/simple, https://us-python.pkg.dev/colab-wheels/public/simple/\n",
            "Collecting pickle5\n",
            "  Downloading pickle5-0.0.12-cp37-cp37m-manylinux_2_5_x86_64.manylinux1_x86_64.whl (256 kB)\n",
            "\u001b[K     |████████████████████████████████| 256 kB 5.3 MB/s \n",
            "\u001b[?25hInstalling collected packages: pickle5\n",
            "Successfully installed pickle5-0.0.12\n",
            "--2022-06-11 16:28:37--  https://drive.google.com/u/0/uc?id=1oDoZz3baGVaX6pZwHfxi0W8SNymKcLzL\n",
            "Resolving drive.google.com (drive.google.com)... 173.194.192.100, 173.194.192.138, 173.194.192.102, ...\n",
            "Connecting to drive.google.com (drive.google.com)|173.194.192.100|:443... connected.\n",
            "HTTP request sent, awaiting response... 302 Found\n",
            "Location: https://drive.google.com/uc?id=1oDoZz3baGVaX6pZwHfxi0W8SNymKcLzL [following]\n",
            "--2022-06-11 16:28:37--  https://drive.google.com/uc?id=1oDoZz3baGVaX6pZwHfxi0W8SNymKcLzL\n",
            "Reusing existing connection to drive.google.com:443.\n",
            "HTTP request sent, awaiting response... 303 See Other\n",
            "Location: https://doc-08-2g-docs.googleusercontent.com/docs/securesc/ha0ro937gcuc7l7deffksulhg5h7mbp1/8c3is6gluaf93m6ja9ig5mehtuhlor3h/1654964850000/09755144277486379277/*/1oDoZz3baGVaX6pZwHfxi0W8SNymKcLzL [following]\n",
            "Warning: wildcards not supported in HTTP.\n",
            "--2022-06-11 16:28:39--  https://doc-08-2g-docs.googleusercontent.com/docs/securesc/ha0ro937gcuc7l7deffksulhg5h7mbp1/8c3is6gluaf93m6ja9ig5mehtuhlor3h/1654964850000/09755144277486379277/*/1oDoZz3baGVaX6pZwHfxi0W8SNymKcLzL\n",
            "Resolving doc-08-2g-docs.googleusercontent.com (doc-08-2g-docs.googleusercontent.com)... 142.251.120.132, 2607:f8b0:4001:c2e::84\n",
            "Connecting to doc-08-2g-docs.googleusercontent.com (doc-08-2g-docs.googleusercontent.com)|142.251.120.132|:443... connected.\n",
            "HTTP request sent, awaiting response... 200 OK\n",
            "Length: 25470864 (24M) [application/octet-stream]\n",
            "Saving to: ‘DataSource_60x45_blc_noDup.pkl’\n",
            "\n",
            "DataSource_60x45_bl 100%[===================>]  24.29M  85.3MB/s    in 0.3s    \n",
            "\n",
            "2022-06-11 16:28:40 (85.3 MB/s) - ‘DataSource_60x45_blc_noDup.pkl’ saved [25470864/25470864]\n",
            "\n"
          ]
        }
      ],
      "source": [
        "# For Google Colab\n",
        "!pip install pickle5\n",
        "file_link = \"https://drive.google.com/u/0/uc?id=1oDoZz3baGVaX6pZwHfxi0W8SNymKcLzL\"\n",
        "#name = 'DataSource_60x45_blc_noDup.pkl'\n",
        "#!wget -O {name} {file_link} -N\n",
        "!wget --content-disposition {file_link}  "
      ]
    },
    {
      "cell_type": "code",
      "execution_count": 5,
      "metadata": {
        "id": "VZrZXitoAlDd"
      },
      "outputs": [],
      "source": [
        "import torch\n",
        "import torch.nn as nn\n",
        "import torch.nn.functional as F\n",
        "import torchvision\n",
        "import torchvision.transforms as transforms\n",
        "#import torchvision.transforms.Compose\n",
        "import numpy as np\n",
        "import random\n",
        "import matplotlib.pyplot as plt\n",
        "from torch.utils.data import random_split\n",
        "from torch.utils.data import SubsetRandomSampler\n",
        "import time\n",
        "from tqdm import tqdm\n",
        "import pickle5 as pickle\n",
        "from statistics import mean\n",
        "import pandas as pd\n",
        "import sklearn as sk\n",
        "from sklearn.model_selection import train_test_split\n",
        "device = torch.device(\"cuda\" if torch.cuda.is_available() else 'mps' if torch.backends.mps.is_available() else \"cpu\")\n",
        "from sklearn.utils import resample\n",
        "import warnings\n",
        "warnings.filterwarnings('ignore')\n",
        "path = '/Users/sepehrbe/DataSources/Kaggle/SkinCare/Data/Pickle_Data/'\n",
        "p_models = '/Users/sepehrbe/DataSources/Kaggle/SkinCare/Models/Saved/'"
      ]
    },
    {
      "cell_type": "code",
      "execution_count": 6,
      "metadata": {
        "id": "EmItAdeAIgc7"
      },
      "outputs": [],
      "source": [
        "#file = 'test1.pkl' \n",
        "file = 'DataSource_60x45_blc_noDup.pkl' \n",
        "try:\n",
        "    infile = open(file,'rb') # for google colab\n",
        "except:\n",
        "    infile = open(path+file,'rb') # for M1\n",
        "data = pickle.load(infile)"
      ]
    },
    {
      "cell_type": "code",
      "execution_count": 7,
      "metadata": {
        "colab": {
          "base_uri": "https://localhost:8080/"
        },
        "id": "mTyd2fE_AlDe",
        "outputId": "0333fd0c-21d9-4739-8535-7705114b605a"
      },
      "outputs": [
        {
          "output_type": "stream",
          "name": "stdout",
          "text": [
            "Train size:  2375  Valid Size:  420  Test size:  311\n"
          ]
        }
      ],
      "source": [
        "train_data = data[data.type=='train']\n",
        "valid_data = data[data.type=='valid']\n",
        "test_data = data[data.type=='test']\n",
        "\n",
        "training_data = pd.concat([train_data,valid_data], axis=0)\n",
        "print('Train size: ',train_data.shape[0] ,' Valid Size: ',valid_data.shape[0], ' Test size: ', test_data.shape[0])"
      ]
    },
    {
      "cell_type": "markdown",
      "metadata": {
        "id": "0vf3zc_8AlDe"
      },
      "source": [
        "# **Standardize Train and Validation data**"
      ]
    },
    {
      "cell_type": "code",
      "execution_count": 8,
      "metadata": {
        "colab": {
          "base_uri": "https://localhost:8080/"
        },
        "id": "DfwnXL7VAlDf",
        "outputId": "9faa012e-0db7-4907-a8e8-1c6c86c7de56"
      },
      "outputs": [
        {
          "output_type": "stream",
          "name": "stdout",
          "text": [
            "Mean : [0.74757306 0.55395043 0.57981832]   STD: [0.13901983 0.1466928  0.16243817]\n"
          ]
        }
      ],
      "source": [
        "training_arrays = np.stack(training_data['img_array'].values)  \n",
        "training_arrays_scaled = training_arrays / 255\n",
        "Mean = training_arrays_scaled.mean(axis = (0,1,2)) \n",
        "STD = training_arrays_scaled.std(axis = (0,1,2))\n",
        "print(f\"Mean : {Mean}   STD: {STD}\") "
      ]
    },
    {
      "cell_type": "code",
      "execution_count": 9,
      "metadata": {
        "id": "tDkgbyk2AlDf"
      },
      "outputs": [],
      "source": [
        "#Train data standardization\n",
        "train_arrays_std = np.stack(train_data['img_array'].values) / 255\n",
        "for i in range(0,train_arrays_std.shape[0]):\n",
        "    train_arrays_std[i] = (train_arrays_std[i] - Mean) / STD\n",
        "#Validation data standardization\n",
        "valid_arrays_std = np.stack(valid_data['img_array'].values) / 255\n",
        "for i in range(0,valid_arrays_std.shape[0]):\n",
        "    valid_arrays_std[i] = (valid_arrays_std[i] - Mean) / STD\n",
        "#Test data standardization\n",
        "test_arrays_std = np.stack(test_data['img_array'].values) / 255\n",
        "for i in range(0,test_arrays_std.shape[0]):\n",
        "    test_arrays_std[i] = (test_arrays_std[i] - Mean) / STD"
      ]
    },
    {
      "cell_type": "code",
      "execution_count": 10,
      "metadata": {
        "colab": {
          "base_uri": "https://localhost:8080/"
        },
        "id": "v739KGr7AlDf",
        "outputId": "264e2aef-4237-4fa3-936e-d1503ebe50db"
      },
      "outputs": [
        {
          "output_type": "stream",
          "name": "stdout",
          "text": [
            "Mean : [-0.00228189  0.00041095 -0.00230894]   STD: [1.00738491 1.00246694 1.00100759]\n"
          ]
        }
      ],
      "source": [
        "Mean_t = train_arrays_std.mean(axis = (0,1,2)) \n",
        "STD_t = train_arrays_std.std(axis = (0,1,2))\n",
        "print(f\"Mean : {Mean_t}   STD: {STD_t}\") "
      ]
    },
    {
      "cell_type": "code",
      "execution_count": 11,
      "metadata": {
        "id": "o2RHmNlcAlDf"
      },
      "outputs": [],
      "source": [
        "train_arrays_std_T = torch.tensor(train_arrays_std, dtype= torch.float32).transpose(3,1)\n",
        "train_labels = torch.tensor(train_data['label_id'].values.astype(np.long))\n",
        "\n",
        "valid_arrays_std_T = torch.tensor(valid_arrays_std, dtype= torch.float32).transpose(3,1)\n",
        "valid_labels = torch.tensor(valid_data['label_id'].values.astype(np.long))\n",
        "\n",
        "test_arrays_std_T = torch.tensor(test_arrays_std, dtype= torch.float32).transpose(3,1)\n",
        "test_labels = torch.tensor(test_data['label_id'].values.astype(np.long))\n",
        "\n",
        "input_data = (train_arrays_std_T , valid_arrays_std_T, test_arrays_std_T , torch.cat((train_arrays_std_T,valid_arrays_std_T),0) )\n",
        "labels = (train_labels,valid_labels,test_labels , torch.cat((train_labels,valid_labels),0))"
      ]
    },
    {
      "cell_type": "markdown",
      "metadata": {
        "id": "nqCBXtetAlDf"
      },
      "source": [
        "# **Show some Images**"
      ]
    },
    {
      "cell_type": "code",
      "execution_count": 12,
      "metadata": {
        "colab": {
          "base_uri": "https://localhost:8080/",
          "height": 1000
        },
        "id": "e3W89pUsAlDf",
        "outputId": "3966d0a6-ee39-4e9e-c64c-df330b156ee5"
      },
      "outputs": [
        {
          "output_type": "stream",
          "name": "stdout",
          "text": [
            "--------Original Image----------\n",
            "i:  ISIC_0027742\n",
            "Image:1426, target:mel\n"
          ]
        },
        {
          "output_type": "display_data",
          "data": {
            "text/plain": [
              "<Figure size 432x288 with 1 Axes>"
            ],
            "image/png": "[encoded data removed]"
          },
          "metadata": {
            "needs_background": "light"
          }
        },
        {
          "output_type": "stream",
          "name": "stderr",
          "text": [
            "Clipping input data to the valid range for imshow with RGB data ([0..1] for floats or [0..255] for integers).\n"
          ]
        },
        {
          "output_type": "stream",
          "name": "stdout",
          "text": [
            "---------Normilized Image---------\n"
          ]
        },
        {
          "output_type": "display_data",
          "data": {
            "text/plain": [
              "<Figure size 432x288 with 1 Axes>"
            ],
            "image/png": "[encoded data removed]"
          },
          "metadata": {
            "needs_background": "light"
          }
        },
        {
          "output_type": "stream",
          "name": "stdout",
          "text": [
            "###################################\n",
            "--------Original Image----------\n",
            "i:  ISIC_0024431\n",
            "Image:502, target:bcc\n"
          ]
        },
        {
          "output_type": "display_data",
          "data": {
            "text/plain": [
              "<Figure size 432x288 with 1 Axes>"
            ],
            "image/png": "[encoded data removed]"
          },
          "metadata": {
            "needs_background": "light"
          }
        },
        {
          "output_type": "stream",
          "name": "stdout",
          "text": [
            "---------Normilized Image---------\n"
          ]
        },
        {
          "output_type": "stream",
          "name": "stderr",
          "text": [
            "Clipping input data to the valid range for imshow with RGB data ([0..1] for floats or [0..255] for integers).\n"
          ]
        },
        {
          "output_type": "display_data",
          "data": {
            "text/plain": [
              "<Figure size 432x288 with 1 Axes>"
            ],
            "image/png": "[encoded data removed]"
          },
          "metadata": {
            "needs_background": "light"
          }
        },
        {
          "output_type": "stream",
          "name": "stdout",
          "text": [
            "###################################\n",
            "--------Original Image----------\n",
            "i:  ISIC_0025960\n",
            "Image:1707, target:nv\n"
          ]
        },
        {
          "output_type": "display_data",
          "data": {
            "text/plain": [
              "<Figure size 432x288 with 1 Axes>"
            ],
            "image/png": "[encoded data removed]"
          },
          "metadata": {
            "needs_background": "light"
          }
        },
        {
          "output_type": "stream",
          "name": "stderr",
          "text": [
            "Clipping input data to the valid range for imshow with RGB data ([0..1] for floats or [0..255] for integers).\n"
          ]
        },
        {
          "output_type": "stream",
          "name": "stdout",
          "text": [
            "---------Normilized Image---------\n"
          ]
        },
        {
          "output_type": "display_data",
          "data": {
            "text/plain": [
              "<Figure size 432x288 with 1 Axes>"
            ],
            "image/png": "[encoded data removed]"
          },
          "metadata": {
            "needs_background": "light"
          }
        },
        {
          "output_type": "stream",
          "name": "stdout",
          "text": [
            "###################################\n"
          ]
        }
      ],
      "source": [
        "for i in np.random.choice(train_data.shape[0], 3, replace=False):\n",
        "  print(\"--------Original Image----------\")\n",
        "  print('i: ', train_data['image_id'].iloc[i])\n",
        "  image1 = torch.from_numpy(train_data['img_array'].iloc[i])\n",
        "  print(\"Image:{}, target:{}\".format(i, train_data['image_label'].iloc[i]))\n",
        "  plt.imshow(image1, interpolation='nearest')\n",
        "  plt.show()\n",
        "  print(\"---------Normilized Image---------\")\n",
        "  image2 = train_arrays_std[i]\n",
        "  plt.imshow(image2, interpolation='nearest')\n",
        "  plt.show()\n",
        "  print(\"###################################\")"
      ]
    },
    {
      "cell_type": "markdown",
      "metadata": {
        "id": "GgLTtyx5uw6b"
      },
      "source": [
        "### **1.2 Nets**"
      ]
    },
    {
      "cell_type": "code",
      "execution_count": 13,
      "metadata": {
        "id": "w1GCLpHCrDWL"
      },
      "outputs": [],
      "source": [
        "class CNN_Net1(nn.Module):\n",
        "    def __init__(self):\n",
        "        super().__init__()\n",
        "        self.conv1 = nn.Conv2d( in_channels=3 , out_channels=32 , kernel_size=(3, 3))\n",
        "        self.conv2 = nn.Conv2d( in_channels=32, out_channels=32 , kernel_size=(3, 3))\n",
        "        self.pool1 = nn.MaxPool2d( kernel_size = (2,2), stride = None, padding = 0 )\n",
        "        self.conv3 = nn.Conv2d( in_channels=32, out_channels=64 , kernel_size=(3, 3))\n",
        "        self.conv4 = nn.Conv2d( in_channels=64, out_channels=64 , kernel_size=(3, 3))\n",
        "        self.pool2 = nn.MaxPool2d( kernel_size = (2,2), stride = None, padding = 0 )\n",
        "        self.fc1   = nn.Linear(in_features= 6144 , out_features = 512)\n",
        "        self.fc2   = nn.Linear(in_features= 512, out_features = 7)\n",
        "        self.Act   = nn.ReLU(inplace=True)\n",
        "    def forward(self, x):\n",
        "        out = self.Act(self.conv1(x))\n",
        "        out = self.Act(self.conv2(out))\n",
        "        out = self.Act(self.pool1(out))\n",
        "        out = self.Act(self.conv3(out))\n",
        "        out = self.Act(self.conv4(out))\n",
        "        out = self.Act(self.pool2(out))\n",
        "        out = torch.flatten(out, 1) \n",
        "        out = self.Act(self.fc1(out))\n",
        "        out = self.Act(self.fc2(out))\n",
        "        # out = nn.Softmax(out)\n",
        "        return out"
      ]
    },
    {
      "cell_type": "code",
      "execution_count": 14,
      "metadata": {
        "id": "ZVszqW_eAlDg"
      },
      "outputs": [],
      "source": [
        "class CNN_Net2(nn.Module):\n",
        "    def __init__(self):\n",
        "        super(CNN_Net2, self).__init__()\n",
        "        self.conv1 = nn.Conv2d( in_channels=3 , out_channels=32 , kernel_size=(3, 3))\n",
        "        self.pool1 = nn.MaxPool2d( kernel_size = (2,2), stride = None, padding = 0 )\n",
        "        self.conv3 = nn.Conv2d( in_channels=32, out_channels=64 , kernel_size=(3, 3))\n",
        "        self.pool2 = nn.MaxPool2d( kernel_size = (2,2), stride = None, padding = 0 )\n",
        "        self.fc1   = nn.Linear(in_features= 7488 , out_features = 512)\n",
        "        self.fc2   = nn.Linear(in_features= 512, out_features = 7)\n",
        "        self.Act   = nn.ReLU(inplace=True)\n",
        "    def forward(self, x):\n",
        "        out = self.Act(self.conv1(x))\n",
        "        out = self.Act(self.pool1(out))\n",
        "        out = self.Act(self.conv3(out))\n",
        "        out = self.Act(self.pool2(out))\n",
        "        out = torch.flatten(out, 1) \n",
        "        out = self.Act(self.fc1(out))\n",
        "        out = self.Act(self.fc2(out))\n",
        "        return out"
      ]
    },
    {
      "cell_type": "code",
      "execution_count": 15,
      "metadata": {
        "id": "_oz6q7CYAlDg"
      },
      "outputs": [],
      "source": [
        "class CNN_Net3(nn.Module):\n",
        "    def __init__(self):\n",
        "        super(CNN_Net3, self).__init__()\n",
        "        self.conv1 = nn.Conv2d( in_channels=3 , out_channels=32 , kernel_size=(3, 3))\n",
        "        self.pool1 = nn.MaxPool2d( kernel_size = (2,2), stride = None, padding = 0 )\n",
        "        self.conv3 = nn.Conv2d( in_channels=32, out_channels=64 , kernel_size=(3, 3))\n",
        "        self.pool2 = nn.MaxPool2d( kernel_size = (2,2), stride = None, padding = 0 )\n",
        "        self.fc1   = nn.Linear(in_features= 7488 , out_features = 512)\n",
        "        self.fc2   = nn.Linear(in_features= 512, out_features = 7)\n",
        "        self.Act   = nn.LeakyReLU(inplace=True)\n",
        "        self.dropout = nn.Dropout(0.25)\n",
        "    def forward(self, x):\n",
        "        out = self.Act(self.conv1(x))\n",
        "        out = self.Act(self.pool1(out))\n",
        "        out = self.Act(self.conv3(out))\n",
        "        out = self.Act(self.pool2(out))\n",
        "        out = self.dropout(out)\n",
        "        out = torch.flatten(out, 1) \n",
        "        out = self.Act(self.fc1(out))\n",
        "        out = self.Act(self.fc2(out))\n",
        "        return out"
      ]
    },
    {
      "cell_type": "markdown",
      "metadata": {
        "id": "P5Zfb1SkAlDg"
      },
      "source": [
        "# **Test Nets**"
      ]
    },
    {
      "cell_type": "code",
      "execution_count": 16,
      "metadata": {
        "colab": {
          "base_uri": "https://localhost:8080/"
        },
        "id": "OJTfTtmfAlDg",
        "outputId": "ed95d505-3e8f-46a2-be10-2c934426abc8"
      },
      "outputs": [
        {
          "output_type": "execute_result",
          "data": {
            "text/plain": [
              "torch.Size([5, 7])"
            ]
          },
          "metadata": {},
          "execution_count": 16
        }
      ],
      "source": [
        "model_test = CNN_Net2()\n",
        "X_ = input_data[0][0:5]\n",
        "out = model_test(X_)\n",
        "out.shape"
      ]
    },
    {
      "cell_type": "markdown",
      "metadata": {
        "id": "XWC5a989AlDg"
      },
      "source": [
        "# **Confusion-Matrix & Accuracy**"
      ]
    },
    {
      "cell_type": "code",
      "execution_count": 17,
      "metadata": {
        "id": "pBE96mxDAlDg"
      },
      "outputs": [],
      "source": [
        "def confusion_matrix(Y,Y_pred):\n",
        "    CM = sk.metrics.confusion_matrix(Y,Y_pred)\n",
        "    print('Nr. of Data : \\n', CM.sum())\n",
        "    print('Accuracy of The Model : \\n', np.diag(CM).sum()/CM.sum())\n",
        "    # print('Confusion Matrix : \\n', CM)\n",
        "    # print('Weighted Avg. of sensitivity : \\n', np.average(np.nan_to_num(sensitivity), weights=weights))\n",
        "    # print('Weighted Avg. of specificity : \\n', np.average(np.nan_to_num(specificity), weights=weights))\n",
        "    sk.metrics.ConfusionMatrixDisplay(CM).plot()\n",
        "    # print('------- Precision recal %--------')\n",
        "    # print(sk.metrics.classification_report(Y,Y_pred))\n",
        "    # print('------- confusion matrix--------')\n",
        "\n",
        "    FP = CM.sum(axis=0) - np.diag(CM) \n",
        "    FN = CM.sum(axis=1) - np.diag(CM)\n",
        "    TP = np.diag(CM)\n",
        "    TN = CM.sum() - (FP + FN + TP)\n",
        "    weights = CM.sum(axis=1) / CM.sum() \n",
        "    ACC = np.nan_to_num((TP+TN)/(TP+FP+FN+TN) , nan=0)\n",
        "    Recall_Sensitivity = np.nan_to_num(TP/(TP+FN) , nan=0)\n",
        "    Specificity = np.nan_to_num(TN/(TN+FP) , nan=0)\n",
        "    Precision = np.nan_to_num(TP/(TP+FP) , nan=0)\n",
        "    f1_score = np.nan_to_num( 2*Precision*Recall_Sensitivity / (Recall_Sensitivity + Precision), nan=0)\n",
        "    Performance_DF = pd.concat([pd.DataFrame(CM),pd.DataFrame(weights, columns=['weights']),pd.DataFrame(Precision, columns=['Precision']),pd.DataFrame(Recall_Sensitivity,columns=['Recall_Sensitivity'])\n",
        "        ,pd.DataFrame(Specificity, columns=['Specificity']),pd.DataFrame(f1_score, columns=['f1_score'])], axis=1)\n",
        "    total_row1 = pd.Series({'Precision':mean(Precision),'Recall_Sensitivity':mean(Recall_Sensitivity),'Specificity':mean(Specificity),'f1_score':mean(f1_score)}, name='Simple Avg.')\n",
        "    total_row2 = pd.Series({'Precision':sum(weights*Precision),'Recall_Sensitivity':sum(weights*Recall_Sensitivity),'Specificity':sum(weights*Specificity),'f1_score':sum(weights*f1_score)}, name='Weighted Avg.')\n",
        "    Performance_DF = Performance_DF.append([total_row1,total_row2])\n",
        "    cols = ['weights','Precision','Recall_Sensitivity','Specificity','f1_score']\n",
        "    per_details = Performance_DF[cols].style.format({'weights': \"{:.1%}\",'Precision': \"{:.1%}\",'Recall_Sensitivity': \"{:.1%}\",'Specificity': \"{:.1%}\",'f1_score': \"{:.1%}\"})\n",
        "    return per_details"
      ]
    },
    {
      "cell_type": "markdown",
      "metadata": {
        "id": "4XV23bjxXUi7",
        "tags": []
      },
      "source": [
        "### **1.3 Training**"
      ]
    },
    {
      "cell_type": "code",
      "execution_count": 18,
      "metadata": {
        "id": "9cbadb2d"
      },
      "outputs": [],
      "source": [
        "class Model_Training:\n",
        "\n",
        "    def __init__(self, Net, LR, batch_size , Momentum, epochs, weight_decay, loss_func, opt_func, X_train, Y_train, X_valid, Y_valid, print_epochs):    \n",
        "        \n",
        "        self.model = Net().to(device)\n",
        "        if opt_func is torch.optim.Adam:\n",
        "            self.opt = opt_func(self.model.parameters(), lr=LR, weight_decay=weight_decay)\n",
        "        else:\n",
        "            self.opt = opt_func(self.model.parameters(), lr=LR,momentum=Momentum, weight_decay=weight_decay)\n",
        "\n",
        "        self.loss_func = loss_func()\n",
        "        self.epochs = epochs\n",
        "        self.print_epochs = print_epochs\n",
        "        self.X_train = X_train.to(device)\n",
        "        self.Y_train = Y_train.to(device)\n",
        "        self.X_valid = X_valid.to(device)\n",
        "        self.Y_valid = Y_valid.to(device)\n",
        "        self.batch_size = batch_size\n",
        "        self.Epochs_Train_loss = []\n",
        "        self.Epochs_Train_Acc = []\n",
        "        self.Epochs_Val_loss = []\n",
        "        self.Epochs_Val_Acc = []\n",
        "\n",
        "    def train(self):\n",
        "        \n",
        "        model = self.model\n",
        "        loss_fn = self.loss_func\n",
        "        opt = self.opt \n",
        "        batch_size = self.batch_size\n",
        "        nr_of_steps_train =  self.X_train.shape[0]//self.batch_size \n",
        "        nr_of_steps_valid =  self.X_valid.shape[0]//self.batch_size \n",
        "\n",
        "        for epoch in range(1, self.epochs+1 ):\n",
        "            start_time=time.time()\n",
        "            steps_train_loss = []\n",
        "            steps_train_Acc = []\n",
        "            steps_val_loss = []\n",
        "            steps_val_Acc = []\n",
        "\n",
        "            for i in range(0, nr_of_steps_train ):#train_arrays_std.shape[0]):\n",
        "                X = self.X_train[i* batch_size:(i+1) * batch_size]\n",
        "                Y = self.Y_train[i * batch_size:(i+1) * batch_size]\n",
        "                opt.zero_grad()\n",
        "                model.train()\n",
        "                y_pred = model.forward(X)\n",
        "                loss = loss_fn(y_pred, Y)\n",
        "                loss.backward()\n",
        "                opt.step()\n",
        "                y_pred_labels = y_pred.argmax(axis=1)\n",
        "                nr_of_corrects = (y_pred_labels == Y).sum().item()\n",
        "                step_acc = nr_of_corrects / batch_size\n",
        "                steps_train_Acc.append(step_acc)\n",
        "                steps_train_loss.append(loss.item())\n",
        "\n",
        "                # if (i+1) % 200 == 0:    # print every 2000 mini-batches\n",
        "                #     print('[Epoch: {}, Nr. Batch: {}]  , Train-Steps-loss: {:.1f} , running_acc: {:.1%}'.format(epoch , i+1 , train_steps_loss , batch_nr_correct / train_nr_total))\n",
        "                #     self.train_steps_acc = []\n",
        "                #     train_steps_loss = 0\n",
        "\n",
        "              #validation loss calculation\n",
        "            for j in range(0,nr_of_steps_valid):\n",
        "\n",
        "                val_X = self.X_valid[j*batch_size:(j+1)*batch_size]\n",
        "                val_Y = self.Y_valid[j*batch_size:(j+1)*batch_size]\n",
        "                model.eval()\n",
        "                # val_inputs = val_inputs.to(device)\n",
        "                # val_labels = val_labels.to(device)\n",
        "                val_outputs = model(val_X)\n",
        "                val_loss = loss_fn(val_outputs, val_Y)\n",
        "                val_epoch_loss = val_loss.item()\n",
        "                val_outputs_lbs= val_outputs.argmax(axis=1)\n",
        "                val_nr_correct = (val_outputs_lbs == val_Y).sum().item()\n",
        "                step_acc = val_nr_correct / batch_size\n",
        "                steps_val_Acc.append(step_acc)\n",
        "                steps_val_loss.append(val_epoch_loss)\n",
        "            \n",
        "            # Epoch Performance Metrics\n",
        "            train_epoch_loss = mean(steps_train_loss)\n",
        "            train_epoch_Acc = mean(steps_train_Acc)\n",
        "            self.Epochs_Train_loss.append(train_epoch_loss)\n",
        "            self.Epochs_Train_Acc.append(train_epoch_Acc)   \n",
        "            val_epoch_loss = mean(steps_val_loss)\n",
        "            val_epoch_Acc = mean(steps_val_Acc)\n",
        "            self.Epochs_Val_loss.append(val_epoch_loss)\n",
        "            self.Epochs_Val_Acc.append(val_epoch_Acc)\n",
        "            End_time = time.time() \n",
        "            if self.print_epochs:\n",
        "                print('[Epoch: {}]  , Train_loss: {:.1f} , Train_Acc: {:.1%}, Val_loss: {:.1f} , Val_Acc: {:.1%} , run time: {}'.format(epoch , train_epoch_loss , train_epoch_Acc , val_epoch_loss , val_epoch_Acc, np.round(End_time - start_time, 2)))\n",
        "            \n",
        "        # print('Finished Training')"
      ]
    },
    {
      "cell_type": "markdown",
      "metadata": {
        "id": "0w-7sG3Slop1"
      },
      "source": [
        "# **Define Training data**"
      ]
    },
    {
      "cell_type": "code",
      "execution_count": 19,
      "metadata": {
        "id": "VcVMyCfZlwHO"
      },
      "outputs": [],
      "source": [
        "X_train = input_data[3]\n",
        "Y_train = labels[3]\n",
        "X_valid = input_data[2]\n",
        "Y_valid = labels[2]\n",
        "X_test = input_data[2]\n",
        "Y_test = labels[2]"
      ]
    },
    {
      "cell_type": "markdown",
      "metadata": {
        "id": "geKyTRJ8AlDh"
      },
      "source": [
        "# **Model by Grid**"
      ]
    },
    {
      "cell_type": "code",
      "execution_count": 20,
      "metadata": {
        "id": "VL5FxPLAAlDi"
      },
      "outputs": [],
      "source": [
        "Net = [CNN_Net3]\n",
        "LR = [0.0012,0.0015,0.0018,0.01]\n",
        "batch_size = [30,50]\n",
        "Momentum = [0.72,0.78,0.8]\n",
        "epochs = [50]\n",
        "weight_decay = [0,0.000001,0.0000001,0.0000002]\n",
        "loss_func  =  [nn.CrossEntropyLoss]\n",
        "opt_func = [torch.optim.SGD]\n",
        "\n",
        "grid = {\n",
        "    'Net' : Net\n",
        "    ,'LR' : LR\n",
        "    ,'batch_size' : batch_size\n",
        "    ,'Momentum' : Momentum\n",
        "    ,'epochs' : epochs\n",
        "    ,'weight_decay' :weight_decay\n",
        "    ,'loss_func'  :loss_func\n",
        "    ,'opt_func' : opt_func\n",
        "}\n",
        "params = sk.model_selection.ParameterGrid(grid)"
      ]
    },
    {
      "cell_type": "code",
      "execution_count": 21,
      "metadata": {
        "id": "hEkHc_7xAlDi",
        "colab": {
          "base_uri": "https://localhost:8080/"
        },
        "outputId": "55315766-1152-47ad-86a4-b704fde122d1"
      },
      "outputs": [
        {
          "output_type": "stream",
          "name": "stderr",
          "text": [
            "Test Accuracy 0.572347266881029: 100%|██████████████████████████████| 96/96 [25:06<00:00, 15.70s/it]\n"
          ]
        }
      ],
      "source": [
        "Hyper_Details = pd.DataFrame(columns=['hyper_param','train_accuracy','valid_accuracy','test_accuracy','train_fscore','valid_fscore','test_fscore','train_precision','valid_precision','test_precision'\n",
        "                                    ,'train_recall','valid_recall','test_recall'])\n",
        "                                    \n",
        "print_epochs = False\n",
        "\n",
        "pbar = tqdm(params, ncols = 100, desc =\"Parameter-Level\")\n",
        "for p in pbar:\n",
        "    Model_ = Model_Training(**p, X_train = X_train , Y_train = Y_train, X_valid = X_valid , Y_valid= Y_valid, print_epochs = print_epochs)\n",
        "    np.random.seed(0)\n",
        "    random.seed(0)\n",
        "    torch.manual_seed(0)\n",
        "    Model_.train()\n",
        "    \n",
        "    model_ = Model_.model.eval()\n",
        "\n",
        "    # Train\n",
        "    Y_pred = model_(X_train.to(device)).argmax(axis=1)\n",
        "    Y = Y_train\n",
        "    train_accuracy = sk.metrics.accuracy_score(Y_pred.to('cpu'),Y.to('cpu') )\n",
        "\n",
        "    train_precision, train_recall, train_fscore, m = sk.metrics.precision_recall_fscore_support(Y_pred.to('cpu'),Y.to('cpu'), average = 'weighted')\n",
        "\n",
        "    # Valid\n",
        "    Y_pred = model_(X_valid.to(device)).argmax(axis=1)\n",
        "    Y = Y_valid\n",
        "    valid_accuracy = sk.metrics.accuracy_score(Y_pred.to('cpu'),Y.to('cpu') )\n",
        "    valid_precision, valid_recall, valid_fscore, m = sk.metrics.precision_recall_fscore_support(Y_pred.to('cpu'),Y.to('cpu'), average = 'weighted')\n",
        "\n",
        "    # Test\n",
        "    Y_pred = model_(X_test.to(device)).argmax(axis=1)\n",
        "    Y = Y_test\n",
        "    test_accuracy = sk.metrics.accuracy_score(Y_pred.to('cpu'),Y.to('cpu') )\n",
        "    test_precision, test_recall, test_fscore, m = sk.metrics.precision_recall_fscore_support(Y_pred.to('cpu'),Y.to('cpu'), average = 'weighted')\n",
        "\n",
        "    pbar.set_description(\"Test Accuracy %s\" % test_accuracy)\n",
        "\n",
        "    new_row = pd.Series({'hyper_param':p,'train_accuracy':train_accuracy,'valid_accuracy':valid_accuracy,'test_accuracy':test_accuracy,'train_fscore':train_fscore,'valid_fscore':valid_fscore,'test_fscore':test_fscore\n",
        "    ,'train_precision':train_precision,'valid_precision':valid_precision,'test_precision':test_precision,'train_recall':train_recall,'valid_recall':valid_recall,'test_recall':test_recall}, name='')\n",
        "    Hyper_Details = Hyper_Details.append(new_row)\n",
        "\n",
        "best_one = np.argmax(Hyper_Details.test_fscore)\n",
        "best_param = Hyper_Details.iloc[best_one]['hyper_param']\n",
        "best_params = Hyper_Details.sort_values('test_accuracy',ascending=False)['hyper_param'][:4]\n",
        "\n",
        "CNN_Details = Hyper_Details.sort_values('test_accuracy', ascending=False)\n",
        "CNN_Details.to_csv('SkinCare_60x45_param_Details.csv')\n",
        "Model_Grid = Model_Training(**best_param, X_train = X_train, Y_train = Y_train, X_valid = X_valid, Y_valid= Y_valid, print_epochs = print_epochs)\n",
        "np.random.seed(0)\n",
        "random.seed(0)\n",
        "torch.manual_seed(0)\n",
        "Model_Grid.train()"
      ]
    },
    {
      "cell_type": "code",
      "source": [
        "CNN_Details['test_accuracy'][:5], CNN_Details['hyper_param'][0]"
      ],
      "metadata": {
        "colab": {
          "base_uri": "https://localhost:8080/"
        },
        "id": "xYYE7g4ndwqo",
        "outputId": "ca5cb8d5-5d74-4402-cfa8-a14ff56098ae"
      },
      "execution_count": 22,
      "outputs": [
        {
          "output_type": "execute_result",
          "data": {
            "text/plain": [
              "(    0.630225\n",
              "     0.627010\n",
              "     0.627010\n",
              "     0.623794\n",
              "     0.623794\n",
              " Name: test_accuracy, dtype: float64,\n",
              " {'LR': 0.0015,\n",
              "  'Momentum': 0.78,\n",
              "  'Net': __main__.CNN_Net3,\n",
              "  'batch_size': 30,\n",
              "  'epochs': 50,\n",
              "  'loss_func': torch.nn.modules.loss.CrossEntropyLoss,\n",
              "  'opt_func': torch.optim.sgd.SGD,\n",
              "  'weight_decay': 0})"
            ]
          },
          "metadata": {},
          "execution_count": 22
        }
      ]
    },
    {
      "cell_type": "code",
      "execution_count": 23,
      "metadata": {
        "colab": {
          "base_uri": "https://localhost:8080/"
        },
        "id": "KhCs-5zNEHDh",
        "outputId": "4415439f-b789-4a80-930c-7b2969b6399c"
      },
      "outputs": [
        {
          "output_type": "stream",
          "name": "stdout",
          "text": [
            "{'LR': 0.0015, 'Momentum': 0.78, 'Net': <class '__main__.CNN_Net3'>, 'batch_size': 30, 'epochs': 50, 'loss_func': <class 'torch.nn.modules.loss.CrossEntropyLoss'>, 'opt_func': <class 'torch.optim.sgd.SGD'>, 'weight_decay': 0}\n",
            "{'LR': 0.0018, 'Momentum': 0.72, 'Net': <class '__main__.CNN_Net3'>, 'batch_size': 30, 'epochs': 50, 'loss_func': <class 'torch.nn.modules.loss.CrossEntropyLoss'>, 'opt_func': <class 'torch.optim.sgd.SGD'>, 'weight_decay': 1e-07}\n",
            "{'LR': 0.0012, 'Momentum': 0.78, 'Net': <class '__main__.CNN_Net3'>, 'batch_size': 30, 'epochs': 50, 'loss_func': <class 'torch.nn.modules.loss.CrossEntropyLoss'>, 'opt_func': <class 'torch.optim.sgd.SGD'>, 'weight_decay': 1e-06}\n",
            "{'LR': 0.0018, 'Momentum': 0.72, 'Net': <class '__main__.CNN_Net3'>, 'batch_size': 30, 'epochs': 50, 'loss_func': <class 'torch.nn.modules.loss.CrossEntropyLoss'>, 'opt_func': <class 'torch.optim.sgd.SGD'>, 'weight_decay': 0}\n"
          ]
        }
      ],
      "source": [
        "for i in best_params: print(i)"
      ]
    },
    {
      "cell_type": "code",
      "execution_count": 24,
      "metadata": {
        "colab": {
          "base_uri": "https://localhost:8080/",
          "height": 665
        },
        "id": "2XilnnvICU8q",
        "outputId": "0b1c69f9-f39a-4ade-9612-10ad3f0d1344"
      },
      "outputs": [
        {
          "output_type": "stream",
          "name": "stdout",
          "text": [
            "Nr. of Data : \n",
            " 311\n",
            "Accuracy of The Model : \n",
            " 0.6237942122186495\n"
          ]
        },
        {
          "output_type": "execute_result",
          "data": {
            "text/plain": [
              "<pandas.io.formats.style.Styler at 0x7f5f903ea050>"
            ],
            "text/html": [
              "<style type=\"text/css\">\n",
              "</style>\n",
              "<table id=\"T_f691f_\" class=\"dataframe\">\n",
              "  <thead>\n",
              "    <tr>\n",
              "      <th class=\"blank level0\" >&nbsp;</th>\n",
              "      <th class=\"col_heading level0 col0\" >weights</th>\n",
              "      <th class=\"col_heading level0 col1\" >Precision</th>\n",
              "      <th class=\"col_heading level0 col2\" >Recall_Sensitivity</th>\n",
              "      <th class=\"col_heading level0 col3\" >Specificity</th>\n",
              "      <th class=\"col_heading level0 col4\" >f1_score</th>\n",
              "    </tr>\n",
              "  </thead>\n",
              "  <tbody>\n",
              "    <tr>\n",
              "      <th id=\"T_f691f_level0_row0\" class=\"row_heading level0 row0\" >0</th>\n",
              "      <td id=\"T_f691f_row0_col0\" class=\"data row0 col0\" >5.8%</td>\n",
              "      <td id=\"T_f691f_row0_col1\" class=\"data row0 col1\" >52.9%</td>\n",
              "      <td id=\"T_f691f_row0_col2\" class=\"data row0 col2\" >50.0%</td>\n",
              "      <td id=\"T_f691f_row0_col3\" class=\"data row0 col3\" >97.3%</td>\n",
              "      <td id=\"T_f691f_row0_col4\" class=\"data row0 col4\" >51.4%</td>\n",
              "    </tr>\n",
              "    <tr>\n",
              "      <th id=\"T_f691f_level0_row1\" class=\"row_heading level0 row1\" >1</th>\n",
              "      <td id=\"T_f691f_row1_col0\" class=\"data row1 col0\" >10.0%</td>\n",
              "      <td id=\"T_f691f_row1_col1\" class=\"data row1 col1\" >53.8%</td>\n",
              "      <td id=\"T_f691f_row1_col2\" class=\"data row1 col2\" >67.7%</td>\n",
              "      <td id=\"T_f691f_row1_col3\" class=\"data row1 col3\" >93.6%</td>\n",
              "      <td id=\"T_f691f_row1_col4\" class=\"data row1 col4\" >60.0%</td>\n",
              "    </tr>\n",
              "    <tr>\n",
              "      <th id=\"T_f691f_level0_row2\" class=\"row_heading level0 row2\" >2</th>\n",
              "      <td id=\"T_f691f_row2_col0\" class=\"data row2 col0\" >23.5%</td>\n",
              "      <td id=\"T_f691f_row2_col1\" class=\"data row2 col1\" >63.6%</td>\n",
              "      <td id=\"T_f691f_row2_col2\" class=\"data row2 col2\" >57.5%</td>\n",
              "      <td id=\"T_f691f_row2_col3\" class=\"data row2 col3\" >89.9%</td>\n",
              "      <td id=\"T_f691f_row2_col4\" class=\"data row2 col4\" >60.4%</td>\n",
              "    </tr>\n",
              "    <tr>\n",
              "      <th id=\"T_f691f_level0_row3\" class=\"row_heading level0 row3\" >3</th>\n",
              "      <td id=\"T_f691f_row3_col0\" class=\"data row3 col0\" >2.6%</td>\n",
              "      <td id=\"T_f691f_row3_col1\" class=\"data row3 col1\" >50.0%</td>\n",
              "      <td id=\"T_f691f_row3_col2\" class=\"data row3 col2\" >12.5%</td>\n",
              "      <td id=\"T_f691f_row3_col3\" class=\"data row3 col3\" >99.7%</td>\n",
              "      <td id=\"T_f691f_row3_col4\" class=\"data row3 col4\" >20.0%</td>\n",
              "    </tr>\n",
              "    <tr>\n",
              "      <th id=\"T_f691f_level0_row4\" class=\"row_heading level0 row4\" >4</th>\n",
              "      <td id=\"T_f691f_row4_col0\" class=\"data row4 col0\" >21.5%</td>\n",
              "      <td id=\"T_f691f_row4_col1\" class=\"data row4 col1\" >64.9%</td>\n",
              "      <td id=\"T_f691f_row4_col2\" class=\"data row4 col2\" >35.8%</td>\n",
              "      <td id=\"T_f691f_row4_col3\" class=\"data row4 col3\" >94.7%</td>\n",
              "      <td id=\"T_f691f_row4_col4\" class=\"data row4 col4\" >46.2%</td>\n",
              "    </tr>\n",
              "    <tr>\n",
              "      <th id=\"T_f691f_level0_row5\" class=\"row_heading level0 row5\" >5</th>\n",
              "      <td id=\"T_f691f_row5_col0\" class=\"data row5 col0\" >31.8%</td>\n",
              "      <td id=\"T_f691f_row5_col1\" class=\"data row5 col1\" >62.6%</td>\n",
              "      <td id=\"T_f691f_row5_col2\" class=\"data row5 col2\" >87.9%</td>\n",
              "      <td id=\"T_f691f_row5_col3\" class=\"data row5 col3\" >75.5%</td>\n",
              "      <td id=\"T_f691f_row5_col4\" class=\"data row5 col4\" >73.1%</td>\n",
              "    </tr>\n",
              "    <tr>\n",
              "      <th id=\"T_f691f_level0_row6\" class=\"row_heading level0 row6\" >6</th>\n",
              "      <td id=\"T_f691f_row6_col0\" class=\"data row6 col0\" >4.8%</td>\n",
              "      <td id=\"T_f691f_row6_col1\" class=\"data row6 col1\" >90.9%</td>\n",
              "      <td id=\"T_f691f_row6_col2\" class=\"data row6 col2\" >66.7%</td>\n",
              "      <td id=\"T_f691f_row6_col3\" class=\"data row6 col3\" >99.7%</td>\n",
              "      <td id=\"T_f691f_row6_col4\" class=\"data row6 col4\" >76.9%</td>\n",
              "    </tr>\n",
              "    <tr>\n",
              "      <th id=\"T_f691f_level0_row7\" class=\"row_heading level0 row7\" >Simple Avg.</th>\n",
              "      <td id=\"T_f691f_row7_col0\" class=\"data row7 col0\" >nan%</td>\n",
              "      <td id=\"T_f691f_row7_col1\" class=\"data row7 col1\" >62.7%</td>\n",
              "      <td id=\"T_f691f_row7_col2\" class=\"data row7 col2\" >54.0%</td>\n",
              "      <td id=\"T_f691f_row7_col3\" class=\"data row7 col3\" >92.9%</td>\n",
              "      <td id=\"T_f691f_row7_col4\" class=\"data row7 col4\" >55.4%</td>\n",
              "    </tr>\n",
              "    <tr>\n",
              "      <th id=\"T_f691f_level0_row8\" class=\"row_heading level0 row8\" >Weighted Avg.</th>\n",
              "      <td id=\"T_f691f_row8_col0\" class=\"data row8 col0\" >nan%</td>\n",
              "      <td id=\"T_f691f_row8_col1\" class=\"data row8 col1\" >62.9%</td>\n",
              "      <td id=\"T_f691f_row8_col2\" class=\"data row8 col2\" >62.4%</td>\n",
              "      <td id=\"T_f691f_row8_col3\" class=\"data row8 col3\" >87.9%</td>\n",
              "      <td id=\"T_f691f_row8_col4\" class=\"data row8 col4\" >60.6%</td>\n",
              "    </tr>\n",
              "  </tbody>\n",
              "</table>\n"
            ]
          },
          "metadata": {},
          "execution_count": 24
        },
        {
          "output_type": "display_data",
          "data": {
            "text/plain": [
              "<Figure size 432x288 with 2 Axes>"
            ],
            "image/png": "[encoded data removed]"
          },
          "metadata": {
            "needs_background": "light"
          }
        }
      ],
      "source": [
        "model_ = Model_Grid.model.eval()\n",
        "X = input_data[2].to(device)\n",
        "Y = labels[2].to(device)\n",
        "Y_pred = model_(X).argmax(dim=1)\n",
        "confusion_matrix(Y.to('cpu'),Y_pred.to('cpu'))"
      ]
    },
    {
      "cell_type": "code",
      "execution_count": 25,
      "metadata": {
        "colab": {
          "base_uri": "https://localhost:8080/",
          "height": 298
        },
        "id": "Vjhuvwf_AlDi",
        "outputId": "cd268183-fdcc-497a-f987-eaf141c4149f"
      },
      "outputs": [
        {
          "output_type": "display_data",
          "data": {
            "text/plain": [
              "<Figure size 432x288 with 1 Axes>"
            ],
            "image/png": "[encoded data removed]"
          },
          "metadata": {
            "needs_background": "light"
          }
        }
      ],
      "source": [
        "model_ = Model_Grid\n",
        "epochs_X = [i for i in range(1, model_.epochs+1)]\n",
        "epochs_X\n",
        "plt.subplots(figsize=(6,4))\n",
        "\n",
        "plt.plot(epochs_X , model_.Epochs_Train_loss, 'o-', label='Train loss')\n",
        "plt.plot(epochs_X , model_.Epochs_Val_loss,'ro-', label='Validation loss')\n",
        "plt.xlabel(\"Epochs\", fontsize = 12)\n",
        "plt.ylabel(\"Loss\", fontsize = 12)\n",
        "plt.grid()\n",
        "plt.legend()\n",
        "plt.title('Train and Validation loss by epochs')\n",
        "plt.show()"
      ]
    },
    {
      "cell_type": "code",
      "execution_count": 26,
      "metadata": {
        "colab": {
          "base_uri": "https://localhost:8080/",
          "height": 298
        },
        "id": "Qcr7YNOoAlDi",
        "outputId": "a4c310ed-8006-4893-bdd1-f66c08ddd2dd"
      },
      "outputs": [
        {
          "output_type": "display_data",
          "data": {
            "text/plain": [
              "<Figure size 432x288 with 1 Axes>"
            ],
            "image/png": "[encoded data removed]"
          },
          "metadata": {
            "needs_background": "light"
          }
        }
      ],
      "source": [
        "model_ = Model_Grid\n",
        "epochs_X = [i for i in range(1, model_.epochs+1)]\n",
        "epochs_X\n",
        "plt.subplots(figsize=(6,4))\n",
        "\n",
        "plt.plot(epochs_X , model_.Epochs_Train_Acc, 'o-', label='Train Accuracy')\n",
        "plt.plot(epochs_X , model_.Epochs_Val_Acc,'ro-', label='Validation Accuracy')\n",
        "plt.xlabel(\"Epochs\", fontsize = 12)\n",
        "plt.ylabel(\"Accuracy\", fontsize = 12)\n",
        "plt.grid()\n",
        "plt.legend()\n",
        "plt.title('Train and Validation Accuracy by epochs')\n",
        "plt.show()"
      ]
    },
    {
      "cell_type": "markdown",
      "metadata": {
        "id": "Ksq8mnI2AlDj"
      },
      "source": [
        "# **Model 1**"
      ]
    },
    {
      "cell_type": "code",
      "execution_count": 27,
      "metadata": {
        "id": "IuKLgrZ4Q_xz"
      },
      "outputs": [],
      "source": [
        "param1 = {'LR': 0.0015,\n",
        " 'Momentum': 0.8,\n",
        " 'Net': CNN_Net3,\n",
        " 'batch_size': 30,\n",
        " 'epochs': 50,\n",
        " 'loss_func': torch.nn.modules.loss.CrossEntropyLoss,\n",
        " 'opt_func': torch.optim.SGD,\n",
        " 'weight_decay': 2e-07}"
      ]
    },
    {
      "cell_type": "code",
      "execution_count": 28,
      "metadata": {
        "colab": {
          "base_uri": "https://localhost:8080/"
        },
        "id": "3IRZEblhAlDj",
        "outputId": "f8103cb9-ad17-44f0-bf2d-686be802244d"
      },
      "outputs": [
        {
          "output_type": "stream",
          "name": "stdout",
          "text": [
            "[Epoch: 1]  , Train_loss: 1.7 , Train_Acc: 36.7%, Val_loss: 1.6 , Val_Acc: 40.7% , run time: 0.35\n",
            "[Epoch: 2]  , Train_loss: 1.4 , Train_Acc: 44.1%, Val_loss: 1.5 , Val_Acc: 45.0% , run time: 0.36\n",
            "[Epoch: 3]  , Train_loss: 1.3 , Train_Acc: 47.9%, Val_loss: 1.4 , Val_Acc: 47.3% , run time: 0.36\n",
            "[Epoch: 4]  , Train_loss: 1.3 , Train_Acc: 50.2%, Val_loss: 1.4 , Val_Acc: 48.3% , run time: 0.35\n",
            "[Epoch: 5]  , Train_loss: 1.3 , Train_Acc: 51.1%, Val_loss: 1.4 , Val_Acc: 49.0% , run time: 0.35\n",
            "[Epoch: 6]  , Train_loss: 1.2 , Train_Acc: 52.7%, Val_loss: 1.3 , Val_Acc: 50.7% , run time: 0.35\n",
            "[Epoch: 7]  , Train_loss: 1.2 , Train_Acc: 53.7%, Val_loss: 1.3 , Val_Acc: 51.3% , run time: 0.35\n",
            "[Epoch: 8]  , Train_loss: 1.2 , Train_Acc: 54.8%, Val_loss: 1.3 , Val_Acc: 51.7% , run time: 0.35\n",
            "[Epoch: 9]  , Train_loss: 1.2 , Train_Acc: 55.3%, Val_loss: 1.3 , Val_Acc: 51.3% , run time: 0.35\n",
            "[Epoch: 10]  , Train_loss: 1.1 , Train_Acc: 56.1%, Val_loss: 1.2 , Val_Acc: 52.3% , run time: 0.36\n",
            "[Epoch: 11]  , Train_loss: 1.1 , Train_Acc: 57.3%, Val_loss: 1.2 , Val_Acc: 53.0% , run time: 0.35\n",
            "[Epoch: 12]  , Train_loss: 1.1 , Train_Acc: 58.6%, Val_loss: 1.2 , Val_Acc: 55.0% , run time: 0.35\n",
            "[Epoch: 13]  , Train_loss: 1.1 , Train_Acc: 59.2%, Val_loss: 1.1 , Val_Acc: 54.7% , run time: 0.35\n",
            "[Epoch: 14]  , Train_loss: 1.0 , Train_Acc: 60.6%, Val_loss: 1.1 , Val_Acc: 57.0% , run time: 0.35\n",
            "[Epoch: 15]  , Train_loss: 1.0 , Train_Acc: 60.6%, Val_loss: 1.1 , Val_Acc: 57.3% , run time: 0.36\n",
            "[Epoch: 16]  , Train_loss: 1.0 , Train_Acc: 61.5%, Val_loss: 1.1 , Val_Acc: 58.7% , run time: 0.35\n",
            "[Epoch: 17]  , Train_loss: 1.0 , Train_Acc: 62.3%, Val_loss: 1.1 , Val_Acc: 59.3% , run time: 0.35\n",
            "[Epoch: 18]  , Train_loss: 1.0 , Train_Acc: 62.7%, Val_loss: 1.1 , Val_Acc: 59.3% , run time: 0.36\n",
            "[Epoch: 19]  , Train_loss: 0.9 , Train_Acc: 63.5%, Val_loss: 1.1 , Val_Acc: 60.3% , run time: 0.35\n",
            "[Epoch: 20]  , Train_loss: 0.9 , Train_Acc: 64.4%, Val_loss: 1.1 , Val_Acc: 60.3% , run time: 0.36\n",
            "[Epoch: 21]  , Train_loss: 0.9 , Train_Acc: 64.5%, Val_loss: 1.1 , Val_Acc: 60.7% , run time: 0.35\n",
            "[Epoch: 22]  , Train_loss: 0.9 , Train_Acc: 66.3%, Val_loss: 1.1 , Val_Acc: 60.7% , run time: 0.35\n",
            "[Epoch: 23]  , Train_loss: 0.9 , Train_Acc: 65.4%, Val_loss: 1.1 , Val_Acc: 60.7% , run time: 0.35\n",
            "[Epoch: 24]  , Train_loss: 0.9 , Train_Acc: 66.3%, Val_loss: 1.1 , Val_Acc: 60.7% , run time: 0.35\n",
            "[Epoch: 25]  , Train_loss: 0.9 , Train_Acc: 67.2%, Val_loss: 1.1 , Val_Acc: 60.0% , run time: 0.35\n",
            "[Epoch: 26]  , Train_loss: 0.8 , Train_Acc: 68.3%, Val_loss: 1.1 , Val_Acc: 61.7% , run time: 0.35\n",
            "[Epoch: 27]  , Train_loss: 0.8 , Train_Acc: 69.5%, Val_loss: 1.1 , Val_Acc: 61.7% , run time: 0.35\n",
            "[Epoch: 28]  , Train_loss: 0.8 , Train_Acc: 68.7%, Val_loss: 1.0 , Val_Acc: 61.3% , run time: 0.36\n",
            "[Epoch: 29]  , Train_loss: 0.8 , Train_Acc: 70.0%, Val_loss: 1.1 , Val_Acc: 61.0% , run time: 0.35\n",
            "[Epoch: 30]  , Train_loss: 0.8 , Train_Acc: 70.3%, Val_loss: 1.1 , Val_Acc: 61.0% , run time: 0.35\n",
            "[Epoch: 31]  , Train_loss: 0.8 , Train_Acc: 70.0%, Val_loss: 1.1 , Val_Acc: 61.3% , run time: 0.35\n",
            "[Epoch: 32]  , Train_loss: 0.8 , Train_Acc: 71.3%, Val_loss: 1.1 , Val_Acc: 62.0% , run time: 0.35\n",
            "[Epoch: 33]  , Train_loss: 0.7 , Train_Acc: 71.3%, Val_loss: 1.1 , Val_Acc: 61.7% , run time: 0.35\n",
            "[Epoch: 34]  , Train_loss: 0.7 , Train_Acc: 71.7%, Val_loss: 1.1 , Val_Acc: 62.7% , run time: 0.35\n",
            "[Epoch: 35]  , Train_loss: 0.7 , Train_Acc: 71.8%, Val_loss: 1.1 , Val_Acc: 61.7% , run time: 0.35\n",
            "[Epoch: 36]  , Train_loss: 0.7 , Train_Acc: 73.5%, Val_loss: 1.1 , Val_Acc: 61.3% , run time: 0.35\n",
            "[Epoch: 37]  , Train_loss: 0.7 , Train_Acc: 73.7%, Val_loss: 1.1 , Val_Acc: 62.3% , run time: 0.35\n",
            "[Epoch: 38]  , Train_loss: 0.7 , Train_Acc: 75.8%, Val_loss: 1.1 , Val_Acc: 60.7% , run time: 0.35\n",
            "[Epoch: 39]  , Train_loss: 0.7 , Train_Acc: 75.9%, Val_loss: 1.1 , Val_Acc: 61.3% , run time: 0.35\n",
            "[Epoch: 40]  , Train_loss: 0.6 , Train_Acc: 76.0%, Val_loss: 1.1 , Val_Acc: 62.0% , run time: 0.35\n",
            "[Epoch: 41]  , Train_loss: 0.6 , Train_Acc: 76.8%, Val_loss: 1.1 , Val_Acc: 62.7% , run time: 0.36\n",
            "[Epoch: 42]  , Train_loss: 0.6 , Train_Acc: 77.5%, Val_loss: 1.1 , Val_Acc: 60.7% , run time: 0.35\n",
            "[Epoch: 43]  , Train_loss: 0.6 , Train_Acc: 78.3%, Val_loss: 1.1 , Val_Acc: 62.7% , run time: 0.35\n",
            "[Epoch: 44]  , Train_loss: 0.6 , Train_Acc: 79.6%, Val_loss: 1.2 , Val_Acc: 61.7% , run time: 0.36\n",
            "[Epoch: 45]  , Train_loss: 0.6 , Train_Acc: 79.1%, Val_loss: 1.1 , Val_Acc: 60.7% , run time: 0.35\n",
            "[Epoch: 46]  , Train_loss: 0.5 , Train_Acc: 80.3%, Val_loss: 1.2 , Val_Acc: 61.7% , run time: 0.36\n",
            "[Epoch: 47]  , Train_loss: 0.5 , Train_Acc: 81.0%, Val_loss: 1.2 , Val_Acc: 63.3% , run time: 0.35\n",
            "[Epoch: 48]  , Train_loss: 0.5 , Train_Acc: 82.2%, Val_loss: 1.2 , Val_Acc: 61.0% , run time: 0.36\n",
            "[Epoch: 49]  , Train_loss: 0.5 , Train_Acc: 82.4%, Val_loss: 1.2 , Val_Acc: 63.0% , run time: 0.36\n",
            "[Epoch: 50]  , Train_loss: 0.5 , Train_Acc: 82.5%, Val_loss: 1.2 , Val_Acc: 61.7% , run time: 0.35\n"
          ]
        }
      ],
      "source": [
        "print_epochs = True\n",
        "Model_1 = Model_Training(**param1, X_train = X_train , Y_train = Y_train, X_valid = X_valid , Y_valid= Y_valid, print_epochs = print_epochs)\n",
        "torch.manual_seed(0)\n",
        "Model_1.train()"
      ]
    },
    {
      "cell_type": "code",
      "execution_count": 29,
      "metadata": {
        "colab": {
          "base_uri": "https://localhost:8080/",
          "height": 665
        },
        "id": "huSGH-RsAlDj",
        "outputId": "ed06f100-463f-4ae6-9d44-1f8829807ffc"
      },
      "outputs": [
        {
          "output_type": "stream",
          "name": "stdout",
          "text": [
            "Nr. of Data : \n",
            " 311\n",
            "Accuracy of The Model : \n",
            " 0.6109324758842444\n"
          ]
        },
        {
          "output_type": "execute_result",
          "data": {
            "text/plain": [
              "<pandas.io.formats.style.Styler at 0x7f5f79fd8210>"
            ],
            "text/html": [
              "<style type=\"text/css\">\n",
              "</style>\n",
              "<table id=\"T_1dd6b_\" class=\"dataframe\">\n",
              "  <thead>\n",
              "    <tr>\n",
              "      <th class=\"blank level0\" >&nbsp;</th>\n",
              "      <th class=\"col_heading level0 col0\" >weights</th>\n",
              "      <th class=\"col_heading level0 col1\" >Precision</th>\n",
              "      <th class=\"col_heading level0 col2\" >Recall_Sensitivity</th>\n",
              "      <th class=\"col_heading level0 col3\" >Specificity</th>\n",
              "      <th class=\"col_heading level0 col4\" >f1_score</th>\n",
              "    </tr>\n",
              "  </thead>\n",
              "  <tbody>\n",
              "    <tr>\n",
              "      <th id=\"T_1dd6b_level0_row0\" class=\"row_heading level0 row0\" >0</th>\n",
              "      <td id=\"T_1dd6b_row0_col0\" class=\"data row0 col0\" >7.1%</td>\n",
              "      <td id=\"T_1dd6b_row0_col1\" class=\"data row0 col1\" >55.6%</td>\n",
              "      <td id=\"T_1dd6b_row0_col2\" class=\"data row0 col2\" >45.5%</td>\n",
              "      <td id=\"T_1dd6b_row0_col3\" class=\"data row0 col3\" >97.2%</td>\n",
              "      <td id=\"T_1dd6b_row0_col4\" class=\"data row0 col4\" >50.0%</td>\n",
              "    </tr>\n",
              "    <tr>\n",
              "      <th id=\"T_1dd6b_level0_row1\" class=\"row_heading level0 row1\" >1</th>\n",
              "      <td id=\"T_1dd6b_row1_col0\" class=\"data row1 col0\" >11.9%</td>\n",
              "      <td id=\"T_1dd6b_row1_col1\" class=\"data row1 col1\" >61.3%</td>\n",
              "      <td id=\"T_1dd6b_row1_col2\" class=\"data row1 col2\" >51.4%</td>\n",
              "      <td id=\"T_1dd6b_row1_col3\" class=\"data row1 col3\" >95.6%</td>\n",
              "      <td id=\"T_1dd6b_row1_col4\" class=\"data row1 col4\" >55.9%</td>\n",
              "    </tr>\n",
              "    <tr>\n",
              "      <th id=\"T_1dd6b_level0_row2\" class=\"row_heading level0 row2\" >2</th>\n",
              "      <td id=\"T_1dd6b_row2_col0\" class=\"data row2 col0\" >21.9%</td>\n",
              "      <td id=\"T_1dd6b_row2_col1\" class=\"data row2 col1\" >58.9%</td>\n",
              "      <td id=\"T_1dd6b_row2_col2\" class=\"data row2 col2\" >63.2%</td>\n",
              "      <td id=\"T_1dd6b_row2_col3\" class=\"data row2 col3\" >87.7%</td>\n",
              "      <td id=\"T_1dd6b_row2_col4\" class=\"data row2 col4\" >61.0%</td>\n",
              "    </tr>\n",
              "    <tr>\n",
              "      <th id=\"T_1dd6b_level0_row3\" class=\"row_heading level0 row3\" >3</th>\n",
              "      <td id=\"T_1dd6b_row3_col0\" class=\"data row3 col0\" >1.3%</td>\n",
              "      <td id=\"T_1dd6b_row3_col1\" class=\"data row3 col1\" >12.5%</td>\n",
              "      <td id=\"T_1dd6b_row3_col2\" class=\"data row3 col2\" >25.0%</td>\n",
              "      <td id=\"T_1dd6b_row3_col3\" class=\"data row3 col3\" >97.7%</td>\n",
              "      <td id=\"T_1dd6b_row3_col4\" class=\"data row3 col4\" >16.7%</td>\n",
              "    </tr>\n",
              "    <tr>\n",
              "      <th id=\"T_1dd6b_level0_row4\" class=\"row_heading level0 row4\" >4</th>\n",
              "      <td id=\"T_1dd6b_row4_col0\" class=\"data row4 col0\" >11.3%</td>\n",
              "      <td id=\"T_1dd6b_row4_col1\" class=\"data row4 col1\" >34.3%</td>\n",
              "      <td id=\"T_1dd6b_row4_col2\" class=\"data row4 col2\" >65.7%</td>\n",
              "      <td id=\"T_1dd6b_row4_col3\" class=\"data row4 col3\" >84.1%</td>\n",
              "      <td id=\"T_1dd6b_row4_col4\" class=\"data row4 col4\" >45.1%</td>\n",
              "    </tr>\n",
              "    <tr>\n",
              "      <th id=\"T_1dd6b_level0_row5\" class=\"row_heading level0 row5\" >5</th>\n",
              "      <td id=\"T_1dd6b_row5_col0\" class=\"data row5 col0\" >43.1%</td>\n",
              "      <td id=\"T_1dd6b_row5_col1\" class=\"data row5 col1\" >84.8%</td>\n",
              "      <td id=\"T_1dd6b_row5_col2\" class=\"data row5 col2\" >62.7%</td>\n",
              "      <td id=\"T_1dd6b_row5_col3\" class=\"data row5 col3\" >91.5%</td>\n",
              "      <td id=\"T_1dd6b_row5_col4\" class=\"data row5 col4\" >72.1%</td>\n",
              "    </tr>\n",
              "    <tr>\n",
              "      <th id=\"T_1dd6b_level0_row6\" class=\"row_heading level0 row6\" >6</th>\n",
              "      <td id=\"T_1dd6b_row6_col0\" class=\"data row6 col0\" >3.5%</td>\n",
              "      <td id=\"T_1dd6b_row6_col1\" class=\"data row6 col1\" >66.7%</td>\n",
              "      <td id=\"T_1dd6b_row6_col2\" class=\"data row6 col2\" >90.9%</td>\n",
              "      <td id=\"T_1dd6b_row6_col3\" class=\"data row6 col3\" >98.3%</td>\n",
              "      <td id=\"T_1dd6b_row6_col4\" class=\"data row6 col4\" >76.9%</td>\n",
              "    </tr>\n",
              "    <tr>\n",
              "      <th id=\"T_1dd6b_level0_row7\" class=\"row_heading level0 row7\" >Simple Avg.</th>\n",
              "      <td id=\"T_1dd6b_row7_col0\" class=\"data row7 col0\" >nan%</td>\n",
              "      <td id=\"T_1dd6b_row7_col1\" class=\"data row7 col1\" >53.4%</td>\n",
              "      <td id=\"T_1dd6b_row7_col2\" class=\"data row7 col2\" >57.8%</td>\n",
              "      <td id=\"T_1dd6b_row7_col3\" class=\"data row7 col3\" >93.2%</td>\n",
              "      <td id=\"T_1dd6b_row7_col4\" class=\"data row7 col4\" >54.0%</td>\n",
              "    </tr>\n",
              "    <tr>\n",
              "      <th id=\"T_1dd6b_level0_row8\" class=\"row_heading level0 row8\" >Weighted Avg.</th>\n",
              "      <td id=\"T_1dd6b_row8_col0\" class=\"data row8 col0\" >nan%</td>\n",
              "      <td id=\"T_1dd6b_row8_col1\" class=\"data row8 col1\" >67.0%</td>\n",
              "      <td id=\"T_1dd6b_row8_col2\" class=\"data row8 col2\" >61.1%</td>\n",
              "      <td id=\"T_1dd6b_row8_col3\" class=\"data row8 col3\" >91.0%</td>\n",
              "      <td id=\"T_1dd6b_row8_col4\" class=\"data row8 col4\" >62.6%</td>\n",
              "    </tr>\n",
              "  </tbody>\n",
              "</table>\n"
            ]
          },
          "metadata": {},
          "execution_count": 29
        },
        {
          "output_type": "display_data",
          "data": {
            "text/plain": [
              "<Figure size 432x288 with 2 Axes>"
            ],
            "image/png": "[encoded data removed]"
          },
          "metadata": {
            "needs_background": "light"
          }
        }
      ],
      "source": [
        "model_ = Model_1.model.eval()\n",
        "X = input_data[2].to(device)\n",
        "Y = labels[2].to(device)v\n",
        "Y_pred = model_(X).argmax(dim=1)\n",
        "confusion_matrix(Y_pred.to('cpu'),Y.to('cpu'))"
      ]
    },
    {
      "cell_type": "markdown",
      "metadata": {
        "id": "GMzwoJOJ2BYX"
      },
      "source": [
        "# **K-Fold Cross Validation**"
      ]
    },
    {
      "cell_type": "code",
      "execution_count": 30,
      "metadata": {
        "colab": {
          "base_uri": "https://localhost:8080/"
        },
        "id": "15sJl9otbNaz",
        "outputId": "d8e9485f-1939-4273-b934-5d2ade38900d"
      },
      "outputs": [
        {
          "output_type": "stream",
          "name": "stderr",
          "text": [
            "Test Accuracy 0.5980707395498392: 100%|███████████████████████████████| 4/4 [05:53<00:00, 88.47s/it]\n"
          ]
        }
      ],
      "source": [
        "K_Folds = sk.model_selection.KFold(n_splits=6, shuffle=True)\n",
        "tensor_subset = torch.utils.data.dataset.Subset\n",
        "\n",
        "print_epochs = False\n",
        "# device = 'mps'\n",
        "\n",
        "CV_data = input_data[3]\n",
        "CV_label = labels[3]\n",
        "X_test = input_data[2]\n",
        "Y_test = labels[2]\n",
        "\n",
        "# CV_Details_ = pd.DataFrame(columns=['test_fscore','test_precision','test_recall'])\n",
        "\n",
        "CV_Details = pd.DataFrame(columns=['hyper_param','train_index','valid_index','train_accuracy','valid_accuracy','test_accuracy','train_fscore','valid_fscore','test_fscore','train_precision','valid_precision','test_precision'\n",
        "                                    ,'train_recall','valid_recall','test_recall'])\n",
        "\n",
        "pbar = tqdm(best_params, ncols = 100, desc = \"Hyper Parameters - Level\")\n",
        "\n",
        "for param in pbar:\n",
        "# for i in range(1):\n",
        "    \n",
        "    for fold, (train_index, valid_index) in enumerate(K_Folds.split(CV_data)):\n",
        "\n",
        "\n",
        "        X_train = CV_data[train_index]\n",
        "        Y_train = CV_label[train_index]\n",
        "        X_valid = CV_data[valid_index]\n",
        "        Y_valid = CV_label[valid_index]\n",
        "\n",
        "        # X_train = tensor_subset(input_data[3],train_index).dataset\n",
        "        # Y_train = tensor_subset(labels[3],train_index).dataset\n",
        "        # X_valid = tensor_subset(input_data[3],valid_index).dataset\n",
        "        # Y_valid = tensor_subset(labels[3],valid_index).dataset\n",
        "\n",
        "        Model_ = Model_Training(**param, X_train = X_train, Y_train = Y_train, X_valid = X_valid, Y_valid= Y_valid, print_epochs = print_epochs)\n",
        "        np.random.seed(0)\n",
        "        random.seed(0)\n",
        "        torch.manual_seed(0)\n",
        "        Model_.train()\n",
        "\n",
        "        model_ = Model_.model.eval()\n",
        "            \n",
        "        # Train\n",
        "        Y_pred = model_(X_train.to(device)).argmax(axis=1)\n",
        "        Y = Y_train\n",
        "        train_accuracy = sk.metrics.accuracy_score(Y_pred.to('cpu'),Y.to('cpu') )\n",
        "        train_precision, train_recall, train_fscore, m = sk.metrics.precision_recall_fscore_support(Y_pred.to('cpu'),Y.to('cpu') , average = 'weighted')\n",
        "\n",
        "        # Valid\n",
        "        Y_pred = model_(X_valid.to(device)).argmax(axis=1)\n",
        "        Y = Y_valid\n",
        "        valid_accuracy = sk.metrics.accuracy_score(Y_pred.to('cpu'),Y.to('cpu') )\n",
        "        valid_precision, valid_recall, valid_fscore, m = sk.metrics.precision_recall_fscore_support(Y_pred.to('cpu'),Y.to('cpu') , average = 'weighted')\n",
        "\n",
        "        # Test\n",
        "        Y_pred = model_(X_test.to(device)).argmax(axis=1)\n",
        "        Y = Y_test\n",
        "        test_accuracy = sk.metrics.accuracy_score(Y_pred.to('cpu'),Y.to('cpu') )\n",
        "        test_precision, test_recall, test_fscore, m = sk.metrics.precision_recall_fscore_support(Y_pred.to('cpu'),Y.to('cpu') , average = 'weighted')\n",
        "        pbar.set_description(\"Test Accuracy %s\" % test_accuracy)\n",
        "        \n",
        "        new_row = pd.Series({'hyper_param':param,'train_index':train_index,'valid_index':valid_index,'train_accuracy':train_accuracy,'valid_accuracy':valid_accuracy,'test_accuracy':test_accuracy,'train_fscore':train_fscore,'valid_fscore':valid_fscore,'test_fscore':test_fscore\n",
        "        ,'train_precision':train_precision,'valid_precision':valid_precision,'test_precision':test_precision,'train_recall':train_recall,'valid_recall':valid_recall,'test_recall':test_recall}, name='')\n",
        "        CV_Details = CV_Details.append(new_row)\n",
        "\n",
        "CNN_CV_Details = CV_Details.sort_values('test_accuracy', ascending=False)"
      ]
    },
    {
      "cell_type": "code",
      "execution_count": 31,
      "metadata": {
        "colab": {
          "base_uri": "https://localhost:8080/"
        },
        "id": "sa2B1MB2t5sH",
        "outputId": "f371603b-d57b-440f-e591-693259325b3f"
      },
      "outputs": [
        {
          "output_type": "execute_result",
          "data": {
            "text/plain": [
              "(    0.636656\n",
              "     0.636656\n",
              "     0.623794\n",
              "     0.620579\n",
              "     0.617363\n",
              " Name: test_accuracy, dtype: float64,\n",
              " {'LR': 0.0018,\n",
              "  'Momentum': 0.72,\n",
              "  'Net': __main__.CNN_Net3,\n",
              "  'batch_size': 30,\n",
              "  'epochs': 50,\n",
              "  'loss_func': torch.nn.modules.loss.CrossEntropyLoss,\n",
              "  'opt_func': torch.optim.sgd.SGD,\n",
              "  'weight_decay': 1e-07})"
            ]
          },
          "metadata": {},
          "execution_count": 31
        }
      ],
      "source": [
        "CNN_CV_Details['test_accuracy'][:5], CNN_CV_Details['hyper_param'][0]"
      ]
    },
    {
      "cell_type": "code",
      "execution_count": 32,
      "metadata": {
        "id": "BFxoyRob2fXe",
        "colab": {
          "base_uri": "https://localhost:8080/"
        },
        "outputId": "61d39a61-7ef8-4db7-9f36-10dab18eb84c"
      },
      "outputs": [
        {
          "output_type": "stream",
          "name": "stdout",
          "text": [
            "[Epoch: 1]  , Train_loss: 1.7 , Train_Acc: 35.7%, Val_loss: 1.5 , Val_Acc: 41.6% , run time: 0.29\n",
            "[Epoch: 2]  , Train_loss: 1.5 , Train_Acc: 42.8%, Val_loss: 1.4 , Val_Acc: 46.0% , run time: 0.3\n",
            "[Epoch: 3]  , Train_loss: 1.4 , Train_Acc: 45.8%, Val_loss: 1.4 , Val_Acc: 49.6% , run time: 0.3\n",
            "[Epoch: 4]  , Train_loss: 1.4 , Train_Acc: 48.4%, Val_loss: 1.3 , Val_Acc: 50.7% , run time: 0.3\n",
            "[Epoch: 5]  , Train_loss: 1.3 , Train_Acc: 50.1%, Val_loss: 1.3 , Val_Acc: 51.6% , run time: 0.3\n",
            "[Epoch: 6]  , Train_loss: 1.3 , Train_Acc: 51.4%, Val_loss: 1.3 , Val_Acc: 51.8% , run time: 0.3\n",
            "[Epoch: 7]  , Train_loss: 1.3 , Train_Acc: 52.6%, Val_loss: 1.3 , Val_Acc: 52.4% , run time: 0.3\n",
            "[Epoch: 8]  , Train_loss: 1.2 , Train_Acc: 52.9%, Val_loss: 1.2 , Val_Acc: 53.6% , run time: 0.3\n",
            "[Epoch: 9]  , Train_loss: 1.2 , Train_Acc: 54.2%, Val_loss: 1.2 , Val_Acc: 53.8% , run time: 0.3\n",
            "[Epoch: 10]  , Train_loss: 1.2 , Train_Acc: 53.9%, Val_loss: 1.2 , Val_Acc: 53.1% , run time: 0.3\n",
            "[Epoch: 11]  , Train_loss: 1.2 , Train_Acc: 55.6%, Val_loss: 1.2 , Val_Acc: 54.2% , run time: 0.3\n",
            "[Epoch: 12]  , Train_loss: 1.1 , Train_Acc: 56.1%, Val_loss: 1.2 , Val_Acc: 54.0% , run time: 0.3\n",
            "[Epoch: 13]  , Train_loss: 1.1 , Train_Acc: 56.8%, Val_loss: 1.2 , Val_Acc: 55.1% , run time: 0.3\n",
            "[Epoch: 14]  , Train_loss: 1.1 , Train_Acc: 56.9%, Val_loss: 1.2 , Val_Acc: 55.6% , run time: 0.3\n",
            "[Epoch: 15]  , Train_loss: 1.1 , Train_Acc: 58.4%, Val_loss: 1.2 , Val_Acc: 55.6% , run time: 0.3\n",
            "[Epoch: 16]  , Train_loss: 1.1 , Train_Acc: 58.4%, Val_loss: 1.2 , Val_Acc: 56.0% , run time: 0.3\n",
            "[Epoch: 17]  , Train_loss: 1.1 , Train_Acc: 59.1%, Val_loss: 1.1 , Val_Acc: 56.7% , run time: 0.3\n",
            "[Epoch: 18]  , Train_loss: 1.0 , Train_Acc: 60.7%, Val_loss: 1.1 , Val_Acc: 56.9% , run time: 0.29\n",
            "[Epoch: 19]  , Train_loss: 1.0 , Train_Acc: 60.9%, Val_loss: 1.1 , Val_Acc: 57.6% , run time: 0.3\n",
            "[Epoch: 20]  , Train_loss: 1.0 , Train_Acc: 61.8%, Val_loss: 1.1 , Val_Acc: 56.9% , run time: 0.3\n",
            "[Epoch: 21]  , Train_loss: 1.0 , Train_Acc: 62.2%, Val_loss: 1.1 , Val_Acc: 57.1% , run time: 0.3\n",
            "[Epoch: 22]  , Train_loss: 1.0 , Train_Acc: 62.6%, Val_loss: 1.1 , Val_Acc: 58.2% , run time: 0.3\n",
            "[Epoch: 23]  , Train_loss: 1.0 , Train_Acc: 63.4%, Val_loss: 1.1 , Val_Acc: 58.9% , run time: 0.3\n",
            "[Epoch: 24]  , Train_loss: 0.9 , Train_Acc: 63.8%, Val_loss: 1.1 , Val_Acc: 58.7% , run time: 0.3\n",
            "[Epoch: 25]  , Train_loss: 0.9 , Train_Acc: 64.7%, Val_loss: 1.1 , Val_Acc: 59.6% , run time: 0.29\n",
            "[Epoch: 26]  , Train_loss: 0.9 , Train_Acc: 65.4%, Val_loss: 1.1 , Val_Acc: 59.6% , run time: 0.3\n",
            "[Epoch: 27]  , Train_loss: 0.9 , Train_Acc: 65.5%, Val_loss: 1.1 , Val_Acc: 60.2% , run time: 0.3\n",
            "[Epoch: 28]  , Train_loss: 0.9 , Train_Acc: 66.4%, Val_loss: 1.1 , Val_Acc: 58.4% , run time: 0.3\n",
            "[Epoch: 29]  , Train_loss: 0.9 , Train_Acc: 66.2%, Val_loss: 1.1 , Val_Acc: 58.2% , run time: 0.3\n",
            "[Epoch: 30]  , Train_loss: 0.9 , Train_Acc: 67.0%, Val_loss: 1.1 , Val_Acc: 58.2% , run time: 0.3\n",
            "[Epoch: 31]  , Train_loss: 0.9 , Train_Acc: 67.3%, Val_loss: 1.1 , Val_Acc: 58.9% , run time: 0.29\n",
            "[Epoch: 32]  , Train_loss: 0.8 , Train_Acc: 68.7%, Val_loss: 1.1 , Val_Acc: 58.9% , run time: 0.29\n",
            "[Epoch: 33]  , Train_loss: 0.8 , Train_Acc: 69.4%, Val_loss: 1.1 , Val_Acc: 59.6% , run time: 0.3\n",
            "[Epoch: 34]  , Train_loss: 0.8 , Train_Acc: 69.1%, Val_loss: 1.1 , Val_Acc: 60.0% , run time: 0.3\n",
            "[Epoch: 35]  , Train_loss: 0.8 , Train_Acc: 69.8%, Val_loss: 1.1 , Val_Acc: 58.0% , run time: 0.3\n",
            "[Epoch: 36]  , Train_loss: 0.8 , Train_Acc: 70.4%, Val_loss: 1.1 , Val_Acc: 60.0% , run time: 0.3\n",
            "[Epoch: 37]  , Train_loss: 0.8 , Train_Acc: 70.4%, Val_loss: 1.1 , Val_Acc: 59.6% , run time: 0.3\n",
            "[Epoch: 38]  , Train_loss: 0.8 , Train_Acc: 71.1%, Val_loss: 1.1 , Val_Acc: 59.8% , run time: 0.3\n",
            "[Epoch: 39]  , Train_loss: 0.8 , Train_Acc: 71.6%, Val_loss: 1.1 , Val_Acc: 59.1% , run time: 0.3\n",
            "[Epoch: 40]  , Train_loss: 0.7 , Train_Acc: 72.5%, Val_loss: 1.1 , Val_Acc: 58.0% , run time: 0.3\n",
            "[Epoch: 41]  , Train_loss: 0.7 , Train_Acc: 72.6%, Val_loss: 1.1 , Val_Acc: 57.8% , run time: 0.3\n",
            "[Epoch: 42]  , Train_loss: 0.7 , Train_Acc: 72.6%, Val_loss: 1.1 , Val_Acc: 57.6% , run time: 0.29\n",
            "[Epoch: 43]  , Train_loss: 0.7 , Train_Acc: 74.3%, Val_loss: 1.2 , Val_Acc: 57.3% , run time: 0.3\n",
            "[Epoch: 44]  , Train_loss: 0.7 , Train_Acc: 73.8%, Val_loss: 1.1 , Val_Acc: 58.7% , run time: 0.3\n",
            "[Epoch: 45]  , Train_loss: 0.7 , Train_Acc: 74.3%, Val_loss: 1.2 , Val_Acc: 57.3% , run time: 0.3\n",
            "[Epoch: 46]  , Train_loss: 0.7 , Train_Acc: 74.5%, Val_loss: 1.2 , Val_Acc: 57.1% , run time: 0.3\n",
            "[Epoch: 47]  , Train_loss: 0.7 , Train_Acc: 74.8%, Val_loss: 1.2 , Val_Acc: 57.3% , run time: 0.3\n",
            "[Epoch: 48]  , Train_loss: 0.6 , Train_Acc: 77.2%, Val_loss: 1.2 , Val_Acc: 57.3% , run time: 0.3\n",
            "[Epoch: 49]  , Train_loss: 0.6 , Train_Acc: 77.0%, Val_loss: 1.2 , Val_Acc: 58.0% , run time: 0.3\n",
            "[Epoch: 50]  , Train_loss: 0.6 , Train_Acc: 77.3%, Val_loss: 1.2 , Val_Acc: 57.8% , run time: 0.3\n"
          ]
        }
      ],
      "source": [
        "print_epochs = True\n",
        "param = CNN_CV_Details['hyper_param'][0]\n",
        "train_index = CNN_CV_Details['train_index'][0]\n",
        "valid_index = CNN_CV_Details['valid_index'][0]\n",
        "\n",
        "X_train = input_data[3][train_index]\n",
        "Y_train = labels[3][train_index]\n",
        "X_valid = input_data[3][valid_index]\n",
        "Y_valid = labels[3][valid_index]\n",
        "\n",
        "Model_CV = Model_Training(**param, X_train = X_train, Y_train = Y_train, X_valid = X_valid, Y_valid= Y_valid, print_epochs =print_epochs)\n",
        "np.random.seed(0)\n",
        "random.seed(0)\n",
        "torch.manual_seed(0)\n",
        "Model_CV.train()"
      ]
    },
    {
      "cell_type": "code",
      "execution_count": 33,
      "metadata": {
        "colab": {
          "base_uri": "https://localhost:8080/",
          "height": 665
        },
        "outputId": "f5456601-c9f0-4ebf-aa18-fd6ca9bb63d5",
        "id": "AmFzM9hLbNaz"
      },
      "outputs": [
        {
          "output_type": "stream",
          "name": "stdout",
          "text": [
            "Nr. of Data : \n",
            " 311\n",
            "Accuracy of The Model : \n",
            " 0.6366559485530546\n"
          ]
        },
        {
          "output_type": "execute_result",
          "data": {
            "text/plain": [
              "<pandas.io.formats.style.Styler at 0x7f5f79c0f490>"
            ],
            "text/html": [
              "<style type=\"text/css\">\n",
              "</style>\n",
              "<table id=\"T_6d2b9_\" class=\"dataframe\">\n",
              "  <thead>\n",
              "    <tr>\n",
              "      <th class=\"blank level0\" >&nbsp;</th>\n",
              "      <th class=\"col_heading level0 col0\" >weights</th>\n",
              "      <th class=\"col_heading level0 col1\" >Precision</th>\n",
              "      <th class=\"col_heading level0 col2\" >Recall_Sensitivity</th>\n",
              "      <th class=\"col_heading level0 col3\" >Specificity</th>\n",
              "      <th class=\"col_heading level0 col4\" >f1_score</th>\n",
              "    </tr>\n",
              "  </thead>\n",
              "  <tbody>\n",
              "    <tr>\n",
              "      <th id=\"T_6d2b9_level0_row0\" class=\"row_heading level0 row0\" >0</th>\n",
              "      <td id=\"T_6d2b9_row0_col0\" class=\"data row0 col0\" >5.8%</td>\n",
              "      <td id=\"T_6d2b9_row0_col1\" class=\"data row0 col1\" >50.0%</td>\n",
              "      <td id=\"T_6d2b9_row0_col2\" class=\"data row0 col2\" >38.9%</td>\n",
              "      <td id=\"T_6d2b9_row0_col3\" class=\"data row0 col3\" >97.6%</td>\n",
              "      <td id=\"T_6d2b9_row0_col4\" class=\"data row0 col4\" >43.8%</td>\n",
              "    </tr>\n",
              "    <tr>\n",
              "      <th id=\"T_6d2b9_level0_row1\" class=\"row_heading level0 row1\" >1</th>\n",
              "      <td id=\"T_6d2b9_row1_col0\" class=\"data row1 col0\" >10.0%</td>\n",
              "      <td id=\"T_6d2b9_row1_col1\" class=\"data row1 col1\" >56.8%</td>\n",
              "      <td id=\"T_6d2b9_row1_col2\" class=\"data row1 col2\" >67.7%</td>\n",
              "      <td id=\"T_6d2b9_row1_col3\" class=\"data row1 col3\" >94.3%</td>\n",
              "      <td id=\"T_6d2b9_row1_col4\" class=\"data row1 col4\" >61.8%</td>\n",
              "    </tr>\n",
              "    <tr>\n",
              "      <th id=\"T_6d2b9_level0_row2\" class=\"row_heading level0 row2\" >2</th>\n",
              "      <td id=\"T_6d2b9_row2_col0\" class=\"data row2 col0\" >23.5%</td>\n",
              "      <td id=\"T_6d2b9_row2_col1\" class=\"data row2 col1\" >69.5%</td>\n",
              "      <td id=\"T_6d2b9_row2_col2\" class=\"data row2 col2\" >56.2%</td>\n",
              "      <td id=\"T_6d2b9_row2_col3\" class=\"data row2 col3\" >92.4%</td>\n",
              "      <td id=\"T_6d2b9_row2_col4\" class=\"data row2 col4\" >62.1%</td>\n",
              "    </tr>\n",
              "    <tr>\n",
              "      <th id=\"T_6d2b9_level0_row3\" class=\"row_heading level0 row3\" >3</th>\n",
              "      <td id=\"T_6d2b9_row3_col0\" class=\"data row3 col0\" >2.6%</td>\n",
              "      <td id=\"T_6d2b9_row3_col1\" class=\"data row3 col1\" >33.3%</td>\n",
              "      <td id=\"T_6d2b9_row3_col2\" class=\"data row3 col2\" >12.5%</td>\n",
              "      <td id=\"T_6d2b9_row3_col3\" class=\"data row3 col3\" >99.3%</td>\n",
              "      <td id=\"T_6d2b9_row3_col4\" class=\"data row3 col4\" >18.2%</td>\n",
              "    </tr>\n",
              "    <tr>\n",
              "      <th id=\"T_6d2b9_level0_row4\" class=\"row_heading level0 row4\" >4</th>\n",
              "      <td id=\"T_6d2b9_row4_col0\" class=\"data row4 col0\" >21.5%</td>\n",
              "      <td id=\"T_6d2b9_row4_col1\" class=\"data row4 col1\" >62.5%</td>\n",
              "      <td id=\"T_6d2b9_row4_col2\" class=\"data row4 col2\" >44.8%</td>\n",
              "      <td id=\"T_6d2b9_row4_col3\" class=\"data row4 col3\" >92.6%</td>\n",
              "      <td id=\"T_6d2b9_row4_col4\" class=\"data row4 col4\" >52.2%</td>\n",
              "    </tr>\n",
              "    <tr>\n",
              "      <th id=\"T_6d2b9_level0_row5\" class=\"row_heading level0 row5\" >5</th>\n",
              "      <td id=\"T_6d2b9_row5_col0\" class=\"data row5 col0\" >31.8%</td>\n",
              "      <td id=\"T_6d2b9_row5_col1\" class=\"data row5 col1\" >62.8%</td>\n",
              "      <td id=\"T_6d2b9_row5_col2\" class=\"data row5 col2\" >86.9%</td>\n",
              "      <td id=\"T_6d2b9_row5_col3\" class=\"data row5 col3\" >75.9%</td>\n",
              "      <td id=\"T_6d2b9_row5_col4\" class=\"data row5 col4\" >72.9%</td>\n",
              "    </tr>\n",
              "    <tr>\n",
              "      <th id=\"T_6d2b9_level0_row6\" class=\"row_heading level0 row6\" >6</th>\n",
              "      <td id=\"T_6d2b9_row6_col0\" class=\"data row6 col0\" >4.8%</td>\n",
              "      <td id=\"T_6d2b9_row6_col1\" class=\"data row6 col1\" >92.3%</td>\n",
              "      <td id=\"T_6d2b9_row6_col2\" class=\"data row6 col2\" >80.0%</td>\n",
              "      <td id=\"T_6d2b9_row6_col3\" class=\"data row6 col3\" >99.7%</td>\n",
              "      <td id=\"T_6d2b9_row6_col4\" class=\"data row6 col4\" >85.7%</td>\n",
              "    </tr>\n",
              "    <tr>\n",
              "      <th id=\"T_6d2b9_level0_row7\" class=\"row_heading level0 row7\" >Simple Avg.</th>\n",
              "      <td id=\"T_6d2b9_row7_col0\" class=\"data row7 col0\" >nan%</td>\n",
              "      <td id=\"T_6d2b9_row7_col1\" class=\"data row7 col1\" >61.0%</td>\n",
              "      <td id=\"T_6d2b9_row7_col2\" class=\"data row7 col2\" >55.3%</td>\n",
              "      <td id=\"T_6d2b9_row7_col3\" class=\"data row7 col3\" >93.1%</td>\n",
              "      <td id=\"T_6d2b9_row7_col4\" class=\"data row7 col4\" >56.7%</td>\n",
              "    </tr>\n",
              "    <tr>\n",
              "      <th id=\"T_6d2b9_level0_row8\" class=\"row_heading level0 row8\" >Weighted Avg.</th>\n",
              "      <td id=\"T_6d2b9_row8_col0\" class=\"data row8 col0\" >nan%</td>\n",
              "      <td id=\"T_6d2b9_row8_col1\" class=\"data row8 col1\" >63.6%</td>\n",
              "      <td id=\"T_6d2b9_row8_col2\" class=\"data row8 col2\" >63.7%</td>\n",
              "      <td id=\"T_6d2b9_row8_col3\" class=\"data row8 col3\" >88.2%</td>\n",
              "      <td id=\"T_6d2b9_row8_col4\" class=\"data row8 col4\" >62.3%</td>\n",
              "    </tr>\n",
              "  </tbody>\n",
              "</table>\n"
            ]
          },
          "metadata": {},
          "execution_count": 33
        },
        {
          "output_type": "display_data",
          "data": {
            "text/plain": [
              "<Figure size 432x288 with 2 Axes>"
            ],
            "image/png": "[encoded data removed]"
          },
          "metadata": {
            "needs_background": "light"
          }
        }
      ],
      "source": [
        "model_ = Model_CV.model.eval()\n",
        "X = input_data[2].to(device)\n",
        "Y = labels[2].to(device)\n",
        "Y_pred = model_(X).argmax(dim=1)\n",
        "confusion_matrix(Y.to('cpu'),Y_pred.to('cpu'))"
      ]
    },
    {
      "cell_type": "code",
      "source": [
        "model_ = Model_CV\n",
        "epochs_X = [i for i in range(1, model_.epochs+1)]\n",
        "epochs_X\n",
        "plt.subplots(figsize=(6,4))\n",
        "\n",
        "plt.plot(epochs_X , model_.Epochs_Train_loss, 'o-', label='Train loss')\n",
        "plt.plot(epochs_X , model_.Epochs_Val_loss,'ro-', label='Validation loss')\n",
        "plt.xlabel(\"Epochs\", fontsize = 12)\n",
        "plt.ylabel(\"Loss\", fontsize = 12)\n",
        "plt.grid()\n",
        "plt.legend()\n",
        "plt.title('Train and Validation loss by epochs')\n",
        "plt.show()"
      ],
      "metadata": {
        "id": "amh6DOqrt6sP",
        "outputId": "65eb6554-2527-4fc6-987b-070078b16b5d",
        "colab": {
          "base_uri": "https://localhost:8080/",
          "height": 298
        }
      },
      "execution_count": 34,
      "outputs": [
        {
          "output_type": "display_data",
          "data": {
            "text/plain": [
              "<Figure size 432x288 with 1 Axes>"
            ],
            "image/png": "[encoded data removed]"
          },
          "metadata": {
            "needs_background": "light"
          }
        }
      ]
    },
    {
      "cell_type": "code",
      "source": [
        "model_ = Model_CV\n",
        "epochs_X = [i for i in range(1, model_.epochs+1)]\n",
        "epochs_X\n",
        "plt.subplots(figsize=(6,4))\n",
        "\n",
        "plt.plot(epochs_X , model_.Epochs_Train_Acc, 'o-', label='Train Accuracy')\n",
        "plt.plot(epochs_X , model_.Epochs_Val_Acc,'ro-', label='Validation Accuracy')\n",
        "plt.xlabel(\"Epochs\", fontsize = 12)\n",
        "plt.ylabel(\"Accuracy\", fontsize = 12)\n",
        "plt.grid()\n",
        "plt.legend()\n",
        "plt.title('Train and Validation Accuracy by epochs')\n",
        "plt.show()"
      ],
      "metadata": {
        "id": "N_3BtBCouJeg",
        "outputId": "1f326bb4-e444-47a5-b0fe-a649100f4d19",
        "colab": {
          "base_uri": "https://localhost:8080/",
          "height": 298
        }
      },
      "execution_count": 35,
      "outputs": [
        {
          "output_type": "display_data",
          "data": {
            "text/plain": [
              "<Figure size 432x288 with 1 Axes>"
            ],
            "image/png": "[encoded data removed]"
          },
          "metadata": {
            "needs_background": "light"
          }
        }
      ]
    },
    {
      "cell_type": "markdown",
      "metadata": {
        "id": "xg-ZJmCpAlDj"
      },
      "source": [
        "# **Save the model**"
      ]
    },
    {
      "cell_type": "code",
      "execution_count": null,
      "metadata": {
        "id": "DM15kY74AlDj"
      },
      "outputs": [],
      "source": [
        "pickle.dump(Model_Grid, open(p_models + 'CNN_60x45_NoDup_Grid', 'wb'))\n",
        "pickle.dump(Model_CV, open(p_models + 'CNN_60x45_NoDup_CV', 'wb'))"
      ]
    },
    {
      "cell_type": "code",
      "execution_count": null,
      "metadata": {
        "id": "ZgZ8d28qAlDj"
      },
      "outputs": [],
      "source": [
        "pickle.dump([CNN_Net1,CNN_Net2,CNN_Net3, Model_Training], open(p_models + 'CNNs_Network_Training', \"wb\"))"
      ]
    },
    {
      "cell_type": "markdown",
      "metadata": {
        "id": "oW6taeF-AlDj"
      },
      "source": [
        ""
      ]
    }
  ],
  "metadata": {
    "accelerator": "GPU",
    "colab": {
      "name": "CNN_60x45.ipynb",
      "provenance": [],
      "include_colab_link": true
    },
    "interpreter": {
      "hash": "31f2aee4e71d21fbe5cf8b01ff0e069b9275f58929596ceb00d14d90e3e16cd6"
    },
    "kernelspec": {
      "display_name": "Python 3.8.9 64-bit",
      "language": "python",
      "name": "python3"
    },
    "language_info": {
      "codemirror_mode": {
        "name": "ipython",
        "version": 3
      },
      "file_extension": ".py",
      "mimetype": "text/x-python",
      "name": "python",
      "nbconvert_exporter": "python",
      "pygments_lexer": "ipython3",
      "version": "3.8.9"
    }
  },
  "nbformat": 4,
  "nbformat_minor": 0
}