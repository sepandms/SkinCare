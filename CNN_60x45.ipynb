{
  "cells": [
    {
      "cell_type": "markdown",
      "metadata": {
        "id": "view-in-github",
        "colab_type": "text"
      },
      "source": [
        "<a href=\"https://colab.research.google.com/github/sepandms/SkinCare/blob/main/CNN_60x45.ipynb\" target=\"_parent\"><img src=\"https://colab.research.google.com/assets/colab-badge.svg\" alt=\"Open In Colab\"/></a>"
      ]
    },
    {
      "cell_type": "code",
      "source": [
        "from google.colab import drive\n",
        "drive.mount('/content/drive')\n",
        "G_path = '/content/drive/MyDrive/DataSources/SkinCare/'\n",
        "G_save = G_path + 'Saved/'"
      ],
      "metadata": {
        "id": "MzRoZIkXDiT7",
        "outputId": "6952f3e0-e274-4cb6-8a77-76bab75af5cd",
        "colab": {
          "base_uri": "https://localhost:8080/"
        }
      },
      "execution_count": 2,
      "outputs": [
        {
          "output_type": "stream",
          "name": "stdout",
          "text": [
            "Mounted at /content/drive\n"
          ]
        }
      ]
    },
    {
      "cell_type": "code",
      "execution_count": 3,
      "metadata": {
        "colab": {
          "base_uri": "https://localhost:8080/"
        },
        "id": "-UIaVWyAKtln",
        "outputId": "3750324b-c573-4029-ebfd-cde427dc3a53"
      },
      "outputs": [
        {
          "output_type": "stream",
          "name": "stdout",
          "text": [
            "Looking in indexes: https://pypi.org/simple, https://us-python.pkg.dev/colab-wheels/public/simple/\n",
            "Collecting pickle5\n",
            "  Downloading pickle5-0.0.12-cp37-cp37m-manylinux_2_5_x86_64.manylinux1_x86_64.whl (256 kB)\n",
            "\u001b[?25l\r\u001b[K     |█▎                              | 10 kB 24.7 MB/s eta 0:00:01\r\u001b[K     |██▋                             | 20 kB 20.2 MB/s eta 0:00:01\r\u001b[K     |███▉                            | 30 kB 16.4 MB/s eta 0:00:01\r\u001b[K     |█████▏                          | 40 kB 15.4 MB/s eta 0:00:01\r\u001b[K     |██████▍                         | 51 kB 7.9 MB/s eta 0:00:01\r\u001b[K     |███████▊                        | 61 kB 9.3 MB/s eta 0:00:01\r\u001b[K     |█████████                       | 71 kB 9.6 MB/s eta 0:00:01\r\u001b[K     |██████████▎                     | 81 kB 9.2 MB/s eta 0:00:01\r\u001b[K     |███████████▌                    | 92 kB 10.2 MB/s eta 0:00:01\r\u001b[K     |████████████▉                   | 102 kB 8.5 MB/s eta 0:00:01\r\u001b[K     |██████████████                  | 112 kB 8.5 MB/s eta 0:00:01\r\u001b[K     |███████████████▍                | 122 kB 8.5 MB/s eta 0:00:01\r\u001b[K     |████████████████▋               | 133 kB 8.5 MB/s eta 0:00:01\r\u001b[K     |██████████████████              | 143 kB 8.5 MB/s eta 0:00:01\r\u001b[K     |███████████████████▏            | 153 kB 8.5 MB/s eta 0:00:01\r\u001b[K     |████████████████████▌           | 163 kB 8.5 MB/s eta 0:00:01\r\u001b[K     |█████████████████████▊          | 174 kB 8.5 MB/s eta 0:00:01\r\u001b[K     |███████████████████████         | 184 kB 8.5 MB/s eta 0:00:01\r\u001b[K     |████████████████████████▎       | 194 kB 8.5 MB/s eta 0:00:01\r\u001b[K     |█████████████████████████▋      | 204 kB 8.5 MB/s eta 0:00:01\r\u001b[K     |██████████████████████████▉     | 215 kB 8.5 MB/s eta 0:00:01\r\u001b[K     |████████████████████████████▏   | 225 kB 8.5 MB/s eta 0:00:01\r\u001b[K     |█████████████████████████████▍  | 235 kB 8.5 MB/s eta 0:00:01\r\u001b[K     |██████████████████████████████▊ | 245 kB 8.5 MB/s eta 0:00:01\r\u001b[K     |████████████████████████████████| 256 kB 8.5 MB/s eta 0:00:01\r\u001b[K     |████████████████████████████████| 256 kB 8.5 MB/s \n",
            "\u001b[?25hInstalling collected packages: pickle5\n",
            "Successfully installed pickle5-0.0.12\n"
          ]
        }
      ],
      "source": [
        "# For Google Colab\n",
        "!pip install pickle5\n",
        "# file_link = \"https://drive.google.com/file/d/1oDoZz3baGVaX6pZwHfxi0W8SNymKcLzL\"\n",
        "# #name = 'DataSource_60x45_blc_noDup.pkl'\n",
        "# #!wget -O {name} {file_link} -N\n",
        "# !wget --content-disposition {file_link}  "
      ]
    },
    {
      "cell_type": "code",
      "execution_count": 6,
      "metadata": {
        "id": "VZrZXitoAlDd"
      },
      "outputs": [],
      "source": [
        "import torch\n",
        "import torch.nn as nn\n",
        "import torch.nn.functional as F\n",
        "import torchvision\n",
        "import torchvision.transforms as transforms\n",
        "#import torchvision.transforms.Compose\n",
        "import numpy as np\n",
        "from datetime import datetime\t\n",
        "import random\n",
        "import matplotlib.pyplot as plt\n",
        "from torch.utils.data import random_split\n",
        "from torch.utils.data import SubsetRandomSampler\n",
        "import time\n",
        "from tqdm import tqdm\n",
        "import pickle5 as pickle\n",
        "from statistics import mean\n",
        "import pandas as pd\n",
        "import sklearn as sk\n",
        "from sklearn.model_selection import train_test_split\n",
        "device = torch.device(\"cuda\" if torch.cuda.is_available() else 'mps' if torch.backends.mps.is_available() else \"cpu\")\n",
        "from sklearn.utils import resample\n",
        "import warnings\n",
        "warnings.filterwarnings('ignore')\n",
        "path = '/Users/sepehrbe/DataSources/Kaggle/SkinCare/Data/Pickle_Data/'\n",
        "p_models = '/Users/sepehrbe/DataSources/Kaggle/SkinCare/Models/Saved/'"
      ]
    },
    {
      "cell_type": "code",
      "execution_count": 7,
      "metadata": {
        "id": "EmItAdeAIgc7"
      },
      "outputs": [],
      "source": [
        "#file = 'test1.pkl' \n",
        "file = 'DataSource_60x45_blc_noDup.pkl' \n",
        "try:\n",
        "    infile = open(G_path+file,'rb') # for google colab\n",
        "except:\n",
        "    infile = open(path+file,'rb') # for M1\n",
        "data = pickle.load(infile)"
      ]
    },
    {
      "cell_type": "code",
      "execution_count": 8,
      "metadata": {
        "colab": {
          "base_uri": "https://localhost:8080/"
        },
        "id": "mTyd2fE_AlDe",
        "outputId": "59b185c5-7069-4aff-b5bf-b34dc21b55fe"
      },
      "outputs": [
        {
          "output_type": "stream",
          "name": "stdout",
          "text": [
            "Train size:  2375  Valid Size:  420  Test size:  311\n"
          ]
        }
      ],
      "source": [
        "train_data = data[data.type=='train']\n",
        "valid_data = data[data.type=='valid']\n",
        "test_data = data[data.type=='test']\n",
        "\n",
        "training_data = pd.concat([train_data,valid_data], axis=0)\n",
        "print('Train size: ',train_data.shape[0] ,' Valid Size: ',valid_data.shape[0], ' Test size: ', test_data.shape[0])"
      ]
    },
    {
      "cell_type": "markdown",
      "metadata": {
        "id": "0vf3zc_8AlDe"
      },
      "source": [
        "# **Standardize Train and Validation data**"
      ]
    },
    {
      "cell_type": "code",
      "execution_count": 9,
      "metadata": {
        "colab": {
          "base_uri": "https://localhost:8080/"
        },
        "id": "DfwnXL7VAlDf",
        "outputId": "f02ace71-fcd5-462d-cea1-59e8d0f31fa7"
      },
      "outputs": [
        {
          "output_type": "stream",
          "name": "stdout",
          "text": [
            "Mean : [0.74757306 0.55395043 0.57981832]   STD: [0.13901983 0.1466928  0.16243817]\n"
          ]
        }
      ],
      "source": [
        "training_arrays = np.stack(training_data['img_array'].values)  \n",
        "training_arrays_scaled = training_arrays / 255\n",
        "Mean = training_arrays_scaled.mean(axis = (0,1,2)) \n",
        "STD = training_arrays_scaled.std(axis = (0,1,2))\n",
        "print(f\"Mean : {Mean}   STD: {STD}\") "
      ]
    },
    {
      "cell_type": "code",
      "execution_count": 10,
      "metadata": {
        "id": "tDkgbyk2AlDf"
      },
      "outputs": [],
      "source": [
        "#Train data standardization\n",
        "train_arrays_std = np.stack(train_data['img_array'].values) / 255\n",
        "for i in range(0,train_arrays_std.shape[0]):\n",
        "    train_arrays_std[i] = (train_arrays_std[i] - Mean) / STD\n",
        "#Validation data standardization\n",
        "valid_arrays_std = np.stack(valid_data['img_array'].values) / 255\n",
        "for i in range(0,valid_arrays_std.shape[0]):\n",
        "    valid_arrays_std[i] = (valid_arrays_std[i] - Mean) / STD\n",
        "#Test data standardization\n",
        "test_arrays_std = np.stack(test_data['img_array'].values) / 255\n",
        "for i in range(0,test_arrays_std.shape[0]):\n",
        "    test_arrays_std[i] = (test_arrays_std[i] - Mean) / STD"
      ]
    },
    {
      "cell_type": "code",
      "execution_count": 11,
      "metadata": {
        "colab": {
          "base_uri": "https://localhost:8080/"
        },
        "id": "v739KGr7AlDf",
        "outputId": "349fcde5-0b08-46a5-ae5e-4b20d047c616"
      },
      "outputs": [
        {
          "output_type": "stream",
          "name": "stdout",
          "text": [
            "Mean : [-0.00228189  0.00041095 -0.00230894]   STD: [1.00738491 1.00246694 1.00100759]\n"
          ]
        }
      ],
      "source": [
        "Mean_t = train_arrays_std.mean(axis = (0,1,2)) \n",
        "STD_t = train_arrays_std.std(axis = (0,1,2))\n",
        "print(f\"Mean : {Mean_t}   STD: {STD_t}\") "
      ]
    },
    {
      "cell_type": "code",
      "execution_count": 12,
      "metadata": {
        "id": "o2RHmNlcAlDf"
      },
      "outputs": [],
      "source": [
        "train_arrays_std_T = torch.tensor(train_arrays_std, dtype= torch.float32).transpose(3,1)\n",
        "train_labels = torch.tensor(train_data['label_id'].values.astype(np.long))\n",
        "\n",
        "valid_arrays_std_T = torch.tensor(valid_arrays_std, dtype= torch.float32).transpose(3,1)\n",
        "valid_labels = torch.tensor(valid_data['label_id'].values.astype(np.long))\n",
        "\n",
        "test_arrays_std_T = torch.tensor(test_arrays_std, dtype= torch.float32).transpose(3,1)\n",
        "test_labels = torch.tensor(test_data['label_id'].values.astype(np.long))\n",
        "\n",
        "input_data = (train_arrays_std_T , valid_arrays_std_T, test_arrays_std_T , torch.cat((train_arrays_std_T,valid_arrays_std_T),0),torch.cat((train_arrays_std_T,valid_arrays_std_T,test_arrays_std_T),0) )\n",
        "labels = (train_labels,valid_labels,test_labels , torch.cat((train_labels,valid_labels),0), torch.cat((train_labels,valid_labels,test_labels),0))"
      ]
    },
    {
      "cell_type": "markdown",
      "metadata": {
        "id": "nqCBXtetAlDf"
      },
      "source": [
        "# **Show some Images**"
      ]
    },
    {
      "cell_type": "code",
      "execution_count": 13,
      "metadata": {
        "colab": {
          "base_uri": "https://localhost:8080/",
          "height": 1000
        },
        "id": "e3W89pUsAlDf",
        "outputId": "3cc02ace-140f-4ed5-f8c2-37c9fd535ea2"
      },
      "outputs": [
        {
          "output_type": "stream",
          "name": "stdout",
          "text": [
            "--------Original Image----------\n",
            "i:  ISIC_0028025\n",
            "Image:425, target:nv\n"
          ]
        },
        {
          "output_type": "display_data",
          "data": {
            "text/plain": [
              "<Figure size 432x288 with 1 Axes>"
            ],
            "image/png": "[encoded data removed]"
          },
          "metadata": {
            "needs_background": "light"
          }
        },
        {
          "output_type": "stream",
          "name": "stderr",
          "text": [
            "Clipping input data to the valid range for imshow with RGB data ([0..1] for floats or [0..255] for integers).\n"
          ]
        },
        {
          "output_type": "stream",
          "name": "stdout",
          "text": [
            "---------Normilized Image---------\n"
          ]
        },
        {
          "output_type": "display_data",
          "data": {
            "text/plain": [
              "<Figure size 432x288 with 1 Axes>"
            ],
            "image/png": "[encoded data removed]"
          },
          "metadata": {
            "needs_background": "light"
          }
        },
        {
          "output_type": "stream",
          "name": "stdout",
          "text": [
            "###################################\n",
            "--------Original Image----------\n",
            "i:  ISIC_0028370\n",
            "Image:1478, target:akiec\n"
          ]
        },
        {
          "output_type": "display_data",
          "data": {
            "text/plain": [
              "<Figure size 432x288 with 1 Axes>"
            ],
            "image/png": "[encoded data removed]"
          },
          "metadata": {
            "needs_background": "light"
          }
        },
        {
          "output_type": "stream",
          "name": "stderr",
          "text": [
            "Clipping input data to the valid range for imshow with RGB data ([0..1] for floats or [0..255] for integers).\n"
          ]
        },
        {
          "output_type": "stream",
          "name": "stdout",
          "text": [
            "---------Normilized Image---------\n"
          ]
        },
        {
          "output_type": "display_data",
          "data": {
            "text/plain": [
              "<Figure size 432x288 with 1 Axes>"
            ],
            "image/png": "[encoded data removed]"
          },
          "metadata": {
            "needs_background": "light"
          }
        },
        {
          "output_type": "stream",
          "name": "stdout",
          "text": [
            "###################################\n",
            "--------Original Image----------\n",
            "i:  ISIC_0030015\n",
            "Image:319, target:df\n"
          ]
        },
        {
          "output_type": "display_data",
          "data": {
            "text/plain": [
              "<Figure size 432x288 with 1 Axes>"
            ],
            "image/png": "[encoded data removed]"
          },
          "metadata": {
            "needs_background": "light"
          }
        },
        {
          "output_type": "stream",
          "name": "stderr",
          "text": [
            "Clipping input data to the valid range for imshow with RGB data ([0..1] for floats or [0..255] for integers).\n"
          ]
        },
        {
          "output_type": "stream",
          "name": "stdout",
          "text": [
            "---------Normilized Image---------\n"
          ]
        },
        {
          "output_type": "display_data",
          "data": {
            "text/plain": [
              "<Figure size 432x288 with 1 Axes>"
            ],
            "image/png": "[encoded data removed]"
          },
          "metadata": {
            "needs_background": "light"
          }
        },
        {
          "output_type": "stream",
          "name": "stdout",
          "text": [
            "###################################\n"
          ]
        }
      ],
      "source": [
        "for i in np.random.choice(train_data.shape[0], 3, replace=False):\n",
        "  print(\"--------Original Image----------\")\n",
        "  print('i: ', train_data['image_id'].iloc[i])\n",
        "  image1 = torch.from_numpy(train_data['img_array'].iloc[i])\n",
        "  print(\"Image:{}, target:{}\".format(i, train_data['image_label'].iloc[i]))\n",
        "  plt.imshow(image1, interpolation='nearest')\n",
        "  plt.show()\n",
        "  print(\"---------Normilized Image---------\")\n",
        "  image2 = train_arrays_std[i]\n",
        "  plt.imshow(image2, interpolation='nearest')\n",
        "  plt.show()\n",
        "  print(\"###################################\")"
      ]
    },
    {
      "cell_type": "markdown",
      "metadata": {
        "id": "GgLTtyx5uw6b"
      },
      "source": [
        "### **1.2 Nets**"
      ]
    },
    {
      "cell_type": "code",
      "execution_count": 14,
      "metadata": {
        "id": "w1GCLpHCrDWL"
      },
      "outputs": [],
      "source": [
        "class CNN_Net1(nn.Module):\n",
        "    def __init__(self):\n",
        "        super().__init__()\n",
        "        self.conv1 = nn.Conv2d( in_channels=3 , out_channels=32 , kernel_size=(3, 3))\n",
        "        self.conv2 = nn.Conv2d( in_channels=32, out_channels=32 , kernel_size=(3, 3))\n",
        "        self.pool1 = nn.MaxPool2d( kernel_size = (2,2), stride = None, padding = 0 )\n",
        "        self.conv3 = nn.Conv2d( in_channels=32, out_channels=64 , kernel_size=(3, 3))\n",
        "        self.conv4 = nn.Conv2d( in_channels=64, out_channels=64 , kernel_size=(3, 3))\n",
        "        self.pool2 = nn.MaxPool2d( kernel_size = (2,2), stride = None, padding = 0 )\n",
        "        self.fc1   = nn.Linear(in_features= 6144 , out_features = 512)\n",
        "        self.fc2   = nn.Linear(in_features= 512, out_features = 7)\n",
        "        self.Act   = nn.ReLU(inplace=True)\n",
        "    def forward(self, x):\n",
        "        out = self.Act(self.conv1(x))\n",
        "        out = self.Act(self.conv2(out))\n",
        "        out = self.Act(self.pool1(out))\n",
        "        out = self.Act(self.conv3(out))\n",
        "        out = self.Act(self.conv4(out))\n",
        "        out = self.Act(self.pool2(out))\n",
        "        out = torch.flatten(out, 1) \n",
        "        out = self.Act(self.fc1(out))\n",
        "        out = self.Act(self.fc2(out))\n",
        "        # out = nn.Softmax(out)\n",
        "        return out"
      ]
    },
    {
      "cell_type": "code",
      "execution_count": 15,
      "metadata": {
        "id": "ZVszqW_eAlDg"
      },
      "outputs": [],
      "source": [
        "class CNN_Net2(nn.Module):\n",
        "    def __init__(self):\n",
        "        super().__init__()\n",
        "        self.conv1 = nn.Conv2d( in_channels=3 , out_channels=32 , kernel_size=(3, 3))\n",
        "        self.pool1 = nn.MaxPool2d( kernel_size = (2,2), stride = None, padding = 0 )\n",
        "        self.conv3 = nn.Conv2d( in_channels=32, out_channels=64 , kernel_size=(3, 3))\n",
        "        self.pool2 = nn.MaxPool2d( kernel_size = (2,2), stride = None, padding = 0 )\n",
        "        self.fc1   = nn.Linear(in_features= 7488 , out_features = 512)\n",
        "        self.fc2   = nn.Linear(in_features= 512, out_features = 7)\n",
        "        self.Act   = nn.ReLU(inplace=True)\n",
        "    def forward(self, x):\n",
        "        out = self.Act(self.conv1(x))\n",
        "        out = self.Act(self.pool1(out))\n",
        "        out = self.Act(self.conv3(out))\n",
        "        out = self.Act(self.pool2(out))\n",
        "        out = torch.flatten(out, 1) \n",
        "        out = self.Act(self.fc1(out))\n",
        "        out = self.Act(self.fc2(out))\n",
        "        return out"
      ]
    },
    {
      "cell_type": "code",
      "execution_count": 39,
      "metadata": {
        "id": "_oz6q7CYAlDg"
      },
      "outputs": [],
      "source": [
        "class CNN_Net3(nn.Module):\n",
        "    def __init__(self):\n",
        "        super().__init__()\n",
        "        self.conv1 = nn.Conv2d( in_channels=3 , out_channels=32 , kernel_size=(3, 3))\n",
        "        self.pool1 = nn.MaxPool2d( kernel_size = (2,2), stride = None, padding = 0 )\n",
        "        self.conv2 = nn.Conv2d( in_channels=32, out_channels=64 , kernel_size=(3, 3))\n",
        "        self.pool2 = nn.MaxPool2d( kernel_size = (2,2), stride = None, padding = 0 )\n",
        "        self.fc1   = nn.Linear(in_features= 7488 , out_features = 512)\n",
        "        self.fc2   = nn.Linear(in_features= 512, out_features = 7)\n",
        "        self.Act   = nn.LeakyReLU(inplace=True)\n",
        "        self.dropout = nn.Dropout(0.25)\n",
        "    def forward(self, x):\n",
        "        out = self.Act(self.conv1(x))\n",
        "        out = self.Act(self.pool1(out))\n",
        "        out = self.Act(self.conv2(out))\n",
        "        out = self.Act(self.pool2(out))\n",
        "        out = self.dropout(out)\n",
        "        out = torch.flatten(out, 1) \n",
        "        out = self.Act(self.fc1(out))\n",
        "        out = self.Act(self.fc2(out))\n",
        "        return out\n",
        "\n",
        "class CNN_Net4(nn.Module):\n",
        "    def __init__(self):\n",
        "        super().__init__()\n",
        "        self.conv1 = nn.Conv2d( in_channels=3 , out_channels=32 , kernel_size=(3, 3))\n",
        "        self.pool1 = nn.MaxPool2d( kernel_size = (2,2), stride = None, padding = 0 )\n",
        "        self.conv2 = nn.Conv2d( in_channels=32, out_channels=64 , kernel_size=(3, 3))\n",
        "        self.pool2 = nn.MaxPool2d( kernel_size = (2,2), stride = None, padding = 0 )\n",
        "        self.fc1   = nn.Linear(in_features= 7488 , out_features = 512)\n",
        "        self.fc2   = nn.Linear(in_features= 512, out_features = 7)\n",
        "        self.Act   = nn.LeakyReLU(inplace=True)\n",
        "        self.dropout = nn.Dropout(0.25)\n",
        "    def forward(self, x):\n",
        "        out = self.Act(self.conv1(x))\n",
        "        out = self.Act(self.pool1(out))\n",
        "        out = self.dropout(out)\n",
        "        out = self.Act(self.conv2(out))\n",
        "        out = self.Act(self.pool2(out))\n",
        "        out = self.dropout(out)\n",
        "        out = torch.flatten(out, 1) \n",
        "        out = self.Act(self.fc1(out))\n",
        "        out = self.Act(self.fc2(out))\n",
        "        return out"
      ]
    },
    {
      "cell_type": "markdown",
      "metadata": {
        "id": "P5Zfb1SkAlDg"
      },
      "source": [
        "# **Test Nets**"
      ]
    },
    {
      "cell_type": "code",
      "execution_count": 17,
      "metadata": {
        "colab": {
          "base_uri": "https://localhost:8080/"
        },
        "id": "OJTfTtmfAlDg",
        "outputId": "35c1f65c-abce-431b-f271-107bffce105b"
      },
      "outputs": [
        {
          "output_type": "execute_result",
          "data": {
            "text/plain": [
              "torch.Size([5, 7])"
            ]
          },
          "metadata": {},
          "execution_count": 17
        }
      ],
      "source": [
        "model_test = CNN_Net2()\n",
        "X_ = input_data[0][0:5]\n",
        "out = model_test(X_)\n",
        "out.shape"
      ]
    },
    {
      "cell_type": "markdown",
      "metadata": {
        "id": "XWC5a989AlDg"
      },
      "source": [
        "# **Confusion-Matrix & Accuracy**"
      ]
    },
    {
      "cell_type": "code",
      "execution_count": 18,
      "metadata": {
        "id": "pBE96mxDAlDg"
      },
      "outputs": [],
      "source": [
        "def confusion_matrix(Y,Y_pred):\n",
        "    CM = sk.metrics.confusion_matrix(Y,Y_pred)\n",
        "    print('Nr. of Data : \\n', CM.sum())\n",
        "    print('Accuracy of The Model : \\n', np.diag(CM).sum()/CM.sum())\n",
        "    # print('Confusion Matrix : \\n', CM)\n",
        "    # print('Weighted Avg. of sensitivity : \\n', np.average(np.nan_to_num(sensitivity), weights=weights))\n",
        "    # print('Weighted Avg. of specificity : \\n', np.average(np.nan_to_num(specificity), weights=weights))\n",
        "    sk.metrics.ConfusionMatrixDisplay(CM).plot()\n",
        "    # print('------- Precision recal %--------')\n",
        "    # print(sk.metrics.classification_report(Y,Y_pred))\n",
        "    # print('------- confusion matrix--------')\n",
        "\n",
        "    FP = CM.sum(axis=0) - np.diag(CM) \n",
        "    FN = CM.sum(axis=1) - np.diag(CM)\n",
        "    TP = np.diag(CM)\n",
        "    TN = CM.sum() - (FP + FN + TP)\n",
        "    weights = CM.sum(axis=1) / CM.sum() \n",
        "    ACC = np.nan_to_num((TP+TN)/(TP+FP+FN+TN) , nan=0)\n",
        "    Recall_Sensitivity = np.nan_to_num(TP/(TP+FN) , nan=0)\n",
        "    Specificity = np.nan_to_num(TN/(TN+FP) , nan=0)\n",
        "    Precision = np.nan_to_num(TP/(TP+FP) , nan=0)\n",
        "    f1_score = np.nan_to_num( 2*Precision*Recall_Sensitivity / (Recall_Sensitivity + Precision), nan=0)\n",
        "    Performance_DF = pd.concat([pd.DataFrame(CM),pd.DataFrame(weights, columns=['weights']),pd.DataFrame(Precision, columns=['Precision']),pd.DataFrame(Recall_Sensitivity,columns=['Recall_Sensitivity'])\n",
        "        ,pd.DataFrame(Specificity, columns=['Specificity']),pd.DataFrame(f1_score, columns=['f1_score'])], axis=1)\n",
        "    total_row1 = pd.Series({'Precision':mean(Precision),'Recall_Sensitivity':mean(Recall_Sensitivity),'Specificity':mean(Specificity),'f1_score':mean(f1_score)}, name='Simple Avg.')\n",
        "    total_row2 = pd.Series({'Precision':sum(weights*Precision),'Recall_Sensitivity':sum(weights*Recall_Sensitivity),'Specificity':sum(weights*Specificity),'f1_score':sum(weights*f1_score)}, name='Weighted Avg.')\n",
        "    Performance_DF = Performance_DF.append([total_row1,total_row2])\n",
        "    cols = ['weights','Precision','Recall_Sensitivity','Specificity','f1_score']\n",
        "    per_details = Performance_DF[cols].style.format({'weights': \"{:.1%}\",'Precision': \"{:.1%}\",'Recall_Sensitivity': \"{:.1%}\",'Specificity': \"{:.1%}\",'f1_score': \"{:.1%}\"})\n",
        "    return per_details"
      ]
    },
    {
      "cell_type": "markdown",
      "metadata": {
        "id": "4XV23bjxXUi7",
        "tags": []
      },
      "source": [
        "### **1.3 Training**"
      ]
    },
    {
      "cell_type": "code",
      "execution_count": 19,
      "metadata": {
        "id": "9cbadb2d"
      },
      "outputs": [],
      "source": [
        "class Model_Training:\n",
        "\n",
        "    def __init__(self, Net, LR, batch_size , Momentum, epochs, weight_decay, loss_func, opt_func, X_train, Y_train, X_valid, Y_valid, print_epochs,hyper_params):    \n",
        "        \n",
        "        self.model = Net().to(device)\n",
        "        if opt_func is torch.optim.Adam:\n",
        "            self.opt = opt_func(self.model.parameters(), lr=LR, weight_decay=weight_decay)\n",
        "        else:\n",
        "            self.opt = opt_func(self.model.parameters(), lr=LR,momentum=Momentum, weight_decay=weight_decay)\n",
        "\n",
        "        self.loss_func = loss_func()\n",
        "        self.epochs = epochs\n",
        "        self.print_epochs = print_epochs\n",
        "        self.X_train = X_train.to(device)\n",
        "        self.Y_train = Y_train.to(device)\n",
        "        self.X_valid = X_valid.to(device)\n",
        "        self.Y_valid = Y_valid.to(device)\n",
        "        self.batch_size = batch_size\n",
        "        self.Epochs_Train_loss = []\n",
        "        self.Epochs_Train_Acc = []\n",
        "        self.Epochs_Val_loss = []\n",
        "        self.Epochs_Val_Acc = []\n",
        "        self.hyper_params = hyper_params\n",
        "\n",
        "    def train(self):\n",
        "        \n",
        "        model = self.model\n",
        "        loss_fn = self.loss_func\n",
        "        opt = self.opt \n",
        "        batch_size = self.batch_size\n",
        "        nr_of_steps_train =  self.X_train.shape[0]//self.batch_size \n",
        "        nr_of_steps_valid =  self.X_valid.shape[0]//self.batch_size \n",
        "\n",
        "        for epoch in range(1, self.epochs+1 ):\n",
        "            start_time=time.time()\n",
        "            steps_train_loss = []\n",
        "            steps_train_Acc = []\n",
        "            steps_val_loss = []\n",
        "            steps_val_Acc = []\n",
        "\n",
        "            for i in range(0, nr_of_steps_train ):#train_arrays_std.shape[0]):\n",
        "                X = self.X_train[i* batch_size:(i+1) * batch_size]\n",
        "                Y = self.Y_train[i * batch_size:(i+1) * batch_size]\n",
        "                opt.zero_grad()\n",
        "                model.train()\n",
        "                y_pred = model.forward(X)\n",
        "                loss = loss_fn(y_pred, Y)\n",
        "                loss.backward()\n",
        "                opt.step()\n",
        "                y_pred_labels = y_pred.argmax(axis=1)\n",
        "                nr_of_corrects = (y_pred_labels == Y).sum().item()\n",
        "                step_acc = nr_of_corrects / batch_size\n",
        "                steps_train_Acc.append(step_acc)\n",
        "                steps_train_loss.append(loss.item())\n",
        "\n",
        "                # if (i+1) % 200 == 0:    # print every 2000 mini-batches\n",
        "                #     print('[Epoch: {}, Nr. Batch: {}]  , Train-Steps-loss: {:.1f} , running_acc: {:.1%}'.format(epoch , i+1 , train_steps_loss , batch_nr_correct / train_nr_total))\n",
        "                #     self.train_steps_acc = []\n",
        "                #     train_steps_loss = 0\n",
        "\n",
        "              #validation loss calculation\n",
        "            for j in range(0,nr_of_steps_valid):\n",
        "\n",
        "                val_X = self.X_valid[j*batch_size:(j+1)*batch_size]\n",
        "                val_Y = self.Y_valid[j*batch_size:(j+1)*batch_size]\n",
        "                model.eval()\n",
        "                # val_inputs = val_inputs.to(device)\n",
        "                # val_labels = val_labels.to(device)\n",
        "                val_outputs = model(val_X)\n",
        "                val_loss = loss_fn(val_outputs, val_Y)\n",
        "                val_epoch_loss = val_loss.item()\n",
        "                val_outputs_lbs= val_outputs.argmax(axis=1)\n",
        "                val_nr_correct = (val_outputs_lbs == val_Y).sum().item()\n",
        "                step_acc = val_nr_correct / batch_size\n",
        "                steps_val_Acc.append(step_acc)\n",
        "                steps_val_loss.append(val_epoch_loss)\n",
        "            \n",
        "            # Epoch Performance Metrics\n",
        "            train_epoch_loss = mean(steps_train_loss)\n",
        "            train_epoch_Acc = mean(steps_train_Acc)\n",
        "            self.Epochs_Train_loss.append(train_epoch_loss)\n",
        "            self.Epochs_Train_Acc.append(train_epoch_Acc)   \n",
        "            val_epoch_loss = mean(steps_val_loss)\n",
        "            val_epoch_Acc = mean(steps_val_Acc)\n",
        "            self.Epochs_Val_loss.append(val_epoch_loss)\n",
        "            self.Epochs_Val_Acc.append(val_epoch_Acc)\n",
        "            End_time = time.time() \n",
        "            if self.print_epochs:\n",
        "                print('[Epoch: {}]  , Train_loss: {:.1f} , Train_Acc: {:.1%}, Val_loss: {:.1f} , Val_Acc: {:.1%} , run time: {}'.format(epoch , train_epoch_loss , train_epoch_Acc , val_epoch_loss , val_epoch_Acc, np.round(End_time - start_time, 2)))\n",
        "            \n",
        "        # print('Finished Training')"
      ]
    },
    {
      "cell_type": "markdown",
      "metadata": {
        "id": "0w-7sG3Slop1"
      },
      "source": [
        "# **Define Training data**"
      ]
    },
    {
      "cell_type": "code",
      "execution_count": 20,
      "metadata": {
        "id": "VcVMyCfZlwHO"
      },
      "outputs": [],
      "source": [
        "X_train = input_data[4]\n",
        "Y_train = labels[4]\n",
        "X_valid = input_data[2]\n",
        "Y_valid = labels[2]\n",
        "X_test = input_data[2]\n",
        "Y_test = labels[2]"
      ]
    },
    {
      "cell_type": "markdown",
      "metadata": {
        "id": "geKyTRJ8AlDh"
      },
      "source": [
        "# **Model by Grid**"
      ]
    },
    {
      "cell_type": "code",
      "execution_count": 40,
      "metadata": {
        "id": "VL5FxPLAAlDi"
      },
      "outputs": [],
      "source": [
        "Net = [CNN_Net4]\n",
        "LR = [0.0015,0.0018, 0.002]\n",
        "batch_size = [32,48,64]\n",
        "Momentum = [0.7,0.8,0.85,0.9]\n",
        "epochs = [40]\n",
        "weight_decay = [0,1e-6,1e-7]\n",
        "loss_func  =  [nn.CrossEntropyLoss]\n",
        "opt_func = [torch.optim.SGD]\n",
        "\n",
        "grid = {\n",
        "    'Net' : Net\n",
        "    ,'LR' : LR\n",
        "    ,'batch_size' : batch_size\n",
        "    ,'Momentum' : Momentum\n",
        "    ,'epochs' : epochs\n",
        "    ,'weight_decay' :weight_decay\n",
        "    ,'loss_func'  :loss_func\n",
        "    ,'opt_func' : opt_func\n",
        "}\n",
        "params = sk.model_selection.ParameterGrid(grid)"
      ]
    },
    {
      "cell_type": "code",
      "execution_count": 41,
      "metadata": {
        "id": "hEkHc_7xAlDi",
        "colab": {
          "base_uri": "https://localhost:8080/"
        },
        "outputId": "cc9e44ea-b135-4716-ca3f-68d913b5c1f3"
      },
      "outputs": [
        {
          "output_type": "stream",
          "name": "stderr",
          "text": [
            "Test Accuracy 0.6205787781350482: 100%|███████████████████████████| 108/108 [15:05<00:00,  8.38s/it]\n"
          ]
        }
      ],
      "source": [
        "Hyper_Details = pd.DataFrame(columns=['hyper_param','train_accuracy','valid_accuracy','test_accuracy','train_fscore','valid_fscore','test_fscore','train_precision','valid_precision','test_precision'\n",
        "                                    ,'train_recall','valid_recall','test_recall'])\n",
        "                                    \n",
        "print_epochs = False\n",
        "\n",
        "pbar = tqdm(params, ncols = 100, desc =\"Parameter-Level\")\n",
        "for p in pbar:\n",
        "    Model_ = Model_Training(**p, X_train = X_train , Y_train = Y_train, X_valid = X_valid , Y_valid= Y_valid, print_epochs = print_epochs,hyper_params=p)\n",
        "    np.random.seed(0)\n",
        "    random.seed(0)\n",
        "    torch.manual_seed(0)\n",
        "    Model_.train()\n",
        "    \n",
        "    model_ = Model_.model.eval()\n",
        "\n",
        "    # Train\n",
        "    Y_pred = model_(X_train.to(device)).argmax(axis=1)\n",
        "    Y = Y_train\n",
        "    train_accuracy = sk.metrics.accuracy_score(Y_pred.to('cpu'),Y.to('cpu') )\n",
        "\n",
        "    train_precision, train_recall, train_fscore, m = sk.metrics.precision_recall_fscore_support(Y_pred.to('cpu'),Y.to('cpu'), average = 'weighted')\n",
        "\n",
        "    # Valid\n",
        "    Y_pred = model_(X_valid.to(device)).argmax(axis=1)\n",
        "    Y = Y_valid\n",
        "    valid_accuracy = sk.metrics.accuracy_score(Y_pred.to('cpu'),Y.to('cpu') )\n",
        "    valid_precision, valid_recall, valid_fscore, m = sk.metrics.precision_recall_fscore_support(Y_pred.to('cpu'),Y.to('cpu'), average = 'weighted')\n",
        "\n",
        "    # Test\n",
        "    Y_pred = model_(X_test.to(device)).argmax(axis=1)\n",
        "    Y = Y_test\n",
        "    test_accuracy = sk.metrics.accuracy_score(Y_pred.to('cpu'),Y.to('cpu') )\n",
        "    test_precision, test_recall, test_fscore, m = sk.metrics.precision_recall_fscore_support(Y_pred.to('cpu'),Y.to('cpu'), average = 'weighted')\n",
        "\n",
        "    pbar.set_description(\"Test Accuracy %s\" % test_accuracy)\n",
        "\n",
        "    new_row = pd.Series({'hyper_param':p,'train_accuracy':train_accuracy,'valid_accuracy':valid_accuracy,'test_accuracy':test_accuracy,'train_fscore':train_fscore,'valid_fscore':valid_fscore,'test_fscore':test_fscore\n",
        "    ,'train_precision':train_precision,'valid_precision':valid_precision,'test_precision':test_precision,'train_recall':train_recall,'valid_recall':valid_recall,'test_recall':test_recall}, name='')\n",
        "    Hyper_Details = Hyper_Details.append(new_row)\n",
        "\n",
        "best_one = np.argmax(Hyper_Details.test_fscore)\n",
        "best_param = Hyper_Details.iloc[best_one]['hyper_param']\n",
        "best_params = Hyper_Details.sort_values('test_accuracy',ascending=False)['hyper_param'][:4]\n",
        "\n",
        "Grid_Details = Hyper_Details.sort_values('test_accuracy', ascending=False)\n",
        "\n",
        "dat_hour = datetime.now().strftime(\"%d_%b_%Y_%H:%M\")\n",
        "\n",
        "Grid_Details.to_csv(G_save + 'CNN_Grid_Searc_Details_'+ dat_hour+ '.csv')\n",
        "Model_Grid = Model_Training(**best_param, X_train = X_train, Y_train = Y_train, X_valid = X_valid, Y_valid= Y_valid, print_epochs = print_epochs,hyper_params=best_param)\n",
        "np.random.seed(0)\n",
        "random.seed(0)\n",
        "torch.manual_seed(0)\n",
        "Model_Grid.train()"
      ]
    },
    {
      "cell_type": "code",
      "source": [
        "Grid_Details['test_accuracy'][:5], Grid_Details['hyper_param'][0]"
      ],
      "metadata": {
        "colab": {
          "base_uri": "https://localhost:8080/"
        },
        "id": "xYYE7g4ndwqo",
        "outputId": "4c5697e1-8970-4ce1-b19e-7b1f4e890a29"
      },
      "execution_count": 42,
      "outputs": [
        {
          "output_type": "execute_result",
          "data": {
            "text/plain": [
              "(    0.627010\n",
              "     0.627010\n",
              "     0.623794\n",
              "     0.623794\n",
              "     0.623794\n",
              " Name: test_accuracy, dtype: float64,\n",
              " {'LR': 0.0018,\n",
              "  'Momentum': 0.8,\n",
              "  'Net': __main__.CNN_Net4,\n",
              "  'batch_size': 32,\n",
              "  'epochs': 40,\n",
              "  'loss_func': torch.nn.modules.loss.CrossEntropyLoss,\n",
              "  'opt_func': torch.optim.sgd.SGD,\n",
              "  'weight_decay': 1e-07})"
            ]
          },
          "metadata": {},
          "execution_count": 42
        }
      ]
    },
    {
      "cell_type": "code",
      "source": [
        "Grid_Details['test_accuracy'][:5], Grid_Details['hyper_param'][0]"
      ],
      "metadata": {
        "id": "lpAYiyyMVJe2",
        "outputId": "89fe48c2-a77d-4c52-b027-f7e25a3858c1",
        "colab": {
          "base_uri": "https://localhost:8080/"
        }
      },
      "execution_count": 27,
      "outputs": [
        {
          "output_type": "execute_result",
          "data": {
            "text/plain": [
              "(    0.980707\n",
              "     0.980707\n",
              "     0.971061\n",
              "     0.958199\n",
              "     0.951768\n",
              " Name: test_accuracy, dtype: float64,\n",
              " {'LR': 0.002,\n",
              "  'Momentum': 0.9,\n",
              "  'Net': __main__.CNN_Net3,\n",
              "  'batch_size': 32,\n",
              "  'epochs': 40,\n",
              "  'loss_func': torch.nn.modules.loss.CrossEntropyLoss,\n",
              "  'opt_func': torch.optim.sgd.SGD,\n",
              "  'weight_decay': 1e-07})"
            ]
          },
          "metadata": {},
          "execution_count": 27
        }
      ]
    },
    {
      "cell_type": "code",
      "source": [
        "for i in best_params: print(i)"
      ],
      "metadata": {
        "colab": {
          "base_uri": "https://localhost:8080/"
        },
        "id": "ERIA42B87XV2",
        "outputId": "6d8dcef1-2622-4baf-8c02-a06d1d37d02e"
      },
      "execution_count": 43,
      "outputs": [
        {
          "output_type": "stream",
          "name": "stdout",
          "text": [
            "{'LR': 0.0018, 'Momentum': 0.8, 'Net': <class '__main__.CNN_Net4'>, 'batch_size': 32, 'epochs': 40, 'loss_func': <class 'torch.nn.modules.loss.CrossEntropyLoss'>, 'opt_func': <class 'torch.optim.sgd.SGD'>, 'weight_decay': 1e-07}\n",
            "{'LR': 0.002, 'Momentum': 0.8, 'Net': <class '__main__.CNN_Net4'>, 'batch_size': 32, 'epochs': 40, 'loss_func': <class 'torch.nn.modules.loss.CrossEntropyLoss'>, 'opt_func': <class 'torch.optim.sgd.SGD'>, 'weight_decay': 0}\n",
            "{'LR': 0.002, 'Momentum': 0.85, 'Net': <class '__main__.CNN_Net4'>, 'batch_size': 32, 'epochs': 40, 'loss_func': <class 'torch.nn.modules.loss.CrossEntropyLoss'>, 'opt_func': <class 'torch.optim.sgd.SGD'>, 'weight_decay': 1e-06}\n",
            "{'LR': 0.0015, 'Momentum': 0.85, 'Net': <class '__main__.CNN_Net4'>, 'batch_size': 32, 'epochs': 40, 'loss_func': <class 'torch.nn.modules.loss.CrossEntropyLoss'>, 'opt_func': <class 'torch.optim.sgd.SGD'>, 'weight_decay': 1e-07}\n"
          ]
        }
      ]
    },
    {
      "cell_type": "code",
      "execution_count": 26,
      "metadata": {
        "colab": {
          "base_uri": "https://localhost:8080/"
        },
        "id": "KhCs-5zNEHDh",
        "outputId": "ed5c82b2-f8ed-4b3e-c98f-0fd322a50953"
      },
      "outputs": [
        {
          "output_type": "stream",
          "name": "stdout",
          "text": [
            "{'LR': 0.0015, 'Momentum': 0.85, 'Net': <class '__main__.CNN_Net3'>, 'batch_size': 30, 'epochs': 40, 'loss_func': <class 'torch.nn.modules.loss.CrossEntropyLoss'>, 'opt_func': <class 'torch.optim.sgd.SGD'>, 'weight_decay': 1e-08}\n",
            "{'LR': 0.0015, 'Momentum': 0.85, 'Net': <class '__main__.CNN_Net3'>, 'batch_size': 30, 'epochs': 40, 'loss_func': <class 'torch.nn.modules.loss.CrossEntropyLoss'>, 'opt_func': <class 'torch.optim.sgd.SGD'>, 'weight_decay': 0}\n",
            "{'LR': 0.0015, 'Momentum': 0.85, 'Net': <class '__main__.CNN_Net3'>, 'batch_size': 30, 'epochs': 40, 'loss_func': <class 'torch.nn.modules.loss.CrossEntropyLoss'>, 'opt_func': <class 'torch.optim.sgd.SGD'>, 'weight_decay': 1e-06}\n",
            "{'LR': 0.0018, 'Momentum': 0.72, 'Net': <class '__main__.CNN_Net3'>, 'batch_size': 30, 'epochs': 40, 'loss_func': <class 'torch.nn.modules.loss.CrossEntropyLoss'>, 'opt_func': <class 'torch.optim.sgd.SGD'>, 'weight_decay': 1e-08}\n"
          ]
        }
      ],
      "source": [
        "for i in best_params: print(i)"
      ]
    },
    {
      "cell_type": "code",
      "execution_count": 51,
      "metadata": {
        "colab": {
          "base_uri": "https://localhost:8080/",
          "height": 665
        },
        "id": "2XilnnvICU8q",
        "outputId": "962c8039-6084-452b-c7ae-6deb81198588"
      },
      "outputs": [
        {
          "output_type": "stream",
          "name": "stdout",
          "text": [
            "Nr. of Data : \n",
            " 311\n",
            "Accuracy of The Model : \n",
            " 0.6237942122186495\n"
          ]
        },
        {
          "output_type": "execute_result",
          "data": {
            "text/plain": [
              "<pandas.io.formats.style.Styler at 0x7fe452d07190>"
            ],
            "text/html": [
              "<style type=\"text/css\">\n",
              "</style>\n",
              "<table id=\"T_981d9_\" class=\"dataframe\">\n",
              "  <thead>\n",
              "    <tr>\n",
              "      <th class=\"blank level0\" >&nbsp;</th>\n",
              "      <th class=\"col_heading level0 col0\" >weights</th>\n",
              "      <th class=\"col_heading level0 col1\" >Precision</th>\n",
              "      <th class=\"col_heading level0 col2\" >Recall_Sensitivity</th>\n",
              "      <th class=\"col_heading level0 col3\" >Specificity</th>\n",
              "      <th class=\"col_heading level0 col4\" >f1_score</th>\n",
              "    </tr>\n",
              "  </thead>\n",
              "  <tbody>\n",
              "    <tr>\n",
              "      <th id=\"T_981d9_level0_row0\" class=\"row_heading level0 row0\" >0</th>\n",
              "      <td id=\"T_981d9_row0_col0\" class=\"data row0 col0\" >5.8%</td>\n",
              "      <td id=\"T_981d9_row0_col1\" class=\"data row0 col1\" >47.6%</td>\n",
              "      <td id=\"T_981d9_row0_col2\" class=\"data row0 col2\" >55.6%</td>\n",
              "      <td id=\"T_981d9_row0_col3\" class=\"data row0 col3\" >96.2%</td>\n",
              "      <td id=\"T_981d9_row0_col4\" class=\"data row0 col4\" >51.3%</td>\n",
              "    </tr>\n",
              "    <tr>\n",
              "      <th id=\"T_981d9_level0_row1\" class=\"row_heading level0 row1\" >1</th>\n",
              "      <td id=\"T_981d9_row1_col0\" class=\"data row1 col0\" >10.0%</td>\n",
              "      <td id=\"T_981d9_row1_col1\" class=\"data row1 col1\" >57.1%</td>\n",
              "      <td id=\"T_981d9_row1_col2\" class=\"data row1 col2\" >51.6%</td>\n",
              "      <td id=\"T_981d9_row1_col3\" class=\"data row1 col3\" >95.7%</td>\n",
              "      <td id=\"T_981d9_row1_col4\" class=\"data row1 col4\" >54.2%</td>\n",
              "    </tr>\n",
              "    <tr>\n",
              "      <th id=\"T_981d9_level0_row2\" class=\"row_heading level0 row2\" >2</th>\n",
              "      <td id=\"T_981d9_row2_col0\" class=\"data row2 col0\" >23.5%</td>\n",
              "      <td id=\"T_981d9_row2_col1\" class=\"data row2 col1\" >65.3%</td>\n",
              "      <td id=\"T_981d9_row2_col2\" class=\"data row2 col2\" >64.4%</td>\n",
              "      <td id=\"T_981d9_row2_col3\" class=\"data row2 col3\" >89.5%</td>\n",
              "      <td id=\"T_981d9_row2_col4\" class=\"data row2 col4\" >64.8%</td>\n",
              "    </tr>\n",
              "    <tr>\n",
              "      <th id=\"T_981d9_level0_row3\" class=\"row_heading level0 row3\" >3</th>\n",
              "      <td id=\"T_981d9_row3_col0\" class=\"data row3 col0\" >2.6%</td>\n",
              "      <td id=\"T_981d9_row3_col1\" class=\"data row3 col1\" >50.0%</td>\n",
              "      <td id=\"T_981d9_row3_col2\" class=\"data row3 col2\" >12.5%</td>\n",
              "      <td id=\"T_981d9_row3_col3\" class=\"data row3 col3\" >99.7%</td>\n",
              "      <td id=\"T_981d9_row3_col4\" class=\"data row3 col4\" >20.0%</td>\n",
              "    </tr>\n",
              "    <tr>\n",
              "      <th id=\"T_981d9_level0_row4\" class=\"row_heading level0 row4\" >4</th>\n",
              "      <td id=\"T_981d9_row4_col0\" class=\"data row4 col0\" >21.5%</td>\n",
              "      <td id=\"T_981d9_row4_col1\" class=\"data row4 col1\" >55.6%</td>\n",
              "      <td id=\"T_981d9_row4_col2\" class=\"data row4 col2\" >37.3%</td>\n",
              "      <td id=\"T_981d9_row4_col3\" class=\"data row4 col3\" >91.8%</td>\n",
              "      <td id=\"T_981d9_row4_col4\" class=\"data row4 col4\" >44.6%</td>\n",
              "    </tr>\n",
              "    <tr>\n",
              "      <th id=\"T_981d9_level0_row5\" class=\"row_heading level0 row5\" >5</th>\n",
              "      <td id=\"T_981d9_row5_col0\" class=\"data row5 col0\" >31.8%</td>\n",
              "      <td id=\"T_981d9_row5_col1\" class=\"data row5 col1\" >65.4%</td>\n",
              "      <td id=\"T_981d9_row5_col2\" class=\"data row5 col2\" >83.8%</td>\n",
              "      <td id=\"T_981d9_row5_col3\" class=\"data row5 col3\" >79.2%</td>\n",
              "      <td id=\"T_981d9_row5_col4\" class=\"data row5 col4\" >73.5%</td>\n",
              "    </tr>\n",
              "    <tr>\n",
              "      <th id=\"T_981d9_level0_row6\" class=\"row_heading level0 row6\" >6</th>\n",
              "      <td id=\"T_981d9_row6_col0\" class=\"data row6 col0\" >4.8%</td>\n",
              "      <td id=\"T_981d9_row6_col1\" class=\"data row6 col1\" >75.0%</td>\n",
              "      <td id=\"T_981d9_row6_col2\" class=\"data row6 col2\" >80.0%</td>\n",
              "      <td id=\"T_981d9_row6_col3\" class=\"data row6 col3\" >98.6%</td>\n",
              "      <td id=\"T_981d9_row6_col4\" class=\"data row6 col4\" >77.4%</td>\n",
              "    </tr>\n",
              "    <tr>\n",
              "      <th id=\"T_981d9_level0_row7\" class=\"row_heading level0 row7\" >Simple Avg.</th>\n",
              "      <td id=\"T_981d9_row7_col0\" class=\"data row7 col0\" >nan%</td>\n",
              "      <td id=\"T_981d9_row7_col1\" class=\"data row7 col1\" >59.4%</td>\n",
              "      <td id=\"T_981d9_row7_col2\" class=\"data row7 col2\" >55.0%</td>\n",
              "      <td id=\"T_981d9_row7_col3\" class=\"data row7 col3\" >93.0%</td>\n",
              "      <td id=\"T_981d9_row7_col4\" class=\"data row7 col4\" >55.1%</td>\n",
              "    </tr>\n",
              "    <tr>\n",
              "      <th id=\"T_981d9_level0_row8\" class=\"row_heading level0 row8\" >Weighted Avg.</th>\n",
              "      <td id=\"T_981d9_row8_col0\" class=\"data row8 col0\" >nan%</td>\n",
              "      <td id=\"T_981d9_row8_col1\" class=\"data row8 col1\" >61.5%</td>\n",
              "      <td id=\"T_981d9_row8_col2\" class=\"data row8 col2\" >62.4%</td>\n",
              "      <td id=\"T_981d9_row8_col3\" class=\"data row8 col3\" >88.4%</td>\n",
              "      <td id=\"T_981d9_row8_col4\" class=\"data row8 col4\" >60.8%</td>\n",
              "    </tr>\n",
              "  </tbody>\n",
              "</table>\n"
            ]
          },
          "metadata": {},
          "execution_count": 51
        },
        {
          "output_type": "display_data",
          "data": {
            "text/plain": [
              "<Figure size 432x288 with 2 Axes>"
            ],
            "image/png": "[encoded data removed]"
          },
          "metadata": {
            "needs_background": "light"
          }
        }
      ],
      "source": [
        "model_ = Model_Grid.model.eval()\n",
        "X = input_data[2].to(device)\n",
        "Y = labels[2].to(device)\n",
        "Y_pred = model_(X).argmax(dim=1)\n",
        "confusion_matrix(Y.to('cpu'),Y_pred.to('cpu'))"
      ]
    },
    {
      "cell_type": "code",
      "execution_count": 45,
      "metadata": {
        "colab": {
          "base_uri": "https://localhost:8080/",
          "height": 298
        },
        "id": "Vjhuvwf_AlDi",
        "outputId": "794c5bee-4e77-4026-e75f-070976b05571"
      },
      "outputs": [
        {
          "output_type": "display_data",
          "data": {
            "text/plain": [
              "<Figure size 432x288 with 1 Axes>"
            ],
            "image/png": "[encoded data removed]"
          },
          "metadata": {
            "needs_background": "light"
          }
        }
      ],
      "source": [
        "model_ = Model_Grid\n",
        "epochs_X = [i for i in range(1, model_.epochs+1)]\n",
        "epochs_X\n",
        "plt.subplots(figsize=(6,4))\n",
        "\n",
        "plt.plot(epochs_X , model_.Epochs_Train_loss, 'o-', label='Train loss')\n",
        "plt.plot(epochs_X , model_.Epochs_Val_loss,'ro-', label='Validation loss')\n",
        "plt.xlabel(\"Epochs\", fontsize = 12)\n",
        "plt.ylabel(\"Loss\", fontsize = 12)\n",
        "plt.grid()\n",
        "plt.legend()\n",
        "plt.title('Train and Validation loss by epochs')\n",
        "plt.show()"
      ]
    },
    {
      "cell_type": "code",
      "execution_count": 46,
      "metadata": {
        "colab": {
          "base_uri": "https://localhost:8080/",
          "height": 298
        },
        "id": "Qcr7YNOoAlDi",
        "outputId": "680d0a99-d79d-4b95-bce5-a6ecccdbc914"
      },
      "outputs": [
        {
          "output_type": "display_data",
          "data": {
            "text/plain": [
              "<Figure size 432x288 with 1 Axes>"
            ],
            "image/png": "[encoded data removed]"
          },
          "metadata": {
            "needs_background": "light"
          }
        }
      ],
      "source": [
        "model_ = Model_Grid\n",
        "epochs_X = [i for i in range(1, model_.epochs+1)]\n",
        "epochs_X\n",
        "plt.subplots(figsize=(6,4))\n",
        "\n",
        "plt.plot(epochs_X , model_.Epochs_Train_Acc, 'o-', label='Train Accuracy')\n",
        "plt.plot(epochs_X , model_.Epochs_Val_Acc,'ro-', label='Validation Accuracy')\n",
        "plt.xlabel(\"Epochs\", fontsize = 12)\n",
        "plt.ylabel(\"Accuracy\", fontsize = 12)\n",
        "plt.grid()\n",
        "plt.legend()\n",
        "plt.title('Train and Validation Accuracy by epochs')\n",
        "plt.show()"
      ]
    },
    {
      "cell_type": "markdown",
      "metadata": {
        "id": "GMzwoJOJ2BYX"
      },
      "source": [
        "# **K-Fold Cross Validation**"
      ]
    },
    {
      "cell_type": "code",
      "execution_count": 47,
      "metadata": {
        "colab": {
          "base_uri": "https://localhost:8080/"
        },
        "id": "15sJl9otbNaz",
        "outputId": "0ad69b03-3aaa-4a28-fb52-bd3488720c80"
      },
      "outputs": [
        {
          "output_type": "stream",
          "name": "stderr",
          "text": [
            "Test Accuracy 0.594855305466238: 100%|████████████████████████████████| 4/4 [03:27<00:00, 51.99s/it]\n"
          ]
        }
      ],
      "source": [
        "K_Folds = sk.model_selection.KFold(n_splits=6, shuffle=True)\n",
        "tensor_subset = torch.utils.data.dataset.Subset\n",
        "\n",
        "print_epochs = False\n",
        "# device = 'mps'\n",
        "\n",
        "CV_data = input_data[3]\n",
        "CV_label = labels[3]\n",
        "X_test = input_data[2]\n",
        "Y_test = labels[2]\n",
        "\n",
        "# CV_Details_ = pd.DataFrame(columns=['test_fscore','test_precision','test_recall'])\n",
        "\n",
        "CV_Details = pd.DataFrame(columns=['hyper_param','train_index','valid_index','train_accuracy','valid_accuracy','test_accuracy','train_fscore','valid_fscore','test_fscore','train_precision','valid_precision','test_precision'\n",
        "                                    ,'train_recall','valid_recall','test_recall'])\n",
        "\n",
        "pbar = tqdm(best_params, ncols = 100, desc = \"Hyper Parameters - Level\")\n",
        "\n",
        "for param in pbar:\n",
        "# for i in range(1):\n",
        "    \n",
        "    for fold, (train_index, valid_index) in enumerate(K_Folds.split(CV_data)):\n",
        "\n",
        "\n",
        "        X_train = CV_data[train_index]\n",
        "        Y_train = CV_label[train_index]\n",
        "        X_valid = CV_data[valid_index]\n",
        "        Y_valid = CV_label[valid_index]\n",
        "\n",
        "        # X_train = tensor_subset(input_data[3],train_index).dataset\n",
        "        # Y_train = tensor_subset(labels[3],train_index).dataset\n",
        "        # X_valid = tensor_subset(input_data[3],valid_index).dataset\n",
        "        # Y_valid = tensor_subset(labels[3],valid_index).dataset\n",
        "\n",
        "        Model_ = Model_Training(**param, X_train = X_train, Y_train = Y_train, X_valid = X_valid, Y_valid= Y_valid, print_epochs = print_epochs,hyper_params=param)\n",
        "        np.random.seed(0)\n",
        "        random.seed(0)\n",
        "        torch.manual_seed(0)\n",
        "        Model_.train()\n",
        "\n",
        "        model_ = Model_.model.eval()\n",
        "            \n",
        "        # Train\n",
        "        Y_pred = model_(X_train.to(device)).argmax(axis=1)\n",
        "        Y = Y_train\n",
        "        train_accuracy = sk.metrics.accuracy_score(Y_pred.to('cpu'),Y.to('cpu') )\n",
        "        train_precision, train_recall, train_fscore, m = sk.metrics.precision_recall_fscore_support(Y_pred.to('cpu'),Y.to('cpu') , average = 'weighted')\n",
        "\n",
        "        # Valid\n",
        "        Y_pred = model_(X_valid.to(device)).argmax(axis=1)\n",
        "        Y = Y_valid\n",
        "        valid_accuracy = sk.metrics.accuracy_score(Y_pred.to('cpu'),Y.to('cpu') )\n",
        "        valid_precision, valid_recall, valid_fscore, m = sk.metrics.precision_recall_fscore_support(Y_pred.to('cpu'),Y.to('cpu') , average = 'weighted')\n",
        "\n",
        "        # Test\n",
        "        Y_pred = model_(X_test.to(device)).argmax(axis=1)\n",
        "        Y = Y_test\n",
        "        test_accuracy = sk.metrics.accuracy_score(Y_pred.to('cpu'),Y.to('cpu') )\n",
        "        test_precision, test_recall, test_fscore, m = sk.metrics.precision_recall_fscore_support(Y_pred.to('cpu'),Y.to('cpu') , average = 'weighted')\n",
        "        pbar.set_description(\"Test Accuracy %s\" % test_accuracy)\n",
        "        \n",
        "        new_row = pd.Series({'hyper_param':param,'train_index':train_index,'valid_index':valid_index,'train_accuracy':train_accuracy,'valid_accuracy':valid_accuracy,'test_accuracy':test_accuracy,'train_fscore':train_fscore,'valid_fscore':valid_fscore,'test_fscore':test_fscore\n",
        "        ,'train_precision':train_precision,'valid_precision':valid_precision,'test_precision':test_precision,'train_recall':train_recall,'valid_recall':valid_recall,'test_recall':test_recall}, name='')\n",
        "        CV_Details = CV_Details.append(new_row)\n",
        "\n",
        "CNN_CV_Details = CV_Details.sort_values('test_accuracy', ascending=False)"
      ]
    },
    {
      "cell_type": "code",
      "execution_count": 1,
      "metadata": {
        "colab": {
          "base_uri": "https://localhost:8080/",
          "height": 169
        },
        "id": "sa2B1MB2t5sH",
        "outputId": "cdaf069c-7b72-439c-bf8f-365ba734203a"
      },
      "outputs": [
        {
          "output_type": "error",
          "ename": "NameError",
          "evalue": "ignored",
          "traceback": [
            "\u001b[0;31m---------------------------------------------------------------------------\u001b[0m",
            "\u001b[0;31mNameError\u001b[0m                                 Traceback (most recent call last)",
            "\u001b[0;32m<ipython-input-1-1d0b9b1774a1>\u001b[0m in \u001b[0;36m<module>\u001b[0;34m()\u001b[0m\n\u001b[0;32m----> 1\u001b[0;31m \u001b[0mCNN_CV_Details\u001b[0m\u001b[0;34m[\u001b[0m\u001b[0;34m'test_accuracy'\u001b[0m\u001b[0;34m]\u001b[0m\u001b[0;34m[\u001b[0m\u001b[0;34m:\u001b[0m\u001b[0;36m5\u001b[0m\u001b[0;34m]\u001b[0m\u001b[0;34m,\u001b[0m \u001b[0mCNN_CV_Details\u001b[0m\u001b[0;34m[\u001b[0m\u001b[0;34m'hyper_param'\u001b[0m\u001b[0;34m]\u001b[0m\u001b[0;34m[\u001b[0m\u001b[0;36m0\u001b[0m\u001b[0;34m]\u001b[0m\u001b[0;34m\u001b[0m\u001b[0;34m\u001b[0m\u001b[0m\n\u001b[0m",
            "\u001b[0;31mNameError\u001b[0m: name 'CNN_CV_Details' is not defined"
          ]
        }
      ],
      "source": [
        "CNN_CV_Details['test_accuracy'][:5], CNN_CV_Details['hyper_param'][0]"
      ]
    },
    {
      "cell_type": "code",
      "source": [
        "CNN_CV_Details['test_accuracy'][:5], CNN_CV_Details['hyper_param'][0]"
      ],
      "metadata": {
        "id": "zbD8gadJcsYC",
        "outputId": "7574926a-2b3c-4584-e644-65852d096eb5",
        "colab": {
          "base_uri": "https://localhost:8080/"
        }
      },
      "execution_count": 31,
      "outputs": [
        {
          "output_type": "execute_result",
          "data": {
            "text/plain": [
              "(    0.601286\n",
              "     0.591640\n",
              "     0.588424\n",
              "     0.588424\n",
              "     0.585209\n",
              " Name: test_accuracy, dtype: float64,\n",
              " {'LR': 0.0015,\n",
              "  'Momentum': 0.9,\n",
              "  'Net': __main__.CNN_Net3,\n",
              "  'batch_size': 32,\n",
              "  'epochs': 40,\n",
              "  'loss_func': torch.nn.modules.loss.CrossEntropyLoss,\n",
              "  'opt_func': torch.optim.sgd.SGD,\n",
              "  'weight_decay': 1e-07})"
            ]
          },
          "metadata": {},
          "execution_count": 31
        }
      ]
    },
    {
      "cell_type": "code",
      "execution_count": 32,
      "metadata": {
        "id": "BFxoyRob2fXe",
        "colab": {
          "base_uri": "https://localhost:8080/"
        },
        "outputId": "d04879cd-1986-4771-a3dd-0fd1c0fce586"
      },
      "outputs": [
        {
          "output_type": "stream",
          "name": "stdout",
          "text": [
            "[Epoch: 1]  , Train_loss: 1.7 , Train_Acc: 36.5%, Val_loss: 1.4 , Val_Acc: 42.9% , run time: 0.21\n",
            "[Epoch: 2]  , Train_loss: 1.4 , Train_Acc: 44.1%, Val_loss: 1.4 , Val_Acc: 48.2% , run time: 0.22\n",
            "[Epoch: 3]  , Train_loss: 1.3 , Train_Acc: 48.6%, Val_loss: 1.3 , Val_Acc: 51.8% , run time: 0.22\n",
            "[Epoch: 4]  , Train_loss: 1.3 , Train_Acc: 51.3%, Val_loss: 1.3 , Val_Acc: 52.9% , run time: 0.22\n",
            "[Epoch: 5]  , Train_loss: 1.2 , Train_Acc: 53.8%, Val_loss: 1.2 , Val_Acc: 52.9% , run time: 0.21\n",
            "[Epoch: 6]  , Train_loss: 1.2 , Train_Acc: 54.8%, Val_loss: 1.2 , Val_Acc: 52.5% , run time: 0.21\n",
            "[Epoch: 7]  , Train_loss: 1.1 , Train_Acc: 56.2%, Val_loss: 1.2 , Val_Acc: 54.5% , run time: 0.21\n",
            "[Epoch: 8]  , Train_loss: 1.1 , Train_Acc: 57.6%, Val_loss: 1.2 , Val_Acc: 55.1% , run time: 0.21\n",
            "[Epoch: 9]  , Train_loss: 1.1 , Train_Acc: 57.7%, Val_loss: 1.1 , Val_Acc: 56.0% , run time: 0.21\n",
            "[Epoch: 10]  , Train_loss: 1.1 , Train_Acc: 59.5%, Val_loss: 1.1 , Val_Acc: 56.5% , run time: 0.21\n",
            "[Epoch: 11]  , Train_loss: 1.0 , Train_Acc: 60.1%, Val_loss: 1.1 , Val_Acc: 58.0% , run time: 0.21\n",
            "[Epoch: 12]  , Train_loss: 1.0 , Train_Acc: 61.6%, Val_loss: 1.1 , Val_Acc: 57.1% , run time: 0.21\n",
            "[Epoch: 13]  , Train_loss: 1.0 , Train_Acc: 62.8%, Val_loss: 1.1 , Val_Acc: 58.5% , run time: 0.21\n",
            "[Epoch: 14]  , Train_loss: 0.9 , Train_Acc: 63.5%, Val_loss: 1.1 , Val_Acc: 58.7% , run time: 0.21\n",
            "[Epoch: 15]  , Train_loss: 0.9 , Train_Acc: 64.8%, Val_loss: 1.1 , Val_Acc: 59.4% , run time: 0.21\n",
            "[Epoch: 16]  , Train_loss: 0.9 , Train_Acc: 66.1%, Val_loss: 1.1 , Val_Acc: 59.6% , run time: 0.21\n",
            "[Epoch: 17]  , Train_loss: 0.9 , Train_Acc: 66.6%, Val_loss: 1.1 , Val_Acc: 59.4% , run time: 0.21\n",
            "[Epoch: 18]  , Train_loss: 0.8 , Train_Acc: 67.9%, Val_loss: 1.1 , Val_Acc: 58.7% , run time: 0.21\n",
            "[Epoch: 19]  , Train_loss: 0.8 , Train_Acc: 68.5%, Val_loss: 1.1 , Val_Acc: 59.6% , run time: 0.21\n",
            "[Epoch: 20]  , Train_loss: 0.8 , Train_Acc: 69.1%, Val_loss: 1.1 , Val_Acc: 58.7% , run time: 0.21\n",
            "[Epoch: 21]  , Train_loss: 0.8 , Train_Acc: 70.5%, Val_loss: 1.1 , Val_Acc: 59.8% , run time: 0.21\n",
            "[Epoch: 22]  , Train_loss: 0.8 , Train_Acc: 71.4%, Val_loss: 1.1 , Val_Acc: 58.0% , run time: 0.21\n",
            "[Epoch: 23]  , Train_loss: 0.7 , Train_Acc: 73.2%, Val_loss: 1.1 , Val_Acc: 58.3% , run time: 0.21\n",
            "[Epoch: 24]  , Train_loss: 0.7 , Train_Acc: 74.1%, Val_loss: 1.1 , Val_Acc: 58.3% , run time: 0.21\n",
            "[Epoch: 25]  , Train_loss: 0.7 , Train_Acc: 74.8%, Val_loss: 1.2 , Val_Acc: 58.0% , run time: 0.21\n",
            "[Epoch: 26]  , Train_loss: 0.6 , Train_Acc: 76.0%, Val_loss: 1.2 , Val_Acc: 57.4% , run time: 0.21\n",
            "[Epoch: 27]  , Train_loss: 0.6 , Train_Acc: 77.1%, Val_loss: 1.2 , Val_Acc: 56.5% , run time: 0.21\n",
            "[Epoch: 28]  , Train_loss: 0.6 , Train_Acc: 78.4%, Val_loss: 1.2 , Val_Acc: 55.6% , run time: 0.21\n",
            "[Epoch: 29]  , Train_loss: 0.6 , Train_Acc: 79.7%, Val_loss: 1.2 , Val_Acc: 56.0% , run time: 0.21\n",
            "[Epoch: 30]  , Train_loss: 0.6 , Train_Acc: 80.0%, Val_loss: 1.3 , Val_Acc: 57.4% , run time: 0.21\n",
            "[Epoch: 31]  , Train_loss: 0.5 , Train_Acc: 82.0%, Val_loss: 1.3 , Val_Acc: 57.1% , run time: 0.21\n",
            "[Epoch: 32]  , Train_loss: 0.5 , Train_Acc: 82.7%, Val_loss: 1.4 , Val_Acc: 54.9% , run time: 0.21\n",
            "[Epoch: 33]  , Train_loss: 0.5 , Train_Acc: 82.6%, Val_loss: 1.3 , Val_Acc: 55.1% , run time: 0.21\n",
            "[Epoch: 34]  , Train_loss: 0.5 , Train_Acc: 84.8%, Val_loss: 1.5 , Val_Acc: 52.5% , run time: 0.21\n",
            "[Epoch: 35]  , Train_loss: 0.5 , Train_Acc: 83.1%, Val_loss: 1.4 , Val_Acc: 53.6% , run time: 0.21\n",
            "[Epoch: 36]  , Train_loss: 0.4 , Train_Acc: 85.0%, Val_loss: 1.4 , Val_Acc: 54.0% , run time: 0.21\n",
            "[Epoch: 37]  , Train_loss: 0.4 , Train_Acc: 86.6%, Val_loss: 1.4 , Val_Acc: 56.9% , run time: 0.22\n",
            "[Epoch: 38]  , Train_loss: 0.4 , Train_Acc: 87.2%, Val_loss: 1.4 , Val_Acc: 56.2% , run time: 0.21\n",
            "[Epoch: 39]  , Train_loss: 0.3 , Train_Acc: 88.9%, Val_loss: 1.5 , Val_Acc: 56.5% , run time: 0.21\n",
            "[Epoch: 40]  , Train_loss: 0.3 , Train_Acc: 88.8%, Val_loss: 1.5 , Val_Acc: 57.8% , run time: 0.22\n"
          ]
        }
      ],
      "source": [
        "print_epochs = True\n",
        "param = CNN_CV_Details['hyper_param'][0]\n",
        "train_index = CNN_CV_Details['train_index'][0]\n",
        "valid_index = CNN_CV_Details['valid_index'][0]\n",
        "\n",
        "X_train = input_data[3][train_index]\n",
        "Y_train = labels[3][train_index]\n",
        "X_valid = input_data[3][valid_index]\n",
        "Y_valid = labels[3][valid_index]\n",
        "\n",
        "Model_CV = Model_Training(**param, X_train = X_train, Y_train = Y_train, X_valid = X_valid, Y_valid= Y_valid, print_epochs =print_epochs,hyper_params=param)\n",
        "np.random.seed(0)\n",
        "random.seed(0)\n",
        "torch.manual_seed(0)\n",
        "Model_CV.train()"
      ]
    },
    {
      "cell_type": "code",
      "execution_count": 33,
      "metadata": {
        "colab": {
          "base_uri": "https://localhost:8080/",
          "height": 665
        },
        "outputId": "6a9ec114-4414-42fe-d727-83512a2ba231",
        "id": "AmFzM9hLbNaz"
      },
      "outputs": [
        {
          "output_type": "stream",
          "name": "stdout",
          "text": [
            "Nr. of Data : \n",
            " 311\n",
            "Accuracy of The Model : \n",
            " 0.5980707395498392\n"
          ]
        },
        {
          "output_type": "execute_result",
          "data": {
            "text/plain": [
              "<pandas.io.formats.style.Styler at 0x7fe45324cbd0>"
            ],
            "text/html": [
              "<style type=\"text/css\">\n",
              "</style>\n",
              "<table id=\"T_0f729_\" class=\"dataframe\">\n",
              "  <thead>\n",
              "    <tr>\n",
              "      <th class=\"blank level0\" >&nbsp;</th>\n",
              "      <th class=\"col_heading level0 col0\" >weights</th>\n",
              "      <th class=\"col_heading level0 col1\" >Precision</th>\n",
              "      <th class=\"col_heading level0 col2\" >Recall_Sensitivity</th>\n",
              "      <th class=\"col_heading level0 col3\" >Specificity</th>\n",
              "      <th class=\"col_heading level0 col4\" >f1_score</th>\n",
              "    </tr>\n",
              "  </thead>\n",
              "  <tbody>\n",
              "    <tr>\n",
              "      <th id=\"T_0f729_level0_row0\" class=\"row_heading level0 row0\" >0</th>\n",
              "      <td id=\"T_0f729_row0_col0\" class=\"data row0 col0\" >5.8%</td>\n",
              "      <td id=\"T_0f729_row0_col1\" class=\"data row0 col1\" >39.1%</td>\n",
              "      <td id=\"T_0f729_row0_col2\" class=\"data row0 col2\" >50.0%</td>\n",
              "      <td id=\"T_0f729_row0_col3\" class=\"data row0 col3\" >95.2%</td>\n",
              "      <td id=\"T_0f729_row0_col4\" class=\"data row0 col4\" >43.9%</td>\n",
              "    </tr>\n",
              "    <tr>\n",
              "      <th id=\"T_0f729_level0_row1\" class=\"row_heading level0 row1\" >1</th>\n",
              "      <td id=\"T_0f729_row1_col0\" class=\"data row1 col0\" >10.0%</td>\n",
              "      <td id=\"T_0f729_row1_col1\" class=\"data row1 col1\" >63.6%</td>\n",
              "      <td id=\"T_0f729_row1_col2\" class=\"data row1 col2\" >45.2%</td>\n",
              "      <td id=\"T_0f729_row1_col3\" class=\"data row1 col3\" >97.1%</td>\n",
              "      <td id=\"T_0f729_row1_col4\" class=\"data row1 col4\" >52.8%</td>\n",
              "    </tr>\n",
              "    <tr>\n",
              "      <th id=\"T_0f729_level0_row2\" class=\"row_heading level0 row2\" >2</th>\n",
              "      <td id=\"T_0f729_row2_col0\" class=\"data row2 col0\" >23.5%</td>\n",
              "      <td id=\"T_0f729_row2_col1\" class=\"data row2 col1\" >59.5%</td>\n",
              "      <td id=\"T_0f729_row2_col2\" class=\"data row2 col2\" >64.4%</td>\n",
              "      <td id=\"T_0f729_row2_col3\" class=\"data row2 col3\" >86.6%</td>\n",
              "      <td id=\"T_0f729_row2_col4\" class=\"data row2 col4\" >61.8%</td>\n",
              "    </tr>\n",
              "    <tr>\n",
              "      <th id=\"T_0f729_level0_row3\" class=\"row_heading level0 row3\" >3</th>\n",
              "      <td id=\"T_0f729_row3_col0\" class=\"data row3 col0\" >2.6%</td>\n",
              "      <td id=\"T_0f729_row3_col1\" class=\"data row3 col1\" >20.0%</td>\n",
              "      <td id=\"T_0f729_row3_col2\" class=\"data row3 col2\" >12.5%</td>\n",
              "      <td id=\"T_0f729_row3_col3\" class=\"data row3 col3\" >98.7%</td>\n",
              "      <td id=\"T_0f729_row3_col4\" class=\"data row3 col4\" >15.4%</td>\n",
              "    </tr>\n",
              "    <tr>\n",
              "      <th id=\"T_0f729_level0_row4\" class=\"row_heading level0 row4\" >4</th>\n",
              "      <td id=\"T_0f729_row4_col0\" class=\"data row4 col0\" >21.5%</td>\n",
              "      <td id=\"T_0f729_row4_col1\" class=\"data row4 col1\" >58.8%</td>\n",
              "      <td id=\"T_0f729_row4_col2\" class=\"data row4 col2\" >29.9%</td>\n",
              "      <td id=\"T_0f729_row4_col3\" class=\"data row4 col3\" >94.3%</td>\n",
              "      <td id=\"T_0f729_row4_col4\" class=\"data row4 col4\" >39.6%</td>\n",
              "    </tr>\n",
              "    <tr>\n",
              "      <th id=\"T_0f729_level0_row5\" class=\"row_heading level0 row5\" >5</th>\n",
              "      <td id=\"T_0f729_row5_col0\" class=\"data row5 col0\" >31.8%</td>\n",
              "      <td id=\"T_0f729_row5_col1\" class=\"data row5 col1\" >61.3%</td>\n",
              "      <td id=\"T_0f729_row5_col2\" class=\"data row5 col2\" >84.8%</td>\n",
              "      <td id=\"T_0f729_row5_col3\" class=\"data row5 col3\" >75.0%</td>\n",
              "      <td id=\"T_0f729_row5_col4\" class=\"data row5 col4\" >71.2%</td>\n",
              "    </tr>\n",
              "    <tr>\n",
              "      <th id=\"T_0f729_level0_row6\" class=\"row_heading level0 row6\" >6</th>\n",
              "      <td id=\"T_0f729_row6_col0\" class=\"data row6 col0\" >4.8%</td>\n",
              "      <td id=\"T_0f729_row6_col1\" class=\"data row6 col1\" >100.0%</td>\n",
              "      <td id=\"T_0f729_row6_col2\" class=\"data row6 col2\" >73.3%</td>\n",
              "      <td id=\"T_0f729_row6_col3\" class=\"data row6 col3\" >100.0%</td>\n",
              "      <td id=\"T_0f729_row6_col4\" class=\"data row6 col4\" >84.6%</td>\n",
              "    </tr>\n",
              "    <tr>\n",
              "      <th id=\"T_0f729_level0_row7\" class=\"row_heading level0 row7\" >Simple Avg.</th>\n",
              "      <td id=\"T_0f729_row7_col0\" class=\"data row7 col0\" >nan%</td>\n",
              "      <td id=\"T_0f729_row7_col1\" class=\"data row7 col1\" >57.5%</td>\n",
              "      <td id=\"T_0f729_row7_col2\" class=\"data row7 col2\" >51.4%</td>\n",
              "      <td id=\"T_0f729_row7_col3\" class=\"data row7 col3\" >92.4%</td>\n",
              "      <td id=\"T_0f729_row7_col4\" class=\"data row7 col4\" >52.8%</td>\n",
              "    </tr>\n",
              "    <tr>\n",
              "      <th id=\"T_0f729_level0_row8\" class=\"row_heading level0 row8\" >Weighted Avg.</th>\n",
              "      <td id=\"T_0f729_row8_col0\" class=\"data row8 col0\" >nan%</td>\n",
              "      <td id=\"T_0f729_row8_col1\" class=\"data row8 col1\" >60.1%</td>\n",
              "      <td id=\"T_0f729_row8_col2\" class=\"data row8 col2\" >59.8%</td>\n",
              "      <td id=\"T_0f729_row8_col3\" class=\"data row8 col3\" >87.1%</td>\n",
              "      <td id=\"T_0f729_row8_col4\" class=\"data row8 col4\" >58.0%</td>\n",
              "    </tr>\n",
              "  </tbody>\n",
              "</table>\n"
            ]
          },
          "metadata": {},
          "execution_count": 33
        },
        {
          "output_type": "display_data",
          "data": {
            "text/plain": [
              "<Figure size 432x288 with 2 Axes>"
            ],
            "image/png": "[encoded data removed]"
          },
          "metadata": {
            "needs_background": "light"
          }
        }
      ],
      "source": [
        "model_ = Model_CV.model.eval()\n",
        "X = input_data[2].to(device)\n",
        "Y = labels[2].to(device)\n",
        "Y_pred = model_(X).argmax(dim=1)\n",
        "confusion_matrix(Y.to('cpu'),Y_pred.to('cpu'))"
      ]
    },
    {
      "cell_type": "code",
      "source": [
        "model_ = Model_CV\n",
        "epochs_X = [i for i in range(1, model_.epochs+1)]\n",
        "epochs_X\n",
        "plt.subplots(figsize=(6,4))\n",
        "\n",
        "plt.plot(epochs_X , model_.Epochs_Train_loss, 'o-', label='Train loss')\n",
        "plt.plot(epochs_X , model_.Epochs_Val_loss,'ro-', label='Validation loss')\n",
        "plt.xlabel(\"Epochs\", fontsize = 12)\n",
        "plt.ylabel(\"Loss\", fontsize = 12)\n",
        "plt.grid()\n",
        "plt.legend()\n",
        "plt.title('Train and Validation loss by epochs')\n",
        "plt.show()"
      ],
      "metadata": {
        "colab": {
          "base_uri": "https://localhost:8080/",
          "height": 298
        },
        "id": "amh6DOqrt6sP",
        "outputId": "3caeff35-e5b1-4550-e84a-bbb06d989ec3"
      },
      "execution_count": 34,
      "outputs": [
        {
          "output_type": "display_data",
          "data": {
            "text/plain": [
              "<Figure size 432x288 with 1 Axes>"
            ],
            "image/png": "[encoded data removed]"
          },
          "metadata": {
            "needs_background": "light"
          }
        }
      ]
    },
    {
      "cell_type": "code",
      "source": [
        "model_ = Model_CV\n",
        "epochs_X = [i for i in range(1, model_.epochs+1)]\n",
        "epochs_X\n",
        "plt.subplots(figsize=(6,4))\n",
        "\n",
        "plt.plot(epochs_X , model_.Epochs_Train_Acc, 'o-', label='Train Accuracy')\n",
        "plt.plot(epochs_X , model_.Epochs_Val_Acc,'ro-', label='Validation Accuracy')\n",
        "plt.xlabel(\"Epochs\", fontsize = 12)\n",
        "plt.ylabel(\"Accuracy\", fontsize = 12)\n",
        "plt.grid()\n",
        "plt.legend()\n",
        "plt.title('Train and Validation Accuracy by epochs')\n",
        "plt.show()"
      ],
      "metadata": {
        "colab": {
          "base_uri": "https://localhost:8080/",
          "height": 298
        },
        "id": "N_3BtBCouJeg",
        "outputId": "a4db31a7-5470-4d5e-9bd6-ad34ad767ec5"
      },
      "execution_count": 35,
      "outputs": [
        {
          "output_type": "display_data",
          "data": {
            "text/plain": [
              "<Figure size 432x288 with 1 Axes>"
            ],
            "image/png": "[encoded data removed]"
          },
          "metadata": {
            "needs_background": "light"
          }
        }
      ]
    },
    {
      "cell_type": "markdown",
      "metadata": {
        "id": "xg-ZJmCpAlDj"
      },
      "source": [
        "# **Save the model**"
      ]
    },
    {
      "cell_type": "code",
      "execution_count": 69,
      "metadata": {
        "id": "DM15kY74AlDj"
      },
      "outputs": [],
      "source": [
        "dat_hour = datetime.now().strftime(\"%d_%b_%Y_%H:%M\")\n",
        "pickle.dump(Model_Grid, open(G_save + 'CNN_60x45_Best_Grid'+dat_hour, 'wb'))\n",
        "pickle.dump(Model_CV, open(G_save + 'CNN_60x45_Best_CV_14.06'+dat_hour, 'wb'))"
      ]
    },
    {
      "cell_type": "markdown",
      "source": [
        "# **Save Grid search-Cross Validation Details**"
      ],
      "metadata": {
        "id": "EJkLbYB2_w4H"
      }
    },
    {
      "cell_type": "code",
      "execution_count": 70,
      "metadata": {
        "id": "ZgZ8d28qAlDj"
      },
      "outputs": [],
      "source": [
        "pickle.dump([CNN_Net1,CNN_Net2,CNN_Net3, Model_Training], open(G_save + 'CNNs_Network_Training', \"wb\"))"
      ]
    },
    {
      "cell_type": "code",
      "source": [
        "dat_hour = datetime.now().strftime(\"%d_%b_%Y_%H:%M\")\n",
        "pickle.dump(Grid_Details, open(G_save + 'Grid_Details_'+dat_hour, 'wb'))\n",
        "pickle.dump(CNN_CV_Details, open(G_save + 'CNN_CV_Details_'+dat_hour, 'wb'))"
      ],
      "metadata": {
        "id": "bnwerzvcA_Wu"
      },
      "execution_count": 34,
      "outputs": []
    },
    {
      "cell_type": "markdown",
      "metadata": {
        "id": "oW6taeF-AlDj"
      },
      "source": [
        ""
      ]
    },
    {
      "cell_type": "code",
      "source": [
        "CNN_CV_Details"
      ],
      "metadata": {
        "id": "c-PY4vtpA260",
        "outputId": "2ccc5ce0-9bb0-4917-80b8-9eb72b762b14",
        "colab": {
          "base_uri": "https://localhost:8080/",
          "height": 1000
        }
      },
      "execution_count": 32,
      "outputs": [
        {
          "output_type": "execute_result",
          "data": {
            "text/plain": [
              "                                        hyper_param  \\\n",
              "  {'LR': 0.0015, 'Momentum': 0.85, 'Net': <class...   \n",
              "  {'LR': 0.0018, 'Momentum': 0.72, 'Net': <class...   \n",
              "  {'LR': 0.0015, 'Momentum': 0.85, 'Net': <class...   \n",
              "  {'LR': 0.0018, 'Momentum': 0.72, 'Net': <class...   \n",
              "  {'LR': 0.0012, 'Momentum': 0.85, 'Net': <class...   \n",
              "  {'LR': 0.0015, 'Momentum': 0.85, 'Net': <class...   \n",
              "  {'LR': 0.0012, 'Momentum': 0.85, 'Net': <class...   \n",
              "  {'LR': 0.0015, 'Momentum': 0.85, 'Net': <class...   \n",
              "  {'LR': 0.0012, 'Momentum': 0.85, 'Net': <class...   \n",
              "  {'LR': 0.0018, 'Momentum': 0.72, 'Net': <class...   \n",
              "  {'LR': 0.0012, 'Momentum': 0.85, 'Net': <class...   \n",
              "  {'LR': 0.0015, 'Momentum': 0.85, 'Net': <class...   \n",
              "  {'LR': 0.0015, 'Momentum': 0.85, 'Net': <class...   \n",
              "  {'LR': 0.0015, 'Momentum': 0.85, 'Net': <class...   \n",
              "  {'LR': 0.0015, 'Momentum': 0.85, 'Net': <class...   \n",
              "  {'LR': 0.0015, 'Momentum': 0.85, 'Net': <class...   \n",
              "  {'LR': 0.0012, 'Momentum': 0.85, 'Net': <class...   \n",
              "  {'LR': 0.0018, 'Momentum': 0.72, 'Net': <class...   \n",
              "  {'LR': 0.0018, 'Momentum': 0.72, 'Net': <class...   \n",
              "  {'LR': 0.0018, 'Momentum': 0.72, 'Net': <class...   \n",
              "  {'LR': 0.0012, 'Momentum': 0.85, 'Net': <class...   \n",
              "  {'LR': 0.0015, 'Momentum': 0.85, 'Net': <class...   \n",
              "  {'LR': 0.0015, 'Momentum': 0.85, 'Net': <class...   \n",
              "  {'LR': 0.0015, 'Momentum': 0.85, 'Net': <class...   \n",
              "\n",
              "                                        train_index  \\\n",
              "  [0, 1, 2, 3, 4, 5, 6, 7, 8, 11, 12, 13, 16, 17...   \n",
              "  [0, 1, 2, 3, 4, 7, 8, 9, 10, 11, 12, 13, 14, 1...   \n",
              "  [0, 1, 2, 3, 4, 5, 6, 7, 8, 11, 12, 13, 16, 17...   \n",
              "  [0, 1, 2, 3, 4, 5, 6, 7, 8, 11, 12, 13, 16, 17...   \n",
              "  [0, 1, 3, 4, 5, 6, 7, 9, 10, 11, 12, 14, 15, 1...   \n",
              "  [0, 1, 3, 4, 5, 6, 7, 9, 10, 11, 12, 14, 15, 1...   \n",
              "  [0, 1, 2, 3, 4, 5, 6, 7, 8, 11, 12, 13, 16, 17...   \n",
              "  [0, 1, 3, 4, 5, 6, 7, 9, 10, 11, 12, 14, 15, 1...   \n",
              "  [0, 1, 2, 3, 4, 5, 6, 7, 8, 9, 10, 11, 13, 14,...   \n",
              "  [0, 1, 2, 3, 4, 5, 6, 7, 8, 9, 10, 11, 13, 14,...   \n",
              "  [0, 1, 2, 3, 4, 7, 8, 9, 10, 11, 12, 13, 14, 1...   \n",
              "  [0, 1, 2, 3, 4, 7, 8, 9, 10, 11, 12, 13, 14, 1...   \n",
              "  [0, 1, 2, 3, 4, 5, 6, 7, 8, 9, 10, 11, 13, 14,...   \n",
              "  [0, 1, 2, 3, 4, 5, 6, 7, 8, 9, 10, 11, 13, 14,...   \n",
              "  [0, 1, 2, 3, 4, 7, 8, 9, 10, 11, 12, 13, 14, 1...   \n",
              "  [0, 2, 3, 5, 6, 7, 8, 9, 10, 12, 13, 14, 15, 1...   \n",
              "  [0, 2, 3, 5, 6, 7, 8, 9, 10, 12, 13, 14, 15, 1...   \n",
              "  [0, 2, 3, 5, 6, 7, 8, 9, 10, 12, 13, 14, 15, 1...   \n",
              "  [0, 1, 3, 4, 5, 6, 7, 9, 10, 11, 12, 14, 15, 1...   \n",
              "  [1, 2, 4, 5, 6, 8, 9, 10, 11, 12, 13, 14, 15, ...   \n",
              "  [1, 2, 4, 5, 6, 8, 9, 10, 11, 12, 13, 14, 15, ...   \n",
              "  [0, 2, 3, 5, 6, 7, 8, 9, 10, 12, 13, 14, 15, 1...   \n",
              "  [1, 2, 4, 5, 6, 8, 9, 10, 11, 12, 13, 14, 15, ...   \n",
              "  [1, 2, 4, 5, 6, 8, 9, 10, 11, 12, 13, 14, 15, ...   \n",
              "\n",
              "                                        valid_index  train_accuracy  \\\n",
              "  [9, 10, 14, 15, 23, 27, 33, 53, 64, 69, 70, 76...        0.835552   \n",
              "  [5, 6, 19, 30, 31, 34, 36, 42, 43, 54, 55, 61,...        0.738944   \n",
              "  [9, 10, 14, 15, 23, 27, 33, 53, 64, 69, 70, 76...        0.838128   \n",
              "  [9, 10, 14, 15, 23, 27, 33, 53, 64, 69, 70, 76...        0.742379   \n",
              "  [2, 8, 13, 16, 29, 32, 35, 38, 44, 45, 49, 50,...        0.787462   \n",
              "  [2, 8, 13, 16, 29, 32, 35, 38, 44, 45, 49, 50,...        0.833834   \n",
              "  [9, 10, 14, 15, 23, 27, 33, 53, 64, 69, 70, 76...        0.789180   \n",
              "  [2, 8, 13, 16, 29, 32, 35, 38, 44, 45, 49, 50,...        0.839845   \n",
              "  [12, 21, 28, 46, 51, 62, 74, 79, 81, 83, 90, 9...        0.794762   \n",
              "  [12, 21, 28, 46, 51, 62, 74, 79, 81, 83, 90, 9...        0.728210   \n",
              "  [5, 6, 19, 30, 31, 34, 36, 42, 43, 54, 55, 61,...        0.769000   \n",
              "  [5, 6, 19, 30, 31, 34, 36, 42, 43, 54, 55, 61,...        0.812366   \n",
              "  [12, 21, 28, 46, 51, 62, 74, 79, 81, 83, 90, 9...        0.852726   \n",
              "  [12, 21, 28, 46, 51, 62, 74, 79, 81, 83, 90, 9...        0.848862   \n",
              "  [5, 6, 19, 30, 31, 34, 36, 42, 43, 54, 55, 61,...        0.813654   \n",
              "  [1, 4, 11, 17, 18, 20, 22, 37, 39, 40, 41, 47,...        0.840275   \n",
              "  [1, 4, 11, 17, 18, 20, 22, 37, 39, 40, 41, 47,...        0.798197   \n",
              "  [1, 4, 11, 17, 18, 20, 22, 37, 39, 40, 41, 47,...        0.743667   \n",
              "  [2, 8, 13, 16, 29, 32, 35, 38, 44, 45, 49, 50,...        0.734221   \n",
              "  [0, 3, 7, 24, 25, 26, 63, 67, 84, 86, 91, 93, ...        0.739056   \n",
              "  [0, 3, 7, 24, 25, 26, 63, 67, 84, 86, 91, 93, ...        0.792275   \n",
              "  [1, 4, 11, 17, 18, 20, 22, 37, 39, 40, 41, 47,...        0.842422   \n",
              "  [0, 3, 7, 24, 25, 26, 63, 67, 84, 86, 91, 93, ...        0.854506   \n",
              "  [0, 3, 7, 24, 25, 26, 63, 67, 84, 86, 91, 93, ...        0.851931   \n",
              "\n",
              "  valid_accuracy  test_accuracy  train_fscore  valid_fscore  test_fscore  \\\n",
              "        0.590129       0.627010      0.839324      0.610045     0.648319   \n",
              "        0.577253       0.627010      0.748904      0.587130     0.639911   \n",
              "        0.583691       0.623794      0.841369      0.602170     0.645036   \n",
              "        0.587983       0.623794      0.749366      0.605881     0.636227   \n",
              "        0.609442       0.617363      0.790502      0.614311     0.630926   \n",
              "        0.615880       0.614148      0.835274      0.619373     0.624789   \n",
              "        0.579399       0.614148      0.794135      0.594503     0.633184   \n",
              "        0.609442       0.614148      0.840848      0.613001     0.623335   \n",
              "        0.611588       0.610932      0.797186      0.625517     0.621714   \n",
              "        0.603004       0.607717      0.741770      0.629567     0.630397   \n",
              "        0.583691       0.604502      0.782477      0.598131     0.632270   \n",
              "        0.577253       0.604502      0.821564      0.591444     0.631390   \n",
              "        0.620172       0.601286      0.853794      0.628168     0.606241   \n",
              "        0.611588       0.598071      0.849890      0.619991     0.603773   \n",
              "        0.585837       0.598071      0.822793      0.599232     0.623941   \n",
              "        0.583691       0.591640      0.843076      0.596686     0.606051   \n",
              "        0.577253       0.591640      0.802259      0.588788     0.606197   \n",
              "        0.583691       0.588424      0.752366      0.602406     0.603476   \n",
              "        0.609442       0.588424      0.742818      0.626802     0.605731   \n",
              "        0.584946       0.581994      0.746228      0.597758     0.595632   \n",
              "        0.595699       0.578778      0.795586      0.603211     0.591401   \n",
              "        0.575107       0.578778      0.845463      0.586800     0.594940   \n",
              "        0.604301       0.575563      0.855511      0.610312     0.584061   \n",
              "        0.604301       0.569132      0.853231      0.610276     0.577385   \n",
              "\n",
              "  train_precision  valid_precision  test_precision  train_recall  \\\n",
              "         0.859983         0.657567        0.698216      0.835552   \n",
              "         0.781080         0.614127        0.680286      0.738944   \n",
              "         0.859783         0.646188        0.695872      0.838128   \n",
              "         0.776588         0.661003        0.669306      0.742379   \n",
              "         0.806781         0.631608        0.668754      0.787462   \n",
              "         0.845630         0.636588        0.656168      0.833834   \n",
              "         0.814001         0.630101        0.676396      0.789180   \n",
              "         0.849637         0.629162        0.652396      0.839845   \n",
              "         0.809361         0.651472        0.653165      0.794762   \n",
              "         0.786525         0.686992        0.696180      0.728210   \n",
              "         0.826039         0.638236        0.699087      0.769000   \n",
              "         0.854822         0.630668        0.695664      0.812366   \n",
              "         0.862164         0.644862        0.629078      0.852726   \n",
              "         0.859673         0.638012        0.628140      0.848862   \n",
              "         0.855929         0.637484        0.683996      0.813654   \n",
              "         0.863743         0.629856        0.653056      0.840275   \n",
              "         0.821630         0.609967        0.648772      0.798197   \n",
              "         0.787020         0.637146        0.651407      0.743667   \n",
              "         0.781021         0.675474        0.667107      0.734221   \n",
              "         0.771242         0.630330        0.636145      0.739056   \n",
              "         0.811019         0.625424        0.630245      0.792275   \n",
              "         0.865340         0.616052        0.643372      0.842422   \n",
              "         0.862575         0.633437        0.611221      0.854506   \n",
              "         0.861018         0.630454        0.605174      0.851931   \n",
              "\n",
              "  valid_recall  test_recall  \n",
              "      0.590129     0.627010  \n",
              "      0.577253     0.627010  \n",
              "      0.583691     0.623794  \n",
              "      0.587983     0.623794  \n",
              "      0.609442     0.617363  \n",
              "      0.615880     0.614148  \n",
              "      0.579399     0.614148  \n",
              "      0.609442     0.614148  \n",
              "      0.611588     0.610932  \n",
              "      0.603004     0.607717  \n",
              "      0.583691     0.604502  \n",
              "      0.577253     0.604502  \n",
              "      0.620172     0.601286  \n",
              "      0.611588     0.598071  \n",
              "      0.585837     0.598071  \n",
              "      0.583691     0.591640  \n",
              "      0.577253     0.591640  \n",
              "      0.583691     0.588424  \n",
              "      0.609442     0.588424  \n",
              "      0.584946     0.581994  \n",
              "      0.595699     0.578778  \n",
              "      0.575107     0.578778  \n",
              "      0.604301     0.575563  \n",
              "      0.604301     0.569132  "
            ],
            "text/html": [
              "\n",
              "  <div id=\"df-28fc05b7-e58c-492d-977b-086949854832\">\n",
              "    <div class=\"colab-df-container\">\n",
              "      <div>\n",
              "<style scoped>\n",
              "    .dataframe tbody tr th:only-of-type {\n",
              "        vertical-align: middle;\n",
              "    }\n",
              "\n",
              "    .dataframe tbody tr th {\n",
              "        vertical-align: top;\n",
              "    }\n",
              "\n",
              "    .dataframe thead th {\n",
              "        text-align: right;\n",
              "    }\n",
              "</style>\n",
              "<table border=\"1\" class=\"dataframe\">\n",
              "  <thead>\n",
              "    <tr style=\"text-align: right;\">\n",
              "      <th></th>\n",
              "      <th>hyper_param</th>\n",
              "      <th>train_index</th>\n",
              "      <th>valid_index</th>\n",
              "      <th>train_accuracy</th>\n",
              "      <th>valid_accuracy</th>\n",
              "      <th>test_accuracy</th>\n",
              "      <th>train_fscore</th>\n",
              "      <th>valid_fscore</th>\n",
              "      <th>test_fscore</th>\n",
              "      <th>train_precision</th>\n",
              "      <th>valid_precision</th>\n",
              "      <th>test_precision</th>\n",
              "      <th>train_recall</th>\n",
              "      <th>valid_recall</th>\n",
              "      <th>test_recall</th>\n",
              "    </tr>\n",
              "  </thead>\n",
              "  <tbody>\n",
              "    <tr>\n",
              "      <th></th>\n",
              "      <td>{'LR': 0.0015, 'Momentum': 0.85, 'Net': &lt;class...</td>\n",
              "      <td>[0, 1, 2, 3, 4, 5, 6, 7, 8, 11, 12, 13, 16, 17...</td>\n",
              "      <td>[9, 10, 14, 15, 23, 27, 33, 53, 64, 69, 70, 76...</td>\n",
              "      <td>0.835552</td>\n",
              "      <td>0.590129</td>\n",
              "      <td>0.627010</td>\n",
              "      <td>0.839324</td>\n",
              "      <td>0.610045</td>\n",
              "      <td>0.648319</td>\n",
              "      <td>0.859983</td>\n",
              "      <td>0.657567</td>\n",
              "      <td>0.698216</td>\n",
              "      <td>0.835552</td>\n",
              "      <td>0.590129</td>\n",
              "      <td>0.627010</td>\n",
              "    </tr>\n",
              "    <tr>\n",
              "      <th></th>\n",
              "      <td>{'LR': 0.0018, 'Momentum': 0.72, 'Net': &lt;class...</td>\n",
              "      <td>[0, 1, 2, 3, 4, 7, 8, 9, 10, 11, 12, 13, 14, 1...</td>\n",
              "      <td>[5, 6, 19, 30, 31, 34, 36, 42, 43, 54, 55, 61,...</td>\n",
              "      <td>0.738944</td>\n",
              "      <td>0.577253</td>\n",
              "      <td>0.627010</td>\n",
              "      <td>0.748904</td>\n",
              "      <td>0.587130</td>\n",
              "      <td>0.639911</td>\n",
              "      <td>0.781080</td>\n",
              "      <td>0.614127</td>\n",
              "      <td>0.680286</td>\n",
              "      <td>0.738944</td>\n",
              "      <td>0.577253</td>\n",
              "      <td>0.627010</td>\n",
              "    </tr>\n",
              "    <tr>\n",
              "      <th></th>\n",
              "      <td>{'LR': 0.0015, 'Momentum': 0.85, 'Net': &lt;class...</td>\n",
              "      <td>[0, 1, 2, 3, 4, 5, 6, 7, 8, 11, 12, 13, 16, 17...</td>\n",
              "      <td>[9, 10, 14, 15, 23, 27, 33, 53, 64, 69, 70, 76...</td>\n",
              "      <td>0.838128</td>\n",
              "      <td>0.583691</td>\n",
              "      <td>0.623794</td>\n",
              "      <td>0.841369</td>\n",
              "      <td>0.602170</td>\n",
              "      <td>0.645036</td>\n",
              "      <td>0.859783</td>\n",
              "      <td>0.646188</td>\n",
              "      <td>0.695872</td>\n",
              "      <td>0.838128</td>\n",
              "      <td>0.583691</td>\n",
              "      <td>0.623794</td>\n",
              "    </tr>\n",
              "    <tr>\n",
              "      <th></th>\n",
              "      <td>{'LR': 0.0018, 'Momentum': 0.72, 'Net': &lt;class...</td>\n",
              "      <td>[0, 1, 2, 3, 4, 5, 6, 7, 8, 11, 12, 13, 16, 17...</td>\n",
              "      <td>[9, 10, 14, 15, 23, 27, 33, 53, 64, 69, 70, 76...</td>\n",
              "      <td>0.742379</td>\n",
              "      <td>0.587983</td>\n",
              "      <td>0.623794</td>\n",
              "      <td>0.749366</td>\n",
              "      <td>0.605881</td>\n",
              "      <td>0.636227</td>\n",
              "      <td>0.776588</td>\n",
              "      <td>0.661003</td>\n",
              "      <td>0.669306</td>\n",
              "      <td>0.742379</td>\n",
              "      <td>0.587983</td>\n",
              "      <td>0.623794</td>\n",
              "    </tr>\n",
              "    <tr>\n",
              "      <th></th>\n",
              "      <td>{'LR': 0.0012, 'Momentum': 0.85, 'Net': &lt;class...</td>\n",
              "      <td>[0, 1, 3, 4, 5, 6, 7, 9, 10, 11, 12, 14, 15, 1...</td>\n",
              "      <td>[2, 8, 13, 16, 29, 32, 35, 38, 44, 45, 49, 50,...</td>\n",
              "      <td>0.787462</td>\n",
              "      <td>0.609442</td>\n",
              "      <td>0.617363</td>\n",
              "      <td>0.790502</td>\n",
              "      <td>0.614311</td>\n",
              "      <td>0.630926</td>\n",
              "      <td>0.806781</td>\n",
              "      <td>0.631608</td>\n",
              "      <td>0.668754</td>\n",
              "      <td>0.787462</td>\n",
              "      <td>0.609442</td>\n",
              "      <td>0.617363</td>\n",
              "    </tr>\n",
              "    <tr>\n",
              "      <th></th>\n",
              "      <td>{'LR': 0.0015, 'Momentum': 0.85, 'Net': &lt;class...</td>\n",
              "      <td>[0, 1, 3, 4, 5, 6, 7, 9, 10, 11, 12, 14, 15, 1...</td>\n",
              "      <td>[2, 8, 13, 16, 29, 32, 35, 38, 44, 45, 49, 50,...</td>\n",
              "      <td>0.833834</td>\n",
              "      <td>0.615880</td>\n",
              "      <td>0.614148</td>\n",
              "      <td>0.835274</td>\n",
              "      <td>0.619373</td>\n",
              "      <td>0.624789</td>\n",
              "      <td>0.845630</td>\n",
              "      <td>0.636588</td>\n",
              "      <td>0.656168</td>\n",
              "      <td>0.833834</td>\n",
              "      <td>0.615880</td>\n",
              "      <td>0.614148</td>\n",
              "    </tr>\n",
              "    <tr>\n",
              "      <th></th>\n",
              "      <td>{'LR': 0.0012, 'Momentum': 0.85, 'Net': &lt;class...</td>\n",
              "      <td>[0, 1, 2, 3, 4, 5, 6, 7, 8, 11, 12, 13, 16, 17...</td>\n",
              "      <td>[9, 10, 14, 15, 23, 27, 33, 53, 64, 69, 70, 76...</td>\n",
              "      <td>0.789180</td>\n",
              "      <td>0.579399</td>\n",
              "      <td>0.614148</td>\n",
              "      <td>0.794135</td>\n",
              "      <td>0.594503</td>\n",
              "      <td>0.633184</td>\n",
              "      <td>0.814001</td>\n",
              "      <td>0.630101</td>\n",
              "      <td>0.676396</td>\n",
              "      <td>0.789180</td>\n",
              "      <td>0.579399</td>\n",
              "      <td>0.614148</td>\n",
              "    </tr>\n",
              "    <tr>\n",
              "      <th></th>\n",
              "      <td>{'LR': 0.0015, 'Momentum': 0.85, 'Net': &lt;class...</td>\n",
              "      <td>[0, 1, 3, 4, 5, 6, 7, 9, 10, 11, 12, 14, 15, 1...</td>\n",
              "      <td>[2, 8, 13, 16, 29, 32, 35, 38, 44, 45, 49, 50,...</td>\n",
              "      <td>0.839845</td>\n",
              "      <td>0.609442</td>\n",
              "      <td>0.614148</td>\n",
              "      <td>0.840848</td>\n",
              "      <td>0.613001</td>\n",
              "      <td>0.623335</td>\n",
              "      <td>0.849637</td>\n",
              "      <td>0.629162</td>\n",
              "      <td>0.652396</td>\n",
              "      <td>0.839845</td>\n",
              "      <td>0.609442</td>\n",
              "      <td>0.614148</td>\n",
              "    </tr>\n",
              "    <tr>\n",
              "      <th></th>\n",
              "      <td>{'LR': 0.0012, 'Momentum': 0.85, 'Net': &lt;class...</td>\n",
              "      <td>[0, 1, 2, 3, 4, 5, 6, 7, 8, 9, 10, 11, 13, 14,...</td>\n",
              "      <td>[12, 21, 28, 46, 51, 62, 74, 79, 81, 83, 90, 9...</td>\n",
              "      <td>0.794762</td>\n",
              "      <td>0.611588</td>\n",
              "      <td>0.610932</td>\n",
              "      <td>0.797186</td>\n",
              "      <td>0.625517</td>\n",
              "      <td>0.621714</td>\n",
              "      <td>0.809361</td>\n",
              "      <td>0.651472</td>\n",
              "      <td>0.653165</td>\n",
              "      <td>0.794762</td>\n",
              "      <td>0.611588</td>\n",
              "      <td>0.610932</td>\n",
              "    </tr>\n",
              "    <tr>\n",
              "      <th></th>\n",
              "      <td>{'LR': 0.0018, 'Momentum': 0.72, 'Net': &lt;class...</td>\n",
              "      <td>[0, 1, 2, 3, 4, 5, 6, 7, 8, 9, 10, 11, 13, 14,...</td>\n",
              "      <td>[12, 21, 28, 46, 51, 62, 74, 79, 81, 83, 90, 9...</td>\n",
              "      <td>0.728210</td>\n",
              "      <td>0.603004</td>\n",
              "      <td>0.607717</td>\n",
              "      <td>0.741770</td>\n",
              "      <td>0.629567</td>\n",
              "      <td>0.630397</td>\n",
              "      <td>0.786525</td>\n",
              "      <td>0.686992</td>\n",
              "      <td>0.696180</td>\n",
              "      <td>0.728210</td>\n",
              "      <td>0.603004</td>\n",
              "      <td>0.607717</td>\n",
              "    </tr>\n",
              "    <tr>\n",
              "      <th></th>\n",
              "      <td>{'LR': 0.0012, 'Momentum': 0.85, 'Net': &lt;class...</td>\n",
              "      <td>[0, 1, 2, 3, 4, 7, 8, 9, 10, 11, 12, 13, 14, 1...</td>\n",
              "      <td>[5, 6, 19, 30, 31, 34, 36, 42, 43, 54, 55, 61,...</td>\n",
              "      <td>0.769000</td>\n",
              "      <td>0.583691</td>\n",
              "      <td>0.604502</td>\n",
              "      <td>0.782477</td>\n",
              "      <td>0.598131</td>\n",
              "      <td>0.632270</td>\n",
              "      <td>0.826039</td>\n",
              "      <td>0.638236</td>\n",
              "      <td>0.699087</td>\n",
              "      <td>0.769000</td>\n",
              "      <td>0.583691</td>\n",
              "      <td>0.604502</td>\n",
              "    </tr>\n",
              "    <tr>\n",
              "      <th></th>\n",
              "      <td>{'LR': 0.0015, 'Momentum': 0.85, 'Net': &lt;class...</td>\n",
              "      <td>[0, 1, 2, 3, 4, 7, 8, 9, 10, 11, 12, 13, 14, 1...</td>\n",
              "      <td>[5, 6, 19, 30, 31, 34, 36, 42, 43, 54, 55, 61,...</td>\n",
              "      <td>0.812366</td>\n",
              "      <td>0.577253</td>\n",
              "      <td>0.604502</td>\n",
              "      <td>0.821564</td>\n",
              "      <td>0.591444</td>\n",
              "      <td>0.631390</td>\n",
              "      <td>0.854822</td>\n",
              "      <td>0.630668</td>\n",
              "      <td>0.695664</td>\n",
              "      <td>0.812366</td>\n",
              "      <td>0.577253</td>\n",
              "      <td>0.604502</td>\n",
              "    </tr>\n",
              "    <tr>\n",
              "      <th></th>\n",
              "      <td>{'LR': 0.0015, 'Momentum': 0.85, 'Net': &lt;class...</td>\n",
              "      <td>[0, 1, 2, 3, 4, 5, 6, 7, 8, 9, 10, 11, 13, 14,...</td>\n",
              "      <td>[12, 21, 28, 46, 51, 62, 74, 79, 81, 83, 90, 9...</td>\n",
              "      <td>0.852726</td>\n",
              "      <td>0.620172</td>\n",
              "      <td>0.601286</td>\n",
              "      <td>0.853794</td>\n",
              "      <td>0.628168</td>\n",
              "      <td>0.606241</td>\n",
              "      <td>0.862164</td>\n",
              "      <td>0.644862</td>\n",
              "      <td>0.629078</td>\n",
              "      <td>0.852726</td>\n",
              "      <td>0.620172</td>\n",
              "      <td>0.601286</td>\n",
              "    </tr>\n",
              "    <tr>\n",
              "      <th></th>\n",
              "      <td>{'LR': 0.0015, 'Momentum': 0.85, 'Net': &lt;class...</td>\n",
              "      <td>[0, 1, 2, 3, 4, 5, 6, 7, 8, 9, 10, 11, 13, 14,...</td>\n",
              "      <td>[12, 21, 28, 46, 51, 62, 74, 79, 81, 83, 90, 9...</td>\n",
              "      <td>0.848862</td>\n",
              "      <td>0.611588</td>\n",
              "      <td>0.598071</td>\n",
              "      <td>0.849890</td>\n",
              "      <td>0.619991</td>\n",
              "      <td>0.603773</td>\n",
              "      <td>0.859673</td>\n",
              "      <td>0.638012</td>\n",
              "      <td>0.628140</td>\n",
              "      <td>0.848862</td>\n",
              "      <td>0.611588</td>\n",
              "      <td>0.598071</td>\n",
              "    </tr>\n",
              "    <tr>\n",
              "      <th></th>\n",
              "      <td>{'LR': 0.0015, 'Momentum': 0.85, 'Net': &lt;class...</td>\n",
              "      <td>[0, 1, 2, 3, 4, 7, 8, 9, 10, 11, 12, 13, 14, 1...</td>\n",
              "      <td>[5, 6, 19, 30, 31, 34, 36, 42, 43, 54, 55, 61,...</td>\n",
              "      <td>0.813654</td>\n",
              "      <td>0.585837</td>\n",
              "      <td>0.598071</td>\n",
              "      <td>0.822793</td>\n",
              "      <td>0.599232</td>\n",
              "      <td>0.623941</td>\n",
              "      <td>0.855929</td>\n",
              "      <td>0.637484</td>\n",
              "      <td>0.683996</td>\n",
              "      <td>0.813654</td>\n",
              "      <td>0.585837</td>\n",
              "      <td>0.598071</td>\n",
              "    </tr>\n",
              "    <tr>\n",
              "      <th></th>\n",
              "      <td>{'LR': 0.0015, 'Momentum': 0.85, 'Net': &lt;class...</td>\n",
              "      <td>[0, 2, 3, 5, 6, 7, 8, 9, 10, 12, 13, 14, 15, 1...</td>\n",
              "      <td>[1, 4, 11, 17, 18, 20, 22, 37, 39, 40, 41, 47,...</td>\n",
              "      <td>0.840275</td>\n",
              "      <td>0.583691</td>\n",
              "      <td>0.591640</td>\n",
              "      <td>0.843076</td>\n",
              "      <td>0.596686</td>\n",
              "      <td>0.606051</td>\n",
              "      <td>0.863743</td>\n",
              "      <td>0.629856</td>\n",
              "      <td>0.653056</td>\n",
              "      <td>0.840275</td>\n",
              "      <td>0.583691</td>\n",
              "      <td>0.591640</td>\n",
              "    </tr>\n",
              "    <tr>\n",
              "      <th></th>\n",
              "      <td>{'LR': 0.0012, 'Momentum': 0.85, 'Net': &lt;class...</td>\n",
              "      <td>[0, 2, 3, 5, 6, 7, 8, 9, 10, 12, 13, 14, 15, 1...</td>\n",
              "      <td>[1, 4, 11, 17, 18, 20, 22, 37, 39, 40, 41, 47,...</td>\n",
              "      <td>0.798197</td>\n",
              "      <td>0.577253</td>\n",
              "      <td>0.591640</td>\n",
              "      <td>0.802259</td>\n",
              "      <td>0.588788</td>\n",
              "      <td>0.606197</td>\n",
              "      <td>0.821630</td>\n",
              "      <td>0.609967</td>\n",
              "      <td>0.648772</td>\n",
              "      <td>0.798197</td>\n",
              "      <td>0.577253</td>\n",
              "      <td>0.591640</td>\n",
              "    </tr>\n",
              "    <tr>\n",
              "      <th></th>\n",
              "      <td>{'LR': 0.0018, 'Momentum': 0.72, 'Net': &lt;class...</td>\n",
              "      <td>[0, 2, 3, 5, 6, 7, 8, 9, 10, 12, 13, 14, 15, 1...</td>\n",
              "      <td>[1, 4, 11, 17, 18, 20, 22, 37, 39, 40, 41, 47,...</td>\n",
              "      <td>0.743667</td>\n",
              "      <td>0.583691</td>\n",
              "      <td>0.588424</td>\n",
              "      <td>0.752366</td>\n",
              "      <td>0.602406</td>\n",
              "      <td>0.603476</td>\n",
              "      <td>0.787020</td>\n",
              "      <td>0.637146</td>\n",
              "      <td>0.651407</td>\n",
              "      <td>0.743667</td>\n",
              "      <td>0.583691</td>\n",
              "      <td>0.588424</td>\n",
              "    </tr>\n",
              "    <tr>\n",
              "      <th></th>\n",
              "      <td>{'LR': 0.0018, 'Momentum': 0.72, 'Net': &lt;class...</td>\n",
              "      <td>[0, 1, 3, 4, 5, 6, 7, 9, 10, 11, 12, 14, 15, 1...</td>\n",
              "      <td>[2, 8, 13, 16, 29, 32, 35, 38, 44, 45, 49, 50,...</td>\n",
              "      <td>0.734221</td>\n",
              "      <td>0.609442</td>\n",
              "      <td>0.588424</td>\n",
              "      <td>0.742818</td>\n",
              "      <td>0.626802</td>\n",
              "      <td>0.605731</td>\n",
              "      <td>0.781021</td>\n",
              "      <td>0.675474</td>\n",
              "      <td>0.667107</td>\n",
              "      <td>0.734221</td>\n",
              "      <td>0.609442</td>\n",
              "      <td>0.588424</td>\n",
              "    </tr>\n",
              "    <tr>\n",
              "      <th></th>\n",
              "      <td>{'LR': 0.0018, 'Momentum': 0.72, 'Net': &lt;class...</td>\n",
              "      <td>[1, 2, 4, 5, 6, 8, 9, 10, 11, 12, 13, 14, 15, ...</td>\n",
              "      <td>[0, 3, 7, 24, 25, 26, 63, 67, 84, 86, 91, 93, ...</td>\n",
              "      <td>0.739056</td>\n",
              "      <td>0.584946</td>\n",
              "      <td>0.581994</td>\n",
              "      <td>0.746228</td>\n",
              "      <td>0.597758</td>\n",
              "      <td>0.595632</td>\n",
              "      <td>0.771242</td>\n",
              "      <td>0.630330</td>\n",
              "      <td>0.636145</td>\n",
              "      <td>0.739056</td>\n",
              "      <td>0.584946</td>\n",
              "      <td>0.581994</td>\n",
              "    </tr>\n",
              "    <tr>\n",
              "      <th></th>\n",
              "      <td>{'LR': 0.0012, 'Momentum': 0.85, 'Net': &lt;class...</td>\n",
              "      <td>[1, 2, 4, 5, 6, 8, 9, 10, 11, 12, 13, 14, 15, ...</td>\n",
              "      <td>[0, 3, 7, 24, 25, 26, 63, 67, 84, 86, 91, 93, ...</td>\n",
              "      <td>0.792275</td>\n",
              "      <td>0.595699</td>\n",
              "      <td>0.578778</td>\n",
              "      <td>0.795586</td>\n",
              "      <td>0.603211</td>\n",
              "      <td>0.591401</td>\n",
              "      <td>0.811019</td>\n",
              "      <td>0.625424</td>\n",
              "      <td>0.630245</td>\n",
              "      <td>0.792275</td>\n",
              "      <td>0.595699</td>\n",
              "      <td>0.578778</td>\n",
              "    </tr>\n",
              "    <tr>\n",
              "      <th></th>\n",
              "      <td>{'LR': 0.0015, 'Momentum': 0.85, 'Net': &lt;class...</td>\n",
              "      <td>[0, 2, 3, 5, 6, 7, 8, 9, 10, 12, 13, 14, 15, 1...</td>\n",
              "      <td>[1, 4, 11, 17, 18, 20, 22, 37, 39, 40, 41, 47,...</td>\n",
              "      <td>0.842422</td>\n",
              "      <td>0.575107</td>\n",
              "      <td>0.578778</td>\n",
              "      <td>0.845463</td>\n",
              "      <td>0.586800</td>\n",
              "      <td>0.594940</td>\n",
              "      <td>0.865340</td>\n",
              "      <td>0.616052</td>\n",
              "      <td>0.643372</td>\n",
              "      <td>0.842422</td>\n",
              "      <td>0.575107</td>\n",
              "      <td>0.578778</td>\n",
              "    </tr>\n",
              "    <tr>\n",
              "      <th></th>\n",
              "      <td>{'LR': 0.0015, 'Momentum': 0.85, 'Net': &lt;class...</td>\n",
              "      <td>[1, 2, 4, 5, 6, 8, 9, 10, 11, 12, 13, 14, 15, ...</td>\n",
              "      <td>[0, 3, 7, 24, 25, 26, 63, 67, 84, 86, 91, 93, ...</td>\n",
              "      <td>0.854506</td>\n",
              "      <td>0.604301</td>\n",
              "      <td>0.575563</td>\n",
              "      <td>0.855511</td>\n",
              "      <td>0.610312</td>\n",
              "      <td>0.584061</td>\n",
              "      <td>0.862575</td>\n",
              "      <td>0.633437</td>\n",
              "      <td>0.611221</td>\n",
              "      <td>0.854506</td>\n",
              "      <td>0.604301</td>\n",
              "      <td>0.575563</td>\n",
              "    </tr>\n",
              "    <tr>\n",
              "      <th></th>\n",
              "      <td>{'LR': 0.0015, 'Momentum': 0.85, 'Net': &lt;class...</td>\n",
              "      <td>[1, 2, 4, 5, 6, 8, 9, 10, 11, 12, 13, 14, 15, ...</td>\n",
              "      <td>[0, 3, 7, 24, 25, 26, 63, 67, 84, 86, 91, 93, ...</td>\n",
              "      <td>0.851931</td>\n",
              "      <td>0.604301</td>\n",
              "      <td>0.569132</td>\n",
              "      <td>0.853231</td>\n",
              "      <td>0.610276</td>\n",
              "      <td>0.577385</td>\n",
              "      <td>0.861018</td>\n",
              "      <td>0.630454</td>\n",
              "      <td>0.605174</td>\n",
              "      <td>0.851931</td>\n",
              "      <td>0.604301</td>\n",
              "      <td>0.569132</td>\n",
              "    </tr>\n",
              "  </tbody>\n",
              "</table>\n",
              "</div>\n",
              "      <button class=\"colab-df-convert\" onclick=\"convertToInteractive('df-28fc05b7-e58c-492d-977b-086949854832')\"\n",
              "              title=\"Convert this dataframe to an interactive table.\"\n",
              "              style=\"display:none;\">\n",
              "        \n",
              "  <svg xmlns=\"http://www.w3.org/2000/svg\" height=\"24px\"viewBox=\"0 0 24 24\"\n",
              "       width=\"24px\">\n",
              "    <path d=\"M0 0h24v24H0V0z\" fill=\"none\"/>\n",
              "    <path d=\"M18.56 5.44l.94 2.06.94-2.06 2.06-.94-2.06-.94-.94-2.06-.94 2.06-2.06.94zm-11 1L8.5 8.5l.94-2.06 2.06-.94-2.06-.94L8.5 2.5l-.94 2.06-2.06.94zm10 10l.94 2.06.94-2.06 2.06-.94-2.06-.94-.94-2.06-.94 2.06-2.06.94z\"/><path d=\"M17.41 7.96l-1.37-1.37c-.4-.4-.92-.59-1.43-.59-.52 0-1.04.2-1.43.59L10.3 9.45l-7.72 7.72c-.78.78-.78 2.05 0 2.83L4 21.41c.39.39.9.59 1.41.59.51 0 1.02-.2 1.41-.59l7.78-7.78 2.81-2.81c.8-.78.8-2.07 0-2.86zM5.41 20L4 18.59l7.72-7.72 1.47 1.35L5.41 20z\"/>\n",
              "  </svg>\n",
              "      </button>\n",
              "      \n",
              "  <style>\n",
              "    .colab-df-container {\n",
              "      display:flex;\n",
              "      flex-wrap:wrap;\n",
              "      gap: 12px;\n",
              "    }\n",
              "\n",
              "    .colab-df-convert {\n",
              "      background-color: #E8F0FE;\n",
              "      border: none;\n",
              "      border-radius: 50%;\n",
              "      cursor: pointer;\n",
              "      display: none;\n",
              "      fill: #1967D2;\n",
              "      height: 32px;\n",
              "      padding: 0 0 0 0;\n",
              "      width: 32px;\n",
              "    }\n",
              "\n",
              "    .colab-df-convert:hover {\n",
              "      background-color: #E2EBFA;\n",
              "      box-shadow: 0px 1px 2px rgba(60, 64, 67, 0.3), 0px 1px 3px 1px rgba(60, 64, 67, 0.15);\n",
              "      fill: #174EA6;\n",
              "    }\n",
              "\n",
              "    [theme=dark] .colab-df-convert {\n",
              "      background-color: #3B4455;\n",
              "      fill: #D2E3FC;\n",
              "    }\n",
              "\n",
              "    [theme=dark] .colab-df-convert:hover {\n",
              "      background-color: #434B5C;\n",
              "      box-shadow: 0px 1px 3px 1px rgba(0, 0, 0, 0.15);\n",
              "      filter: drop-shadow(0px 1px 2px rgba(0, 0, 0, 0.3));\n",
              "      fill: #FFFFFF;\n",
              "    }\n",
              "  </style>\n",
              "\n",
              "      <script>\n",
              "        const buttonEl =\n",
              "          document.querySelector('#df-28fc05b7-e58c-492d-977b-086949854832 button.colab-df-convert');\n",
              "        buttonEl.style.display =\n",
              "          google.colab.kernel.accessAllowed ? 'block' : 'none';\n",
              "\n",
              "        async function convertToInteractive(key) {\n",
              "          const element = document.querySelector('#df-28fc05b7-e58c-492d-977b-086949854832');\n",
              "          const dataTable =\n",
              "            await google.colab.kernel.invokeFunction('convertToInteractive',\n",
              "                                                     [key], {});\n",
              "          if (!dataTable) return;\n",
              "\n",
              "          const docLinkHtml = 'Like what you see? Visit the ' +\n",
              "            '<a target=\"_blank\" href=https://colab.research.google.com/notebooks/data_table.ipynb>data table notebook</a>'\n",
              "            + ' to learn more about interactive tables.';\n",
              "          element.innerHTML = '';\n",
              "          dataTable['output_type'] = 'display_data';\n",
              "          await google.colab.output.renderOutput(dataTable, element);\n",
              "          const docLink = document.createElement('div');\n",
              "          docLink.innerHTML = docLinkHtml;\n",
              "          element.appendChild(docLink);\n",
              "        }\n",
              "      </script>\n",
              "    </div>\n",
              "  </div>\n",
              "  "
            ]
          },
          "metadata": {},
          "execution_count": 32
        }
      ]
    },
    {
      "cell_type": "code",
      "source": [
        ""
      ],
      "metadata": {
        "id": "yfVbVtw1BgO9"
      },
      "execution_count": null,
      "outputs": []
    }
  ],
  "metadata": {
    "accelerator": "GPU",
    "colab": {
      "name": "CNN_60x45.ipynb",
      "provenance": [],
      "include_colab_link": true
    },
    "interpreter": {
      "hash": "31f2aee4e71d21fbe5cf8b01ff0e069b9275f58929596ceb00d14d90e3e16cd6"
    },
    "kernelspec": {
      "display_name": "Python 3.8.9 64-bit",
      "language": "python",
      "name": "python3"
    },
    "language_info": {
      "codemirror_mode": {
        "name": "ipython",
        "version": 3
      },
      "file_extension": ".py",
      "mimetype": "text/x-python",
      "name": "python",
      "nbconvert_exporter": "python",
      "pygments_lexer": "ipython3",
      "version": "3.8.9"
    },
    "gpuClass": "standard"
  },
  "nbformat": 4,
  "nbformat_minor": 0
}