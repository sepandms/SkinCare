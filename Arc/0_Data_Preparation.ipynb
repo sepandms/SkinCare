{
 "cells": [
  {
   "cell_type": "code",
   "execution_count": 28,
   "metadata": {},
   "outputs": [],
   "source": [
    "import numpy as np\n",
    "import matplotlib.pyplot as plt\n",
    "import seaborn as sns\n",
    "import warnings\n",
    "import pandas as pd\n",
    "from sklearn.model_selection import train_test_split\n",
    "import time\n",
    "from statistics import mean\n",
    "import sklearn as sk\n",
    "import warnings\n",
    "from sklearn.utils import resample\n",
    "import pickle as pickle\n",
    "\n",
    "import PIL as pl\n",
    "warnings.filterwarnings('ignore')\n",
    "\n",
    "path = '/Users/sepehrbe/DataSources/Kaggle/SkinCare/Data/'\n",
    "meta_data = 'Metadata.csv'\n",
    "G_path = '/Volumes/GoogleDrive/My Drive/DataSources/SkinCare/'"
   ]
  },
  {
   "cell_type": "markdown",
   "metadata": {},
   "source": [
    "# **Import Meta Data**"
   ]
  },
  {
   "cell_type": "code",
   "execution_count": 29,
   "metadata": {},
   "outputs": [],
   "source": [
    "file = '/Users/sepehrbe/DataSources/Kaggle/SkinCare/Data/Metadata.csv'\n",
    "meta_data_v0 = pd.read_csv(file)"
   ]
  },
  {
   "cell_type": "code",
   "execution_count": 30,
   "metadata": {},
   "outputs": [
    {
     "data": {
      "text/plain": [
       "lesion_id       False\n",
       "image_id        False\n",
       "dx              False\n",
       "dx_type         False\n",
       "age              True\n",
       "sex             False\n",
       "localization    False\n",
       "dtype: bool"
      ]
     },
     "execution_count": 30,
     "metadata": {},
     "output_type": "execute_result"
    }
   ],
   "source": [
    "meta_data_v0.isnull().any()"
   ]
  },
  {
   "cell_type": "code",
   "execution_count": 6,
   "metadata": {},
   "outputs": [
    {
     "name": "stdout",
     "output_type": "stream",
     "text": [
      "#########    lesion_id      #########################\n",
      "HAM_0003789    6\n",
      "HAM_0000835    6\n",
      "HAM_0005263    6\n",
      "HAM_0001863    6\n",
      "HAM_0007427    5\n",
      "              ..\n",
      "HAM_0006000    1\n",
      "HAM_0002762    1\n",
      "HAM_0006894    1\n",
      "HAM_0007132    1\n",
      "HAM_0003347    1\n",
      "Name: lesion_id, Length: 7470, dtype: int64\n",
      "####################################################\n",
      "#########    image_id      #########################\n",
      "ISIC_0027419    1\n",
      "ISIC_0030646    1\n",
      "ISIC_0030164    1\n",
      "ISIC_0032069    1\n",
      "ISIC_0029007    1\n",
      "               ..\n",
      "ISIC_0028768    1\n",
      "ISIC_0026383    1\n",
      "ISIC_0025794    1\n",
      "ISIC_0028888    1\n",
      "ISIC_0032258    1\n",
      "Name: image_id, Length: 10015, dtype: int64\n",
      "####################################################\n",
      "#########    dx      #########################\n",
      "nv       6705\n",
      "mel      1113\n",
      "bkl      1099\n",
      "bcc       514\n",
      "akiec     327\n",
      "vasc      142\n",
      "df        115\n",
      "Name: dx, dtype: int64\n",
      "####################################################\n",
      "#########    dx_type      #########################\n",
      "histo        5340\n",
      "follow_up    3704\n",
      "consensus     902\n",
      "confocal       69\n",
      "Name: dx_type, dtype: int64\n",
      "####################################################\n",
      "#########    age      #########################\n",
      "45.0    1299\n",
      "50.0    1187\n",
      "55.0    1009\n",
      "40.0     985\n",
      "60.0     803\n",
      "70.0     756\n",
      "35.0     753\n",
      "65.0     731\n",
      "75.0     618\n",
      "30.0     464\n",
      "80.0     404\n",
      "85.0     290\n",
      "25.0     247\n",
      "20.0     169\n",
      "5.0       86\n",
      "15.0      77\n",
      "NaN       57\n",
      "10.0      41\n",
      "0.0       39\n",
      "Name: age, dtype: int64\n",
      "####################################################\n",
      "#########    sex      #########################\n",
      "male       5406\n",
      "female     4552\n",
      "unknown      57\n",
      "Name: sex, dtype: int64\n",
      "####################################################\n",
      "#########    localization      #########################\n",
      "back               2192\n",
      "lower extremity    2077\n",
      "trunk              1404\n",
      "upper extremity    1118\n",
      "abdomen            1022\n",
      "face                745\n",
      "chest               407\n",
      "foot                319\n",
      "unknown             234\n",
      "neck                168\n",
      "scalp               128\n",
      "hand                 90\n",
      "ear                  56\n",
      "genital              48\n",
      "acral                 7\n",
      "Name: localization, dtype: int64\n",
      "####################################################\n"
     ]
    }
   ],
   "source": [
    "for s in meta_data_v0.columns:\n",
    "    print('#########   ', s , '     #########################')\n",
    "    print(meta_data_v0[s].value_counts( dropna = False ))\n",
    "    print('####################################################')"
   ]
  },
  {
   "cell_type": "markdown",
   "metadata": {},
   "source": [
    "# **Filling NaN/Unkown Values**"
   ]
  },
  {
   "cell_type": "code",
   "execution_count": 34,
   "metadata": {},
   "outputs": [],
   "source": [
    "meta_data = meta_data_v0.copy()\n",
    "meta_data['age'].fillna(meta_data.groupby('sex')['age'].transform('mean'),inplace=True)\n",
    "meta_data['sex'].replace('unknown',np.nan, inplace=True)\n",
    "meta_data['sex'].fillna(meta_data.groupby('dx')['sex'].value_counts().index[0][1],inplace=True)\n",
    "\n",
    "meta_data['localization'].replace('unknown',np.nan, inplace=True)\n",
    "meta_data['localization'].fillna(meta_data.groupby(['dx','sex'])['localization'].value_counts().index[0][2],inplace=True)"
   ]
  },
  {
   "cell_type": "code",
   "execution_count": 33,
   "metadata": {},
   "outputs": [
    {
     "name": "stdout",
     "output_type": "stream",
     "text": [
      "<class 'pandas.core.frame.DataFrame'>\n",
      "RangeIndex: 10015 entries, 0 to 10014\n",
      "Data columns (total 7 columns):\n",
      " #   Column        Non-Null Count  Dtype  \n",
      "---  ------        --------------  -----  \n",
      " 0   lesion_id     10015 non-null  object \n",
      " 1   image_id      10015 non-null  object \n",
      " 2   dx            10015 non-null  object \n",
      " 3   dx_type       10015 non-null  object \n",
      " 4   age           10015 non-null  float64\n",
      " 5   sex           10015 non-null  object \n",
      " 6   localization  10015 non-null  object \n",
      "dtypes: float64(1), object(6)\n",
      "memory usage: 547.8+ KB\n"
     ]
    }
   ],
   "source": [
    "meta_data.info()"
   ]
  },
  {
   "cell_type": "code",
   "execution_count": 8,
   "metadata": {},
   "outputs": [
    {
     "name": "stdout",
     "output_type": "stream",
     "text": [
      "#########    lesion_id      #########################\n",
      "HAM_0003789    6\n",
      "HAM_0000835    6\n",
      "HAM_0005263    6\n",
      "HAM_0001863    6\n",
      "HAM_0007427    5\n",
      "              ..\n",
      "HAM_0006000    1\n",
      "HAM_0002762    1\n",
      "HAM_0006894    1\n",
      "HAM_0007132    1\n",
      "HAM_0003347    1\n",
      "Name: lesion_id, Length: 7470, dtype: int64\n",
      "####################################################\n",
      "#########    image_id      #########################\n",
      "ISIC_0027419    1\n",
      "ISIC_0030646    1\n",
      "ISIC_0030164    1\n",
      "ISIC_0032069    1\n",
      "ISIC_0029007    1\n",
      "               ..\n",
      "ISIC_0028768    1\n",
      "ISIC_0026383    1\n",
      "ISIC_0025794    1\n",
      "ISIC_0028888    1\n",
      "ISIC_0032258    1\n",
      "Name: image_id, Length: 10015, dtype: int64\n",
      "####################################################\n",
      "#########    dx      #########################\n",
      "nv       6705\n",
      "mel      1113\n",
      "bkl      1099\n",
      "bcc       514\n",
      "akiec     327\n",
      "vasc      142\n",
      "df        115\n",
      "Name: dx, dtype: int64\n",
      "####################################################\n",
      "#########    dx_type      #########################\n",
      "histo        5340\n",
      "follow_up    3704\n",
      "consensus     902\n",
      "confocal       69\n",
      "Name: dx_type, dtype: int64\n",
      "####################################################\n",
      "#########    age      #########################\n",
      "45.000000    1299\n",
      "50.000000    1187\n",
      "55.000000    1009\n",
      "40.000000     985\n",
      "60.000000     803\n",
      "70.000000     756\n",
      "35.000000     753\n",
      "65.000000     731\n",
      "75.000000     618\n",
      "30.000000     464\n",
      "80.000000     404\n",
      "85.000000     290\n",
      "25.000000     247\n",
      "20.000000     169\n",
      "5.000000       86\n",
      "15.000000      77\n",
      "37.500000      47\n",
      "10.000000      41\n",
      "0.000000       39\n",
      "54.545370       6\n",
      "48.711522       4\n",
      "Name: age, dtype: int64\n",
      "####################################################\n",
      "#########    sex      #########################\n",
      "male      5463\n",
      "female    4552\n",
      "Name: sex, dtype: int64\n",
      "####################################################\n",
      "#########    localization      #########################\n",
      "back               2192\n",
      "lower extremity    2077\n",
      "trunk              1404\n",
      "upper extremity    1118\n",
      "abdomen            1022\n",
      "face                979\n",
      "chest               407\n",
      "foot                319\n",
      "neck                168\n",
      "scalp               128\n",
      "hand                 90\n",
      "ear                  56\n",
      "genital              48\n",
      "acral                 7\n",
      "Name: localization, dtype: int64\n",
      "####################################################\n"
     ]
    }
   ],
   "source": [
    "for s in meta_data.columns:\n",
    "    print('#########   ', s , '     #########################')\n",
    "    print(meta_data[s].value_counts( dropna = False ))\n",
    "    print('####################################################')"
   ]
  },
  {
   "cell_type": "markdown",
   "metadata": {},
   "source": [
    "# **Import Images**"
   ]
  },
  {
   "cell_type": "code",
   "execution_count": 35,
   "metadata": {},
   "outputs": [],
   "source": [
    "img_list = os.listdir(img_path)\n",
    "HAM_DataSource = pd.DataFrame(columns=['image_id','img_array'])\n",
    "for img in img_list:\n",
    "    img_name = img.replace('.jpg','')\n",
    "    image = pl.Image.open( img_path + img)\n",
    "    img_array = np.asarray(image)\n",
    "    new_row = pd.Series({'image_id':img_name,'img_array':img_array}, name='')\n",
    "    HAM_DataSource = HAM_DataSource.append(new_row)"
   ]
  },
  {
   "cell_type": "code",
   "execution_count": 36,
   "metadata": {},
   "outputs": [],
   "source": [
    "HAM_DataSource = HAM_DataSource.merge(meta_data, how=\"left\",on='image_id').rename(columns={'dx':'image_label'})\n",
    "HAM_DataSource.image_label = pd.Categorical(HAM_DataSource.image_label)\n",
    "HAM_DataSource['label_id'] = HAM_DataSource.image_label.cat.codes"
   ]
  },
  {
   "cell_type": "markdown",
   "metadata": {},
   "source": [
    "# **Balance DataSet**"
   ]
  },
  {
   "cell_type": "code",
   "execution_count": 11,
   "metadata": {},
   "outputs": [],
   "source": [
    "df_class1 = resample(HAM_DataSource[HAM_DataSource.label_id==5], replace=True,   n_samples=1200, random_state=0) \n",
    "df_other_classes = HAM_DataSource[HAM_DataSource.label_id!=5]\n",
    "HAM_DataSource_blc = pd.concat([df_other_classes,df_class1], axis=0)"
   ]
  },
  {
   "cell_type": "code",
   "execution_count": 12,
   "metadata": {},
   "outputs": [
    {
     "data": {
      "text/plain": [
       "5    1200\n",
       "4    1113\n",
       "2    1099\n",
       "1     514\n",
       "0     327\n",
       "6     142\n",
       "3     115\n",
       "Name: label_id, dtype: int64"
      ]
     },
     "execution_count": 12,
     "metadata": {},
     "output_type": "execute_result"
    }
   ],
   "source": [
    "HAM_DataSource_blc.label_id.value_counts()"
   ]
  },
  {
   "cell_type": "markdown",
   "metadata": {},
   "source": [
    "# **Remove Duplications**"
   ]
  },
  {
   "cell_type": "code",
   "execution_count": 13,
   "metadata": {},
   "outputs": [],
   "source": [
    "HAM_DataSource_blc_noDup = HAM_DataSource_blc.groupby('lesion_id').first().reset_index()"
   ]
  },
  {
   "cell_type": "code",
   "execution_count": 14,
   "metadata": {},
   "outputs": [
    {
     "data": {
      "text/plain": [
       "5    1039\n",
       "2     727\n",
       "4     614\n",
       "1     327\n",
       "0     228\n",
       "6      98\n",
       "3      73\n",
       "Name: label_id, dtype: int64"
      ]
     },
     "execution_count": 14,
     "metadata": {},
     "output_type": "execute_result"
    }
   ],
   "source": [
    "HAM_DataSource_blc_noDup.label_id.value_counts()"
   ]
  },
  {
   "cell_type": "code",
   "execution_count": 15,
   "metadata": {},
   "outputs": [
    {
     "name": "stdout",
     "output_type": "stream",
     "text": [
      "<class 'pandas.core.frame.DataFrame'>\n",
      "RangeIndex: 3106 entries, 0 to 3105\n",
      "Data columns (total 9 columns):\n",
      " #   Column        Non-Null Count  Dtype   \n",
      "---  ------        --------------  -----   \n",
      " 0   lesion_id     3106 non-null   object  \n",
      " 1   image_id      3106 non-null   object  \n",
      " 2   img_array     3106 non-null   object  \n",
      " 3   image_label   3106 non-null   category\n",
      " 4   dx_type       3106 non-null   object  \n",
      " 5   age           3106 non-null   float64 \n",
      " 6   sex           3106 non-null   object  \n",
      " 7   localization  3106 non-null   object  \n",
      " 8   label_id      3106 non-null   int8    \n",
      "dtypes: category(1), float64(1), int8(1), object(6)\n",
      "memory usage: 176.4+ KB\n"
     ]
    }
   ],
   "source": [
    "HAM_DataSource_blc_noDup.info()"
   ]
  },
  {
   "cell_type": "code",
   "execution_count": 16,
   "metadata": {},
   "outputs": [
    {
     "data": {
      "image/png": "[encoded data removed]",
      "text/plain": [
       "<Figure size 576x432 with 1 Axes>"
      ]
     },
     "metadata": {
      "needs_background": "light"
     },
     "output_type": "display_data"
    }
   ],
   "source": [
    "df_ = HAM_DataSource_blc_noDup\n",
    "fig, ax=plt.subplots(figsize=(8,6))\n",
    "sns.countplot(x='image_label', data=df_, hue='sex')\n",
    "# ax.set_ylim(0,500)\n",
    "plt.title(\"Impact of sex on Skin Lesion\")\n",
    "plt.show()"
   ]
  },
  {
   "cell_type": "markdown",
   "metadata": {},
   "source": [
    "# **Functions**"
   ]
  },
  {
   "cell_type": "code",
   "execution_count": 17,
   "metadata": {},
   "outputs": [],
   "source": [
    "def split_dataset(dataset, tst_ratio, valid_ratio):\n",
    "    training_data, test_data = train_test_split(dataset, test_size = tst_ratio, random_state=0,stratify=dataset['label_id'])\n",
    "    train_data, valid_data = train_test_split(training_data, test_size= valid_ratio, random_state=0,stratify=training_data['label_id'])\n",
    "    train_data['type'] = 'train'\n",
    "    valid_data['type'] = 'valid'\n",
    "    test_data['type'] = 'test'\n",
    "    dataset = pd.concat([train_data,valid_data,test_data],axis=0)\n",
    "    return dataset"
   ]
  },
  {
   "cell_type": "markdown",
   "metadata": {},
   "source": [
    "# **Split DataSet**"
   ]
  },
  {
   "cell_type": "code",
   "execution_count": 18,
   "metadata": {},
   "outputs": [],
   "source": [
    "HAM_DataSource_blc = split_dataset(dataset = HAM_DataSource_blc , tst_ratio = 0.1, valid_ratio  = 0.1)\n",
    "HAM_DataSource_blc_noDup = split_dataset(dataset = HAM_DataSource_blc_noDup , tst_ratio = 0.1, valid_ratio  = 0.1)"
   ]
  },
  {
   "cell_type": "code",
   "execution_count": 19,
   "metadata": {},
   "outputs": [
    {
     "data": {
      "text/plain": [
       "5    0.266083\n",
       "4    0.246920\n",
       "2    0.243635\n",
       "1    0.114153\n",
       "0    0.072269\n",
       "6    0.031481\n",
       "3    0.025459\n",
       "Name: label_id, dtype: float64"
      ]
     },
     "execution_count": 19,
     "metadata": {},
     "output_type": "execute_result"
    }
   ],
   "source": [
    "HAM_DataSource_blc[HAM_DataSource_blc.type=='train'].label_id.value_counts(normalize=True)"
   ]
  },
  {
   "cell_type": "code",
   "execution_count": 20,
   "metadata": {},
   "outputs": [
    {
     "data": {
      "text/plain": [
       "5    0.266075\n",
       "4    0.246120\n",
       "2    0.243902\n",
       "1    0.113082\n",
       "0    0.073171\n",
       "6    0.031042\n",
       "3    0.026608\n",
       "Name: label_id, dtype: float64"
      ]
     },
     "execution_count": 20,
     "metadata": {},
     "output_type": "execute_result"
    }
   ],
   "source": [
    "HAM_DataSource_blc[HAM_DataSource_blc.type=='test'].label_id.value_counts(normalize=True)"
   ]
  },
  {
   "cell_type": "markdown",
   "metadata": {},
   "source": [
    "# **Standardization / Normalization**"
   ]
  },
  {
   "cell_type": "code",
   "execution_count": 21,
   "metadata": {},
   "outputs": [],
   "source": [
    "def standardizaion(dataset, attr):\n",
    "    mean = dataset[dataset.type.str.contains('train|valid')][attr].mean()\n",
    "    std = dataset[dataset.type.str.contains('train|valid')][attr].std()\n",
    "    dataset[attr] = (dataset[attr] - mean ) / std\n",
    "    return dataset"
   ]
  },
  {
   "cell_type": "code",
   "execution_count": 22,
   "metadata": {},
   "outputs": [],
   "source": [
    "def MinMaxScaling(dataset, attr):\n",
    "    min = dataset[dataset.type.str.contains('train|valid')][attr].min()\n",
    "    max = dataset[dataset.type.str.contains('train|valid')][attr].max()\n",
    "    dataset[attr] = (dataset[attr] - min ) / (max-min)\n",
    "    return dataset"
   ]
  },
  {
   "cell_type": "code",
   "execution_count": 23,
   "metadata": {},
   "outputs": [],
   "source": [
    "# HAM_DataSource_blc_STD = standardizaion(HAM_DataSource_blc , 'age')\n",
    "# HAM_DataSource_blc_noDup_STD = standardizaion(HAM_DataSource_blc_noDup , 'age')"
   ]
  },
  {
   "cell_type": "markdown",
   "metadata": {},
   "source": [
    "# **Normalization**"
   ]
  },
  {
   "cell_type": "code",
   "execution_count": 24,
   "metadata": {},
   "outputs": [],
   "source": [
    "HAM_DataSource_blc_STD = MinMaxScaling(HAM_DataSource_blc , 'age')\n",
    "HAM_DataSource_blc_noDup_STD = MinMaxScaling(HAM_DataSource_blc_noDup , 'age')"
   ]
  },
  {
   "cell_type": "code",
   "execution_count": 25,
   "metadata": {},
   "outputs": [
    {
     "data": {
      "text/plain": [
       "1640    0.823529\n",
       "6104    0.470588\n",
       "8607    0.529412\n",
       "9745    1.000000\n",
       "2110    0.882353\n",
       "          ...   \n",
       "6008    0.647059\n",
       "8295    0.529412\n",
       "30      0.823529\n",
       "8189    0.470588\n",
       "2600    0.647059\n",
       "Name: age, Length: 4510, dtype: float64"
      ]
     },
     "execution_count": 25,
     "metadata": {},
     "output_type": "execute_result"
    }
   ],
   "source": [
    "HAM_DataSource_blc_STD['age']"
   ]
  },
  {
   "cell_type": "code",
   "execution_count": 29,
   "metadata": {},
   "outputs": [],
   "source": [
    "# pd.to_pickle(HAM_DataSource_blc_STD,G_path + 'DataSource_60x45_Red')\n",
    "# pd.to_pickle(HAM_DataSource_blc_noDup_STD,G_path + 'DataSource_Red_noDup')"
   ]
  },
  {
   "cell_type": "code",
   "execution_count": 27,
   "metadata": {},
   "outputs": [],
   "source": [
    "pickle.dump(HAM_DataSource_blc_STD, open(G_path + 'DataSource_60x45_Red', 'wb'))\n",
    "pickle.dump(HAM_DataSource_blc_noDup_STD, open(G_path + 'DataSource_60x45_Red_noDup', 'wb'))"
   ]
  },
  {
   "cell_type": "code",
   "execution_count": 22,
   "metadata": {},
   "outputs": [
    {
     "data": {
      "text/plain": [
       "train    3450\n",
       "valid     609\n",
       "test      451\n",
       "Name: type, dtype: int64"
      ]
     },
     "execution_count": 22,
     "metadata": {},
     "output_type": "execute_result"
    }
   ],
   "source": [
    "HAM_DataSource_blc_STD.type.value_counts()"
   ]
  },
  {
   "cell_type": "code",
   "execution_count": 41,
   "metadata": {},
   "outputs": [
    {
     "data": {
      "text/plain": [
       "'1.4.2'"
      ]
     },
     "execution_count": 41,
     "metadata": {},
     "output_type": "execute_result"
    }
   ],
   "source": [
    "pd.__version__"
   ]
  },
  {
   "cell_type": "code",
   "execution_count": null,
   "metadata": {},
   "outputs": [],
   "source": [
    "pickle. ()"
   ]
  }
 ],
 "metadata": {
  "kernelspec": {
   "display_name": "Python 3.9.13 64-bit",
   "language": "python",
   "name": "python3"
  },
  "language_info": {
   "codemirror_mode": {
    "name": "ipython",
    "version": 3
   },
   "file_extension": ".py",
   "mimetype": "text/x-python",
   "name": "python",
   "nbconvert_exporter": "python",
   "pygments_lexer": "ipython3",
   "version": "3.9.13"
  },
  "orig_nbformat": 4,
  "vscode": {
   "interpreter": {
    "hash": "b0fa6594d8f4cbf19f97940f81e996739fb7646882a419484c72d19e05852a7e"
   }
  }
 },
 "nbformat": 4,
 "nbformat_minor": 2
}
