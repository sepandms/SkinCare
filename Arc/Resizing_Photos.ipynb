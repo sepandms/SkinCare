{
 "cells": [
  {
   "cell_type": "code",
   "execution_count": 6,
   "metadata": {},
   "outputs": [],
   "source": [
    "import os, time\n",
    "import pandas as pd\n",
    "import datetime as dt\n",
    "import shutil\n",
    "import re\n",
    "path_in = '/Users/sepehrbe/Google_Drive/DataSources/SkinCare/dataset_augmented/'\n",
    "path_out = '/Users/sepehrbe/DataSources/Kaggle/SkinCare/Data/Images_280x210/'\n",
    "\n",
    "try:\n",
    "    os.makedirs( path_out)\n",
    "except:\n",
    "    None"
   ]
  },
  {
   "cell_type": "code",
   "execution_count": 11,
   "metadata": {},
   "outputs": [],
   "source": [
    "\n",
    "img_list = []\n",
    "for path, dirs, files in  os.walk(path_in):\n",
    "    for f in files:\n",
    "        img_list.append( path +'/' + f)\n",
    "    for d in dirs:\n",
    "        img_list.append( path + d)\n",
    "img_list = list(set([x for x in img_list if \".jpg\" in x] ))"
   ]
  },
  {
   "cell_type": "code",
   "execution_count": 17,
   "metadata": {},
   "outputs": [],
   "source": [
    "df_files=pd.DataFrame(img_list,columns=['file'])\n",
    "df_files['file_stats']=df_files.apply(lambda x: os.stat(x.file), axis=1)\n",
    "df_files['creation_time']=df_files.apply(lambda x: time.ctime(x.file_stats.st_mtime), axis=1)\n",
    "df_files['creation_time_2']= pd.to_datetime(df_files['creation_time'])\n",
    "df_files['year_month']=df_files['creation_time_2'].dt.strftime('%Y%m')"
   ]
  },
  {
   "cell_type": "code",
   "execution_count": 24,
   "metadata": {},
   "outputs": [
    {
     "data": {
      "text/plain": [
       "['ISIC_0031439']"
      ]
     },
     "execution_count": 24,
     "metadata": {},
     "output_type": "execute_result"
    }
   ],
   "source": [
    "\n",
    "re.findall('\\w+',df_files['file'][1])[-2:-1]"
   ]
  },
  {
   "cell_type": "markdown",
   "metadata": {},
   "source": [
    "**Sharped Converting**"
   ]
  },
  {
   "cell_type": "code",
   "execution_count": 26,
   "metadata": {},
   "outputs": [],
   "source": [
    "for index, row in df_files.iterrows():\n",
    "    file_in = row['file']\n",
    "    file_out = path_out + re.findall('\\w+',file_in)[-2:-1][0]\n",
    "    os.system('convert %s %s %s' % ('-resize 46.66%',file_in,file_out))"
   ]
  },
  {
   "cell_type": "markdown",
   "metadata": {},
   "source": [
    "**UnSHarped Converting**"
   ]
  },
  {
   "cell_type": "code",
   "execution_count": 126,
   "metadata": {},
   "outputs": [],
   "source": [
    "for index, row in df_files.iterrows():\n",
    "    file_in = row['path_file']\n",
    "    file_out = path_out + row['file']\n",
    "    os.system('convert -filter spline %s %s %s' % ('-resize 50%',file_in,file_out))"
   ]
  },
  {
   "cell_type": "code",
   "execution_count": 131,
   "metadata": {},
   "outputs": [
    {
     "data": {
      "text/plain": [
       "180.0"
      ]
     },
     "execution_count": 131,
     "metadata": {},
     "output_type": "execute_result"
    }
   ],
   "source": [
    ".4*450\n"
   ]
  },
  {
   "cell_type": "code",
   "execution_count": null,
   "metadata": {},
   "outputs": [],
   "source": []
  }
 ],
 "metadata": {
  "kernelspec": {
   "display_name": "Python 3.8.9 64-bit",
   "language": "python",
   "name": "python3"
  },
  "language_info": {
   "codemirror_mode": {
    "name": "ipython",
    "version": 3
   },
   "file_extension": ".py",
   "mimetype": "text/x-python",
   "name": "python",
   "nbconvert_exporter": "python",
   "pygments_lexer": "ipython3",
   "version": "3.8.9"
  },
  "vscode": {
   "interpreter": {
    "hash": "31f2aee4e71d21fbe5cf8b01ff0e069b9275f58929596ceb00d14d90e3e16cd6"
   }
  }
 },
 "nbformat": 4,
 "nbformat_minor": 4
}
