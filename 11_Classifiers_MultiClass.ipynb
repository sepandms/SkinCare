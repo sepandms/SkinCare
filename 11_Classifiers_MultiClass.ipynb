{
 "cells": [
  {
   "cell_type": "code",
   "execution_count": 1,
   "metadata": {},
   "outputs": [
    {
     "ename": "SyntaxError",
     "evalue": "cannot delete literal (usefull_functions.py, line 532)",
     "output_type": "error",
     "traceback": [
      "Traceback \u001b[0;36m(most recent call last)\u001b[0m:\n",
      "  File \u001b[1;32m\"/Users/sepehrbe/Library/Python/3.8/lib/python/site-packages/IPython/core/interactiveshell.py\"\u001b[0m, line \u001b[1;32m3553\u001b[0m, in \u001b[1;35mrun_code\u001b[0m\n    exec(code_obj, self.user_global_ns, self.user_ns)\n",
      "\u001b[0;36m  File \u001b[0;32m\"/var/folders/jr/h5q7lybd23l1htckxf1x0dnr0000gn/T/ipykernel_92661/2273147503.py\"\u001b[0;36m, line \u001b[0;32m31\u001b[0;36m, in \u001b[0;35m<cell line: 31>\u001b[0;36m\u001b[0m\n\u001b[0;31m    from features.usefull_functions import *\u001b[0m\n",
      "\u001b[0;36m  File \u001b[0;32m\"/Users/sepehrbe/My_Drive/DataSources/SkinCare/features/usefull_functions.py\"\u001b[0;36m, line \u001b[0;32m532\u001b[0m\n\u001b[0;31m    del './Best_Model_'\u001b[0m\n\u001b[0m        ^\u001b[0m\n\u001b[0;31mSyntaxError\u001b[0m\u001b[0;31m:\u001b[0m cannot delete literal\n"
     ]
    }
   ],
   "source": [
    "G_path = './Project_Data'\n",
    "import pandas as pd\n",
    "import seaborn as sns\n",
    "from sklearn import *\n",
    "import sklearn as sk\n",
    "from sklearn import *\n",
    "import numpy as np\n",
    "from datetime import datetime\t\n",
    "from scipy.stats import chi2_contingency\n",
    "import datetime as dt\n",
    "import pickle\n",
    "\n",
    "import json\n",
    "import random\n",
    "import scipy as sp\n",
    "import seaborn as sns\n",
    "\n",
    "# import torch\n",
    "# import torch.nn as nn\n",
    "# import torch.optim as optim\n",
    "# import torch.nn.functional as F\n",
    "\n",
    "from tqdm import tqdm\n",
    "import matplotlib.pyplot as plt\n",
    "from sklearn.model_selection import train_test_split\n",
    "import time\n",
    "from statistics import mean\n",
    "import warnings\n",
    "warnings.filterwarnings('ignore')\n",
    "import features\n",
    "from features.usefull_functions import *\n",
    "from features.NETs import *\n",
    "from features.Model_Training import *\n",
    "pd.get_option(\"display.max_columns\")"
   ]
  },
  {
   "cell_type": "code",
   "execution_count": 2,
   "id": "af0578fa",
   "metadata": {},
   "outputs": [],
   "source": [
    "image_label = 'image_label'  #[image_label, binary_label]\n",
    "select_features = False\n",
    "remove_All_augmented = True\n",
    "remove_wrong_cnn_predictions = False\n",
    "\n",
    "file = 'CNN_280x210_Ouput_MultiClass_SoftMax' #[CNN_280x210_Ouput_MultiClass_SoftMax,CNN_280x210_Ouput_MultiClass_NoSoftMax,CNN_280x210_Ouput_MultiClass_Scaled]\n",
    "\n",
    "data = pd.read_pickle(G_path + '/07_CNNs_Output_DataSet/' + file)\n",
    "\n",
    "if remove_All_augmented:\n",
    "    data = data[~data.image_id.str.contains('AUG')]\n",
    "\n",
    "blc_test_list = pickle.load(open(G_path + '/02_Augmented_MetaData/balanced_test_set','rb'))\n",
    "# Evaluation_set = pickle.load(open(G_path + '/DataSet_280x210/' + file,'rb'))\n",
    "\n",
    "\n",
    "cols_remove = ['image_id','image_label','dx','lesion_id','type','binary_label','label_description']\n",
    "\n",
    "selected_feature = ['CNN_0','CNN_1','CNN_2','CNN_3','CNN_4','CNN_5','CNN_6','age','dx_type_consensus','dx_type_follow_up','dx_type_histo']\n",
    "cnn_ = ['CNN_0','CNN_1','CNN_2','CNN_3','CNN_4','CNN_5','CNN_6']\n",
    "\n",
    "\n",
    "\n",
    "train_data = data[data.type=='train']\n",
    "if remove_wrong_cnn_predictions:\n",
    "\n",
    "    print('train initial shape: ', train_data.shape)\n",
    "    train_data['cnn_label'] = train_data[cols].apply(lambda x : np.array(x[cnn_]).argmax(),axis=1)\n",
    "    train_data = train_data[train_data.cnn_label == train_data.image_label]\n",
    "    train_data.drop(columns=['cnn_label'],inplace=True)\n",
    "    print('train removed wrong CNN shape: ',train_data.shape)\n",
    "\n",
    "valid_data = data[data.type=='valid']\n",
    "test_data = data[data.type=='test']\n",
    "blc_test_data = data.merge(blc_test_list['image_id'], how='inner',on='image_id')\n",
    "\n",
    "\n",
    "train_label = train_data[image_label]\n",
    "train_data = train_data.drop(columns= cols_remove)\n",
    "valid_label = valid_data[image_label]\n",
    "valid_data = valid_data.drop(columns=cols_remove)\n",
    "test_label = test_data[image_label]\n",
    "test_data = test_data.drop(columns=cols_remove)\n",
    "blc_label = blc_test_data[image_label]\n",
    "blc_data = blc_test_data.drop(columns=cols_remove)\n",
    "\n",
    "if select_features:\n",
    "    train_data = train_data[selected_feature]\n",
    "    valid_data = valid_data[selected_feature]\n",
    "    test_data = test_data[selected_feature]\n",
    "    blc_data = blc_test_data[selected_feature]\n",
    "\n",
    "\n",
    "train_data_arrays = np.stack(train_data.values)  \n",
    "train_label_arrays = np.stack(train_label.values)\n",
    "train_label_arrays_One = pd.get_dummies(train_label_arrays).values  \n",
    "\n",
    "valid_data_arrays = np.stack(valid_data.values)  \n",
    "valid_label_arrays = np.stack(valid_label.values)  \n",
    "valid_label_arrays_One = pd.get_dummies(valid_label_arrays).values  \n",
    "\n",
    "test_data_arrays = np.stack(test_data.values)  \n",
    "test_label_arrays = np.stack(test_label.values)  \n",
    "test_label_arrays_One = pd.get_dummies(test_label_arrays).values  \n",
    "\n",
    "blc_data_arrays = np.stack(blc_data.values)  \n",
    "blc_label_arrays = np.stack(blc_label.values)  \n",
    "blc_label_arrays_One = pd.get_dummies(blc_label_arrays).values \n",
    "\n",
    "#Numpy Arrays\n",
    "input_data_Array = (train_data_arrays , valid_data_arrays, test_data_arrays , np.concatenate((train_data_arrays,valid_data_arrays )))\n",
    "labels_Array = (train_label_arrays,valid_label_arrays,test_label_arrays, np.concatenate((train_label_arrays,valid_label_arrays)))\n",
    "labels_One_Array = (train_label_arrays_One,valid_label_arrays_One,test_label_arrays_One, np.concatenate((train_label_arrays_One,valid_label_arrays_One)))\n",
    "\n",
    "# Tensors\n",
    "def to_Torch(x):\n",
    "    return torch.tensor(x,dtype= torch.float32)\n",
    "\n",
    "# input_data_Tensor = (to_Torch(train_data_arrays),to_Torch(valid_data_arrays)  , to_Torch(test_data_arrays) , to_Torch(np.concatenate((train_data_arrays,valid_data_arrays))))\n",
    "# labels_Tensor = (to_Torch(train_label_arrays),to_Torch(valid_label_arrays),to_Torch(test_label_arrays) , to_Torch(np.concatenate((train_label_arrays,valid_label_arrays))) )\n",
    "# labels_OneHot_Tensor = (to_Torch(train_label_arrays_One),to_Torch(valid_label_arrays_One),to_Torch(test_label_arrays_One), to_Torch(np.concatenate((train_label_arrays_One,valid_label_arrays_One))))\n",
    "\n",
    "# blc_data_Tensor = (to_Torch(blc_data_arrays))\n",
    "\n",
    "# print('Train set shape: ', train_data_arrays.shape)"
   ]
  },
  {
   "cell_type": "code",
   "execution_count": 3,
   "metadata": {},
   "outputs": [
    {
     "data": {
      "text/plain": [
       "Series([], dtype: int64)"
      ]
     },
     "execution_count": 3,
     "metadata": {},
     "output_type": "execute_result"
    }
   ],
   "source": [
    "Aug_list = data[data.image_id.str.contains('AUG')][['image_id','image_label']]\n",
    "Aug_list['image_id'] = Aug_list['image_id'].str.replace('AUG1_','').str.replace('AUG2_','').str.replace('AUG3_','')\n",
    "Aug_list[['image_id','image_label']].value_counts()"
   ]
  },
  {
   "cell_type": "code",
   "execution_count": 4,
   "metadata": {},
   "outputs": [
    {
     "data": {
      "text/html": [
       "<div>\n",
       "<style scoped>\n",
       "    .dataframe tbody tr th:only-of-type {\n",
       "        vertical-align: middle;\n",
       "    }\n",
       "\n",
       "    .dataframe tbody tr th {\n",
       "        vertical-align: top;\n",
       "    }\n",
       "\n",
       "    .dataframe thead th {\n",
       "        text-align: right;\n",
       "    }\n",
       "</style>\n",
       "<table border=\"1\" class=\"dataframe\">\n",
       "  <thead>\n",
       "    <tr style=\"text-align: right;\">\n",
       "      <th></th>\n",
       "      <th>CNN_0</th>\n",
       "      <th>CNN_1</th>\n",
       "      <th>CNN_2</th>\n",
       "      <th>CNN_3</th>\n",
       "      <th>CNN_4</th>\n",
       "      <th>CNN_5</th>\n",
       "      <th>CNN_6</th>\n",
       "      <th>image_label</th>\n",
       "      <th>image_id</th>\n",
       "      <th>predicted</th>\n",
       "    </tr>\n",
       "  </thead>\n",
       "  <tbody>\n",
       "    <tr>\n",
       "      <th>3366</th>\n",
       "      <td>0.000097</td>\n",
       "      <td>0.958211</td>\n",
       "      <td>0.000019</td>\n",
       "      <td>9.813207e-07</td>\n",
       "      <td>0.00331</td>\n",
       "      <td>0.032399</td>\n",
       "      <td>0.005964</td>\n",
       "      <td>1</td>\n",
       "      <td>ISIC_0034306</td>\n",
       "      <td>1</td>\n",
       "    </tr>\n",
       "  </tbody>\n",
       "</table>\n",
       "</div>"
      ],
      "text/plain": [
       "         CNN_0     CNN_1     CNN_2         CNN_3    CNN_4     CNN_5     CNN_6  \\\n",
       "3366  0.000097  0.958211  0.000019  9.813207e-07  0.00331  0.032399  0.005964   \n",
       "\n",
       "      image_label      image_id  predicted  \n",
       "3366            1  ISIC_0034306          1  "
      ]
     },
     "execution_count": 4,
     "metadata": {},
     "output_type": "execute_result"
    }
   ],
   "source": [
    "id = 'ISIC_0034306'\n",
    "cols = ['CNN_0','CNN_1','CNN_2','CNN_3','CNN_4','CNN_5','CNN_6','image_label', 'image_id']\n",
    "cnn_ = ['CNN_0','CNN_1','CNN_2','CNN_3','CNN_4','CNN_5','CNN_6']\n",
    "aug_details = data[data.image_id.str.contains(id)][cols]\n",
    "aug_details['predicted'] = aug_details.apply(lambda x: np.array(x[cnn_]).argmax(),axis=1)\n",
    "aug_details"
   ]
  },
  {
   "cell_type": "code",
   "execution_count": 5,
   "metadata": {},
   "outputs": [
    {
     "data": {
      "text/plain": [
       "(array([2, 2, 1, ..., 5, 4, 5], dtype=int8), 0.99990606, (3253, 30))"
      ]
     },
     "execution_count": 5,
     "metadata": {},
     "output_type": "execute_result"
    }
   ],
   "source": [
    "train_label_arrays, train_data['CNN_0'].max() , input_data_Array[0].shape"
   ]
  },
  {
   "cell_type": "markdown",
   "metadata": {},
   "source": [
    "# **Guassian NB**"
   ]
  },
  {
   "cell_type": "code",
   "execution_count": 6,
   "metadata": {},
   "outputs": [
    {
     "ename": "NameError",
     "evalue": "name 'grid_searc_cross_valid_trainer' is not defined",
     "output_type": "error",
     "traceback": [
      "\u001b[0;31m---------------------------------------------------------------------------\u001b[0m",
      "\u001b[0;31mNameError\u001b[0m                                 Traceback (most recent call last)",
      "\u001b[0;32m/var/folders/jr/h5q7lybd23l1htckxf1x0dnr0000gn/T/ipykernel_92661/962721021.py\u001b[0m in \u001b[0;36m<cell line: 20>\u001b[0;34m()\u001b[0m\n\u001b[1;32m     18\u001b[0m }\n\u001b[1;32m     19\u001b[0m \u001b[0;34m\u001b[0m\u001b[0m\n\u001b[0;32m---> 20\u001b[0;31m \u001b[0mGB_Model\u001b[0m\u001b[0;34m,\u001b[0m \u001b[0mGB_Details\u001b[0m \u001b[0;34m=\u001b[0m \u001b[0mgrid_searc_cross_valid_trainer\u001b[0m\u001b[0;34m(\u001b[0m\u001b[0mModel_\u001b[0m\u001b[0;34m,\u001b[0m \u001b[0mgrid\u001b[0m\u001b[0;34m,\u001b[0m \u001b[0mcross_valid\u001b[0m\u001b[0;34m,\u001b[0m \u001b[0mkflods\u001b[0m\u001b[0;34m,\u001b[0m\u001b[0mX_train\u001b[0m\u001b[0;34m=\u001b[0m\u001b[0mX_train\u001b[0m \u001b[0;34m,\u001b[0m \u001b[0mY_train\u001b[0m\u001b[0;34m=\u001b[0m\u001b[0mY_train\u001b[0m\u001b[0;34m,\u001b[0m\u001b[0mX_valid\u001b[0m\u001b[0;34m=\u001b[0m\u001b[0mX_valid\u001b[0m\u001b[0;34m,\u001b[0m\u001b[0mY_valid\u001b[0m\u001b[0;34m=\u001b[0m\u001b[0mY_valid\u001b[0m\u001b[0;34m,\u001b[0m\u001b[0mX_test\u001b[0m\u001b[0;34m=\u001b[0m\u001b[0mX_test\u001b[0m\u001b[0;34m,\u001b[0m \u001b[0mY_test\u001b[0m\u001b[0;34m=\u001b[0m\u001b[0mY_test\u001b[0m\u001b[0;34m,\u001b[0m\u001b[0mnr_repeat\u001b[0m\u001b[0;34m=\u001b[0m\u001b[0mnr_repeat\u001b[0m\u001b[0;34m,\u001b[0m\u001b[0mbest_selection\u001b[0m\u001b[0;34m=\u001b[0m\u001b[0;34m'recall'\u001b[0m \u001b[0;34m)\u001b[0m\u001b[0;34m\u001b[0m\u001b[0;34m\u001b[0m\u001b[0m\n\u001b[0m\u001b[1;32m     21\u001b[0m \u001b[0;34m\u001b[0m\u001b[0m\n\u001b[1;32m     22\u001b[0m \u001b[0mdate_hour\u001b[0m \u001b[0;34m=\u001b[0m \u001b[0mdatetime\u001b[0m\u001b[0;34m.\u001b[0m\u001b[0mnow\u001b[0m\u001b[0;34m(\u001b[0m\u001b[0;34m)\u001b[0m\u001b[0;34m.\u001b[0m\u001b[0mstrftime\u001b[0m\u001b[0;34m(\u001b[0m\u001b[0;34m\"%d_%b%y_%H_%M\"\u001b[0m\u001b[0;34m)\u001b[0m\u001b[0;34m\u001b[0m\u001b[0;34m\u001b[0m\u001b[0m\n",
      "\u001b[0;31mNameError\u001b[0m: name 'grid_searc_cross_valid_trainer' is not defined"
     ]
    }
   ],
   "source": [
    "Model_ = sk.naive_bayes.GaussianNB()\n",
    "# kflods = sk.model_selection.KFold(n_splits=10, shuffle=True)\n",
    "kflods = sk.model_selection.StratifiedKFold(n_splits=10, shuffle=True)\n",
    "cross_valid = True\n",
    "save_model = True\n",
    "nr_repeat = 10\n",
    "\n",
    "X_train = input_data_Array[0]\n",
    "Y_train = labels_Array[0]\n",
    "X_valid = input_data_Array[1]\n",
    "Y_valid = labels_Array[1]\n",
    "X_test = input_data_Array[2]\n",
    "Y_test = labels_Array[2]\n",
    "\n",
    "grid = { \n",
    "    'priors': [None],\n",
    "    'var_smoothing': [0,4e-1,5e-1,3e-1,1e-1,0.5e-1, 1e-3, 1e-4, 1e-5, 1e-6, 1e-7]\n",
    "}\n",
    "\n",
    "GB_Model, GB_Details = grid_searc_cross_valid_trainer(Model_, grid, cross_valid, kflods,X_train=X_train , Y_train=Y_train,X_valid=X_valid,Y_valid=Y_valid,X_test=X_test, Y_test=Y_test,nr_repeat=nr_repeat,best_selection='recall' )\n",
    "\n",
    "date_hour = datetime.now().strftime(\"%d_%b%y_%H_%M\")\n",
    "if save_model:\n",
    "    pickle.dump(GB_Model, open(G_path + '/08_Saved_Models_Outpus/Models/Classifiers/' + 'GB_Model_' + date_hour , 'wb'))"
   ]
  },
  {
   "cell_type": "code",
   "execution_count": 8,
   "metadata": {},
   "outputs": [
    {
     "name": "stdout",
     "output_type": "stream",
     "text": [
      "Nr. of Data : \n",
      " 407\n",
      "Accuracy of The Model : \n",
      " 0.6928746928746928\n"
     ]
    },
    {
     "data": {
      "image/png": "[encoded data removed]",
      "text/plain": [
       "<Figure size 432x288 with 1 Axes>"
      ]
     },
     "metadata": {
      "needs_background": "light"
     },
     "output_type": "display_data"
    },
    {
     "data": {
      "text/html": [
       "<style type=\"text/css\">\n",
       "</style>\n",
       "<table id=\"T_fbe1f_\">\n",
       "  <thead>\n",
       "    <tr>\n",
       "      <th class=\"blank level0\" >&nbsp;</th>\n",
       "      <th class=\"col_heading level0 col0\" >weights</th>\n",
       "      <th class=\"col_heading level0 col1\" >Precision</th>\n",
       "      <th class=\"col_heading level0 col2\" >Recall_Sensitivity</th>\n",
       "      <th class=\"col_heading level0 col3\" >Specificity</th>\n",
       "      <th class=\"col_heading level0 col4\" >f1_score</th>\n",
       "    </tr>\n",
       "  </thead>\n",
       "  <tbody>\n",
       "    <tr>\n",
       "      <th id=\"T_fbe1f_level0_row0\" class=\"row_heading level0 row0\" >0</th>\n",
       "      <td id=\"T_fbe1f_row0_col0\" class=\"data row0 col0\" >5.7%</td>\n",
       "      <td id=\"T_fbe1f_row0_col1\" class=\"data row0 col1\" >43.5%</td>\n",
       "      <td id=\"T_fbe1f_row0_col2\" class=\"data row0 col2\" >43.5%</td>\n",
       "      <td id=\"T_fbe1f_row0_col3\" class=\"data row0 col3\" >96.6%</td>\n",
       "      <td id=\"T_fbe1f_row0_col4\" class=\"data row0 col4\" >43.5%</td>\n",
       "    </tr>\n",
       "    <tr>\n",
       "      <th id=\"T_fbe1f_level0_row1\" class=\"row_heading level0 row1\" >1</th>\n",
       "      <td id=\"T_fbe1f_row1_col0\" class=\"data row1 col0\" >7.9%</td>\n",
       "      <td id=\"T_fbe1f_row1_col1\" class=\"data row1 col1\" >57.1%</td>\n",
       "      <td id=\"T_fbe1f_row1_col2\" class=\"data row1 col2\" >75.0%</td>\n",
       "      <td id=\"T_fbe1f_row1_col3\" class=\"data row1 col3\" >95.2%</td>\n",
       "      <td id=\"T_fbe1f_row1_col4\" class=\"data row1 col4\" >64.9%</td>\n",
       "    </tr>\n",
       "    <tr>\n",
       "      <th id=\"T_fbe1f_level0_row2\" class=\"row_heading level0 row2\" >2</th>\n",
       "      <td id=\"T_fbe1f_row2_col0\" class=\"data row2 col0\" >17.7%</td>\n",
       "      <td id=\"T_fbe1f_row2_col1\" class=\"data row2 col1\" >59.7%</td>\n",
       "      <td id=\"T_fbe1f_row2_col2\" class=\"data row2 col2\" >55.6%</td>\n",
       "      <td id=\"T_fbe1f_row2_col3\" class=\"data row2 col3\" >91.9%</td>\n",
       "      <td id=\"T_fbe1f_row2_col4\" class=\"data row2 col4\" >57.6%</td>\n",
       "    </tr>\n",
       "    <tr>\n",
       "      <th id=\"T_fbe1f_level0_row3\" class=\"row_heading level0 row3\" >3</th>\n",
       "      <td id=\"T_fbe1f_row3_col0\" class=\"data row3 col0\" >2.0%</td>\n",
       "      <td id=\"T_fbe1f_row3_col1\" class=\"data row3 col1\" >66.7%</td>\n",
       "      <td id=\"T_fbe1f_row3_col2\" class=\"data row3 col2\" >50.0%</td>\n",
       "      <td id=\"T_fbe1f_row3_col3\" class=\"data row3 col3\" >99.5%</td>\n",
       "      <td id=\"T_fbe1f_row3_col4\" class=\"data row3 col4\" >57.1%</td>\n",
       "    </tr>\n",
       "    <tr>\n",
       "      <th id=\"T_fbe1f_level0_row4\" class=\"row_heading level0 row4\" >4</th>\n",
       "      <td id=\"T_fbe1f_row4_col0\" class=\"data row4 col0\" >15.2%</td>\n",
       "      <td id=\"T_fbe1f_row4_col1\" class=\"data row4 col1\" >42.0%</td>\n",
       "      <td id=\"T_fbe1f_row4_col2\" class=\"data row4 col2\" >67.7%</td>\n",
       "      <td id=\"T_fbe1f_row4_col3\" class=\"data row4 col3\" >83.2%</td>\n",
       "      <td id=\"T_fbe1f_row4_col4\" class=\"data row4 col4\" >51.9%</td>\n",
       "    </tr>\n",
       "    <tr>\n",
       "      <th id=\"T_fbe1f_level0_row5\" class=\"row_heading level0 row5\" >5</th>\n",
       "      <td id=\"T_fbe1f_row5_col0\" class=\"data row5 col0\" >49.1%</td>\n",
       "      <td id=\"T_fbe1f_row5_col1\" class=\"data row5 col1\" >95.6%</td>\n",
       "      <td id=\"T_fbe1f_row5_col2\" class=\"data row5 col2\" >76.5%</td>\n",
       "      <td id=\"T_fbe1f_row5_col3\" class=\"data row5 col3\" >96.6%</td>\n",
       "      <td id=\"T_fbe1f_row5_col4\" class=\"data row5 col4\" >85.0%</td>\n",
       "    </tr>\n",
       "    <tr>\n",
       "      <th id=\"T_fbe1f_level0_row6\" class=\"row_heading level0 row6\" >6</th>\n",
       "      <td id=\"T_fbe1f_row6_col0\" class=\"data row6 col0\" >2.5%</td>\n",
       "      <td id=\"T_fbe1f_row6_col1\" class=\"data row6 col1\" >100.0%</td>\n",
       "      <td id=\"T_fbe1f_row6_col2\" class=\"data row6 col2\" >90.0%</td>\n",
       "      <td id=\"T_fbe1f_row6_col3\" class=\"data row6 col3\" >100.0%</td>\n",
       "      <td id=\"T_fbe1f_row6_col4\" class=\"data row6 col4\" >94.7%</td>\n",
       "    </tr>\n",
       "    <tr>\n",
       "      <th id=\"T_fbe1f_level0_row7\" class=\"row_heading level0 row7\" >Simple Avg.</th>\n",
       "      <td id=\"T_fbe1f_row7_col0\" class=\"data row7 col0\" >nan%</td>\n",
       "      <td id=\"T_fbe1f_row7_col1\" class=\"data row7 col1\" >66.4%</td>\n",
       "      <td id=\"T_fbe1f_row7_col2\" class=\"data row7 col2\" >65.5%</td>\n",
       "      <td id=\"T_fbe1f_row7_col3\" class=\"data row7 col3\" >94.7%</td>\n",
       "      <td id=\"T_fbe1f_row7_col4\" class=\"data row7 col4\" >64.9%</td>\n",
       "    </tr>\n",
       "    <tr>\n",
       "      <th id=\"T_fbe1f_level0_row8\" class=\"row_heading level0 row8\" >Weighted Avg.</th>\n",
       "      <td id=\"T_fbe1f_row8_col0\" class=\"data row8 col0\" >nan%</td>\n",
       "      <td id=\"T_fbe1f_row8_col1\" class=\"data row8 col1\" >74.7%</td>\n",
       "      <td id=\"T_fbe1f_row8_col2\" class=\"data row8 col2\" >69.3%</td>\n",
       "      <td id=\"T_fbe1f_row8_col3\" class=\"data row8 col3\" >93.8%</td>\n",
       "      <td id=\"T_fbe1f_row8_col4\" class=\"data row8 col4\" >70.9%</td>\n",
       "    </tr>\n",
       "  </tbody>\n",
       "</table>\n"
      ],
      "text/plain": [
       "<pandas.io.formats.style.Styler at 0x28b3897c0>"
      ]
     },
     "execution_count": 8,
     "metadata": {},
     "output_type": "execute_result"
    }
   ],
   "source": [
    "# Model 280x210\n",
    "model_ = GB_Model\n",
    "X = input_data_Array[2]\n",
    "Y = labels_Array[2]\n",
    "Y_pred = model_.predict(X)\n",
    "Y_binary =  label_to_binary(Y)\n",
    "Y_pred_binary =  label_to_binary(Y_pred)\n",
    "results = model_evaluation(Y,Y_pred,'Gaussian NB')\n",
    "# results = model_evaluation(Y_binary,Y_pred_binary)\n",
    "results"
   ]
  },
  {
   "cell_type": "markdown",
   "metadata": {},
   "source": [
    "# **Random Forrest**"
   ]
  },
  {
   "cell_type": "code",
   "execution_count": 9,
   "metadata": {},
   "outputs": [
    {
     "name": "stdout",
     "output_type": "stream",
     "text": [
      " Max_Valid_Acc.: 93.2%, Max_Test_Acc.: 72.7%, Expected_test_Acc.: 70.0% [██████████████████████████████] 1921/1920 [Time => Iter.: 0.5s, Tot.: 412.7s, Remain.: -0.2s]     Remain.: 0.0s]      "
     ]
    },
    {
     "ename": "RuntimeError",
     "evalue": "Attempting to deserialize object on a CUDA device but torch.cuda.is_available() is False. If you are running on a CPU-only machine, please use torch.load with map_location=torch.device('cpu') to map your storages to the CPU.",
     "output_type": "error",
     "traceback": [
      "\u001b[0;31m---------------------------------------------------------------------------\u001b[0m",
      "\u001b[0;31mRuntimeError\u001b[0m                              Traceback (most recent call last)",
      "\u001b[0;32m/var/folders/jr/h5q7lybd23l1htckxf1x0dnr0000gn/T/ipykernel_89740/1901334698.py\u001b[0m in \u001b[0;36m<cell line: 51>\u001b[0;34m()\u001b[0m\n\u001b[1;32m     49\u001b[0m \u001b[0;31m# }\u001b[0m\u001b[0;34m\u001b[0m\u001b[0;34m\u001b[0m\u001b[0;34m\u001b[0m\u001b[0m\n\u001b[1;32m     50\u001b[0m \u001b[0;34m\u001b[0m\u001b[0m\n\u001b[0;32m---> 51\u001b[0;31m \u001b[0mRF_Model\u001b[0m\u001b[0;34m,\u001b[0m \u001b[0mRF_Details\u001b[0m \u001b[0;34m=\u001b[0m \u001b[0mgrid_searc_cross_valid_trainer\u001b[0m\u001b[0;34m(\u001b[0m\u001b[0mModel_\u001b[0m\u001b[0;34m,\u001b[0m \u001b[0mgrid\u001b[0m\u001b[0;34m,\u001b[0m \u001b[0mcross_valid\u001b[0m\u001b[0;34m,\u001b[0m \u001b[0mkflods\u001b[0m\u001b[0;34m,\u001b[0m\u001b[0mX_train\u001b[0m\u001b[0;34m=\u001b[0m\u001b[0mX_train\u001b[0m \u001b[0;34m,\u001b[0m \u001b[0mY_train\u001b[0m\u001b[0;34m=\u001b[0m\u001b[0mY_train\u001b[0m\u001b[0;34m,\u001b[0m\u001b[0mX_valid\u001b[0m\u001b[0;34m=\u001b[0m\u001b[0mX_valid\u001b[0m\u001b[0;34m,\u001b[0m\u001b[0mY_valid\u001b[0m\u001b[0;34m=\u001b[0m\u001b[0mY_valid\u001b[0m\u001b[0;34m,\u001b[0m\u001b[0mX_test\u001b[0m\u001b[0;34m=\u001b[0m\u001b[0mX_test\u001b[0m\u001b[0;34m,\u001b[0m \u001b[0mY_test\u001b[0m\u001b[0;34m=\u001b[0m\u001b[0mY_test\u001b[0m\u001b[0;34m,\u001b[0m\u001b[0mnr_repeat\u001b[0m\u001b[0;34m=\u001b[0m\u001b[0mnr_repeat\u001b[0m\u001b[0;34m,\u001b[0m\u001b[0mbest_selection\u001b[0m\u001b[0;34m=\u001b[0m\u001b[0;34m'recall'\u001b[0m\u001b[0;34m)\u001b[0m\u001b[0;34m\u001b[0m\u001b[0;34m\u001b[0m\u001b[0m\n\u001b[0m\u001b[1;32m     52\u001b[0m \u001b[0;34m\u001b[0m\u001b[0m\n\u001b[1;32m     53\u001b[0m \u001b[0mdate_hour\u001b[0m \u001b[0;34m=\u001b[0m \u001b[0mdatetime\u001b[0m\u001b[0;34m.\u001b[0m\u001b[0mnow\u001b[0m\u001b[0;34m(\u001b[0m\u001b[0;34m)\u001b[0m\u001b[0;34m.\u001b[0m\u001b[0mstrftime\u001b[0m\u001b[0;34m(\u001b[0m\u001b[0;34m\"%d_%b%y_%H_%M\"\u001b[0m\u001b[0;34m)\u001b[0m\u001b[0;34m\u001b[0m\u001b[0;34m\u001b[0m\u001b[0m\n",
      "\u001b[0;32m~/My_Drive/DataSources/SkinCare/features/usefull_functions.py\u001b[0m in \u001b[0;36mgrid_searc_cross_valid_trainer\u001b[0;34m(Model_, grid, cross_valid, kflods, X_train, Y_train, X_valid, Y_valid, X_test, Y_test, nr_repeat, best_selection)\u001b[0m\n\u001b[1;32m    528\u001b[0m \u001b[0;34m\u001b[0m\u001b[0m\n\u001b[1;32m    529\u001b[0m \u001b[0;34m\u001b[0m\u001b[0m\n\u001b[0;32m--> 530\u001b[0;31m     \u001b[0mBest_Model\u001b[0m \u001b[0;34m=\u001b[0m \u001b[0mpickle\u001b[0m\u001b[0;34m.\u001b[0m\u001b[0mload\u001b[0m\u001b[0;34m(\u001b[0m\u001b[0mopen\u001b[0m\u001b[0;34m(\u001b[0m\u001b[0;34m'./Best_Model'\u001b[0m\u001b[0;34m,\u001b[0m\u001b[0;34m'rb'\u001b[0m\u001b[0;34m)\u001b[0m\u001b[0;34m)\u001b[0m\u001b[0;34m\u001b[0m\u001b[0;34m\u001b[0m\u001b[0m\n\u001b[0m\u001b[1;32m    531\u001b[0m \u001b[0;34m\u001b[0m\u001b[0m\n\u001b[1;32m    532\u001b[0m     \u001b[0mbest_one\u001b[0m \u001b[0;34m=\u001b[0m \u001b[0mnp\u001b[0m\u001b[0;34m.\u001b[0m\u001b[0margmax\u001b[0m\u001b[0;34m(\u001b[0m\u001b[0mParam_Details\u001b[0m\u001b[0;34m.\u001b[0m\u001b[0mvalid_recall_weighted\u001b[0m\u001b[0;34m)\u001b[0m\u001b[0;34m\u001b[0m\u001b[0;34m\u001b[0m\u001b[0m\n",
      "\u001b[0;32m~/Library/Python/3.8/lib/python/site-packages/torch/storage.py\u001b[0m in \u001b[0;36m_load_from_bytes\u001b[0;34m(b)\u001b[0m\n\u001b[1;32m    216\u001b[0m \u001b[0;34m\u001b[0m\u001b[0m\n\u001b[1;32m    217\u001b[0m \u001b[0;32mdef\u001b[0m \u001b[0m_load_from_bytes\u001b[0m\u001b[0;34m(\u001b[0m\u001b[0mb\u001b[0m\u001b[0;34m)\u001b[0m\u001b[0;34m:\u001b[0m\u001b[0;34m\u001b[0m\u001b[0;34m\u001b[0m\u001b[0m\n\u001b[0;32m--> 218\u001b[0;31m     \u001b[0;32mreturn\u001b[0m \u001b[0mtorch\u001b[0m\u001b[0;34m.\u001b[0m\u001b[0mload\u001b[0m\u001b[0;34m(\u001b[0m\u001b[0mio\u001b[0m\u001b[0;34m.\u001b[0m\u001b[0mBytesIO\u001b[0m\u001b[0;34m(\u001b[0m\u001b[0mb\u001b[0m\u001b[0;34m)\u001b[0m\u001b[0;34m)\u001b[0m\u001b[0;34m\u001b[0m\u001b[0;34m\u001b[0m\u001b[0m\n\u001b[0m\u001b[1;32m    219\u001b[0m \u001b[0;34m\u001b[0m\u001b[0m\n\u001b[1;32m    220\u001b[0m \u001b[0;34m\u001b[0m\u001b[0m\n",
      "\u001b[0;32m~/Library/Python/3.8/lib/python/site-packages/torch/serialization.py\u001b[0m in \u001b[0;36mload\u001b[0;34m(f, map_location, pickle_module, **pickle_load_args)\u001b[0m\n\u001b[1;32m    711\u001b[0m                     \u001b[0;32mreturn\u001b[0m \u001b[0mtorch\u001b[0m\u001b[0;34m.\u001b[0m\u001b[0mjit\u001b[0m\u001b[0;34m.\u001b[0m\u001b[0mload\u001b[0m\u001b[0;34m(\u001b[0m\u001b[0mopened_file\u001b[0m\u001b[0;34m)\u001b[0m\u001b[0;34m\u001b[0m\u001b[0;34m\u001b[0m\u001b[0m\n\u001b[1;32m    712\u001b[0m                 \u001b[0;32mreturn\u001b[0m \u001b[0m_load\u001b[0m\u001b[0;34m(\u001b[0m\u001b[0mopened_zipfile\u001b[0m\u001b[0;34m,\u001b[0m \u001b[0mmap_location\u001b[0m\u001b[0;34m,\u001b[0m \u001b[0mpickle_module\u001b[0m\u001b[0;34m,\u001b[0m \u001b[0;34m**\u001b[0m\u001b[0mpickle_load_args\u001b[0m\u001b[0;34m)\u001b[0m\u001b[0;34m\u001b[0m\u001b[0;34m\u001b[0m\u001b[0m\n\u001b[0;32m--> 713\u001b[0;31m         \u001b[0;32mreturn\u001b[0m \u001b[0m_legacy_load\u001b[0m\u001b[0;34m(\u001b[0m\u001b[0mopened_file\u001b[0m\u001b[0;34m,\u001b[0m \u001b[0mmap_location\u001b[0m\u001b[0;34m,\u001b[0m \u001b[0mpickle_module\u001b[0m\u001b[0;34m,\u001b[0m \u001b[0;34m**\u001b[0m\u001b[0mpickle_load_args\u001b[0m\u001b[0;34m)\u001b[0m\u001b[0;34m\u001b[0m\u001b[0;34m\u001b[0m\u001b[0m\n\u001b[0m\u001b[1;32m    714\u001b[0m \u001b[0;34m\u001b[0m\u001b[0m\n\u001b[1;32m    715\u001b[0m \u001b[0;34m\u001b[0m\u001b[0m\n",
      "\u001b[0;32m~/Library/Python/3.8/lib/python/site-packages/torch/serialization.py\u001b[0m in \u001b[0;36m_legacy_load\u001b[0;34m(f, map_location, pickle_module, **pickle_load_args)\u001b[0m\n\u001b[1;32m    928\u001b[0m     \u001b[0munpickler\u001b[0m \u001b[0;34m=\u001b[0m \u001b[0mUnpicklerWrapper\u001b[0m\u001b[0;34m(\u001b[0m\u001b[0mf\u001b[0m\u001b[0;34m,\u001b[0m \u001b[0;34m**\u001b[0m\u001b[0mpickle_load_args\u001b[0m\u001b[0;34m)\u001b[0m\u001b[0;34m\u001b[0m\u001b[0;34m\u001b[0m\u001b[0m\n\u001b[1;32m    929\u001b[0m     \u001b[0munpickler\u001b[0m\u001b[0;34m.\u001b[0m\u001b[0mpersistent_load\u001b[0m \u001b[0;34m=\u001b[0m \u001b[0mpersistent_load\u001b[0m\u001b[0;34m\u001b[0m\u001b[0;34m\u001b[0m\u001b[0m\n\u001b[0;32m--> 930\u001b[0;31m     \u001b[0mresult\u001b[0m \u001b[0;34m=\u001b[0m \u001b[0munpickler\u001b[0m\u001b[0;34m.\u001b[0m\u001b[0mload\u001b[0m\u001b[0;34m(\u001b[0m\u001b[0;34m)\u001b[0m\u001b[0;34m\u001b[0m\u001b[0;34m\u001b[0m\u001b[0m\n\u001b[0m\u001b[1;32m    931\u001b[0m \u001b[0;34m\u001b[0m\u001b[0m\n\u001b[1;32m    932\u001b[0m     \u001b[0mdeserialized_storage_keys\u001b[0m \u001b[0;34m=\u001b[0m \u001b[0mpickle_module\u001b[0m\u001b[0;34m.\u001b[0m\u001b[0mload\u001b[0m\u001b[0;34m(\u001b[0m\u001b[0mf\u001b[0m\u001b[0;34m,\u001b[0m \u001b[0;34m**\u001b[0m\u001b[0mpickle_load_args\u001b[0m\u001b[0;34m)\u001b[0m\u001b[0;34m\u001b[0m\u001b[0;34m\u001b[0m\u001b[0m\n",
      "\u001b[0;32m~/Library/Python/3.8/lib/python/site-packages/torch/serialization.py\u001b[0m in \u001b[0;36mpersistent_load\u001b[0;34m(saved_id)\u001b[0m\n\u001b[1;32m    874\u001b[0m                 \u001b[0;31m# stop wrapping with _TypedStorage\u001b[0m\u001b[0;34m\u001b[0m\u001b[0;34m\u001b[0m\u001b[0;34m\u001b[0m\u001b[0m\n\u001b[1;32m    875\u001b[0m                 deserialized_objects[root_key] = torch.storage._TypedStorage(\n\u001b[0;32m--> 876\u001b[0;31m                     \u001b[0mwrap_storage\u001b[0m\u001b[0;34m=\u001b[0m\u001b[0mrestore_location\u001b[0m\u001b[0;34m(\u001b[0m\u001b[0mobj\u001b[0m\u001b[0;34m,\u001b[0m \u001b[0mlocation\u001b[0m\u001b[0;34m)\u001b[0m\u001b[0;34m,\u001b[0m\u001b[0;34m\u001b[0m\u001b[0;34m\u001b[0m\u001b[0m\n\u001b[0m\u001b[1;32m    877\u001b[0m                     dtype=dtype)\n\u001b[1;32m    878\u001b[0m \u001b[0;34m\u001b[0m\u001b[0m\n",
      "\u001b[0;32m~/Library/Python/3.8/lib/python/site-packages/torch/serialization.py\u001b[0m in \u001b[0;36mdefault_restore_location\u001b[0;34m(storage, location)\u001b[0m\n\u001b[1;32m    173\u001b[0m \u001b[0;32mdef\u001b[0m \u001b[0mdefault_restore_location\u001b[0m\u001b[0;34m(\u001b[0m\u001b[0mstorage\u001b[0m\u001b[0;34m,\u001b[0m \u001b[0mlocation\u001b[0m\u001b[0;34m)\u001b[0m\u001b[0;34m:\u001b[0m\u001b[0;34m\u001b[0m\u001b[0;34m\u001b[0m\u001b[0m\n\u001b[1;32m    174\u001b[0m     \u001b[0;32mfor\u001b[0m \u001b[0m_\u001b[0m\u001b[0;34m,\u001b[0m \u001b[0m_\u001b[0m\u001b[0;34m,\u001b[0m \u001b[0mfn\u001b[0m \u001b[0;32min\u001b[0m \u001b[0m_package_registry\u001b[0m\u001b[0;34m:\u001b[0m\u001b[0;34m\u001b[0m\u001b[0;34m\u001b[0m\u001b[0m\n\u001b[0;32m--> 175\u001b[0;31m         \u001b[0mresult\u001b[0m \u001b[0;34m=\u001b[0m \u001b[0mfn\u001b[0m\u001b[0;34m(\u001b[0m\u001b[0mstorage\u001b[0m\u001b[0;34m,\u001b[0m \u001b[0mlocation\u001b[0m\u001b[0;34m)\u001b[0m\u001b[0;34m\u001b[0m\u001b[0;34m\u001b[0m\u001b[0m\n\u001b[0m\u001b[1;32m    176\u001b[0m         \u001b[0;32mif\u001b[0m \u001b[0mresult\u001b[0m \u001b[0;32mis\u001b[0m \u001b[0;32mnot\u001b[0m \u001b[0;32mNone\u001b[0m\u001b[0;34m:\u001b[0m\u001b[0;34m\u001b[0m\u001b[0;34m\u001b[0m\u001b[0m\n\u001b[1;32m    177\u001b[0m             \u001b[0;32mreturn\u001b[0m \u001b[0mresult\u001b[0m\u001b[0;34m\u001b[0m\u001b[0;34m\u001b[0m\u001b[0m\n",
      "\u001b[0;32m~/Library/Python/3.8/lib/python/site-packages/torch/serialization.py\u001b[0m in \u001b[0;36m_cuda_deserialize\u001b[0;34m(obj, location)\u001b[0m\n\u001b[1;32m    150\u001b[0m \u001b[0;32mdef\u001b[0m \u001b[0m_cuda_deserialize\u001b[0m\u001b[0;34m(\u001b[0m\u001b[0mobj\u001b[0m\u001b[0;34m,\u001b[0m \u001b[0mlocation\u001b[0m\u001b[0;34m)\u001b[0m\u001b[0;34m:\u001b[0m\u001b[0;34m\u001b[0m\u001b[0;34m\u001b[0m\u001b[0m\n\u001b[1;32m    151\u001b[0m     \u001b[0;32mif\u001b[0m \u001b[0mlocation\u001b[0m\u001b[0;34m.\u001b[0m\u001b[0mstartswith\u001b[0m\u001b[0;34m(\u001b[0m\u001b[0;34m'cuda'\u001b[0m\u001b[0;34m)\u001b[0m\u001b[0;34m:\u001b[0m\u001b[0;34m\u001b[0m\u001b[0;34m\u001b[0m\u001b[0m\n\u001b[0;32m--> 152\u001b[0;31m         \u001b[0mdevice\u001b[0m \u001b[0;34m=\u001b[0m \u001b[0mvalidate_cuda_device\u001b[0m\u001b[0;34m(\u001b[0m\u001b[0mlocation\u001b[0m\u001b[0;34m)\u001b[0m\u001b[0;34m\u001b[0m\u001b[0;34m\u001b[0m\u001b[0m\n\u001b[0m\u001b[1;32m    153\u001b[0m         \u001b[0;32mif\u001b[0m \u001b[0mgetattr\u001b[0m\u001b[0;34m(\u001b[0m\u001b[0mobj\u001b[0m\u001b[0;34m,\u001b[0m \u001b[0;34m\"_torch_load_uninitialized\"\u001b[0m\u001b[0;34m,\u001b[0m \u001b[0;32mFalse\u001b[0m\u001b[0;34m)\u001b[0m\u001b[0;34m:\u001b[0m\u001b[0;34m\u001b[0m\u001b[0;34m\u001b[0m\u001b[0m\n\u001b[1;32m    154\u001b[0m             \u001b[0;32mwith\u001b[0m \u001b[0mtorch\u001b[0m\u001b[0;34m.\u001b[0m\u001b[0mcuda\u001b[0m\u001b[0;34m.\u001b[0m\u001b[0mdevice\u001b[0m\u001b[0;34m(\u001b[0m\u001b[0mdevice\u001b[0m\u001b[0;34m)\u001b[0m\u001b[0;34m:\u001b[0m\u001b[0;34m\u001b[0m\u001b[0;34m\u001b[0m\u001b[0m\n",
      "\u001b[0;32m~/Library/Python/3.8/lib/python/site-packages/torch/serialization.py\u001b[0m in \u001b[0;36mvalidate_cuda_device\u001b[0;34m(location)\u001b[0m\n\u001b[1;32m    134\u001b[0m \u001b[0;34m\u001b[0m\u001b[0m\n\u001b[1;32m    135\u001b[0m     \u001b[0;32mif\u001b[0m \u001b[0;32mnot\u001b[0m \u001b[0mtorch\u001b[0m\u001b[0;34m.\u001b[0m\u001b[0mcuda\u001b[0m\u001b[0;34m.\u001b[0m\u001b[0mis_available\u001b[0m\u001b[0;34m(\u001b[0m\u001b[0;34m)\u001b[0m\u001b[0;34m:\u001b[0m\u001b[0;34m\u001b[0m\u001b[0;34m\u001b[0m\u001b[0m\n\u001b[0;32m--> 136\u001b[0;31m         raise RuntimeError('Attempting to deserialize object on a CUDA '\n\u001b[0m\u001b[1;32m    137\u001b[0m                            \u001b[0;34m'device but torch.cuda.is_available() is False. '\u001b[0m\u001b[0;34m\u001b[0m\u001b[0;34m\u001b[0m\u001b[0m\n\u001b[1;32m    138\u001b[0m                            \u001b[0;34m'If you are running on a CPU-only machine, '\u001b[0m\u001b[0;34m\u001b[0m\u001b[0;34m\u001b[0m\u001b[0m\n",
      "\u001b[0;31mRuntimeError\u001b[0m: Attempting to deserialize object on a CUDA device but torch.cuda.is_available() is False. If you are running on a CPU-only machine, please use torch.load with map_location=torch.device('cpu') to map your storages to the CPU."
     ]
    }
   ],
   "source": [
    "Model_ = sk.ensemble.RandomForestClassifier( n_jobs=-1)\n",
    "# kflods = sk.model_selection.KFold(n_splits=10, shuffle=True)\n",
    "kflods = sk.model_selection.StratifiedKFold(n_splits=10, shuffle=True)\n",
    "\n",
    "cross_valid = True\n",
    "save_model = False\n",
    "nr_repeat = 1\n",
    "\n",
    "X_train = input_data_Array[0]\n",
    "Y_train = labels_Array[0]\n",
    "X_valid = input_data_Array[1]\n",
    "Y_valid = labels_Array[1]\n",
    "X_test = input_data_Array[2]\n",
    "Y_test = labels_Array[2]\n",
    "\n",
    "grid = { \n",
    "    'n_estimators': [200],\n",
    "    'max_features': ['auto', 'log2'],\n",
    "    'max_depth' : [30,40],\n",
    "    'min_samples_leaf': [2, 5,10],\n",
    "    'criterion' :['gini', 'entropy'],\n",
    "    'bootstrap': [False],\n",
    "    'class_weight' : [None, 'balanced'],\n",
    "    'max_leaf_nodes' : [None],\n",
    "    'max_features' : ['log2', None]\n",
    "}\n",
    "\n",
    "grid = { \n",
    "    'n_estimators': [50,100,200],\n",
    "    'max_features': ['auto'],\n",
    "    'max_depth' : [10,20],\n",
    "    'min_samples_leaf': [2,10],\n",
    "    'criterion' :[ 'gini','entropy'],\n",
    "    'bootstrap': [False,True],\n",
    "    'class_weight' : [None, 'balanced'],\n",
    "    'max_leaf_nodes' : [None],\n",
    "    'max_features' : ['log2', None]\n",
    "}\n",
    "# grid = { \n",
    "#     'n_estimators': [200,400],\n",
    "#     'max_features': ['auto'],\n",
    "#     'max_depth' : [40],\n",
    "#     'min_samples_leaf': [10],\n",
    "#     'criterion' :['gini'],\n",
    "#     'bootstrap': [False],\n",
    "#     'class_weight' : ['balanced'],\n",
    "#     'max_leaf_nodes' : [None],\n",
    "#     'max_features' : ['log2']\n",
    "# }\n",
    "\n",
    "RF_Model, RF_Details = grid_searc_cross_valid_trainer(Model_, grid, cross_valid, kflods,X_train=X_train , Y_train=Y_train,X_valid=X_valid,Y_valid=Y_valid,X_test=X_test, Y_test=Y_test,nr_repeat=nr_repeat,best_selection='recall')\n",
    "\n",
    "date_hour = datetime.now().strftime(\"%d_%b%y_%H_%M\")\n",
    "if save_model:\n",
    "    pickle.dump(RF_Model, open(G_path + '/08_Saved_Models_Outpus/Models/Classifiers/' + 'RF_Model_' + date_hour , 'wb'))"
   ]
  },
  {
   "cell_type": "code",
   "execution_count": 10,
   "metadata": {},
   "outputs": [
    {
     "data": {
      "image/png": "[encoded data removed]",
      "text/plain": [
       "<Figure size 1440x504 with 1 Axes>"
      ]
     },
     "metadata": {
      "needs_background": "light"
     },
     "output_type": "display_data"
    }
   ],
   "source": [
    "importance = RF_Model.feature_importances_\n",
    "\n",
    "features_name = list(train_data.columns)\n",
    "plt.subplots(figsize=(20,7))\n",
    "plt.bar(features_name, importance)\n",
    "plt.xticks(fontsize=16, rotation=90)\n",
    "plt.title('Random Forrest Features Importance',fontsize = 18)\n",
    "plt.show()"
   ]
  },
  {
   "cell_type": "code",
   "execution_count": 11,
   "metadata": {},
   "outputs": [
    {
     "name": "stdout",
     "output_type": "stream",
     "text": [
      "Nr. of Data : \n",
      " 407\n",
      "Accuracy of The Model : \n",
      " 0.7125307125307125\n"
     ]
    },
    {
     "data": {
      "image/png": "[encoded data removed]",
      "text/plain": [
       "<Figure size 432x288 with 1 Axes>"
      ]
     },
     "metadata": {
      "needs_background": "light"
     },
     "output_type": "display_data"
    },
    {
     "data": {
      "text/html": [
       "<style type=\"text/css\">\n",
       "</style>\n",
       "<table id=\"T_9ce30_\">\n",
       "  <thead>\n",
       "    <tr>\n",
       "      <th class=\"blank level0\" >&nbsp;</th>\n",
       "      <th class=\"col_heading level0 col0\" >weights</th>\n",
       "      <th class=\"col_heading level0 col1\" >Precision</th>\n",
       "      <th class=\"col_heading level0 col2\" >Recall_Sensitivity</th>\n",
       "      <th class=\"col_heading level0 col3\" >Specificity</th>\n",
       "      <th class=\"col_heading level0 col4\" >f1_score</th>\n",
       "    </tr>\n",
       "  </thead>\n",
       "  <tbody>\n",
       "    <tr>\n",
       "      <th id=\"T_9ce30_level0_row0\" class=\"row_heading level0 row0\" >0</th>\n",
       "      <td id=\"T_9ce30_row0_col0\" class=\"data row0 col0\" >5.7%</td>\n",
       "      <td id=\"T_9ce30_row0_col1\" class=\"data row0 col1\" >44.4%</td>\n",
       "      <td id=\"T_9ce30_row0_col2\" class=\"data row0 col2\" >52.2%</td>\n",
       "      <td id=\"T_9ce30_row0_col3\" class=\"data row0 col3\" >96.1%</td>\n",
       "      <td id=\"T_9ce30_row0_col4\" class=\"data row0 col4\" >48.0%</td>\n",
       "    </tr>\n",
       "    <tr>\n",
       "      <th id=\"T_9ce30_level0_row1\" class=\"row_heading level0 row1\" >1</th>\n",
       "      <td id=\"T_9ce30_row1_col0\" class=\"data row1 col0\" >7.9%</td>\n",
       "      <td id=\"T_9ce30_row1_col1\" class=\"data row1 col1\" >56.4%</td>\n",
       "      <td id=\"T_9ce30_row1_col2\" class=\"data row1 col2\" >68.8%</td>\n",
       "      <td id=\"T_9ce30_row1_col3\" class=\"data row1 col3\" >95.5%</td>\n",
       "      <td id=\"T_9ce30_row1_col4\" class=\"data row1 col4\" >62.0%</td>\n",
       "    </tr>\n",
       "    <tr>\n",
       "      <th id=\"T_9ce30_level0_row2\" class=\"row_heading level0 row2\" >2</th>\n",
       "      <td id=\"T_9ce30_row2_col0\" class=\"data row2 col0\" >17.7%</td>\n",
       "      <td id=\"T_9ce30_row2_col1\" class=\"data row2 col1\" >57.7%</td>\n",
       "      <td id=\"T_9ce30_row2_col2\" class=\"data row2 col2\" >56.9%</td>\n",
       "      <td id=\"T_9ce30_row2_col3\" class=\"data row2 col3\" >91.0%</td>\n",
       "      <td id=\"T_9ce30_row2_col4\" class=\"data row2 col4\" >57.3%</td>\n",
       "    </tr>\n",
       "    <tr>\n",
       "      <th id=\"T_9ce30_level0_row3\" class=\"row_heading level0 row3\" >3</th>\n",
       "      <td id=\"T_9ce30_row3_col0\" class=\"data row3 col0\" >2.0%</td>\n",
       "      <td id=\"T_9ce30_row3_col1\" class=\"data row3 col1\" >60.0%</td>\n",
       "      <td id=\"T_9ce30_row3_col2\" class=\"data row3 col2\" >37.5%</td>\n",
       "      <td id=\"T_9ce30_row3_col3\" class=\"data row3 col3\" >99.5%</td>\n",
       "      <td id=\"T_9ce30_row3_col4\" class=\"data row3 col4\" >46.2%</td>\n",
       "    </tr>\n",
       "    <tr>\n",
       "      <th id=\"T_9ce30_level0_row4\" class=\"row_heading level0 row4\" >4</th>\n",
       "      <td id=\"T_9ce30_row4_col0\" class=\"data row4 col0\" >15.2%</td>\n",
       "      <td id=\"T_9ce30_row4_col1\" class=\"data row4 col1\" >58.2%</td>\n",
       "      <td id=\"T_9ce30_row4_col2\" class=\"data row4 col2\" >51.6%</td>\n",
       "      <td id=\"T_9ce30_row4_col3\" class=\"data row4 col3\" >93.3%</td>\n",
       "      <td id=\"T_9ce30_row4_col4\" class=\"data row4 col4\" >54.7%</td>\n",
       "    </tr>\n",
       "    <tr>\n",
       "      <th id=\"T_9ce30_level0_row5\" class=\"row_heading level0 row5\" >5</th>\n",
       "      <td id=\"T_9ce30_row5_col0\" class=\"data row5 col0\" >49.1%</td>\n",
       "      <td id=\"T_9ce30_row5_col1\" class=\"data row5 col1\" >85.5%</td>\n",
       "      <td id=\"T_9ce30_row5_col2\" class=\"data row5 col2\" >85.5%</td>\n",
       "      <td id=\"T_9ce30_row5_col3\" class=\"data row5 col3\" >86.0%</td>\n",
       "      <td id=\"T_9ce30_row5_col4\" class=\"data row5 col4\" >85.5%</td>\n",
       "    </tr>\n",
       "    <tr>\n",
       "      <th id=\"T_9ce30_level0_row6\" class=\"row_heading level0 row6\" >6</th>\n",
       "      <td id=\"T_9ce30_row6_col0\" class=\"data row6 col0\" >2.5%</td>\n",
       "      <td id=\"T_9ce30_row6_col1\" class=\"data row6 col1\" >90.0%</td>\n",
       "      <td id=\"T_9ce30_row6_col2\" class=\"data row6 col2\" >90.0%</td>\n",
       "      <td id=\"T_9ce30_row6_col3\" class=\"data row6 col3\" >99.7%</td>\n",
       "      <td id=\"T_9ce30_row6_col4\" class=\"data row6 col4\" >90.0%</td>\n",
       "    </tr>\n",
       "    <tr>\n",
       "      <th id=\"T_9ce30_level0_row7\" class=\"row_heading level0 row7\" >Simple Avg.</th>\n",
       "      <td id=\"T_9ce30_row7_col0\" class=\"data row7 col0\" >nan%</td>\n",
       "      <td id=\"T_9ce30_row7_col1\" class=\"data row7 col1\" >64.6%</td>\n",
       "      <td id=\"T_9ce30_row7_col2\" class=\"data row7 col2\" >63.2%</td>\n",
       "      <td id=\"T_9ce30_row7_col3\" class=\"data row7 col3\" >94.5%</td>\n",
       "      <td id=\"T_9ce30_row7_col4\" class=\"data row7 col4\" >63.4%</td>\n",
       "    </tr>\n",
       "    <tr>\n",
       "      <th id=\"T_9ce30_level0_row8\" class=\"row_heading level0 row8\" >Weighted Avg.</th>\n",
       "      <td id=\"T_9ce30_row8_col0\" class=\"data row8 col0\" >nan%</td>\n",
       "      <td id=\"T_9ce30_row8_col1\" class=\"data row8 col1\" >71.4%</td>\n",
       "      <td id=\"T_9ce30_row8_col2\" class=\"data row8 col2\" >71.3%</td>\n",
       "      <td id=\"T_9ce30_row8_col3\" class=\"data row8 col3\" >89.9%</td>\n",
       "      <td id=\"T_9ce30_row8_col4\" class=\"data row8 col4\" >71.2%</td>\n",
       "    </tr>\n",
       "  </tbody>\n",
       "</table>\n"
      ],
      "text/plain": [
       "<pandas.io.formats.style.Styler at 0x17720d550>"
      ]
     },
     "execution_count": 11,
     "metadata": {},
     "output_type": "execute_result"
    }
   ],
   "source": [
    "# Model 280x210\n",
    "model_ = RF_Model\n",
    "X = input_data_Array[2]\n",
    "Y = labels_Array[2]\n",
    "Y_pred = model_.predict(X)\n",
    "Y_pred_prob = model_.predict_proba(X)\n",
    "Y_binary =  label_to_binary(Y)\n",
    "Y_pred_binary =  label_to_binary(Y_pred)\n",
    "results = model_evaluation(Y,Y_pred,'Random Forrest')\n",
    "# results = model_evaluation(Y_binary,Y_pred_binary)\n",
    "results"
   ]
  },
  {
   "cell_type": "code",
   "execution_count": 29,
   "metadata": {},
   "outputs": [
    {
     "data": {
      "image/png": "[encoded data removed]",
      "text/plain": [
       "<Figure size 504x360 with 1 Axes>"
      ]
     },
     "metadata": {
      "needs_background": "light"
     },
     "output_type": "display_data"
    }
   ],
   "source": [
    "Y_OneH = sk.preprocessing.label_binarize(Y,classes=np.unique(Y))\n",
    "fpr, tpr, roc_auc = fpr_tpr_score(Y_OneH,Y_pred_prob)\n",
    "plot_roc_auc_multi(fpr, tpr, roc_auc)"
   ]
  },
  {
   "cell_type": "markdown",
   "metadata": {},
   "source": [
    "# **SVM**"
   ]
  },
  {
   "cell_type": "code",
   "execution_count": 12,
   "metadata": {},
   "outputs": [
    {
     "name": "stdout",
     "output_type": "stream",
     "text": [
      " Max_Valid_Acc.: 76.2%, Max_Test_Acc.: 71.3%, Expected_test_Acc.: 70.8% [██████████████████████████████] 97/96 [Time => Iter.: 0.1s, Tot.: 10.4s, Remain.: -0.1s]    \n",
      "------- Precision recal %--------\n",
      "              precision    recall  f1-score   support\n",
      "\n",
      "           0       0.46      0.52      0.49        23\n",
      "           1       0.55      0.69      0.61        32\n",
      "           2       0.56      0.62      0.59        72\n",
      "           3       0.75      0.38      0.50         8\n",
      "           4       0.52      0.53      0.52        62\n",
      "           5       0.90      0.82      0.86       200\n",
      "           6       0.82      0.90      0.86        10\n",
      "\n",
      "    accuracy                           0.71       407\n",
      "   macro avg       0.65      0.64      0.63       407\n",
      "weighted avg       0.73      0.71      0.71       407\n",
      "\n",
      "Best param:  {'C': 10, 'class_weight': 'balanced', 'decision_function_shape': 'ovo', 'degree': 1, 'gamma': 'scale', 'kernel': 'rbf'}\n"
     ]
    }
   ],
   "source": [
    "Model_ = sk.svm.SVC(random_state=0)\n",
    "kflods = sk.model_selection.KFold(n_splits=10, shuffle=True)\n",
    "cross_valid = False\n",
    "save_model = False\n",
    "nr_repeat = 1\n",
    "\n",
    "X_train = input_data_Array[0]\n",
    "Y_train = labels_Array[0]\n",
    "X_valid = input_data_Array[1]\n",
    "Y_valid = labels_Array[1]\n",
    "X_test = input_data_Array[2]\n",
    "Y_test = labels_Array[2]\n",
    "\n",
    "grid = { \n",
    "    'C' : [8,10,12]\n",
    "    ,'kernel': ['rbf', 'linear'],\n",
    "    'degree' : [1,3],\n",
    "    'gamma' :['scale', 'auto'],\n",
    "    'decision_function_shape': ['ovo', 'ovr'],\n",
    "    'class_weight' : [None, 'balanced']\n",
    "}\n",
    "\n",
    "SVM_Model, SVM_Details = grid_searc_cross_valid_trainer(Model_, grid, cross_valid, kflods,X_train=X_train , Y_train=Y_train,X_valid=X_valid,Y_valid=Y_valid,X_test=X_test, Y_test=Y_test,nr_repeat=nr_repeat)\n",
    "\n",
    "if save_model:\n",
    "    pickle.dump(SVM_Model, open(G_path + '/08_Saved_Models_Outpus/Models/Classifiers/' + 'SVM_Model' , 'wb'))\n",
    "    "
   ]
  },
  {
   "cell_type": "code",
   "execution_count": 13,
   "metadata": {},
   "outputs": [
    {
     "name": "stdout",
     "output_type": "stream",
     "text": [
      "Nr. of Data : \n",
      " 407\n",
      "Accuracy of The Model : \n",
      " 0.7076167076167076\n"
     ]
    },
    {
     "data": {
      "image/png": "[encoded data removed]",
      "text/plain": [
       "<Figure size 432x288 with 1 Axes>"
      ]
     },
     "metadata": {
      "needs_background": "light"
     },
     "output_type": "display_data"
    },
    {
     "data": {
      "text/html": [
       "<style type=\"text/css\">\n",
       "</style>\n",
       "<table id=\"T_e2713_\">\n",
       "  <thead>\n",
       "    <tr>\n",
       "      <th class=\"blank level0\" >&nbsp;</th>\n",
       "      <th class=\"col_heading level0 col0\" >weights</th>\n",
       "      <th class=\"col_heading level0 col1\" >Precision</th>\n",
       "      <th class=\"col_heading level0 col2\" >Recall_Sensitivity</th>\n",
       "      <th class=\"col_heading level0 col3\" >Specificity</th>\n",
       "      <th class=\"col_heading level0 col4\" >f1_score</th>\n",
       "    </tr>\n",
       "  </thead>\n",
       "  <tbody>\n",
       "    <tr>\n",
       "      <th id=\"T_e2713_level0_row0\" class=\"row_heading level0 row0\" >0</th>\n",
       "      <td id=\"T_e2713_row0_col0\" class=\"data row0 col0\" >5.7%</td>\n",
       "      <td id=\"T_e2713_row0_col1\" class=\"data row0 col1\" >46.2%</td>\n",
       "      <td id=\"T_e2713_row0_col2\" class=\"data row0 col2\" >52.2%</td>\n",
       "      <td id=\"T_e2713_row0_col3\" class=\"data row0 col3\" >96.4%</td>\n",
       "      <td id=\"T_e2713_row0_col4\" class=\"data row0 col4\" >49.0%</td>\n",
       "    </tr>\n",
       "    <tr>\n",
       "      <th id=\"T_e2713_level0_row1\" class=\"row_heading level0 row1\" >1</th>\n",
       "      <td id=\"T_e2713_row1_col0\" class=\"data row1 col0\" >7.9%</td>\n",
       "      <td id=\"T_e2713_row1_col1\" class=\"data row1 col1\" >55.0%</td>\n",
       "      <td id=\"T_e2713_row1_col2\" class=\"data row1 col2\" >68.8%</td>\n",
       "      <td id=\"T_e2713_row1_col3\" class=\"data row1 col3\" >95.2%</td>\n",
       "      <td id=\"T_e2713_row1_col4\" class=\"data row1 col4\" >61.1%</td>\n",
       "    </tr>\n",
       "    <tr>\n",
       "      <th id=\"T_e2713_level0_row2\" class=\"row_heading level0 row2\" >2</th>\n",
       "      <td id=\"T_e2713_row2_col0\" class=\"data row2 col0\" >17.7%</td>\n",
       "      <td id=\"T_e2713_row2_col1\" class=\"data row2 col1\" >56.2%</td>\n",
       "      <td id=\"T_e2713_row2_col2\" class=\"data row2 col2\" >62.5%</td>\n",
       "      <td id=\"T_e2713_row2_col3\" class=\"data row2 col3\" >89.6%</td>\n",
       "      <td id=\"T_e2713_row2_col4\" class=\"data row2 col4\" >59.2%</td>\n",
       "    </tr>\n",
       "    <tr>\n",
       "      <th id=\"T_e2713_level0_row3\" class=\"row_heading level0 row3\" >3</th>\n",
       "      <td id=\"T_e2713_row3_col0\" class=\"data row3 col0\" >2.0%</td>\n",
       "      <td id=\"T_e2713_row3_col1\" class=\"data row3 col1\" >75.0%</td>\n",
       "      <td id=\"T_e2713_row3_col2\" class=\"data row3 col2\" >37.5%</td>\n",
       "      <td id=\"T_e2713_row3_col3\" class=\"data row3 col3\" >99.7%</td>\n",
       "      <td id=\"T_e2713_row3_col4\" class=\"data row3 col4\" >50.0%</td>\n",
       "    </tr>\n",
       "    <tr>\n",
       "      <th id=\"T_e2713_level0_row4\" class=\"row_heading level0 row4\" >4</th>\n",
       "      <td id=\"T_e2713_row4_col0\" class=\"data row4 col0\" >15.2%</td>\n",
       "      <td id=\"T_e2713_row4_col1\" class=\"data row4 col1\" >51.6%</td>\n",
       "      <td id=\"T_e2713_row4_col2\" class=\"data row4 col2\" >53.2%</td>\n",
       "      <td id=\"T_e2713_row4_col3\" class=\"data row4 col3\" >91.0%</td>\n",
       "      <td id=\"T_e2713_row4_col4\" class=\"data row4 col4\" >52.4%</td>\n",
       "    </tr>\n",
       "    <tr>\n",
       "      <th id=\"T_e2713_level0_row5\" class=\"row_heading level0 row5\" >5</th>\n",
       "      <td id=\"T_e2713_row5_col0\" class=\"data row5 col0\" >49.1%</td>\n",
       "      <td id=\"T_e2713_row5_col1\" class=\"data row5 col1\" >90.1%</td>\n",
       "      <td id=\"T_e2713_row5_col2\" class=\"data row5 col2\" >82.0%</td>\n",
       "      <td id=\"T_e2713_row5_col3\" class=\"data row5 col3\" >91.3%</td>\n",
       "      <td id=\"T_e2713_row5_col4\" class=\"data row5 col4\" >85.9%</td>\n",
       "    </tr>\n",
       "    <tr>\n",
       "      <th id=\"T_e2713_level0_row6\" class=\"row_heading level0 row6\" >6</th>\n",
       "      <td id=\"T_e2713_row6_col0\" class=\"data row6 col0\" >2.5%</td>\n",
       "      <td id=\"T_e2713_row6_col1\" class=\"data row6 col1\" >81.8%</td>\n",
       "      <td id=\"T_e2713_row6_col2\" class=\"data row6 col2\" >90.0%</td>\n",
       "      <td id=\"T_e2713_row6_col3\" class=\"data row6 col3\" >99.5%</td>\n",
       "      <td id=\"T_e2713_row6_col4\" class=\"data row6 col4\" >85.7%</td>\n",
       "    </tr>\n",
       "    <tr>\n",
       "      <th id=\"T_e2713_level0_row7\" class=\"row_heading level0 row7\" >Simple Avg.</th>\n",
       "      <td id=\"T_e2713_row7_col0\" class=\"data row7 col0\" >nan%</td>\n",
       "      <td id=\"T_e2713_row7_col1\" class=\"data row7 col1\" >65.1%</td>\n",
       "      <td id=\"T_e2713_row7_col2\" class=\"data row7 col2\" >63.7%</td>\n",
       "      <td id=\"T_e2713_row7_col3\" class=\"data row7 col3\" >94.7%</td>\n",
       "      <td id=\"T_e2713_row7_col4\" class=\"data row7 col4\" >63.3%</td>\n",
       "    </tr>\n",
       "    <tr>\n",
       "      <th id=\"T_e2713_level0_row8\" class=\"row_heading level0 row8\" >Weighted Avg.</th>\n",
       "      <td id=\"T_e2713_row8_col0\" class=\"data row8 col0\" >nan%</td>\n",
       "      <td id=\"T_e2713_row8_col1\" class=\"data row8 col1\" >72.5%</td>\n",
       "      <td id=\"T_e2713_row8_col2\" class=\"data row8 col2\" >70.8%</td>\n",
       "      <td id=\"T_e2713_row8_col3\" class=\"data row8 col3\" >91.9%</td>\n",
       "      <td id=\"T_e2713_row8_col4\" class=\"data row8 col4\" >71.3%</td>\n",
       "    </tr>\n",
       "  </tbody>\n",
       "</table>\n"
      ],
      "text/plain": [
       "<pandas.io.formats.style.Styler at 0x2900e7f70>"
      ]
     },
     "execution_count": 13,
     "metadata": {},
     "output_type": "execute_result"
    }
   ],
   "source": [
    "# Model 280x210\n",
    "model_ = SVM_Model\n",
    "X = input_data_Array[2]\n",
    "Y = labels_Array[2]\n",
    "Y_pred = model_.predict(X)\n",
    "Y_binary =  label_to_binary(Y)\n",
    "Y_pred_binary =  label_to_binary(Y_pred)\n",
    "results = model_evaluation(Y,Y_pred,'SVM')\n",
    "# results = model_evaluation(Y_binary,Y_pred_binary)\n",
    "results"
   ]
  },
  {
   "cell_type": "markdown",
   "metadata": {},
   "source": [
    "**Cross Validation**"
   ]
  },
  {
   "cell_type": "code",
   "execution_count": 14,
   "metadata": {},
   "outputs": [
    {
     "name": "stdout",
     "output_type": "stream",
     "text": [
      "------- Precision recal %--------█████████████████████████████████████████████████████████████████████████████████] 100/100\n",
      "              precision    recall  f1-score   support\n",
      "\n",
      "           0       0.50      0.65      0.57        23\n",
      "           1       0.54      0.69      0.60        32\n",
      "           2       0.66      0.68      0.67        72\n",
      "           3       0.67      0.50      0.57         8\n",
      "           4       0.54      0.44      0.48        62\n",
      "           5       0.88      0.85      0.87       200\n",
      "           6       0.82      0.90      0.86        10\n",
      "\n",
      "    accuracy                           0.73       407\n",
      "   macro avg       0.66      0.67      0.66       407\n",
      "weighted avg       0.73      0.73      0.73       407\n",
      "\n",
      "Best param:  {'C': 10, 'class_weight': None, 'decision_function_shape': 'ovo', 'degree': 1, 'gamma': 'scale', 'kernel': 'rbf'}\n"
     ]
    }
   ],
   "source": [
    "Model_ = sk.svm.SVC(random_state=0)\n",
    "kflods = sk.model_selection.KFold(n_splits=10, shuffle=True)\n",
    "cross_valid = True\n",
    "save_model = False\n",
    "nr_repeat = 10\n",
    "\n",
    "X_train = input_data_Array[0]\n",
    "Y_train = labels_Array[0]\n",
    "X_valid = input_data_Array[1]\n",
    "Y_valid = labels_Array[1]\n",
    "X_test = input_data_Array[2]\n",
    "Y_test = labels_Array[2]\n",
    "\n",
    "grid = { \n",
    "    'C' : [10]\n",
    "    ,'kernel': ['rbf'],\n",
    "    'degree' : [1],\n",
    "    'gamma' :['scale'],\n",
    "    'decision_function_shape': ['ovo'],\n",
    "    'class_weight' : [None]\n",
    "}\n",
    "\n",
    "SVM_Model_CV, SVM_Details_CV = grid_searc_cross_valid_trainer(Model_, grid, cross_valid, kflods,X_train=X_train , Y_train=Y_train,X_valid=X_valid,Y_valid=Y_valid,X_test=X_test, Y_test=Y_test,nr_repeat=nr_repeat)\n",
    "\n",
    "if save_model:\n",
    "    pickle.dump(SVM_Model_CV, open(G_path + '/08_Saved_Models_Outpus/Models/Classifiers/' + 'SVM_Model_CV' , 'wb'))\n",
    "    pickle.dump(SVM_Details_CV, open(G_path + '/08_Saved_Models_Outpus/Cross_Valid_Results/' + 'SVM_Model_CV' , 'wb'))"
   ]
  },
  {
   "cell_type": "markdown",
   "metadata": {},
   "source": [
    "# **MLP**"
   ]
  },
  {
   "cell_type": "code",
   "execution_count": 1,
   "metadata": {},
   "outputs": [
    {
     "ename": "NameError",
     "evalue": "name 'sk' is not defined",
     "output_type": "error",
     "traceback": [
      "\u001b[0;31m---------------------------------------------------------------------------\u001b[0m",
      "\u001b[0;31mNameError\u001b[0m                                 Traceback (most recent call last)",
      "\u001b[0;32m/var/folders/jr/h5q7lybd23l1htckxf1x0dnr0000gn/T/ipykernel_4985/4183101091.py\u001b[0m in \u001b[0;36m<cell line: 1>\u001b[0;34m()\u001b[0m\n\u001b[0;32m----> 1\u001b[0;31m \u001b[0mModel_\u001b[0m \u001b[0;34m=\u001b[0m \u001b[0msk\u001b[0m\u001b[0;34m.\u001b[0m\u001b[0mneural_network\u001b[0m\u001b[0;34m.\u001b[0m\u001b[0mMLPClassifier\u001b[0m\u001b[0;34m(\u001b[0m\u001b[0;34m)\u001b[0m\u001b[0;34m\u001b[0m\u001b[0;34m\u001b[0m\u001b[0m\n\u001b[0m\u001b[1;32m      2\u001b[0m \u001b[0mkflods\u001b[0m \u001b[0;34m=\u001b[0m \u001b[0msk\u001b[0m\u001b[0;34m.\u001b[0m\u001b[0mmodel_selection\u001b[0m\u001b[0;34m.\u001b[0m\u001b[0mKFold\u001b[0m\u001b[0;34m(\u001b[0m\u001b[0mn_splits\u001b[0m\u001b[0;34m=\u001b[0m\u001b[0;36m10\u001b[0m\u001b[0;34m,\u001b[0m \u001b[0mshuffle\u001b[0m\u001b[0;34m=\u001b[0m\u001b[0;32mTrue\u001b[0m\u001b[0;34m)\u001b[0m\u001b[0;34m\u001b[0m\u001b[0;34m\u001b[0m\u001b[0m\n\u001b[1;32m      3\u001b[0m \u001b[0mcross_valid\u001b[0m \u001b[0;34m=\u001b[0m \u001b[0;32mFalse\u001b[0m\u001b[0;34m\u001b[0m\u001b[0;34m\u001b[0m\u001b[0m\n\u001b[1;32m      4\u001b[0m \u001b[0msave_model\u001b[0m \u001b[0;34m=\u001b[0m \u001b[0;32mTrue\u001b[0m\u001b[0;34m\u001b[0m\u001b[0;34m\u001b[0m\u001b[0m\n\u001b[1;32m      5\u001b[0m \u001b[0mnr_repeat\u001b[0m \u001b[0;34m=\u001b[0m \u001b[0;36m1\u001b[0m\u001b[0;34m\u001b[0m\u001b[0;34m\u001b[0m\u001b[0m\n",
      "\u001b[0;31mNameError\u001b[0m: name 'sk' is not defined"
     ]
    }
   ],
   "source": [
    "Model_ = sk.neural_network.MLPClassifier()\n",
    "kflods = sk.model_selection.KFold(n_splits=10, shuffle=True)\n",
    "cross_valid = False\n",
    "save_model = True\n",
    "nr_repeat = 1\n",
    "\n",
    "X_train = input_data_Array[0]\n",
    "Y_train = labels_Array[0]\n",
    "X_valid = input_data_Array[1]\n",
    "Y_valid = labels_Array[1]\n",
    "X_test = input_data_Array[2]\n",
    "Y_test = labels_Array[2]\n",
    "\n",
    "grid = {\n",
    "    'hidden_layer_sizes': [(50,60,50),(40,60,30)],\n",
    "    'random_state':[0],\n",
    "    'activation': [ 'relu'],\n",
    "    'solver': ['sgd',],\n",
    "    'alpha': [0.0001, 0.05],\n",
    "    'learning_rate': ['adaptive'],\n",
    "    'learning_rate_init' : 10.00 ** -np.arange(2, 4)\n",
    "}\n",
    "\n",
    "MLP_Model, MLP_Details = grid_searc_cross_valid_trainer(Model_, grid, cross_valid, kflods,X_train=X_train , Y_train=Y_train,X_valid=X_valid,Y_valid=Y_valid,X_test=X_test, Y_test=Y_test,nr_repeat=nr_repeat)\n",
    "if save_model:\n",
    "    pickle.dump(MLP_Model, open(G_path + '/08_Saved_Models_Outpus/Models/Classifiers/' + 'MLP_Model' , 'wb'))\n",
    "    "
   ]
  },
  {
   "cell_type": "code",
   "execution_count": 19,
   "metadata": {},
   "outputs": [
    {
     "name": "stdout",
     "output_type": "stream",
     "text": [
      "Nr. of Data : \n",
      " 407\n",
      "Accuracy of The Model : \n",
      " 0.7272727272727273\n"
     ]
    },
    {
     "data": {
      "image/png": "[encoded data removed]",
      "text/plain": [
       "<Figure size 432x288 with 1 Axes>"
      ]
     },
     "metadata": {
      "needs_background": "light"
     },
     "output_type": "display_data"
    },
    {
     "data": {
      "text/html": [
       "<style type=\"text/css\">\n",
       "</style>\n",
       "<table id=\"T_7bef8\">\n",
       "  <thead>\n",
       "    <tr>\n",
       "      <th class=\"blank level0\" >&nbsp;</th>\n",
       "      <th id=\"T_7bef8_level0_col0\" class=\"col_heading level0 col0\" >weights</th>\n",
       "      <th id=\"T_7bef8_level0_col1\" class=\"col_heading level0 col1\" >Precision</th>\n",
       "      <th id=\"T_7bef8_level0_col2\" class=\"col_heading level0 col2\" >Recall_Sensitivity</th>\n",
       "      <th id=\"T_7bef8_level0_col3\" class=\"col_heading level0 col3\" >Specificity</th>\n",
       "      <th id=\"T_7bef8_level0_col4\" class=\"col_heading level0 col4\" >f1_score</th>\n",
       "    </tr>\n",
       "  </thead>\n",
       "  <tbody>\n",
       "    <tr>\n",
       "      <th id=\"T_7bef8_level0_row0\" class=\"row_heading level0 row0\" >0</th>\n",
       "      <td id=\"T_7bef8_row0_col0\" class=\"data row0 col0\" >5.7%</td>\n",
       "      <td id=\"T_7bef8_row0_col1\" class=\"data row0 col1\" >51.6%</td>\n",
       "      <td id=\"T_7bef8_row0_col2\" class=\"data row0 col2\" >69.6%</td>\n",
       "      <td id=\"T_7bef8_row0_col3\" class=\"data row0 col3\" >96.1%</td>\n",
       "      <td id=\"T_7bef8_row0_col4\" class=\"data row0 col4\" >59.3%</td>\n",
       "    </tr>\n",
       "    <tr>\n",
       "      <th id=\"T_7bef8_level0_row1\" class=\"row_heading level0 row1\" >1</th>\n",
       "      <td id=\"T_7bef8_row1_col0\" class=\"data row1 col0\" >7.9%</td>\n",
       "      <td id=\"T_7bef8_row1_col1\" class=\"data row1 col1\" >52.6%</td>\n",
       "      <td id=\"T_7bef8_row1_col2\" class=\"data row1 col2\" >62.5%</td>\n",
       "      <td id=\"T_7bef8_row1_col3\" class=\"data row1 col3\" >95.2%</td>\n",
       "      <td id=\"T_7bef8_row1_col4\" class=\"data row1 col4\" >57.1%</td>\n",
       "    </tr>\n",
       "    <tr>\n",
       "      <th id=\"T_7bef8_level0_row2\" class=\"row_heading level0 row2\" >2</th>\n",
       "      <td id=\"T_7bef8_row2_col0\" class=\"data row2 col0\" >17.7%</td>\n",
       "      <td id=\"T_7bef8_row2_col1\" class=\"data row2 col1\" >60.7%</td>\n",
       "      <td id=\"T_7bef8_row2_col2\" class=\"data row2 col2\" >70.8%</td>\n",
       "      <td id=\"T_7bef8_row2_col3\" class=\"data row2 col3\" >90.1%</td>\n",
       "      <td id=\"T_7bef8_row2_col4\" class=\"data row2 col4\" >65.4%</td>\n",
       "    </tr>\n",
       "    <tr>\n",
       "      <th id=\"T_7bef8_level0_row3\" class=\"row_heading level0 row3\" >3</th>\n",
       "      <td id=\"T_7bef8_row3_col0\" class=\"data row3 col0\" >2.0%</td>\n",
       "      <td id=\"T_7bef8_row3_col1\" class=\"data row3 col1\" >66.7%</td>\n",
       "      <td id=\"T_7bef8_row3_col2\" class=\"data row3 col2\" >50.0%</td>\n",
       "      <td id=\"T_7bef8_row3_col3\" class=\"data row3 col3\" >99.5%</td>\n",
       "      <td id=\"T_7bef8_row3_col4\" class=\"data row3 col4\" >57.1%</td>\n",
       "    </tr>\n",
       "    <tr>\n",
       "      <th id=\"T_7bef8_level0_row4\" class=\"row_heading level0 row4\" >4</th>\n",
       "      <td id=\"T_7bef8_row4_col0\" class=\"data row4 col0\" >15.2%</td>\n",
       "      <td id=\"T_7bef8_row4_col1\" class=\"data row4 col1\" >54.0%</td>\n",
       "      <td id=\"T_7bef8_row4_col2\" class=\"data row4 col2\" >43.5%</td>\n",
       "      <td id=\"T_7bef8_row4_col3\" class=\"data row4 col3\" >93.3%</td>\n",
       "      <td id=\"T_7bef8_row4_col4\" class=\"data row4 col4\" >48.2%</td>\n",
       "    </tr>\n",
       "    <tr>\n",
       "      <th id=\"T_7bef8_level0_row5\" class=\"row_heading level0 row5\" >5</th>\n",
       "      <td id=\"T_7bef8_row5_col0\" class=\"data row5 col0\" >49.1%</td>\n",
       "      <td id=\"T_7bef8_row5_col1\" class=\"data row5 col1\" >89.9%</td>\n",
       "      <td id=\"T_7bef8_row5_col2\" class=\"data row5 col2\" >84.5%</td>\n",
       "      <td id=\"T_7bef8_row5_col3\" class=\"data row5 col3\" >90.8%</td>\n",
       "      <td id=\"T_7bef8_row5_col4\" class=\"data row5 col4\" >87.1%</td>\n",
       "    </tr>\n",
       "    <tr>\n",
       "      <th id=\"T_7bef8_level0_row6\" class=\"row_heading level0 row6\" >6</th>\n",
       "      <td id=\"T_7bef8_row6_col0\" class=\"data row6 col0\" >2.5%</td>\n",
       "      <td id=\"T_7bef8_row6_col1\" class=\"data row6 col1\" >90.0%</td>\n",
       "      <td id=\"T_7bef8_row6_col2\" class=\"data row6 col2\" >90.0%</td>\n",
       "      <td id=\"T_7bef8_row6_col3\" class=\"data row6 col3\" >99.7%</td>\n",
       "      <td id=\"T_7bef8_row6_col4\" class=\"data row6 col4\" >90.0%</td>\n",
       "    </tr>\n",
       "    <tr>\n",
       "      <th id=\"T_7bef8_level0_row7\" class=\"row_heading level0 row7\" >Simple Avg.</th>\n",
       "      <td id=\"T_7bef8_row7_col0\" class=\"data row7 col0\" >nan%</td>\n",
       "      <td id=\"T_7bef8_row7_col1\" class=\"data row7 col1\" >66.5%</td>\n",
       "      <td id=\"T_7bef8_row7_col2\" class=\"data row7 col2\" >67.3%</td>\n",
       "      <td id=\"T_7bef8_row7_col3\" class=\"data row7 col3\" >95.0%</td>\n",
       "      <td id=\"T_7bef8_row7_col4\" class=\"data row7 col4\" >66.3%</td>\n",
       "    </tr>\n",
       "    <tr>\n",
       "      <th id=\"T_7bef8_level0_row8\" class=\"row_heading level0 row8\" >Weighted Avg.</th>\n",
       "      <td id=\"T_7bef8_row8_col0\" class=\"data row8 col0\" >nan%</td>\n",
       "      <td id=\"T_7bef8_row8_col1\" class=\"data row8 col1\" >73.7%</td>\n",
       "      <td id=\"T_7bef8_row8_col2\" class=\"data row8 col2\" >72.7%</td>\n",
       "      <td id=\"T_7bef8_row8_col3\" class=\"data row8 col3\" >92.1%</td>\n",
       "      <td id=\"T_7bef8_row8_col4\" class=\"data row8 col4\" >72.9%</td>\n",
       "    </tr>\n",
       "  </tbody>\n",
       "</table>\n"
      ],
      "text/plain": [
       "<pandas.io.formats.style.Styler at 0x109a5e970>"
      ]
     },
     "execution_count": 19,
     "metadata": {},
     "output_type": "execute_result"
    }
   ],
   "source": [
    "# Model 280x210\n",
    "model_ = MLP_Model\n",
    "X = input_data_Array[2]\n",
    "Y = labels_Array[2]\n",
    "Y_pred = model_.predict(X)\n",
    "Y_binary =  label_to_binary(Y)\n",
    "Y_pred_binary =  label_to_binary(Y_pred)\n",
    "results = model_evaluation(Y,Y_pred,'MLP')\n",
    "# results = model_evaluation(Y_binary,Y_pred_binary)\n",
    "results"
   ]
  },
  {
   "cell_type": "markdown",
   "metadata": {},
   "source": [
    "**Cross Validation**"
   ]
  },
  {
   "cell_type": "code",
   "execution_count": 20,
   "metadata": {},
   "outputs": [
    {
     "name": "stdout",
     "output_type": "stream",
     "text": [
      "------- Precision recal %--------█████████████████████████████████████████████████████████████████████████████████] 100/100\n",
      "              precision    recall  f1-score   support\n",
      "\n",
      "           0       0.55      0.70      0.62        23\n",
      "           1       0.52      0.69      0.59        32\n",
      "           2       0.67      0.64      0.65        72\n",
      "           3       0.67      0.50      0.57         8\n",
      "           4       0.52      0.48      0.50        62\n",
      "           5       0.89      0.85      0.87       200\n",
      "           6       0.90      0.90      0.90        10\n",
      "\n",
      "    accuracy                           0.73       407\n",
      "   macro avg       0.67      0.68      0.67       407\n",
      "weighted avg       0.74      0.73      0.73       407\n",
      "\n",
      "Best param:  {'activation': 'relu', 'alpha': 0.0001, 'hidden_layer_sizes': (50, 60, 50), 'learning_rate': 'adaptive', 'learning_rate_init': 0.01, 'random_state': 0, 'solver': 'sgd'}\n"
     ]
    }
   ],
   "source": [
    "Model_ = sk.neural_network.MLPClassifier()\n",
    "kflods = sk.model_selection.KFold(n_splits=10, shuffle=True)\n",
    "cross_valid = True\n",
    "save_model = True\n",
    "nr_repeat = 10\n",
    "\n",
    "X_train = input_data_Array[0]\n",
    "Y_train = labels_Array[0]\n",
    "X_valid = input_data_Array[1]\n",
    "Y_valid = labels_Array[1]\n",
    "X_test = input_data_Array[2]\n",
    "Y_test = labels_Array[2]\n",
    "\n",
    "grid = {\n",
    "    'hidden_layer_sizes': [(50,60,50)],\n",
    "    'random_state':[0],\n",
    "    'activation': [ 'relu'],\n",
    "    'solver': ['sgd',],\n",
    "    'alpha': [0.0001],\n",
    "    'learning_rate': ['adaptive'],\n",
    "    'learning_rate_init' : [1e-2]\n",
    "}\n",
    "\n",
    "MLP_Model_CV, MLP_Details_CV = grid_searc_cross_valid_trainer(Model_, grid, cross_valid, kflods,X_train=X_train , Y_train=Y_train,X_valid=X_valid,Y_valid=Y_valid,X_test=X_test, Y_test=Y_test,nr_repeat=nr_repeat)\n",
    "if save_model:\n",
    "    pickle.dump(MLP_Model_CV, open(G_path + '/08_Saved_Models_Outpus/Models/Classifiers/' + 'MLP_Model_CV' , 'wb'))\n",
    "    pickle.dump(MLP_Details_CV, open(G_path + '/08_Saved_Models_Outpus/Cross_Valid_Results/' + 'MLP_Model_CV' , 'wb'))"
   ]
  },
  {
   "cell_type": "markdown",
   "metadata": {},
   "source": [
    "# **KNN**"
   ]
  },
  {
   "cell_type": "code",
   "execution_count": 21,
   "metadata": {},
   "outputs": [
    {
     "name": "stdout",
     "output_type": "stream",
     "text": [
      "------- Precision recal %--------█████████████████████████████████████████████████████████████████████████████████] 1440/1440\n",
      "              precision    recall  f1-score   support\n",
      "\n",
      "           0       0.42      0.57      0.48        23\n",
      "           1       0.64      0.66      0.65        32\n",
      "           2       0.65      0.74      0.69        72\n",
      "           3       0.71      0.62      0.67         8\n",
      "           4       0.52      0.55      0.53        62\n",
      "           5       0.92      0.83      0.87       200\n",
      "           6       1.00      0.70      0.82        10\n",
      "\n",
      "    accuracy                           0.73       407\n",
      "   macro avg       0.69      0.67      0.67       407\n",
      "weighted avg       0.76      0.73      0.74       407\n",
      "\n",
      "Best param:  {'algorithm': 'brute', 'leaf_size': 25, 'n_neighbors': 8, 'p': 1, 'weights': 'uniform'}\n"
     ]
    }
   ],
   "source": [
    "Model_ = neighbors.KNeighborsClassifier(n_jobs=-1)\n",
    "kflods = sk.model_selection.KFold(n_splits=10, shuffle=True)\n",
    "cross_valid = True\n",
    "save_model = True\n",
    "nr_repeat = 1\n",
    "\n",
    "X_train = input_data_Array[0]\n",
    "Y_train = labels_Array[0]\n",
    "X_valid = input_data_Array[1]\n",
    "Y_valid = labels_Array[1]\n",
    "X_test = input_data_Array[2]\n",
    "Y_test = labels_Array[2]\n",
    "\n",
    "grid = { \n",
    "    'n_neighbors': [7,8,12],\n",
    "    'weights': ['uniform', 'distance'],\n",
    "    'algorithm': ['auto','ball_tree','kd_tree','brute'],\n",
    "    'leaf_size' : [20,25],\n",
    "    'p' : [1,2,5]\n",
    "}\n",
    "\n",
    "KNN_Model, KNN_Details = grid_searc_cross_valid_trainer(Model_, grid, cross_valid, kflods,X_train=X_train , Y_train=Y_train,X_valid=X_valid,Y_valid=Y_valid,X_test=X_test, Y_test=Y_test,nr_repeat=nr_repeat)\n",
    "\n",
    "if save_model:\n",
    "    pickle.dump(KNN_Model, open(G_path + '/08_Saved_Models_Outpus/Models/Classifiers/' + 'KNN_Model' , 'wb'))"
   ]
  },
  {
   "cell_type": "code",
   "execution_count": 22,
   "metadata": {},
   "outputs": [
    {
     "name": "stdout",
     "output_type": "stream",
     "text": [
      "Nr. of Data : \n",
      " 407\n",
      "Accuracy of The Model : \n",
      " 0.7346437346437347\n"
     ]
    },
    {
     "data": {
      "image/png": "[encoded data removed]",
      "text/plain": [
       "<Figure size 432x288 with 1 Axes>"
      ]
     },
     "metadata": {
      "needs_background": "light"
     },
     "output_type": "display_data"
    },
    {
     "data": {
      "text/html": [
       "<style type=\"text/css\">\n",
       "</style>\n",
       "<table id=\"T_72884\">\n",
       "  <thead>\n",
       "    <tr>\n",
       "      <th class=\"blank level0\" >&nbsp;</th>\n",
       "      <th id=\"T_72884_level0_col0\" class=\"col_heading level0 col0\" >weights</th>\n",
       "      <th id=\"T_72884_level0_col1\" class=\"col_heading level0 col1\" >Precision</th>\n",
       "      <th id=\"T_72884_level0_col2\" class=\"col_heading level0 col2\" >Recall_Sensitivity</th>\n",
       "      <th id=\"T_72884_level0_col3\" class=\"col_heading level0 col3\" >Specificity</th>\n",
       "      <th id=\"T_72884_level0_col4\" class=\"col_heading level0 col4\" >f1_score</th>\n",
       "    </tr>\n",
       "  </thead>\n",
       "  <tbody>\n",
       "    <tr>\n",
       "      <th id=\"T_72884_level0_row0\" class=\"row_heading level0 row0\" >0</th>\n",
       "      <td id=\"T_72884_row0_col0\" class=\"data row0 col0\" >5.7%</td>\n",
       "      <td id=\"T_72884_row0_col1\" class=\"data row0 col1\" >41.9%</td>\n",
       "      <td id=\"T_72884_row0_col2\" class=\"data row0 col2\" >56.5%</td>\n",
       "      <td id=\"T_72884_row0_col3\" class=\"data row0 col3\" >95.3%</td>\n",
       "      <td id=\"T_72884_row0_col4\" class=\"data row0 col4\" >48.1%</td>\n",
       "    </tr>\n",
       "    <tr>\n",
       "      <th id=\"T_72884_level0_row1\" class=\"row_heading level0 row1\" >1</th>\n",
       "      <td id=\"T_72884_row1_col0\" class=\"data row1 col0\" >7.9%</td>\n",
       "      <td id=\"T_72884_row1_col1\" class=\"data row1 col1\" >63.6%</td>\n",
       "      <td id=\"T_72884_row1_col2\" class=\"data row1 col2\" >65.6%</td>\n",
       "      <td id=\"T_72884_row1_col3\" class=\"data row1 col3\" >96.8%</td>\n",
       "      <td id=\"T_72884_row1_col4\" class=\"data row1 col4\" >64.6%</td>\n",
       "    </tr>\n",
       "    <tr>\n",
       "      <th id=\"T_72884_level0_row2\" class=\"row_heading level0 row2\" >2</th>\n",
       "      <td id=\"T_72884_row2_col0\" class=\"data row2 col0\" >17.7%</td>\n",
       "      <td id=\"T_72884_row2_col1\" class=\"data row2 col1\" >64.6%</td>\n",
       "      <td id=\"T_72884_row2_col2\" class=\"data row2 col2\" >73.6%</td>\n",
       "      <td id=\"T_72884_row2_col3\" class=\"data row2 col3\" >91.3%</td>\n",
       "      <td id=\"T_72884_row2_col4\" class=\"data row2 col4\" >68.8%</td>\n",
       "    </tr>\n",
       "    <tr>\n",
       "      <th id=\"T_72884_level0_row3\" class=\"row_heading level0 row3\" >3</th>\n",
       "      <td id=\"T_72884_row3_col0\" class=\"data row3 col0\" >2.0%</td>\n",
       "      <td id=\"T_72884_row3_col1\" class=\"data row3 col1\" >71.4%</td>\n",
       "      <td id=\"T_72884_row3_col2\" class=\"data row3 col2\" >62.5%</td>\n",
       "      <td id=\"T_72884_row3_col3\" class=\"data row3 col3\" >99.5%</td>\n",
       "      <td id=\"T_72884_row3_col4\" class=\"data row3 col4\" >66.7%</td>\n",
       "    </tr>\n",
       "    <tr>\n",
       "      <th id=\"T_72884_level0_row4\" class=\"row_heading level0 row4\" >4</th>\n",
       "      <td id=\"T_72884_row4_col0\" class=\"data row4 col0\" >15.2%</td>\n",
       "      <td id=\"T_72884_row4_col1\" class=\"data row4 col1\" >51.5%</td>\n",
       "      <td id=\"T_72884_row4_col2\" class=\"data row4 col2\" >54.8%</td>\n",
       "      <td id=\"T_72884_row4_col3\" class=\"data row4 col3\" >90.7%</td>\n",
       "      <td id=\"T_72884_row4_col4\" class=\"data row4 col4\" >53.1%</td>\n",
       "    </tr>\n",
       "    <tr>\n",
       "      <th id=\"T_72884_level0_row5\" class=\"row_heading level0 row5\" >5</th>\n",
       "      <td id=\"T_72884_row5_col0\" class=\"data row5 col0\" >49.1%</td>\n",
       "      <td id=\"T_72884_row5_col1\" class=\"data row5 col1\" >91.7%</td>\n",
       "      <td id=\"T_72884_row5_col2\" class=\"data row5 col2\" >83.0%</td>\n",
       "      <td id=\"T_72884_row5_col3\" class=\"data row5 col3\" >92.8%</td>\n",
       "      <td id=\"T_72884_row5_col4\" class=\"data row5 col4\" >87.1%</td>\n",
       "    </tr>\n",
       "    <tr>\n",
       "      <th id=\"T_72884_level0_row6\" class=\"row_heading level0 row6\" >6</th>\n",
       "      <td id=\"T_72884_row6_col0\" class=\"data row6 col0\" >2.5%</td>\n",
       "      <td id=\"T_72884_row6_col1\" class=\"data row6 col1\" >100.0%</td>\n",
       "      <td id=\"T_72884_row6_col2\" class=\"data row6 col2\" >70.0%</td>\n",
       "      <td id=\"T_72884_row6_col3\" class=\"data row6 col3\" >100.0%</td>\n",
       "      <td id=\"T_72884_row6_col4\" class=\"data row6 col4\" >82.4%</td>\n",
       "    </tr>\n",
       "    <tr>\n",
       "      <th id=\"T_72884_level0_row7\" class=\"row_heading level0 row7\" >Simple Avg.</th>\n",
       "      <td id=\"T_72884_row7_col0\" class=\"data row7 col0\" >nan%</td>\n",
       "      <td id=\"T_72884_row7_col1\" class=\"data row7 col1\" >69.3%</td>\n",
       "      <td id=\"T_72884_row7_col2\" class=\"data row7 col2\" >66.6%</td>\n",
       "      <td id=\"T_72884_row7_col3\" class=\"data row7 col3\" >95.2%</td>\n",
       "      <td id=\"T_72884_row7_col4\" class=\"data row7 col4\" >67.3%</td>\n",
       "    </tr>\n",
       "    <tr>\n",
       "      <th id=\"T_72884_level0_row8\" class=\"row_heading level0 row8\" >Weighted Avg.</th>\n",
       "      <td id=\"T_72884_row8_col0\" class=\"data row8 col0\" >nan%</td>\n",
       "      <td id=\"T_72884_row8_col1\" class=\"data row8 col1\" >75.6%</td>\n",
       "      <td id=\"T_72884_row8_col2\" class=\"data row8 col2\" >73.5%</td>\n",
       "      <td id=\"T_72884_row8_col3\" class=\"data row8 col3\" >93.0%</td>\n",
       "      <td id=\"T_72884_row8_col4\" class=\"data row8 col4\" >74.2%</td>\n",
       "    </tr>\n",
       "  </tbody>\n",
       "</table>\n"
      ],
      "text/plain": [
       "<pandas.io.formats.style.Styler at 0x2979e21c0>"
      ]
     },
     "execution_count": 22,
     "metadata": {},
     "output_type": "execute_result"
    }
   ],
   "source": [
    "# Model 280x210\n",
    "model_ = KNN_Model\n",
    "X = input_data_Array[2]\n",
    "Y = labels_Array[2]\n",
    "# X = blc_data_arrays\n",
    "# Y = blc_label_arrays\n",
    "Y_pred = model_.predict(X)\n",
    "Y_binary =  label_to_binary(Y)\n",
    "Y_pred_binary =  label_to_binary(Y_pred)\n",
    "results = model_evaluation(Y,Y_pred,'KNN')\n",
    "# results = model_evaluation(Y_binary,Y_pred_binary)\n",
    "results"
   ]
  },
  {
   "cell_type": "markdown",
   "metadata": {},
   "source": [
    "**Cross Validation**"
   ]
  },
  {
   "cell_type": "code",
   "execution_count": 23,
   "metadata": {},
   "outputs": [
    {
     "name": "stdout",
     "output_type": "stream",
     "text": [
      "------- Precision recal %--------█████████████████████████████████████████████████████████████████████████████████] 100/100\n",
      "              precision    recall  f1-score   support\n",
      "\n",
      "           0       0.38      0.52      0.44        23\n",
      "           1       0.61      0.59      0.60        32\n",
      "           2       0.68      0.74      0.71        72\n",
      "           3       0.71      0.62      0.67         8\n",
      "           4       0.48      0.47      0.48        62\n",
      "           5       0.89      0.85      0.87       200\n",
      "           6       1.00      0.90      0.95        10\n",
      "\n",
      "    accuracy                           0.73       407\n",
      "   macro avg       0.68      0.67      0.67       407\n",
      "weighted avg       0.74      0.73      0.73       407\n",
      "\n",
      "Best param:  {'algorithm': 'auto', 'leaf_size': 25, 'n_neighbors': 8, 'p': 2, 'weights': 'distance'}\n"
     ]
    }
   ],
   "source": [
    "Model_ = neighbors.KNeighborsClassifier(n_jobs=-1)\n",
    "kflods = sk.model_selection.KFold(n_splits=10, shuffle=True)\n",
    "cross_valid = True\n",
    "save_model = True\n",
    "nr_repeat = 10\n",
    "\n",
    "X_train = input_data_Array[0]\n",
    "Y_train = labels_Array[0]\n",
    "X_valid = input_data_Array[1]\n",
    "Y_valid = labels_Array[1]\n",
    "X_test = input_data_Array[2]\n",
    "Y_test = labels_Array[2]\n",
    "\n",
    "grid = { \n",
    "    'n_neighbors': [8],\n",
    "    'weights': ['distance'],\n",
    "    'algorithm': ['auto'],\n",
    "    'leaf_size' : [25],\n",
    "    'p' : [2]\n",
    "}\n",
    "\n",
    "KNN_Model_CV, KNN_Details_CV = grid_searc_cross_valid_trainer(Model_, grid, cross_valid, kflods,X_train=X_train , Y_train=Y_train,X_valid=X_valid,Y_valid=Y_valid,X_test=X_test, Y_test=Y_test,nr_repeat=nr_repeat)\n",
    "\n",
    "if save_model:\n",
    "    pickle.dump(KNN_Model_CV, open(G_path + '/08_Saved_Models_Outpus/Models/Classifiers/' + 'KNN_Model_CV' , 'wb'))\n",
    "    pickle.dump(KNN_Details_CV, open(G_path + '/08_Saved_Models_Outpus/Cross_Valid_Results/' + 'KNN_Model_CV' , 'wb'))"
   ]
  },
  {
   "cell_type": "markdown",
   "metadata": {},
   "source": [
    "# **Biased Classifier**"
   ]
  },
  {
   "cell_type": "code",
   "execution_count": 24,
   "metadata": {},
   "outputs": [
    {
     "name": "stdout",
     "output_type": "stream",
     "text": [
      "              precision    recall  f1-score   support\n",
      "\n",
      "           0       0.00      0.00      0.00        23\n",
      "           1       0.00      0.00      0.00        32\n",
      "           2       0.00      0.00      0.00        72\n",
      "           3       0.00      0.00      0.00         8\n",
      "           4       0.00      0.00      0.00        62\n",
      "           5       0.49      1.00      0.66       200\n",
      "           6       0.00      0.00      0.00        10\n",
      "\n",
      "    accuracy                           0.49       407\n",
      "   macro avg       0.07      0.14      0.09       407\n",
      "weighted avg       0.24      0.49      0.32       407\n",
      "\n"
     ]
    }
   ],
   "source": [
    "Dum_class = sk.dummy.DummyClassifier(strategy=\"most_frequent\" )\n",
    "\n",
    "X_train = input_data_Array[0]\n",
    "Y_train = labels_Array[0]\n",
    "X_test = input_data_Array[2]\n",
    "Y_test = labels_Array[2]\n",
    "\n",
    "Dum_class.fit(X_train, Y_train)\n",
    "\n",
    "Y = Y_test\n",
    "Y_pred = Dum_class.predict(X_test)\n",
    "\n",
    "print(sk.metrics.classification_report(Y,Y_pred))"
   ]
  },
  {
   "cell_type": "code",
   "execution_count": 25,
   "metadata": {},
   "outputs": [],
   "source": [
    "test_recall_weighed, test_specificity_weighed, _ = recall_specificity_precision(Y,Y_pred,weighted_avg=True)"
   ]
  },
  {
   "cell_type": "code",
   "execution_count": 26,
   "metadata": {},
   "outputs": [
    {
     "name": "stdout",
     "output_type": "stream",
     "text": [
      "------- Precision recal %--------█████████████████████████████████████████████████████████████████████████████████] 100/100\n",
      "              precision    recall  f1-score   support\n",
      "\n",
      "           0       0.00      0.00      0.00        23\n",
      "           1       0.00      0.00      0.00        32\n",
      "           2       0.00      0.00      0.00        72\n",
      "           3       0.00      0.00      0.00         8\n",
      "           4       0.00      0.00      0.00        62\n",
      "           5       0.49      1.00      0.66       200\n",
      "           6       0.00      0.00      0.00        10\n",
      "\n",
      "    accuracy                           0.49       407\n",
      "   macro avg       0.07      0.14      0.09       407\n",
      "weighted avg       0.24      0.49      0.32       407\n",
      "\n",
      "Best param:  {}\n"
     ]
    }
   ],
   "source": [
    "Model_ = sk.dummy.DummyClassifier(strategy=\"most_frequent\" )\n",
    "kflods = sk.model_selection.KFold(n_splits=10, shuffle=True)\n",
    "cross_valid = True\n",
    "save_model = True\n",
    "nr_repeat = 10\n",
    "\n",
    "X_train = input_data_Array[0]\n",
    "Y_train = labels_Array[0]\n",
    "X_valid = input_data_Array[1]\n",
    "Y_valid = labels_Array[1]\n",
    "X_test = input_data_Array[2]\n",
    "Y_test = labels_Array[2]\n",
    "\n",
    "grid = {}\n",
    "\n",
    "Biased_Model_CV, Biased_Details_CV = grid_searc_cross_valid_trainer(Model_, grid, cross_valid, kflods,X_train=X_train , Y_train=Y_train,X_valid=X_valid,Y_valid=Y_valid,X_test=X_test, Y_test=Y_test,nr_repeat=nr_repeat)\n",
    "\n",
    "if save_model:\n",
    "    pickle.dump(Biased_Model_CV, open(G_path + '/08_Saved_Models_Outpus/Models/Classifiers/' + 'Biased_Model_CV' , 'wb'))\n",
    "    pickle.dump(Biased_Details_CV, open(G_path + '/08_Saved_Models_Outpus/Cross_Valid_Results/' + 'Biased_Model_CV' , 'wb'))"
   ]
  },
  {
   "cell_type": "code",
   "execution_count": 27,
   "metadata": {},
   "outputs": [],
   "source": [
    "CNN_Rescaled_Details = pickle.load(open(G_path + '/08_Saved_Models_Outpus/Cross_Valid_Results/' + 'CNN_Rescaled_Details_MultiClass' ,'rb'))\n",
    "CNN_A_E_Details = pickle.load(open(G_path + '/08_Saved_Models_Outpus/Cross_Valid_Results/' + 'CNN_A_E_Details_MultiClass' ,'rb'))"
   ]
  },
  {
   "cell_type": "code",
   "execution_count": 28,
   "metadata": {},
   "outputs": [],
   "source": [
    "c = 'test_recall_weighed'\n",
    "df = [CNN_A_E_Details,CNN_Rescaled_Details,RF_Details_CV,SVM_Details_CV,MLP_Details_CV,GB_Details_CV,KNN_Details_CV,Biased_Details_CV]\n",
    "clss_name = ['CNN-A.E.','CNN-Resc.','RF','SVM','MLP','GB','KNN','Biased']\n",
    "df_0 = pd.DataFrame()\n",
    "for i in range(0, len(df)):\n",
    "    df_00 = pd.DataFrame(df[i][c].values, columns=[clss_name[i]])\n",
    "    df_0 = pd.concat([df_0,df_00],axis=1)\n",
    "\n",
    "Sensitivity = df_0"
   ]
  },
  {
   "cell_type": "code",
   "execution_count": 33,
   "metadata": {},
   "outputs": [
    {
     "name": "stdout",
     "output_type": "stream",
     "text": [
      "Anova's p-value =  1.9755432751551668e-143\n",
      "Anova's f =  5118.305657649242\n"
     ]
    },
    {
     "data": {
      "text/plain": [
       "10.168584675160066"
      ]
     },
     "execution_count": 33,
     "metadata": {},
     "output_type": "execute_result"
    }
   ],
   "source": [
    "c = 'test_recall_weighed'\n",
    "x = list(RF_Details_CV[c])\n",
    "y = list(GB_Details_CV[c])\n",
    "from scipy.stats.mstats import f_oneway\n",
    "f, p = f_oneway(x, y)\n",
    "print(\"Anova's p-value = \", p)\n",
    "print(\"Anova's f = \", f)\n",
    "\n",
    "eff_size = (np.mean(x) - np.mean(y)) / np.sqrt((np.std(x) ** 2 + np.std(y) ** 2) / 2.0)\n",
    "eff_size"
   ]
  },
  {
   "cell_type": "code",
   "execution_count": 31,
   "metadata": {},
   "outputs": [
    {
     "data": {
      "text/plain": [
       "10"
      ]
     },
     "execution_count": 31,
     "metadata": {},
     "output_type": "execute_result"
    }
   ],
   "source": [
    "len(y)"
   ]
  },
  {
   "cell_type": "code",
   "execution_count": 36,
   "metadata": {},
   "outputs": [
    {
     "data": {
      "text/plain": [
       "(0.0, 3.679402088127131e-18)"
      ]
     },
     "execution_count": 36,
     "metadata": {},
     "output_type": "execute_result"
    }
   ],
   "source": [
    "\n",
    "(t, p) = sp.stats.wilcoxon(x, y)\n",
    "t, p"
   ]
  },
  {
   "cell_type": "code",
   "execution_count": 29,
   "metadata": {},
   "outputs": [
    {
     "name": "stderr",
     "output_type": "stream",
     "text": [
      "findfont: Font family ['normal'] not found. Falling back to DejaVu Sans.\n"
     ]
    },
    {
     "data": {
      "image/png": "[encoded data removed]",
      "text/plain": [
       "<Figure size 864x432 with 1 Axes>"
      ]
     },
     "metadata": {
      "needs_background": "light"
     },
     "output_type": "display_data"
    }
   ],
   "source": [
    "plt.subplots(figsize=(12,6))\n",
    "sns.boxplot(data=Sensitivity)\n",
    "plt.title('Sensitivity Score on Test Set',fontsize = 18)\n",
    "# plt.xlabel(\"Classifiers\", fontsize = 14)\n",
    "# plt.ylabel(\"Accuracy\", fontsize = 14)\n",
    "plt.xticks(fontsize=16, rotation=0)\n",
    "plt.show()"
   ]
  },
  {
   "cell_type": "code",
   "execution_count": 30,
   "metadata": {},
   "outputs": [],
   "source": [
    "c = 'test_specificity_weighed'\n",
    "df = [CNN_A_E_Details,CNN_Rescaled_Details,RF_Details_CV,SVM_Details_CV,MLP_Details_CV,GB_Details_CV,KNN_Details_CV,Biased_Details_CV]\n",
    "clss_name = ['CNN-A.E.','CNN-Resc.','RF','SVM','MLP','GB','KNN','Biased']\n",
    "df_0 = pd.DataFrame()\n",
    "for i in range(0, len(df)):\n",
    "    df_00 = pd.DataFrame(df[i][c].values, columns=[clss_name[i]])\n",
    "    df_0 = pd.concat([df_0,df_00],axis=1)\n",
    "\n",
    "specificity = df_0"
   ]
  },
  {
   "cell_type": "code",
   "execution_count": 31,
   "metadata": {},
   "outputs": [
    {
     "data": {
      "image/png": "[encoded data removed]",
      "text/plain": [
       "<Figure size 864x432 with 1 Axes>"
      ]
     },
     "metadata": {
      "needs_background": "light"
     },
     "output_type": "display_data"
    }
   ],
   "source": [
    "plt.subplots(figsize=(12,6))\n",
    "sns.boxplot(data=specificity)\n",
    "plt.title('Specificity Score on Test Set',fontsize = 18)\n",
    "# plt.xlabel(\"Classifiers\", fontsize = 14)\n",
    "# plt.ylabel(\"Accuracy\", fontsize = 14)\n",
    "plt.xticks(fontsize=16, rotation=0)\n",
    "plt.show()"
   ]
  }
 ],
 "metadata": {
  "kernelspec": {
   "display_name": "Python 3.8.9 64-bit",
   "language": "python",
   "name": "python3"
  },
  "language_info": {
   "codemirror_mode": {
    "name": "ipython",
    "version": 3
   },
   "file_extension": ".py",
   "mimetype": "text/x-python",
   "name": "python",
   "nbconvert_exporter": "python",
   "pygments_lexer": "ipython3",
   "version": "3.8.9"
  },
  "orig_nbformat": 4,
  "vscode": {
   "interpreter": {
    "hash": "31f2aee4e71d21fbe5cf8b01ff0e069b9275f58929596ceb00d14d90e3e16cd6"
   }
  }
 },
 "nbformat": 4,
 "nbformat_minor": 2
}
