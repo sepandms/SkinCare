{
 "cells": [
  {
   "cell_type": "code",
   "execution_count": 26,
   "metadata": {},
   "outputs": [],
   "source": [
    "try:\n",
    "  from google.colab import drive\n",
    "  drive.mount('/content/drive')\n",
    "  import os\n",
    "  CWD = '/content/drive/MyDrive/DataSources/SkinCare'\n",
    "  os.chdir(CWD)\n",
    "except:None\n",
    "G_path = './Project_Data'"
   ]
  },
  {
   "cell_type": "code",
   "execution_count": 27,
   "metadata": {},
   "outputs": [
    {
     "name": "stdout",
     "output_type": "stream",
     "text": [
      "devis: mps\n"
     ]
    }
   ],
   "source": [
    "import torch\n",
    "import torch.nn as nn\n",
    "import torch.nn.functional as F\n",
    "import torchvision\n",
    "import torchvision.transforms as transforms\n",
    "#import torchvision.transforms.Compose\n",
    "import numpy as np\n",
    "import matplotlib.pyplot as plt\n",
    "from torch.utils.data import random_split\n",
    "from torch.utils.data import SubsetRandomSampler\n",
    "from torch.utils.data import DataLoader\n",
    "import time\n",
    "import os\n",
    "from statistics import mean\n",
    "import pandas as pd\n",
    "import sklearn as sk\n",
    "import pickle\n",
    "from sklearn.model_selection import train_test_split\n",
    "from sklearn.utils import resample\n",
    "import warnings\n",
    "warnings.filterwarnings('ignore')\n",
    "import features\n",
    "from features.usefull_functions import *\n",
    "from features.NETs import *\n",
    "from features.Model_Training import *\n",
    "device = None\n",
    "try:\n",
    "    c = torch.cuda.is_available()\n",
    "    if c:\n",
    "        print('devis: cuda')\n",
    "        device = 'cuda'\n",
    "    else:\n",
    "        try :\n",
    "            m = torch.backends.mps.is_available()\n",
    "            if m:\n",
    "                device = 'mps'\n",
    "                print('devis: mps')  \n",
    "        except:    \n",
    "            device = 'cpu'\n",
    "            print('devis: cpu')           \n",
    "except:\n",
    "    None"
   ]
  },
  {
   "cell_type": "markdown",
   "metadata": {},
   "source": [
    "# **Import DataSets**"
   ]
  },
  {
   "cell_type": "code",
   "execution_count": 28,
   "metadata": {},
   "outputs": [],
   "source": [
    "file = 'Input_DataSet_360x270' # [Input_DataSet_280x210,Input_DataSet_360x270]\n",
    "input_data , labels = pickle.load(open(G_path + '/06_Rescaled_DataSet/'+ file,'rb'))\n",
    "labels_biary = labels[1]\n",
    "labels_multi = labels[0]\n",
    "\n",
    "file = 'Input_DataSet_A_E' \n",
    "A_E_input_data , A_E_labels = pickle.load(open(G_path + '/05_AutoEncoded_DataSet/'+ file,'rb'))\n",
    "A_E_labels_biary = A_E_labels[1]\n",
    "A_E_labels_multi = A_E_labels[0]\n",
    "\n",
    "file = 'Balanced_Test_Set_360x270' \n",
    "BLC_test = pickle.load(open(G_path + '/06_Rescaled_DataSet/' + file,'rb'))\n",
    "\n",
    "file = 'Balanced_Test_Set_A_E' \n",
    "BLC_test_A_E = pickle.load(open(G_path + '/05_AutoEncoded_DataSet/' + file,'rb'))\n",
    "\n",
    "Meta_Data_Augmented = pickle.load(open( G_path + '/02_Augmented_MetaData/Meta_Data_Augmented','rb'))"
   ]
  },
  {
   "cell_type": "markdown",
   "metadata": {},
   "source": [
    "# **Import Model**"
   ]
  },
  {
   "cell_type": "code",
   "execution_count": 48,
   "metadata": {},
   "outputs": [],
   "source": [
    "C_280 = 'CNN_280x210_MultiClassModel0_24_Jun22_22-38' # Best of grid search ['CNN_280x210_Model5_23_Jun22_12-55','CNN_280x210_Model4_22_Jun22_00-14]\n",
    "C_280 = 'CNN_280x210_MultiClassModel1_12_Jul22_18_15'\n",
    "C_280 = 'CNN_280x210_MultiClassModel41_14_Jul22_10_49'\n",
    "C_280 = 'CNN_360x270_MultiClassModel14_15_Jul22_10_05'\n",
    "C_280_binary = 'CNN_360x270_Binary_Model11_21_Jul22_06_50' #[CNN_360x270_Binary_Model11_21_Jul22_06_50,CNN_360x270_BinaryModel1_20_Jul22_12_45]\n",
    "\n",
    "Model_multi = pickle.load(open(G_path + '/08_Saved_Models_Outpus/Models/CNN_Grid_Search_Models/'+ C_280 , 'rb') ).eval()\n",
    "Model_binary = pickle.load(open(G_path + '/08_Saved_Models_Outpus/Models/CNN_Grid_Search_Models/'+ C_280_binary , 'rb') ).eval()\n",
    "\n",
    "A_E = 'A_E_CNN_Model6_22_Jun22_00-29' #Best of grid search\n",
    "A_E_binary = 'A_E_CNN_Model0_25_Jun22_09-35'\n",
    "# [CNN_Nets.Net8_a, Model_Training_with_loader] = pickle.load(open(G_Models+'/Net8_Model_Trainin','rb'))\n",
    "Model_A_En_multiclass = pickle.load(open(G_path + '/08_Saved_Models_Outpus/Models/CNN_Grid_Search_Models/' + A_E , 'rb') ).eval()\n",
    "Model_A_En_binary = pickle.load(open(G_path + '/08_Saved_Models_Outpus/Models/CNN_Grid_Search_Models/' + A_E_binary , 'rb') ).eval()"
   ]
  },
  {
   "cell_type": "markdown",
   "metadata": {},
   "source": [
    "# **Model Evaluation**"
   ]
  },
  {
   "cell_type": "code",
   "execution_count": 68,
   "metadata": {},
   "outputs": [
    {
     "name": "stdout",
     "output_type": "stream",
     "text": [
      "Nr. of Data : \n",
      " 407\n",
      "Accuracy of The Model : \n",
      " 0.8255528255528255\n"
     ]
    },
    {
     "data": {
      "image/png": "[encoded data removed]",
      "text/plain": [
       "<Figure size 432x288 with 1 Axes>"
      ]
     },
     "metadata": {
      "needs_background": "light"
     },
     "output_type": "display_data"
    },
    {
     "data": {
      "text/html": [
       "<style type=\"text/css\">\n",
       "</style>\n",
       "<table id=\"T_297ee_\">\n",
       "  <thead>\n",
       "    <tr>\n",
       "      <th class=\"blank level0\" >&nbsp;</th>\n",
       "      <th class=\"col_heading level0 col0\" >weights</th>\n",
       "      <th class=\"col_heading level0 col1\" >Precision</th>\n",
       "      <th class=\"col_heading level0 col2\" >Recall_Sensitivity</th>\n",
       "      <th class=\"col_heading level0 col3\" >Specificity</th>\n",
       "      <th class=\"col_heading level0 col4\" >f1_score</th>\n",
       "    </tr>\n",
       "  </thead>\n",
       "  <tbody>\n",
       "    <tr>\n",
       "      <th id=\"T_297ee_level0_row0\" class=\"row_heading level0 row0\" >0</th>\n",
       "      <td id=\"T_297ee_row0_col0\" class=\"data row0 col0\" >71.3%</td>\n",
       "      <td id=\"T_297ee_row0_col1\" class=\"data row0 col1\" >84.5%</td>\n",
       "      <td id=\"T_297ee_row0_col2\" class=\"data row0 col2\" >92.4%</td>\n",
       "      <td id=\"T_297ee_row0_col3\" class=\"data row0 col3\" >58.1%</td>\n",
       "      <td id=\"T_297ee_row0_col4\" class=\"data row0 col4\" >88.3%</td>\n",
       "    </tr>\n",
       "    <tr>\n",
       "      <th id=\"T_297ee_level0_row1\" class=\"row_heading level0 row1\" >1</th>\n",
       "      <td id=\"T_297ee_row1_col0\" class=\"data row1 col0\" >28.7%</td>\n",
       "      <td id=\"T_297ee_row1_col1\" class=\"data row1 col1\" >75.6%</td>\n",
       "      <td id=\"T_297ee_row1_col2\" class=\"data row1 col2\" >58.1%</td>\n",
       "      <td id=\"T_297ee_row1_col3\" class=\"data row1 col3\" >92.4%</td>\n",
       "      <td id=\"T_297ee_row1_col4\" class=\"data row1 col4\" >65.7%</td>\n",
       "    </tr>\n",
       "    <tr>\n",
       "      <th id=\"T_297ee_level0_row2\" class=\"row_heading level0 row2\" >Simple Avg.</th>\n",
       "      <td id=\"T_297ee_row2_col0\" class=\"data row2 col0\" >nan%</td>\n",
       "      <td id=\"T_297ee_row2_col1\" class=\"data row2 col1\" >80.0%</td>\n",
       "      <td id=\"T_297ee_row2_col2\" class=\"data row2 col2\" >75.3%</td>\n",
       "      <td id=\"T_297ee_row2_col3\" class=\"data row2 col3\" >75.3%</td>\n",
       "      <td id=\"T_297ee_row2_col4\" class=\"data row2 col4\" >77.0%</td>\n",
       "    </tr>\n",
       "    <tr>\n",
       "      <th id=\"T_297ee_level0_row3\" class=\"row_heading level0 row3\" >Weighted Avg.</th>\n",
       "      <td id=\"T_297ee_row3_col0\" class=\"data row3 col0\" >nan%</td>\n",
       "      <td id=\"T_297ee_row3_col1\" class=\"data row3 col1\" >82.0%</td>\n",
       "      <td id=\"T_297ee_row3_col2\" class=\"data row3 col2\" >82.6%</td>\n",
       "      <td id=\"T_297ee_row3_col3\" class=\"data row3 col3\" >68.0%</td>\n",
       "      <td id=\"T_297ee_row3_col4\" class=\"data row3 col4\" >81.8%</td>\n",
       "    </tr>\n",
       "  </tbody>\n",
       "</table>\n"
      ],
      "text/plain": [
       "<pandas.io.formats.style.Styler at 0x29f023bb0>"
      ]
     },
     "execution_count": 68,
     "metadata": {},
     "output_type": "execute_result"
    }
   ],
   "source": [
    "# Model 280x210\n",
    "Evaluation_set = 2  #{train:0 , valid:1 , test:2}\n",
    "balanced_test_set = False\n",
    "binary_cnn = True\n",
    "Multi_to_binary = False\n",
    "model = Model_binary  # {Model_multi, CNN_A_En_multiclass}\n",
    "\n",
    "if balanced_test_set:\n",
    "    X = BLC_test[0]\n",
    "    if binary_cnn:\n",
    "        Y = BLC_test[2]\n",
    "    else:\n",
    "        Y = BLC_test[1]      \n",
    "else:\n",
    "    X = input_data[Evaluation_set]\n",
    "    if binary_cnn:\n",
    "        Y = labels_biary[Evaluation_set]\n",
    "    else:\n",
    "        Y = labels_multi[Evaluation_set]\n",
    "n = 100\n",
    "iter = X.shape[0] // n\n",
    "Y_pred = torch.zeros(0)\n",
    "Y_pred_prob = torch.zeros(0)\n",
    "for i in range(iter+1):\n",
    "    X_ = X[i*n:(i+1)*n].detach()\n",
    "    Y_prob = torch.softmax(model.forward_noDrop(X_),dim=1).detach()\n",
    "    Y_ = model.forward_noDrop(X_).argmax(dim=1).detach()\n",
    "    Y_pred = torch.cat([Y_pred,Y_]).detach()\n",
    "    Y_pred_prob = torch.cat([Y_pred_prob,Y_prob]).detach()\n",
    "\n",
    "if Multi_to_binary:\n",
    "    Y_binary =  label_to_binary(Y)\n",
    "    Y_pred_binary =  label_to_binary(Y_pred)\n",
    "    results = model_evaluation(Y_binary,Y_pred_binary)\n",
    "else:\n",
    "    results = model_evaluation(Y,Y_pred,'CNN')\n",
    "results"
   ]
  },
  {
   "cell_type": "markdown",
   "metadata": {},
   "source": [
    "# **CNN: MultiClass/Binary: Get CNN OutPut (Soft-Max)**"
   ]
  },
  {
   "cell_type": "code",
   "execution_count": 50,
   "metadata": {},
   "outputs": [
    {
     "data": {
      "text/plain": [
       "(torch.Size([5807, 3, 360, 270]), torch.Size([5807, 2]))"
      ]
     },
     "execution_count": 50,
     "metadata": {},
     "output_type": "execute_result"
    }
   ],
   "source": [
    "Apply_SoftMax = True\n",
    "\n",
    "model_ = Model_binary #[Model_multi, Model_binary]\n",
    "X = torch.cat([input_data[0],input_data[1],input_data[2]],dim=0).detach()\n",
    "n = 100\n",
    "iter = X.shape[0] // n\n",
    "Y_pred = torch.zeros(0)\n",
    "for i in range(iter+1):\n",
    "    X_ = X[i*n:(i+1)*n]\n",
    "    if Apply_SoftMax:\n",
    "        Y_ = torch.softmax(model_.forward_noDrop(X_),dim=1).detach()\n",
    "    else:\n",
    "    # no SoftMax\n",
    "        Y_ = model_.forward_noDrop(X_).detach()\n",
    "    Y_pred = torch.cat([Y_pred,Y_]).detach()\n",
    "X.shape , Y_pred.shape"
   ]
  },
  {
   "cell_type": "code",
   "execution_count": 52,
   "metadata": {},
   "outputs": [
    {
     "data": {
      "text/plain": [
       "torch.return_types.max(\n",
       "values=tensor([1.0000, 1.0000]),\n",
       "indices=tensor([  87, 3397]))"
      ]
     },
     "execution_count": 52,
     "metadata": {},
     "output_type": "execute_result"
    }
   ],
   "source": [
    "Y_pred.max(dim=0)"
   ]
  },
  {
   "cell_type": "code",
   "execution_count": 84,
   "metadata": {},
   "outputs": [],
   "source": [
    "def MinMax_Scaling(T):\n",
    "    T_S = torch.zeros(0)\n",
    "    for i in range(T.shape[0]):\n",
    "        T_ = T[i:i+1]\n",
    "        min = T_.min()\n",
    "        max = T_.max()\n",
    "        T_ = (T_ - min) / (max-min)\n",
    "        T_S = torch.cat([T_S,T_]).detach()\n",
    "    return T_S"
   ]
  },
  {
   "cell_type": "code",
   "execution_count": 85,
   "metadata": {},
   "outputs": [],
   "source": [
    "Apply_scaling = True\n",
    "if Apply_scaling:\n",
    "    Y_pred = MinMax_Scaling(Y_pred)"
   ]
  },
  {
   "cell_type": "code",
   "execution_count": 43,
   "metadata": {},
   "outputs": [],
   "source": [
    "df_CNN = pd.DataFrame(Y_pred.detach().numpy()).add_prefix('CNN_')\n",
    "meta_data_key = pd.concat([input_data[3][0],input_data[3][1],input_data[3][2]],axis=0).reset_index(drop=True)\n",
    "df_CNN = pd.concat([meta_data_key,df_CNN],axis=1).reset_index(drop=True)\n",
    "CNN_280x210_data = df_CNN.merge(Meta_Data_Augmented.drop(columns=['type']) ,how='left', on='image_id')"
   ]
  },
  {
   "cell_type": "code",
   "execution_count": 13,
   "metadata": {},
   "outputs": [],
   "source": [
    "# CNN_280x210_data.sample(100).drop(columns=['lesion_id','dx']).style.format({'CNN_0': \"{:.1%}\",'CNN_1': \"{:.1%}\",'CNN_2': \"{:.1%}\",'CNN_3': \"{:.1%}\",'CNN_4': \"{:.1%}\",'CNN_5': \"{:.1%}\",'CNN_6': \"{:.1%}\",'age': \"{:0}\"})"
   ]
  },
  {
   "cell_type": "code",
   "execution_count": 53,
   "metadata": {},
   "outputs": [],
   "source": [
    "cols = ['localization','sex','dx_type']\n",
    "CNN_280x210_data_encoded = pd.get_dummies(CNN_280x210_data, columns= cols).reset_index(drop=True)\n",
    "def standardizaion(dataset, attr):\n",
    "    mean = dataset[dataset.type.str.contains('train')][attr].mean()\n",
    "    std = dataset[dataset.type.str.contains('train')][attr].std()\n",
    "    dataset[attr] = (dataset[attr] - mean ) / std\n",
    "    return dataset\n",
    "CNN_280x210_data_encoded_STD = standardizaion(CNN_280x210_data_encoded,'age')"
   ]
  },
  {
   "cell_type": "code",
   "execution_count": 54,
   "metadata": {},
   "outputs": [],
   "source": [
    "pickle.dump(CNN_280x210_data_encoded_STD, open(G_path + '/07_CNNs_Output_DataSet/'+ 'CNN_360x270_Ouput_Binary_SoftMax', 'wb'))"
   ]
  },
  {
   "cell_type": "markdown",
   "metadata": {},
   "source": [
    "# **CNN: AutoEncoder, Get CNN OutPut (Soft-Max)**"
   ]
  },
  {
   "cell_type": "code",
   "execution_count": 34,
   "metadata": {},
   "outputs": [
    {
     "data": {
      "text/plain": [
       "(torch.Size([4647, 3, 282, 207]), torch.Size([4647, 7]))"
      ]
     },
     "execution_count": 34,
     "metadata": {},
     "output_type": "execute_result"
    }
   ],
   "source": [
    "model_ = Model_A_En_multiclass\n",
    "X = torch.cat([A_E_input_data[0],A_E_input_data[1],A_E_input_data[2]],dim=0).detach()\n",
    "n = 100\n",
    "iter = X.shape[0] // n\n",
    "Y_pred = torch.zeros(0)\n",
    "for i in range(iter+1):\n",
    "    X_ = X[i*n:(i+1)*n]\n",
    "    Y_ = torch.softmax(model_.forward_noDrop(X_),dim=1).detach()\n",
    "    Y_pred = torch.cat([Y_pred,Y_]).detach()\n",
    "X.shape , Y_pred.shape"
   ]
  },
  {
   "cell_type": "markdown",
   "metadata": {},
   "source": []
  },
  {
   "cell_type": "code",
   "execution_count": 35,
   "metadata": {},
   "outputs": [],
   "source": [
    "df_CNN = pd.DataFrame(Y_pred.detach().numpy()).add_prefix('CNN_')\n",
    "meta_data_key = pd.concat([A_E_input_data[3][0],A_E_input_data[3][1],A_E_input_data[3][2]],axis=0).reset_index(drop=True)\n",
    "df_CNN = pd.concat([meta_data_key,df_CNN],axis=1).reset_index(drop=True)\n",
    "CNN_A_E_data = df_CNN.merge(Meta_Data_Augmented.drop(columns=['type']) ,how='left', on='image_id')"
   ]
  },
  {
   "cell_type": "code",
   "execution_count": 36,
   "metadata": {},
   "outputs": [],
   "source": [
    "cols = ['localization','sex','dx_type']\n",
    "CNN_A_E_data_encoded = pd.get_dummies(CNN_A_E_data, columns= cols).reset_index(drop=True)\n",
    "def standardizaion(dataset, attr):\n",
    "    mean = dataset[dataset.type.str.contains('train')][attr].mean()\n",
    "    std = dataset[dataset.type.str.contains('train')][attr].std()\n",
    "    dataset[attr] = (dataset[attr] - mean ) / std\n",
    "    return dataset\n",
    "CNN_A_E_data_encoded_STD = standardizaion(CNN_A_E_data_encoded,'age')"
   ]
  },
  {
   "cell_type": "code",
   "execution_count": 37,
   "metadata": {},
   "outputs": [],
   "source": [
    "pickle.dump(CNN_A_E_data_encoded_STD, open(G_path + '/07_CNNs_Output_DataSet/'+ 'CNN_A_E_Ouput_MultiClass', 'wb'))"
   ]
  },
  {
   "cell_type": "markdown",
   "metadata": {},
   "source": [
    "# **CNN: AutoEncoder Binary, Output**"
   ]
  },
  {
   "cell_type": "code",
   "execution_count": 38,
   "metadata": {},
   "outputs": [
    {
     "data": {
      "text/plain": [
       "(torch.Size([4647, 3, 282, 207]), torch.Size([4647, 2]))"
      ]
     },
     "execution_count": 38,
     "metadata": {},
     "output_type": "execute_result"
    }
   ],
   "source": [
    "model_ = Model_A_En_binary\n",
    "X = torch.cat([A_E_input_data[0],A_E_input_data[1],A_E_input_data[2]],dim=0).detach()\n",
    "n = 100\n",
    "iter = X.shape[0] // n\n",
    "Y_pred = torch.zeros(0)\n",
    "for i in range(iter+1):\n",
    "    X_ = X[i*n:(i+1)*n]\n",
    "    Y_ = torch.softmax(model_.forward_noDrop(X_),dim=1).detach()\n",
    "    Y_pred = torch.cat([Y_pred,Y_]).detach()\n",
    "X.shape , Y_pred.shape"
   ]
  },
  {
   "cell_type": "markdown",
   "metadata": {},
   "source": []
  },
  {
   "cell_type": "code",
   "execution_count": 39,
   "metadata": {},
   "outputs": [],
   "source": [
    "df_CNN = pd.DataFrame(Y_pred.detach().numpy()).add_prefix('CNN_')\n",
    "meta_data_key = pd.concat([A_E_input_data[3][0],A_E_input_data[3][1],A_E_input_data[3][2]],axis=0).reset_index(drop=True)\n",
    "df_CNN = pd.concat([meta_data_key,df_CNN],axis=1).reset_index(drop=True)\n",
    "CNN_A_E_data = df_CNN.merge(Meta_Data_Augmented.drop(columns=['type']) ,how='left', on='image_id')"
   ]
  },
  {
   "cell_type": "code",
   "execution_count": 40,
   "metadata": {},
   "outputs": [],
   "source": [
    "cols = ['localization','sex','dx_type']\n",
    "CNN_A_E_data_encoded = pd.get_dummies(CNN_A_E_data, columns= cols).reset_index(drop=True)\n",
    "def standardizaion(dataset, attr):\n",
    "    mean = dataset[dataset.type.str.contains('train')][attr].mean()\n",
    "    std = dataset[dataset.type.str.contains('train')][attr].std()\n",
    "    dataset[attr] = (dataset[attr] - mean ) / std\n",
    "    return dataset\n",
    "CNN_A_E_data_encoded_STD = standardizaion(CNN_A_E_data_encoded,'age')"
   ]
  },
  {
   "cell_type": "code",
   "execution_count": 41,
   "metadata": {},
   "outputs": [],
   "source": [
    "pickle.dump(CNN_A_E_data_encoded_STD, open(G_path + '/07_CNNs_Output_DataSet/'+ 'CNN_A_E_Ouput_Binary', 'wb'))"
   ]
  },
  {
   "cell_type": "code",
   "execution_count": null,
   "metadata": {},
   "outputs": [],
   "source": []
  }
 ],
 "metadata": {
  "kernelspec": {
   "display_name": "Python 3.8.9 64-bit",
   "language": "python",
   "name": "python3"
  },
  "language_info": {
   "codemirror_mode": {
    "name": "ipython",
    "version": 3
   },
   "file_extension": ".py",
   "mimetype": "text/x-python",
   "name": "python",
   "nbconvert_exporter": "python",
   "pygments_lexer": "ipython3",
   "version": "3.8.9"
  },
  "vscode": {
   "interpreter": {
    "hash": "31f2aee4e71d21fbe5cf8b01ff0e069b9275f58929596ceb00d14d90e3e16cd6"
   }
  }
 },
 "nbformat": 4,
 "nbformat_minor": 4
}
