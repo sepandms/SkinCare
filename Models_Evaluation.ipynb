{
 "cells": [
  {
   "cell_type": "code",
   "execution_count": 1,
   "metadata": {},
   "outputs": [],
   "source": [
    "G_Models = '/Users/sepehrbe/My_Drive/DataSources/SkinCare/Saved/Models'\n",
    "G_path = '/Users/sepehrbe/My_Drive/DataSources/SkinCare'"
   ]
  },
  {
   "cell_type": "code",
   "execution_count": 2,
   "metadata": {},
   "outputs": [
    {
     "name": "stderr",
     "output_type": "stream",
     "text": [
      "/Users/sepehrbe/Library/Python/3.8/lib/python/site-packages/torchvision/io/image.py:13: UserWarning: Failed to load image Python extension: dlopen(/Users/sepehrbe/Library/Python/3.8/lib/python/site-packages/torchvision/image.so, 0x0006): Library not loaded: @rpath/libpng16.16.dylib\n",
      "  Referenced from: /Users/sepehrbe/Library/Python/3.8/lib/python/site-packages/torchvision/image.so\n",
      "  Reason: tried: '/usr/local/lib/libpng16.16.dylib' (no such file), '/usr/lib/libpng16.16.dylib' (no such file)\n",
      "  warn(f\"Failed to load image Python extension: {e}\")\n"
     ]
    }
   ],
   "source": [
    "import torch\n",
    "import torch.nn as nn\n",
    "import torch.nn.functional as F\n",
    "import torchvision\n",
    "import torchvision.transforms as transforms\n",
    "#import torchvision.transforms.Compose\n",
    "import numpy as np\n",
    "# from CNN_NETs import CNN_Nets \n",
    "from Net8 import Net8_a\n",
    "from Model_Training import Model_Training_with_loader\n",
    "import matplotlib.pyplot as plt\n",
    "from torch.utils.data import random_split\n",
    "from torch.utils.data import SubsetRandomSampler\n",
    "import time\n",
    "import os\n",
    "from statistics import mean\n",
    "import pandas as pd\n",
    "import sklearn as sk\n",
    "import pickle\n",
    "import dill\n",
    "from sklearn.model_selection import train_test_split\n",
    "device = torch.device(\"cuda\" if torch.cuda.is_available() else \"cpu\")\n",
    "from sklearn.utils import resample\n",
    "import warnings\n",
    "warnings.filterwarnings('ignore')\n",
    "device = torch.device('cpu')"
   ]
  },
  {
   "cell_type": "code",
   "execution_count": 3,
   "metadata": {},
   "outputs": [],
   "source": [
    "def confusion_matrix(Y,Y_pred):\n",
    "    CM = sk.metrics.confusion_matrix(Y,Y_pred)\n",
    "    print('Nr. of Data : \\n', CM.sum())\n",
    "    print('Accuracy of The Model : \\n', np.diag(CM).sum()/CM.sum())\n",
    "    sk.metrics.ConfusionMatrixDisplay(CM).plot()\n",
    "    FP = CM.sum(axis=0) - np.diag(CM) \n",
    "    FN = CM.sum(axis=1) - np.diag(CM)\n",
    "    TP = np.diag(CM)\n",
    "    TN = CM.sum() - (FP + FN + TP)\n",
    "    weights = CM.sum(axis=1) / CM.sum() \n",
    "    ACC = np.nan_to_num((TP+TN)/(TP+FP+FN+TN) , nan=0)\n",
    "    Recall_Sensitivity = np.nan_to_num(TP/(TP+FN) , nan=0)\n",
    "    Specificity = np.nan_to_num(TN/(TN+FP) , nan=0)\n",
    "    Precision = np.nan_to_num(TP/(TP+FP) , nan=0)\n",
    "    f1_score = np.nan_to_num( 2*Precision*Recall_Sensitivity / (Recall_Sensitivity + Precision), nan=0)\n",
    "    Performance_DF = pd.concat([pd.DataFrame(CM),pd.DataFrame(weights, columns=['weights']),pd.DataFrame(Precision, columns=['Precision']),pd.DataFrame(Recall_Sensitivity,columns=['Recall_Sensitivity'])\n",
    "        ,pd.DataFrame(Specificity, columns=['Specificity']),pd.DataFrame(f1_score, columns=['f1_score'])], axis=1)\n",
    "    total_row1 = pd.Series({'Precision':mean(Precision),'Recall_Sensitivity':mean(Recall_Sensitivity),'Specificity':mean(Specificity),'f1_score':mean(f1_score)}, name='Simple Avg.')\n",
    "    total_row2 = pd.Series({'Precision':sum(weights*Precision),'Recall_Sensitivity':sum(weights*Recall_Sensitivity),'Specificity':sum(weights*Specificity),'f1_score':sum(weights*f1_score)}, name='Weighted Avg.')\n",
    "    Performance_DF = Performance_DF.append([total_row1,total_row2])\n",
    "    cols = ['weights','Precision','Recall_Sensitivity','Specificity','f1_score']\n",
    "    per_details = Performance_DF[cols].style.format({'weights': \"{:.1%}\",'Precision': \"{:.1%}\",'Recall_Sensitivity': \"{:.1%}\",'Specificity': \"{:.1%}\",'f1_score': \"{:.1%}\"})\n",
    "    return per_details\n",
    "\n",
    "def plot_loss_accuracy(model_):\n",
    "    epochs_X = [i for i in range(1, model_.epochs+1)]\n",
    "    fig, axs = plt.subplots(1,2,figsize=(14,4))\n",
    "    axs[0].plot(epochs_X , model_.Epochs_Train_loss , 'bo-', label='Train loss')\n",
    "    axs[0].plot(epochs_X , model_.Epochs_Val_loss,'ro-', label='Validation loss')\n",
    "    axs[0].plot(epochs_X , model_.Epochs_test_loss,'go-', label='Test loss')\n",
    "    axs[0].set_xlabel(\"Epochs\", fontsize = 12)\n",
    "    axs[0].set_ylabel(\"Loss\", fontsize = 12)\n",
    "    axs[0].grid()\n",
    "    axs[0].legend()\n",
    "    axs[0].set_title('Train and Validation loss by epochs', fontsize = 14)\n",
    "    axs[1].plot(epochs_X , model_.Epochs_Train_Acc , 'bo-', label='Train Accuracy')\n",
    "    axs[1].plot(epochs_X , model_.Epochs_Val_Acc ,'ro-', label='Validation Accuracy')\n",
    "    axs[1].plot(epochs_X , model_.Epochs_test_Acc ,'go-', label='Test Accuracy')\n",
    "    axs[1].set_xlabel(\"Epochs\", fontsize = 12)\n",
    "    axs[1].set_ylabel(\"Accuracy\", fontsize = 12)\n",
    "    axs[1].grid()\n",
    "    axs[1].legend()\n",
    "    axs[1].set_title('Train and Validation Accuracy by epochs', fontsize = 14)\n",
    "    plt.show()"
   ]
  },
  {
   "cell_type": "markdown",
   "metadata": {},
   "source": [
    "# **Import DataSets**"
   ]
  },
  {
   "cell_type": "code",
   "execution_count": 4,
   "metadata": {},
   "outputs": [],
   "source": [
    "file = 'DataSet_280x210' \n",
    "input_data , labels = pickle.load(open(G_path + '/DataSet_280x210/'+ file,'rb'))\n",
    "\n",
    "file = 'Latent_Input_Data_labels.pkl' \n",
    "A_E_input_data , A_E_labels = pickle.load(open(G_path + '/Augmented_AutoEncoded/'+ file,'rb'))\n",
    "\n",
    "file = 'Evaluation_set_280x210' \n",
    "Evaluation_set = pickle.load(open(G_path + '/DataSet_280x210/' + file,'rb'))\n",
    "\n",
    "file = 'Evaluation_set_AutoEncoder' \n",
    "A_E_Evaluation_set = pickle.load(open(G_path + '/Augmented_AutoEncoded/' + file,'rb'))"
   ]
  },
  {
   "cell_type": "code",
   "execution_count": null,
   "metadata": {},
   "outputs": [],
   "source": []
  },
  {
   "cell_type": "markdown",
   "metadata": {},
   "source": [
    "# **Import Model**"
   ]
  },
  {
   "cell_type": "code",
   "execution_count": 5,
   "metadata": {},
   "outputs": [],
   "source": [
    "M_f = 'Best_Grid_Model_21_Jun22_12'\n",
    "M_F = 'Best_Grid_Model_21_Jun22_13-37'\n",
    "# Model_280x210 = pickle.load(open(G_Models + '/CNN_280x210/'+ M_f , 'rb') )\n",
    "\n",
    "A_E = 'CNN_Autoencoder_Trained (1)'\n",
    "# [CNN_Nets.Net8_a, Model_Training_with_loader] = pickle.load(open(G_Models+'/Net8_Model_Trainin','rb'))\n",
    "Model_A_En = pickle.load(open(G_Models + '/CNN_AutoEncoder/'+ A_E , 'rb') )"
   ]
  },
  {
   "cell_type": "markdown",
   "metadata": {},
   "source": [
    "# **All Models Iterative Check**"
   ]
  },
  {
   "cell_type": "code",
   "execution_count": 16,
   "metadata": {},
   "outputs": [
    {
     "data": {
      "text/plain": [
       "['.DS_Store',\n",
       " 'Icon\\r',\n",
       " 'Best_Grid_Model_21_Jun22_13-37',\n",
       " 'Best_Grid_Model_21_Jun22_15-01',\n",
       " 'Best_Grid_Model_21_Jun22_12']"
      ]
     },
     "execution_count": 16,
     "metadata": {},
     "output_type": "execute_result"
    }
   ],
   "source": [
    "model_list"
   ]
  },
  {
   "cell_type": "code",
   "execution_count": 22,
   "metadata": {},
   "outputs": [
    {
     "name": "stdout",
     "output_type": "stream",
     "text": [
      "Model Name:\n",
      " CNN_280x210_Model0_21_Jun22_13-37\n",
      "Test Accuracy:\n",
      " 0.6314496314496314\n",
      "Balanced Test Accuracy:\n",
      " 0.6190476190476191\n",
      "----------------------------------\n",
      "Model Name:\n",
      " CNN_280x210_Model7_21_Jun22_13-37\n",
      "Test Accuracy:\n",
      " 0.6461916461916462\n",
      "Balanced Test Accuracy:\n",
      " 0.5904761904761905\n",
      "----------------------------------\n",
      "Model Name:\n",
      " CNN_280x210_Model3_21_Jun22_12\n",
      "Test Accuracy:\n",
      " 0.6437346437346437\n",
      "Balanced Test Accuracy:\n",
      " 0.5904761904761905\n",
      "----------------------------------\n",
      "Model Name:\n",
      " CNN_280x210_Model6_21_Jun22_13-37\n",
      "Test Accuracy:\n",
      " 0.6388206388206388\n",
      "Balanced Test Accuracy:\n",
      " 0.6190476190476191\n",
      "----------------------------------\n",
      "Model Name:\n",
      " CNN_280x210_Model1_21_Jun22_13-37\n",
      "Test Accuracy:\n",
      " 0.6388206388206388\n",
      "Balanced Test Accuracy:\n",
      " 0.6\n",
      "----------------------------------\n",
      "Model Name:\n",
      " CNN_280x210_Model3_21_Jun22_13-37\n",
      "Test Accuracy:\n",
      " 0.6560196560196561\n",
      "Balanced Test Accuracy:\n",
      " 0.6095238095238096\n",
      "----------------------------------\n",
      "Model Name:\n",
      " CNN_280x210_Model4_21_Jun22_13-37\n",
      "Test Accuracy:\n",
      " 0.6388206388206388\n",
      "Balanced Test Accuracy:\n",
      " 0.6285714285714286\n",
      "----------------------------------\n",
      "Model Name:\n",
      " CNN_280x210_Model0_21_Jun22_12\n",
      "Test Accuracy:\n",
      " 0.6314496314496314\n",
      "Balanced Test Accuracy:\n",
      " 0.5523809523809524\n",
      "----------------------------------\n",
      "Model Name:\n",
      " CNN_280x210_Model5_21_Jun22_13-37\n",
      "Test Accuracy:\n",
      " 0.6461916461916462\n",
      "Balanced Test Accuracy:\n",
      " 0.5904761904761905\n",
      "----------------------------------\n",
      "Model Name:\n",
      " CNN_280x210_Model2_21_Jun22_13-37\n",
      "Test Accuracy:\n",
      " 0.6363636363636364\n",
      "Balanced Test Accuracy:\n",
      " 0.6095238095238096\n",
      "----------------------------------\n",
      "Model Name:\n",
      " CNN_280x210_Model3_21_Jun22_15-01\n",
      "Test Accuracy:\n",
      " 0.538083538083538\n",
      "Balanced Test Accuracy:\n",
      " 0.5142857142857142\n",
      "----------------------------------\n",
      "Model Name:\n",
      " CNN_280x210_Model2_21_Jun22_12\n",
      "Test Accuracy:\n",
      " 0.6486486486486487\n",
      "Balanced Test Accuracy:\n",
      " 0.5904761904761905\n",
      "----------------------------------\n",
      "Model Name:\n",
      " CNN_280x210_Model2_21_Jun22_15-01\n",
      "Test Accuracy:\n",
      " 0.6216216216216216\n",
      "Balanced Test Accuracy:\n",
      " 0.5619047619047619\n",
      "----------------------------------\n",
      "Model Name:\n",
      " CNN_280x210_Model0_21_Jun22_15-01\n",
      "Test Accuracy:\n",
      " 0.6339066339066339\n",
      "Balanced Test Accuracy:\n",
      " 0.6190476190476191\n",
      "----------------------------------\n",
      "Model Name:\n",
      " CNN_280x210_Model1_21_Jun22_12\n",
      "Test Accuracy:\n",
      " 0.6339066339066339\n",
      "Balanced Test Accuracy:\n",
      " 0.5904761904761905\n",
      "----------------------------------\n",
      "Model Name:\n",
      " CNN_280x210_Model1_21_Jun22_15-01\n",
      "Test Accuracy:\n",
      " 0.5749385749385749\n",
      "Balanced Test Accuracy:\n",
      " 0.5142857142857142\n",
      "----------------------------------\n"
     ]
    }
   ],
   "source": [
    "path_ = G_Models + '/CNN_280x210/'\n",
    "path_ = G_Models +  '/Grid_Search_Models/'\n",
    "model_list = os.listdir(path_)\n",
    "model_list = [i for i in model_list if 'Model' in i]\n",
    "X = input_data[2]\n",
    "Y = labels[2]\n",
    "X_blc = Evaluation_set[0]\n",
    "Y_blc = Evaluation_set[1]\n",
    "\n",
    "for m in model_list:\n",
    "    model_ = pickle.load(open(path_+ m , 'rb') )\n",
    "    Y_pred = model_.forward_noDrop(X).argmax(dim=1)\n",
    "    Y_pred_blc = model_.forward_noDrop(X_blc).argmax(dim=1)\n",
    "    test_accuracy = sk.metrics.accuracy_score(Y, Y_pred )\n",
    "    test_accurac_blc = sk.metrics.accuracy_score(Y_blc, Y_pred_blc )\n",
    "    print('Model Name:\\n' , m) \n",
    "    print('Test Accuracy:\\n' , test_accuracy)\n",
    "    print('Balanced Test Accuracy:\\n' , test_accurac_blc)\n",
    "    print('----------------------------------')"
   ]
  },
  {
   "cell_type": "code",
   "execution_count": 11,
   "metadata": {},
   "outputs": [
    {
     "data": {
      "text/plain": [
       "(torch.Size([105, 3, 282, 207]), torch.Size([814]))"
      ]
     },
     "execution_count": 11,
     "metadata": {},
     "output_type": "execute_result"
    }
   ],
   "source": [
    "X = A_E_Evaluation_set[0]\n",
    "Y = A_E_Evaluation_set[1]\n",
    "X.shape, Y.shape"
   ]
  },
  {
   "cell_type": "code",
   "execution_count": 7,
   "metadata": {},
   "outputs": [
    {
     "name": "stdout",
     "output_type": "stream",
     "text": [
      "Nr. of Data : \n",
      " 407\n",
      "Accuracy of The Model : \n",
      " 0.4594594594594595\n"
     ]
    },
    {
     "data": {
      "text/html": [
       "<style type=\"text/css\">\n",
       "</style>\n",
       "<table id=\"T_d575b\">\n",
       "  <thead>\n",
       "    <tr>\n",
       "      <th class=\"blank level0\" >&nbsp;</th>\n",
       "      <th id=\"T_d575b_level0_col0\" class=\"col_heading level0 col0\" >weights</th>\n",
       "      <th id=\"T_d575b_level0_col1\" class=\"col_heading level0 col1\" >Precision</th>\n",
       "      <th id=\"T_d575b_level0_col2\" class=\"col_heading level0 col2\" >Recall_Sensitivity</th>\n",
       "      <th id=\"T_d575b_level0_col3\" class=\"col_heading level0 col3\" >Specificity</th>\n",
       "      <th id=\"T_d575b_level0_col4\" class=\"col_heading level0 col4\" >f1_score</th>\n",
       "    </tr>\n",
       "  </thead>\n",
       "  <tbody>\n",
       "    <tr>\n",
       "      <th id=\"T_d575b_level0_row0\" class=\"row_heading level0 row0\" >0</th>\n",
       "      <td id=\"T_d575b_row0_col0\" class=\"data row0 col0\" >5.7%</td>\n",
       "      <td id=\"T_d575b_row0_col1\" class=\"data row0 col1\" >17.6%</td>\n",
       "      <td id=\"T_d575b_row0_col2\" class=\"data row0 col2\" >26.1%</td>\n",
       "      <td id=\"T_d575b_row0_col3\" class=\"data row0 col3\" >92.7%</td>\n",
       "      <td id=\"T_d575b_row0_col4\" class=\"data row0 col4\" >21.1%</td>\n",
       "    </tr>\n",
       "    <tr>\n",
       "      <th id=\"T_d575b_level0_row1\" class=\"row_heading level0 row1\" >1</th>\n",
       "      <td id=\"T_d575b_row1_col0\" class=\"data row1 col0\" >7.9%</td>\n",
       "      <td id=\"T_d575b_row1_col1\" class=\"data row1 col1\" >33.3%</td>\n",
       "      <td id=\"T_d575b_row1_col2\" class=\"data row1 col2\" >31.2%</td>\n",
       "      <td id=\"T_d575b_row1_col3\" class=\"data row1 col3\" >94.7%</td>\n",
       "      <td id=\"T_d575b_row1_col4\" class=\"data row1 col4\" >32.3%</td>\n",
       "    </tr>\n",
       "    <tr>\n",
       "      <th id=\"T_d575b_level0_row2\" class=\"row_heading level0 row2\" >2</th>\n",
       "      <td id=\"T_d575b_row2_col0\" class=\"data row2 col0\" >17.7%</td>\n",
       "      <td id=\"T_d575b_row2_col1\" class=\"data row2 col1\" >16.7%</td>\n",
       "      <td id=\"T_d575b_row2_col2\" class=\"data row2 col2\" >1.4%</td>\n",
       "      <td id=\"T_d575b_row2_col3\" class=\"data row2 col3\" >98.5%</td>\n",
       "      <td id=\"T_d575b_row2_col4\" class=\"data row2 col4\" >2.6%</td>\n",
       "    </tr>\n",
       "    <tr>\n",
       "      <th id=\"T_d575b_level0_row3\" class=\"row_heading level0 row3\" >3</th>\n",
       "      <td id=\"T_d575b_row3_col0\" class=\"data row3 col0\" >2.0%</td>\n",
       "      <td id=\"T_d575b_row3_col1\" class=\"data row3 col1\" >0.0%</td>\n",
       "      <td id=\"T_d575b_row3_col2\" class=\"data row3 col2\" >0.0%</td>\n",
       "      <td id=\"T_d575b_row3_col3\" class=\"data row3 col3\" >99.7%</td>\n",
       "      <td id=\"T_d575b_row3_col4\" class=\"data row3 col4\" >0.0%</td>\n",
       "    </tr>\n",
       "    <tr>\n",
       "      <th id=\"T_d575b_level0_row4\" class=\"row_heading level0 row4\" >4</th>\n",
       "      <td id=\"T_d575b_row4_col0\" class=\"data row4 col0\" >15.2%</td>\n",
       "      <td id=\"T_d575b_row4_col1\" class=\"data row4 col1\" >26.1%</td>\n",
       "      <td id=\"T_d575b_row4_col2\" class=\"data row4 col2\" >56.5%</td>\n",
       "      <td id=\"T_d575b_row4_col3\" class=\"data row4 col3\" >71.3%</td>\n",
       "      <td id=\"T_d575b_row4_col4\" class=\"data row4 col4\" >35.7%</td>\n",
       "    </tr>\n",
       "    <tr>\n",
       "      <th id=\"T_d575b_level0_row5\" class=\"row_heading level0 row5\" >5</th>\n",
       "      <td id=\"T_d575b_row5_col0\" class=\"data row5 col0\" >49.1%</td>\n",
       "      <td id=\"T_d575b_row5_col1\" class=\"data row5 col1\" >66.8%</td>\n",
       "      <td id=\"T_d575b_row5_col2\" class=\"data row5 col2\" >67.5%</td>\n",
       "      <td id=\"T_d575b_row5_col3\" class=\"data row5 col3\" >67.6%</td>\n",
       "      <td id=\"T_d575b_row5_col4\" class=\"data row5 col4\" >67.2%</td>\n",
       "    </tr>\n",
       "    <tr>\n",
       "      <th id=\"T_d575b_level0_row6\" class=\"row_heading level0 row6\" >6</th>\n",
       "      <td id=\"T_d575b_row6_col0\" class=\"data row6 col0\" >2.5%</td>\n",
       "      <td id=\"T_d575b_row6_col1\" class=\"data row6 col1\" >0.0%</td>\n",
       "      <td id=\"T_d575b_row6_col2\" class=\"data row6 col2\" >0.0%</td>\n",
       "      <td id=\"T_d575b_row6_col3\" class=\"data row6 col3\" >100.0%</td>\n",
       "      <td id=\"T_d575b_row6_col4\" class=\"data row6 col4\" >0.0%</td>\n",
       "    </tr>\n",
       "    <tr>\n",
       "      <th id=\"T_d575b_level0_row7\" class=\"row_heading level0 row7\" >Simple Avg.</th>\n",
       "      <td id=\"T_d575b_row7_col0\" class=\"data row7 col0\" >nan%</td>\n",
       "      <td id=\"T_d575b_row7_col1\" class=\"data row7 col1\" >22.9%</td>\n",
       "      <td id=\"T_d575b_row7_col2\" class=\"data row7 col2\" >26.1%</td>\n",
       "      <td id=\"T_d575b_row7_col3\" class=\"data row7 col3\" >89.2%</td>\n",
       "      <td id=\"T_d575b_row7_col4\" class=\"data row7 col4\" >22.7%</td>\n",
       "    </tr>\n",
       "    <tr>\n",
       "      <th id=\"T_d575b_level0_row8\" class=\"row_heading level0 row8\" >Weighted Avg.</th>\n",
       "      <td id=\"T_d575b_row8_col0\" class=\"data row8 col0\" >nan%</td>\n",
       "      <td id=\"T_d575b_row8_col1\" class=\"data row8 col1\" >43.4%</td>\n",
       "      <td id=\"T_d575b_row8_col2\" class=\"data row8 col2\" >45.9%</td>\n",
       "      <td id=\"T_d575b_row8_col3\" class=\"data row8 col3\" >78.6%</td>\n",
       "      <td id=\"T_d575b_row8_col4\" class=\"data row8 col4\" >42.6%</td>\n",
       "    </tr>\n",
       "  </tbody>\n",
       "</table>\n"
      ],
      "text/plain": [
       "<pandas.io.formats.style.Styler at 0x2a0803610>"
      ]
     },
     "execution_count": 7,
     "metadata": {},
     "output_type": "execute_result"
    },
    {
     "data": {
      "image/png": "[encoded data removed]",
      "text/plain": [
       "<Figure size 432x288 with 2 Axes>"
      ]
     },
     "metadata": {
      "needs_background": "light"
     },
     "output_type": "display_data"
    }
   ],
   "source": [
    "# Model AutoEncoder\n",
    "model_ = Model_A_En\n",
    "X = A_E_input_data[2]\n",
    "Y = A_E_labels[2]\n",
    "# X = Evaluation_set[0].to(device)\n",
    "# Y = Evaluation_set[1]\n",
    "Y_pred = model_.forward_noDrop(X).argmax(dim=1)\n",
    "results = confusion_matrix(Y,Y_pred)\n",
    "# plot_loss_accuracy(model_)\n",
    "results\n",
    "\n",
    "# Model 280x210\n",
    "model_ = Model_280x210\n",
    "X = input_data[2]\n",
    "Y = labels[2]\n",
    "Y_pred = model_.forward_noDrop(X).argmax(dim=1)\n",
    "results = confusion_matrix(Y,Y_pred)\n",
    "results"
   ]
  },
  {
   "cell_type": "code",
   "execution_count": 13,
   "metadata": {},
   "outputs": [
    {
     "name": "stdout",
     "output_type": "stream",
     "text": [
      "Train size:  3450  Valid Size:  609  Test size:  451\n"
     ]
    }
   ],
   "source": [
    "file = 'DataSource_60x45_blc.pickle' \n",
    "data = pd.read_pickle(path + file)\n",
    "\n",
    "train_data = data[data.type=='train']\n",
    "valid_data = data[data.type=='valid']\n",
    "test_data = data[data.type=='test']\n",
    "\n",
    "training_data = pd.concat([train_data,valid_data], axis=0)\n",
    "print('Train size: ',train_data.shape[0] ,' Valid Size: ',valid_data.shape[0], ' Test size: ', test_data.shape[0])"
   ]
  },
  {
   "cell_type": "markdown",
   "metadata": {},
   "source": [
    "# **Standardize Train and Validation data**"
   ]
  },
  {
   "cell_type": "code",
   "execution_count": 14,
   "metadata": {},
   "outputs": [
    {
     "name": "stdout",
     "output_type": "stream",
     "text": [
      "Mean : [0.73868471 0.55427031 0.58102355]   STD: [0.13988726 0.14805723 0.16430182]\n"
     ]
    }
   ],
   "source": [
    "training_arrays = np.stack(training_data['img_array'].values)  \n",
    "training_arrays_scaled = training_arrays / 255\n",
    "Mean = training_arrays_scaled.mean(axis = (0,1,2)) \n",
    "STD = training_arrays_scaled.std(axis = (0,1,2))\n",
    "print(f\"Mean : {Mean}   STD: {STD}\") "
   ]
  },
  {
   "cell_type": "code",
   "execution_count": 15,
   "metadata": {},
   "outputs": [],
   "source": [
    "#Train data standardization\n",
    "train_arrays_std = np.stack(train_data['img_array'].values) / 255\n",
    "for i in range(0,train_arrays_std.shape[0]):\n",
    "    train_arrays_std[i] = (train_arrays_std[i] - Mean) / STD\n",
    "#Validation data standardization\n",
    "valid_arrays_std = np.stack(valid_data['img_array'].values) / 255\n",
    "for i in range(0,valid_arrays_std.shape[0]):\n",
    "    valid_arrays_std[i] = (valid_arrays_std[i] - Mean) / STD\n",
    "#Test data standardization\n",
    "test_arrays_std = np.stack(test_data['img_array'].values) / 255\n",
    "for i in range(0,test_arrays_std.shape[0]):\n",
    "    test_arrays_std[i] = (test_arrays_std[i] - Mean) / STD"
   ]
  },
  {
   "cell_type": "code",
   "execution_count": 16,
   "metadata": {},
   "outputs": [
    {
     "name": "stdout",
     "output_type": "stream",
     "text": [
      "Mean : [ 0.00141823 -0.00325004 -0.00244724]   STD: [1.00277128 1.00234299 1.0038413 ]\n"
     ]
    }
   ],
   "source": [
    "Mean_t = train_arrays_std.mean(axis = (0,1,2)) \n",
    "STD_t = train_arrays_std.std(axis = (0,1,2))\n",
    "print(f\"Mean : {Mean_t}   STD: {STD_t}\") "
   ]
  },
  {
   "cell_type": "code",
   "execution_count": 17,
   "metadata": {},
   "outputs": [],
   "source": [
    "train_arrays_std_T = torch.tensor(train_arrays_std, dtype= torch.float32).transpose(3,1)\n",
    "train_labels = torch.tensor(train_data['label_id'].values.astype(np.long))\n",
    "\n",
    "valid_arrays_std_T = torch.tensor(valid_arrays_std, dtype= torch.float32).transpose(3,1)\n",
    "valid_labels = torch.tensor(valid_data['label_id'].values.astype(np.long))\n",
    "\n",
    "test_arrays_std_T = torch.tensor(test_arrays_std, dtype= torch.float32).transpose(3,1)\n",
    "test_labels = torch.tensor(test_data['label_id'].values.astype(np.long))\n",
    "\n",
    "input_data = (train_arrays_std_T , valid_arrays_std_T, test_arrays_std_T , torch.cat((train_arrays_std_T,valid_arrays_std_T,test_arrays_std_T),0) )\n",
    "labels = (train_labels,valid_labels,test_labels , torch.cat((train_labels,valid_labels,test_labels),0))"
   ]
  },
  {
   "cell_type": "markdown",
   "metadata": {
    "id": "GgLTtyx5uw6b"
   },
   "source": [
    "### **1.2 Nets**"
   ]
  },
  {
   "cell_type": "code",
   "execution_count": 18,
   "metadata": {
    "id": "w1GCLpHCrDWL"
   },
   "outputs": [],
   "source": [
    "class CNN_Net1(nn.Module):\n",
    "    def __init__(self):\n",
    "        super().__init__()\n",
    "        self.conv1 = nn.Conv2d( in_channels=3 , out_channels=32 , kernel_size=(3, 3))\n",
    "        self.conv2 = nn.Conv2d( in_channels=32, out_channels=32 , kernel_size=(3, 3))\n",
    "        self.pool1 = nn.MaxPool2d( kernel_size = (2,2), stride = None, padding = 0 )\n",
    "        self.conv3 = nn.Conv2d( in_channels=32, out_channels=64 , kernel_size=(3, 3))\n",
    "        self.conv4 = nn.Conv2d( in_channels=64, out_channels=64 , kernel_size=(3, 3))\n",
    "        self.pool2 = nn.MaxPool2d( kernel_size = (2,2), stride = None, padding = 0 )\n",
    "        self.fc1   = nn.Linear(in_features= 6144 , out_features = 512)\n",
    "        self.fc2   = nn.Linear(in_features= 512, out_features = 7)\n",
    "        self.Act   = nn.ReLU(inplace=True)\n",
    "    def forward(self, x):\n",
    "        out = self.Act(self.conv1(x))\n",
    "        out = self.Act(self.conv2(out))\n",
    "        out = self.Act(self.pool1(out))\n",
    "        out = self.Act(self.conv3(out))\n",
    "        out = self.Act(self.conv4(out))\n",
    "        out = self.Act(self.pool2(out))\n",
    "        out = torch.flatten(out, 1) \n",
    "        out = self.Act(self.fc1(out))\n",
    "        out = self.Act(self.fc2(out))\n",
    "        # out = nn.Softmax(out)\n",
    "        return out\n",
    "        \n",
    "class CNN_Net2(nn.Module):\n",
    "    def __init__(self):\n",
    "        super().__init__()\n",
    "        self.conv1 = nn.Conv2d( in_channels=3 , out_channels=32 , kernel_size=(3, 3))\n",
    "        # self.conv2 = nn.Conv2d( in_channels=32, out_channels=32 , kernel_size=(3, 3))\n",
    "        self.pool1 = nn.MaxPool2d( kernel_size = (2,2), stride = None, padding = 0 )\n",
    "        self.conv3 = nn.Conv2d( in_channels=32, out_channels=64 , kernel_size=(3, 3))\n",
    "        # self.conv4 = nn.Conv2d( in_channels=64, out_channels=64 , kernel_size=(3, 3))\n",
    "        self.pool2 = nn.MaxPool2d( kernel_size = (2,2), stride = None, padding = 0 )\n",
    "        self.fc1   = nn.Linear(in_features= 7488 , out_features = 512)\n",
    "        self.fc2   = nn.Linear(in_features= 512, out_features = 7)\n",
    "        self.Act   = nn.ReLU(inplace=True)\n",
    "    def forward(self, x):\n",
    "        out = self.Act(self.conv1(x))\n",
    "        # out = self.Act(self.conv2(out))\n",
    "        out = self.Act(self.pool1(out))\n",
    "        out = self.Act(self.conv3(out))\n",
    "        # out = self.Act(self.conv4(out))\n",
    "        out = self.Act(self.pool2(out))\n",
    "        out = torch.flatten(out, 1) \n",
    "        out = self.Act(self.fc1(out))\n",
    "        out = self.Act(self.fc2(out))\n",
    "        # out = nn.Softmax(out)\n",
    "        return out\n",
    "\n",
    "class CNN_Net3(nn.Module):\n",
    "    def __init__(self):\n",
    "        super().__init__()\n",
    "        self.conv1 = nn.Conv2d( in_channels=3 , out_channels=32 , kernel_size=(3, 3))\n",
    "        # self.conv2 = nn.Conv2d( in_channels=32, out_channels=32 , kernel_size=(3, 3))\n",
    "        self.pool1 = nn.MaxPool2d( kernel_size = (2,2), stride = None, padding = 0 )\n",
    "        self.conv3 = nn.Conv2d( in_channels=32, out_channels=64 , kernel_size=(3, 3))\n",
    "        # self.conv4 = nn.Conv2d( in_channels=64, out_channels=64 , kernel_size=(3, 3))\n",
    "        self.pool2 = nn.MaxPool2d( kernel_size = (2,2), stride = None, padding = 0 )\n",
    "        self.fc1   = nn.Linear(in_features= 7488 , out_features = 512)\n",
    "        self.fc2   = nn.Linear(in_features= 512, out_features = 7)\n",
    "        self.Act   = nn.ReLU(inplace=True)\n",
    "        self.Act_S   = nn.Sigmoid()\n",
    "    def forward(self, x):\n",
    "        out = self.Act(self.conv1(x))\n",
    "        # out = self.Act(self.conv2(out))\n",
    "        out = self.Act(self.pool1(out))\n",
    "        out = self.Act(self.conv3(out))\n",
    "        # out = self.Act(self.conv4(out))\n",
    "        out = self.Act(self.pool2(out))\n",
    "        out = torch.flatten(out, 1) \n",
    "        out = self.Act(self.fc1(out))\n",
    "        out = self.Act_S(self.fc2(out))\n",
    "        # out = nn.Softmax(out)\n",
    "        return out"
   ]
  },
  {
   "cell_type": "markdown",
   "metadata": {},
   "source": [
    "# **Confusion-Matrix & Accuracy**"
   ]
  },
  {
   "cell_type": "code",
   "execution_count": 19,
   "metadata": {},
   "outputs": [],
   "source": [
    "def confusion_matrix(Y_pred,Y):\n",
    "    CM = sk.metrics.confusion_matrix(Y_pred,Y)\n",
    "    Total_sum = sum(sum(CM))\n",
    "    Diagonal_sum = np.trace(CM) \n",
    "    accuracy1 = Diagonal_sum / Total_sum\n",
    "    frequencies = list(pd.DataFrame(Y).value_counts())\n",
    "    weights = list(np.divide(frequencies, Total_sum))\n",
    "    sensitivity = []\n",
    "    specificity = []\n",
    "    for i in range(0,7):\n",
    "        sensitivity_ = CM[i,i].sum() / (CM[i].sum())\n",
    "        sensitivity.append(sensitivity_)\n",
    "        specificity_ = (Diagonal_sum - CM[i,i]) / (  (Diagonal_sum - CM[i,i]) + (CM.T[i].sum()-CM[i,i]))\n",
    "        specificity.append(specificity_)\n",
    "        \n",
    "    print('Nr. of Data : \\n', Total_sum)\n",
    "    print('Accuracy of The Model : \\n', accuracy1)\n",
    "    print('Confusion Matrix : \\n', CM)\n",
    "    print('Weighted Avg. of sensitivity : \\n', np.average(np.nan_to_num(sensitivity), weights=weights))\n",
    "    print('Weighted Avg. of specificity : \\n', np.average(np.nan_to_num(specificity), weights=weights))\n",
    "    sk.metrics.ConfusionMatrixDisplay(CM).plot()"
   ]
  },
  {
   "cell_type": "markdown",
   "metadata": {},
   "source": [
    "# **Model 1: 60x45 - with Duplications**"
   ]
  },
  {
   "cell_type": "code",
   "execution_count": 20,
   "metadata": {},
   "outputs": [],
   "source": [
    "CNN_Net1,CNN_Net2,CNN_Net3, Model_Training = dill.load( open(p_models + 'CNNs_Network_Training', 'rb'))"
   ]
  },
  {
   "cell_type": "code",
   "execution_count": 21,
   "metadata": {},
   "outputs": [],
   "source": [
    "Model_1 = pickle.load(open(p_models + 'CNN_60x45_Duplicated' , 'rb') )"
   ]
  },
  {
   "cell_type": "code",
   "execution_count": 11,
   "metadata": {},
   "outputs": [
    {
     "name": "stdout",
     "output_type": "stream",
     "text": [
      "Nr. of Data : \n",
      " 451\n",
      "Accuracy of The Model : \n",
      " 0.6008869179600886\n",
      "Confusion Matrix : \n",
      " [[18  6  3  1  5  3  0]\n",
      " [ 5 25  6  5  3  0  4]\n",
      " [ 1 14 77  1 26  9  0]\n",
      " [ 1  0  0  0  0  0  0]\n",
      " [ 3  2 20  0 41  5  1]\n",
      " [ 4  3 15  1 27 98  3]\n",
      " [ 0  1  1  0  1  0 12]]\n",
      "Weighted Avg. of sensitivity : \n",
      " 0.4888228946915448\n",
      "Weighted Avg. of specificity : \n",
      " 0.8956341098856812\n"
     ]
    },
    {
     "data": {
      "image/png": "[encoded data removed]",
      "text/plain": [
       "<Figure size 432x288 with 2 Axes>"
      ]
     },
     "metadata": {
      "needs_background": "light"
     },
     "output_type": "display_data"
    }
   ],
   "source": [
    "model_ = Model_1.model.eval()\n",
    "X = input_data[2]\n",
    "Y = labels[2]\n",
    "Y_pred = model_(X).argmax(dim=1)\n",
    "confusion_matrix(Y_pred,Y)"
   ]
  },
  {
   "cell_type": "code",
   "execution_count": 22,
   "metadata": {},
   "outputs": [
    {
     "name": "stdout",
     "output_type": "stream",
     "text": [
      "Nr. of Data : \n",
      " 451\n",
      "Accuracy of The Model : \n",
      " 0.6008869179600886\n",
      "Confusion Matrix : \n",
      " [[18  6  3  1  5  3  0]\n",
      " [ 5 25  6  5  3  0  4]\n",
      " [ 1 14 77  1 26  9  0]\n",
      " [ 1  0  0  0  0  0  0]\n",
      " [ 3  2 20  0 41  5  1]\n",
      " [ 4  3 15  1 27 98  3]\n",
      " [ 0  1  1  0  1  0 12]]\n",
      "Weighted Avg. of sensitivity : \n",
      " 0.4888228946915448\n",
      "Weighted Avg. of specificity : \n",
      " 0.8956341098856812\n"
     ]
    },
    {
     "data": {
      "image/png": "[encoded data removed]",
      "text/plain": [
       "<Figure size 432x288 with 2 Axes>"
      ]
     },
     "metadata": {
      "needs_background": "light"
     },
     "output_type": "display_data"
    }
   ],
   "source": [
    "model_ = Model_1.model.eval()\n",
    "X = input_data[2]\n",
    "Y = labels[2]\n",
    "Y_pred = model_(X).argmax(dim=1)\n",
    "confusion_matrix(Y_pred,Y)"
   ]
  },
  {
   "cell_type": "code",
   "execution_count": 23,
   "metadata": {},
   "outputs": [
    {
     "data": {
      "image/png": "[encoded data removed]",
      "text/plain": [
       "<Figure size 432x288 with 1 Axes>"
      ]
     },
     "metadata": {
      "needs_background": "light"
     },
     "output_type": "display_data"
    }
   ],
   "source": [
    "model_ = Model_1\n",
    "epochs_X = [i for i in range(1, model_.epochs+1)]\n",
    "plt.subplots(figsize=(6,4))\n",
    "\n",
    "plt.plot(epochs_X , model_.Epochs_Train_loss, 'o-', label='Train loss')\n",
    "plt.plot(epochs_X , model_.Epochs_Val_loss,'ro-', label='Validation loss')\n",
    "plt.xlabel(\"Epochs\", fontsize = 12)\n",
    "plt.ylabel(\"Loss\", fontsize = 12)\n",
    "plt.grid()\n",
    "plt.legend()\n",
    "plt.title('Train and Validation loss by epochs')\n",
    "plt.show()"
   ]
  },
  {
   "cell_type": "code",
   "execution_count": 13,
   "metadata": {},
   "outputs": [
    {
     "data": {
      "image/png": "[encoded data removed]",
      "text/plain": [
       "<Figure size 432x288 with 1 Axes>"
      ]
     },
     "metadata": {
      "needs_background": "light"
     },
     "output_type": "display_data"
    }
   ],
   "source": [
    "model_ = Model_1\n",
    "epochs_X = [i for i in range(1, model_.epochs+1)]\n",
    "epochs_X\n",
    "plt.subplots(figsize=(6,4))\n",
    "\n",
    "plt.plot(epochs_X , model_.Epochs_Train_Acc, 'o-', label='Train Accuracy')\n",
    "plt.plot(epochs_X , model_.Epochs_Val_Acc,'ro-', label='Validation Accuracy')\n",
    "plt.xlabel(\"Epochs\", fontsize = 12)\n",
    "plt.ylabel(\"Accuracy\", fontsize = 12)\n",
    "plt.grid()\n",
    "plt.legend()\n",
    "plt.title('Train and Validation Accuracy by epochs')\n",
    "plt.show()"
   ]
  },
  {
   "cell_type": "markdown",
   "metadata": {},
   "source": [
    "# **Adding CNN output to DataSource**"
   ]
  },
  {
   "cell_type": "code",
   "execution_count": 14,
   "metadata": {},
   "outputs": [],
   "source": [
    "datasource = pd.concat([train_data,valid_data, test_data], axis=0).reset_index(drop=True)"
   ]
  },
  {
   "cell_type": "code",
   "execution_count": 15,
   "metadata": {},
   "outputs": [],
   "source": [
    "#Train data standardization\n",
    "datasource_std = np.stack(datasource['img_array'].values) / 255\n",
    "for i in range(0,datasource_std.shape[0]):\n",
    "    datasource_std[i] = (datasource_std[i] - Mean) / STD\n",
    "\n",
    "datasource_std_T = torch.tensor(datasource_std, dtype= torch.float32).transpose(3,1)\n",
    "\n"
   ]
  },
  {
   "cell_type": "code",
   "execution_count": 22,
   "metadata": {},
   "outputs": [],
   "source": [
    "model_ = Model_1.model.eval()\n",
    "datasource_CNN_out = model_(datasource_std_T)\n",
    "datasource_CNN_soft = torch.softmax(datasource_CNN_out,dim=1)\n",
    "df_CNN = pd.DataFrame(datasource_CNN_soft.detach().numpy()).add_prefix('CNN_')\n",
    "datasource_v2 = pd.concat([datasource,df_CNN],axis=1).reset_index(drop=True)"
   ]
  },
  {
   "cell_type": "code",
   "execution_count": 23,
   "metadata": {},
   "outputs": [
    {
     "name": "stdout",
     "output_type": "stream",
     "text": [
      "<class 'pandas.core.frame.DataFrame'>\n",
      "RangeIndex: 4510 entries, 0 to 4509\n",
      "Data columns (total 17 columns):\n",
      " #   Column        Non-Null Count  Dtype   \n",
      "---  ------        --------------  -----   \n",
      " 0   image_id      4510 non-null   object  \n",
      " 1   img_array     4510 non-null   object  \n",
      " 2   lesion_id     4510 non-null   object  \n",
      " 3   image_label   4510 non-null   category\n",
      " 4   dx_type       4510 non-null   object  \n",
      " 5   age           4510 non-null   float64 \n",
      " 6   sex           4510 non-null   object  \n",
      " 7   localization  4510 non-null   object  \n",
      " 8   label_id      4510 non-null   int8    \n",
      " 9   type          4510 non-null   object  \n",
      " 10  CNN_0         4510 non-null   float32 \n",
      " 11  CNN_1         4510 non-null   float32 \n",
      " 12  CNN_2         4510 non-null   float32 \n",
      " 13  CNN_3         4510 non-null   float32 \n",
      " 14  CNN_4         4510 non-null   float32 \n",
      " 15  CNN_5         4510 non-null   float32 \n",
      " 16  CNN_6         4510 non-null   float32 \n",
      "dtypes: category(1), float32(7), float64(1), int8(1), object(7)\n",
      "memory usage: 414.5+ KB\n"
     ]
    }
   ],
   "source": [
    "datasource_v2.info()"
   ]
  },
  {
   "cell_type": "markdown",
   "metadata": {},
   "source": [
    "**Check Null Values**"
   ]
  },
  {
   "cell_type": "code",
   "execution_count": 24,
   "metadata": {},
   "outputs": [
    {
     "data": {
      "text/plain": [
       "image_id        False\n",
       "img_array       False\n",
       "lesion_id       False\n",
       "image_label     False\n",
       "dx_type         False\n",
       "age             False\n",
       "sex             False\n",
       "localization    False\n",
       "label_id        False\n",
       "type            False\n",
       "CNN_0           False\n",
       "CNN_1           False\n",
       "CNN_2           False\n",
       "CNN_3           False\n",
       "CNN_4           False\n",
       "CNN_5           False\n",
       "CNN_6           False\n",
       "dtype: bool"
      ]
     },
     "execution_count": 24,
     "metadata": {},
     "output_type": "execute_result"
    }
   ],
   "source": [
    "datasource_v2.isnull().any()"
   ]
  },
  {
   "cell_type": "code",
   "execution_count": 25,
   "metadata": {},
   "outputs": [
    {
     "name": "stdout",
     "output_type": "stream",
     "text": [
      "<class 'pandas.core.frame.DataFrame'>\n",
      "RangeIndex: 4510 entries, 0 to 4509\n",
      "Data columns (total 17 columns):\n",
      " #   Column        Non-Null Count  Dtype   \n",
      "---  ------        --------------  -----   \n",
      " 0   image_id      4510 non-null   object  \n",
      " 1   img_array     4510 non-null   object  \n",
      " 2   lesion_id     4510 non-null   object  \n",
      " 3   image_label   4510 non-null   category\n",
      " 4   dx_type       4510 non-null   object  \n",
      " 5   age           4510 non-null   float64 \n",
      " 6   sex           4510 non-null   object  \n",
      " 7   localization  4510 non-null   object  \n",
      " 8   label_id      4510 non-null   int8    \n",
      " 9   type          4510 non-null   object  \n",
      " 10  CNN_0         4510 non-null   float32 \n",
      " 11  CNN_1         4510 non-null   float32 \n",
      " 12  CNN_2         4510 non-null   float32 \n",
      " 13  CNN_3         4510 non-null   float32 \n",
      " 14  CNN_4         4510 non-null   float32 \n",
      " 15  CNN_5         4510 non-null   float32 \n",
      " 16  CNN_6         4510 non-null   float32 \n",
      "dtypes: category(1), float32(7), float64(1), int8(1), object(7)\n",
      "memory usage: 414.5+ KB\n"
     ]
    }
   ],
   "source": [
    "datasource_v2.info()"
   ]
  },
  {
   "cell_type": "markdown",
   "metadata": {},
   "source": [
    "**One-Hot Encoding**"
   ]
  },
  {
   "cell_type": "code",
   "execution_count": 26,
   "metadata": {},
   "outputs": [],
   "source": [
    "cols = ['localization','sex','dx_type']\n",
    "datasource_v2_OneHot = pd.get_dummies(datasource_v2, columns= cols).reset_index(drop=True)"
   ]
  },
  {
   "cell_type": "code",
   "execution_count": 27,
   "metadata": {},
   "outputs": [
    {
     "name": "stdout",
     "output_type": "stream",
     "text": [
      "<class 'pandas.core.frame.DataFrame'>\n",
      "RangeIndex: 4510 entries, 0 to 4509\n",
      "Data columns (total 33 columns):\n",
      " #   Column                        Non-Null Count  Dtype   \n",
      "---  ------                        --------------  -----   \n",
      " 0   image_id                      4510 non-null   object  \n",
      " 1   img_array                     4510 non-null   object  \n",
      " 2   lesion_id                     4510 non-null   object  \n",
      " 3   image_label                   4510 non-null   category\n",
      " 4   age                           4510 non-null   float64 \n",
      " 5   label_id                      4510 non-null   int8    \n",
      " 6   type                          4510 non-null   object  \n",
      " 7   CNN_0                         4510 non-null   float32 \n",
      " 8   CNN_1                         4510 non-null   float32 \n",
      " 9   CNN_2                         4510 non-null   float32 \n",
      " 10  CNN_3                         4510 non-null   float32 \n",
      " 11  CNN_4                         4510 non-null   float32 \n",
      " 12  CNN_5                         4510 non-null   float32 \n",
      " 13  CNN_6                         4510 non-null   float32 \n",
      " 14  localization_abdomen          4510 non-null   uint8   \n",
      " 15  localization_back             4510 non-null   uint8   \n",
      " 16  localization_chest            4510 non-null   uint8   \n",
      " 17  localization_ear              4510 non-null   uint8   \n",
      " 18  localization_face             4510 non-null   uint8   \n",
      " 19  localization_foot             4510 non-null   uint8   \n",
      " 20  localization_genital          4510 non-null   uint8   \n",
      " 21  localization_hand             4510 non-null   uint8   \n",
      " 22  localization_lower extremity  4510 non-null   uint8   \n",
      " 23  localization_neck             4510 non-null   uint8   \n",
      " 24  localization_scalp            4510 non-null   uint8   \n",
      " 25  localization_trunk            4510 non-null   uint8   \n",
      " 26  localization_upper extremity  4510 non-null   uint8   \n",
      " 27  sex_female                    4510 non-null   uint8   \n",
      " 28  sex_male                      4510 non-null   uint8   \n",
      " 29  dx_type_confocal              4510 non-null   uint8   \n",
      " 30  dx_type_consensus             4510 non-null   uint8   \n",
      " 31  dx_type_follow_up             4510 non-null   uint8   \n",
      " 32  dx_type_histo                 4510 non-null   uint8   \n",
      "dtypes: category(1), float32(7), float64(1), int8(1), object(4), uint8(19)\n",
      "memory usage: 392.5+ KB\n"
     ]
    }
   ],
   "source": [
    "datasource_v2_OneHot.info()"
   ]
  },
  {
   "cell_type": "code",
   "execution_count": 28,
   "metadata": {},
   "outputs": [],
   "source": [
    "pd.to_pickle(datasource_v2_OneHot, path+'DataSource_60x45_OneHot_CNN.pickle')"
   ]
  },
  {
   "cell_type": "code",
   "execution_count": null,
   "metadata": {},
   "outputs": [
    {
     "name": "stdout",
     "output_type": "stream",
     "text": [
      "<class 'pandas.core.frame.DataFrame'>\n",
      "RangeIndex: 4510 entries, 0 to 4509\n",
      "Data columns (total 33 columns):\n",
      " #   Column                        Non-Null Count  Dtype   \n",
      "---  ------                        --------------  -----   \n",
      " 0   image_id                      4510 non-null   object  \n",
      " 1   img_array                     4510 non-null   object  \n",
      " 2   lesion_id                     4510 non-null   object  \n",
      " 3   image_label                   4510 non-null   category\n",
      " 4   age                           4510 non-null   float64 \n",
      " 5   label_id                      4510 non-null   int8    \n",
      " 6   type                          4510 non-null   object  \n",
      " 7   CNN_0                         4510 non-null   float32 \n",
      " 8   CNN_1                         4510 non-null   float32 \n",
      " 9   CNN_2                         4510 non-null   float32 \n",
      " 10  CNN_3                         4510 non-null   float32 \n",
      " 11  CNN_4                         4510 non-null   float32 \n",
      " 12  CNN_5                         4510 non-null   float32 \n",
      " 13  CNN_6                         4510 non-null   float32 \n",
      " 14  localization_abdomen          4510 non-null   uint8   \n",
      " 15  localization_back             4510 non-null   uint8   \n",
      " 16  localization_chest            4510 non-null   uint8   \n",
      " 17  localization_ear              4510 non-null   uint8   \n",
      " 18  localization_face             4510 non-null   uint8   \n",
      " 19  localization_foot             4510 non-null   uint8   \n",
      " 20  localization_genital          4510 non-null   uint8   \n",
      " 21  localization_hand             4510 non-null   uint8   \n",
      " 22  localization_lower extremity  4510 non-null   uint8   \n",
      " 23  localization_neck             4510 non-null   uint8   \n",
      " 24  localization_scalp            4510 non-null   uint8   \n",
      " 25  localization_trunk            4510 non-null   uint8   \n",
      " 26  localization_upper extremity  4510 non-null   uint8   \n",
      " 27  sex_female                    4510 non-null   uint8   \n",
      " 28  sex_male                      4510 non-null   uint8   \n",
      " 29  dx_type_confocal              4510 non-null   uint8   \n",
      " 30  dx_type_consensus             4510 non-null   uint8   \n",
      " 31  dx_type_follow_up             4510 non-null   uint8   \n",
      " 32  dx_type_histo                 4510 non-null   uint8   \n",
      "dtypes: category(1), float32(7), float64(1), int8(1), object(4), uint8(19)\n",
      "memory usage: 392.5+ KB\n"
     ]
    }
   ],
   "source": [
    "datasource_v2_OneHot.info()"
   ]
  },
  {
   "cell_type": "markdown",
   "metadata": {},
   "source": [
    "**Ordinal Encoding**"
   ]
  },
  {
   "cell_type": "code",
   "execution_count": 31,
   "metadata": {},
   "outputs": [],
   "source": [
    "ord_enc = sk.preprocessing.OrdinalEncoder()\n",
    "datasource_v3_Ord = datasource_v2\n",
    "datasource_v3_Ord['sex'] = ord_enc.fit_transform(datasource_v3_Ord[['sex']])\n",
    "datasource_v3_Ord['localization'] = ord_enc.fit_transform(datasource_v3_Ord[['localization']])\n",
    "datasource_v3_Ord['dx_type'] = ord_enc.fit_transform(datasource_v3_Ord[['dx_type']])\n",
    "datasource_v3_Ord.reset_index(drop=True, inplace=True)"
   ]
  },
  {
   "cell_type": "code",
   "execution_count": 29,
   "metadata": {},
   "outputs": [],
   "source": [
    "def MinMaxScaling(dataset, attr):\n",
    "    min = dataset[dataset.type.str.contains('train|valid')][attr].min()\n",
    "    max = dataset[dataset.type.str.contains('train|valid')][attr].max()\n",
    "    dataset[attr] = (dataset[attr] - min ) / (max-min)\n",
    "    return dataset"
   ]
  },
  {
   "cell_type": "code",
   "execution_count": 36,
   "metadata": {},
   "outputs": [],
   "source": [
    "datasource_v3_Ord_Norm = datasource_v3_Ord.copy()\n",
    "datasource_v3_Ord_Norm = MinMaxScaling(datasource_v3_Ord_Norm , 'localization')\n",
    "datasource_v3_Ord_Norm = MinMaxScaling(datasource_v3_Ord_Norm , 'dx_type')"
   ]
  },
  {
   "cell_type": "code",
   "execution_count": 39,
   "metadata": {},
   "outputs": [
    {
     "data": {
      "text/plain": [
       "0.083333    999\n",
       "0.666667    862\n",
       "0.333333    731\n",
       "1.000000    587\n",
       "0.916667    403\n",
       "0.000000    309\n",
       "0.166667    246\n",
       "0.750000    104\n",
       "0.833333     93\n",
       "0.416667     92\n",
       "0.583333     42\n",
       "0.250000     33\n",
       "0.500000      9\n",
       "Name: localization, dtype: int64"
      ]
     },
     "execution_count": 39,
     "metadata": {},
     "output_type": "execute_result"
    }
   ],
   "source": [
    "datasource_v3_Ord_Norm.localization.value_counts()"
   ]
  },
  {
   "cell_type": "code",
   "execution_count": null,
   "metadata": {},
   "outputs": [],
   "source": [
    "pd.to_pickle(datasource_v3_Ord, path+'DataSource_60x45_Ordinal_CNN.pickle' )"
   ]
  },
  {
   "cell_type": "markdown",
   "metadata": {},
   "source": []
  }
 ],
 "metadata": {
  "kernelspec": {
   "display_name": "Python 3.8.9 64-bit",
   "language": "python",
   "name": "python3"
  },
  "language_info": {
   "codemirror_mode": {
    "name": "ipython",
    "version": 3
   },
   "file_extension": ".py",
   "mimetype": "text/x-python",
   "name": "python",
   "nbconvert_exporter": "python",
   "pygments_lexer": "ipython3",
   "version": "3.8.9"
  },
  "vscode": {
   "interpreter": {
    "hash": "31f2aee4e71d21fbe5cf8b01ff0e069b9275f58929596ceb00d14d90e3e16cd6"
   }
  }
 },
 "nbformat": 4,
 "nbformat_minor": 4
}
